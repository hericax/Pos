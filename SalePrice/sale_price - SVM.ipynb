{
 "nbformat": 4,
 "nbformat_minor": 2,
 "metadata": {
  "language_info": {
   "name": "python",
   "codemirror_mode": {
    "name": "ipython",
    "version": 3
   },
   "version": "3.7.5-final"
  },
  "orig_nbformat": 2,
  "file_extension": ".py",
  "mimetype": "text/x-python",
  "name": "python",
  "npconvert_exporter": "python",
  "pygments_lexer": "ipython3",
  "version": 3,
  "kernelspec": {
   "name": "python37532bitposdsia37condac7e21a6016ce41d79614fa61fa050301",
   "display_name": "Python 3.7.5 32-bit ('pos-ds-ia-3.7': conda)"
  }
 },
 "cells": [
  {
   "cell_type": "code",
   "execution_count": 3,
   "metadata": {},
   "outputs": [],
   "source": [
    "%matplotlib inline\n",
    "import numpy as np\n",
    "import matplotlib.pyplot as plt\n",
    "from scipy import stats\n",
    "import pandas as pd\n",
    "\n",
    "# Vamos usar seaborn hoje, para deixar nossos gráficos um pouco mais bonitos\n",
    "import seaborn as sns; sns.set()\n",
    "from ipywidgets import interact, fixed"
   ]
  },
  {
   "cell_type": "code",
   "execution_count": 4,
   "metadata": {},
   "outputs": [],
   "source": [
    "#dataset = pd.read_csv('/Users/aluno/Documents/GitHub/Pos/HXGP/pos-ds-ia-master/aulas/aula_13/train.csv')\n",
    "dataset = pd.read_csv('train.csv')"
   ]
  },
  {
   "cell_type": "code",
   "execution_count": 5,
   "metadata": {},
   "outputs": [
    {
     "ename": "TypeError",
     "evalue": "'DataFrame' object is not callable",
     "output_type": "error",
     "traceback": [
      "\u001b[1;31m---------------------------------------------------------------------------\u001b[0m",
      "\u001b[1;31mTypeError\u001b[0m                                 Traceback (most recent call last)",
      "\u001b[1;32m<ipython-input-5-d92990b56139>\u001b[0m in \u001b[0;36m<module>\u001b[1;34m\u001b[0m\n\u001b[0;32m      1\u001b[0m \u001b[1;31m# Parametros:\u001b[0m\u001b[1;33m\u001b[0m\u001b[1;33m\u001b[0m\u001b[1;33m\u001b[0m\u001b[0m\n\u001b[0;32m      2\u001b[0m \u001b[1;33m\u001b[0m\u001b[0m\n\u001b[1;32m----> 3\u001b[1;33m \u001b[0mX\u001b[0m\u001b[1;33m,\u001b[0m \u001b[0my\u001b[0m \u001b[1;33m=\u001b[0m \u001b[0mdataset\u001b[0m\u001b[1;33m(\u001b[0m\u001b[0mn_samples\u001b[0m\u001b[1;33m=\u001b[0m\u001b[1;36m50\u001b[0m\u001b[1;33m,\u001b[0m \u001b[0mcenters\u001b[0m\u001b[1;33m=\u001b[0m\u001b[1;36m2\u001b[0m\u001b[1;33m,\u001b[0m \u001b[0mrandom_state\u001b[0m\u001b[1;33m=\u001b[0m\u001b[1;36m0\u001b[0m\u001b[1;33m,\u001b[0m \u001b[0mcluster_std\u001b[0m\u001b[1;33m=\u001b[0m\u001b[1;36m0.6\u001b[0m\u001b[1;33m)\u001b[0m\u001b[1;33m\u001b[0m\u001b[1;33m\u001b[0m\u001b[0m\n\u001b[0m\u001b[0;32m      4\u001b[0m \u001b[1;33m\u001b[0m\u001b[0m\n\u001b[0;32m      5\u001b[0m \u001b[1;33m\u001b[0m\u001b[0m\n",
      "\u001b[1;31mTypeError\u001b[0m: 'DataFrame' object is not callable"
     ]
    }
   ],
   "source": [
    "# Parametros:\n",
    "\n",
    "X, y = dataset(n_samples=50, centers=2, random_state=0, cluster_std=0.6)\n",
    "\n",
    "\n",
    "# Plotando as bolinhas\n",
    "plt.scatter(X[:, 0], X[:, 1], c=y, s=50, cmap='winter');"
   ]
  },
  {
   "cell_type": "code",
   "execution_count": null,
   "metadata": {},
   "outputs": [],
   "source": [
    "dataset.head()"
   ]
  },
  {
   "cell_type": "code",
   "execution_count": null,
   "metadata": {},
   "outputs": [],
   "source": [
    "#converter todo o dataframe para numero -> não funcionou\n",
    "#dataset.apply(pd.to_numeric, errors='ignore')"
   ]
  },
  {
   "cell_type": "code",
   "execution_count": null,
   "metadata": {},
   "outputs": [],
   "source": [
    "'MSSubClass', # Identifica o tipo de moradia envolvida na venda\n",
    "'MSZoning', # Identifica a classificação geral de zoneamento da venda\n",
    "'LotFrontage', # Pés lineares de rua conectados à propriedade\n",
    "'LotArea', #Tamanho do lote em pés quadrados\n",
    "'Street'  , # Grvl: Gravel/cascalho ou Pave: Paved/pavimentada\n",
    "'Alley', # Tipo de acesso do beco à propriedade\n",
    "'LotShape', #formato do lote\n",
    "'LandContour', #Nivelamento da propriedade\n",
    "'Utilities', # tipo de serviços disponíveis: água, luz, gás \n",
    "'LotConfig', #Configuração do lote. ex: Lote interno, de esquina, etc\n",
    "'LandSlope', #Inclinação da propriedade\n",
    "'Neighborhood', # localização física dentro dos limites da cidade de Ames. nome dos bairros???\n",
    "'Condition1', # vias de acesso à propriedade\n",
    "'Condition2', # se tiver mais de uma via de acesso, informado aqui\n",
    "'BldgType', #Tipo de moradia. ex: moradia para uma família, mais de uma família (adaptado), etc\n",
    "'HouseStyle', # partes da construção concluída\n",
    "'OverallQual',  # Classifica o material geral e o acabamento da casa\n",
    "'OverallCond', #Classifica o estado geral da casa\n",
    "'YearBuilt', 'YearRemodAdd','RoofStyle', \n",
    "'RoofMatl', # material do telhado\n",
    "'Exterior1st', # tipo do material do telhado\n",
    "'Exterior2nd', \n",
    "'MasVnrType', # Tipo de material base da alvenaria: tijolo, madeira, etc\n",
    "'MasVnrArea', #Área de folheado de alvenaria em pés quadrados\n",
    "'ExterQual', 'ExterCond', \n",
    "'Foundation', # tipo de fundação\n",
    "'BsmtQual',\n",
    "'BsmtCond', #Avalia o estado geral do porão\n",
    " 'BsmtExposure', # nivel da garagem ou jardim\n",
    " 'BsmtFinType1', 'BsmtFinSF1', # pés quadrados acabados\n",
    "'BsmtFinType2', 'BsmtFinSF2', 'BsmtUnfSF', 'TotalBsmtSF', # Total de pés quadrados de área do porão\n",
    "'Heating', #Tipo de aquecimento\n",
    "'HeatingQC', 'CentralAir',  # tem ou não ar central\n",
    "       'Electrical', #sistema eletrico\n",
    "        '1stFlrSF', '2ndFlrSF',\n",
    "       'LowQualFinSF', 'GrLivArea', # Área útil acima do nível do solo (pés quadrados)\n",
    " 'BsmtFullBath', \n",
    " 'BsmtHalfBath', \n",
    " 'FullBath', # quantidade de banheiros \n",
    " 'HalfBath', # qtde de suites \n",
    " 'BedroomAbvGr', 'KitchenAbvGr', 'KitchenQual',\n",
    "'TotRmsAbvGrd', # total de quartos\n",
    "'Functional', 'Fireplaces', 'FireplaceQu', 'GarageType', # tipo de garagem\n",
    "'GarageYrBlt', 'GarageFinish', 'GarageCars', #qtde carros\n",
    "'GarageArea', 'GarageQual',\n",
    "'GarageCond', 'PavedDrive', 'WoodDeckSF', 'OpenPorchSF',\n",
    "'EnclosedPorch', '3SsnPorch', 'ScreenPorch', 'PoolArea', 'PoolQC',\n",
    "\n",
    "'Fence', # cerca\n",
    " 'MiscFeature', 'MiscVal', 'MoSold', # meses de idade\n",
    " 'YrSold', #idade \n",
    " 'SaleType',\n",
    " 'SaleCondition', 'SalePrice'\n"
   ]
  },
  {
   "cell_type": "code",
   "execution_count": null,
   "metadata": {},
   "outputs": [],
   "source": [
    "# Percentual das features que não possuem valor (dados faltantes):\n",
    "(dataset.isnull().sum() / dataset.shape[0]).sort_values(ascending=False)"
   ]
  },
  {
   "cell_type": "code",
   "execution_count": null,
   "metadata": {},
   "outputs": [],
   "source": [
    "dados.describe()"
   ]
  },
  {
   "cell_type": "code",
   "execution_count": null,
   "metadata": {},
   "outputs": [],
   "source": [
    "# formas de visualizar as colunas de um dataframe\n",
    "#list(dataset.columns.values) #opção 1\n",
    "dataset.columns #opção 2\n"
   ]
  },
  {
   "cell_type": "code",
   "execution_count": null,
   "metadata": {},
   "outputs": [],
   "source": [
    "# visualizar os valores unicos de cada coluna\n",
    "dataset[\"LotShape\"].unique()"
   ]
  },
  {
   "cell_type": "code",
   "execution_count": null,
   "metadata": {},
   "outputs": [],
   "source": [
    "# Convertando strings em numéricos usanso dicionário\n",
    "\n",
    "dataset['Utilities'] = dataset['Utilities'].map({\n",
    "    'AllPub': 1,     'NoSeWa': 2})\n",
    "\n",
    "dataset['RoofMatl'] = dataset['RoofMatl'].map({\n",
    "    'CompShg': 1,     'WdShngl': 2,     'Metal': 3,     'WdShake': 4,     'Membran': 5,     'Tar&Grv': 6,     'Roll': 7,     'ClyTile': 8})\n",
    "\n",
    "dataset['MasVnrType'] = dataset['MasVnrType'].map({\n",
    "    'BrkFace': 1,     'None': 2,     'Stone': 3,     'BrkCmn': 4})\n",
    "\n",
    "dataset['Foundation'] = dataset['Foundation'].map({\n",
    "    'PConc': 1,     'CBlock': 2,    'BrkTil': 3, 'Wood': 4, 'Slab': 5, 'Stone': 6 })    \n",
    "\n",
    "dataset['BsmtExposure'] = dataset['BsmtExposure'].map({\n",
    "    'No': 1, 'Gd': 2, 'Mn': 3, 'Av': 4 })\n",
    "\n",
    "dataset['BsmtFinType1'] = dataset['BsmtFinType1'].map({\n",
    "    'GLQ': 1, 'ALQ': 2, 'Unf': 3, 'Rec': 4, 'BLQ': 5, 'LwQ': 6 })\n",
    "\n",
    "dataset['Heating'] = dataset['Heating'].map({\n",
    "    'GasA': 1, 'GasW': 2, 'Grav': 3, 'Wall': 4, 'OthW': 5, 'Floor': 6})\n",
    "\n",
    "dataset['HeatingQC'] = dataset['HeatingQC'].map({\n",
    "    'Ex': 1, 'Gd': 2, 'TA': 3, 'Fa': 4, 'Po': 5})\n",
    "\n",
    "dataset['CentralAir'] = dataset['CentralAir'].map({\n",
    "    'Yes': 1, 'No': 2})\n",
    "\n",
    "#--\n",
    "\n",
    "\n",
    "dataset['MSZoning'] = dataset['MSZoning'].map({\n",
    "    'RL': 1,     'RM': 2,    'FV': 3,     'RH': 4,    'C (all)': 5})\n",
    "\n",
    "dataset['Street'] = dataset['Street'].map({\n",
    "    'Pave': 1,     'Grvl': 2})\n",
    "\n",
    "dataset['Alley'] = dataset['Alley'].map({\n",
    "    'Grvl': 1,    'Pave':2})\n",
    "\n",
    "dataset['LotShape'] = dataset['LotShape'].map({'Reg': 1,'IR1': 2,'IR2':3,'IR3':4})\n",
    "\n",
    "\n",
    "dataset['SaleCondition'] = dataset['SaleCondition'].map({\n",
    "    'Normal': 1,     'Abnorml': 2,    'Partial':3,    'AdjLand':4,    'Alloca':5,    'Family':6})\n",
    "\n",
    "dataset['LandContour'] = dataset['LandContour'].map({\n",
    "    'Lvl': 1, 'Bnk': 2, 'Low':3,  'HLS':4})\n",
    "\n",
    "dataset['Utilities'] = dataset['Utilities'].map({\n",
    "    'AllPub': 1,     'NoSeWa': 2})\n",
    "\n",
    "dataset['PoolQC'] = dataset['PoolQC'].map({\n",
    "    'Ex': 1,    'Fa':2,    'Gd':3})\n",
    "\n",
    "dataset['Fence'] = dataset['Fence'].map({\n",
    "    'MnPrv': 1,    'GdWo':2,    'GdPrv':3,    'MnWw':4})\n",
    "\n",
    "dataset['LotConfig'] = dataset['LotConfig'].map({\n",
    "    'Inside':1,     'FR2': 2,     'Corner': 3,     'CulDSac': 4,     'FR3':5})\n",
    "\n",
    "dataset['LandSlope'] = dataset['LandSlope'].map({\n",
    "    'Gtl':1,    'Mod': 2,     'Sev': 3})\n",
    "\n",
    "dataset['Neighborhood'] = dataset['Neighborhood'].map({\n",
    "    'CollgCr':1,    'Veenker': 2,     'Crawfor': 3, \n",
    "    'NoRidge': 4,     'Mitchel': 5,     'Somerst': 6, \n",
    "    'NWAmes': 7,     'OldTown': 8,     'BrkSide': 9, \n",
    "    'Sawyer': 10,     'NridgHt': 11,     'NAmes': 12, \n",
    "    'SawyerW': 13,     'IDOTRR': 14,     'MeadowV': 15, \n",
    "    'Edwards': 16,     'Timber': 17,     'Gilbert': 18, \n",
    "    'StoneBr': 19,     'ClearCr': 20,     'NPkVill': 21, \n",
    "    'Blmngtn': 22,     'BrDale': 23,     'SWISU': 24, \n",
    "    'Blueste': 25})\n",
    "\n",
    "dataset['Condition1'] = dataset['Condition1'].map({\n",
    "    'Norm': 1,     'Feedr': 2,     'PosN': 3,     'Artery': 4,     'RRAe': 5, \n",
    "    'RRNn': 6,     'RRAn': 7,     'PosA': 8,    'RRNe': 9})\n",
    "\n",
    "dataset['Condition2'] = dataset['Condition2'].map({\n",
    "   'Norm': 1,     'Artery': 2,     'RRNn': 3,     'Feedr': 4,     'PosN': 5,     'PosA': 6,     'RRAn': 7,     'RRAe': 8})\n",
    "\n",
    "dataset['BldgType'] = dataset['BldgType'].map({\n",
    "    '1Fam': 1,    '2fmCon': 2,     'Duplex': 3,     'TwnhsE': 4,     'Twnhs': 5})\n",
    "\n",
    "dataset['HouseStyle'] = dataset['HouseStyle'].map({\n",
    "    '2Story': 1,    '1Story': 2,     '1.5Fin': 3,     '1.5Unf': 4, \n",
    "    'SFoyer': 5,     'SLvl': 6,     '2.5Unf': 7,    '2.5Fin': 8})\n",
    "\n",
    "dataset['RoofStyle'] = dataset['RoofStyle'].map({\n",
    "    'Gable': 1,     'Hip': 2,     'Gambrel': 3, \n",
    "    'Mansard': 4,     'Flat': 5,     'Shed': 6})\n",
    "\n",
    "dataset['RoofMatl'] = dataset['RoofMatl'].map({\n",
    "    'CompShg': 1,     'WdShngl': 2,     'Metal': 3,     'WdShake': 4, \n",
    "    'Membran': 5,     'Tar&Grv': 6,     'Roll': 7,      'ClyTile': 8})\n",
    "\n",
    "dataset['Exterior1st'] = dataset['Exterior1st'].map({\n",
    "    'VinylSd': 1,     'MetalSd': 2,     'Wd Sdng': 3,     'HdBoard': 4,     'BrkFace': 5, \n",
    "    'WdShing': 6,    'CemntBd': 7,     'Plywood': 8,     'AsbShng': 9,     'Stucco': 10, \n",
    "    'BrkComm': 11,     'AsphShn': 12,    'Stone': 13,     'ImStucc': 14,     'CBlock': 15})\n",
    "\n",
    "dataset['Exterior2nd'] = dataset['Exterior2nd'].map({\n",
    "    'VinylSd': 1,     'MetalSd': 2,     'Wd Shng': 3,     'HdBoard': 4,     'Plywood': 5, \n",
    "    'Wd Sdng': 6,    'CmentBd': 7,     'BrkFace': 8,     'Stucco': 9,     'AsbShng': 10, \n",
    "    'Brk Cmn': 11,     'ImStucc': 12,    'AsphShn': 13,     'Stone': 14,     'Other': 15, \n",
    "    'CBlock': 16})\n",
    "\n",
    "dataset['MasVnrType'] = dataset['MasVnrType'].map({\n",
    "    'BrkFace': 1, 'None': 2, 'Stone': 3, 'BrkCmn': 4})\n",
    "\n",
    "dataset['ExterQual'] = dataset['ExterQual'].map({\n",
    "    'Gd': 1, 'TA': 2, 'Ex': 3, 'Fa': 4})\n",
    "\n",
    "dataset['ExterCond'] = dataset['ExterCond'].map({\n",
    "    'TA': 1, 'Gd': 2, 'Fa': 3, 'Po': 4, 'Ex': 5})\n",
    "\n",
    "dataset['Foundation'] = dataset['Foundation'].map({\n",
    "    'PConc': 1, 'CBlock': 2, 'BrkTil': 3, 'Wood': 4, 'Slab': 5, 'Stone': 6})\n",
    "\n",
    "dataset['BsmtQual'] = dataset['BsmtQual'].map({\n",
    "    'Gd': 1, 'TA': 2, 'Ex': 3, 'Fa': 4})\n",
    "\n",
    "dataset['BsmtCond'] = dataset['BsmtCond'].map({\n",
    "    'TA': 1, 'Gd': 2, 'Fa': 3, 'Po': 4})\n",
    "\n",
    "dataset['BsmtExposure'] = dataset['BsmtExposure'].map({\n",
    "    'No': 1, 'Gd': 2, 'Mn': 3, 'Av': 4})\n",
    "\n",
    "dataset['BsmtFinType1'] = dataset['BsmtFinType1'].map({\n",
    "    'GLQ': 1, 'ALQ': 2, 'Unf': 3, 'Rec': 4, 'BLQ': 5, 'LwQ': 6})\n",
    "\n",
    "dataset['BsmtFinType2'] = dataset['BsmtFinType2'].map({\n",
    "    'Unf': 1, 'BLQ': 2, 'ALQ': 3, 'Rec': 4, 'LwQ': 5, 'GLQ': 6})\n",
    "\n",
    "dataset['Electrical'] = dataset['Electrical'].map({\n",
    "    'SBrkr': 1, 'FuseF': 2, 'FuseA': 3, 'FuseP': 4, 'Mix': 5})\n",
    "\n",
    "dataset['KitchenQual'] = dataset['KitchenQual'].map({\n",
    "    'Gd': 1, 'TA': 2, 'Ex': 3, 'Fa': 4})\n",
    "\n",
    "dataset['Functional'] = dataset['Functional'].map({\n",
    "    'Typ': 1, 'Min1': 2, 'Maj1': 3, 'Min2': 4, 'Mod': 5, 'Maj2': 6, 'Sev': 7})\n",
    "\n",
    "dataset['FireplaceQu'] = dataset['FireplaceQu'].map({\n",
    "    'TA': 1, 'Gd': 2, 'Fa': 3, 'Ex': 4, 'Po': 5})\n",
    "\n",
    "dataset['GarageType'] = dataset['GarageType'].map({\n",
    "    'Attchd': 1, 'Detchd': 2, 'BuiltIn': 3, 'CarPort': 4, 'Basment': 5, '2Types': 6})\n",
    "\n",
    "dataset['GarageFinish'] = dataset['GarageFinish'].map({\n",
    "    'RFn': 1, 'Unf': 2, 'Fin': 3})\n",
    "\n",
    "dataset['GarageQual'] = dataset['GarageQual'].map({\n",
    "    'TA': 1, 'Fa': 2, 'Gd': 3, 'Ex': 4, 'Po': 5})\n",
    "\n",
    "dataset['GarageCond'] = dataset['GarageCond'].map({\n",
    "    'TA': 1, 'Fa': 2, 'Gd': 3, 'Po': 4, 'Ex': 5})\n",
    "\n",
    "dataset['PavedDrive'] = dataset['PavedDrive'].map({\n",
    "    'Y': 1, 'N': 2, 'P': 3})\n",
    "\n",
    "dataset['MiscFeature'] = dataset['MiscFeature'].map({\n",
    "    'Shed': 1, 'Gar2': 2, 'Othr': 3, 'TenC': 4})\n",
    "\n",
    "dataset['CentralAir'] = dataset['CentralAir'].map({\n",
    "    'Y': 1, 'N': 2})\n",
    "\n",
    "dataset['SaleType'] = dataset['SaleType'].map({\n",
    "    'WD': 1, 'New': 2, 'COD': 3, 'ConLD': 4, 'ConLI': 5, 'CWD': 6, 'ConLw': 7, 'Con': 8, 'Oth': 9})\n",
    "\n",
    "dataset['Heating'] = dataset['Heating'].map({\n",
    "    'GasA': 1, 'GasW': 2, 'Grav': 3, 'Wall': 4, 'OthW': 5, 'Floor': 6})\n",
    "\n",
    "dataset['HeatingQC'] = dataset['HeatingQC'].map({\n",
    "    'Ex': 1, 'Gd': 2, 'TA': 3, 'Fa': 4, 'Po': 5})\n",
    "\n",
    "dataset['HeatingQC'] = dataset['HeatingQC'].map({\n",
    "    'Ex': 1, 'Gd': 2, 'TA': 3, 'Fa': 4, 'Po': 5})\n",
    "\n",
    "dataset['SaleType'] = dataset['SaleType'].map({\n",
    "    'WD': 1, 'New': 2, 'COD': 3, 'ConLD': 4, 'ConLI': 5, 'CWD': 6, 'ConLw': 7, 'Con': 8, 'Oth': 9})"
   ]
  },
  {
   "cell_type": "code",
   "execution_count": null,
   "metadata": {},
   "outputs": [],
   "source": [
    "# features escolhidas\n",
    "dataset = dataset.loc[:,['MSSubClass','MSZoning','LotFrontage','LotArea','Street','LotShape','LotShape','LandContour','Utilities','LotConfig','LandSlope','Neighborhood','Condition1','BldgType','OverallCond','YearBuilt','RoofMatl','MasVnrType','MasVnrArea','Foundation','BsmtCond','BsmtExposure','BsmtFinType1','BsmtFinSF1','TotalBsmtSF','Heating','HeatingQC','CentralAir','Electrical','GrLivArea','FullBath','HalfBath','KitchenQual','TotRmsAbvGrd','GarageCars','MoSold','YrSold','SaleCondition','SalePrice']]"
   ]
  },
  {
   "cell_type": "code",
   "execution_count": null,
   "metadata": {},
   "outputs": [],
   "source": [
    "dataset.fillna(0, inplace=True)"
   ]
  },
  {
   "cell_type": "code",
   "execution_count": null,
   "metadata": {},
   "outputs": [],
   "source": [
    "# Substituição dos dados ausentes/faltantes com 'zero' de algumas colunas que serão utilizadas na análise. \n",
    "dataset['MSZoning'].fillna(0, inplace=True)\n",
    "dataset['Street'].fillna(0, inplace=True)\n",
    "dataset['Alley'].fillna(0, inplace=True)\n",
    "dataset['LotShape'].fillna(0, inplace=True)\n",
    "dataset['SaleCondition'].fillna(0, inplace=True)\n",
    "dataset['LandContour'].fillna(0, inplace=True)\n",
    "dataset['Utilities'].fillna(0, inplace=True)\n",
    "dataset['PoolQC'].fillna(0, inplace=True)\n",
    "dataset['Fence'].fillna(0, inplace=True)\n",
    "dataset['LotConfig'].fillna(0, inplace=True)\n",
    "dataset['LandSlope'].fillna(0, inplace=True)\n",
    "dataset['Neighborhood'].fillna(0, inplace=True)\n",
    "dataset['Condition1'].fillna(0, inplace=True)\n",
    "dataset['Condition2'].fillna(0, inplace=True)\n",
    "dataset['BldgType'].fillna(0, inplace=True)\n",
    "dataset['HouseStyle'].fillna(0, inplace=True)\n",
    "dataset['RoofStyle'].fillna(0, inplace=True)\n",
    "dataset['RoofMatl'].fillna(0, inplace=True)\n",
    "dataset['Exterior1st'].fillna(0, inplace=True)\n",
    "dataset['Exterior2nd'].fillna(0, inplace=True)\n",
    "dataset['MasVnrType'].fillna(0, inplace=True)\n",
    "dataset['ExterQual'].fillna(0, inplace=True)\n",
    "dataset['ExterCond'].fillna(0, inplace=True)\n",
    "dataset['Foundation'].fillna(0, inplace=True)\n",
    "dataset['BsmtQual'].fillna(0, inplace=True)\n",
    "dataset['BsmtCond'].fillna(0, inplace=True)\n",
    "dataset['BsmtExposure'].fillna(0, inplace=True)\n",
    "dataset['BsmtFinType1'].fillna(0, inplace=True)\n",
    "dataset['BsmtFinType2'].fillna(0, inplace=True)\n",
    "dataset['Electrical'].fillna(0, inplace=True)\n",
    "dataset['KitchenQual'].fillna(0, inplace=True)\n",
    "dataset['Functional'].fillna(0, inplace=True)\n",
    "dataset['FireplaceQu'].fillna(0, inplace=True)\n",
    "dataset['GarageType'].fillna(0, inplace=True)\n",
    "dataset['GarageFinish'].fillna(0, inplace=True)\n",
    "dataset['GarageQual'].fillna(0, inplace=True)\n",
    "dataset['GarageCond'].fillna(0, inplace=True)\n",
    "dataset['PavedDrive'].fillna(0, inplace=True)\n",
    "dataset['MiscFeature'].fillna(0, inplace=True)\n",
    "dataset['CentralAir'].fillna(0, inplace=True)\n",
    "dataset['SaleType'].fillna(0, inplace=True)\n",
    "dataset['Heating'].fillna(0, inplace=True)\n",
    "dataset['HeatingQC'].fillna(0, inplace=True)"
   ]
  },
  {
   "cell_type": "code",
   "execution_count": null,
   "metadata": {},
   "outputs": [],
   "source": [
    "dataset.dtypes"
   ]
  },
  {
   "cell_type": "code",
   "execution_count": null,
   "metadata": {},
   "outputs": [],
   "source": [
    "#converter para inteiro\n",
    "#dataset[\"SaleType\"] = dataset[\"SaleType\"].astype(int)"
   ]
  },
  {
   "cell_type": "code",
   "execution_count": null,
   "metadata": {},
   "outputs": [],
   "source": [
    "dataset.dtypes"
   ]
  },
  {
   "cell_type": "code",
   "execution_count": null,
   "metadata": {},
   "outputs": [],
   "source": [
    "#criar uma variavel com o target (chamar de y)\n",
    "y = dataset.SalePrice"
   ]
  },
  {
   "cell_type": "code",
   "execution_count": null,
   "metadata": {},
   "outputs": [],
   "source": [
    "y.shape"
   ]
  },
  {
   "cell_type": "code",
   "execution_count": null,
   "metadata": {},
   "outputs": [],
   "source": [
    "#dropar (drop) o target (SalePrice) do meu dataset (chamar de X)\n",
    "dataset.drop(['SalePrice'],axis = 1, inplace = True)"
   ]
  },
  {
   "cell_type": "code",
   "execution_count": null,
   "metadata": {},
   "outputs": [],
   "source": [
    "#X = dataset.iloc[:, 1:2].values #pega somente a segunda coluna\n",
    "#X = dataset.loc[:,['Id', 'MSZoning', 'Street', 'Alley', 'LotShape', 'SaleCondition', 'LandContour', 'Utilities', 'PoolQC', 'Fence']]\n",
    "X = dataset"
   ]
  },
  {
   "cell_type": "code",
   "execution_count": null,
   "metadata": {},
   "outputs": [],
   "source": [
    "X.head(10)"
   ]
  },
  {
   "cell_type": "code",
   "execution_count": null,
   "metadata": {},
   "outputs": [],
   "source": [
    "X.shape"
   ]
  },
  {
   "cell_type": "code",
   "execution_count": null,
   "metadata": {},
   "outputs": [],
   "source": [
    "#X = dataset.iloc[:, 1:2].values\n",
    "#y = dataset.SalePrice"
   ]
  },
  {
   "cell_type": "code",
   "execution_count": null,
   "metadata": {},
   "outputs": [],
   "source": [
    "dataset.shape"
   ]
  },
  {
   "cell_type": "code",
   "execution_count": null,
   "metadata": {},
   "outputs": [],
   "source": [
    "y.shape"
   ]
  },
  {
   "cell_type": "code",
   "execution_count": null,
   "metadata": {},
   "outputs": [],
   "source": [
    "from sklearn.model_selection import train_test_split \n",
    "X_train, X_test, y_train, y_test = train_test_split(X, y, test_size=0.3, random_state=1)"
   ]
  },
  {
   "cell_type": "code",
   "execution_count": null,
   "metadata": {},
   "outputs": [],
   "source": [
    "from sklearn.linear_model import LinearRegression\n",
    "linear_reg = LinearRegression()\n",
    "linear_reg.fit(X_train,y_train)"
   ]
  },
  {
   "cell_type": "code",
   "execution_count": null,
   "metadata": {},
   "outputs": [],
   "source": [
    "pred_teste = linear_reg.predict(X_test)"
   ]
  },
  {
   "cell_type": "code",
   "execution_count": null,
   "metadata": {},
   "outputs": [],
   "source": [
    "pred_train = linear_reg.predict(X_train)"
   ]
  },
  {
   "cell_type": "code",
   "execution_count": null,
   "metadata": {},
   "outputs": [],
   "source": [
    "print('predição linear:', np.mean((y_test - pred_teste) ** 2))"
   ]
  },
  {
   "cell_type": "code",
   "execution_count": null,
   "metadata": {},
   "outputs": [],
   "source": [
    "# ajustando uma regressao polinomial\n",
    "from sklearn.preprocessing import PolynomialFeatures\n",
    "poly_reg = PolynomialFeatures(degree=2)\n",
    "X_poly = poly_reg.fit_transform(X)\n",
    "pol_reg = LinearRegression()\n",
    "pol_reg.fit(X_poly, y)"
   ]
  },
  {
   "cell_type": "code",
   "execution_count": null,
   "metadata": {},
   "outputs": [],
   "source": [
    "print (X_train.shape, y_train.shape)"
   ]
  },
  {
   "cell_type": "code",
   "execution_count": null,
   "metadata": {},
   "outputs": [],
   "source": [
    "dataset_teste = pd.read_csv('/Users/Herica/Desktop/Hérica/curso-ia-ciencia_dados/repositorio/GitHub/Pos\\/HXGP/pos-ds-ia-master/aulas/aula_13/test.csv')\n",
    "#dataset_teste.head()\n"
   ]
  },
  {
   "cell_type": "code",
   "execution_count": null,
   "metadata": {},
   "outputs": [],
   "source": [
    "# Convertando strings em numéricos usanso dicionário\n",
    "\n",
    "dataset['Utilities'] = dataset['Utilities'].map({\n",
    "    'AllPub': 1,     'NoSeWa': 2})\n",
    "\n",
    "dataset['RoofMatl'] = dataset['RoofMatl'].map({\n",
    "    'CompShg': 1,     'WdShngl': 2,     'Metal': 3,     'WdShake': 4,     'Membran': 5,     'Tar&Grv': 6,     'Roll': 7,     'ClyTile': 8})\n",
    "\n",
    "dataset['MasVnrType'] = dataset['MasVnrType'].map({\n",
    "    'BrkFace': 1,     'None': 2,     'Stone': 3,     'BrkCmn': 4})\n",
    "\n",
    "dataset['Foundation'] = dataset['Foundation'].map({\n",
    "    'PConc': 1,     'CBlock': 2,    'BrkTil': 3, 'Wood': 4, 'Slab': 5, 'Stone': 6 })    \n",
    "\n",
    "dataset['BsmtExposure'] = dataset['BsmtExposure'].map({\n",
    "    'No': 1, 'Gd': 2, 'Mn': 3, 'Av': 4 })\n",
    "\n",
    "dataset['BsmtFinType1'] = dataset['BsmtFinType1'].map({\n",
    "    'GLQ': 1, 'ALQ': 2, 'Unf': 3, 'Rec': 4, 'BLQ': 5, 'LwQ': 6 })\n",
    "\n",
    "dataset['Heating'] = dataset['Heating'].map({\n",
    "    'GasA': 1, 'GasW': 2, 'Grav': 3, 'Wall': 4, 'OthW': 5, 'Floor': 6})\n",
    "\n",
    "dataset['HeatingQC'] = dataset['HeatingQC'].map({\n",
    "    'Ex': 1, 'Gd': 2, 'TA': 3, 'Fa': 4, 'Po': 5})\n",
    "\n",
    "dataset['CentralAir'] = dataset['CentralAir'].map({\n",
    "    'Yes': 1, 'No': 2})\n",
    "\n",
    "#--\n",
    "\n",
    "\n",
    "dataset_teste['MSZoning'] = dataset_teste['MSZoning'].map({\n",
    "    'RL': 1,     'RM': 2,    'FV': 3,     'RH': 4,    'C (all)': 5})\n",
    "\n",
    "dataset_teste['Street'] = dataset_teste['Street'].map({\n",
    "    'Pave': 1,     'Grvl': 2})\n",
    "\n",
    "dataset_teste['Alley'] = dataset_teste['Alley'].map({\n",
    "    'Grvl': 1,    'Pave':2})\n",
    "\n",
    "dataset_teste['LotShape'] = dataset_teste['LotShape'].map({\n",
    "    'Reg': 1,     'IR1': 2,    'IR2':3,    'IR3':4})\n",
    "\n",
    "dataset_teste['SaleCondition'] = dataset_teste['SaleCondition'].map({\n",
    "    'Normal': 1,     'Abnorml': 2,    'Partial':3,    'AdjLand':4,    'Alloca':5,    'Family':6})\n",
    "\n",
    "dataset_teste['LandContour'] = dataset_teste['LandContour'].map({\n",
    "    'Lvl': 1, 'Bnk': 2, 'Low':3,  'HLS':4})\n",
    "\n",
    "dataset_teste['Utilities'] = dataset_teste['Utilities'].map({\n",
    "    'AllPub': 1,     'NoSeWa': 2})\n",
    "\n",
    "dataset_teste['PoolQC'] = dataset_teste['PoolQC'].map({\n",
    "    'Ex': 1,    'Fa':2,    'Gd':3})\n",
    "\n",
    "dataset_teste['Fence'] = dataset_teste['Fence'].map({\n",
    "    'MnPrv': 1,    'GdWo':2,    'GdPrv':3,    'MnWw':4})\n",
    "\n",
    "dataset_teste['LotConfig'] = dataset_teste['LotConfig'].map({\n",
    "    'Inside':1,     'FR2': 2,     'Corner': 3,     'CulDSac': 4,     'FR3':5})\n",
    "\n",
    "dataset_teste['LandSlope'] = dataset_teste['LandSlope'].map({\n",
    "    'Gtl':1,    'Mod': 2,     'Sev': 3})\n",
    "\n",
    "dataset_teste['Neighborhood'] = dataset_teste['Neighborhood'].map({\n",
    "    'CollgCr':1,    'Veenker': 2,     'Crawfor': 3, \n",
    "    'NoRidge': 4,     'Mitchel': 5,     'Somerst': 6, \n",
    "    'NWAmes': 7,     'OldTown': 8,     'BrkSide': 9, \n",
    "    'Sawyer': 10,     'NridgHt': 11,     'NAmes': 12, \n",
    "    'SawyerW': 13,     'IDOTRR': 14,     'MeadowV': 15, \n",
    "    'Edwards': 16,     'Timber': 17,     'Gilbert': 18, \n",
    "    'StoneBr': 19,     'ClearCr': 20,     'NPkVill': 21, \n",
    "    'Blmngtn': 22,     'BrDale': 23,     'SWISU': 24, \n",
    "    'Blueste': 25})\n",
    "\n",
    "dataset_teste['Condition1'] = dataset_teste['Condition1'].map({\n",
    "    'Norm': 1,     'Feedr': 2,     'PosN': 3,     'Artery': 4,     'RRAe': 5, \n",
    "    'RRNn': 6,     'RRAn': 7,     'PosA': 8,    'RRNe': 9})\n",
    "\n",
    "dataset_teste['Condition2'] = dataset_teste['Condition2'].map({\n",
    "    'Norm': 1,     'Artery': 2,     'RRNn': 3,     'Feedr': 4,     'PosN': 5,     'PosA': 6,     'RRAn': 7,     'RRAe': 8})\n",
    "\n",
    "dataset_teste['BldgType'] = dataset_teste['BldgType'].map({\n",
    "    '1Fam': 1,    '2fmCon': 2,     'Duplex': 3,     'TwnhsE': 4,     'Twnhs': 5})\n",
    "\n",
    "dataset_teste['HouseStyle'] = dataset_teste['HouseStyle'].map({\n",
    "    '2Story': 1,    '1Story': 2,     '1.5Fin': 3,     '1.5Unf': 4, \n",
    "    'SFoyer': 5,     'SLvl': 6,     '2.5Unf': 7,    '2.5Fin': 8})\n",
    "\n",
    "dataset_teste['RoofStyle'] = dataset_teste['RoofStyle'].map({\n",
    "    'Gable': 1,     'Hip': 2,     'Gambrel': 3, \n",
    "    'Mansard': 4,     'Flat': 5,     'Shed': 6})\n",
    "\n",
    "dataset_teste['RoofMatl'] = dataset_teste['RoofMatl'].map({\n",
    "    'CompShg': 1,     'WdShngl': 2,     'Metal': 3,     'WdShake': 4, \n",
    "    'Membran': 5,     'Tar&Grv': 6,     'Roll': 7,      'ClyTile': 8})\n",
    "\n",
    "dataset_teste['Exterior1st'] = dataset_teste['Exterior1st'].map({\n",
    "    'VinylSd': 1,     'MetalSd': 2,     'Wd Sdng': 3,     'HdBoard': 4,     'BrkFace': 5, \n",
    "    'WdShing': 6,    'CemntBd': 7,     'Plywood': 8,     'AsbShng': 9,     'Stucco': 10, \n",
    "    'BrkComm': 11,     'AsphShn': 12,    'Stone': 13,     'ImStucc': 14,     'CBlock': 15})\n",
    "\n",
    "dataset_teste['Exterior2nd'] = dataset_teste['Exterior2nd'].map({\n",
    "    'VinylSd': 1,     'MetalSd': 2,     'Wd Shng': 3,     'HdBoard': 4,     'Plywood': 5, \n",
    "    'Wd Sdng': 6,    'CmentBd': 7,     'BrkFace': 8,     'Stucco': 9,     'AsbShng': 10, \n",
    "    'Brk Cmn': 11,     'ImStucc': 12,    'AsphShn': 13,     'Stone': 14,     'Other': 15, \n",
    "    'CBlock': 16})\n",
    "\n",
    "dataset_teste['MasVnrType'] = dataset_teste['MasVnrType'].map({\n",
    "    'BrkFace': 1, 'None': 2, 'Stone': 3, 'BrkCmn': 4})\n",
    "\n",
    "dataset_teste['ExterQual'] = dataset_teste['ExterQual'].map({\n",
    "    'Gd': 1, 'TA': 2, 'Ex': 3, 'Fa': 4})\n",
    "\n",
    "dataset_teste['ExterCond'] = dataset_teste['ExterCond'].map({\n",
    "    'TA': 1, 'Gd': 2, 'Fa': 3, 'Po': 4, 'Ex': 5})\n",
    "\n",
    "dataset_teste['Foundation'] = dataset_teste['Foundation'].map({\n",
    "    'PConc': 1, 'CBlock': 2, 'BrkTil': 3, 'Wood': 4, 'Slab': 5, 'Stone': 6})\n",
    "\n",
    "dataset_teste['BsmtQual'] = dataset_teste['BsmtQual'].map({\n",
    "    'Gd': 1, 'TA': 2, 'Ex': 3, 'Fa': 4})\n",
    "\n",
    "dataset_teste['BsmtCond'] = dataset_teste['BsmtCond'].map({\n",
    "    'TA': 1, 'Gd': 2, 'Fa': 3, 'Po': 4})\n",
    "\n",
    "dataset_teste['BsmtExposure'] = dataset_teste['BsmtExposure'].map({\n",
    "    'No': 1, 'Gd': 2, 'Mn': 3, 'Av': 4})\n",
    "\n",
    "dataset_teste['BsmtFinType1'] = dataset_teste['BsmtFinType1'].map({\n",
    "    'GLQ': 1, 'ALQ': 2, 'Unf': 3, 'Rec': 4, 'BLQ': 5, 'LwQ': 6})\n",
    "\n",
    "dataset_teste['BsmtFinType2'] = dataset_teste['BsmtFinType2'].map({\n",
    "    'Unf': 1, 'BLQ': 2, 'ALQ': 3, 'Rec': 4, 'LwQ': 5, 'GLQ': 6})\n",
    "\n",
    "dataset_teste['Electrical'] = dataset_teste['Electrical'].map({\n",
    "    'SBrkr': 1, 'FuseF': 2, 'FuseA': 3, 'FuseP': 4, 'Mix': 5})\n",
    "\n",
    "dataset_teste['KitchenQual'] = dataset_teste['KitchenQual'].map({\n",
    "    'Gd': 1, 'TA': 2, 'Ex': 3, 'Fa': 4})\n",
    "\n",
    "dataset_teste['Functional'] = dataset_teste['Functional'].map({\n",
    "    'Typ': 1, 'Min1': 2, 'Maj1': 3, 'Min2': 4, 'Mod': 5, 'Maj2': 6, 'Sev': 7})\n",
    "\n",
    "dataset_teste['FireplaceQu'] = dataset_teste['FireplaceQu'].map({\n",
    "    'TA': 1, 'Gd': 2, 'Fa': 3, 'Ex': 4, 'Po': 5})\n",
    "\n",
    "dataset_teste['GarageType'] = dataset_teste['GarageType'].map({\n",
    "    'Attchd': 1, 'Detchd': 2, 'BuiltIn': 3, 'CarPort': 4, 'Basment': 5, '2Types': 6})\n",
    "\n",
    "dataset_teste['GarageFinish'] = dataset_teste['GarageFinish'].map({\n",
    "    'RFn': 1, 'Unf': 2, 'Fin': 3})\n",
    "\n",
    "dataset_teste['GarageQual'] = dataset_teste['GarageQual'].map({\n",
    "    'TA': 1, 'Fa': 2, 'Gd': 3, 'Ex': 4, 'Po': 5})\n",
    "\n",
    "dataset_teste['GarageCond'] = dataset_teste['GarageCond'].map({\n",
    "    'TA': 1, 'Fa': 2, 'Gd': 3, 'Po': 4, 'Ex': 5})\n",
    "\n",
    "dataset_teste['PavedDrive'] = dataset_teste['PavedDrive'].map({\n",
    "    'Y': 1, 'N': 2, 'P': 3})\n",
    "\n",
    "dataset_teste['MiscFeature'] = dataset_teste['MiscFeature'].map({\n",
    "    'Shed': 1, 'Gar2': 2, 'Othr': 3, 'TenC': 4})\n",
    "\n",
    "dataset_teste['CentralAir'] = dataset_teste['CentralAir'].map({\n",
    "    'Y': 1, 'N': 2})\n",
    "\n",
    "dataset_teste['SaleType'] = dataset_teste['SaleType'].map({\n",
    "    'WD': 1, 'New': 2, 'COD': 3, 'ConLD': 4, 'ConLI': 5, 'CWD': 6, 'ConLw': 7, 'Con': 8, 'Oth': 9})\n",
    "\n",
    "dataset_teste['Heating'] = dataset_teste['Heating'].map({\n",
    "    'GasA': 1, 'GasW': 2, 'Grav': 3, 'Wall': 4, 'OthW': 5, 'Floor': 6})\n",
    "\n",
    "dataset_teste['HeatingQC'] = dataset_teste['HeatingQC'].map({\n",
    "    'Ex': 1, 'Gd': 2, 'TA': 3, 'Fa': 4, 'Po': 5})\n",
    "\n",
    "dataset_teste['HeatingQC'] = dataset_teste['HeatingQC'].map({\n",
    "    'Ex': 1, 'Gd': 2, 'TA': 3, 'Fa': 4, 'Po': 5})\n",
    "\n",
    "dataset_teste['SaleType'] = dataset_teste['SaleType'].map({\n",
    "    'WD': 1, 'New': 2, 'COD': 3, 'ConLD': 4, 'ConLI': 5, 'CWD': 6, 'ConLw': 7, 'Con': 8, 'Oth': 9})"
   ]
  },
  {
   "cell_type": "code",
   "execution_count": null,
   "metadata": {},
   "outputs": [],
   "source": [
    "dataset_teste.fillna(0, inplace=True)"
   ]
  },
  {
   "cell_type": "code",
   "execution_count": null,
   "metadata": {},
   "outputs": [],
   "source": [
    "# Substituição dos dados ausentes/faltantes com 'zero' de algumas colunas que serão utilizadas na análise. \n",
    "dataset_teste['MSZoning'].fillna(0, inplace=True)\n",
    "dataset_teste['Street'].fillna(0, inplace=True)\n",
    "dataset_teste['Alley'].fillna(0, inplace=True)\n",
    "dataset_teste['LotShape'].fillna(0, inplace=True)\n",
    "dataset_teste['SaleCondition'].fillna(0, inplace=True)\n",
    "dataset_teste['LandContour'].fillna(0, inplace=True)\n",
    "dataset_teste['Utilities'].fillna(0, inplace=True)\n",
    "dataset_teste['PoolQC'].fillna(0, inplace=True)\n",
    "dataset_teste['Fence'].fillna(0, inplace=True)\n",
    "dataset_teste['LotConfig'].fillna(0, inplace=True)\n",
    "dataset_teste['LandSlope'].fillna(0, inplace=True)\n",
    "dataset_teste['Neighborhood'].fillna(0, inplace=True)\n",
    "dataset_teste['Condition1'].fillna(0, inplace=True)\n",
    "dataset_teste['Condition2'].fillna(0, inplace=True)\n",
    "dataset_teste['BldgType'].fillna(0, inplace=True)\n",
    "dataset_teste['HouseStyle'].fillna(0, inplace=True)\n",
    "dataset_teste['RoofStyle'].fillna(0, inplace=True)\n",
    "dataset_teste['RoofMatl'].fillna(0, inplace=True)\n",
    "dataset_teste['Exterior1st'].fillna(0, inplace=True)\n",
    "dataset_teste['Exterior2nd'].fillna(0, inplace=True)\n",
    "dataset_teste['MasVnrType'].fillna(0, inplace=True)\n",
    "dataset_teste['ExterQual'].fillna(0, inplace=True)\n",
    "dataset_teste['ExterCond'].fillna(0, inplace=True)\n",
    "dataset_teste['Foundation'].fillna(0, inplace=True)\n",
    "dataset_teste['BsmtQual'].fillna(0, inplace=True)\n",
    "dataset_teste['BsmtCond'].fillna(0, inplace=True)\n",
    "dataset_teste['BsmtExposure'].fillna(0, inplace=True)\n",
    "dataset_teste['BsmtFinType1'].fillna(0, inplace=True)\n",
    "dataset_teste['BsmtFinType2'].fillna(0, inplace=True)\n",
    "dataset_teste['Electrical'].fillna(0, inplace=True)\n",
    "dataset_teste['KitchenQual'].fillna(0, inplace=True)\n",
    "dataset_teste['Functional'].fillna(0, inplace=True)\n",
    "dataset_teste['FireplaceQu'].fillna(0, inplace=True)\n",
    "dataset_teste['GarageType'].fillna(0, inplace=True)\n",
    "dataset_teste['GarageFinish'].fillna(0, inplace=True)\n",
    "dataset_teste['GarageQual'].fillna(0, inplace=True)\n",
    "dataset_teste['GarageCond'].fillna(0, inplace=True)\n",
    "dataset_teste['PavedDrive'].fillna(0, inplace=True)\n",
    "dataset_teste['MiscFeature'].fillna(0, inplace=True)\n",
    "dataset_teste['CentralAir'].fillna(0, inplace=True)\n",
    "dataset_teste['SaleType'].fillna(0, inplace=True)\n",
    "dataset_teste['Heating'].fillna(0, inplace=True)\n",
    "dataset_teste['HeatingQC'].fillna(0, inplace=True)"
   ]
  },
  {
   "cell_type": "code",
   "execution_count": null,
   "metadata": {},
   "outputs": [],
   "source": [
    "# features escolhidas\n",
    "dataset_teste = dataset_teste.loc[:,['MSSubClass','MSZoning','LotFrontage','LotArea','Street','LotShape','LotShape','LandContour','Utilities','LotConfig','LandSlope','Neighborhood','Condition1','BldgType','OverallCond','YearBuilt','RoofMatl','MasVnrType','MasVnrArea','Foundation','BsmtCond','BsmtExposure','BsmtFinType1','BsmtFinSF1','TotalBsmtSF','Heating','HeatingQC','CentralAir','Electrical','GrLivArea','FullBath','HalfBath','KitchenQual','TotRmsAbvGrd','GarageCars','MoSold','YrSold','SaleCondition','SalePrice']]"
   ]
  },
  {
   "cell_type": "code",
   "execution_count": null,
   "metadata": {},
   "outputs": [],
   "source": [
    "dataset_teste.shape"
   ]
  },
  {
   "cell_type": "code",
   "execution_count": null,
   "metadata": {},
   "outputs": [],
   "source": [
    "#X2 =  dataset_teste.iloc[:, 1:2].values\n",
    "#X2 = dataset_teste.loc[:,['Id', 'MSZoning', 'Street', 'Alley', 'LotShape', 'SaleCondition', 'LandContour', 'Utilities', 'PoolQC', 'Fence']]\n",
    "X2 = dataset_teste"
   ]
  },
  {
   "cell_type": "code",
   "execution_count": null,
   "metadata": {},
   "outputs": [],
   "source": [
    "pred_novas_casas = linear_reg.predict(X2)"
   ]
  },
  {
   "cell_type": "code",
   "execution_count": null,
   "metadata": {},
   "outputs": [],
   "source": [
    "print(pred_novas_casas)"
   ]
  },
  {
   "cell_type": "code",
   "execution_count": null,
   "metadata": {},
   "outputs": [],
   "source": [
    "dataset_teste.head()"
   ]
  },
  {
   "cell_type": "code",
   "execution_count": null,
   "metadata": {},
   "outputs": [],
   "source": [
    "dataset_teste.shape"
   ]
  },
  {
   "cell_type": "code",
   "execution_count": null,
   "metadata": {},
   "outputs": [],
   "source": [
    "pred_novas_casas.shape"
   ]
  },
  {
   "cell_type": "code",
   "execution_count": null,
   "metadata": {},
   "outputs": [],
   "source": [
    "# criar a coluna SalePrice no dataset de teste e preencher com os valores preditos\n",
    "dataset_teste['SalePrice'] = pred_novas_casas"
   ]
  },
  {
   "cell_type": "code",
   "execution_count": null,
   "metadata": {},
   "outputs": [],
   "source": [
    "dataset_teste.head()"
   ]
  },
  {
   "cell_type": "code",
   "execution_count": null,
   "metadata": {},
   "outputs": [],
   "source": [
    "w = dataset_teste.loc[:,['Id','SalePrice']]"
   ]
  },
  {
   "cell_type": "code",
   "execution_count": null,
   "metadata": {},
   "outputs": [],
   "source": [
    "print (w)"
   ]
  },
  {
   "cell_type": "code",
   "execution_count": null,
   "metadata": {},
   "outputs": [],
   "source": [
    "print (y_test - pred_teste, '/', y_test - pred_teste)"
   ]
  },
  {
   "cell_type": "code",
   "execution_count": null,
   "metadata": {},
   "outputs": [],
   "source": [
    "# visualizar na matriz de confusão\n",
    "from sklearn.metrics import confusion_matrix\n",
    "mat = confusion_matrix(y_test, pred_novas_casas)\n",
    "sns.heatmap(mat.T, square=True, annot=True, fmt='d', cbar=False,\n",
    "            xticklabels=faces.target_names,\n",
    "            yticklabels=faces.target_names)\n",
    "plt.xlabel('true label')\n",
    "plt.ylabel('predicted label');"
   ]
  },
  {
   "cell_type": "code",
   "execution_count": null,
   "metadata": {},
   "outputs": [],
   "source": [
    "# gerar o arquivo com o resultado\n",
    "w.to_csv(\"predition2.csv\",columns=[\"Id\",\"SalePrice\"],index=False)"
   ]
  },
  {
   "cell_type": "code",
   "execution_count": null,
   "metadata": {},
   "outputs": [],
   "source": []
  }
 ]
}