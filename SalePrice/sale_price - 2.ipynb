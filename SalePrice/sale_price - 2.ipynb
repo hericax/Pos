{
 "nbformat": 4,
 "nbformat_minor": 2,
 "metadata": {
  "language_info": {
   "name": "python",
   "codemirror_mode": {
    "name": "ipython",
    "version": 3
   },
   "version": "3.7.5-final"
  },
  "orig_nbformat": 2,
  "file_extension": ".py",
  "mimetype": "text/x-python",
  "name": "python",
  "npconvert_exporter": "python",
  "pygments_lexer": "ipython3",
  "version": 3,
  "kernelspec": {
   "name": "python37532bitposdsia37condac7e21a6016ce41d79614fa61fa050301",
   "display_name": "Python 3.7.5 32-bit ('pos-ds-ia-3.7': conda)"
  }
 },
 "cells": [
  {
   "cell_type": "code",
   "execution_count": 4,
   "metadata": {},
   "outputs": [],
   "source": [
    "import numpy as np\n",
    "import matplotlib.pyplot as plt\n",
    "import pandas as pd"
   ]
  },
  {
   "cell_type": "code",
   "execution_count": 5,
   "metadata": {},
   "outputs": [],
   "source": [
    "#dataset = pd.read_csv('/Users/aluno/Documents/GitHub/Pos/HXGP/pos-ds-ia-master/aulas/aula_13/train.csv')\n",
    "dados = pd.read_csv('train.csv')"
   ]
  },
  {
   "cell_type": "code",
   "execution_count": null,
   "metadata": {},
   "outputs": [],
   "source": [
    "dados.head()"
   ]
  },
  {
   "cell_type": "code",
   "execution_count": null,
   "metadata": {},
   "outputs": [],
   "source": [
    "dados.shape"
   ]
  },
  {
   "cell_type": "code",
   "execution_count": null,
   "metadata": {},
   "outputs": [],
   "source": [
    "dados.count"
   ]
  },
  {
   "cell_type": "code",
   "execution_count": 6,
   "metadata": {},
   "outputs": [],
   "source": [
    "dataset = dados.loc[0:1460,['Id','MSZoning','LotArea','LotShape','Utilities','LandSlope','BldgType','HouseStyle','OverallQual','YearBuilt','ExterCond','BsmtQual','BsmtExposure','TotalBsmtSF','CentralAir','Electrical','BsmtFullBath','KitchenQual','TotRmsAbvGrd','GarageType','SaleType','SalePrice']]"
   ]
  },
  {
   "cell_type": "code",
   "execution_count": null,
   "metadata": {},
   "outputs": [],
   "source": [
    "dataset.head()"
   ]
  },
  {
   "cell_type": "code",
   "execution_count": null,
   "metadata": {},
   "outputs": [],
   "source": [
    "dataset.isnull().any()\n",
    "#dataset.notnull().all()"
   ]
  },
  {
   "cell_type": "code",
   "execution_count": null,
   "metadata": {},
   "outputs": [],
   "source": [
    "'MSSubClass', # Identifica o tipo de moradia envolvida na venda\n",
    "'MSZoning', # Identifica a classificação geral de zoneamento da venda\n",
    "'LotFrontage', # Pés lineares de rua conectados à propriedade\n",
    "'LotArea', #Tamanho do lote em pés quadrados\n",
    "'Street'  , # Grvl: Gravel/cascalho ou Pave: Paved/pavimentada\n",
    "'Alley', # Tipo de acesso do beco à propriedade\n",
    "'LotShape', #formato do lote\n",
    "'LandContour', #Nivelamento da propriedade\n",
    "'Utilities', # tipo de serviços disponíveis: água, luz, gás \n",
    "'LotConfig', #Configuração do lote. ex: Lote interno, de esquina, etc\n",
    "'LandSlope', #Inclinação da propriedade\n",
    "'Neighborhood', # localização física dentro dos limites da cidade de Ames. nome dos bairros???\n",
    "'Condition1', # vias de acesso à propriedade\n",
    "'Condition2', # se tiver mais de uma via de acesso, informado aqui\n",
    "'BldgType', #Tipo de moradia. ex: moradia para uma família, mais de uma família (adaptado), etc\n",
    "'HouseStyle', # partes da construção concluída\n",
    "'OverallQual',  # Classifica o material geral e o acabamento da casa\n",
    "'OverallCond', #Classifica o estado geral da casa\n",
    "'YearBuilt', 'YearRemodAdd','RoofStyle', \n",
    "'RoofMatl', # material do telhado\n",
    "'Exterior1st', # tipo do material do telhado\n",
    "'Exterior2nd', \n",
    "'MasVnrType', # Tipo de material base da alvenaria: tijolo, madeira, etc\n",
    "'MasVnrArea', #Área de folheado de alvenaria em pés quadrados\n",
    "'ExterQual', 'ExterCond', \n",
    "'Foundation', # tipo de fundação\n",
    "'BsmtQual',\n",
    "'BsmtCond', #Avalia o estado geral do porão\n",
    " 'BsmtExposure', # nivel da garagem ou jardim\n",
    " 'BsmtFinType1', 'BsmtFinSF1', # pés quadrados acabados\n",
    "'BsmtFinType2', 'BsmtFinSF2', 'BsmtUnfSF', 'TotalBsmtSF', # Total de pés quadrados de área do porão\n",
    "'Heating', #Tipo de aquecimento\n",
    "'HeatingQC', 'CentralAir',  # tem ou não ar central\n",
    "       'Electrical', #sistema eletrico\n",
    "        '1stFlrSF', '2ndFlrSF',\n",
    "       'LowQualFinSF', 'GrLivArea', # Área útil acima do nível do solo (pés quadrados)\n",
    " 'BsmtFullBath', \n",
    " 'BsmtHalfBath', \n",
    " 'FullBath', # quantidade de banheiros \n",
    " 'HalfBath', # qtde de suites \n",
    " 'BedroomAbvGr', 'KitchenAbvGr', 'KitchenQual',\n",
    "'TotRmsAbvGrd', # total de quartos\n",
    "'Functional', 'Fireplaces', 'FireplaceQu', 'GarageType', # tipo de garagem\n",
    "'GarageYrBlt', 'GarageFinish', 'GarageCars', #qtde carros\n",
    "'GarageArea', 'GarageQual',\n",
    "'GarageCond', 'PavedDrive', 'WoodDeckSF', 'OpenPorchSF',\n",
    "'EnclosedPorch', '3SsnPorch', 'ScreenPorch', 'PoolArea', 'PoolQC',\n",
    "\n",
    "'Fence', # cerca\n",
    " 'MiscFeature', 'MiscVal', 'MoSold', # meses de idade\n",
    " 'YrSold', #idade \n",
    " 'SaleType',\n",
    " 'SaleCondition', 'SalePrice'\n"
   ]
  },
  {
   "cell_type": "code",
   "execution_count": null,
   "metadata": {},
   "outputs": [],
   "source": [
    "# Percentual das features que não possuem valor (dados faltantes):\n",
    "(dataset.isnull().sum() / dataset.shape[0]).sort_values(ascending=False)"
   ]
  },
  {
   "cell_type": "code",
   "execution_count": null,
   "metadata": {},
   "outputs": [],
   "source": [
    "dados.describe()"
   ]
  },
  {
   "cell_type": "code",
   "execution_count": null,
   "metadata": {},
   "outputs": [],
   "source": [
    "# formas de visualizar as colunas de um dataframe\n",
    "#list(dataset.columns.values) #opção 1\n",
    "dataset.columns #opção 2\n"
   ]
  },
  {
   "cell_type": "code",
   "execution_count": null,
   "metadata": {},
   "outputs": [],
   "source": [
    "dataset.BsmtFullBath"
   ]
  },
  {
   "cell_type": "code",
   "execution_count": null,
   "metadata": {},
   "outputs": [],
   "source": [
    "# visualizar os valores unicos de cada coluna\n",
    "dataset[\"LotConfig\"].unique()"
   ]
  },
  {
   "cell_type": "code",
   "execution_count": 7,
   "metadata": {},
   "outputs": [],
   "source": [
    "# Convertando strings em numéricos usanso dicionário\n",
    "\n",
    "'MSZoning', \n",
    "dataset['MSZoning'] = dataset['MSZoning'].map({\n",
    "    'RL': 1,     'RM': 2,    'FV': 3,     'RH': 4,    'C (all)': 5})\n",
    "\n",
    "'LotShape'\n",
    "dataset['LotShape'] = dataset['LotShape'].map({'Reg': 1,'IR1': 2,'IR2':3,'IR3':4})\n",
    "\n",
    "'Utilities',\n",
    "dataset['Utilities'] = dataset['Utilities'].map({\n",
    "    'AllPub': 1,     'NoSeWa': 2})\n",
    "\n",
    "'LandSlope', \n",
    "dataset['LandSlope'] = dataset['LandSlope'].map({\n",
    "    'Gtl':1,    'Mod': 2,     'Sev': 3})\n",
    "\n",
    "'BldgType',\n",
    "dataset['BldgType'] = dataset['BldgType'].map({\n",
    "    '1Fam': 1,    '2fmCon': 2,     'Duplex': 3,     'TwnhsE': 4,     'Twnhs': 5})\n",
    "\n",
    "'HouseStyle', \n",
    "dataset['HouseStyle'] = dataset['HouseStyle'].map({\n",
    "    '2Story': 1,    '1Story': 2,     '1.5Fin': 3,     '1.5Unf': 4, \n",
    "    'SFoyer': 5,     'SLvl': 6,     '2.5Unf': 7,    '2.5Fin': 8})\n",
    "\n",
    "'ExterCond', \n",
    "dataset['ExterCond'] = dataset['ExterCond'].map({\n",
    "    'TA': 1, 'Gd': 2, 'Fa': 3, 'Po': 4, 'Ex': 5})\n",
    "\n",
    "'BsmtQual',\n",
    "dataset['BsmtQual'] = dataset['BsmtQual'].map({\n",
    "    'Gd': 1, 'TA': 2, 'Ex': 3, 'Fa': 4})\n",
    "       \n",
    "'BsmtExposure', \n",
    "dataset['BsmtExposure'] = dataset['BsmtExposure'].map({\n",
    "    'No': 1, 'Gd': 2, 'Mn': 3, 'Av': 4 })\n",
    "\n",
    "'CentralAir', \n",
    "dataset['CentralAir'] = dataset['CentralAir'].map({\n",
    "    'Yes': 1, 'No': 2})\n",
    "\n",
    "\n",
    "dataset['Electrical'] = dataset['Electrical'].map({\n",
    "    'SBrkr': 1, 'FuseF': 2, 'FuseA': 3, 'FuseP': 4, 'Mix': 5})\n",
    "\n",
    "\n",
    "dataset['KitchenQual'] = dataset['KitchenQual'].map({\n",
    "    'Gd': 1, 'TA': 2, 'Ex': 3, 'Fa': 4})\n",
    "\n",
    "dataset['GarageType'] = dataset['GarageType'].map({\n",
    "    'Attchd': 1, 'Detchd': 2, 'BuiltIn': 3, 'CarPort': 4, 'Basment': 5, '2Types': 6})\n",
    "\n",
    "dataset['SaleType'] = dataset['SaleType'].map({\n",
    "    'WD': 1, 'New': 2, 'COD': 3, 'ConLD': 4, 'ConLI': 5, 'CWD': 6, 'ConLw': 7, 'Con': 8, 'Oth': 9})"
   ]
  },
  {
   "cell_type": "code",
   "execution_count": 8,
   "metadata": {},
   "outputs": [],
   "source": [
    "# preencher os dados faltantes com zero\n",
    "dataset.fillna(0, inplace=True)"
   ]
  },
  {
   "cell_type": "code",
   "execution_count": 9,
   "metadata": {},
   "outputs": [
    {
     "data": {
      "text/plain": "SalePrice       0.0\nSaleType        0.0\nMSZoning        0.0\nLotArea         0.0\nLotShape        0.0\nUtilities       0.0\nLandSlope       0.0\nBldgType        0.0\nHouseStyle      0.0\nOverallQual     0.0\nYearBuilt       0.0\nExterCond       0.0\nBsmtQual        0.0\nBsmtExposure    0.0\nTotalBsmtSF     0.0\nCentralAir      0.0\nElectrical      0.0\nBsmtFullBath    0.0\nKitchenQual     0.0\nTotRmsAbvGrd    0.0\nGarageType      0.0\nId              0.0\ndtype: float64"
     },
     "execution_count": 9,
     "metadata": {},
     "output_type": "execute_result"
    }
   ],
   "source": [
    "# Verificar se o comando acima funcionou:\n",
    "(dataset.isnull().sum() / dataset.shape[0]).sort_values(ascending=False)"
   ]
  },
  {
   "cell_type": "code",
   "execution_count": null,
   "metadata": {},
   "outputs": [],
   "source": [
    "dataset.dtypes"
   ]
  },
  {
   "cell_type": "code",
   "execution_count": 10,
   "metadata": {},
   "outputs": [],
   "source": [
    "#criar uma variavel com o target (chamar de y)\n",
    "y = dataset.SalePrice"
   ]
  },
  {
   "cell_type": "code",
   "execution_count": null,
   "metadata": {},
   "outputs": [],
   "source": [
    "y.shape"
   ]
  },
  {
   "cell_type": "code",
   "execution_count": 11,
   "metadata": {},
   "outputs": [],
   "source": [
    "#dropar (drop) o target (SalePrice) do meu dataset (chamar de X)\n",
    "dataset.drop(['SalePrice'],axis = 1, inplace = True)"
   ]
  },
  {
   "cell_type": "code",
   "execution_count": 12,
   "metadata": {},
   "outputs": [],
   "source": [
    "#X = dataset.iloc[:, 1:2].values #pega somente a segunda coluna\n",
    "#X = dataset.loc[:,['Id', 'MSZoning', 'Street', 'Alley', 'LotShape', 'SaleCondition', 'LandContour', 'Utilities', 'PoolQC', 'Fence']]\n",
    "X = dataset"
   ]
  },
  {
   "cell_type": "code",
   "execution_count": null,
   "metadata": {},
   "outputs": [],
   "source": [
    "X.head(10)"
   ]
  },
  {
   "cell_type": "code",
   "execution_count": null,
   "metadata": {},
   "outputs": [],
   "source": [
    "X.shape"
   ]
  },
  {
   "cell_type": "code",
   "execution_count": null,
   "metadata": {},
   "outputs": [],
   "source": [
    "#X = dataset.iloc[:, 1:2].values\n",
    "#y = dataset.SalePrice"
   ]
  },
  {
   "cell_type": "code",
   "execution_count": null,
   "metadata": {},
   "outputs": [],
   "source": [
    "dataset.shape"
   ]
  },
  {
   "cell_type": "code",
   "execution_count": null,
   "metadata": {},
   "outputs": [],
   "source": [
    "y.shape"
   ]
  },
  {
   "cell_type": "code",
   "execution_count": 13,
   "metadata": {},
   "outputs": [],
   "source": [
    "from sklearn.model_selection import train_test_split \n",
    "X_train, X_test, y_train, y_test = train_test_split(X, y, test_size=0.3, random_state=1)"
   ]
  },
  {
   "cell_type": "code",
   "execution_count": 14,
   "metadata": {},
   "outputs": [
    {
     "data": {
      "text/plain": "LinearRegression(copy_X=True, fit_intercept=True, n_jobs=None, normalize=False)"
     },
     "execution_count": 14,
     "metadata": {},
     "output_type": "execute_result"
    }
   ],
   "source": [
    "from sklearn.linear_model import LinearRegression\n",
    "linear_reg = LinearRegression()\n",
    "linear_reg.fit(X_train,y_train)"
   ]
  },
  {
   "cell_type": "code",
   "execution_count": 15,
   "metadata": {},
   "outputs": [],
   "source": [
    "pred_teste = linear_reg.predict(X_test)"
   ]
  },
  {
   "cell_type": "code",
   "execution_count": 16,
   "metadata": {},
   "outputs": [],
   "source": [
    "pred_train = linear_reg.predict(X_train)"
   ]
  },
  {
   "cell_type": "code",
   "execution_count": 17,
   "metadata": {},
   "outputs": [
    {
     "name": "stdout",
     "output_type": "stream",
     "text": "predição linear: 1437710853.721623\n"
    }
   ],
   "source": [
    "print('predição linear:', np.mean((y_test - pred_teste) ** 2))"
   ]
  },
  {
   "cell_type": "code",
   "execution_count": null,
   "metadata": {},
   "outputs": [],
   "source": [
    "# ajustando uma regressao polinomial\n",
    "from sklearn.preprocessing import PolynomialFeatures\n",
    "poly_reg = PolynomialFeatures(degree=2)\n",
    "X_poly = poly_reg.fit_transform(X)\n",
    "pol_reg = LinearRegression()\n",
    "pol_reg.fit(X_poly, y)"
   ]
  },
  {
   "cell_type": "code",
   "execution_count": null,
   "metadata": {},
   "outputs": [],
   "source": [
    "print (X_train.shape, y_train.shape)"
   ]
  },
  {
   "cell_type": "code",
   "execution_count": null,
   "metadata": {},
   "outputs": [],
   "source": [
    "dados_teste = pd.read_csv('test.csv')\n",
    "#dataset_teste.head()\n"
   ]
  },
  {
   "cell_type": "code",
   "execution_count": null,
   "metadata": {},
   "outputs": [],
   "source": [
    "dataset_teste = dados_teste.loc[0:1460,['Id','MSZoning','LotArea','LotShape','Utilities','LandSlope','BldgType','HouseStyle','OverallQual','YearBuilt','ExterCond','BsmtQual','BsmtExposure','TotalBsmtSF','CentralAir','Electrical','BsmtFullBath','KitchenQual','TotRmsAbvGrd','GarageType','SaleType']]"
   ]
  },
  {
   "cell_type": "code",
   "execution_count": null,
   "metadata": {},
   "outputs": [],
   "source": [
    "# Convertando strings em numéricos usanso dicionário\n",
    " \n",
    "dataset_teste['MSZoning'] = dataset_teste['MSZoning'].map({\n",
    "    'RL': 1,     'RM': 2,    'FV': 3,     'RH': 4,    'C (all)': 5})\n",
    "\n",
    "dataset_teste['LotShape'] = dataset_teste['LotShape'].map({'Reg': 1,'IR1': 2,'IR2':3,'IR3':4})\n",
    "\n",
    "dataset_teste['Utilities'] = dataset_teste['Utilities'].map({\n",
    "    'AllPub': 1,     'NoSeWa': 2})\n",
    "\n",
    "dataset_teste['LandSlope'] = dataset_teste['LandSlope'].map({\n",
    "    'Gtl':1,    'Mod': 2,     'Sev': 3})\n",
    "\n",
    "dataset_teste['BldgType'] = dataset_teste['BldgType'].map({\n",
    "    '1Fam': 1,    '2fmCon': 2,     'Duplex': 3,     'TwnhsE': 4,     'Twnhs': 5})\n",
    "\n",
    "dataset_teste['HouseStyle'] = dataset_teste['HouseStyle'].map({\n",
    "    '2Story': 1,    '1Story': 2,     '1.5Fin': 3,     '1.5Unf': 4, \n",
    "    'SFoyer': 5,     'SLvl': 6,     '2.5Unf': 7,    '2.5Fin': 8})\n",
    "\n",
    "dataset_teste['ExterCond'] = dataset_teste['ExterCond'].map({\n",
    "    'TA': 1, 'Gd': 2, 'Fa': 3, 'Po': 4, 'Ex': 5})\n",
    "\n",
    "dataset_teste['BsmtQual'] = dataset_teste['BsmtQual'].map({\n",
    "    'Gd': 1, 'TA': 2, 'Ex': 3, 'Fa': 4})\n",
    "       \n",
    "dataset_teste['BsmtExposure'] = dataset_teste['BsmtExposure'].map({\n",
    "    'No': 1, 'Gd': 2, 'Mn': 3, 'Av': 4 })\n",
    "\n",
    "dataset_teste['CentralAir'] = dataset_teste['CentralAir'].map({\n",
    "    'Yes': 1, 'No': 2})\n",
    "\n",
    "dataset_teste['Electrical'] = dataset_teste['Electrical'].map({\n",
    "    'SBrkr': 1, 'FuseF': 2, 'FuseA': 3, 'FuseP': 4, 'Mix': 5})\n",
    "\n",
    "dataset_teste['KitchenQual'] = dataset_teste['KitchenQual'].map({\n",
    "    'Gd': 1, 'TA': 2, 'Ex': 3, 'Fa': 4})\n",
    "\n",
    "dataset_teste['GarageType'] = dataset_teste['GarageType'].map({\n",
    "    'Attchd': 1, 'Detchd': 2, 'BuiltIn': 3, 'CarPort': 4, 'Basment': 5, '2Types': 6})\n",
    "\n",
    "dataset_teste['SaleType'] = dataset_teste['SaleType'].map({\n",
    "    'WD': 1, 'New': 2, 'COD': 3, 'ConLD': 4, 'ConLI': 5, 'CWD': 6, 'ConLw': 7, 'Con': 8, 'Oth': 9})"
   ]
  },
  {
   "cell_type": "code",
   "execution_count": null,
   "metadata": {},
   "outputs": [],
   "source": [
    "dataset_teste.fillna(0, inplace=True)"
   ]
  },
  {
   "cell_type": "code",
   "execution_count": null,
   "metadata": {},
   "outputs": [],
   "source": [
    "# Verificar se o comando acima funcionou:\n",
    "(dataset_teste.isnull().sum() / dataset_teste.shape[0]).sort_values(ascending=False)"
   ]
  },
  {
   "cell_type": "code",
   "execution_count": null,
   "metadata": {},
   "outputs": [],
   "source": [
    "dataset.shape"
   ]
  },
  {
   "cell_type": "code",
   "execution_count": null,
   "metadata": {},
   "outputs": [],
   "source": [
    "dataset_teste.shape"
   ]
  },
  {
   "cell_type": "code",
   "execution_count": null,
   "metadata": {},
   "outputs": [],
   "source": [
    "#X2 =  dataset_teste.iloc[:, 1:2].values\n",
    "#X2 = dataset_teste.loc[:,['Id', 'MSZoning', 'Street', 'Alley', 'LotShape', 'SaleCondition', 'LandContour', 'Utilities', 'PoolQC', 'Fence']]\n",
    "X2 = dataset_teste"
   ]
  },
  {
   "cell_type": "code",
   "execution_count": null,
   "metadata": {},
   "outputs": [],
   "source": [
    "pred_novas_casas = linear_reg.predict(X2)"
   ]
  },
  {
   "cell_type": "code",
   "execution_count": null,
   "metadata": {},
   "outputs": [],
   "source": [
    "print(pred_novas_casas)"
   ]
  },
  {
   "cell_type": "code",
   "execution_count": null,
   "metadata": {},
   "outputs": [],
   "source": [
    "dataset_teste.head()"
   ]
  },
  {
   "cell_type": "code",
   "execution_count": null,
   "metadata": {},
   "outputs": [],
   "source": [
    "dataset_teste.shape"
   ]
  },
  {
   "cell_type": "code",
   "execution_count": null,
   "metadata": {},
   "outputs": [],
   "source": [
    "pred_novas_casas.shape"
   ]
  },
  {
   "cell_type": "code",
   "execution_count": null,
   "metadata": {},
   "outputs": [],
   "source": [
    "# criar a coluna SalePrice no dataset de teste e preencher com os valores preditos\n",
    "dataset_teste['SalePrice'] = pred_novas_casas"
   ]
  },
  {
   "cell_type": "code",
   "execution_count": null,
   "metadata": {},
   "outputs": [],
   "source": [
    "dataset_teste.head()"
   ]
  },
  {
   "cell_type": "code",
   "execution_count": null,
   "metadata": {},
   "outputs": [],
   "source": [
    "w = dataset_teste.loc[:,['Id','SalePrice']]"
   ]
  },
  {
   "cell_type": "code",
   "execution_count": null,
   "metadata": {},
   "outputs": [],
   "source": [
    "print (w)"
   ]
  },
  {
   "cell_type": "code",
   "execution_count": null,
   "metadata": {},
   "outputs": [],
   "source": [
    "print (y_test - pred_teste, '/', y_test - pred_teste)"
   ]
  },
  {
   "cell_type": "code",
   "execution_count": null,
   "metadata": {},
   "outputs": [],
   "source": [
    "# gerar o arquivo com o resultado\n",
    "w.to_csv(\"predition3.csv\",columns=[\"Id\",\"SalePrice\"],index=False)"
   ]
  },
  {
   "cell_type": "code",
   "execution_count": null,
   "metadata": {},
   "outputs": [],
   "source": []
  }
 ]
}