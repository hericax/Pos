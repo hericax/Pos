{
 "cells": [
  {
   "cell_type": "markdown",
   "metadata": {},
   "outputs": [],
   "source": [
    "# Projeto #1 - Análise Exploratória de Dados\n",
    "\n",
    "Antes de começar, leia as [Instruções](https://github.com/thvmm/pos-ds-ia/tree/master/projeto_1#instru%C3%A7%C3%B5es) e os [Critérios de Avaliação](https://github.com/thvmm/pos-ds-ia/tree/master/projeto_1#crit%C3%A9rios-de-avalia%C3%A7%C3%A3o)\n"
   ]
  },
  {
   "cell_type": "markdown",
   "metadata": {},
   "outputs": [],
   "source": [
    "### 1) **(5%)** Qual a base escolhida e qual seu interesse nela?"
   ]
  },
  {
   "cell_type": "markdown",
   "metadata": {},
   "outputs": [],
   "source": [
    "*Indique o link da base no Kaggle e explique em um parágrafo curto por que essa base é interessante para você.*\n",
    "\n",
    "https://www.kaggle.com/snocco/missing-migrants-project\n",
    "\n",
    "Me interessei pela base, por possuir uma boa variedade de tipo de features, me permitindo aplicar os conhecimentos que estou adiquirindo no curso."
   ]
  },
  {
   "cell_type": "markdown",
   "metadata": {},
   "outputs": [],
   "source": [
    "### 2) **(5%)** Descrição básica do conjunto de dados escolhido pelo aluno (1 parágrafo).\n",
    "- Identificação da variável a serem trabalhadas\n",
    "- Classificação das variáveis como: contínua ou discreta.\n"
   ]
  },
  {
   "cell_type": "markdown",
   "metadata": {},
   "outputs": [],
   "source": [
    "As variáveis que serão trabalhadas são: 'REGIAO_INCIDENTE', 'ANO_INCIDENTE', 'MES_INCIDENTE, 'TOTAL_MIGRANTES_MORTOS','TOTAL_MIGRANTES_DESAPARECIDOS','TOTAL_MIGRANTES_MORTOS_DESAPARECIDOS','QTDE_SOBREVIVENTES','QTDE_MULHERES','QTDE_HOMENS','QTDE_CRIANCAS'\n",
    "\n",
    "Sua classificação é:\n",
    "\n",
    "Contínuas: 'ANO_INCIDENTE', 'TOTAL_MIGRANTES_MORTOS','TOTAL_MIGRANTES_DESAPARECIDOS','TOTAL_MIGRANTES_MORTOS_DESAPARECIDOS','QTDE_SOBREVIVENTES','QTDE_MULHERES','QTDE_HOMENS','QTDE_CRIANCAS'\n",
    "\n",
    "Discretas: 'REGIAO_INCIDENTE', MES_INCIDENTE'\n"
   ]
  },
  {
   "cell_type": "markdown",
   "metadata": {},
   "outputs": [],
   "source": [
    "### 2) **(15%)** Faça uma avaliação descritiva da sua base. Quantas linhas ela possui? Quais os tipos de dados? Quantas e quais features possuem?\n",
    "\n",
    "Cada variável escolhida pelo aluno precisa passar por ao menos 1 pré-processamento. O pré-processamento pode ser (mas não está limitado a):\n",
    "- Checagem se os valores estão dentro de um limite permitido ou razoável.\n",
    "- Tratamento de valores ausentes por eliminação ou substituição.\n",
    "- Conversão do tipo de dados.\n"
   ]
  },
  {
   "cell_type": "code",
   "metadata": {},
   "outputs": [],
   "source": [
    "A base possui 5333 registros e 20 features.\n",
    "\n",
    "Os registros são do tipo:\n",
    "Inteiro: ID, ANO_INCIDENTE, TOTAL_MIGRANTES_MORTOS_DESAPARECIDOS, QUALIDADE_PESQUISA\n",
    "Object: REGIAO_INCIDENTE, DATA_INCIDENTE, MES_INCIDENTE, CAUSA_MORTE, LOCAL_INCIDENTE, INFORMACOES_PESQUISA, COORDENADAS_LOCAL_INCIDENTE,  ROTA_MIGRACAO, URL, GEOGRAFICO\n",
    "Float: TOTAL_MIGRANTES_MORTOS, TOTAL_MIGRANTES_DESAPARECIDOS, QTDE_SOBREVIVENTES, QTDE_MULHERES, QTDE_HOMENS, QTDE_CRIANCAS\n",
    "\n",
    "a) Checagem se os valores estão dentro de um limite permitido ou razoável.\n",
    "As variáveis 'TOTAL_MIGRANTES_MORTOS' e 'TOTAL_MIGRANTES_MORTOS_DESAPARECIDOS', possui o valor mínimo igual a zero, como o dataset é para analisar a quantidade ocorrida de mortos e/ou desaparecidos, zero não é um valor aceitavel. \n",
    "#dataset.drop(dataset[dataset.bedrooms==0].index ,inplace=True)\n",
    "#migrantes.isnull().sum() #191 TOTAL_MIGRANTES_MORTOS vazio\n",
    "migrantes = migrantes.dropna(subset=[\"TOTAL_MIGRANTES_MORTOS_DESAPARECIDOS\"])\n",
    "#titanic = titanic.update(titanic['Idade'].fillna('9'))\n",
    "migrantes.describe()\n",
    "\n",
    "Após o preenchimento, o percentual ficou 0%. \n",
    "\n",
    "????????????????????????verificar o valor máximo de cada variável\n",
    "TOTAL_MIGRANTES_MORTOS\t                MIN: 0 - MAX: 750.000000\t\n",
    "TOTAL_MIGRANTES_DESAPARECIDOS\t        MIN: 0 - MAX: 750.000000\n",
    "TOTAL_MIGRANTES_MORTOS_DESAPARECIDOS\tMIN: 0 - MAX: 1022.000000\t\n",
    "QTDE_SOBREVIVENTES                      MIN: 0 - MAX: 1950.000000\t\n",
    "QTDE_HOMENS                             MIN: 0 - MAX: 30.000000\t\n",
    "QTDE_MULHERES                           MIN: 0 - MAX: 135.000000\t\n",
    "QTDE_CRIANCAS                           MIN: 0 - MAX: 250.000000\n",
    "\n",
    "\n",
    "\n",
    "b) Tratamento de valores ausentes por eliminação ou substituição.\n",
    "\n",
    "As colunas que não são de interesse, serão excluídas. São elas: ID, INFORMACOES_PESQUISA, COORDENADAS_LOCAL_INCIDENTE, URL, QUALIDADE_PESQUISA, DATA_INCIDENTE.\n",
    "\n",
    "#migrantes.drop(['ID','INFORMACOES_PESQUISA','COORDENADAS_LOCAL_INCIDENTE','URL','QUALIDADE_PESQUISA','DATA_INCIDENTE'],axis = 1, inplace = True)\n",
    "#migrantes.head()\n",
    "\n",
    "c) Conversão do tipo de dados.\n",
    "A feature MES_INCIDENTE será convertida para inteiro.\n",
    "\n"
   ]
  },
  {
   "cell_type": "code",
   "execution_count": null,
   "metadata": {},
   "outputs": [
    {
     "evalue": "Error: Jupyter notebook failed to launch. \r\nError: The Jupyter notebook server failed to launch in time\n[I 09:02:53.006 NotebookApp] The port 8888 is already in use, trying another port.\r\n\n[I 09:02:53.014 NotebookApp] The port 8889 is already in use, trying another port.\r\n\n[I 09:02:53.018 NotebookApp] The port 8890 is already in use, trying another port.\r\n\n[I 09:02:56.569 NotebookApp] Serving notebooks from local directory: C:\\Users\\Herica\\AppData\\Local\\Temp\\364228f5-2675-488b-889d-4bb59f55af91\r\n\n[I 09:02:56.569 NotebookApp] The Jupyter Notebook is running at:\r\n[I 09:02:56.569 NotebookApp] http://localhost:8891/?token=1a1d8a02398d28e1c0586bb16251b9446eeb546ed3444580\r\n[I 09:02:56.569 NotebookApp]  or http://127.0.0.1:8891/?token=1a1d8a02398d28e1c0586bb16251b9446eeb546ed3444580\r\n[I 09:02:56.569 NotebookApp] Use Control-C to stop this server and shut down all kernels (twice to skip confirmation).\r\n\n[C 09:02:57.166 NotebookApp] \r\n    \r\n    To access the notebook, open this file in a browser:\r\n        file:///C:/Users/Herica/AppData/Roaming/jupyter/runtime/nbserver-8024-open.html\r\n    Or copy and paste one of these URLs:\r\n        http://localhost:8891/?token=1a1d8a02398d28e1c0586bb16251b9446eeb546ed3444580\r\n     or http://127.0.0.1:8891/?token=1a1d8a02398d28e1c0586bb16251b9446eeb546ed3444580\r\n",
     "output_type": "error"
    }
   ],
   "source": [
    "# Implemente sua análise aqui. Use mais blocos se achar que ficará mais organizado.\n",
    "import pandas as pd\n",
    "import matplotlib.pyplot as plt\n",
    "import random\n",
    "from sklearn.preprocessing import MinMaxScaler, StandardScaler\n",
    "from sklearn.decomposition import PCA\n",
    "import numpy as np\n",
    "from sklearn import preprocessing\n",
    "\n",
    "migrantes = pd.read_csv(\"projeto_1/missing-migrants/MissingMigrants-Global.csv\")\n",
    "# Renomeando as features/colunas\n",
    "migrantes.columns = ['ID', 'REGIAO_INCIDENTE','DATA_INCIDENTE','ANO_INCIDENTE','MES_INCIDENTE','TOTAL_MIGRANTES_MORTOS','TOTAL_MIGRANTES_DESAPARECIDOS','TOTAL_MIGRANTES_MORTOS_DESAPARECIDOS','QTDE_SOBREVIVENTES','QTDE_MULHERES','QTDE_HOMENS','QTDE_CRIANCAS','CAUSA_MORTE','LOCAL_INCIDENTE','INFORMACOES_PESQUISA','COORDENADAS_LOCAL_INCIDENTE','ROTA_MIGRACAO','URL','GEOGRAFICO','QUALIDADE_PESQUISA']\n",
    "migrantes.head(5)"
   ]
  },
  {
   "cell_type": "code",
   "metadata": {},
   "outputs": [],
   "source": [
    "migrantes.dtypes  #análise dos dados"
   ]
  },
  {
   "cell_type": "code",
   "metadata": {},
   "outputs": [],
   "source": [
    "migrantes.describe() #análise dos dados"
   ]
  },
  {
   "cell_type": "code",
   "metadata": {},
   "outputs": [],
   "source": [
    "# Percentual das features que não possuem valor (dados faltantes):\n",
    "(migrantes.isnull().sum() / migrantes.shape[0]).sort_values(ascending=False)"
   ]
  },
  {
   "cell_type": "code",
   "metadata": {},
   "outputs": [],
   "source": [
    "#Preenchendo os dados faltantes com 'zero' das colunas que serão utilizadas na análise\n",
    "migrantes['TOTAL_MIGRANTES_DESAPARECIDOS'].fillna(0, inplace=True)\n",
    "migrantes['QTDE_CRIANCAS'].fillna(0, inplace=True)\n",
    "migrantes['QTDE_SOBREVIVENTES'].fillna(0, inplace=True)\n",
    "migrantes['QTDE_MULHERES'].fillna(0, inplace=True)\n",
    "migrantes['QTDE_HOMENS'].fillna(0, inplace=True)\n",
    "migrantes['TOTAL_MIGRANTES_MORTOS'].fillna(0, inplace=True)\n",
    "\n",
    "# ver a porcentagem dos valores faltantes após preenchimento dos valores faltantes\n",
    "(migrantes.isnull().sum() / migrantes.shape[0]).sort_values(ascending=False)"
   ]
  },
  {
   "cell_type": "code",
   "metadata": {},
   "outputs": [],
   "source": [
    "# Conversão do tipo de dados.\n",
    "# conversão do ME_INCIDENTE para número\n",
    "migrantes['MES_INCIDENTE'] = migrantes['MES_INCIDENTE'].map({'Jan': '01', 'Feb': '02','Mar': '03', 'Apr': '04','May': '05','Jun': '06','Jul': '07','Aug': '08','Sep': '09','Out': '10','Nov': '11','Dec': '12'})\n"
   ]
  },
  {
   "cell_type": "code",
   "metadata": {},
   "outputs": [],
   "source": [
    "migrantes_amostra.describe()"
   ]
  },
  {
   "cell_type": "code",
   "metadata": {},
   "outputs": [],
   "source": [
    "#grafico de barras\n",
    "plt.bar(migrantes.QTDE_HOMENS,migrantes.TOTAL_MIGRANTES_MORTOS,color='yellow')\n",
    "plt.bar(migrantes.QTDE_MULHERES,migrantes.TOTAL_MIGRANTES_MORTOS,color='PINK')\n",
    "plt.bar(migrantes.QTDE_CRIANCAS,migrantes.TOTAL_MIGRANTES_MORTOS,color='green')\n",
    "\n",
    "plt.ylabel(\"TOTAL_MORTOS\")\n",
    "plt.xlabel(\"QTDE HOMENS / MULHERES / CRIANÇAS\")\n",
    "plt.title(\"QTDE de homens, mulheres e crianças mortas\")\n",
    "\n",
    "\n",
    "???? não deveria exibir o total de homens  ou mulheres ou crianças mortas?"
   ]
  },
  {
   "cell_type": "markdown",
   "metadata": {},
   "outputs": [],
   "source": [
    "### 4) **(60%)** Nos blocos seguintes construa análises que vão justificar suas conclusões."
   ]
  },
  {
   "cell_type": "markdown",
   "metadata": {},
   "outputs": [],
   "source": [
    "#### 4.1) **(20%)** Análise 1 -  Distribuição dos valores para cada uma das variáveis\n",
    "- Exemplo para variável contínua: se o conjunto de dados possui a variável \"idade\". Quantos % possui a idade entre 0 e 30 anos? 31 a 59? 60+?\n",
    "\n",
    "- Exemplo para variável discreta: se o conjunto de dados possui a variável \"gênero\", quantos % do conjunto de dados é do sexo feminino, quantos % é masculino? Inclua outros gêneros se houver.\n"
   ]
  },
  {
   "cell_type": "code",
   "metadata": {},
   "outputs": [],
   "source": [
    "# Implemente sua análise aqui. Use mais blocos se achar que ficará mais organizado.\n",
    "\n",
    "Contínuas: 'ANO_INCIDENTE','TOTAL_MIGRANTES_MORTOS','TOTAL_MIGRANTES_DESAPARECIDOS','TOTAL_MIGRANTES_MORTOS_DESAPARECIDOS','QTDE_SOBREVIVENTES','QTDE_MULHERES','QTDE_HOMENS','QTDE_CRIANCAS'\n",
    "\n",
    "Discretas: \n",
    "'REGIAO_INCIDENTE': \n",
    "'MES_INCIDENTE': \n"
   ]
  },
  {
   "cell_type": "code",
   "metadata": {},
   "outputs": [],
   "source": [
    "#Análise 1: Qual ano teve mais mortos ou desaparecidos?\n",
    "# A partir do gráfico abaixo, observamos que o ano com maior quantidade de mortos e/ou desaparecidos foi 2015.\n",
    "\n",
    "plt.bar(migrantes.ANO_INCIDENTE,migrantes.TOTAL_MIGRANTES_MORTOS_DESAPARECIDOS,color='red')\n",
    "\n",
    "plt.xlabel(\"Ano do incidente\")\n",
    "plt.ylabel(\"Total de mortos e/ou desaparecidos\")\n",
    "plt.title(\"Qtde de mortos e/ou desaparecidos por ano\")"
   ]
  },
  {
   "cell_type": "code",
   "metadata": {},
   "outputs": [],
   "source": [
    "#Análise 2: Qual região teve mais migrantes mortos ou desaparecidos?\n",
    "# A partir do gráfico abaixo, observamos que a região com maior mortos e/ou desaparecidos foi ???????.\n",
    "\n",
    "# ???? preciso categorizar as regiões\n",
    "#style='oblique'\n",
    "plt.bar(migrantes.REGIAO_INCIDENTE,migrantes.TOTAL_MIGRANTES_MORTOS_DESAPARECIDOS,color='green')\n",
    "\n",
    "plt.xlabel(\"Região\")\n",
    "plt.ylabel(\"Total de mortos e/ou desaparecidos\")\n",
    "plt.title(\"Mortos e/ou desaparecidos por região\")\n"
   ]
  },
  {
   "cell_type": "code",
   "metadata": {},
   "outputs": [],
   "source": [
    "# Criando um gráfico\n",
    "x = migrantes.REGIAO_INCIDENTE\n",
    "y = migrantes.TOTAL_MIGRANTES_MORTOS_DESAPARECIDOS\n",
    "\n",
    "plt.bar(x, y, label = 'Homens', style = 'oblique', color = 'r')\n",
    "\n",
    "plt.legend()\n",
    " \n",
    "plt.show()"
   ]
  },
  {
   "cell_type": "code",
   "metadata": {},
   "outputs": [],
   "source": [
    "\n",
    "# Definindo variáveis\n",
    "x = migrantes.QTDE_HOMENS\n",
    "y = migrantes.TOTAL_ANO_INCIDENTE\n",
    "#y = migrantes.TOTAL_MIGRANTES_MORTOS_DESAPARECIDOS\n",
    "  \n",
    "x2 = migrantes.QTDE_MULHERES\n",
    "y2 = migrantes.ANO_INCIDENTE\n",
    "#y2 = migrantes.TOTAL_MIGRANTES_MORTOS_DESAPARECIDOS\n",
    " \n",
    "x3 = migrantes.QTDE_CRIANCAS\n",
    "y3 = migrantes.ANO_INCIDENTE\n",
    "#y3 = migrantes.TOTAL_MIGRANTES_MORTOS_DESAPARECIDOS\n",
    "\n",
    "# Criando um gráfico\n",
    "plt.bar(x, y, label = 'Homens', color = 'r')\n",
    "plt.bar(x2, y2, label = 'Mulheres', color = 'y')\n",
    "plt.bar(x3, y3, label = 'Criancas', color = 'g')\n",
    "\n",
    "plt.legend()\n",
    " \n",
    "plt.show()"
   ]
  },
  {
   "cell_type": "code",
   "metadata": {},
   "outputs": [],
   "source": [
    "#Análise 3: Houve mais morte de homens, mulheres ou crianças? \n",
    "# A partir do gráfico abaixo, observamos que morreram mais crianças, seguindo dos homens e depois as mulheres.\n",
    "\n",
    "\n",
    "plt.plot(migrantes.QTDE_HOMENS,migrantes.TOTAL_MIGRANTES_MORTOS,'bx')\n",
    "plt.plot(migrantes.QTDE_MULHERES,migrantes.TOTAL_MIGRANTES_MORTOS,'r+')\n",
    "plt.plot(migrantes.QTDE_CRIANCAS,migrantes.TOTAL_MIGRANTES_MORTOS,'go')\n",
    "\n",
    "#plt.bar(migrantes.TOTAL_MIGRANTES_MORTOS,migrantes.QTDE_HOMENS,color='yellow')\n",
    "#plt.bar(migrantes.TOTAL_MIGRANTES_MORTOS,migrantes.QTDE_MULHERES,color='PINK')\n",
    "#plt.bar(migrantes.TOTAL_MIGRANTES_MORTOS,migrantes.QTDE_CRIANCAS,color='green')\n",
    "\n",
    "plt.xlabel(\"QTDE HOMENS / MULHERES / CRIANÇAS\")\n",
    "plt.ylabel(\"TOTAL_MORTOS\")\n",
    "plt.title(\"QTDE de homens, mulheres e crianças mortas\")\n",
    "\n"
   ]
  },
  {
   "cell_type": "code",
   "metadata": {},
   "outputs": [],
   "source": [
    "\n",
    "# Definindo variáveis\n",
    "x = migrantes.TOTAL_MIGRANTES_MORTOS_DESAPARECIDOS\n",
    "y = migrantes.TOTAL_MIGRANTES_MORTOS\n",
    "  \n",
    "x2 = migrantes.TOTAL_MIGRANTES_MORTOS_DESAPARECIDOS\n",
    "y2 = migrantes.TOTAL_MIGRANTES_DESAPARECIDOS\n",
    " \n",
    "# Criando um gráfico\n",
    "plt.bar(x, y, label = 'Mortos', color = 'r')\n",
    "plt.bar(x2, y2, label = 'Desaparecidos', color = 'y')\n",
    "plt.legend()\n",
    " \n",
    "plt.show()"
   ]
  },
  {
   "cell_type": "code",
   "metadata": {},
   "outputs": [],
   "source": [
    "\n",
    "# Houve mais mortos ou mais desaparecidos\n",
    "\n",
    "plt.plot(migrantes.TOTAL_MIGRANTES_MORTOS,migrantes.TOTAL_MIGRANTES_DESAPARECIDOS)\n",
    "plt.xlabel(\"Região\")\n",
    "plt.ylabel(\"Total de mortos e/ou desaparecidos\")\n",
    "plt.title(\"Mortos e/ou desaparecidos por região\")"
   ]
  },
  {
   "cell_type": "markdown",
   "metadata": {},
   "outputs": [],
   "source": [
    "#### 4.2) **(20%)** Análise 2 - Dependência entre variáveis\n",
    "O aluno deve apresentar as mesmas distribuições para cada valor da variável dependente. Exemplo: Em um conjunto de dados em que as variáveis independentes são idade e sexo, e a variável dependente é renda. O aluno pode dividir a renda em 3 \"grupos\", <1000 reais, entre 1000 e 10000 reais e >1000 reais. Para cada um desses grupos, é necessário apresentar a distribuição das variáveis \"idade\" e \"sexo\".\n"
   ]
  },
  {
   "cell_type": "code",
   "metadata": {},
   "outputs": [],
   "source": [
    "# Implemente sua análise aqui. Use mais blocos se achar que ficará mais organizado.\n",
    "\n",
    "no seu exemplo, uma possivel analise dessa natureza poderia ser:\n",
    "total de fatalidades por regiao e mes; ou\n",
    "total de fatalidades por causa e local"
   ]
  },
  {
   "cell_type": "code",
   "metadata": {},
   "outputs": [],
   "source": [
    "# Agrupar por REGIAO_INCIDENTE\n",
    "\n",
    "\n"
   ]
  },
  {
   "cell_type": "markdown",
   "metadata": {},
   "outputs": [],
   "source": [
    "#### 4.3) **(20%)** Análise 3 - Correlação entre variáveis\n",
    "\n",
    "O aluno deve apresentar 3 análises de correlação entre variáveis do conjunto de dados trabalhado. Exemplo: Em um conjunto de dados com as informações de temperatura e ocorrência de incêndios, eu gostaria de saber a incidência de correlação entre as duas variáveis.\n",
    "\n"
   ]
  },
  {
   "cell_type": "code",
   "metadata": {},
   "outputs": [],
   "source": [
    "# Primeiro par de variáveis: Implemente sua análise aqui. Use mais blocos se achar que ficará mais organizado."
   ]
  },
  {
   "cell_type": "code",
   "metadata": {},
   "outputs": [],
   "source": [
    "# Segundo par de variáveis: Implemente sua análise aqui. Use mais blocos se achar que ficará mais organizado."
   ]
  },
  {
   "cell_type": "code",
   "metadata": {},
   "outputs": [],
   "source": [
    "# Terceiro par de variáveis: Implemente sua análise aqui. Use mais blocos se achar que ficará mais organizado."
   ]
  },
  {
   "cell_type": "markdown",
   "metadata": {},
   "outputs": [],
   "source": [
    "### 5) Conclusões **15%**"
   ]
  },
  {
   "cell_type": "markdown",
   "metadata": {},
   "outputs": [],
   "source": [
    "*O que é possível concluir com os dados que você analisou? Se fosse fazer uma apresentação, o que levaria como os maiores destaques e por que?*"
   ]
  },
  {
   "cell_type": "markdown",
   "metadata": {},
   "outputs": [],
   "source": []
  }
 ],
 "metadata": {
  "file_extension": ".py",
  "kernelspec": {
   "display_name": "Python 3",
   "language": "python",
   "name": "python3"
  },
  "language_info": {
   "codemirror_mode": {
    "name": "ipython",
    "version": 3
   },
   "file_extension": ".py",
   "mimetype": "text/x-python",
   "name": "python",
   "nbconvert_exporter": "python",
   "pygments_lexer": "ipython3",
   "version": "3.7.4"
  },
  "mimetype": "text/x-python",
  "name": "python",
  "npconvert_exporter": "python",
  "pygments_lexer": "ipython3",
  "version": 3
 },
 "nbformat": 4,
 "nbformat_minor": 2
}