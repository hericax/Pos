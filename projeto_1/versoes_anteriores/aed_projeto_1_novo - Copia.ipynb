{
 "cells": [
  {
   "cell_type": "markdown",
   "metadata": {},
   "outputs": [],
   "source": [
    "# Projeto #1 - Análise Exploratória de Dados\n",
    "\n",
    "Antes de começar, leia as [Instruções](https://github.com/thvmm/pos-ds-ia/tree/master/projeto_1#instru%C3%A7%C3%B5es) e os [Critérios de Avaliação](https://github.com/thvmm/pos-ds-ia/tree/master/projeto_1#crit%C3%A9rios-de-avalia%C3%A7%C3%A3o)\n"
   ]
  },
  {
   "cell_type": "markdown",
   "metadata": {},
   "outputs": [],
   "source": [
    "### 1) **(5%)** Qual a base escolhida e qual seu interesse nela?"
   ]
  },
  {
   "cell_type": "markdown",
   "metadata": {},
   "outputs": [],
   "source": [
    "*Indique o link da base no Kaggle e explique em um parágrafo curto por que essa base é interessante para você.*\n",
    "\n",
    "https://www.kaggle.com/snocco/missing-migrants-project\n",
    "\n",
    "Me interessei pela base, por possuir uma boa variedade de tipo de features, me permitindo aplicar os conhecimentos que estou adiquirindo no curso."
   ]
  },
  {
   "cell_type": "markdown",
   "metadata": {},
   "outputs": [],
   "source": [
    "### 2) **(5%)** Descrição básica do conjunto de dados escolhido pelo aluno (1 parágrafo).\n",
    "- Identificação da variável a serem trabalhadas\n",
    "- Classificação das variáveis como: contínua ou discreta.\n"
   ]
  },
  {
   "cell_type": "markdown",
   "metadata": {},
   "outputs": [],
   "source": [
    "A base possui xxx registros e xxxx variáveis.\n",
    "\n",
    "Contínuas:'ESTIMATIVA_MINIMA_MORTOS_MIGRANTES'\n",
    "\n",
    "Discretas:'ID','REGIAO_INCIDENTE','DATA_INCIDENTE','ANO_INCIDENTE','MES_INCIDENTE','TOTAL_MORTOS','TOTAL_MORTOS_MIGRANTES','SOBREVIVENTES','MULHERES','HOMENS','CRIANCAS','CAUSA_MORTE','LOCAL_ACIDENTE','INFORMACOES_PESQUINSA','COORDENADA_LOCALIZACAO','ROTA_MIGRACAO','URL','GEOGRAFIA','QUALIDADE_PESQUISA'\n"
   ]
  },
  {
   "cell_type": "markdown",
   "metadata": {},
   "outputs": [],
   "source": [
    "### 2) **(15%)** Faça uma avaliação descritiva da sua base. Quantas linhas ela possui? Quais os tipos de dados? Quantas e quais features possuem?\n",
    "\n",
    "Cada variável escolhida pelo aluno precisa passar por ao menos 1 pré-processamento. O pré-processamento pode ser (mas não está limitado a):\n",
    "- Checagem se os valores estão dentro de um limite permitido ou razoável.\n",
    "- Tratamento de valores ausentes por eliminação ou substituição.\n",
    "- Conversão do tipo de dados.\n"
   ]
  },
  {
   "cell_type": "code",
   "execution_count": 3,
   "metadata": {},
   "outputs": [],
   "source": [
    "# Implemente sua análise aqui. Use mais blocos se achar que ficará mais organizado.\n",
    "\n",
    "import pandas as pd\n",
    "from sklearn.decomposition import PCA\n",
    "import matplotlib.pyplot as plt"
   ]
  },
  {
   "cell_type": "code",
   "execution_count": 6,
   "metadata": {},
   "outputs": [
    {
     "data": {
      "text/html": "<div>\n<style scoped>\n    .dataframe tbody tr th:only-of-type {\n        vertical-align: middle;\n    }\n\n    .dataframe tbody tr th {\n        vertical-align: top;\n    }\n\n    .dataframe thead th {\n        text-align: right;\n    }\n</style>\n<table border=\"1\" class=\"dataframe\">\n  <thead>\n    <tr style=\"text-align: right;\">\n      <th></th>\n      <th>ID</th>\n      <th>REGIAO_INCIDENTE</th>\n      <th>DATA_INCIDENTE</th>\n      <th>ANO_INCIDENTE</th>\n      <th>MES_INCIDENTE</th>\n      <th>TOTAL_MORTOS</th>\n      <th>ESTIMATIVA_MINIMA_MORTOS_MIGRANTES</th>\n      <th>TOTAL_MORTOS_MIGRANTES</th>\n      <th>SOBREVIVENTES</th>\n      <th>MULHERES</th>\n      <th>HOMENS</th>\n      <th>CRIANCAS</th>\n      <th>CAUSA_MORTE</th>\n      <th>LOCAL_ACIDENTE</th>\n      <th>INFORMACOES_PESQUINSA</th>\n      <th>COORDENADA_LOCALIZACAO</th>\n      <th>ROTA_MIGRACAO</th>\n      <th>URL</th>\n      <th>GEOGRAFIA</th>\n      <th>QUALIDADE_PESQUISA</th>\n    </tr>\n  </thead>\n  <tbody>\n    <tr>\n      <th>0</th>\n      <td>51591</td>\n      <td>Mediterranean</td>\n      <td>March 28, 2019</td>\n      <td>2019</td>\n      <td>Mar</td>\n      <td>NaN</td>\n      <td>2.0</td>\n      <td>2</td>\n      <td>36.0</td>\n      <td>NaN</td>\n      <td>2.0</td>\n      <td>NaN</td>\n      <td>Presumed drowning</td>\n      <td>Off the coast of Chios, Greece</td>\n      <td>Hellenic Coast Guard via IOM Greece</td>\n      <td>38.362368696592, 26.172509473654</td>\n      <td>Eastern Mediterranean</td>\n      <td>NaN</td>\n      <td>Uncategorized</td>\n      <td>5</td>\n    </tr>\n    <tr>\n      <th>1</th>\n      <td>51588</td>\n      <td>Mediterranean</td>\n      <td>March 26, 2019</td>\n      <td>2019</td>\n      <td>Mar</td>\n      <td>4.0</td>\n      <td>NaN</td>\n      <td>4</td>\n      <td>11.0</td>\n      <td>3.0</td>\n      <td>NaN</td>\n      <td>1.0</td>\n      <td>Presumed drowning</td>\n      <td>Off the coast of Ayvacık district, Çanakkale p...</td>\n      <td>Turkish Coast Guard via IOM Turkey</td>\n      <td>39.441975591614, 26.378816195919</td>\n      <td>Eastern Mediterranean</td>\n      <td>http://bit.ly/2YmiPAN</td>\n      <td>Uncategorized</td>\n      <td>5</td>\n    </tr>\n    <tr>\n      <th>2</th>\n      <td>51589</td>\n      <td>Mediterranean</td>\n      <td>March 26, 2019</td>\n      <td>2019</td>\n      <td>Mar</td>\n      <td>1.0</td>\n      <td>NaN</td>\n      <td>1</td>\n      <td>NaN</td>\n      <td>NaN</td>\n      <td>NaN</td>\n      <td>NaN</td>\n      <td>Presumed drowning</td>\n      <td>Body recovered on Playa del Tarajal, Ceuta, Sp...</td>\n      <td>Ceuta al día, El Pueblo de Ceuta</td>\n      <td>35.871901875921, -5.343037665842</td>\n      <td>Western Mediterranean</td>\n      <td>http://bit.ly/2uyj7qO, http://bit.ly/2uwj5zC</td>\n      <td>Uncategorized</td>\n      <td>3</td>\n    </tr>\n    <tr>\n      <th>3</th>\n      <td>51590</td>\n      <td>Mediterranean</td>\n      <td>March 26, 2019</td>\n      <td>2019</td>\n      <td>Mar</td>\n      <td>1.0</td>\n      <td>NaN</td>\n      <td>1</td>\n      <td>NaN</td>\n      <td>NaN</td>\n      <td>NaN</td>\n      <td>NaN</td>\n      <td>Presumed drowning</td>\n      <td>Body recovered on beach near Tetouan, Morocco ...</td>\n      <td>El Pueblo de Ceuta</td>\n      <td>35.635115912988, -5.275650103548</td>\n      <td>Western Mediterranean</td>\n      <td>http://bit.ly/2uwj5zC</td>\n      <td>Uncategorized</td>\n      <td>1</td>\n    </tr>\n    <tr>\n      <th>4</th>\n      <td>51587</td>\n      <td>Central America</td>\n      <td>March 25, 2019</td>\n      <td>2019</td>\n      <td>Mar</td>\n      <td>1.0</td>\n      <td>NaN</td>\n      <td>1</td>\n      <td>NaN</td>\n      <td>NaN</td>\n      <td>1.0</td>\n      <td>NaN</td>\n      <td>Fall from train</td>\n      <td>Train tracks in Teacalco, Tlaxcala, Mexico</td>\n      <td>Megalópolis, Línea de contraste</td>\n      <td>19.334475177429, -98.069823987538</td>\n      <td>NaN</td>\n      <td>http://bit.ly/2uvDIvH, http://bit.ly/2TXAFLS</td>\n      <td>Central America</td>\n      <td>3</td>\n    </tr>\n  </tbody>\n</table>\n</div>",
      "text/plain": "      ID REGIAO_INCIDENTE  DATA_INCIDENTE  ANO_INCIDENTE MES_INCIDENTE  \\\n0  51591    Mediterranean  March 28, 2019           2019           Mar   \n1  51588    Mediterranean  March 26, 2019           2019           Mar   \n2  51589    Mediterranean  March 26, 2019           2019           Mar   \n3  51590    Mediterranean  March 26, 2019           2019           Mar   \n4  51587  Central America  March 25, 2019           2019           Mar   \n\n   TOTAL_MORTOS  ESTIMATIVA_MINIMA_MORTOS_MIGRANTES  TOTAL_MORTOS_MIGRANTES  \\\n0           NaN                                 2.0                       2   \n1           4.0                                 NaN                       4   \n2           1.0                                 NaN                       1   \n3           1.0                                 NaN                       1   \n4           1.0                                 NaN                       1   \n\n   SOBREVIVENTES  MULHERES  HOMENS  CRIANCAS        CAUSA_MORTE  \\\n0           36.0       NaN     2.0       NaN  Presumed drowning   \n1           11.0       3.0     NaN       1.0  Presumed drowning   \n2            NaN       NaN     NaN       NaN  Presumed drowning   \n3            NaN       NaN     NaN       NaN  Presumed drowning   \n4            NaN       NaN     1.0       NaN    Fall from train   \n\n                                      LOCAL_ACIDENTE  \\\n0                     Off the coast of Chios, Greece   \n1  Off the coast of Ayvacık district, Çanakkale p...   \n2  Body recovered on Playa del Tarajal, Ceuta, Sp...   \n3  Body recovered on beach near Tetouan, Morocco ...   \n4         Train tracks in Teacalco, Tlaxcala, Mexico   \n\n                 INFORMACOES_PESQUINSA             COORDENADA_LOCALIZACAO  \\\n0  Hellenic Coast Guard via IOM Greece   38.362368696592, 26.172509473654   \n1   Turkish Coast Guard via IOM Turkey   39.441975591614, 26.378816195919   \n2     Ceuta al día, El Pueblo de Ceuta   35.871901875921, -5.343037665842   \n3                   El Pueblo de Ceuta   35.635115912988, -5.275650103548   \n4      Megalópolis, Línea de contraste  19.334475177429, -98.069823987538   \n\n           ROTA_MIGRACAO                                           URL  \\\n0  Eastern Mediterranean                                           NaN   \n1  Eastern Mediterranean                         http://bit.ly/2YmiPAN   \n2  Western Mediterranean  http://bit.ly/2uyj7qO, http://bit.ly/2uwj5zC   \n3  Western Mediterranean                         http://bit.ly/2uwj5zC   \n4                    NaN  http://bit.ly/2uvDIvH, http://bit.ly/2TXAFLS   \n\n         GEOGRAFIA  QUALIDADE_PESQUISA  \n0    Uncategorized                   5  \n1    Uncategorized                   5  \n2    Uncategorized                   3  \n3    Uncategorized                   1  \n4  Central America                   3  "
     },
     "execution_count": 6,
     "metadata": {},
     "output_type": "execute_result"
    }
   ],
   "source": [
    "migrantes = pd.read_csv(\"projeto_1/missing-migrants/MissingMigrants-Global.csv\")\n",
    "migrantes.columns = ['ID','REGIAO_INCIDENTE','DATA_INCIDENTE','ANO_INCIDENTE','MES_INCIDENTE','TOTAL_MORTOS','ESTIMATIVA_MINIMA_MORTOS_MIGRANTES','TOTAL_MORTOS_MIGRANTES','SOBREVIVENTES','MULHERES','HOMENS','CRIANCAS','CAUSA_MORTE','LOCAL_ACIDENTE','INFORMACOES_PESQUINSA','COORDENADA_LOCALIZACAO','ROTA_MIGRACAO','URL','GEOGRAFIA','QUALIDADE_PESQUISA']\n",
    "migrantes.head(5)"
   ]
  },
  {
   "cell_type": "code",
   "execution_count": 8,
   "metadata": {},
   "outputs": [],
   "source": [
    "#O dataset possui xxx registros e xxx features ao todos.\n",
    "#- Checagem se os valores estão dentro de um limite permitido ou razoável.\n",
    "\n"
   ]
  },
  {
   "cell_type": "markdown",
   "metadata": {},
   "outputs": [],
   "source": [
    "### 4) **(60%)** Nos blocos seguintes construa análises que vão justificar suas conclusões."
   ]
  },
  {
   "cell_type": "markdown",
   "metadata": {},
   "outputs": [],
   "source": [
    "#### 4.1) **(20%)** Análise 1 -  Distribuição dos valores para cada uma das variáveis\n",
    "- Exemplo para variável contínua: se o conjunto de dados possui a variável \"idade\". Quantos % possui a idade entre 0 e 30 anos? 31 a 59? 60+?\n",
    "\n",
    "- Exemplo para variável discreta: se o conjunto de dados possui a variável \"gênero\", quantos % do conjunto de dados é do sexo feminino, quantos % é masculino? Inclua outros gêneros se houver.\n"
   ]
  },
  {
   "cell_type": "code",
   "execution_count": 8,
   "metadata": {},
   "outputs": [],
   "source": [
    "# Implemente sua análise aqui. Use mais blocos se achar que ficará mais organizado."
   ]
  },
  {
   "cell_type": "markdown",
   "metadata": {},
   "outputs": [],
   "source": [
    "#### 4.2) **(20%)** Análise 2 - Dependência entre variáveis\n",
    "O aluno deve apresentar as mesmas distribuições para cada valor da variável dependente. Exemplo: Em um conjunto de dados em que as variáveis independentes são idade e sexo, e a variável dependente é renda. O aluno pode dividir a renda em 3 \"grupos\", <1000 reais, entre 1000 e 10000 reais e >1000 reais. Para cada um desses grupos, é necessário apresentar a distribuição das variáveis \"idade\" e \"sexo\".\n"
   ]
  },
  {
   "cell_type": "code",
   "execution_count": 9,
   "metadata": {},
   "outputs": [],
   "source": [
    "# Implemente sua análise aqui. Use mais blocos se achar que ficará mais organizado."
   ]
  },
  {
   "cell_type": "markdown",
   "metadata": {},
   "outputs": [],
   "source": [
    "#### 4.3) **(20%)** Análise 3 - Correlação entre variáveis\n",
    "\n",
    "O aluno deve apresentar 3 análises de correlação entre variáveis do conjunto de dados trabalhado. Exemplo: Em um conjunto de dados com as informações de temperatura e ocorrência de incêndios, eu gostaria de saber a incidência de correlação entre as duas variáveis.\n",
    "\n"
   ]
  },
  {
   "cell_type": "code",
   "execution_count": 10,
   "metadata": {},
   "outputs": [],
   "source": [
    "# Primeiro par de variáveis: Implemente sua análise aqui. Use mais blocos se achar que ficará mais organizado."
   ]
  },
  {
   "cell_type": "code",
   "execution_count": 11,
   "metadata": {},
   "outputs": [],
   "source": [
    "# Segundo par de variáveis: Implemente sua análise aqui. Use mais blocos se achar que ficará mais organizado."
   ]
  },
  {
   "cell_type": "code",
   "execution_count": 12,
   "metadata": {},
   "outputs": [],
   "source": [
    "# Terceiro par de variáveis: Implemente sua análise aqui. Use mais blocos se achar que ficará mais organizado."
   ]
  },
  {
   "cell_type": "markdown",
   "metadata": {},
   "outputs": [],
   "source": [
    "### 5) Conclusões **15%**"
   ]
  },
  {
   "cell_type": "markdown",
   "metadata": {},
   "outputs": [],
   "source": [
    "*O que é possível concluir com os dados que você analisou? Se fosse fazer uma apresentação, o que levaria como os maiores destaques e por que?*"
   ]
  },
  {
   "cell_type": "markdown",
   "metadata": {},
   "outputs": [],
   "source": []
  }
 ],
 "metadata": {
  "file_extension": ".py",
  "kernelspec": {
   "display_name": "Python 3",
   "language": "python",
   "name": "python3"
  },
  "language_info": {
   "codemirror_mode": {
    "name": "ipython",
    "version": 3
   },
   "file_extension": ".py",
   "mimetype": "text/x-python",
   "name": "python",
   "nbconvert_exporter": "python",
   "pygments_lexer": "ipython3",
   "version": "3.7.4"
  },
  "mimetype": "text/x-python",
  "name": "python",
  "npconvert_exporter": "python",
  "pygments_lexer": "ipython3",
  "version": 3
 },
 "nbformat": 4,
 "nbformat_minor": 2
}