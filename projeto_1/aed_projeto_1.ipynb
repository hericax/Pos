{
 "cells": [
  {
   "cell_type": "markdown",
   "metadata": {},
   "source": [
    "# Projeto #1 - Análise Exploratória de Dados\n",
    "\n",
    "Antes de começar, leia as [Instruções](https://github.com/thvmm/pos-ds-ia/tree/master/projeto_1#instru%C3%A7%C3%B5es) e os [Critérios de Avaliação](https://github.com/thvmm/pos-ds-ia/tree/master/projeto_1#crit%C3%A9rios-de-avalia%C3%A7%C3%A3o)\n"
   ]
  },
  {
   "cell_type": "markdown",
   "metadata": {},
   "source": [
    "### 1) **(5%)** Qual a base escolhida e qual seu interesse nela?"
   ]
  },
  {
   "cell_type": "markdown",
   "metadata": {},
   "source": [
    "*Indique o link da base no Kaggle e explique em um parágrafo curto por que essa base é interessante para você.*\n",
    "\n",
    "https://www.kaggle.com/snocco/missing-migrants-project\n",
    "\n",
    "Me interessei pela base, por possuir uma boa variedade de tipo de features, me permitindo aplicar os conhecimentos que estou adiquirindo no curso."
   ]
  },
  {
   "cell_type": "markdown",
   "metadata": {},
   "source": [
    "### 2) **(5%)** Descrição básica do conjunto de dados escolhido pelo aluno (1 parágrafo).\n",
    "- Identificação da variável a serem trabalhadas\n",
    "- Classificação das variáveis como: contínua ou discreta.\n"
   ]
  },
  {
   "cell_type": "markdown",
   "metadata": {},
   "source": [
    "As variáveis que serão trabalhadas são: 'REGIAO_INCIDENTE', 'ANO_INCIDENTE', 'MES_INCIDENTE, 'TOTAL_MIGRANTES_MORTOS','TOTAL_MIGRANTES_DESAPARECIDOS','TOTAL_MIGRANTES_MORTOS_DESAPARECIDOS','QTDE_SOBREVIVENTES','QTDE_MULHERES','QTDE_HOMENS','QTDE_CRIANCAS'\n",
    "\n",
    "Sua classificação é:\n",
    "\n",
    "Contínuas: 'RANTES_DESAPARECIDOS','TOTAL_MIGRANTES_MORTOS_DESAPARECIDOS','QTDE_SOBREVIVENTES','QTDE_MULHERES','QTDE_HOMENS','QTDE_CRIANCAS'\n",
    "\n",
    "Discretas: 'ANO_INCIDENTE', 'ANO_INCIDENTE',''ANO_INCIDENTE', REGIAO_INCIDENTE', MES_INCIDENTE'\n",
    ", HEMISFERIO"
   ]
  },
  {
   "cell_type": "markdown",
   "metadata": {},
   "source": [
    "### 2) **(15%)** Faça uma avaliação descritiva da sua base. Quantas linhas ela possui? Quais os tipos de dados? Quantas e quais features possuem?\n",
    "\n",
    "Cada variável escolhida pelo aluno precisa passar por ao menos 1 pré-processamento. O pré-processamento pode ser (mas não está limitado a):\n",
    "- Checagem se os valores estão dentro de um limite permitido ou razoável.\n",
    "- Tratamento de valores ausentes por eliminação ou substituição.\n",
    "- Conversão do tipo de dados.\n"
   ]
  },
  {
   "cell_type": "code",
   "execution_count": 1,
   "metadata": {},
   "outputs": [],
   "source": [
    "# Implemente sua análise aqui. Use mais blocos se achar que ficará mais organizado.\n",
    "import pandas as pd\n",
    "import matplotlib.pyplot as plt\n",
    "import random\n",
    "from sklearn.preprocessing import MinMaxScaler, StandardScaler\n",
    "from sklearn.decomposition import PCA\n",
    "import numpy as np\n",
    "from sklearn import preprocessing\n"
   ]
  },
  {
   "cell_type": "code",
   "execution_count": null,
   "metadata": {},
   "outputs": [],
   "source": [
    "#migrantes = pd.read_csv(\"projeto_1/missing-migrants/MissingMigrants-Global.csv\")\n",
    "migrantes = pd.read_csv(\"missing-migrants/MissingMigrants-Global.csv\")\n",
    "\"\"\"\n",
    "#para usar no colab nas salas de aula\n",
    "from google.colab import drive\n",
    "drive.mount('/content/drive', force_remount=True)\n",
    "arquivo_base = \"/content/drive/My Drive/MissingMigrants-Global.csv\"\n",
    "migrantes = pd.read_csv(arquivo_base)\n",
    "\"\"\""
   ]
  },
  {
   "cell_type": "code",
   "execution_count": null,
   "metadata": {},
   "outputs": [],
   "source": [
    "# Renomeando as features/colunas\n",
    "migrantes.columns = ['ID', 'REGIAO_INCIDENTE','DATA_INCIDENTE','ANO_INCIDENTE','MES_INCIDENTE','TOTAL_MIGRANTES_MORTOS','TOTAL_MIGRANTES_DESAPARECIDOS','TOTAL_MIGRANTES_MORTOS_DESAPARECIDOS','QTDE_SOBREVIVENTES','QTDE_MULHERES','QTDE_HOMENS','QTDE_CRIANCAS','CAUSA_MORTE','LOCAL_INCIDENTE','INFORMACOES_PESQUISA','COORDENADAS_LOCAL_INCIDENTE','ROTA_MIGRACAO','URL','GEOGRAFICO','QUALIDADE_PESQUISA']"
   ]
  },
  {
   "cell_type": "code",
   "execution_count": null,
   "metadata": {},
   "outputs": [],
   "source": [
    "migrantes.head(5) #visualização do dataset"
   ]
  },
  {
   "cell_type": "code",
   "execution_count": null,
   "metadata": {},
   "outputs": [],
   "source": [
    "migrantes.dtypes  #análise dos dados"
   ]
  },
  {
   "cell_type": "code",
   "execution_count": null,
   "metadata": {},
   "outputs": [],
   "source": [
    "migrantes.describe() #análise dos dados"
   ]
  },
  {
   "cell_type": "code",
   "execution_count": null,
   "metadata": {},
   "outputs": [],
   "source": [
    "A base possui 5333 registros e 20 features.\n",
    "\n",
    "Os registros são do tipo:\n",
    "Inteiro: ID, ANO_INCIDENTE, TOTAL_MIGRANTES_MORTOS_DESAPARECIDOS, QUALIDADE_PESQUISA\n",
    "Object: REGIAO_INCIDENTE, DATA_INCIDENTE, MES_INCIDENTE, CAUSA_MORTE, LOCAL_INCIDENTE, INFORMACOES_PESQUISA, COORDENADAS_LOCAL_INCIDENTE,  ROTA_MIGRACAO, URL, GEOGRAFICO\n",
    "Float: TOTAL_MIGRANTES_MORTOS, TOTAL_MIGRANTES_DESAPARECIDOS, QTDE_SOBREVIVENTES, QTDE_MULHERES, QTDE_HOMENS, QTDE_CRIANCAS"
   ]
  },
  {
   "cell_type": "code",
   "execution_count": null,
   "metadata": {},
   "outputs": [],
   "source": [
    "# Percentual das features que não possuem valor (dados faltantes):\n",
    "(migrantes.isnull().sum() / migrantes.shape[0]).sort_values(ascending=False)"
   ]
  },
  {
   "cell_type": "code",
   "execution_count": null,
   "metadata": {},
   "outputs": [],
   "source": [
    "#Eliminação das colunas que não são de interesse: ID, INFORMACOES_PESQUISA, COORDENADAS_LOCAL_INCIDENTE, URL, QUALIDADE_PESQUISA, DATA_INCIDENTE.\n",
    "migrantes.drop(['ID','INFORMACOES_PESQUISA','COORDENADAS_LOCAL_INCIDENTE','URL','QUALIDADE_PESQUISA','DATA_INCIDENTE'],axis = 1, inplace = True)"
   ]
  },
  {
   "cell_type": "code",
   "execution_count": null,
   "metadata": {},
   "outputs": [],
   "source": [
    "# Checagem se os valores estão dentro de um limite permitido ou razoável.\n",
    "# Substituição dos dados ausentes/faltantes com 'zero' de algumas colunas que serão utilizadas na análise. \n",
    "\n",
    "migrantes['TOTAL_MIGRANTES_DESAPARECIDOS'].fillna(0, inplace=True)\n",
    "migrantes['QTDE_CRIANCAS'].fillna(0, inplace=True)\n",
    "migrantes['QTDE_SOBREVIVENTES'].fillna(0, inplace=True)\n",
    "migrantes['QTDE_MULHERES'].fillna(0, inplace=True)\n",
    "migrantes['QTDE_HOMENS'].fillna(0, inplace=True)\n",
    "migrantes['TOTAL_MIGRANTES_MORTOS'].fillna(0, inplace=True)\n",
    "\n",
    "# ver a porcentagem dos valores faltantes após preenchimento dos valores faltantes\n",
    "(migrantes.isnull().sum() / migrantes.shape[0]).sort_values(ascending=False)"
   ]
  },
  {
   "cell_type": "code",
   "execution_count": null,
   "metadata": {},
   "outputs": [],
   "source": [
    "migrantes.dtypes"
   ]
  },
  {
   "cell_type": "code",
   "execution_count": null,
   "metadata": {},
   "outputs": [],
   "source": [
    "# Conversão do tipo de dados.\n",
    "# A feature MES_INCIDENTE será convertida para inteiro.\n",
    "\n",
    "migrantes['MES_INCIDENTE'] = migrantes['MES_INCIDENTE'].map({\n",
    "    'Jan': 1, \n",
    "    'Feb': 2,\n",
    "    'Mar': 3, \n",
    "    'Apr': 4,\n",
    "    'May': 5,\n",
    "    'Jun': 6,\n",
    "    'Jul': 7,\n",
    "    'Aug': 8,\n",
    "    'Sep': 9,\n",
    "    'Out': 10,\n",
    "    'Nov': 11,\n",
    "    'Dec': 12})"
   ]
  },
  {
   "cell_type": "code",
   "execution_count": null,
   "metadata": {},
   "outputs": [],
   "source": [
    "# Criando a coluna HEMISFERIO\n",
    "migrantes['HEMISFERIO'] = migrantes['REGIAO_INCIDENTE'].map({\n",
    "    'Caribbean': 'NORTE',\n",
    "    'Central Asia': 'NORTE',\n",
    "    'East Asia': 'NORTE',\n",
    "    'Europe\tnorte': 'NORTE',\n",
    "    'Mediterranean': 'NORTE',\n",
    "    'Middle East': 'NORTE',\n",
    "    'Europe': 'NORTE',\n",
    "    'North Africa': 'NORTE',\n",
    "    'North America': 'NORTE',\n",
    "    'South Asia': 'NORTE',\n",
    "    'Southeast Asia': 'NORTE',\n",
    "    'Sub-Saharan Africa': 'NORTE',\n",
    "    'US-Mexico Border': 'NORTE',\n",
    "    'Central America': 'NORTE',\n",
    "    'Horn of Africa': 'SUL',\n",
    "    'South America': 'SUL'})"
   ]
  },
  {
   "cell_type": "code",
   "execution_count": null,
   "metadata": {},
   "outputs": [],
   "source": [
    "migrantes.head(30)"
   ]
  },
  {
   "cell_type": "markdown",
   "metadata": {},
   "source": [
    "### 4) **(60%)** Nos blocos seguintes construa análises que vão justificar suas conclusões."
   ]
  },
  {
   "cell_type": "markdown",
   "metadata": {},
   "source": [
    "#### 4.1) **(20%)** Análise 1 -  Distribuição dos valores para cada uma das variáveis\n",
    "- Exemplo para variável contínua: se o conjunto de dados possui a variável \"idade\". Quantos % possui a idade entre 0 e 30 anos? 31 a 59? 60+?\n",
    "\n",
    "- Exemplo para variável discreta: se o conjunto de dados possui a variável \"gênero\", quantos % do conjunto de dados é do sexo feminino, quantos % é masculino? Inclua outros gêneros se houver.\n"
   ]
  },
  {
   "cell_type": "code",
   "metadata": {},
   "outputs": [],
   "source": [
    "# Implemente sua análise aqui. Use mais blocos se achar que ficará mais organizado."
   ],
   "execution_count": null
  },
  {
   "cell_type": "code",
   "execution_count": null,
   "metadata": {},
   "outputs": [],
   "source": [
    "# variaveis discretas 'ANO_INCIDENTE'\n",
    "# A maior frequencia acontece no ano de 2018, 28%\n",
    "migrantes.ANO_INCIDENTE.value_counts(normalize=True)"
   ]
  },
  {
   "cell_type": "code",
   "execution_count": null,
   "metadata": {},
   "outputs": [],
   "source": [
    "# variaveis discretas REGIAO_INCIDENTE'\n",
    "# a região com a maior frequencia é US-Mexico Border, 25%, bem próximo ao Norte da Ágrica, 23%\n",
    "migrantes.REGIAO_INCIDENTE.value_counts(normalize=True)"
   ]
  },
  {
   "cell_type": "code",
   "execution_count": null,
   "metadata": {},
   "outputs": [],
   "source": [
    "# variaveis discretas MES_INCIDENTE'\n",
    "# A maior frequencia acontece no mês 6-Junho, 10,7%, seguido de perto pelo mês de 7-setembro, 10,5% \n",
    "\n",
    "migrantes.MES_INCIDENTE.value_counts(normalize=True)"
   ]
  },
  {
   "cell_type": "code",
   "execution_count": null,
   "metadata": {},
   "outputs": [],
   "source": [
    "# variaveis discretas ANO, está distribuída:\n",
    "# 2018 foi o ano com maior quantidade de incidentes, 28%.\n",
    "\n",
    "migrantes.ANO_INCIDENTE.value_counts(normalize=True)"
   ]
  },
  {
   "cell_type": "code",
   "execution_count": null,
   "metadata": {},
   "outputs": [],
   "source": [
    "# variaveis discretas HEMISFERIO, está distribuída:\n",
    "# O hemisfério norte aparece quase que na maioria dos registros, 95%.\n",
    "\n",
    "migrantes.HEMISFERIO.value_counts(normalize=True)"
   ]
  },
  {
   "cell_type": "code",
   "execution_count": null,
   "metadata": {},
   "outputs": [],
   "source": [
    "# Variável: TOTAL_MIGRANTES_MORTOS\n",
    "# observamos que em 61% dos incidentes, houve pelo menos `1` morto em 12%, houve 2 mortos\n",
    "migrantes.TOTAL_MIGRANTES_MORTOS.value_counts(normalize=True)"
   ]
  },
  {
   "cell_type": "code",
   "execution_count": null,
   "metadata": {},
   "outputs": [],
   "source": [
    "# Variável: TOTAL_MIGRANTES_DESAPARECIDOS\n",
    "# observamos que em 91% dos incidentes, houve pelo menos `0` desaparecidos e 1% houve 2 desaparecidos\n",
    "migrantes.TOTAL_MIGRANTES_DESAPARECIDOS.value_counts(normalize=True)"
   ]
  },
  {
   "cell_type": "code",
   "execution_count": null,
   "metadata": {},
   "outputs": [],
   "source": [
    "# Variável: TOTAL_MIGRANTES_MORTOS_DESAPARECIDOS\n",
    "# observamos que em 61% dos incidentes, houve pelo menos 1 migrante morto ou desaparecido e 12% houve 2 mortos e/ou desaparecidos\n",
    "migrantes.TOTAL_MIGRANTES_MORTOS_DESAPARECIDOS.value_counts(normalize=True)"
   ]
  },
  {
   "cell_type": "code",
   "execution_count": null,
   "metadata": {},
   "outputs": [],
   "source": [
    "# Variável: QTDE_MULHERES\n",
    "# observamos que na maiorias dos incidentes, `0` mulheres morreram e uma morreu em 11% dos incidentes\n",
    "migrantes.QTDE_MULHERES.value_counts(normalize=True)"
   ]
  },
  {
   "cell_type": "code",
   "execution_count": null,
   "metadata": {},
   "outputs": [],
   "source": [
    "# variavel: QTDE_HOMENS\n",
    "# observamos que na maiorias dos incidentes, `0` homens morreram e um morreu em 42% dos incidentes\n",
    "migrantes.QTDE_HOMENS.value_counts(normalize=True)"
   ]
  },
  {
   "cell_type": "code",
   "execution_count": null,
   "metadata": {},
   "outputs": [],
   "source": [
    "# Variável: QTDE_CRIANCAS\n",
    "# observamos que na maiorias dos incidentes, `0` criancas morreram e um morreu em 0.8% dos incidentes\n",
    "migrantes.QTDE_CRIANCAS.value_counts(normalize=True)\n"
   ]
  },
  {
   "cell_type": "markdown",
   "metadata": {},
   "source": [
    "#### 4.2) **(20%)** Análise 2 - Dependência entre variáveis\n",
    "O aluno deve apresentar as mesmas distribuições para cada valor da variável dependente. Exemplo: Em um conjunto de dados em que as variáveis independentes são idade e sexo, e a variável dependente é renda. O aluno pode dividir a renda em 3 \"grupos\", <1000 reais, entre 1000 e 10000 reais e >1000 reais. Para cada um desses grupos, é necessário apresentar a distribuição das variáveis \"idade\" e \"sexo\".\n"
   ]
  },
  {
   "cell_type": "code",
   "metadata": {},
   "outputs": [],
   "source": [
    "# Implemente sua análise aqui. Use mais blocos se achar que ficará mais organizado."
   ],
   "execution_count": null
  },
  {
   "cell_type": "code",
   "execution_count": null,
   "metadata": {},
   "outputs": [],
   "source": [
    "# Qual ano teve mais mortos ou desaparecidos?\n",
    "# A partir do gráfico abaixo, observamos que o ano com maior quantidade de mortos e/ou desaparecidos foi 2016.\n",
    "x = migrantes.groupby('ANO_INCIDENTE').sum()\n",
    "x = x.reset_index()\n",
    "\n",
    "plt.bar(x.ANO_INCIDENTE,x.TOTAL_MIGRANTES_MORTOS_DESAPARECIDOS,color='red')\n",
    "\n",
    "plt.xlabel(\"Ano\")\n",
    "plt.ylabel(\"Total de mortos e desaparecidos\")\n",
    "plt.title(\"Qtde de mortos e desaparecidos por ano\")"
   ]
  },
  {
   "cell_type": "code",
   "execution_count": null,
   "metadata": {},
   "outputs": [],
   "source": [
    "# Qual região teve mais migrantes mortos e desaparecidos?\n",
    "# A partir do gráfico abaixo, observamos que a região com maior mortos e/ou desaparecidos foi Mediterranean.\n",
    "\n",
    "x = migrantes.groupby('REGIAO_INCIDENTE').sum()\n",
    "x = x.reset_index()\n",
    "\n",
    "plt.xticks(rotation=90)\n",
    "plt.bar(x.REGIAO_INCIDENTE,x.TOTAL_MIGRANTES_MORTOS_DESAPARECIDOS,color='green')\n",
    "\n",
    "plt.xlabel(\"Região\")\n",
    "plt.ylabel(\"Total de mortos e desaparecidos\")\n",
    "plt.title(\"Mortos e desaparecidos por região\")\n"
   ]
  },
  {
   "cell_type": "code",
   "execution_count": null,
   "metadata": {},
   "outputs": [],
   "source": [
    "# Houve mais mortes de homens, mulheres ou crianças? \n",
    "# A partir do gráfico abaixo, observamos que morreram mais homens, seguindo das mulheres e crianças. Devido, principalmente, pelo fato de mulheres e crianças terem preferência de sobrevivência\n",
    "\n",
    "x = migrantes.groupby('ANO_INCIDENTE').sum()\n",
    "x = x.reset_index()\n",
    "\n",
    "labels = ['Homens','Mulheres','Criancas']\n",
    "sizes = [sum(x.QTDE_HOMENS),sum(x.QTDE_MULHERES),sum(x.QTDE_CRIANCAS)]\n",
    "\n",
    "fig1, ax1 = plt.subplots()\n",
    "\n",
    "ax1.pie(sizes, labels = labels, autopct='%1.1f%%', shadow=True, startangle=90)\n",
    "ax1.axis('equal')\n",
    "plt.title(\"Percentual de mortos por tipo\")\n",
    "plt.show()"
   ]
  },
  {
   "cell_type": "code",
   "execution_count": null,
   "metadata": {},
   "outputs": [],
   "source": [
    "# Houve mais mortos ou desaparecidos?\n",
    "# De acordo com o grafico, houve mais mortos no mediterrâneo e mais desaparecidos no sudeste da Ásia\n",
    "\n",
    "plt.xticks(rotation=90)\n",
    "plt.bar(migrantes.REGIAO_INCIDENTE,migrantes.TOTAL_MIGRANTES_MORTOS,color='green', label='Mortos', alpha=0.5)\n",
    "plt.bar(migrantes.REGIAO_INCIDENTE,migrantes.TOTAL_MIGRANTES_DESAPARECIDOS,color='blue',label='Desaparecdos', alpha=0.5)\n",
    "\n",
    "plt.xlabel(\"Região\")\n",
    "plt.ylabel(\"Total de mortos e desaparecidos\")\n",
    "plt.title(\"Mortos e desaparecidos por região\")\n",
    "plt.legend()"
   ]
  },
  {
   "cell_type": "code",
   "execution_count": null,
   "metadata": {},
   "outputs": [],
   "source": [
    "# Total de mortos e desaparecidos por mes/ano\n",
    "# De acordo com o gráfico, abril de 2015 foi o mês/ano com mais mortos e desaparecidos, 1583.\n",
    "\n",
    "x = migrantes.groupby(['ANO_INCIDENTE','MES_INCIDENTE']).sum()\n",
    "#x = x.reset_index()\n",
    "#print (x)\n",
    "\n",
    "x['TOTAL_MIGRANTES_MORTOS_DESAPARECIDOS'].plot(kind = 'bar',color='purple', title='Mês/ano com maior incidente',grid=True, stacked=True)\n",
    "plt.xlabel(\"Mês/ano\")\n",
    "plt.ylabel(\"Total de fatalidade\")"
   ]
  },
  {
   "cell_type": "code",
   "execution_count": null,
   "metadata": {},
   "outputs": [],
   "source": [
    "# Total de fatalidades por região e mês\n",
    "# Confirmando a análise da região do Mediterraneo, com a maior quantidade de mortes e/ou desaparecidos, o mês de abril teve 2595 mortos e/ou desaparecidos\n",
    "\n",
    "x = migrantes.groupby(['REGIAO_INCIDENTE','MES_INCIDENTE']).sum()\n",
    "\n",
    "x['TOTAL_MIGRANTES_MORTOS_DESAPARECIDOS'].plot(kind = 'bar',color='green', title='Total de fatalidades por região e mês',grid=True, stacked=True)\n",
    "plt.xlabel(\"Região/mês\")\n",
    "plt.ylabel(\"Total de fatalidade\")"
   ]
  },
  {
   "cell_type": "code",
   "execution_count": null,
   "metadata": {},
   "outputs": [],
   "source": [
    "# Homens mortos e desaparecidos por região\n",
    "# Conforme visualizamos no gráfico abaixo, a maior parte dos incidentes com homens, aconteceu no Mediterrâneo\n",
    "\n",
    "x = migrantes.groupby(['REGIAO_INCIDENTE']).sum()\n",
    "\n",
    "x['QTDE_HOMENS'].plot(kind = 'bar',color='green', title='Total de fatalidades de homens por região',grid=True, stacked=True)\n",
    "plt.xlabel(\"Região\")\n",
    "plt.ylabel(\"Qtde de homens\")"
   ]
  },
  {
   "cell_type": "code",
   "execution_count": null,
   "metadata": {},
   "outputs": [],
   "source": [
    "# Mulheres mortas e desaparecidas por região\n",
    "# Conforme visualizamos no gráfico abaixo, a maior parte dos incidentes com mulheres, aconteceu no Mediterrâneo\n",
    "\n",
    "x = migrantes.groupby(['REGIAO_INCIDENTE']).sum()\n",
    "\n",
    "x['QTDE_MULHERES'].plot(kind = 'bar',color='green', title='Total de fatalidades de mulheres por região',grid=True, stacked=True)\n",
    "plt.xlabel(\"Região\")\n",
    "plt.ylabel(\"Qtde de crianças\")"
   ]
  },
  {
   "cell_type": "code",
   "execution_count": null,
   "metadata": {},
   "outputs": [],
   "source": [
    "# Crianças mortas e desaparecidas por região\n",
    "# Conforme visualizamos no gráfico abaixo, a maior parte dos incidentes com crianças, aconteceu no Mediterrâneo\n",
    "\n",
    "x = migrantes.groupby(['REGIAO_INCIDENTE']).sum()\n",
    "\n",
    "x['QTDE_CRIANCAS'].plot(kind = 'bar',color='green', title='Total de fatalidades de crianças por região',grid=True, stacked=True)\n",
    "plt.xlabel(\"Região\")\n",
    "plt.ylabel(\"Qtde de crianças\")"
   ]
  },
  {
   "cell_type": "code",
   "execution_count": null,
   "metadata": {},
   "outputs": [],
   "source": [
    "# Total de fatalidades por hemifério e mês\n",
    "# Confirmando a análise da região do Mediterraneo, com a maior quantidade de mortes e/ou desaparecidos, o mês de abril teve 2595 mortos e/ou desaparecidos\n",
    "\n",
    "x = migrantes.groupby(['HEMISFERIO','MES_INCIDENTE']).sum()\n",
    "\n",
    "x['TOTAL_MIGRANTES_MORTOS_DESAPARECIDOS'].plot(kind = 'bar',color='green', title='Total de fatalidades por região e mês',grid=True, stacked=True)\n",
    "plt.xlabel(\"Hemisfério/mês\")\n",
    "plt.ylabel(\"Fatalidade\")"
   ]
  },
  {
   "cell_type": "code",
   "execution_count": null,
   "metadata": {},
   "outputs": [],
   "source": [
    "# Mortos e desaparecidos por hemisfério\n",
    "# Conforme visualizamos o gráfico abaixo, quase todos os mortos e desaparecidos estão no hemisfério norte\n",
    "\n",
    "x = migrantes.groupby(['HEMISFERIO']).sum()\n",
    "\n",
    "x['TOTAL_MIGRANTES_MORTOS_DESAPARECIDOS'].plot(kind = 'bar',color='green', title='Total de fatalidades por hemisfério',grid=True, stacked=True)\n",
    "plt.xlabel(\"Hemisfério\")\n",
    "plt.ylabel(\"Total de fatalidade\")"
   ]
  },
  {
   "cell_type": "markdown",
   "metadata": {},
   "source": [
    "#### 4.3) **(20%)** Análise 3 - Correlação entre variáveis\n",
    "\n",
    "O aluno deve apresentar 3 análises de correlação entre variáveis do conjunto de dados trabalhado. Exemplo: Em um conjunto de dados com as informações de temperatura e ocorrência de incêndios, eu gostaria de saber a incidência de correlação entre as duas variáveis.\n",
    "\n"
   ]
  },
  {
   "cell_type": "code",
   "metadata": {},
   "outputs": [],
   "source": [
    "# Primeiro par de variáveis: Implemente sua análise aqui. Use mais blocos se achar que ficará mais organizado.\n",
    "Observamos que a maior da imigrações ocorreram no hemisfério norte, onde se concentra grande parte dos mortos e desaparecidos.\n"
   ],
   "execution_count": null
  },
  {
   "cell_type": "code",
   "metadata": {},
   "outputs": [],
   "source": [
    "# Segundo par de variáveis: Implemente sua análise aqui. Use mais blocos se achar que ficará mais organizado.\n",
    "É no Mediterrâneo, que fica no hemisfério norte, que ocorreu a maior parte das mortes, sendo a maioria de homens, devido principalmente a prioridade de mulheres e crianças em acidentes.\n",
    "A maioria dos mortos é de imigrantes ilegais, ocorridas entre 2014 e 2016. Boa parte de Sírios, tentando fugir da crise na região. A travessia era feita em embarcações precárias, super lotadas e sem equipamentos de segurança. "
   ],
   "execution_count": null
  },
  {
   "cell_type": "code",
   "metadata": {},
   "outputs": [],
   "source": [
    "# Terceiro par de variáveis: Implemente sua análise aqui. Use mais blocos se achar que ficará mais organizado.\n",
    "A maior parte das fatalidades ocorreu entre os meses de abril a setembro, época de chuvas no hemisfério norte. "
   ],
   "execution_count": null
  },
  {
   "cell_type": "markdown",
   "metadata": {},
   "source": [
    "### 5) Conclusões **15%**"
   ]
  },
  {
   "cell_type": "markdown",
   "metadata": {},
   "source": [
    "*O que é possível concluir com os dados que você analisou? Se fosse fazer uma apresentação, o que levaria como os maiores destaques e por que?*\n",
    "\n",
    "A maioria das fatalidades que acontecem no mundo, são no hemisfério norte, quando os imigrantes tentavam entrar na europa, através do mediterrâneo, durante a época de chuva. Sabemos que quando há crises internas graves em qualquer país, muitas pessoas tentam migrar para outros país, poranto, as autoridades dos paises vizinhos, devem redobrar a atenção, seja através do mar ou por terra, evitando acidentes e mortes.\n",
    "Observamos que em 61% dos incidentes, houve pelo menos 1 migrante morto ou desaparecido e 12% houve 2 mortos e/ou desaparecidos"
   ]
  },
  {
   "cell_type": "markdown",
   "metadata": {},
   "source": []
  }
 ],
 "metadata": {
  "file_extension": ".py",
  "kernelspec": {
   "display_name": "Python 3",
   "language": "python",
   "name": "python3"
  },
  "language_info": {
   "codemirror_mode": {
    "name": "ipython",
    "version": 3
   },
   "file_extension": ".py",
   "mimetype": "text/x-python",
   "name": "python",
   "nbconvert_exporter": "python",
   "pygments_lexer": "ipython3",
   "version": "3.7.0-final"
  },
  "mimetype": "text/x-python",
  "name": "python",
  "npconvert_exporter": "python",
  "pygments_lexer": "ipython3",
  "version": 3
 },
 "nbformat": 4,
 "nbformat_minor": 2
}