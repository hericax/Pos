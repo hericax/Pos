{
  "nbformat": 4,
  "nbformat_minor": 0,
  "metadata": {
    "colab": {
      "name": "projeto4_NLP.ipynb",
      "provenance": [],
      "collapsed_sections": [
        "rxLYuJ3IjFdk",
        "xVos9YWln6m7",
        "ChyLl7bN3lf8",
        "cW0pRDlyX1ad",
        "nHUiE75CpZ7b",
        "7QLDjXjQX1af",
        "1HnO3-KvRfla",
        "btkxgpIxwbiW",
        "Vf8N3SPsX1aj",
        "cteS1B3XX1al"
      ]
    },
    "kernelspec": {
      "display_name": "Python 3",
      "language": "python",
      "name": "python3"
    }
  },
  "cells": [
    {
      "cell_type": "markdown",
      "metadata": {
        "id": "rxLYuJ3IjFdk"
      },
      "source": [
        "# **Descrição do projeto do Módulo de NLP**"
      ]
    },
    {
      "cell_type": "markdown",
      "metadata": {
        "id": "0r5BTBhKibMm"
      },
      "source": [
        "\r\n",
        "No projeto do módulo de NLP vamos tentar resolver um problema de classificação de textos. Você escolherá um de três datasets cujo objetivo é classificar em um conjunto de classes. Você deverá utilizar três metodologias ensinadas em nossas aulas para poder classificar esses textos. A seguir, mais detalhes do projeto para que você possa resolver.\r\n",
        "\r\n",
        "\r\n",
        "Os produtos finais deste projeto será um Notebook Python. As seções seguintes detalham como você deve proceder para gerar o código e a última seção deve especificar a estrutura que seu notebook deve seguir.\r\n",
        "\r\n",
        "## 1. Dados\r\n",
        "Você poderá escolher três tarefas para resolver no projeto. A seguir existe a breve descrição de cada tarefa e um link para onde você poderá baixar os dados. \r\n",
        "\r\n",
        "O corpus UTL é um corpus com críticas de filmes e apps coletadas automaticamente de sites. As classes são: positiva ou negativa. Assim o usuário pode ter gostado ou não gostado do produto. Referência: https://github.com/RogerFig/UTLCorpus \r\n",
        "O corpus UOL AES-PT é um corpus de redações no estilo do ENEM. Cada redação possui um tópico e um conjunto de redações relacionadas. Nesse corpus, existem vários tópicos e suas respectivas redações. O objetivo é predizer a nota final de cada redação de acordo com o grupo de notas 0, 200, 400, 600, 800 e 1000. Para mais informações e download dos dados, acesse o link: https://github.com/evelinamorim/aes-pt .\r\n",
        "O corpus TweetSentBr é um corpus em português de tweets. Cada tweet está rotulado com uma das classes: positivo, negativo e neutro. Para mais informações e download do corpus, acesse o link https://bitbucket.org/HBrum/tweetsentbr/src/master/ .\r\n",
        "\r\n",
        "## 2. Representação\r\n",
        "Vimos durante a nossa aula diversas forma de representar um documento de texto. Você vai usar cada uma dessas representações e compará-las. A seguir temos a listagem das representações que devem ser usadas para representar seu texto.\r\n",
        "Representação TF-IDF. Você pode usar tanto o gensim quanto o scikit para montar esta representação, mas lembre-se que é importante fazer o pré-processamento dos textos.\r\n",
        "Representação com o word2vec. O modelo poderá ser o apresentado na aula 03 ou algum outro modelo pré-treinado como os existentes no repositório http://nilc.icmc.usp.br/nilc/index.php/repositorio-de-word-embeddings-do-nilc . Neste caso, cada documento deverá ser representado pelo vetor que resultar da média dos vetores de todas as palavras que o compõem. Em outras palavras, se D é composto pelas palavras w1, w2, …, wn, e seus vetores embeddings são v1, v2, …, vn, então a representação do documento de D será v = (v1 + v2 + … + vn) / n. \r\n",
        "Extração de features do texto. Você deve pensar em ao menos 10 features para extrair do documento e que o possam representar. Aqui vão algumas sugestões: número de palavras, número de verbos, número de conjunções, número de palavras negativas, número de palavras fora do vocabulário, quantidades de entidades do tipo PESSOA, quantidade de entidades do tipo LOCAL, etc.\r\n",
        "\r\n",
        "Lembrando que você deve dividir seu conjunto em treino e teste. No TF-IDF, você só pode aplicar o método fit no conjunto de treino. Uma sugestão é dividir 80% do conjunto de dados para treino e 20% para teste. Essa divisão é aleatória, mas você pode usar o método train_test_split para essa divisão. O exemplo a seguir mostra como usar esse método:\r\n",
        "\r\n",
        "from sklearn.model_selection import train_test_split\r\n",
        "\r\n",
        "\r\n",
        " X_train, X_test, y_train, y_test = train_test_split(\r\n",
        "...    X, y, test_size=0.20, random_state=42)\r\n",
        "\r\n",
        "## 3. Visualização dos dados\r\n",
        "\r\n",
        "Também vimos que embora o nosso texto apresente dimensionalidade maior que 2D, é possível visualizar em apenas duas dimensões usando técnicas de redução de dimensionalidade. Vimos duas técnicas de redução de dimensionalidade, o PCA e o t-SNE. Assim, pede-se que você utilize as duas técnicas para gerar uma visualização dos seus dados e considere as classes para colorir as instâncias. \r\n",
        "\r\n",
        "Sugere-se utilizar a biblioteca yellowbrick para gerar as visualizações, devido sua simplicidade. Mas caso tenha interesse em gerar visualizações mais interativas e mais bonitas, você pode utilizar a biblioteca seaborn. Para uma galeria dos gráficos que o seaborn é capaz de fazer, acesse o link https://seaborn.pydata.org/examples/index.html . Apenas acrescentando em seu código import seaborn as sns; sns.set() , também é possível deixar o gráfico com cores mais bonitas. Todas essas bibliotecas precisam do matplotlib, que já está importado no exemplo da aula.\r\n",
        "\r\n",
        "Aqui você deve fazer a visualização apenas do seu conjunto de treino.\r\n",
        "## 4. Classificadores\r\n",
        "\r\n",
        "Escolha dois classificadores que você possua mais familiaridade no scikit-learn para poder classificar os seus dados. Você deve executar cada um dos classificadores nas três representações escolhidas. \r\n",
        "\r\n",
        "Você pode usar o k-nn como um dos métodos. Outros métodos estão disponíveis no scikit, como por exemplo o SVM e o RandomForest.\r\n",
        "\r\n",
        "## 5. Métricas de avaliação\r\n",
        "\r\n",
        "Para os corpus TweetSentBR e UTL, pede-se que se use a matriz de confusão, a precisão, o recall e o f-1 para reportar a acurácia dos seus classificadores. No caso do corpus UOL AES-PT pede-se que se use o erro médio apenas.\r\n",
        "\r\n"
      ]
    },
    {
      "cell_type": "markdown",
      "metadata": {
        "id": "0myAsoSHid2I"
      },
      "source": [
        ""
      ]
    },
    {
      "cell_type": "markdown",
      "metadata": {
        "id": "bYYabv8fjWif"
      },
      "source": [
        "# Estrutura"
      ]
    },
    {
      "cell_type": "markdown",
      "metadata": {
        "id": "ynv0u9vojj9D"
      },
      "source": [
        "Estrutura do Notebook\r\n",
        "\r\n",
        "O seu notebook deve ser dividido por seções que possuam  uma célula do tipo Markdown. Nesta célula deve ter o título da seção antecedida por um marcador do tipo #. O título de cada seção deverá ser como a lista abaixo. Além do título, é possível que a seção demande a descrição de resultados ou outro tipo de texto. Nestes casos, coloque o texto junto à célula do título. Se houver código solicitado para a seção, então as células restantes devem ser de código solicitado.  \r\n",
        "O relatório deve ser organizado nas seguintes seções:\r\n",
        "\r\n",
        "\r\n",
        "\r\n",
        "\r\n",
        "\r\n",
        "1.   Tarefa e Dados\r\n",
        "\r\n",
        "2.   Classificadores\r\n",
        "\r\n",
        "3.   Resultados\r\n",
        "\r\n",
        "4.   Resultados\r\n"
      ]
    },
    {
      "cell_type": "markdown",
      "metadata": {
        "id": "xVos9YWln6m7"
      },
      "source": [
        "## 1 - Tarefa e Dados: \r\n",
        "Descreva a tarefa escolhida e os dados. Escreva código que leia os dados e calcule e imprima quantas instâncias os dados têm. Também, seu código deve calcular a média de tokens por instância, isto é, quantos tokens, na média cada documento do seu conjunto de dados possui. Imprima esse único número.\r\n",
        "\r\n",
        "Você poderá escolher três tarefas para resolver no projeto. A seguir existe a breve descrição de cada tarefa e um link para onde você poderá baixar os dados.\r\n",
        "\r\n",
        "O corpus UTL é um corpus com críticas de filmes e apps coletadas automaticamente de sites. As classes são: positiva ou negativa. Assim o usuário pode ter gostado ou não gostado do produto. Referência: https://github.com/RogerFig/UTLCorpus.\r\n",
        "\r\n",
        "O corpus UOL AES-PT é um corpus de redações no estilo do ENEM. Cada redação possui um tópico e um conjunto de redações relacionadas. Nesse corpus, existem vários tópicos e suas respectivas redações. O objetivo é predizer a nota final de cada redação de acordo com o grupo de notas 0, 200, 400, 600, 800 e 1000. Para mais informações e download dos dados, acesse o link: https://github.com/evelinamorim/aes-pt.\r\n",
        "\r\n",
        "O corpus TweetSentBr é um corpus em português de tweets. Cada tweet está rotulado com uma das classes: positivo, negativo e neutro. Para mais informações e download do corpus, acesse o link https://bitbucket.org/HBrum/tweetsentbr/src/master/."
      ]
    },
    {
      "cell_type": "markdown",
      "metadata": {
        "id": "gRmPygTVlXTG"
      },
      "source": [
        "A base escolhido é a do corpus UTL é um corpus com críticas de filmes e apps coletadas automaticamente de sites. As classes são: positiva ou negativa. Assim o usuário pode ter gostado ou não gostado do produto. Referência: https://github.com/RogerFig/UTLCorpus."
      ]
    },
    {
      "cell_type": "markdown",
      "metadata": {
        "id": "AD5iPWAJX1aX"
      },
      "source": [
        "## Importanto as bibliotecas necessárias"
      ]
    },
    {
      "cell_type": "code",
      "metadata": {
        "colab": {
          "base_uri": "https://localhost:8080/"
        },
        "id": "sMEXm13uX54E",
        "outputId": "b72d5e03-5fb3-4edf-bea6-b7adb008777c"
      },
      "source": [
        "### # montando o drive do google onde o corpus se encontra\r\n",
        "from google.colab import drive\r\n",
        "drive.mount('/content/drive')\r\n",
        "\r\n",
        "### Entrando no diretório\r\n",
        "%cd drive/MyDrive/Colab Notebooks/NLP/trabalho"
      ],
      "execution_count": 33,
      "outputs": [
        {
          "output_type": "stream",
          "text": [
            "Drive already mounted at /content/drive; to attempt to forcibly remount, call drive.mount(\"/content/drive\", force_remount=True).\n",
            "[Errno 2] No such file or directory: 'drive/MyDrive/Colab Notebooks/NLP/trabalho'\n",
            "/content/drive/MyDrive/Colab Notebooks/NLP/trabalho\n"
          ],
          "name": "stdout"
        }
      ]
    },
    {
      "cell_type": "code",
      "metadata": {
        "colab": {
          "base_uri": "https://localhost:8080/"
        },
        "id": "xizqZPgGX1aX",
        "outputId": "54e44359-de9f-4ec1-8d6e-a6b7561e9002"
      },
      "source": [
        "import nltk\n",
        "nltk.download('punkt')\n",
        "\n",
        "%matplotlib inline\n",
        "#nltk.download('punkt')\n",
        "nltk.download('stopwords')\n",
        "#nltk.download('wordnet')"
      ],
      "execution_count": 34,
      "outputs": [
        {
          "output_type": "stream",
          "text": [
            "[nltk_data] Downloading package punkt to /root/nltk_data...\n",
            "[nltk_data]   Package punkt is already up-to-date!\n",
            "[nltk_data] Downloading package stopwords to /root/nltk_data...\n",
            "[nltk_data]   Package stopwords is already up-to-date!\n"
          ],
          "name": "stdout"
        },
        {
          "output_type": "execute_result",
          "data": {
            "text/plain": [
              "True"
            ]
          },
          "metadata": {
            "tags": []
          },
          "execution_count": 34
        }
      ]
    },
    {
      "cell_type": "code",
      "metadata": {
        "id": "X9Tkls2bX1aa"
      },
      "source": [
        "import pandas as pd\n",
        "import numpy as np\n",
        "\n",
        "import time # usado para calcular o tempo de processamento de algumas partes do código\n",
        "import string # usado para concatenar string no stop words\n",
        "\n",
        "\n",
        "from nltk.tokenize import word_tokenize\n",
        "\n",
        "# REPRESENTAÇÕES\n",
        "from gensim.models import Word2Vec\n",
        "from gensim.models import TfidfModel\n",
        "from gensim.corpora import Dictionary # para uso do TF-IDF\n",
        "from gensim import corpora\n"
      ],
      "execution_count": 35,
      "outputs": []
    },
    {
      "cell_type": "markdown",
      "metadata": {
        "id": "r8cDe6KMX1aa"
      },
      "source": [
        "## Abrindo o arquivo"
      ]
    },
    {
      "cell_type": "code",
      "metadata": {
        "colab": {
          "base_uri": "https://localhost:8080/",
          "height": 261
        },
        "id": "aDWnK_yiZgu8",
        "outputId": "4c1bddb8-0de0-48ec-9c0e-e656e9cc367e"
      },
      "source": [
        "# abrindo o arquivo no colab\r\n",
        "df_util = pd.read_csv('/content/drive/MyDrive/Colab Notebooks/NLP/trabalho/dados/UTLCorpus.csv')\r\n",
        "df_util.head(3)"
      ],
      "execution_count": 36,
      "outputs": [
        {
          "output_type": "execute_result",
          "data": {
            "text/html": [
              "<div>\n",
              "<style scoped>\n",
              "    .dataframe tbody tr th:only-of-type {\n",
              "        vertical-align: middle;\n",
              "    }\n",
              "\n",
              "    .dataframe tbody tr th {\n",
              "        vertical-align: top;\n",
              "    }\n",
              "\n",
              "    .dataframe thead th {\n",
              "        text-align: right;\n",
              "    }\n",
              "</style>\n",
              "<table border=\"1\" class=\"dataframe\">\n",
              "  <thead>\n",
              "    <tr style=\"text-align: right;\">\n",
              "      <th></th>\n",
              "      <th>Unnamed: 0</th>\n",
              "      <th>domain</th>\n",
              "      <th>object</th>\n",
              "      <th>author</th>\n",
              "      <th>text</th>\n",
              "      <th>likes</th>\n",
              "      <th>unlikes</th>\n",
              "      <th>stars</th>\n",
              "      <th>date</th>\n",
              "      <th>collect_date</th>\n",
              "      <th>replies</th>\n",
              "      <th>favorite</th>\n",
              "      <th>want_see</th>\n",
              "      <th>recommend</th>\n",
              "      <th>see</th>\n",
              "      <th>internal_id</th>\n",
              "    </tr>\n",
              "  </thead>\n",
              "  <tbody>\n",
              "    <tr>\n",
              "      <th>0</th>\n",
              "      <td>0</td>\n",
              "      <td>movies</td>\n",
              "      <td>007-cassino-royale-t23</td>\n",
              "      <td>0</td>\n",
              "      <td>Um dos melhores do 007</td>\n",
              "      <td>0</td>\n",
              "      <td>0</td>\n",
              "      <td>3.5</td>\n",
              "      <td>8 anos atrás</td>\n",
              "      <td>20-04-2019 06:20</td>\n",
              "      <td>0.0</td>\n",
              "      <td>0.0</td>\n",
              "      <td>0.0</td>\n",
              "      <td>NaN</td>\n",
              "      <td>1.0</td>\n",
              "      <td>0</td>\n",
              "    </tr>\n",
              "    <tr>\n",
              "      <th>1</th>\n",
              "      <td>1</td>\n",
              "      <td>movies</td>\n",
              "      <td>007-cassino-royale-t23</td>\n",
              "      <td>1</td>\n",
              "      <td>assisti só pela metade..do meio ao fim, o film...</td>\n",
              "      <td>0</td>\n",
              "      <td>0</td>\n",
              "      <td>4.0</td>\n",
              "      <td>8 anos atrás</td>\n",
              "      <td>20-04-2019 06:20</td>\n",
              "      <td>0.0</td>\n",
              "      <td>0.0</td>\n",
              "      <td>0.0</td>\n",
              "      <td>NaN</td>\n",
              "      <td>1.0</td>\n",
              "      <td>1</td>\n",
              "    </tr>\n",
              "    <tr>\n",
              "      <th>2</th>\n",
              "      <td>2</td>\n",
              "      <td>movies</td>\n",
              "      <td>007-cassino-royale-t23</td>\n",
              "      <td>2</td>\n",
              "      <td>foi um dos filmes mais violentos q já vi. mas ...</td>\n",
              "      <td>0</td>\n",
              "      <td>0</td>\n",
              "      <td>4.0</td>\n",
              "      <td>8 anos atrás</td>\n",
              "      <td>20-04-2019 06:20</td>\n",
              "      <td>0.0</td>\n",
              "      <td>0.0</td>\n",
              "      <td>0.0</td>\n",
              "      <td>NaN</td>\n",
              "      <td>1.0</td>\n",
              "      <td>2</td>\n",
              "    </tr>\n",
              "  </tbody>\n",
              "</table>\n",
              "</div>"
            ],
            "text/plain": [
              "   Unnamed: 0  domain                  object  ...  recommend  see  internal_id\n",
              "0           0  movies  007-cassino-royale-t23  ...        NaN  1.0            0\n",
              "1           1  movies  007-cassino-royale-t23  ...        NaN  1.0            1\n",
              "2           2  movies  007-cassino-royale-t23  ...        NaN  1.0            2\n",
              "\n",
              "[3 rows x 16 columns]"
            ]
          },
          "metadata": {
            "tags": []
          },
          "execution_count": 36
        }
      ]
    },
    {
      "cell_type": "code",
      "metadata": {
        "id": "Zg6ztZNiX1ab"
      },
      "source": [
        "# abrindo o arquivo localmente\n",
        "# df_util = pd.read_csv(r'C:\\Users\\Herica\\Documents\\Herica\\Pos\\GitHub\\base\\NLP\\UTLCorpus.csv')\n",
        "# df_util.head(3)"
      ],
      "execution_count": 37,
      "outputs": []
    },
    {
      "cell_type": "code",
      "metadata": {
        "colab": {
          "base_uri": "https://localhost:8080/",
          "height": 297
        },
        "id": "AC5-W0JxF2ur",
        "outputId": "42adb660-6098-405a-f0d7-bb8c36e58167"
      },
      "source": [
        "df_util.describe()"
      ],
      "execution_count": 38,
      "outputs": [
        {
          "output_type": "execute_result",
          "data": {
            "text/html": [
              "<div>\n",
              "<style scoped>\n",
              "    .dataframe tbody tr th:only-of-type {\n",
              "        vertical-align: middle;\n",
              "    }\n",
              "\n",
              "    .dataframe tbody tr th {\n",
              "        vertical-align: top;\n",
              "    }\n",
              "\n",
              "    .dataframe thead th {\n",
              "        text-align: right;\n",
              "    }\n",
              "</style>\n",
              "<table border=\"1\" class=\"dataframe\">\n",
              "  <thead>\n",
              "    <tr style=\"text-align: right;\">\n",
              "      <th></th>\n",
              "      <th>Unnamed: 0</th>\n",
              "      <th>author</th>\n",
              "      <th>likes</th>\n",
              "      <th>unlikes</th>\n",
              "      <th>stars</th>\n",
              "      <th>replies</th>\n",
              "      <th>favorite</th>\n",
              "      <th>want_see</th>\n",
              "      <th>recommend</th>\n",
              "      <th>see</th>\n",
              "      <th>internal_id</th>\n",
              "    </tr>\n",
              "  </thead>\n",
              "  <tbody>\n",
              "    <tr>\n",
              "      <th>count</th>\n",
              "      <td>2.881589e+06</td>\n",
              "      <td>2.881589e+06</td>\n",
              "      <td>2.881589e+06</td>\n",
              "      <td>2881589.0</td>\n",
              "      <td>2.881589e+06</td>\n",
              "      <td>1.839851e+06</td>\n",
              "      <td>1.839851e+06</td>\n",
              "      <td>1.839851e+06</td>\n",
              "      <td>0.0</td>\n",
              "      <td>1.839851e+06</td>\n",
              "      <td>2.881589e+06</td>\n",
              "    </tr>\n",
              "    <tr>\n",
              "      <th>mean</th>\n",
              "      <td>1.440794e+06</td>\n",
              "      <td>7.084866e+04</td>\n",
              "      <td>3.275024e+00</td>\n",
              "      <td>0.0</td>\n",
              "      <td>3.542358e+00</td>\n",
              "      <td>1.717813e-01</td>\n",
              "      <td>2.504051e-01</td>\n",
              "      <td>1.329238e-02</td>\n",
              "      <td>NaN</td>\n",
              "      <td>9.630774e-01</td>\n",
              "      <td>7.756600e+05</td>\n",
              "    </tr>\n",
              "    <tr>\n",
              "      <th>std</th>\n",
              "      <td>8.318432e+05</td>\n",
              "      <td>1.237974e+05</td>\n",
              "      <td>5.198818e+01</td>\n",
              "      <td>0.0</td>\n",
              "      <td>1.737904e+00</td>\n",
              "      <td>7.363074e-01</td>\n",
              "      <td>4.332464e-01</td>\n",
              "      <td>1.145238e-01</td>\n",
              "      <td>NaN</td>\n",
              "      <td>1.885717e-01</td>\n",
              "      <td>4.995596e+05</td>\n",
              "    </tr>\n",
              "    <tr>\n",
              "      <th>min</th>\n",
              "      <td>0.000000e+00</td>\n",
              "      <td>0.000000e+00</td>\n",
              "      <td>0.000000e+00</td>\n",
              "      <td>0.0</td>\n",
              "      <td>0.000000e+00</td>\n",
              "      <td>0.000000e+00</td>\n",
              "      <td>0.000000e+00</td>\n",
              "      <td>0.000000e+00</td>\n",
              "      <td>NaN</td>\n",
              "      <td>0.000000e+00</td>\n",
              "      <td>0.000000e+00</td>\n",
              "    </tr>\n",
              "    <tr>\n",
              "      <th>25%</th>\n",
              "      <td>7.203970e+05</td>\n",
              "      <td>3.917000e+03</td>\n",
              "      <td>0.000000e+00</td>\n",
              "      <td>0.0</td>\n",
              "      <td>3.000000e+00</td>\n",
              "      <td>0.000000e+00</td>\n",
              "      <td>0.000000e+00</td>\n",
              "      <td>0.000000e+00</td>\n",
              "      <td>NaN</td>\n",
              "      <td>1.000000e+00</td>\n",
              "      <td>3.601980e+05</td>\n",
              "    </tr>\n",
              "    <tr>\n",
              "      <th>50%</th>\n",
              "      <td>1.440794e+06</td>\n",
              "      <td>1.749000e+04</td>\n",
              "      <td>0.000000e+00</td>\n",
              "      <td>0.0</td>\n",
              "      <td>4.000000e+00</td>\n",
              "      <td>0.000000e+00</td>\n",
              "      <td>0.000000e+00</td>\n",
              "      <td>0.000000e+00</td>\n",
              "      <td>NaN</td>\n",
              "      <td>1.000000e+00</td>\n",
              "      <td>7.203970e+05</td>\n",
              "    </tr>\n",
              "    <tr>\n",
              "      <th>75%</th>\n",
              "      <td>2.161191e+06</td>\n",
              "      <td>5.939500e+04</td>\n",
              "      <td>2.000000e+00</td>\n",
              "      <td>0.0</td>\n",
              "      <td>5.000000e+00</td>\n",
              "      <td>0.000000e+00</td>\n",
              "      <td>1.000000e+00</td>\n",
              "      <td>0.000000e+00</td>\n",
              "      <td>NaN</td>\n",
              "      <td>1.000000e+00</td>\n",
              "      <td>1.119453e+06</td>\n",
              "    </tr>\n",
              "    <tr>\n",
              "      <th>max</th>\n",
              "      <td>2.881588e+06</td>\n",
              "      <td>5.410000e+05</td>\n",
              "      <td>2.014600e+04</td>\n",
              "      <td>0.0</td>\n",
              "      <td>5.000000e+00</td>\n",
              "      <td>1.420000e+02</td>\n",
              "      <td>1.000000e+00</td>\n",
              "      <td>1.000000e+00</td>\n",
              "      <td>NaN</td>\n",
              "      <td>1.000000e+00</td>\n",
              "      <td>1.839850e+06</td>\n",
              "    </tr>\n",
              "  </tbody>\n",
              "</table>\n",
              "</div>"
            ],
            "text/plain": [
              "         Unnamed: 0        author  ...           see   internal_id\n",
              "count  2.881589e+06  2.881589e+06  ...  1.839851e+06  2.881589e+06\n",
              "mean   1.440794e+06  7.084866e+04  ...  9.630774e-01  7.756600e+05\n",
              "std    8.318432e+05  1.237974e+05  ...  1.885717e-01  4.995596e+05\n",
              "min    0.000000e+00  0.000000e+00  ...  0.000000e+00  0.000000e+00\n",
              "25%    7.203970e+05  3.917000e+03  ...  1.000000e+00  3.601980e+05\n",
              "50%    1.440794e+06  1.749000e+04  ...  1.000000e+00  7.203970e+05\n",
              "75%    2.161191e+06  5.939500e+04  ...  1.000000e+00  1.119453e+06\n",
              "max    2.881588e+06  5.410000e+05  ...  1.000000e+00  1.839850e+06\n",
              "\n",
              "[8 rows x 11 columns]"
            ]
          },
          "metadata": {
            "tags": []
          },
          "execution_count": 38
        }
      ]
    },
    {
      "cell_type": "markdown",
      "metadata": {
        "id": "bDjKfg7ZX1ab"
      },
      "source": [
        "# Analisando os dados"
      ]
    },
    {
      "cell_type": "markdown",
      "metadata": {
        "id": "ChyLl7bN3lf8"
      },
      "source": [
        "## Escolhendo quais tipos de registros serão utilizados"
      ]
    },
    {
      "cell_type": "code",
      "metadata": {
        "colab": {
          "base_uri": "https://localhost:8080/"
        },
        "id": "ZzQYH6hFX1ac",
        "outputId": "94bc0f29-9689-4305-e6f6-adb53cae5b96"
      },
      "source": [
        "# Verificando quais os tipos da feature domain\n",
        "df_util.domain.unique()"
      ],
      "execution_count": 39,
      "outputs": [
        {
          "output_type": "execute_result",
          "data": {
            "text/plain": [
              "array(['movies', 'apps'], dtype=object)"
            ]
          },
          "metadata": {
            "tags": []
          },
          "execution_count": 39
        }
      ]
    },
    {
      "cell_type": "code",
      "metadata": {
        "id": "kBey34QFX1ac"
      },
      "source": [
        "qtde_moveis = len(df_util[df_util['domain'] == 'movies'])\n",
        "qtde_apps = len(df_util[df_util['domain'] == 'apps'])"
      ],
      "execution_count": 40,
      "outputs": []
    },
    {
      "cell_type": "code",
      "metadata": {
        "id": "zJT_WLv_X1ad"
      },
      "source": [
        "# Selecionando somente o registros do tipo movies\n",
        "df_movies = df_util[df_util['domain'] == 'movies']"
      ],
      "execution_count": 41,
      "outputs": []
    },
    {
      "cell_type": "markdown",
      "metadata": {
        "id": "cW0pRDlyX1ad"
      },
      "source": [
        "## Selecionando as features de interesse"
      ]
    },
    {
      "cell_type": "code",
      "metadata": {
        "colab": {
          "base_uri": "https://localhost:8080/",
          "height": 142
        },
        "id": "ApPfEhv_X1ae",
        "outputId": "206d8c97-f517-44c3-d753-0d14406ee3a7"
      },
      "source": [
        "df_movies = df_movies[['object', 'text', 'likes']]\n",
        "df_movies.head(3)"
      ],
      "execution_count": 42,
      "outputs": [
        {
          "output_type": "execute_result",
          "data": {
            "text/html": [
              "<div>\n",
              "<style scoped>\n",
              "    .dataframe tbody tr th:only-of-type {\n",
              "        vertical-align: middle;\n",
              "    }\n",
              "\n",
              "    .dataframe tbody tr th {\n",
              "        vertical-align: top;\n",
              "    }\n",
              "\n",
              "    .dataframe thead th {\n",
              "        text-align: right;\n",
              "    }\n",
              "</style>\n",
              "<table border=\"1\" class=\"dataframe\">\n",
              "  <thead>\n",
              "    <tr style=\"text-align: right;\">\n",
              "      <th></th>\n",
              "      <th>object</th>\n",
              "      <th>text</th>\n",
              "      <th>likes</th>\n",
              "    </tr>\n",
              "  </thead>\n",
              "  <tbody>\n",
              "    <tr>\n",
              "      <th>0</th>\n",
              "      <td>007-cassino-royale-t23</td>\n",
              "      <td>Um dos melhores do 007</td>\n",
              "      <td>0</td>\n",
              "    </tr>\n",
              "    <tr>\n",
              "      <th>1</th>\n",
              "      <td>007-cassino-royale-t23</td>\n",
              "      <td>assisti só pela metade..do meio ao fim, o film...</td>\n",
              "      <td>0</td>\n",
              "    </tr>\n",
              "    <tr>\n",
              "      <th>2</th>\n",
              "      <td>007-cassino-royale-t23</td>\n",
              "      <td>foi um dos filmes mais violentos q já vi. mas ...</td>\n",
              "      <td>0</td>\n",
              "    </tr>\n",
              "  </tbody>\n",
              "</table>\n",
              "</div>"
            ],
            "text/plain": [
              "                   object  ... likes\n",
              "0  007-cassino-royale-t23  ...     0\n",
              "1  007-cassino-royale-t23  ...     0\n",
              "2  007-cassino-royale-t23  ...     0\n",
              "\n",
              "[3 rows x 3 columns]"
            ]
          },
          "metadata": {
            "tags": []
          },
          "execution_count": 42
        }
      ]
    },
    {
      "cell_type": "markdown",
      "metadata": {
        "id": "t5wE53KyX1ae"
      },
      "source": [
        "DESCRIÇÃO DAS FEATURES QUE SERÃO UTILIZADAS NO TRABALHO\n",
        "\n",
        "object -> Nome do filme\n",
        "\n",
        "text -> avalianção dos filme feita pelos usuários"
      ]
    },
    {
      "cell_type": "code",
      "metadata": {
        "colab": {
          "base_uri": "https://localhost:8080/"
        },
        "collapsed": true,
        "id": "HevXuRfvX1ae",
        "outputId": "5641ec51-89c1-44b0-92b7-7a0884b24614"
      },
      "source": [
        "df_movies.columns"
      ],
      "execution_count": 43,
      "outputs": [
        {
          "output_type": "execute_result",
          "data": {
            "text/plain": [
              "Index(['object', 'text', 'likes'], dtype='object')"
            ]
          },
          "metadata": {
            "tags": []
          },
          "execution_count": 43
        }
      ]
    },
    {
      "cell_type": "code",
      "metadata": {
        "colab": {
          "base_uri": "https://localhost:8080/"
        },
        "id": "4KQDwIAgX1af",
        "outputId": "1a661733-d0ac-4789-c6a3-13f781d9ca55"
      },
      "source": [
        "# analisando a qtde de filmes avaliados\n",
        "df_movies['object'].value_counts()"
      ],
      "execution_count": 44,
      "outputs": [
        {
          "output_type": "execute_result",
          "data": {
            "text/plain": [
              "cisne-negro-t16349                               7839\n",
              "os-vingadores-t15324                             7059\n",
              "as-vantagens-de-ser-invisivel-t29850             6940\n",
              "batman-o-cavaleiro-das-trevas-ressurge-t19914    6413\n",
              "a-origem-t10852                                  5801\n",
              "                                                 ... \n",
              "the-fang-in-the-hole-t266142                        1\n",
              "halloween-com-a-nova-familia-addams-t109273         1\n",
              "wan-wan-chuushingura-t114161                        1\n",
              "amazonia-planeta-verde-t254080                      1\n",
              "silence-t207302                                     1\n",
              "Name: object, Length: 4203, dtype: int64"
            ]
          },
          "metadata": {
            "tags": []
          },
          "execution_count": 44
        }
      ]
    },
    {
      "cell_type": "code",
      "metadata": {
        "colab": {
          "base_uri": "https://localhost:8080/",
          "height": 142
        },
        "id": "6LF8hJPZ3H5O",
        "outputId": "8a034e69-4781-4389-f848-1ec899dbebb1"
      },
      "source": [
        "# convertendo as palavras do campo texto para lowcase\r\n",
        "df_movies['text_lower'] = df_movies['text'].astype('str').str.lower()\r\n",
        "df_movies[['text','text_lower']].head(3)"
      ],
      "execution_count": 45,
      "outputs": [
        {
          "output_type": "execute_result",
          "data": {
            "text/html": [
              "<div>\n",
              "<style scoped>\n",
              "    .dataframe tbody tr th:only-of-type {\n",
              "        vertical-align: middle;\n",
              "    }\n",
              "\n",
              "    .dataframe tbody tr th {\n",
              "        vertical-align: top;\n",
              "    }\n",
              "\n",
              "    .dataframe thead th {\n",
              "        text-align: right;\n",
              "    }\n",
              "</style>\n",
              "<table border=\"1\" class=\"dataframe\">\n",
              "  <thead>\n",
              "    <tr style=\"text-align: right;\">\n",
              "      <th></th>\n",
              "      <th>text</th>\n",
              "      <th>text_lower</th>\n",
              "    </tr>\n",
              "  </thead>\n",
              "  <tbody>\n",
              "    <tr>\n",
              "      <th>0</th>\n",
              "      <td>Um dos melhores do 007</td>\n",
              "      <td>um dos melhores do 007</td>\n",
              "    </tr>\n",
              "    <tr>\n",
              "      <th>1</th>\n",
              "      <td>assisti só pela metade..do meio ao fim, o film...</td>\n",
              "      <td>assisti só pela metade..do meio ao fim, o film...</td>\n",
              "    </tr>\n",
              "    <tr>\n",
              "      <th>2</th>\n",
              "      <td>foi um dos filmes mais violentos q já vi. mas ...</td>\n",
              "      <td>foi um dos filmes mais violentos q já vi. mas ...</td>\n",
              "    </tr>\n",
              "  </tbody>\n",
              "</table>\n",
              "</div>"
            ],
            "text/plain": [
              "                                                text                                         text_lower\n",
              "0                             Um dos melhores do 007                             um dos melhores do 007\n",
              "1  assisti só pela metade..do meio ao fim, o film...  assisti só pela metade..do meio ao fim, o film...\n",
              "2  foi um dos filmes mais violentos q já vi. mas ...  foi um dos filmes mais violentos q já vi. mas ..."
            ]
          },
          "metadata": {
            "tags": []
          },
          "execution_count": 45
        }
      ]
    },
    {
      "cell_type": "markdown",
      "metadata": {
        "id": "nHUiE75CpZ7b"
      },
      "source": [
        "## Definindo a classe que irá classificar a avaliação do filme\r\n"
      ]
    },
    {
      "cell_type": "code",
      "metadata": {
        "id": "bbD-SwjuoGfR"
      },
      "source": [
        "def define_classe(row):\r\n",
        "  var_like = row['likes']\r\n",
        "  if (var_like == 0):\r\n",
        "    return 0 # classe negativa\r\n",
        "  else:\r\n",
        "    return 1 # classe positiva"
      ],
      "execution_count": 46,
      "outputs": []
    },
    {
      "cell_type": "code",
      "metadata": {
        "colab": {
          "base_uri": "https://localhost:8080/"
        },
        "id": "UtmnWxEapiiC",
        "outputId": "bef2a9c3-bc0e-482f-f0e6-52e7aa78ffca"
      },
      "source": [
        "start = time.time()\r\n",
        "df_movies['classificacao'] = df_movies.apply(define_classe, axis=1)\r\n",
        "print (\"tempo gasto: \", (time.time() - start))"
      ],
      "execution_count": 47,
      "outputs": [
        {
          "output_type": "stream",
          "text": [
            "tempo gasto:  17.145544052124023\n"
          ],
          "name": "stdout"
        }
      ]
    },
    {
      "cell_type": "markdown",
      "metadata": {
        "id": "7QLDjXjQX1af"
      },
      "source": [
        "## Verificando e deletando registros nulos"
      ]
    },
    {
      "cell_type": "code",
      "metadata": {
        "colab": {
          "base_uri": "https://localhost:8080/"
        },
        "id": "jwV-0Ry3X1ag",
        "outputId": "9577a70a-7865-4907-dcc8-a7fd10ad76ea"
      },
      "source": [
        "df_movies.isnull().sum()"
      ],
      "execution_count": 48,
      "outputs": [
        {
          "output_type": "execute_result",
          "data": {
            "text/plain": [
              "object             0\n",
              "text             956\n",
              "likes              0\n",
              "text_lower         0\n",
              "classificacao      0\n",
              "dtype: int64"
            ]
          },
          "metadata": {
            "tags": []
          },
          "execution_count": 48
        }
      ]
    },
    {
      "cell_type": "code",
      "metadata": {
        "colab": {
          "base_uri": "https://localhost:8080/"
        },
        "id": "0rVXhpQWX1ag",
        "outputId": "7c80d6fb-d2fa-4433-a32a-0035ea35d0ad"
      },
      "source": [
        "# deletando os registros nulos\n",
        "qtde_anterior_nulos = df_movies.shape[0]\n",
        "df_movies.dropna(subset=['text'], inplace = True)\n",
        "qtde_pos_exclusao_nulos = df_movies.shape[0]\n",
        "\n",
        "print (\"Antes:\", qtde_anterior_nulos, 'Depois:', qtde_pos_exclusao_nulos, 'Diferença:', qtde_anterior_nulos-qtde_pos_exclusao_nulos)"
      ],
      "execution_count": 49,
      "outputs": [
        {
          "output_type": "stream",
          "text": [
            "Antes: 1839851 Depois: 1838895 Diferença: 956\n"
          ],
          "name": "stdout"
        }
      ]
    },
    {
      "cell_type": "code",
      "metadata": {
        "colab": {
          "base_uri": "https://localhost:8080/"
        },
        "id": "yxQoPiQBX1ah",
        "outputId": "bc66701d-d02c-4ecf-b1b5-7accd0821cc3"
      },
      "source": [
        "# Validando a exclusão\n",
        "df_movies.isnull().sum()"
      ],
      "execution_count": 50,
      "outputs": [
        {
          "output_type": "execute_result",
          "data": {
            "text/plain": [
              "object           0\n",
              "text             0\n",
              "likes            0\n",
              "text_lower       0\n",
              "classificacao    0\n",
              "dtype: int64"
            ]
          },
          "metadata": {
            "tags": []
          },
          "execution_count": 50
        }
      ]
    },
    {
      "cell_type": "code",
      "metadata": {
        "id": "cz3J7KRCX1ai"
      },
      "source": [
        "# resetando os índices\n",
        "df_movies = df_movies.reset_index()"
      ],
      "execution_count": 51,
      "outputs": []
    },
    {
      "cell_type": "markdown",
      "metadata": {
        "id": "1HnO3-KvRfla"
      },
      "source": [
        "## Selecionando 10mil registros"
      ]
    },
    {
      "cell_type": "code",
      "metadata": {
        "colab": {
          "base_uri": "https://localhost:8080/"
        },
        "id": "_xJUYzisjEuB",
        "outputId": "49d091e6-944e-442f-b368-56ac39f790dc"
      },
      "source": [
        "df_movies['classificacao'].value_counts()"
      ],
      "execution_count": 52,
      "outputs": [
        {
          "output_type": "execute_result",
          "data": {
            "text/plain": [
              "1    951093\n",
              "0    887802\n",
              "Name: classificacao, dtype: int64"
            ]
          },
          "metadata": {
            "tags": []
          },
          "execution_count": 52
        }
      ]
    },
    {
      "cell_type": "code",
      "metadata": {
        "id": "YZYBzxGpRsNH"
      },
      "source": [
        "# Embaralhando os dados por filmes\r\n",
        "df_movies = df_movies.sample(frac=1).reset_index(drop=True)\r\n",
        "#df_movies[0:5000]"
      ],
      "execution_count": 53,
      "outputs": []
    },
    {
      "cell_type": "code",
      "metadata": {
        "colab": {
          "base_uri": "https://localhost:8080/"
        },
        "id": "B7vASHMRS6ad",
        "outputId": "87cbc407-b6b5-48d4-e887-fe6a36320d4f"
      },
      "source": [
        "len(df_movies)"
      ],
      "execution_count": 54,
      "outputs": [
        {
          "output_type": "execute_result",
          "data": {
            "text/plain": [
              "1838895"
            ]
          },
          "metadata": {
            "tags": []
          },
          "execution_count": 54
        }
      ]
    },
    {
      "cell_type": "code",
      "metadata": {
        "colab": {
          "base_uri": "https://localhost:8080/"
        },
        "id": "k4YWHB-Vl1ll",
        "outputId": "64d03f18-c40a-4728-af93-28b5143084e8"
      },
      "source": [
        "#Selecionando os registros\r\n",
        "df_movies = df_movies[:10000]\r\n",
        "print ('Qtde de registros que serão utilizados no trabalho',len(df_movies))"
      ],
      "execution_count": 55,
      "outputs": [
        {
          "output_type": "stream",
          "text": [
            "Qtde de registros que serão utilizados no trabalho 10000\n"
          ],
          "name": "stdout"
        }
      ]
    },
    {
      "cell_type": "code",
      "metadata": {
        "colab": {
          "base_uri": "https://localhost:8080/"
        },
        "id": "nIYWk5SfR809",
        "outputId": "5a215f0e-3b81-440d-fea0-f2e4720f21f3"
      },
      "source": [
        "df_movies['classificacao'].value_counts()"
      ],
      "execution_count": 57,
      "outputs": [
        {
          "output_type": "execute_result",
          "data": {
            "text/plain": [
              "1    5154\n",
              "0    4846\n",
              "Name: classificacao, dtype: int64"
            ]
          },
          "metadata": {
            "tags": []
          },
          "execution_count": 57
        }
      ]
    },
    {
      "cell_type": "markdown",
      "metadata": {
        "id": "bZMwZtzEX1ah"
      },
      "source": [
        "## Pré-processando os dados"
      ]
    },
    {
      "cell_type": "code",
      "metadata": {
        "id": "v6YcliccX1ai"
      },
      "source": [
        "# Definindo as funções que serão utilizadas\n",
        "\n",
        "# Remover os caracteres especiais do texto\n",
        "def remover_caracteres (row):\n",
        "  table = str.maketrans(dict.fromkeys(string.punctuation)) \n",
        "  texto_sem_caracteres = str(row['text_lower']).translate(table)\n",
        "  return texto_sem_caracteres\n",
        "\n",
        "# Tokenizando\n",
        "def identify_tokens(row):\n",
        "    tokens = nltk.word_tokenize(row['text_sem_caracteres']) \n",
        "    #print (tokens)\n",
        "    # pegar somente palavra, sem pontuação\n",
        "    token_words = [w for w in tokens if w.isalnum()] # isalnum (não remove caracteres especiais e números) - isalpha (removeremos palavras / caracteres não alfanuméricos (como números e pontuação)\n",
        "    return token_words\n",
        "    \n",
        "# Removendo as stop-words\n",
        "def remove_stops(row):\n",
        "    stp_words = nltk.corpus.stopwords.words('portuguese')\n",
        "    #print (stp_words)\n",
        "    my_list = row['text_tokenizado']\n",
        "    meaningful_words = [w for w in my_list if not w in stp_words]\n",
        "    return (meaningful_words)\n",
        "\n",
        "\n",
        "# Cria uma lista de palavras\n",
        "def lista_palavras(row):\n",
        "  lista_de_palavras = corpora.Dictionary(row['text_stopwords']) \n",
        "  return lista_de_palavras\n",
        "\n",
        "\n",
        "# Contar qtde de palavras\n",
        "def contar_palavras(row):\n",
        "  palavraCont = {} # criando um dicionário\n",
        "  palavras_lista = word_tokenize(str(row['text_stopwords'])) # criando uma lista de palavras para cada registro\n",
        "  for palavra in palavras_lista:\n",
        "    if palavra in palavraCont:\n",
        "        palavraCont[palavra] += 1\n",
        "    else:\n",
        "        palavraCont[palavra] = 1\n",
        "    #print ('palavraCont:', palavraCont)\n",
        "  return palavraCont,palavras_lista\n",
        "# ------------------------------------------------\n",
        "# Contar qtde de palavras\n",
        "def lista_de_palavras(row):\n",
        "  palavraCont = {} # criando um dicionário\n",
        "  palavras_lista = word_tokenize(str(row['text_stopwords'])) # criando uma lista de palavras para cada registro\n",
        "  for palavra in palavras_lista:\n",
        "    if palavra in palavraCont:\n",
        "        palavraCont[palavra] += 1\n",
        "    else:\n",
        "        palavraCont[palavra] = 1\n",
        "    #print ('palavraCont:', palavraCont)\n",
        "  return palavras_lista\n",
        "\n",
        "# ------------------------------------------------\n",
        "\n",
        "# cria um dicionário de palavras\n",
        "dicionario = corpora.Dictionary() # modulo que lida com dicionario e suas funcionalidades\n",
        "def dicionario_palavras(row):\n",
        "  bow_corpus = dicionario.doc2bow(list(str(row['text_stopwords'])), allow_update=True)\n",
        "  return bow_corpus"
      ],
      "execution_count": 102,
      "outputs": []
    },
    {
      "cell_type": "markdown",
      "metadata": {
        "id": "btkxgpIxwbiW"
      },
      "source": [
        "### Removendo os caracteres especiais"
      ]
    },
    {
      "cell_type": "code",
      "metadata": {
        "colab": {
          "base_uri": "https://localhost:8080/"
        },
        "id": "LEWG3ertzot_",
        "outputId": "bdd9cf3a-2662-4c8b-c619-4efc46b8e376"
      },
      "source": [
        "# montagem da tabela de pontuacoes, primeiro pegamos a lista de pontuacoes com string.punctuation, depois pegamos\r\n",
        "# e criamos como uma tabela usando o str.maketrans\r\n",
        "start = time.time()\r\n",
        "df_movies['text_sem_caracteres'] = df_movies.apply(remover_caracteres, axis=1) # chamando a função que remove as stopwords\r\n",
        "print (\"tempo gasto: \", (time.time() - start))"
      ],
      "execution_count": 98,
      "outputs": [
        {
          "output_type": "stream",
          "text": [
            "tempo gasto:  0.3097214698791504\n"
          ],
          "name": "stdout"
        }
      ]
    },
    {
      "cell_type": "code",
      "metadata": {
        "id": "2bKrKLft11qB",
        "colab": {
          "base_uri": "https://localhost:8080/",
          "height": 142
        },
        "outputId": "a4a76330-a239-4a19-de9c-3c587d466318"
      },
      "source": [
        "# Validando\r\n",
        "df_movies[['text', 'text_sem_caracteres']].head(3)"
      ],
      "execution_count": 99,
      "outputs": [
        {
          "output_type": "execute_result",
          "data": {
            "text/html": [
              "<div>\n",
              "<style scoped>\n",
              "    .dataframe tbody tr th:only-of-type {\n",
              "        vertical-align: middle;\n",
              "    }\n",
              "\n",
              "    .dataframe tbody tr th {\n",
              "        vertical-align: top;\n",
              "    }\n",
              "\n",
              "    .dataframe thead th {\n",
              "        text-align: right;\n",
              "    }\n",
              "</style>\n",
              "<table border=\"1\" class=\"dataframe\">\n",
              "  <thead>\n",
              "    <tr style=\"text-align: right;\">\n",
              "      <th></th>\n",
              "      <th>text</th>\n",
              "      <th>text_sem_caracteres</th>\n",
              "    </tr>\n",
              "  </thead>\n",
              "  <tbody>\n",
              "    <tr>\n",
              "      <th>0</th>\n",
              "      <td>Produção muito boa, logo no início do filme já...</td>\n",
              "      <td>produção muito boa logo no início do filme já ...</td>\n",
              "    </tr>\n",
              "    <tr>\n",
              "      <th>1</th>\n",
              "      <td>Meio arrastado mas nao deixa ser um bom filme ...</td>\n",
              "      <td>meio arrastado mas nao deixa ser um bom filme ...</td>\n",
              "    </tr>\n",
              "    <tr>\n",
              "      <th>2</th>\n",
              "      <td>Queria morrer de amores por esse filme igual a...</td>\n",
              "      <td>queria morrer de amores por esse filme igual a...</td>\n",
              "    </tr>\n",
              "  </tbody>\n",
              "</table>\n",
              "</div>"
            ],
            "text/plain": [
              "                                                text                                text_sem_caracteres\n",
              "0  Produção muito boa, logo no início do filme já...  produção muito boa logo no início do filme já ...\n",
              "1  Meio arrastado mas nao deixa ser um bom filme ...  meio arrastado mas nao deixa ser um bom filme ...\n",
              "2  Queria morrer de amores por esse filme igual a...  queria morrer de amores por esse filme igual a..."
            ]
          },
          "metadata": {
            "tags": []
          },
          "execution_count": 99
        }
      ]
    },
    {
      "cell_type": "code",
      "metadata": {
        "id": "F0EHM3pYgWQ4",
        "colab": {
          "base_uri": "https://localhost:8080/"
        },
        "outputId": "2d931e5a-2e7c-41cf-84fa-8334c6069648"
      },
      "source": [
        "print (\"Texto original: \", df_movies['text'][6])\r\n",
        "print (\"Texto final: \", df_movies['text_sem_caracteres'][6])"
      ],
      "execution_count": 100,
      "outputs": [
        {
          "output_type": "stream",
          "text": [
            "Texto original:  Quando John Carpenter fez este filme, será que ele imaginava o mundaréu de bobagem que surgiria depois, \"inspirado\" nele?  Bom, de Halloween 2 até os filmes da horrenda franquia \"Pânico\", todos os assim chamados slashers dos anos 80 e 90 seguem a \"fórmula\" Halloween (assassino/psicopata onipresente e indestrutível perseguindo jovens com a libido à flor da pele), exceto por um pequeno \"detalhe\": Halloween não tem \"fórmula\", ele é um filme único e, talvez, melhor seria se jamais houvesse tido qualquer continuação ou imitação. Mesmo o remake de Rob Zombie (2007) não conseguiu repetir a proeza deste filme, de unir de modo magnífico suspense e terror, em uma história que não abandona por um minuto sequer uma atmosfera pesadíssima, que te sufoca e ao mesmo tempo te prende até o último minuto.  E o que é um filme de terror sem atmosfera?  E o que é mais assustador que um \"boogeyman\" te espreitando quando você vira a esquina?  No final, que diferença faz se Michael não mata dezenas de pessoas no filme, mas apenas quatro? Filmes de terror de verdade não se julgam pelo número de cadáveres que apresentam, mas pelo mal-estar que nos insuflam. \"Pânico\" tem muitos mortos, mas não tem suspense, não tem tensão, não tem atmosfera, não tem medo, não tem um stalker sem expressão te observando da janela...enfim, \"Pânico\" é uma grande merda, \"Halloween\" é uma obra-prima.  Claro que a história poderia ter parado aqui. A maioria dos filmes da franquia Halloween que seguiram a esse são filmes inteiramente dispensáveis. Nem o segundo filme mantém o mesmo clima de \"noite de terror\", talvez pelo maior número de personagens.  Este filme merece um lugar de honra entre as grandes obras do terror, como Nosferatu, O Bebê de Rosemary e A Profecia.\n",
            "Texto final:  quando john carpenter fez este filme será que ele imaginava o mundaréu de bobagem que surgiria depois inspirado nele  bom de halloween 2 até os filmes da horrenda franquia pânico todos os assim chamados slashers dos anos 80 e 90 seguem a fórmula halloween assassinopsicopata onipresente e indestrutível perseguindo jovens com a libido à flor da pele exceto por um pequeno detalhe halloween não tem fórmula ele é um filme único e talvez melhor seria se jamais houvesse tido qualquer continuação ou imitação mesmo o remake de rob zombie 2007 não conseguiu repetir a proeza deste filme de unir de modo magnífico suspense e terror em uma história que não abandona por um minuto sequer uma atmosfera pesadíssima que te sufoca e ao mesmo tempo te prende até o último minuto  e o que é um filme de terror sem atmosfera  e o que é mais assustador que um boogeyman te espreitando quando você vira a esquina  no final que diferença faz se michael não mata dezenas de pessoas no filme mas apenas quatro filmes de terror de verdade não se julgam pelo número de cadáveres que apresentam mas pelo malestar que nos insuflam pânico tem muitos mortos mas não tem suspense não tem tensão não tem atmosfera não tem medo não tem um stalker sem expressão te observando da janelaenfim pânico é uma grande merda halloween é uma obraprima  claro que a história poderia ter parado aqui a maioria dos filmes da franquia halloween que seguiram a esse são filmes inteiramente dispensáveis nem o segundo filme mantém o mesmo clima de noite de terror talvez pelo maior número de personagens  este filme merece um lugar de honra entre as grandes obras do terror como nosferatu o bebê de rosemary e a profecia\n"
          ],
          "name": "stdout"
        }
      ]
    },
    {
      "cell_type": "markdown",
      "metadata": {
        "id": "Vf8N3SPsX1aj"
      },
      "source": [
        "### Tokenizando"
      ]
    },
    {
      "cell_type": "code",
      "metadata": {
        "id": "PBr8A7FCX1aj",
        "colab": {
          "base_uri": "https://localhost:8080/"
        },
        "outputId": "d3933092-3f9f-4ad6-b553-e67a8eb67d2e"
      },
      "source": [
        "start = time.time()\n",
        "df_movies['text_tokenizado'] = df_movies.apply(identify_tokens, axis=1)\n",
        "print (\"tempo gasto: \", (time.time() - start))"
      ],
      "execution_count": 103,
      "outputs": [
        {
          "output_type": "stream",
          "text": [
            "tempo gasto:  2.4010818004608154\n"
          ],
          "name": "stdout"
        }
      ]
    },
    {
      "cell_type": "code",
      "metadata": {
        "id": "TUuwFkK5goG6",
        "colab": {
          "base_uri": "https://localhost:8080/"
        },
        "outputId": "a407d8c7-63c0-4ed1-8b94-f002b9bf2d4f"
      },
      "source": [
        "type(df_movies['text_tokenizado'].values)"
      ],
      "execution_count": 104,
      "outputs": [
        {
          "output_type": "execute_result",
          "data": {
            "text/plain": [
              "numpy.ndarray"
            ]
          },
          "metadata": {
            "tags": []
          },
          "execution_count": 104
        }
      ]
    },
    {
      "cell_type": "code",
      "metadata": {
        "id": "NJOjCAUveWSM",
        "colab": {
          "base_uri": "https://localhost:8080/"
        },
        "outputId": "9f9ac8e4-0c18-4a17-b08c-b075a222ef80"
      },
      "source": [
        "type(list(str(df_movies['text_tokenizado'])))"
      ],
      "execution_count": 105,
      "outputs": [
        {
          "output_type": "execute_result",
          "data": {
            "text/plain": [
              "list"
            ]
          },
          "metadata": {
            "tags": []
          },
          "execution_count": 105
        }
      ]
    },
    {
      "cell_type": "code",
      "metadata": {
        "id": "GKP6xaknX1aj",
        "colab": {
          "base_uri": "https://localhost:8080/",
          "height": 111
        },
        "outputId": "97be75f5-3997-4142-a697-88b1dff2f471"
      },
      "source": [
        "# validando a tokenização\n",
        "df_movies[['text_sem_caracteres','text_tokenizado']][1:3].head(3)"
      ],
      "execution_count": 106,
      "outputs": [
        {
          "output_type": "execute_result",
          "data": {
            "text/html": [
              "<div>\n",
              "<style scoped>\n",
              "    .dataframe tbody tr th:only-of-type {\n",
              "        vertical-align: middle;\n",
              "    }\n",
              "\n",
              "    .dataframe tbody tr th {\n",
              "        vertical-align: top;\n",
              "    }\n",
              "\n",
              "    .dataframe thead th {\n",
              "        text-align: right;\n",
              "    }\n",
              "</style>\n",
              "<table border=\"1\" class=\"dataframe\">\n",
              "  <thead>\n",
              "    <tr style=\"text-align: right;\">\n",
              "      <th></th>\n",
              "      <th>text_sem_caracteres</th>\n",
              "      <th>text_tokenizado</th>\n",
              "    </tr>\n",
              "  </thead>\n",
              "  <tbody>\n",
              "    <tr>\n",
              "      <th>1</th>\n",
              "      <td>meio arrastado mas nao deixa ser um bom filme ...</td>\n",
              "      <td>[meio, arrastado, mas, nao, deixa, ser, um, bo...</td>\n",
              "    </tr>\n",
              "    <tr>\n",
              "      <th>2</th>\n",
              "      <td>queria morrer de amores por esse filme igual a...</td>\n",
              "      <td>[queria, morrer, de, amores, por, esse, filme,...</td>\n",
              "    </tr>\n",
              "  </tbody>\n",
              "</table>\n",
              "</div>"
            ],
            "text/plain": [
              "                                 text_sem_caracteres                                    text_tokenizado\n",
              "1  meio arrastado mas nao deixa ser um bom filme ...  [meio, arrastado, mas, nao, deixa, ser, um, bo...\n",
              "2  queria morrer de amores por esse filme igual a...  [queria, morrer, de, amores, por, esse, filme,..."
            ]
          },
          "metadata": {
            "tags": []
          },
          "execution_count": 106
        }
      ]
    },
    {
      "cell_type": "markdown",
      "metadata": {
        "id": "cteS1B3XX1al"
      },
      "source": [
        "### Removendo as stopwords"
      ]
    },
    {
      "cell_type": "code",
      "metadata": {
        "id": "jrPo2ZDjX1al",
        "colab": {
          "base_uri": "https://localhost:8080/"
        },
        "outputId": "c9b2cddc-e7d1-4860-8ba1-283017603bbd"
      },
      "source": [
        "start = time.time()\n",
        "df_movies['text_stopwords'] = df_movies.apply(remove_stops, axis=1) # chamando a função que remove as stopwords\n",
        "print (\"tempo gasto: \", (time.time() - start))"
      ],
      "execution_count": 107,
      "outputs": [
        {
          "output_type": "stream",
          "text": [
            "tempo gasto:  2.2377278804779053\n"
          ],
          "name": "stdout"
        }
      ]
    },
    {
      "cell_type": "code",
      "metadata": {
        "id": "lYs93yvGX1am",
        "colab": {
          "base_uri": "https://localhost:8080/",
          "height": 142
        },
        "outputId": "fc58daa4-ab1e-4949-a3d3-b0c4e26cbfde"
      },
      "source": [
        "# Validando\n",
        "df_movies[['text_tokenizado','text_stopwords']].head(3)"
      ],
      "execution_count": 108,
      "outputs": [
        {
          "output_type": "execute_result",
          "data": {
            "text/html": [
              "<div>\n",
              "<style scoped>\n",
              "    .dataframe tbody tr th:only-of-type {\n",
              "        vertical-align: middle;\n",
              "    }\n",
              "\n",
              "    .dataframe tbody tr th {\n",
              "        vertical-align: top;\n",
              "    }\n",
              "\n",
              "    .dataframe thead th {\n",
              "        text-align: right;\n",
              "    }\n",
              "</style>\n",
              "<table border=\"1\" class=\"dataframe\">\n",
              "  <thead>\n",
              "    <tr style=\"text-align: right;\">\n",
              "      <th></th>\n",
              "      <th>text_tokenizado</th>\n",
              "      <th>text_stopwords</th>\n",
              "    </tr>\n",
              "  </thead>\n",
              "  <tbody>\n",
              "    <tr>\n",
              "      <th>0</th>\n",
              "      <td>[produção, muito, boa, logo, no, início, do, f...</td>\n",
              "      <td>[produção, boa, logo, início, filme, caçada, í...</td>\n",
              "    </tr>\n",
              "    <tr>\n",
              "      <th>1</th>\n",
              "      <td>[meio, arrastado, mas, nao, deixa, ser, um, bo...</td>\n",
              "      <td>[meio, arrastado, nao, deixa, ser, bom, filme,...</td>\n",
              "    </tr>\n",
              "    <tr>\n",
              "      <th>2</th>\n",
              "      <td>[queria, morrer, de, amores, por, esse, filme,...</td>\n",
              "      <td>[queria, morrer, amores, filme, igual, todo, m...</td>\n",
              "    </tr>\n",
              "  </tbody>\n",
              "</table>\n",
              "</div>"
            ],
            "text/plain": [
              "                                     text_tokenizado                                     text_stopwords\n",
              "0  [produção, muito, boa, logo, no, início, do, f...  [produção, boa, logo, início, filme, caçada, í...\n",
              "1  [meio, arrastado, mas, nao, deixa, ser, um, bo...  [meio, arrastado, nao, deixa, ser, bom, filme,...\n",
              "2  [queria, morrer, de, amores, por, esse, filme,...  [queria, morrer, amores, filme, igual, todo, m..."
            ]
          },
          "metadata": {
            "tags": []
          },
          "execution_count": 108
        }
      ]
    },
    {
      "cell_type": "markdown",
      "metadata": {
        "id": "k_6wqyUeX1am"
      },
      "source": [
        "## Salvando o resultado num dataframe"
      ]
    },
    {
      "cell_type": "code",
      "metadata": {
        "id": "yXcAbvibow0d"
      },
      "source": [
        "#df2 = df_movies[['object', 'classificacao', 'text_stopwords']]\r\n",
        "#df2.to_csv(\"/content/drive/MyDrive/Colab Notebooks/NLP/trabalho/dados/df_util_tokenizado.csv\",index=False)"
      ],
      "execution_count": 109,
      "outputs": []
    },
    {
      "cell_type": "markdown",
      "metadata": {
        "id": "kDpf2jcVG9Ct"
      },
      "source": [
        "## Lendo o arquivo"
      ]
    },
    {
      "cell_type": "code",
      "metadata": {
        "id": "nNTz4YI5ou2x",
        "colab": {
          "base_uri": "https://localhost:8080/",
          "height": 142
        },
        "outputId": "3528201e-16ac-4951-82d2-8687568c1410"
      },
      "source": [
        "#df_processado = pd.read_csv(\"/content/drive/MyDrive/Colab Notebooks/NLP/trabalho/dados/df_util_tokenizado.csv\")\r\n",
        "#df_processado.head(3)"
      ],
      "execution_count": 110,
      "outputs": [
        {
          "output_type": "execute_result",
          "data": {
            "text/html": [
              "<div>\n",
              "<style scoped>\n",
              "    .dataframe tbody tr th:only-of-type {\n",
              "        vertical-align: middle;\n",
              "    }\n",
              "\n",
              "    .dataframe tbody tr th {\n",
              "        vertical-align: top;\n",
              "    }\n",
              "\n",
              "    .dataframe thead th {\n",
              "        text-align: right;\n",
              "    }\n",
              "</style>\n",
              "<table border=\"1\" class=\"dataframe\">\n",
              "  <thead>\n",
              "    <tr style=\"text-align: right;\">\n",
              "      <th></th>\n",
              "      <th>object</th>\n",
              "      <th>classificacao</th>\n",
              "      <th>text_stopwords</th>\n",
              "    </tr>\n",
              "  </thead>\n",
              "  <tbody>\n",
              "    <tr>\n",
              "      <th>0</th>\n",
              "      <td>apocalypto-t196</td>\n",
              "      <td>1</td>\n",
              "      <td>['produção', 'boa', 'logo', 'início', 'filme',...</td>\n",
              "    </tr>\n",
              "    <tr>\n",
              "      <th>1</th>\n",
              "      <td>maze-runner-prova-de-fogo-t106368</td>\n",
              "      <td>1</td>\n",
              "      <td>['meio', 'arrastado', 'nao', 'deixa', 'ser', '...</td>\n",
              "    </tr>\n",
              "    <tr>\n",
              "      <th>2</th>\n",
              "      <td>as-vantagens-de-ser-invisivel-t29850</td>\n",
              "      <td>1</td>\n",
              "      <td>['queria', 'morrer', 'amores', 'filme', 'igual...</td>\n",
              "    </tr>\n",
              "  </tbody>\n",
              "</table>\n",
              "</div>"
            ],
            "text/plain": [
              "                                 object  ...                                     text_stopwords\n",
              "0                       apocalypto-t196  ...  ['produção', 'boa', 'logo', 'início', 'filme',...\n",
              "1     maze-runner-prova-de-fogo-t106368  ...  ['meio', 'arrastado', 'nao', 'deixa', 'ser', '...\n",
              "2  as-vantagens-de-ser-invisivel-t29850  ...  ['queria', 'morrer', 'amores', 'filme', 'igual...\n",
              "\n",
              "[3 rows x 3 columns]"
            ]
          },
          "metadata": {
            "tags": []
          },
          "execution_count": 110
        }
      ]
    },
    {
      "cell_type": "markdown",
      "metadata": {
        "id": "MYz4jYkxOBtQ"
      },
      "source": [
        "## Identificando as palavras e as contando para cada registro"
      ]
    },
    {
      "cell_type": "code",
      "metadata": {
        "id": "ztEnw6L4OHCQ",
        "colab": {
          "base_uri": "https://localhost:8080/"
        },
        "outputId": "294f217f-701b-408f-a3d9-151e4cb0503a"
      },
      "source": [
        "# contando a qtde de cada palavras\r\n",
        "start = time.time()\r\n",
        "df_movies['qtde_palavras'] = df_movies.apply(contar_palavras, axis=1)\r\n",
        "print (\"tempo gasto: \", (time.time() - start))"
      ],
      "execution_count": 111,
      "outputs": [
        {
          "output_type": "stream",
          "text": [
            "tempo gasto:  3.6154279708862305\n"
          ],
          "name": "stdout"
        }
      ]
    },
    {
      "cell_type": "code",
      "metadata": {
        "id": "QSNcBOy6JvN6",
        "colab": {
          "base_uri": "https://localhost:8080/",
          "height": 142
        },
        "outputId": "54b28b18-d1af-4438-e457-51e1a461aee0"
      },
      "source": [
        "# salvando no arquivo e abrindo novamente\r\n",
        "df2 = df_movies[['object', 'classificacao', 'text_stopwords', 'qtde_palavras']]\r\n",
        "df2.to_csv(\"/content/drive/MyDrive/Colab Notebooks/NLP/trabalho/dados/df_util_tokenizado.csv\",index=False)\r\n",
        "\r\n",
        "df_movies = pd.read_csv(\"/content/drive/MyDrive/Colab Notebooks/NLP/trabalho/dados/df_util_tokenizado.csv\")\r\n",
        "df_movies.head(3)"
      ],
      "execution_count": 112,
      "outputs": [
        {
          "output_type": "execute_result",
          "data": {
            "text/html": [
              "<div>\n",
              "<style scoped>\n",
              "    .dataframe tbody tr th:only-of-type {\n",
              "        vertical-align: middle;\n",
              "    }\n",
              "\n",
              "    .dataframe tbody tr th {\n",
              "        vertical-align: top;\n",
              "    }\n",
              "\n",
              "    .dataframe thead th {\n",
              "        text-align: right;\n",
              "    }\n",
              "</style>\n",
              "<table border=\"1\" class=\"dataframe\">\n",
              "  <thead>\n",
              "    <tr style=\"text-align: right;\">\n",
              "      <th></th>\n",
              "      <th>object</th>\n",
              "      <th>classificacao</th>\n",
              "      <th>text_stopwords</th>\n",
              "      <th>qtde_palavras</th>\n",
              "    </tr>\n",
              "  </thead>\n",
              "  <tbody>\n",
              "    <tr>\n",
              "      <th>0</th>\n",
              "      <td>apocalypto-t196</td>\n",
              "      <td>1</td>\n",
              "      <td>['produção', 'boa', 'logo', 'início', 'filme',...</td>\n",
              "      <td>({'[': 1, \"'produção\": 1, \"'\": 37, ',': 36, \"'...</td>\n",
              "    </tr>\n",
              "    <tr>\n",
              "      <th>1</th>\n",
              "      <td>maze-runner-prova-de-fogo-t106368</td>\n",
              "      <td>1</td>\n",
              "      <td>['meio', 'arrastado', 'nao', 'deixa', 'ser', '...</td>\n",
              "      <td>({'[': 1, \"'meio\": 1, \"'\": 8, ',': 7, \"'arrast...</td>\n",
              "    </tr>\n",
              "    <tr>\n",
              "      <th>2</th>\n",
              "      <td>as-vantagens-de-ser-invisivel-t29850</td>\n",
              "      <td>1</td>\n",
              "      <td>['queria', 'morrer', 'amores', 'filme', 'igual...</td>\n",
              "      <td>({'[': 1, \"'queria\": 1, \"'\": 7, ',': 6, \"'morr...</td>\n",
              "    </tr>\n",
              "  </tbody>\n",
              "</table>\n",
              "</div>"
            ],
            "text/plain": [
              "                                 object  ...                                      qtde_palavras\n",
              "0                       apocalypto-t196  ...  ({'[': 1, \"'produção\": 1, \"'\": 37, ',': 36, \"'...\n",
              "1     maze-runner-prova-de-fogo-t106368  ...  ({'[': 1, \"'meio\": 1, \"'\": 8, ',': 7, \"'arrast...\n",
              "2  as-vantagens-de-ser-invisivel-t29850  ...  ({'[': 1, \"'queria\": 1, \"'\": 7, ',': 6, \"'morr...\n",
              "\n",
              "[3 rows x 4 columns]"
            ]
          },
          "metadata": {
            "tags": []
          },
          "execution_count": 112
        }
      ]
    },
    {
      "cell_type": "code",
      "metadata": {
        "id": "U1JRL2h2p-vx",
        "colab": {
          "base_uri": "https://localhost:8080/"
        },
        "outputId": "12ad90a5-532e-4c3c-9f1b-5c3bac8ac2db"
      },
      "source": [
        "# criando uma lista de palavras\r\n",
        "start = time.time()\r\n",
        "df_movies['lista_de_palavras'] = df_movies.apply(lista_de_palavras, axis=1)\r\n",
        "print (\"tempo gasto: \", (time.time() - start))"
      ],
      "execution_count": 113,
      "outputs": [
        {
          "output_type": "stream",
          "text": [
            "tempo gasto:  3.3772177696228027\n"
          ],
          "name": "stdout"
        }
      ]
    },
    {
      "cell_type": "code",
      "metadata": {
        "id": "VQ54udRrMadh"
      },
      "source": [
        "# salvando no arquivo \r\n",
        "#df2 = df_processado[['object', 'classificacao', 'text_stopwords', 'qtde_palavras','lista_de_palavras']]\r\n",
        "#df2.to_csv(\"/content/drive/MyDrive/Colab Notebooks/NLP/trabalho/dados/df_util_tokenizado.csv\",index=False)\r\n",
        "\r\n"
      ],
      "execution_count": 75,
      "outputs": []
    },
    {
      "cell_type": "code",
      "metadata": {
        "id": "nZ6Zp-LfPT0w",
        "colab": {
          "base_uri": "https://localhost:8080/",
          "height": 142
        },
        "outputId": "ded93f0d-35ef-4510-c671-e2b9437df2e9"
      },
      "source": [
        "# lendo o arquivo novamente\r\n",
        "#df_processado = pd.read_csv(\"/content/drive/MyDrive/Colab Notebooks/NLP/trabalho/dados/df_util_tokenizado.csv\")\r\n",
        "#df_processado.head(3)"
      ],
      "execution_count": 76,
      "outputs": [
        {
          "output_type": "execute_result",
          "data": {
            "text/html": [
              "<div>\n",
              "<style scoped>\n",
              "    .dataframe tbody tr th:only-of-type {\n",
              "        vertical-align: middle;\n",
              "    }\n",
              "\n",
              "    .dataframe tbody tr th {\n",
              "        vertical-align: top;\n",
              "    }\n",
              "\n",
              "    .dataframe thead th {\n",
              "        text-align: right;\n",
              "    }\n",
              "</style>\n",
              "<table border=\"1\" class=\"dataframe\">\n",
              "  <thead>\n",
              "    <tr style=\"text-align: right;\">\n",
              "      <th></th>\n",
              "      <th>object</th>\n",
              "      <th>classificacao</th>\n",
              "      <th>text_stopwords</th>\n",
              "      <th>qtde_palavras</th>\n",
              "      <th>lista_de_palavras</th>\n",
              "    </tr>\n",
              "  </thead>\n",
              "  <tbody>\n",
              "    <tr>\n",
              "      <th>0</th>\n",
              "      <td>apocalypto-t196</td>\n",
              "      <td>1</td>\n",
              "      <td>['produção', 'boa', 'logo', 'início', 'filme',...</td>\n",
              "      <td>({'[': 1, \"'produção\": 1, \"'\": 37, ',': 36, \"'...</td>\n",
              "      <td>['[', \"'produção\", \"'\", ',', \"'boa\", \"'\", ',',...</td>\n",
              "    </tr>\n",
              "    <tr>\n",
              "      <th>1</th>\n",
              "      <td>maze-runner-prova-de-fogo-t106368</td>\n",
              "      <td>1</td>\n",
              "      <td>['meio', 'arrastado', 'nao', 'deixa', 'ser', '...</td>\n",
              "      <td>({'[': 1, \"'meio\": 1, \"'\": 8, ',': 7, \"'arrast...</td>\n",
              "      <td>['[', \"'meio\", \"'\", ',', \"'arrastado\", \"'\", ',...</td>\n",
              "    </tr>\n",
              "    <tr>\n",
              "      <th>2</th>\n",
              "      <td>as-vantagens-de-ser-invisivel-t29850</td>\n",
              "      <td>1</td>\n",
              "      <td>['queria', 'morrer', 'amores', 'filme', 'igual...</td>\n",
              "      <td>({'[': 1, \"'queria\": 1, \"'\": 7, ',': 6, \"'morr...</td>\n",
              "      <td>['[', \"'queria\", \"'\", ',', \"'morrer\", \"'\", ','...</td>\n",
              "    </tr>\n",
              "  </tbody>\n",
              "</table>\n",
              "</div>"
            ],
            "text/plain": [
              "                                 object  ...                                  lista_de_palavras\n",
              "0                       apocalypto-t196  ...  ['[', \"'produção\", \"'\", ',', \"'boa\", \"'\", ',',...\n",
              "1     maze-runner-prova-de-fogo-t106368  ...  ['[', \"'meio\", \"'\", ',', \"'arrastado\", \"'\", ',...\n",
              "2  as-vantagens-de-ser-invisivel-t29850  ...  ['[', \"'queria\", \"'\", ',', \"'morrer\", \"'\", ','...\n",
              "\n",
              "[3 rows x 5 columns]"
            ]
          },
          "metadata": {
            "tags": []
          },
          "execution_count": 76
        }
      ]
    },
    {
      "cell_type": "code",
      "metadata": {
        "id": "Xi-uuJU1Pkit"
      },
      "source": [
        "from gensim import corpora\r\n",
        "\r\n",
        "# cria um dicionário de palavras\r\n",
        "df_movies['dicionario'] = df_movies.apply(dicionario_palavras, axis=1) # chamando a função que cria um dicionário para cada registro"
      ],
      "execution_count": 114,
      "outputs": []
    },
    {
      "cell_type": "code",
      "metadata": {
        "id": "CUZGPNhEWl9c",
        "colab": {
          "base_uri": "https://localhost:8080/"
        },
        "outputId": "1e9b99fc-996f-4e71-a6a2-7a7b4520263f"
      },
      "source": [
        "# validando\r\n",
        "df_movies['dicionario'].head(5)"
      ],
      "execution_count": 115,
      "outputs": [
        {
          "output_type": "execute_result",
          "data": {
            "text/plain": [
              "0    [(0, 36), (1, 74), (2, 36), (3, 1), (4, 1), (5...\n",
              "1    [(0, 7), (1, 16), (2, 7), (3, 1), (4, 1), (5, ...\n",
              "2    [(0, 6), (1, 14), (2, 6), (3, 1), (4, 1), (5, ...\n",
              "3    [(1, 2), (3, 1), (4, 1), (5, 2), (12, 1), (13,...\n",
              "4    [(0, 1), (1, 4), (2, 1), (3, 1), (4, 1), (5, 1...\n",
              "Name: dicionario, dtype: object"
            ]
          },
          "metadata": {
            "tags": []
          },
          "execution_count": 115
        }
      ]
    },
    {
      "cell_type": "code",
      "metadata": {
        "id": "_kgH97yE7kMn",
        "colab": {
          "base_uri": "https://localhost:8080/"
        },
        "outputId": "14ed843a-b666-4caa-d55c-5a7519bb85c8"
      },
      "source": [
        "# Visualizando as palavras do dicionário\r\n",
        "id_corpus = [(dicionario[id_palavra],cont) for id_palavra,cont in df_movies['dicionario'][0]]\r\n",
        "print(id_corpus)"
      ],
      "execution_count": 116,
      "outputs": [
        {
          "output_type": "stream",
          "text": [
            "[(' ', 36), (\"'\", 74), (',', 36), ('[', 1), (']', 1), ('a', 24), ('b', 4), ('c', 13), ('d', 7), ('e', 22), ('f', 4), ('g', 4), ('h', 1), ('i', 17), ('j', 1), ('l', 8), ('m', 10), ('n', 14), ('o', 23), ('p', 3), ('q', 1), ('r', 10), ('s', 14), ('t', 15), ('u', 7), ('v', 5), ('x', 1), ('ã', 2), ('ç', 4), ('é', 1), ('ê', 1), ('í', 2), ('ó', 1), ('õ', 1)]\n"
          ],
          "name": "stdout"
        }
      ]
    },
    {
      "cell_type": "code",
      "metadata": {
        "id": "HnhyIpK3Rtdi"
      },
      "source": [
        "# salvando no arquivo \r\n",
        "df2 = df_movies[['object', 'classificacao', 'text_stopwords', 'qtde_palavras','lista_de_palavras','dicionario']]\r\n",
        "df2.to_csv(\"/content/drive/MyDrive/Colab Notebooks/NLP/trabalho/dados/df_util_tokenizado.csv\",index=False)\r\n",
        "\r\n"
      ],
      "execution_count": 80,
      "outputs": []
    },
    {
      "cell_type": "code",
      "metadata": {
        "id": "rI-IJUkeR1oJ",
        "colab": {
          "base_uri": "https://localhost:8080/",
          "height": 193
        },
        "outputId": "c3708f19-e92a-44bf-b047-7578ce153e1f"
      },
      "source": [
        "# lendo o arquivo novamente\r\n",
        "df_processado = pd.read_csv(\"/content/drive/MyDrive/Colab Notebooks/NLP/trabalho/dados/df_util_tokenizado.csv\")\r\n",
        "df_processado.head(3)"
      ],
      "execution_count": 81,
      "outputs": [
        {
          "output_type": "execute_result",
          "data": {
            "text/html": [
              "<div>\n",
              "<style scoped>\n",
              "    .dataframe tbody tr th:only-of-type {\n",
              "        vertical-align: middle;\n",
              "    }\n",
              "\n",
              "    .dataframe tbody tr th {\n",
              "        vertical-align: top;\n",
              "    }\n",
              "\n",
              "    .dataframe thead th {\n",
              "        text-align: right;\n",
              "    }\n",
              "</style>\n",
              "<table border=\"1\" class=\"dataframe\">\n",
              "  <thead>\n",
              "    <tr style=\"text-align: right;\">\n",
              "      <th></th>\n",
              "      <th>object</th>\n",
              "      <th>classificacao</th>\n",
              "      <th>text_stopwords</th>\n",
              "      <th>qtde_palavras</th>\n",
              "      <th>lista_de_palavras</th>\n",
              "      <th>dicionario</th>\n",
              "    </tr>\n",
              "  </thead>\n",
              "  <tbody>\n",
              "    <tr>\n",
              "      <th>0</th>\n",
              "      <td>apocalypto-t196</td>\n",
              "      <td>1</td>\n",
              "      <td>['produção', 'boa', 'logo', 'início', 'filme',...</td>\n",
              "      <td>({'[': 1, \"'produção\": 1, \"'\": 37, ',': 36, \"'...</td>\n",
              "      <td>['[', \"'produção\", \"'\", ',', \"'boa\", \"'\", ',',...</td>\n",
              "      <td>[(0, 36), (1, 74), (2, 36), (3, 1), (4, 1), (5...</td>\n",
              "    </tr>\n",
              "    <tr>\n",
              "      <th>1</th>\n",
              "      <td>maze-runner-prova-de-fogo-t106368</td>\n",
              "      <td>1</td>\n",
              "      <td>['meio', 'arrastado', 'nao', 'deixa', 'ser', '...</td>\n",
              "      <td>({'[': 1, \"'meio\": 1, \"'\": 8, ',': 7, \"'arrast...</td>\n",
              "      <td>['[', \"'meio\", \"'\", ',', \"'arrastado\", \"'\", ',...</td>\n",
              "      <td>[(0, 7), (1, 16), (2, 7), (3, 1), (4, 1), (5, ...</td>\n",
              "    </tr>\n",
              "    <tr>\n",
              "      <th>2</th>\n",
              "      <td>as-vantagens-de-ser-invisivel-t29850</td>\n",
              "      <td>1</td>\n",
              "      <td>['queria', 'morrer', 'amores', 'filme', 'igual...</td>\n",
              "      <td>({'[': 1, \"'queria\": 1, \"'\": 7, ',': 6, \"'morr...</td>\n",
              "      <td>['[', \"'queria\", \"'\", ',', \"'morrer\", \"'\", ','...</td>\n",
              "      <td>[(0, 6), (1, 14), (2, 6), (3, 1), (4, 1), (5, ...</td>\n",
              "    </tr>\n",
              "  </tbody>\n",
              "</table>\n",
              "</div>"
            ],
            "text/plain": [
              "                                 object  ...                                         dicionario\n",
              "0                       apocalypto-t196  ...  [(0, 36), (1, 74), (2, 36), (3, 1), (4, 1), (5...\n",
              "1     maze-runner-prova-de-fogo-t106368  ...  [(0, 7), (1, 16), (2, 7), (3, 1), (4, 1), (5, ...\n",
              "2  as-vantagens-de-ser-invisivel-t29850  ...  [(0, 6), (1, 14), (2, 6), (3, 1), (4, 1), (5, ...\n",
              "\n",
              "[3 rows x 6 columns]"
            ]
          },
          "metadata": {
            "tags": []
          },
          "execution_count": 81
        }
      ]
    },
    {
      "cell_type": "markdown",
      "metadata": {
        "id": "-oYWoefmX1an"
      },
      "source": [
        "# 2 - Representação\n",
        "\n",
        "Vimos durante a nossa aula diversas forma de representar um documento de texto. Você vai usar cada uma dessas representações e compará-las. A seguir temos a listagem das representações que devem ser usadas para representar seu texto.\n",
        "\n",
        "a) Representação TF-IDF. Você pode usar tanto o gensim quanto o scikit para montar esta representação, mas lembre-se que é importante fazer o pré-processamento dos textos.\n",
        "\n",
        "b) Representação com o word2vec. O modelo poderá ser o apresentado na aula 03 ou algum outro modelo pré-treinado como os existentes no repositório http://nilc.icmc.usp.br/nilc/index.php/repositorio-de-word-embeddings-do-nilc . Neste caso, cada documento deverá ser representado pelo vetor que resultar da média dos vetores de todas as palavras que o compõem. Em outras palavras, se D é composto pelas palavras w1, w2, …, wn, e seus vetores embeddings são v1, v2, …, vn, então a representação do documento de D será v = (v1 + v2 + … + vn) / n.\n",
        "\n",
        "c) Extração de features do texto. Você deve pensar em ao menos 10 features para extrair do documento e que o possam representar. Aqui vão algumas sugestões: número de palavras, número de verbos, número de conjunções, número de palavras negativas, número de palavras fora do vocabulário, quantidades de entidades do tipo PESSOA, quantidade de entidades do tipo LOCAL, etc. \n",
        "\n",
        "Lembrando que você deve dividir seu conjunto em treino e teste. No TF-IDF, você só pode aplicar o método fit no conjunto de treino. Uma sugestão é dividir 80% do conjunto de dados para treino e 20% para teste. Essa divisão é aleatória, mas você pode usar o método train_test_split para essa divisão. \n",
        "\n"
      ]
    },
    {
      "cell_type": "markdown",
      "metadata": {
        "id": "zH0W_WoO3QW8"
      },
      "source": [
        "## Selecionando os registros a serem utilizados\r\n"
      ]
    },
    {
      "cell_type": "code",
      "metadata": {
        "colab": {
          "base_uri": "https://localhost:8080/"
        },
        "id": "6q7shIBZw4Ce",
        "outputId": "843005cf-db4c-49ba-d028-6ab8d6d54d77"
      },
      "source": [
        "# visualizando a qtde de registros por tipo de classificação\r\n",
        "df_processado.classificacao.value_counts()"
      ],
      "execution_count": 82,
      "outputs": [
        {
          "output_type": "execute_result",
          "data": {
            "text/plain": [
              "1    5154\n",
              "0    4846\n",
              "Name: classificacao, dtype: int64"
            ]
          },
          "metadata": {
            "tags": []
          },
          "execution_count": 82
        }
      ]
    },
    {
      "cell_type": "code",
      "metadata": {
        "id": "dUV1x3z93l65",
        "colab": {
          "base_uri": "https://localhost:8080/"
        },
        "outputId": "fc0793dc-e368-42d2-b3aa-75d9385b876e"
      },
      "source": [
        "# separando 10 mil registros de cada tipo\r\n",
        "?????"
      ],
      "execution_count": 83,
      "outputs": [
        {
          "output_type": "stream",
          "text": [
            "Object `` not found.\n"
          ],
          "name": "stdout"
        }
      ]
    },
    {
      "cell_type": "markdown",
      "metadata": {
        "id": "KOUrbeaM85-M"
      },
      "source": [
        "## Dividindo os dados em treino e teste"
      ]
    },
    {
      "cell_type": "code",
      "metadata": {
        "id": "pLTaOunLPaSi"
      },
      "source": [
        "# Definindo X e y\r\n",
        "\r\n",
        "X = df_processado['text_stopwords']\r\n",
        "y = df_processado['classificacao']"
      ],
      "execution_count": 84,
      "outputs": []
    },
    {
      "cell_type": "code",
      "metadata": {
        "id": "Th4iQoxiX1ao"
      },
      "source": [
        "from sklearn.model_selection import train_test_split\n",
        "\n",
        "X_train, X_test, y_train, y_test = train_test_split(X, y, test_size = 0.20 , random_state = 42 )"
      ],
      "execution_count": 85,
      "outputs": []
    },
    {
      "cell_type": "code",
      "metadata": {
        "colab": {
          "base_uri": "https://localhost:8080/"
        },
        "id": "YYuDWhCr2kn7",
        "outputId": "ac1c87ae-9b95-4a8a-d9f4-ab255e410e47"
      },
      "source": [
        "print (\"Qtde de dados de treino: X = {}, y = {} \".format(len(X_train), len(y_train)))\r\n",
        "print (\"Qtde de dados de teste: X = {}, y = {} \".format(len(X_test), len(y_test)))"
      ],
      "execution_count": 86,
      "outputs": [
        {
          "output_type": "stream",
          "text": [
            "Qtde de dados de treino: X = 8000, y = 8000 \n",
            "Qtde de dados de teste: X = 2000, y = 2000 \n"
          ],
          "name": "stdout"
        }
      ]
    },
    {
      "cell_type": "markdown",
      "metadata": {
        "id": "TMW-WQTtX1ap"
      },
      "source": [
        "## Representação TF-IDF"
      ]
    },
    {
      "cell_type": "code",
      "metadata": {
        "colab": {
          "base_uri": "https://localhost:8080/",
          "height": 193
        },
        "id": "csxSZgb-4mTl",
        "outputId": "8d5e0c9a-cbda-4d99-8f36-3105e64fd796"
      },
      "source": [
        "df_processado.head(3)"
      ],
      "execution_count": 87,
      "outputs": [
        {
          "output_type": "execute_result",
          "data": {
            "text/html": [
              "<div>\n",
              "<style scoped>\n",
              "    .dataframe tbody tr th:only-of-type {\n",
              "        vertical-align: middle;\n",
              "    }\n",
              "\n",
              "    .dataframe tbody tr th {\n",
              "        vertical-align: top;\n",
              "    }\n",
              "\n",
              "    .dataframe thead th {\n",
              "        text-align: right;\n",
              "    }\n",
              "</style>\n",
              "<table border=\"1\" class=\"dataframe\">\n",
              "  <thead>\n",
              "    <tr style=\"text-align: right;\">\n",
              "      <th></th>\n",
              "      <th>object</th>\n",
              "      <th>classificacao</th>\n",
              "      <th>text_stopwords</th>\n",
              "      <th>qtde_palavras</th>\n",
              "      <th>lista_de_palavras</th>\n",
              "      <th>dicionario</th>\n",
              "    </tr>\n",
              "  </thead>\n",
              "  <tbody>\n",
              "    <tr>\n",
              "      <th>0</th>\n",
              "      <td>apocalypto-t196</td>\n",
              "      <td>1</td>\n",
              "      <td>['produção', 'boa', 'logo', 'início', 'filme',...</td>\n",
              "      <td>({'[': 1, \"'produção\": 1, \"'\": 37, ',': 36, \"'...</td>\n",
              "      <td>['[', \"'produção\", \"'\", ',', \"'boa\", \"'\", ',',...</td>\n",
              "      <td>[(0, 36), (1, 74), (2, 36), (3, 1), (4, 1), (5...</td>\n",
              "    </tr>\n",
              "    <tr>\n",
              "      <th>1</th>\n",
              "      <td>maze-runner-prova-de-fogo-t106368</td>\n",
              "      <td>1</td>\n",
              "      <td>['meio', 'arrastado', 'nao', 'deixa', 'ser', '...</td>\n",
              "      <td>({'[': 1, \"'meio\": 1, \"'\": 8, ',': 7, \"'arrast...</td>\n",
              "      <td>['[', \"'meio\", \"'\", ',', \"'arrastado\", \"'\", ',...</td>\n",
              "      <td>[(0, 7), (1, 16), (2, 7), (3, 1), (4, 1), (5, ...</td>\n",
              "    </tr>\n",
              "    <tr>\n",
              "      <th>2</th>\n",
              "      <td>as-vantagens-de-ser-invisivel-t29850</td>\n",
              "      <td>1</td>\n",
              "      <td>['queria', 'morrer', 'amores', 'filme', 'igual...</td>\n",
              "      <td>({'[': 1, \"'queria\": 1, \"'\": 7, ',': 6, \"'morr...</td>\n",
              "      <td>['[', \"'queria\", \"'\", ',', \"'morrer\", \"'\", ','...</td>\n",
              "      <td>[(0, 6), (1, 14), (2, 6), (3, 1), (4, 1), (5, ...</td>\n",
              "    </tr>\n",
              "  </tbody>\n",
              "</table>\n",
              "</div>"
            ],
            "text/plain": [
              "                                 object  ...                                         dicionario\n",
              "0                       apocalypto-t196  ...  [(0, 36), (1, 74), (2, 36), (3, 1), (4, 1), (5...\n",
              "1     maze-runner-prova-de-fogo-t106368  ...  [(0, 7), (1, 16), (2, 7), (3, 1), (4, 1), (5, ...\n",
              "2  as-vantagens-de-ser-invisivel-t29850  ...  [(0, 6), (1, 14), (2, 6), (3, 1), (4, 1), (5, ...\n",
              "\n",
              "[3 rows x 6 columns]"
            ]
          },
          "metadata": {
            "tags": []
          },
          "execution_count": 87
        }
      ]
    },
    {
      "cell_type": "code",
      "metadata": {
        "colab": {
          "base_uri": "https://localhost:8080/",
          "height": 340
        },
        "id": "P5YMfw8E4Ip3",
        "outputId": "29a952c4-3aaa-492b-92ac-291cb3ed08f8"
      },
      "source": [
        "from gensim.models import TfidfModel\r\n",
        "\r\n",
        "# converte o corpus para o formato de saco de palavras\r\n",
        "corpus_filmes_bow = [df_processado['dicionario'].doc2bow(line) for line in df_processado['text_stopwords']] "
      ],
      "execution_count": 88,
      "outputs": [
        {
          "output_type": "error",
          "ename": "AttributeError",
          "evalue": "ignored",
          "traceback": [
            "\u001b[0;31m---------------------------------------------------------------------------\u001b[0m",
            "\u001b[0;31mAttributeError\u001b[0m                            Traceback (most recent call last)",
            "\u001b[0;32m<ipython-input-88-ebab49b87bf3>\u001b[0m in \u001b[0;36m<module>\u001b[0;34m()\u001b[0m\n\u001b[1;32m      2\u001b[0m \u001b[0;34m\u001b[0m\u001b[0m\n\u001b[1;32m      3\u001b[0m \u001b[0;31m# converte o corpus para o formato de saco de palavras\u001b[0m\u001b[0;34m\u001b[0m\u001b[0;34m\u001b[0m\u001b[0;34m\u001b[0m\u001b[0m\n\u001b[0;32m----> 4\u001b[0;31m \u001b[0mcorpus_filmes_bow\u001b[0m \u001b[0;34m=\u001b[0m \u001b[0;34m[\u001b[0m\u001b[0mdf_processado\u001b[0m\u001b[0;34m[\u001b[0m\u001b[0;34m'dicionario'\u001b[0m\u001b[0;34m]\u001b[0m\u001b[0;34m.\u001b[0m\u001b[0mdoc2bow\u001b[0m\u001b[0;34m(\u001b[0m\u001b[0mline\u001b[0m\u001b[0;34m)\u001b[0m \u001b[0;32mfor\u001b[0m \u001b[0mline\u001b[0m \u001b[0;32min\u001b[0m \u001b[0mdf_processado\u001b[0m\u001b[0;34m[\u001b[0m\u001b[0;34m'text_stopwords'\u001b[0m\u001b[0;34m]\u001b[0m\u001b[0;34m]\u001b[0m\u001b[0;34m\u001b[0m\u001b[0;34m\u001b[0m\u001b[0m\n\u001b[0m",
            "\u001b[0;32m<ipython-input-88-ebab49b87bf3>\u001b[0m in \u001b[0;36m<listcomp>\u001b[0;34m(.0)\u001b[0m\n\u001b[1;32m      2\u001b[0m \u001b[0;34m\u001b[0m\u001b[0m\n\u001b[1;32m      3\u001b[0m \u001b[0;31m# converte o corpus para o formato de saco de palavras\u001b[0m\u001b[0;34m\u001b[0m\u001b[0;34m\u001b[0m\u001b[0;34m\u001b[0m\u001b[0m\n\u001b[0;32m----> 4\u001b[0;31m \u001b[0mcorpus_filmes_bow\u001b[0m \u001b[0;34m=\u001b[0m \u001b[0;34m[\u001b[0m\u001b[0mdf_processado\u001b[0m\u001b[0;34m[\u001b[0m\u001b[0;34m'dicionario'\u001b[0m\u001b[0;34m]\u001b[0m\u001b[0;34m.\u001b[0m\u001b[0mdoc2bow\u001b[0m\u001b[0;34m(\u001b[0m\u001b[0mline\u001b[0m\u001b[0;34m)\u001b[0m \u001b[0;32mfor\u001b[0m \u001b[0mline\u001b[0m \u001b[0;32min\u001b[0m \u001b[0mdf_processado\u001b[0m\u001b[0;34m[\u001b[0m\u001b[0;34m'text_stopwords'\u001b[0m\u001b[0;34m]\u001b[0m\u001b[0;34m]\u001b[0m\u001b[0;34m\u001b[0m\u001b[0;34m\u001b[0m\u001b[0m\n\u001b[0m",
            "\u001b[0;32m/usr/local/lib/python3.6/dist-packages/pandas/core/generic.py\u001b[0m in \u001b[0;36m__getattr__\u001b[0;34m(self, name)\u001b[0m\n\u001b[1;32m   5139\u001b[0m             \u001b[0;32mif\u001b[0m \u001b[0mself\u001b[0m\u001b[0;34m.\u001b[0m\u001b[0m_info_axis\u001b[0m\u001b[0;34m.\u001b[0m\u001b[0m_can_hold_identifiers_and_holds_name\u001b[0m\u001b[0;34m(\u001b[0m\u001b[0mname\u001b[0m\u001b[0;34m)\u001b[0m\u001b[0;34m:\u001b[0m\u001b[0;34m\u001b[0m\u001b[0;34m\u001b[0m\u001b[0m\n\u001b[1;32m   5140\u001b[0m                 \u001b[0;32mreturn\u001b[0m \u001b[0mself\u001b[0m\u001b[0;34m[\u001b[0m\u001b[0mname\u001b[0m\u001b[0;34m]\u001b[0m\u001b[0;34m\u001b[0m\u001b[0;34m\u001b[0m\u001b[0m\n\u001b[0;32m-> 5141\u001b[0;31m             \u001b[0;32mreturn\u001b[0m \u001b[0mobject\u001b[0m\u001b[0;34m.\u001b[0m\u001b[0m__getattribute__\u001b[0m\u001b[0;34m(\u001b[0m\u001b[0mself\u001b[0m\u001b[0;34m,\u001b[0m \u001b[0mname\u001b[0m\u001b[0;34m)\u001b[0m\u001b[0;34m\u001b[0m\u001b[0;34m\u001b[0m\u001b[0m\n\u001b[0m\u001b[1;32m   5142\u001b[0m \u001b[0;34m\u001b[0m\u001b[0m\n\u001b[1;32m   5143\u001b[0m     \u001b[0;32mdef\u001b[0m \u001b[0m__setattr__\u001b[0m\u001b[0;34m(\u001b[0m\u001b[0mself\u001b[0m\u001b[0;34m,\u001b[0m \u001b[0mname\u001b[0m\u001b[0;34m:\u001b[0m \u001b[0mstr\u001b[0m\u001b[0;34m,\u001b[0m \u001b[0mvalue\u001b[0m\u001b[0;34m)\u001b[0m \u001b[0;34m->\u001b[0m \u001b[0;32mNone\u001b[0m\u001b[0;34m:\u001b[0m\u001b[0;34m\u001b[0m\u001b[0;34m\u001b[0m\u001b[0m\n",
            "\u001b[0;31mAttributeError\u001b[0m: 'Series' object has no attribute 'doc2bow'"
          ]
        }
      ]
    },
    {
      "cell_type": "code",
      "metadata": {
        "id": "USqcOZDD9mYZ"
      },
      "source": [
        "# computa para cada termo, a fórmula tf-idf\r\n",
        "model = TfidfModel(corpus_filmes_bow) "
      ],
      "execution_count": null,
      "outputs": []
    },
    {
      "cell_type": "code",
      "metadata": {
        "id": "fDk5URKa9rXE"
      },
      "source": [
        "# vamos ver a representação de um dos registro\r\n",
        "model[corpus_filmes_bow[230]] "
      ],
      "execution_count": null,
      "outputs": []
    },
    {
      "cell_type": "markdown",
      "metadata": {
        "id": "jXzvBElpX1as"
      },
      "source": [
        "## Representação WORD2VEC"
      ]
    },
    {
      "cell_type": "code",
      "metadata": {
        "id": "OIA9IZ_IWSix"
      },
      "source": [
        "# o algoritmo word2vec processa as palavras por sentença. Então precisamos dividir os textos\r\n",
        "# como sentenças para alimentar o nosso modelo. A função sent_tokenize do ntlk faz isso.\r\n",
        "corpus_movies = []\r\n",
        "for f_id in df_processado['text_stopwords'].fileids():\r\n",
        "    sent_lst = sent_tokenize(df_processado['text_stopwords'].raw(f_id))\r\n",
        "    for s in sent_lst:\r\n",
        "        corpus_movies.append(simple_preprocess(s))"
      ],
      "execution_count": null,
      "outputs": []
    },
    {
      "cell_type": "code",
      "metadata": {
        "id": "n-s3Os2FX1as"
      },
      "source": [
        "# parametros\n",
        "# min_count = Ignora todas as palavras com frequencia absoluta total\n",
        "# menor que isso\n",
        "# window = A distância máxima entre a palavra corrente e palavra predita em uma sentença. Aqui, duas palavras\n",
        "# palavras anteriores e duas palavras anteriores a palavra corrente.\n",
        "# size = Dimensão dos vetores densos ou word embeddings. \n",
        "w2v_model = Word2Vec(window=2, size=50)"
      ],
      "execution_count": null,
      "outputs": []
    },
    {
      "cell_type": "code",
      "metadata": {
        "id": "c79MhOudX1at"
      },
      "source": [
        "# o word2vec demanda a construção de uma tabela representando o vocabulário do nosso corpus.\n",
        "# Ou seja, simplesmente \"digerir\" todas as palavras e filtrar as palavras únicas, e fazer uma\n",
        "# contagem básica delas.\n",
        "w2v_model.build_vocab(X, progress_per=10000)"
      ],
      "execution_count": null,
      "outputs": []
    },
    {
      "cell_type": "code",
      "metadata": {
        "id": "6zvtyf9_X1at"
      },
      "source": [
        "# parametros\n",
        "# total_examples = Contagem de sentenças\n",
        "# epochs = Número de iterações (épocas) sobre o corpus\n",
        "\n",
        "w2v_model.train(X, total_examples=w2v_model.corpus_count, epochs=5)"
      ],
      "execution_count": null,
      "outputs": []
    },
    {
      "cell_type": "markdown",
      "metadata": {
        "id": "8qFSa1WPX1au"
      },
      "source": [
        "## Representação EXTRAÇÃO DE FEATURES"
      ]
    },
    {
      "cell_type": "code",
      "metadata": {
        "id": "mNeOyjRYUiGL"
      },
      "source": [
        "def get_features(data:np.array)->dict:\r\n",
        "    \r\n",
        "    dct_feats = {}\r\n",
        "    dct_feats = preprocess(data, feats=True)\r\n",
        "    \r\n",
        "    nlp = spacy.load('pt')\r\n",
        "\r\n",
        "    # Define o caminho da pasta para o dicionário ortográficos\r\n",
        "    PATH_TO = '/nlp/Projeto/aes-pt-master/dict'\r\n",
        "    # Carrega o dicionário ortográfico\r\n",
        "    hobj = Hunspell('pt_BR','pt_BR.aff', hunspell_data_dir=PATH_TO)\r\n",
        "\r\n",
        "    # Extraindo a quantidade de léxicos enviesados\r\n",
        "    dct_vies = {\r\n",
        "        'argumentativo':[],\r\n",
        "        'pressuposicao':[],\r\n",
        "        'possibilidade_necessidade':[],\r\n",
        "        'opiniao_valoracao':[]}\r\n",
        "\r\n",
        "    # Lê o dicionário de léxicos enviesadas\r\n",
        "    fd_dicionario_vies = open(\"dict/bias_words.txt\",\"r\", encoding='utf-8')\r\n",
        "\r\n",
        "    # Percorre o dicionário classificando cada termo\r\n",
        "    for line in fd_dicionario_vies:\r\n",
        "        entry = line.replace(\"\\n\",\"\").split(\",\")\r\n",
        "        term = entry[0].strip()\r\n",
        "        type_term = entry[1].strip()\r\n",
        "        dct_vies[type_term].append(term)\r\n",
        "\r\n",
        "    # Listas dos tipos de léxicos enviesados\r\n",
        "    arr_arg, arr_press, arr_pos_nec, arr_op_val = [],[],[],[]\r\n",
        "\r\n",
        "    # Listas das quantidades dos tipos de entidades\r\n",
        "    arr_per, arr_loc, arr_org, arr_misc = [],[],[],[]\r\n",
        "\r\n",
        "    # Listas de grupos por tamanho das sentenças\r\n",
        "    arr_sent5, arr_sent5_10, arr_sent10 = [],[],[]\r\n",
        "\r\n",
        "    # Listas das quantidade de caracteres e erros ortográficos\r\n",
        "    arr_erros, arr_chars = [],[]\r\n",
        "\r\n",
        "    # Listas de pos tagging\r\n",
        "    arr_verb, arr_adj, arr_noun, arr_adv = [],[],[],[]\r\n",
        "\r\n",
        "    for i in range(len(data)):\r\n",
        "\r\n",
        "        # Istancia o documento spacy\r\n",
        "        doc = nlp(str(data[i]))\r\n",
        "\r\n",
        "        # Contadores de palavras na sentença\r\n",
        "        qtd_sent5, qtd_sent5_10, qtd_sent10 = 0,0,0\r\n",
        "\r\n",
        "        # Separa o texto pelas sentenças\r\n",
        "        for sent in sent_tokenize(doc.text):\r\n",
        "\r\n",
        "            # Cria o array de tokens excluindo acentuação e stopword\r\n",
        "            arr_tok = [word for word in word_tokenize(sent)\\\r\n",
        "                       if word not in stop_words+[\"``\",\"''\",\"“\",'”']]\r\n",
        "\r\n",
        "            # Verifica o quantidade de tokens na senteça\r\n",
        "            if (len(arr_tok) <= 5):\r\n",
        "                # Conta as sentenças com 5 ou menos tokens\r\n",
        "                qtd_sent5 += 1\r\n",
        "\r\n",
        "            elif (len(arr_tok) > 10):\r\n",
        "                # Conta as sentenças com mais de 10 tokens\r\n",
        "                qtd_sent10 += 1\r\n",
        "            else:\r\n",
        "                # Conta as sentenças com 5 a 10 tokens\r\n",
        "                qtd_sent5_10 += 1            \r\n",
        "\r\n",
        "        arr_sent5.append(qtd_sent5 / len(doc))\r\n",
        "        arr_sent5_10.append(qtd_sent5_10 / len(doc))\r\n",
        "        arr_sent10.append(qtd_sent10 / len(doc))\r\n",
        "\r\n",
        "        # Contadores de cada tipo de entidade\r\n",
        "        qtd_per, qtd_loc, qtd_org, qtd_misc = 0,0,0,0\r\n",
        "        for entidy in doc.ents:\r\n",
        "            if entidy.label_ == 'PER':\r\n",
        "                qtd_per += 1\r\n",
        "            elif entidy.label_ == 'LOC':\r\n",
        "                qtd_loc += 1\r\n",
        "            elif entidy.label_ == 'ORG':\r\n",
        "                qtd_org += 1\r\n",
        "            elif entidy.label_ == 'MISC':\r\n",
        "                qtd_misc += 1\r\n",
        "\r\n",
        "        arr_per.append(qtd_per / len(doc))\r\n",
        "        arr_loc.append(qtd_loc / len(doc))\r\n",
        "        arr_org.append(qtd_org / len(doc))\r\n",
        "        arr_misc.append(qtd_misc / len(doc))\r\n",
        "\r\n",
        "        # Contadores de erros ortográficos e caracteres\r\n",
        "        qtd_erro, qtd_char = 0, 0\r\n",
        "\r\n",
        "        for tok in doc:\r\n",
        "            if tok.text not in stop_words+[\"–\",\"—\"]:\r\n",
        "\r\n",
        "                token = tok.text\r\n",
        "                qtd_char += len(token)\r\n",
        "\r\n",
        "                if not (hobj.spell(token)):\r\n",
        "                    qtd_erro += 1\r\n",
        "\r\n",
        "        arr_erros.append(qtd_erro / len(doc))\r\n",
        "        arr_chars.append(qtd_char / len(doc))\r\n",
        "\r\n",
        "        for type_term in dct_vies:\r\n",
        "            qtd_arg, qtd_pres, qtd_poss, qtd_opin = 0,0,0,0\r\n",
        "            for term in dct_vies[type_term]:\r\n",
        "                for sent in doc.sents:\r\n",
        "                    if term in sent.text.lower():\r\n",
        "                        if type_term == \"argumentativo\":\r\n",
        "                            qtd_arg += 1\r\n",
        "                        elif type_term == \"pressuposicao\":\r\n",
        "                            qtd_pres += 1\r\n",
        "                        elif type_term == \"possibilidade_necessidade\":\r\n",
        "                            qtd_poss += 1\r\n",
        "                        elif type_term == \"opiniao_valoracao\":\r\n",
        "                            qtd_opin += 1\r\n",
        "\r\n",
        "        arr_arg.append(qtd_arg / len(doc))\r\n",
        "        arr_press.append(qtd_pres / len(doc))\r\n",
        "        arr_pos_nec.append(qtd_poss / len(doc))\r\n",
        "        arr_op_val.append(qtd_opin / len(doc))\r\n",
        "\r\n",
        "        qtd_verb, qtd_adj, qtd_noun, qtd_adv = 0,0,0,0\r\n",
        "        for tok in doc:\r\n",
        "            if tok.pos_ == 'VERB':\r\n",
        "                qtd_verb += 1\r\n",
        "            if tok.pos_ == 'ADJ':\r\n",
        "                qtd_adj += 1\r\n",
        "            if tok.pos_ == 'NOUN':\r\n",
        "                qtd_noun += 1\r\n",
        "            if tok.pos_ == 'ADV':\r\n",
        "                qtd_adv += 1\r\n",
        "\r\n",
        "        arr_verb.append(qtd_verb / len(doc))\r\n",
        "        arr_adj.append(qtd_adj / len(doc))\r\n",
        "        arr_noun.append(qtd_noun / len(doc))\r\n",
        "        arr_adv.append(qtd_adv / len(doc))        \r\n",
        "    \r\n",
        "\r\n",
        "    dct_feats[\"sent5\"] = arr_sent5\r\n",
        "    dct_feats[\"sent5_10\"] = arr_sent5_10\r\n",
        "    dct_feats[\"sent10\"] = arr_sent10\r\n",
        "    \r\n",
        "    dct_feats[\"erros\"] = arr_erros\r\n",
        "    dct_feats[\"chars\"] = arr_chars\r\n",
        "\r\n",
        "    dct_feats[\"per\"] = arr_per\r\n",
        "    dct_feats[\"loc\"] = arr_loc\r\n",
        "    dct_feats[\"org\"] = arr_org\r\n",
        "    dct_feats[\"misc\"] = arr_misc\r\n",
        "    \r\n",
        "    dct_feats[\"arg\"] = arr_arg\r\n",
        "    dct_feats[\"press\"] = arr_press\r\n",
        "    dct_feats[\"pos_nec\"] = arr_pos_nec\r\n",
        "    dct_feats[\"op_val\"] = arr_op_val\r\n",
        "    \r\n",
        "    dct_feats[\"verb\"] = arr_verb\r\n",
        "    dct_feats[\"adj\"] = arr_adj\r\n",
        "    dct_feats[\"noun\"] = arr_noun\r\n",
        "    dct_feats[\"adv\"] = arr_adv\r\n",
        "    \r\n",
        "    return dct_feats\r\n",
        "\r\n",
        "dct_fts = get_features(X_train)"
      ],
      "execution_count": null,
      "outputs": []
    },
    {
      "cell_type": "markdown",
      "metadata": {
        "id": "GjQcWCwvoE03"
      },
      "source": [
        "# 3 - Visualização dos dados:\n",
        "Coloque nesta seção os gráficos do PCA e do t-SNE, para cada representação. Responda também às seguintes perguntas: \n",
        "\n",
        "a) Existe algum padrão com relação às classes? \n",
        "\n",
        "b) Caso exista algum padrão, você pode concluir alguma coisa? \n",
        "\n",
        "c) Caso não exista, você consegue dizer se isso tem a ver com alguma representação ou classe?"
      ]
    },
    {
      "cell_type": "code",
      "metadata": {
        "id": "mkyHVCNPOmcl"
      },
      "source": [
        "from sklearn.decomposition import PCA\r\n",
        "import matplotlib.pyplot as plt"
      ],
      "execution_count": null,
      "outputs": []
    },
    {
      "cell_type": "markdown",
      "metadata": {
        "id": "EGyerdbXOI0_"
      },
      "source": [
        "**PCA**"
      ]
    },
    {
      "cell_type": "code",
      "metadata": {
        "id": "kqCSm2IeOnwj"
      },
      "source": [
        "from sklearn.decomposition import PCA\r\n",
        "import matplotlib.pyplot as plt"
      ],
      "execution_count": null,
      "outputs": []
    },
    {
      "cell_type": "code",
      "metadata": {
        "id": "iS-QSeRfUpnd"
      },
      "source": [
        "# Voltar com o formato da feature para texto, mas sem as stop words\r\n",
        "nltk.download('machado')\r\n",
        "corpus_filmes = []\r\n",
        "for f_id in machado.fileids():\r\n",
        "    tok_lst = simple_preprocess(df_processado.raw(f_id)) #convertendo para o formato de texto\r\n",
        "    corpus_filmes.append(' '.join(tok_lst)) "
      ],
      "execution_count": null,
      "outputs": []
    },
    {
      "cell_type": "code",
      "metadata": {
        "id": "zvA7C7cxU1Ag"
      },
      "source": [
        "df_processado[1:4]"
      ],
      "execution_count": null,
      "outputs": []
    },
    {
      "cell_type": "code",
      "metadata": {
        "id": "Dx0WsBFsVZyP"
      },
      "source": [
        "matrix = df_processado['text_stopwords'].fit_transform(corpus_filmes)"
      ],
      "execution_count": null,
      "outputs": []
    },
    {
      "cell_type": "code",
      "metadata": {
        "id": "PbeoLKK0Vp60"
      },
      "source": [
        "!pip install -U yellowbrick\r\n",
        "from yellowbrick.features import PCA\r\n",
        "from sklearn.preprocessing import StandardScaler"
      ],
      "execution_count": null,
      "outputs": []
    },
    {
      "cell_type": "code",
      "metadata": {
        "id": "YjH2lB0TVq04"
      },
      "source": [
        "sc = StandardScaler(with_mean=False)\r\n",
        "matrix = sc.fit_transform(matrix)"
      ],
      "execution_count": null,
      "outputs": []
    },
    {
      "cell_type": "code",
      "metadata": {
        "id": "06LcT8rfVyqN"
      },
      "source": [
        "# o que podemos concluir? os pontos são muito parecido, mas existem dois bem diferentes? \r\n",
        "# quem são esses dois?\r\n",
        "visualizer = PCA(scale=True)\r\n",
        "visualizer.fit_transform(matrix.toarray())\r\n",
        "visualizer.show()"
      ],
      "execution_count": null,
      "outputs": []
    },
    {
      "cell_type": "markdown",
      "metadata": {
        "id": "qhUANEojOK0Q"
      },
      "source": [
        "t-**SNE**"
      ]
    },
    {
      "cell_type": "code",
      "metadata": {
        "id": "VxTywK9lN37G"
      },
      "source": [
        "from yellowbrick.text import TSNEVisualizer"
      ],
      "execution_count": null,
      "outputs": []
    },
    {
      "cell_type": "code",
      "metadata": {
        "id": "hLtNdnaTV2GR"
      },
      "source": [
        "tsne = TSNEVisualizer()\r\n",
        "\r\n",
        "# se existissem classes, poderiamos visualizar os pontos com cores diferentes. Cada um de acordo\r\n",
        "# com uma classe.\r\n",
        "tsne.fit(matrix.toarray())\r\n",
        "tsne.show()"
      ],
      "execution_count": null,
      "outputs": []
    },
    {
      "cell_type": "markdown",
      "metadata": {
        "id": "wJdNwYb9kEDh"
      },
      "source": [
        "# 4 - Classificadores : \n",
        "Descreva sucintamente os dois classificadores escolhidos. Você usou algum parâmetro que não seja padrão? Se sim, mencione nesta seção."
      ]
    },
    {
      "cell_type": "code",
      "metadata": {
        "id": "FMk19I8JWO0h"
      },
      "source": [
        "#EXEMPLO\r\n",
        "\r\n",
        "A tarefa escolhida foi a classificação de redações no estilo do ENEM. O objetivo é classificar cada redação de acordo com o grupo de \r\n",
        "notas 0, 200, 400, 600, 800 e 1000. O Corpus possui 1840 instâncias e a média de tokens por documento é 226,85.\r\n",
        "print(f'Quantidade de instâncias do Corpus: {len(data)}')\r\n",
        "print(f'Média de tokens por documento: {np.mean(toks)}')\r\n",
        "\r\n"
      ],
      "execution_count": null,
      "outputs": []
    },
    {
      "cell_type": "markdown",
      "metadata": {
        "id": "CwMrGsQKkJOR"
      },
      "source": [
        "# 5 - Resultados: \n",
        "Escreva código que execute a validação cruzada em 5-folds para os dois classificadores escolhidos. Também responda às seguintes perguntas: Os embeddings realmente mostraram um resultado melhor que o TF-IDF? Se não, qual foi a representação que teve o melhor desempenho? A diferença foi muito grande?"
      ]
    },
    {
      "cell_type": "markdown",
      "metadata": {
        "id": "hnqG24ZTkMsu"
      },
      "source": [
        "# 6 - Conclusão: \n",
        "Por fim fale aqui o que você conclui das visualizações e dos resultados. Tente explicar em detalhes por que um resultado, na sua opinião, foi melhor do que outro. Esta explicação pode incluir hipóteses para resultados melhores ou resultados piores. Também pode falar das dificuldades enfrentadas durante o trabalho e como conseguiu contorná-las."
      ]
    }
  ]
}