{
  "nbformat": 4,
  "nbformat_minor": 0,
  "metadata": {
    "accelerator": "GPU",
    "colab": {
      "name": "projeto4_NLP.ipynb",
      "provenance": [],
      "collapsed_sections": [
        "rxLYuJ3IjFdk",
        "xVos9YWln6m7",
        "r8cDe6KMX1aa",
        "cW0pRDlyX1ad",
        "7QLDjXjQX1af"
      ]
    },
    "kernelspec": {
      "display_name": "Python 3",
      "language": "python",
      "name": "python3"
    }
  },
  "cells": [
    {
      "cell_type": "markdown",
      "metadata": {
        "id": "rxLYuJ3IjFdk"
      },
      "source": [
        "# **Descrição do projeto do Módulo de NLP**"
      ]
    },
    {
      "cell_type": "markdown",
      "metadata": {
        "id": "0r5BTBhKibMm"
      },
      "source": [
        "\r\n",
        "No projeto do módulo de NLP vamos tentar resolver um problema de classificação de textos. Você escolherá um de três datasets cujo objetivo é classificar em um conjunto de classes. Você deverá utilizar três metodologias ensinadas em nossas aulas para poder classificar esses textos. A seguir, mais detalhes do projeto para que você possa resolver.\r\n",
        "\r\n",
        "\r\n",
        "Os produtos finais deste projeto será um Notebook Python. As seções seguintes detalham como você deve proceder para gerar o código e a última seção deve especificar a estrutura que seu notebook deve seguir.\r\n",
        "\r\n",
        "## 1. Dados\r\n",
        "Você poderá escolher três tarefas para resolver no projeto. A seguir existe a breve descrição de cada tarefa e um link para onde você poderá baixar os dados. \r\n",
        "\r\n",
        "O corpus UTL é um corpus com críticas de filmes e apps coletadas automaticamente de sites. As classes são: positiva ou negativa. Assim o usuário pode ter gostado ou não gostado do produto. Referência: https://github.com/RogerFig/UTLCorpus \r\n",
        "O corpus UOL AES-PT é um corpus de redações no estilo do ENEM. Cada redação possui um tópico e um conjunto de redações relacionadas. Nesse corpus, existem vários tópicos e suas respectivas redações. O objetivo é predizer a nota final de cada redação de acordo com o grupo de notas 0, 200, 400, 600, 800 e 1000. Para mais informações e download dos dados, acesse o link: https://github.com/evelinamorim/aes-pt .\r\n",
        "O corpus TweetSentBr é um corpus em português de tweets. Cada tweet está rotulado com uma das classes: positivo, negativo e neutro. Para mais informações e download do corpus, acesse o link https://bitbucket.org/HBrum/tweetsentbr/src/master/ .\r\n",
        "\r\n",
        "## 2. Representação\r\n",
        "Vimos durante a nossa aula diversas forma de representar um documento de texto. Você vai usar cada uma dessas representações e compará-las. A seguir temos a listagem das representações que devem ser usadas para representar seu texto.\r\n",
        "Representação TF-IDF. Você pode usar tanto o gensim quanto o scikit para montar esta representação, mas lembre-se que é importante fazer o pré-processamento dos textos.\r\n",
        "Representação com o word2vec. O modelo poderá ser o apresentado na aula 03 ou algum outro modelo pré-treinado como os existentes no repositório http://nilc.icmc.usp.br/nilc/index.php/repositorio-de-word-embeddings-do-nilc . Neste caso, cada documento deverá ser representado pelo vetor que resultar da média dos vetores de todas as palavras que o compõem. Em outras palavras, se D é composto pelas palavras w1, w2, …, wn, e seus vetores embeddings são v1, v2, …, vn, então a representação do documento de D será v = (v1 + v2 + … + vn) / n. \r\n",
        "Extração de features do texto. Você deve pensar em ao menos 10 features para extrair do documento e que o possam representar. Aqui vão algumas sugestões: número de palavras, número de verbos, número de conjunções, número de palavras negativas, número de palavras fora do vocabulário, quantidades de entidades do tipo PESSOA, quantidade de entidades do tipo LOCAL, etc.\r\n",
        "\r\n",
        "Lembrando que você deve dividir seu conjunto em treino e teste. No TF-IDF, você só pode aplicar o método fit no conjunto de treino. Uma sugestão é dividir 80% do conjunto de dados para treino e 20% para teste. Essa divisão é aleatória, mas você pode usar o método train_test_split para essa divisão. O exemplo a seguir mostra como usar esse método:\r\n",
        "\r\n",
        "from sklearn.model_selection import train_test_split\r\n",
        "\r\n",
        "\r\n",
        " X_train, X_test, y_train, y_test = train_test_split(\r\n",
        "...    X, y, test_size=0.20, random_state=42)\r\n",
        "\r\n",
        "## 3. Visualização dos dados\r\n",
        "\r\n",
        "Também vimos que embora o nosso texto apresente dimensionalidade maior que 2D, é possível visualizar em apenas duas dimensões usando técnicas de redução de dimensionalidade. Vimos duas técnicas de redução de dimensionalidade, o PCA e o t-SNE. Assim, pede-se que você utilize as duas técnicas para gerar uma visualização dos seus dados e considere as classes para colorir as instâncias. \r\n",
        "\r\n",
        "Sugere-se utilizar a biblioteca yellowbrick para gerar as visualizações, devido sua simplicidade. Mas caso tenha interesse em gerar visualizações mais interativas e mais bonitas, você pode utilizar a biblioteca seaborn. Para uma galeria dos gráficos que o seaborn é capaz de fazer, acesse o link https://seaborn.pydata.org/examples/index.html . Apenas acrescentando em seu código import seaborn as sns; sns.set() , também é possível deixar o gráfico com cores mais bonitas. Todas essas bibliotecas precisam do matplotlib, que já está importado no exemplo da aula.\r\n",
        "\r\n",
        "Aqui você deve fazer a visualização apenas do seu conjunto de treino.\r\n",
        "## 4. Classificadores\r\n",
        "\r\n",
        "Escolha dois classificadores que você possua mais familiaridade no scikit-learn para poder classificar os seus dados. Você deve executar cada um dos classificadores nas três representações escolhidas. \r\n",
        "\r\n",
        "Você pode usar o k-nn como um dos métodos. Outros métodos estão disponíveis no scikit, como por exemplo o SVM e o RandomForest.\r\n",
        "\r\n",
        "## 5. Métricas de avaliação\r\n",
        "\r\n",
        "Para os corpus TweetSentBR e UTL, pede-se que se use a matriz de confusão, a precisão, o recall e o f-1 para reportar a acurácia dos seus classificadores. No caso do corpus UOL AES-PT pede-se que se use o erro médio apenas.\r\n",
        "\r\n"
      ]
    },
    {
      "cell_type": "markdown",
      "metadata": {
        "id": "0myAsoSHid2I"
      },
      "source": [
        ""
      ]
    },
    {
      "cell_type": "markdown",
      "metadata": {
        "id": "bYYabv8fjWif"
      },
      "source": [
        "# Estrutura"
      ]
    },
    {
      "cell_type": "markdown",
      "metadata": {
        "id": "ynv0u9vojj9D"
      },
      "source": [
        "Estrutura do Notebook\r\n",
        "\r\n",
        "O seu notebook deve ser dividido por seções que possuam  uma célula do tipo Markdown. Nesta célula deve ter o título da seção antecedida por um marcador do tipo #. O título de cada seção deverá ser como a lista abaixo. Além do título, é possível que a seção demande a descrição de resultados ou outro tipo de texto. Nestes casos, coloque o texto junto à célula do título. Se houver código solicitado para a seção, então as células restantes devem ser de código solicitado.  \r\n",
        "O relatório deve ser organizado nas seguintes seções:\r\n",
        "\r\n",
        "\r\n",
        "\r\n",
        "\r\n",
        "\r\n",
        "1.   Tarefa e Dados\r\n",
        "\r\n",
        "2.   Classificadores\r\n",
        "\r\n",
        "3.   Resultados\r\n",
        "\r\n",
        "4.   Resultados\r\n"
      ]
    },
    {
      "cell_type": "markdown",
      "metadata": {
        "id": "xVos9YWln6m7"
      },
      "source": [
        "## 1 - Tarefa e Dados: \r\n",
        "Descreva a tarefa escolhida e os dados. Escreva código que leia os dados e calcule e imprima quantas instâncias os dados têm. Também, seu código deve calcular a média de tokens por instância, isto é, quantos tokens, na média cada documento do seu conjunto de dados possui. Imprima esse único número.\r\n",
        "\r\n",
        "Você poderá escolher três tarefas para resolver no projeto. A seguir existe a breve descrição de cada tarefa e um link para onde você poderá baixar os dados.\r\n",
        "\r\n",
        "O corpus UTL é um corpus com críticas de filmes e apps coletadas automaticamente de sites. As classes são: positiva ou negativa. Assim o usuário pode ter gostado ou não gostado do produto. Referência: https://github.com/RogerFig/UTLCorpus.\r\n",
        "\r\n",
        "O corpus UOL AES-PT é um corpus de redações no estilo do ENEM. Cada redação possui um tópico e um conjunto de redações relacionadas. Nesse corpus, existem vários tópicos e suas respectivas redações. O objetivo é predizer a nota final de cada redação de acordo com o grupo de notas 0, 200, 400, 600, 800 e 1000. Para mais informações e download dos dados, acesse o link: https://github.com/evelinamorim/aes-pt.\r\n",
        "\r\n",
        "O corpus TweetSentBr é um corpus em português de tweets. Cada tweet está rotulado com uma das classes: positivo, negativo e neutro. Para mais informações e download do corpus, acesse o link https://bitbucket.org/HBrum/tweetsentbr/src/master/."
      ]
    },
    {
      "cell_type": "markdown",
      "metadata": {
        "id": "gRmPygTVlXTG"
      },
      "source": [
        "A base escolhido é a do corpus UTL é um corpus com críticas de filmes e apps coletadas automaticamente de sites. As classes são: positiva ou negativa. Assim o usuário pode ter gostado ou não gostado do produto. Referência: https://github.com/RogerFig/UTLCorpus."
      ]
    },
    {
      "cell_type": "markdown",
      "metadata": {
        "id": "AD5iPWAJX1aX"
      },
      "source": [
        "## Importanto as bibliotecas necessárias"
      ]
    },
    {
      "cell_type": "code",
      "metadata": {
        "colab": {
          "base_uri": "https://localhost:8080/"
        },
        "id": "sMEXm13uX54E",
        "outputId": "1f1e708f-31e4-478e-cee2-24edee9c317a"
      },
      "source": [
        "### # montando o drive do google onde o corpus se encontra\r\n",
        "from google.colab import drive\r\n",
        "drive.mount('/content/drive')\r\n",
        "\r\n",
        "### Entrando no diretório\r\n",
        "%cd drive/MyDrive/Colab Notebooks/NLP/trabalho"
      ],
      "execution_count": 2,
      "outputs": [
        {
          "output_type": "stream",
          "text": [
            "Mounted at /content/drive\n",
            "/content/drive/MyDrive/Colab Notebooks/NLP/trabalho\n"
          ],
          "name": "stdout"
        }
      ]
    },
    {
      "cell_type": "code",
      "metadata": {
        "colab": {
          "base_uri": "https://localhost:8080/"
        },
        "id": "xizqZPgGX1aX",
        "outputId": "64149838-cad1-45e4-d64f-05e251eacf36"
      },
      "source": [
        "import nltk\n",
        "nltk.download('punkt')\n",
        "\n",
        "%matplotlib inline\n",
        "#nltk.download('punkt')\n",
        "nltk.download('stopwords')\n",
        "#nltk.download('wordnet')"
      ],
      "execution_count": null,
      "outputs": [
        {
          "output_type": "stream",
          "text": [
            "[nltk_data] Downloading package punkt to /root/nltk_data...\n",
            "[nltk_data]   Unzipping tokenizers/punkt.zip.\n",
            "[nltk_data] Downloading package stopwords to /root/nltk_data...\n",
            "[nltk_data]   Unzipping corpora/stopwords.zip.\n"
          ],
          "name": "stdout"
        },
        {
          "output_type": "execute_result",
          "data": {
            "text/plain": [
              "True"
            ]
          },
          "metadata": {
            "tags": []
          },
          "execution_count": 7
        }
      ]
    },
    {
      "cell_type": "code",
      "metadata": {
        "id": "X9Tkls2bX1aa"
      },
      "source": [
        "import pandas as pd\n",
        "import numpy as np\n",
        "\n",
        "import time # usado para calcular o tempo de processamento de algumas partes do código\n",
        "import string # usado para concatenar string no stop words\n",
        "\n",
        "\n",
        "from nltk.tokenize import word_tokenize\n",
        "\n",
        "# REPRESENTAÇÕES\n",
        "from gensim.models import Word2Vec\n",
        "from gensim.models import TfidfModel\n",
        "from gensim.corpora import Dictionary # para uso do TF-IDF\n"
      ],
      "execution_count": 3,
      "outputs": []
    },
    {
      "cell_type": "markdown",
      "metadata": {
        "id": "r8cDe6KMX1aa"
      },
      "source": [
        "## Abrindo o arquivo"
      ]
    },
    {
      "cell_type": "code",
      "metadata": {
        "colab": {
          "base_uri": "https://localhost:8080/",
          "height": 261
        },
        "id": "aDWnK_yiZgu8",
        "outputId": "1ffbec64-4ca7-42a3-93c8-626ab871b89d"
      },
      "source": [
        "# abrindo o arquivo no colab\r\n",
        "df_util = pd.read_csv('/content/drive/MyDrive/Colab Notebooks/NLP/trabalho/dados/UTLCorpus.csv')\r\n",
        "df_util.head(3)"
      ],
      "execution_count": null,
      "outputs": [
        {
          "output_type": "execute_result",
          "data": {
            "text/html": [
              "<div>\n",
              "<style scoped>\n",
              "    .dataframe tbody tr th:only-of-type {\n",
              "        vertical-align: middle;\n",
              "    }\n",
              "\n",
              "    .dataframe tbody tr th {\n",
              "        vertical-align: top;\n",
              "    }\n",
              "\n",
              "    .dataframe thead th {\n",
              "        text-align: right;\n",
              "    }\n",
              "</style>\n",
              "<table border=\"1\" class=\"dataframe\">\n",
              "  <thead>\n",
              "    <tr style=\"text-align: right;\">\n",
              "      <th></th>\n",
              "      <th>Unnamed: 0</th>\n",
              "      <th>domain</th>\n",
              "      <th>object</th>\n",
              "      <th>author</th>\n",
              "      <th>text</th>\n",
              "      <th>likes</th>\n",
              "      <th>unlikes</th>\n",
              "      <th>stars</th>\n",
              "      <th>date</th>\n",
              "      <th>collect_date</th>\n",
              "      <th>replies</th>\n",
              "      <th>favorite</th>\n",
              "      <th>want_see</th>\n",
              "      <th>recommend</th>\n",
              "      <th>see</th>\n",
              "      <th>internal_id</th>\n",
              "    </tr>\n",
              "  </thead>\n",
              "  <tbody>\n",
              "    <tr>\n",
              "      <th>0</th>\n",
              "      <td>0</td>\n",
              "      <td>movies</td>\n",
              "      <td>007-cassino-royale-t23</td>\n",
              "      <td>0</td>\n",
              "      <td>Um dos melhores do 007</td>\n",
              "      <td>0</td>\n",
              "      <td>0</td>\n",
              "      <td>3.5</td>\n",
              "      <td>8 anos atrás</td>\n",
              "      <td>20-04-2019 06:20</td>\n",
              "      <td>0.0</td>\n",
              "      <td>0.0</td>\n",
              "      <td>0.0</td>\n",
              "      <td>NaN</td>\n",
              "      <td>1.0</td>\n",
              "      <td>0</td>\n",
              "    </tr>\n",
              "    <tr>\n",
              "      <th>1</th>\n",
              "      <td>1</td>\n",
              "      <td>movies</td>\n",
              "      <td>007-cassino-royale-t23</td>\n",
              "      <td>1</td>\n",
              "      <td>assisti só pela metade..do meio ao fim, o film...</td>\n",
              "      <td>0</td>\n",
              "      <td>0</td>\n",
              "      <td>4.0</td>\n",
              "      <td>8 anos atrás</td>\n",
              "      <td>20-04-2019 06:20</td>\n",
              "      <td>0.0</td>\n",
              "      <td>0.0</td>\n",
              "      <td>0.0</td>\n",
              "      <td>NaN</td>\n",
              "      <td>1.0</td>\n",
              "      <td>1</td>\n",
              "    </tr>\n",
              "    <tr>\n",
              "      <th>2</th>\n",
              "      <td>2</td>\n",
              "      <td>movies</td>\n",
              "      <td>007-cassino-royale-t23</td>\n",
              "      <td>2</td>\n",
              "      <td>foi um dos filmes mais violentos q já vi. mas ...</td>\n",
              "      <td>0</td>\n",
              "      <td>0</td>\n",
              "      <td>4.0</td>\n",
              "      <td>8 anos atrás</td>\n",
              "      <td>20-04-2019 06:20</td>\n",
              "      <td>0.0</td>\n",
              "      <td>0.0</td>\n",
              "      <td>0.0</td>\n",
              "      <td>NaN</td>\n",
              "      <td>1.0</td>\n",
              "      <td>2</td>\n",
              "    </tr>\n",
              "  </tbody>\n",
              "</table>\n",
              "</div>"
            ],
            "text/plain": [
              "   Unnamed: 0  domain                  object  ...  recommend  see  internal_id\n",
              "0           0  movies  007-cassino-royale-t23  ...        NaN  1.0            0\n",
              "1           1  movies  007-cassino-royale-t23  ...        NaN  1.0            1\n",
              "2           2  movies  007-cassino-royale-t23  ...        NaN  1.0            2\n",
              "\n",
              "[3 rows x 16 columns]"
            ]
          },
          "metadata": {
            "tags": []
          },
          "execution_count": 9
        }
      ]
    },
    {
      "cell_type": "code",
      "metadata": {
        "id": "Zg6ztZNiX1ab"
      },
      "source": [
        "# abrindo o arquivo localmente\n",
        "# df_util = pd.read_csv(r'C:\\Users\\Herica\\Documents\\Herica\\Pos\\GitHub\\base\\NLP\\UTLCorpus.csv')\n",
        "# df_util.head(3)"
      ],
      "execution_count": null,
      "outputs": []
    },
    {
      "cell_type": "markdown",
      "metadata": {
        "id": "bDjKfg7ZX1ab"
      },
      "source": [
        "# Analisando os dados"
      ]
    },
    {
      "cell_type": "code",
      "metadata": {
        "colab": {
          "base_uri": "https://localhost:8080/"
        },
        "id": "ZzQYH6hFX1ac",
        "outputId": "bbd41ca5-d662-4b2a-b225-50f33c8820fb"
      },
      "source": [
        "# Verificando quais os tipos da feature domain\n",
        "df_util.domain.unique()"
      ],
      "execution_count": null,
      "outputs": [
        {
          "output_type": "execute_result",
          "data": {
            "text/plain": [
              "array(['movies', 'apps'], dtype=object)"
            ]
          },
          "metadata": {
            "tags": []
          },
          "execution_count": 11
        }
      ]
    },
    {
      "cell_type": "code",
      "metadata": {
        "id": "kBey34QFX1ac"
      },
      "source": [
        "qtde_moveis = len(df_util[df_util['domain'] == 'movies'])\n",
        "qtde_apps = len(df_util[df_util['domain'] == 'apps'])"
      ],
      "execution_count": null,
      "outputs": []
    },
    {
      "cell_type": "code",
      "metadata": {
        "id": "zJT_WLv_X1ad"
      },
      "source": [
        "# Selecionando somente o registros do tipo movies\n",
        "df_movies = df_util[df_util['domain'] == 'movies']"
      ],
      "execution_count": null,
      "outputs": []
    },
    {
      "cell_type": "markdown",
      "metadata": {
        "id": "cW0pRDlyX1ad"
      },
      "source": [
        "## Selecionando as features de interesse"
      ]
    },
    {
      "cell_type": "code",
      "metadata": {
        "colab": {
          "base_uri": "https://localhost:8080/",
          "height": 142
        },
        "id": "ApPfEhv_X1ae",
        "outputId": "fa20762c-e457-4539-8c4b-9267cdab71b8"
      },
      "source": [
        "df_movies = df_movies[['object', 'text', 'likes']]\n",
        "df_movies.head(3)"
      ],
      "execution_count": null,
      "outputs": [
        {
          "output_type": "execute_result",
          "data": {
            "text/html": [
              "<div>\n",
              "<style scoped>\n",
              "    .dataframe tbody tr th:only-of-type {\n",
              "        vertical-align: middle;\n",
              "    }\n",
              "\n",
              "    .dataframe tbody tr th {\n",
              "        vertical-align: top;\n",
              "    }\n",
              "\n",
              "    .dataframe thead th {\n",
              "        text-align: right;\n",
              "    }\n",
              "</style>\n",
              "<table border=\"1\" class=\"dataframe\">\n",
              "  <thead>\n",
              "    <tr style=\"text-align: right;\">\n",
              "      <th></th>\n",
              "      <th>object</th>\n",
              "      <th>text</th>\n",
              "      <th>likes</th>\n",
              "    </tr>\n",
              "  </thead>\n",
              "  <tbody>\n",
              "    <tr>\n",
              "      <th>0</th>\n",
              "      <td>007-cassino-royale-t23</td>\n",
              "      <td>Um dos melhores do 007</td>\n",
              "      <td>0</td>\n",
              "    </tr>\n",
              "    <tr>\n",
              "      <th>1</th>\n",
              "      <td>007-cassino-royale-t23</td>\n",
              "      <td>assisti só pela metade..do meio ao fim, o film...</td>\n",
              "      <td>0</td>\n",
              "    </tr>\n",
              "    <tr>\n",
              "      <th>2</th>\n",
              "      <td>007-cassino-royale-t23</td>\n",
              "      <td>foi um dos filmes mais violentos q já vi. mas ...</td>\n",
              "      <td>0</td>\n",
              "    </tr>\n",
              "  </tbody>\n",
              "</table>\n",
              "</div>"
            ],
            "text/plain": [
              "                   object  ... likes\n",
              "0  007-cassino-royale-t23  ...     0\n",
              "1  007-cassino-royale-t23  ...     0\n",
              "2  007-cassino-royale-t23  ...     0\n",
              "\n",
              "[3 rows x 3 columns]"
            ]
          },
          "metadata": {
            "tags": []
          },
          "execution_count": 14
        }
      ]
    },
    {
      "cell_type": "markdown",
      "metadata": {
        "id": "t5wE53KyX1ae"
      },
      "source": [
        "DESCRIÇÃO DAS FEATURES QUE SERÃO UTILIZADAS NO TRABALHO\n",
        "\n",
        "object -> Nome do filme\n",
        "\n",
        "text -> avalianção dos filme feita pelos usuários"
      ]
    },
    {
      "cell_type": "code",
      "metadata": {
        "colab": {
          "base_uri": "https://localhost:8080/"
        },
        "id": "HevXuRfvX1ae",
        "outputId": "845252d6-f511-4a34-b13a-f621bd7b8458"
      },
      "source": [
        "df_movies.columns"
      ],
      "execution_count": null,
      "outputs": [
        {
          "output_type": "execute_result",
          "data": {
            "text/plain": [
              "Index(['object', 'text', 'likes'], dtype='object')"
            ]
          },
          "metadata": {
            "tags": []
          },
          "execution_count": 15
        }
      ]
    },
    {
      "cell_type": "code",
      "metadata": {
        "colab": {
          "base_uri": "https://localhost:8080/"
        },
        "id": "4KQDwIAgX1af",
        "outputId": "4726afc4-5837-4e18-be51-e60608286517"
      },
      "source": [
        "# analisando a qtde de filmes avaliados\n",
        "df_movies['object'].value_counts()"
      ],
      "execution_count": null,
      "outputs": [
        {
          "output_type": "execute_result",
          "data": {
            "text/plain": [
              "cisne-negro-t16349                               7839\n",
              "os-vingadores-t15324                             7059\n",
              "as-vantagens-de-ser-invisivel-t29850             6940\n",
              "batman-o-cavaleiro-das-trevas-ressurge-t19914    6413\n",
              "a-origem-t10852                                  5801\n",
              "                                                 ... \n",
              "cheia-de-graca-t207718                              1\n",
              "desacordo-perfeito-t10844                           1\n",
              "beckoning-the-butcher-t214249                       1\n",
              "the-story-of-the-stone-t265965                      1\n",
              "fake-orgasm-t81041                                  1\n",
              "Name: object, Length: 4203, dtype: int64"
            ]
          },
          "metadata": {
            "tags": []
          },
          "execution_count": 16
        }
      ]
    },
    {
      "cell_type": "code",
      "metadata": {
        "colab": {
          "base_uri": "https://localhost:8080/",
          "height": 142
        },
        "id": "6LF8hJPZ3H5O",
        "outputId": "e47a8b84-14f4-40e8-a97a-ccab8967b14f"
      },
      "source": [
        "# convertendo as palavras do campo texto para lowcase\r\n",
        "df_movies['text_lower'] = df_movies['text'].astype('str').str.lower()\r\n",
        "df_movies[['text','text_lower']].head(3)"
      ],
      "execution_count": null,
      "outputs": [
        {
          "output_type": "execute_result",
          "data": {
            "text/html": [
              "<div>\n",
              "<style scoped>\n",
              "    .dataframe tbody tr th:only-of-type {\n",
              "        vertical-align: middle;\n",
              "    }\n",
              "\n",
              "    .dataframe tbody tr th {\n",
              "        vertical-align: top;\n",
              "    }\n",
              "\n",
              "    .dataframe thead th {\n",
              "        text-align: right;\n",
              "    }\n",
              "</style>\n",
              "<table border=\"1\" class=\"dataframe\">\n",
              "  <thead>\n",
              "    <tr style=\"text-align: right;\">\n",
              "      <th></th>\n",
              "      <th>text</th>\n",
              "      <th>text_lower</th>\n",
              "    </tr>\n",
              "  </thead>\n",
              "  <tbody>\n",
              "    <tr>\n",
              "      <th>0</th>\n",
              "      <td>Um dos melhores do 007</td>\n",
              "      <td>um dos melhores do 007</td>\n",
              "    </tr>\n",
              "    <tr>\n",
              "      <th>1</th>\n",
              "      <td>assisti só pela metade..do meio ao fim, o film...</td>\n",
              "      <td>assisti só pela metade..do meio ao fim, o film...</td>\n",
              "    </tr>\n",
              "    <tr>\n",
              "      <th>2</th>\n",
              "      <td>foi um dos filmes mais violentos q já vi. mas ...</td>\n",
              "      <td>foi um dos filmes mais violentos q já vi. mas ...</td>\n",
              "    </tr>\n",
              "  </tbody>\n",
              "</table>\n",
              "</div>"
            ],
            "text/plain": [
              "                                                text                                         text_lower\n",
              "0                             Um dos melhores do 007                             um dos melhores do 007\n",
              "1  assisti só pela metade..do meio ao fim, o film...  assisti só pela metade..do meio ao fim, o film...\n",
              "2  foi um dos filmes mais violentos q já vi. mas ...  foi um dos filmes mais violentos q já vi. mas ..."
            ]
          },
          "metadata": {
            "tags": []
          },
          "execution_count": 17
        }
      ]
    },
    {
      "cell_type": "markdown",
      "metadata": {
        "id": "7QLDjXjQX1af"
      },
      "source": [
        "## Verificando e deletando registros nulos"
      ]
    },
    {
      "cell_type": "code",
      "metadata": {
        "colab": {
          "base_uri": "https://localhost:8080/"
        },
        "id": "jwV-0Ry3X1ag",
        "outputId": "34a80a68-d722-4423-a4e1-0e43183bbda4"
      },
      "source": [
        "df_movies.isnull().sum()"
      ],
      "execution_count": null,
      "outputs": [
        {
          "output_type": "execute_result",
          "data": {
            "text/plain": [
              "object          0\n",
              "text          956\n",
              "likes           0\n",
              "text_lower      0\n",
              "dtype: int64"
            ]
          },
          "metadata": {
            "tags": []
          },
          "execution_count": 18
        }
      ]
    },
    {
      "cell_type": "code",
      "metadata": {
        "colab": {
          "base_uri": "https://localhost:8080/"
        },
        "id": "0rVXhpQWX1ag",
        "outputId": "ae6f3dff-09b7-4d01-b74b-6eac0ba7907f"
      },
      "source": [
        "# deletando os registros nulos\n",
        "qtde_anterior_nulos = df_movies.shape[0]\n",
        "df_movies.dropna(subset=['text'], inplace = True)\n",
        "qtde_pos_exclusao_nulos = df_movies.shape[0]\n",
        "\n",
        "print (\"Antes:\", qtde_anterior_nulos, 'Depois:', qtde_pos_exclusao_nulos, 'Diferença:', qtde_anterior_nulos-qtde_pos_exclusao_nulos)"
      ],
      "execution_count": null,
      "outputs": [
        {
          "output_type": "stream",
          "text": [
            "Antes: 1839851 Depois: 1838895 Diferença: 956\n"
          ],
          "name": "stdout"
        }
      ]
    },
    {
      "cell_type": "code",
      "metadata": {
        "colab": {
          "base_uri": "https://localhost:8080/"
        },
        "id": "yxQoPiQBX1ah",
        "outputId": "a1b2911d-a1b0-4466-a7f7-361c57c7c5ac"
      },
      "source": [
        "# Validando a exclusão\n",
        "df_movies.isnull().sum()"
      ],
      "execution_count": null,
      "outputs": [
        {
          "output_type": "execute_result",
          "data": {
            "text/plain": [
              "object        0\n",
              "text          0\n",
              "likes         0\n",
              "text_lower    0\n",
              "dtype: int64"
            ]
          },
          "metadata": {
            "tags": []
          },
          "execution_count": 20
        }
      ]
    },
    {
      "cell_type": "markdown",
      "metadata": {
        "id": "bZMwZtzEX1ah"
      },
      "source": [
        "## Pré-processando os dados"
      ]
    },
    {
      "cell_type": "code",
      "metadata": {
        "colab": {
          "base_uri": "https://localhost:8080/"
        },
        "id": "vBSL7EonX1al",
        "outputId": "1d770f9f-8e7b-42f9-b4dd-a9cef4d641b7"
      },
      "source": [
        "# definindo e visualizando as stop-words\n",
        "stp_words = nltk.corpus.stopwords.words('portuguese')\n",
        "stop_words = stp_words +' '.join(string.punctuation).split(' ')+[\"``\",\"''\",\"“\",'”']\n",
        "\n",
        "print('Visualizando as stopwords \\n', stop_words)"
      ],
      "execution_count": null,
      "outputs": [
        {
          "output_type": "stream",
          "text": [
            "Visualizando as stopwords \n",
            " ['de', 'a', 'o', 'que', 'e', 'é', 'do', 'da', 'em', 'um', 'para', 'com', 'não', 'uma', 'os', 'no', 'se', 'na', 'por', 'mais', 'as', 'dos', 'como', 'mas', 'ao', 'ele', 'das', 'à', 'seu', 'sua', 'ou', 'quando', 'muito', 'nos', 'já', 'eu', 'também', 'só', 'pelo', 'pela', 'até', 'isso', 'ela', 'entre', 'depois', 'sem', 'mesmo', 'aos', 'seus', 'quem', 'nas', 'me', 'esse', 'eles', 'você', 'essa', 'num', 'nem', 'suas', 'meu', 'às', 'minha', 'numa', 'pelos', 'elas', 'qual', 'nós', 'lhe', 'deles', 'essas', 'esses', 'pelas', 'este', 'dele', 'tu', 'te', 'vocês', 'vos', 'lhes', 'meus', 'minhas', 'teu', 'tua', 'teus', 'tuas', 'nosso', 'nossa', 'nossos', 'nossas', 'dela', 'delas', 'esta', 'estes', 'estas', 'aquele', 'aquela', 'aqueles', 'aquelas', 'isto', 'aquilo', 'estou', 'está', 'estamos', 'estão', 'estive', 'esteve', 'estivemos', 'estiveram', 'estava', 'estávamos', 'estavam', 'estivera', 'estivéramos', 'esteja', 'estejamos', 'estejam', 'estivesse', 'estivéssemos', 'estivessem', 'estiver', 'estivermos', 'estiverem', 'hei', 'há', 'havemos', 'hão', 'houve', 'houvemos', 'houveram', 'houvera', 'houvéramos', 'haja', 'hajamos', 'hajam', 'houvesse', 'houvéssemos', 'houvessem', 'houver', 'houvermos', 'houverem', 'houverei', 'houverá', 'houveremos', 'houverão', 'houveria', 'houveríamos', 'houveriam', 'sou', 'somos', 'são', 'era', 'éramos', 'eram', 'fui', 'foi', 'fomos', 'foram', 'fora', 'fôramos', 'seja', 'sejamos', 'sejam', 'fosse', 'fôssemos', 'fossem', 'for', 'formos', 'forem', 'serei', 'será', 'seremos', 'serão', 'seria', 'seríamos', 'seriam', 'tenho', 'tem', 'temos', 'tém', 'tinha', 'tínhamos', 'tinham', 'tive', 'teve', 'tivemos', 'tiveram', 'tivera', 'tivéramos', 'tenha', 'tenhamos', 'tenham', 'tivesse', 'tivéssemos', 'tivessem', 'tiver', 'tivermos', 'tiverem', 'terei', 'terá', 'teremos', 'terão', 'teria', 'teríamos', 'teriam', '!', '\"', '#', '$', '%', '&', \"'\", '(', ')', '*', '+', ',', '-', '.', '/', ':', ';', '<', '=', '>', '?', '@', '[', '\\\\', ']', '^', '_', '`', '{', '|', '}', '~', '``', \"''\", '“', '”']\n"
          ],
          "name": "stdout"
        }
      ]
    },
    {
      "cell_type": "code",
      "metadata": {
        "id": "v6YcliccX1ai"
      },
      "source": [
        "# Definindo as funções que serão utilizadas\n",
        "\n",
        "# Tokenizando\n",
        "def identify_tokens(row):\n",
        "    review = row['text_lower']\n",
        "    tokens = nltk.word_tokenize(review)\n",
        "    \n",
        "    # taken only words (not punctuation)\n",
        "    token_words = [w for w in tokens if w.isalnum()] # isalnum (não remove caracteres especiais e números) - isalpha (removeremos palavras / caracteres não alfanuméricos (como números e pontuação)\n",
        "    return token_words\n",
        "\n",
        "# Removendo as stop-words\n",
        "def remove_stops(row):\n",
        "    my_list = row['text_tokenizado']\n",
        "    #print('my_list: ', my_list)\n",
        "    meaningful_words = [w for w in my_list if not w in stop_words]\n",
        "    return (meaningful_words)\n",
        "\n",
        "\n",
        "# Contar qtde de palavras\n",
        "def contar_palavras(row):\n",
        "  palavraCont = {}\n",
        "  palavras_lista = word_tokenize(str(row['text_stopwords']))\n",
        "\n",
        "  for palavra in palavras_lista:\n",
        "    if palavra in palavraCont:\n",
        "        palavraCont[palavra] += 1\n",
        "    else:\n",
        "        palavraCont[palavra] = 1\n",
        "  return palavraCont"
      ],
      "execution_count": null,
      "outputs": []
    },
    {
      "cell_type": "code",
      "metadata": {
        "id": "cz3J7KRCX1ai"
      },
      "source": [
        "# resetando os índices\n",
        "df_movies = df_movies.reset_index()"
      ],
      "execution_count": null,
      "outputs": []
    },
    {
      "cell_type": "markdown",
      "metadata": {
        "id": "Vf8N3SPsX1aj"
      },
      "source": [
        "### Tokenizando"
      ]
    },
    {
      "cell_type": "code",
      "metadata": {
        "colab": {
          "base_uri": "https://localhost:8080/"
        },
        "id": "PBr8A7FCX1aj",
        "outputId": "43d7444c-fc63-4918-e4f8-676408c7d52b"
      },
      "source": [
        "start = time.time()\n",
        "df_movies['text_tokenizado'] = df_movies.apply(identify_tokens, axis=1)\n",
        "\n",
        "print (\"tempo gasto: \", (time.time() - start))"
      ],
      "execution_count": null,
      "outputs": [
        {
          "output_type": "stream",
          "text": [
            "tempo gasto:  675.9776577949524\n"
          ],
          "name": "stdout"
        }
      ]
    },
    {
      "cell_type": "code",
      "metadata": {
        "colab": {
          "base_uri": "https://localhost:8080/",
          "height": 142
        },
        "id": "GKP6xaknX1aj",
        "outputId": "3fb7be82-ed43-45b6-ef85-fbda433ad2ac"
      },
      "source": [
        "# validando a tokenização\n",
        "df_movies[['text', 'text_lower','text_tokenizado']].head(3)"
      ],
      "execution_count": null,
      "outputs": [
        {
          "output_type": "execute_result",
          "data": {
            "text/html": [
              "<div>\n",
              "<style scoped>\n",
              "    .dataframe tbody tr th:only-of-type {\n",
              "        vertical-align: middle;\n",
              "    }\n",
              "\n",
              "    .dataframe tbody tr th {\n",
              "        vertical-align: top;\n",
              "    }\n",
              "\n",
              "    .dataframe thead th {\n",
              "        text-align: right;\n",
              "    }\n",
              "</style>\n",
              "<table border=\"1\" class=\"dataframe\">\n",
              "  <thead>\n",
              "    <tr style=\"text-align: right;\">\n",
              "      <th></th>\n",
              "      <th>text</th>\n",
              "      <th>text_lower</th>\n",
              "      <th>text_tokenizado</th>\n",
              "    </tr>\n",
              "  </thead>\n",
              "  <tbody>\n",
              "    <tr>\n",
              "      <th>0</th>\n",
              "      <td>Um dos melhores do 007</td>\n",
              "      <td>um dos melhores do 007</td>\n",
              "      <td>[um, dos, melhores, do, 007]</td>\n",
              "    </tr>\n",
              "    <tr>\n",
              "      <th>1</th>\n",
              "      <td>assisti só pela metade..do meio ao fim, o film...</td>\n",
              "      <td>assisti só pela metade..do meio ao fim, o film...</td>\n",
              "      <td>[assisti, só, pela, meio, ao, fim, o, filme, p...</td>\n",
              "    </tr>\n",
              "    <tr>\n",
              "      <th>2</th>\n",
              "      <td>foi um dos filmes mais violentos q já vi. mas ...</td>\n",
              "      <td>foi um dos filmes mais violentos q já vi. mas ...</td>\n",
              "      <td>[foi, um, dos, filmes, mais, violentos, q, já,...</td>\n",
              "    </tr>\n",
              "  </tbody>\n",
              "</table>\n",
              "</div>"
            ],
            "text/plain": [
              "                                                text  ...                                    text_tokenizado\n",
              "0                             Um dos melhores do 007  ...                       [um, dos, melhores, do, 007]\n",
              "1  assisti só pela metade..do meio ao fim, o film...  ...  [assisti, só, pela, meio, ao, fim, o, filme, p...\n",
              "2  foi um dos filmes mais violentos q já vi. mas ...  ...  [foi, um, dos, filmes, mais, violentos, q, já,...\n",
              "\n",
              "[3 rows x 3 columns]"
            ]
          },
          "metadata": {
            "tags": []
          },
          "execution_count": 26
        }
      ]
    },
    {
      "cell_type": "markdown",
      "metadata": {
        "id": "NaTD20WXX1ak"
      },
      "source": [
        "### Convertento os tokes para minúsculo"
      ]
    },
    {
      "cell_type": "code",
      "metadata": {
        "id": "estJOY5nX1ak"
      },
      "source": [
        "#start = time.time()\n",
        "#df_movies['text_lower'] = df_movies['text_tokenizado'].astype('str').str.lower()\n",
        "#df_movies.head(3)"
      ],
      "execution_count": null,
      "outputs": []
    },
    {
      "cell_type": "markdown",
      "metadata": {
        "id": "cteS1B3XX1al"
      },
      "source": [
        "### Removendo as stopwords"
      ]
    },
    {
      "cell_type": "code",
      "metadata": {
        "colab": {
          "base_uri": "https://localhost:8080/"
        },
        "id": "jrPo2ZDjX1al",
        "outputId": "a205165b-5525-4933-b931-42ff3ca6e08c"
      },
      "source": [
        "start = time.time()\n",
        "df_movies['text_stopwords'] = df_movies.apply(remove_stops, axis=1) # chamando a função que remove as stopwords\n",
        "print (\"tempo gasto: \", (time.time() - start))"
      ],
      "execution_count": null,
      "outputs": [
        {
          "output_type": "stream",
          "text": [
            "tempo gasto:  119.96057271957397\n"
          ],
          "name": "stdout"
        }
      ]
    },
    {
      "cell_type": "code",
      "metadata": {
        "colab": {
          "base_uri": "https://localhost:8080/",
          "height": 142
        },
        "id": "lYs93yvGX1am",
        "outputId": "61085252-ac13-446d-9c61-977d09e84085"
      },
      "source": [
        "# Validando\n",
        "df_movies[['text', 'text_lower','text_tokenizado','text_stopwords']].head(3)"
      ],
      "execution_count": null,
      "outputs": [
        {
          "output_type": "execute_result",
          "data": {
            "text/html": [
              "<div>\n",
              "<style scoped>\n",
              "    .dataframe tbody tr th:only-of-type {\n",
              "        vertical-align: middle;\n",
              "    }\n",
              "\n",
              "    .dataframe tbody tr th {\n",
              "        vertical-align: top;\n",
              "    }\n",
              "\n",
              "    .dataframe thead th {\n",
              "        text-align: right;\n",
              "    }\n",
              "</style>\n",
              "<table border=\"1\" class=\"dataframe\">\n",
              "  <thead>\n",
              "    <tr style=\"text-align: right;\">\n",
              "      <th></th>\n",
              "      <th>text</th>\n",
              "      <th>text_lower</th>\n",
              "      <th>text_tokenizado</th>\n",
              "      <th>text_stopwords</th>\n",
              "    </tr>\n",
              "  </thead>\n",
              "  <tbody>\n",
              "    <tr>\n",
              "      <th>0</th>\n",
              "      <td>Um dos melhores do 007</td>\n",
              "      <td>um dos melhores do 007</td>\n",
              "      <td>[um, dos, melhores, do, 007]</td>\n",
              "      <td>[melhores, 007]</td>\n",
              "    </tr>\n",
              "    <tr>\n",
              "      <th>1</th>\n",
              "      <td>assisti só pela metade..do meio ao fim, o film...</td>\n",
              "      <td>assisti só pela metade..do meio ao fim, o film...</td>\n",
              "      <td>[assisti, só, pela, meio, ao, fim, o, filme, p...</td>\n",
              "      <td>[assisti, meio, fim, filme, parece, ser, mt, b...</td>\n",
              "    </tr>\n",
              "    <tr>\n",
              "      <th>2</th>\n",
              "      <td>foi um dos filmes mais violentos q já vi. mas ...</td>\n",
              "      <td>foi um dos filmes mais violentos q já vi. mas ...</td>\n",
              "      <td>[foi, um, dos, filmes, mais, violentos, q, já,...</td>\n",
              "      <td>[filmes, violentos, q, vi, booom, demaais]</td>\n",
              "    </tr>\n",
              "  </tbody>\n",
              "</table>\n",
              "</div>"
            ],
            "text/plain": [
              "                                                text  ...                                     text_stopwords\n",
              "0                             Um dos melhores do 007  ...                                    [melhores, 007]\n",
              "1  assisti só pela metade..do meio ao fim, o film...  ...  [assisti, meio, fim, filme, parece, ser, mt, b...\n",
              "2  foi um dos filmes mais violentos q já vi. mas ...  ...         [filmes, violentos, q, vi, booom, demaais]\n",
              "\n",
              "[3 rows x 4 columns]"
            ]
          },
          "metadata": {
            "tags": []
          },
          "execution_count": 28
        }
      ]
    },
    {
      "cell_type": "markdown",
      "metadata": {
        "id": "h6aAdL2f7P3f"
      },
      "source": [
        "## Contando a qtde de palavras de cada registro"
      ]
    },
    {
      "cell_type": "code",
      "metadata": {
        "colab": {
          "base_uri": "https://localhost:8080/",
          "height": 159
        },
        "id": "IZ-Lqt_kcamE",
        "outputId": "9666f81d-0f32-4881-ac89-538a2058b327"
      },
      "source": [
        "start = time.time()\r\n",
        "df_movies['qtde_palavras'] = df_movies.apply(contar_palavras, axis=1)\r\n",
        "print (\"tempo gasto: \", (time.time() - start))\r\n",
        "\r\n",
        "df_movies[['text_stopwords','qtde_palavras']].head(3)"
      ],
      "execution_count": null,
      "outputs": [
        {
          "output_type": "stream",
          "text": [
            "tempo gasto:  613.0026919841766\n"
          ],
          "name": "stdout"
        },
        {
          "output_type": "execute_result",
          "data": {
            "text/html": [
              "<div>\n",
              "<style scoped>\n",
              "    .dataframe tbody tr th:only-of-type {\n",
              "        vertical-align: middle;\n",
              "    }\n",
              "\n",
              "    .dataframe tbody tr th {\n",
              "        vertical-align: top;\n",
              "    }\n",
              "\n",
              "    .dataframe thead th {\n",
              "        text-align: right;\n",
              "    }\n",
              "</style>\n",
              "<table border=\"1\" class=\"dataframe\">\n",
              "  <thead>\n",
              "    <tr style=\"text-align: right;\">\n",
              "      <th></th>\n",
              "      <th>text_stopwords</th>\n",
              "      <th>qtde_palavras</th>\n",
              "    </tr>\n",
              "  </thead>\n",
              "  <tbody>\n",
              "    <tr>\n",
              "      <th>0</th>\n",
              "      <td>[melhores, 007]</td>\n",
              "      <td>{'[': 1, ''melhores': 1, ''': 2, ',': 1, ''007...</td>\n",
              "    </tr>\n",
              "    <tr>\n",
              "      <th>1</th>\n",
              "      <td>[assisti, meio, fim, filme, parece, ser, mt, b...</td>\n",
              "      <td>{'[': 1, ''assisti': 1, ''': 15, ',': 14, ''me...</td>\n",
              "    </tr>\n",
              "    <tr>\n",
              "      <th>2</th>\n",
              "      <td>[filmes, violentos, q, vi, booom, demaais]</td>\n",
              "      <td>{'[': 1, ''filmes': 1, ''': 6, ',': 5, ''viole...</td>\n",
              "    </tr>\n",
              "  </tbody>\n",
              "</table>\n",
              "</div>"
            ],
            "text/plain": [
              "                                      text_stopwords                                      qtde_palavras\n",
              "0                                    [melhores, 007]  {'[': 1, ''melhores': 1, ''': 2, ',': 1, ''007...\n",
              "1  [assisti, meio, fim, filme, parece, ser, mt, b...  {'[': 1, ''assisti': 1, ''': 15, ',': 14, ''me...\n",
              "2         [filmes, violentos, q, vi, booom, demaais]  {'[': 1, ''filmes': 1, ''': 6, ',': 5, ''viole..."
            ]
          },
          "metadata": {
            "tags": []
          },
          "execution_count": 31
        }
      ]
    },
    {
      "cell_type": "code",
      "metadata": {
        "colab": {
          "base_uri": "https://localhost:8080/",
          "height": 419
        },
        "id": "YKPQCU3BI5Fe",
        "outputId": "bedcafd4-0b2f-4a23-d096-1b8fc9d2a8ae"
      },
      "source": [
        "df_movies[['text_stopwords','qtde_palavras']]"
      ],
      "execution_count": null,
      "outputs": [
        {
          "output_type": "execute_result",
          "data": {
            "text/html": [
              "<div>\n",
              "<style scoped>\n",
              "    .dataframe tbody tr th:only-of-type {\n",
              "        vertical-align: middle;\n",
              "    }\n",
              "\n",
              "    .dataframe tbody tr th {\n",
              "        vertical-align: top;\n",
              "    }\n",
              "\n",
              "    .dataframe thead th {\n",
              "        text-align: right;\n",
              "    }\n",
              "</style>\n",
              "<table border=\"1\" class=\"dataframe\">\n",
              "  <thead>\n",
              "    <tr style=\"text-align: right;\">\n",
              "      <th></th>\n",
              "      <th>text_stopwords</th>\n",
              "      <th>qtde_palavras</th>\n",
              "    </tr>\n",
              "  </thead>\n",
              "  <tbody>\n",
              "    <tr>\n",
              "      <th>0</th>\n",
              "      <td>[melhores, 007]</td>\n",
              "      <td>{'[': 1, ''melhores': 1, ''': 2, ',': 1, ''007...</td>\n",
              "    </tr>\n",
              "    <tr>\n",
              "      <th>1</th>\n",
              "      <td>[assisti, meio, fim, filme, parece, ser, mt, b...</td>\n",
              "      <td>{'[': 1, ''assisti': 1, ''': 15, ',': 14, ''me...</td>\n",
              "    </tr>\n",
              "    <tr>\n",
              "      <th>2</th>\n",
              "      <td>[filmes, violentos, q, vi, booom, demaais]</td>\n",
              "      <td>{'[': 1, ''filmes': 1, ''': 6, ',': 5, ''viole...</td>\n",
              "    </tr>\n",
              "    <tr>\n",
              "      <th>3</th>\n",
              "      <td>[adoroo, filme]</td>\n",
              "      <td>{'[': 1, ''adoroo': 1, ''': 2, ',': 1, ''filme...</td>\n",
              "    </tr>\n",
              "    <tr>\n",
              "      <th>4</th>\n",
              "      <td>[daniel, crieg, carisma, zero, 007]</td>\n",
              "      <td>{'[': 1, ''daniel': 1, ''': 5, ',': 4, ''crieg...</td>\n",
              "    </tr>\n",
              "    <tr>\n",
              "      <th>...</th>\n",
              "      <td>...</td>\n",
              "      <td>...</td>\n",
              "    </tr>\n",
              "    <tr>\n",
              "      <th>1838890</th>\n",
              "      <td>[certeza, dois, dubladores, mínima, noção, man...</td>\n",
              "      <td>{'[': 1, ''certeza': 1, ''': 12, ',': 11, ''do...</td>\n",
              "    </tr>\n",
              "    <tr>\n",
              "      <th>1838891</th>\n",
              "      <td>[divertidão, tão, mal, feito]</td>\n",
              "      <td>{'[': 1, ''divertidão': 1, ''': 4, ',': 3, ''t...</td>\n",
              "    </tr>\n",
              "    <tr>\n",
              "      <th>1838892</th>\n",
              "      <td>[divertido, direito, musicas, james, bon, cont...</td>\n",
              "      <td>{'[': 1, ''divertido': 1, ''': 11, ',': 10, ''...</td>\n",
              "    </tr>\n",
              "    <tr>\n",
              "      <th>1838893</th>\n",
              "      <td>[filme, engraçado, vi, vida]</td>\n",
              "      <td>{'[': 1, ''filme': 1, ''': 4, ',': 3, ''engraç...</td>\n",
              "    </tr>\n",
              "    <tr>\n",
              "      <th>1838894</th>\n",
              "      <td>[extremamente, tosco, tosco, divertido, ver]</td>\n",
              "      <td>{'[': 1, ''extremamente': 1, ''': 5, ',': 4, '...</td>\n",
              "    </tr>\n",
              "  </tbody>\n",
              "</table>\n",
              "<p>1838895 rows × 2 columns</p>\n",
              "</div>"
            ],
            "text/plain": [
              "                                            text_stopwords                                      qtde_palavras\n",
              "0                                          [melhores, 007]  {'[': 1, ''melhores': 1, ''': 2, ',': 1, ''007...\n",
              "1        [assisti, meio, fim, filme, parece, ser, mt, b...  {'[': 1, ''assisti': 1, ''': 15, ',': 14, ''me...\n",
              "2               [filmes, violentos, q, vi, booom, demaais]  {'[': 1, ''filmes': 1, ''': 6, ',': 5, ''viole...\n",
              "3                                          [adoroo, filme]  {'[': 1, ''adoroo': 1, ''': 2, ',': 1, ''filme...\n",
              "4                      [daniel, crieg, carisma, zero, 007]  {'[': 1, ''daniel': 1, ''': 5, ',': 4, ''crieg...\n",
              "...                                                    ...                                                ...\n",
              "1838890  [certeza, dois, dubladores, mínima, noção, man...  {'[': 1, ''certeza': 1, ''': 12, ',': 11, ''do...\n",
              "1838891                      [divertidão, tão, mal, feito]  {'[': 1, ''divertidão': 1, ''': 4, ',': 3, ''t...\n",
              "1838892  [divertido, direito, musicas, james, bon, cont...  {'[': 1, ''divertido': 1, ''': 11, ',': 10, ''...\n",
              "1838893                       [filme, engraçado, vi, vida]  {'[': 1, ''filme': 1, ''': 4, ',': 3, ''engraç...\n",
              "1838894       [extremamente, tosco, tosco, divertido, ver]  {'[': 1, ''extremamente': 1, ''': 5, ',': 4, '...\n",
              "\n",
              "[1838895 rows x 2 columns]"
            ]
          },
          "metadata": {
            "tags": []
          },
          "execution_count": 36
        }
      ]
    },
    {
      "cell_type": "markdown",
      "metadata": {
        "id": "k_6wqyUeX1am"
      },
      "source": [
        "### Salvando o resultado num dataframe"
      ]
    },
    {
      "cell_type": "code",
      "metadata": {
        "id": "yXz_fbVYX1am"
      },
      "source": [
        "df2 = df_movies[['object', 'text_stopwords','qtde_palavras']]\n",
        "\n",
        "df2.to_csv(\"/content/drive/MyDrive/Colab Notebooks/NLP/trabalho/dados/df_util_tokenizado.csv\",index=False)"
      ],
      "execution_count": null,
      "outputs": []
    },
    {
      "cell_type": "code",
      "metadata": {
        "id": "0tqT9eVHX1an"
      },
      "source": [
        "### # abrindo o arquivo TOKENIZADO"
      ],
      "execution_count": null,
      "outputs": []
    },
    {
      "cell_type": "code",
      "metadata": {
        "colab": {
          "base_uri": "https://localhost:8080/",
          "height": 142
        },
        "id": "jbdxUi1lX1an",
        "outputId": "8d5ebec1-7580-41f8-cba6-ae61eabf6146"
      },
      "source": [
        "df_processado = pd.read_csv(\"/content/drive/MyDrive/Colab Notebooks/NLP/trabalho/dados/df_util_tokenizado.csv\")\n",
        "df_processado.head(3)"
      ],
      "execution_count": 4,
      "outputs": [
        {
          "output_type": "execute_result",
          "data": {
            "text/html": [
              "<div>\n",
              "<style scoped>\n",
              "    .dataframe tbody tr th:only-of-type {\n",
              "        vertical-align: middle;\n",
              "    }\n",
              "\n",
              "    .dataframe tbody tr th {\n",
              "        vertical-align: top;\n",
              "    }\n",
              "\n",
              "    .dataframe thead th {\n",
              "        text-align: right;\n",
              "    }\n",
              "</style>\n",
              "<table border=\"1\" class=\"dataframe\">\n",
              "  <thead>\n",
              "    <tr style=\"text-align: right;\">\n",
              "      <th></th>\n",
              "      <th>object</th>\n",
              "      <th>text_stopwords</th>\n",
              "      <th>qtde_palavras</th>\n",
              "    </tr>\n",
              "  </thead>\n",
              "  <tbody>\n",
              "    <tr>\n",
              "      <th>0</th>\n",
              "      <td>007-cassino-royale-t23</td>\n",
              "      <td>['melhores', '007']</td>\n",
              "      <td>{'[': 1, \"'melhores\": 1, \"'\": 2, ',': 1, \"'007...</td>\n",
              "    </tr>\n",
              "    <tr>\n",
              "      <th>1</th>\n",
              "      <td>007-cassino-royale-t23</td>\n",
              "      <td>['assisti', 'meio', 'fim', 'filme', 'parece', ...</td>\n",
              "      <td>{'[': 1, \"'assisti\": 1, \"'\": 15, ',': 14, \"'me...</td>\n",
              "    </tr>\n",
              "    <tr>\n",
              "      <th>2</th>\n",
              "      <td>007-cassino-royale-t23</td>\n",
              "      <td>['filmes', 'violentos', 'q', 'vi', 'booom', 'd...</td>\n",
              "      <td>{'[': 1, \"'filmes\": 1, \"'\": 6, ',': 5, \"'viole...</td>\n",
              "    </tr>\n",
              "  </tbody>\n",
              "</table>\n",
              "</div>"
            ],
            "text/plain": [
              "                   object  ...                                      qtde_palavras\n",
              "0  007-cassino-royale-t23  ...  {'[': 1, \"'melhores\": 1, \"'\": 2, ',': 1, \"'007...\n",
              "1  007-cassino-royale-t23  ...  {'[': 1, \"'assisti\": 1, \"'\": 15, ',': 14, \"'me...\n",
              "2  007-cassino-royale-t23  ...  {'[': 1, \"'filmes\": 1, \"'\": 6, ',': 5, \"'viole...\n",
              "\n",
              "[3 rows x 3 columns]"
            ]
          },
          "metadata": {
            "tags": []
          },
          "execution_count": 4
        }
      ]
    },
    {
      "cell_type": "markdown",
      "metadata": {
        "id": "-oYWoefmX1an"
      },
      "source": [
        "# 2 - Representação\n",
        "\n",
        "Vimos durante a nossa aula diversas forma de representar um documento de texto. Você vai usar cada uma dessas representações e compará-las. A seguir temos a listagem das representações que devem ser usadas para representar seu texto.\n",
        "\n",
        "a) Representação TF-IDF. Você pode usar tanto o gensim quanto o scikit para montar esta representação, mas lembre-se que é importante fazer o pré-processamento dos textos.\n",
        "\n",
        "b) Representação com o word2vec. O modelo poderá ser o apresentado na aula 03 ou algum outro modelo pré-treinado como os existentes no repositório http://nilc.icmc.usp.br/nilc/index.php/repositorio-de-word-embeddings-do-nilc . Neste caso, cada documento deverá ser representado pelo vetor que resultar da média dos vetores de todas as palavras que o compõem. Em outras palavras, se D é composto pelas palavras w1, w2, …, wn, e seus vetores embeddings são v1, v2, …, vn, então a representação do documento de D será v = (v1 + v2 + … + vn) / n.\n",
        "\n",
        "c) Extração de features do texto. Você deve pensar em ao menos 10 features para extrair do documento e que o possam representar. Aqui vão algumas sugestões: número de palavras, número de verbos, número de conjunções, número de palavras negativas, número de palavras fora do vocabulário, quantidades de entidades do tipo PESSOA, quantidade de entidades do tipo LOCAL, etc. \n",
        "\n",
        "Lembrando que você deve dividir seu conjunto em treino e teste. No TF-IDF, você só pode aplicar o método fit no conjunto de treino. Uma sugestão é dividir 80% do conjunto de dados para treino e 20% para teste. Essa divisão é aleatória, mas você pode usar o método train_test_split para essa divisão. \n",
        "\n"
      ]
    },
    {
      "cell_type": "code",
      "metadata": {
        "id": "pLTaOunLPaSi"
      },
      "source": [
        "# Definindo X e y\r\n",
        "\r\n",
        "X = df_processado['text_stopwords']"
      ],
      "execution_count": null,
      "outputs": []
    },
    {
      "cell_type": "code",
      "metadata": {
        "id": "Th4iQoxiX1ao"
      },
      "source": [
        "from sklearn.model_selection import train_test_split\n",
        "\n",
        "X_train, X_test, y_train, y_test = train_test_split(X, y, test_size = 0.20 , random_state = 42 )"
      ],
      "execution_count": null,
      "outputs": []
    },
    {
      "cell_type": "markdown",
      "metadata": {
        "id": "TMW-WQTtX1ap"
      },
      "source": [
        "## Representação TF-IDF"
      ]
    },
    {
      "cell_type": "code",
      "metadata": {
        "colab": {
          "base_uri": "https://localhost:8080/",
          "height": 35
        },
        "id": "6LX_Yzvymb60",
        "outputId": "5a2d201c-4e2f-411c-d356-2f7d4ee49725"
      },
      "source": [
        "df_processado['text_stopwords'][0]"
      ],
      "execution_count": null,
      "outputs": [
        {
          "output_type": "execute_result",
          "data": {
            "application/vnd.google.colaboratory.intrinsic+json": {
              "type": "string"
            },
            "text/plain": [
              "\"['melhores', '007']\""
            ]
          },
          "metadata": {
            "tags": []
          },
          "execution_count": 11
        }
      ]
    },
    {
      "cell_type": "code",
      "metadata": {
        "colab": {
          "base_uri": "https://localhost:8080/"
        },
        "id": "tXzQBov2kHD8",
        "outputId": "dad0d2f9-d6f4-4657-f139-987b316531e3"
      },
      "source": [
        "teste = df_processado['text_stopwords'][0].split(' \" ') \r\n",
        "teste"
      ],
      "execution_count": 5,
      "outputs": [
        {
          "output_type": "execute_result",
          "data": {
            "text/plain": [
              "[\"['melhores', '007']\"]"
            ]
          },
          "metadata": {
            "tags": []
          },
          "execution_count": 5
        }
      ]
    },
    {
      "cell_type": "code",
      "metadata": {
        "colab": {
          "base_uri": "https://localhost:8080/",
          "height": 323
        },
        "id": "C003BSkvX1aq",
        "outputId": "43690a0a-44b7-42b4-b282-2d3ae064c4fe"
      },
      "source": [
        "# cria um dicionário de palavras\r\n",
        "dct = Dictionary(df_processado['text_stopwords'])"
      ],
      "execution_count": 6,
      "outputs": [
        {
          "output_type": "error",
          "ename": "TypeError",
          "evalue": "ignored",
          "traceback": [
            "\u001b[0;31m---------------------------------------------------------------------------\u001b[0m",
            "\u001b[0;31mTypeError\u001b[0m                                 Traceback (most recent call last)",
            "\u001b[0;32m<ipython-input-6-f13b866e20c0>\u001b[0m in \u001b[0;36m<module>\u001b[0;34m()\u001b[0m\n\u001b[1;32m      1\u001b[0m \u001b[0;31m# cria um dicionário de palavras\u001b[0m\u001b[0;34m\u001b[0m\u001b[0;34m\u001b[0m\u001b[0;34m\u001b[0m\u001b[0m\n\u001b[0;32m----> 2\u001b[0;31m \u001b[0mdct\u001b[0m \u001b[0;34m=\u001b[0m \u001b[0mDictionary\u001b[0m\u001b[0;34m(\u001b[0m\u001b[0mdf_processado\u001b[0m\u001b[0;34m[\u001b[0m\u001b[0;34m'text_stopwords'\u001b[0m\u001b[0;34m]\u001b[0m\u001b[0;34m)\u001b[0m\u001b[0;34m\u001b[0m\u001b[0;34m\u001b[0m\u001b[0m\n\u001b[0m",
            "\u001b[0;32m/usr/local/lib/python3.6/dist-packages/gensim/corpora/dictionary.py\u001b[0m in \u001b[0;36m__init__\u001b[0;34m(self, documents, prune_at)\u001b[0m\n\u001b[1;32m     81\u001b[0m \u001b[0;34m\u001b[0m\u001b[0m\n\u001b[1;32m     82\u001b[0m         \u001b[0;32mif\u001b[0m \u001b[0mdocuments\u001b[0m \u001b[0;32mis\u001b[0m \u001b[0;32mnot\u001b[0m \u001b[0;32mNone\u001b[0m\u001b[0;34m:\u001b[0m\u001b[0;34m\u001b[0m\u001b[0;34m\u001b[0m\u001b[0m\n\u001b[0;32m---> 83\u001b[0;31m             \u001b[0mself\u001b[0m\u001b[0;34m.\u001b[0m\u001b[0madd_documents\u001b[0m\u001b[0;34m(\u001b[0m\u001b[0mdocuments\u001b[0m\u001b[0;34m,\u001b[0m \u001b[0mprune_at\u001b[0m\u001b[0;34m=\u001b[0m\u001b[0mprune_at\u001b[0m\u001b[0;34m)\u001b[0m\u001b[0;34m\u001b[0m\u001b[0;34m\u001b[0m\u001b[0m\n\u001b[0m\u001b[1;32m     84\u001b[0m \u001b[0;34m\u001b[0m\u001b[0m\n\u001b[1;32m     85\u001b[0m     \u001b[0;32mdef\u001b[0m \u001b[0m__getitem__\u001b[0m\u001b[0;34m(\u001b[0m\u001b[0mself\u001b[0m\u001b[0;34m,\u001b[0m \u001b[0mtokenid\u001b[0m\u001b[0;34m)\u001b[0m\u001b[0;34m:\u001b[0m\u001b[0;34m\u001b[0m\u001b[0;34m\u001b[0m\u001b[0m\n",
            "\u001b[0;32m/usr/local/lib/python3.6/dist-packages/gensim/corpora/dictionary.py\u001b[0m in \u001b[0;36madd_documents\u001b[0;34m(self, documents, prune_at)\u001b[0m\n\u001b[1;32m    200\u001b[0m \u001b[0;34m\u001b[0m\u001b[0m\n\u001b[1;32m    201\u001b[0m             \u001b[0;31m# update Dictionary with the document\u001b[0m\u001b[0;34m\u001b[0m\u001b[0;34m\u001b[0m\u001b[0;34m\u001b[0m\u001b[0m\n\u001b[0;32m--> 202\u001b[0;31m             \u001b[0mself\u001b[0m\u001b[0;34m.\u001b[0m\u001b[0mdoc2bow\u001b[0m\u001b[0;34m(\u001b[0m\u001b[0mdocument\u001b[0m\u001b[0;34m,\u001b[0m \u001b[0mallow_update\u001b[0m\u001b[0;34m=\u001b[0m\u001b[0;32mTrue\u001b[0m\u001b[0;34m)\u001b[0m  \u001b[0;31m# ignore the result, here we only care about updating token ids\u001b[0m\u001b[0;34m\u001b[0m\u001b[0;34m\u001b[0m\u001b[0m\n\u001b[0m\u001b[1;32m    203\u001b[0m \u001b[0;34m\u001b[0m\u001b[0m\n\u001b[1;32m    204\u001b[0m         logger.info(\n",
            "\u001b[0;32m/usr/local/lib/python3.6/dist-packages/gensim/corpora/dictionary.py\u001b[0m in \u001b[0;36mdoc2bow\u001b[0;34m(self, document, allow_update, return_missing)\u001b[0m\n\u001b[1;32m    238\u001b[0m         \"\"\"\n\u001b[1;32m    239\u001b[0m         \u001b[0;32mif\u001b[0m \u001b[0misinstance\u001b[0m\u001b[0;34m(\u001b[0m\u001b[0mdocument\u001b[0m\u001b[0;34m,\u001b[0m \u001b[0mstring_types\u001b[0m\u001b[0;34m)\u001b[0m\u001b[0;34m:\u001b[0m\u001b[0;34m\u001b[0m\u001b[0;34m\u001b[0m\u001b[0m\n\u001b[0;32m--> 240\u001b[0;31m             \u001b[0;32mraise\u001b[0m \u001b[0mTypeError\u001b[0m\u001b[0;34m(\u001b[0m\u001b[0;34m\"doc2bow expects an array of unicode tokens on input, not a single string\"\u001b[0m\u001b[0;34m)\u001b[0m\u001b[0;34m\u001b[0m\u001b[0;34m\u001b[0m\u001b[0m\n\u001b[0m\u001b[1;32m    241\u001b[0m \u001b[0;34m\u001b[0m\u001b[0m\n\u001b[1;32m    242\u001b[0m         \u001b[0;31m# Construct (word, frequency) mapping.\u001b[0m\u001b[0;34m\u001b[0m\u001b[0;34m\u001b[0m\u001b[0;34m\u001b[0m\u001b[0m\n",
            "\u001b[0;31mTypeError\u001b[0m: doc2bow expects an array of unicode tokens on input, not a single string"
          ]
        }
      ]
    },
    {
      "cell_type": "code",
      "metadata": {
        "id": "zW6WWSecX1aq"
      },
      "source": [
        "# converte o corpus para o formato de saco de palavras\n",
        "corpus_filmes_bow = [dct.doc2bow(line) for line in df_processado['text_stopwords']]  "
      ],
      "execution_count": null,
      "outputs": []
    },
    {
      "cell_type": "code",
      "metadata": {
        "id": "lYjX5uXBX1ar"
      },
      "source": [
        "model = TfidfModel(corpus_filmes_bow) # computa para cada termo, a fórmula tf-idf"
      ],
      "execution_count": null,
      "outputs": []
    },
    {
      "cell_type": "code",
      "metadata": {
        "id": "jRzBvN0RX1ar"
      },
      "source": [
        "model[corpus_filmes_bow[230]] # vamos ver uma das representações"
      ],
      "execution_count": null,
      "outputs": []
    },
    {
      "cell_type": "markdown",
      "metadata": {
        "id": "jXzvBElpX1as"
      },
      "source": [
        "## Representação WORD2VEC"
      ]
    },
    {
      "cell_type": "code",
      "metadata": {
        "id": "OIA9IZ_IWSix"
      },
      "source": [
        "# o algoritmo word2vec processa as palavras por sentença. Então precisamos dividir os textos\r\n",
        "# como sentenças para alimentar o nosso modelo. A função sent_tokenize do ntlk faz isso.\r\n",
        "corpus_movies = []\r\n",
        "for f_id in df_processado['text_stopwords'].fileids():\r\n",
        "    sent_lst = sent_tokenize(df_processado['text_stopwords'].raw(f_id))\r\n",
        "    for s in sent_lst:\r\n",
        "        corpus_movies.append(simple_preprocess(s))"
      ],
      "execution_count": null,
      "outputs": []
    },
    {
      "cell_type": "code",
      "metadata": {
        "id": "n-s3Os2FX1as"
      },
      "source": [
        "# parametros\n",
        "# min_count = Ignora todas as palavras com frequencia absoluta total\n",
        "# menor que isso\n",
        "# window = A distância máxima entre a palavra corrente e palavra predita em uma sentença. Aqui, duas palavras\n",
        "# palavras anteriores e duas palavras anteriores a palavra corrente.\n",
        "# size = Dimensão dos vetores densos ou word embeddings. \n",
        "w2v_model = Word2Vec(window=2, size=50)"
      ],
      "execution_count": null,
      "outputs": []
    },
    {
      "cell_type": "code",
      "metadata": {
        "id": "c79MhOudX1at"
      },
      "source": [
        "# o word2vec demanda a construção de uma tabela representando o vocabulário do nosso corpus.\n",
        "# Ou seja, simplesmente \"digerir\" todas as palavras e filtrar as palavras únicas, e fazer uma\n",
        "# contagem básica delas.\n",
        "w2v_model.build_vocab(X, progress_per=10000)"
      ],
      "execution_count": null,
      "outputs": []
    },
    {
      "cell_type": "code",
      "metadata": {
        "id": "6zvtyf9_X1at"
      },
      "source": [
        "# parametros\n",
        "# total_examples = Contagem de sentenças\n",
        "# epochs = Número de iterações (épocas) sobre o corpus\n",
        "\n",
        "w2v_model.train(X, total_examples=w2v_model.corpus_count, epochs=5)"
      ],
      "execution_count": null,
      "outputs": []
    },
    {
      "cell_type": "markdown",
      "metadata": {
        "id": "8qFSa1WPX1au"
      },
      "source": [
        "## Representação EXTRAÇÃO DE FEATURES"
      ]
    },
    {
      "cell_type": "markdown",
      "metadata": {
        "id": "GjQcWCwvoE03"
      },
      "source": [
        "# 3 - Visualização dos dados:\n",
        "Coloque nesta seção os gráficos do PCA e do t-SNE, para cada representação. Responda também às seguintes perguntas: \n",
        "\n",
        "a) Existe algum padrão com relação às classes? \n",
        "\n",
        "b) Caso exista algum padrão, você pode concluir alguma coisa? \n",
        "\n",
        "c) Caso não exista, você consegue dizer se isso tem a ver com alguma representação ou classe?"
      ]
    },
    {
      "cell_type": "markdown",
      "metadata": {
        "id": "wJdNwYb9kEDh"
      },
      "source": [
        "# 4 - Classificadores : \n",
        "Descreva sucintamente os dois classificadores escolhidos. Você usou algum parâmetro que não seja padrão? Se sim, mencione nesta seção."
      ]
    },
    {
      "cell_type": "markdown",
      "metadata": {
        "id": "CwMrGsQKkJOR"
      },
      "source": [
        "# 5 - Resultados: \n",
        "Escreva código que execute a validação cruzada em 5-folds para os dois classificadores escolhidos. Também responda às seguintes perguntas: Os embeddings realmente mostraram um resultado melhor que o TF-IDF? Se não, qual foi a representação que teve o melhor desempenho? A diferença foi muito grande?"
      ]
    },
    {
      "cell_type": "markdown",
      "metadata": {
        "id": "hnqG24ZTkMsu"
      },
      "source": [
        "# 6 - Conclusão: \n",
        "Por fim fale aqui o que você conclui das visualizações e dos resultados. Tente explicar em detalhes por que um resultado, na sua opinião, foi melhor do que outro. Esta explicação pode incluir hipóteses para resultados melhores ou resultados piores. Também pode falar das dificuldades enfrentadas durante o trabalho e como conseguiu contorná-las."
      ]
    }
  ]
}