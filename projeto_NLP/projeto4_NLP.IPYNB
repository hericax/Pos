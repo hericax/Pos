{
  "nbformat": 4,
  "nbformat_minor": 0,
  "metadata": {
    "accelerator": "GPU",
    "colab": {
      "name": "projeto4_NLP.ipynb",
      "provenance": [],
      "collapsed_sections": [
        "rxLYuJ3IjFdk",
        "xVos9YWln6m7",
        "r8cDe6KMX1aa",
        "cW0pRDlyX1ad",
        "7QLDjXjQX1af"
      ]
    },
    "kernelspec": {
      "display_name": "Python 3",
      "language": "python",
      "name": "python3"
    }
  },
  "cells": [
    {
      "cell_type": "markdown",
      "metadata": {
        "id": "rxLYuJ3IjFdk"
      },
      "source": [
        "# **Descrição do projeto do Módulo de NLP**"
      ]
    },
    {
      "cell_type": "markdown",
      "metadata": {
        "id": "0r5BTBhKibMm"
      },
      "source": [
        "\r\n",
        "No projeto do módulo de NLP vamos tentar resolver um problema de classificação de textos. Você escolherá um de três datasets cujo objetivo é classificar em um conjunto de classes. Você deverá utilizar três metodologias ensinadas em nossas aulas para poder classificar esses textos. A seguir, mais detalhes do projeto para que você possa resolver.\r\n",
        "\r\n",
        "\r\n",
        "Os produtos finais deste projeto será um Notebook Python. As seções seguintes detalham como você deve proceder para gerar o código e a última seção deve especificar a estrutura que seu notebook deve seguir.\r\n",
        "\r\n",
        "## 1. Dados\r\n",
        "Você poderá escolher três tarefas para resolver no projeto. A seguir existe a breve descrição de cada tarefa e um link para onde você poderá baixar os dados. \r\n",
        "\r\n",
        "O corpus UTL é um corpus com críticas de filmes e apps coletadas automaticamente de sites. As classes são: positiva ou negativa. Assim o usuário pode ter gostado ou não gostado do produto. Referência: https://github.com/RogerFig/UTLCorpus \r\n",
        "O corpus UOL AES-PT é um corpus de redações no estilo do ENEM. Cada redação possui um tópico e um conjunto de redações relacionadas. Nesse corpus, existem vários tópicos e suas respectivas redações. O objetivo é predizer a nota final de cada redação de acordo com o grupo de notas 0, 200, 400, 600, 800 e 1000. Para mais informações e download dos dados, acesse o link: https://github.com/evelinamorim/aes-pt .\r\n",
        "O corpus TweetSentBr é um corpus em português de tweets. Cada tweet está rotulado com uma das classes: positivo, negativo e neutro. Para mais informações e download do corpus, acesse o link https://bitbucket.org/HBrum/tweetsentbr/src/master/ .\r\n",
        "\r\n",
        "## 2. Representação\r\n",
        "Vimos durante a nossa aula diversas forma de representar um documento de texto. Você vai usar cada uma dessas representações e compará-las. A seguir temos a listagem das representações que devem ser usadas para representar seu texto.\r\n",
        "Representação TF-IDF. Você pode usar tanto o gensim quanto o scikit para montar esta representação, mas lembre-se que é importante fazer o pré-processamento dos textos.\r\n",
        "Representação com o word2vec. O modelo poderá ser o apresentado na aula 03 ou algum outro modelo pré-treinado como os existentes no repositório http://nilc.icmc.usp.br/nilc/index.php/repositorio-de-word-embeddings-do-nilc . Neste caso, cada documento deverá ser representado pelo vetor que resultar da média dos vetores de todas as palavras que o compõem. Em outras palavras, se D é composto pelas palavras w1, w2, …, wn, e seus vetores embeddings são v1, v2, …, vn, então a representação do documento de D será v = (v1 + v2 + … + vn) / n. \r\n",
        "Extração de features do texto. Você deve pensar em ao menos 10 features para extrair do documento e que o possam representar. Aqui vão algumas sugestões: número de palavras, número de verbos, número de conjunções, número de palavras negativas, número de palavras fora do vocabulário, quantidades de entidades do tipo PESSOA, quantidade de entidades do tipo LOCAL, etc.\r\n",
        "\r\n",
        "Lembrando que você deve dividir seu conjunto em treino e teste. No TF-IDF, você só pode aplicar o método fit no conjunto de treino. Uma sugestão é dividir 80% do conjunto de dados para treino e 20% para teste. Essa divisão é aleatória, mas você pode usar o método train_test_split para essa divisão. O exemplo a seguir mostra como usar esse método:\r\n",
        "\r\n",
        "from sklearn.model_selection import train_test_split\r\n",
        "\r\n",
        "\r\n",
        " X_train, X_test, y_train, y_test = train_test_split(\r\n",
        "...    X, y, test_size=0.20, random_state=42)\r\n",
        "\r\n",
        "## 3. Visualização dos dados\r\n",
        "\r\n",
        "Também vimos que embora o nosso texto apresente dimensionalidade maior que 2D, é possível visualizar em apenas duas dimensões usando técnicas de redução de dimensionalidade. Vimos duas técnicas de redução de dimensionalidade, o PCA e o t-SNE. Assim, pede-se que você utilize as duas técnicas para gerar uma visualização dos seus dados e considere as classes para colorir as instâncias. \r\n",
        "\r\n",
        "Sugere-se utilizar a biblioteca yellowbrick para gerar as visualizações, devido sua simplicidade. Mas caso tenha interesse em gerar visualizações mais interativas e mais bonitas, você pode utilizar a biblioteca seaborn. Para uma galeria dos gráficos que o seaborn é capaz de fazer, acesse o link https://seaborn.pydata.org/examples/index.html . Apenas acrescentando em seu código import seaborn as sns; sns.set() , também é possível deixar o gráfico com cores mais bonitas. Todas essas bibliotecas precisam do matplotlib, que já está importado no exemplo da aula.\r\n",
        "\r\n",
        "Aqui você deve fazer a visualização apenas do seu conjunto de treino.\r\n",
        "## 4. Classificadores\r\n",
        "\r\n",
        "Escolha dois classificadores que você possua mais familiaridade no scikit-learn para poder classificar os seus dados. Você deve executar cada um dos classificadores nas três representações escolhidas. \r\n",
        "\r\n",
        "Você pode usar o k-nn como um dos métodos. Outros métodos estão disponíveis no scikit, como por exemplo o SVM e o RandomForest.\r\n",
        "\r\n",
        "## 5. Métricas de avaliação\r\n",
        "\r\n",
        "Para os corpus TweetSentBR e UTL, pede-se que se use a matriz de confusão, a precisão, o recall e o f-1 para reportar a acurácia dos seus classificadores. No caso do corpus UOL AES-PT pede-se que se use o erro médio apenas.\r\n",
        "\r\n"
      ]
    },
    {
      "cell_type": "markdown",
      "metadata": {
        "id": "0myAsoSHid2I"
      },
      "source": [
        ""
      ]
    },
    {
      "cell_type": "markdown",
      "metadata": {
        "id": "bYYabv8fjWif"
      },
      "source": [
        "# Estrutura"
      ]
    },
    {
      "cell_type": "markdown",
      "metadata": {
        "id": "ynv0u9vojj9D"
      },
      "source": [
        "Estrutura do Notebook\r\n",
        "\r\n",
        "O seu notebook deve ser dividido por seções que possuam  uma célula do tipo Markdown. Nesta célula deve ter o título da seção antecedida por um marcador do tipo #. O título de cada seção deverá ser como a lista abaixo. Além do título, é possível que a seção demande a descrição de resultados ou outro tipo de texto. Nestes casos, coloque o texto junto à célula do título. Se houver código solicitado para a seção, então as células restantes devem ser de código solicitado.  \r\n",
        "O relatório deve ser organizado nas seguintes seções:\r\n",
        "\r\n",
        "\r\n",
        "\r\n",
        "\r\n",
        "\r\n",
        "1.   Tarefa e Dados\r\n",
        "\r\n",
        "2.   Classificadores\r\n",
        "\r\n",
        "3.   Resultados\r\n",
        "\r\n",
        "4.   Resultados\r\n"
      ]
    },
    {
      "cell_type": "markdown",
      "metadata": {
        "id": "xVos9YWln6m7"
      },
      "source": [
        "## 1 - Tarefa e Dados: \r\n",
        "Descreva a tarefa escolhida e os dados. Escreva código que leia os dados e calcule e imprima quantas instâncias os dados têm. Também, seu código deve calcular a média de tokens por instância, isto é, quantos tokens, na média cada documento do seu conjunto de dados possui. Imprima esse único número.\r\n",
        "\r\n",
        "Você poderá escolher três tarefas para resolver no projeto. A seguir existe a breve descrição de cada tarefa e um link para onde você poderá baixar os dados.\r\n",
        "\r\n",
        "O corpus UTL é um corpus com críticas de filmes e apps coletadas automaticamente de sites. As classes são: positiva ou negativa. Assim o usuário pode ter gostado ou não gostado do produto. Referência: https://github.com/RogerFig/UTLCorpus.\r\n",
        "\r\n",
        "O corpus UOL AES-PT é um corpus de redações no estilo do ENEM. Cada redação possui um tópico e um conjunto de redações relacionadas. Nesse corpus, existem vários tópicos e suas respectivas redações. O objetivo é predizer a nota final de cada redação de acordo com o grupo de notas 0, 200, 400, 600, 800 e 1000. Para mais informações e download dos dados, acesse o link: https://github.com/evelinamorim/aes-pt.\r\n",
        "\r\n",
        "O corpus TweetSentBr é um corpus em português de tweets. Cada tweet está rotulado com uma das classes: positivo, negativo e neutro. Para mais informações e download do corpus, acesse o link https://bitbucket.org/HBrum/tweetsentbr/src/master/."
      ]
    },
    {
      "cell_type": "markdown",
      "metadata": {
        "id": "gRmPygTVlXTG"
      },
      "source": [
        "A base escolhido é a do corpus UTL é um corpus com críticas de filmes e apps coletadas automaticamente de sites. As classes são: positiva ou negativa. Assim o usuário pode ter gostado ou não gostado do produto. Referência: https://github.com/RogerFig/UTLCorpus."
      ]
    },
    {
      "cell_type": "markdown",
      "metadata": {
        "id": "AD5iPWAJX1aX"
      },
      "source": [
        "## Importanto as bibliotecas necessárias"
      ]
    },
    {
      "cell_type": "code",
      "metadata": {
        "colab": {
          "base_uri": "https://localhost:8080/"
        },
        "id": "sMEXm13uX54E",
        "outputId": "17fcf668-526f-4b3e-e529-2c767d0afa13"
      },
      "source": [
        "### # montando o drive do google onde o corpus se encontra\r\n",
        "from google.colab import drive\r\n",
        "drive.mount('/content/drive')\r\n",
        "\r\n",
        "### Entrando no diretório\r\n",
        "%cd drive/MyDrive/Colab Notebooks/NLP/trabalho"
      ],
      "execution_count": 1,
      "outputs": [
        {
          "output_type": "stream",
          "text": [
            "Mounted at /content/drive\n",
            "/content/drive/MyDrive/Colab Notebooks/NLP/trabalho\n"
          ],
          "name": "stdout"
        }
      ]
    },
    {
      "cell_type": "code",
      "metadata": {
        "colab": {
          "base_uri": "https://localhost:8080/"
        },
        "id": "xizqZPgGX1aX",
        "outputId": "e62b9533-4608-4532-8f5d-31aa107e8e27"
      },
      "source": [
        "import nltk\n",
        "nltk.download('punkt')\n",
        "\n",
        "%matplotlib inline\n",
        "#nltk.download('punkt')\n",
        "nltk.download('stopwords')\n",
        "#nltk.download('wordnet')"
      ],
      "execution_count": 2,
      "outputs": [
        {
          "output_type": "stream",
          "text": [
            "[nltk_data] Downloading package punkt to /root/nltk_data...\n",
            "[nltk_data]   Unzipping tokenizers/punkt.zip.\n",
            "[nltk_data] Downloading package stopwords to /root/nltk_data...\n",
            "[nltk_data]   Unzipping corpora/stopwords.zip.\n"
          ],
          "name": "stdout"
        },
        {
          "output_type": "execute_result",
          "data": {
            "text/plain": [
              "True"
            ]
          },
          "metadata": {
            "tags": []
          },
          "execution_count": 2
        }
      ]
    },
    {
      "cell_type": "code",
      "metadata": {
        "id": "X9Tkls2bX1aa"
      },
      "source": [
        "import pandas as pd\n",
        "import numpy as np\n",
        "\n",
        "import time # usado para calcular o tempo de processamento de algumas partes do código\n",
        "import string # usado para concatenar string no stop words\n",
        "\n",
        "\n",
        "from nltk.tokenize import word_tokenize\n",
        "\n",
        "# REPRESENTAÇÕES\n",
        "from gensim.models import Word2Vec\n",
        "from gensim.models import TfidfModel\n",
        "from gensim.corpora import Dictionary # para uso do TF-IDF\n"
      ],
      "execution_count": 3,
      "outputs": []
    },
    {
      "cell_type": "markdown",
      "metadata": {
        "id": "r8cDe6KMX1aa"
      },
      "source": [
        "## Abrindo o arquivo"
      ]
    },
    {
      "cell_type": "code",
      "metadata": {
        "colab": {
          "base_uri": "https://localhost:8080/",
          "height": 261
        },
        "id": "aDWnK_yiZgu8",
        "outputId": "0b8da933-b9d0-4068-c970-cba20f524267"
      },
      "source": [
        "# abrindo o arquivo no colab\r\n",
        "df_util = pd.read_csv('/content/drive/MyDrive/Colab Notebooks/NLP/trabalho/dados/UTLCorpus.csv')\r\n",
        "df_util.head(3)"
      ],
      "execution_count": 4,
      "outputs": [
        {
          "output_type": "execute_result",
          "data": {
            "text/html": [
              "<div>\n",
              "<style scoped>\n",
              "    .dataframe tbody tr th:only-of-type {\n",
              "        vertical-align: middle;\n",
              "    }\n",
              "\n",
              "    .dataframe tbody tr th {\n",
              "        vertical-align: top;\n",
              "    }\n",
              "\n",
              "    .dataframe thead th {\n",
              "        text-align: right;\n",
              "    }\n",
              "</style>\n",
              "<table border=\"1\" class=\"dataframe\">\n",
              "  <thead>\n",
              "    <tr style=\"text-align: right;\">\n",
              "      <th></th>\n",
              "      <th>Unnamed: 0</th>\n",
              "      <th>domain</th>\n",
              "      <th>object</th>\n",
              "      <th>author</th>\n",
              "      <th>text</th>\n",
              "      <th>likes</th>\n",
              "      <th>unlikes</th>\n",
              "      <th>stars</th>\n",
              "      <th>date</th>\n",
              "      <th>collect_date</th>\n",
              "      <th>replies</th>\n",
              "      <th>favorite</th>\n",
              "      <th>want_see</th>\n",
              "      <th>recommend</th>\n",
              "      <th>see</th>\n",
              "      <th>internal_id</th>\n",
              "    </tr>\n",
              "  </thead>\n",
              "  <tbody>\n",
              "    <tr>\n",
              "      <th>0</th>\n",
              "      <td>0</td>\n",
              "      <td>movies</td>\n",
              "      <td>007-cassino-royale-t23</td>\n",
              "      <td>0</td>\n",
              "      <td>Um dos melhores do 007</td>\n",
              "      <td>0</td>\n",
              "      <td>0</td>\n",
              "      <td>3.5</td>\n",
              "      <td>8 anos atrás</td>\n",
              "      <td>20-04-2019 06:20</td>\n",
              "      <td>0.0</td>\n",
              "      <td>0.0</td>\n",
              "      <td>0.0</td>\n",
              "      <td>NaN</td>\n",
              "      <td>1.0</td>\n",
              "      <td>0</td>\n",
              "    </tr>\n",
              "    <tr>\n",
              "      <th>1</th>\n",
              "      <td>1</td>\n",
              "      <td>movies</td>\n",
              "      <td>007-cassino-royale-t23</td>\n",
              "      <td>1</td>\n",
              "      <td>assisti só pela metade..do meio ao fim, o film...</td>\n",
              "      <td>0</td>\n",
              "      <td>0</td>\n",
              "      <td>4.0</td>\n",
              "      <td>8 anos atrás</td>\n",
              "      <td>20-04-2019 06:20</td>\n",
              "      <td>0.0</td>\n",
              "      <td>0.0</td>\n",
              "      <td>0.0</td>\n",
              "      <td>NaN</td>\n",
              "      <td>1.0</td>\n",
              "      <td>1</td>\n",
              "    </tr>\n",
              "    <tr>\n",
              "      <th>2</th>\n",
              "      <td>2</td>\n",
              "      <td>movies</td>\n",
              "      <td>007-cassino-royale-t23</td>\n",
              "      <td>2</td>\n",
              "      <td>foi um dos filmes mais violentos q já vi. mas ...</td>\n",
              "      <td>0</td>\n",
              "      <td>0</td>\n",
              "      <td>4.0</td>\n",
              "      <td>8 anos atrás</td>\n",
              "      <td>20-04-2019 06:20</td>\n",
              "      <td>0.0</td>\n",
              "      <td>0.0</td>\n",
              "      <td>0.0</td>\n",
              "      <td>NaN</td>\n",
              "      <td>1.0</td>\n",
              "      <td>2</td>\n",
              "    </tr>\n",
              "  </tbody>\n",
              "</table>\n",
              "</div>"
            ],
            "text/plain": [
              "   Unnamed: 0  domain                  object  ...  recommend  see  internal_id\n",
              "0           0  movies  007-cassino-royale-t23  ...        NaN  1.0            0\n",
              "1           1  movies  007-cassino-royale-t23  ...        NaN  1.0            1\n",
              "2           2  movies  007-cassino-royale-t23  ...        NaN  1.0            2\n",
              "\n",
              "[3 rows x 16 columns]"
            ]
          },
          "metadata": {
            "tags": []
          },
          "execution_count": 4
        }
      ]
    },
    {
      "cell_type": "code",
      "metadata": {
        "id": "Zg6ztZNiX1ab"
      },
      "source": [
        "# abrindo o arquivo localmente\n",
        "# df_util = pd.read_csv(r'C:\\Users\\Herica\\Documents\\Herica\\Pos\\GitHub\\base\\NLP\\UTLCorpus.csv')\n",
        "# df_util.head(3)"
      ],
      "execution_count": 5,
      "outputs": []
    },
    {
      "cell_type": "markdown",
      "metadata": {
        "id": "bDjKfg7ZX1ab"
      },
      "source": [
        "# Analisando os dados"
      ]
    },
    {
      "cell_type": "code",
      "metadata": {
        "colab": {
          "base_uri": "https://localhost:8080/"
        },
        "id": "ZzQYH6hFX1ac",
        "outputId": "f4d5808b-cbd9-47eb-fc4f-818af304791a"
      },
      "source": [
        "# Verificando quais os tipos da feature domain\n",
        "df_util.domain.unique()"
      ],
      "execution_count": 6,
      "outputs": [
        {
          "output_type": "execute_result",
          "data": {
            "text/plain": [
              "array(['movies', 'apps'], dtype=object)"
            ]
          },
          "metadata": {
            "tags": []
          },
          "execution_count": 6
        }
      ]
    },
    {
      "cell_type": "code",
      "metadata": {
        "id": "kBey34QFX1ac"
      },
      "source": [
        "qtde_moveis = len(df_util[df_util['domain'] == 'movies'])\n",
        "qtde_apps = len(df_util[df_util['domain'] == 'apps'])"
      ],
      "execution_count": 7,
      "outputs": []
    },
    {
      "cell_type": "code",
      "metadata": {
        "id": "zJT_WLv_X1ad"
      },
      "source": [
        "# Selecionando somente o registros do tipo movies\n",
        "df_movies = df_util[df_util['domain'] == 'movies']"
      ],
      "execution_count": 8,
      "outputs": []
    },
    {
      "cell_type": "markdown",
      "metadata": {
        "id": "cW0pRDlyX1ad"
      },
      "source": [
        "## Selecionando as features de interesse"
      ]
    },
    {
      "cell_type": "code",
      "metadata": {
        "colab": {
          "base_uri": "https://localhost:8080/",
          "height": 0
        },
        "id": "ApPfEhv_X1ae",
        "outputId": "5475ae35-76ca-4e29-ee92-95aa21b5793c"
      },
      "source": [
        "df_movies = df_movies[['object', 'text', 'likes']]\n",
        "df_movies.head(3)"
      ],
      "execution_count": 9,
      "outputs": [
        {
          "output_type": "execute_result",
          "data": {
            "text/html": [
              "<div>\n",
              "<style scoped>\n",
              "    .dataframe tbody tr th:only-of-type {\n",
              "        vertical-align: middle;\n",
              "    }\n",
              "\n",
              "    .dataframe tbody tr th {\n",
              "        vertical-align: top;\n",
              "    }\n",
              "\n",
              "    .dataframe thead th {\n",
              "        text-align: right;\n",
              "    }\n",
              "</style>\n",
              "<table border=\"1\" class=\"dataframe\">\n",
              "  <thead>\n",
              "    <tr style=\"text-align: right;\">\n",
              "      <th></th>\n",
              "      <th>object</th>\n",
              "      <th>text</th>\n",
              "      <th>likes</th>\n",
              "    </tr>\n",
              "  </thead>\n",
              "  <tbody>\n",
              "    <tr>\n",
              "      <th>0</th>\n",
              "      <td>007-cassino-royale-t23</td>\n",
              "      <td>Um dos melhores do 007</td>\n",
              "      <td>0</td>\n",
              "    </tr>\n",
              "    <tr>\n",
              "      <th>1</th>\n",
              "      <td>007-cassino-royale-t23</td>\n",
              "      <td>assisti só pela metade..do meio ao fim, o film...</td>\n",
              "      <td>0</td>\n",
              "    </tr>\n",
              "    <tr>\n",
              "      <th>2</th>\n",
              "      <td>007-cassino-royale-t23</td>\n",
              "      <td>foi um dos filmes mais violentos q já vi. mas ...</td>\n",
              "      <td>0</td>\n",
              "    </tr>\n",
              "  </tbody>\n",
              "</table>\n",
              "</div>"
            ],
            "text/plain": [
              "                   object  ... likes\n",
              "0  007-cassino-royale-t23  ...     0\n",
              "1  007-cassino-royale-t23  ...     0\n",
              "2  007-cassino-royale-t23  ...     0\n",
              "\n",
              "[3 rows x 3 columns]"
            ]
          },
          "metadata": {
            "tags": []
          },
          "execution_count": 9
        }
      ]
    },
    {
      "cell_type": "markdown",
      "metadata": {
        "id": "t5wE53KyX1ae"
      },
      "source": [
        "DESCRIÇÃO DAS FEATURES QUE SERÃO UTILIZADAS NO TRABALHO\n",
        "\n",
        "object -> Nome do filme\n",
        "\n",
        "text -> avalianção dos filme feita pelos usuários"
      ]
    },
    {
      "cell_type": "code",
      "metadata": {
        "colab": {
          "base_uri": "https://localhost:8080/"
        },
        "id": "HevXuRfvX1ae",
        "outputId": "4c59d061-d287-4884-c198-f2c2f6770f49"
      },
      "source": [
        "df_movies.columns"
      ],
      "execution_count": 10,
      "outputs": [
        {
          "output_type": "execute_result",
          "data": {
            "text/plain": [
              "Index(['object', 'text', 'likes'], dtype='object')"
            ]
          },
          "metadata": {
            "tags": []
          },
          "execution_count": 10
        }
      ]
    },
    {
      "cell_type": "code",
      "metadata": {
        "colab": {
          "base_uri": "https://localhost:8080/"
        },
        "id": "4KQDwIAgX1af",
        "outputId": "541211e1-149e-47fb-ff43-bd4875afc829"
      },
      "source": [
        "# analisando a qtde de filmes avaliados\n",
        "df_movies['object'].value_counts()"
      ],
      "execution_count": 11,
      "outputs": [
        {
          "output_type": "execute_result",
          "data": {
            "text/plain": [
              "cisne-negro-t16349                               7839\n",
              "os-vingadores-t15324                             7059\n",
              "as-vantagens-de-ser-invisivel-t29850             6940\n",
              "batman-o-cavaleiro-das-trevas-ressurge-t19914    6413\n",
              "a-origem-t10852                                  5801\n",
              "                                                 ... \n",
              "a-filha-do-comandante-t95070                        1\n",
              "the-actors-t52152                                   1\n",
              "o-mercador-de-almas-t94685                          1\n",
              "a-historia-do-racismo-e-do-escravismo-t213113       1\n",
              "a-retirada-de-dunquerque-t51531                     1\n",
              "Name: object, Length: 4203, dtype: int64"
            ]
          },
          "metadata": {
            "tags": []
          },
          "execution_count": 11
        }
      ]
    },
    {
      "cell_type": "code",
      "metadata": {
        "colab": {
          "base_uri": "https://localhost:8080/",
          "height": 0
        },
        "id": "6LF8hJPZ3H5O",
        "outputId": "666a141a-1728-4d6d-8f99-58766b5ed125"
      },
      "source": [
        "# convertendo as palavras do campo texto para lowcase\r\n",
        "df_movies['text_lower'] = df_movies['text'].astype('str').str.lower()\r\n",
        "df_movies[['text','text_lower']].head(3)"
      ],
      "execution_count": 12,
      "outputs": [
        {
          "output_type": "execute_result",
          "data": {
            "text/html": [
              "<div>\n",
              "<style scoped>\n",
              "    .dataframe tbody tr th:only-of-type {\n",
              "        vertical-align: middle;\n",
              "    }\n",
              "\n",
              "    .dataframe tbody tr th {\n",
              "        vertical-align: top;\n",
              "    }\n",
              "\n",
              "    .dataframe thead th {\n",
              "        text-align: right;\n",
              "    }\n",
              "</style>\n",
              "<table border=\"1\" class=\"dataframe\">\n",
              "  <thead>\n",
              "    <tr style=\"text-align: right;\">\n",
              "      <th></th>\n",
              "      <th>text</th>\n",
              "      <th>text_lower</th>\n",
              "    </tr>\n",
              "  </thead>\n",
              "  <tbody>\n",
              "    <tr>\n",
              "      <th>0</th>\n",
              "      <td>Um dos melhores do 007</td>\n",
              "      <td>um dos melhores do 007</td>\n",
              "    </tr>\n",
              "    <tr>\n",
              "      <th>1</th>\n",
              "      <td>assisti só pela metade..do meio ao fim, o film...</td>\n",
              "      <td>assisti só pela metade..do meio ao fim, o film...</td>\n",
              "    </tr>\n",
              "    <tr>\n",
              "      <th>2</th>\n",
              "      <td>foi um dos filmes mais violentos q já vi. mas ...</td>\n",
              "      <td>foi um dos filmes mais violentos q já vi. mas ...</td>\n",
              "    </tr>\n",
              "  </tbody>\n",
              "</table>\n",
              "</div>"
            ],
            "text/plain": [
              "                                                text                                         text_lower\n",
              "0                             Um dos melhores do 007                             um dos melhores do 007\n",
              "1  assisti só pela metade..do meio ao fim, o film...  assisti só pela metade..do meio ao fim, o film...\n",
              "2  foi um dos filmes mais violentos q já vi. mas ...  foi um dos filmes mais violentos q já vi. mas ..."
            ]
          },
          "metadata": {
            "tags": []
          },
          "execution_count": 12
        }
      ]
    },
    {
      "cell_type": "markdown",
      "metadata": {
        "id": "7QLDjXjQX1af"
      },
      "source": [
        "## Verificando e deletando registros nulos"
      ]
    },
    {
      "cell_type": "code",
      "metadata": {
        "colab": {
          "base_uri": "https://localhost:8080/"
        },
        "id": "jwV-0Ry3X1ag",
        "outputId": "1a7a5270-71fc-4b8e-dfaa-28dc6496e317"
      },
      "source": [
        "df_movies.isnull().sum()"
      ],
      "execution_count": 13,
      "outputs": [
        {
          "output_type": "execute_result",
          "data": {
            "text/plain": [
              "object          0\n",
              "text          956\n",
              "likes           0\n",
              "text_lower      0\n",
              "dtype: int64"
            ]
          },
          "metadata": {
            "tags": []
          },
          "execution_count": 13
        }
      ]
    },
    {
      "cell_type": "code",
      "metadata": {
        "colab": {
          "base_uri": "https://localhost:8080/"
        },
        "id": "0rVXhpQWX1ag",
        "outputId": "7fcdc7e3-771a-4945-9590-8d648f53577b"
      },
      "source": [
        "# deletando os registros nulos\n",
        "qtde_anterior_nulos = df_movies.shape[0]\n",
        "df_movies.dropna(subset=['text'], inplace = True)\n",
        "qtde_pos_exclusao_nulos = df_movies.shape[0]\n",
        "\n",
        "print (\"Antes:\", qtde_anterior_nulos, 'Depois:', qtde_pos_exclusao_nulos, 'Diferença:', qtde_anterior_nulos-qtde_pos_exclusao_nulos)"
      ],
      "execution_count": 14,
      "outputs": [
        {
          "output_type": "stream",
          "text": [
            "Antes: 1839851 Depois: 1838895 Diferença: 956\n"
          ],
          "name": "stdout"
        }
      ]
    },
    {
      "cell_type": "code",
      "metadata": {
        "colab": {
          "base_uri": "https://localhost:8080/"
        },
        "id": "yxQoPiQBX1ah",
        "outputId": "a7154b7b-06c4-41c8-b81a-0a98bf31f052"
      },
      "source": [
        "# Validando a exclusão\n",
        "df_movies.isnull().sum()"
      ],
      "execution_count": 15,
      "outputs": [
        {
          "output_type": "execute_result",
          "data": {
            "text/plain": [
              "object        0\n",
              "text          0\n",
              "likes         0\n",
              "text_lower    0\n",
              "dtype: int64"
            ]
          },
          "metadata": {
            "tags": []
          },
          "execution_count": 15
        }
      ]
    },
    {
      "cell_type": "markdown",
      "metadata": {
        "id": "bZMwZtzEX1ah"
      },
      "source": [
        "## Pré-processando os dados"
      ]
    },
    {
      "cell_type": "code",
      "metadata": {
        "colab": {
          "base_uri": "https://localhost:8080/"
        },
        "id": "vBSL7EonX1al",
        "outputId": "90a0b7d6-016a-4d6a-b8c5-4930c4c49de2"
      },
      "source": [
        "# definindo e visualizando as stop-words\n",
        "stp_words = nltk.corpus.stopwords.words('portuguese')\n",
        "stop_words = stp_words +' '.join(string.punctuation).split(' ')+[\"``\",\"''\",\"“\",'”']\n",
        "\n",
        "print('Visualizando as stopwords \\n', stop_words)"
      ],
      "execution_count": 16,
      "outputs": [
        {
          "output_type": "stream",
          "text": [
            "Visualizando as stopwords \n",
            " ['de', 'a', 'o', 'que', 'e', 'é', 'do', 'da', 'em', 'um', 'para', 'com', 'não', 'uma', 'os', 'no', 'se', 'na', 'por', 'mais', 'as', 'dos', 'como', 'mas', 'ao', 'ele', 'das', 'à', 'seu', 'sua', 'ou', 'quando', 'muito', 'nos', 'já', 'eu', 'também', 'só', 'pelo', 'pela', 'até', 'isso', 'ela', 'entre', 'depois', 'sem', 'mesmo', 'aos', 'seus', 'quem', 'nas', 'me', 'esse', 'eles', 'você', 'essa', 'num', 'nem', 'suas', 'meu', 'às', 'minha', 'numa', 'pelos', 'elas', 'qual', 'nós', 'lhe', 'deles', 'essas', 'esses', 'pelas', 'este', 'dele', 'tu', 'te', 'vocês', 'vos', 'lhes', 'meus', 'minhas', 'teu', 'tua', 'teus', 'tuas', 'nosso', 'nossa', 'nossos', 'nossas', 'dela', 'delas', 'esta', 'estes', 'estas', 'aquele', 'aquela', 'aqueles', 'aquelas', 'isto', 'aquilo', 'estou', 'está', 'estamos', 'estão', 'estive', 'esteve', 'estivemos', 'estiveram', 'estava', 'estávamos', 'estavam', 'estivera', 'estivéramos', 'esteja', 'estejamos', 'estejam', 'estivesse', 'estivéssemos', 'estivessem', 'estiver', 'estivermos', 'estiverem', 'hei', 'há', 'havemos', 'hão', 'houve', 'houvemos', 'houveram', 'houvera', 'houvéramos', 'haja', 'hajamos', 'hajam', 'houvesse', 'houvéssemos', 'houvessem', 'houver', 'houvermos', 'houverem', 'houverei', 'houverá', 'houveremos', 'houverão', 'houveria', 'houveríamos', 'houveriam', 'sou', 'somos', 'são', 'era', 'éramos', 'eram', 'fui', 'foi', 'fomos', 'foram', 'fora', 'fôramos', 'seja', 'sejamos', 'sejam', 'fosse', 'fôssemos', 'fossem', 'for', 'formos', 'forem', 'serei', 'será', 'seremos', 'serão', 'seria', 'seríamos', 'seriam', 'tenho', 'tem', 'temos', 'tém', 'tinha', 'tínhamos', 'tinham', 'tive', 'teve', 'tivemos', 'tiveram', 'tivera', 'tivéramos', 'tenha', 'tenhamos', 'tenham', 'tivesse', 'tivéssemos', 'tivessem', 'tiver', 'tivermos', 'tiverem', 'terei', 'terá', 'teremos', 'terão', 'teria', 'teríamos', 'teriam', '!', '\"', '#', '$', '%', '&', \"'\", '(', ')', '*', '+', ',', '-', '.', '/', ':', ';', '<', '=', '>', '?', '@', '[', '\\\\', ']', '^', '_', '`', '{', '|', '}', '~', '``', \"''\", '“', '”']\n"
          ],
          "name": "stdout"
        }
      ]
    },
    {
      "cell_type": "code",
      "metadata": {
        "id": "v6YcliccX1ai"
      },
      "source": [
        "# Definindo as funções que serão utilizadas\n",
        "\n",
        "# Tokenizando\n",
        "def identify_tokens(row):\n",
        "    review = row['text_lower']\n",
        "    tokens = nltk.word_tokenize(review)\n",
        "    \n",
        "    # taken only words (not punctuation)\n",
        "    token_words = [w for w in tokens if w.isalnum()] # isalnum (não remove caracteres especiais e números) - isalpha (removeremos palavras / caracteres não alfanuméricos (como números e pontuação)\n",
        "    return token_words\n",
        "\n",
        "# Removendo as stop-words\n",
        "def remove_stops(row):\n",
        "    my_list = row['text_tokenizado']\n",
        "    #print('my_list: ', my_list)\n",
        "    meaningful_words = [w for w in my_list if not w in stop_words]\n",
        "    return (meaningful_words)\n",
        "\n",
        "\n",
        "# Contar qtde de palavras\n",
        "def contar_palavras(row):\n",
        "  palavraCont = {}\n",
        "  palavras_lista = word_tokenize(str(row['text_stopwords']))\n",
        "\n",
        "  for palavra in palavras_lista:\n",
        "    if palavra in palavraCont:\n",
        "        palavraCont[palavra] += 1\n",
        "    else:\n",
        "        palavraCont[palavra] = 1\n",
        "  return palavraCont"
      ],
      "execution_count": 17,
      "outputs": []
    },
    {
      "cell_type": "code",
      "metadata": {
        "id": "cz3J7KRCX1ai"
      },
      "source": [
        "# resetando os índices\n",
        "df_movies = df_movies.reset_index()"
      ],
      "execution_count": 18,
      "outputs": []
    },
    {
      "cell_type": "markdown",
      "metadata": {
        "id": "Vf8N3SPsX1aj"
      },
      "source": [
        "### Tokenizando"
      ]
    },
    {
      "cell_type": "code",
      "metadata": {
        "colab": {
          "base_uri": "https://localhost:8080/"
        },
        "id": "PBr8A7FCX1aj",
        "outputId": "b6ff3fcd-1d59-41cd-9a16-200072cc6b56"
      },
      "source": [
        "start = time.time()\n",
        "df_movies['text_tokenizado'] = df_movies.apply(identify_tokens, axis=1)\n",
        "\n",
        "print (\"tempo gasto: \", (time.time() - start))"
      ],
      "execution_count": 19,
      "outputs": [
        {
          "output_type": "stream",
          "text": [
            "tempo gasto:  679.5345890522003\n"
          ],
          "name": "stdout"
        }
      ]
    },
    {
      "cell_type": "code",
      "metadata": {
        "colab": {
          "base_uri": "https://localhost:8080/",
          "height": 142
        },
        "id": "GKP6xaknX1aj",
        "outputId": "6a2126e2-a355-49d3-9dd6-b95b7d7de42b"
      },
      "source": [
        "# validando a tokenização\n",
        "df_movies[['text', 'text_lower','text_tokenizado']].head(3)"
      ],
      "execution_count": 20,
      "outputs": [
        {
          "output_type": "execute_result",
          "data": {
            "text/html": [
              "<div>\n",
              "<style scoped>\n",
              "    .dataframe tbody tr th:only-of-type {\n",
              "        vertical-align: middle;\n",
              "    }\n",
              "\n",
              "    .dataframe tbody tr th {\n",
              "        vertical-align: top;\n",
              "    }\n",
              "\n",
              "    .dataframe thead th {\n",
              "        text-align: right;\n",
              "    }\n",
              "</style>\n",
              "<table border=\"1\" class=\"dataframe\">\n",
              "  <thead>\n",
              "    <tr style=\"text-align: right;\">\n",
              "      <th></th>\n",
              "      <th>text</th>\n",
              "      <th>text_lower</th>\n",
              "      <th>text_tokenizado</th>\n",
              "    </tr>\n",
              "  </thead>\n",
              "  <tbody>\n",
              "    <tr>\n",
              "      <th>0</th>\n",
              "      <td>Um dos melhores do 007</td>\n",
              "      <td>um dos melhores do 007</td>\n",
              "      <td>[um, dos, melhores, do, 007]</td>\n",
              "    </tr>\n",
              "    <tr>\n",
              "      <th>1</th>\n",
              "      <td>assisti só pela metade..do meio ao fim, o film...</td>\n",
              "      <td>assisti só pela metade..do meio ao fim, o film...</td>\n",
              "      <td>[assisti, só, pela, meio, ao, fim, o, filme, p...</td>\n",
              "    </tr>\n",
              "    <tr>\n",
              "      <th>2</th>\n",
              "      <td>foi um dos filmes mais violentos q já vi. mas ...</td>\n",
              "      <td>foi um dos filmes mais violentos q já vi. mas ...</td>\n",
              "      <td>[foi, um, dos, filmes, mais, violentos, q, já,...</td>\n",
              "    </tr>\n",
              "  </tbody>\n",
              "</table>\n",
              "</div>"
            ],
            "text/plain": [
              "                                                text  ...                                    text_tokenizado\n",
              "0                             Um dos melhores do 007  ...                       [um, dos, melhores, do, 007]\n",
              "1  assisti só pela metade..do meio ao fim, o film...  ...  [assisti, só, pela, meio, ao, fim, o, filme, p...\n",
              "2  foi um dos filmes mais violentos q já vi. mas ...  ...  [foi, um, dos, filmes, mais, violentos, q, já,...\n",
              "\n",
              "[3 rows x 3 columns]"
            ]
          },
          "metadata": {
            "tags": []
          },
          "execution_count": 20
        }
      ]
    },
    {
      "cell_type": "markdown",
      "metadata": {
        "id": "NaTD20WXX1ak"
      },
      "source": [
        "### Convertento os tokes para minúsculo"
      ]
    },
    {
      "cell_type": "code",
      "metadata": {
        "id": "estJOY5nX1ak"
      },
      "source": [
        "#start = time.time()\n",
        "#df_movies['text_lower'] = df_movies['text_tokenizado'].astype('str').str.lower()\n",
        "#df_movies.head(3)"
      ],
      "execution_count": 21,
      "outputs": []
    },
    {
      "cell_type": "markdown",
      "metadata": {
        "id": "cteS1B3XX1al"
      },
      "source": [
        "### Removendo as stopwords"
      ]
    },
    {
      "cell_type": "code",
      "metadata": {
        "colab": {
          "base_uri": "https://localhost:8080/"
        },
        "id": "jrPo2ZDjX1al",
        "outputId": "8abe60ed-3ac5-4c1a-cae6-9c58675ee072"
      },
      "source": [
        "start = time.time()\n",
        "df_movies['text_stopwords'] = df_movies.apply(remove_stops, axis=1) # chamando a função que remove as stopwords\n",
        "print (\"tempo gasto: \", (time.time() - start))"
      ],
      "execution_count": 22,
      "outputs": [
        {
          "output_type": "stream",
          "text": [
            "tempo gasto:  119.85430312156677\n"
          ],
          "name": "stdout"
        }
      ]
    },
    {
      "cell_type": "code",
      "metadata": {
        "colab": {
          "base_uri": "https://localhost:8080/",
          "height": 142
        },
        "id": "lYs93yvGX1am",
        "outputId": "7f9b068d-5126-4689-991f-b01da4979cfd"
      },
      "source": [
        "# Validando\n",
        "df_movies[['text', 'text_lower','text_tokenizado','text_stopwords']].head(3)"
      ],
      "execution_count": 23,
      "outputs": [
        {
          "output_type": "execute_result",
          "data": {
            "text/html": [
              "<div>\n",
              "<style scoped>\n",
              "    .dataframe tbody tr th:only-of-type {\n",
              "        vertical-align: middle;\n",
              "    }\n",
              "\n",
              "    .dataframe tbody tr th {\n",
              "        vertical-align: top;\n",
              "    }\n",
              "\n",
              "    .dataframe thead th {\n",
              "        text-align: right;\n",
              "    }\n",
              "</style>\n",
              "<table border=\"1\" class=\"dataframe\">\n",
              "  <thead>\n",
              "    <tr style=\"text-align: right;\">\n",
              "      <th></th>\n",
              "      <th>text</th>\n",
              "      <th>text_lower</th>\n",
              "      <th>text_tokenizado</th>\n",
              "      <th>text_stopwords</th>\n",
              "    </tr>\n",
              "  </thead>\n",
              "  <tbody>\n",
              "    <tr>\n",
              "      <th>0</th>\n",
              "      <td>Um dos melhores do 007</td>\n",
              "      <td>um dos melhores do 007</td>\n",
              "      <td>[um, dos, melhores, do, 007]</td>\n",
              "      <td>[melhores, 007]</td>\n",
              "    </tr>\n",
              "    <tr>\n",
              "      <th>1</th>\n",
              "      <td>assisti só pela metade..do meio ao fim, o film...</td>\n",
              "      <td>assisti só pela metade..do meio ao fim, o film...</td>\n",
              "      <td>[assisti, só, pela, meio, ao, fim, o, filme, p...</td>\n",
              "      <td>[assisti, meio, fim, filme, parece, ser, mt, b...</td>\n",
              "    </tr>\n",
              "    <tr>\n",
              "      <th>2</th>\n",
              "      <td>foi um dos filmes mais violentos q já vi. mas ...</td>\n",
              "      <td>foi um dos filmes mais violentos q já vi. mas ...</td>\n",
              "      <td>[foi, um, dos, filmes, mais, violentos, q, já,...</td>\n",
              "      <td>[filmes, violentos, q, vi, booom, demaais]</td>\n",
              "    </tr>\n",
              "  </tbody>\n",
              "</table>\n",
              "</div>"
            ],
            "text/plain": [
              "                                                text  ...                                     text_stopwords\n",
              "0                             Um dos melhores do 007  ...                                    [melhores, 007]\n",
              "1  assisti só pela metade..do meio ao fim, o film...  ...  [assisti, meio, fim, filme, parece, ser, mt, b...\n",
              "2  foi um dos filmes mais violentos q já vi. mas ...  ...         [filmes, violentos, q, vi, booom, demaais]\n",
              "\n",
              "[3 rows x 4 columns]"
            ]
          },
          "metadata": {
            "tags": []
          },
          "execution_count": 23
        }
      ]
    },
    {
      "cell_type": "markdown",
      "metadata": {
        "id": "DP3Nap7TPe13"
      },
      "source": [
        "## inicio testes"
      ]
    },
    {
      "cell_type": "code",
      "metadata": {
        "colab": {
          "base_uri": "https://localhost:8080/"
        },
        "id": "zPg3unV7SRws",
        "outputId": "b50fff7f-5129-476f-d9f0-d0cb640b590e"
      },
      "source": [
        "df_movies['text_stopwords'].values"
      ],
      "execution_count": 31,
      "outputs": [
        {
          "output_type": "execute_result",
          "data": {
            "text/plain": [
              "array([list(['melhores', '007']),\n",
              "       list(['assisti', 'meio', 'fim', 'filme', 'parece', 'ser', 'mt', 'bom', 'espero', 'poder', 'assistir', 'filme', 'inteiro', 'logo', 'logo']),\n",
              "       list(['filmes', 'violentos', 'q', 'vi', 'booom', 'demaais']), ...,\n",
              "       list(['divertido', 'direito', 'musicas', 'james', 'bon', 'contatos', 'imediatos', 'mestre', 'lembra', 'jim', 'carey']),\n",
              "       list(['filme', 'engraçado', 'vi', 'vida']),\n",
              "       list(['extremamente', 'tosco', 'tosco', 'divertido', 'ver'])],\n",
              "      dtype=object)"
            ]
          },
          "metadata": {
            "tags": []
          },
          "execution_count": 31
        }
      ]
    },
    {
      "cell_type": "code",
      "metadata": {
        "id": "Xi-uuJU1Pkit"
      },
      "source": [
        "from gensim import corpora\r\n",
        "\r\n",
        "# cria um dicionário de palavras (uma lista de palavra acessíveis através de dicionario_bigrama[0], por exemplo)\r\n",
        "dicionario_bigrama = corpora.Dictionary(df_movies['text_stopwords'].values) "
      ],
      "execution_count": 37,
      "outputs": []
    },
    {
      "cell_type": "code",
      "metadata": {
        "colab": {
          "base_uri": "https://localhost:8080/",
          "height": 35
        },
        "id": "CUZGPNhEWl9c",
        "outputId": "3d97f7db-d4c1-4365-f1ce-0ccb2653833d"
      },
      "source": [
        "dicionario_bigrama[0]"
      ],
      "execution_count": 59,
      "outputs": [
        {
          "output_type": "execute_result",
          "data": {
            "application/vnd.google.colaboratory.intrinsic+json": {
              "type": "string"
            },
            "text/plain": [
              "'007'"
            ]
          },
          "metadata": {
            "tags": []
          },
          "execution_count": 59
        }
      ]
    },
    {
      "cell_type": "code",
      "metadata": {
        "id": "TphfH_MvV3Oz"
      },
      "source": [
        "from gensim.utils import simple_preprocess\r\n",
        "# outra forma de tokenizar documento no gensim, alem de outras funcionalides\r\n",
        "doc_tokenizado = simple_preprocess(df_movies['text'].values)"
      ],
      "execution_count": 63,
      "outputs": []
    },
    {
      "cell_type": "code",
      "metadata": {
        "colab": {
          "base_uri": "https://localhost:8080/"
        },
        "id": "fmmhJ9XAXlpp",
        "outputId": "06e56c7f-46fe-4130-b055-3c39bc1809b3"
      },
      "source": [
        "doc_tokenizado[0:4]"
      ],
      "execution_count": 69,
      "outputs": [
        {
          "output_type": "execute_result",
          "data": {
            "text/plain": [
              "['lg', 'lg', 'mg', 'k_']"
            ]
          },
          "metadata": {
            "tags": []
          },
          "execution_count": 69
        }
      ]
    },
    {
      "cell_type": "code",
      "metadata": {
        "id": "HStcc2x3RhFd"
      },
      "source": [
        "# aqui vamos contruir nosso dicionario e ao mesmo tempo colocar o nosso dado no formato bow\r\n",
        "bow_corpus = dicionario_bigrama.doc2bow(doc_tokenizado, allow_update=True)"
      ],
      "execution_count": 66,
      "outputs": []
    },
    {
      "cell_type": "code",
      "metadata": {
        "colab": {
          "base_uri": "https://localhost:8080/"
        },
        "id": "ZZGP2o3TXfVx",
        "outputId": "bd8ba8a2-ba1c-4749-9085-7961c9a67da9"
      },
      "source": [
        "bow_corpus"
      ],
      "execution_count": 67,
      "outputs": [
        {
          "output_type": "execute_result",
          "data": {
            "text/plain": [
              "[(11, 86),\n",
              " (19, 63),\n",
              " (51, 1663),\n",
              " (52, 9),\n",
              " (144, 77),\n",
              " (147, 53),\n",
              " (186, 77),\n",
              " (197, 77),\n",
              " (220, 13),\n",
              " (249, 3),\n",
              " (298, 96),\n",
              " (451, 78),\n",
              " (458, 67),\n",
              " (529, 62),\n",
              " (569, 50),\n",
              " (738, 80),\n",
              " (882, 80),\n",
              " (1147, 88),\n",
              " (1241, 84),\n",
              " (1319, 41),\n",
              " (1348, 64),\n",
              " (1423, 747),\n",
              " (1451, 60),\n",
              " (1466, 72),\n",
              " (1510, 84),\n",
              " (1524, 89),\n",
              " (1530, 77),\n",
              " (1575, 1598),\n",
              " (1582, 411),\n",
              " (1676, 578),\n",
              " (1686, 44),\n",
              " (1737, 10),\n",
              " (1837, 68),\n",
              " (2003, 1674),\n",
              " (2027, 3),\n",
              " (2037, 59),\n",
              " (2040, 89),\n",
              " (2106, 86),\n",
              " (2229, 72),\n",
              " (2300, 7),\n",
              " (2472, 73),\n",
              " (2477, 78),\n",
              " (2533, 73),\n",
              " (2862, 65),\n",
              " (2967, 33),\n",
              " (2979, 47),\n",
              " (2980, 77),\n",
              " (3051, 653),\n",
              " (3188, 17),\n",
              " (3249, 68),\n",
              " (3289, 7),\n",
              " (3296, 1003),\n",
              " (3330, 72),\n",
              " (3643, 65),\n",
              " (3654, 75),\n",
              " (3780, 75),\n",
              " (3795, 68),\n",
              " (4044, 96),\n",
              " (4280, 72),\n",
              " (4310, 74),\n",
              " (4325, 71),\n",
              " (4330, 67),\n",
              " (4520, 9),\n",
              " (4529, 66),\n",
              " (4655, 76),\n",
              " (5206, 3),\n",
              " (5229, 66),\n",
              " (5357, 72),\n",
              " (5484, 239),\n",
              " (5519, 35),\n",
              " (5715, 62),\n",
              " (5734, 69),\n",
              " (5759, 8),\n",
              " (5779, 99),\n",
              " (5811, 67),\n",
              " (6128, 62),\n",
              " (6215, 39),\n",
              " (6805, 67),\n",
              " (6912, 2),\n",
              " (7392, 1),\n",
              " (7411, 75),\n",
              " (7593, 524),\n",
              " (7817, 48),\n",
              " (8360, 96),\n",
              " (8559, 69),\n",
              " (8680, 73),\n",
              " (9021, 616),\n",
              " (9035, 12),\n",
              " (9142, 3),\n",
              " (9254, 59),\n",
              " (9259, 76),\n",
              " (9475, 68),\n",
              " (9717, 67),\n",
              " (9855, 3),\n",
              " (9889, 106),\n",
              " (10124, 89),\n",
              " (10206, 69),\n",
              " (10407, 36),\n",
              " (10433, 78),\n",
              " (10495, 68),\n",
              " (10619, 6),\n",
              " (10628, 68),\n",
              " (10658, 65),\n",
              " (10703, 35),\n",
              " (10704, 71),\n",
              " (10855, 9),\n",
              " (10864, 54),\n",
              " (11003, 75),\n",
              " (11179, 2),\n",
              " (11217, 68),\n",
              " (11226, 3),\n",
              " (11227, 75),\n",
              " (11293, 6),\n",
              " (11324, 65),\n",
              " (11348, 3),\n",
              " (11567, 72),\n",
              " (11852, 1),\n",
              " (11995, 76),\n",
              " (12143, 13),\n",
              " (12365, 75),\n",
              " (12384, 69),\n",
              " (12708, 7),\n",
              " (12934, 4),\n",
              " (12942, 1648),\n",
              " (13013, 57),\n",
              " (13364, 43),\n",
              " (13394, 11),\n",
              " (13786, 68),\n",
              " (13887, 879),\n",
              " (14559, 69),\n",
              " (14607, 49),\n",
              " (14754, 70),\n",
              " (14975, 78),\n",
              " (15047, 1),\n",
              " (15110, 56),\n",
              " (15863, 76),\n",
              " (16051, 64),\n",
              " (16180, 74),\n",
              " (16289, 9),\n",
              " (16390, 9),\n",
              " (16397, 52),\n",
              " (16507, 77),\n",
              " (16557, 81),\n",
              " (16807, 76),\n",
              " (17200, 60),\n",
              " (17586, 77),\n",
              " (17780, 77),\n",
              " (17810, 226),\n",
              " (17917, 78),\n",
              " (17934, 8),\n",
              " (18305, 85),\n",
              " (18428, 2),\n",
              " (18587, 2),\n",
              " (18596, 77),\n",
              " (19035, 71),\n",
              " (19051, 1346),\n",
              " (19083, 2266),\n",
              " (19122, 1621),\n",
              " (19478, 86),\n",
              " (19670, 72),\n",
              " (19750, 13),\n",
              " (19792, 60),\n",
              " (20098, 333),\n",
              " (20182, 4),\n",
              " (20616, 67),\n",
              " (20670, 11),\n",
              " (20955, 66),\n",
              " (21008, 84),\n",
              " (21209, 75),\n",
              " (21234, 3),\n",
              " (21271, 196),\n",
              " (21298, 77),\n",
              " (21305, 1),\n",
              " (21537, 86),\n",
              " (21735, 63),\n",
              " (22178, 4),\n",
              " (22194, 68),\n",
              " (22633, 474),\n",
              " (22877, 4),\n",
              " (22878, 5),\n",
              " (22960, 75),\n",
              " (23084, 91),\n",
              " (23213, 6),\n",
              " (23389, 66),\n",
              " (23390, 68),\n",
              " (23754, 78),\n",
              " (23770, 13),\n",
              " (23820, 2),\n",
              " (24148, 1538),\n",
              " (24424, 3),\n",
              " (24646, 68),\n",
              " (24675, 75),\n",
              " (24980, 892),\n",
              " (25092, 78),\n",
              " (25093, 71),\n",
              " (25213, 75),\n",
              " (25623, 98),\n",
              " (25684, 72),\n",
              " (25727, 64),\n",
              " (25779, 389),\n",
              " (25848, 75),\n",
              " (26099, 54),\n",
              " (26223, 64),\n",
              " (26305, 68),\n",
              " (26354, 12),\n",
              " (26680, 1784),\n",
              " (26681, 77),\n",
              " (26815, 11),\n",
              " (27129, 73),\n",
              " (27180, 66),\n",
              " (27239, 1556),\n",
              " (27309, 50),\n",
              " (27382, 56),\n",
              " (27667, 3),\n",
              " (27686, 81),\n",
              " (27769, 63),\n",
              " (27873, 60),\n",
              " (27900, 1),\n",
              " (27957, 3),\n",
              " (28112, 81),\n",
              " (28225, 4),\n",
              " (28236, 60),\n",
              " (28596, 710),\n",
              " (28607, 499),\n",
              " (28657, 83),\n",
              " (28661, 39),\n",
              " (29088, 8),\n",
              " (29249, 7),\n",
              " (29468, 2),\n",
              " (29477, 1445),\n",
              " (29488, 83),\n",
              " (29878, 1),\n",
              " (29947, 12),\n",
              " (30398, 2),\n",
              " (30526, 65),\n",
              " (30826, 3),\n",
              " (30967, 82),\n",
              " (31117, 7),\n",
              " (31253, 61),\n",
              " (31319, 64),\n",
              " (31802, 70),\n",
              " (31848, 67),\n",
              " (31899, 71),\n",
              " (32039, 3),\n",
              " (32047, 68),\n",
              " (32085, 68),\n",
              " (32176, 78),\n",
              " (32376, 36),\n",
              " (32596, 82),\n",
              " (32597, 71),\n",
              " (32611, 3),\n",
              " (32666, 6),\n",
              " (32927, 1682),\n",
              " (33054, 21),\n",
              " (33369, 71),\n",
              " (33383, 4),\n",
              " (33490, 8),\n",
              " (34105, 36),\n",
              " (34146, 10),\n",
              " (34247, 88),\n",
              " (34249, 78),\n",
              " (34251, 7),\n",
              " (34315, 40),\n",
              " (34656, 77),\n",
              " (34665, 1218),\n",
              " (34717, 11),\n",
              " (34891, 81),\n",
              " (34993, 276),\n",
              " (35167, 78),\n",
              " (35186, 69),\n",
              " (35194, 278),\n",
              " (35733, 6),\n",
              " (36379, 7),\n",
              " (37115, 69),\n",
              " (37342, 69),\n",
              " (38077, 70),\n",
              " (38321, 75),\n",
              " (38401, 5),\n",
              " (38632, 9),\n",
              " (38676, 73),\n",
              " (39170, 1),\n",
              " (39219, 39),\n",
              " (39252, 63),\n",
              " (39298, 84),\n",
              " (39972, 76),\n",
              " (40113, 76),\n",
              " (40178, 5),\n",
              " (40307, 5),\n",
              " (40346, 91),\n",
              " (40497, 59),\n",
              " (40743, 90),\n",
              " (41015, 60),\n",
              " (41017, 67),\n",
              " (41080, 53),\n",
              " (41160, 6),\n",
              " (41180, 68),\n",
              " (41323, 79),\n",
              " (41348, 71),\n",
              " (41350, 1),\n",
              " (41406, 81),\n",
              " (41913, 71),\n",
              " (41977, 84),\n",
              " (42256, 714),\n",
              " (42580, 791),\n",
              " (42585, 3),\n",
              " (42728, 283),\n",
              " (43478, 66),\n",
              " (43847, 68),\n",
              " (43959, 4),\n",
              " (44027, 40),\n",
              " (44162, 63),\n",
              " (44223, 72),\n",
              " (44354, 74),\n",
              " (44788, 1),\n",
              " (44829, 80),\n",
              " (45351, 5),\n",
              " (46300, 73),\n",
              " (46379, 1),\n",
              " (46447, 74),\n",
              " (47259, 1774),\n",
              " (47412, 74),\n",
              " (47669, 74),\n",
              " (48267, 64),\n",
              " (48309, 65),\n",
              " (49402, 74),\n",
              " (49545, 88),\n",
              " (50132, 82),\n",
              " (50307, 6),\n",
              " (50378, 88),\n",
              " (50490, 2),\n",
              " (50508, 92),\n",
              " (50831, 3),\n",
              " (50832, 81),\n",
              " (50924, 1),\n",
              " (51160, 9),\n",
              " (51521, 86),\n",
              " (51834, 8),\n",
              " (52231, 9),\n",
              " (52431, 78),\n",
              " (52433, 79),\n",
              " (52785, 84),\n",
              " (52941, 53),\n",
              " (53029, 70),\n",
              " (53442, 64),\n",
              " (53557, 2),\n",
              " (53710, 10),\n",
              " (53820, 52),\n",
              " (53913, 14),\n",
              " (54080, 75),\n",
              " (54209, 78),\n",
              " (54233, 83),\n",
              " (54326, 3),\n",
              " (54539, 11),\n",
              " (54889, 68),\n",
              " (55168, 35),\n",
              " (55451, 2),\n",
              " (55668, 190),\n",
              " (55778, 2),\n",
              " (55782, 2176),\n",
              " (55940, 62),\n",
              " (55969, 4),\n",
              " (56257, 72),\n",
              " (56585, 6),\n",
              " (57059, 8),\n",
              " (57460, 97),\n",
              " (57857, 83),\n",
              " (58009, 71),\n",
              " (58924, 73),\n",
              " (60674, 73),\n",
              " (61214, 65),\n",
              " (61940, 66),\n",
              " (62210, 70),\n",
              " (62298, 49),\n",
              " (62820, 7),\n",
              " (62853, 1615),\n",
              " (63479, 79),\n",
              " (63691, 61),\n",
              " (63692, 55),\n",
              " (64132, 70),\n",
              " (64143, 18),\n",
              " (64834, 2),\n",
              " (64959, 10),\n",
              " (65066, 8),\n",
              " (65253, 79),\n",
              " (65511, 3),\n",
              " (65669, 10),\n",
              " (65870, 1),\n",
              " (65883, 76),\n",
              " (66106, 77),\n",
              " (66228, 98),\n",
              " (66388, 81),\n",
              " (66436, 82),\n",
              " (66657, 242),\n",
              " (66768, 1),\n",
              " (66985, 85),\n",
              " (67442, 65),\n",
              " (67481, 79),\n",
              " (67737, 79),\n",
              " (68653, 83),\n",
              " (68664, 60),\n",
              " (68774, 4),\n",
              " (69083, 96),\n",
              " (69300, 77),\n",
              " (69625, 70),\n",
              " (69873, 76),\n",
              " (69934, 75),\n",
              " (70311, 3),\n",
              " (70497, 59),\n",
              " (71089, 1),\n",
              " (71363, 14),\n",
              " (71481, 73),\n",
              " (71686, 3),\n",
              " (71695, 7),\n",
              " (71996, 81),\n",
              " (72460, 1),\n",
              " (72716, 71),\n",
              " (73518, 63),\n",
              " (73964, 63),\n",
              " (74043, 11),\n",
              " (74284, 2157),\n",
              " (74345, 76),\n",
              " (74674, 4),\n",
              " (74720, 80),\n",
              " (74785, 71),\n",
              " (76642, 83),\n",
              " (76834, 12),\n",
              " (77044, 85),\n",
              " (77204, 92),\n",
              " (77357, 67),\n",
              " (77501, 9),\n",
              " (77754, 59),\n",
              " (77961, 66),\n",
              " (78191, 88),\n",
              " (78947, 64),\n",
              " (79016, 61),\n",
              " (79077, 64),\n",
              " (79210, 98),\n",
              " (79636, 13),\n",
              " (80140, 69),\n",
              " (80425, 80),\n",
              " (80574, 7),\n",
              " (80807, 77),\n",
              " (81919, 83),\n",
              " (82828, 62),\n",
              " (82910, 69),\n",
              " (82928, 80),\n",
              " (82930, 79),\n",
              " (83212, 13),\n",
              " (83452, 81),\n",
              " (83677, 9),\n",
              " (83945, 78),\n",
              " (84306, 82),\n",
              " (84525, 55),\n",
              " (84567, 77),\n",
              " (84775, 3),\n",
              " (84798, 5),\n",
              " (85190, 11),\n",
              " (85574, 92),\n",
              " (85643, 36),\n",
              " (85685, 72),\n",
              " (85854, 50),\n",
              " (85913, 1),\n",
              " (86290, 4),\n",
              " (86332, 68),\n",
              " (86456, 10),\n",
              " (86766, 5),\n",
              " (86809, 55),\n",
              " (87143, 74),\n",
              " (87283, 64),\n",
              " (87374, 69),\n",
              " (87644, 90),\n",
              " (87934, 74),\n",
              " (88077, 91),\n",
              " (88345, 527),\n",
              " (88347, 2),\n",
              " (88531, 69),\n",
              " (88927, 8),\n",
              " (88950, 75),\n",
              " (89249, 71),\n",
              " (89509, 5),\n",
              " (89572, 90),\n",
              " (90186, 77),\n",
              " (90199, 3),\n",
              " (90350, 4),\n",
              " (90838, 82),\n",
              " (90999, 5),\n",
              " (91158, 74),\n",
              " (92055, 71),\n",
              " (92096, 77),\n",
              " (92435, 9),\n",
              " (92469, 73),\n",
              " (92598, 719),\n",
              " (92791, 11),\n",
              " (92877, 79),\n",
              " (94452, 1742),\n",
              " (94546, 65),\n",
              " (94577, 2),\n",
              " (94727, 67),\n",
              " (95623, 52),\n",
              " (95859, 1),\n",
              " (96604, 72),\n",
              " (97266, 6),\n",
              " (97327, 54),\n",
              " (97389, 4),\n",
              " (97542, 3),\n",
              " (97974, 77),\n",
              " (98104, 91),\n",
              " (98191, 12),\n",
              " (98303, 1),\n",
              " (98639, 231),\n",
              " (98841, 10),\n",
              " (98863, 74),\n",
              " (99135, 74),\n",
              " (100352, 75),\n",
              " (100525, 79),\n",
              " (100608, 69),\n",
              " (100776, 70),\n",
              " (100917, 1),\n",
              " (101727, 18),\n",
              " (101740, 76),\n",
              " (102095, 90),\n",
              " (103607, 82),\n",
              " (103945, 94),\n",
              " (103977, 84),\n",
              " (104189, 41),\n",
              " (104623, 14),\n",
              " (104998, 75),\n",
              " (105165, 1),\n",
              " (106077, 1),\n",
              " (106358, 7),\n",
              " (106595, 6),\n",
              " (110015, 75),\n",
              " (110190, 74),\n",
              " (110671, 64),\n",
              " (110756, 2),\n",
              " (110856, 44),\n",
              " (111170, 3),\n",
              " (111380, 6),\n",
              " (112477, 417),\n",
              " (112537, 92),\n",
              " (112906, 69),\n",
              " (113303, 5),\n",
              " (114444, 1),\n",
              " (116228, 6),\n",
              " (116792, 6),\n",
              " (116814, 2),\n",
              " (116937, 55),\n",
              " (117699, 73),\n",
              " (117889, 66),\n",
              " (118809, 85),\n",
              " (118845, 14),\n",
              " (119080, 61),\n",
              " (119162, 79),\n",
              " (119445, 9),\n",
              " (119737, 2),\n",
              " (119958, 12),\n",
              " (120380, 75),\n",
              " (120402, 79),\n",
              " (120460, 68),\n",
              " (120462, 664),\n",
              " (121100, 1),\n",
              " (121598, 860),\n",
              " (121610, 57),\n",
              " (122184, 625),\n",
              " (122302, 2),\n",
              " (122614, 86),\n",
              " (122885, 80),\n",
              " (122897, 74),\n",
              " (123065, 209),\n",
              " (123291, 5),\n",
              " (123502, 70),\n",
              " (123570, 5),\n",
              " (123875, 76),\n",
              " (124190, 2),\n",
              " (124503, 70),\n",
              " (124652, 77),\n",
              " (124782, 68),\n",
              " (124978, 78),\n",
              " (124991, 76),\n",
              " (125014, 8),\n",
              " (125097, 738),\n",
              " (125485, 66),\n",
              " (125526, 781),\n",
              " (125659, 71),\n",
              " (125968, 59),\n",
              " (126046, 98),\n",
              " (127321, 78),\n",
              " (127341, 3),\n",
              " (127986, 4),\n",
              " (129050, 8),\n",
              " (129353, 12),\n",
              " (130685, 7),\n",
              " (130887, 65),\n",
              " (131254, 13),\n",
              " (132334, 63),\n",
              " (132379, 53),\n",
              " (133402, 15),\n",
              " (133603, 31),\n",
              " (133737, 74),\n",
              " (133850, 62),\n",
              " (134785, 652),\n",
              " (134998, 74),\n",
              " (135914, 64),\n",
              " (136335, 4),\n",
              " (137213, 625),\n",
              " (137894, 9),\n",
              " (137967, 91),\n",
              " (138758, 2),\n",
              " (139153, 76),\n",
              " (139294, 3),\n",
              " (139312, 8),\n",
              " (139440, 10),\n",
              " (139466, 7),\n",
              " (139769, 73),\n",
              " (139980, 676),\n",
              " (140539, 1),\n",
              " (140824, 12),\n",
              " (141409, 72),\n",
              " (142238, 56),\n",
              " (142341, 83),\n",
              " (142509, 14),\n",
              " (142586, 3),\n",
              " (143259, 1),\n",
              " (143620, 248),\n",
              " (143621, 89),\n",
              " (145319, 5),\n",
              " (145883, 59),\n",
              " (145885, 2),\n",
              " (145905, 3),\n",
              " (147799, 4),\n",
              " (148401, 10),\n",
              " (148595, 4),\n",
              " (148769, 70),\n",
              " (149154, 56),\n",
              " (149545, 82),\n",
              " (149803, 89),\n",
              " (150253, 77),\n",
              " (151389, 3),\n",
              " (151808, 1),\n",
              " (152192, 69),\n",
              " (152475, 6),\n",
              " (152496, 548),\n",
              " (153762, 84),\n",
              " (154089, 11),\n",
              " (154729, 57),\n",
              " (155500, 2),\n",
              " (157894, 98),\n",
              " (158245, 76),\n",
              " (158332, 3),\n",
              " (158652, 65),\n",
              " (160071, 74),\n",
              " (160679, 8),\n",
              " (160747, 62),\n",
              " (161928, 72),\n",
              " (162301, 659),\n",
              " (164976, 7),\n",
              " (165912, 2),\n",
              " (167239, 60),\n",
              " (167706, 66),\n",
              " (167765, 59),\n",
              " (167793, 69),\n",
              " (167909, 73),\n",
              " (168765, 75),\n",
              " (168920, 1),\n",
              " (169109, 79),\n",
              " (169961, 81),\n",
              " (170192, 74),\n",
              " (170802, 73),\n",
              " (171117, 91),\n",
              " (171633, 5),\n",
              " (173306, 96),\n",
              " (173660, 37),\n",
              " (173741, 73),\n",
              " (173840, 9),\n",
              " (173860, 1),\n",
              " (175715, 8),\n",
              " (176396, 57),\n",
              " (176585, 73),\n",
              " (177082, 10),\n",
              " (177145, 1275),\n",
              " (177405, 60),\n",
              " (178323, 67),\n",
              " (178708, 75),\n",
              " (178848, 80),\n",
              " (178876, 95),\n",
              " (178887, 9),\n",
              " (179185, 1),\n",
              " (179984, 2),\n",
              " (180017, 67),\n",
              " (180113, 2),\n",
              " (182125, 9),\n",
              " (182527, 4),\n",
              " (183772, 5),\n",
              " (185126, 7),\n",
              " (185552, 2),\n",
              " (185851, 14),\n",
              " (186452, 275),\n",
              " (186586, 4),\n",
              " (186835, 2),\n",
              " (187393, 3),\n",
              " (187540, 84),\n",
              " (187830, 59),\n",
              " (188720, 86),\n",
              " (188730, 4),\n",
              " (189283, 2113),\n",
              " (189329, 14),\n",
              " (189361, 2),\n",
              " (189690, 1),\n",
              " (189966, 82),\n",
              " (190285, 5),\n",
              " (190400, 5),\n",
              " (191191, 640),\n",
              " (191731, 3),\n",
              " (192045, 70),\n",
              " (192933, 10),\n",
              " (193298, 6),\n",
              " (193327, 73),\n",
              " (193406, 76),\n",
              " (194208, 68),\n",
              " (194676, 2),\n",
              " (196043, 7),\n",
              " (196451, 3),\n",
              " (196719, 3),\n",
              " (197028, 8),\n",
              " (197349, 3),\n",
              " (198314, 5),\n",
              " (199461, 9),\n",
              " (199976, 83),\n",
              " (200118, 62),\n",
              " (200800, 1),\n",
              " (200876, 2),\n",
              " (202340, 1609),\n",
              " (203359, 7),\n",
              " (203363, 74),\n",
              " (204175, 75),\n",
              " (206499, 79),\n",
              " (206928, 86),\n",
              " (207028, 66),\n",
              " (207089, 72),\n",
              " (208730, 75),\n",
              " (208736, 65),\n",
              " (210507, 4),\n",
              " (210517, 74),\n",
              " (210626, 9),\n",
              " (212478, 60),\n",
              " (212792, 63),\n",
              " (213214, 11),\n",
              " (213361, 836),\n",
              " (213362, 55),\n",
              " (213390, 15),\n",
              " (213883, 382),\n",
              " (214246, 75),\n",
              " (214323, 70),\n",
              " (214754, 12),\n",
              " (215562, 4),\n",
              " (216939, 11),\n",
              " (216993, 71),\n",
              " (216994, 8),\n",
              " (218000, 9),\n",
              " (218236, 1),\n",
              " (220903, 4),\n",
              " (221061, 5),\n",
              " (222575, 2),\n",
              " (222679, 76),\n",
              " (222728, 76),\n",
              " (223648, 68),\n",
              " (224472, 9),\n",
              " (224930, 66),\n",
              " (225568, 356),\n",
              " (225956, 68),\n",
              " (226549, 86),\n",
              " (227697, 5),\n",
              " (227949, 4),\n",
              " (228025, 2),\n",
              " (229241, 84),\n",
              " (231565, 60),\n",
              " (232728, 64),\n",
              " (233163, 95),\n",
              " (233781, 81),\n",
              " (235986, 2),\n",
              " (236176, 3),\n",
              " (238332, 13),\n",
              " (238367, 71),\n",
              " (238930, 13),\n",
              " (240532, 4),\n",
              " (241140, 6),\n",
              " (242193, 8),\n",
              " (242971, 4),\n",
              " (243188, 7),\n",
              " (243722, 10),\n",
              " (244744, 2),\n",
              " (244880, 9),\n",
              " (246027, 7),\n",
              " (246973, 72),\n",
              " (247812, 6),\n",
              " (247866, 1),\n",
              " (250903, 52),\n",
              " (251388, 5),\n",
              " (251558, 78),\n",
              " (252828, 17),\n",
              " (253552, 1),\n",
              " (253674, 76),\n",
              " (255734, 1),\n",
              " (256079, 1),\n",
              " (256505, 3),\n",
              " (257041, 3),\n",
              " (258420, 68),\n",
              " (258635, 545),\n",
              " (259588, 83),\n",
              " (260233, 58),\n",
              " (263108, 72),\n",
              " (263148, 96),\n",
              " (264167, 1),\n",
              " (264221, 73),\n",
              " (264588, 79),\n",
              " (265909, 9),\n",
              " (267584, 89),\n",
              " (269756, 65),\n",
              " (270039, 65),\n",
              " (270898, 8),\n",
              " (271360, 1),\n",
              " (274275, 82),\n",
              " (275132, 8),\n",
              " (275206, 13),\n",
              " (277302, 8),\n",
              " (279611, 5),\n",
              " (280268, 1),\n",
              " (280410, 74),\n",
              " (283828, 5),\n",
              " (284004, 2),\n",
              " (284690, 9),\n",
              " (285517, 8),\n",
              " (289127, 54),\n",
              " (289130, 1),\n",
              " (289755, 74),\n",
              " (290611, 68),\n",
              " (291712, 9),\n",
              " (292838, 3),\n",
              " (297734, 61),\n",
              " (298866, 9),\n",
              " (299095, 8),\n",
              " (304830, 3),\n",
              " (305383, 5),\n",
              " (306423, 13),\n",
              " (308352, 7),\n",
              " (308416, 58),\n",
              " (309006, 1),\n",
              " (309505, 94),\n",
              " (310617, 8),\n",
              " (310996, 76),\n",
              " (311627, 30),\n",
              " (311628, 1),\n",
              " (311629, 2),\n",
              " (311630, 1),\n",
              " (311631, 2),\n",
              " (311632, 8),\n",
              " (311633, 44),\n",
              " (311634, 4),\n",
              " (311635, 6),\n",
              " (311636, 6),\n",
              " (311637, 5),\n",
              " (311638, 6),\n",
              " (311639, 5),\n",
              " (311640, 7),\n",
              " (311641, 1),\n",
              " (311642, 5),\n",
              " (311643, 7),\n",
              " (311644, 4),\n",
              " (311645, 8),\n",
              " (311646, 7),\n",
              " (311647, 5),\n",
              " (311648, 7),\n",
              " (311649, 4),\n",
              " (311650, 3),\n",
              " (311651, 4),\n",
              " (311652, 7),\n",
              " (311653, 4),\n",
              " (311654, 2),\n",
              " (311655, 1),\n",
              " (311656, 3),\n",
              " (311657, 7),\n",
              " (311658, 7),\n",
              " (311659, 1),\n",
              " (311660, 5),\n",
              " (311661, 6),\n",
              " (311662, 3),\n",
              " (311663, 8),\n",
              " (311664, 2),\n",
              " (311665, 6),\n",
              " (311666, 4),\n",
              " (311667, 4),\n",
              " (311668, 4),\n",
              " (311669, 4),\n",
              " (311670, 6),\n",
              " (311671, 5),\n",
              " (311672, 4),\n",
              " (311673, 3),\n",
              " (311674, 4),\n",
              " (311675, 6),\n",
              " (311676, 7),\n",
              " (311677, 6),\n",
              " (311678, 6),\n",
              " (311679, 4),\n",
              " (311680, 4),\n",
              " (311681, 5),\n",
              " (311682, 1),\n",
              " (311683, 4),\n",
              " (311684, 4),\n",
              " (311685, 3),\n",
              " (311686, 5),\n",
              " (311687, 1),\n",
              " (311688, 4),\n",
              " (311689, 6),\n",
              " (311690, 4),\n",
              " (311691, 6),\n",
              " (311692, 2),\n",
              " (311693, 7),\n",
              " (311694, 4),\n",
              " (311695, 3),\n",
              " (311696, 7),\n",
              " (311697, 71),\n",
              " (311698, 2),\n",
              " (311699, 7),\n",
              " (311700, 5),\n",
              " (311701, 4),\n",
              " (311702, 4),\n",
              " (311703, 4),\n",
              " (311704, 5),\n",
              " (311705, 4),\n",
              " (311706, 6),\n",
              " (311707, 6),\n",
              " (311708, 2),\n",
              " (311709, 4),\n",
              " (311710, 5),\n",
              " (311711, 5),\n",
              " (311712, 5),\n",
              " (311713, 3),\n",
              " (311714, 5),\n",
              " (311715, 1),\n",
              " (311716, 3),\n",
              " (311717, 6),\n",
              " (311718, 71),\n",
              " (311719, 2),\n",
              " (311720, 3),\n",
              " (311721, 4),\n",
              " (311722, 7),\n",
              " (311723, 4),\n",
              " (311724, 2),\n",
              " (311725, 5),\n",
              " (311726, 6),\n",
              " (311727, 2),\n",
              " (311728, 6),\n",
              " (311729, 5),\n",
              " (311730, 4),\n",
              " (311731, 3),\n",
              " (311732, 6),\n",
              " (311733, 5),\n",
              " (311734, 5),\n",
              " (311735, 4),\n",
              " (311736, 4),\n",
              " (311737, 4),\n",
              " (311738, 5),\n",
              " (311739, 3),\n",
              " (311740, 4),\n",
              " (311741, 5),\n",
              " (311742, 4),\n",
              " (311743, 4),\n",
              " (311744, 4),\n",
              " (311745, 4),\n",
              " (311746, 5),\n",
              " (311747, 8),\n",
              " (311748, 4),\n",
              " (311749, 4),\n",
              " (311750, 5),\n",
              " (311751, 3),\n",
              " (311752, 6),\n",
              " (311753, 7),\n",
              " (311754, 1),\n",
              " (311755, 5),\n",
              " (311756, 7),\n",
              " (311757, 4),\n",
              " (311758, 9),\n",
              " (311759, 326),\n",
              " (311760, 831),\n",
              " (311761, 750),\n",
              " (311762, 760),\n",
              " (311763, 894),\n",
              " (311764, 26),\n",
              " (311765, 2),\n",
              " (311766, 1),\n",
              " (311767, 1),\n",
              " (311768, 2),\n",
              " (311769, 6),\n",
              " (311770, 6),\n",
              " (311771, 6),\n",
              " (311772, 4),\n",
              " (311773, 3),\n",
              " (311774, 2),\n",
              " (311775, 7),\n",
              " (311776, 6),\n",
              " ...]"
            ]
          },
          "metadata": {
            "tags": []
          },
          "execution_count": 67
        }
      ]
    },
    {
      "cell_type": "markdown",
      "metadata": {
        "id": "bry8oLctPhJ2"
      },
      "source": [
        "# fim testes"
      ]
    },
    {
      "cell_type": "markdown",
      "metadata": {
        "id": "h6aAdL2f7P3f"
      },
      "source": [
        "## Contando a qtde de palavras de cada registro"
      ]
    },
    {
      "cell_type": "code",
      "metadata": {
        "colab": {
          "base_uri": "https://localhost:8080/",
          "height": 159
        },
        "id": "IZ-Lqt_kcamE",
        "outputId": "9666f81d-0f32-4881-ac89-538a2058b327"
      },
      "source": [
        "start = time.time()\r\n",
        "df_movies['qtde_palavras'] = df_movies.apply(contar_palavras, axis=1)\r\n",
        "print (\"tempo gasto: \", (time.time() - start))\r\n",
        "\r\n",
        "df_movies[['text_stopwords','qtde_palavras']].head(3)"
      ],
      "execution_count": null,
      "outputs": [
        {
          "output_type": "stream",
          "text": [
            "tempo gasto:  613.0026919841766\n"
          ],
          "name": "stdout"
        },
        {
          "output_type": "execute_result",
          "data": {
            "text/html": [
              "<div>\n",
              "<style scoped>\n",
              "    .dataframe tbody tr th:only-of-type {\n",
              "        vertical-align: middle;\n",
              "    }\n",
              "\n",
              "    .dataframe tbody tr th {\n",
              "        vertical-align: top;\n",
              "    }\n",
              "\n",
              "    .dataframe thead th {\n",
              "        text-align: right;\n",
              "    }\n",
              "</style>\n",
              "<table border=\"1\" class=\"dataframe\">\n",
              "  <thead>\n",
              "    <tr style=\"text-align: right;\">\n",
              "      <th></th>\n",
              "      <th>text_stopwords</th>\n",
              "      <th>qtde_palavras</th>\n",
              "    </tr>\n",
              "  </thead>\n",
              "  <tbody>\n",
              "    <tr>\n",
              "      <th>0</th>\n",
              "      <td>[melhores, 007]</td>\n",
              "      <td>{'[': 1, ''melhores': 1, ''': 2, ',': 1, ''007...</td>\n",
              "    </tr>\n",
              "    <tr>\n",
              "      <th>1</th>\n",
              "      <td>[assisti, meio, fim, filme, parece, ser, mt, b...</td>\n",
              "      <td>{'[': 1, ''assisti': 1, ''': 15, ',': 14, ''me...</td>\n",
              "    </tr>\n",
              "    <tr>\n",
              "      <th>2</th>\n",
              "      <td>[filmes, violentos, q, vi, booom, demaais]</td>\n",
              "      <td>{'[': 1, ''filmes': 1, ''': 6, ',': 5, ''viole...</td>\n",
              "    </tr>\n",
              "  </tbody>\n",
              "</table>\n",
              "</div>"
            ],
            "text/plain": [
              "                                      text_stopwords                                      qtde_palavras\n",
              "0                                    [melhores, 007]  {'[': 1, ''melhores': 1, ''': 2, ',': 1, ''007...\n",
              "1  [assisti, meio, fim, filme, parece, ser, mt, b...  {'[': 1, ''assisti': 1, ''': 15, ',': 14, ''me...\n",
              "2         [filmes, violentos, q, vi, booom, demaais]  {'[': 1, ''filmes': 1, ''': 6, ',': 5, ''viole..."
            ]
          },
          "metadata": {
            "tags": []
          },
          "execution_count": 31
        }
      ]
    },
    {
      "cell_type": "code",
      "metadata": {
        "colab": {
          "base_uri": "https://localhost:8080/",
          "height": 419
        },
        "id": "YKPQCU3BI5Fe",
        "outputId": "bedcafd4-0b2f-4a23-d096-1b8fc9d2a8ae"
      },
      "source": [
        "df_movies[['text_stopwords','qtde_palavras']]"
      ],
      "execution_count": null,
      "outputs": [
        {
          "output_type": "execute_result",
          "data": {
            "text/html": [
              "<div>\n",
              "<style scoped>\n",
              "    .dataframe tbody tr th:only-of-type {\n",
              "        vertical-align: middle;\n",
              "    }\n",
              "\n",
              "    .dataframe tbody tr th {\n",
              "        vertical-align: top;\n",
              "    }\n",
              "\n",
              "    .dataframe thead th {\n",
              "        text-align: right;\n",
              "    }\n",
              "</style>\n",
              "<table border=\"1\" class=\"dataframe\">\n",
              "  <thead>\n",
              "    <tr style=\"text-align: right;\">\n",
              "      <th></th>\n",
              "      <th>text_stopwords</th>\n",
              "      <th>qtde_palavras</th>\n",
              "    </tr>\n",
              "  </thead>\n",
              "  <tbody>\n",
              "    <tr>\n",
              "      <th>0</th>\n",
              "      <td>[melhores, 007]</td>\n",
              "      <td>{'[': 1, ''melhores': 1, ''': 2, ',': 1, ''007...</td>\n",
              "    </tr>\n",
              "    <tr>\n",
              "      <th>1</th>\n",
              "      <td>[assisti, meio, fim, filme, parece, ser, mt, b...</td>\n",
              "      <td>{'[': 1, ''assisti': 1, ''': 15, ',': 14, ''me...</td>\n",
              "    </tr>\n",
              "    <tr>\n",
              "      <th>2</th>\n",
              "      <td>[filmes, violentos, q, vi, booom, demaais]</td>\n",
              "      <td>{'[': 1, ''filmes': 1, ''': 6, ',': 5, ''viole...</td>\n",
              "    </tr>\n",
              "    <tr>\n",
              "      <th>3</th>\n",
              "      <td>[adoroo, filme]</td>\n",
              "      <td>{'[': 1, ''adoroo': 1, ''': 2, ',': 1, ''filme...</td>\n",
              "    </tr>\n",
              "    <tr>\n",
              "      <th>4</th>\n",
              "      <td>[daniel, crieg, carisma, zero, 007]</td>\n",
              "      <td>{'[': 1, ''daniel': 1, ''': 5, ',': 4, ''crieg...</td>\n",
              "    </tr>\n",
              "    <tr>\n",
              "      <th>...</th>\n",
              "      <td>...</td>\n",
              "      <td>...</td>\n",
              "    </tr>\n",
              "    <tr>\n",
              "      <th>1838890</th>\n",
              "      <td>[certeza, dois, dubladores, mínima, noção, man...</td>\n",
              "      <td>{'[': 1, ''certeza': 1, ''': 12, ',': 11, ''do...</td>\n",
              "    </tr>\n",
              "    <tr>\n",
              "      <th>1838891</th>\n",
              "      <td>[divertidão, tão, mal, feito]</td>\n",
              "      <td>{'[': 1, ''divertidão': 1, ''': 4, ',': 3, ''t...</td>\n",
              "    </tr>\n",
              "    <tr>\n",
              "      <th>1838892</th>\n",
              "      <td>[divertido, direito, musicas, james, bon, cont...</td>\n",
              "      <td>{'[': 1, ''divertido': 1, ''': 11, ',': 10, ''...</td>\n",
              "    </tr>\n",
              "    <tr>\n",
              "      <th>1838893</th>\n",
              "      <td>[filme, engraçado, vi, vida]</td>\n",
              "      <td>{'[': 1, ''filme': 1, ''': 4, ',': 3, ''engraç...</td>\n",
              "    </tr>\n",
              "    <tr>\n",
              "      <th>1838894</th>\n",
              "      <td>[extremamente, tosco, tosco, divertido, ver]</td>\n",
              "      <td>{'[': 1, ''extremamente': 1, ''': 5, ',': 4, '...</td>\n",
              "    </tr>\n",
              "  </tbody>\n",
              "</table>\n",
              "<p>1838895 rows × 2 columns</p>\n",
              "</div>"
            ],
            "text/plain": [
              "                                            text_stopwords                                      qtde_palavras\n",
              "0                                          [melhores, 007]  {'[': 1, ''melhores': 1, ''': 2, ',': 1, ''007...\n",
              "1        [assisti, meio, fim, filme, parece, ser, mt, b...  {'[': 1, ''assisti': 1, ''': 15, ',': 14, ''me...\n",
              "2               [filmes, violentos, q, vi, booom, demaais]  {'[': 1, ''filmes': 1, ''': 6, ',': 5, ''viole...\n",
              "3                                          [adoroo, filme]  {'[': 1, ''adoroo': 1, ''': 2, ',': 1, ''filme...\n",
              "4                      [daniel, crieg, carisma, zero, 007]  {'[': 1, ''daniel': 1, ''': 5, ',': 4, ''crieg...\n",
              "...                                                    ...                                                ...\n",
              "1838890  [certeza, dois, dubladores, mínima, noção, man...  {'[': 1, ''certeza': 1, ''': 12, ',': 11, ''do...\n",
              "1838891                      [divertidão, tão, mal, feito]  {'[': 1, ''divertidão': 1, ''': 4, ',': 3, ''t...\n",
              "1838892  [divertido, direito, musicas, james, bon, cont...  {'[': 1, ''divertido': 1, ''': 11, ',': 10, ''...\n",
              "1838893                       [filme, engraçado, vi, vida]  {'[': 1, ''filme': 1, ''': 4, ',': 3, ''engraç...\n",
              "1838894       [extremamente, tosco, tosco, divertido, ver]  {'[': 1, ''extremamente': 1, ''': 5, ',': 4, '...\n",
              "\n",
              "[1838895 rows x 2 columns]"
            ]
          },
          "metadata": {
            "tags": []
          },
          "execution_count": 36
        }
      ]
    },
    {
      "cell_type": "markdown",
      "metadata": {
        "id": "k_6wqyUeX1am"
      },
      "source": [
        "### Salvando o resultado num dataframe"
      ]
    },
    {
      "cell_type": "code",
      "metadata": {
        "id": "yXz_fbVYX1am"
      },
      "source": [
        "df2 = df_movies[['object', 'text_stopwords','qtde_palavras']]\n",
        "\n",
        "df2.to_csv(\"/content/drive/MyDrive/Colab Notebooks/NLP/trabalho/dados/df_util_tokenizado.csv\",index=False)"
      ],
      "execution_count": null,
      "outputs": []
    },
    {
      "cell_type": "code",
      "metadata": {
        "id": "0tqT9eVHX1an"
      },
      "source": [
        "### # abrindo o arquivo TOKENIZADO"
      ],
      "execution_count": null,
      "outputs": []
    },
    {
      "cell_type": "code",
      "metadata": {
        "colab": {
          "base_uri": "https://localhost:8080/",
          "height": 142
        },
        "id": "jbdxUi1lX1an",
        "outputId": "8d5ebec1-7580-41f8-cba6-ae61eabf6146"
      },
      "source": [
        "df_processado = pd.read_csv(\"/content/drive/MyDrive/Colab Notebooks/NLP/trabalho/dados/df_util_tokenizado.csv\")\n",
        "df_processado.head(3)"
      ],
      "execution_count": 4,
      "outputs": [
        {
          "output_type": "execute_result",
          "data": {
            "text/html": [
              "<div>\n",
              "<style scoped>\n",
              "    .dataframe tbody tr th:only-of-type {\n",
              "        vertical-align: middle;\n",
              "    }\n",
              "\n",
              "    .dataframe tbody tr th {\n",
              "        vertical-align: top;\n",
              "    }\n",
              "\n",
              "    .dataframe thead th {\n",
              "        text-align: right;\n",
              "    }\n",
              "</style>\n",
              "<table border=\"1\" class=\"dataframe\">\n",
              "  <thead>\n",
              "    <tr style=\"text-align: right;\">\n",
              "      <th></th>\n",
              "      <th>object</th>\n",
              "      <th>text_stopwords</th>\n",
              "      <th>qtde_palavras</th>\n",
              "    </tr>\n",
              "  </thead>\n",
              "  <tbody>\n",
              "    <tr>\n",
              "      <th>0</th>\n",
              "      <td>007-cassino-royale-t23</td>\n",
              "      <td>['melhores', '007']</td>\n",
              "      <td>{'[': 1, \"'melhores\": 1, \"'\": 2, ',': 1, \"'007...</td>\n",
              "    </tr>\n",
              "    <tr>\n",
              "      <th>1</th>\n",
              "      <td>007-cassino-royale-t23</td>\n",
              "      <td>['assisti', 'meio', 'fim', 'filme', 'parece', ...</td>\n",
              "      <td>{'[': 1, \"'assisti\": 1, \"'\": 15, ',': 14, \"'me...</td>\n",
              "    </tr>\n",
              "    <tr>\n",
              "      <th>2</th>\n",
              "      <td>007-cassino-royale-t23</td>\n",
              "      <td>['filmes', 'violentos', 'q', 'vi', 'booom', 'd...</td>\n",
              "      <td>{'[': 1, \"'filmes\": 1, \"'\": 6, ',': 5, \"'viole...</td>\n",
              "    </tr>\n",
              "  </tbody>\n",
              "</table>\n",
              "</div>"
            ],
            "text/plain": [
              "                   object  ...                                      qtde_palavras\n",
              "0  007-cassino-royale-t23  ...  {'[': 1, \"'melhores\": 1, \"'\": 2, ',': 1, \"'007...\n",
              "1  007-cassino-royale-t23  ...  {'[': 1, \"'assisti\": 1, \"'\": 15, ',': 14, \"'me...\n",
              "2  007-cassino-royale-t23  ...  {'[': 1, \"'filmes\": 1, \"'\": 6, ',': 5, \"'viole...\n",
              "\n",
              "[3 rows x 3 columns]"
            ]
          },
          "metadata": {
            "tags": []
          },
          "execution_count": 4
        }
      ]
    },
    {
      "cell_type": "markdown",
      "metadata": {
        "id": "-oYWoefmX1an"
      },
      "source": [
        "# 2 - Representação\n",
        "\n",
        "Vimos durante a nossa aula diversas forma de representar um documento de texto. Você vai usar cada uma dessas representações e compará-las. A seguir temos a listagem das representações que devem ser usadas para representar seu texto.\n",
        "\n",
        "a) Representação TF-IDF. Você pode usar tanto o gensim quanto o scikit para montar esta representação, mas lembre-se que é importante fazer o pré-processamento dos textos.\n",
        "\n",
        "b) Representação com o word2vec. O modelo poderá ser o apresentado na aula 03 ou algum outro modelo pré-treinado como os existentes no repositório http://nilc.icmc.usp.br/nilc/index.php/repositorio-de-word-embeddings-do-nilc . Neste caso, cada documento deverá ser representado pelo vetor que resultar da média dos vetores de todas as palavras que o compõem. Em outras palavras, se D é composto pelas palavras w1, w2, …, wn, e seus vetores embeddings são v1, v2, …, vn, então a representação do documento de D será v = (v1 + v2 + … + vn) / n.\n",
        "\n",
        "c) Extração de features do texto. Você deve pensar em ao menos 10 features para extrair do documento e que o possam representar. Aqui vão algumas sugestões: número de palavras, número de verbos, número de conjunções, número de palavras negativas, número de palavras fora do vocabulário, quantidades de entidades do tipo PESSOA, quantidade de entidades do tipo LOCAL, etc. \n",
        "\n",
        "Lembrando que você deve dividir seu conjunto em treino e teste. No TF-IDF, você só pode aplicar o método fit no conjunto de treino. Uma sugestão é dividir 80% do conjunto de dados para treino e 20% para teste. Essa divisão é aleatória, mas você pode usar o método train_test_split para essa divisão. \n",
        "\n"
      ]
    },
    {
      "cell_type": "code",
      "metadata": {
        "id": "pLTaOunLPaSi"
      },
      "source": [
        "# Definindo X e y\r\n",
        "\r\n",
        "X = df_processado['text_stopwords']"
      ],
      "execution_count": null,
      "outputs": []
    },
    {
      "cell_type": "code",
      "metadata": {
        "id": "Th4iQoxiX1ao"
      },
      "source": [
        "from sklearn.model_selection import train_test_split\n",
        "\n",
        "X_train, X_test, y_train, y_test = train_test_split(X, y, test_size = 0.20 , random_state = 42 )"
      ],
      "execution_count": null,
      "outputs": []
    },
    {
      "cell_type": "markdown",
      "metadata": {
        "id": "TMW-WQTtX1ap"
      },
      "source": [
        "## Representação TF-IDF"
      ]
    },
    {
      "cell_type": "code",
      "metadata": {
        "colab": {
          "base_uri": "https://localhost:8080/",
          "height": 35
        },
        "id": "6LX_Yzvymb60",
        "outputId": "5a2d201c-4e2f-411c-d356-2f7d4ee49725"
      },
      "source": [
        "df_processado['text_stopwords'][0]"
      ],
      "execution_count": null,
      "outputs": [
        {
          "output_type": "execute_result",
          "data": {
            "application/vnd.google.colaboratory.intrinsic+json": {
              "type": "string"
            },
            "text/plain": [
              "\"['melhores', '007']\""
            ]
          },
          "metadata": {
            "tags": []
          },
          "execution_count": 11
        }
      ]
    },
    {
      "cell_type": "code",
      "metadata": {
        "colab": {
          "base_uri": "https://localhost:8080/"
        },
        "id": "tXzQBov2kHD8",
        "outputId": "dad0d2f9-d6f4-4657-f139-987b316531e3"
      },
      "source": [
        "teste = df_processado['text_stopwords'][0].split(' \" ') \r\n",
        "teste"
      ],
      "execution_count": 5,
      "outputs": [
        {
          "output_type": "execute_result",
          "data": {
            "text/plain": [
              "[\"['melhores', '007']\"]"
            ]
          },
          "metadata": {
            "tags": []
          },
          "execution_count": 5
        }
      ]
    },
    {
      "cell_type": "code",
      "metadata": {
        "colab": {
          "base_uri": "https://localhost:8080/",
          "height": 323
        },
        "id": "C003BSkvX1aq",
        "outputId": "43690a0a-44b7-42b4-b282-2d3ae064c4fe"
      },
      "source": [
        "# cria um dicionário de palavras\r\n",
        "dct = Dictionary(df_processado['text_stopwords'])"
      ],
      "execution_count": 6,
      "outputs": [
        {
          "output_type": "error",
          "ename": "TypeError",
          "evalue": "ignored",
          "traceback": [
            "\u001b[0;31m---------------------------------------------------------------------------\u001b[0m",
            "\u001b[0;31mTypeError\u001b[0m                                 Traceback (most recent call last)",
            "\u001b[0;32m<ipython-input-6-f13b866e20c0>\u001b[0m in \u001b[0;36m<module>\u001b[0;34m()\u001b[0m\n\u001b[1;32m      1\u001b[0m \u001b[0;31m# cria um dicionário de palavras\u001b[0m\u001b[0;34m\u001b[0m\u001b[0;34m\u001b[0m\u001b[0;34m\u001b[0m\u001b[0m\n\u001b[0;32m----> 2\u001b[0;31m \u001b[0mdct\u001b[0m \u001b[0;34m=\u001b[0m \u001b[0mDictionary\u001b[0m\u001b[0;34m(\u001b[0m\u001b[0mdf_processado\u001b[0m\u001b[0;34m[\u001b[0m\u001b[0;34m'text_stopwords'\u001b[0m\u001b[0;34m]\u001b[0m\u001b[0;34m)\u001b[0m\u001b[0;34m\u001b[0m\u001b[0;34m\u001b[0m\u001b[0m\n\u001b[0m",
            "\u001b[0;32m/usr/local/lib/python3.6/dist-packages/gensim/corpora/dictionary.py\u001b[0m in \u001b[0;36m__init__\u001b[0;34m(self, documents, prune_at)\u001b[0m\n\u001b[1;32m     81\u001b[0m \u001b[0;34m\u001b[0m\u001b[0m\n\u001b[1;32m     82\u001b[0m         \u001b[0;32mif\u001b[0m \u001b[0mdocuments\u001b[0m \u001b[0;32mis\u001b[0m \u001b[0;32mnot\u001b[0m \u001b[0;32mNone\u001b[0m\u001b[0;34m:\u001b[0m\u001b[0;34m\u001b[0m\u001b[0;34m\u001b[0m\u001b[0m\n\u001b[0;32m---> 83\u001b[0;31m             \u001b[0mself\u001b[0m\u001b[0;34m.\u001b[0m\u001b[0madd_documents\u001b[0m\u001b[0;34m(\u001b[0m\u001b[0mdocuments\u001b[0m\u001b[0;34m,\u001b[0m \u001b[0mprune_at\u001b[0m\u001b[0;34m=\u001b[0m\u001b[0mprune_at\u001b[0m\u001b[0;34m)\u001b[0m\u001b[0;34m\u001b[0m\u001b[0;34m\u001b[0m\u001b[0m\n\u001b[0m\u001b[1;32m     84\u001b[0m \u001b[0;34m\u001b[0m\u001b[0m\n\u001b[1;32m     85\u001b[0m     \u001b[0;32mdef\u001b[0m \u001b[0m__getitem__\u001b[0m\u001b[0;34m(\u001b[0m\u001b[0mself\u001b[0m\u001b[0;34m,\u001b[0m \u001b[0mtokenid\u001b[0m\u001b[0;34m)\u001b[0m\u001b[0;34m:\u001b[0m\u001b[0;34m\u001b[0m\u001b[0;34m\u001b[0m\u001b[0m\n",
            "\u001b[0;32m/usr/local/lib/python3.6/dist-packages/gensim/corpora/dictionary.py\u001b[0m in \u001b[0;36madd_documents\u001b[0;34m(self, documents, prune_at)\u001b[0m\n\u001b[1;32m    200\u001b[0m \u001b[0;34m\u001b[0m\u001b[0m\n\u001b[1;32m    201\u001b[0m             \u001b[0;31m# update Dictionary with the document\u001b[0m\u001b[0;34m\u001b[0m\u001b[0;34m\u001b[0m\u001b[0;34m\u001b[0m\u001b[0m\n\u001b[0;32m--> 202\u001b[0;31m             \u001b[0mself\u001b[0m\u001b[0;34m.\u001b[0m\u001b[0mdoc2bow\u001b[0m\u001b[0;34m(\u001b[0m\u001b[0mdocument\u001b[0m\u001b[0;34m,\u001b[0m \u001b[0mallow_update\u001b[0m\u001b[0;34m=\u001b[0m\u001b[0;32mTrue\u001b[0m\u001b[0;34m)\u001b[0m  \u001b[0;31m# ignore the result, here we only care about updating token ids\u001b[0m\u001b[0;34m\u001b[0m\u001b[0;34m\u001b[0m\u001b[0m\n\u001b[0m\u001b[1;32m    203\u001b[0m \u001b[0;34m\u001b[0m\u001b[0m\n\u001b[1;32m    204\u001b[0m         logger.info(\n",
            "\u001b[0;32m/usr/local/lib/python3.6/dist-packages/gensim/corpora/dictionary.py\u001b[0m in \u001b[0;36mdoc2bow\u001b[0;34m(self, document, allow_update, return_missing)\u001b[0m\n\u001b[1;32m    238\u001b[0m         \"\"\"\n\u001b[1;32m    239\u001b[0m         \u001b[0;32mif\u001b[0m \u001b[0misinstance\u001b[0m\u001b[0;34m(\u001b[0m\u001b[0mdocument\u001b[0m\u001b[0;34m,\u001b[0m \u001b[0mstring_types\u001b[0m\u001b[0;34m)\u001b[0m\u001b[0;34m:\u001b[0m\u001b[0;34m\u001b[0m\u001b[0;34m\u001b[0m\u001b[0m\n\u001b[0;32m--> 240\u001b[0;31m             \u001b[0;32mraise\u001b[0m \u001b[0mTypeError\u001b[0m\u001b[0;34m(\u001b[0m\u001b[0;34m\"doc2bow expects an array of unicode tokens on input, not a single string\"\u001b[0m\u001b[0;34m)\u001b[0m\u001b[0;34m\u001b[0m\u001b[0;34m\u001b[0m\u001b[0m\n\u001b[0m\u001b[1;32m    241\u001b[0m \u001b[0;34m\u001b[0m\u001b[0m\n\u001b[1;32m    242\u001b[0m         \u001b[0;31m# Construct (word, frequency) mapping.\u001b[0m\u001b[0;34m\u001b[0m\u001b[0;34m\u001b[0m\u001b[0;34m\u001b[0m\u001b[0m\n",
            "\u001b[0;31mTypeError\u001b[0m: doc2bow expects an array of unicode tokens on input, not a single string"
          ]
        }
      ]
    },
    {
      "cell_type": "code",
      "metadata": {
        "id": "zW6WWSecX1aq"
      },
      "source": [
        "# converte o corpus para o formato de saco de palavras\n",
        "corpus_filmes_bow = [dct.doc2bow(line) for line in df_processado['text_stopwords']]  "
      ],
      "execution_count": null,
      "outputs": []
    },
    {
      "cell_type": "code",
      "metadata": {
        "id": "lYjX5uXBX1ar"
      },
      "source": [
        "model = TfidfModel(corpus_filmes_bow) # computa para cada termo, a fórmula tf-idf"
      ],
      "execution_count": null,
      "outputs": []
    },
    {
      "cell_type": "code",
      "metadata": {
        "id": "jRzBvN0RX1ar"
      },
      "source": [
        "model[corpus_filmes_bow[230]] # vamos ver uma das representações"
      ],
      "execution_count": null,
      "outputs": []
    },
    {
      "cell_type": "markdown",
      "metadata": {
        "id": "jXzvBElpX1as"
      },
      "source": [
        "## Representação WORD2VEC"
      ]
    },
    {
      "cell_type": "code",
      "metadata": {
        "id": "OIA9IZ_IWSix"
      },
      "source": [
        "# o algoritmo word2vec processa as palavras por sentença. Então precisamos dividir os textos\r\n",
        "# como sentenças para alimentar o nosso modelo. A função sent_tokenize do ntlk faz isso.\r\n",
        "corpus_movies = []\r\n",
        "for f_id in df_processado['text_stopwords'].fileids():\r\n",
        "    sent_lst = sent_tokenize(df_processado['text_stopwords'].raw(f_id))\r\n",
        "    for s in sent_lst:\r\n",
        "        corpus_movies.append(simple_preprocess(s))"
      ],
      "execution_count": null,
      "outputs": []
    },
    {
      "cell_type": "code",
      "metadata": {
        "id": "n-s3Os2FX1as"
      },
      "source": [
        "# parametros\n",
        "# min_count = Ignora todas as palavras com frequencia absoluta total\n",
        "# menor que isso\n",
        "# window = A distância máxima entre a palavra corrente e palavra predita em uma sentença. Aqui, duas palavras\n",
        "# palavras anteriores e duas palavras anteriores a palavra corrente.\n",
        "# size = Dimensão dos vetores densos ou word embeddings. \n",
        "w2v_model = Word2Vec(window=2, size=50)"
      ],
      "execution_count": null,
      "outputs": []
    },
    {
      "cell_type": "code",
      "metadata": {
        "id": "c79MhOudX1at"
      },
      "source": [
        "# o word2vec demanda a construção de uma tabela representando o vocabulário do nosso corpus.\n",
        "# Ou seja, simplesmente \"digerir\" todas as palavras e filtrar as palavras únicas, e fazer uma\n",
        "# contagem básica delas.\n",
        "w2v_model.build_vocab(X, progress_per=10000)"
      ],
      "execution_count": null,
      "outputs": []
    },
    {
      "cell_type": "code",
      "metadata": {
        "id": "6zvtyf9_X1at"
      },
      "source": [
        "# parametros\n",
        "# total_examples = Contagem de sentenças\n",
        "# epochs = Número de iterações (épocas) sobre o corpus\n",
        "\n",
        "w2v_model.train(X, total_examples=w2v_model.corpus_count, epochs=5)"
      ],
      "execution_count": null,
      "outputs": []
    },
    {
      "cell_type": "markdown",
      "metadata": {
        "id": "8qFSa1WPX1au"
      },
      "source": [
        "## Representação EXTRAÇÃO DE FEATURES"
      ]
    },
    {
      "cell_type": "markdown",
      "metadata": {
        "id": "GjQcWCwvoE03"
      },
      "source": [
        "# 3 - Visualização dos dados:\n",
        "Coloque nesta seção os gráficos do PCA e do t-SNE, para cada representação. Responda também às seguintes perguntas: \n",
        "\n",
        "a) Existe algum padrão com relação às classes? \n",
        "\n",
        "b) Caso exista algum padrão, você pode concluir alguma coisa? \n",
        "\n",
        "c) Caso não exista, você consegue dizer se isso tem a ver com alguma representação ou classe?"
      ]
    },
    {
      "cell_type": "markdown",
      "metadata": {
        "id": "wJdNwYb9kEDh"
      },
      "source": [
        "# 4 - Classificadores : \n",
        "Descreva sucintamente os dois classificadores escolhidos. Você usou algum parâmetro que não seja padrão? Se sim, mencione nesta seção."
      ]
    },
    {
      "cell_type": "markdown",
      "metadata": {
        "id": "CwMrGsQKkJOR"
      },
      "source": [
        "# 5 - Resultados: \n",
        "Escreva código que execute a validação cruzada em 5-folds para os dois classificadores escolhidos. Também responda às seguintes perguntas: Os embeddings realmente mostraram um resultado melhor que o TF-IDF? Se não, qual foi a representação que teve o melhor desempenho? A diferença foi muito grande?"
      ]
    },
    {
      "cell_type": "markdown",
      "metadata": {
        "id": "hnqG24ZTkMsu"
      },
      "source": [
        "# 6 - Conclusão: \n",
        "Por fim fale aqui o que você conclui das visualizações e dos resultados. Tente explicar em detalhes por que um resultado, na sua opinião, foi melhor do que outro. Esta explicação pode incluir hipóteses para resultados melhores ou resultados piores. Também pode falar das dificuldades enfrentadas durante o trabalho e como conseguiu contorná-las."
      ]
    }
  ]
}