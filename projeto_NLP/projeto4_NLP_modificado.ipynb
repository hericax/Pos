{
  "nbformat": 4,
  "nbformat_minor": 0,
  "metadata": {
    "colab": {
      "name": "projeto4_NLP_modificado.ipynb",
      "provenance": [],
      "collapsed_sections": [
        "rxLYuJ3IjFdk",
        "xVos9YWln6m7",
        "r8cDe6KMX1aa",
        "mANdYtB147eK",
        "ChyLl7bN3lf8",
        "cW0pRDlyX1ad",
        "7QLDjXjQX1af",
        "i7zFlHuYItuz",
        "nHUiE75CpZ7b",
        "dW2gpNFY63yT",
        "1HnO3-KvRfla",
        "bZMwZtzEX1ah",
        "k70pTpcYvt7e",
        "k_6wqyUeX1am",
        "kDpf2jcVG9Ct",
        "kYFw7Co1X4hs",
        "aBF-J0lLrdKW",
        "QyO-fUlAWgaw",
        "hnqG24ZTkMsu"
      ]
    },
    "kernelspec": {
      "display_name": "Python 3",
      "language": "python",
      "name": "python3"
    }
  },
  "cells": [
    {
      "cell_type": "markdown",
      "metadata": {
        "id": "FWCXyBn-aZ8F"
      },
      "source": [
        "Falta\r\n",
        "corretor ortografico \r\n",
        "\r\n",
        "corrigir palavras como 'muuiiiitooo' => palabras alongada\r\n",
        "\r\n",
        "separar palavras juntas - palabras juntadas\r\n",
        "\r\n",
        "expandir palvras. ex: tb\r\n",
        "\r\n",
        "remover palavras pequenas"
      ]
    },
    {
      "cell_type": "markdown",
      "metadata": {
        "id": "rxLYuJ3IjFdk"
      },
      "source": [
        "# **Descrição do projeto do Módulo de NLP**"
      ]
    },
    {
      "cell_type": "code",
      "metadata": {
        "colab": {
          "base_uri": "https://localhost:8080/"
        },
        "id": "w8Oy8Wp-lqlj",
        "outputId": "27f0f1ab-1f08-4ba0-9a1b-8b63e52c517b"
      },
      "source": [
        "import gensim\r\n",
        "print(gensim.__version__)"
      ],
      "execution_count": null,
      "outputs": [
        {
          "output_type": "stream",
          "text": [
            "3.6.0\n"
          ],
          "name": "stdout"
        }
      ]
    },
    {
      "cell_type": "markdown",
      "metadata": {
        "id": "0r5BTBhKibMm"
      },
      "source": [
        "\r\n",
        "No projeto do módulo de NLP vamos tentar resolver um problema de classificação de textos. Você escolherá um de três datasets cujo objetivo é classificar em um conjunto de classes. Você deverá utilizar três metodologias ensinadas em nossas aulas para poder classificar esses textos. A seguir, mais detalhes do projeto para que você possa resolver.\r\n",
        "\r\n",
        "\r\n",
        "Os produtos finais deste projeto será um Notebook Python. As seções seguintes detalham como você deve proceder para gerar o código e a última seção deve especificar a estrutura que seu notebook deve seguir.\r\n",
        "\r\n",
        "## 1. Dados\r\n",
        "Você poderá escolher três tarefas para resolver no projeto. A seguir existe a breve descrição de cada tarefa e um link para onde você poderá baixar os dados. \r\n",
        "\r\n",
        "O corpus UTL é um corpus com críticas de filmes e apps coletadas automaticamente de sites. As classes são: positiva ou negativa. Assim o usuário pode ter gostado ou não gostado do produto. Referência: https://github.com/RogerFig/UTLCorpus \r\n",
        "O corpus UOL AES-PT é um corpus de redações no estilo do ENEM. Cada redação possui um tópico e um conjunto de redações relacionadas. Nesse corpus, existem vários tópicos e suas respectivas redações. O objetivo é predizer a nota final de cada redação de acordo com o grupo de notas 0, 200, 400, 600, 800 e 1000. Para mais informações e download dos dados, acesse o link: https://github.com/evelinamorim/aes-pt .\r\n",
        "O corpus TweetSentBr é um corpus em português de tweets. Cada tweet está rotulado com uma das classes: positivo, negativo e neutro. Para mais informações e download do corpus, acesse o link https://bitbucket.org/HBrum/tweetsentbr/src/master/ .\r\n",
        "\r\n",
        "## 2. Representação\r\n",
        "Vimos durante a nossa aula diversas forma de representar um documento de texto. Você vai usar cada uma dessas representações e compará-las. A seguir temos a listagem das representações que devem ser usadas para representar seu texto.\r\n",
        "Representação TF-IDF. Você pode usar tanto o gensim quanto o scikit para montar esta representação, mas lembre-se que é importante fazer o pré-processamento dos textos.\r\n",
        "Representação com o word2vec. O modelo poderá ser o apresentado na aula 03 ou algum outro modelo pré-treinado como os existentes no repositório http://nilc.icmc.usp.br/nilc/index.php/repositorio-de-word-embeddings-do-nilc . Neste caso, cada documento deverá ser representado pelo vetor que resultar da média dos vetores de todas as palavras que o compõem. Em outras palavras, se D é composto pelas palavras w1, w2, …, wn, e seus vetores embeddings são v1, v2, …, vn, então a representação do documento de D será v = (v1 + v2 + … + vn) / n. \r\n",
        "Extração de features do texto. Você deve pensar em ao menos 10 features para extrair do documento e que o possam representar. Aqui vão algumas sugestões: número de palavras, número de verbos, número de conjunções, número de palavras negativas, número de palavras fora do vocabulário, quantidades de entidades do tipo PESSOA, quantidade de entidades do tipo LOCAL, etc.\r\n",
        "\r\n",
        "Lembrando que você deve dividir seu conjunto em treino e teste. No TF-IDF, você só pode aplicar o método fit no conjunto de treino. Uma sugestão é dividir 80% do conjunto de dados para treino e 20% para teste. Essa divisão é aleatória, mas você pode usar o método train_test_split para essa divisão. O exemplo a seguir mostra como usar esse método:\r\n",
        "\r\n",
        "from sklearn.model_selection import train_test_split\r\n",
        "\r\n",
        "\r\n",
        " X_train, X_test, y_train, y_test = train_test_split(\r\n",
        "...    X, y, test_size=0.20, random_state=42)\r\n",
        "\r\n",
        "## 3. Visualização dos dados\r\n",
        "\r\n",
        "Também vimos que embora o nosso texto apresente dimensionalidade maior que 2D, é possível visualizar em apenas duas dimensões usando técnicas de redução de dimensionalidade. Vimos duas técnicas de redução de dimensionalidade, o PCA e o t-SNE. Assim, pede-se que você utilize as duas técnicas para gerar uma visualização dos seus dados e considere as classes para colorir as instâncias. \r\n",
        "\r\n",
        "Sugere-se utilizar a biblioteca yellowbrick para gerar as visualizações, devido sua simplicidade. Mas caso tenha interesse em gerar visualizações mais interativas e mais bonitas, você pode utilizar a biblioteca seaborn. Para uma galeria dos gráficos que o seaborn é capaz de fazer, acesse o link https://seaborn.pydata.org/examples/index.html . Apenas acrescentando em seu código import seaborn as sns; sns.set() , também é possível deixar o gráfico com cores mais bonitas. Todas essas bibliotecas precisam do matplotlib, que já está importado no exemplo da aula.\r\n",
        "\r\n",
        "Aqui você deve fazer a visualização apenas do seu conjunto de treino.\r\n",
        "## 4. Classificadores\r\n",
        "\r\n",
        "Escolha dois classificadores que você possua mais familiaridade no scikit-learn para poder classificar os seus dados. Você deve executar cada um dos classificadores nas três representações escolhidas. \r\n",
        "\r\n",
        "Você pode usar o k-nn como um dos métodos. Outros métodos estão disponíveis no scikit, como por exemplo o SVM e o RandomForest.\r\n",
        "\r\n",
        "## 5. Métricas de avaliação\r\n",
        "\r\n",
        "Para os corpus TweetSentBR e UTL, pede-se que se use a matriz de confusão, a precisão, o recall e o f-1 para reportar a acurácia dos seus classificadores. No caso do corpus UOL AES-PT pede-se que se use o erro médio apenas.\r\n",
        "\r\n"
      ]
    },
    {
      "cell_type": "markdown",
      "metadata": {
        "id": "0myAsoSHid2I"
      },
      "source": [
        ""
      ]
    },
    {
      "cell_type": "markdown",
      "metadata": {
        "id": "bYYabv8fjWif"
      },
      "source": [
        "# Estrutura"
      ]
    },
    {
      "cell_type": "markdown",
      "metadata": {
        "id": "ynv0u9vojj9D"
      },
      "source": [
        "Estrutura do Notebook\r\n",
        "\r\n",
        "O seu notebook deve ser dividido por seções que possuam  uma célula do tipo Markdown. Nesta célula deve ter o título da seção antecedida por um marcador do tipo #. O título de cada seção deverá ser como a lista abaixo. Além do título, é possível que a seção demande a descrição de resultados ou outro tipo de texto. Nestes casos, coloque o texto junto à célula do título. Se houver código solicitado para a seção, então as células restantes devem ser de código solicitado.  \r\n",
        "O relatório deve ser organizado nas seguintes seções:\r\n",
        "\r\n",
        "\r\n",
        "\r\n",
        "\r\n",
        "\r\n",
        "1.   Tarefa e Dados\r\n",
        "\r\n",
        "2.   Classificadores\r\n",
        "\r\n",
        "3.   Resultados\r\n",
        "\r\n",
        "4.   Resultados\r\n"
      ]
    },
    {
      "cell_type": "markdown",
      "metadata": {
        "id": "xVos9YWln6m7"
      },
      "source": [
        "## 1 - Tarefa e Dados: \r\n",
        "Descreva a tarefa escolhida e os dados. Escreva código que leia os dados e calcule e imprima quantas instâncias os dados têm. Também, seu código deve calcular a média de tokens por instância, isto é, quantos tokens, na média cada documento do seu conjunto de dados possui. Imprima esse único número.\r\n",
        "\r\n",
        "Você poderá escolher três tarefas para resolver no projeto. A seguir existe a breve descrição de cada tarefa e um link para onde você poderá baixar os dados.\r\n",
        "\r\n",
        "O corpus UTL é um corpus com críticas de filmes e apps coletadas automaticamente de sites. As classes são: positiva ou negativa. Assim o usuário pode ter gostado ou não gostado do produto. Referência: https://github.com/RogerFig/UTLCorpus.\r\n",
        "\r\n",
        "O corpus UOL AES-PT é um corpus de redações no estilo do ENEM. Cada redação possui um tópico e um conjunto de redações relacionadas. Nesse corpus, existem vários tópicos e suas respectivas redações. O objetivo é predizer a nota final de cada redação de acordo com o grupo de notas 0, 200, 400, 600, 800 e 1000. Para mais informações e download dos dados, acesse o link: https://github.com/evelinamorim/aes-pt.\r\n",
        "\r\n",
        "O corpus TweetSentBr é um corpus em português de tweets. Cada tweet está rotulado com uma das classes: positivo, negativo e neutro. Para mais informações e download do corpus, acesse o link https://bitbucket.org/HBrum/tweetsentbr/src/master/."
      ]
    },
    {
      "cell_type": "markdown",
      "metadata": {
        "id": "gRmPygTVlXTG"
      },
      "source": [
        "A base escolhido é a do corpus UTL é um corpus com críticas de filmes e apps coletadas automaticamente de sites. As classes são: positiva ou negativa. Assim o usuário pode ter gostado ou não gostado do produto. Referência: https://github.com/RogerFig/UTLCorpus."
      ]
    },
    {
      "cell_type": "markdown",
      "metadata": {
        "id": "AD5iPWAJX1aX"
      },
      "source": [
        "## Importanto as bibliotecas necessárias"
      ]
    },
    {
      "cell_type": "code",
      "metadata": {
        "colab": {
          "base_uri": "https://localhost:8080/"
        },
        "id": "sMEXm13uX54E",
        "outputId": "2d176697-3ee9-4d34-c357-f978b64bd574"
      },
      "source": [
        "### # montando o drive do google onde o corpus se encontra\r\n",
        "from google.colab import drive\r\n",
        "drive.mount('/content/drive')\r\n",
        "\r\n",
        "### Entrando no diretório\r\n",
        "%cd drive/MyDrive/Colab Notebooks/NLP/trabalho"
      ],
      "execution_count": 2,
      "outputs": [
        {
          "output_type": "stream",
          "text": [
            "Mounted at /content/drive\n",
            "/content/drive/MyDrive/Colab Notebooks/NLP/trabalho\n"
          ],
          "name": "stdout"
        }
      ]
    },
    {
      "cell_type": "code",
      "metadata": {
        "colab": {
          "base_uri": "https://localhost:8080/"
        },
        "id": "xizqZPgGX1aX",
        "outputId": "691aed5d-703e-4e7d-a4c9-335d0c7cfb13"
      },
      "source": [
        "import nltk\n",
        "nltk.download('punkt')\n",
        "\n",
        "%matplotlib inline\n",
        "nltk.download('stopwords')\n",
        "\n",
        "# para extração das features\n",
        "!pip install scattertext\n",
        "!python -m spacy download pt_core_news_sm\n",
        "!python -m spacy download pt\n",
        "!pip install -U yellowbrick"
      ],
      "execution_count": 3,
      "outputs": [
        {
          "output_type": "stream",
          "text": [
            "[nltk_data] Downloading package punkt to /root/nltk_data...\n",
            "[nltk_data]   Unzipping tokenizers/punkt.zip.\n",
            "[nltk_data] Downloading package stopwords to /root/nltk_data...\n",
            "[nltk_data]   Unzipping corpora/stopwords.zip.\n",
            "Collecting scattertext\n",
            "\u001b[?25l  Downloading https://files.pythonhosted.org/packages/c3/63/ad2427520881539ba2a3308b5d2c96653d105c8871a0236fc8b988f6e4ca/scattertext-0.1.0.0-py3-none-any.whl (7.3MB)\n",
            "\u001b[K     |████████████████████████████████| 7.3MB 6.4MB/s \n",
            "\u001b[?25hRequirement already satisfied: pandas in /usr/local/lib/python3.6/dist-packages (from scattertext) (1.1.5)\n",
            "Requirement already satisfied: numpy in /usr/local/lib/python3.6/dist-packages (from scattertext) (1.19.5)\n",
            "Collecting mock\n",
            "  Downloading https://files.pythonhosted.org/packages/5c/03/b7e605db4a57c0f6fba744b11ef3ddf4ddebcada35022927a2b5fc623fdf/mock-4.0.3-py3-none-any.whl\n",
            "Collecting flashtext\n",
            "  Downloading https://files.pythonhosted.org/packages/81/d8/2cd0656eae456d615c2f1efbcae8dfca2cb871a31f34ba8925aba47d5e09/flashtext-2.7.tar.gz\n",
            "Requirement already satisfied: scipy in /usr/local/lib/python3.6/dist-packages (from scattertext) (1.4.1)\n",
            "Requirement already satisfied: statsmodels in /usr/local/lib/python3.6/dist-packages (from scattertext) (0.10.2)\n",
            "Requirement already satisfied: scikit-learn in /usr/local/lib/python3.6/dist-packages (from scattertext) (0.22.2.post1)\n",
            "Requirement already satisfied: six in /usr/local/lib/python3.6/dist-packages (from scattertext) (1.15.0)\n",
            "Requirement already satisfied: pytz>=2017.2 in /usr/local/lib/python3.6/dist-packages (from pandas->scattertext) (2018.9)\n",
            "Requirement already satisfied: python-dateutil>=2.7.3 in /usr/local/lib/python3.6/dist-packages (from pandas->scattertext) (2.8.1)\n",
            "Requirement already satisfied: patsy>=0.4.0 in /usr/local/lib/python3.6/dist-packages (from statsmodels->scattertext) (0.5.1)\n",
            "Requirement already satisfied: joblib>=0.11 in /usr/local/lib/python3.6/dist-packages (from scikit-learn->scattertext) (1.0.0)\n",
            "Building wheels for collected packages: flashtext\n",
            "  Building wheel for flashtext (setup.py) ... \u001b[?25l\u001b[?25hdone\n",
            "  Created wheel for flashtext: filename=flashtext-2.7-py2.py3-none-any.whl size=9299 sha256=e84f457cc145752268a1558187dfb44165610c699478561737cf584ee67e8285\n",
            "  Stored in directory: /root/.cache/pip/wheels/37/db/d7/fe74f7cb8e5c3afed90fe6f4967c933a6f13d81ab6b3d3128c\n",
            "Successfully built flashtext\n",
            "Installing collected packages: mock, flashtext, scattertext\n",
            "Successfully installed flashtext-2.7 mock-4.0.3 scattertext-0.1.0.0\n",
            "Collecting pt_core_news_sm==2.2.5\n",
            "\u001b[?25l  Downloading https://github.com/explosion/spacy-models/releases/download/pt_core_news_sm-2.2.5/pt_core_news_sm-2.2.5.tar.gz (21.2MB)\n",
            "\u001b[K     |████████████████████████████████| 21.2MB 1.2MB/s \n",
            "\u001b[?25hRequirement already satisfied: spacy>=2.2.2 in /usr/local/lib/python3.6/dist-packages (from pt_core_news_sm==2.2.5) (2.2.4)\n",
            "Requirement already satisfied: plac<1.2.0,>=0.9.6 in /usr/local/lib/python3.6/dist-packages (from spacy>=2.2.2->pt_core_news_sm==2.2.5) (1.1.3)\n",
            "Requirement already satisfied: catalogue<1.1.0,>=0.0.7 in /usr/local/lib/python3.6/dist-packages (from spacy>=2.2.2->pt_core_news_sm==2.2.5) (1.0.0)\n",
            "Requirement already satisfied: thinc==7.4.0 in /usr/local/lib/python3.6/dist-packages (from spacy>=2.2.2->pt_core_news_sm==2.2.5) (7.4.0)\n",
            "Requirement already satisfied: preshed<3.1.0,>=3.0.2 in /usr/local/lib/python3.6/dist-packages (from spacy>=2.2.2->pt_core_news_sm==2.2.5) (3.0.5)\n",
            "Requirement already satisfied: blis<0.5.0,>=0.4.0 in /usr/local/lib/python3.6/dist-packages (from spacy>=2.2.2->pt_core_news_sm==2.2.5) (0.4.1)\n",
            "Requirement already satisfied: setuptools in /usr/local/lib/python3.6/dist-packages (from spacy>=2.2.2->pt_core_news_sm==2.2.5) (53.0.0)\n",
            "Requirement already satisfied: numpy>=1.15.0 in /usr/local/lib/python3.6/dist-packages (from spacy>=2.2.2->pt_core_news_sm==2.2.5) (1.19.5)\n",
            "Requirement already satisfied: requests<3.0.0,>=2.13.0 in /usr/local/lib/python3.6/dist-packages (from spacy>=2.2.2->pt_core_news_sm==2.2.5) (2.23.0)\n",
            "Requirement already satisfied: tqdm<5.0.0,>=4.38.0 in /usr/local/lib/python3.6/dist-packages (from spacy>=2.2.2->pt_core_news_sm==2.2.5) (4.41.1)\n",
            "Requirement already satisfied: wasabi<1.1.0,>=0.4.0 in /usr/local/lib/python3.6/dist-packages (from spacy>=2.2.2->pt_core_news_sm==2.2.5) (0.8.2)\n",
            "Requirement already satisfied: srsly<1.1.0,>=1.0.2 in /usr/local/lib/python3.6/dist-packages (from spacy>=2.2.2->pt_core_news_sm==2.2.5) (1.0.5)\n",
            "Requirement already satisfied: cymem<2.1.0,>=2.0.2 in /usr/local/lib/python3.6/dist-packages (from spacy>=2.2.2->pt_core_news_sm==2.2.5) (2.0.5)\n",
            "Requirement already satisfied: murmurhash<1.1.0,>=0.28.0 in /usr/local/lib/python3.6/dist-packages (from spacy>=2.2.2->pt_core_news_sm==2.2.5) (1.0.5)\n",
            "Requirement already satisfied: importlib-metadata>=0.20; python_version < \"3.8\" in /usr/local/lib/python3.6/dist-packages (from catalogue<1.1.0,>=0.0.7->spacy>=2.2.2->pt_core_news_sm==2.2.5) (3.4.0)\n",
            "Requirement already satisfied: idna<3,>=2.5 in /usr/local/lib/python3.6/dist-packages (from requests<3.0.0,>=2.13.0->spacy>=2.2.2->pt_core_news_sm==2.2.5) (2.10)\n",
            "Requirement already satisfied: chardet<4,>=3.0.2 in /usr/local/lib/python3.6/dist-packages (from requests<3.0.0,>=2.13.0->spacy>=2.2.2->pt_core_news_sm==2.2.5) (3.0.4)\n",
            "Requirement already satisfied: certifi>=2017.4.17 in /usr/local/lib/python3.6/dist-packages (from requests<3.0.0,>=2.13.0->spacy>=2.2.2->pt_core_news_sm==2.2.5) (2020.12.5)\n",
            "Requirement already satisfied: urllib3!=1.25.0,!=1.25.1,<1.26,>=1.21.1 in /usr/local/lib/python3.6/dist-packages (from requests<3.0.0,>=2.13.0->spacy>=2.2.2->pt_core_news_sm==2.2.5) (1.24.3)\n",
            "Requirement already satisfied: zipp>=0.5 in /usr/local/lib/python3.6/dist-packages (from importlib-metadata>=0.20; python_version < \"3.8\"->catalogue<1.1.0,>=0.0.7->spacy>=2.2.2->pt_core_news_sm==2.2.5) (3.4.0)\n",
            "Requirement already satisfied: typing-extensions>=3.6.4; python_version < \"3.8\" in /usr/local/lib/python3.6/dist-packages (from importlib-metadata>=0.20; python_version < \"3.8\"->catalogue<1.1.0,>=0.0.7->spacy>=2.2.2->pt_core_news_sm==2.2.5) (3.7.4.3)\n",
            "Building wheels for collected packages: pt-core-news-sm\n",
            "  Building wheel for pt-core-news-sm (setup.py) ... \u001b[?25l\u001b[?25hdone\n",
            "  Created wheel for pt-core-news-sm: filename=pt_core_news_sm-2.2.5-cp36-none-any.whl size=21186283 sha256=84e48adf7d5a29a5890cb80f02dd2aecbae1840f771407906cb6dd8312a53e01\n",
            "  Stored in directory: /tmp/pip-ephem-wheel-cache-mpmoauwx/wheels/ea/94/74/ec9be8418e9231b471be5dc7e1b45dd670019a376a6b5bc1c0\n",
            "Successfully built pt-core-news-sm\n",
            "Installing collected packages: pt-core-news-sm\n",
            "Successfully installed pt-core-news-sm-2.2.5\n",
            "\u001b[38;5;2m✔ Download and installation successful\u001b[0m\n",
            "You can now load the model via spacy.load('pt_core_news_sm')\n",
            "Requirement already satisfied: pt_core_news_sm==2.2.5 from https://github.com/explosion/spacy-models/releases/download/pt_core_news_sm-2.2.5/pt_core_news_sm-2.2.5.tar.gz#egg=pt_core_news_sm==2.2.5 in /usr/local/lib/python3.6/dist-packages (2.2.5)\n",
            "Requirement already satisfied: spacy>=2.2.2 in /usr/local/lib/python3.6/dist-packages (from pt_core_news_sm==2.2.5) (2.2.4)\n",
            "Requirement already satisfied: blis<0.5.0,>=0.4.0 in /usr/local/lib/python3.6/dist-packages (from spacy>=2.2.2->pt_core_news_sm==2.2.5) (0.4.1)\n",
            "Requirement already satisfied: requests<3.0.0,>=2.13.0 in /usr/local/lib/python3.6/dist-packages (from spacy>=2.2.2->pt_core_news_sm==2.2.5) (2.23.0)\n",
            "Requirement already satisfied: murmurhash<1.1.0,>=0.28.0 in /usr/local/lib/python3.6/dist-packages (from spacy>=2.2.2->pt_core_news_sm==2.2.5) (1.0.5)\n",
            "Requirement already satisfied: tqdm<5.0.0,>=4.38.0 in /usr/local/lib/python3.6/dist-packages (from spacy>=2.2.2->pt_core_news_sm==2.2.5) (4.41.1)\n",
            "Requirement already satisfied: preshed<3.1.0,>=3.0.2 in /usr/local/lib/python3.6/dist-packages (from spacy>=2.2.2->pt_core_news_sm==2.2.5) (3.0.5)\n",
            "Requirement already satisfied: thinc==7.4.0 in /usr/local/lib/python3.6/dist-packages (from spacy>=2.2.2->pt_core_news_sm==2.2.5) (7.4.0)\n",
            "Requirement already satisfied: srsly<1.1.0,>=1.0.2 in /usr/local/lib/python3.6/dist-packages (from spacy>=2.2.2->pt_core_news_sm==2.2.5) (1.0.5)\n",
            "Requirement already satisfied: setuptools in /usr/local/lib/python3.6/dist-packages (from spacy>=2.2.2->pt_core_news_sm==2.2.5) (53.0.0)\n",
            "Requirement already satisfied: cymem<2.1.0,>=2.0.2 in /usr/local/lib/python3.6/dist-packages (from spacy>=2.2.2->pt_core_news_sm==2.2.5) (2.0.5)\n",
            "Requirement already satisfied: plac<1.2.0,>=0.9.6 in /usr/local/lib/python3.6/dist-packages (from spacy>=2.2.2->pt_core_news_sm==2.2.5) (1.1.3)\n",
            "Requirement already satisfied: catalogue<1.1.0,>=0.0.7 in /usr/local/lib/python3.6/dist-packages (from spacy>=2.2.2->pt_core_news_sm==2.2.5) (1.0.0)\n",
            "Requirement already satisfied: wasabi<1.1.0,>=0.4.0 in /usr/local/lib/python3.6/dist-packages (from spacy>=2.2.2->pt_core_news_sm==2.2.5) (0.8.2)\n",
            "Requirement already satisfied: numpy>=1.15.0 in /usr/local/lib/python3.6/dist-packages (from spacy>=2.2.2->pt_core_news_sm==2.2.5) (1.19.5)\n",
            "Requirement already satisfied: certifi>=2017.4.17 in /usr/local/lib/python3.6/dist-packages (from requests<3.0.0,>=2.13.0->spacy>=2.2.2->pt_core_news_sm==2.2.5) (2020.12.5)\n",
            "Requirement already satisfied: chardet<4,>=3.0.2 in /usr/local/lib/python3.6/dist-packages (from requests<3.0.0,>=2.13.0->spacy>=2.2.2->pt_core_news_sm==2.2.5) (3.0.4)\n",
            "Requirement already satisfied: urllib3!=1.25.0,!=1.25.1,<1.26,>=1.21.1 in /usr/local/lib/python3.6/dist-packages (from requests<3.0.0,>=2.13.0->spacy>=2.2.2->pt_core_news_sm==2.2.5) (1.24.3)\n",
            "Requirement already satisfied: idna<3,>=2.5 in /usr/local/lib/python3.6/dist-packages (from requests<3.0.0,>=2.13.0->spacy>=2.2.2->pt_core_news_sm==2.2.5) (2.10)\n",
            "Requirement already satisfied: importlib-metadata>=0.20; python_version < \"3.8\" in /usr/local/lib/python3.6/dist-packages (from catalogue<1.1.0,>=0.0.7->spacy>=2.2.2->pt_core_news_sm==2.2.5) (3.4.0)\n",
            "Requirement already satisfied: typing-extensions>=3.6.4; python_version < \"3.8\" in /usr/local/lib/python3.6/dist-packages (from importlib-metadata>=0.20; python_version < \"3.8\"->catalogue<1.1.0,>=0.0.7->spacy>=2.2.2->pt_core_news_sm==2.2.5) (3.7.4.3)\n",
            "Requirement already satisfied: zipp>=0.5 in /usr/local/lib/python3.6/dist-packages (from importlib-metadata>=0.20; python_version < \"3.8\"->catalogue<1.1.0,>=0.0.7->spacy>=2.2.2->pt_core_news_sm==2.2.5) (3.4.0)\n",
            "\u001b[38;5;2m✔ Download and installation successful\u001b[0m\n",
            "You can now load the model via spacy.load('pt_core_news_sm')\n",
            "\u001b[38;5;2m✔ Linking successful\u001b[0m\n",
            "/usr/local/lib/python3.6/dist-packages/pt_core_news_sm -->\n",
            "/usr/local/lib/python3.6/dist-packages/spacy/data/pt\n",
            "You can now load the model via spacy.load('pt')\n",
            "Collecting yellowbrick\n",
            "\u001b[?25l  Downloading https://files.pythonhosted.org/packages/3a/15/58feb940b6a2f52d3335cccf9e5d00704ec5ba62782da83f7e2abeca5e4b/yellowbrick-1.3.post1-py3-none-any.whl (271kB)\n",
            "\u001b[K     |████████████████████████████████| 276kB 8.2MB/s \n",
            "\u001b[?25hRequirement already satisfied, skipping upgrade: scikit-learn>=0.20 in /usr/local/lib/python3.6/dist-packages (from yellowbrick) (0.22.2.post1)\n",
            "Requirement already satisfied, skipping upgrade: matplotlib!=3.0.0,>=2.0.2 in /usr/local/lib/python3.6/dist-packages (from yellowbrick) (3.2.2)\n",
            "Requirement already satisfied, skipping upgrade: numpy<1.20,>=1.16.0 in /usr/local/lib/python3.6/dist-packages (from yellowbrick) (1.19.5)\n",
            "Requirement already satisfied, skipping upgrade: scipy>=1.0.0 in /usr/local/lib/python3.6/dist-packages (from yellowbrick) (1.4.1)\n",
            "Requirement already satisfied, skipping upgrade: cycler>=0.10.0 in /usr/local/lib/python3.6/dist-packages (from yellowbrick) (0.10.0)\n",
            "Requirement already satisfied, skipping upgrade: joblib>=0.11 in /usr/local/lib/python3.6/dist-packages (from scikit-learn>=0.20->yellowbrick) (1.0.0)\n",
            "Requirement already satisfied, skipping upgrade: pyparsing!=2.0.4,!=2.1.2,!=2.1.6,>=2.0.1 in /usr/local/lib/python3.6/dist-packages (from matplotlib!=3.0.0,>=2.0.2->yellowbrick) (2.4.7)\n",
            "Requirement already satisfied, skipping upgrade: kiwisolver>=1.0.1 in /usr/local/lib/python3.6/dist-packages (from matplotlib!=3.0.0,>=2.0.2->yellowbrick) (1.3.1)\n",
            "Requirement already satisfied, skipping upgrade: python-dateutil>=2.1 in /usr/local/lib/python3.6/dist-packages (from matplotlib!=3.0.0,>=2.0.2->yellowbrick) (2.8.1)\n",
            "Requirement already satisfied, skipping upgrade: six in /usr/local/lib/python3.6/dist-packages (from cycler>=0.10.0->yellowbrick) (1.15.0)\n",
            "Installing collected packages: yellowbrick\n",
            "  Found existing installation: yellowbrick 0.9.1\n",
            "    Uninstalling yellowbrick-0.9.1:\n",
            "      Successfully uninstalled yellowbrick-0.9.1\n",
            "Successfully installed yellowbrick-1.3.post1\n"
          ],
          "name": "stdout"
        }
      ]
    },
    {
      "cell_type": "code",
      "metadata": {
        "id": "X9Tkls2bX1aa"
      },
      "source": [
        "import pandas as pd\n",
        "import numpy as np\n",
        "from sklearn.decomposition import PCA\n",
        "import matplotlib.pyplot as plt\n",
        "\n",
        "import time # usado para calcular o tempo de processamento de algumas partes do código\n",
        "import string # usado para concatenar string no stop words\n",
        "\n",
        "\n",
        "from nltk.tokenize import word_tokenize\n",
        "\n",
        "# REPRESENTAÇÕES\n",
        "from gensim.models import Word2Vec\n",
        "from gensim.models import TfidfModel\n",
        "from gensim.corpora import Dictionary # para uso do TF-IDF\n",
        "from gensim import corpora\n"
      ],
      "execution_count": 4,
      "outputs": []
    },
    {
      "cell_type": "markdown",
      "metadata": {
        "id": "r8cDe6KMX1aa"
      },
      "source": [
        "## Abrindo o arquivo"
      ]
    },
    {
      "cell_type": "code",
      "metadata": {
        "id": "Zg6ztZNiX1ab"
      },
      "source": [
        "# abrindo o arquivo localmente\n",
        "# df_util = pd.read_csv(r'C:\\Users\\Herica\\Documents\\Herica\\Pos\\GitHub\\base\\NLP\\UTLCorpus.csv')\n",
        "# df_util.head(3)"
      ],
      "execution_count": null,
      "outputs": []
    },
    {
      "cell_type": "code",
      "metadata": {
        "colab": {
          "base_uri": "https://localhost:8080/",
          "height": 261
        },
        "id": "aDWnK_yiZgu8",
        "outputId": "d7db26c6-b6c0-4265-d9e8-62b7bf1ca78a"
      },
      "source": [
        "# abrindo o arquivo no colab\r\n",
        "df_util = pd.read_csv('/content/drive/MyDrive/Colab Notebooks/NLP/trabalho/dados/UTLCorpus.csv')\r\n",
        "df_util.head(3)"
      ],
      "execution_count": null,
      "outputs": [
        {
          "output_type": "execute_result",
          "data": {
            "text/html": [
              "<div>\n",
              "<style scoped>\n",
              "    .dataframe tbody tr th:only-of-type {\n",
              "        vertical-align: middle;\n",
              "    }\n",
              "\n",
              "    .dataframe tbody tr th {\n",
              "        vertical-align: top;\n",
              "    }\n",
              "\n",
              "    .dataframe thead th {\n",
              "        text-align: right;\n",
              "    }\n",
              "</style>\n",
              "<table border=\"1\" class=\"dataframe\">\n",
              "  <thead>\n",
              "    <tr style=\"text-align: right;\">\n",
              "      <th></th>\n",
              "      <th>Unnamed: 0</th>\n",
              "      <th>domain</th>\n",
              "      <th>object</th>\n",
              "      <th>author</th>\n",
              "      <th>text</th>\n",
              "      <th>likes</th>\n",
              "      <th>unlikes</th>\n",
              "      <th>stars</th>\n",
              "      <th>date</th>\n",
              "      <th>collect_date</th>\n",
              "      <th>replies</th>\n",
              "      <th>favorite</th>\n",
              "      <th>want_see</th>\n",
              "      <th>recommend</th>\n",
              "      <th>see</th>\n",
              "      <th>internal_id</th>\n",
              "    </tr>\n",
              "  </thead>\n",
              "  <tbody>\n",
              "    <tr>\n",
              "      <th>0</th>\n",
              "      <td>0</td>\n",
              "      <td>movies</td>\n",
              "      <td>007-cassino-royale-t23</td>\n",
              "      <td>0</td>\n",
              "      <td>Um dos melhores do 007</td>\n",
              "      <td>0</td>\n",
              "      <td>0</td>\n",
              "      <td>3.5</td>\n",
              "      <td>8 anos atrás</td>\n",
              "      <td>20-04-2019 06:20</td>\n",
              "      <td>0.0</td>\n",
              "      <td>0.0</td>\n",
              "      <td>0.0</td>\n",
              "      <td>NaN</td>\n",
              "      <td>1.0</td>\n",
              "      <td>0</td>\n",
              "    </tr>\n",
              "    <tr>\n",
              "      <th>1</th>\n",
              "      <td>1</td>\n",
              "      <td>movies</td>\n",
              "      <td>007-cassino-royale-t23</td>\n",
              "      <td>1</td>\n",
              "      <td>assisti só pela metade..do meio ao fim, o film...</td>\n",
              "      <td>0</td>\n",
              "      <td>0</td>\n",
              "      <td>4.0</td>\n",
              "      <td>8 anos atrás</td>\n",
              "      <td>20-04-2019 06:20</td>\n",
              "      <td>0.0</td>\n",
              "      <td>0.0</td>\n",
              "      <td>0.0</td>\n",
              "      <td>NaN</td>\n",
              "      <td>1.0</td>\n",
              "      <td>1</td>\n",
              "    </tr>\n",
              "    <tr>\n",
              "      <th>2</th>\n",
              "      <td>2</td>\n",
              "      <td>movies</td>\n",
              "      <td>007-cassino-royale-t23</td>\n",
              "      <td>2</td>\n",
              "      <td>foi um dos filmes mais violentos q já vi. mas ...</td>\n",
              "      <td>0</td>\n",
              "      <td>0</td>\n",
              "      <td>4.0</td>\n",
              "      <td>8 anos atrás</td>\n",
              "      <td>20-04-2019 06:20</td>\n",
              "      <td>0.0</td>\n",
              "      <td>0.0</td>\n",
              "      <td>0.0</td>\n",
              "      <td>NaN</td>\n",
              "      <td>1.0</td>\n",
              "      <td>2</td>\n",
              "    </tr>\n",
              "  </tbody>\n",
              "</table>\n",
              "</div>"
            ],
            "text/plain": [
              "   Unnamed: 0  domain                  object  ...  recommend  see  internal_id\n",
              "0           0  movies  007-cassino-royale-t23  ...        NaN  1.0            0\n",
              "1           1  movies  007-cassino-royale-t23  ...        NaN  1.0            1\n",
              "2           2  movies  007-cassino-royale-t23  ...        NaN  1.0            2\n",
              "\n",
              "[3 rows x 16 columns]"
            ]
          },
          "metadata": {
            "tags": []
          },
          "execution_count": 8
        }
      ]
    },
    {
      "cell_type": "markdown",
      "metadata": {
        "id": "t5wE53KyX1ae"
      },
      "source": [
        "**DESCRIÇÃO DAS FEATURES**\n",
        "\n",
        "domain -> identifica se os regisgros estão relacionados a avaliação de filmes ou de apps\n",
        "\n",
        "object -> identificação do filme\n",
        "\n",
        "author -> pessoa que fez a avaliação\n",
        "\n",
        "text -> texto escrito pelo author sobre sua avaliação\n",
        "\n",
        "likes -> qtde de likes que a avaliação do author recebeu\n",
        "\n",
        "unkes -> qtde de unlikes que a avaliação do author recebeu\n",
        "\n",
        "stars\tdate\t-> qtde de estrelas que a avaliação recebeu\n",
        "\n",
        "collect_date\t-> data da avaliação\n",
        "\n",
        "replies\tfavorite\t-> qtde de replicas favoritadas\n",
        "\n",
        "want_see\t-> qtde de 'quero ver'\n",
        "\n",
        "recommend\t-> se é recomendado\n",
        "\n",
        "see\t-> qtde de 'já vi' recebido\n",
        "\n",
        "internal_id -> código interno do dataset\n"
      ]
    },
    {
      "cell_type": "markdown",
      "metadata": {
        "id": "bDjKfg7ZX1ab"
      },
      "source": [
        "# Analisando os dados"
      ]
    },
    {
      "cell_type": "markdown",
      "metadata": {
        "id": "mANdYtB147eK"
      },
      "source": [
        "## Descrição dos dados"
      ]
    },
    {
      "cell_type": "code",
      "metadata": {
        "colab": {
          "base_uri": "https://localhost:8080/"
        },
        "id": "6BkD1XPV46ox",
        "outputId": "4de44c6d-b4b7-485e-c8d6-d78a532686ca"
      },
      "source": [
        "print ('Tamanho da base')\r\n",
        "print ('Qtde de linhas: ', df_util.shape[0], ' Qtde de features/colunas: ', df_util.shape[1])"
      ],
      "execution_count": null,
      "outputs": [
        {
          "output_type": "stream",
          "text": [
            "Tamanho da base\n",
            "Qtde de linhas:  2881589  Qtde de features/colunas:  16\n"
          ],
          "name": "stdout"
        }
      ]
    },
    {
      "cell_type": "code",
      "metadata": {
        "colab": {
          "base_uri": "https://localhost:8080/",
          "height": 297
        },
        "id": "AC5-W0JxF2ur",
        "outputId": "722b85c0-8bc6-49d9-b39e-05224e45b8a1"
      },
      "source": [
        "df_util.describe()"
      ],
      "execution_count": null,
      "outputs": [
        {
          "output_type": "execute_result",
          "data": {
            "text/html": [
              "<div>\n",
              "<style scoped>\n",
              "    .dataframe tbody tr th:only-of-type {\n",
              "        vertical-align: middle;\n",
              "    }\n",
              "\n",
              "    .dataframe tbody tr th {\n",
              "        vertical-align: top;\n",
              "    }\n",
              "\n",
              "    .dataframe thead th {\n",
              "        text-align: right;\n",
              "    }\n",
              "</style>\n",
              "<table border=\"1\" class=\"dataframe\">\n",
              "  <thead>\n",
              "    <tr style=\"text-align: right;\">\n",
              "      <th></th>\n",
              "      <th>Unnamed: 0</th>\n",
              "      <th>author</th>\n",
              "      <th>likes</th>\n",
              "      <th>unlikes</th>\n",
              "      <th>stars</th>\n",
              "      <th>replies</th>\n",
              "      <th>favorite</th>\n",
              "      <th>want_see</th>\n",
              "      <th>recommend</th>\n",
              "      <th>see</th>\n",
              "      <th>internal_id</th>\n",
              "    </tr>\n",
              "  </thead>\n",
              "  <tbody>\n",
              "    <tr>\n",
              "      <th>count</th>\n",
              "      <td>2.881589e+06</td>\n",
              "      <td>2.881589e+06</td>\n",
              "      <td>2.881589e+06</td>\n",
              "      <td>2881589.0</td>\n",
              "      <td>2.881589e+06</td>\n",
              "      <td>1.839851e+06</td>\n",
              "      <td>1.839851e+06</td>\n",
              "      <td>1.839851e+06</td>\n",
              "      <td>0.0</td>\n",
              "      <td>1.839851e+06</td>\n",
              "      <td>2.881589e+06</td>\n",
              "    </tr>\n",
              "    <tr>\n",
              "      <th>mean</th>\n",
              "      <td>1.440794e+06</td>\n",
              "      <td>7.084866e+04</td>\n",
              "      <td>3.275024e+00</td>\n",
              "      <td>0.0</td>\n",
              "      <td>3.542358e+00</td>\n",
              "      <td>1.717813e-01</td>\n",
              "      <td>2.504051e-01</td>\n",
              "      <td>1.329238e-02</td>\n",
              "      <td>NaN</td>\n",
              "      <td>9.630774e-01</td>\n",
              "      <td>7.756600e+05</td>\n",
              "    </tr>\n",
              "    <tr>\n",
              "      <th>std</th>\n",
              "      <td>8.318432e+05</td>\n",
              "      <td>1.237974e+05</td>\n",
              "      <td>5.198818e+01</td>\n",
              "      <td>0.0</td>\n",
              "      <td>1.737904e+00</td>\n",
              "      <td>7.363074e-01</td>\n",
              "      <td>4.332464e-01</td>\n",
              "      <td>1.145238e-01</td>\n",
              "      <td>NaN</td>\n",
              "      <td>1.885717e-01</td>\n",
              "      <td>4.995596e+05</td>\n",
              "    </tr>\n",
              "    <tr>\n",
              "      <th>min</th>\n",
              "      <td>0.000000e+00</td>\n",
              "      <td>0.000000e+00</td>\n",
              "      <td>0.000000e+00</td>\n",
              "      <td>0.0</td>\n",
              "      <td>0.000000e+00</td>\n",
              "      <td>0.000000e+00</td>\n",
              "      <td>0.000000e+00</td>\n",
              "      <td>0.000000e+00</td>\n",
              "      <td>NaN</td>\n",
              "      <td>0.000000e+00</td>\n",
              "      <td>0.000000e+00</td>\n",
              "    </tr>\n",
              "    <tr>\n",
              "      <th>25%</th>\n",
              "      <td>7.203970e+05</td>\n",
              "      <td>3.917000e+03</td>\n",
              "      <td>0.000000e+00</td>\n",
              "      <td>0.0</td>\n",
              "      <td>3.000000e+00</td>\n",
              "      <td>0.000000e+00</td>\n",
              "      <td>0.000000e+00</td>\n",
              "      <td>0.000000e+00</td>\n",
              "      <td>NaN</td>\n",
              "      <td>1.000000e+00</td>\n",
              "      <td>3.601980e+05</td>\n",
              "    </tr>\n",
              "    <tr>\n",
              "      <th>50%</th>\n",
              "      <td>1.440794e+06</td>\n",
              "      <td>1.749000e+04</td>\n",
              "      <td>0.000000e+00</td>\n",
              "      <td>0.0</td>\n",
              "      <td>4.000000e+00</td>\n",
              "      <td>0.000000e+00</td>\n",
              "      <td>0.000000e+00</td>\n",
              "      <td>0.000000e+00</td>\n",
              "      <td>NaN</td>\n",
              "      <td>1.000000e+00</td>\n",
              "      <td>7.203970e+05</td>\n",
              "    </tr>\n",
              "    <tr>\n",
              "      <th>75%</th>\n",
              "      <td>2.161191e+06</td>\n",
              "      <td>5.939500e+04</td>\n",
              "      <td>2.000000e+00</td>\n",
              "      <td>0.0</td>\n",
              "      <td>5.000000e+00</td>\n",
              "      <td>0.000000e+00</td>\n",
              "      <td>1.000000e+00</td>\n",
              "      <td>0.000000e+00</td>\n",
              "      <td>NaN</td>\n",
              "      <td>1.000000e+00</td>\n",
              "      <td>1.119453e+06</td>\n",
              "    </tr>\n",
              "    <tr>\n",
              "      <th>max</th>\n",
              "      <td>2.881588e+06</td>\n",
              "      <td>5.410000e+05</td>\n",
              "      <td>2.014600e+04</td>\n",
              "      <td>0.0</td>\n",
              "      <td>5.000000e+00</td>\n",
              "      <td>1.420000e+02</td>\n",
              "      <td>1.000000e+00</td>\n",
              "      <td>1.000000e+00</td>\n",
              "      <td>NaN</td>\n",
              "      <td>1.000000e+00</td>\n",
              "      <td>1.839850e+06</td>\n",
              "    </tr>\n",
              "  </tbody>\n",
              "</table>\n",
              "</div>"
            ],
            "text/plain": [
              "         Unnamed: 0        author  ...           see   internal_id\n",
              "count  2.881589e+06  2.881589e+06  ...  1.839851e+06  2.881589e+06\n",
              "mean   1.440794e+06  7.084866e+04  ...  9.630774e-01  7.756600e+05\n",
              "std    8.318432e+05  1.237974e+05  ...  1.885717e-01  4.995596e+05\n",
              "min    0.000000e+00  0.000000e+00  ...  0.000000e+00  0.000000e+00\n",
              "25%    7.203970e+05  3.917000e+03  ...  1.000000e+00  3.601980e+05\n",
              "50%    1.440794e+06  1.749000e+04  ...  1.000000e+00  7.203970e+05\n",
              "75%    2.161191e+06  5.939500e+04  ...  1.000000e+00  1.119453e+06\n",
              "max    2.881588e+06  5.410000e+05  ...  1.000000e+00  1.839850e+06\n",
              "\n",
              "[8 rows x 11 columns]"
            ]
          },
          "metadata": {
            "tags": []
          },
          "execution_count": 10
        }
      ]
    },
    {
      "cell_type": "code",
      "metadata": {
        "colab": {
          "base_uri": "https://localhost:8080/"
        },
        "id": "noIcacba5wFw",
        "outputId": "b799ebcb-c2b1-4ebc-f58f-9b620973da91"
      },
      "source": [
        "print ('Tipos dos dados')\r\n",
        "df_util.dtypes"
      ],
      "execution_count": null,
      "outputs": [
        {
          "output_type": "stream",
          "text": [
            "Tipos dos dados\n"
          ],
          "name": "stdout"
        },
        {
          "output_type": "execute_result",
          "data": {
            "text/plain": [
              "Unnamed: 0        int64\n",
              "domain           object\n",
              "object           object\n",
              "author            int64\n",
              "text             object\n",
              "likes             int64\n",
              "unlikes           int64\n",
              "stars           float64\n",
              "date             object\n",
              "collect_date     object\n",
              "replies         float64\n",
              "favorite        float64\n",
              "want_see        float64\n",
              "recommend       float64\n",
              "see             float64\n",
              "internal_id       int64\n",
              "dtype: object"
            ]
          },
          "metadata": {
            "tags": []
          },
          "execution_count": 11
        }
      ]
    },
    {
      "cell_type": "code",
      "metadata": {
        "colab": {
          "base_uri": "https://localhost:8080/"
        },
        "id": "ID1A5ian7Iux",
        "outputId": "82b0b292-0e89-4a15-c4af-9cb1654cf05f"
      },
      "source": [
        "df_util.info()"
      ],
      "execution_count": null,
      "outputs": [
        {
          "output_type": "stream",
          "text": [
            "<class 'pandas.core.frame.DataFrame'>\n",
            "RangeIndex: 2881589 entries, 0 to 2881588\n",
            "Data columns (total 16 columns):\n",
            " #   Column        Dtype  \n",
            "---  ------        -----  \n",
            " 0   Unnamed: 0    int64  \n",
            " 1   domain        object \n",
            " 2   object        object \n",
            " 3   author        int64  \n",
            " 4   text          object \n",
            " 5   likes         int64  \n",
            " 6   unlikes       int64  \n",
            " 7   stars         float64\n",
            " 8   date          object \n",
            " 9   collect_date  object \n",
            " 10  replies       float64\n",
            " 11  favorite      float64\n",
            " 12  want_see      float64\n",
            " 13  recommend     float64\n",
            " 14  see           float64\n",
            " 15  internal_id   int64  \n",
            "dtypes: float64(6), int64(5), object(5)\n",
            "memory usage: 351.8+ MB\n"
          ],
          "name": "stdout"
        }
      ]
    },
    {
      "cell_type": "markdown",
      "metadata": {
        "id": "ChyLl7bN3lf8"
      },
      "source": [
        "## Escolhendo quais tipos de registros serão utilizados"
      ]
    },
    {
      "cell_type": "code",
      "metadata": {
        "colab": {
          "base_uri": "https://localhost:8080/"
        },
        "id": "ZzQYH6hFX1ac",
        "outputId": "e41ae72c-b434-400a-de49-20fd586fd4a1"
      },
      "source": [
        "# Verificando quais os tipos da feature domain\n",
        "df_util.domain.unique()"
      ],
      "execution_count": null,
      "outputs": [
        {
          "output_type": "execute_result",
          "data": {
            "text/plain": [
              "array(['movies', 'apps'], dtype=object)"
            ]
          },
          "metadata": {
            "tags": []
          },
          "execution_count": 13
        }
      ]
    },
    {
      "cell_type": "code",
      "metadata": {
        "colab": {
          "base_uri": "https://localhost:8080/"
        },
        "id": "kBey34QFX1ac",
        "outputId": "3a0bf3e6-7df7-4083-98b3-bc35b4d0de86"
      },
      "source": [
        "print ('Qtde de movies:', len(df_util[df_util['domain'] == 'movies']))\n",
        "print ('Qtde de apps:',  len(df_util[df_util['domain'] == 'apps']))"
      ],
      "execution_count": null,
      "outputs": [
        {
          "output_type": "stream",
          "text": [
            "Qtde de movies: 1839851\n",
            "Qtde de apps: 1041738\n"
          ],
          "name": "stdout"
        }
      ]
    },
    {
      "cell_type": "code",
      "metadata": {
        "id": "zJT_WLv_X1ad"
      },
      "source": [
        "# Selecionando somente o registros do tipo movies\n",
        "df_movies = df_util[df_util['domain'] == 'movies']"
      ],
      "execution_count": null,
      "outputs": []
    },
    {
      "cell_type": "markdown",
      "metadata": {
        "id": "cW0pRDlyX1ad"
      },
      "source": [
        "## Selecionando as features de interesse e deletando registros"
      ]
    },
    {
      "cell_type": "code",
      "metadata": {
        "colab": {
          "base_uri": "https://localhost:8080/",
          "height": 261
        },
        "id": "wWBIKDi1254H",
        "outputId": "de6bf939-850c-4676-fc76-a7e26ea4bc3e"
      },
      "source": [
        "df_movies.head(3)"
      ],
      "execution_count": null,
      "outputs": [
        {
          "output_type": "execute_result",
          "data": {
            "text/html": [
              "<div>\n",
              "<style scoped>\n",
              "    .dataframe tbody tr th:only-of-type {\n",
              "        vertical-align: middle;\n",
              "    }\n",
              "\n",
              "    .dataframe tbody tr th {\n",
              "        vertical-align: top;\n",
              "    }\n",
              "\n",
              "    .dataframe thead th {\n",
              "        text-align: right;\n",
              "    }\n",
              "</style>\n",
              "<table border=\"1\" class=\"dataframe\">\n",
              "  <thead>\n",
              "    <tr style=\"text-align: right;\">\n",
              "      <th></th>\n",
              "      <th>Unnamed: 0</th>\n",
              "      <th>domain</th>\n",
              "      <th>object</th>\n",
              "      <th>author</th>\n",
              "      <th>text</th>\n",
              "      <th>likes</th>\n",
              "      <th>unlikes</th>\n",
              "      <th>stars</th>\n",
              "      <th>date</th>\n",
              "      <th>collect_date</th>\n",
              "      <th>replies</th>\n",
              "      <th>favorite</th>\n",
              "      <th>want_see</th>\n",
              "      <th>recommend</th>\n",
              "      <th>see</th>\n",
              "      <th>internal_id</th>\n",
              "    </tr>\n",
              "  </thead>\n",
              "  <tbody>\n",
              "    <tr>\n",
              "      <th>0</th>\n",
              "      <td>0</td>\n",
              "      <td>movies</td>\n",
              "      <td>007-cassino-royale-t23</td>\n",
              "      <td>0</td>\n",
              "      <td>Um dos melhores do 007</td>\n",
              "      <td>0</td>\n",
              "      <td>0</td>\n",
              "      <td>3.5</td>\n",
              "      <td>8 anos atrás</td>\n",
              "      <td>20-04-2019 06:20</td>\n",
              "      <td>0.0</td>\n",
              "      <td>0.0</td>\n",
              "      <td>0.0</td>\n",
              "      <td>NaN</td>\n",
              "      <td>1.0</td>\n",
              "      <td>0</td>\n",
              "    </tr>\n",
              "    <tr>\n",
              "      <th>1</th>\n",
              "      <td>1</td>\n",
              "      <td>movies</td>\n",
              "      <td>007-cassino-royale-t23</td>\n",
              "      <td>1</td>\n",
              "      <td>assisti só pela metade..do meio ao fim, o film...</td>\n",
              "      <td>0</td>\n",
              "      <td>0</td>\n",
              "      <td>4.0</td>\n",
              "      <td>8 anos atrás</td>\n",
              "      <td>20-04-2019 06:20</td>\n",
              "      <td>0.0</td>\n",
              "      <td>0.0</td>\n",
              "      <td>0.0</td>\n",
              "      <td>NaN</td>\n",
              "      <td>1.0</td>\n",
              "      <td>1</td>\n",
              "    </tr>\n",
              "    <tr>\n",
              "      <th>2</th>\n",
              "      <td>2</td>\n",
              "      <td>movies</td>\n",
              "      <td>007-cassino-royale-t23</td>\n",
              "      <td>2</td>\n",
              "      <td>foi um dos filmes mais violentos q já vi. mas ...</td>\n",
              "      <td>0</td>\n",
              "      <td>0</td>\n",
              "      <td>4.0</td>\n",
              "      <td>8 anos atrás</td>\n",
              "      <td>20-04-2019 06:20</td>\n",
              "      <td>0.0</td>\n",
              "      <td>0.0</td>\n",
              "      <td>0.0</td>\n",
              "      <td>NaN</td>\n",
              "      <td>1.0</td>\n",
              "      <td>2</td>\n",
              "    </tr>\n",
              "  </tbody>\n",
              "</table>\n",
              "</div>"
            ],
            "text/plain": [
              "   Unnamed: 0  domain                  object  ...  recommend  see  internal_id\n",
              "0           0  movies  007-cassino-royale-t23  ...        NaN  1.0            0\n",
              "1           1  movies  007-cassino-royale-t23  ...        NaN  1.0            1\n",
              "2           2  movies  007-cassino-royale-t23  ...        NaN  1.0            2\n",
              "\n",
              "[3 rows x 16 columns]"
            ]
          },
          "metadata": {
            "tags": []
          },
          "execution_count": 16
        }
      ]
    },
    {
      "cell_type": "code",
      "metadata": {
        "colab": {
          "base_uri": "https://localhost:8080/",
          "height": 142
        },
        "id": "ApPfEhv_X1ae",
        "outputId": "067f214d-e70f-407c-c445-50c397b7e06c"
      },
      "source": [
        "df_movies = df_movies[['object', 'text', 'likes','stars','favorite' ]]\n",
        "df_movies.head(3)"
      ],
      "execution_count": null,
      "outputs": [
        {
          "output_type": "execute_result",
          "data": {
            "text/html": [
              "<div>\n",
              "<style scoped>\n",
              "    .dataframe tbody tr th:only-of-type {\n",
              "        vertical-align: middle;\n",
              "    }\n",
              "\n",
              "    .dataframe tbody tr th {\n",
              "        vertical-align: top;\n",
              "    }\n",
              "\n",
              "    .dataframe thead th {\n",
              "        text-align: right;\n",
              "    }\n",
              "</style>\n",
              "<table border=\"1\" class=\"dataframe\">\n",
              "  <thead>\n",
              "    <tr style=\"text-align: right;\">\n",
              "      <th></th>\n",
              "      <th>object</th>\n",
              "      <th>text</th>\n",
              "      <th>likes</th>\n",
              "      <th>stars</th>\n",
              "      <th>favorite</th>\n",
              "    </tr>\n",
              "  </thead>\n",
              "  <tbody>\n",
              "    <tr>\n",
              "      <th>0</th>\n",
              "      <td>007-cassino-royale-t23</td>\n",
              "      <td>Um dos melhores do 007</td>\n",
              "      <td>0</td>\n",
              "      <td>3.5</td>\n",
              "      <td>0.0</td>\n",
              "    </tr>\n",
              "    <tr>\n",
              "      <th>1</th>\n",
              "      <td>007-cassino-royale-t23</td>\n",
              "      <td>assisti só pela metade..do meio ao fim, o film...</td>\n",
              "      <td>0</td>\n",
              "      <td>4.0</td>\n",
              "      <td>0.0</td>\n",
              "    </tr>\n",
              "    <tr>\n",
              "      <th>2</th>\n",
              "      <td>007-cassino-royale-t23</td>\n",
              "      <td>foi um dos filmes mais violentos q já vi. mas ...</td>\n",
              "      <td>0</td>\n",
              "      <td>4.0</td>\n",
              "      <td>0.0</td>\n",
              "    </tr>\n",
              "  </tbody>\n",
              "</table>\n",
              "</div>"
            ],
            "text/plain": [
              "                   object  ... favorite\n",
              "0  007-cassino-royale-t23  ...      0.0\n",
              "1  007-cassino-royale-t23  ...      0.0\n",
              "2  007-cassino-royale-t23  ...      0.0\n",
              "\n",
              "[3 rows x 5 columns]"
            ]
          },
          "metadata": {
            "tags": []
          },
          "execution_count": 17
        }
      ]
    },
    {
      "cell_type": "code",
      "metadata": {
        "colab": {
          "base_uri": "https://localhost:8080/"
        },
        "id": "nvdYOP957Nvh",
        "outputId": "63ad6db8-86b7-40d8-c6f8-f39f6707dec8"
      },
      "source": [
        "df_movies.info()"
      ],
      "execution_count": null,
      "outputs": [
        {
          "output_type": "stream",
          "text": [
            "<class 'pandas.core.frame.DataFrame'>\n",
            "Int64Index: 1839851 entries, 0 to 1839850\n",
            "Data columns (total 5 columns):\n",
            " #   Column    Dtype  \n",
            "---  ------    -----  \n",
            " 0   object    object \n",
            " 1   text      object \n",
            " 2   likes     int64  \n",
            " 3   stars     float64\n",
            " 4   favorite  float64\n",
            "dtypes: float64(2), int64(1), object(2)\n",
            "memory usage: 84.2+ MB\n"
          ],
          "name": "stdout"
        }
      ]
    },
    {
      "cell_type": "code",
      "metadata": {
        "colab": {
          "base_uri": "https://localhost:8080/"
        },
        "id": "4KQDwIAgX1af",
        "outputId": "d8209474-6d67-4baa-e7e1-34e4912babea"
      },
      "source": [
        "# analisando a qtde de filmes avaliados\n",
        "df_movies['object'].value_counts()"
      ],
      "execution_count": null,
      "outputs": [
        {
          "output_type": "execute_result",
          "data": {
            "text/plain": [
              "cisne-negro-t16349                               7839\n",
              "os-vingadores-t15324                             7059\n",
              "as-vantagens-de-ser-invisivel-t29850             6940\n",
              "batman-o-cavaleiro-das-trevas-ressurge-t19914    6413\n",
              "a-origem-t10852                                  5801\n",
              "                                                 ... \n",
              "e-tanta-paura-t86602                                1\n",
              "winnetou-t35253                                     1\n",
              "misterio-en-las-bermudas-t44740                     1\n",
              "inezita-t266167                                     1\n",
              "call-girl-of-cthulhu-t116064                        1\n",
              "Name: object, Length: 4203, dtype: int64"
            ]
          },
          "metadata": {
            "tags": []
          },
          "execution_count": 19
        }
      ]
    },
    {
      "cell_type": "code",
      "metadata": {
        "colab": {
          "base_uri": "https://localhost:8080/",
          "height": 173
        },
        "id": "mS-SXqwM7yT9",
        "outputId": "8abe5ed8-0253-429d-aef8-1344d4243578"
      },
      "source": [
        "df_movies[['object', 'text']].describe(include='O')"
      ],
      "execution_count": null,
      "outputs": [
        {
          "output_type": "execute_result",
          "data": {
            "text/html": [
              "<div>\n",
              "<style scoped>\n",
              "    .dataframe tbody tr th:only-of-type {\n",
              "        vertical-align: middle;\n",
              "    }\n",
              "\n",
              "    .dataframe tbody tr th {\n",
              "        vertical-align: top;\n",
              "    }\n",
              "\n",
              "    .dataframe thead th {\n",
              "        text-align: right;\n",
              "    }\n",
              "</style>\n",
              "<table border=\"1\" class=\"dataframe\">\n",
              "  <thead>\n",
              "    <tr style=\"text-align: right;\">\n",
              "      <th></th>\n",
              "      <th>object</th>\n",
              "      <th>text</th>\n",
              "    </tr>\n",
              "  </thead>\n",
              "  <tbody>\n",
              "    <tr>\n",
              "      <th>count</th>\n",
              "      <td>1839851</td>\n",
              "      <td>1838895</td>\n",
              "    </tr>\n",
              "    <tr>\n",
              "      <th>unique</th>\n",
              "      <td>4203</td>\n",
              "      <td>1697979</td>\n",
              "    </tr>\n",
              "    <tr>\n",
              "      <th>top</th>\n",
              "      <td>cisne-negro-t16349</td>\n",
              "      <td>Usuário temporariamente bloqueado por infringi...</td>\n",
              "    </tr>\n",
              "    <tr>\n",
              "      <th>freq</th>\n",
              "      <td>7839</td>\n",
              "      <td>6824</td>\n",
              "    </tr>\n",
              "  </tbody>\n",
              "</table>\n",
              "</div>"
            ],
            "text/plain": [
              "                    object                                               text\n",
              "count              1839851                                            1838895\n",
              "unique                4203                                            1697979\n",
              "top     cisne-negro-t16349  Usuário temporariamente bloqueado por infringi...\n",
              "freq                  7839                                               6824"
            ]
          },
          "metadata": {
            "tags": []
          },
          "execution_count": 20
        }
      ]
    },
    {
      "cell_type": "markdown",
      "metadata": {
        "id": "7QLDjXjQX1af"
      },
      "source": [
        "### Verificando e deletando registros nulos"
      ]
    },
    {
      "cell_type": "code",
      "metadata": {
        "colab": {
          "base_uri": "https://localhost:8080/"
        },
        "id": "jwV-0Ry3X1ag",
        "outputId": "441533b3-144f-4208-892f-da7fef2873c4"
      },
      "source": [
        "df_movies.isnull().sum()"
      ],
      "execution_count": null,
      "outputs": [
        {
          "output_type": "execute_result",
          "data": {
            "text/plain": [
              "object        0\n",
              "text        956\n",
              "likes         0\n",
              "stars         0\n",
              "favorite      0\n",
              "dtype: int64"
            ]
          },
          "metadata": {
            "tags": []
          },
          "execution_count": 21
        }
      ]
    },
    {
      "cell_type": "code",
      "metadata": {
        "colab": {
          "base_uri": "https://localhost:8080/"
        },
        "id": "0rVXhpQWX1ag",
        "outputId": "bbdc9412-464c-4675-8c19-af5251d53382"
      },
      "source": [
        "# deletando os registros nulos\n",
        "qtde_anterior_nulos = df_movies.shape[0]\n",
        "df_movies.dropna(subset=['text'], inplace = True)\n",
        "qtde_pos_exclusao_nulos = df_movies.shape[0]\n",
        "\n",
        "print (\"Antes:\", qtde_anterior_nulos, 'Depois:', qtde_pos_exclusao_nulos, 'Diferença:', qtde_anterior_nulos-qtde_pos_exclusao_nulos)"
      ],
      "execution_count": null,
      "outputs": [
        {
          "output_type": "stream",
          "text": [
            "Antes: 1839851 Depois: 1838895 Diferença: 956\n"
          ],
          "name": "stdout"
        }
      ]
    },
    {
      "cell_type": "code",
      "metadata": {
        "colab": {
          "base_uri": "https://localhost:8080/"
        },
        "id": "yxQoPiQBX1ah",
        "outputId": "9a10808b-ccf8-4f28-aa43-1edc3fbb9282"
      },
      "source": [
        "# Validando a exclusão\n",
        "df_movies.isnull().sum()"
      ],
      "execution_count": null,
      "outputs": [
        {
          "output_type": "execute_result",
          "data": {
            "text/plain": [
              "object      0\n",
              "text        0\n",
              "likes       0\n",
              "stars       0\n",
              "favorite    0\n",
              "dtype: int64"
            ]
          },
          "metadata": {
            "tags": []
          },
          "execution_count": 23
        }
      ]
    },
    {
      "cell_type": "code",
      "metadata": {
        "colab": {
          "base_uri": "https://localhost:8080/"
        },
        "id": "hRnRsQ-3Ocgm",
        "outputId": "8ecc5794-b35b-4976-e54b-02eb10e6f8f9"
      },
      "source": [
        "# deletando os registros cujo texto do filme é \"Usuário temporariamente bloqueado por infringir os termos de uso do Filmow.\"\r\n",
        "Qtde_excluir = len(df_movies[df_movies['text'] == \"Usuário temporariamente bloqueado por infringir os termos de uso do Filmow.\"])\r\n",
        "tam_base = df_movies.shape[0]\r\n",
        "df_movies = df_movies[df_movies['text'] != \"Usuário temporariamente bloqueado por infringir os termos de uso do Filmow.\"]\r\n",
        "print ('qtde a ser excluído', Qtde_excluir, \" tamanho_base\", tam_base, \"tamanho final\", len(df_movies) - tam_base)"
      ],
      "execution_count": null,
      "outputs": [
        {
          "output_type": "stream",
          "text": [
            "qtde a ser excluído 6824  tamanho_base 1838895 tamanho final -6824\n"
          ],
          "name": "stdout"
        }
      ]
    },
    {
      "cell_type": "code",
      "metadata": {
        "colab": {
          "base_uri": "https://localhost:8080/",
          "height": 49
        },
        "id": "fc7UIKeNNaAl",
        "outputId": "0948fd21-94f9-4de5-dd27-9cd637abfb70"
      },
      "source": [
        "df_movies[df_movies['text'] == \"Usuário temporariamente bloqueado por infringir os termos de uso do Filmow.\"]"
      ],
      "execution_count": null,
      "outputs": [
        {
          "output_type": "execute_result",
          "data": {
            "text/html": [
              "<div>\n",
              "<style scoped>\n",
              "    .dataframe tbody tr th:only-of-type {\n",
              "        vertical-align: middle;\n",
              "    }\n",
              "\n",
              "    .dataframe tbody tr th {\n",
              "        vertical-align: top;\n",
              "    }\n",
              "\n",
              "    .dataframe thead th {\n",
              "        text-align: right;\n",
              "    }\n",
              "</style>\n",
              "<table border=\"1\" class=\"dataframe\">\n",
              "  <thead>\n",
              "    <tr style=\"text-align: right;\">\n",
              "      <th></th>\n",
              "      <th>object</th>\n",
              "      <th>text</th>\n",
              "      <th>likes</th>\n",
              "      <th>stars</th>\n",
              "      <th>favorite</th>\n",
              "    </tr>\n",
              "  </thead>\n",
              "  <tbody>\n",
              "  </tbody>\n",
              "</table>\n",
              "</div>"
            ],
            "text/plain": [
              "Empty DataFrame\n",
              "Columns: [object, text, likes, stars, favorite]\n",
              "Index: []"
            ]
          },
          "metadata": {
            "tags": []
          },
          "execution_count": 25
        }
      ]
    },
    {
      "cell_type": "code",
      "metadata": {
        "id": "cz3J7KRCX1ai"
      },
      "source": [
        "# resetando os índices\n",
        "df_movies = df_movies.reset_index()"
      ],
      "execution_count": null,
      "outputs": []
    },
    {
      "cell_type": "markdown",
      "metadata": {
        "id": "2Va8pEPP8bf1"
      },
      "source": [
        "## Definindo a classe positiva ou negativa para os filmes"
      ]
    },
    {
      "cell_type": "code",
      "metadata": {
        "colab": {
          "base_uri": "https://localhost:8080/"
        },
        "id": "oRzV9hvRGQXM",
        "outputId": "f572b619-a85b-4766-d271-5ca7446e41aa"
      },
      "source": [
        "df_movies.stars.value_counts()"
      ],
      "execution_count": null,
      "outputs": [
        {
          "output_type": "execute_result",
          "data": {
            "text/plain": [
              "5.0    504666\n",
              "4.0    326102\n",
              "0.0    325519\n",
              "4.5    219413\n",
              "3.5    157984\n",
              "3.0    139309\n",
              "2.5     54663\n",
              "2.0     46247\n",
              "0.5     22286\n",
              "1.0     20137\n",
              "1.5     15745\n",
              "Name: stars, dtype: int64"
            ]
          },
          "metadata": {
            "tags": []
          },
          "execution_count": 27
        }
      ]
    },
    {
      "cell_type": "markdown",
      "metadata": {
        "id": "i7zFlHuYItuz"
      },
      "source": [
        "#### Avaliando os registros"
      ]
    },
    {
      "cell_type": "code",
      "metadata": {
        "colab": {
          "base_uri": "https://localhost:8080/",
          "height": 979
        },
        "id": "g3a4moicFee4",
        "outputId": "189d5582-96c1-4162-8002-070b36beb183"
      },
      "source": [
        "df_movies[['likes',\t'stars',\t'favorite','text']][df_movies['stars'] == 0][0:30]\r\n",
        "# observar que nenhuma destas avaliações foi ruim, porém a star é zero. Estes registros serão descartados"
      ],
      "execution_count": null,
      "outputs": [
        {
          "output_type": "execute_result",
          "data": {
            "text/html": [
              "<div>\n",
              "<style scoped>\n",
              "    .dataframe tbody tr th:only-of-type {\n",
              "        vertical-align: middle;\n",
              "    }\n",
              "\n",
              "    .dataframe tbody tr th {\n",
              "        vertical-align: top;\n",
              "    }\n",
              "\n",
              "    .dataframe thead th {\n",
              "        text-align: right;\n",
              "    }\n",
              "</style>\n",
              "<table border=\"1\" class=\"dataframe\">\n",
              "  <thead>\n",
              "    <tr style=\"text-align: right;\">\n",
              "      <th></th>\n",
              "      <th>likes</th>\n",
              "      <th>stars</th>\n",
              "      <th>favorite</th>\n",
              "      <th>text</th>\n",
              "    </tr>\n",
              "  </thead>\n",
              "  <tbody>\n",
              "    <tr>\n",
              "      <th>3</th>\n",
              "      <td>0</td>\n",
              "      <td>0.0</td>\n",
              "      <td>1.0</td>\n",
              "      <td>Adoroo esse filme!</td>\n",
              "    </tr>\n",
              "    <tr>\n",
              "      <th>8</th>\n",
              "      <td>2</td>\n",
              "      <td>0.0</td>\n",
              "      <td>0.0</td>\n",
              "      <td>Adorei... Nossa esse Daniel Craig é UM HOMEM...</td>\n",
              "    </tr>\n",
              "    <tr>\n",
              "      <th>12</th>\n",
              "      <td>3</td>\n",
              "      <td>0.0</td>\n",
              "      <td>0.0</td>\n",
              "      <td>Na moral,um dos melhores filmes que assisti na...</td>\n",
              "    </tr>\n",
              "    <tr>\n",
              "      <th>23</th>\n",
              "      <td>0</td>\n",
              "      <td>0.0</td>\n",
              "      <td>1.0</td>\n",
              "      <td>You Know My Naaaaaammmeeee! You Know My Naaaaa...</td>\n",
              "    </tr>\n",
              "    <tr>\n",
              "      <th>29</th>\n",
              "      <td>0</td>\n",
              "      <td>0.0</td>\n",
              "      <td>0.0</td>\n",
              "      <td>Quando surgiu Cassino Royale muita gente estra...</td>\n",
              "    </tr>\n",
              "    <tr>\n",
              "      <th>35</th>\n",
              "      <td>0</td>\n",
              "      <td>0.0</td>\n",
              "      <td>0.0</td>\n",
              "      <td>Melhor 007 sem dúvidas</td>\n",
              "    </tr>\n",
              "    <tr>\n",
              "      <th>36</th>\n",
              "      <td>0</td>\n",
              "      <td>0.0</td>\n",
              "      <td>1.0</td>\n",
              "      <td>Sou fã de 007!</td>\n",
              "    </tr>\n",
              "    <tr>\n",
              "      <th>37</th>\n",
              "      <td>0</td>\n",
              "      <td>0.0</td>\n",
              "      <td>1.0</td>\n",
              "      <td>nunca mais que foi o melhor 007. Please guys.....</td>\n",
              "    </tr>\n",
              "    <tr>\n",
              "      <th>41</th>\n",
              "      <td>0</td>\n",
              "      <td>0.0</td>\n",
              "      <td>0.0</td>\n",
              "      <td>Um dos filmes favoritos que eu gosto, adoro es...</td>\n",
              "    </tr>\n",
              "    <tr>\n",
              "      <th>44</th>\n",
              "      <td>0</td>\n",
              "      <td>0.0</td>\n",
              "      <td>0.0</td>\n",
              "      <td>Best 007!</td>\n",
              "    </tr>\n",
              "    <tr>\n",
              "      <th>46</th>\n",
              "      <td>0</td>\n",
              "      <td>0.0</td>\n",
              "      <td>0.0</td>\n",
              "      <td>Um 007 que se suja e se corta? Com certeza não...</td>\n",
              "    </tr>\n",
              "    <tr>\n",
              "      <th>47</th>\n",
              "      <td>0</td>\n",
              "      <td>0.0</td>\n",
              "      <td>0.0</td>\n",
              "      <td>Já teve outros melhores.</td>\n",
              "    </tr>\n",
              "    <tr>\n",
              "      <th>48</th>\n",
              "      <td>0</td>\n",
              "      <td>0.0</td>\n",
              "      <td>0.0</td>\n",
              "      <td>\"Saiba James que se tudo o que sobrasse de voc...</td>\n",
              "    </tr>\n",
              "    <tr>\n",
              "      <th>50</th>\n",
              "      <td>0</td>\n",
              "      <td>0.0</td>\n",
              "      <td>1.0</td>\n",
              "      <td>Eh a nova era de 007, menos \"blá blá blá\" e ma...</td>\n",
              "    </tr>\n",
              "    <tr>\n",
              "      <th>51</th>\n",
              "      <td>1</td>\n",
              "      <td>0.0</td>\n",
              "      <td>0.0</td>\n",
              "      <td>O melhor 007 já feito.</td>\n",
              "    </tr>\n",
              "    <tr>\n",
              "      <th>53</th>\n",
              "      <td>0</td>\n",
              "      <td>0.0</td>\n",
              "      <td>1.0</td>\n",
              "      <td>Um dos melhores filmes do Bond</td>\n",
              "    </tr>\n",
              "    <tr>\n",
              "      <th>54</th>\n",
              "      <td>0</td>\n",
              "      <td>0.0</td>\n",
              "      <td>1.0</td>\n",
              "      <td>Um dos melhores filmes do Bond</td>\n",
              "    </tr>\n",
              "    <tr>\n",
              "      <th>55</th>\n",
              "      <td>0</td>\n",
              "      <td>0.0</td>\n",
              "      <td>1.0</td>\n",
              "      <td>Um dos melhores filmes do Bond</td>\n",
              "    </tr>\n",
              "    <tr>\n",
              "      <th>56</th>\n",
              "      <td>0</td>\n",
              "      <td>0.0</td>\n",
              "      <td>1.0</td>\n",
              "      <td>Um dos melhores filmes do Bond</td>\n",
              "    </tr>\n",
              "    <tr>\n",
              "      <th>62</th>\n",
              "      <td>0</td>\n",
              "      <td>0.0</td>\n",
              "      <td>0.0</td>\n",
              "      <td>o único que me encantou. maravilhoso</td>\n",
              "    </tr>\n",
              "    <tr>\n",
              "      <th>65</th>\n",
              "      <td>0</td>\n",
              "      <td>0.0</td>\n",
              "      <td>1.0</td>\n",
              "      <td>O Melhor 007 ever, ops...foi o único q consegu...</td>\n",
              "    </tr>\n",
              "    <tr>\n",
              "      <th>66</th>\n",
              "      <td>0</td>\n",
              "      <td>0.0</td>\n",
              "      <td>1.0</td>\n",
              "      <td>Grande filme de ação !</td>\n",
              "    </tr>\n",
              "    <tr>\n",
              "      <th>71</th>\n",
              "      <td>0</td>\n",
              "      <td>0.0</td>\n",
              "      <td>1.0</td>\n",
              "      <td>sempre preferi os antigos mas o daniel craig i...</td>\n",
              "    </tr>\n",
              "    <tr>\n",
              "      <th>72</th>\n",
              "      <td>0</td>\n",
              "      <td>0.0</td>\n",
              "      <td>0.0</td>\n",
              "      <td>É Bond...bondver...</td>\n",
              "    </tr>\n",
              "    <tr>\n",
              "      <th>74</th>\n",
              "      <td>0</td>\n",
              "      <td>0.0</td>\n",
              "      <td>1.0</td>\n",
              "      <td>Daniel Craig é o melhor 007. Os filmes estão b...</td>\n",
              "    </tr>\n",
              "    <tr>\n",
              "      <th>76</th>\n",
              "      <td>0</td>\n",
              "      <td>0.0</td>\n",
              "      <td>0.0</td>\n",
              "      <td>Expetacular!</td>\n",
              "    </tr>\n",
              "    <tr>\n",
              "      <th>77</th>\n",
              "      <td>0</td>\n",
              "      <td>0.0</td>\n",
              "      <td>1.0</td>\n",
              "      <td>achei filmão.</td>\n",
              "    </tr>\n",
              "    <tr>\n",
              "      <th>79</th>\n",
              "      <td>1</td>\n",
              "      <td>0.0</td>\n",
              "      <td>0.0</td>\n",
              "      <td>Ameii...</td>\n",
              "    </tr>\n",
              "    <tr>\n",
              "      <th>84</th>\n",
              "      <td>0</td>\n",
              "      <td>0.0</td>\n",
              "      <td>0.0</td>\n",
              "      <td>A mesma cara de Daniel Craig para qualquer fil...</td>\n",
              "    </tr>\n",
              "    <tr>\n",
              "      <th>87</th>\n",
              "      <td>2</td>\n",
              "      <td>0.0</td>\n",
              "      <td>1.0</td>\n",
              "      <td>o mais improvavel dos bonds..o melhor deles......</td>\n",
              "    </tr>\n",
              "  </tbody>\n",
              "</table>\n",
              "</div>"
            ],
            "text/plain": [
              "    likes  stars  favorite                                               text\n",
              "3       0    0.0       1.0                                 Adoroo esse filme!\n",
              "8       2    0.0       0.0    Adorei... Nossa esse Daniel Craig é UM HOMEM...\n",
              "12      3    0.0       0.0  Na moral,um dos melhores filmes que assisti na...\n",
              "23      0    0.0       1.0  You Know My Naaaaaammmeeee! You Know My Naaaaa...\n",
              "29      0    0.0       0.0  Quando surgiu Cassino Royale muita gente estra...\n",
              "35      0    0.0       0.0                             Melhor 007 sem dúvidas\n",
              "36      0    0.0       1.0                                     Sou fã de 007!\n",
              "37      0    0.0       1.0  nunca mais que foi o melhor 007. Please guys.....\n",
              "41      0    0.0       0.0  Um dos filmes favoritos que eu gosto, adoro es...\n",
              "44      0    0.0       0.0                                          Best 007!\n",
              "46      0    0.0       0.0  Um 007 que se suja e se corta? Com certeza não...\n",
              "47      0    0.0       0.0                           Já teve outros melhores.\n",
              "48      0    0.0       0.0  \"Saiba James que se tudo o que sobrasse de voc...\n",
              "50      0    0.0       1.0  Eh a nova era de 007, menos \"blá blá blá\" e ma...\n",
              "51      1    0.0       0.0                             O melhor 007 já feito.\n",
              "53      0    0.0       1.0                     Um dos melhores filmes do Bond\n",
              "54      0    0.0       1.0                     Um dos melhores filmes do Bond\n",
              "55      0    0.0       1.0                     Um dos melhores filmes do Bond\n",
              "56      0    0.0       1.0                     Um dos melhores filmes do Bond\n",
              "62      0    0.0       0.0               o único que me encantou. maravilhoso\n",
              "65      0    0.0       1.0  O Melhor 007 ever, ops...foi o único q consegu...\n",
              "66      0    0.0       1.0                             Grande filme de ação !\n",
              "71      0    0.0       1.0  sempre preferi os antigos mas o daniel craig i...\n",
              "72      0    0.0       0.0                                É Bond...bondver...\n",
              "74      0    0.0       1.0  Daniel Craig é o melhor 007. Os filmes estão b...\n",
              "76      0    0.0       0.0                                       Expetacular!\n",
              "77      0    0.0       1.0                                      achei filmão.\n",
              "79      1    0.0       0.0                                           Ameii...\n",
              "84      0    0.0       0.0  A mesma cara de Daniel Craig para qualquer fil...\n",
              "87      2    0.0       1.0  o mais improvavel dos bonds..o melhor deles......"
            ]
          },
          "metadata": {
            "tags": []
          },
          "execution_count": 28
        }
      ]
    },
    {
      "cell_type": "code",
      "metadata": {
        "colab": {
          "base_uri": "https://localhost:8080/",
          "height": 979
        },
        "id": "QbEbnhglCGd0",
        "outputId": "5dfdf389-bf9c-49ea-c666-b6bcb333f9f5"
      },
      "source": [
        "df_movies[['likes',\t'stars',\t'favorite','text']][df_movies['stars'] == 1][0:30]\r\n",
        "# observar que star = 1 as avaliações são negativas"
      ],
      "execution_count": null,
      "outputs": [
        {
          "output_type": "execute_result",
          "data": {
            "text/html": [
              "<div>\n",
              "<style scoped>\n",
              "    .dataframe tbody tr th:only-of-type {\n",
              "        vertical-align: middle;\n",
              "    }\n",
              "\n",
              "    .dataframe tbody tr th {\n",
              "        vertical-align: top;\n",
              "    }\n",
              "\n",
              "    .dataframe thead th {\n",
              "        text-align: right;\n",
              "    }\n",
              "</style>\n",
              "<table border=\"1\" class=\"dataframe\">\n",
              "  <thead>\n",
              "    <tr style=\"text-align: right;\">\n",
              "      <th></th>\n",
              "      <th>likes</th>\n",
              "      <th>stars</th>\n",
              "      <th>favorite</th>\n",
              "      <th>text</th>\n",
              "    </tr>\n",
              "  </thead>\n",
              "  <tbody>\n",
              "    <tr>\n",
              "      <th>486</th>\n",
              "      <td>0</td>\n",
              "      <td>1.0</td>\n",
              "      <td>0.0</td>\n",
              "      <td>Péssimo!</td>\n",
              "    </tr>\n",
              "    <tr>\n",
              "      <th>1343</th>\n",
              "      <td>1</td>\n",
              "      <td>1.0</td>\n",
              "      <td>0.0</td>\n",
              "      <td>Skyfall pra franquia :/</td>\n",
              "    </tr>\n",
              "    <tr>\n",
              "      <th>1382</th>\n",
              "      <td>0</td>\n",
              "      <td>1.0</td>\n",
              "      <td>0.0</td>\n",
              "      <td>Realmente gosto não se discute. Detestei o fil...</td>\n",
              "    </tr>\n",
              "    <tr>\n",
              "      <th>1634</th>\n",
              "      <td>0</td>\n",
              "      <td>1.0</td>\n",
              "      <td>0.0</td>\n",
              "      <td>Se era pra mudar o personagem 007, que fizesse...</td>\n",
              "    </tr>\n",
              "    <tr>\n",
              "      <th>1897</th>\n",
              "      <td>1</td>\n",
              "      <td>1.0</td>\n",
              "      <td>0.0</td>\n",
              "      <td>Eu nunca tinha visto nenhum filme do 007 e rea...</td>\n",
              "    </tr>\n",
              "    <tr>\n",
              "      <th>2054</th>\n",
              "      <td>0</td>\n",
              "      <td>1.0</td>\n",
              "      <td>0.0</td>\n",
              "      <td>Filme parado, pouco ação e o pior dos 007 com ...</td>\n",
              "    </tr>\n",
              "    <tr>\n",
              "      <th>2216</th>\n",
              "      <td>1</td>\n",
              "      <td>1.0</td>\n",
              "      <td>0.0</td>\n",
              "      <td>O filme só começou realmente, quando Javier Ba...</td>\n",
              "    </tr>\n",
              "    <tr>\n",
              "      <th>2221</th>\n",
              "      <td>0</td>\n",
              "      <td>1.0</td>\n",
              "      <td>0.0</td>\n",
              "      <td>Simplesmente o pior filme de 007! Morri de téd...</td>\n",
              "    </tr>\n",
              "    <tr>\n",
              "      <th>2748</th>\n",
              "      <td>2</td>\n",
              "      <td>1.0</td>\n",
              "      <td>0.0</td>\n",
              "      <td>Dormi, sem zoação. '-'</td>\n",
              "    </tr>\n",
              "    <tr>\n",
              "      <th>2982</th>\n",
              "      <td>2</td>\n",
              "      <td>1.0</td>\n",
              "      <td>0.0</td>\n",
              "      <td>Ser a franquia mais antiga do cinema não é mér...</td>\n",
              "    </tr>\n",
              "    <tr>\n",
              "      <th>3071</th>\n",
              "      <td>0</td>\n",
              "      <td>1.0</td>\n",
              "      <td>0.0</td>\n",
              "      <td>uma estrela pela musica.</td>\n",
              "    </tr>\n",
              "    <tr>\n",
              "      <th>3479</th>\n",
              "      <td>2</td>\n",
              "      <td>1.0</td>\n",
              "      <td>0.0</td>\n",
              "      <td>só uma palavra: péssimo.</td>\n",
              "    </tr>\n",
              "    <tr>\n",
              "      <th>3568</th>\n",
              "      <td>0</td>\n",
              "      <td>1.0</td>\n",
              "      <td>0.0</td>\n",
              "      <td>lixo!</td>\n",
              "    </tr>\n",
              "    <tr>\n",
              "      <th>3633</th>\n",
              "      <td>1</td>\n",
              "      <td>1.0</td>\n",
              "      <td>0.0</td>\n",
              "      <td>Sutileza, discrição, um agente secreto que usa...</td>\n",
              "    </tr>\n",
              "    <tr>\n",
              "      <th>3692</th>\n",
              "      <td>0</td>\n",
              "      <td>1.0</td>\n",
              "      <td>0.0</td>\n",
              "      <td>O pior 007 que já vi, sinceramente.</td>\n",
              "    </tr>\n",
              "    <tr>\n",
              "      <th>3764</th>\n",
              "      <td>3</td>\n",
              "      <td>1.0</td>\n",
              "      <td>0.0</td>\n",
              "      <td>esse diretor tem mal de parkinson ?</td>\n",
              "    </tr>\n",
              "    <tr>\n",
              "      <th>3791</th>\n",
              "      <td>0</td>\n",
              "      <td>1.0</td>\n",
              "      <td>0.0</td>\n",
              "      <td>muito fraco em relação a cassino royale.</td>\n",
              "    </tr>\n",
              "    <tr>\n",
              "      <th>3884</th>\n",
              "      <td>1</td>\n",
              "      <td>1.0</td>\n",
              "      <td>0.0</td>\n",
              "      <td>Então né(...)por onde começar... o Daniel Crai...</td>\n",
              "    </tr>\n",
              "    <tr>\n",
              "      <th>3966</th>\n",
              "      <td>0</td>\n",
              "      <td>1.0</td>\n",
              "      <td>0.0</td>\n",
              "      <td>¬¬</td>\n",
              "    </tr>\n",
              "    <tr>\n",
              "      <th>4066</th>\n",
              "      <td>0</td>\n",
              "      <td>1.0</td>\n",
              "      <td>0.0</td>\n",
              "      <td>Passado negro de Heath Ledger. [2]</td>\n",
              "    </tr>\n",
              "    <tr>\n",
              "      <th>4968</th>\n",
              "      <td>0</td>\n",
              "      <td>1.0</td>\n",
              "      <td>0.0</td>\n",
              "      <td>Esse recado foi MODERADO. Motivo: Infração dos...</td>\n",
              "    </tr>\n",
              "    <tr>\n",
              "      <th>4987</th>\n",
              "      <td>1</td>\n",
              "      <td>1.0</td>\n",
              "      <td>0.0</td>\n",
              "      <td>Assisti na época e uma vez pra nunca mais. Tan...</td>\n",
              "    </tr>\n",
              "    <tr>\n",
              "      <th>5713</th>\n",
              "      <td>1</td>\n",
              "      <td>1.0</td>\n",
              "      <td>0.0</td>\n",
              "      <td>Não me surpreendeu. Achei bem fraco.</td>\n",
              "    </tr>\n",
              "    <tr>\n",
              "      <th>6158</th>\n",
              "      <td>1</td>\n",
              "      <td>1.0</td>\n",
              "      <td>0.0</td>\n",
              "      <td>Adolescente ao extremo, com uma sucessão de cl...</td>\n",
              "    </tr>\n",
              "    <tr>\n",
              "      <th>8297</th>\n",
              "      <td>3</td>\n",
              "      <td>1.0</td>\n",
              "      <td>0.0</td>\n",
              "      <td>a história é fantástica, um filme extremamente...</td>\n",
              "    </tr>\n",
              "    <tr>\n",
              "      <th>8796</th>\n",
              "      <td>2</td>\n",
              "      <td>1.0</td>\n",
              "      <td>0.0</td>\n",
              "      <td>Não gostei.</td>\n",
              "    </tr>\n",
              "    <tr>\n",
              "      <th>10522</th>\n",
              "      <td>0</td>\n",
              "      <td>1.0</td>\n",
              "      <td>0.0</td>\n",
              "      <td>Qual a dificuldade de colocar o nome original?</td>\n",
              "    </tr>\n",
              "    <tr>\n",
              "      <th>10582</th>\n",
              "      <td>0</td>\n",
              "      <td>1.0</td>\n",
              "      <td>0.0</td>\n",
              "      <td>Tudo muito forçado...</td>\n",
              "    </tr>\n",
              "    <tr>\n",
              "      <th>10588</th>\n",
              "      <td>3</td>\n",
              "      <td>1.0</td>\n",
              "      <td>0.0</td>\n",
              "      <td>A melhor cena as minas com carro de luzes de n...</td>\n",
              "    </tr>\n",
              "    <tr>\n",
              "      <th>10613</th>\n",
              "      <td>1</td>\n",
              "      <td>1.0</td>\n",
              "      <td>0.0</td>\n",
              "      <td>Só assisti por causa das máscaras legais mesmo...</td>\n",
              "    </tr>\n",
              "  </tbody>\n",
              "</table>\n",
              "</div>"
            ],
            "text/plain": [
              "       likes  ...                                               text\n",
              "486        0  ...                                           Péssimo!\n",
              "1343       1  ...                            Skyfall pra franquia :/\n",
              "1382       0  ...  Realmente gosto não se discute. Detestei o fil...\n",
              "1634       0  ...  Se era pra mudar o personagem 007, que fizesse...\n",
              "1897       1  ...  Eu nunca tinha visto nenhum filme do 007 e rea...\n",
              "2054       0  ...  Filme parado, pouco ação e o pior dos 007 com ...\n",
              "2216       1  ...  O filme só começou realmente, quando Javier Ba...\n",
              "2221       0  ...  Simplesmente o pior filme de 007! Morri de téd...\n",
              "2748       2  ...                             Dormi, sem zoação. '-'\n",
              "2982       2  ...  Ser a franquia mais antiga do cinema não é mér...\n",
              "3071       0  ...                           uma estrela pela musica.\n",
              "3479       2  ...                           só uma palavra: péssimo.\n",
              "3568       0  ...                                              lixo!\n",
              "3633       1  ...  Sutileza, discrição, um agente secreto que usa...\n",
              "3692       0  ...                O pior 007 que já vi, sinceramente.\n",
              "3764       3  ...                esse diretor tem mal de parkinson ?\n",
              "3791       0  ...           muito fraco em relação a cassino royale.\n",
              "3884       1  ...  Então né(...)por onde começar... o Daniel Crai...\n",
              "3966       0  ...                                                 ¬¬\n",
              "4066       0  ...                 Passado negro de Heath Ledger. [2]\n",
              "4968       0  ...  Esse recado foi MODERADO. Motivo: Infração dos...\n",
              "4987       1  ...  Assisti na época e uma vez pra nunca mais. Tan...\n",
              "5713       1  ...               Não me surpreendeu. Achei bem fraco.\n",
              "6158       1  ...  Adolescente ao extremo, com uma sucessão de cl...\n",
              "8297       3  ...  a história é fantástica, um filme extremamente...\n",
              "8796       2  ...                                        Não gostei.\n",
              "10522      0  ...     Qual a dificuldade de colocar o nome original?\n",
              "10582      0  ...                              Tudo muito forçado...\n",
              "10588      3  ...  A melhor cena as minas com carro de luzes de n...\n",
              "10613      1  ...  Só assisti por causa das máscaras legais mesmo...\n",
              "\n",
              "[30 rows x 4 columns]"
            ]
          },
          "metadata": {
            "tags": []
          },
          "execution_count": 29
        }
      ]
    },
    {
      "cell_type": "code",
      "metadata": {
        "colab": {
          "base_uri": "https://localhost:8080/",
          "height": 979
        },
        "id": "zz9sl1MrGM88",
        "outputId": "a184d0e5-a298-4f88-dfab-0f44414f209a"
      },
      "source": [
        "df_movies[['likes',\t'stars',\t'favorite','text']][df_movies['stars'] == 2][0:30]\r\n",
        "# observar que a maioria das avaliações são negativas"
      ],
      "execution_count": null,
      "outputs": [
        {
          "output_type": "execute_result",
          "data": {
            "text/html": [
              "<div>\n",
              "<style scoped>\n",
              "    .dataframe tbody tr th:only-of-type {\n",
              "        vertical-align: middle;\n",
              "    }\n",
              "\n",
              "    .dataframe tbody tr th {\n",
              "        vertical-align: top;\n",
              "    }\n",
              "\n",
              "    .dataframe thead th {\n",
              "        text-align: right;\n",
              "    }\n",
              "</style>\n",
              "<table border=\"1\" class=\"dataframe\">\n",
              "  <thead>\n",
              "    <tr style=\"text-align: right;\">\n",
              "      <th></th>\n",
              "      <th>likes</th>\n",
              "      <th>stars</th>\n",
              "      <th>favorite</th>\n",
              "      <th>text</th>\n",
              "    </tr>\n",
              "  </thead>\n",
              "  <tbody>\n",
              "    <tr>\n",
              "      <th>122</th>\n",
              "      <td>1</td>\n",
              "      <td>2.0</td>\n",
              "      <td>0.0</td>\n",
              "      <td>Pouca aventura !</td>\n",
              "    </tr>\n",
              "    <tr>\n",
              "      <th>150</th>\n",
              "      <td>0</td>\n",
              "      <td>2.0</td>\n",
              "      <td>0.0</td>\n",
              "      <td>Vejo um pouco do Timothy Dalton nele, um Bond ...</td>\n",
              "    </tr>\n",
              "    <tr>\n",
              "      <th>222</th>\n",
              "      <td>0</td>\n",
              "      <td>2.0</td>\n",
              "      <td>0.0</td>\n",
              "      <td>Muita ficção...quando esta história d salvar o...</td>\n",
              "    </tr>\n",
              "    <tr>\n",
              "      <th>243</th>\n",
              "      <td>2</td>\n",
              "      <td>2.0</td>\n",
              "      <td>0.0</td>\n",
              "      <td>Não consigo engolir esse troglodita como James...</td>\n",
              "    </tr>\n",
              "    <tr>\n",
              "      <th>323</th>\n",
              "      <td>0</td>\n",
              "      <td>2.0</td>\n",
              "      <td>0.0</td>\n",
              "      <td>Ele não tem cara de James Bond.</td>\n",
              "    </tr>\n",
              "    <tr>\n",
              "      <th>413</th>\n",
              "      <td>7</td>\n",
              "      <td>2.0</td>\n",
              "      <td>0.0</td>\n",
              "      <td>Ainda estou apaixonada pela Vesper. O olhar de...</td>\n",
              "    </tr>\n",
              "    <tr>\n",
              "      <th>511</th>\n",
              "      <td>0</td>\n",
              "      <td>2.0</td>\n",
              "      <td>0.0</td>\n",
              "      <td>Duas estrelas pelo Poker.</td>\n",
              "    </tr>\n",
              "    <tr>\n",
              "      <th>514</th>\n",
              "      <td>0</td>\n",
              "      <td>2.0</td>\n",
              "      <td>0.0</td>\n",
              "      <td>Extremamente fantasioso. Aquela mão final do p...</td>\n",
              "    </tr>\n",
              "    <tr>\n",
              "      <th>547</th>\n",
              "      <td>0</td>\n",
              "      <td>2.0</td>\n",
              "      <td>0.0</td>\n",
              "      <td>O craig precia \"Bondear\" um pouco mais... enqt...</td>\n",
              "    </tr>\n",
              "    <tr>\n",
              "      <th>548</th>\n",
              "      <td>0</td>\n",
              "      <td>2.0</td>\n",
              "      <td>0.0</td>\n",
              "      <td>cha-to! enjoei de ver esse \"Bond\" matando \"ger...</td>\n",
              "    </tr>\n",
              "    <tr>\n",
              "      <th>611</th>\n",
              "      <td>1</td>\n",
              "      <td>2.0</td>\n",
              "      <td>0.0</td>\n",
              "      <td>Seria melhor se o ator fosse novo e com mais c...</td>\n",
              "    </tr>\n",
              "    <tr>\n",
              "      <th>627</th>\n",
              "      <td>0</td>\n",
              "      <td>2.0</td>\n",
              "      <td>0.0</td>\n",
              "      <td>Um dos piores filmes, chatice do começo ao fim...</td>\n",
              "    </tr>\n",
              "    <tr>\n",
              "      <th>642</th>\n",
              "      <td>0</td>\n",
              "      <td>2.0</td>\n",
              "      <td>0.0</td>\n",
              "      <td>O craig precisa \"Bondear\" um pouco mais... enq...</td>\n",
              "    </tr>\n",
              "    <tr>\n",
              "      <th>783</th>\n",
              "      <td>0</td>\n",
              "      <td>2.0</td>\n",
              "      <td>0.0</td>\n",
              "      <td>rsrsrsr Daniel Craig amarrado na cadeira...ai,...</td>\n",
              "    </tr>\n",
              "    <tr>\n",
              "      <th>802</th>\n",
              "      <td>0</td>\n",
              "      <td>2.0</td>\n",
              "      <td>0.0</td>\n",
              "      <td>Não gostei.</td>\n",
              "    </tr>\n",
              "    <tr>\n",
              "      <th>1070</th>\n",
              "      <td>1</td>\n",
              "      <td>2.0</td>\n",
              "      <td>0.0</td>\n",
              "      <td>Acho o Daniel Craig um ator muito fraco pra 00...</td>\n",
              "    </tr>\n",
              "    <tr>\n",
              "      <th>1213</th>\n",
              "      <td>0</td>\n",
              "      <td>2.0</td>\n",
              "      <td>0.0</td>\n",
              "      <td>não é o melhor na minha opinião, não curti mui...</td>\n",
              "    </tr>\n",
              "    <tr>\n",
              "      <th>1250</th>\n",
              "      <td>0</td>\n",
              "      <td>2.0</td>\n",
              "      <td>0.0</td>\n",
              "      <td>Não. Sério. É pra medir minha decepção ?</td>\n",
              "    </tr>\n",
              "    <tr>\n",
              "      <th>1351</th>\n",
              "      <td>1</td>\n",
              "      <td>2.0</td>\n",
              "      <td>0.0</td>\n",
              "      <td>Protocolar.</td>\n",
              "    </tr>\n",
              "    <tr>\n",
              "      <th>1452</th>\n",
              "      <td>0</td>\n",
              "      <td>2.0</td>\n",
              "      <td>0.0</td>\n",
              "      <td>Gostei mais da animação e trilha sonorora de a...</td>\n",
              "    </tr>\n",
              "    <tr>\n",
              "      <th>1485</th>\n",
              "      <td>2</td>\n",
              "      <td>2.0</td>\n",
              "      <td>0.0</td>\n",
              "      <td>eu sei que vou ser espancada, mas acho que des...</td>\n",
              "    </tr>\n",
              "    <tr>\n",
              "      <th>1586</th>\n",
              "      <td>0</td>\n",
              "      <td>2.0</td>\n",
              "      <td>0.0</td>\n",
              "      <td>Sou fã de 007, mas esse foi o mais fraco da tr...</td>\n",
              "    </tr>\n",
              "    <tr>\n",
              "      <th>1714</th>\n",
              "      <td>0</td>\n",
              "      <td>2.0</td>\n",
              "      <td>1.0</td>\n",
              "      <td>Interessante!</td>\n",
              "    </tr>\n",
              "    <tr>\n",
              "      <th>1919</th>\n",
              "      <td>0</td>\n",
              "      <td>2.0</td>\n",
              "      <td>0.0</td>\n",
              "      <td>Cliche demais, ate mesmo para James Bond.</td>\n",
              "    </tr>\n",
              "    <tr>\n",
              "      <th>1965</th>\n",
              "      <td>0</td>\n",
              "      <td>2.0</td>\n",
              "      <td>0.0</td>\n",
              "      <td>Falta charme!</td>\n",
              "    </tr>\n",
              "    <tr>\n",
              "      <th>2048</th>\n",
              "      <td>0</td>\n",
              "      <td>2.0</td>\n",
              "      <td>0.0</td>\n",
              "      <td>só vale pela abertura.</td>\n",
              "    </tr>\n",
              "    <tr>\n",
              "      <th>2093</th>\n",
              "      <td>1</td>\n",
              "      <td>2.0</td>\n",
              "      <td>0.0</td>\n",
              "      <td>nah</td>\n",
              "    </tr>\n",
              "    <tr>\n",
              "      <th>2187</th>\n",
              "      <td>0</td>\n",
              "      <td>2.0</td>\n",
              "      <td>0.0</td>\n",
              "      <td>fraco lento muito blabla deu até sono</td>\n",
              "    </tr>\n",
              "    <tr>\n",
              "      <th>2199</th>\n",
              "      <td>3</td>\n",
              "      <td>2.0</td>\n",
              "      <td>0.0</td>\n",
              "      <td>um insulto a saga de 007... Daniel Craig é um ...</td>\n",
              "    </tr>\n",
              "    <tr>\n",
              "      <th>2205</th>\n",
              "      <td>1</td>\n",
              "      <td>2.0</td>\n",
              "      <td>0.0</td>\n",
              "      <td>Bocejante. Os tiros e explosões servem para ac...</td>\n",
              "    </tr>\n",
              "  </tbody>\n",
              "</table>\n",
              "</div>"
            ],
            "text/plain": [
              "      likes  stars  favorite                                               text\n",
              "122       1    2.0       0.0                                   Pouca aventura !\n",
              "150       0    2.0       0.0  Vejo um pouco do Timothy Dalton nele, um Bond ...\n",
              "222       0    2.0       0.0  Muita ficção...quando esta história d salvar o...\n",
              "243       2    2.0       0.0  Não consigo engolir esse troglodita como James...\n",
              "323       0    2.0       0.0                    Ele não tem cara de James Bond.\n",
              "413       7    2.0       0.0  Ainda estou apaixonada pela Vesper. O olhar de...\n",
              "511       0    2.0       0.0                          Duas estrelas pelo Poker.\n",
              "514       0    2.0       0.0  Extremamente fantasioso. Aquela mão final do p...\n",
              "547       0    2.0       0.0  O craig precia \"Bondear\" um pouco mais... enqt...\n",
              "548       0    2.0       0.0  cha-to! enjoei de ver esse \"Bond\" matando \"ger...\n",
              "611       1    2.0       0.0  Seria melhor se o ator fosse novo e com mais c...\n",
              "627       0    2.0       0.0  Um dos piores filmes, chatice do começo ao fim...\n",
              "642       0    2.0       0.0  O craig precisa \"Bondear\" um pouco mais... enq...\n",
              "783       0    2.0       0.0  rsrsrsr Daniel Craig amarrado na cadeira...ai,...\n",
              "802       0    2.0       0.0                                        Não gostei.\n",
              "1070      1    2.0       0.0  Acho o Daniel Craig um ator muito fraco pra 00...\n",
              "1213      0    2.0       0.0  não é o melhor na minha opinião, não curti mui...\n",
              "1250      0    2.0       0.0           Não. Sério. É pra medir minha decepção ?\n",
              "1351      1    2.0       0.0                                        Protocolar.\n",
              "1452      0    2.0       0.0  Gostei mais da animação e trilha sonorora de a...\n",
              "1485      2    2.0       0.0  eu sei que vou ser espancada, mas acho que des...\n",
              "1586      0    2.0       0.0  Sou fã de 007, mas esse foi o mais fraco da tr...\n",
              "1714      0    2.0       1.0                                      Interessante!\n",
              "1919      0    2.0       0.0          Cliche demais, ate mesmo para James Bond.\n",
              "1965      0    2.0       0.0                                      Falta charme!\n",
              "2048      0    2.0       0.0                             só vale pela abertura.\n",
              "2093      1    2.0       0.0                                                nah\n",
              "2187      0    2.0       0.0              fraco lento muito blabla deu até sono\n",
              "2199      3    2.0       0.0  um insulto a saga de 007... Daniel Craig é um ...\n",
              "2205      1    2.0       0.0  Bocejante. Os tiros e explosões servem para ac..."
            ]
          },
          "metadata": {
            "tags": []
          },
          "execution_count": 30
        }
      ]
    },
    {
      "cell_type": "code",
      "metadata": {
        "colab": {
          "base_uri": "https://localhost:8080/",
          "height": 979
        },
        "id": "ibNuazvkKnf8",
        "outputId": "af6d1d3d-6a26-4cf9-a057-df7b2f543776"
      },
      "source": [
        "df_movies[['likes',\t'stars',\t'favorite','text']][df_movies['stars'] == 2.5][0:30]\r\n",
        "# observar que as avaliações estão divididas entre positivo e negativo. Será considerada negativa"
      ],
      "execution_count": null,
      "outputs": [
        {
          "output_type": "execute_result",
          "data": {
            "text/html": [
              "<div>\n",
              "<style scoped>\n",
              "    .dataframe tbody tr th:only-of-type {\n",
              "        vertical-align: middle;\n",
              "    }\n",
              "\n",
              "    .dataframe tbody tr th {\n",
              "        vertical-align: top;\n",
              "    }\n",
              "\n",
              "    .dataframe thead th {\n",
              "        text-align: right;\n",
              "    }\n",
              "</style>\n",
              "<table border=\"1\" class=\"dataframe\">\n",
              "  <thead>\n",
              "    <tr style=\"text-align: right;\">\n",
              "      <th></th>\n",
              "      <th>likes</th>\n",
              "      <th>stars</th>\n",
              "      <th>favorite</th>\n",
              "      <th>text</th>\n",
              "    </tr>\n",
              "  </thead>\n",
              "  <tbody>\n",
              "    <tr>\n",
              "      <th>6</th>\n",
              "      <td>0</td>\n",
              "      <td>2.5</td>\n",
              "      <td>0.0</td>\n",
              "      <td>Nunca pensei que diria isso em um filme 007, m...</td>\n",
              "    </tr>\n",
              "    <tr>\n",
              "      <th>119</th>\n",
              "      <td>0</td>\n",
              "      <td>2.5</td>\n",
              "      <td>0.0</td>\n",
              "      <td>Não sou muito fã desse James Bond \"mamãe-quero...</td>\n",
              "    </tr>\n",
              "    <tr>\n",
              "      <th>404</th>\n",
              "      <td>0</td>\n",
              "      <td>2.5</td>\n",
              "      <td>0.0</td>\n",
              "      <td>Eu não curto nenhum filme do 007. Tá certo que...</td>\n",
              "    </tr>\n",
              "    <tr>\n",
              "      <th>436</th>\n",
              "      <td>0</td>\n",
              "      <td>2.5</td>\n",
              "      <td>0.0</td>\n",
              "      <td>Nada de mais,essa nova safra que se inicia per...</td>\n",
              "    </tr>\n",
              "    <tr>\n",
              "      <th>475</th>\n",
              "      <td>0</td>\n",
              "      <td>2.5</td>\n",
              "      <td>0.0</td>\n",
              "      <td>o pior de todos os 007.</td>\n",
              "    </tr>\n",
              "    <tr>\n",
              "      <th>501</th>\n",
              "      <td>1</td>\n",
              "      <td>2.5</td>\n",
              "      <td>0.0</td>\n",
              "      <td>Achei bem cansativo, até que começa bem com ba...</td>\n",
              "    </tr>\n",
              "    <tr>\n",
              "      <th>669</th>\n",
              "      <td>2</td>\n",
              "      <td>2.5</td>\n",
              "      <td>0.0</td>\n",
              "      <td>Um dos melhores, senão o melhor 007 estrelado ...</td>\n",
              "    </tr>\n",
              "    <tr>\n",
              "      <th>685</th>\n",
              "      <td>0</td>\n",
              "      <td>2.5</td>\n",
              "      <td>0.0</td>\n",
              "      <td>O melhor desse filme e a Alessandra Ambrosio o...</td>\n",
              "    </tr>\n",
              "    <tr>\n",
              "      <th>697</th>\n",
              "      <td>0</td>\n",
              "      <td>2.5</td>\n",
              "      <td>0.0</td>\n",
              "      <td>A ação cansa e já tendo a desgostar de 007. Ma...</td>\n",
              "    </tr>\n",
              "    <tr>\n",
              "      <th>750</th>\n",
              "      <td>1</td>\n",
              "      <td>2.5</td>\n",
              "      <td>0.0</td>\n",
              "      <td>ZZzZzZZ</td>\n",
              "    </tr>\n",
              "    <tr>\n",
              "      <th>829</th>\n",
              "      <td>2</td>\n",
              "      <td>2.5</td>\n",
              "      <td>0.0</td>\n",
              "      <td>Continunado minha maratona 007  aqui estou no ...</td>\n",
              "    </tr>\n",
              "    <tr>\n",
              "      <th>893</th>\n",
              "      <td>0</td>\n",
              "      <td>2.5</td>\n",
              "      <td>0.0</td>\n",
              "      <td>Não consigo entender porque esse filme é tido ...</td>\n",
              "    </tr>\n",
              "    <tr>\n",
              "      <th>901</th>\n",
              "      <td>2</td>\n",
              "      <td>2.5</td>\n",
              "      <td>0.0</td>\n",
              "      <td>Para muitos ''bondmaníacos'' e críticos de cin...</td>\n",
              "    </tr>\n",
              "    <tr>\n",
              "      <th>1061</th>\n",
              "      <td>0</td>\n",
              "      <td>2.5</td>\n",
              "      <td>0.0</td>\n",
              "      <td>tensíssimo.</td>\n",
              "    </tr>\n",
              "    <tr>\n",
              "      <th>1134</th>\n",
              "      <td>0</td>\n",
              "      <td>2.5</td>\n",
              "      <td>0.0</td>\n",
              "      <td>fotografia incrível. Overall é um bom filme ma...</td>\n",
              "    </tr>\n",
              "    <tr>\n",
              "      <th>1136</th>\n",
              "      <td>0</td>\n",
              "      <td>2.5</td>\n",
              "      <td>0.0</td>\n",
              "      <td>e nem parece que é do sam mendes, faltou um po...</td>\n",
              "    </tr>\n",
              "    <tr>\n",
              "      <th>1174</th>\n",
              "      <td>0</td>\n",
              "      <td>2.5</td>\n",
              "      <td>0.0</td>\n",
              "      <td>Bom, filme. Mas continua sem a essência da fra...</td>\n",
              "    </tr>\n",
              "    <tr>\n",
              "      <th>1235</th>\n",
              "      <td>0</td>\n",
              "      <td>2.5</td>\n",
              "      <td>0.0</td>\n",
              "      <td>o filme deve ser bom!!! avaliando com o primei...</td>\n",
              "    </tr>\n",
              "    <tr>\n",
              "      <th>1246</th>\n",
              "      <td>0</td>\n",
              "      <td>2.5</td>\n",
              "      <td>0.0</td>\n",
              "      <td>nao curti, achei bem fraquinho... e o vilão, f...</td>\n",
              "    </tr>\n",
              "    <tr>\n",
              "      <th>1268</th>\n",
              "      <td>1</td>\n",
              "      <td>2.5</td>\n",
              "      <td>0.0</td>\n",
              "      <td>Chato.</td>\n",
              "    </tr>\n",
              "    <tr>\n",
              "      <th>1294</th>\n",
              "      <td>0</td>\n",
              "      <td>2.5</td>\n",
              "      <td>0.0</td>\n",
              "      <td>Bardem com o perfil Coringa foi a salvação do ...</td>\n",
              "    </tr>\n",
              "    <tr>\n",
              "      <th>1408</th>\n",
              "      <td>0</td>\n",
              "      <td>2.5</td>\n",
              "      <td>0.0</td>\n",
              "      <td>Um filme divertido mas  que poderia ter menos ...</td>\n",
              "    </tr>\n",
              "    <tr>\n",
              "      <th>1448</th>\n",
              "      <td>1</td>\n",
              "      <td>2.5</td>\n",
              "      <td>0.0</td>\n",
              "      <td>Sou muito fã de toda a série, mas este foi bas...</td>\n",
              "    </tr>\n",
              "    <tr>\n",
              "      <th>1521</th>\n",
              "      <td>6</td>\n",
              "      <td>2.5</td>\n",
              "      <td>0.0</td>\n",
              "      <td>Tinha tudo para superar Cassino Royale, mas pa...</td>\n",
              "    </tr>\n",
              "    <tr>\n",
              "      <th>1643</th>\n",
              "      <td>1</td>\n",
              "      <td>2.5</td>\n",
              "      <td>0.0</td>\n",
              "      <td>Eu disse que não queria ver, mas como  fui con...</td>\n",
              "    </tr>\n",
              "    <tr>\n",
              "      <th>1678</th>\n",
              "      <td>1</td>\n",
              "      <td>2.5</td>\n",
              "      <td>0.0</td>\n",
              "      <td>Vamos dizer que se tivesse 30 min a menos seri...</td>\n",
              "    </tr>\n",
              "    <tr>\n",
              "      <th>1680</th>\n",
              "      <td>1</td>\n",
              "      <td>2.5</td>\n",
              "      <td>0.0</td>\n",
              "      <td>Fraquinho demais....</td>\n",
              "    </tr>\n",
              "    <tr>\n",
              "      <th>1727</th>\n",
              "      <td>6</td>\n",
              "      <td>2.5</td>\n",
              "      <td>0.0</td>\n",
              "      <td>Javier Bardem fez valer meu ingresso.</td>\n",
              "    </tr>\n",
              "    <tr>\n",
              "      <th>1807</th>\n",
              "      <td>0</td>\n",
              "      <td>2.5</td>\n",
              "      <td>0.0</td>\n",
              "      <td>Gostei do filme! Bastante ação, perseguição e ...</td>\n",
              "    </tr>\n",
              "    <tr>\n",
              "      <th>1879</th>\n",
              "      <td>1</td>\n",
              "      <td>2.5</td>\n",
              "      <td>0.0</td>\n",
              "      <td>Ótimo filme de ação, porém esperava mais. Vilã...</td>\n",
              "    </tr>\n",
              "  </tbody>\n",
              "</table>\n",
              "</div>"
            ],
            "text/plain": [
              "      likes  stars  favorite                                               text\n",
              "6         0    2.5       0.0  Nunca pensei que diria isso em um filme 007, m...\n",
              "119       0    2.5       0.0  Não sou muito fã desse James Bond \"mamãe-quero...\n",
              "404       0    2.5       0.0  Eu não curto nenhum filme do 007. Tá certo que...\n",
              "436       0    2.5       0.0  Nada de mais,essa nova safra que se inicia per...\n",
              "475       0    2.5       0.0                            o pior de todos os 007.\n",
              "501       1    2.5       0.0  Achei bem cansativo, até que começa bem com ba...\n",
              "669       2    2.5       0.0  Um dos melhores, senão o melhor 007 estrelado ...\n",
              "685       0    2.5       0.0  O melhor desse filme e a Alessandra Ambrosio o...\n",
              "697       0    2.5       0.0  A ação cansa e já tendo a desgostar de 007. Ma...\n",
              "750       1    2.5       0.0                                            ZZzZzZZ\n",
              "829       2    2.5       0.0  Continunado minha maratona 007  aqui estou no ...\n",
              "893       0    2.5       0.0  Não consigo entender porque esse filme é tido ...\n",
              "901       2    2.5       0.0  Para muitos ''bondmaníacos'' e críticos de cin...\n",
              "1061      0    2.5       0.0                                        tensíssimo.\n",
              "1134      0    2.5       0.0  fotografia incrível. Overall é um bom filme ma...\n",
              "1136      0    2.5       0.0  e nem parece que é do sam mendes, faltou um po...\n",
              "1174      0    2.5       0.0  Bom, filme. Mas continua sem a essência da fra...\n",
              "1235      0    2.5       0.0  o filme deve ser bom!!! avaliando com o primei...\n",
              "1246      0    2.5       0.0  nao curti, achei bem fraquinho... e o vilão, f...\n",
              "1268      1    2.5       0.0                                             Chato.\n",
              "1294      0    2.5       0.0  Bardem com o perfil Coringa foi a salvação do ...\n",
              "1408      0    2.5       0.0  Um filme divertido mas  que poderia ter menos ...\n",
              "1448      1    2.5       0.0  Sou muito fã de toda a série, mas este foi bas...\n",
              "1521      6    2.5       0.0  Tinha tudo para superar Cassino Royale, mas pa...\n",
              "1643      1    2.5       0.0  Eu disse que não queria ver, mas como  fui con...\n",
              "1678      1    2.5       0.0  Vamos dizer que se tivesse 30 min a menos seri...\n",
              "1680      1    2.5       0.0                               Fraquinho demais....\n",
              "1727      6    2.5       0.0              Javier Bardem fez valer meu ingresso.\n",
              "1807      0    2.5       0.0  Gostei do filme! Bastante ação, perseguição e ...\n",
              "1879      1    2.5       0.0  Ótimo filme de ação, porém esperava mais. Vilã..."
            ]
          },
          "metadata": {
            "tags": []
          },
          "execution_count": 31
        }
      ]
    },
    {
      "cell_type": "code",
      "metadata": {
        "colab": {
          "base_uri": "https://localhost:8080/",
          "height": 137
        },
        "id": "c2BcFof6LZqs",
        "outputId": "3e29a147-e764-4f7e-f86e-1ad6f6b8a636"
      },
      "source": [
        "df_movies['text'][901]\r\n"
      ],
      "execution_count": null,
      "outputs": [
        {
          "output_type": "execute_result",
          "data": {
            "application/vnd.google.colaboratory.intrinsic+json": {
              "type": "string"
            },
            "text/plain": [
              "\"Para muitos ''bondmaníacos'' e críticos de cinema, esse é o melhor de todos os filmes da franquia do agente secreto. Eu não defendo essa opinião, mas, de fato, ''007 Contra Goldfinger'' é um filme marcante e sua trilha sonora é arrebatadora. Por falar em trilha sonora, a belíssima música cantada por Shirley Bassey no crédito de abertura é um dos pontos altos da produção e que mais me deixou apaixonado. No geral, a aventura do agente secreto James Bond dessa vez é bem inverossímil e seus exageros até divertem, mas não passa disso. A atuação de Sean Connery continua competente e seu charme e canastrice dão ao personagem Bond um toque especial e se tornou icônico na lista de atores que já protagonizaram o lendário agente secreto. É muito importante destacar que ''Goldfinger'' foi o primeiro filme que trouxe os elementos que caracterizam a autenticidade dos filmes de James Bond, a começar pelo megalomaníaco vilão Audric Goldfinger, o automóvel cheio de apetrechos e exóticos capangas. Entre outras coisas que serão bem comuns nas outras aventuras da série. A direção de Guy Hamilton é louvável, porém o roteiro do filme se mostra instável a todo momento e seu desfecho soa totalmente capenga. Em resumo, darei duas estrelas pela canção-tema e uma estrela pelo vilão Goldfinger e seu fiel escudeiro Odjob.Nada de tão excepcional que mereça ser considerado o melhor filme da série mas tem sua grande importância por dar o pontapé inicial na verdadeira essência das aventuras de Bond, James Bond...\""
            ]
          },
          "metadata": {
            "tags": []
          },
          "execution_count": 32
        }
      ]
    },
    {
      "cell_type": "code",
      "metadata": {
        "colab": {
          "base_uri": "https://localhost:8080/",
          "height": 979
        },
        "id": "TsL8vu_WG1uM",
        "outputId": "b9ed9933-d294-439d-937c-a241b07dff8f"
      },
      "source": [
        "df_movies[['likes',\t'stars',\t'favorite','text']][df_movies['stars'] == 3][0:30]\r\n",
        "# observar que a maioria das avaliações são positiva"
      ],
      "execution_count": null,
      "outputs": [
        {
          "output_type": "execute_result",
          "data": {
            "text/html": [
              "<div>\n",
              "<style scoped>\n",
              "    .dataframe tbody tr th:only-of-type {\n",
              "        vertical-align: middle;\n",
              "    }\n",
              "\n",
              "    .dataframe tbody tr th {\n",
              "        vertical-align: top;\n",
              "    }\n",
              "\n",
              "    .dataframe thead th {\n",
              "        text-align: right;\n",
              "    }\n",
              "</style>\n",
              "<table border=\"1\" class=\"dataframe\">\n",
              "  <thead>\n",
              "    <tr style=\"text-align: right;\">\n",
              "      <th></th>\n",
              "      <th>likes</th>\n",
              "      <th>stars</th>\n",
              "      <th>favorite</th>\n",
              "      <th>text</th>\n",
              "    </tr>\n",
              "  </thead>\n",
              "  <tbody>\n",
              "    <tr>\n",
              "      <th>9</th>\n",
              "      <td>0</td>\n",
              "      <td>3.0</td>\n",
              "      <td>0.0</td>\n",
              "      <td>Divertido, mas achei no inicio um pouco entedi...</td>\n",
              "    </tr>\n",
              "    <tr>\n",
              "      <th>19</th>\n",
              "      <td>0</td>\n",
              "      <td>3.0</td>\n",
              "      <td>0.0</td>\n",
              "      <td>Dois acertos: Martin Campbell na direção e Dan...</td>\n",
              "    </tr>\n",
              "    <tr>\n",
              "      <th>21</th>\n",
              "      <td>0</td>\n",
              "      <td>3.0</td>\n",
              "      <td>0.0</td>\n",
              "      <td>Ele não tem cara de Bond...</td>\n",
              "    </tr>\n",
              "    <tr>\n",
              "      <th>22</th>\n",
              "      <td>0</td>\n",
              "      <td>3.0</td>\n",
              "      <td>0.0</td>\n",
              "      <td>Ele não tem cara de Bond...</td>\n",
              "    </tr>\n",
              "    <tr>\n",
              "      <th>26</th>\n",
              "      <td>0</td>\n",
              "      <td>3.0</td>\n",
              "      <td>0.0</td>\n",
              "      <td>Uma boa volta de 007 aos cinemas. Daniel Craig...</td>\n",
              "    </tr>\n",
              "    <tr>\n",
              "      <th>33</th>\n",
              "      <td>0</td>\n",
              "      <td>3.0</td>\n",
              "      <td>0.0</td>\n",
              "      <td>massa!!!!!</td>\n",
              "    </tr>\n",
              "    <tr>\n",
              "      <th>52</th>\n",
              "      <td>0</td>\n",
              "      <td>3.0</td>\n",
              "      <td>0.0</td>\n",
              "      <td>Aprendi a jogar poker depois que vi esse filme...</td>\n",
              "    </tr>\n",
              "    <tr>\n",
              "      <th>67</th>\n",
              "      <td>0</td>\n",
              "      <td>3.0</td>\n",
              "      <td>0.0</td>\n",
              "      <td>Um dos melhores da serie. Um lado mais \"dark\" ...</td>\n",
              "    </tr>\n",
              "    <tr>\n",
              "      <th>73</th>\n",
              "      <td>0</td>\n",
              "      <td>3.0</td>\n",
              "      <td>0.0</td>\n",
              "      <td>Daniel Craig!</td>\n",
              "    </tr>\n",
              "    <tr>\n",
              "      <th>75</th>\n",
              "      <td>0</td>\n",
              "      <td>3.0</td>\n",
              "      <td>0.0</td>\n",
              "      <td>Olha, eu gostei bastante, não estava muito a f...</td>\n",
              "    </tr>\n",
              "    <tr>\n",
              "      <th>86</th>\n",
              "      <td>0</td>\n",
              "      <td>3.0</td>\n",
              "      <td>0.0</td>\n",
              "      <td>Bom passatempo, ação com charme e beleza.</td>\n",
              "    </tr>\n",
              "    <tr>\n",
              "      <th>94</th>\n",
              "      <td>0</td>\n",
              "      <td>3.0</td>\n",
              "      <td>0.0</td>\n",
              "      <td>Curti a Vesper</td>\n",
              "    </tr>\n",
              "    <tr>\n",
              "      <th>106</th>\n",
              "      <td>0</td>\n",
              "      <td>3.0</td>\n",
              "      <td>0.0</td>\n",
              "      <td>Acho que foi o melhor dos filmes de 007 que eu...</td>\n",
              "    </tr>\n",
              "    <tr>\n",
              "      <th>113</th>\n",
              "      <td>0</td>\n",
              "      <td>3.0</td>\n",
              "      <td>0.0</td>\n",
              "      <td>Dá para engolir.</td>\n",
              "    </tr>\n",
              "    <tr>\n",
              "      <th>140</th>\n",
              "      <td>0</td>\n",
              "      <td>3.0</td>\n",
              "      <td>0.0</td>\n",
              "      <td>\"Não sou muito fã desse James Bond \"mamãe-quer...</td>\n",
              "    </tr>\n",
              "    <tr>\n",
              "      <th>167</th>\n",
              "      <td>1</td>\n",
              "      <td>3.0</td>\n",
              "      <td>0.0</td>\n",
              "      <td>\"Cassino Royale\" é tudo que você pode esperar ...</td>\n",
              "    </tr>\n",
              "    <tr>\n",
              "      <th>174</th>\n",
              "      <td>0</td>\n",
              "      <td>3.0</td>\n",
              "      <td>0.0</td>\n",
              "      <td>Um bom filme do 007, nada mais</td>\n",
              "    </tr>\n",
              "    <tr>\n",
              "      <th>192</th>\n",
              "      <td>0</td>\n",
              "      <td>3.0</td>\n",
              "      <td>0.0</td>\n",
              "      <td>3 Estrelas só por que me impressionou muito o ...</td>\n",
              "    </tr>\n",
              "    <tr>\n",
              "      <th>246</th>\n",
              "      <td>1</td>\n",
              "      <td>3.0</td>\n",
              "      <td>0.0</td>\n",
              "      <td>O pior James Bond da Série '-', naum é sexy co...</td>\n",
              "    </tr>\n",
              "    <tr>\n",
              "      <th>275</th>\n",
              "      <td>0</td>\n",
              "      <td>3.0</td>\n",
              "      <td>0.0</td>\n",
              "      <td>Não sou fã da franquia 007, a mentira é muito ...</td>\n",
              "    </tr>\n",
              "    <tr>\n",
              "      <th>333</th>\n",
              "      <td>0</td>\n",
              "      <td>3.0</td>\n",
              "      <td>0.0</td>\n",
              "      <td>Um bom filme de ação, mas sou fã uber nerd dem...</td>\n",
              "    </tr>\n",
              "    <tr>\n",
              "      <th>345</th>\n",
              "      <td>0</td>\n",
              "      <td>3.0</td>\n",
              "      <td>0.0</td>\n",
              "      <td>O filme tem vários aspectos de ser muito bom,a...</td>\n",
              "    </tr>\n",
              "    <tr>\n",
              "      <th>355</th>\n",
              "      <td>0</td>\n",
              "      <td>3.0</td>\n",
              "      <td>0.0</td>\n",
              "      <td>Até metade do filme ele estava muito bom. Pert...</td>\n",
              "    </tr>\n",
              "    <tr>\n",
              "      <th>406</th>\n",
              "      <td>0</td>\n",
              "      <td>3.0</td>\n",
              "      <td>0.0</td>\n",
              "      <td>Esse recado foi MODERADO. Motivo: Infração dos...</td>\n",
              "    </tr>\n",
              "    <tr>\n",
              "      <th>414</th>\n",
              "      <td>2</td>\n",
              "      <td>3.0</td>\n",
              "      <td>0.0</td>\n",
              "      <td>Eva Green dando um show. Já o Craig, faça-me u...</td>\n",
              "    </tr>\n",
              "    <tr>\n",
              "      <th>427</th>\n",
              "      <td>1</td>\n",
              "      <td>3.0</td>\n",
              "      <td>0.0</td>\n",
              "      <td>Mediano, como a maioria dos 007</td>\n",
              "    </tr>\n",
              "    <tr>\n",
              "      <th>428</th>\n",
              "      <td>0</td>\n",
              "      <td>3.0</td>\n",
              "      <td>0.0</td>\n",
              "      <td>Viceral. (Eva Green é uma coisa :D)</td>\n",
              "    </tr>\n",
              "    <tr>\n",
              "      <th>429</th>\n",
              "      <td>0</td>\n",
              "      <td>3.0</td>\n",
              "      <td>0.0</td>\n",
              "      <td>Bom.</td>\n",
              "    </tr>\n",
              "    <tr>\n",
              "      <th>433</th>\n",
              "      <td>0</td>\n",
              "      <td>3.0</td>\n",
              "      <td>0.0</td>\n",
              "      <td>Os créditos de boa atuação devem ser dados par...</td>\n",
              "    </tr>\n",
              "    <tr>\n",
              "      <th>441</th>\n",
              "      <td>0</td>\n",
              "      <td>3.0</td>\n",
              "      <td>0.0</td>\n",
              "      <td>É bom, mas não se compara aos clássicos do Jam...</td>\n",
              "    </tr>\n",
              "  </tbody>\n",
              "</table>\n",
              "</div>"
            ],
            "text/plain": [
              "     likes  stars  favorite                                               text\n",
              "9        0    3.0       0.0  Divertido, mas achei no inicio um pouco entedi...\n",
              "19       0    3.0       0.0  Dois acertos: Martin Campbell na direção e Dan...\n",
              "21       0    3.0       0.0                        Ele não tem cara de Bond...\n",
              "22       0    3.0       0.0                        Ele não tem cara de Bond...\n",
              "26       0    3.0       0.0  Uma boa volta de 007 aos cinemas. Daniel Craig...\n",
              "33       0    3.0       0.0                                         massa!!!!!\n",
              "52       0    3.0       0.0  Aprendi a jogar poker depois que vi esse filme...\n",
              "67       0    3.0       0.0  Um dos melhores da serie. Um lado mais \"dark\" ...\n",
              "73       0    3.0       0.0                                      Daniel Craig!\n",
              "75       0    3.0       0.0  Olha, eu gostei bastante, não estava muito a f...\n",
              "86       0    3.0       0.0          Bom passatempo, ação com charme e beleza.\n",
              "94       0    3.0       0.0                                     Curti a Vesper\n",
              "106      0    3.0       0.0  Acho que foi o melhor dos filmes de 007 que eu...\n",
              "113      0    3.0       0.0                                   Dá para engolir.\n",
              "140      0    3.0       0.0  \"Não sou muito fã desse James Bond \"mamãe-quer...\n",
              "167      1    3.0       0.0  \"Cassino Royale\" é tudo que você pode esperar ...\n",
              "174      0    3.0       0.0                     Um bom filme do 007, nada mais\n",
              "192      0    3.0       0.0  3 Estrelas só por que me impressionou muito o ...\n",
              "246      1    3.0       0.0  O pior James Bond da Série '-', naum é sexy co...\n",
              "275      0    3.0       0.0  Não sou fã da franquia 007, a mentira é muito ...\n",
              "333      0    3.0       0.0  Um bom filme de ação, mas sou fã uber nerd dem...\n",
              "345      0    3.0       0.0  O filme tem vários aspectos de ser muito bom,a...\n",
              "355      0    3.0       0.0  Até metade do filme ele estava muito bom. Pert...\n",
              "406      0    3.0       0.0  Esse recado foi MODERADO. Motivo: Infração dos...\n",
              "414      2    3.0       0.0  Eva Green dando um show. Já o Craig, faça-me u...\n",
              "427      1    3.0       0.0                    Mediano, como a maioria dos 007\n",
              "428      0    3.0       0.0                Viceral. (Eva Green é uma coisa :D)\n",
              "429      0    3.0       0.0                                               Bom.\n",
              "433      0    3.0       0.0  Os créditos de boa atuação devem ser dados par...\n",
              "441      0    3.0       0.0  É bom, mas não se compara aos clássicos do Jam..."
            ]
          },
          "metadata": {
            "tags": []
          },
          "execution_count": 33
        }
      ]
    },
    {
      "cell_type": "code",
      "metadata": {
        "colab": {
          "base_uri": "https://localhost:8080/",
          "height": 979
        },
        "id": "25bGe1YrHNDy",
        "outputId": "df5fc4bc-b7f7-4f1b-c2ba-98a818dd53dc"
      },
      "source": [
        "df_movies[['likes',\t'stars',\t'favorite','text']][df_movies['stars'] == 4][0:30]\r\n",
        "# observar que a maioria das avaliações são positiva"
      ],
      "execution_count": null,
      "outputs": [
        {
          "output_type": "execute_result",
          "data": {
            "text/html": [
              "<div>\n",
              "<style scoped>\n",
              "    .dataframe tbody tr th:only-of-type {\n",
              "        vertical-align: middle;\n",
              "    }\n",
              "\n",
              "    .dataframe tbody tr th {\n",
              "        vertical-align: top;\n",
              "    }\n",
              "\n",
              "    .dataframe thead th {\n",
              "        text-align: right;\n",
              "    }\n",
              "</style>\n",
              "<table border=\"1\" class=\"dataframe\">\n",
              "  <thead>\n",
              "    <tr style=\"text-align: right;\">\n",
              "      <th></th>\n",
              "      <th>likes</th>\n",
              "      <th>stars</th>\n",
              "      <th>favorite</th>\n",
              "      <th>text</th>\n",
              "    </tr>\n",
              "  </thead>\n",
              "  <tbody>\n",
              "    <tr>\n",
              "      <th>1</th>\n",
              "      <td>0</td>\n",
              "      <td>4.0</td>\n",
              "      <td>0.0</td>\n",
              "      <td>assisti só pela metade..do meio ao fim, o film...</td>\n",
              "    </tr>\n",
              "    <tr>\n",
              "      <th>2</th>\n",
              "      <td>0</td>\n",
              "      <td>4.0</td>\n",
              "      <td>0.0</td>\n",
              "      <td>foi um dos filmes mais violentos q já vi. mas ...</td>\n",
              "    </tr>\n",
              "    <tr>\n",
              "      <th>4</th>\n",
              "      <td>1</td>\n",
              "      <td>4.0</td>\n",
              "      <td>0.0</td>\n",
              "      <td>O Daniel Crieg tem carisma zero como 007...</td>\n",
              "    </tr>\n",
              "    <tr>\n",
              "      <th>5</th>\n",
              "      <td>0</td>\n",
              "      <td>4.0</td>\n",
              "      <td>0.0</td>\n",
              "      <td>um dos melhores de 007</td>\n",
              "    </tr>\n",
              "    <tr>\n",
              "      <th>10</th>\n",
              "      <td>1</td>\n",
              "      <td>4.0</td>\n",
              "      <td>0.0</td>\n",
              "      <td>Absolutamente surpreendente! Temia que fosse d...</td>\n",
              "    </tr>\n",
              "    <tr>\n",
              "      <th>11</th>\n",
              "      <td>0</td>\n",
              "      <td>4.0</td>\n",
              "      <td>0.0</td>\n",
              "      <td>Nota 8,0. Ao contrario de muitos Daniel Craig ...</td>\n",
              "    </tr>\n",
              "    <tr>\n",
              "      <th>17</th>\n",
              "      <td>0</td>\n",
              "      <td>4.0</td>\n",
              "      <td>0.0</td>\n",
              "      <td>O filme, como blockbuster, é ótimo e mudar o a...</td>\n",
              "    </tr>\n",
              "    <tr>\n",
              "      <th>28</th>\n",
              "      <td>2</td>\n",
              "      <td>4.0</td>\n",
              "      <td>0.0</td>\n",
              "      <td>O Pierce Brosman pra mim não tinha a cara do 0...</td>\n",
              "    </tr>\n",
              "    <tr>\n",
              "      <th>32</th>\n",
              "      <td>0</td>\n",
              "      <td>4.0</td>\n",
              "      <td>1.0</td>\n",
              "      <td>Assisti com um pé atrás na primeira vez, nunca...</td>\n",
              "    </tr>\n",
              "    <tr>\n",
              "      <th>39</th>\n",
              "      <td>0</td>\n",
              "      <td>4.0</td>\n",
              "      <td>0.0</td>\n",
              "      <td>bom filme de ação!!</td>\n",
              "    </tr>\n",
              "    <tr>\n",
              "      <th>42</th>\n",
              "      <td>0</td>\n",
              "      <td>4.0</td>\n",
              "      <td>0.0</td>\n",
              "      <td>Legal.</td>\n",
              "    </tr>\n",
              "    <tr>\n",
              "      <th>70</th>\n",
              "      <td>0</td>\n",
              "      <td>4.0</td>\n",
              "      <td>0.0</td>\n",
              "      <td>Pra  min não é o melhor , mas é 007 então da p...</td>\n",
              "    </tr>\n",
              "    <tr>\n",
              "      <th>85</th>\n",
              "      <td>0</td>\n",
              "      <td>4.0</td>\n",
              "      <td>0.0</td>\n",
              "      <td>gostei muito.</td>\n",
              "    </tr>\n",
              "    <tr>\n",
              "      <th>98</th>\n",
              "      <td>0</td>\n",
              "      <td>4.0</td>\n",
              "      <td>0.0</td>\n",
              "      <td>Eu sou fan dos filmes de James Bond e apesar d...</td>\n",
              "    </tr>\n",
              "    <tr>\n",
              "      <th>105</th>\n",
              "      <td>0</td>\n",
              "      <td>4.0</td>\n",
              "      <td>0.0</td>\n",
              "      <td>Craig se revelou um ótimo 007. Gostei muito do...</td>\n",
              "    </tr>\n",
              "    <tr>\n",
              "      <th>107</th>\n",
              "      <td>0</td>\n",
              "      <td>4.0</td>\n",
              "      <td>1.0</td>\n",
              "      <td>Excelente, mais um marco na historia do 007.</td>\n",
              "    </tr>\n",
              "    <tr>\n",
              "      <th>114</th>\n",
              "      <td>0</td>\n",
              "      <td>4.0</td>\n",
              "      <td>0.0</td>\n",
              "      <td>E eu gostava de 'Quebrando a banca'...Muito bom!</td>\n",
              "    </tr>\n",
              "    <tr>\n",
              "      <th>121</th>\n",
              "      <td>0</td>\n",
              "      <td>4.0</td>\n",
              "      <td>0.0</td>\n",
              "      <td>Eu nunca gostei da franquia 007, vi esse filme...</td>\n",
              "    </tr>\n",
              "    <tr>\n",
              "      <th>128</th>\n",
              "      <td>2</td>\n",
              "      <td>4.0</td>\n",
              "      <td>0.0</td>\n",
              "      <td>Em geral, não gosto de filmes de 007, apenas o...</td>\n",
              "    </tr>\n",
              "    <tr>\n",
              "      <th>130</th>\n",
              "      <td>1</td>\n",
              "      <td>4.0</td>\n",
              "      <td>0.0</td>\n",
              "      <td>Nunca fui fã de Bond, mas esse filme ficou mui...</td>\n",
              "    </tr>\n",
              "    <tr>\n",
              "      <th>133</th>\n",
              "      <td>0</td>\n",
              "      <td>4.0</td>\n",
              "      <td>0.0</td>\n",
              "      <td>O que mais me fez gostar foram as partidas de ...</td>\n",
              "    </tr>\n",
              "    <tr>\n",
              "      <th>135</th>\n",
              "      <td>1</td>\n",
              "      <td>4.0</td>\n",
              "      <td>0.0</td>\n",
              "      <td>Muiiiiito maneiro *-*é 007 ne gente? vamos com...</td>\n",
              "    </tr>\n",
              "    <tr>\n",
              "      <th>137</th>\n",
              "      <td>0</td>\n",
              "      <td>4.0</td>\n",
              "      <td>0.0</td>\n",
              "      <td>Esse eu vi no cinema, ótima ação, trama bem co...</td>\n",
              "    </tr>\n",
              "    <tr>\n",
              "      <th>141</th>\n",
              "      <td>1</td>\n",
              "      <td>4.0</td>\n",
              "      <td>0.0</td>\n",
              "      <td>Um dos melhores que já vi.</td>\n",
              "    </tr>\n",
              "    <tr>\n",
              "      <th>145</th>\n",
              "      <td>1</td>\n",
              "      <td>4.0</td>\n",
              "      <td>0.0</td>\n",
              "      <td>Juro que eu queria fazer um texto e colocar to...</td>\n",
              "    </tr>\n",
              "    <tr>\n",
              "      <th>148</th>\n",
              "      <td>0</td>\n",
              "      <td>4.0</td>\n",
              "      <td>0.0</td>\n",
              "      <td>Bem bom.Interessante.</td>\n",
              "    </tr>\n",
              "    <tr>\n",
              "      <th>151</th>\n",
              "      <td>0</td>\n",
              "      <td>4.0</td>\n",
              "      <td>0.0</td>\n",
              "      <td>Achei ótimo, mas o Daniel Craig infelizmente n...</td>\n",
              "    </tr>\n",
              "    <tr>\n",
              "      <th>154</th>\n",
              "      <td>4</td>\n",
              "      <td>4.0</td>\n",
              "      <td>1.0</td>\n",
              "      <td>o fim da era 'bond à la tony stark'. e ainda d...</td>\n",
              "    </tr>\n",
              "    <tr>\n",
              "      <th>160</th>\n",
              "      <td>2</td>\n",
              "      <td>4.0</td>\n",
              "      <td>0.0</td>\n",
              "      <td>Simplesmente Fod...... Ação do começo ao fim, ...</td>\n",
              "    </tr>\n",
              "    <tr>\n",
              "      <th>166</th>\n",
              "      <td>0</td>\n",
              "      <td>4.0</td>\n",
              "      <td>0.0</td>\n",
              "      <td>Muito legal</td>\n",
              "    </tr>\n",
              "  </tbody>\n",
              "</table>\n",
              "</div>"
            ],
            "text/plain": [
              "     likes  stars  favorite                                               text\n",
              "1        0    4.0       0.0  assisti só pela metade..do meio ao fim, o film...\n",
              "2        0    4.0       0.0  foi um dos filmes mais violentos q já vi. mas ...\n",
              "4        1    4.0       0.0        O Daniel Crieg tem carisma zero como 007...\n",
              "5        0    4.0       0.0                             um dos melhores de 007\n",
              "10       1    4.0       0.0  Absolutamente surpreendente! Temia que fosse d...\n",
              "11       0    4.0       0.0  Nota 8,0. Ao contrario de muitos Daniel Craig ...\n",
              "17       0    4.0       0.0  O filme, como blockbuster, é ótimo e mudar o a...\n",
              "28       2    4.0       0.0  O Pierce Brosman pra mim não tinha a cara do 0...\n",
              "32       0    4.0       1.0  Assisti com um pé atrás na primeira vez, nunca...\n",
              "39       0    4.0       0.0                                bom filme de ação!!\n",
              "42       0    4.0       0.0                                             Legal.\n",
              "70       0    4.0       0.0  Pra  min não é o melhor , mas é 007 então da p...\n",
              "85       0    4.0       0.0                                      gostei muito.\n",
              "98       0    4.0       0.0  Eu sou fan dos filmes de James Bond e apesar d...\n",
              "105      0    4.0       0.0  Craig se revelou um ótimo 007. Gostei muito do...\n",
              "107      0    4.0       1.0       Excelente, mais um marco na historia do 007.\n",
              "114      0    4.0       0.0   E eu gostava de 'Quebrando a banca'...Muito bom!\n",
              "121      0    4.0       0.0  Eu nunca gostei da franquia 007, vi esse filme...\n",
              "128      2    4.0       0.0  Em geral, não gosto de filmes de 007, apenas o...\n",
              "130      1    4.0       0.0  Nunca fui fã de Bond, mas esse filme ficou mui...\n",
              "133      0    4.0       0.0  O que mais me fez gostar foram as partidas de ...\n",
              "135      1    4.0       0.0  Muiiiiito maneiro *-*é 007 ne gente? vamos com...\n",
              "137      0    4.0       0.0  Esse eu vi no cinema, ótima ação, trama bem co...\n",
              "141      1    4.0       0.0                         Um dos melhores que já vi.\n",
              "145      1    4.0       0.0  Juro que eu queria fazer um texto e colocar to...\n",
              "148      0    4.0       0.0                              Bem bom.Interessante.\n",
              "151      0    4.0       0.0  Achei ótimo, mas o Daniel Craig infelizmente n...\n",
              "154      4    4.0       1.0  o fim da era 'bond à la tony stark'. e ainda d...\n",
              "160      2    4.0       0.0  Simplesmente Fod...... Ação do começo ao fim, ...\n",
              "166      0    4.0       0.0                                        Muito legal"
            ]
          },
          "metadata": {
            "tags": []
          },
          "execution_count": 34
        }
      ]
    },
    {
      "cell_type": "code",
      "metadata": {
        "colab": {
          "base_uri": "https://localhost:8080/",
          "height": 979
        },
        "id": "r8902NhHHhML",
        "outputId": "ac2aacf1-27a9-4802-ca4f-b628126e92ff"
      },
      "source": [
        "df_movies[['likes',\t'stars',\t'favorite','text']][df_movies['stars'] == 5][0:30]\r\n",
        "# observar que todas das avaliações são positiva"
      ],
      "execution_count": null,
      "outputs": [
        {
          "output_type": "execute_result",
          "data": {
            "text/html": [
              "<div>\n",
              "<style scoped>\n",
              "    .dataframe tbody tr th:only-of-type {\n",
              "        vertical-align: middle;\n",
              "    }\n",
              "\n",
              "    .dataframe tbody tr th {\n",
              "        vertical-align: top;\n",
              "    }\n",
              "\n",
              "    .dataframe thead th {\n",
              "        text-align: right;\n",
              "    }\n",
              "</style>\n",
              "<table border=\"1\" class=\"dataframe\">\n",
              "  <thead>\n",
              "    <tr style=\"text-align: right;\">\n",
              "      <th></th>\n",
              "      <th>likes</th>\n",
              "      <th>stars</th>\n",
              "      <th>favorite</th>\n",
              "      <th>text</th>\n",
              "    </tr>\n",
              "  </thead>\n",
              "  <tbody>\n",
              "    <tr>\n",
              "      <th>7</th>\n",
              "      <td>0</td>\n",
              "      <td>5.0</td>\n",
              "      <td>0.0</td>\n",
              "      <td>preciso rever</td>\n",
              "    </tr>\n",
              "    <tr>\n",
              "      <th>13</th>\n",
              "      <td>2</td>\n",
              "      <td>5.0</td>\n",
              "      <td>0.0</td>\n",
              "      <td>mto melhor 007 q o pierce ..#prontofalei</td>\n",
              "    </tr>\n",
              "    <tr>\n",
              "      <th>15</th>\n",
              "      <td>0</td>\n",
              "      <td>5.0</td>\n",
              "      <td>1.0</td>\n",
              "      <td>Disse que ia sabotar este (não ver no cine), p...</td>\n",
              "    </tr>\n",
              "    <tr>\n",
              "      <th>16</th>\n",
              "      <td>0</td>\n",
              "      <td>5.0</td>\n",
              "      <td>1.0</td>\n",
              "      <td>Um dos melhores filmes que assisti na minha vi...</td>\n",
              "    </tr>\n",
              "    <tr>\n",
              "      <th>18</th>\n",
              "      <td>0</td>\n",
              "      <td>5.0</td>\n",
              "      <td>0.0</td>\n",
              "      <td>Adoro esse filme!</td>\n",
              "    </tr>\n",
              "    <tr>\n",
              "      <th>20</th>\n",
              "      <td>0</td>\n",
              "      <td>5.0</td>\n",
              "      <td>1.0</td>\n",
              "      <td>Melhor filme do 007.</td>\n",
              "    </tr>\n",
              "    <tr>\n",
              "      <th>25</th>\n",
              "      <td>0</td>\n",
              "      <td>5.0</td>\n",
              "      <td>1.0</td>\n",
              "      <td>muito bom. achava que ia ser fraco pois gostav...</td>\n",
              "    </tr>\n",
              "    <tr>\n",
              "      <th>34</th>\n",
              "      <td>0</td>\n",
              "      <td>5.0</td>\n",
              "      <td>0.0</td>\n",
              "      <td>muito massa . adoro filme assim</td>\n",
              "    </tr>\n",
              "    <tr>\n",
              "      <th>38</th>\n",
              "      <td>0</td>\n",
              "      <td>5.0</td>\n",
              "      <td>1.0</td>\n",
              "      <td>Adoro Daniel Craig, por isso é o meu 007 favor...</td>\n",
              "    </tr>\n",
              "    <tr>\n",
              "      <th>43</th>\n",
              "      <td>0</td>\n",
              "      <td>5.0</td>\n",
              "      <td>0.0</td>\n",
              "      <td>Muito bom</td>\n",
              "    </tr>\n",
              "    <tr>\n",
              "      <th>49</th>\n",
              "      <td>2</td>\n",
              "      <td>5.0</td>\n",
              "      <td>0.0</td>\n",
              "      <td>melhor 007, fato !</td>\n",
              "    </tr>\n",
              "    <tr>\n",
              "      <th>58</th>\n",
              "      <td>0</td>\n",
              "      <td>5.0</td>\n",
              "      <td>0.0</td>\n",
              "      <td>Muito bom! definitivamente Daniel Craig é o me...</td>\n",
              "    </tr>\n",
              "    <tr>\n",
              "      <th>59</th>\n",
              "      <td>0</td>\n",
              "      <td>5.0</td>\n",
              "      <td>1.0</td>\n",
              "      <td>Finalmente um filme de 007 que eu consegui ass...</td>\n",
              "    </tr>\n",
              "    <tr>\n",
              "      <th>60</th>\n",
              "      <td>0</td>\n",
              "      <td>5.0</td>\n",
              "      <td>0.0</td>\n",
              "      <td>ÓTIMO FILME!</td>\n",
              "    </tr>\n",
              "    <tr>\n",
              "      <th>61</th>\n",
              "      <td>0</td>\n",
              "      <td>5.0</td>\n",
              "      <td>1.0</td>\n",
              "      <td>Melhor filme de James Bond. Fato. [2]</td>\n",
              "    </tr>\n",
              "    <tr>\n",
              "      <th>63</th>\n",
              "      <td>0</td>\n",
              "      <td>5.0</td>\n",
              "      <td>1.0</td>\n",
              "      <td>maravilhoso!!!</td>\n",
              "    </tr>\n",
              "    <tr>\n",
              "      <th>69</th>\n",
              "      <td>0</td>\n",
              "      <td>5.0</td>\n",
              "      <td>1.0</td>\n",
              "      <td>puta filmaço!!!</td>\n",
              "    </tr>\n",
              "    <tr>\n",
              "      <th>81</th>\n",
              "      <td>1</td>\n",
              "      <td>5.0</td>\n",
              "      <td>0.0</td>\n",
              "      <td>ótimo filme e cheio de ação</td>\n",
              "    </tr>\n",
              "    <tr>\n",
              "      <th>88</th>\n",
              "      <td>1</td>\n",
              "      <td>5.0</td>\n",
              "      <td>1.0</td>\n",
              "      <td>Amo esse filme. O melhor dos James Bond.</td>\n",
              "    </tr>\n",
              "    <tr>\n",
              "      <th>90</th>\n",
              "      <td>1</td>\n",
              "      <td>5.0</td>\n",
              "      <td>1.0</td>\n",
              "      <td>Daniel Craig &lt;3</td>\n",
              "    </tr>\n",
              "    <tr>\n",
              "      <th>93</th>\n",
              "      <td>0</td>\n",
              "      <td>5.0</td>\n",
              "      <td>1.0</td>\n",
              "      <td>Sem mais, o melhor! Nem Quantum of Solace supe...</td>\n",
              "    </tr>\n",
              "    <tr>\n",
              "      <th>95</th>\n",
              "      <td>3</td>\n",
              "      <td>5.0</td>\n",
              "      <td>1.0</td>\n",
              "      <td>A parte do Cassino é perfeita! Vilão muito bom...</td>\n",
              "    </tr>\n",
              "    <tr>\n",
              "      <th>100</th>\n",
              "      <td>0</td>\n",
              "      <td>5.0</td>\n",
              "      <td>0.0</td>\n",
              "      <td>Entre os dois 007 com Daniel Craig, esse é o m...</td>\n",
              "    </tr>\n",
              "    <tr>\n",
              "      <th>101</th>\n",
              "      <td>0</td>\n",
              "      <td>5.0</td>\n",
              "      <td>1.0</td>\n",
              "      <td>doeu ate em min vendo esse filme</td>\n",
              "    </tr>\n",
              "    <tr>\n",
              "      <th>102</th>\n",
              "      <td>0</td>\n",
              "      <td>5.0</td>\n",
              "      <td>1.0</td>\n",
              "      <td>Que bom que o Daniel Craig foi chamado pra ser...</td>\n",
              "    </tr>\n",
              "    <tr>\n",
              "      <th>103</th>\n",
              "      <td>0</td>\n",
              "      <td>5.0</td>\n",
              "      <td>1.0</td>\n",
              "      <td>Muito foda! Melhor de 007 que ja assisti. E as...</td>\n",
              "    </tr>\n",
              "    <tr>\n",
              "      <th>104</th>\n",
              "      <td>0</td>\n",
              "      <td>5.0</td>\n",
              "      <td>0.0</td>\n",
              "      <td>Já começa emocionante :D</td>\n",
              "    </tr>\n",
              "    <tr>\n",
              "      <th>109</th>\n",
              "      <td>0</td>\n",
              "      <td>5.0</td>\n",
              "      <td>0.0</td>\n",
              "      <td>Também adorei o filme, ação pura!! Tinha uma m...</td>\n",
              "    </tr>\n",
              "    <tr>\n",
              "      <th>111</th>\n",
              "      <td>0</td>\n",
              "      <td>5.0</td>\n",
              "      <td>0.0</td>\n",
              "      <td>Amo.</td>\n",
              "    </tr>\n",
              "    <tr>\n",
              "      <th>117</th>\n",
              "      <td>0</td>\n",
              "      <td>5.0</td>\n",
              "      <td>0.0</td>\n",
              "      <td>noooossa, simplismente MUITO bom! amei</td>\n",
              "    </tr>\n",
              "  </tbody>\n",
              "</table>\n",
              "</div>"
            ],
            "text/plain": [
              "     likes  stars  favorite                                               text\n",
              "7        0    5.0       0.0                                      preciso rever\n",
              "13       2    5.0       0.0           mto melhor 007 q o pierce ..#prontofalei\n",
              "15       0    5.0       1.0  Disse que ia sabotar este (não ver no cine), p...\n",
              "16       0    5.0       1.0  Um dos melhores filmes que assisti na minha vi...\n",
              "18       0    5.0       0.0                                  Adoro esse filme!\n",
              "20       0    5.0       1.0                               Melhor filme do 007.\n",
              "25       0    5.0       1.0  muito bom. achava que ia ser fraco pois gostav...\n",
              "34       0    5.0       0.0                    muito massa . adoro filme assim\n",
              "38       0    5.0       1.0  Adoro Daniel Craig, por isso é o meu 007 favor...\n",
              "43       0    5.0       0.0                                          Muito bom\n",
              "49       2    5.0       0.0                                 melhor 007, fato !\n",
              "58       0    5.0       0.0  Muito bom! definitivamente Daniel Craig é o me...\n",
              "59       0    5.0       1.0  Finalmente um filme de 007 que eu consegui ass...\n",
              "60       0    5.0       0.0                                       ÓTIMO FILME!\n",
              "61       0    5.0       1.0              Melhor filme de James Bond. Fato. [2]\n",
              "63       0    5.0       1.0                                     maravilhoso!!!\n",
              "69       0    5.0       1.0                                    puta filmaço!!!\n",
              "81       1    5.0       0.0                        ótimo filme e cheio de ação\n",
              "88       1    5.0       1.0           Amo esse filme. O melhor dos James Bond.\n",
              "90       1    5.0       1.0                                    Daniel Craig <3\n",
              "93       0    5.0       1.0  Sem mais, o melhor! Nem Quantum of Solace supe...\n",
              "95       3    5.0       1.0  A parte do Cassino é perfeita! Vilão muito bom...\n",
              "100      0    5.0       0.0  Entre os dois 007 com Daniel Craig, esse é o m...\n",
              "101      0    5.0       1.0                   doeu ate em min vendo esse filme\n",
              "102      0    5.0       1.0  Que bom que o Daniel Craig foi chamado pra ser...\n",
              "103      0    5.0       1.0  Muito foda! Melhor de 007 que ja assisti. E as...\n",
              "104      0    5.0       0.0                           Já começa emocionante :D\n",
              "109      0    5.0       0.0  Também adorei o filme, ação pura!! Tinha uma m...\n",
              "111      0    5.0       0.0                                               Amo.\n",
              "117      0    5.0       0.0             noooossa, simplismente MUITO bom! amei"
            ]
          },
          "metadata": {
            "tags": []
          },
          "execution_count": 35
        }
      ]
    },
    {
      "cell_type": "code",
      "metadata": {
        "colab": {
          "base_uri": "https://localhost:8080/"
        },
        "id": "C6GrGSz8IP4E",
        "outputId": "1c5fee2b-66c4-4a34-c56d-c1e788d580c3"
      },
      "source": [
        "df_movies.columns"
      ],
      "execution_count": null,
      "outputs": [
        {
          "output_type": "execute_result",
          "data": {
            "text/plain": [
              "Index(['index', 'object', 'text', 'likes', 'stars', 'favorite'], dtype='object')"
            ]
          },
          "metadata": {
            "tags": []
          },
          "execution_count": 36
        }
      ]
    },
    {
      "cell_type": "code",
      "metadata": {
        "id": "kbYUVgi-H52Y"
      },
      "source": [
        "# Features seleciondadas\r\n",
        "df_movies = df_movies[['object','text','stars']]"
      ],
      "execution_count": null,
      "outputs": []
    },
    {
      "cell_type": "markdown",
      "metadata": {
        "id": "nHUiE75CpZ7b"
      },
      "source": [
        "#### Definindo as classes positiva e negativa\r\n"
      ]
    },
    {
      "cell_type": "code",
      "metadata": {
        "id": "C7r_pQbxJftt"
      },
      "source": [
        "#selecionando os registros com stars diferente de zero\r\n",
        "df_movies = df_movies[df_movies.stars >= 1]"
      ],
      "execution_count": null,
      "outputs": []
    },
    {
      "cell_type": "code",
      "metadata": {
        "colab": {
          "base_uri": "https://localhost:8080/"
        },
        "id": "IZZvCZ-1KI3M",
        "outputId": "4c6d60f0-1dd1-4072-f9cb-70b260fb0c10"
      },
      "source": [
        "# validando\r\n",
        "df_movies['stars'].unique()"
      ],
      "execution_count": null,
      "outputs": [
        {
          "output_type": "execute_result",
          "data": {
            "text/plain": [
              "array([3.5, 4. , 2.5, 5. , 3. , 4.5, 1.5, 2. , 1. ])"
            ]
          },
          "metadata": {
            "tags": []
          },
          "execution_count": 39
        }
      ]
    },
    {
      "cell_type": "code",
      "metadata": {
        "id": "f9ZN3g3WTHRz"
      },
      "source": [
        "def define_classe(row):\r\n",
        "  var_stars = row['stars']\r\n",
        "  #if (var_stars == 1 and var_stars == 1.5 and var_stars == 2 and var_stars == 2.5):\r\n",
        "  if (var_stars < 3):\r\n",
        "    return 0 # classe negativa\r\n",
        "  else:\r\n",
        "    return 1 # classe positiva"
      ],
      "execution_count": null,
      "outputs": []
    },
    {
      "cell_type": "code",
      "metadata": {
        "colab": {
          "base_uri": "https://localhost:8080/"
        },
        "id": "UtmnWxEapiiC",
        "outputId": "c368f499-db61-4d88-8eca-1f2b6b94c396"
      },
      "source": [
        "start = time.time()\r\n",
        "#df_movies['classificacao'] = df_movies.apply(define_classe, axis=1)\r\n",
        "df_movies['classificacao'] = df_movies.apply(define_classe, axis=1)\r\n",
        "print (\"tempo gasto: \", (time.time() - start))"
      ],
      "execution_count": null,
      "outputs": [
        {
          "output_type": "stream",
          "text": [
            "tempo gasto:  12.324546337127686\n"
          ],
          "name": "stdout"
        }
      ]
    },
    {
      "cell_type": "code",
      "metadata": {
        "colab": {
          "base_uri": "https://localhost:8080/"
        },
        "id": "tkymJmPwShR3",
        "outputId": "267a2fcc-7532-4ff3-df76-18979b0d42ce"
      },
      "source": [
        "# validando\r\n",
        "df_movies['classificacao'].unique()"
      ],
      "execution_count": null,
      "outputs": [
        {
          "output_type": "execute_result",
          "data": {
            "text/plain": [
              "array([1, 0])"
            ]
          },
          "metadata": {
            "tags": []
          },
          "execution_count": 42
        }
      ]
    },
    {
      "cell_type": "markdown",
      "metadata": {
        "id": "o6BjCq2ArJDN"
      },
      "source": [
        "# **inicio teste**"
      ]
    },
    {
      "cell_type": "code",
      "metadata": {
        "id": "mbv5J9V4q9se",
        "colab": {
          "base_uri": "https://localhost:8080/",
          "height": 180
        },
        "outputId": "c951a0db-2ef3-4475-8414-d4d4096dc2f7"
      },
      "source": [
        "# validando\r\n",
        "df_movies[df_movies.index==idx][['text', 'stars', 'classificacao']].values[0]"
      ],
      "execution_count": null,
      "outputs": [
        {
          "output_type": "error",
          "ename": "NameError",
          "evalue": "ignored",
          "traceback": [
            "\u001b[0;31m---------------------------------------------------------------------------\u001b[0m",
            "\u001b[0;31mNameError\u001b[0m                                 Traceback (most recent call last)",
            "\u001b[0;32m<ipython-input-4-ed4d5ac930ea>\u001b[0m in \u001b[0;36m<module>\u001b[0;34m()\u001b[0m\n\u001b[1;32m      1\u001b[0m \u001b[0;31m# validando\u001b[0m\u001b[0;34m\u001b[0m\u001b[0;34m\u001b[0m\u001b[0;34m\u001b[0m\u001b[0m\n\u001b[0;32m----> 2\u001b[0;31m \u001b[0mdf_movies\u001b[0m\u001b[0;34m[\u001b[0m\u001b[0mdf_movies\u001b[0m\u001b[0;34m.\u001b[0m\u001b[0mindex\u001b[0m\u001b[0;34m==\u001b[0m\u001b[0midx\u001b[0m\u001b[0;34m]\u001b[0m\u001b[0;34m[\u001b[0m\u001b[0;34m[\u001b[0m\u001b[0;34m'text'\u001b[0m\u001b[0;34m,\u001b[0m \u001b[0;34m'stars'\u001b[0m\u001b[0;34m,\u001b[0m \u001b[0;34m'classificacao'\u001b[0m\u001b[0;34m]\u001b[0m\u001b[0;34m]\u001b[0m\u001b[0;34m.\u001b[0m\u001b[0mvalues\u001b[0m\u001b[0;34m[\u001b[0m\u001b[0;36m0\u001b[0m\u001b[0;34m]\u001b[0m\u001b[0;34m\u001b[0m\u001b[0;34m\u001b[0m\u001b[0m\n\u001b[0m",
            "\u001b[0;31mNameError\u001b[0m: name 'df_movies' is not defined"
          ]
        }
      ]
    },
    {
      "cell_type": "markdown",
      "metadata": {
        "id": "8IH-45DvrMiC"
      },
      "source": [
        "# **fim teste**"
      ]
    },
    {
      "cell_type": "markdown",
      "metadata": {
        "id": "dW2gpNFY63yT"
      },
      "source": [
        "## convertendo as palavras do campo texto para lowcase\r\n"
      ]
    },
    {
      "cell_type": "code",
      "metadata": {
        "colab": {
          "base_uri": "https://localhost:8080/",
          "height": 142
        },
        "id": "6LF8hJPZ3H5O",
        "outputId": "504a2fa9-7dcd-4730-a9ce-098022a6f65b"
      },
      "source": [
        "df_movies['text_lower'] = df_movies['text'].astype('str').str.lower()\r\n",
        "df_movies[['text','text_lower']].head(3)\r\n",
        "\r\n",
        "\r\n",
        "# Remove palavras que contém apenas um caracter ex: \"a\" e \"o\"\r\n",
        "# e transformar o token para lower\r\n",
        "tokens_conto01 = [token.lower() for token in tokens_conto01 if len(token)>1]"
      ],
      "execution_count": null,
      "outputs": [
        {
          "output_type": "execute_result",
          "data": {
            "text/html": [
              "<div>\n",
              "<style scoped>\n",
              "    .dataframe tbody tr th:only-of-type {\n",
              "        vertical-align: middle;\n",
              "    }\n",
              "\n",
              "    .dataframe tbody tr th {\n",
              "        vertical-align: top;\n",
              "    }\n",
              "\n",
              "    .dataframe thead th {\n",
              "        text-align: right;\n",
              "    }\n",
              "</style>\n",
              "<table border=\"1\" class=\"dataframe\">\n",
              "  <thead>\n",
              "    <tr style=\"text-align: right;\">\n",
              "      <th></th>\n",
              "      <th>text</th>\n",
              "      <th>text_lower</th>\n",
              "    </tr>\n",
              "  </thead>\n",
              "  <tbody>\n",
              "    <tr>\n",
              "      <th>0</th>\n",
              "      <td>Um dos melhores do 007</td>\n",
              "      <td>um dos melhores do 007</td>\n",
              "    </tr>\n",
              "    <tr>\n",
              "      <th>1</th>\n",
              "      <td>assisti só pela metade..do meio ao fim, o film...</td>\n",
              "      <td>assisti só pela metade..do meio ao fim, o film...</td>\n",
              "    </tr>\n",
              "    <tr>\n",
              "      <th>2</th>\n",
              "      <td>foi um dos filmes mais violentos q já vi. mas ...</td>\n",
              "      <td>foi um dos filmes mais violentos q já vi. mas ...</td>\n",
              "    </tr>\n",
              "  </tbody>\n",
              "</table>\n",
              "</div>"
            ],
            "text/plain": [
              "                                                text                                         text_lower\n",
              "0                             Um dos melhores do 007                             um dos melhores do 007\n",
              "1  assisti só pela metade..do meio ao fim, o film...  assisti só pela metade..do meio ao fim, o film...\n",
              "2  foi um dos filmes mais violentos q já vi. mas ...  foi um dos filmes mais violentos q já vi. mas ..."
            ]
          },
          "metadata": {
            "tags": []
          },
          "execution_count": 43
        }
      ]
    },
    {
      "cell_type": "markdown",
      "metadata": {
        "id": "1HnO3-KvRfla"
      },
      "source": [
        "## Selecionando parte dos registros"
      ]
    },
    {
      "cell_type": "code",
      "metadata": {
        "colab": {
          "base_uri": "https://localhost:8080/"
        },
        "id": "_xJUYzisjEuB",
        "outputId": "453979c6-9162-44b3-c601-1c1f2e6f2a39"
      },
      "source": [
        "df_movies['classificacao'].value_counts()"
      ],
      "execution_count": null,
      "outputs": [
        {
          "output_type": "execute_result",
          "data": {
            "text/plain": [
              "1    1347474\n",
              "0     136792\n",
              "Name: classificacao, dtype: int64"
            ]
          },
          "metadata": {
            "tags": []
          },
          "execution_count": 44
        }
      ]
    },
    {
      "cell_type": "code",
      "metadata": {
        "colab": {
          "base_uri": "https://localhost:8080/"
        },
        "id": "B7vASHMRS6ad",
        "outputId": "d784d224-a788-461a-e2ea-6e1dd3aec462"
      },
      "source": [
        "len(df_movies)"
      ],
      "execution_count": null,
      "outputs": [
        {
          "output_type": "execute_result",
          "data": {
            "text/plain": [
              "1484266"
            ]
          },
          "metadata": {
            "tags": []
          },
          "execution_count": 45
        }
      ]
    },
    {
      "cell_type": "code",
      "metadata": {
        "id": "xburUZ_wUe6-"
      },
      "source": [
        "# selecionando registros com classificação negativa\r\n",
        "df_negativa = df_movies[df_movies['classificacao'] == 0][0:6000]\r\n",
        "\r\n",
        "# selecionando registros com classificação positia\r\n",
        "df_positiva = df_movies[df_movies['classificacao'] == 1][0:6000]\r\n",
        "\r\n",
        "# unindo os registros\r\n",
        "df = pd.concat([df_negativa, df_positiva], axis=0)"
      ],
      "execution_count": null,
      "outputs": []
    },
    {
      "cell_type": "code",
      "metadata": {
        "id": "YZYBzxGpRsNH"
      },
      "source": [
        "# Embaralhando os dados por filmes\r\n",
        "df = df.sample(frac=1).reset_index(drop=True)\r\n",
        "#df_movies[0:5000]"
      ],
      "execution_count": null,
      "outputs": []
    },
    {
      "cell_type": "code",
      "metadata": {
        "colab": {
          "base_uri": "https://localhost:8080/"
        },
        "id": "nIYWk5SfR809",
        "outputId": "8a5621fd-5833-4cd7-bb94-731a69efd2b9"
      },
      "source": [
        "df['classificacao'].value_counts()"
      ],
      "execution_count": null,
      "outputs": [
        {
          "output_type": "execute_result",
          "data": {
            "text/plain": [
              "1    6000\n",
              "0    6000\n",
              "Name: classificacao, dtype: int64"
            ]
          },
          "metadata": {
            "tags": []
          },
          "execution_count": 48
        }
      ]
    },
    {
      "cell_type": "markdown",
      "metadata": {
        "id": "bZMwZtzEX1ah"
      },
      "source": [
        "## Pré-processando os dados"
      ]
    },
    {
      "cell_type": "code",
      "metadata": {
        "id": "We5eaZkDTS2k"
      },
      "source": [
        "# # removendo os emojis do texto\r\n",
        "# fonte: https://stackoverflow.com/questions/33404752/removing-emojis-from-a-string-in-python\r\n",
        "\r\n",
        "#df['text'][2] -- 99(104), 98(103), \r\n",
        "\r\n",
        "#!/usr/bin/env python\r\n",
        "import re\r\n",
        "\r\n",
        "def remover_emojis(text):\r\n",
        "    regrex_pattern = re.compile(pattern = \"[\"\r\n",
        "        u\"\\U0001F600-\\U0001F64F\"  # emoticons\r\n",
        "        u\"\\U0001F300-\\U0001F5FF\"  # symbols & pictographs\r\n",
        "        u\"\\U0001F680-\\U0001F6FF\"  # transport & map symbols\r\n",
        "        u\"\\U0001F1E0-\\U0001F1FF\"  # flags (iOS)\r\n",
        "                           \"]+\", flags = re.UNICODE)\r\n",
        "    return regrex_pattern.sub(r'',text)\r\n",
        "\r\n",
        "df['text_sem_emojis'] = df['text_lower'].apply(remover_emojis) # chamando a função que remove as stopwords"
      ],
      "execution_count": null,
      "outputs": []
    },
    {
      "cell_type": "code",
      "metadata": {
        "colab": {
          "base_uri": "https://localhost:8080/",
          "height": 52
        },
        "id": "YyEh0MiTUnji",
        "outputId": "6b8ba39a-6be9-4035-8776-a4726c8bff81"
      },
      "source": [
        "'''registro 2 - separar palavras que estão juntas\r\n",
        "1ª onda: más atuações2ª onda: efeitos ruins3ª onda: burrice dos personagens4ª onda: mar de clichês5ª onda: casal brocochô\r\n",
        "'''"
      ],
      "execution_count": null,
      "outputs": [
        {
          "output_type": "execute_result",
          "data": {
            "application/vnd.google.colaboratory.intrinsic+json": {
              "type": "string"
            },
            "text/plain": [
              "'registro 2 - separar palavras que estão juntas\\n1ª onda: más atuações2ª onda: efeitos ruins3ª onda: burrice dos personagens4ª onda: mar de clichês5ª onda: casal brocochô\\n'"
            ]
          },
          "metadata": {
            "tags": []
          },
          "execution_count": 50
        }
      ]
    },
    {
      "cell_type": "code",
      "metadata": {
        "colab": {
          "base_uri": "https://localhost:8080/",
          "height": 159
        },
        "id": "LEWG3ertzot_",
        "outputId": "babb3323-af35-4e93-a051-9b6bc5298733"
      },
      "source": [
        "# Remover os caracteres especiais do texto\r\n",
        "def remover_caracteres2 (row):\r\n",
        "  table = str.maketrans(dict.fromkeys(string.punctuation)) \r\n",
        "  texto_sem_caracteres = str(row['text_sem_emojis']).translate(table)\r\n",
        "  return texto_sem_caracteres\r\n",
        "\r\n",
        "# montagem da tabela de pontuacoes, primeiro pegamos a lista de pontuacoes com string.punctuation, depois pegamos\r\n",
        "# e criamos como uma tabela usando o str.maketrans\r\n",
        "start = time.time()\r\n",
        "df['text_sem_caracteres'] = df.apply(remover_caracteres2, axis=1) # chamando a função que remove as stopwords\r\n",
        "print (\"tempo gasto: \", (time.time() - start))\r\n",
        "\r\n",
        "# Validando\r\n",
        "df[['text', 'text_sem_caracteres']].head(3)"
      ],
      "execution_count": null,
      "outputs": [
        {
          "output_type": "stream",
          "text": [
            "tempo gasto:  0.40667271614074707\n"
          ],
          "name": "stdout"
        },
        {
          "output_type": "execute_result",
          "data": {
            "text/html": [
              "<div>\n",
              "<style scoped>\n",
              "    .dataframe tbody tr th:only-of-type {\n",
              "        vertical-align: middle;\n",
              "    }\n",
              "\n",
              "    .dataframe tbody tr th {\n",
              "        vertical-align: top;\n",
              "    }\n",
              "\n",
              "    .dataframe thead th {\n",
              "        text-align: right;\n",
              "    }\n",
              "</style>\n",
              "<table border=\"1\" class=\"dataframe\">\n",
              "  <thead>\n",
              "    <tr style=\"text-align: right;\">\n",
              "      <th></th>\n",
              "      <th>text</th>\n",
              "      <th>text_sem_caracteres</th>\n",
              "    </tr>\n",
              "  </thead>\n",
              "  <tbody>\n",
              "    <tr>\n",
              "      <th>0</th>\n",
              "      <td>esperava mais...</td>\n",
              "      <td>esperava mais</td>\n",
              "    </tr>\n",
              "    <tr>\n",
              "      <th>1</th>\n",
              "      <td>Muito irregular. Tem passagens ótimas. A que e...</td>\n",
              "      <td>muito irregular tem passagens ótimas a que eu ...</td>\n",
              "    </tr>\n",
              "    <tr>\n",
              "      <th>2</th>\n",
              "      <td>Um atestado de como o cinema pode mexer com es...</td>\n",
              "      <td>um atestado de como o cinema pode mexer com es...</td>\n",
              "    </tr>\n",
              "  </tbody>\n",
              "</table>\n",
              "</div>"
            ],
            "text/plain": [
              "                                                text                                text_sem_caracteres\n",
              "0                                   esperava mais...                                      esperava mais\n",
              "1  Muito irregular. Tem passagens ótimas. A que e...  muito irregular tem passagens ótimas a que eu ...\n",
              "2  Um atestado de como o cinema pode mexer com es...  um atestado de como o cinema pode mexer com es..."
            ]
          },
          "metadata": {
            "tags": []
          },
          "execution_count": 51
        }
      ]
    },
    {
      "cell_type": "code",
      "metadata": {
        "colab": {
          "base_uri": "https://localhost:8080/"
        },
        "id": "F0EHM3pYgWQ4",
        "outputId": "12114725-6e36-4949-bad9-43a23ed0d6fb"
      },
      "source": [
        "print (\"Texto original: \", df['text'][6])\r\n",
        "print (\"Texto final: \", df['text_sem_caracteres'][6])"
      ],
      "execution_count": null,
      "outputs": [
        {
          "output_type": "stream",
          "text": [
            "Texto original:  Daniel Craig retorna estabelecendo de vez o seu 007, mais durão e amargurado (entendemos mais o motivo pelo qual ele está sempre com aquela \"cara de velório\").  Javier Bardem, como o vilão Silas, rouba o filme fazendo o que sabe melhor sem se conter em nenhum momento. Mostrando que um monstro pode surgir de diversas formas, ora elegante, ora lunático, ora exêntrico. E diferente do descaradamente acelerado Quantum Of Solace (2007), Skyfall é românticamente detalhado em sua fotografia (marca de Mendes) e edição tanto de som quanto de filmagem. A morte de um personagem é apresentada como uma camera lenta. O confronto final é absolutamente sufocante, Silas praticamente declara guerra contra James Bond e M (Judi Dench) ao melhor estilo faroeste e filmes clássicos do gênero de Guerra. Finalmente fugindo dos padrões \"Bourne\". Na trilha sonora, a única coisa que não gostei muito, foi o arranjo pouco inspirador da música tema (quando 007 sobe por aquele trator até pular em um trem em movimento). Tirado isso, a trilha traz um amadurecimento ao seguir em frente (inclusive a música tema cantada por Adele remetendo muito os clássicos, como Goldfinger de 1964, em uma introdução espetacular). Outra coisa também é que como bem sabemos, 007 é imortal, e Silas é um vilão implacável - mas se entrega de uma forma absurda no final. Fora isso, perfeito. 5 estrelas, como voto, para Sam Mendes voltar. 4 estrelas para a execução de todo o filme. Beira a perfeição. Já é um dos melhores filmes de 007 da atualidade pra mim ao lado de 007 Contra GoldenEye (1995) e 007 Cassino Royale (2006).\n",
            "Texto final:  daniel craig retorna estabelecendo de vez o seu 007 mais durão e amargurado entendemos mais o motivo pelo qual ele está sempre com aquela cara de velório  javier bardem como o vilão silas rouba o filme fazendo o que sabe melhor sem se conter em nenhum momento mostrando que um monstro pode surgir de diversas formas ora elegante ora lunático ora exêntrico e diferente do descaradamente acelerado quantum of solace 2007 skyfall é românticamente detalhado em sua fotografia marca de mendes e edição tanto de som quanto de filmagem a morte de um personagem é apresentada como uma camera lenta o confronto final é absolutamente sufocante silas praticamente declara guerra contra james bond e m judi dench ao melhor estilo faroeste e filmes clássicos do gênero de guerra finalmente fugindo dos padrões bourne na trilha sonora a única coisa que não gostei muito foi o arranjo pouco inspirador da música tema quando 007 sobe por aquele trator até pular em um trem em movimento tirado isso a trilha traz um amadurecimento ao seguir em frente inclusive a música tema cantada por adele remetendo muito os clássicos como goldfinger de 1964 em uma introdução espetacular outra coisa também é que como bem sabemos 007 é imortal e silas é um vilão implacável  mas se entrega de uma forma absurda no final fora isso perfeito 5 estrelas como voto para sam mendes voltar 4 estrelas para a execução de todo o filme beira a perfeição já é um dos melhores filmes de 007 da atualidade pra mim ao lado de 007 contra goldeneye 1995 e 007 cassino royale 2006\n"
          ],
          "name": "stdout"
        }
      ]
    },
    {
      "cell_type": "code",
      "metadata": {
        "colab": {
          "base_uri": "https://localhost:8080/",
          "height": 128
        },
        "id": "ck_2IHgYqzRO",
        "outputId": "949e3dea-ee47-425e-ef1b-4b2c0d1008ea"
      },
      "source": [
        "# tokenizando, removendo as stopwords e \r\n",
        "\r\n",
        "stp_words = nltk.corpus.stopwords.words('portuguese')\r\n",
        "\r\n",
        "def identify_tokens(text):\r\n",
        "    tokens = word_tokenize(text)\r\n",
        "    tokens = [word for word in tokens if not word in stp_words]\r\n",
        "    tokens = [word for word in tokens if word.isalnum()] # isalnum (não remove caracteres especiais e números) - \r\n",
        "                                                      #  isalpha (removeremos palavras / caracteres não alfanuméricos (como números e pontuação)\r\n",
        "    return tokens\r\n",
        "\r\n",
        "\r\n",
        "start = time.time()\r\n",
        "df['text_tokenizado'] = df['text_sem_caracteres'].apply(identify_tokens) # chamando a função que remove as stopwords\r\n",
        "print (\"tempo gasto: \", (time.time() - start))\r\n",
        "\r\n",
        "# validando a tokenização\r\n",
        "df[['text_sem_caracteres','text_tokenizado']][1:3].head(3)"
      ],
      "execution_count": null,
      "outputs": [
        {
          "output_type": "stream",
          "text": [
            "tempo gasto:  3.0107195377349854\n"
          ],
          "name": "stdout"
        },
        {
          "output_type": "execute_result",
          "data": {
            "text/html": [
              "<div>\n",
              "<style scoped>\n",
              "    .dataframe tbody tr th:only-of-type {\n",
              "        vertical-align: middle;\n",
              "    }\n",
              "\n",
              "    .dataframe tbody tr th {\n",
              "        vertical-align: top;\n",
              "    }\n",
              "\n",
              "    .dataframe thead th {\n",
              "        text-align: right;\n",
              "    }\n",
              "</style>\n",
              "<table border=\"1\" class=\"dataframe\">\n",
              "  <thead>\n",
              "    <tr style=\"text-align: right;\">\n",
              "      <th></th>\n",
              "      <th>text_sem_caracteres</th>\n",
              "      <th>text_tokenizado</th>\n",
              "    </tr>\n",
              "  </thead>\n",
              "  <tbody>\n",
              "    <tr>\n",
              "      <th>1</th>\n",
              "      <td>muito irregular tem passagens ótimas a que eu ...</td>\n",
              "      <td>[irregular, passagens, ótimas, gostei, cena, e...</td>\n",
              "    </tr>\n",
              "    <tr>\n",
              "      <th>2</th>\n",
              "      <td>um atestado de como o cinema pode mexer com es...</td>\n",
              "      <td>[atestado, cinema, pode, mexer, espectador, fi...</td>\n",
              "    </tr>\n",
              "  </tbody>\n",
              "</table>\n",
              "</div>"
            ],
            "text/plain": [
              "                                 text_sem_caracteres                                    text_tokenizado\n",
              "1  muito irregular tem passagens ótimas a que eu ...  [irregular, passagens, ótimas, gostei, cena, e...\n",
              "2  um atestado de como o cinema pode mexer com es...  [atestado, cinema, pode, mexer, espectador, fi..."
            ]
          },
          "metadata": {
            "tags": []
          },
          "execution_count": 53
        }
      ]
    },
    {
      "cell_type": "markdown",
      "metadata": {
        "id": "k70pTpcYvt7e"
      },
      "source": [
        "# limpando novamente os dados"
      ]
    },
    {
      "cell_type": "code",
      "metadata": {
        "colab": {
          "base_uri": "https://localhost:8080/",
          "height": 128
        },
        "id": "VCD-jr5UvwZt",
        "outputId": "fc9b1c2f-36b9-47c4-9256-bffba1b77aec"
      },
      "source": [
        "# Remover os caracteres especiais do texto\r\n",
        "def remover_caracteres2 (row):\r\n",
        "  table = str.maketrans(dict.fromkeys(string.punctuation)) \r\n",
        "  texto_sem_caracteres = str(row['text_tokenizado']).translate(table)\r\n",
        "  return texto_sem_caracteres\r\n",
        "\r\n",
        "# montagem da tabela de pontuacoes, primeiro pegamos a lista de pontuacoes com string.punctuation, depois pegamos\r\n",
        "# e criamos como uma tabela usando o str.maketrans\r\n",
        "start = time.time()\r\n",
        "df['text_clean'] = df.apply(remover_caracteres2, axis=1) # chamando a função que remove as stopwords\r\n",
        "print (\"tempo gasto: \", (time.time() - start))\r\n",
        "\r\n",
        "# validando a tokenização\r\n",
        "df[['text','text_clean']][1:3].head(3)"
      ],
      "execution_count": null,
      "outputs": [
        {
          "output_type": "stream",
          "text": [
            "tempo gasto:  0.3542001247406006\n"
          ],
          "name": "stdout"
        },
        {
          "output_type": "execute_result",
          "data": {
            "text/html": [
              "<div>\n",
              "<style scoped>\n",
              "    .dataframe tbody tr th:only-of-type {\n",
              "        vertical-align: middle;\n",
              "    }\n",
              "\n",
              "    .dataframe tbody tr th {\n",
              "        vertical-align: top;\n",
              "    }\n",
              "\n",
              "    .dataframe thead th {\n",
              "        text-align: right;\n",
              "    }\n",
              "</style>\n",
              "<table border=\"1\" class=\"dataframe\">\n",
              "  <thead>\n",
              "    <tr style=\"text-align: right;\">\n",
              "      <th></th>\n",
              "      <th>text</th>\n",
              "      <th>text_clean</th>\n",
              "    </tr>\n",
              "  </thead>\n",
              "  <tbody>\n",
              "    <tr>\n",
              "      <th>1</th>\n",
              "      <td>Muito irregular. Tem passagens ótimas. A que e...</td>\n",
              "      <td>irregular passagens ótimas gostei cena expecta...</td>\n",
              "    </tr>\n",
              "    <tr>\n",
              "      <th>2</th>\n",
              "      <td>Um atestado de como o cinema pode mexer com es...</td>\n",
              "      <td>atestado cinema pode mexer espectador filme mã...</td>\n",
              "    </tr>\n",
              "  </tbody>\n",
              "</table>\n",
              "</div>"
            ],
            "text/plain": [
              "                                                text                                         text_clean\n",
              "1  Muito irregular. Tem passagens ótimas. A que e...  irregular passagens ótimas gostei cena expecta...\n",
              "2  Um atestado de como o cinema pode mexer com es...  atestado cinema pode mexer espectador filme mã..."
            ]
          },
          "metadata": {
            "tags": []
          },
          "execution_count": 54
        }
      ]
    },
    {
      "cell_type": "code",
      "metadata": {
        "colab": {
          "base_uri": "https://localhost:8080/"
        },
        "id": "4eum1CQMaAA1",
        "outputId": "dc649fcf-d288-4709-928c-606f18ee194b"
      },
      "source": [
        "df.isnull().sum()"
      ],
      "execution_count": null,
      "outputs": [
        {
          "output_type": "execute_result",
          "data": {
            "text/plain": [
              "object                 0\n",
              "text                   0\n",
              "stars                  0\n",
              "classificacao          0\n",
              "text_lower             0\n",
              "text_sem_emojis        0\n",
              "text_sem_caracteres    0\n",
              "text_tokenizado        0\n",
              "text_clean             0\n",
              "dtype: int64"
            ]
          },
          "metadata": {
            "tags": []
          },
          "execution_count": 55
        }
      ]
    },
    {
      "cell_type": "markdown",
      "metadata": {
        "id": "k_6wqyUeX1am"
      },
      "source": [
        "# Salvando o resultado num dataframe"
      ]
    },
    {
      "cell_type": "code",
      "metadata": {
        "id": "yXcAbvibow0d"
      },
      "source": [
        "df2 = df[['object', 'classificacao', 'text', 'text_tokenizado', 'text_clean']]\r\n",
        "df2.to_csv(\"/content/drive/MyDrive/Colab Notebooks/NLP/trabalho/dados/df_util_tokenizado.txt\",index=False)"
      ],
      "execution_count": null,
      "outputs": []
    },
    {
      "cell_type": "markdown",
      "metadata": {
        "id": "kDpf2jcVG9Ct"
      },
      "source": [
        "# Lendo o arquivo"
      ]
    },
    {
      "cell_type": "code",
      "metadata": {
        "colab": {
          "base_uri": "https://localhost:8080/",
          "height": 0
        },
        "id": "nNTz4YI5ou2x",
        "outputId": "1177b665-b584-4a8e-9096-a774acc51762"
      },
      "source": [
        "df_limpo = pd.read_csv(\"/content/drive/MyDrive/Colab Notebooks/NLP/trabalho/dados/df_util_tokenizado.txt\")\r\n",
        "print ('tamanho', df_limpo.shape)\r\n",
        "df_limpo.head(3)"
      ],
      "execution_count": 5,
      "outputs": [
        {
          "output_type": "stream",
          "text": [
            "tamanho (12000, 5)\n"
          ],
          "name": "stdout"
        },
        {
          "output_type": "execute_result",
          "data": {
            "text/html": [
              "<div>\n",
              "<style scoped>\n",
              "    .dataframe tbody tr th:only-of-type {\n",
              "        vertical-align: middle;\n",
              "    }\n",
              "\n",
              "    .dataframe tbody tr th {\n",
              "        vertical-align: top;\n",
              "    }\n",
              "\n",
              "    .dataframe thead th {\n",
              "        text-align: right;\n",
              "    }\n",
              "</style>\n",
              "<table border=\"1\" class=\"dataframe\">\n",
              "  <thead>\n",
              "    <tr style=\"text-align: right;\">\n",
              "      <th></th>\n",
              "      <th>object</th>\n",
              "      <th>classificacao</th>\n",
              "      <th>text</th>\n",
              "      <th>text_tokenizado</th>\n",
              "      <th>text_clean</th>\n",
              "    </tr>\n",
              "  </thead>\n",
              "  <tbody>\n",
              "    <tr>\n",
              "      <th>0</th>\n",
              "      <td>007-quantum-of-solace-t31</td>\n",
              "      <td>0</td>\n",
              "      <td>Achei inferior ao seu antecessor. Interessante...</td>\n",
              "      <td>['achei', 'inferior', 'antecessor', 'interessa...</td>\n",
              "      <td>achei inferior antecessor interessante históri...</td>\n",
              "    </tr>\n",
              "    <tr>\n",
              "      <th>1</th>\n",
              "      <td>a-chegada-t72189</td>\n",
              "      <td>0</td>\n",
              "      <td>Pütz me decepcionei muito com esse filme, espe...</td>\n",
              "      <td>['pütz', 'decepcionei', 'filme', 'esperava', '...</td>\n",
              "      <td>pütz decepcionei filme esperava coisa pra mim ...</td>\n",
              "    </tr>\n",
              "    <tr>\n",
              "      <th>2</th>\n",
              "      <td>a-centopeia-humana-t17782</td>\n",
              "      <td>0</td>\n",
              "      <td>- o cunete mais bizarro que já vi na minha vid...</td>\n",
              "      <td>['cunete', 'bizarro', 'vi', 'vida', 'hahahahaha']</td>\n",
              "      <td>cunete bizarro vi vida hahahahaha</td>\n",
              "    </tr>\n",
              "  </tbody>\n",
              "</table>\n",
              "</div>"
            ],
            "text/plain": [
              "                      object  ...                                         text_clean\n",
              "0  007-quantum-of-solace-t31  ...  achei inferior antecessor interessante históri...\n",
              "1           a-chegada-t72189  ...  pütz decepcionei filme esperava coisa pra mim ...\n",
              "2  a-centopeia-humana-t17782  ...                  cunete bizarro vi vida hahahahaha\n",
              "\n",
              "[3 rows x 5 columns]"
            ]
          },
          "metadata": {
            "tags": []
          },
          "execution_count": 5
        }
      ]
    },
    {
      "cell_type": "code",
      "metadata": {
        "colab": {
          "base_uri": "https://localhost:8080/"
        },
        "id": "o9E97tXaP1TD",
        "outputId": "fa8ed29a-8f44-492f-e05c-e1411b1664bd"
      },
      "source": [
        "# quatro registros ficaram com text_clean vazio pois continham somente emojis, portanto, serão excluídos\r\n",
        "df_limpo[df_limpo.text_clean.isnull()]\r\n",
        "\r\n",
        "# deletando os registros nulos\r\n",
        "qtde_anterior_nulos = df_limpo.shape[0]\r\n",
        "df_limpo.dropna(subset=['text_clean'], inplace = True)\r\n",
        "qtde_pos_exclusao_nulos = df_limpo.shape[0]\r\n",
        "\r\n",
        "print (\"Antes:\", qtde_anterior_nulos, 'Depois:', qtde_pos_exclusao_nulos, 'Diferença:', qtde_anterior_nulos-qtde_pos_exclusao_nulos)\r\n",
        "\r\n",
        "# resetando os índices\r\n",
        "df_limpo = df_limpo.reset_index()"
      ],
      "execution_count": 6,
      "outputs": [
        {
          "output_type": "stream",
          "text": [
            "Antes: 12000 Depois: 11971 Diferença: 29\n"
          ],
          "name": "stdout"
        }
      ]
    },
    {
      "cell_type": "markdown",
      "metadata": {
        "id": "-oYWoefmX1an"
      },
      "source": [
        "# 2 - Representação\n",
        "\n",
        "Vimos durante a nossa aula diversas forma de representar um documento de texto. Você vai usar cada uma dessas representações e compará-las. A seguir temos a listagem das representações que devem ser usadas para representar seu texto.\n",
        "\n",
        "a) Representação TF-IDF. Você pode usar tanto o gensim quanto o scikit para montar esta representação, mas lembre-se que é importante fazer o pré-processamento dos textos.\n",
        "\n",
        "b) Representação com o word2vec. O modelo poderá ser o apresentado na aula 03 ou algum outro modelo pré-treinado como os existentes no repositório http://nilc.icmc.usp.br/nilc/index.php/repositorio-de-word-embeddings-do-nilc . Neste caso, cada documento deverá ser representado pelo vetor que resultar da média dos vetores de todas as palavras que o compõem. Em outras palavras, se D é composto pelas palavras w1, w2, …, wn, e seus vetores embeddings são v1, v2, …, vn, então a representação do documento de D será v = (v1 + v2 + … + vn) / n.\n",
        "\n",
        "c) Extração de features do texto. Você deve pensar em ao menos 10 features para extrair do documento e que o possam representar. Aqui vão algumas sugestões: número de palavras, número de verbos, número de conjunções, número de palavras negativas, número de palavras fora do vocabulário, quantidades de entidades do tipo PESSOA, quantidade de entidades do tipo LOCAL, etc. \n",
        "\n",
        "Lembrando que você deve dividir seu conjunto em treino e teste. No TF-IDF, você só pode aplicar o método fit no conjunto de treino. Uma sugestão é dividir 80% do conjunto de dados para treino e 20% para teste. Essa divisão é aleatória, mas você pode usar o método train_test_split para essa divisão. \n",
        "\n"
      ]
    },
    {
      "cell_type": "markdown",
      "metadata": {
        "id": "KOUrbeaM85-M"
      },
      "source": [
        "## Dividindo os dados em treino e teste"
      ]
    },
    {
      "cell_type": "code",
      "metadata": {
        "id": "pLTaOunLPaSi"
      },
      "source": [
        "# Definindo X e y\r\n",
        "y = df_limpo['classificacao']\r\n",
        "X = df_limpo.drop(['classificacao'], axis=1)"
      ],
      "execution_count": 7,
      "outputs": []
    },
    {
      "cell_type": "code",
      "metadata": {
        "id": "Th4iQoxiX1ao"
      },
      "source": [
        "from sklearn.model_selection import train_test_split\n",
        "\n",
        "X_train, X_test, y_train, y_test = train_test_split(X, y, test_size = 0.20 , random_state = 42 )"
      ],
      "execution_count": 8,
      "outputs": []
    },
    {
      "cell_type": "code",
      "metadata": {
        "colab": {
          "base_uri": "https://localhost:8080/"
        },
        "id": "YYuDWhCr2kn7",
        "outputId": "aff1b7aa-9a69-4a46-f3c4-bcf6adeb78da"
      },
      "source": [
        "print (\"Qtde de dados de treino: X = {}, y = {} \".format(len(X_train), len(y_train)))\r\n",
        "print (\"Qtde de dados de teste: X = {}, y = {} \".format(len(X_test), len(y_test)))"
      ],
      "execution_count": 9,
      "outputs": [
        {
          "output_type": "stream",
          "text": [
            "Qtde de dados de treino: X = 9576, y = 9576 \n",
            "Qtde de dados de teste: X = 2395, y = 2395 \n"
          ],
          "name": "stdout"
        }
      ]
    },
    {
      "cell_type": "code",
      "metadata": {
        "colab": {
          "base_uri": "https://localhost:8080/",
          "height": 504
        },
        "id": "IyIDBP_dV2G9",
        "outputId": "1d8006b4-e711-422e-ee76-51ac98027bde"
      },
      "source": [
        "X_train"
      ],
      "execution_count": 10,
      "outputs": [
        {
          "output_type": "execute_result",
          "data": {
            "text/html": [
              "<div>\n",
              "<style scoped>\n",
              "    .dataframe tbody tr th:only-of-type {\n",
              "        vertical-align: middle;\n",
              "    }\n",
              "\n",
              "    .dataframe tbody tr th {\n",
              "        vertical-align: top;\n",
              "    }\n",
              "\n",
              "    .dataframe thead th {\n",
              "        text-align: right;\n",
              "    }\n",
              "</style>\n",
              "<table border=\"1\" class=\"dataframe\">\n",
              "  <thead>\n",
              "    <tr style=\"text-align: right;\">\n",
              "      <th></th>\n",
              "      <th>index</th>\n",
              "      <th>object</th>\n",
              "      <th>text</th>\n",
              "      <th>text_tokenizado</th>\n",
              "      <th>text_clean</th>\n",
              "    </tr>\n",
              "  </thead>\n",
              "  <tbody>\n",
              "    <tr>\n",
              "      <th>9826</th>\n",
              "      <td>9853</td>\n",
              "      <td>a-barraca-do-beijo-t223946</td>\n",
              "      <td>Bem previsível !</td>\n",
              "      <td>['bem', 'previsível']</td>\n",
              "      <td>bem previsível</td>\n",
              "    </tr>\n",
              "    <tr>\n",
              "      <th>3872</th>\n",
              "      <td>3882</td>\n",
              "      <td>a-bussola-de-ouro-t2</td>\n",
              "      <td>Nicole é diva *--*Mais esse final qq</td>\n",
              "      <td>['nicole', 'diva', 'final', 'qq']</td>\n",
              "      <td>nicole diva final qq</td>\n",
              "    </tr>\n",
              "    <tr>\n",
              "      <th>11163</th>\n",
              "      <td>11191</td>\n",
              "      <td>500-dias-com-ela-t8142</td>\n",
              "      <td>E, claro, a Zooey Deschanel é a mulher mais li...</td>\n",
              "      <td>['claro', 'zooey', 'deschanel', 'mulher', 'lin...</td>\n",
              "      <td>claro zooey deschanel mulher linda universo hehe</td>\n",
              "    </tr>\n",
              "    <tr>\n",
              "      <th>4049</th>\n",
              "      <td>4059</td>\n",
              "      <td>a-centopeia-humana-t17782</td>\n",
              "      <td>O filme mais bizarro que já assisti!</td>\n",
              "      <td>['filme', 'bizarro', 'assisti']</td>\n",
              "      <td>filme bizarro assisti</td>\n",
              "    </tr>\n",
              "    <tr>\n",
              "      <th>267</th>\n",
              "      <td>267</td>\n",
              "      <td>a-bussola-de-ouro-t2</td>\n",
              "      <td>Péssimo,fraquíssimo.</td>\n",
              "      <td>['péssimofraquíssimo']</td>\n",
              "      <td>péssimofraquíssimo</td>\n",
              "    </tr>\n",
              "    <tr>\n",
              "      <th>...</th>\n",
              "      <td>...</td>\n",
              "      <td>...</td>\n",
              "      <td>...</td>\n",
              "      <td>...</td>\n",
              "      <td>...</td>\n",
              "    </tr>\n",
              "    <tr>\n",
              "      <th>11964</th>\n",
              "      <td>11993</td>\n",
              "      <td>500-dias-com-ela-t8142</td>\n",
              "      <td>Triste o fim.. ;(</td>\n",
              "      <td>['triste', 'fim']</td>\n",
              "      <td>triste fim</td>\n",
              "    </tr>\n",
              "    <tr>\n",
              "      <th>5191</th>\n",
              "      <td>5205</td>\n",
              "      <td>10-coisas-que-eu-odeio-em-voce-t1964</td>\n",
              "      <td>Muito bom, recomendo &lt;3</td>\n",
              "      <td>['bom', 'recomendo', '3']</td>\n",
              "      <td>bom recomendo 3</td>\n",
              "    </tr>\n",
              "    <tr>\n",
              "      <th>5390</th>\n",
              "      <td>5404</td>\n",
              "      <td>a-centopeia-humana-t17782</td>\n",
              "      <td>Na minha opinião, nem tão gore e nem tão bom a...</td>\n",
              "      <td>['opinião', 'tão', 'gore', 'tão', 'bom', 'assi...</td>\n",
              "      <td>opinião tão gore tão bom assim imaginei remake...</td>\n",
              "    </tr>\n",
              "    <tr>\n",
              "      <th>860</th>\n",
              "      <td>861</td>\n",
              "      <td>007-operacao-skyfall-t31713</td>\n",
              "      <td>Bom demais...Esse papel caiu como luva pro Cra...</td>\n",
              "      <td>['bom', 'demaisesse', 'papel', 'caiu', 'luva',...</td>\n",
              "      <td>bom demaisesse papel caiu luva pro craigfantás...</td>\n",
              "    </tr>\n",
              "    <tr>\n",
              "      <th>7270</th>\n",
              "      <td>7292</td>\n",
              "      <td>10-coisas-que-eu-odeio-em-voce-t1964</td>\n",
              "      <td>Gosto desse filme porque? ()sou sensível ()sou...</td>\n",
              "      <td>['gosto', 'desse', 'filme', 'porque', 'sensíve...</td>\n",
              "      <td>gosto desse filme porque sensível romântico fr...</td>\n",
              "    </tr>\n",
              "  </tbody>\n",
              "</table>\n",
              "<p>9576 rows × 5 columns</p>\n",
              "</div>"
            ],
            "text/plain": [
              "       index  ...                                         text_clean\n",
              "9826    9853  ...                                     bem previsível\n",
              "3872    3882  ...                               nicole diva final qq\n",
              "11163  11191  ...   claro zooey deschanel mulher linda universo hehe\n",
              "4049    4059  ...                              filme bizarro assisti\n",
              "267      267  ...                                 péssimofraquíssimo\n",
              "...      ...  ...                                                ...\n",
              "11964  11993  ...                                         triste fim\n",
              "5191    5205  ...                                    bom recomendo 3\n",
              "5390    5404  ...  opinião tão gore tão bom assim imaginei remake...\n",
              "860      861  ...  bom demaisesse papel caiu luva pro craigfantás...\n",
              "7270    7292  ...  gosto desse filme porque sensível romântico fr...\n",
              "\n",
              "[9576 rows x 5 columns]"
            ]
          },
          "metadata": {
            "tags": []
          },
          "execution_count": 10
        }
      ]
    },
    {
      "cell_type": "markdown",
      "metadata": {
        "id": "TMW-WQTtX1ap"
      },
      "source": [
        "## Representação TF-IDF"
      ]
    },
    {
      "cell_type": "code",
      "metadata": {
        "colab": {
          "base_uri": "https://localhost:8080/",
          "height": 289
        },
        "id": "UfUNSu8OCKHw",
        "outputId": "6aba05c6-9da9-4560-8c11-7c9dccbb96f2"
      },
      "source": [
        "# criando um dicionário de palavras\r\n",
        "\r\n",
        "# cria um dicionário de palavras\r\n",
        "\r\n",
        "import ast\r\n",
        "\r\n",
        "# cria um dicionário de palavras\r\n",
        "dicionario = corpora.Dictionary() # modulo que lida com dicionario e suas funcionalidades\r\n",
        "def dicionario_palavras(row):\r\n",
        "    new_row = ast.literal_eval(row['text_tokenizado'])\r\n",
        "    bow_corpus = dicionario.doc2bow(new_row, allow_update=True)\r\n",
        "    return bow_corpus\r\n",
        "\r\n",
        "\r\n",
        "from gensim import corpora\r\n",
        "\r\n",
        "# cria um dicionário de palavras\r\n",
        "X_train['dicionario'] = X_train.apply(dicionario_palavras, axis=1) # chamando a função que cria um dicionário para cada registro\r\n",
        "\r\n",
        "# validando\r\n",
        "X_train[['text_clean','dicionario']].head(5)"
      ],
      "execution_count": 11,
      "outputs": [
        {
          "output_type": "stream",
          "text": [
            "/usr/local/lib/python3.6/dist-packages/ipykernel_launcher.py:18: SettingWithCopyWarning: \n",
            "A value is trying to be set on a copy of a slice from a DataFrame.\n",
            "Try using .loc[row_indexer,col_indexer] = value instead\n",
            "\n",
            "See the caveats in the documentation: https://pandas.pydata.org/pandas-docs/stable/user_guide/indexing.html#returning-a-view-versus-a-copy\n"
          ],
          "name": "stderr"
        },
        {
          "output_type": "execute_result",
          "data": {
            "text/html": [
              "<div>\n",
              "<style scoped>\n",
              "    .dataframe tbody tr th:only-of-type {\n",
              "        vertical-align: middle;\n",
              "    }\n",
              "\n",
              "    .dataframe tbody tr th {\n",
              "        vertical-align: top;\n",
              "    }\n",
              "\n",
              "    .dataframe thead th {\n",
              "        text-align: right;\n",
              "    }\n",
              "</style>\n",
              "<table border=\"1\" class=\"dataframe\">\n",
              "  <thead>\n",
              "    <tr style=\"text-align: right;\">\n",
              "      <th></th>\n",
              "      <th>text_clean</th>\n",
              "      <th>dicionario</th>\n",
              "    </tr>\n",
              "  </thead>\n",
              "  <tbody>\n",
              "    <tr>\n",
              "      <th>9826</th>\n",
              "      <td>bem previsível</td>\n",
              "      <td>[(0, 1), (1, 1)]</td>\n",
              "    </tr>\n",
              "    <tr>\n",
              "      <th>3872</th>\n",
              "      <td>nicole diva final qq</td>\n",
              "      <td>[(2, 1), (3, 1), (4, 1), (5, 1)]</td>\n",
              "    </tr>\n",
              "    <tr>\n",
              "      <th>11163</th>\n",
              "      <td>claro zooey deschanel mulher linda universo hehe</td>\n",
              "      <td>[(6, 1), (7, 1), (8, 1), (9, 1), (10, 1), (11,...</td>\n",
              "    </tr>\n",
              "    <tr>\n",
              "      <th>4049</th>\n",
              "      <td>filme bizarro assisti</td>\n",
              "      <td>[(13, 1), (14, 1), (15, 1)]</td>\n",
              "    </tr>\n",
              "    <tr>\n",
              "      <th>267</th>\n",
              "      <td>péssimofraquíssimo</td>\n",
              "      <td>[(16, 1)]</td>\n",
              "    </tr>\n",
              "  </tbody>\n",
              "</table>\n",
              "</div>"
            ],
            "text/plain": [
              "                                             text_clean                                         dicionario\n",
              "9826                                     bem previsível                                   [(0, 1), (1, 1)]\n",
              "3872                               nicole diva final qq                   [(2, 1), (3, 1), (4, 1), (5, 1)]\n",
              "11163  claro zooey deschanel mulher linda universo hehe  [(6, 1), (7, 1), (8, 1), (9, 1), (10, 1), (11,...\n",
              "4049                              filme bizarro assisti                        [(13, 1), (14, 1), (15, 1)]\n",
              "267                                  péssimofraquíssimo                                          [(16, 1)]"
            ]
          },
          "metadata": {
            "tags": []
          },
          "execution_count": 11
        }
      ]
    },
    {
      "cell_type": "code",
      "metadata": {
        "colab": {
          "base_uri": "https://localhost:8080/",
          "height": 35
        },
        "id": "WCk149aREESg",
        "outputId": "4eda36c1-ab61-4816-8bcb-b896199829b7"
      },
      "source": [
        "'''\r\n",
        "# Visualizando as palavras do dicionário\r\n",
        "id_corpus = [(dicionario[id_palavra],cont) for id_palavra,cont in X_train['dicionario'][0]]\r\n",
        "print(id_corpus)\r\n",
        "'''"
      ],
      "execution_count": 12,
      "outputs": [
        {
          "output_type": "execute_result",
          "data": {
            "application/vnd.google.colaboratory.intrinsic+json": {
              "type": "string"
            },
            "text/plain": [
              "\"\\n# Visualizando as palavras do dicionário\\nid_corpus = [(dicionario[id_palavra],cont) for id_palavra,cont in X_train['dicionario'][0]]\\nprint(id_corpus)\\n\""
            ]
          },
          "metadata": {
            "tags": []
          },
          "execution_count": 12
        }
      ]
    },
    {
      "cell_type": "code",
      "metadata": {
        "id": "xASWQ3LY88V8"
      },
      "source": [
        "# computa para cada termo, a fórmula tf-idf\r\n",
        "model_tfidf = TfidfModel(X_train['dicionario'])"
      ],
      "execution_count": 13,
      "outputs": []
    },
    {
      "cell_type": "code",
      "metadata": {
        "colab": {
          "base_uri": "https://localhost:8080/",
          "height": 80
        },
        "id": "kgXUzaysFveh",
        "outputId": "80ba367a-553e-43a3-dd27-2a7186caa520"
      },
      "source": [
        "# vamos ver a representação de um dos filmes\r\n",
        "X_train[['text_clean','dicionario']][230:231] "
      ],
      "execution_count": 14,
      "outputs": [
        {
          "output_type": "execute_result",
          "data": {
            "text/html": [
              "<div>\n",
              "<style scoped>\n",
              "    .dataframe tbody tr th:only-of-type {\n",
              "        vertical-align: middle;\n",
              "    }\n",
              "\n",
              "    .dataframe tbody tr th {\n",
              "        vertical-align: top;\n",
              "    }\n",
              "\n",
              "    .dataframe thead th {\n",
              "        text-align: right;\n",
              "    }\n",
              "</style>\n",
              "<table border=\"1\" class=\"dataframe\">\n",
              "  <thead>\n",
              "    <tr style=\"text-align: right;\">\n",
              "      <th></th>\n",
              "      <th>text_clean</th>\n",
              "      <th>dicionario</th>\n",
              "    </tr>\n",
              "  </thead>\n",
              "  <tbody>\n",
              "    <tr>\n",
              "      <th>7290</th>\n",
              "      <td>quase vomeitei assistindo filme</td>\n",
              "      <td>[(15, 1), (369, 1), (1786, 1), (2107, 1)]</td>\n",
              "    </tr>\n",
              "  </tbody>\n",
              "</table>\n",
              "</div>"
            ],
            "text/plain": [
              "                           text_clean                                 dicionario\n",
              "7290  quase vomeitei assistindo filme  [(15, 1), (369, 1), (1786, 1), (2107, 1)]"
            ]
          },
          "metadata": {
            "tags": []
          },
          "execution_count": 14
        }
      ]
    },
    {
      "cell_type": "code",
      "metadata": {
        "colab": {
          "base_uri": "https://localhost:8080/"
        },
        "id": "oWsQj9r8FiFR",
        "outputId": "621578f2-6bbc-46ce-afb3-22bcea5f8d47"
      },
      "source": [
        "# vamos ver a representação de um dos filmes\r\n",
        "model_tfidf[X_train['dicionario'][230]] "
      ],
      "execution_count": 15,
      "outputs": [
        {
          "output_type": "execute_result",
          "data": {
            "text/plain": [
              "[(15, 0.06210835266461227),\n",
              " (765, 0.4346138003672933),\n",
              " (7017, 0.5655480234309346),\n",
              " (7018, 0.6981467111237794)]"
            ]
          },
          "metadata": {
            "tags": []
          },
          "execution_count": 15
        }
      ]
    },
    {
      "cell_type": "markdown",
      "metadata": {
        "id": "jXzvBElpX1as"
      },
      "source": [
        "## Representação WORD2VEC"
      ]
    },
    {
      "cell_type": "code",
      "metadata": {
        "id": "sttyth1FHZK0"
      },
      "source": [
        "import gensim\r\n",
        "from nltk import sent_tokenize # converte o texto para sentenças"
      ],
      "execution_count": 16,
      "outputs": []
    },
    {
      "cell_type": "code",
      "metadata": {
        "colab": {
          "base_uri": "https://localhost:8080/",
          "height": 419
        },
        "id": "OIA9IZ_IWSix",
        "outputId": "f5c19cee-f217-4385-9421-1f5b60df8bc9"
      },
      "source": [
        "corpus_filmes = []\r\n",
        "for row in X_train.itertuples():\r\n",
        "  #print (row.text)\r\n",
        "  for sentence in row.text.split('.'):\r\n",
        "    if sentence != '':\r\n",
        "      corpus_filmes.append((row[1], sentence))\r\n",
        "new_df = pd.DataFrame(corpus_filmes, columns=['ID', 'SENTENCE'])\r\n",
        "new_df"
      ],
      "execution_count": 17,
      "outputs": [
        {
          "output_type": "execute_result",
          "data": {
            "text/html": [
              "<div>\n",
              "<style scoped>\n",
              "    .dataframe tbody tr th:only-of-type {\n",
              "        vertical-align: middle;\n",
              "    }\n",
              "\n",
              "    .dataframe tbody tr th {\n",
              "        vertical-align: top;\n",
              "    }\n",
              "\n",
              "    .dataframe thead th {\n",
              "        text-align: right;\n",
              "    }\n",
              "</style>\n",
              "<table border=\"1\" class=\"dataframe\">\n",
              "  <thead>\n",
              "    <tr style=\"text-align: right;\">\n",
              "      <th></th>\n",
              "      <th>ID</th>\n",
              "      <th>SENTENCE</th>\n",
              "    </tr>\n",
              "  </thead>\n",
              "  <tbody>\n",
              "    <tr>\n",
              "      <th>0</th>\n",
              "      <td>9853</td>\n",
              "      <td>Bem previsível !</td>\n",
              "    </tr>\n",
              "    <tr>\n",
              "      <th>1</th>\n",
              "      <td>3882</td>\n",
              "      <td>Nicole é diva *--*Mais esse final qq</td>\n",
              "    </tr>\n",
              "    <tr>\n",
              "      <th>2</th>\n",
              "      <td>11191</td>\n",
              "      <td>E, claro, a Zooey Deschanel é a mulher mais li...</td>\n",
              "    </tr>\n",
              "    <tr>\n",
              "      <th>3</th>\n",
              "      <td>4059</td>\n",
              "      <td>O filme mais bizarro que já assisti!</td>\n",
              "    </tr>\n",
              "    <tr>\n",
              "      <th>4</th>\n",
              "      <td>267</td>\n",
              "      <td>Péssimo,fraquíssimo</td>\n",
              "    </tr>\n",
              "    <tr>\n",
              "      <th>...</th>\n",
              "      <td>...</td>\n",
              "      <td>...</td>\n",
              "    </tr>\n",
              "    <tr>\n",
              "      <th>24068</th>\n",
              "      <td>5404</td>\n",
              "      <td>Não fosse ele, seria um filme engraçado</td>\n",
              "    </tr>\n",
              "    <tr>\n",
              "      <th>24069</th>\n",
              "      <td>861</td>\n",
              "      <td>Bom demais</td>\n",
              "    </tr>\n",
              "    <tr>\n",
              "      <th>24070</th>\n",
              "      <td>861</td>\n",
              "      <td>Esse papel caiu como luva pro Craig</td>\n",
              "    </tr>\n",
              "    <tr>\n",
              "      <th>24071</th>\n",
              "      <td>861</td>\n",
              "      <td>Fantástico!!</td>\n",
              "    </tr>\n",
              "    <tr>\n",
              "      <th>24072</th>\n",
              "      <td>7292</td>\n",
              "      <td>Gosto desse filme porque? ()sou sensível ()sou...</td>\n",
              "    </tr>\n",
              "  </tbody>\n",
              "</table>\n",
              "<p>24073 rows × 2 columns</p>\n",
              "</div>"
            ],
            "text/plain": [
              "          ID                                           SENTENCE\n",
              "0       9853                                   Bem previsível !\n",
              "1       3882               Nicole é diva *--*Mais esse final qq\n",
              "2      11191  E, claro, a Zooey Deschanel é a mulher mais li...\n",
              "3       4059               O filme mais bizarro que já assisti!\n",
              "4        267                                Péssimo,fraquíssimo\n",
              "...      ...                                                ...\n",
              "24068   5404            Não fosse ele, seria um filme engraçado\n",
              "24069    861                                         Bom demais\n",
              "24070    861                Esse papel caiu como luva pro Craig\n",
              "24071    861                                       Fantástico!!\n",
              "24072   7292  Gosto desse filme porque? ()sou sensível ()sou...\n",
              "\n",
              "[24073 rows x 2 columns]"
            ]
          },
          "metadata": {
            "tags": []
          },
          "execution_count": 17
        }
      ]
    },
    {
      "cell_type": "code",
      "metadata": {
        "id": "PtDvXUvUIrPa"
      },
      "source": [
        "from gensim.models import KeyedVectors"
      ],
      "execution_count": 18,
      "outputs": []
    },
    {
      "cell_type": "code",
      "metadata": {
        "colab": {
          "base_uri": "https://localhost:8080/"
        },
        "id": "hvQ3aQdEUJBA",
        "outputId": "cce4a51b-5db0-4dd3-e924-d6dad84fd93a"
      },
      "source": [
        "# carregando um modelo treinado \r\n",
        "model_word2vec = KeyedVectors.load_word2vec_format('/content/drive/MyDrive/Colab Notebooks/NLP/trabalho/dados/vectors-wikipt.bin',binary= True)\r\n",
        "\r\n",
        "stp_words = nltk.corpus.stopwords.words('portuguese')\r\n",
        "\r\n",
        "features = []\r\n",
        "\r\n",
        "for idx, text in enumerate(X_train['text_clean']):\r\n",
        "  tok_lst = nltk.word_tokenize(text)\r\n",
        "  tok_lst = [tok for tok in tok_lst if tok not in stp_words and len(tok) > 1]\r\n",
        "\r\n",
        "  ntok = 0\r\n",
        "  doc = np.zeros((300, ))\r\n",
        "  #print (tok_lst)\r\n",
        "  for tok in tok_lst:\r\n",
        "    if tok in model_word2vec:\r\n",
        "      doc = np.add(doc, model_word2vec[tok])\r\n",
        "      ntok += 1\r\n",
        "  features.append(doc/ntok)\r\n",
        "\r\n",
        "features = np.array(features)\r\n",
        "features[np.isnan(features)] = 0"
      ],
      "execution_count": 19,
      "outputs": [
        {
          "output_type": "stream",
          "text": [
            "/usr/local/lib/python3.6/dist-packages/ipykernel_launcher.py:18: RuntimeWarning: invalid value encountered in true_divide\n"
          ],
          "name": "stderr"
        }
      ]
    },
    {
      "cell_type": "markdown",
      "metadata": {
        "id": "8qFSa1WPX1au"
      },
      "source": [
        "## Representação EXTRAÇÃO DE FEATURES"
      ]
    },
    {
      "cell_type": "markdown",
      "metadata": {
        "id": "oOPBCPE1m-i7"
      },
      "source": [
        "### Identificando qtde de verbos, adjetivos, pronomes e adverbios"
      ]
    },
    {
      "cell_type": "code",
      "metadata": {
        "colab": {
          "base_uri": "https://localhost:8080/",
          "height": 142
        },
        "id": "CllwaM6melTn",
        "outputId": "fe7e4e8e-c0ce-4130-afbd-a242e02cea95"
      },
      "source": [
        "import spacy\r\n",
        "\r\n",
        "model = spacy.load('pt')\r\n",
        "model_docs = []\r\n",
        "class_features = {'DOC':[], 'VERB':[],'ADJ':[],'NOUN':[],'ADV':[]}\r\n",
        "\r\n",
        "for idx, text in enumerate(X_train['text_clean']):\r\n",
        "  model_docs.append(model(text))\r\n",
        "  #print (idx, text)\r\n",
        "for doc in model_docs:  \r\n",
        "    verb, adj, noun, adv = 0, 0, 0, 0\r\n",
        "    num_palavras = len(doc)\r\n",
        "    \r\n",
        "    for tok in doc:\r\n",
        "        if tok.pos_ == 'VERB':\r\n",
        "            verb += 1\r\n",
        "        if tok.pos_ == 'ADJ':\r\n",
        "            adj += 1\r\n",
        "        if tok.pos_ == 'NOUN':\r\n",
        "            noun += 1\r\n",
        "        if tok.pos_ == 'ADV':\r\n",
        "            adv += 1\r\n",
        "    class_features['DOC'].append(doc)\r\n",
        "    class_features['VERB'].append(verb/num_palavras)\r\n",
        "    class_features['ADJ'].append(adj/num_palavras)\r\n",
        "    class_features['NOUN'].append(noun/num_palavras)\r\n",
        "    class_features['ADV'].append(adv/num_palavras)\r\n",
        "\r\n",
        "df_class = pd.DataFrame(class_features)\r\n",
        "df_class.head(3)"
      ],
      "execution_count": 20,
      "outputs": [
        {
          "output_type": "execute_result",
          "data": {
            "text/html": [
              "<div>\n",
              "<style scoped>\n",
              "    .dataframe tbody tr th:only-of-type {\n",
              "        vertical-align: middle;\n",
              "    }\n",
              "\n",
              "    .dataframe tbody tr th {\n",
              "        vertical-align: top;\n",
              "    }\n",
              "\n",
              "    .dataframe thead th {\n",
              "        text-align: right;\n",
              "    }\n",
              "</style>\n",
              "<table border=\"1\" class=\"dataframe\">\n",
              "  <thead>\n",
              "    <tr style=\"text-align: right;\">\n",
              "      <th></th>\n",
              "      <th>DOC</th>\n",
              "      <th>VERB</th>\n",
              "      <th>ADJ</th>\n",
              "      <th>NOUN</th>\n",
              "      <th>ADV</th>\n",
              "    </tr>\n",
              "  </thead>\n",
              "  <tbody>\n",
              "    <tr>\n",
              "      <th>0</th>\n",
              "      <td>(bem, previsível)</td>\n",
              "      <td>0.00</td>\n",
              "      <td>0.5</td>\n",
              "      <td>0.000000</td>\n",
              "      <td>0.500000</td>\n",
              "    </tr>\n",
              "    <tr>\n",
              "      <th>1</th>\n",
              "      <td>(nicole, diva, final, qq)</td>\n",
              "      <td>0.25</td>\n",
              "      <td>0.5</td>\n",
              "      <td>0.000000</td>\n",
              "      <td>0.000000</td>\n",
              "    </tr>\n",
              "    <tr>\n",
              "      <th>2</th>\n",
              "      <td>(claro, zooey, deschanel, mulher, linda, unive...</td>\n",
              "      <td>0.00</td>\n",
              "      <td>0.0</td>\n",
              "      <td>0.142857</td>\n",
              "      <td>0.142857</td>\n",
              "    </tr>\n",
              "  </tbody>\n",
              "</table>\n",
              "</div>"
            ],
            "text/plain": [
              "                                                 DOC  VERB  ...      NOUN       ADV\n",
              "0                                  (bem, previsível)  0.00  ...  0.000000  0.500000\n",
              "1                          (nicole, diva, final, qq)  0.25  ...  0.000000  0.000000\n",
              "2  (claro, zooey, deschanel, mulher, linda, unive...  0.00  ...  0.142857  0.142857\n",
              "\n",
              "[3 rows x 5 columns]"
            ]
          },
          "metadata": {
            "tags": []
          },
          "execution_count": 20
        }
      ]
    },
    {
      "cell_type": "markdown",
      "metadata": {
        "id": "cH5Qwo-4AWGx"
      },
      "source": [
        "### Coletar emoções no texto (lexicos do emotaix)"
      ]
    },
    {
      "cell_type": "code",
      "metadata": {
        "colab": {
          "base_uri": "https://localhost:8080/",
          "height": 196
        },
        "id": "-VSsOG5vfYE4",
        "outputId": "e4a058c8-e9d6-4289-8488-141ee09bd57c"
      },
      "source": [
        "# estou coletando apenas de 'Super category' (terceira coluna)\r\n",
        "dicionario_emotaix = {'ÓDIO':[],'AGRESSIVIDADE':[],'AFEIÇÃO':[],'GENTILEZA':[]}\r\n",
        "fd_emotaix = open('/content/drive/MyDrive/Colab Notebooks/NLP/trabalho/dados/Emotaix-pt .csv','r')\r\n",
        "header = fd_emotaix.readline()\r\n",
        "\r\n",
        "for line in fd_emotaix:\r\n",
        "    entry = line.replace('\\n','').split(\",\")\r\n",
        "    if entry[2] in dicionario_emotaix:\r\n",
        "        dicionario_emotaix[entry[2]].append(entry[0])\r\n",
        "print(\"Visualizando o dicionários de emoções. \\n\",dicionario_emotaix)\r\n",
        "\r\n",
        "emotaix_features = {'TEXT':[], 'ÓDIO':[],'AGRESSIVIDADE':[],'AFEIÇÃO':[],'GENTILEZA':[]}\r\n",
        "\r\n",
        "for doc in model_docs:\r\n",
        "    odio = 0\r\n",
        "    agressividade = 0\r\n",
        "    afeicao = 0\r\n",
        "    gentileza = 0\r\n",
        "    for tok in doc:\r\n",
        "        #print (doc)\r\n",
        "        if tok.text in dicionario_emotaix['ÓDIO']:\r\n",
        "            odio += 1\r\n",
        "        if tok.text in dicionario_emotaix['AGRESSIVIDADE']:\r\n",
        "            agressividade += 1\r\n",
        "        if tok.text in dicionario_emotaix['AFEIÇÃO']:\r\n",
        "            afeicao += 1\r\n",
        "        if tok.text in dicionario_emotaix['GENTILEZA']:\r\n",
        "            gentileza += 1\r\n",
        "            \r\n",
        "    emotaix_features['TEXT'].append(doc)   \r\n",
        "    emotaix_features['ÓDIO'].append(odio / len(doc))\r\n",
        "    emotaix_features['AGRESSIVIDADE'].append(agressividade / len(doc))\r\n",
        "    emotaix_features['AFEIÇÃO'].append(afeicao / len(doc))\r\n",
        "    emotaix_features['GENTILEZA'].append(gentileza / len(doc))\r\n",
        "\r\n",
        "df_emotaix = pd.DataFrame(emotaix_features)\r\n",
        "df_emotaix.head(3)"
      ],
      "execution_count": 21,
      "outputs": [
        {
          "output_type": "stream",
          "text": [
            "Visualizando o dicionários de emoções. \n",
            " {'ÓDIO': ['animosidade', 'antipatia', 'antipático', 'antipatizar', 'charlatão', 'ciúme', 'ciumento', 'desunião', 'desunir', 'detestação', 'detestar', 'detestável', 'embusteiro', 'enciumar', 'execração', 'execrar', 'execrável', 'falsário', 'falsidade', 'falsidão', 'falsificação', 'falsificador', 'falsificar', 'falso', 'hipocrisia', 'hipócrita', 'hipocritamente', 'hostil ', 'hostilidade', 'hostilizar', 'hostilmente', 'impostor', 'impostura', 'imposturar', 'imposturice', 'infidelidade', 'infiel', 'ingratamente ', 'ingratidão ', 'ingrato', 'inimigo', 'inimizade', 'insídia', 'insidiosamente', 'intrujão', 'intrujar', 'intrujice', 'mágoa', 'magoado', 'magoar', 'mal-agradecido', 'mal-amada', 'mal-amado', 'mal-encarado', 'mentir', 'mentira', 'mentiroso', 'mesquinhez', 'mesquinheza', 'mesquinho', 'odiar', 'odiento', 'ódio', 'odiosamente', 'odioso', 'preconceito', 'racismo ', 'racista ', 'rancor', 'rancorosamente', 'rancoroso', 'ressentida', 'ressentido', 'ressentimento', 'ressentir', 'rival', 'rivalidade', 'rivalizar', 'traição', 'traiçoeiramente', 'traiçoeiro', 'traidor', 'trair', 'vigarice', 'vigário', 'vigarista', 'vigarizar', 'vingador', 'vingança', 'vingar', 'vingativo', 'xenofobia', 'xenófobo', 'asco', 'ascorosidade', 'ascoroso', 'aversão ', 'badalhocar', 'baixeza', 'conspurcação', 'conspurcar', 'desconsolação', 'desconsolar', 'desconsolo', 'descontentamento', 'descontentar', 'descontente', 'desgostar', 'desgosto', 'desgostoso', 'desprazer', 'ignóbil ', 'ignobilidade', 'impureza', 'impuro', 'imundíce ', 'imundo ', 'javardo', 'lixeira', 'lixo', 'moléstia', 'nojento', 'nojo', 'obscenidade', 'obsceno', 'porcaria', 'refugar', 'refugo ', 'repelir', 'repugnância', 'repugnante', 'repugnar', 'repulsa', 'repulsivo', 'sujar', 'sujeira', 'sujidade', 'sujo ', 'vil', 'vilania', 'vilão', 'vileza', 'abandalhação', 'abandalhado', 'abandalhamento', 'abandalhar', 'abominação', 'absolutista', 'admoestação', 'admoestar', 'advertência', 'advertir', 'afastado', 'afastamento', 'afastar', 'amor próprio ', 'arrogância', 'arrogante', 'autoridade', 'autoritário', 'canceroso', 'castigar', 'castigo', 'censura', 'censurado', 'censurar', 'chacota', 'cínico', 'cinismo', 'crítica', 'criticar', 'depreciação', 'depreciar', 'descasca', 'descascar', 'descompor', 'descompostura', 'desconceituar', 'desconsideração', 'desconsiderar', 'descorado', 'descorar', 'desdém', 'desdenhar', 'desdenhável', 'desdenhoso', 'deseducar', 'deseducativo', 'despótico', 'desprezador', 'desprezar', 'desprezível', 'desprezivelmente', 'desprezo', 'desrespeitar', 'desrespeito', 'desvalorização', 'desvalorizar', 'difamar ', 'egoísmo ', 'egoísta ', 'egolatria', 'egotismo', 'elitismo', 'elitista', 'embuste', 'enganador', 'enganar', 'engano', 'enganoso', 'engazupar', 'engodo', 'enjeitado', 'enjeitar', 'enojar', 'enojo', 'ensoberbecer', 'escarnecer', 'escárnio', 'escória', 'esgar', 'esquecer', 'esquecido', 'esquecimento', 'excomungar', 'excomunhão', 'expulsão', 'expulsar', 'expulso', 'fustigação', 'fustigar', 'gentalha', 'gentinha', 'ignóbil', 'ignobilmente', 'ignorado', 'ignorância', 'ignorante', 'ignorar', 'ignoto', 'imperial', 'imperialmente', 'imperiosamente', 'imperioso', 'imprestável', 'inaceitável', 'inadmissível', 'inconsideração', 'indiferença', 'indiferente', 'interesseiro', 'inútil', 'inutilidade', 'ironia', 'ironicamente', 'irónico', 'irrepreensível', 'irrepreensivelmente', 'irreverência', 'irreverenciosamente', 'irreverente', 'irreverentemente', 'irrisão', 'irrisório', 'judiação', 'judiaria', 'lastimável', 'lastimavelmente', 'lastimoso', 'lograr', 'logro', 'ludibriar', 'ludíbrio', 'mandão', 'mandar', 'menosprezar', 'menosprezo', 'miserável', 'miseravelmente', 'mísero', 'mostrengo', 'ostracismo', 'pejorativamente', 'pejorativo', 'petulância', 'petulante', 'pindérico', 'pulha', 'pulhice', 'punição', 'punir', 'punitivo', 'punível', 'recriminação', 'recriminar', 'recriminatório', 'rejeição', 'rejeitar', 'reles', 'renegação', 'renegado', 'renegar', 'repreender', 'repreensão', 'repreensivamente', 'repreensível', 'repreensivelmente', 'represália', 'reprimenda', 'reprovação', 'reprovar', 'repudiar', 'repúdio', 'repulsão', 'ridicularizar', 'sarcasmo', 'sarcasmos', 'sarcástico', 'esnobe', 'esnobe', 'esnobismo', 'trapaça', 'trapacear', 'trapaceiro', 'troça', 'troçar', 'vaiar', 'vão', 'vilipendiar', 'vilipêndio', 'zombar', 'amuado', 'amuar', 'amuo', 'arrepiar', 'assediado', 'assediador', 'assediar', 'assédio', 'carrancudo', 'desbocado', 'desbocar', 'desencantação', 'desencantamento', 'desmesura', 'desprimor', 'desprimorar', 'embirra', 'embirração', 'embirrante', 'embirrar', 'embirrativo', 'embirrento', 'embravecer', 'embravecimento', 'encanzinar', 'encrespado', 'encrespamento', 'encrespar', 'encruado', 'encruamento', 'encruar', 'enervação', 'enervado', 'enervamento', 'enervante', 'enervar', 'escabrosidade', 'escabroso', 'exacerbação', 'exacerbar', 'exageradamente', 'exagerado', 'exagerar', 'exagero', 'exasperação', 'exasperante', 'exasperar', 'frender', 'fruste', 'fulo', 'grosseiro', 'grosseria', 'grotescamente', 'grotesco', 'grunhido', 'grunhir', 'impertinência', 'impertinente', 'implicação', 'implicar', 'importunar', 'importuno', 'impropriamente', 'impróprio', 'inconveniência', 'inconveniente', 'inculto', 'indecência', 'indecente', 'indecorosamente', 'indecoroso', 'inoportuno', 'insistente', 'irritabilidade', 'irritação', 'irritamente', 'irritante', 'irritantemente', 'irritar', 'irritável', 'labrego', 'ladrão', 'ladroagem', 'ladroeira', 'lamecha', 'lapuz', 'larapiar', 'larápio', 'má cara', 'maçador', 'mal-educado', 'malcriado', 'mau humor', 'melga', 'nervos', 'nervosa', 'nervosamente', 'nervosidade', 'nervosismo', 'nervoso', 'oponente', 'opor', 'oportunismo', 'oportuno', 'oposicionista', 'ordinariamente', 'ordinário', 'praguejar', 'rabugento', 'resmungão', 'resmungar', 'resmunguice', 'rezingão', 'rezingar', 'rosnador', 'rosnar', 'rosnido', 'rude', 'rudemente', 'rudez', 'rudeza', 'rugido', 'rugir', 'ruminante', 'ruminar', 'sensitivo', 'sensível', 'sensivelmente', 'suscetibilidade', 'suscetível', 'troglodita', 'zumbido'], 'AGRESSIVIDADE': ['abruptamente', 'abrupto', 'agreste', 'artificial', 'artificialidade', 'artificialismo', 'áspero', 'asquerosidade', 'asqueroso', 'astúcia', 'atrocidade', 'atroz', 'austeridade', 'austero', 'barbaramente', 'barbaridade', 'barbarismo', 'bárbaro', 'besta', 'cruel', 'crueldade', 'descortês', 'descortesia', 'desnaturado', 'desnaturar', 'desonestidade', 'déspota', 'despotismo', 'destruição', 'destruidor', 'destruir', 'destrutiva', 'destrutivo', 'destrutor', 'desumanidade', 'desumano', 'disfaçado', 'disfarçar', 'disfarce', 'dissimulação', 'dissimulado', 'dissimular', 'ditador', 'ditadura', 'esfacelamento', 'esfacelar', 'espancamento', 'espancar', 'espertalhão', 'esperteza', 'exterminação', 'exterminar', 'extermínio', 'extinção', 'extinguir', 'extinto', 'facínora', 'fera', 'ferida', 'ferido', 'ferimento', 'ferir', 'ferocidade', 'feroz', 'ferozmente', 'fingido', 'fingimento', 'fingir', 'frechar', 'frialdade', 'friamente', 'frieza', 'frigidez', 'frígido', 'frigir', 'frio', 'gélido', 'hediondo', 'imoral', 'imoralidade', 'imperfeição', 'imperfeito', 'impiamente', 'impiedade', 'impiedosamente', 'impiedoso', 'ímpio', 'implacabilidade', 'implacável', 'implacavelmente', 'incivilidade', 'incivilmente', 'inclemência ', 'inclemente', 'indelicadeza', 'inexorável', 'lesão', 'lesar', 'lesivo', 'má', 'mal', 'maldade', 'maldosa', 'maldosamente', 'maldoso', 'maleficência', 'malefício', 'maléfico', 'malevolamente', 'malevolência', 'malevolente', 'malévolo', 'malfeitor', 'malícia', 'maliciosamente', 'malicioso', 'malignamente', 'maligno', 'malquerença', 'malvadamente', 'malvadez', 'malvadeza', 'malvado', 'manha', 'manhoso', 'manipulação', 'manipular', 'maquiavélico', 'maquiavelismo', 'maroteira', 'maroto', 'massacrar', 'massacre', 'matador', 'matança', 'matar', 'matreirice', 'matreiro', 'mau', 'megera', 'molesto', 'monstro', 'monstruosamente', 'monstruosidade', 'monstruoso', 'nazi', 'nazismo', 'nefasto', 'nocivamente', 'nocividade', 'nocivo', 'perversamente', 'perverter', 'pessimamente', 'péssimo', 'prejudicar', 'prejudicial', 'prejuízo', 'rigidamente', 'rigidez', 'rígido', 'rigor', 'rigorosamente', 'rigoroso', 'rijeza', 'rijo', 'rispidez', 'rispideza', 'ríspido', 'ronha', 'ruim', 'ruindade', 'ruinosamente', 'ruinoso', 'satanás', 'satânico', 'severidade', 'severo', 'terrorismo', 'terrorista', 'tortuosamente', 'tortuosidade', 'tortuoso', 'tortura', 'torturante', 'torturar', 'usurpação', 'usurpador', 'usurpar', 'veneno', 'venenoso', 'víbora', 'violador', 'violentar', 'abusar', 'abusivo', 'agredir', 'agressão', 'agressivamente', 'agressividade', 'agressivo', 'agressor', 'amaldiçoar', 'ameaça', 'ameaçado', 'ameaçador', 'ameaçar', 'bruscamente', 'brusco', 'brusquidão', 'brutal', 'brutalidade', 'brutalizar', 'brutamontes', 'bruto', 'conflito', 'conflituoso', 'disputa', 'disputador', 'disputar', 'endiabrado', 'endiabrar', 'energúmeno', 'enfurecer', 'enfurecimento', 'enraivar', 'enraivecer', 'enraivecido', 'fúria', 'furibundo', 'furiosamente', 'furioso', 'furor', 'luta', 'lutar', 'maldizente', 'maldizer', 'maltratar ', 'praquejar', 'provocação', 'provocador', 'provocante', 'provocantemente', 'provocar', 'raiva', 'raivosamente', 'raivoso', 'rixa', 'violação', 'violar', 'violência', 'violenta', 'violentamente', 'violento', 'vituperação', 'vituperador', 'vituperar', 'vituperável', 'zangão', 'cólera', 'colérico', 'encolerizar', 'indignação', 'indignado', 'ira', 'iracundo', 'irar', 'irascível', 'rebelde', 'rebeldia', 'rebeldismo', 'rebelião', 'refilão', 'refilar', 'revolta', 'revoltado', 'revoltante', 'revoltar', 'revolto', 'revolução', 'revolucionar', 'revolucionário', 'sublevação', 'sublevar', 'tempestuoso', 'vandalismo', 'vândalo', 'zanga', 'zangado', 'zangar', 'absoluto', 'altivez', 'altivo', 'autólatra', 'autolatria ', 'bazófia', 'egocêntrico', 'egocentrismo', 'egocentrista', 'elação', 'empertigado', 'empertigar', 'enfatuar-se', 'envaidecer', 'envaidecidamente', 'envaidecido', 'envaidecimento', 'fanfar', 'fanfarrão', 'fanfarrear', 'fanfarrice', 'fanfarronar', 'farsola', 'farsolar', 'fatuidade', 'fátuo', 'fausto', 'faustoso', 'gabar', 'gabarola', 'gabarolice', 'imodestamente', 'imodéstia', 'imodesto', 'imponência', 'imponente', 'importância', 'importante', 'intratável', 'jactância', 'jactancioso', 'jactar-se', 'majestade', 'majestosamente', 'majestoso', 'obstinação', 'obstinadamente', 'obstinado', 'obstinar', 'omnipotência', 'omnipotente', 'opulência', 'opulento', 'orgulhar', 'orgulho', 'orgulhosa', 'orgulhosamente', 'orgulhoso', 'ostensivamente', 'ostensivo', 'ostentação', 'ostentar', 'peneirento', 'pertinácia', 'pertinaz', 'pertinência', 'pertinente', 'possessão', 'possessivo', 'possesso', 'possessor', 'prepotência', 'prepotente', 'presunção', 'presunçosamente', 'presunçoso', 'pretensão', 'pretensioso', 'relutância', 'relutante', 'relutar', 'soberanamente', 'soberania', 'soberano', 'soberba', 'soberbamente', 'soberbo', 'superior', 'superioridade', 'superiorizar', 'superiormente', 'supremo', 'teima', 'teimar', 'teimosamente', 'teimosia', 'teimoso', 'tirano', 'vaidade', 'vaidosamente', 'vaidoso'], 'AFEIÇÃO': ['abraçar', 'abraço', 'adoração', 'adorada', 'adorado', 'adorar', 'adorável', 'afectividade', 'afectivo', 'afecto', 'afectuosa', 'afectuosamente', 'afectuosidade', 'afectuoso', 'afeição', 'afeiçoada', 'afeiçoado', 'afeiçoar', 'afinidade', 'agradecer', 'agradecida', 'agradecido', 'agradecimento', 'alcovitar', 'alcoviteira', 'alcoviteiro', 'alcovitice', 'amada', 'amado', 'amante', 'amar', 'amiga', 'amiga', 'amigável', 'amigavelmente', 'amigo', 'amistoso', 'amizade', 'amor', 'amorosamente', 'amoroso', 'apaixonada', 'apaixonada', 'apaixonadamente', 'apaixonado', 'apaixonante', 'apaixonar', 'apego', 'beijar', 'beijinho', 'beijo', 'beijocar', 'beijoqueiro', 'camarada', 'camaradagem', 'carente', 'carinho', 'carinhoso', 'companheiro', 'conveniência', 'conviva', 'conviver', 'coração', 'enamorada', 'enamoradamente', 'enamorado', 'enamorar', 'família', 'familiar', 'familiarmente', 'fidelidade', 'fiel', 'fielmente', 'fraternal', 'fraternalmente', 'fraternidade', 'fraternização', 'fraterno', 'gostar', 'gratidão', 'grato', 'maternal', 'maternalmente', 'materno', 'namorado', 'namorados', 'namorar', 'namoriscar', 'namorisco', 'namoro', 'noiva', 'noivo', 'paixão', 'paixoneta', 'passional', 'piedade', 'piedosamente', 'piedoso', 'platonicamente', 'platonismo', 'preferência', 'preferido ', 'preferir', 'querido ', 'romântico', 'romantismo', 'sensibilidade', 'sensibilização', 'sensibilizada', 'sensibilizado', 'sensibilizar', 'sensível', 'sentimental', 'sentimentalismo', 'sentimentalmente', 'sentimentos', 'simpatia', 'simpática', 'simpático', 'simpatizante', 'simpatizar', 'união', 'unir', 'veneração', 'venerado', 'venerador', 'venerar', 'veracidade', 'verdade', 'xenofilia', 'xenófilo', 'ambição', 'ambicionar', 'ambicioso', 'anseio', 'ânsia', 'ansiar', 'apetência', 'apetite', 'apetitoso', 'aspiração', 'aspirante', 'aspirar', 'avidamente', 'avidez', 'ávido', 'capricho', 'caprichoso', 'cobiça', 'curiosamente', 'curiosidade', 'curioso', 'desejar', 'desejável', 'desejo', 'desejoso', 'desiderato', 'erótico', 'erotismo', 'erotização', 'esperado', 'esperança', 'esperançado', 'esperançar', 'esperançoso', 'esperar ', 'ganância', 'ganancioso', 'inveja', 'invejar', 'invejável', 'invejosamente', 'invejoso', 'predisposto', 'tendência', 'vontade', 'aclamação', 'aclamar', 'admiração', 'admirado', 'admirar', 'admirável', 'admiravelmente', 'adulação', 'adular', 'aplaudir', 'aplauso', 'aprovação', 'aprovar', 'aprovativamente', 'aprovativo', 'atónito', 'bestial', 'bestialidade', 'bestialmente', 'contemplação', 'contemplar', 'encantador', 'encantamento', 'encantos', 'esplêndido', 'esplendor', 'esplendorosamente', 'esplendoroso', 'fabulosamente', 'fabuloso', 'fama', 'fantástico', 'glória', 'glorificação', 'glorificar', 'gloriosamente', 'glorioso', 'herói', 'heroicamente', 'heróico', 'heroína', 'heroísmo', 'idólatra', 'idolatradamente', 'idolatrar', 'idolatria', 'ídolo', 'ilustre', 'lautamente', 'lauto', 'lisonja', 'lisonjeador', 'lisonjear', 'lisonjeiramente', 'lisonjeiro', 'louvar', 'luxo', 'luxuosamente', 'luxuoso', 'luxúria', 'luxuriante', 'magnanimamente', 'magnata', 'magnificamente', 'magnificência', 'magnífico', 'maravilha', 'maravilhada', 'maravilhado', 'maravilhar', 'maravilhosa', 'maravilhosamente', 'maravilhoso', 'milagre', 'milagrosamente', 'milagroso', 'motivação', 'motivar', 'nobre', 'nobremente', 'nobreza', 'predilecção', 'predilecto', 'prestigiante', 'prestigiar', 'prestígio', 'prestigioso', 'privilegiado', 'privilegiar', 'privilégio', 'aprazível', 'atractivo', 'atraente', 'atrair', 'charme ', 'decência', 'deslumbrada', 'deslumbrado', 'deslumbramento', 'deslumbrante', 'deslumbrar', 'encantada', 'encantado', 'encantar', 'encanto', 'excitação', 'excitado', 'excitante', 'excitar', 'excitável', 'fascinação', 'fascinante', 'fascinar', 'fascínio', 'fenomenal', 'fogosidade', 'galar', 'interessado', 'interessante', 'interessar', 'interesse', 'irresistível', 'irresistívelmente', 'lascivamente', 'lascívia', 'lascivo', 'sedução', 'sedutor', 'seduzir', 'sensual', 'sensualidade', 'sensualmente', 'sexual', 'sexualidade', 'sexualmente', 'subjugação', 'subjugar', 'tentação', 'tentador', 'tentar'], 'GENTILEZA': ['acolhedor', 'acolhedor ', 'acolher', 'acolhida', 'acolhimento', 'afabilidade', 'afável', 'afavelmente', 'altruísmo', 'altruísta', 'amabilidade', 'amável', 'amavelmente', 'atencioso', 'beleza', 'benéfico', 'benevolência', 'benevolente', 'benévolo', 'bondade', 'bondoso', 'caridade', 'caridoso', 'clemência ', 'clemente ', 'comiseração', 'compadecer', 'compaixão', 'compassivo', 'complacência', 'complacente', 'comprazer', 'compreensivo', 'cordial', 'cordialidade', 'cordialmente', 'cortês', 'cortesia', 'delicadeza', 'delicado', 'doação', 'doador', 'doar', 'embelezar', 'empatia', 'empático ', 'enternecedor', 'enternecer', 'enternecimento', 'entreajuda', 'entreajudar-se', 'escrupuloso', 'favorável', 'favorecer', 'formidável', 'formidavelmente', 'galante', 'galanteador', 'galantear', 'galanteio', 'generosidade', 'generoso', 'gentil', 'gentileza', 'gentilmente', 'humanitário', 'humanitarismo', 'impecabilidade', 'impecável', 'impecavelmente', 'ingenuidade', 'ingénuo', 'lamechas', 'magnanimente', 'magnanimidade', 'magnânimo', 'misericórdia', 'misericordiosamente', 'misericordioso', 'perfeccionismo', 'perfeccionista', 'perfeição', 'perfeitamente', 'perfeito', 'piegas', 'pieguice', 'porreiro', 'prestável', 'provocar dó', 'pueril', 'puerilidade', 'sacrificar', 'sacrifício', 'sem-malícia', 'sociável ', 'acarinhar', 'aconchegar', 'amenidade', 'angelical', 'angélico', 'caloroso', 'carícia', 'desculpa', 'desculpar', 'desenraivar', 'desenraivecer', 'dócil', 'docilidade', 'docilmente', 'fofo', 'indulgência', 'indulgente', 'indulgentemente', 'mansidão', 'meigamente', 'meigo', 'meiguice', 'mimar', 'mimo', 'mimos', 'mimoso', 'pequerrucho', 'perdão', 'perdoar', 'perdoável', 'suave', 'suavemente', 'suavidade', 'suavizar', 'ternamente', 'terno', 'ternura', 'conformação', 'conformado', 'conformar', 'esperar', 'longânime', 'longanimidade', 'pachorra', 'pachorrentamente', 'pachorrento', 'paciência', 'paciente', 'pacientemente', 'permissão', 'permissivamente', 'permissividade', 'permissivo', 'permitir', 'perseverança', 'perseverante', 'perseverantemente', 'perseverar', 'persistência', 'persistente', 'persistentemente', 'persistir', 'resignação', 'resignadamente', 'resignado', 'resignar', 'resistência', 'resistente', 'resistir', 'suportar', 'tolerância', 'tolerante', 'tolerar', 'tolerável', 'brio', 'briosa', 'brioso', 'caráter', 'caracterial', 'despretensão', 'despretensiosamente', 'despretensioso', 'discreto', 'discrição', 'humildade', 'humilde', 'humildemente', 'inferior', 'inferioridade', 'inferiorizar', 'modestamente', 'modéstia', 'modesto', 'obedecer', 'obediência', 'obediente', 'princípios', 'pundonor', 'pundonoroso', 'séria', 'seriedade', 'sério', 'simplicidade', 'simplificação', 'simplificar', 'simplista']}\n"
          ],
          "name": "stdout"
        },
        {
          "output_type": "execute_result",
          "data": {
            "text/html": [
              "<div>\n",
              "<style scoped>\n",
              "    .dataframe tbody tr th:only-of-type {\n",
              "        vertical-align: middle;\n",
              "    }\n",
              "\n",
              "    .dataframe tbody tr th {\n",
              "        vertical-align: top;\n",
              "    }\n",
              "\n",
              "    .dataframe thead th {\n",
              "        text-align: right;\n",
              "    }\n",
              "</style>\n",
              "<table border=\"1\" class=\"dataframe\">\n",
              "  <thead>\n",
              "    <tr style=\"text-align: right;\">\n",
              "      <th></th>\n",
              "      <th>TEXT</th>\n",
              "      <th>ÓDIO</th>\n",
              "      <th>AGRESSIVIDADE</th>\n",
              "      <th>AFEIÇÃO</th>\n",
              "      <th>GENTILEZA</th>\n",
              "    </tr>\n",
              "  </thead>\n",
              "  <tbody>\n",
              "    <tr>\n",
              "      <th>0</th>\n",
              "      <td>(bem, previsível)</td>\n",
              "      <td>0.0</td>\n",
              "      <td>0.0</td>\n",
              "      <td>0.0</td>\n",
              "      <td>0.0</td>\n",
              "    </tr>\n",
              "    <tr>\n",
              "      <th>1</th>\n",
              "      <td>(nicole, diva, final, qq)</td>\n",
              "      <td>0.0</td>\n",
              "      <td>0.0</td>\n",
              "      <td>0.0</td>\n",
              "      <td>0.0</td>\n",
              "    </tr>\n",
              "    <tr>\n",
              "      <th>2</th>\n",
              "      <td>(claro, zooey, deschanel, mulher, linda, unive...</td>\n",
              "      <td>0.0</td>\n",
              "      <td>0.0</td>\n",
              "      <td>0.0</td>\n",
              "      <td>0.0</td>\n",
              "    </tr>\n",
              "  </tbody>\n",
              "</table>\n",
              "</div>"
            ],
            "text/plain": [
              "                                                TEXT  ÓDIO  ...  AFEIÇÃO  GENTILEZA\n",
              "0                                  (bem, previsível)   0.0  ...      0.0        0.0\n",
              "1                          (nicole, diva, final, qq)   0.0  ...      0.0        0.0\n",
              "2  (claro, zooey, deschanel, mulher, linda, unive...   0.0  ...      0.0        0.0\n",
              "\n",
              "[3 rows x 5 columns]"
            ]
          },
          "metadata": {
            "tags": []
          },
          "execution_count": 21
        }
      ]
    },
    {
      "cell_type": "code",
      "metadata": {
        "colab": {
          "base_uri": "https://localhost:8080/",
          "height": 204
        },
        "id": "gHwxihGLZBhL",
        "outputId": "b1b9f4e0-ab85-42d0-e9ce-eedd36188d0d"
      },
      "source": [
        "df_emotaix[df_emotaix.ÓDIO !=0].head(5)"
      ],
      "execution_count": 22,
      "outputs": [
        {
          "output_type": "execute_result",
          "data": {
            "text/html": [
              "<div>\n",
              "<style scoped>\n",
              "    .dataframe tbody tr th:only-of-type {\n",
              "        vertical-align: middle;\n",
              "    }\n",
              "\n",
              "    .dataframe tbody tr th {\n",
              "        vertical-align: top;\n",
              "    }\n",
              "\n",
              "    .dataframe thead th {\n",
              "        text-align: right;\n",
              "    }\n",
              "</style>\n",
              "<table border=\"1\" class=\"dataframe\">\n",
              "  <thead>\n",
              "    <tr style=\"text-align: right;\">\n",
              "      <th></th>\n",
              "      <th>TEXT</th>\n",
              "      <th>ÓDIO</th>\n",
              "      <th>AGRESSIVIDADE</th>\n",
              "      <th>AFEIÇÃO</th>\n",
              "      <th>GENTILEZA</th>\n",
              "    </tr>\n",
              "  </thead>\n",
              "  <tbody>\n",
              "    <tr>\n",
              "      <th>7</th>\n",
              "      <td>(filme, precisava, rever, lembrar, impressões,...</td>\n",
              "      <td>0.010417</td>\n",
              "      <td>0.000000</td>\n",
              "      <td>0.010417</td>\n",
              "      <td>0.010417</td>\n",
              "    </tr>\n",
              "    <tr>\n",
              "      <th>19</th>\n",
              "      <td>(péssimo, filme, diferentemente, primeiro, ext...</td>\n",
              "      <td>0.045455</td>\n",
              "      <td>0.045455</td>\n",
              "      <td>0.045455</td>\n",
              "      <td>0.000000</td>\n",
              "    </tr>\n",
              "    <tr>\n",
              "      <th>23</th>\n",
              "      <td>(ah, filme, bacana, talvez, melhor, daniel, cr...</td>\n",
              "      <td>0.055556</td>\n",
              "      <td>0.000000</td>\n",
              "      <td>0.000000</td>\n",
              "      <td>0.000000</td>\n",
              "    </tr>\n",
              "    <tr>\n",
              "      <th>34</th>\n",
              "      <td>(trilha, sonora, fotografia, boas, filme, faz,...</td>\n",
              "      <td>0.032258</td>\n",
              "      <td>0.000000</td>\n",
              "      <td>0.000000</td>\n",
              "      <td>0.000000</td>\n",
              "    </tr>\n",
              "    <tr>\n",
              "      <th>40</th>\n",
              "      <td>(filme, perturbador, agora, dr, heiter, vilão,...</td>\n",
              "      <td>0.040000</td>\n",
              "      <td>0.040000</td>\n",
              "      <td>0.000000</td>\n",
              "      <td>0.000000</td>\n",
              "    </tr>\n",
              "  </tbody>\n",
              "</table>\n",
              "</div>"
            ],
            "text/plain": [
              "                                                 TEXT  ...  GENTILEZA\n",
              "7   (filme, precisava, rever, lembrar, impressões,...  ...   0.010417\n",
              "19  (péssimo, filme, diferentemente, primeiro, ext...  ...   0.000000\n",
              "23  (ah, filme, bacana, talvez, melhor, daniel, cr...  ...   0.000000\n",
              "34  (trilha, sonora, fotografia, boas, filme, faz,...  ...   0.000000\n",
              "40  (filme, perturbador, agora, dr, heiter, vilão,...  ...   0.000000\n",
              "\n",
              "[5 rows x 5 columns]"
            ]
          },
          "metadata": {
            "tags": []
          },
          "execution_count": 22
        }
      ]
    },
    {
      "cell_type": "markdown",
      "metadata": {
        "id": "5bTWbKKYAq-U"
      },
      "source": [
        "### Tamanho das senteças"
      ]
    },
    {
      "cell_type": "code",
      "metadata": {
        "colab": {
          "base_uri": "https://localhost:8080/",
          "height": 380
        },
        "id": "wEqwNdASm6t4",
        "outputId": "63a85bd7-ea01-4598-8b3f-d125ea82b69d"
      },
      "source": [
        "# TESTE\r\n",
        "\r\n",
        "# As primeira features a serem removidas são relacionadas ao \r\n",
        "# tamanho da sentença\r\n",
        "\r\n",
        "stp_words = nltk.corpus.stopwords.words('portuguese')\r\n",
        "\r\n",
        "\r\n",
        "# a partir daí também podemos também pré-processar o texto\r\n",
        "tok_filmes = []\r\n",
        "# vamos armazenar as nossas features como dicionario e podemos transformar facilmente em \r\n",
        "# um dataframe\r\n",
        "sent_features = {'TEXT':[], 'sent1':[],'sent2':[],'sent3':[],'sent4':[]}\r\n",
        "\r\n",
        "for doc in model_docs:\r\n",
        "    # esses serao os contadores para cada doc\r\n",
        "    sent1 = 0 \r\n",
        "    sent2 = 0\r\n",
        "    sent3 = 0\r\n",
        "    sent4 = 0\r\n",
        "\r\n",
        "    tok_doc = []\r\n",
        "    for sent in doc.sents:\r\n",
        "        #print (\"sent\", sent)\r\n",
        "        # desconsiderando stopwords e palavras de tamanho 1\r\n",
        "        tok_lst = [tok for tok in sent if len(tok.text) > 1 and tok.text not in stp_words]\r\n",
        "        # print (\"tok\", tok_lst)\r\n",
        "        if len(tok_lst) <= 1:\r\n",
        "            sent1 += 1\r\n",
        "        elif len(tok_lst) > 1 and len(tok_lst) <= 2:\r\n",
        "            sent2 += 1\r\n",
        "        elif len(tok_lst) > 2 and len(tok_lst) <= 3:\r\n",
        "            sent3 += 1\r\n",
        "        else:\r\n",
        "            sent4 += 1\r\n",
        "        tok_doc += tok_lst\r\n",
        "        \r\n",
        "\r\n",
        "    sent_features['TEXT'].append(doc)\r\n",
        "    sent_features['sent1'].append(sent1)\r\n",
        "    sent_features['sent2'].append(sent2) \r\n",
        "    sent_features['sent3'].append(sent3) \r\n",
        "    sent_features['sent4'].append(sent4) \r\n",
        "    \r\n",
        "    #tok_filmes.append(sent_features)   \r\n",
        "\r\n",
        "print(pd.DataFrame(sent_features))\r\n",
        "\r\n",
        "\r\n",
        "df_sent = pd.DataFrame(sent_features)\r\n",
        "df_sent.head(3)"
      ],
      "execution_count": 23,
      "outputs": [
        {
          "output_type": "stream",
          "text": [
            "                                                   TEXT  sent1  ...  sent3  sent4\n",
            "0                                     (bem, previsível)      0  ...      0      0\n",
            "1                             (nicole, diva, final, qq)      1  ...      1      0\n",
            "2     (claro, zooey, deschanel, mulher, linda, unive...      1  ...      2      0\n",
            "3                             (filme, bizarro, assisti)      0  ...      1      0\n",
            "4                                  (péssimofraquíssimo)      1  ...      0      0\n",
            "...                                                 ...    ...  ...    ...    ...\n",
            "9571                                      (triste, fim)      0  ...      0      0\n",
            "9572                                (bom, recomendo, 3)      0  ...      0      0\n",
            "9573  (opinião, tão, gore, tão, bom, assim, imaginei...      0  ...      4      2\n",
            "9574  (bom, demaisesse, papel, caiu, luva, pro, crai...      0  ...      0      1\n",
            "9575  (gosto, d, esse, filme, porque, sensível, româ...      0  ...      0      1\n",
            "\n",
            "[9576 rows x 5 columns]\n"
          ],
          "name": "stdout"
        },
        {
          "output_type": "execute_result",
          "data": {
            "text/html": [
              "<div>\n",
              "<style scoped>\n",
              "    .dataframe tbody tr th:only-of-type {\n",
              "        vertical-align: middle;\n",
              "    }\n",
              "\n",
              "    .dataframe tbody tr th {\n",
              "        vertical-align: top;\n",
              "    }\n",
              "\n",
              "    .dataframe thead th {\n",
              "        text-align: right;\n",
              "    }\n",
              "</style>\n",
              "<table border=\"1\" class=\"dataframe\">\n",
              "  <thead>\n",
              "    <tr style=\"text-align: right;\">\n",
              "      <th></th>\n",
              "      <th>TEXT</th>\n",
              "      <th>sent1</th>\n",
              "      <th>sent2</th>\n",
              "      <th>sent3</th>\n",
              "      <th>sent4</th>\n",
              "    </tr>\n",
              "  </thead>\n",
              "  <tbody>\n",
              "    <tr>\n",
              "      <th>0</th>\n",
              "      <td>(bem, previsível)</td>\n",
              "      <td>0</td>\n",
              "      <td>1</td>\n",
              "      <td>0</td>\n",
              "      <td>0</td>\n",
              "    </tr>\n",
              "    <tr>\n",
              "      <th>1</th>\n",
              "      <td>(nicole, diva, final, qq)</td>\n",
              "      <td>1</td>\n",
              "      <td>0</td>\n",
              "      <td>1</td>\n",
              "      <td>0</td>\n",
              "    </tr>\n",
              "    <tr>\n",
              "      <th>2</th>\n",
              "      <td>(claro, zooey, deschanel, mulher, linda, unive...</td>\n",
              "      <td>1</td>\n",
              "      <td>0</td>\n",
              "      <td>2</td>\n",
              "      <td>0</td>\n",
              "    </tr>\n",
              "  </tbody>\n",
              "</table>\n",
              "</div>"
            ],
            "text/plain": [
              "                                                TEXT  sent1  ...  sent3  sent4\n",
              "0                                  (bem, previsível)      0  ...      0      0\n",
              "1                          (nicole, diva, final, qq)      1  ...      1      0\n",
              "2  (claro, zooey, deschanel, mulher, linda, unive...      1  ...      2      0\n",
              "\n",
              "[3 rows x 5 columns]"
            ]
          },
          "metadata": {
            "tags": []
          },
          "execution_count": 23
        }
      ]
    },
    {
      "cell_type": "code",
      "metadata": {
        "colab": {
          "base_uri": "https://localhost:8080/"
        },
        "id": "8Y1sK_dpZF2c",
        "outputId": "720b0afc-b431-4708-b951-acda27443a22"
      },
      "source": [
        "df_sent.isnull().sum()"
      ],
      "execution_count": 24,
      "outputs": [
        {
          "output_type": "execute_result",
          "data": {
            "text/plain": [
              "TEXT     0\n",
              "sent1    0\n",
              "sent2    0\n",
              "sent3    0\n",
              "sent4    0\n",
              "dtype: int64"
            ]
          },
          "metadata": {
            "tags": []
          },
          "execution_count": 24
        }
      ]
    },
    {
      "cell_type": "markdown",
      "metadata": {
        "id": "kYFw7Co1X4hs"
      },
      "source": [
        "## Salvando as novas features num dataframe"
      ]
    },
    {
      "cell_type": "code",
      "metadata": {
        "colab": {
          "base_uri": "https://localhost:8080/",
          "height": 142
        },
        "id": "IQniGKV-XVS8",
        "outputId": "5ff4ace0-b8a7-41f3-b3f3-be45491ef4e5"
      },
      "source": [
        "# unindo os registros\r\n",
        "df_features = pd.concat([df_class[['VERB', 'ADJ', 'NOUN', 'ADV']], \r\n",
        "                         df_emotaix[['ÓDIO', 'AGRESSIVIDADE', 'AFEIÇÃO', 'GENTILEZA']], \r\n",
        "                         df_sent[['sent1', 'sent2', 'sent3', 'sent4']]], \r\n",
        "                        axis=1)\r\n",
        "df_features.head(3)"
      ],
      "execution_count": 25,
      "outputs": [
        {
          "output_type": "execute_result",
          "data": {
            "text/html": [
              "<div>\n",
              "<style scoped>\n",
              "    .dataframe tbody tr th:only-of-type {\n",
              "        vertical-align: middle;\n",
              "    }\n",
              "\n",
              "    .dataframe tbody tr th {\n",
              "        vertical-align: top;\n",
              "    }\n",
              "\n",
              "    .dataframe thead th {\n",
              "        text-align: right;\n",
              "    }\n",
              "</style>\n",
              "<table border=\"1\" class=\"dataframe\">\n",
              "  <thead>\n",
              "    <tr style=\"text-align: right;\">\n",
              "      <th></th>\n",
              "      <th>VERB</th>\n",
              "      <th>ADJ</th>\n",
              "      <th>NOUN</th>\n",
              "      <th>ADV</th>\n",
              "      <th>ÓDIO</th>\n",
              "      <th>AGRESSIVIDADE</th>\n",
              "      <th>AFEIÇÃO</th>\n",
              "      <th>GENTILEZA</th>\n",
              "      <th>sent1</th>\n",
              "      <th>sent2</th>\n",
              "      <th>sent3</th>\n",
              "      <th>sent4</th>\n",
              "    </tr>\n",
              "  </thead>\n",
              "  <tbody>\n",
              "    <tr>\n",
              "      <th>0</th>\n",
              "      <td>0.00</td>\n",
              "      <td>0.5</td>\n",
              "      <td>0.000000</td>\n",
              "      <td>0.500000</td>\n",
              "      <td>0.0</td>\n",
              "      <td>0.0</td>\n",
              "      <td>0.0</td>\n",
              "      <td>0.0</td>\n",
              "      <td>0</td>\n",
              "      <td>1</td>\n",
              "      <td>0</td>\n",
              "      <td>0</td>\n",
              "    </tr>\n",
              "    <tr>\n",
              "      <th>1</th>\n",
              "      <td>0.25</td>\n",
              "      <td>0.5</td>\n",
              "      <td>0.000000</td>\n",
              "      <td>0.000000</td>\n",
              "      <td>0.0</td>\n",
              "      <td>0.0</td>\n",
              "      <td>0.0</td>\n",
              "      <td>0.0</td>\n",
              "      <td>1</td>\n",
              "      <td>0</td>\n",
              "      <td>1</td>\n",
              "      <td>0</td>\n",
              "    </tr>\n",
              "    <tr>\n",
              "      <th>2</th>\n",
              "      <td>0.00</td>\n",
              "      <td>0.0</td>\n",
              "      <td>0.142857</td>\n",
              "      <td>0.142857</td>\n",
              "      <td>0.0</td>\n",
              "      <td>0.0</td>\n",
              "      <td>0.0</td>\n",
              "      <td>0.0</td>\n",
              "      <td>1</td>\n",
              "      <td>0</td>\n",
              "      <td>2</td>\n",
              "      <td>0</td>\n",
              "    </tr>\n",
              "  </tbody>\n",
              "</table>\n",
              "</div>"
            ],
            "text/plain": [
              "   VERB  ADJ      NOUN       ADV  ÓDIO  ...  GENTILEZA  sent1  sent2  sent3  sent4\n",
              "0  0.00  0.5  0.000000  0.500000   0.0  ...        0.0      0      1      0      0\n",
              "1  0.25  0.5  0.000000  0.000000   0.0  ...        0.0      1      0      1      0\n",
              "2  0.00  0.0  0.142857  0.142857   0.0  ...        0.0      1      0      2      0\n",
              "\n",
              "[3 rows x 12 columns]"
            ]
          },
          "metadata": {
            "tags": []
          },
          "execution_count": 25
        }
      ]
    },
    {
      "cell_type": "code",
      "metadata": {
        "colab": {
          "base_uri": "https://localhost:8080/"
        },
        "id": "wq2CVqwwD_wk",
        "outputId": "d0c1dceb-7fcb-45ce-91b7-3fa9686bbcb2"
      },
      "source": [
        "# avalianto o total de registros para cada feature com valores diferentes de zero \r\n",
        "print('VERB:', df_features['VERB'][df_features['VERB'] !=0].count())\r\n",
        "print('ADJ:', df_features['ADJ'][df_features['ADJ'] !=0].count())\r\n",
        "print('NOUN:', df_features['NOUN'][df_features['NOUN'] !=0].count())\r\n",
        "print('ADV:', df_features['ADV'][df_features['ADV'] !=0].count())\r\n",
        "print('ÓDIO:', df_features['ÓDIO'][df_features['ÓDIO'] !=0].count())\r\n",
        "print('AGRESSIVIDADE:', df_features['AGRESSIVIDADE'][df_features['AGRESSIVIDADE'] !=0].count())\r\n",
        "print('AFEIÇÃO:', df_features['AFEIÇÃO'][df_features['AFEIÇÃO'] !=0].count())\r\n",
        "print('GENTILEZA:', df_features['GENTILEZA'][df_features['GENTILEZA'] !=0].count())\r\n",
        "print('sent1:', df_features['sent1'][df_features['sent1'] !=0].count())\r\n",
        "print('sent2:', df_features['sent2'][df_features['sent2'] !=0].count())\r\n",
        "print('sent3:', df_features['sent3'][df_features['sent3'] !=0].count())\r\n",
        "print('sent4:', df_features['sent4'][df_features['sent4'] !=0].count())"
      ],
      "execution_count": 26,
      "outputs": [
        {
          "output_type": "stream",
          "text": [
            "VERB: 7546\n",
            "ADJ: 6720\n",
            "NOUN: 8196\n",
            "ADV: 5238\n",
            "ÓDIO: 962\n",
            "AGRESSIVIDADE: 1263\n",
            "AFEIÇÃO: 1613\n",
            "GENTILEZA: 718\n",
            "sent1: 2817\n",
            "sent2: 4022\n",
            "sent3: 3722\n",
            "sent4: 7049\n"
          ],
          "name": "stdout"
        }
      ]
    },
    {
      "cell_type": "code",
      "metadata": {
        "colab": {
          "base_uri": "https://localhost:8080/"
        },
        "id": "Uvth_-tyXmqq",
        "outputId": "2f24b8a7-4a6b-4cac-b38e-00b572655f83"
      },
      "source": [
        "# verificando que algum registro ficou com valor nulo\r\n",
        "df_features.isnull().sum()"
      ],
      "execution_count": 27,
      "outputs": [
        {
          "output_type": "execute_result",
          "data": {
            "text/plain": [
              "VERB             0\n",
              "ADJ              0\n",
              "NOUN             0\n",
              "ADV              0\n",
              "ÓDIO             0\n",
              "AGRESSIVIDADE    0\n",
              "AFEIÇÃO          0\n",
              "GENTILEZA        0\n",
              "sent1            0\n",
              "sent2            0\n",
              "sent3            0\n",
              "sent4            0\n",
              "dtype: int64"
            ]
          },
          "metadata": {
            "tags": []
          },
          "execution_count": 27
        }
      ]
    },
    {
      "cell_type": "markdown",
      "metadata": {
        "id": "GjQcWCwvoE03"
      },
      "source": [
        "# 3 - Visualização dos dados:\n",
        "Coloque nesta seção os gráficos do PCA e do t-SNE, para cada representação. Responda também às seguintes perguntas: \n",
        "\n",
        "a) Existe algum padrão com relação às classes? \n",
        "\n",
        "b) Caso exista algum padrão, você pode concluir alguma coisa? \n",
        "\n",
        "c) Caso não exista, você consegue dizer se isso tem a ver com alguma representação ou classe?"
      ]
    },
    {
      "cell_type": "markdown",
      "metadata": {
        "id": "40gvky9dWLRW"
      },
      "source": [
        "## PCA / TF-IDF"
      ]
    },
    {
      "cell_type": "code",
      "metadata": {
        "id": "nQjH7x7nNLAT"
      },
      "source": [
        "# rodando o PCA\r\n",
        "from sklearn.preprocessing import StandardScaler\r\n",
        "from sklearn.feature_extraction.text import TfidfVectorizer\r\n",
        "from sklearn.pipeline import Pipeline\r\n",
        "\r\n",
        "pipe = Pipeline(steps = [\r\n",
        "  ('tfidf', TfidfVectorizer(stop_words=stp_words)),\r\n",
        "  ('standard', StandardScaler(with_mean=False))\r\n",
        "])\r\n",
        "\r\n",
        "vectors = pipe.fit_transform(X_train['text_clean'])"
      ],
      "execution_count": 28,
      "outputs": []
    },
    {
      "cell_type": "code",
      "metadata": {
        "colab": {
          "base_uri": "https://localhost:8080/",
          "height": 365
        },
        "id": "P1SkXWfLNdHx",
        "outputId": "d7783c28-8023-45c8-f4b4-22f908f5d11e"
      },
      "source": [
        "# visualizando os dados\r\n",
        "from yellowbrick.features import PCA\r\n",
        "\r\n",
        "fig, ax = plt.subplots(figsize=(10, 5))\r\n",
        "classes = ['Negativo', 'Positivo']\r\n",
        "\r\n",
        "visualizer = PCA(scale=True, classes=classes)\r\n",
        "visualizer.fit_transform(vectors.toarray(), y_train)\r\n",
        "ax.grid(False)\r\n",
        "visualizer.show();"
      ],
      "execution_count": 29,
      "outputs": [
        {
          "output_type": "display_data",
          "data": {
            "image/png": "[encoded data removed]",
            "text/plain": [
              "<Figure size 720x360 with 1 Axes>"
            ]
          },
          "metadata": {
            "tags": []
          }
        }
      ]
    },
    {
      "cell_type": "markdown",
      "metadata": {
        "id": "qhUANEojOK0Q"
      },
      "source": [
        "## PCA / WORD2VEC"
      ]
    },
    {
      "cell_type": "code",
      "metadata": {
        "id": "mv4U6GniOasV",
        "colab": {
          "base_uri": "https://localhost:8080/",
          "height": 365
        },
        "outputId": "0143ba66-9bb5-4a38-a39f-9cf5ef46b68c"
      },
      "source": [
        "fig, ax = plt.subplots(figsize=(10, 5))\r\n",
        "classes = ['Negativo', 'Positivo']\r\n",
        "\r\n",
        "visualizer = PCA(scale=True, classes=classes)\r\n",
        "visualizer.fit_transform(features, y_train)\r\n",
        "ax.grid(False)\r\n",
        "visualizer.show();"
      ],
      "execution_count": 30,
      "outputs": [
        {
          "output_type": "display_data",
          "data": {
            "image/png": "[encoded data removed]",
            "text/plain": [
              "<Figure size 720x360 with 1 Axes>"
            ]
          },
          "metadata": {
            "tags": []
          }
        }
      ]
    },
    {
      "cell_type": "markdown",
      "metadata": {
        "id": "OgFadRRgbuin"
      },
      "source": [
        "## PCA - Extração de features"
      ]
    },
    {
      "cell_type": "code",
      "metadata": {
        "id": "d_7RjhMFPCac",
        "colab": {
          "base_uri": "https://localhost:8080/",
          "height": 382
        },
        "collapsed": true,
        "outputId": "87ad77cc-2335-4dcb-95ab-45112bd997ce"
      },
      "source": [
        "# PCA / Extração de features\r\n",
        "fig, ax = plt.subplots(figsize=(10, 5))\r\n",
        "classes = ['Negativo', 'Positivo']\r\n",
        "\r\n",
        "visualizer = PCA(scale=True, classes=classes)\r\n",
        "visualizer.fit_transform(df_features, y_train)\r\n",
        "ax.grid(False)\r\n",
        "visualizer.show()"
      ],
      "execution_count": 31,
      "outputs": [
        {
          "output_type": "display_data",
          "data": {
            "image/png": "[encoded data removed]",
            "text/plain": [
              "<Figure size 720x360 with 1 Axes>"
            ]
          },
          "metadata": {
            "tags": []
          }
        },
        {
          "output_type": "execute_result",
          "data": {
            "text/plain": [
              "<matplotlib.axes._subplots.AxesSubplot at 0x7fc5d99c7978>"
            ]
          },
          "metadata": {
            "tags": []
          },
          "execution_count": 31
        }
      ]
    },
    {
      "cell_type": "markdown",
      "metadata": {
        "id": "MarnIo2FXFPE"
      },
      "source": [
        "## t-SNE / TF-IDF"
      ]
    },
    {
      "cell_type": "code",
      "metadata": {
        "id": "EuDPSfhVO7LD",
        "colab": {
          "base_uri": "https://localhost:8080/",
          "height": 416
        },
        "outputId": "69fedded-5d9b-46ee-e14c-3de89b39c0b8"
      },
      "source": [
        "from yellowbrick.text import TSNEVisualizer\r\n",
        "\r\n",
        "tsne = TSNEVisualizer(labels=classes)\r\n",
        "\r\n",
        "# Vizualizando os pontos por classe\r\n",
        "tsne.fit(vectors.toarray(), y_train)\r\n",
        "\r\n",
        "#fig, ax = plt.subplots(figsize=(10, 5))\r\n",
        "tsne.show()"
      ],
      "execution_count": 32,
      "outputs": [
        {
          "output_type": "stream",
          "text": [
            "*c* argument looks like a single numeric RGB or RGBA sequence, which should be avoided as value-mapping will have precedence in case its length matches with *x* & *y*.  Please use the *color* keyword-argument or provide a 2-D array with a single row if you intend to specify the same RGB or RGBA value for all points.\n",
            "*c* argument looks like a single numeric RGB or RGBA sequence, which should be avoided as value-mapping will have precedence in case its length matches with *x* & *y*.  Please use the *color* keyword-argument or provide a 2-D array with a single row if you intend to specify the same RGB or RGBA value for all points.\n"
          ],
          "name": "stderr"
        },
        {
          "output_type": "display_data",
          "data": {
            "image/png": "[encoded data removed]",
            "text/plain": [
              "<Figure size 576x396 with 1 Axes>"
            ]
          },
          "metadata": {
            "tags": []
          }
        },
        {
          "output_type": "execute_result",
          "data": {
            "text/plain": [
              "<matplotlib.axes._subplots.AxesSubplot at 0x7fc5c18a1438>"
            ]
          },
          "metadata": {
            "tags": []
          },
          "execution_count": 32
        }
      ]
    },
    {
      "cell_type": "markdown",
      "metadata": {
        "id": "3b2ha72GXGZw"
      },
      "source": [
        "## t-SNE / WORD2VEC"
      ]
    },
    {
      "cell_type": "code",
      "metadata": {
        "id": "C79IGKKOJzrN",
        "colab": {
          "base_uri": "https://localhost:8080/",
          "height": 372
        },
        "outputId": "89efdd0a-6946-49aa-eed6-da31e04ae9a4"
      },
      "source": [
        "fig, ax = plt.subplots(figsize=(10, 5))\r\n",
        "tsne = TSNEVisualizer(labels=[0, 1])\r\n",
        "tsne.fit(features, y_train)\r\n",
        "tsne.show();"
      ],
      "execution_count": 33,
      "outputs": [
        {
          "output_type": "stream",
          "text": [
            "*c* argument looks like a single numeric RGB or RGBA sequence, which should be avoided as value-mapping will have precedence in case its length matches with *x* & *y*.  Please use the *color* keyword-argument or provide a 2-D array with a single row if you intend to specify the same RGB or RGBA value for all points.\n",
            "*c* argument looks like a single numeric RGB or RGBA sequence, which should be avoided as value-mapping will have precedence in case its length matches with *x* & *y*.  Please use the *color* keyword-argument or provide a 2-D array with a single row if you intend to specify the same RGB or RGBA value for all points.\n"
          ],
          "name": "stderr"
        },
        {
          "output_type": "display_data",
          "data": {
            "image/png": "[encoded data removed]",
            "text/plain": [
              "<Figure size 720x360 with 1 Axes>"
            ]
          },
          "metadata": {
            "tags": []
          }
        }
      ]
    },
    {
      "cell_type": "markdown",
      "metadata": {
        "id": "OQwLF4tuJu_X"
      },
      "source": [
        "## t-SNE / Extração de features"
      ]
    },
    {
      "cell_type": "code",
      "metadata": {
        "id": "JYDt5sttQE6w",
        "colab": {
          "base_uri": "https://localhost:8080/",
          "height": 423
        },
        "outputId": "02d890ca-3b59-4240-931c-e368b6cc19c8"
      },
      "source": [
        "from sklearn.manifold import TSNE\r\n",
        "import seaborn as sns\r\n",
        "\r\n",
        "tsne = TSNE()\r\n",
        "df_tsne = tsne.fit_transform(df_features)\r\n",
        "\r\n",
        "palette = np.array(sns.color_palette('hls', 2))\r\n",
        "fig, ax = plt.subplots(figsize=(10, 5))\r\n",
        "sns.scatterplot(df_tsne[:,0], df_tsne[:,1], legend='full', hue=y_train, palette=palette)\r\n",
        "ax.grid(False)\r\n",
        "plt.title('TSNE projection of 8000 documents')\r\n",
        "plt.show()"
      ],
      "execution_count": 36,
      "outputs": [
        {
          "output_type": "stream",
          "text": [
            "/usr/local/lib/python3.6/dist-packages/seaborn/_decorators.py:43: FutureWarning: Pass the following variables as keyword args: x, y. From version 0.12, the only valid positional argument will be `data`, and passing other arguments without an explicit keyword will result in an error or misinterpretation.\n",
            "  FutureWarning\n",
            "/usr/local/lib/python3.6/dist-packages/seaborn/_core.py:163: FutureWarning: elementwise comparison failed; returning scalar instead, but in the future will perform elementwise comparison\n",
            "  if palette in QUAL_PALETTES:\n"
          ],
          "name": "stderr"
        },
        {
          "output_type": "display_data",
          "data": {
            "image/png": "[encoded data removed]",
            "text/plain": [
              "<Figure size 720x360 with 1 Axes>"
            ]
          },
          "metadata": {
            "tags": []
          }
        }
      ]
    },
    {
      "cell_type": "markdown",
      "metadata": {
        "id": "wJdNwYb9kEDh"
      },
      "source": [
        "# 4 - Classificadores : \n",
        "Escolha dois classificadores que você possua mais familiaridade no scikit-learn para poder classificar os seus dados. Você deve executar cada um dos classificadores nas três representações escolhidas. \n",
        "\n",
        "Você pode usar o k-nn como um dos métodos. Outros métodos estão disponíveis no scikit, como por exemplo o SVM e o RandomForest.\n",
        "\n",
        "Descreva sucintamente os dois classificadores escolhidos. Você usou algum parâmetro que não seja padrão? Se sim, mencione nesta seção."
      ]
    },
    {
      "cell_type": "markdown",
      "metadata": {
        "id": "ojKXviuIB5Ud"
      },
      "source": [
        "Os modelos que serão utilizados são:\r\n",
        "\r\n",
        "**1 - knn** -> supervisionada\r\n",
        "De forma similar ao k-means, assume que as instâncias similares estão\r\n",
        "próximas.\r\n",
        "• Precisamos de um rótulo para cada instância, pois é supervisionado.\r\n",
        "• Os k vizinhos mais próximos serão usados para:\r\n",
        "1. Na classificação: como votos para escolher a classe de uma instância.\r\n",
        "2. Na regressão: Para calcular a média para o valor de uma instância.\r\n",
        "\r\n",
        "**2 - RadomForest** -> "
      ]
    },
    {
      "cell_type": "markdown",
      "metadata": {
        "id": "Rv0PZXtBrauv"
      },
      "source": [
        "## K-NN"
      ]
    },
    {
      "cell_type": "code",
      "metadata": {
        "id": "FMk19I8JWO0h"
      },
      "source": [
        "from sklearn.neighbors import KNeighborsClassifier"
      ],
      "execution_count": 37,
      "outputs": []
    },
    {
      "cell_type": "markdown",
      "metadata": {
        "id": "skKaOkTas5P3"
      },
      "source": [
        "TF-IDF"
      ]
    },
    {
      "cell_type": "code",
      "metadata": {
        "colab": {
          "base_uri": "https://localhost:8080/"
        },
        "id": "IFG3NarJZMlq",
        "outputId": "9bf8fd61-2a8d-4a13-e88e-ddfc6d37dfe1"
      },
      "source": [
        "print(vectors.shape, vectors_test.shape)"
      ],
      "execution_count": 44,
      "outputs": [
        {
          "output_type": "stream",
          "text": [
            "(9576, 23344) (2395, 10181)\n"
          ],
          "name": "stdout"
        }
      ]
    },
    {
      "cell_type": "code",
      "metadata": {
        "colab": {
          "base_uri": "https://localhost:8080/"
        },
        "id": "R8UAC8aAZe-E",
        "outputId": "7a0e29d7-e5f7-4d78-bade-6e318028708d"
      },
      "source": [
        "# transformando os dados de teste\r\n",
        "vectors_test = pipe.fit_transform(X_test['text_clean'])\r\n",
        "vectors_test"
      ],
      "execution_count": 50,
      "outputs": [
        {
          "output_type": "execute_result",
          "data": {
            "text/plain": [
              "<2395x10181 sparse matrix of type '<class 'numpy.float64'>'\n",
              "\twith 42427 stored elements in Compressed Sparse Row format>"
            ]
          },
          "metadata": {
            "tags": []
          },
          "execution_count": 50
        }
      ]
    },
    {
      "cell_type": "code",
      "metadata": {
        "id": "y4DSrAZtW1gU"
      },
      "source": [
        "# criando o modelo\r\n",
        "model_knn_TFIDF = KNeighborsClassifier()"
      ],
      "execution_count": 59,
      "outputs": []
    },
    {
      "cell_type": "code",
      "metadata": {
        "colab": {
          "base_uri": "https://localhost:8080/"
        },
        "id": "kWw2f5ezdoP5",
        "outputId": "37f06463-e04c-4742-963e-59cddc411fb6"
      },
      "source": [
        "# treinando o modelo\r\n",
        "model_knn_TFIDF.fit(vectors.toarray(), y_train)"
      ],
      "execution_count": 60,
      "outputs": [
        {
          "output_type": "execute_result",
          "data": {
            "text/plain": [
              "KNeighborsClassifier(algorithm='auto', leaf_size=30, metric='minkowski',\n",
              "                     metric_params=None, n_jobs=None, n_neighbors=5, p=2,\n",
              "                     weights='uniform')"
            ]
          },
          "metadata": {
            "tags": []
          },
          "execution_count": 60
        }
      ]
    },
    {
      "cell_type": "code",
      "metadata": {
        "colab": {
          "base_uri": "https://localhost:8080/",
          "height": 408
        },
        "id": "hoF7Wm25drs_",
        "outputId": "60264862-c465-47c3-fc4a-3b0259febbdf"
      },
      "source": [
        "# Prevendo os valores de teste\r\n",
        "y_pred_NB = model_knn_TFIDF.predict(vectors_test.toarray())\r\n",
        "\r\n",
        "\r\n",
        "# visualizando os dados\r\n",
        "print(classification_report(y_test, y_pred_NB, target_names=le.classes_.tolist()))"
      ],
      "execution_count": 61,
      "outputs": [
        {
          "output_type": "error",
          "ename": "ValueError",
          "evalue": "ignored",
          "traceback": [
            "\u001b[0;31m---------------------------------------------------------------------------\u001b[0m",
            "\u001b[0;31mValueError\u001b[0m                                Traceback (most recent call last)",
            "\u001b[0;32m<ipython-input-61-1e75438ae439>\u001b[0m in \u001b[0;36m<module>\u001b[0;34m()\u001b[0m\n\u001b[1;32m      1\u001b[0m \u001b[0;31m# Prevendo os valores de teste\u001b[0m\u001b[0;34m\u001b[0m\u001b[0;34m\u001b[0m\u001b[0;34m\u001b[0m\u001b[0m\n\u001b[0;32m----> 2\u001b[0;31m \u001b[0my_pred_NB\u001b[0m \u001b[0;34m=\u001b[0m \u001b[0mmodel_knn_TFIDF\u001b[0m\u001b[0;34m.\u001b[0m\u001b[0mpredict\u001b[0m\u001b[0;34m(\u001b[0m\u001b[0mvectors_test\u001b[0m\u001b[0;34m.\u001b[0m\u001b[0mtoarray\u001b[0m\u001b[0;34m(\u001b[0m\u001b[0;34m)\u001b[0m\u001b[0;34m)\u001b[0m\u001b[0;34m\u001b[0m\u001b[0;34m\u001b[0m\u001b[0m\n\u001b[0m\u001b[1;32m      3\u001b[0m \u001b[0;34m\u001b[0m\u001b[0m\n\u001b[1;32m      4\u001b[0m \u001b[0;34m\u001b[0m\u001b[0m\n\u001b[1;32m      5\u001b[0m \u001b[0;31m# visualizando os dados\u001b[0m\u001b[0;34m\u001b[0m\u001b[0;34m\u001b[0m\u001b[0;34m\u001b[0m\u001b[0m\n",
            "\u001b[0;32m/usr/local/lib/python3.6/dist-packages/sklearn/neighbors/_classification.py\u001b[0m in \u001b[0;36mpredict\u001b[0;34m(self, X)\u001b[0m\n\u001b[1;32m    171\u001b[0m         \u001b[0mX\u001b[0m \u001b[0;34m=\u001b[0m \u001b[0mcheck_array\u001b[0m\u001b[0;34m(\u001b[0m\u001b[0mX\u001b[0m\u001b[0;34m,\u001b[0m \u001b[0maccept_sparse\u001b[0m\u001b[0;34m=\u001b[0m\u001b[0;34m'csr'\u001b[0m\u001b[0;34m)\u001b[0m\u001b[0;34m\u001b[0m\u001b[0;34m\u001b[0m\u001b[0m\n\u001b[1;32m    172\u001b[0m \u001b[0;34m\u001b[0m\u001b[0m\n\u001b[0;32m--> 173\u001b[0;31m         \u001b[0mneigh_dist\u001b[0m\u001b[0;34m,\u001b[0m \u001b[0mneigh_ind\u001b[0m \u001b[0;34m=\u001b[0m \u001b[0mself\u001b[0m\u001b[0;34m.\u001b[0m\u001b[0mkneighbors\u001b[0m\u001b[0;34m(\u001b[0m\u001b[0mX\u001b[0m\u001b[0;34m)\u001b[0m\u001b[0;34m\u001b[0m\u001b[0;34m\u001b[0m\u001b[0m\n\u001b[0m\u001b[1;32m    174\u001b[0m         \u001b[0mclasses_\u001b[0m \u001b[0;34m=\u001b[0m \u001b[0mself\u001b[0m\u001b[0;34m.\u001b[0m\u001b[0mclasses_\u001b[0m\u001b[0;34m\u001b[0m\u001b[0;34m\u001b[0m\u001b[0m\n\u001b[1;32m    175\u001b[0m         \u001b[0m_y\u001b[0m \u001b[0;34m=\u001b[0m \u001b[0mself\u001b[0m\u001b[0;34m.\u001b[0m\u001b[0m_y\u001b[0m\u001b[0;34m\u001b[0m\u001b[0;34m\u001b[0m\u001b[0m\n",
            "\u001b[0;32m/usr/local/lib/python3.6/dist-packages/sklearn/neighbors/_base.py\u001b[0m in \u001b[0;36mkneighbors\u001b[0;34m(self, X, n_neighbors, return_distance)\u001b[0m\n\u001b[1;32m    662\u001b[0m                 delayed_query(\n\u001b[1;32m    663\u001b[0m                     self._tree, X[s], n_neighbors, return_distance)\n\u001b[0;32m--> 664\u001b[0;31m                 \u001b[0;32mfor\u001b[0m \u001b[0ms\u001b[0m \u001b[0;32min\u001b[0m \u001b[0mgen_even_slices\u001b[0m\u001b[0;34m(\u001b[0m\u001b[0mX\u001b[0m\u001b[0;34m.\u001b[0m\u001b[0mshape\u001b[0m\u001b[0;34m[\u001b[0m\u001b[0;36m0\u001b[0m\u001b[0;34m]\u001b[0m\u001b[0;34m,\u001b[0m \u001b[0mn_jobs\u001b[0m\u001b[0;34m)\u001b[0m\u001b[0;34m\u001b[0m\u001b[0;34m\u001b[0m\u001b[0m\n\u001b[0m\u001b[1;32m    665\u001b[0m             )\n\u001b[1;32m    666\u001b[0m         \u001b[0;32melse\u001b[0m\u001b[0;34m:\u001b[0m\u001b[0;34m\u001b[0m\u001b[0;34m\u001b[0m\u001b[0m\n",
            "\u001b[0;32m/usr/local/lib/python3.6/dist-packages/joblib/parallel.py\u001b[0m in \u001b[0;36m__call__\u001b[0;34m(self, iterable)\u001b[0m\n\u001b[1;32m   1039\u001b[0m             \u001b[0;31m# remaining jobs.\u001b[0m\u001b[0;34m\u001b[0m\u001b[0;34m\u001b[0m\u001b[0;34m\u001b[0m\u001b[0m\n\u001b[1;32m   1040\u001b[0m             \u001b[0mself\u001b[0m\u001b[0;34m.\u001b[0m\u001b[0m_iterating\u001b[0m \u001b[0;34m=\u001b[0m \u001b[0;32mFalse\u001b[0m\u001b[0;34m\u001b[0m\u001b[0;34m\u001b[0m\u001b[0m\n\u001b[0;32m-> 1041\u001b[0;31m             \u001b[0;32mif\u001b[0m \u001b[0mself\u001b[0m\u001b[0;34m.\u001b[0m\u001b[0mdispatch_one_batch\u001b[0m\u001b[0;34m(\u001b[0m\u001b[0miterator\u001b[0m\u001b[0;34m)\u001b[0m\u001b[0;34m:\u001b[0m\u001b[0;34m\u001b[0m\u001b[0;34m\u001b[0m\u001b[0m\n\u001b[0m\u001b[1;32m   1042\u001b[0m                 \u001b[0mself\u001b[0m\u001b[0;34m.\u001b[0m\u001b[0m_iterating\u001b[0m \u001b[0;34m=\u001b[0m \u001b[0mself\u001b[0m\u001b[0;34m.\u001b[0m\u001b[0m_original_iterator\u001b[0m \u001b[0;32mis\u001b[0m \u001b[0;32mnot\u001b[0m \u001b[0;32mNone\u001b[0m\u001b[0;34m\u001b[0m\u001b[0;34m\u001b[0m\u001b[0m\n\u001b[1;32m   1043\u001b[0m \u001b[0;34m\u001b[0m\u001b[0m\n",
            "\u001b[0;32m/usr/local/lib/python3.6/dist-packages/joblib/parallel.py\u001b[0m in \u001b[0;36mdispatch_one_batch\u001b[0;34m(self, iterator)\u001b[0m\n\u001b[1;32m    857\u001b[0m                 \u001b[0;32mreturn\u001b[0m \u001b[0;32mFalse\u001b[0m\u001b[0;34m\u001b[0m\u001b[0;34m\u001b[0m\u001b[0m\n\u001b[1;32m    858\u001b[0m             \u001b[0;32melse\u001b[0m\u001b[0;34m:\u001b[0m\u001b[0;34m\u001b[0m\u001b[0;34m\u001b[0m\u001b[0m\n\u001b[0;32m--> 859\u001b[0;31m                 \u001b[0mself\u001b[0m\u001b[0;34m.\u001b[0m\u001b[0m_dispatch\u001b[0m\u001b[0;34m(\u001b[0m\u001b[0mtasks\u001b[0m\u001b[0;34m)\u001b[0m\u001b[0;34m\u001b[0m\u001b[0;34m\u001b[0m\u001b[0m\n\u001b[0m\u001b[1;32m    860\u001b[0m                 \u001b[0;32mreturn\u001b[0m \u001b[0;32mTrue\u001b[0m\u001b[0;34m\u001b[0m\u001b[0;34m\u001b[0m\u001b[0m\n\u001b[1;32m    861\u001b[0m \u001b[0;34m\u001b[0m\u001b[0m\n",
            "\u001b[0;32m/usr/local/lib/python3.6/dist-packages/joblib/parallel.py\u001b[0m in \u001b[0;36m_dispatch\u001b[0;34m(self, batch)\u001b[0m\n\u001b[1;32m    775\u001b[0m         \u001b[0;32mwith\u001b[0m \u001b[0mself\u001b[0m\u001b[0;34m.\u001b[0m\u001b[0m_lock\u001b[0m\u001b[0;34m:\u001b[0m\u001b[0;34m\u001b[0m\u001b[0;34m\u001b[0m\u001b[0m\n\u001b[1;32m    776\u001b[0m             \u001b[0mjob_idx\u001b[0m \u001b[0;34m=\u001b[0m \u001b[0mlen\u001b[0m\u001b[0;34m(\u001b[0m\u001b[0mself\u001b[0m\u001b[0;34m.\u001b[0m\u001b[0m_jobs\u001b[0m\u001b[0;34m)\u001b[0m\u001b[0;34m\u001b[0m\u001b[0;34m\u001b[0m\u001b[0m\n\u001b[0;32m--> 777\u001b[0;31m             \u001b[0mjob\u001b[0m \u001b[0;34m=\u001b[0m \u001b[0mself\u001b[0m\u001b[0;34m.\u001b[0m\u001b[0m_backend\u001b[0m\u001b[0;34m.\u001b[0m\u001b[0mapply_async\u001b[0m\u001b[0;34m(\u001b[0m\u001b[0mbatch\u001b[0m\u001b[0;34m,\u001b[0m \u001b[0mcallback\u001b[0m\u001b[0;34m=\u001b[0m\u001b[0mcb\u001b[0m\u001b[0;34m)\u001b[0m\u001b[0;34m\u001b[0m\u001b[0;34m\u001b[0m\u001b[0m\n\u001b[0m\u001b[1;32m    778\u001b[0m             \u001b[0;31m# A job can complete so quickly than its callback is\u001b[0m\u001b[0;34m\u001b[0m\u001b[0;34m\u001b[0m\u001b[0;34m\u001b[0m\u001b[0m\n\u001b[1;32m    779\u001b[0m             \u001b[0;31m# called before we get here, causing self._jobs to\u001b[0m\u001b[0;34m\u001b[0m\u001b[0;34m\u001b[0m\u001b[0;34m\u001b[0m\u001b[0m\n",
            "\u001b[0;32m/usr/local/lib/python3.6/dist-packages/joblib/_parallel_backends.py\u001b[0m in \u001b[0;36mapply_async\u001b[0;34m(self, func, callback)\u001b[0m\n\u001b[1;32m    206\u001b[0m     \u001b[0;32mdef\u001b[0m \u001b[0mapply_async\u001b[0m\u001b[0;34m(\u001b[0m\u001b[0mself\u001b[0m\u001b[0;34m,\u001b[0m \u001b[0mfunc\u001b[0m\u001b[0;34m,\u001b[0m \u001b[0mcallback\u001b[0m\u001b[0;34m=\u001b[0m\u001b[0;32mNone\u001b[0m\u001b[0;34m)\u001b[0m\u001b[0;34m:\u001b[0m\u001b[0;34m\u001b[0m\u001b[0;34m\u001b[0m\u001b[0m\n\u001b[1;32m    207\u001b[0m         \u001b[0;34m\"\"\"Schedule a func to be run\"\"\"\u001b[0m\u001b[0;34m\u001b[0m\u001b[0;34m\u001b[0m\u001b[0m\n\u001b[0;32m--> 208\u001b[0;31m         \u001b[0mresult\u001b[0m \u001b[0;34m=\u001b[0m \u001b[0mImmediateResult\u001b[0m\u001b[0;34m(\u001b[0m\u001b[0mfunc\u001b[0m\u001b[0;34m)\u001b[0m\u001b[0;34m\u001b[0m\u001b[0;34m\u001b[0m\u001b[0m\n\u001b[0m\u001b[1;32m    209\u001b[0m         \u001b[0;32mif\u001b[0m \u001b[0mcallback\u001b[0m\u001b[0;34m:\u001b[0m\u001b[0;34m\u001b[0m\u001b[0;34m\u001b[0m\u001b[0m\n\u001b[1;32m    210\u001b[0m             \u001b[0mcallback\u001b[0m\u001b[0;34m(\u001b[0m\u001b[0mresult\u001b[0m\u001b[0;34m)\u001b[0m\u001b[0;34m\u001b[0m\u001b[0;34m\u001b[0m\u001b[0m\n",
            "\u001b[0;32m/usr/local/lib/python3.6/dist-packages/joblib/_parallel_backends.py\u001b[0m in \u001b[0;36m__init__\u001b[0;34m(self, batch)\u001b[0m\n\u001b[1;32m    570\u001b[0m         \u001b[0;31m# Don't delay the application, to avoid keeping the input\u001b[0m\u001b[0;34m\u001b[0m\u001b[0;34m\u001b[0m\u001b[0;34m\u001b[0m\u001b[0m\n\u001b[1;32m    571\u001b[0m         \u001b[0;31m# arguments in memory\u001b[0m\u001b[0;34m\u001b[0m\u001b[0;34m\u001b[0m\u001b[0;34m\u001b[0m\u001b[0m\n\u001b[0;32m--> 572\u001b[0;31m         \u001b[0mself\u001b[0m\u001b[0;34m.\u001b[0m\u001b[0mresults\u001b[0m \u001b[0;34m=\u001b[0m \u001b[0mbatch\u001b[0m\u001b[0;34m(\u001b[0m\u001b[0;34m)\u001b[0m\u001b[0;34m\u001b[0m\u001b[0;34m\u001b[0m\u001b[0m\n\u001b[0m\u001b[1;32m    573\u001b[0m \u001b[0;34m\u001b[0m\u001b[0m\n\u001b[1;32m    574\u001b[0m     \u001b[0;32mdef\u001b[0m \u001b[0mget\u001b[0m\u001b[0;34m(\u001b[0m\u001b[0mself\u001b[0m\u001b[0;34m)\u001b[0m\u001b[0;34m:\u001b[0m\u001b[0;34m\u001b[0m\u001b[0;34m\u001b[0m\u001b[0m\n",
            "\u001b[0;32m/usr/local/lib/python3.6/dist-packages/joblib/parallel.py\u001b[0m in \u001b[0;36m__call__\u001b[0;34m(self)\u001b[0m\n\u001b[1;32m    261\u001b[0m         \u001b[0;32mwith\u001b[0m \u001b[0mparallel_backend\u001b[0m\u001b[0;34m(\u001b[0m\u001b[0mself\u001b[0m\u001b[0;34m.\u001b[0m\u001b[0m_backend\u001b[0m\u001b[0;34m,\u001b[0m \u001b[0mn_jobs\u001b[0m\u001b[0;34m=\u001b[0m\u001b[0mself\u001b[0m\u001b[0;34m.\u001b[0m\u001b[0m_n_jobs\u001b[0m\u001b[0;34m)\u001b[0m\u001b[0;34m:\u001b[0m\u001b[0;34m\u001b[0m\u001b[0;34m\u001b[0m\u001b[0m\n\u001b[1;32m    262\u001b[0m             return [func(*args, **kwargs)\n\u001b[0;32m--> 263\u001b[0;31m                     for func, args, kwargs in self.items]\n\u001b[0m\u001b[1;32m    264\u001b[0m \u001b[0;34m\u001b[0m\u001b[0m\n\u001b[1;32m    265\u001b[0m     \u001b[0;32mdef\u001b[0m \u001b[0m__reduce__\u001b[0m\u001b[0;34m(\u001b[0m\u001b[0mself\u001b[0m\u001b[0;34m)\u001b[0m\u001b[0;34m:\u001b[0m\u001b[0;34m\u001b[0m\u001b[0;34m\u001b[0m\u001b[0m\n",
            "\u001b[0;32m/usr/local/lib/python3.6/dist-packages/joblib/parallel.py\u001b[0m in \u001b[0;36m<listcomp>\u001b[0;34m(.0)\u001b[0m\n\u001b[1;32m    261\u001b[0m         \u001b[0;32mwith\u001b[0m \u001b[0mparallel_backend\u001b[0m\u001b[0;34m(\u001b[0m\u001b[0mself\u001b[0m\u001b[0;34m.\u001b[0m\u001b[0m_backend\u001b[0m\u001b[0;34m,\u001b[0m \u001b[0mn_jobs\u001b[0m\u001b[0;34m=\u001b[0m\u001b[0mself\u001b[0m\u001b[0;34m.\u001b[0m\u001b[0m_n_jobs\u001b[0m\u001b[0;34m)\u001b[0m\u001b[0;34m:\u001b[0m\u001b[0;34m\u001b[0m\u001b[0;34m\u001b[0m\u001b[0m\n\u001b[1;32m    262\u001b[0m             return [func(*args, **kwargs)\n\u001b[0;32m--> 263\u001b[0;31m                     for func, args, kwargs in self.items]\n\u001b[0m\u001b[1;32m    264\u001b[0m \u001b[0;34m\u001b[0m\u001b[0m\n\u001b[1;32m    265\u001b[0m     \u001b[0;32mdef\u001b[0m \u001b[0m__reduce__\u001b[0m\u001b[0;34m(\u001b[0m\u001b[0mself\u001b[0m\u001b[0;34m)\u001b[0m\u001b[0;34m:\u001b[0m\u001b[0;34m\u001b[0m\u001b[0;34m\u001b[0m\u001b[0m\n",
            "\u001b[0;32m/usr/local/lib/python3.6/dist-packages/sklearn/neighbors/_base.py\u001b[0m in \u001b[0;36m_tree_query_parallel_helper\u001b[0;34m(tree, *args, **kwargs)\u001b[0m\n\u001b[1;32m    489\u001b[0m     \u001b[0munder\u001b[0m \u001b[0mPyPy\u001b[0m\u001b[0;34m.\u001b[0m\u001b[0;34m\u001b[0m\u001b[0;34m\u001b[0m\u001b[0m\n\u001b[1;32m    490\u001b[0m     \"\"\"\n\u001b[0;32m--> 491\u001b[0;31m     \u001b[0;32mreturn\u001b[0m \u001b[0mtree\u001b[0m\u001b[0;34m.\u001b[0m\u001b[0mquery\u001b[0m\u001b[0;34m(\u001b[0m\u001b[0;34m*\u001b[0m\u001b[0margs\u001b[0m\u001b[0;34m,\u001b[0m \u001b[0;34m**\u001b[0m\u001b[0mkwargs\u001b[0m\u001b[0;34m)\u001b[0m\u001b[0;34m\u001b[0m\u001b[0;34m\u001b[0m\u001b[0m\n\u001b[0m\u001b[1;32m    492\u001b[0m \u001b[0;34m\u001b[0m\u001b[0m\n\u001b[1;32m    493\u001b[0m \u001b[0;34m\u001b[0m\u001b[0m\n",
            "\u001b[0;32msklearn/neighbors/_binary_tree.pxi\u001b[0m in \u001b[0;36msklearn.neighbors._kd_tree.BinaryTree.query\u001b[0;34m()\u001b[0m\n",
            "\u001b[0;31mValueError\u001b[0m: query data dimension must match training data dimension"
          ]
        }
      ]
    },
    {
      "cell_type": "markdown",
      "metadata": {
        "id": "aBF-J0lLrdKW"
      },
      "source": [
        "## RadomForest"
      ]
    },
    {
      "cell_type": "markdown",
      "metadata": {
        "id": "BXIzkxslb2KQ"
      },
      "source": [
        "### TF-ITF"
      ]
    },
    {
      "cell_type": "code",
      "metadata": {
        "colab": {
          "base_uri": "https://localhost:8080/"
        },
        "id": "tiL8FfKzbCot",
        "outputId": "0d1703be-ab77-4ed6-e157-8845029b9ec7"
      },
      "source": [
        "# transformando os dados de teste para o padrão TF-IDF e aplicar PCA\r\n",
        "vectors_test = pipe.fit_transform(X_test['text_clean'])\r\n",
        "vectors_test"
      ],
      "execution_count": 54,
      "outputs": [
        {
          "output_type": "execute_result",
          "data": {
            "text/plain": [
              "<2395x10181 sparse matrix of type '<class 'numpy.float64'>'\n",
              "\twith 42427 stored elements in Compressed Sparse Row format>"
            ]
          },
          "metadata": {
            "tags": []
          },
          "execution_count": 54
        }
      ]
    },
    {
      "cell_type": "code",
      "metadata": {
        "id": "-ejTeiV7KLfu"
      },
      "source": [
        "from sklearn.ensemble import RandomForestClassifier"
      ],
      "execution_count": 55,
      "outputs": []
    },
    {
      "cell_type": "code",
      "metadata": {
        "id": "UuQ3p414bSMu"
      },
      "source": [
        "# Criando o modelo com parâmetros padrão\r\n",
        "model_rf_TFIDF = RandomForestClassifier()"
      ],
      "execution_count": 56,
      "outputs": []
    },
    {
      "cell_type": "code",
      "metadata": {
        "colab": {
          "base_uri": "https://localhost:8080/"
        },
        "id": "irE4K4KBbaGg",
        "outputId": "baede562-d112-4fd2-8e7d-2facc45cbba1"
      },
      "source": [
        "# TREINANDO A ARVORE COM OS DADOS DE TREINO COM APLICAÇÃO DE TF-IDF E PCA\r\n",
        "model_rf_TFIDF.fit(vectors.toarray(), y_train) "
      ],
      "execution_count": 57,
      "outputs": [
        {
          "output_type": "execute_result",
          "data": {
            "text/plain": [
              "RandomForestClassifier(bootstrap=True, ccp_alpha=0.0, class_weight=None,\n",
              "                       criterion='gini', max_depth=None, max_features='auto',\n",
              "                       max_leaf_nodes=None, max_samples=None,\n",
              "                       min_impurity_decrease=0.0, min_impurity_split=None,\n",
              "                       min_samples_leaf=1, min_samples_split=2,\n",
              "                       min_weight_fraction_leaf=0.0, n_estimators=100,\n",
              "                       n_jobs=None, oob_score=False, random_state=None,\n",
              "                       verbose=0, warm_start=False)"
            ]
          },
          "metadata": {
            "tags": []
          },
          "execution_count": 57
        }
      ]
    },
    {
      "cell_type": "code",
      "metadata": {
        "colab": {
          "base_uri": "https://localhost:8080/",
          "height": 374
        },
        "id": "ul19AjpFauLa",
        "outputId": "ee46ece0-00a6-49b9-f8bf-37e4aa0aa8b4"
      },
      "source": [
        "# Prevendo os valores de teste\r\n",
        "y_pred_NB = model_rf_TFIDF.predict(vectors_test.toarray())\r\n",
        "\r\n",
        "# visualizando os dados\r\n",
        "print(classification_report(y_test, y_pred_NB, target_names=le.classes_.tolist()))"
      ],
      "execution_count": 58,
      "outputs": [
        {
          "output_type": "error",
          "ename": "ValueError",
          "evalue": "ignored",
          "traceback": [
            "\u001b[0;31m---------------------------------------------------------------------------\u001b[0m",
            "\u001b[0;31mValueError\u001b[0m                                Traceback (most recent call last)",
            "\u001b[0;32m<ipython-input-58-1021a55a268b>\u001b[0m in \u001b[0;36m<module>\u001b[0;34m()\u001b[0m\n\u001b[1;32m      1\u001b[0m \u001b[0;31m# Prevendo os valores de teste\u001b[0m\u001b[0;34m\u001b[0m\u001b[0;34m\u001b[0m\u001b[0;34m\u001b[0m\u001b[0m\n\u001b[0;32m----> 2\u001b[0;31m \u001b[0my_pred_NB\u001b[0m \u001b[0;34m=\u001b[0m \u001b[0mmodel_rf_TFIDF\u001b[0m\u001b[0;34m.\u001b[0m\u001b[0mpredict\u001b[0m\u001b[0;34m(\u001b[0m\u001b[0mvectors_test\u001b[0m\u001b[0;34m.\u001b[0m\u001b[0mtoarray\u001b[0m\u001b[0;34m(\u001b[0m\u001b[0;34m)\u001b[0m\u001b[0;34m)\u001b[0m\u001b[0;34m\u001b[0m\u001b[0;34m\u001b[0m\u001b[0m\n\u001b[0m\u001b[1;32m      3\u001b[0m \u001b[0;34m\u001b[0m\u001b[0m\n\u001b[1;32m      4\u001b[0m \u001b[0;31m# visualizando os dados\u001b[0m\u001b[0;34m\u001b[0m\u001b[0;34m\u001b[0m\u001b[0;34m\u001b[0m\u001b[0m\n\u001b[1;32m      5\u001b[0m \u001b[0mprint\u001b[0m\u001b[0;34m(\u001b[0m\u001b[0mclassification_report\u001b[0m\u001b[0;34m(\u001b[0m\u001b[0my_test\u001b[0m\u001b[0;34m,\u001b[0m \u001b[0my_pred_NB\u001b[0m\u001b[0;34m,\u001b[0m \u001b[0mtarget_names\u001b[0m\u001b[0;34m=\u001b[0m\u001b[0mle\u001b[0m\u001b[0;34m.\u001b[0m\u001b[0mclasses_\u001b[0m\u001b[0;34m.\u001b[0m\u001b[0mtolist\u001b[0m\u001b[0;34m(\u001b[0m\u001b[0;34m)\u001b[0m\u001b[0;34m)\u001b[0m\u001b[0;34m)\u001b[0m\u001b[0;34m\u001b[0m\u001b[0;34m\u001b[0m\u001b[0m\n",
            "\u001b[0;32m/usr/local/lib/python3.6/dist-packages/sklearn/ensemble/_forest.py\u001b[0m in \u001b[0;36mpredict\u001b[0;34m(self, X)\u001b[0m\n\u001b[1;32m    610\u001b[0m             \u001b[0mThe\u001b[0m \u001b[0mpredicted\u001b[0m \u001b[0mclasses\u001b[0m\u001b[0;34m.\u001b[0m\u001b[0;34m\u001b[0m\u001b[0;34m\u001b[0m\u001b[0m\n\u001b[1;32m    611\u001b[0m         \"\"\"\n\u001b[0;32m--> 612\u001b[0;31m         \u001b[0mproba\u001b[0m \u001b[0;34m=\u001b[0m \u001b[0mself\u001b[0m\u001b[0;34m.\u001b[0m\u001b[0mpredict_proba\u001b[0m\u001b[0;34m(\u001b[0m\u001b[0mX\u001b[0m\u001b[0;34m)\u001b[0m\u001b[0;34m\u001b[0m\u001b[0;34m\u001b[0m\u001b[0m\n\u001b[0m\u001b[1;32m    613\u001b[0m \u001b[0;34m\u001b[0m\u001b[0m\n\u001b[1;32m    614\u001b[0m         \u001b[0;32mif\u001b[0m \u001b[0mself\u001b[0m\u001b[0;34m.\u001b[0m\u001b[0mn_outputs_\u001b[0m \u001b[0;34m==\u001b[0m \u001b[0;36m1\u001b[0m\u001b[0;34m:\u001b[0m\u001b[0;34m\u001b[0m\u001b[0;34m\u001b[0m\u001b[0m\n",
            "\u001b[0;32m/usr/local/lib/python3.6/dist-packages/sklearn/ensemble/_forest.py\u001b[0m in \u001b[0;36mpredict_proba\u001b[0;34m(self, X)\u001b[0m\n\u001b[1;32m    654\u001b[0m         \u001b[0mcheck_is_fitted\u001b[0m\u001b[0;34m(\u001b[0m\u001b[0mself\u001b[0m\u001b[0;34m)\u001b[0m\u001b[0;34m\u001b[0m\u001b[0;34m\u001b[0m\u001b[0m\n\u001b[1;32m    655\u001b[0m         \u001b[0;31m# Check data\u001b[0m\u001b[0;34m\u001b[0m\u001b[0;34m\u001b[0m\u001b[0;34m\u001b[0m\u001b[0m\n\u001b[0;32m--> 656\u001b[0;31m         \u001b[0mX\u001b[0m \u001b[0;34m=\u001b[0m \u001b[0mself\u001b[0m\u001b[0;34m.\u001b[0m\u001b[0m_validate_X_predict\u001b[0m\u001b[0;34m(\u001b[0m\u001b[0mX\u001b[0m\u001b[0;34m)\u001b[0m\u001b[0;34m\u001b[0m\u001b[0;34m\u001b[0m\u001b[0m\n\u001b[0m\u001b[1;32m    657\u001b[0m \u001b[0;34m\u001b[0m\u001b[0m\n\u001b[1;32m    658\u001b[0m         \u001b[0;31m# Assign chunk of trees to jobs\u001b[0m\u001b[0;34m\u001b[0m\u001b[0;34m\u001b[0m\u001b[0;34m\u001b[0m\u001b[0m\n",
            "\u001b[0;32m/usr/local/lib/python3.6/dist-packages/sklearn/ensemble/_forest.py\u001b[0m in \u001b[0;36m_validate_X_predict\u001b[0;34m(self, X)\u001b[0m\n\u001b[1;32m    410\u001b[0m         \u001b[0mcheck_is_fitted\u001b[0m\u001b[0;34m(\u001b[0m\u001b[0mself\u001b[0m\u001b[0;34m)\u001b[0m\u001b[0;34m\u001b[0m\u001b[0;34m\u001b[0m\u001b[0m\n\u001b[1;32m    411\u001b[0m \u001b[0;34m\u001b[0m\u001b[0m\n\u001b[0;32m--> 412\u001b[0;31m         \u001b[0;32mreturn\u001b[0m \u001b[0mself\u001b[0m\u001b[0;34m.\u001b[0m\u001b[0mestimators_\u001b[0m\u001b[0;34m[\u001b[0m\u001b[0;36m0\u001b[0m\u001b[0;34m]\u001b[0m\u001b[0;34m.\u001b[0m\u001b[0m_validate_X_predict\u001b[0m\u001b[0;34m(\u001b[0m\u001b[0mX\u001b[0m\u001b[0;34m,\u001b[0m \u001b[0mcheck_input\u001b[0m\u001b[0;34m=\u001b[0m\u001b[0;32mTrue\u001b[0m\u001b[0;34m)\u001b[0m\u001b[0;34m\u001b[0m\u001b[0;34m\u001b[0m\u001b[0m\n\u001b[0m\u001b[1;32m    413\u001b[0m \u001b[0;34m\u001b[0m\u001b[0m\n\u001b[1;32m    414\u001b[0m     \u001b[0;34m@\u001b[0m\u001b[0mproperty\u001b[0m\u001b[0;34m\u001b[0m\u001b[0;34m\u001b[0m\u001b[0m\n",
            "\u001b[0;32m/usr/local/lib/python3.6/dist-packages/sklearn/tree/_classes.py\u001b[0m in \u001b[0;36m_validate_X_predict\u001b[0;34m(self, X, check_input)\u001b[0m\n\u001b[1;32m    389\u001b[0m                              \u001b[0;34m\"match the input. Model n_features is %s and \"\u001b[0m\u001b[0;34m\u001b[0m\u001b[0;34m\u001b[0m\u001b[0m\n\u001b[1;32m    390\u001b[0m                              \u001b[0;34m\"input n_features is %s \"\u001b[0m\u001b[0;34m\u001b[0m\u001b[0;34m\u001b[0m\u001b[0m\n\u001b[0;32m--> 391\u001b[0;31m                              % (self.n_features_, n_features))\n\u001b[0m\u001b[1;32m    392\u001b[0m \u001b[0;34m\u001b[0m\u001b[0m\n\u001b[1;32m    393\u001b[0m         \u001b[0;32mreturn\u001b[0m \u001b[0mX\u001b[0m\u001b[0;34m\u001b[0m\u001b[0;34m\u001b[0m\u001b[0m\n",
            "\u001b[0;31mValueError\u001b[0m: Number of features of the model must match the input. Model n_features is 23344 and input n_features is 10181 "
          ]
        }
      ]
    },
    {
      "cell_type": "code",
      "metadata": {
        "id": "ICsjNGqqN7y4"
      },
      "source": [
        "#????? tem que usar o mesmo dicionário criado com os dados de treino?????\r\n",
        "# cria um dicionário de palavras\r\n",
        "X_train['dicionario'] = X_train.apply(dicionario_palavras, axis=1) # chamando a função que cria um dicionário para cada registro\r\n",
        "\r\n",
        "# computa para cada termo dos dados de teste, a fórmula tf-idf\r\n",
        "model_tfidf_test = TfidfModel(X_test['dicionario'])\r\n",
        "\r\n",
        "\r\n",
        "# Executando o modelo, gerando os resuldos e plotando a matriz de confusão\r\n",
        "\r\n",
        "# predizendo o target\r\n",
        "y_pred_rf = model_rf.predict(vectors_test.toarray()) "
      ],
      "execution_count": null,
      "outputs": []
    },
    {
      "cell_type": "markdown",
      "metadata": {
        "id": "QyO-fUlAWgaw"
      },
      "source": [
        "## SVM"
      ]
    },
    {
      "cell_type": "code",
      "metadata": {
        "id": "cjIKdE2MWh3z"
      },
      "source": [
        "from sklearn.svm import SVC\r\n",
        "from sklearn.pipeline import make_pipeline"
      ],
      "execution_count": null,
      "outputs": []
    },
    {
      "cell_type": "code",
      "metadata": {
        "id": "TM1_LlFwXb84"
      },
      "source": [
        "# transformando os dados de teste\r\n",
        "\r\n",
        "vectors_test = pipe.fit_transform(X_test['text_clean'])\r\n",
        "print (type(vectors_test.toarray()))\r\n",
        "\r\n",
        "matrix_test = StandardScaler.fit_transform(vectors_test)\r\n",
        "df_tfidf_test = pd.DataFrame(matrix_test.toarray())\r\n",
        "tfidf_tsne_test = tsne.fit_transform(df_tfidf_test)\r\n"
      ],
      "execution_count": null,
      "outputs": []
    },
    {
      "cell_type": "code",
      "metadata": {
        "id": "SbxgU2W-WrqK"
      },
      "source": [
        "# CRIANDO O MODELO PADRÃO\r\n",
        "model_svc = make_pipeline(StandardScaler(), SVC(gamma='auto'))\r\n",
        "\r\n",
        "# treinando o modelo\r\n",
        "model_svc.fit(vectors.toarray(), y_train)"
      ],
      "execution_count": null,
      "outputs": []
    },
    {
      "cell_type": "code",
      "metadata": {
        "id": "6QM65zmMwQWJ"
      },
      "source": [
        "vectors.toarray().shape\r\n"
      ],
      "execution_count": null,
      "outputs": []
    },
    {
      "cell_type": "code",
      "metadata": {
        "id": "C-R0r60RjSb1"
      },
      "source": [
        "# Transformando os dados de test\r\n",
        "vectors_test = pipe.fit_transform(X_test['text_clean'])\r\n",
        "\r\n",
        "vectors_test.toarray().shape\r\n"
      ],
      "execution_count": null,
      "outputs": []
    },
    {
      "cell_type": "code",
      "metadata": {
        "id": "SmlyUTPIv0aR"
      },
      "source": [
        "# Rodando com os dados de treino\r\n",
        "y_pred_svm = model_svc.predict(vectors_test.toarray())"
      ],
      "execution_count": null,
      "outputs": []
    },
    {
      "cell_type": "code",
      "metadata": {
        "id": "qBkPrJlKz0kk"
      },
      "source": [
        "# salvando o modelo\r\n",
        "import pickle\r\n",
        "\r\n",
        "# SALVANDO O MODELO\r\n",
        "arquivo_modelo = \"/content/drive/MyDrive/Colab Notebooks/NLP/trabalho/model_svc.pkl\"\r\n",
        "pickle.dump(model_svc, open(arquivo_modelo, \"wb\"))"
      ],
      "execution_count": null,
      "outputs": []
    },
    {
      "cell_type": "code",
      "metadata": {
        "id": "UPhc4IDw1NUB"
      },
      "source": [
        "# CARREGANDO O MODELO\r\n",
        "arquivo_modelo = \"/content/drive/MyDrive/Colab Notebooks/NLP/trabalho/model_svc.pkl\"\r\n",
        "melhor_modelo_svc = pickle.load(open(arquivo_modelo, \"r\"))"
      ],
      "execution_count": null,
      "outputs": []
    },
    {
      "cell_type": "markdown",
      "metadata": {
        "id": "CwMrGsQKkJOR"
      },
      "source": [
        "# 5 - Resultados: \n",
        "Escreva código que execute a validação cruzada em 5-folds para os dois classificadores escolhidos. Também responda às seguintes perguntas: Os embeddings realmente mostraram um resultado melhor que o TF-IDF? Se não, qual foi a representação que teve o melhor desempenho? A diferença foi muito grande?"
      ]
    },
    {
      "cell_type": "code",
      "metadata": {
        "id": "wuuUOwuGrxka"
      },
      "source": [
        "''' métrica\r\n",
        "classificação\r\n",
        "Precisão: Positivos Verdadeiros / (PV + PF)\r\n",
        "• Recall ou revocação: Positivos Verdadeiros / (PV + NF)\r\n",
        "• f1: 2 * (Precisão * Recall) / (Precisão + Recall)\r\n",
        "\r\n",
        "regressão\r\n",
        "Erro médio:\r\n",
        "• Erro quadrático:\r\n",
        "(Σi (yi − yi′)) /n\r\n",
        "(Σi (yi − y′i) 2) /n\r\n",
        "\r\n",
        "\r\n",
        "\r\n",
        "'''"
      ],
      "execution_count": null,
      "outputs": []
    },
    {
      "cell_type": "markdown",
      "metadata": {
        "id": "hnqG24ZTkMsu"
      },
      "source": [
        "# 6 - Conclusão: \n",
        "Por fim fale aqui o que você conclui das visualizações e dos resultados. Tente explicar em detalhes por que um resultado, na sua opinião, foi melhor do que outro. Esta explicação pode incluir hipóteses para resultados melhores ou resultados piores. Também pode falar das dificuldades enfrentadas durante o trabalho e como conseguiu contorná-las."
      ]
    }
  ]
}