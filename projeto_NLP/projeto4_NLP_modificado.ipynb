{
  "nbformat": 4,
  "nbformat_minor": 0,
  "metadata": {
    "colab": {
      "name": "projeto4_NLP_modificado.ipynb",
      "provenance": [],
      "collapsed_sections": [
        "r8cDe6KMX1aa",
        "bDjKfg7ZX1ab",
        "k70pTpcYvt7e",
        "k_6wqyUeX1am"
      ]
    },
    "kernelspec": {
      "display_name": "Python 3",
      "language": "python",
      "name": "python3"
    }
  },
  "cells": [
    {
      "cell_type": "markdown",
      "metadata": {
        "id": "rxLYuJ3IjFdk"
      },
      "source": [
        "# **Descrição do projeto do Módulo de NLP**"
      ]
    },
    {
      "cell_type": "code",
      "metadata": {
        "id": "w8Oy8Wp-lqlj",
        "colab": {
          "base_uri": "https://localhost:8080/"
        },
        "outputId": "27f0f1ab-1f08-4ba0-9a1b-8b63e52c517b"
      },
      "source": [
        "import gensim\r\n",
        "print(gensim.__version__)"
      ],
      "execution_count": null,
      "outputs": [
        {
          "output_type": "stream",
          "text": [
            "3.6.0\n"
          ],
          "name": "stdout"
        }
      ]
    },
    {
      "cell_type": "markdown",
      "metadata": {
        "id": "0r5BTBhKibMm"
      },
      "source": [
        "\r\n",
        "No projeto do módulo de NLP vamos tentar resolver um problema de classificação de textos. Você escolherá um de três datasets cujo objetivo é classificar em um conjunto de classes. Você deverá utilizar três metodologias ensinadas em nossas aulas para poder classificar esses textos. A seguir, mais detalhes do projeto para que você possa resolver.\r\n",
        "\r\n",
        "\r\n",
        "Os produtos finais deste projeto será um Notebook Python. As seções seguintes detalham como você deve proceder para gerar o código e a última seção deve especificar a estrutura que seu notebook deve seguir.\r\n",
        "\r\n",
        "## 1. Dados\r\n",
        "Você poderá escolher três tarefas para resolver no projeto. A seguir existe a breve descrição de cada tarefa e um link para onde você poderá baixar os dados. \r\n",
        "\r\n",
        "O corpus UTL é um corpus com críticas de filmes e apps coletadas automaticamente de sites. As classes são: positiva ou negativa. Assim o usuário pode ter gostado ou não gostado do produto. Referência: https://github.com/RogerFig/UTLCorpus \r\n",
        "O corpus UOL AES-PT é um corpus de redações no estilo do ENEM. Cada redação possui um tópico e um conjunto de redações relacionadas. Nesse corpus, existem vários tópicos e suas respectivas redações. O objetivo é predizer a nota final de cada redação de acordo com o grupo de notas 0, 200, 400, 600, 800 e 1000. Para mais informações e download dos dados, acesse o link: https://github.com/evelinamorim/aes-pt .\r\n",
        "O corpus TweetSentBr é um corpus em português de tweets. Cada tweet está rotulado com uma das classes: positivo, negativo e neutro. Para mais informações e download do corpus, acesse o link https://bitbucket.org/HBrum/tweetsentbr/src/master/ .\r\n",
        "\r\n",
        "## 2. Representação\r\n",
        "Vimos durante a nossa aula diversas forma de representar um documento de texto. Você vai usar cada uma dessas representações e compará-las. A seguir temos a listagem das representações que devem ser usadas para representar seu texto.\r\n",
        "Representação TF-IDF. Você pode usar tanto o gensim quanto o scikit para montar esta representação, mas lembre-se que é importante fazer o pré-processamento dos textos.\r\n",
        "Representação com o word2vec. O modelo poderá ser o apresentado na aula 03 ou algum outro modelo pré-treinado como os existentes no repositório http://nilc.icmc.usp.br/nilc/index.php/repositorio-de-word-embeddings-do-nilc . Neste caso, cada documento deverá ser representado pelo vetor que resultar da média dos vetores de todas as palavras que o compõem. Em outras palavras, se D é composto pelas palavras w1, w2, …, wn, e seus vetores embeddings são v1, v2, …, vn, então a representação do documento de D será v = (v1 + v2 + … + vn) / n. \r\n",
        "Extração de features do texto. Você deve pensar em ao menos 10 features para extrair do documento e que o possam representar. Aqui vão algumas sugestões: número de palavras, número de verbos, número de conjunções, número de palavras negativas, número de palavras fora do vocabulário, quantidades de entidades do tipo PESSOA, quantidade de entidades do tipo LOCAL, etc.\r\n",
        "\r\n",
        "Lembrando que você deve dividir seu conjunto em treino e teste. No TF-IDF, você só pode aplicar o método fit no conjunto de treino. Uma sugestão é dividir 80% do conjunto de dados para treino e 20% para teste. Essa divisão é aleatória, mas você pode usar o método train_test_split para essa divisão. O exemplo a seguir mostra como usar esse método:\r\n",
        "\r\n",
        "from sklearn.model_selection import train_test_split\r\n",
        "\r\n",
        "\r\n",
        " X_train, X_test, y_train, y_test = train_test_split(\r\n",
        "...    X, y, test_size=0.20, random_state=42)\r\n",
        "\r\n",
        "## 3. Visualização dos dados\r\n",
        "\r\n",
        "Também vimos que embora o nosso texto apresente dimensionalidade maior que 2D, é possível visualizar em apenas duas dimensões usando técnicas de redução de dimensionalidade. Vimos duas técnicas de redução de dimensionalidade, o PCA e o t-SNE. Assim, pede-se que você utilize as duas técnicas para gerar uma visualização dos seus dados e considere as classes para colorir as instâncias. \r\n",
        "\r\n",
        "Sugere-se utilizar a biblioteca yellowbrick para gerar as visualizações, devido sua simplicidade. Mas caso tenha interesse em gerar visualizações mais interativas e mais bonitas, você pode utilizar a biblioteca seaborn. Para uma galeria dos gráficos que o seaborn é capaz de fazer, acesse o link https://seaborn.pydata.org/examples/index.html . Apenas acrescentando em seu código import seaborn as sns; sns.set() , também é possível deixar o gráfico com cores mais bonitas. Todas essas bibliotecas precisam do matplotlib, que já está importado no exemplo da aula.\r\n",
        "\r\n",
        "Aqui você deve fazer a visualização apenas do seu conjunto de treino.\r\n",
        "## 4. Classificadores\r\n",
        "\r\n",
        "Escolha dois classificadores que você possua mais familiaridade no scikit-learn para poder classificar os seus dados. Você deve executar cada um dos classificadores nas três representações escolhidas. \r\n",
        "\r\n",
        "Você pode usar o k-nn como um dos métodos. Outros métodos estão disponíveis no scikit, como por exemplo o SVM e o RandomForest.\r\n",
        "\r\n",
        "## 5. Métricas de avaliação\r\n",
        "\r\n",
        "Para os corpus TweetSentBR e UTL, pede-se que se use a matriz de confusão, a precisão, o recall e o f-1 para reportar a acurácia dos seus classificadores. No caso do corpus UOL AES-PT pede-se que se use o erro médio apenas.\r\n",
        "\r\n"
      ]
    },
    {
      "cell_type": "markdown",
      "metadata": {
        "id": "0myAsoSHid2I"
      },
      "source": [
        ""
      ]
    },
    {
      "cell_type": "markdown",
      "metadata": {
        "id": "bYYabv8fjWif"
      },
      "source": [
        "# Estrutura"
      ]
    },
    {
      "cell_type": "markdown",
      "metadata": {
        "id": "ynv0u9vojj9D"
      },
      "source": [
        "Estrutura do Notebook\r\n",
        "\r\n",
        "O seu notebook deve ser dividido por seções que possuam  uma célula do tipo Markdown. Nesta célula deve ter o título da seção antecedida por um marcador do tipo #. O título de cada seção deverá ser como a lista abaixo. Além do título, é possível que a seção demande a descrição de resultados ou outro tipo de texto. Nestes casos, coloque o texto junto à célula do título. Se houver código solicitado para a seção, então as células restantes devem ser de código solicitado.  \r\n",
        "O relatório deve ser organizado nas seguintes seções:\r\n",
        "\r\n",
        "\r\n",
        "\r\n",
        "\r\n",
        "\r\n",
        "1.   Tarefa e Dados\r\n",
        "\r\n",
        "2.   Classificadores\r\n",
        "\r\n",
        "3.   Resultados\r\n",
        "\r\n",
        "4.   Resultados\r\n"
      ]
    },
    {
      "cell_type": "markdown",
      "metadata": {
        "id": "xVos9YWln6m7"
      },
      "source": [
        "## 1 - Tarefa e Dados: \r\n",
        "Descreva a tarefa escolhida e os dados. Escreva código que leia os dados e calcule e imprima quantas instâncias os dados têm. Também, seu código deve calcular a média de tokens por instância, isto é, quantos tokens, na média cada documento do seu conjunto de dados possui. Imprima esse único número.\r\n",
        "\r\n",
        "Você poderá escolher três tarefas para resolver no projeto. A seguir existe a breve descrição de cada tarefa e um link para onde você poderá baixar os dados.\r\n",
        "\r\n",
        "O corpus UTL é um corpus com críticas de filmes e apps coletadas automaticamente de sites. As classes são: positiva ou negativa. Assim o usuário pode ter gostado ou não gostado do produto. Referência: https://github.com/RogerFig/UTLCorpus.\r\n",
        "\r\n",
        "O corpus UOL AES-PT é um corpus de redações no estilo do ENEM. Cada redação possui um tópico e um conjunto de redações relacionadas. Nesse corpus, existem vários tópicos e suas respectivas redações. O objetivo é predizer a nota final de cada redação de acordo com o grupo de notas 0, 200, 400, 600, 800 e 1000. Para mais informações e download dos dados, acesse o link: https://github.com/evelinamorim/aes-pt.\r\n",
        "\r\n",
        "O corpus TweetSentBr é um corpus em português de tweets. Cada tweet está rotulado com uma das classes: positivo, negativo e neutro. Para mais informações e download do corpus, acesse o link https://bitbucket.org/HBrum/tweetsentbr/src/master/."
      ]
    },
    {
      "cell_type": "markdown",
      "metadata": {
        "id": "gRmPygTVlXTG"
      },
      "source": [
        "A base escolhido é a do corpus UTL é um corpus com críticas de filmes e apps coletadas automaticamente de sites. As classes são: positiva ou negativa. Assim o usuário pode ter gostado ou não gostado do produto. Referência: https://github.com/RogerFig/UTLCorpus."
      ]
    },
    {
      "cell_type": "markdown",
      "metadata": {
        "id": "AD5iPWAJX1aX"
      },
      "source": [
        "## Importanto as bibliotecas necessárias"
      ]
    },
    {
      "cell_type": "code",
      "metadata": {
        "colab": {
          "base_uri": "https://localhost:8080/"
        },
        "id": "sMEXm13uX54E",
        "outputId": "570605a2-4f87-432c-86a7-c88763150c32"
      },
      "source": [
        "### # montando o drive do google onde o corpus se encontra\r\n",
        "from google.colab import drive\r\n",
        "drive.mount('/content/drive')\r\n",
        "\r\n",
        "### Entrando no diretório\r\n",
        "%cd drive/MyDrive/Colab Notebooks/NLP/trabalho"
      ],
      "execution_count": 2,
      "outputs": [
        {
          "output_type": "stream",
          "text": [
            "Mounted at /content/drive\n",
            "/content/drive/MyDrive/Colab Notebooks/NLP/trabalho\n"
          ],
          "name": "stdout"
        }
      ]
    },
    {
      "cell_type": "code",
      "metadata": {
        "colab": {
          "base_uri": "https://localhost:8080/"
        },
        "id": "xizqZPgGX1aX",
        "outputId": "2667cca3-50ea-433e-87ad-cbf6f5c71808"
      },
      "source": [
        "import nltk\n",
        "nltk.download('punkt')\n",
        "\n",
        "%matplotlib inline\n",
        "nltk.download('stopwords')\n",
        "\n",
        "# para extração das features\n",
        "!pip install scattertext\n",
        "!python -m spacy download pt_core_news_sm\n",
        "!python -m spacy download pt"
      ],
      "execution_count": 3,
      "outputs": [
        {
          "output_type": "stream",
          "text": [
            "[nltk_data] Downloading package punkt to /root/nltk_data...\n",
            "[nltk_data]   Unzipping tokenizers/punkt.zip.\n",
            "[nltk_data] Downloading package stopwords to /root/nltk_data...\n",
            "[nltk_data]   Unzipping corpora/stopwords.zip.\n",
            "Collecting scattertext\n",
            "\u001b[?25l  Downloading https://files.pythonhosted.org/packages/c3/63/ad2427520881539ba2a3308b5d2c96653d105c8871a0236fc8b988f6e4ca/scattertext-0.1.0.0-py3-none-any.whl (7.3MB)\n",
            "\u001b[K     |████████████████████████████████| 7.3MB 4.8MB/s \n",
            "\u001b[?25hRequirement already satisfied: pandas in /usr/local/lib/python3.6/dist-packages (from scattertext) (1.1.5)\n",
            "Requirement already satisfied: scipy in /usr/local/lib/python3.6/dist-packages (from scattertext) (1.4.1)\n",
            "Requirement already satisfied: statsmodels in /usr/local/lib/python3.6/dist-packages (from scattertext) (0.10.2)\n",
            "Requirement already satisfied: six in /usr/local/lib/python3.6/dist-packages (from scattertext) (1.15.0)\n",
            "Requirement already satisfied: numpy in /usr/local/lib/python3.6/dist-packages (from scattertext) (1.19.5)\n",
            "Collecting mock\n",
            "  Downloading https://files.pythonhosted.org/packages/5c/03/b7e605db4a57c0f6fba744b11ef3ddf4ddebcada35022927a2b5fc623fdf/mock-4.0.3-py3-none-any.whl\n",
            "Requirement already satisfied: scikit-learn in /usr/local/lib/python3.6/dist-packages (from scattertext) (0.22.2.post1)\n",
            "Collecting flashtext\n",
            "  Downloading https://files.pythonhosted.org/packages/81/d8/2cd0656eae456d615c2f1efbcae8dfca2cb871a31f34ba8925aba47d5e09/flashtext-2.7.tar.gz\n",
            "Requirement already satisfied: pytz>=2017.2 in /usr/local/lib/python3.6/dist-packages (from pandas->scattertext) (2018.9)\n",
            "Requirement already satisfied: python-dateutil>=2.7.3 in /usr/local/lib/python3.6/dist-packages (from pandas->scattertext) (2.8.1)\n",
            "Requirement already satisfied: patsy>=0.4.0 in /usr/local/lib/python3.6/dist-packages (from statsmodels->scattertext) (0.5.1)\n",
            "Requirement already satisfied: joblib>=0.11 in /usr/local/lib/python3.6/dist-packages (from scikit-learn->scattertext) (1.0.0)\n",
            "Building wheels for collected packages: flashtext\n",
            "  Building wheel for flashtext (setup.py) ... \u001b[?25l\u001b[?25hdone\n",
            "  Created wheel for flashtext: filename=flashtext-2.7-py2.py3-none-any.whl size=9299 sha256=f7adf9034868226cf2e048926f2acc76011e92d5f745428d5bda022843a1c6fa\n",
            "  Stored in directory: /root/.cache/pip/wheels/37/db/d7/fe74f7cb8e5c3afed90fe6f4967c933a6f13d81ab6b3d3128c\n",
            "Successfully built flashtext\n",
            "Installing collected packages: mock, flashtext, scattertext\n",
            "Successfully installed flashtext-2.7 mock-4.0.3 scattertext-0.1.0.0\n",
            "Collecting pt_core_news_sm==2.2.5\n",
            "\u001b[?25l  Downloading https://github.com/explosion/spacy-models/releases/download/pt_core_news_sm-2.2.5/pt_core_news_sm-2.2.5.tar.gz (21.2MB)\n",
            "\u001b[K     |████████████████████████████████| 21.2MB 1.2MB/s \n",
            "\u001b[?25hRequirement already satisfied: spacy>=2.2.2 in /usr/local/lib/python3.6/dist-packages (from pt_core_news_sm==2.2.5) (2.2.4)\n",
            "Requirement already satisfied: srsly<1.1.0,>=1.0.2 in /usr/local/lib/python3.6/dist-packages (from spacy>=2.2.2->pt_core_news_sm==2.2.5) (1.0.5)\n",
            "Requirement already satisfied: thinc==7.4.0 in /usr/local/lib/python3.6/dist-packages (from spacy>=2.2.2->pt_core_news_sm==2.2.5) (7.4.0)\n",
            "Requirement already satisfied: numpy>=1.15.0 in /usr/local/lib/python3.6/dist-packages (from spacy>=2.2.2->pt_core_news_sm==2.2.5) (1.19.5)\n",
            "Requirement already satisfied: cymem<2.1.0,>=2.0.2 in /usr/local/lib/python3.6/dist-packages (from spacy>=2.2.2->pt_core_news_sm==2.2.5) (2.0.5)\n",
            "Requirement already satisfied: plac<1.2.0,>=0.9.6 in /usr/local/lib/python3.6/dist-packages (from spacy>=2.2.2->pt_core_news_sm==2.2.5) (1.1.3)\n",
            "Requirement already satisfied: preshed<3.1.0,>=3.0.2 in /usr/local/lib/python3.6/dist-packages (from spacy>=2.2.2->pt_core_news_sm==2.2.5) (3.0.5)\n",
            "Requirement already satisfied: setuptools in /usr/local/lib/python3.6/dist-packages (from spacy>=2.2.2->pt_core_news_sm==2.2.5) (53.0.0)\n",
            "Requirement already satisfied: murmurhash<1.1.0,>=0.28.0 in /usr/local/lib/python3.6/dist-packages (from spacy>=2.2.2->pt_core_news_sm==2.2.5) (1.0.5)\n",
            "Requirement already satisfied: catalogue<1.1.0,>=0.0.7 in /usr/local/lib/python3.6/dist-packages (from spacy>=2.2.2->pt_core_news_sm==2.2.5) (1.0.0)\n",
            "Requirement already satisfied: requests<3.0.0,>=2.13.0 in /usr/local/lib/python3.6/dist-packages (from spacy>=2.2.2->pt_core_news_sm==2.2.5) (2.23.0)\n",
            "Requirement already satisfied: wasabi<1.1.0,>=0.4.0 in /usr/local/lib/python3.6/dist-packages (from spacy>=2.2.2->pt_core_news_sm==2.2.5) (0.8.2)\n",
            "Requirement already satisfied: tqdm<5.0.0,>=4.38.0 in /usr/local/lib/python3.6/dist-packages (from spacy>=2.2.2->pt_core_news_sm==2.2.5) (4.41.1)\n",
            "Requirement already satisfied: blis<0.5.0,>=0.4.0 in /usr/local/lib/python3.6/dist-packages (from spacy>=2.2.2->pt_core_news_sm==2.2.5) (0.4.1)\n",
            "Requirement already satisfied: importlib-metadata>=0.20; python_version < \"3.8\" in /usr/local/lib/python3.6/dist-packages (from catalogue<1.1.0,>=0.0.7->spacy>=2.2.2->pt_core_news_sm==2.2.5) (3.4.0)\n",
            "Requirement already satisfied: urllib3!=1.25.0,!=1.25.1,<1.26,>=1.21.1 in /usr/local/lib/python3.6/dist-packages (from requests<3.0.0,>=2.13.0->spacy>=2.2.2->pt_core_news_sm==2.2.5) (1.24.3)\n",
            "Requirement already satisfied: chardet<4,>=3.0.2 in /usr/local/lib/python3.6/dist-packages (from requests<3.0.0,>=2.13.0->spacy>=2.2.2->pt_core_news_sm==2.2.5) (3.0.4)\n",
            "Requirement already satisfied: idna<3,>=2.5 in /usr/local/lib/python3.6/dist-packages (from requests<3.0.0,>=2.13.0->spacy>=2.2.2->pt_core_news_sm==2.2.5) (2.10)\n",
            "Requirement already satisfied: certifi>=2017.4.17 in /usr/local/lib/python3.6/dist-packages (from requests<3.0.0,>=2.13.0->spacy>=2.2.2->pt_core_news_sm==2.2.5) (2020.12.5)\n",
            "Requirement already satisfied: zipp>=0.5 in /usr/local/lib/python3.6/dist-packages (from importlib-metadata>=0.20; python_version < \"3.8\"->catalogue<1.1.0,>=0.0.7->spacy>=2.2.2->pt_core_news_sm==2.2.5) (3.4.0)\n",
            "Requirement already satisfied: typing-extensions>=3.6.4; python_version < \"3.8\" in /usr/local/lib/python3.6/dist-packages (from importlib-metadata>=0.20; python_version < \"3.8\"->catalogue<1.1.0,>=0.0.7->spacy>=2.2.2->pt_core_news_sm==2.2.5) (3.7.4.3)\n",
            "Building wheels for collected packages: pt-core-news-sm\n",
            "  Building wheel for pt-core-news-sm (setup.py) ... \u001b[?25l\u001b[?25hdone\n",
            "  Created wheel for pt-core-news-sm: filename=pt_core_news_sm-2.2.5-cp36-none-any.whl size=21186283 sha256=30d4eea0473637613800b2e27608565f6d1675731c6d08bb9d2da5e724748367\n",
            "  Stored in directory: /tmp/pip-ephem-wheel-cache-3g3yj51t/wheels/ea/94/74/ec9be8418e9231b471be5dc7e1b45dd670019a376a6b5bc1c0\n",
            "Successfully built pt-core-news-sm\n",
            "Installing collected packages: pt-core-news-sm\n",
            "Successfully installed pt-core-news-sm-2.2.5\n",
            "\u001b[38;5;2m✔ Download and installation successful\u001b[0m\n",
            "You can now load the model via spacy.load('pt_core_news_sm')\n",
            "Requirement already satisfied: pt_core_news_sm==2.2.5 from https://github.com/explosion/spacy-models/releases/download/pt_core_news_sm-2.2.5/pt_core_news_sm-2.2.5.tar.gz#egg=pt_core_news_sm==2.2.5 in /usr/local/lib/python3.6/dist-packages (2.2.5)\n",
            "Requirement already satisfied: spacy>=2.2.2 in /usr/local/lib/python3.6/dist-packages (from pt_core_news_sm==2.2.5) (2.2.4)\n",
            "Requirement already satisfied: thinc==7.4.0 in /usr/local/lib/python3.6/dist-packages (from spacy>=2.2.2->pt_core_news_sm==2.2.5) (7.4.0)\n",
            "Requirement already satisfied: catalogue<1.1.0,>=0.0.7 in /usr/local/lib/python3.6/dist-packages (from spacy>=2.2.2->pt_core_news_sm==2.2.5) (1.0.0)\n",
            "Requirement already satisfied: preshed<3.1.0,>=3.0.2 in /usr/local/lib/python3.6/dist-packages (from spacy>=2.2.2->pt_core_news_sm==2.2.5) (3.0.5)\n",
            "Requirement already satisfied: wasabi<1.1.0,>=0.4.0 in /usr/local/lib/python3.6/dist-packages (from spacy>=2.2.2->pt_core_news_sm==2.2.5) (0.8.2)\n",
            "Requirement already satisfied: murmurhash<1.1.0,>=0.28.0 in /usr/local/lib/python3.6/dist-packages (from spacy>=2.2.2->pt_core_news_sm==2.2.5) (1.0.5)\n",
            "Requirement already satisfied: tqdm<5.0.0,>=4.38.0 in /usr/local/lib/python3.6/dist-packages (from spacy>=2.2.2->pt_core_news_sm==2.2.5) (4.41.1)\n",
            "Requirement already satisfied: numpy>=1.15.0 in /usr/local/lib/python3.6/dist-packages (from spacy>=2.2.2->pt_core_news_sm==2.2.5) (1.19.5)\n",
            "Requirement already satisfied: setuptools in /usr/local/lib/python3.6/dist-packages (from spacy>=2.2.2->pt_core_news_sm==2.2.5) (53.0.0)\n",
            "Requirement already satisfied: plac<1.2.0,>=0.9.6 in /usr/local/lib/python3.6/dist-packages (from spacy>=2.2.2->pt_core_news_sm==2.2.5) (1.1.3)\n",
            "Requirement already satisfied: requests<3.0.0,>=2.13.0 in /usr/local/lib/python3.6/dist-packages (from spacy>=2.2.2->pt_core_news_sm==2.2.5) (2.23.0)\n",
            "Requirement already satisfied: cymem<2.1.0,>=2.0.2 in /usr/local/lib/python3.6/dist-packages (from spacy>=2.2.2->pt_core_news_sm==2.2.5) (2.0.5)\n",
            "Requirement already satisfied: blis<0.5.0,>=0.4.0 in /usr/local/lib/python3.6/dist-packages (from spacy>=2.2.2->pt_core_news_sm==2.2.5) (0.4.1)\n",
            "Requirement already satisfied: srsly<1.1.0,>=1.0.2 in /usr/local/lib/python3.6/dist-packages (from spacy>=2.2.2->pt_core_news_sm==2.2.5) (1.0.5)\n",
            "Requirement already satisfied: importlib-metadata>=0.20; python_version < \"3.8\" in /usr/local/lib/python3.6/dist-packages (from catalogue<1.1.0,>=0.0.7->spacy>=2.2.2->pt_core_news_sm==2.2.5) (3.4.0)\n",
            "Requirement already satisfied: urllib3!=1.25.0,!=1.25.1,<1.26,>=1.21.1 in /usr/local/lib/python3.6/dist-packages (from requests<3.0.0,>=2.13.0->spacy>=2.2.2->pt_core_news_sm==2.2.5) (1.24.3)\n",
            "Requirement already satisfied: chardet<4,>=3.0.2 in /usr/local/lib/python3.6/dist-packages (from requests<3.0.0,>=2.13.0->spacy>=2.2.2->pt_core_news_sm==2.2.5) (3.0.4)\n",
            "Requirement already satisfied: certifi>=2017.4.17 in /usr/local/lib/python3.6/dist-packages (from requests<3.0.0,>=2.13.0->spacy>=2.2.2->pt_core_news_sm==2.2.5) (2020.12.5)\n",
            "Requirement already satisfied: idna<3,>=2.5 in /usr/local/lib/python3.6/dist-packages (from requests<3.0.0,>=2.13.0->spacy>=2.2.2->pt_core_news_sm==2.2.5) (2.10)\n",
            "Requirement already satisfied: zipp>=0.5 in /usr/local/lib/python3.6/dist-packages (from importlib-metadata>=0.20; python_version < \"3.8\"->catalogue<1.1.0,>=0.0.7->spacy>=2.2.2->pt_core_news_sm==2.2.5) (3.4.0)\n",
            "Requirement already satisfied: typing-extensions>=3.6.4; python_version < \"3.8\" in /usr/local/lib/python3.6/dist-packages (from importlib-metadata>=0.20; python_version < \"3.8\"->catalogue<1.1.0,>=0.0.7->spacy>=2.2.2->pt_core_news_sm==2.2.5) (3.7.4.3)\n",
            "\u001b[38;5;2m✔ Download and installation successful\u001b[0m\n",
            "You can now load the model via spacy.load('pt_core_news_sm')\n",
            "\u001b[38;5;2m✔ Linking successful\u001b[0m\n",
            "/usr/local/lib/python3.6/dist-packages/pt_core_news_sm -->\n",
            "/usr/local/lib/python3.6/dist-packages/spacy/data/pt\n",
            "You can now load the model via spacy.load('pt')\n"
          ],
          "name": "stdout"
        }
      ]
    },
    {
      "cell_type": "code",
      "metadata": {
        "id": "X9Tkls2bX1aa"
      },
      "source": [
        "import pandas as pd\n",
        "import numpy as np\n",
        "\n",
        "import time # usado para calcular o tempo de processamento de algumas partes do código\n",
        "import string # usado para concatenar string no stop words\n",
        "\n",
        "\n",
        "from nltk.tokenize import word_tokenize\n",
        "\n",
        "# REPRESENTAÇÕES\n",
        "from gensim.models import Word2Vec\n",
        "from gensim.models import TfidfModel\n",
        "from gensim.corpora import Dictionary # para uso do TF-IDF\n",
        "from gensim import corpora\n"
      ],
      "execution_count": 4,
      "outputs": []
    },
    {
      "cell_type": "markdown",
      "metadata": {
        "id": "r8cDe6KMX1aa"
      },
      "source": [
        "## Abrindo o arquivo"
      ]
    },
    {
      "cell_type": "code",
      "metadata": {
        "id": "Zg6ztZNiX1ab"
      },
      "source": [
        "# abrindo o arquivo localmente\n",
        "# df_util = pd.read_csv(r'C:\\Users\\Herica\\Documents\\Herica\\Pos\\GitHub\\base\\NLP\\UTLCorpus.csv')\n",
        "# df_util.head(3)"
      ],
      "execution_count": null,
      "outputs": []
    },
    {
      "cell_type": "code",
      "metadata": {
        "colab": {
          "base_uri": "https://localhost:8080/",
          "height": 261
        },
        "id": "aDWnK_yiZgu8",
        "outputId": "e87b45c7-bc8c-4a3d-f939-e4e48a4f6a76"
      },
      "source": [
        "# abrindo o arquivo no colab\r\n",
        "df_util = pd.read_csv('/content/drive/MyDrive/Colab Notebooks/NLP/trabalho/dados/UTLCorpus.csv')\r\n",
        "df_util.head(3)"
      ],
      "execution_count": null,
      "outputs": [
        {
          "output_type": "execute_result",
          "data": {
            "text/html": [
              "<div>\n",
              "<style scoped>\n",
              "    .dataframe tbody tr th:only-of-type {\n",
              "        vertical-align: middle;\n",
              "    }\n",
              "\n",
              "    .dataframe tbody tr th {\n",
              "        vertical-align: top;\n",
              "    }\n",
              "\n",
              "    .dataframe thead th {\n",
              "        text-align: right;\n",
              "    }\n",
              "</style>\n",
              "<table border=\"1\" class=\"dataframe\">\n",
              "  <thead>\n",
              "    <tr style=\"text-align: right;\">\n",
              "      <th></th>\n",
              "      <th>Unnamed: 0</th>\n",
              "      <th>domain</th>\n",
              "      <th>object</th>\n",
              "      <th>author</th>\n",
              "      <th>text</th>\n",
              "      <th>likes</th>\n",
              "      <th>unlikes</th>\n",
              "      <th>stars</th>\n",
              "      <th>date</th>\n",
              "      <th>collect_date</th>\n",
              "      <th>replies</th>\n",
              "      <th>favorite</th>\n",
              "      <th>want_see</th>\n",
              "      <th>recommend</th>\n",
              "      <th>see</th>\n",
              "      <th>internal_id</th>\n",
              "    </tr>\n",
              "  </thead>\n",
              "  <tbody>\n",
              "    <tr>\n",
              "      <th>0</th>\n",
              "      <td>0</td>\n",
              "      <td>movies</td>\n",
              "      <td>007-cassino-royale-t23</td>\n",
              "      <td>0</td>\n",
              "      <td>Um dos melhores do 007</td>\n",
              "      <td>0</td>\n",
              "      <td>0</td>\n",
              "      <td>3.5</td>\n",
              "      <td>8 anos atrás</td>\n",
              "      <td>20-04-2019 06:20</td>\n",
              "      <td>0.0</td>\n",
              "      <td>0.0</td>\n",
              "      <td>0.0</td>\n",
              "      <td>NaN</td>\n",
              "      <td>1.0</td>\n",
              "      <td>0</td>\n",
              "    </tr>\n",
              "    <tr>\n",
              "      <th>1</th>\n",
              "      <td>1</td>\n",
              "      <td>movies</td>\n",
              "      <td>007-cassino-royale-t23</td>\n",
              "      <td>1</td>\n",
              "      <td>assisti só pela metade..do meio ao fim, o film...</td>\n",
              "      <td>0</td>\n",
              "      <td>0</td>\n",
              "      <td>4.0</td>\n",
              "      <td>8 anos atrás</td>\n",
              "      <td>20-04-2019 06:20</td>\n",
              "      <td>0.0</td>\n",
              "      <td>0.0</td>\n",
              "      <td>0.0</td>\n",
              "      <td>NaN</td>\n",
              "      <td>1.0</td>\n",
              "      <td>1</td>\n",
              "    </tr>\n",
              "    <tr>\n",
              "      <th>2</th>\n",
              "      <td>2</td>\n",
              "      <td>movies</td>\n",
              "      <td>007-cassino-royale-t23</td>\n",
              "      <td>2</td>\n",
              "      <td>foi um dos filmes mais violentos q já vi. mas ...</td>\n",
              "      <td>0</td>\n",
              "      <td>0</td>\n",
              "      <td>4.0</td>\n",
              "      <td>8 anos atrás</td>\n",
              "      <td>20-04-2019 06:20</td>\n",
              "      <td>0.0</td>\n",
              "      <td>0.0</td>\n",
              "      <td>0.0</td>\n",
              "      <td>NaN</td>\n",
              "      <td>1.0</td>\n",
              "      <td>2</td>\n",
              "    </tr>\n",
              "  </tbody>\n",
              "</table>\n",
              "</div>"
            ],
            "text/plain": [
              "   Unnamed: 0  domain                  object  ...  recommend  see  internal_id\n",
              "0           0  movies  007-cassino-royale-t23  ...        NaN  1.0            0\n",
              "1           1  movies  007-cassino-royale-t23  ...        NaN  1.0            1\n",
              "2           2  movies  007-cassino-royale-t23  ...        NaN  1.0            2\n",
              "\n",
              "[3 rows x 16 columns]"
            ]
          },
          "metadata": {
            "tags": []
          },
          "execution_count": 5
        }
      ]
    },
    {
      "cell_type": "markdown",
      "metadata": {
        "id": "t5wE53KyX1ae"
      },
      "source": [
        "**DESCRIÇÃO DAS FEATURES**\n",
        "\n",
        "domain -> identifica se os regisgros estão relacionados a avaliação de filmes ou de apps\n",
        "\n",
        "object -> identificação do filme\n",
        "\n",
        "author -> pessoa que fez a avaliação\n",
        "\n",
        "text -> texto escrito pelo author sobre sua avaliação\n",
        "\n",
        "likes -> qtde de likes que a avaliação do author recebeu\n",
        "\n",
        "unkes -> qtde de unlikes que a avaliação do author recebeu\n",
        "\n",
        "stars\tdate\t-> qtde de estrelas que a avaliação recebeu\n",
        "\n",
        "collect_date\t-> data da avaliação\n",
        "\n",
        "replies\tfavorite\t-> qtde de replicas favoritadas\n",
        "\n",
        "want_see\t-> qtde de 'quero ver'\n",
        "\n",
        "recommend\t-> se é recomendado\n",
        "\n",
        "see\t-> qtde de 'já vi' recebido\n",
        "\n",
        "internal_id -> código interno do dataset\n"
      ]
    },
    {
      "cell_type": "markdown",
      "metadata": {
        "id": "bDjKfg7ZX1ab"
      },
      "source": [
        "# Analisando os dados"
      ]
    },
    {
      "cell_type": "markdown",
      "metadata": {
        "id": "mANdYtB147eK"
      },
      "source": [
        "## Descrição dos dados"
      ]
    },
    {
      "cell_type": "code",
      "metadata": {
        "colab": {
          "base_uri": "https://localhost:8080/"
        },
        "id": "6BkD1XPV46ox",
        "outputId": "3095adc5-cba7-44de-9136-8109cac35c36"
      },
      "source": [
        "print ('Tamanho da base')\r\n",
        "print ('Qtde de linhas: ', df_util.shape[0], ' Qtde de features/colunas: ', df_util.shape[1])"
      ],
      "execution_count": null,
      "outputs": [
        {
          "output_type": "stream",
          "text": [
            "Tamanho da base\n",
            "Qtde de linhas:  2881589  Qtde de features/colunas:  16\n"
          ],
          "name": "stdout"
        }
      ]
    },
    {
      "cell_type": "code",
      "metadata": {
        "colab": {
          "base_uri": "https://localhost:8080/",
          "height": 297
        },
        "id": "AC5-W0JxF2ur",
        "outputId": "86c16800-e4a1-44d9-b36f-2b81ba7e519a"
      },
      "source": [
        "df_util.describe()"
      ],
      "execution_count": null,
      "outputs": [
        {
          "output_type": "execute_result",
          "data": {
            "text/html": [
              "<div>\n",
              "<style scoped>\n",
              "    .dataframe tbody tr th:only-of-type {\n",
              "        vertical-align: middle;\n",
              "    }\n",
              "\n",
              "    .dataframe tbody tr th {\n",
              "        vertical-align: top;\n",
              "    }\n",
              "\n",
              "    .dataframe thead th {\n",
              "        text-align: right;\n",
              "    }\n",
              "</style>\n",
              "<table border=\"1\" class=\"dataframe\">\n",
              "  <thead>\n",
              "    <tr style=\"text-align: right;\">\n",
              "      <th></th>\n",
              "      <th>Unnamed: 0</th>\n",
              "      <th>author</th>\n",
              "      <th>likes</th>\n",
              "      <th>unlikes</th>\n",
              "      <th>stars</th>\n",
              "      <th>replies</th>\n",
              "      <th>favorite</th>\n",
              "      <th>want_see</th>\n",
              "      <th>recommend</th>\n",
              "      <th>see</th>\n",
              "      <th>internal_id</th>\n",
              "    </tr>\n",
              "  </thead>\n",
              "  <tbody>\n",
              "    <tr>\n",
              "      <th>count</th>\n",
              "      <td>2.881589e+06</td>\n",
              "      <td>2.881589e+06</td>\n",
              "      <td>2.881589e+06</td>\n",
              "      <td>2881589.0</td>\n",
              "      <td>2.881589e+06</td>\n",
              "      <td>1.839851e+06</td>\n",
              "      <td>1.839851e+06</td>\n",
              "      <td>1.839851e+06</td>\n",
              "      <td>0.0</td>\n",
              "      <td>1.839851e+06</td>\n",
              "      <td>2.881589e+06</td>\n",
              "    </tr>\n",
              "    <tr>\n",
              "      <th>mean</th>\n",
              "      <td>1.440794e+06</td>\n",
              "      <td>7.084866e+04</td>\n",
              "      <td>3.275024e+00</td>\n",
              "      <td>0.0</td>\n",
              "      <td>3.542358e+00</td>\n",
              "      <td>1.717813e-01</td>\n",
              "      <td>2.504051e-01</td>\n",
              "      <td>1.329238e-02</td>\n",
              "      <td>NaN</td>\n",
              "      <td>9.630774e-01</td>\n",
              "      <td>7.756600e+05</td>\n",
              "    </tr>\n",
              "    <tr>\n",
              "      <th>std</th>\n",
              "      <td>8.318432e+05</td>\n",
              "      <td>1.237974e+05</td>\n",
              "      <td>5.198818e+01</td>\n",
              "      <td>0.0</td>\n",
              "      <td>1.737904e+00</td>\n",
              "      <td>7.363074e-01</td>\n",
              "      <td>4.332464e-01</td>\n",
              "      <td>1.145238e-01</td>\n",
              "      <td>NaN</td>\n",
              "      <td>1.885717e-01</td>\n",
              "      <td>4.995596e+05</td>\n",
              "    </tr>\n",
              "    <tr>\n",
              "      <th>min</th>\n",
              "      <td>0.000000e+00</td>\n",
              "      <td>0.000000e+00</td>\n",
              "      <td>0.000000e+00</td>\n",
              "      <td>0.0</td>\n",
              "      <td>0.000000e+00</td>\n",
              "      <td>0.000000e+00</td>\n",
              "      <td>0.000000e+00</td>\n",
              "      <td>0.000000e+00</td>\n",
              "      <td>NaN</td>\n",
              "      <td>0.000000e+00</td>\n",
              "      <td>0.000000e+00</td>\n",
              "    </tr>\n",
              "    <tr>\n",
              "      <th>25%</th>\n",
              "      <td>7.203970e+05</td>\n",
              "      <td>3.917000e+03</td>\n",
              "      <td>0.000000e+00</td>\n",
              "      <td>0.0</td>\n",
              "      <td>3.000000e+00</td>\n",
              "      <td>0.000000e+00</td>\n",
              "      <td>0.000000e+00</td>\n",
              "      <td>0.000000e+00</td>\n",
              "      <td>NaN</td>\n",
              "      <td>1.000000e+00</td>\n",
              "      <td>3.601980e+05</td>\n",
              "    </tr>\n",
              "    <tr>\n",
              "      <th>50%</th>\n",
              "      <td>1.440794e+06</td>\n",
              "      <td>1.749000e+04</td>\n",
              "      <td>0.000000e+00</td>\n",
              "      <td>0.0</td>\n",
              "      <td>4.000000e+00</td>\n",
              "      <td>0.000000e+00</td>\n",
              "      <td>0.000000e+00</td>\n",
              "      <td>0.000000e+00</td>\n",
              "      <td>NaN</td>\n",
              "      <td>1.000000e+00</td>\n",
              "      <td>7.203970e+05</td>\n",
              "    </tr>\n",
              "    <tr>\n",
              "      <th>75%</th>\n",
              "      <td>2.161191e+06</td>\n",
              "      <td>5.939500e+04</td>\n",
              "      <td>2.000000e+00</td>\n",
              "      <td>0.0</td>\n",
              "      <td>5.000000e+00</td>\n",
              "      <td>0.000000e+00</td>\n",
              "      <td>1.000000e+00</td>\n",
              "      <td>0.000000e+00</td>\n",
              "      <td>NaN</td>\n",
              "      <td>1.000000e+00</td>\n",
              "      <td>1.119453e+06</td>\n",
              "    </tr>\n",
              "    <tr>\n",
              "      <th>max</th>\n",
              "      <td>2.881588e+06</td>\n",
              "      <td>5.410000e+05</td>\n",
              "      <td>2.014600e+04</td>\n",
              "      <td>0.0</td>\n",
              "      <td>5.000000e+00</td>\n",
              "      <td>1.420000e+02</td>\n",
              "      <td>1.000000e+00</td>\n",
              "      <td>1.000000e+00</td>\n",
              "      <td>NaN</td>\n",
              "      <td>1.000000e+00</td>\n",
              "      <td>1.839850e+06</td>\n",
              "    </tr>\n",
              "  </tbody>\n",
              "</table>\n",
              "</div>"
            ],
            "text/plain": [
              "         Unnamed: 0        author  ...           see   internal_id\n",
              "count  2.881589e+06  2.881589e+06  ...  1.839851e+06  2.881589e+06\n",
              "mean   1.440794e+06  7.084866e+04  ...  9.630774e-01  7.756600e+05\n",
              "std    8.318432e+05  1.237974e+05  ...  1.885717e-01  4.995596e+05\n",
              "min    0.000000e+00  0.000000e+00  ...  0.000000e+00  0.000000e+00\n",
              "25%    7.203970e+05  3.917000e+03  ...  1.000000e+00  3.601980e+05\n",
              "50%    1.440794e+06  1.749000e+04  ...  1.000000e+00  7.203970e+05\n",
              "75%    2.161191e+06  5.939500e+04  ...  1.000000e+00  1.119453e+06\n",
              "max    2.881588e+06  5.410000e+05  ...  1.000000e+00  1.839850e+06\n",
              "\n",
              "[8 rows x 11 columns]"
            ]
          },
          "metadata": {
            "tags": []
          },
          "execution_count": 7
        }
      ]
    },
    {
      "cell_type": "code",
      "metadata": {
        "colab": {
          "base_uri": "https://localhost:8080/"
        },
        "id": "noIcacba5wFw",
        "outputId": "eb49d107-b62b-4f8c-95d8-8535a8478b66"
      },
      "source": [
        "print ('Tipos dos dados')\r\n",
        "df_util.dtypes"
      ],
      "execution_count": null,
      "outputs": [
        {
          "output_type": "stream",
          "text": [
            "Tipos dos dados\n"
          ],
          "name": "stdout"
        },
        {
          "output_type": "execute_result",
          "data": {
            "text/plain": [
              "Unnamed: 0        int64\n",
              "domain           object\n",
              "object           object\n",
              "author            int64\n",
              "text             object\n",
              "likes             int64\n",
              "unlikes           int64\n",
              "stars           float64\n",
              "date             object\n",
              "collect_date     object\n",
              "replies         float64\n",
              "favorite        float64\n",
              "want_see        float64\n",
              "recommend       float64\n",
              "see             float64\n",
              "internal_id       int64\n",
              "dtype: object"
            ]
          },
          "metadata": {
            "tags": []
          },
          "execution_count": 8
        }
      ]
    },
    {
      "cell_type": "code",
      "metadata": {
        "colab": {
          "base_uri": "https://localhost:8080/"
        },
        "id": "ID1A5ian7Iux",
        "outputId": "b1cb4af1-0448-4195-d8ae-a4932512d135"
      },
      "source": [
        "df_util.info()"
      ],
      "execution_count": null,
      "outputs": [
        {
          "output_type": "stream",
          "text": [
            "<class 'pandas.core.frame.DataFrame'>\n",
            "RangeIndex: 2881589 entries, 0 to 2881588\n",
            "Data columns (total 16 columns):\n",
            " #   Column        Dtype  \n",
            "---  ------        -----  \n",
            " 0   Unnamed: 0    int64  \n",
            " 1   domain        object \n",
            " 2   object        object \n",
            " 3   author        int64  \n",
            " 4   text          object \n",
            " 5   likes         int64  \n",
            " 6   unlikes       int64  \n",
            " 7   stars         float64\n",
            " 8   date          object \n",
            " 9   collect_date  object \n",
            " 10  replies       float64\n",
            " 11  favorite      float64\n",
            " 12  want_see      float64\n",
            " 13  recommend     float64\n",
            " 14  see           float64\n",
            " 15  internal_id   int64  \n",
            "dtypes: float64(6), int64(5), object(5)\n",
            "memory usage: 351.8+ MB\n"
          ],
          "name": "stdout"
        }
      ]
    },
    {
      "cell_type": "markdown",
      "metadata": {
        "id": "ChyLl7bN3lf8"
      },
      "source": [
        "## Escolhendo quais tipos de registros serão utilizados"
      ]
    },
    {
      "cell_type": "code",
      "metadata": {
        "colab": {
          "base_uri": "https://localhost:8080/"
        },
        "id": "ZzQYH6hFX1ac",
        "outputId": "28339aea-5ce6-4333-fd97-7b59f8be423b"
      },
      "source": [
        "# Verificando quais os tipos da feature domain\n",
        "df_util.domain.unique()"
      ],
      "execution_count": null,
      "outputs": [
        {
          "output_type": "execute_result",
          "data": {
            "text/plain": [
              "array(['movies', 'apps'], dtype=object)"
            ]
          },
          "metadata": {
            "tags": []
          },
          "execution_count": 10
        }
      ]
    },
    {
      "cell_type": "code",
      "metadata": {
        "id": "kBey34QFX1ac",
        "colab": {
          "base_uri": "https://localhost:8080/"
        },
        "outputId": "d0d0813e-c957-46ae-b981-6860dd7fc92e"
      },
      "source": [
        "print ('Qtde de movies:', len(df_util[df_util['domain'] == 'movies']))\n",
        "print ('Qtde de apps:',  len(df_util[df_util['domain'] == 'apps']))"
      ],
      "execution_count": null,
      "outputs": [
        {
          "output_type": "stream",
          "text": [
            "Qtde de movies: 1839851\n",
            "Qtde de apps: 1041738\n"
          ],
          "name": "stdout"
        }
      ]
    },
    {
      "cell_type": "code",
      "metadata": {
        "id": "zJT_WLv_X1ad"
      },
      "source": [
        "# Selecionando somente o registros do tipo movies\n",
        "df_movies = df_util[df_util['domain'] == 'movies']"
      ],
      "execution_count": null,
      "outputs": []
    },
    {
      "cell_type": "markdown",
      "metadata": {
        "id": "cW0pRDlyX1ad"
      },
      "source": [
        "## Selecionando as features de interesse e deletando registros"
      ]
    },
    {
      "cell_type": "code",
      "metadata": {
        "colab": {
          "base_uri": "https://localhost:8080/",
          "height": 261
        },
        "id": "wWBIKDi1254H",
        "outputId": "f0999ea6-5b8b-4f1f-e684-d0b859c57a18"
      },
      "source": [
        "df_movies.head(3)"
      ],
      "execution_count": null,
      "outputs": [
        {
          "output_type": "execute_result",
          "data": {
            "text/html": [
              "<div>\n",
              "<style scoped>\n",
              "    .dataframe tbody tr th:only-of-type {\n",
              "        vertical-align: middle;\n",
              "    }\n",
              "\n",
              "    .dataframe tbody tr th {\n",
              "        vertical-align: top;\n",
              "    }\n",
              "\n",
              "    .dataframe thead th {\n",
              "        text-align: right;\n",
              "    }\n",
              "</style>\n",
              "<table border=\"1\" class=\"dataframe\">\n",
              "  <thead>\n",
              "    <tr style=\"text-align: right;\">\n",
              "      <th></th>\n",
              "      <th>Unnamed: 0</th>\n",
              "      <th>domain</th>\n",
              "      <th>object</th>\n",
              "      <th>author</th>\n",
              "      <th>text</th>\n",
              "      <th>likes</th>\n",
              "      <th>unlikes</th>\n",
              "      <th>stars</th>\n",
              "      <th>date</th>\n",
              "      <th>collect_date</th>\n",
              "      <th>replies</th>\n",
              "      <th>favorite</th>\n",
              "      <th>want_see</th>\n",
              "      <th>recommend</th>\n",
              "      <th>see</th>\n",
              "      <th>internal_id</th>\n",
              "    </tr>\n",
              "  </thead>\n",
              "  <tbody>\n",
              "    <tr>\n",
              "      <th>0</th>\n",
              "      <td>0</td>\n",
              "      <td>movies</td>\n",
              "      <td>007-cassino-royale-t23</td>\n",
              "      <td>0</td>\n",
              "      <td>Um dos melhores do 007</td>\n",
              "      <td>0</td>\n",
              "      <td>0</td>\n",
              "      <td>3.5</td>\n",
              "      <td>8 anos atrás</td>\n",
              "      <td>20-04-2019 06:20</td>\n",
              "      <td>0.0</td>\n",
              "      <td>0.0</td>\n",
              "      <td>0.0</td>\n",
              "      <td>NaN</td>\n",
              "      <td>1.0</td>\n",
              "      <td>0</td>\n",
              "    </tr>\n",
              "    <tr>\n",
              "      <th>1</th>\n",
              "      <td>1</td>\n",
              "      <td>movies</td>\n",
              "      <td>007-cassino-royale-t23</td>\n",
              "      <td>1</td>\n",
              "      <td>assisti só pela metade..do meio ao fim, o film...</td>\n",
              "      <td>0</td>\n",
              "      <td>0</td>\n",
              "      <td>4.0</td>\n",
              "      <td>8 anos atrás</td>\n",
              "      <td>20-04-2019 06:20</td>\n",
              "      <td>0.0</td>\n",
              "      <td>0.0</td>\n",
              "      <td>0.0</td>\n",
              "      <td>NaN</td>\n",
              "      <td>1.0</td>\n",
              "      <td>1</td>\n",
              "    </tr>\n",
              "    <tr>\n",
              "      <th>2</th>\n",
              "      <td>2</td>\n",
              "      <td>movies</td>\n",
              "      <td>007-cassino-royale-t23</td>\n",
              "      <td>2</td>\n",
              "      <td>foi um dos filmes mais violentos q já vi. mas ...</td>\n",
              "      <td>0</td>\n",
              "      <td>0</td>\n",
              "      <td>4.0</td>\n",
              "      <td>8 anos atrás</td>\n",
              "      <td>20-04-2019 06:20</td>\n",
              "      <td>0.0</td>\n",
              "      <td>0.0</td>\n",
              "      <td>0.0</td>\n",
              "      <td>NaN</td>\n",
              "      <td>1.0</td>\n",
              "      <td>2</td>\n",
              "    </tr>\n",
              "  </tbody>\n",
              "</table>\n",
              "</div>"
            ],
            "text/plain": [
              "   Unnamed: 0  domain                  object  ...  recommend  see  internal_id\n",
              "0           0  movies  007-cassino-royale-t23  ...        NaN  1.0            0\n",
              "1           1  movies  007-cassino-royale-t23  ...        NaN  1.0            1\n",
              "2           2  movies  007-cassino-royale-t23  ...        NaN  1.0            2\n",
              "\n",
              "[3 rows x 16 columns]"
            ]
          },
          "metadata": {
            "tags": []
          },
          "execution_count": 13
        }
      ]
    },
    {
      "cell_type": "code",
      "metadata": {
        "colab": {
          "base_uri": "https://localhost:8080/",
          "height": 142
        },
        "id": "ApPfEhv_X1ae",
        "outputId": "9edb32ce-7daf-4c16-8901-6d188a5c6468"
      },
      "source": [
        "df_movies = df_movies[['object', 'text', 'likes','stars','favorite' ]]\n",
        "df_movies.head(3)"
      ],
      "execution_count": null,
      "outputs": [
        {
          "output_type": "execute_result",
          "data": {
            "text/html": [
              "<div>\n",
              "<style scoped>\n",
              "    .dataframe tbody tr th:only-of-type {\n",
              "        vertical-align: middle;\n",
              "    }\n",
              "\n",
              "    .dataframe tbody tr th {\n",
              "        vertical-align: top;\n",
              "    }\n",
              "\n",
              "    .dataframe thead th {\n",
              "        text-align: right;\n",
              "    }\n",
              "</style>\n",
              "<table border=\"1\" class=\"dataframe\">\n",
              "  <thead>\n",
              "    <tr style=\"text-align: right;\">\n",
              "      <th></th>\n",
              "      <th>object</th>\n",
              "      <th>text</th>\n",
              "      <th>likes</th>\n",
              "      <th>stars</th>\n",
              "      <th>favorite</th>\n",
              "    </tr>\n",
              "  </thead>\n",
              "  <tbody>\n",
              "    <tr>\n",
              "      <th>0</th>\n",
              "      <td>007-cassino-royale-t23</td>\n",
              "      <td>Um dos melhores do 007</td>\n",
              "      <td>0</td>\n",
              "      <td>3.5</td>\n",
              "      <td>0.0</td>\n",
              "    </tr>\n",
              "    <tr>\n",
              "      <th>1</th>\n",
              "      <td>007-cassino-royale-t23</td>\n",
              "      <td>assisti só pela metade..do meio ao fim, o film...</td>\n",
              "      <td>0</td>\n",
              "      <td>4.0</td>\n",
              "      <td>0.0</td>\n",
              "    </tr>\n",
              "    <tr>\n",
              "      <th>2</th>\n",
              "      <td>007-cassino-royale-t23</td>\n",
              "      <td>foi um dos filmes mais violentos q já vi. mas ...</td>\n",
              "      <td>0</td>\n",
              "      <td>4.0</td>\n",
              "      <td>0.0</td>\n",
              "    </tr>\n",
              "  </tbody>\n",
              "</table>\n",
              "</div>"
            ],
            "text/plain": [
              "                   object  ... favorite\n",
              "0  007-cassino-royale-t23  ...      0.0\n",
              "1  007-cassino-royale-t23  ...      0.0\n",
              "2  007-cassino-royale-t23  ...      0.0\n",
              "\n",
              "[3 rows x 5 columns]"
            ]
          },
          "metadata": {
            "tags": []
          },
          "execution_count": 14
        }
      ]
    },
    {
      "cell_type": "code",
      "metadata": {
        "colab": {
          "base_uri": "https://localhost:8080/"
        },
        "id": "nvdYOP957Nvh",
        "outputId": "9becd941-a42b-4f51-b813-f60aa5ebaf69"
      },
      "source": [
        "df_movies.info()"
      ],
      "execution_count": null,
      "outputs": [
        {
          "output_type": "stream",
          "text": [
            "<class 'pandas.core.frame.DataFrame'>\n",
            "Int64Index: 1839851 entries, 0 to 1839850\n",
            "Data columns (total 5 columns):\n",
            " #   Column    Dtype  \n",
            "---  ------    -----  \n",
            " 0   object    object \n",
            " 1   text      object \n",
            " 2   likes     int64  \n",
            " 3   stars     float64\n",
            " 4   favorite  float64\n",
            "dtypes: float64(2), int64(1), object(2)\n",
            "memory usage: 84.2+ MB\n"
          ],
          "name": "stdout"
        }
      ]
    },
    {
      "cell_type": "code",
      "metadata": {
        "colab": {
          "base_uri": "https://localhost:8080/"
        },
        "id": "4KQDwIAgX1af",
        "outputId": "29431a26-7b80-45ed-d8e6-93a53840aa0a"
      },
      "source": [
        "# analisando a qtde de filmes avaliados\n",
        "df_movies['object'].value_counts()"
      ],
      "execution_count": null,
      "outputs": [
        {
          "output_type": "execute_result",
          "data": {
            "text/plain": [
              "cisne-negro-t16349                               7839\n",
              "os-vingadores-t15324                             7059\n",
              "as-vantagens-de-ser-invisivel-t29850             6940\n",
              "batman-o-cavaleiro-das-trevas-ressurge-t19914    6413\n",
              "a-origem-t10852                                  5801\n",
              "                                                 ... \n",
              "un-ete-a-saint-tropez-t62533                        1\n",
              "dois-amores-t213403                                 1\n",
              "um-presente-para-lincoln-t221809                    1\n",
              "amos-t78843                                         1\n",
              "o-golpe-de-sorte-t95310                             1\n",
              "Name: object, Length: 4203, dtype: int64"
            ]
          },
          "metadata": {
            "tags": []
          },
          "execution_count": 16
        }
      ]
    },
    {
      "cell_type": "code",
      "metadata": {
        "colab": {
          "base_uri": "https://localhost:8080/",
          "height": 173
        },
        "id": "mS-SXqwM7yT9",
        "outputId": "bb201852-b570-40a5-e737-8dcebccd1755"
      },
      "source": [
        "df_movies[['object', 'text']].describe(include='O')"
      ],
      "execution_count": null,
      "outputs": [
        {
          "output_type": "execute_result",
          "data": {
            "text/html": [
              "<div>\n",
              "<style scoped>\n",
              "    .dataframe tbody tr th:only-of-type {\n",
              "        vertical-align: middle;\n",
              "    }\n",
              "\n",
              "    .dataframe tbody tr th {\n",
              "        vertical-align: top;\n",
              "    }\n",
              "\n",
              "    .dataframe thead th {\n",
              "        text-align: right;\n",
              "    }\n",
              "</style>\n",
              "<table border=\"1\" class=\"dataframe\">\n",
              "  <thead>\n",
              "    <tr style=\"text-align: right;\">\n",
              "      <th></th>\n",
              "      <th>object</th>\n",
              "      <th>text</th>\n",
              "    </tr>\n",
              "  </thead>\n",
              "  <tbody>\n",
              "    <tr>\n",
              "      <th>count</th>\n",
              "      <td>1839851</td>\n",
              "      <td>1838895</td>\n",
              "    </tr>\n",
              "    <tr>\n",
              "      <th>unique</th>\n",
              "      <td>4203</td>\n",
              "      <td>1697979</td>\n",
              "    </tr>\n",
              "    <tr>\n",
              "      <th>top</th>\n",
              "      <td>cisne-negro-t16349</td>\n",
              "      <td>Usuário temporariamente bloqueado por infringi...</td>\n",
              "    </tr>\n",
              "    <tr>\n",
              "      <th>freq</th>\n",
              "      <td>7839</td>\n",
              "      <td>6824</td>\n",
              "    </tr>\n",
              "  </tbody>\n",
              "</table>\n",
              "</div>"
            ],
            "text/plain": [
              "                    object                                               text\n",
              "count              1839851                                            1838895\n",
              "unique                4203                                            1697979\n",
              "top     cisne-negro-t16349  Usuário temporariamente bloqueado por infringi...\n",
              "freq                  7839                                               6824"
            ]
          },
          "metadata": {
            "tags": []
          },
          "execution_count": 17
        }
      ]
    },
    {
      "cell_type": "markdown",
      "metadata": {
        "id": "7QLDjXjQX1af"
      },
      "source": [
        "### Verificando e deletando registros nulos"
      ]
    },
    {
      "cell_type": "code",
      "metadata": {
        "colab": {
          "base_uri": "https://localhost:8080/"
        },
        "id": "jwV-0Ry3X1ag",
        "outputId": "c6671dcc-7109-499e-a757-ae4237a642e5"
      },
      "source": [
        "df_movies.isnull().sum()"
      ],
      "execution_count": null,
      "outputs": [
        {
          "output_type": "execute_result",
          "data": {
            "text/plain": [
              "object        0\n",
              "text        956\n",
              "likes         0\n",
              "stars         0\n",
              "favorite      0\n",
              "dtype: int64"
            ]
          },
          "metadata": {
            "tags": []
          },
          "execution_count": 18
        }
      ]
    },
    {
      "cell_type": "code",
      "metadata": {
        "colab": {
          "base_uri": "https://localhost:8080/"
        },
        "id": "0rVXhpQWX1ag",
        "outputId": "95f5e89b-77fb-4268-88b7-f69f7d02c43d"
      },
      "source": [
        "# deletando os registros nulos\n",
        "qtde_anterior_nulos = df_movies.shape[0]\n",
        "df_movies.dropna(subset=['text'], inplace = True)\n",
        "qtde_pos_exclusao_nulos = df_movies.shape[0]\n",
        "\n",
        "print (\"Antes:\", qtde_anterior_nulos, 'Depois:', qtde_pos_exclusao_nulos, 'Diferença:', qtde_anterior_nulos-qtde_pos_exclusao_nulos)"
      ],
      "execution_count": null,
      "outputs": [
        {
          "output_type": "stream",
          "text": [
            "Antes: 1839851 Depois: 1838895 Diferença: 956\n"
          ],
          "name": "stdout"
        }
      ]
    },
    {
      "cell_type": "code",
      "metadata": {
        "colab": {
          "base_uri": "https://localhost:8080/"
        },
        "id": "yxQoPiQBX1ah",
        "outputId": "dd13aa27-35dc-428a-a3c4-0fafd6177905"
      },
      "source": [
        "# Validando a exclusão\n",
        "df_movies.isnull().sum()"
      ],
      "execution_count": null,
      "outputs": [
        {
          "output_type": "execute_result",
          "data": {
            "text/plain": [
              "object      0\n",
              "text        0\n",
              "likes       0\n",
              "stars       0\n",
              "favorite    0\n",
              "dtype: int64"
            ]
          },
          "metadata": {
            "tags": []
          },
          "execution_count": 20
        }
      ]
    },
    {
      "cell_type": "code",
      "metadata": {
        "colab": {
          "base_uri": "https://localhost:8080/"
        },
        "id": "hRnRsQ-3Ocgm",
        "outputId": "7a39b346-2527-4434-80bc-a37b389edbdc"
      },
      "source": [
        "# deletando os registros cujo texto do filme é \"Usuário temporariamente bloqueado por infringir os termos de uso do Filmow.\"\r\n",
        "Qtde_excluir = len(df_movies[df_movies['text'] == \"Usuário temporariamente bloqueado por infringir os termos de uso do Filmow.\"])\r\n",
        "tam_base = df_movies.shape[0]\r\n",
        "df_movies = df_movies[df_movies['text'] != \"Usuário temporariamente bloqueado por infringir os termos de uso do Filmow.\"]\r\n",
        "print ('qtde a ser excluído', Qtde_excluir, \" tamanho_base\", tam_base, \"tamanho final\", len(df_movies) - tam_base)"
      ],
      "execution_count": null,
      "outputs": [
        {
          "output_type": "stream",
          "text": [
            "qtde a ser excluído 6824  tamanho_base 1838895 tamanho final -6824\n"
          ],
          "name": "stdout"
        }
      ]
    },
    {
      "cell_type": "code",
      "metadata": {
        "colab": {
          "base_uri": "https://localhost:8080/",
          "height": 49
        },
        "id": "fc7UIKeNNaAl",
        "outputId": "10086fd3-7452-4f82-db4d-0a90870abb37"
      },
      "source": [
        "df_movies[df_movies['text'] == \"Usuário temporariamente bloqueado por infringir os termos de uso do Filmow.\"]"
      ],
      "execution_count": null,
      "outputs": [
        {
          "output_type": "execute_result",
          "data": {
            "text/html": [
              "<div>\n",
              "<style scoped>\n",
              "    .dataframe tbody tr th:only-of-type {\n",
              "        vertical-align: middle;\n",
              "    }\n",
              "\n",
              "    .dataframe tbody tr th {\n",
              "        vertical-align: top;\n",
              "    }\n",
              "\n",
              "    .dataframe thead th {\n",
              "        text-align: right;\n",
              "    }\n",
              "</style>\n",
              "<table border=\"1\" class=\"dataframe\">\n",
              "  <thead>\n",
              "    <tr style=\"text-align: right;\">\n",
              "      <th></th>\n",
              "      <th>object</th>\n",
              "      <th>text</th>\n",
              "      <th>likes</th>\n",
              "      <th>stars</th>\n",
              "      <th>favorite</th>\n",
              "    </tr>\n",
              "  </thead>\n",
              "  <tbody>\n",
              "  </tbody>\n",
              "</table>\n",
              "</div>"
            ],
            "text/plain": [
              "Empty DataFrame\n",
              "Columns: [object, text, likes, stars, favorite]\n",
              "Index: []"
            ]
          },
          "metadata": {
            "tags": []
          },
          "execution_count": 22
        }
      ]
    },
    {
      "cell_type": "code",
      "metadata": {
        "id": "cz3J7KRCX1ai"
      },
      "source": [
        "# resetando os índices\n",
        "df_movies = df_movies.reset_index()"
      ],
      "execution_count": null,
      "outputs": []
    },
    {
      "cell_type": "markdown",
      "metadata": {
        "id": "2Va8pEPP8bf1"
      },
      "source": [
        "## Definindo a classe positiva ou negativa para os filmes"
      ]
    },
    {
      "cell_type": "code",
      "metadata": {
        "colab": {
          "base_uri": "https://localhost:8080/"
        },
        "id": "oRzV9hvRGQXM",
        "outputId": "93d2820f-c0ab-4280-87c7-9b809b146264"
      },
      "source": [
        "df_movies.stars.value_counts()"
      ],
      "execution_count": null,
      "outputs": [
        {
          "output_type": "execute_result",
          "data": {
            "text/plain": [
              "5.0    504666\n",
              "4.0    326102\n",
              "0.0    325519\n",
              "4.5    219413\n",
              "3.5    157984\n",
              "3.0    139309\n",
              "2.5     54663\n",
              "2.0     46247\n",
              "0.5     22286\n",
              "1.0     20137\n",
              "1.5     15745\n",
              "Name: stars, dtype: int64"
            ]
          },
          "metadata": {
            "tags": []
          },
          "execution_count": 24
        }
      ]
    },
    {
      "cell_type": "markdown",
      "metadata": {
        "id": "i7zFlHuYItuz"
      },
      "source": [
        "#### Avaliando os registros"
      ]
    },
    {
      "cell_type": "code",
      "metadata": {
        "colab": {
          "base_uri": "https://localhost:8080/",
          "height": 979
        },
        "id": "g3a4moicFee4",
        "outputId": "9b92b12b-56d7-4048-f6cd-70c8274cf2e4"
      },
      "source": [
        "df_movies[['likes',\t'stars',\t'favorite','text']][df_movies['stars'] == 0][0:30]\r\n",
        "# observar que nenhuma destas avaliações foi ruim, porém a star é zero. Estes registros serão descartados"
      ],
      "execution_count": null,
      "outputs": [
        {
          "output_type": "execute_result",
          "data": {
            "text/html": [
              "<div>\n",
              "<style scoped>\n",
              "    .dataframe tbody tr th:only-of-type {\n",
              "        vertical-align: middle;\n",
              "    }\n",
              "\n",
              "    .dataframe tbody tr th {\n",
              "        vertical-align: top;\n",
              "    }\n",
              "\n",
              "    .dataframe thead th {\n",
              "        text-align: right;\n",
              "    }\n",
              "</style>\n",
              "<table border=\"1\" class=\"dataframe\">\n",
              "  <thead>\n",
              "    <tr style=\"text-align: right;\">\n",
              "      <th></th>\n",
              "      <th>likes</th>\n",
              "      <th>stars</th>\n",
              "      <th>favorite</th>\n",
              "      <th>text</th>\n",
              "    </tr>\n",
              "  </thead>\n",
              "  <tbody>\n",
              "    <tr>\n",
              "      <th>3</th>\n",
              "      <td>0</td>\n",
              "      <td>0.0</td>\n",
              "      <td>1.0</td>\n",
              "      <td>Adoroo esse filme!</td>\n",
              "    </tr>\n",
              "    <tr>\n",
              "      <th>8</th>\n",
              "      <td>2</td>\n",
              "      <td>0.0</td>\n",
              "      <td>0.0</td>\n",
              "      <td>Adorei... Nossa esse Daniel Craig é UM HOMEM...</td>\n",
              "    </tr>\n",
              "    <tr>\n",
              "      <th>12</th>\n",
              "      <td>3</td>\n",
              "      <td>0.0</td>\n",
              "      <td>0.0</td>\n",
              "      <td>Na moral,um dos melhores filmes que assisti na...</td>\n",
              "    </tr>\n",
              "    <tr>\n",
              "      <th>23</th>\n",
              "      <td>0</td>\n",
              "      <td>0.0</td>\n",
              "      <td>1.0</td>\n",
              "      <td>You Know My Naaaaaammmeeee! You Know My Naaaaa...</td>\n",
              "    </tr>\n",
              "    <tr>\n",
              "      <th>29</th>\n",
              "      <td>0</td>\n",
              "      <td>0.0</td>\n",
              "      <td>0.0</td>\n",
              "      <td>Quando surgiu Cassino Royale muita gente estra...</td>\n",
              "    </tr>\n",
              "    <tr>\n",
              "      <th>35</th>\n",
              "      <td>0</td>\n",
              "      <td>0.0</td>\n",
              "      <td>0.0</td>\n",
              "      <td>Melhor 007 sem dúvidas</td>\n",
              "    </tr>\n",
              "    <tr>\n",
              "      <th>36</th>\n",
              "      <td>0</td>\n",
              "      <td>0.0</td>\n",
              "      <td>1.0</td>\n",
              "      <td>Sou fã de 007!</td>\n",
              "    </tr>\n",
              "    <tr>\n",
              "      <th>37</th>\n",
              "      <td>0</td>\n",
              "      <td>0.0</td>\n",
              "      <td>1.0</td>\n",
              "      <td>nunca mais que foi o melhor 007. Please guys.....</td>\n",
              "    </tr>\n",
              "    <tr>\n",
              "      <th>41</th>\n",
              "      <td>0</td>\n",
              "      <td>0.0</td>\n",
              "      <td>0.0</td>\n",
              "      <td>Um dos filmes favoritos que eu gosto, adoro es...</td>\n",
              "    </tr>\n",
              "    <tr>\n",
              "      <th>44</th>\n",
              "      <td>0</td>\n",
              "      <td>0.0</td>\n",
              "      <td>0.0</td>\n",
              "      <td>Best 007!</td>\n",
              "    </tr>\n",
              "    <tr>\n",
              "      <th>46</th>\n",
              "      <td>0</td>\n",
              "      <td>0.0</td>\n",
              "      <td>0.0</td>\n",
              "      <td>Um 007 que se suja e se corta? Com certeza não...</td>\n",
              "    </tr>\n",
              "    <tr>\n",
              "      <th>47</th>\n",
              "      <td>0</td>\n",
              "      <td>0.0</td>\n",
              "      <td>0.0</td>\n",
              "      <td>Já teve outros melhores.</td>\n",
              "    </tr>\n",
              "    <tr>\n",
              "      <th>48</th>\n",
              "      <td>0</td>\n",
              "      <td>0.0</td>\n",
              "      <td>0.0</td>\n",
              "      <td>\"Saiba James que se tudo o que sobrasse de voc...</td>\n",
              "    </tr>\n",
              "    <tr>\n",
              "      <th>50</th>\n",
              "      <td>0</td>\n",
              "      <td>0.0</td>\n",
              "      <td>1.0</td>\n",
              "      <td>Eh a nova era de 007, menos \"blá blá blá\" e ma...</td>\n",
              "    </tr>\n",
              "    <tr>\n",
              "      <th>51</th>\n",
              "      <td>1</td>\n",
              "      <td>0.0</td>\n",
              "      <td>0.0</td>\n",
              "      <td>O melhor 007 já feito.</td>\n",
              "    </tr>\n",
              "    <tr>\n",
              "      <th>53</th>\n",
              "      <td>0</td>\n",
              "      <td>0.0</td>\n",
              "      <td>1.0</td>\n",
              "      <td>Um dos melhores filmes do Bond</td>\n",
              "    </tr>\n",
              "    <tr>\n",
              "      <th>54</th>\n",
              "      <td>0</td>\n",
              "      <td>0.0</td>\n",
              "      <td>1.0</td>\n",
              "      <td>Um dos melhores filmes do Bond</td>\n",
              "    </tr>\n",
              "    <tr>\n",
              "      <th>55</th>\n",
              "      <td>0</td>\n",
              "      <td>0.0</td>\n",
              "      <td>1.0</td>\n",
              "      <td>Um dos melhores filmes do Bond</td>\n",
              "    </tr>\n",
              "    <tr>\n",
              "      <th>56</th>\n",
              "      <td>0</td>\n",
              "      <td>0.0</td>\n",
              "      <td>1.0</td>\n",
              "      <td>Um dos melhores filmes do Bond</td>\n",
              "    </tr>\n",
              "    <tr>\n",
              "      <th>62</th>\n",
              "      <td>0</td>\n",
              "      <td>0.0</td>\n",
              "      <td>0.0</td>\n",
              "      <td>o único que me encantou. maravilhoso</td>\n",
              "    </tr>\n",
              "    <tr>\n",
              "      <th>65</th>\n",
              "      <td>0</td>\n",
              "      <td>0.0</td>\n",
              "      <td>1.0</td>\n",
              "      <td>O Melhor 007 ever, ops...foi o único q consegu...</td>\n",
              "    </tr>\n",
              "    <tr>\n",
              "      <th>66</th>\n",
              "      <td>0</td>\n",
              "      <td>0.0</td>\n",
              "      <td>1.0</td>\n",
              "      <td>Grande filme de ação !</td>\n",
              "    </tr>\n",
              "    <tr>\n",
              "      <th>71</th>\n",
              "      <td>0</td>\n",
              "      <td>0.0</td>\n",
              "      <td>1.0</td>\n",
              "      <td>sempre preferi os antigos mas o daniel craig i...</td>\n",
              "    </tr>\n",
              "    <tr>\n",
              "      <th>72</th>\n",
              "      <td>0</td>\n",
              "      <td>0.0</td>\n",
              "      <td>0.0</td>\n",
              "      <td>É Bond...bondver...</td>\n",
              "    </tr>\n",
              "    <tr>\n",
              "      <th>74</th>\n",
              "      <td>0</td>\n",
              "      <td>0.0</td>\n",
              "      <td>1.0</td>\n",
              "      <td>Daniel Craig é o melhor 007. Os filmes estão b...</td>\n",
              "    </tr>\n",
              "    <tr>\n",
              "      <th>76</th>\n",
              "      <td>0</td>\n",
              "      <td>0.0</td>\n",
              "      <td>0.0</td>\n",
              "      <td>Expetacular!</td>\n",
              "    </tr>\n",
              "    <tr>\n",
              "      <th>77</th>\n",
              "      <td>0</td>\n",
              "      <td>0.0</td>\n",
              "      <td>1.0</td>\n",
              "      <td>achei filmão.</td>\n",
              "    </tr>\n",
              "    <tr>\n",
              "      <th>79</th>\n",
              "      <td>1</td>\n",
              "      <td>0.0</td>\n",
              "      <td>0.0</td>\n",
              "      <td>Ameii...</td>\n",
              "    </tr>\n",
              "    <tr>\n",
              "      <th>84</th>\n",
              "      <td>0</td>\n",
              "      <td>0.0</td>\n",
              "      <td>0.0</td>\n",
              "      <td>A mesma cara de Daniel Craig para qualquer fil...</td>\n",
              "    </tr>\n",
              "    <tr>\n",
              "      <th>87</th>\n",
              "      <td>2</td>\n",
              "      <td>0.0</td>\n",
              "      <td>1.0</td>\n",
              "      <td>o mais improvavel dos bonds..o melhor deles......</td>\n",
              "    </tr>\n",
              "  </tbody>\n",
              "</table>\n",
              "</div>"
            ],
            "text/plain": [
              "    likes  stars  favorite                                               text\n",
              "3       0    0.0       1.0                                 Adoroo esse filme!\n",
              "8       2    0.0       0.0    Adorei... Nossa esse Daniel Craig é UM HOMEM...\n",
              "12      3    0.0       0.0  Na moral,um dos melhores filmes que assisti na...\n",
              "23      0    0.0       1.0  You Know My Naaaaaammmeeee! You Know My Naaaaa...\n",
              "29      0    0.0       0.0  Quando surgiu Cassino Royale muita gente estra...\n",
              "35      0    0.0       0.0                             Melhor 007 sem dúvidas\n",
              "36      0    0.0       1.0                                     Sou fã de 007!\n",
              "37      0    0.0       1.0  nunca mais que foi o melhor 007. Please guys.....\n",
              "41      0    0.0       0.0  Um dos filmes favoritos que eu gosto, adoro es...\n",
              "44      0    0.0       0.0                                          Best 007!\n",
              "46      0    0.0       0.0  Um 007 que se suja e se corta? Com certeza não...\n",
              "47      0    0.0       0.0                           Já teve outros melhores.\n",
              "48      0    0.0       0.0  \"Saiba James que se tudo o que sobrasse de voc...\n",
              "50      0    0.0       1.0  Eh a nova era de 007, menos \"blá blá blá\" e ma...\n",
              "51      1    0.0       0.0                             O melhor 007 já feito.\n",
              "53      0    0.0       1.0                     Um dos melhores filmes do Bond\n",
              "54      0    0.0       1.0                     Um dos melhores filmes do Bond\n",
              "55      0    0.0       1.0                     Um dos melhores filmes do Bond\n",
              "56      0    0.0       1.0                     Um dos melhores filmes do Bond\n",
              "62      0    0.0       0.0               o único que me encantou. maravilhoso\n",
              "65      0    0.0       1.0  O Melhor 007 ever, ops...foi o único q consegu...\n",
              "66      0    0.0       1.0                             Grande filme de ação !\n",
              "71      0    0.0       1.0  sempre preferi os antigos mas o daniel craig i...\n",
              "72      0    0.0       0.0                                É Bond...bondver...\n",
              "74      0    0.0       1.0  Daniel Craig é o melhor 007. Os filmes estão b...\n",
              "76      0    0.0       0.0                                       Expetacular!\n",
              "77      0    0.0       1.0                                      achei filmão.\n",
              "79      1    0.0       0.0                                           Ameii...\n",
              "84      0    0.0       0.0  A mesma cara de Daniel Craig para qualquer fil...\n",
              "87      2    0.0       1.0  o mais improvavel dos bonds..o melhor deles......"
            ]
          },
          "metadata": {
            "tags": []
          },
          "execution_count": 25
        }
      ]
    },
    {
      "cell_type": "code",
      "metadata": {
        "colab": {
          "base_uri": "https://localhost:8080/",
          "height": 979
        },
        "id": "QbEbnhglCGd0",
        "outputId": "1efd7e76-a74d-4600-8d31-a15d295a8ad7"
      },
      "source": [
        "df_movies[['likes',\t'stars',\t'favorite','text']][df_movies['stars'] == 1][0:30]\r\n",
        "# observar que star = 1 as avaliações são negativas"
      ],
      "execution_count": null,
      "outputs": [
        {
          "output_type": "execute_result",
          "data": {
            "text/html": [
              "<div>\n",
              "<style scoped>\n",
              "    .dataframe tbody tr th:only-of-type {\n",
              "        vertical-align: middle;\n",
              "    }\n",
              "\n",
              "    .dataframe tbody tr th {\n",
              "        vertical-align: top;\n",
              "    }\n",
              "\n",
              "    .dataframe thead th {\n",
              "        text-align: right;\n",
              "    }\n",
              "</style>\n",
              "<table border=\"1\" class=\"dataframe\">\n",
              "  <thead>\n",
              "    <tr style=\"text-align: right;\">\n",
              "      <th></th>\n",
              "      <th>likes</th>\n",
              "      <th>stars</th>\n",
              "      <th>favorite</th>\n",
              "      <th>text</th>\n",
              "    </tr>\n",
              "  </thead>\n",
              "  <tbody>\n",
              "    <tr>\n",
              "      <th>486</th>\n",
              "      <td>0</td>\n",
              "      <td>1.0</td>\n",
              "      <td>0.0</td>\n",
              "      <td>Péssimo!</td>\n",
              "    </tr>\n",
              "    <tr>\n",
              "      <th>1343</th>\n",
              "      <td>1</td>\n",
              "      <td>1.0</td>\n",
              "      <td>0.0</td>\n",
              "      <td>Skyfall pra franquia :/</td>\n",
              "    </tr>\n",
              "    <tr>\n",
              "      <th>1382</th>\n",
              "      <td>0</td>\n",
              "      <td>1.0</td>\n",
              "      <td>0.0</td>\n",
              "      <td>Realmente gosto não se discute. Detestei o fil...</td>\n",
              "    </tr>\n",
              "    <tr>\n",
              "      <th>1634</th>\n",
              "      <td>0</td>\n",
              "      <td>1.0</td>\n",
              "      <td>0.0</td>\n",
              "      <td>Se era pra mudar o personagem 007, que fizesse...</td>\n",
              "    </tr>\n",
              "    <tr>\n",
              "      <th>1897</th>\n",
              "      <td>1</td>\n",
              "      <td>1.0</td>\n",
              "      <td>0.0</td>\n",
              "      <td>Eu nunca tinha visto nenhum filme do 007 e rea...</td>\n",
              "    </tr>\n",
              "    <tr>\n",
              "      <th>2054</th>\n",
              "      <td>0</td>\n",
              "      <td>1.0</td>\n",
              "      <td>0.0</td>\n",
              "      <td>Filme parado, pouco ação e o pior dos 007 com ...</td>\n",
              "    </tr>\n",
              "    <tr>\n",
              "      <th>2216</th>\n",
              "      <td>1</td>\n",
              "      <td>1.0</td>\n",
              "      <td>0.0</td>\n",
              "      <td>O filme só começou realmente, quando Javier Ba...</td>\n",
              "    </tr>\n",
              "    <tr>\n",
              "      <th>2221</th>\n",
              "      <td>0</td>\n",
              "      <td>1.0</td>\n",
              "      <td>0.0</td>\n",
              "      <td>Simplesmente o pior filme de 007! Morri de téd...</td>\n",
              "    </tr>\n",
              "    <tr>\n",
              "      <th>2748</th>\n",
              "      <td>2</td>\n",
              "      <td>1.0</td>\n",
              "      <td>0.0</td>\n",
              "      <td>Dormi, sem zoação. '-'</td>\n",
              "    </tr>\n",
              "    <tr>\n",
              "      <th>2982</th>\n",
              "      <td>2</td>\n",
              "      <td>1.0</td>\n",
              "      <td>0.0</td>\n",
              "      <td>Ser a franquia mais antiga do cinema não é mér...</td>\n",
              "    </tr>\n",
              "    <tr>\n",
              "      <th>3071</th>\n",
              "      <td>0</td>\n",
              "      <td>1.0</td>\n",
              "      <td>0.0</td>\n",
              "      <td>uma estrela pela musica.</td>\n",
              "    </tr>\n",
              "    <tr>\n",
              "      <th>3479</th>\n",
              "      <td>2</td>\n",
              "      <td>1.0</td>\n",
              "      <td>0.0</td>\n",
              "      <td>só uma palavra: péssimo.</td>\n",
              "    </tr>\n",
              "    <tr>\n",
              "      <th>3568</th>\n",
              "      <td>0</td>\n",
              "      <td>1.0</td>\n",
              "      <td>0.0</td>\n",
              "      <td>lixo!</td>\n",
              "    </tr>\n",
              "    <tr>\n",
              "      <th>3633</th>\n",
              "      <td>1</td>\n",
              "      <td>1.0</td>\n",
              "      <td>0.0</td>\n",
              "      <td>Sutileza, discrição, um agente secreto que usa...</td>\n",
              "    </tr>\n",
              "    <tr>\n",
              "      <th>3692</th>\n",
              "      <td>0</td>\n",
              "      <td>1.0</td>\n",
              "      <td>0.0</td>\n",
              "      <td>O pior 007 que já vi, sinceramente.</td>\n",
              "    </tr>\n",
              "    <tr>\n",
              "      <th>3764</th>\n",
              "      <td>3</td>\n",
              "      <td>1.0</td>\n",
              "      <td>0.0</td>\n",
              "      <td>esse diretor tem mal de parkinson ?</td>\n",
              "    </tr>\n",
              "    <tr>\n",
              "      <th>3791</th>\n",
              "      <td>0</td>\n",
              "      <td>1.0</td>\n",
              "      <td>0.0</td>\n",
              "      <td>muito fraco em relação a cassino royale.</td>\n",
              "    </tr>\n",
              "    <tr>\n",
              "      <th>3884</th>\n",
              "      <td>1</td>\n",
              "      <td>1.0</td>\n",
              "      <td>0.0</td>\n",
              "      <td>Então né(...)por onde começar... o Daniel Crai...</td>\n",
              "    </tr>\n",
              "    <tr>\n",
              "      <th>3966</th>\n",
              "      <td>0</td>\n",
              "      <td>1.0</td>\n",
              "      <td>0.0</td>\n",
              "      <td>¬¬</td>\n",
              "    </tr>\n",
              "    <tr>\n",
              "      <th>4066</th>\n",
              "      <td>0</td>\n",
              "      <td>1.0</td>\n",
              "      <td>0.0</td>\n",
              "      <td>Passado negro de Heath Ledger. [2]</td>\n",
              "    </tr>\n",
              "    <tr>\n",
              "      <th>4968</th>\n",
              "      <td>0</td>\n",
              "      <td>1.0</td>\n",
              "      <td>0.0</td>\n",
              "      <td>Esse recado foi MODERADO. Motivo: Infração dos...</td>\n",
              "    </tr>\n",
              "    <tr>\n",
              "      <th>4987</th>\n",
              "      <td>1</td>\n",
              "      <td>1.0</td>\n",
              "      <td>0.0</td>\n",
              "      <td>Assisti na época e uma vez pra nunca mais. Tan...</td>\n",
              "    </tr>\n",
              "    <tr>\n",
              "      <th>5713</th>\n",
              "      <td>1</td>\n",
              "      <td>1.0</td>\n",
              "      <td>0.0</td>\n",
              "      <td>Não me surpreendeu. Achei bem fraco.</td>\n",
              "    </tr>\n",
              "    <tr>\n",
              "      <th>6158</th>\n",
              "      <td>1</td>\n",
              "      <td>1.0</td>\n",
              "      <td>0.0</td>\n",
              "      <td>Adolescente ao extremo, com uma sucessão de cl...</td>\n",
              "    </tr>\n",
              "    <tr>\n",
              "      <th>8297</th>\n",
              "      <td>3</td>\n",
              "      <td>1.0</td>\n",
              "      <td>0.0</td>\n",
              "      <td>a história é fantástica, um filme extremamente...</td>\n",
              "    </tr>\n",
              "    <tr>\n",
              "      <th>8796</th>\n",
              "      <td>2</td>\n",
              "      <td>1.0</td>\n",
              "      <td>0.0</td>\n",
              "      <td>Não gostei.</td>\n",
              "    </tr>\n",
              "    <tr>\n",
              "      <th>10522</th>\n",
              "      <td>0</td>\n",
              "      <td>1.0</td>\n",
              "      <td>0.0</td>\n",
              "      <td>Qual a dificuldade de colocar o nome original?</td>\n",
              "    </tr>\n",
              "    <tr>\n",
              "      <th>10582</th>\n",
              "      <td>0</td>\n",
              "      <td>1.0</td>\n",
              "      <td>0.0</td>\n",
              "      <td>Tudo muito forçado...</td>\n",
              "    </tr>\n",
              "    <tr>\n",
              "      <th>10588</th>\n",
              "      <td>3</td>\n",
              "      <td>1.0</td>\n",
              "      <td>0.0</td>\n",
              "      <td>A melhor cena as minas com carro de luzes de n...</td>\n",
              "    </tr>\n",
              "    <tr>\n",
              "      <th>10613</th>\n",
              "      <td>1</td>\n",
              "      <td>1.0</td>\n",
              "      <td>0.0</td>\n",
              "      <td>Só assisti por causa das máscaras legais mesmo...</td>\n",
              "    </tr>\n",
              "  </tbody>\n",
              "</table>\n",
              "</div>"
            ],
            "text/plain": [
              "       likes  ...                                               text\n",
              "486        0  ...                                           Péssimo!\n",
              "1343       1  ...                            Skyfall pra franquia :/\n",
              "1382       0  ...  Realmente gosto não se discute. Detestei o fil...\n",
              "1634       0  ...  Se era pra mudar o personagem 007, que fizesse...\n",
              "1897       1  ...  Eu nunca tinha visto nenhum filme do 007 e rea...\n",
              "2054       0  ...  Filme parado, pouco ação e o pior dos 007 com ...\n",
              "2216       1  ...  O filme só começou realmente, quando Javier Ba...\n",
              "2221       0  ...  Simplesmente o pior filme de 007! Morri de téd...\n",
              "2748       2  ...                             Dormi, sem zoação. '-'\n",
              "2982       2  ...  Ser a franquia mais antiga do cinema não é mér...\n",
              "3071       0  ...                           uma estrela pela musica.\n",
              "3479       2  ...                           só uma palavra: péssimo.\n",
              "3568       0  ...                                              lixo!\n",
              "3633       1  ...  Sutileza, discrição, um agente secreto que usa...\n",
              "3692       0  ...                O pior 007 que já vi, sinceramente.\n",
              "3764       3  ...                esse diretor tem mal de parkinson ?\n",
              "3791       0  ...           muito fraco em relação a cassino royale.\n",
              "3884       1  ...  Então né(...)por onde começar... o Daniel Crai...\n",
              "3966       0  ...                                                 ¬¬\n",
              "4066       0  ...                 Passado negro de Heath Ledger. [2]\n",
              "4968       0  ...  Esse recado foi MODERADO. Motivo: Infração dos...\n",
              "4987       1  ...  Assisti na época e uma vez pra nunca mais. Tan...\n",
              "5713       1  ...               Não me surpreendeu. Achei bem fraco.\n",
              "6158       1  ...  Adolescente ao extremo, com uma sucessão de cl...\n",
              "8297       3  ...  a história é fantástica, um filme extremamente...\n",
              "8796       2  ...                                        Não gostei.\n",
              "10522      0  ...     Qual a dificuldade de colocar o nome original?\n",
              "10582      0  ...                              Tudo muito forçado...\n",
              "10588      3  ...  A melhor cena as minas com carro de luzes de n...\n",
              "10613      1  ...  Só assisti por causa das máscaras legais mesmo...\n",
              "\n",
              "[30 rows x 4 columns]"
            ]
          },
          "metadata": {
            "tags": []
          },
          "execution_count": 26
        }
      ]
    },
    {
      "cell_type": "code",
      "metadata": {
        "colab": {
          "base_uri": "https://localhost:8080/",
          "height": 979
        },
        "id": "zz9sl1MrGM88",
        "outputId": "af6a6ca7-a343-4a71-b114-0464c5cdba4f"
      },
      "source": [
        "df_movies[['likes',\t'stars',\t'favorite','text']][df_movies['stars'] == 2][0:30]\r\n",
        "# observar que a maioria das avaliações são negativas"
      ],
      "execution_count": null,
      "outputs": [
        {
          "output_type": "execute_result",
          "data": {
            "text/html": [
              "<div>\n",
              "<style scoped>\n",
              "    .dataframe tbody tr th:only-of-type {\n",
              "        vertical-align: middle;\n",
              "    }\n",
              "\n",
              "    .dataframe tbody tr th {\n",
              "        vertical-align: top;\n",
              "    }\n",
              "\n",
              "    .dataframe thead th {\n",
              "        text-align: right;\n",
              "    }\n",
              "</style>\n",
              "<table border=\"1\" class=\"dataframe\">\n",
              "  <thead>\n",
              "    <tr style=\"text-align: right;\">\n",
              "      <th></th>\n",
              "      <th>likes</th>\n",
              "      <th>stars</th>\n",
              "      <th>favorite</th>\n",
              "      <th>text</th>\n",
              "    </tr>\n",
              "  </thead>\n",
              "  <tbody>\n",
              "    <tr>\n",
              "      <th>122</th>\n",
              "      <td>1</td>\n",
              "      <td>2.0</td>\n",
              "      <td>0.0</td>\n",
              "      <td>Pouca aventura !</td>\n",
              "    </tr>\n",
              "    <tr>\n",
              "      <th>150</th>\n",
              "      <td>0</td>\n",
              "      <td>2.0</td>\n",
              "      <td>0.0</td>\n",
              "      <td>Vejo um pouco do Timothy Dalton nele, um Bond ...</td>\n",
              "    </tr>\n",
              "    <tr>\n",
              "      <th>222</th>\n",
              "      <td>0</td>\n",
              "      <td>2.0</td>\n",
              "      <td>0.0</td>\n",
              "      <td>Muita ficção...quando esta história d salvar o...</td>\n",
              "    </tr>\n",
              "    <tr>\n",
              "      <th>243</th>\n",
              "      <td>2</td>\n",
              "      <td>2.0</td>\n",
              "      <td>0.0</td>\n",
              "      <td>Não consigo engolir esse troglodita como James...</td>\n",
              "    </tr>\n",
              "    <tr>\n",
              "      <th>323</th>\n",
              "      <td>0</td>\n",
              "      <td>2.0</td>\n",
              "      <td>0.0</td>\n",
              "      <td>Ele não tem cara de James Bond.</td>\n",
              "    </tr>\n",
              "    <tr>\n",
              "      <th>413</th>\n",
              "      <td>7</td>\n",
              "      <td>2.0</td>\n",
              "      <td>0.0</td>\n",
              "      <td>Ainda estou apaixonada pela Vesper. O olhar de...</td>\n",
              "    </tr>\n",
              "    <tr>\n",
              "      <th>511</th>\n",
              "      <td>0</td>\n",
              "      <td>2.0</td>\n",
              "      <td>0.0</td>\n",
              "      <td>Duas estrelas pelo Poker.</td>\n",
              "    </tr>\n",
              "    <tr>\n",
              "      <th>514</th>\n",
              "      <td>0</td>\n",
              "      <td>2.0</td>\n",
              "      <td>0.0</td>\n",
              "      <td>Extremamente fantasioso. Aquela mão final do p...</td>\n",
              "    </tr>\n",
              "    <tr>\n",
              "      <th>547</th>\n",
              "      <td>0</td>\n",
              "      <td>2.0</td>\n",
              "      <td>0.0</td>\n",
              "      <td>O craig precia \"Bondear\" um pouco mais... enqt...</td>\n",
              "    </tr>\n",
              "    <tr>\n",
              "      <th>548</th>\n",
              "      <td>0</td>\n",
              "      <td>2.0</td>\n",
              "      <td>0.0</td>\n",
              "      <td>cha-to! enjoei de ver esse \"Bond\" matando \"ger...</td>\n",
              "    </tr>\n",
              "    <tr>\n",
              "      <th>611</th>\n",
              "      <td>1</td>\n",
              "      <td>2.0</td>\n",
              "      <td>0.0</td>\n",
              "      <td>Seria melhor se o ator fosse novo e com mais c...</td>\n",
              "    </tr>\n",
              "    <tr>\n",
              "      <th>627</th>\n",
              "      <td>0</td>\n",
              "      <td>2.0</td>\n",
              "      <td>0.0</td>\n",
              "      <td>Um dos piores filmes, chatice do começo ao fim...</td>\n",
              "    </tr>\n",
              "    <tr>\n",
              "      <th>642</th>\n",
              "      <td>0</td>\n",
              "      <td>2.0</td>\n",
              "      <td>0.0</td>\n",
              "      <td>O craig precisa \"Bondear\" um pouco mais... enq...</td>\n",
              "    </tr>\n",
              "    <tr>\n",
              "      <th>783</th>\n",
              "      <td>0</td>\n",
              "      <td>2.0</td>\n",
              "      <td>0.0</td>\n",
              "      <td>rsrsrsr Daniel Craig amarrado na cadeira...ai,...</td>\n",
              "    </tr>\n",
              "    <tr>\n",
              "      <th>802</th>\n",
              "      <td>0</td>\n",
              "      <td>2.0</td>\n",
              "      <td>0.0</td>\n",
              "      <td>Não gostei.</td>\n",
              "    </tr>\n",
              "    <tr>\n",
              "      <th>1070</th>\n",
              "      <td>1</td>\n",
              "      <td>2.0</td>\n",
              "      <td>0.0</td>\n",
              "      <td>Acho o Daniel Craig um ator muito fraco pra 00...</td>\n",
              "    </tr>\n",
              "    <tr>\n",
              "      <th>1213</th>\n",
              "      <td>0</td>\n",
              "      <td>2.0</td>\n",
              "      <td>0.0</td>\n",
              "      <td>não é o melhor na minha opinião, não curti mui...</td>\n",
              "    </tr>\n",
              "    <tr>\n",
              "      <th>1250</th>\n",
              "      <td>0</td>\n",
              "      <td>2.0</td>\n",
              "      <td>0.0</td>\n",
              "      <td>Não. Sério. É pra medir minha decepção ?</td>\n",
              "    </tr>\n",
              "    <tr>\n",
              "      <th>1351</th>\n",
              "      <td>1</td>\n",
              "      <td>2.0</td>\n",
              "      <td>0.0</td>\n",
              "      <td>Protocolar.</td>\n",
              "    </tr>\n",
              "    <tr>\n",
              "      <th>1452</th>\n",
              "      <td>0</td>\n",
              "      <td>2.0</td>\n",
              "      <td>0.0</td>\n",
              "      <td>Gostei mais da animação e trilha sonorora de a...</td>\n",
              "    </tr>\n",
              "    <tr>\n",
              "      <th>1485</th>\n",
              "      <td>2</td>\n",
              "      <td>2.0</td>\n",
              "      <td>0.0</td>\n",
              "      <td>eu sei que vou ser espancada, mas acho que des...</td>\n",
              "    </tr>\n",
              "    <tr>\n",
              "      <th>1586</th>\n",
              "      <td>0</td>\n",
              "      <td>2.0</td>\n",
              "      <td>0.0</td>\n",
              "      <td>Sou fã de 007, mas esse foi o mais fraco da tr...</td>\n",
              "    </tr>\n",
              "    <tr>\n",
              "      <th>1714</th>\n",
              "      <td>0</td>\n",
              "      <td>2.0</td>\n",
              "      <td>1.0</td>\n",
              "      <td>Interessante!</td>\n",
              "    </tr>\n",
              "    <tr>\n",
              "      <th>1919</th>\n",
              "      <td>0</td>\n",
              "      <td>2.0</td>\n",
              "      <td>0.0</td>\n",
              "      <td>Cliche demais, ate mesmo para James Bond.</td>\n",
              "    </tr>\n",
              "    <tr>\n",
              "      <th>1965</th>\n",
              "      <td>0</td>\n",
              "      <td>2.0</td>\n",
              "      <td>0.0</td>\n",
              "      <td>Falta charme!</td>\n",
              "    </tr>\n",
              "    <tr>\n",
              "      <th>2048</th>\n",
              "      <td>0</td>\n",
              "      <td>2.0</td>\n",
              "      <td>0.0</td>\n",
              "      <td>só vale pela abertura.</td>\n",
              "    </tr>\n",
              "    <tr>\n",
              "      <th>2093</th>\n",
              "      <td>1</td>\n",
              "      <td>2.0</td>\n",
              "      <td>0.0</td>\n",
              "      <td>nah</td>\n",
              "    </tr>\n",
              "    <tr>\n",
              "      <th>2187</th>\n",
              "      <td>0</td>\n",
              "      <td>2.0</td>\n",
              "      <td>0.0</td>\n",
              "      <td>fraco lento muito blabla deu até sono</td>\n",
              "    </tr>\n",
              "    <tr>\n",
              "      <th>2199</th>\n",
              "      <td>3</td>\n",
              "      <td>2.0</td>\n",
              "      <td>0.0</td>\n",
              "      <td>um insulto a saga de 007... Daniel Craig é um ...</td>\n",
              "    </tr>\n",
              "    <tr>\n",
              "      <th>2205</th>\n",
              "      <td>1</td>\n",
              "      <td>2.0</td>\n",
              "      <td>0.0</td>\n",
              "      <td>Bocejante. Os tiros e explosões servem para ac...</td>\n",
              "    </tr>\n",
              "  </tbody>\n",
              "</table>\n",
              "</div>"
            ],
            "text/plain": [
              "      likes  stars  favorite                                               text\n",
              "122       1    2.0       0.0                                   Pouca aventura !\n",
              "150       0    2.0       0.0  Vejo um pouco do Timothy Dalton nele, um Bond ...\n",
              "222       0    2.0       0.0  Muita ficção...quando esta história d salvar o...\n",
              "243       2    2.0       0.0  Não consigo engolir esse troglodita como James...\n",
              "323       0    2.0       0.0                    Ele não tem cara de James Bond.\n",
              "413       7    2.0       0.0  Ainda estou apaixonada pela Vesper. O olhar de...\n",
              "511       0    2.0       0.0                          Duas estrelas pelo Poker.\n",
              "514       0    2.0       0.0  Extremamente fantasioso. Aquela mão final do p...\n",
              "547       0    2.0       0.0  O craig precia \"Bondear\" um pouco mais... enqt...\n",
              "548       0    2.0       0.0  cha-to! enjoei de ver esse \"Bond\" matando \"ger...\n",
              "611       1    2.0       0.0  Seria melhor se o ator fosse novo e com mais c...\n",
              "627       0    2.0       0.0  Um dos piores filmes, chatice do começo ao fim...\n",
              "642       0    2.0       0.0  O craig precisa \"Bondear\" um pouco mais... enq...\n",
              "783       0    2.0       0.0  rsrsrsr Daniel Craig amarrado na cadeira...ai,...\n",
              "802       0    2.0       0.0                                        Não gostei.\n",
              "1070      1    2.0       0.0  Acho o Daniel Craig um ator muito fraco pra 00...\n",
              "1213      0    2.0       0.0  não é o melhor na minha opinião, não curti mui...\n",
              "1250      0    2.0       0.0           Não. Sério. É pra medir minha decepção ?\n",
              "1351      1    2.0       0.0                                        Protocolar.\n",
              "1452      0    2.0       0.0  Gostei mais da animação e trilha sonorora de a...\n",
              "1485      2    2.0       0.0  eu sei que vou ser espancada, mas acho que des...\n",
              "1586      0    2.0       0.0  Sou fã de 007, mas esse foi o mais fraco da tr...\n",
              "1714      0    2.0       1.0                                      Interessante!\n",
              "1919      0    2.0       0.0          Cliche demais, ate mesmo para James Bond.\n",
              "1965      0    2.0       0.0                                      Falta charme!\n",
              "2048      0    2.0       0.0                             só vale pela abertura.\n",
              "2093      1    2.0       0.0                                                nah\n",
              "2187      0    2.0       0.0              fraco lento muito blabla deu até sono\n",
              "2199      3    2.0       0.0  um insulto a saga de 007... Daniel Craig é um ...\n",
              "2205      1    2.0       0.0  Bocejante. Os tiros e explosões servem para ac..."
            ]
          },
          "metadata": {
            "tags": []
          },
          "execution_count": 27
        }
      ]
    },
    {
      "cell_type": "code",
      "metadata": {
        "colab": {
          "base_uri": "https://localhost:8080/",
          "height": 979
        },
        "id": "ibNuazvkKnf8",
        "outputId": "81c1821d-ee16-4db2-f641-e0c1b4911f25"
      },
      "source": [
        "df_movies[['likes',\t'stars',\t'favorite','text']][df_movies['stars'] == 2.5][0:30]\r\n",
        "# observar que as avaliações estão divididas entre positivo e negativo. Será considerada negativa"
      ],
      "execution_count": null,
      "outputs": [
        {
          "output_type": "execute_result",
          "data": {
            "text/html": [
              "<div>\n",
              "<style scoped>\n",
              "    .dataframe tbody tr th:only-of-type {\n",
              "        vertical-align: middle;\n",
              "    }\n",
              "\n",
              "    .dataframe tbody tr th {\n",
              "        vertical-align: top;\n",
              "    }\n",
              "\n",
              "    .dataframe thead th {\n",
              "        text-align: right;\n",
              "    }\n",
              "</style>\n",
              "<table border=\"1\" class=\"dataframe\">\n",
              "  <thead>\n",
              "    <tr style=\"text-align: right;\">\n",
              "      <th></th>\n",
              "      <th>likes</th>\n",
              "      <th>stars</th>\n",
              "      <th>favorite</th>\n",
              "      <th>text</th>\n",
              "    </tr>\n",
              "  </thead>\n",
              "  <tbody>\n",
              "    <tr>\n",
              "      <th>6</th>\n",
              "      <td>0</td>\n",
              "      <td>2.5</td>\n",
              "      <td>0.0</td>\n",
              "      <td>Nunca pensei que diria isso em um filme 007, m...</td>\n",
              "    </tr>\n",
              "    <tr>\n",
              "      <th>119</th>\n",
              "      <td>0</td>\n",
              "      <td>2.5</td>\n",
              "      <td>0.0</td>\n",
              "      <td>Não sou muito fã desse James Bond \"mamãe-quero...</td>\n",
              "    </tr>\n",
              "    <tr>\n",
              "      <th>404</th>\n",
              "      <td>0</td>\n",
              "      <td>2.5</td>\n",
              "      <td>0.0</td>\n",
              "      <td>Eu não curto nenhum filme do 007. Tá certo que...</td>\n",
              "    </tr>\n",
              "    <tr>\n",
              "      <th>436</th>\n",
              "      <td>0</td>\n",
              "      <td>2.5</td>\n",
              "      <td>0.0</td>\n",
              "      <td>Nada de mais,essa nova safra que se inicia per...</td>\n",
              "    </tr>\n",
              "    <tr>\n",
              "      <th>475</th>\n",
              "      <td>0</td>\n",
              "      <td>2.5</td>\n",
              "      <td>0.0</td>\n",
              "      <td>o pior de todos os 007.</td>\n",
              "    </tr>\n",
              "    <tr>\n",
              "      <th>501</th>\n",
              "      <td>1</td>\n",
              "      <td>2.5</td>\n",
              "      <td>0.0</td>\n",
              "      <td>Achei bem cansativo, até que começa bem com ba...</td>\n",
              "    </tr>\n",
              "    <tr>\n",
              "      <th>669</th>\n",
              "      <td>2</td>\n",
              "      <td>2.5</td>\n",
              "      <td>0.0</td>\n",
              "      <td>Um dos melhores, senão o melhor 007 estrelado ...</td>\n",
              "    </tr>\n",
              "    <tr>\n",
              "      <th>685</th>\n",
              "      <td>0</td>\n",
              "      <td>2.5</td>\n",
              "      <td>0.0</td>\n",
              "      <td>O melhor desse filme e a Alessandra Ambrosio o...</td>\n",
              "    </tr>\n",
              "    <tr>\n",
              "      <th>697</th>\n",
              "      <td>0</td>\n",
              "      <td>2.5</td>\n",
              "      <td>0.0</td>\n",
              "      <td>A ação cansa e já tendo a desgostar de 007. Ma...</td>\n",
              "    </tr>\n",
              "    <tr>\n",
              "      <th>750</th>\n",
              "      <td>1</td>\n",
              "      <td>2.5</td>\n",
              "      <td>0.0</td>\n",
              "      <td>ZZzZzZZ</td>\n",
              "    </tr>\n",
              "    <tr>\n",
              "      <th>829</th>\n",
              "      <td>2</td>\n",
              "      <td>2.5</td>\n",
              "      <td>0.0</td>\n",
              "      <td>Continunado minha maratona 007  aqui estou no ...</td>\n",
              "    </tr>\n",
              "    <tr>\n",
              "      <th>893</th>\n",
              "      <td>0</td>\n",
              "      <td>2.5</td>\n",
              "      <td>0.0</td>\n",
              "      <td>Não consigo entender porque esse filme é tido ...</td>\n",
              "    </tr>\n",
              "    <tr>\n",
              "      <th>901</th>\n",
              "      <td>2</td>\n",
              "      <td>2.5</td>\n",
              "      <td>0.0</td>\n",
              "      <td>Para muitos ''bondmaníacos'' e críticos de cin...</td>\n",
              "    </tr>\n",
              "    <tr>\n",
              "      <th>1061</th>\n",
              "      <td>0</td>\n",
              "      <td>2.5</td>\n",
              "      <td>0.0</td>\n",
              "      <td>tensíssimo.</td>\n",
              "    </tr>\n",
              "    <tr>\n",
              "      <th>1134</th>\n",
              "      <td>0</td>\n",
              "      <td>2.5</td>\n",
              "      <td>0.0</td>\n",
              "      <td>fotografia incrível. Overall é um bom filme ma...</td>\n",
              "    </tr>\n",
              "    <tr>\n",
              "      <th>1136</th>\n",
              "      <td>0</td>\n",
              "      <td>2.5</td>\n",
              "      <td>0.0</td>\n",
              "      <td>e nem parece que é do sam mendes, faltou um po...</td>\n",
              "    </tr>\n",
              "    <tr>\n",
              "      <th>1174</th>\n",
              "      <td>0</td>\n",
              "      <td>2.5</td>\n",
              "      <td>0.0</td>\n",
              "      <td>Bom, filme. Mas continua sem a essência da fra...</td>\n",
              "    </tr>\n",
              "    <tr>\n",
              "      <th>1235</th>\n",
              "      <td>0</td>\n",
              "      <td>2.5</td>\n",
              "      <td>0.0</td>\n",
              "      <td>o filme deve ser bom!!! avaliando com o primei...</td>\n",
              "    </tr>\n",
              "    <tr>\n",
              "      <th>1246</th>\n",
              "      <td>0</td>\n",
              "      <td>2.5</td>\n",
              "      <td>0.0</td>\n",
              "      <td>nao curti, achei bem fraquinho... e o vilão, f...</td>\n",
              "    </tr>\n",
              "    <tr>\n",
              "      <th>1268</th>\n",
              "      <td>1</td>\n",
              "      <td>2.5</td>\n",
              "      <td>0.0</td>\n",
              "      <td>Chato.</td>\n",
              "    </tr>\n",
              "    <tr>\n",
              "      <th>1294</th>\n",
              "      <td>0</td>\n",
              "      <td>2.5</td>\n",
              "      <td>0.0</td>\n",
              "      <td>Bardem com o perfil Coringa foi a salvação do ...</td>\n",
              "    </tr>\n",
              "    <tr>\n",
              "      <th>1408</th>\n",
              "      <td>0</td>\n",
              "      <td>2.5</td>\n",
              "      <td>0.0</td>\n",
              "      <td>Um filme divertido mas  que poderia ter menos ...</td>\n",
              "    </tr>\n",
              "    <tr>\n",
              "      <th>1448</th>\n",
              "      <td>1</td>\n",
              "      <td>2.5</td>\n",
              "      <td>0.0</td>\n",
              "      <td>Sou muito fã de toda a série, mas este foi bas...</td>\n",
              "    </tr>\n",
              "    <tr>\n",
              "      <th>1521</th>\n",
              "      <td>6</td>\n",
              "      <td>2.5</td>\n",
              "      <td>0.0</td>\n",
              "      <td>Tinha tudo para superar Cassino Royale, mas pa...</td>\n",
              "    </tr>\n",
              "    <tr>\n",
              "      <th>1643</th>\n",
              "      <td>1</td>\n",
              "      <td>2.5</td>\n",
              "      <td>0.0</td>\n",
              "      <td>Eu disse que não queria ver, mas como  fui con...</td>\n",
              "    </tr>\n",
              "    <tr>\n",
              "      <th>1678</th>\n",
              "      <td>1</td>\n",
              "      <td>2.5</td>\n",
              "      <td>0.0</td>\n",
              "      <td>Vamos dizer que se tivesse 30 min a menos seri...</td>\n",
              "    </tr>\n",
              "    <tr>\n",
              "      <th>1680</th>\n",
              "      <td>1</td>\n",
              "      <td>2.5</td>\n",
              "      <td>0.0</td>\n",
              "      <td>Fraquinho demais....</td>\n",
              "    </tr>\n",
              "    <tr>\n",
              "      <th>1727</th>\n",
              "      <td>6</td>\n",
              "      <td>2.5</td>\n",
              "      <td>0.0</td>\n",
              "      <td>Javier Bardem fez valer meu ingresso.</td>\n",
              "    </tr>\n",
              "    <tr>\n",
              "      <th>1807</th>\n",
              "      <td>0</td>\n",
              "      <td>2.5</td>\n",
              "      <td>0.0</td>\n",
              "      <td>Gostei do filme! Bastante ação, perseguição e ...</td>\n",
              "    </tr>\n",
              "    <tr>\n",
              "      <th>1879</th>\n",
              "      <td>1</td>\n",
              "      <td>2.5</td>\n",
              "      <td>0.0</td>\n",
              "      <td>Ótimo filme de ação, porém esperava mais. Vilã...</td>\n",
              "    </tr>\n",
              "  </tbody>\n",
              "</table>\n",
              "</div>"
            ],
            "text/plain": [
              "      likes  stars  favorite                                               text\n",
              "6         0    2.5       0.0  Nunca pensei que diria isso em um filme 007, m...\n",
              "119       0    2.5       0.0  Não sou muito fã desse James Bond \"mamãe-quero...\n",
              "404       0    2.5       0.0  Eu não curto nenhum filme do 007. Tá certo que...\n",
              "436       0    2.5       0.0  Nada de mais,essa nova safra que se inicia per...\n",
              "475       0    2.5       0.0                            o pior de todos os 007.\n",
              "501       1    2.5       0.0  Achei bem cansativo, até que começa bem com ba...\n",
              "669       2    2.5       0.0  Um dos melhores, senão o melhor 007 estrelado ...\n",
              "685       0    2.5       0.0  O melhor desse filme e a Alessandra Ambrosio o...\n",
              "697       0    2.5       0.0  A ação cansa e já tendo a desgostar de 007. Ma...\n",
              "750       1    2.5       0.0                                            ZZzZzZZ\n",
              "829       2    2.5       0.0  Continunado minha maratona 007  aqui estou no ...\n",
              "893       0    2.5       0.0  Não consigo entender porque esse filme é tido ...\n",
              "901       2    2.5       0.0  Para muitos ''bondmaníacos'' e críticos de cin...\n",
              "1061      0    2.5       0.0                                        tensíssimo.\n",
              "1134      0    2.5       0.0  fotografia incrível. Overall é um bom filme ma...\n",
              "1136      0    2.5       0.0  e nem parece que é do sam mendes, faltou um po...\n",
              "1174      0    2.5       0.0  Bom, filme. Mas continua sem a essência da fra...\n",
              "1235      0    2.5       0.0  o filme deve ser bom!!! avaliando com o primei...\n",
              "1246      0    2.5       0.0  nao curti, achei bem fraquinho... e o vilão, f...\n",
              "1268      1    2.5       0.0                                             Chato.\n",
              "1294      0    2.5       0.0  Bardem com o perfil Coringa foi a salvação do ...\n",
              "1408      0    2.5       0.0  Um filme divertido mas  que poderia ter menos ...\n",
              "1448      1    2.5       0.0  Sou muito fã de toda a série, mas este foi bas...\n",
              "1521      6    2.5       0.0  Tinha tudo para superar Cassino Royale, mas pa...\n",
              "1643      1    2.5       0.0  Eu disse que não queria ver, mas como  fui con...\n",
              "1678      1    2.5       0.0  Vamos dizer que se tivesse 30 min a menos seri...\n",
              "1680      1    2.5       0.0                               Fraquinho demais....\n",
              "1727      6    2.5       0.0              Javier Bardem fez valer meu ingresso.\n",
              "1807      0    2.5       0.0  Gostei do filme! Bastante ação, perseguição e ...\n",
              "1879      1    2.5       0.0  Ótimo filme de ação, porém esperava mais. Vilã..."
            ]
          },
          "metadata": {
            "tags": []
          },
          "execution_count": 28
        }
      ]
    },
    {
      "cell_type": "code",
      "metadata": {
        "colab": {
          "base_uri": "https://localhost:8080/",
          "height": 137
        },
        "id": "c2BcFof6LZqs",
        "outputId": "fe227fe7-f91a-40bf-f43d-26cce1f68ff4"
      },
      "source": [
        "df_movies['text'][901]\r\n"
      ],
      "execution_count": null,
      "outputs": [
        {
          "output_type": "execute_result",
          "data": {
            "application/vnd.google.colaboratory.intrinsic+json": {
              "type": "string"
            },
            "text/plain": [
              "\"Para muitos ''bondmaníacos'' e críticos de cinema, esse é o melhor de todos os filmes da franquia do agente secreto. Eu não defendo essa opinião, mas, de fato, ''007 Contra Goldfinger'' é um filme marcante e sua trilha sonora é arrebatadora. Por falar em trilha sonora, a belíssima música cantada por Shirley Bassey no crédito de abertura é um dos pontos altos da produção e que mais me deixou apaixonado. No geral, a aventura do agente secreto James Bond dessa vez é bem inverossímil e seus exageros até divertem, mas não passa disso. A atuação de Sean Connery continua competente e seu charme e canastrice dão ao personagem Bond um toque especial e se tornou icônico na lista de atores que já protagonizaram o lendário agente secreto. É muito importante destacar que ''Goldfinger'' foi o primeiro filme que trouxe os elementos que caracterizam a autenticidade dos filmes de James Bond, a começar pelo megalomaníaco vilão Audric Goldfinger, o automóvel cheio de apetrechos e exóticos capangas. Entre outras coisas que serão bem comuns nas outras aventuras da série. A direção de Guy Hamilton é louvável, porém o roteiro do filme se mostra instável a todo momento e seu desfecho soa totalmente capenga. Em resumo, darei duas estrelas pela canção-tema e uma estrela pelo vilão Goldfinger e seu fiel escudeiro Odjob.Nada de tão excepcional que mereça ser considerado o melhor filme da série mas tem sua grande importância por dar o pontapé inicial na verdadeira essência das aventuras de Bond, James Bond...\""
            ]
          },
          "metadata": {
            "tags": []
          },
          "execution_count": 29
        }
      ]
    },
    {
      "cell_type": "code",
      "metadata": {
        "colab": {
          "base_uri": "https://localhost:8080/",
          "height": 979
        },
        "id": "TsL8vu_WG1uM",
        "outputId": "169d0d7c-0cae-49b5-9244-53e4fa3009d5"
      },
      "source": [
        "df_movies[['likes',\t'stars',\t'favorite','text']][df_movies['stars'] == 3][0:30]\r\n",
        "# observar que a maioria das avaliações são positiva"
      ],
      "execution_count": null,
      "outputs": [
        {
          "output_type": "execute_result",
          "data": {
            "text/html": [
              "<div>\n",
              "<style scoped>\n",
              "    .dataframe tbody tr th:only-of-type {\n",
              "        vertical-align: middle;\n",
              "    }\n",
              "\n",
              "    .dataframe tbody tr th {\n",
              "        vertical-align: top;\n",
              "    }\n",
              "\n",
              "    .dataframe thead th {\n",
              "        text-align: right;\n",
              "    }\n",
              "</style>\n",
              "<table border=\"1\" class=\"dataframe\">\n",
              "  <thead>\n",
              "    <tr style=\"text-align: right;\">\n",
              "      <th></th>\n",
              "      <th>likes</th>\n",
              "      <th>stars</th>\n",
              "      <th>favorite</th>\n",
              "      <th>text</th>\n",
              "    </tr>\n",
              "  </thead>\n",
              "  <tbody>\n",
              "    <tr>\n",
              "      <th>9</th>\n",
              "      <td>0</td>\n",
              "      <td>3.0</td>\n",
              "      <td>0.0</td>\n",
              "      <td>Divertido, mas achei no inicio um pouco entedi...</td>\n",
              "    </tr>\n",
              "    <tr>\n",
              "      <th>19</th>\n",
              "      <td>0</td>\n",
              "      <td>3.0</td>\n",
              "      <td>0.0</td>\n",
              "      <td>Dois acertos: Martin Campbell na direção e Dan...</td>\n",
              "    </tr>\n",
              "    <tr>\n",
              "      <th>21</th>\n",
              "      <td>0</td>\n",
              "      <td>3.0</td>\n",
              "      <td>0.0</td>\n",
              "      <td>Ele não tem cara de Bond...</td>\n",
              "    </tr>\n",
              "    <tr>\n",
              "      <th>22</th>\n",
              "      <td>0</td>\n",
              "      <td>3.0</td>\n",
              "      <td>0.0</td>\n",
              "      <td>Ele não tem cara de Bond...</td>\n",
              "    </tr>\n",
              "    <tr>\n",
              "      <th>26</th>\n",
              "      <td>0</td>\n",
              "      <td>3.0</td>\n",
              "      <td>0.0</td>\n",
              "      <td>Uma boa volta de 007 aos cinemas. Daniel Craig...</td>\n",
              "    </tr>\n",
              "    <tr>\n",
              "      <th>33</th>\n",
              "      <td>0</td>\n",
              "      <td>3.0</td>\n",
              "      <td>0.0</td>\n",
              "      <td>massa!!!!!</td>\n",
              "    </tr>\n",
              "    <tr>\n",
              "      <th>52</th>\n",
              "      <td>0</td>\n",
              "      <td>3.0</td>\n",
              "      <td>0.0</td>\n",
              "      <td>Aprendi a jogar poker depois que vi esse filme...</td>\n",
              "    </tr>\n",
              "    <tr>\n",
              "      <th>67</th>\n",
              "      <td>0</td>\n",
              "      <td>3.0</td>\n",
              "      <td>0.0</td>\n",
              "      <td>Um dos melhores da serie. Um lado mais \"dark\" ...</td>\n",
              "    </tr>\n",
              "    <tr>\n",
              "      <th>73</th>\n",
              "      <td>0</td>\n",
              "      <td>3.0</td>\n",
              "      <td>0.0</td>\n",
              "      <td>Daniel Craig!</td>\n",
              "    </tr>\n",
              "    <tr>\n",
              "      <th>75</th>\n",
              "      <td>0</td>\n",
              "      <td>3.0</td>\n",
              "      <td>0.0</td>\n",
              "      <td>Olha, eu gostei bastante, não estava muito a f...</td>\n",
              "    </tr>\n",
              "    <tr>\n",
              "      <th>86</th>\n",
              "      <td>0</td>\n",
              "      <td>3.0</td>\n",
              "      <td>0.0</td>\n",
              "      <td>Bom passatempo, ação com charme e beleza.</td>\n",
              "    </tr>\n",
              "    <tr>\n",
              "      <th>94</th>\n",
              "      <td>0</td>\n",
              "      <td>3.0</td>\n",
              "      <td>0.0</td>\n",
              "      <td>Curti a Vesper</td>\n",
              "    </tr>\n",
              "    <tr>\n",
              "      <th>106</th>\n",
              "      <td>0</td>\n",
              "      <td>3.0</td>\n",
              "      <td>0.0</td>\n",
              "      <td>Acho que foi o melhor dos filmes de 007 que eu...</td>\n",
              "    </tr>\n",
              "    <tr>\n",
              "      <th>113</th>\n",
              "      <td>0</td>\n",
              "      <td>3.0</td>\n",
              "      <td>0.0</td>\n",
              "      <td>Dá para engolir.</td>\n",
              "    </tr>\n",
              "    <tr>\n",
              "      <th>140</th>\n",
              "      <td>0</td>\n",
              "      <td>3.0</td>\n",
              "      <td>0.0</td>\n",
              "      <td>\"Não sou muito fã desse James Bond \"mamãe-quer...</td>\n",
              "    </tr>\n",
              "    <tr>\n",
              "      <th>167</th>\n",
              "      <td>1</td>\n",
              "      <td>3.0</td>\n",
              "      <td>0.0</td>\n",
              "      <td>\"Cassino Royale\" é tudo que você pode esperar ...</td>\n",
              "    </tr>\n",
              "    <tr>\n",
              "      <th>174</th>\n",
              "      <td>0</td>\n",
              "      <td>3.0</td>\n",
              "      <td>0.0</td>\n",
              "      <td>Um bom filme do 007, nada mais</td>\n",
              "    </tr>\n",
              "    <tr>\n",
              "      <th>192</th>\n",
              "      <td>0</td>\n",
              "      <td>3.0</td>\n",
              "      <td>0.0</td>\n",
              "      <td>3 Estrelas só por que me impressionou muito o ...</td>\n",
              "    </tr>\n",
              "    <tr>\n",
              "      <th>246</th>\n",
              "      <td>1</td>\n",
              "      <td>3.0</td>\n",
              "      <td>0.0</td>\n",
              "      <td>O pior James Bond da Série '-', naum é sexy co...</td>\n",
              "    </tr>\n",
              "    <tr>\n",
              "      <th>275</th>\n",
              "      <td>0</td>\n",
              "      <td>3.0</td>\n",
              "      <td>0.0</td>\n",
              "      <td>Não sou fã da franquia 007, a mentira é muito ...</td>\n",
              "    </tr>\n",
              "    <tr>\n",
              "      <th>333</th>\n",
              "      <td>0</td>\n",
              "      <td>3.0</td>\n",
              "      <td>0.0</td>\n",
              "      <td>Um bom filme de ação, mas sou fã uber nerd dem...</td>\n",
              "    </tr>\n",
              "    <tr>\n",
              "      <th>345</th>\n",
              "      <td>0</td>\n",
              "      <td>3.0</td>\n",
              "      <td>0.0</td>\n",
              "      <td>O filme tem vários aspectos de ser muito bom,a...</td>\n",
              "    </tr>\n",
              "    <tr>\n",
              "      <th>355</th>\n",
              "      <td>0</td>\n",
              "      <td>3.0</td>\n",
              "      <td>0.0</td>\n",
              "      <td>Até metade do filme ele estava muito bom. Pert...</td>\n",
              "    </tr>\n",
              "    <tr>\n",
              "      <th>406</th>\n",
              "      <td>0</td>\n",
              "      <td>3.0</td>\n",
              "      <td>0.0</td>\n",
              "      <td>Esse recado foi MODERADO. Motivo: Infração dos...</td>\n",
              "    </tr>\n",
              "    <tr>\n",
              "      <th>414</th>\n",
              "      <td>2</td>\n",
              "      <td>3.0</td>\n",
              "      <td>0.0</td>\n",
              "      <td>Eva Green dando um show. Já o Craig, faça-me u...</td>\n",
              "    </tr>\n",
              "    <tr>\n",
              "      <th>427</th>\n",
              "      <td>1</td>\n",
              "      <td>3.0</td>\n",
              "      <td>0.0</td>\n",
              "      <td>Mediano, como a maioria dos 007</td>\n",
              "    </tr>\n",
              "    <tr>\n",
              "      <th>428</th>\n",
              "      <td>0</td>\n",
              "      <td>3.0</td>\n",
              "      <td>0.0</td>\n",
              "      <td>Viceral. (Eva Green é uma coisa :D)</td>\n",
              "    </tr>\n",
              "    <tr>\n",
              "      <th>429</th>\n",
              "      <td>0</td>\n",
              "      <td>3.0</td>\n",
              "      <td>0.0</td>\n",
              "      <td>Bom.</td>\n",
              "    </tr>\n",
              "    <tr>\n",
              "      <th>433</th>\n",
              "      <td>0</td>\n",
              "      <td>3.0</td>\n",
              "      <td>0.0</td>\n",
              "      <td>Os créditos de boa atuação devem ser dados par...</td>\n",
              "    </tr>\n",
              "    <tr>\n",
              "      <th>441</th>\n",
              "      <td>0</td>\n",
              "      <td>3.0</td>\n",
              "      <td>0.0</td>\n",
              "      <td>É bom, mas não se compara aos clássicos do Jam...</td>\n",
              "    </tr>\n",
              "  </tbody>\n",
              "</table>\n",
              "</div>"
            ],
            "text/plain": [
              "     likes  stars  favorite                                               text\n",
              "9        0    3.0       0.0  Divertido, mas achei no inicio um pouco entedi...\n",
              "19       0    3.0       0.0  Dois acertos: Martin Campbell na direção e Dan...\n",
              "21       0    3.0       0.0                        Ele não tem cara de Bond...\n",
              "22       0    3.0       0.0                        Ele não tem cara de Bond...\n",
              "26       0    3.0       0.0  Uma boa volta de 007 aos cinemas. Daniel Craig...\n",
              "33       0    3.0       0.0                                         massa!!!!!\n",
              "52       0    3.0       0.0  Aprendi a jogar poker depois que vi esse filme...\n",
              "67       0    3.0       0.0  Um dos melhores da serie. Um lado mais \"dark\" ...\n",
              "73       0    3.0       0.0                                      Daniel Craig!\n",
              "75       0    3.0       0.0  Olha, eu gostei bastante, não estava muito a f...\n",
              "86       0    3.0       0.0          Bom passatempo, ação com charme e beleza.\n",
              "94       0    3.0       0.0                                     Curti a Vesper\n",
              "106      0    3.0       0.0  Acho que foi o melhor dos filmes de 007 que eu...\n",
              "113      0    3.0       0.0                                   Dá para engolir.\n",
              "140      0    3.0       0.0  \"Não sou muito fã desse James Bond \"mamãe-quer...\n",
              "167      1    3.0       0.0  \"Cassino Royale\" é tudo que você pode esperar ...\n",
              "174      0    3.0       0.0                     Um bom filme do 007, nada mais\n",
              "192      0    3.0       0.0  3 Estrelas só por que me impressionou muito o ...\n",
              "246      1    3.0       0.0  O pior James Bond da Série '-', naum é sexy co...\n",
              "275      0    3.0       0.0  Não sou fã da franquia 007, a mentira é muito ...\n",
              "333      0    3.0       0.0  Um bom filme de ação, mas sou fã uber nerd dem...\n",
              "345      0    3.0       0.0  O filme tem vários aspectos de ser muito bom,a...\n",
              "355      0    3.0       0.0  Até metade do filme ele estava muito bom. Pert...\n",
              "406      0    3.0       0.0  Esse recado foi MODERADO. Motivo: Infração dos...\n",
              "414      2    3.0       0.0  Eva Green dando um show. Já o Craig, faça-me u...\n",
              "427      1    3.0       0.0                    Mediano, como a maioria dos 007\n",
              "428      0    3.0       0.0                Viceral. (Eva Green é uma coisa :D)\n",
              "429      0    3.0       0.0                                               Bom.\n",
              "433      0    3.0       0.0  Os créditos de boa atuação devem ser dados par...\n",
              "441      0    3.0       0.0  É bom, mas não se compara aos clássicos do Jam..."
            ]
          },
          "metadata": {
            "tags": []
          },
          "execution_count": 30
        }
      ]
    },
    {
      "cell_type": "code",
      "metadata": {
        "colab": {
          "base_uri": "https://localhost:8080/",
          "height": 979
        },
        "id": "25bGe1YrHNDy",
        "outputId": "8b1e3f93-f190-4154-e595-7b610ff2d9c2"
      },
      "source": [
        "df_movies[['likes',\t'stars',\t'favorite','text']][df_movies['stars'] == 4][0:30]\r\n",
        "# observar que a maioria das avaliações são positiva"
      ],
      "execution_count": null,
      "outputs": [
        {
          "output_type": "execute_result",
          "data": {
            "text/html": [
              "<div>\n",
              "<style scoped>\n",
              "    .dataframe tbody tr th:only-of-type {\n",
              "        vertical-align: middle;\n",
              "    }\n",
              "\n",
              "    .dataframe tbody tr th {\n",
              "        vertical-align: top;\n",
              "    }\n",
              "\n",
              "    .dataframe thead th {\n",
              "        text-align: right;\n",
              "    }\n",
              "</style>\n",
              "<table border=\"1\" class=\"dataframe\">\n",
              "  <thead>\n",
              "    <tr style=\"text-align: right;\">\n",
              "      <th></th>\n",
              "      <th>likes</th>\n",
              "      <th>stars</th>\n",
              "      <th>favorite</th>\n",
              "      <th>text</th>\n",
              "    </tr>\n",
              "  </thead>\n",
              "  <tbody>\n",
              "    <tr>\n",
              "      <th>1</th>\n",
              "      <td>0</td>\n",
              "      <td>4.0</td>\n",
              "      <td>0.0</td>\n",
              "      <td>assisti só pela metade..do meio ao fim, o film...</td>\n",
              "    </tr>\n",
              "    <tr>\n",
              "      <th>2</th>\n",
              "      <td>0</td>\n",
              "      <td>4.0</td>\n",
              "      <td>0.0</td>\n",
              "      <td>foi um dos filmes mais violentos q já vi. mas ...</td>\n",
              "    </tr>\n",
              "    <tr>\n",
              "      <th>4</th>\n",
              "      <td>1</td>\n",
              "      <td>4.0</td>\n",
              "      <td>0.0</td>\n",
              "      <td>O Daniel Crieg tem carisma zero como 007...</td>\n",
              "    </tr>\n",
              "    <tr>\n",
              "      <th>5</th>\n",
              "      <td>0</td>\n",
              "      <td>4.0</td>\n",
              "      <td>0.0</td>\n",
              "      <td>um dos melhores de 007</td>\n",
              "    </tr>\n",
              "    <tr>\n",
              "      <th>10</th>\n",
              "      <td>1</td>\n",
              "      <td>4.0</td>\n",
              "      <td>0.0</td>\n",
              "      <td>Absolutamente surpreendente! Temia que fosse d...</td>\n",
              "    </tr>\n",
              "    <tr>\n",
              "      <th>11</th>\n",
              "      <td>0</td>\n",
              "      <td>4.0</td>\n",
              "      <td>0.0</td>\n",
              "      <td>Nota 8,0. Ao contrario de muitos Daniel Craig ...</td>\n",
              "    </tr>\n",
              "    <tr>\n",
              "      <th>17</th>\n",
              "      <td>0</td>\n",
              "      <td>4.0</td>\n",
              "      <td>0.0</td>\n",
              "      <td>O filme, como blockbuster, é ótimo e mudar o a...</td>\n",
              "    </tr>\n",
              "    <tr>\n",
              "      <th>28</th>\n",
              "      <td>2</td>\n",
              "      <td>4.0</td>\n",
              "      <td>0.0</td>\n",
              "      <td>O Pierce Brosman pra mim não tinha a cara do 0...</td>\n",
              "    </tr>\n",
              "    <tr>\n",
              "      <th>32</th>\n",
              "      <td>0</td>\n",
              "      <td>4.0</td>\n",
              "      <td>1.0</td>\n",
              "      <td>Assisti com um pé atrás na primeira vez, nunca...</td>\n",
              "    </tr>\n",
              "    <tr>\n",
              "      <th>39</th>\n",
              "      <td>0</td>\n",
              "      <td>4.0</td>\n",
              "      <td>0.0</td>\n",
              "      <td>bom filme de ação!!</td>\n",
              "    </tr>\n",
              "    <tr>\n",
              "      <th>42</th>\n",
              "      <td>0</td>\n",
              "      <td>4.0</td>\n",
              "      <td>0.0</td>\n",
              "      <td>Legal.</td>\n",
              "    </tr>\n",
              "    <tr>\n",
              "      <th>70</th>\n",
              "      <td>0</td>\n",
              "      <td>4.0</td>\n",
              "      <td>0.0</td>\n",
              "      <td>Pra  min não é o melhor , mas é 007 então da p...</td>\n",
              "    </tr>\n",
              "    <tr>\n",
              "      <th>85</th>\n",
              "      <td>0</td>\n",
              "      <td>4.0</td>\n",
              "      <td>0.0</td>\n",
              "      <td>gostei muito.</td>\n",
              "    </tr>\n",
              "    <tr>\n",
              "      <th>98</th>\n",
              "      <td>0</td>\n",
              "      <td>4.0</td>\n",
              "      <td>0.0</td>\n",
              "      <td>Eu sou fan dos filmes de James Bond e apesar d...</td>\n",
              "    </tr>\n",
              "    <tr>\n",
              "      <th>105</th>\n",
              "      <td>0</td>\n",
              "      <td>4.0</td>\n",
              "      <td>0.0</td>\n",
              "      <td>Craig se revelou um ótimo 007. Gostei muito do...</td>\n",
              "    </tr>\n",
              "    <tr>\n",
              "      <th>107</th>\n",
              "      <td>0</td>\n",
              "      <td>4.0</td>\n",
              "      <td>1.0</td>\n",
              "      <td>Excelente, mais um marco na historia do 007.</td>\n",
              "    </tr>\n",
              "    <tr>\n",
              "      <th>114</th>\n",
              "      <td>0</td>\n",
              "      <td>4.0</td>\n",
              "      <td>0.0</td>\n",
              "      <td>E eu gostava de 'Quebrando a banca'...Muito bom!</td>\n",
              "    </tr>\n",
              "    <tr>\n",
              "      <th>121</th>\n",
              "      <td>0</td>\n",
              "      <td>4.0</td>\n",
              "      <td>0.0</td>\n",
              "      <td>Eu nunca gostei da franquia 007, vi esse filme...</td>\n",
              "    </tr>\n",
              "    <tr>\n",
              "      <th>128</th>\n",
              "      <td>2</td>\n",
              "      <td>4.0</td>\n",
              "      <td>0.0</td>\n",
              "      <td>Em geral, não gosto de filmes de 007, apenas o...</td>\n",
              "    </tr>\n",
              "    <tr>\n",
              "      <th>130</th>\n",
              "      <td>1</td>\n",
              "      <td>4.0</td>\n",
              "      <td>0.0</td>\n",
              "      <td>Nunca fui fã de Bond, mas esse filme ficou mui...</td>\n",
              "    </tr>\n",
              "    <tr>\n",
              "      <th>133</th>\n",
              "      <td>0</td>\n",
              "      <td>4.0</td>\n",
              "      <td>0.0</td>\n",
              "      <td>O que mais me fez gostar foram as partidas de ...</td>\n",
              "    </tr>\n",
              "    <tr>\n",
              "      <th>135</th>\n",
              "      <td>1</td>\n",
              "      <td>4.0</td>\n",
              "      <td>0.0</td>\n",
              "      <td>Muiiiiito maneiro *-*é 007 ne gente? vamos com...</td>\n",
              "    </tr>\n",
              "    <tr>\n",
              "      <th>137</th>\n",
              "      <td>0</td>\n",
              "      <td>4.0</td>\n",
              "      <td>0.0</td>\n",
              "      <td>Esse eu vi no cinema, ótima ação, trama bem co...</td>\n",
              "    </tr>\n",
              "    <tr>\n",
              "      <th>141</th>\n",
              "      <td>1</td>\n",
              "      <td>4.0</td>\n",
              "      <td>0.0</td>\n",
              "      <td>Um dos melhores que já vi.</td>\n",
              "    </tr>\n",
              "    <tr>\n",
              "      <th>145</th>\n",
              "      <td>1</td>\n",
              "      <td>4.0</td>\n",
              "      <td>0.0</td>\n",
              "      <td>Juro que eu queria fazer um texto e colocar to...</td>\n",
              "    </tr>\n",
              "    <tr>\n",
              "      <th>148</th>\n",
              "      <td>0</td>\n",
              "      <td>4.0</td>\n",
              "      <td>0.0</td>\n",
              "      <td>Bem bom.Interessante.</td>\n",
              "    </tr>\n",
              "    <tr>\n",
              "      <th>151</th>\n",
              "      <td>0</td>\n",
              "      <td>4.0</td>\n",
              "      <td>0.0</td>\n",
              "      <td>Achei ótimo, mas o Daniel Craig infelizmente n...</td>\n",
              "    </tr>\n",
              "    <tr>\n",
              "      <th>154</th>\n",
              "      <td>4</td>\n",
              "      <td>4.0</td>\n",
              "      <td>1.0</td>\n",
              "      <td>o fim da era 'bond à la tony stark'. e ainda d...</td>\n",
              "    </tr>\n",
              "    <tr>\n",
              "      <th>160</th>\n",
              "      <td>2</td>\n",
              "      <td>4.0</td>\n",
              "      <td>0.0</td>\n",
              "      <td>Simplesmente Fod...... Ação do começo ao fim, ...</td>\n",
              "    </tr>\n",
              "    <tr>\n",
              "      <th>166</th>\n",
              "      <td>0</td>\n",
              "      <td>4.0</td>\n",
              "      <td>0.0</td>\n",
              "      <td>Muito legal</td>\n",
              "    </tr>\n",
              "  </tbody>\n",
              "</table>\n",
              "</div>"
            ],
            "text/plain": [
              "     likes  stars  favorite                                               text\n",
              "1        0    4.0       0.0  assisti só pela metade..do meio ao fim, o film...\n",
              "2        0    4.0       0.0  foi um dos filmes mais violentos q já vi. mas ...\n",
              "4        1    4.0       0.0        O Daniel Crieg tem carisma zero como 007...\n",
              "5        0    4.0       0.0                             um dos melhores de 007\n",
              "10       1    4.0       0.0  Absolutamente surpreendente! Temia que fosse d...\n",
              "11       0    4.0       0.0  Nota 8,0. Ao contrario de muitos Daniel Craig ...\n",
              "17       0    4.0       0.0  O filme, como blockbuster, é ótimo e mudar o a...\n",
              "28       2    4.0       0.0  O Pierce Brosman pra mim não tinha a cara do 0...\n",
              "32       0    4.0       1.0  Assisti com um pé atrás na primeira vez, nunca...\n",
              "39       0    4.0       0.0                                bom filme de ação!!\n",
              "42       0    4.0       0.0                                             Legal.\n",
              "70       0    4.0       0.0  Pra  min não é o melhor , mas é 007 então da p...\n",
              "85       0    4.0       0.0                                      gostei muito.\n",
              "98       0    4.0       0.0  Eu sou fan dos filmes de James Bond e apesar d...\n",
              "105      0    4.0       0.0  Craig se revelou um ótimo 007. Gostei muito do...\n",
              "107      0    4.0       1.0       Excelente, mais um marco na historia do 007.\n",
              "114      0    4.0       0.0   E eu gostava de 'Quebrando a banca'...Muito bom!\n",
              "121      0    4.0       0.0  Eu nunca gostei da franquia 007, vi esse filme...\n",
              "128      2    4.0       0.0  Em geral, não gosto de filmes de 007, apenas o...\n",
              "130      1    4.0       0.0  Nunca fui fã de Bond, mas esse filme ficou mui...\n",
              "133      0    4.0       0.0  O que mais me fez gostar foram as partidas de ...\n",
              "135      1    4.0       0.0  Muiiiiito maneiro *-*é 007 ne gente? vamos com...\n",
              "137      0    4.0       0.0  Esse eu vi no cinema, ótima ação, trama bem co...\n",
              "141      1    4.0       0.0                         Um dos melhores que já vi.\n",
              "145      1    4.0       0.0  Juro que eu queria fazer um texto e colocar to...\n",
              "148      0    4.0       0.0                              Bem bom.Interessante.\n",
              "151      0    4.0       0.0  Achei ótimo, mas o Daniel Craig infelizmente n...\n",
              "154      4    4.0       1.0  o fim da era 'bond à la tony stark'. e ainda d...\n",
              "160      2    4.0       0.0  Simplesmente Fod...... Ação do começo ao fim, ...\n",
              "166      0    4.0       0.0                                        Muito legal"
            ]
          },
          "metadata": {
            "tags": []
          },
          "execution_count": 31
        }
      ]
    },
    {
      "cell_type": "code",
      "metadata": {
        "colab": {
          "base_uri": "https://localhost:8080/",
          "height": 979
        },
        "id": "r8902NhHHhML",
        "outputId": "00fb39a2-3eba-4449-8a24-276e25ef56bb"
      },
      "source": [
        "df_movies[['likes',\t'stars',\t'favorite','text']][df_movies['stars'] == 5][0:30]\r\n",
        "# observar que todas das avaliações são positiva"
      ],
      "execution_count": null,
      "outputs": [
        {
          "output_type": "execute_result",
          "data": {
            "text/html": [
              "<div>\n",
              "<style scoped>\n",
              "    .dataframe tbody tr th:only-of-type {\n",
              "        vertical-align: middle;\n",
              "    }\n",
              "\n",
              "    .dataframe tbody tr th {\n",
              "        vertical-align: top;\n",
              "    }\n",
              "\n",
              "    .dataframe thead th {\n",
              "        text-align: right;\n",
              "    }\n",
              "</style>\n",
              "<table border=\"1\" class=\"dataframe\">\n",
              "  <thead>\n",
              "    <tr style=\"text-align: right;\">\n",
              "      <th></th>\n",
              "      <th>likes</th>\n",
              "      <th>stars</th>\n",
              "      <th>favorite</th>\n",
              "      <th>text</th>\n",
              "    </tr>\n",
              "  </thead>\n",
              "  <tbody>\n",
              "    <tr>\n",
              "      <th>7</th>\n",
              "      <td>0</td>\n",
              "      <td>5.0</td>\n",
              "      <td>0.0</td>\n",
              "      <td>preciso rever</td>\n",
              "    </tr>\n",
              "    <tr>\n",
              "      <th>13</th>\n",
              "      <td>2</td>\n",
              "      <td>5.0</td>\n",
              "      <td>0.0</td>\n",
              "      <td>mto melhor 007 q o pierce ..#prontofalei</td>\n",
              "    </tr>\n",
              "    <tr>\n",
              "      <th>15</th>\n",
              "      <td>0</td>\n",
              "      <td>5.0</td>\n",
              "      <td>1.0</td>\n",
              "      <td>Disse que ia sabotar este (não ver no cine), p...</td>\n",
              "    </tr>\n",
              "    <tr>\n",
              "      <th>16</th>\n",
              "      <td>0</td>\n",
              "      <td>5.0</td>\n",
              "      <td>1.0</td>\n",
              "      <td>Um dos melhores filmes que assisti na minha vi...</td>\n",
              "    </tr>\n",
              "    <tr>\n",
              "      <th>18</th>\n",
              "      <td>0</td>\n",
              "      <td>5.0</td>\n",
              "      <td>0.0</td>\n",
              "      <td>Adoro esse filme!</td>\n",
              "    </tr>\n",
              "    <tr>\n",
              "      <th>20</th>\n",
              "      <td>0</td>\n",
              "      <td>5.0</td>\n",
              "      <td>1.0</td>\n",
              "      <td>Melhor filme do 007.</td>\n",
              "    </tr>\n",
              "    <tr>\n",
              "      <th>25</th>\n",
              "      <td>0</td>\n",
              "      <td>5.0</td>\n",
              "      <td>1.0</td>\n",
              "      <td>muito bom. achava que ia ser fraco pois gostav...</td>\n",
              "    </tr>\n",
              "    <tr>\n",
              "      <th>34</th>\n",
              "      <td>0</td>\n",
              "      <td>5.0</td>\n",
              "      <td>0.0</td>\n",
              "      <td>muito massa . adoro filme assim</td>\n",
              "    </tr>\n",
              "    <tr>\n",
              "      <th>38</th>\n",
              "      <td>0</td>\n",
              "      <td>5.0</td>\n",
              "      <td>1.0</td>\n",
              "      <td>Adoro Daniel Craig, por isso é o meu 007 favor...</td>\n",
              "    </tr>\n",
              "    <tr>\n",
              "      <th>43</th>\n",
              "      <td>0</td>\n",
              "      <td>5.0</td>\n",
              "      <td>0.0</td>\n",
              "      <td>Muito bom</td>\n",
              "    </tr>\n",
              "    <tr>\n",
              "      <th>49</th>\n",
              "      <td>2</td>\n",
              "      <td>5.0</td>\n",
              "      <td>0.0</td>\n",
              "      <td>melhor 007, fato !</td>\n",
              "    </tr>\n",
              "    <tr>\n",
              "      <th>58</th>\n",
              "      <td>0</td>\n",
              "      <td>5.0</td>\n",
              "      <td>0.0</td>\n",
              "      <td>Muito bom! definitivamente Daniel Craig é o me...</td>\n",
              "    </tr>\n",
              "    <tr>\n",
              "      <th>59</th>\n",
              "      <td>0</td>\n",
              "      <td>5.0</td>\n",
              "      <td>1.0</td>\n",
              "      <td>Finalmente um filme de 007 que eu consegui ass...</td>\n",
              "    </tr>\n",
              "    <tr>\n",
              "      <th>60</th>\n",
              "      <td>0</td>\n",
              "      <td>5.0</td>\n",
              "      <td>0.0</td>\n",
              "      <td>ÓTIMO FILME!</td>\n",
              "    </tr>\n",
              "    <tr>\n",
              "      <th>61</th>\n",
              "      <td>0</td>\n",
              "      <td>5.0</td>\n",
              "      <td>1.0</td>\n",
              "      <td>Melhor filme de James Bond. Fato. [2]</td>\n",
              "    </tr>\n",
              "    <tr>\n",
              "      <th>63</th>\n",
              "      <td>0</td>\n",
              "      <td>5.0</td>\n",
              "      <td>1.0</td>\n",
              "      <td>maravilhoso!!!</td>\n",
              "    </tr>\n",
              "    <tr>\n",
              "      <th>69</th>\n",
              "      <td>0</td>\n",
              "      <td>5.0</td>\n",
              "      <td>1.0</td>\n",
              "      <td>puta filmaço!!!</td>\n",
              "    </tr>\n",
              "    <tr>\n",
              "      <th>81</th>\n",
              "      <td>1</td>\n",
              "      <td>5.0</td>\n",
              "      <td>0.0</td>\n",
              "      <td>ótimo filme e cheio de ação</td>\n",
              "    </tr>\n",
              "    <tr>\n",
              "      <th>88</th>\n",
              "      <td>1</td>\n",
              "      <td>5.0</td>\n",
              "      <td>1.0</td>\n",
              "      <td>Amo esse filme. O melhor dos James Bond.</td>\n",
              "    </tr>\n",
              "    <tr>\n",
              "      <th>90</th>\n",
              "      <td>1</td>\n",
              "      <td>5.0</td>\n",
              "      <td>1.0</td>\n",
              "      <td>Daniel Craig &lt;3</td>\n",
              "    </tr>\n",
              "    <tr>\n",
              "      <th>93</th>\n",
              "      <td>0</td>\n",
              "      <td>5.0</td>\n",
              "      <td>1.0</td>\n",
              "      <td>Sem mais, o melhor! Nem Quantum of Solace supe...</td>\n",
              "    </tr>\n",
              "    <tr>\n",
              "      <th>95</th>\n",
              "      <td>3</td>\n",
              "      <td>5.0</td>\n",
              "      <td>1.0</td>\n",
              "      <td>A parte do Cassino é perfeita! Vilão muito bom...</td>\n",
              "    </tr>\n",
              "    <tr>\n",
              "      <th>100</th>\n",
              "      <td>0</td>\n",
              "      <td>5.0</td>\n",
              "      <td>0.0</td>\n",
              "      <td>Entre os dois 007 com Daniel Craig, esse é o m...</td>\n",
              "    </tr>\n",
              "    <tr>\n",
              "      <th>101</th>\n",
              "      <td>0</td>\n",
              "      <td>5.0</td>\n",
              "      <td>1.0</td>\n",
              "      <td>doeu ate em min vendo esse filme</td>\n",
              "    </tr>\n",
              "    <tr>\n",
              "      <th>102</th>\n",
              "      <td>0</td>\n",
              "      <td>5.0</td>\n",
              "      <td>1.0</td>\n",
              "      <td>Que bom que o Daniel Craig foi chamado pra ser...</td>\n",
              "    </tr>\n",
              "    <tr>\n",
              "      <th>103</th>\n",
              "      <td>0</td>\n",
              "      <td>5.0</td>\n",
              "      <td>1.0</td>\n",
              "      <td>Muito foda! Melhor de 007 que ja assisti. E as...</td>\n",
              "    </tr>\n",
              "    <tr>\n",
              "      <th>104</th>\n",
              "      <td>0</td>\n",
              "      <td>5.0</td>\n",
              "      <td>0.0</td>\n",
              "      <td>Já começa emocionante :D</td>\n",
              "    </tr>\n",
              "    <tr>\n",
              "      <th>109</th>\n",
              "      <td>0</td>\n",
              "      <td>5.0</td>\n",
              "      <td>0.0</td>\n",
              "      <td>Também adorei o filme, ação pura!! Tinha uma m...</td>\n",
              "    </tr>\n",
              "    <tr>\n",
              "      <th>111</th>\n",
              "      <td>0</td>\n",
              "      <td>5.0</td>\n",
              "      <td>0.0</td>\n",
              "      <td>Amo.</td>\n",
              "    </tr>\n",
              "    <tr>\n",
              "      <th>117</th>\n",
              "      <td>0</td>\n",
              "      <td>5.0</td>\n",
              "      <td>0.0</td>\n",
              "      <td>noooossa, simplismente MUITO bom! amei</td>\n",
              "    </tr>\n",
              "  </tbody>\n",
              "</table>\n",
              "</div>"
            ],
            "text/plain": [
              "     likes  stars  favorite                                               text\n",
              "7        0    5.0       0.0                                      preciso rever\n",
              "13       2    5.0       0.0           mto melhor 007 q o pierce ..#prontofalei\n",
              "15       0    5.0       1.0  Disse que ia sabotar este (não ver no cine), p...\n",
              "16       0    5.0       1.0  Um dos melhores filmes que assisti na minha vi...\n",
              "18       0    5.0       0.0                                  Adoro esse filme!\n",
              "20       0    5.0       1.0                               Melhor filme do 007.\n",
              "25       0    5.0       1.0  muito bom. achava que ia ser fraco pois gostav...\n",
              "34       0    5.0       0.0                    muito massa . adoro filme assim\n",
              "38       0    5.0       1.0  Adoro Daniel Craig, por isso é o meu 007 favor...\n",
              "43       0    5.0       0.0                                          Muito bom\n",
              "49       2    5.0       0.0                                 melhor 007, fato !\n",
              "58       0    5.0       0.0  Muito bom! definitivamente Daniel Craig é o me...\n",
              "59       0    5.0       1.0  Finalmente um filme de 007 que eu consegui ass...\n",
              "60       0    5.0       0.0                                       ÓTIMO FILME!\n",
              "61       0    5.0       1.0              Melhor filme de James Bond. Fato. [2]\n",
              "63       0    5.0       1.0                                     maravilhoso!!!\n",
              "69       0    5.0       1.0                                    puta filmaço!!!\n",
              "81       1    5.0       0.0                        ótimo filme e cheio de ação\n",
              "88       1    5.0       1.0           Amo esse filme. O melhor dos James Bond.\n",
              "90       1    5.0       1.0                                    Daniel Craig <3\n",
              "93       0    5.0       1.0  Sem mais, o melhor! Nem Quantum of Solace supe...\n",
              "95       3    5.0       1.0  A parte do Cassino é perfeita! Vilão muito bom...\n",
              "100      0    5.0       0.0  Entre os dois 007 com Daniel Craig, esse é o m...\n",
              "101      0    5.0       1.0                   doeu ate em min vendo esse filme\n",
              "102      0    5.0       1.0  Que bom que o Daniel Craig foi chamado pra ser...\n",
              "103      0    5.0       1.0  Muito foda! Melhor de 007 que ja assisti. E as...\n",
              "104      0    5.0       0.0                           Já começa emocionante :D\n",
              "109      0    5.0       0.0  Também adorei o filme, ação pura!! Tinha uma m...\n",
              "111      0    5.0       0.0                                               Amo.\n",
              "117      0    5.0       0.0             noooossa, simplismente MUITO bom! amei"
            ]
          },
          "metadata": {
            "tags": []
          },
          "execution_count": 32
        }
      ]
    },
    {
      "cell_type": "code",
      "metadata": {
        "colab": {
          "base_uri": "https://localhost:8080/"
        },
        "id": "C6GrGSz8IP4E",
        "outputId": "0a841845-1b24-4108-ed7b-801f4a98000e"
      },
      "source": [
        "df_movies.columns"
      ],
      "execution_count": null,
      "outputs": [
        {
          "output_type": "execute_result",
          "data": {
            "text/plain": [
              "Index(['index', 'object', 'text', 'likes', 'stars', 'favorite'], dtype='object')"
            ]
          },
          "metadata": {
            "tags": []
          },
          "execution_count": 33
        }
      ]
    },
    {
      "cell_type": "code",
      "metadata": {
        "id": "kbYUVgi-H52Y"
      },
      "source": [
        "# Features seleciondadas\r\n",
        "df_movies = df_movies[['object','text','stars']]"
      ],
      "execution_count": null,
      "outputs": []
    },
    {
      "cell_type": "markdown",
      "metadata": {
        "id": "nHUiE75CpZ7b"
      },
      "source": [
        "#### Definindo as classes positiva e negativa\r\n"
      ]
    },
    {
      "cell_type": "code",
      "metadata": {
        "id": "C7r_pQbxJftt"
      },
      "source": [
        "#selecionando os registros com stars diferente de zero\r\n",
        "df_movies = df_movies[df_movies.stars >= 1]"
      ],
      "execution_count": null,
      "outputs": []
    },
    {
      "cell_type": "code",
      "metadata": {
        "colab": {
          "base_uri": "https://localhost:8080/"
        },
        "id": "IZZvCZ-1KI3M",
        "outputId": "8ac06c70-7922-45b8-a776-47360d69f523"
      },
      "source": [
        "# validando\r\n",
        "df_movies['stars'].unique()"
      ],
      "execution_count": null,
      "outputs": [
        {
          "output_type": "execute_result",
          "data": {
            "text/plain": [
              "array([3.5, 4. , 2.5, 5. , 3. , 4.5, 1.5, 2. , 1. ])"
            ]
          },
          "metadata": {
            "tags": []
          },
          "execution_count": 36
        }
      ]
    },
    {
      "cell_type": "code",
      "metadata": {
        "id": "f9ZN3g3WTHRz"
      },
      "source": [
        "def define_classe(row):\r\n",
        "  var_stars = row['stars']\r\n",
        "  #if (var_stars == 1 and var_stars == 1.5 and var_stars == 2 and var_stars == 2.5):\r\n",
        "  if (var_stars < 3):\r\n",
        "    return 0 # classe negativa\r\n",
        "  else:\r\n",
        "    return 1 # classe positiva"
      ],
      "execution_count": null,
      "outputs": []
    },
    {
      "cell_type": "code",
      "metadata": {
        "colab": {
          "base_uri": "https://localhost:8080/"
        },
        "id": "UtmnWxEapiiC",
        "outputId": "ba0f107e-4b40-465f-d916-961895688831"
      },
      "source": [
        "start = time.time()\r\n",
        "#df_movies['classificacao'] = df_movies.apply(define_classe, axis=1)\r\n",
        "df_movies['classificacao'] = df_movies.apply(define_classe, axis=1)\r\n",
        "print (\"tempo gasto: \", (time.time() - start))"
      ],
      "execution_count": null,
      "outputs": [
        {
          "output_type": "stream",
          "text": [
            "tempo gasto:  13.178906917572021\n"
          ],
          "name": "stdout"
        }
      ]
    },
    {
      "cell_type": "code",
      "metadata": {
        "colab": {
          "base_uri": "https://localhost:8080/"
        },
        "id": "tkymJmPwShR3",
        "outputId": "9b6c9972-2407-48a8-d661-bef56bce052d"
      },
      "source": [
        "# validando\r\n",
        "df_movies['classificacao'].unique()"
      ],
      "execution_count": null,
      "outputs": [
        {
          "output_type": "execute_result",
          "data": {
            "text/plain": [
              "array([1, 0])"
            ]
          },
          "metadata": {
            "tags": []
          },
          "execution_count": 39
        }
      ]
    },
    {
      "cell_type": "markdown",
      "metadata": {
        "id": "dW2gpNFY63yT"
      },
      "source": [
        "## convertendo as palavras do campo texto para lowcase\r\n"
      ]
    },
    {
      "cell_type": "code",
      "metadata": {
        "colab": {
          "base_uri": "https://localhost:8080/",
          "height": 142
        },
        "id": "6LF8hJPZ3H5O",
        "outputId": "8f2085a8-577c-4c11-e563-3b44fcc380b1"
      },
      "source": [
        "df_movies['text_lower'] = df_movies['text'].astype('str').str.lower()\r\n",
        "df_movies[['text','text_lower']].head(3)"
      ],
      "execution_count": null,
      "outputs": [
        {
          "output_type": "execute_result",
          "data": {
            "text/html": [
              "<div>\n",
              "<style scoped>\n",
              "    .dataframe tbody tr th:only-of-type {\n",
              "        vertical-align: middle;\n",
              "    }\n",
              "\n",
              "    .dataframe tbody tr th {\n",
              "        vertical-align: top;\n",
              "    }\n",
              "\n",
              "    .dataframe thead th {\n",
              "        text-align: right;\n",
              "    }\n",
              "</style>\n",
              "<table border=\"1\" class=\"dataframe\">\n",
              "  <thead>\n",
              "    <tr style=\"text-align: right;\">\n",
              "      <th></th>\n",
              "      <th>text</th>\n",
              "      <th>text_lower</th>\n",
              "    </tr>\n",
              "  </thead>\n",
              "  <tbody>\n",
              "    <tr>\n",
              "      <th>0</th>\n",
              "      <td>Um dos melhores do 007</td>\n",
              "      <td>um dos melhores do 007</td>\n",
              "    </tr>\n",
              "    <tr>\n",
              "      <th>1</th>\n",
              "      <td>assisti só pela metade..do meio ao fim, o film...</td>\n",
              "      <td>assisti só pela metade..do meio ao fim, o film...</td>\n",
              "    </tr>\n",
              "    <tr>\n",
              "      <th>2</th>\n",
              "      <td>foi um dos filmes mais violentos q já vi. mas ...</td>\n",
              "      <td>foi um dos filmes mais violentos q já vi. mas ...</td>\n",
              "    </tr>\n",
              "  </tbody>\n",
              "</table>\n",
              "</div>"
            ],
            "text/plain": [
              "                                                text                                         text_lower\n",
              "0                             Um dos melhores do 007                             um dos melhores do 007\n",
              "1  assisti só pela metade..do meio ao fim, o film...  assisti só pela metade..do meio ao fim, o film...\n",
              "2  foi um dos filmes mais violentos q já vi. mas ...  foi um dos filmes mais violentos q já vi. mas ..."
            ]
          },
          "metadata": {
            "tags": []
          },
          "execution_count": 40
        }
      ]
    },
    {
      "cell_type": "markdown",
      "metadata": {
        "id": "1HnO3-KvRfla"
      },
      "source": [
        "## Selecionando parte dos registros"
      ]
    },
    {
      "cell_type": "code",
      "metadata": {
        "colab": {
          "base_uri": "https://localhost:8080/"
        },
        "id": "_xJUYzisjEuB",
        "outputId": "21e8f3e1-e3d8-4dcf-d58d-e610967e4efd"
      },
      "source": [
        "df_movies['classificacao'].value_counts()"
      ],
      "execution_count": null,
      "outputs": [
        {
          "output_type": "execute_result",
          "data": {
            "text/plain": [
              "1    1347474\n",
              "0     136792\n",
              "Name: classificacao, dtype: int64"
            ]
          },
          "metadata": {
            "tags": []
          },
          "execution_count": 41
        }
      ]
    },
    {
      "cell_type": "code",
      "metadata": {
        "colab": {
          "base_uri": "https://localhost:8080/"
        },
        "id": "B7vASHMRS6ad",
        "outputId": "3854de65-d931-4a72-a460-e536c3e6041a"
      },
      "source": [
        "len(df_movies)"
      ],
      "execution_count": null,
      "outputs": [
        {
          "output_type": "execute_result",
          "data": {
            "text/plain": [
              "1484266"
            ]
          },
          "metadata": {
            "tags": []
          },
          "execution_count": 42
        }
      ]
    },
    {
      "cell_type": "code",
      "metadata": {
        "id": "xburUZ_wUe6-"
      },
      "source": [
        "# selecionando registros com classificação negativa\r\n",
        "df_negativa = df_movies[df_movies['classificacao'] == 0][0:6000]\r\n",
        "\r\n",
        "# selecionando registros com classificação positia\r\n",
        "df_positiva = df_movies[df_movies['classificacao'] == 1][0:6000]\r\n",
        "\r\n",
        "# unindo os registros\r\n",
        "df = pd.concat([df_negativa, df_positiva], axis=0)"
      ],
      "execution_count": null,
      "outputs": []
    },
    {
      "cell_type": "code",
      "metadata": {
        "id": "YZYBzxGpRsNH"
      },
      "source": [
        "# Embaralhando os dados por filmes\r\n",
        "df = df.sample(frac=1).reset_index(drop=True)\r\n",
        "#df_movies[0:5000]"
      ],
      "execution_count": null,
      "outputs": []
    },
    {
      "cell_type": "code",
      "metadata": {
        "colab": {
          "base_uri": "https://localhost:8080/"
        },
        "id": "nIYWk5SfR809",
        "outputId": "b813bef1-9b14-4b96-88be-9949b4598595"
      },
      "source": [
        "df['classificacao'].value_counts()"
      ],
      "execution_count": null,
      "outputs": [
        {
          "output_type": "execute_result",
          "data": {
            "text/plain": [
              "1    6000\n",
              "0    6000\n",
              "Name: classificacao, dtype: int64"
            ]
          },
          "metadata": {
            "tags": []
          },
          "execution_count": 45
        }
      ]
    },
    {
      "cell_type": "markdown",
      "metadata": {
        "id": "bZMwZtzEX1ah"
      },
      "source": [
        "## Pré-processando os dados"
      ]
    },
    {
      "cell_type": "code",
      "metadata": {
        "id": "We5eaZkDTS2k"
      },
      "source": [
        "# # removendo os emojis do texto\r\n",
        "# fonte: https://stackoverflow.com/questions/33404752/removing-emojis-from-a-string-in-python\r\n",
        "\r\n",
        "#df['text'][2] -- 99(104), 98(103), \r\n",
        "\r\n",
        "#!/usr/bin/env python\r\n",
        "import re\r\n",
        "\r\n",
        "def remover_emojis(text):\r\n",
        "    regrex_pattern = re.compile(pattern = \"[\"\r\n",
        "        u\"\\U0001F600-\\U0001F64F\"  # emoticons\r\n",
        "        u\"\\U0001F300-\\U0001F5FF\"  # symbols & pictographs\r\n",
        "        u\"\\U0001F680-\\U0001F6FF\"  # transport & map symbols\r\n",
        "        u\"\\U0001F1E0-\\U0001F1FF\"  # flags (iOS)\r\n",
        "                           \"]+\", flags = re.UNICODE)\r\n",
        "    return regrex_pattern.sub(r'',text)\r\n",
        "\r\n",
        "df['text_sem_emojis'] = df['text_lower'].apply(remover_emojis) # chamando a função que remove as stopwords"
      ],
      "execution_count": null,
      "outputs": []
    },
    {
      "cell_type": "code",
      "metadata": {
        "colab": {
          "base_uri": "https://localhost:8080/",
          "height": 52
        },
        "id": "YyEh0MiTUnji",
        "outputId": "4a7c216a-181f-46a4-e410-81cd9d436465"
      },
      "source": [
        "'''registro 2 - separar palavras que estão juntas\r\n",
        "1ª onda: más atuações2ª onda: efeitos ruins3ª onda: burrice dos personagens4ª onda: mar de clichês5ª onda: casal brocochô\r\n",
        "'''"
      ],
      "execution_count": null,
      "outputs": [
        {
          "output_type": "execute_result",
          "data": {
            "application/vnd.google.colaboratory.intrinsic+json": {
              "type": "string"
            },
            "text/plain": [
              "'registro 2 - separar palavras que estão juntas\\n1ª onda: más atuações2ª onda: efeitos ruins3ª onda: burrice dos personagens4ª onda: mar de clichês5ª onda: casal brocochô\\n'"
            ]
          },
          "metadata": {
            "tags": []
          },
          "execution_count": 47
        }
      ]
    },
    {
      "cell_type": "code",
      "metadata": {
        "colab": {
          "base_uri": "https://localhost:8080/",
          "height": 159
        },
        "id": "LEWG3ertzot_",
        "outputId": "08894b16-5b71-4a54-eecb-f11b1b71cfd2"
      },
      "source": [
        "# Remover os caracteres especiais do texto\r\n",
        "def remover_caracteres2 (row):\r\n",
        "  table = str.maketrans(dict.fromkeys(string.punctuation)) \r\n",
        "  texto_sem_caracteres = str(row['text_sem_emojis']).translate(table)\r\n",
        "  return texto_sem_caracteres\r\n",
        "\r\n",
        "# montagem da tabela de pontuacoes, primeiro pegamos a lista de pontuacoes com string.punctuation, depois pegamos\r\n",
        "# e criamos como uma tabela usando o str.maketrans\r\n",
        "start = time.time()\r\n",
        "df['text_sem_caracteres'] = df.apply(remover_caracteres2, axis=1) # chamando a função que remove as stopwords\r\n",
        "print (\"tempo gasto: \", (time.time() - start))\r\n",
        "\r\n",
        "# Validando\r\n",
        "df[['text', 'text_sem_caracteres']].head(3)"
      ],
      "execution_count": null,
      "outputs": [
        {
          "output_type": "stream",
          "text": [
            "tempo gasto:  0.3447756767272949\n"
          ],
          "name": "stdout"
        },
        {
          "output_type": "execute_result",
          "data": {
            "text/html": [
              "<div>\n",
              "<style scoped>\n",
              "    .dataframe tbody tr th:only-of-type {\n",
              "        vertical-align: middle;\n",
              "    }\n",
              "\n",
              "    .dataframe tbody tr th {\n",
              "        vertical-align: top;\n",
              "    }\n",
              "\n",
              "    .dataframe thead th {\n",
              "        text-align: right;\n",
              "    }\n",
              "</style>\n",
              "<table border=\"1\" class=\"dataframe\">\n",
              "  <thead>\n",
              "    <tr style=\"text-align: right;\">\n",
              "      <th></th>\n",
              "      <th>text</th>\n",
              "      <th>text_sem_caracteres</th>\n",
              "    </tr>\n",
              "  </thead>\n",
              "  <tbody>\n",
              "    <tr>\n",
              "      <th>0</th>\n",
              "      <td>Filme bem interessante, porém fiquei sem enten...</td>\n",
              "      <td>filme bem interessante porém fiquei sem entend...</td>\n",
              "    </tr>\n",
              "    <tr>\n",
              "      <th>1</th>\n",
              "      <td>não aguento meu amor por esse tipo de filme, a...</td>\n",
              "      <td>não aguento meu amor por esse tipo de filme as...</td>\n",
              "    </tr>\n",
              "    <tr>\n",
              "      <th>2</th>\n",
              "      <td>me decepcionei com o filme ... o final me pare...</td>\n",
              "      <td>me decepcionei com o filme  o final me pareceu...</td>\n",
              "    </tr>\n",
              "  </tbody>\n",
              "</table>\n",
              "</div>"
            ],
            "text/plain": [
              "                                                text                                text_sem_caracteres\n",
              "0  Filme bem interessante, porém fiquei sem enten...  filme bem interessante porém fiquei sem entend...\n",
              "1  não aguento meu amor por esse tipo de filme, a...  não aguento meu amor por esse tipo de filme as...\n",
              "2  me decepcionei com o filme ... o final me pare...  me decepcionei com o filme  o final me pareceu..."
            ]
          },
          "metadata": {
            "tags": []
          },
          "execution_count": 48
        }
      ]
    },
    {
      "cell_type": "code",
      "metadata": {
        "id": "F0EHM3pYgWQ4",
        "colab": {
          "base_uri": "https://localhost:8080/"
        },
        "outputId": "d465ed7e-b881-4de4-e158-2eb2646aba5f"
      },
      "source": [
        "print (\"Texto original: \", df['text'][6])\r\n",
        "print (\"Texto final: \", df['text_sem_caracteres'][6])"
      ],
      "execution_count": null,
      "outputs": [
        {
          "output_type": "stream",
          "text": [
            "Texto original:  - \"Ja fez alguém chorar hoje?\"\"Não, mas ainda sao 16h\"\n",
            "Texto final:   ja fez alguém chorar hojenão mas ainda sao 16h\n"
          ],
          "name": "stdout"
        }
      ]
    },
    {
      "cell_type": "code",
      "metadata": {
        "colab": {
          "base_uri": "https://localhost:8080/",
          "height": 128
        },
        "id": "ck_2IHgYqzRO",
        "outputId": "29818bb0-8f09-4d6c-9769-bed5441cab1b"
      },
      "source": [
        "# tokenizando, removendo as stopwords e \r\n",
        "\r\n",
        "stp_words = nltk.corpus.stopwords.words('portuguese')\r\n",
        "\r\n",
        "def identify_tokens(text):\r\n",
        "    tokens = word_tokenize(text)\r\n",
        "    tokens = [word for word in tokens if not word in stp_words]\r\n",
        "    tokens = [word for word in tokens if word.isalnum()] # isalnum (não remove caracteres especiais e números) - \r\n",
        "                                                      #  isalpha (removeremos palavras / caracteres não alfanuméricos (como números e pontuação)\r\n",
        "    return tokens\r\n",
        "\r\n",
        "\r\n",
        "start = time.time()\r\n",
        "df['text_tokenizado'] = df['text_sem_caracteres'].apply(identify_tokens) # chamando a função que remove as stopwords\r\n",
        "print (\"tempo gasto: \", (time.time() - start))\r\n",
        "\r\n",
        "# validando a tokenização\r\n",
        "df[['text_sem_caracteres','text_tokenizado']][1:3].head(3)"
      ],
      "execution_count": null,
      "outputs": [
        {
          "output_type": "stream",
          "text": [
            "tempo gasto:  3.2907960414886475\n"
          ],
          "name": "stdout"
        },
        {
          "output_type": "execute_result",
          "data": {
            "text/html": [
              "<div>\n",
              "<style scoped>\n",
              "    .dataframe tbody tr th:only-of-type {\n",
              "        vertical-align: middle;\n",
              "    }\n",
              "\n",
              "    .dataframe tbody tr th {\n",
              "        vertical-align: top;\n",
              "    }\n",
              "\n",
              "    .dataframe thead th {\n",
              "        text-align: right;\n",
              "    }\n",
              "</style>\n",
              "<table border=\"1\" class=\"dataframe\">\n",
              "  <thead>\n",
              "    <tr style=\"text-align: right;\">\n",
              "      <th></th>\n",
              "      <th>text_sem_caracteres</th>\n",
              "      <th>text_tokenizado</th>\n",
              "    </tr>\n",
              "  </thead>\n",
              "  <tbody>\n",
              "    <tr>\n",
              "      <th>1</th>\n",
              "      <td>não aguento meu amor por esse tipo de filme as...</td>\n",
              "      <td>[aguento, amor, tipo, filme, assisto, 20, veze...</td>\n",
              "    </tr>\n",
              "    <tr>\n",
              "      <th>2</th>\n",
              "      <td>me decepcionei com o filme  o final me pareceu...</td>\n",
              "      <td>[decepcionei, filme, final, pareceu, meio, for...</td>\n",
              "    </tr>\n",
              "  </tbody>\n",
              "</table>\n",
              "</div>"
            ],
            "text/plain": [
              "                                 text_sem_caracteres                                    text_tokenizado\n",
              "1  não aguento meu amor por esse tipo de filme as...  [aguento, amor, tipo, filme, assisto, 20, veze...\n",
              "2  me decepcionei com o filme  o final me pareceu...  [decepcionei, filme, final, pareceu, meio, for..."
            ]
          },
          "metadata": {
            "tags": []
          },
          "execution_count": 50
        }
      ]
    },
    {
      "cell_type": "markdown",
      "metadata": {
        "id": "k70pTpcYvt7e"
      },
      "source": [
        "# limpando novamente os dados"
      ]
    },
    {
      "cell_type": "code",
      "metadata": {
        "colab": {
          "base_uri": "https://localhost:8080/",
          "height": 128
        },
        "id": "VCD-jr5UvwZt",
        "outputId": "5bdff215-d683-44ea-aa1e-06cd9ca035f6"
      },
      "source": [
        "# Remover os caracteres especiais do texto\r\n",
        "def remover_caracteres2 (row):\r\n",
        "  table = str.maketrans(dict.fromkeys(string.punctuation)) \r\n",
        "  texto_sem_caracteres = str(row['text_tokenizado']).translate(table)\r\n",
        "  return texto_sem_caracteres\r\n",
        "\r\n",
        "# montagem da tabela de pontuacoes, primeiro pegamos a lista de pontuacoes com string.punctuation, depois pegamos\r\n",
        "# e criamos como uma tabela usando o str.maketrans\r\n",
        "start = time.time()\r\n",
        "df['text_clean'] = df.apply(remover_caracteres2, axis=1) # chamando a função que remove as stopwords\r\n",
        "print (\"tempo gasto: \", (time.time() - start))\r\n",
        "\r\n",
        "# validando a tokenização\r\n",
        "df[['text','text_clean']][1:3].head(3)"
      ],
      "execution_count": null,
      "outputs": [
        {
          "output_type": "stream",
          "text": [
            "tempo gasto:  0.38385438919067383\n"
          ],
          "name": "stdout"
        },
        {
          "output_type": "execute_result",
          "data": {
            "text/html": [
              "<div>\n",
              "<style scoped>\n",
              "    .dataframe tbody tr th:only-of-type {\n",
              "        vertical-align: middle;\n",
              "    }\n",
              "\n",
              "    .dataframe tbody tr th {\n",
              "        vertical-align: top;\n",
              "    }\n",
              "\n",
              "    .dataframe thead th {\n",
              "        text-align: right;\n",
              "    }\n",
              "</style>\n",
              "<table border=\"1\" class=\"dataframe\">\n",
              "  <thead>\n",
              "    <tr style=\"text-align: right;\">\n",
              "      <th></th>\n",
              "      <th>text</th>\n",
              "      <th>text_clean</th>\n",
              "    </tr>\n",
              "  </thead>\n",
              "  <tbody>\n",
              "    <tr>\n",
              "      <th>1</th>\n",
              "      <td>não aguento meu amor por esse tipo de filme, a...</td>\n",
              "      <td>aguento amor tipo filme assisto 20 vezes conti...</td>\n",
              "    </tr>\n",
              "    <tr>\n",
              "      <th>2</th>\n",
              "      <td>me decepcionei com o filme ... o final me pare...</td>\n",
              "      <td>decepcionei filme final pareceu meio forçado d...</td>\n",
              "    </tr>\n",
              "  </tbody>\n",
              "</table>\n",
              "</div>"
            ],
            "text/plain": [
              "                                                text                                         text_clean\n",
              "1  não aguento meu amor por esse tipo de filme, a...  aguento amor tipo filme assisto 20 vezes conti...\n",
              "2  me decepcionei com o filme ... o final me pare...  decepcionei filme final pareceu meio forçado d..."
            ]
          },
          "metadata": {
            "tags": []
          },
          "execution_count": 51
        }
      ]
    },
    {
      "cell_type": "code",
      "metadata": {
        "colab": {
          "base_uri": "https://localhost:8080/"
        },
        "id": "4eum1CQMaAA1",
        "outputId": "381ac0fd-4e7f-4da7-ab92-afaa9be2b739"
      },
      "source": [
        "df.isnull().sum()"
      ],
      "execution_count": null,
      "outputs": [
        {
          "output_type": "execute_result",
          "data": {
            "text/plain": [
              "object                 0\n",
              "text                   0\n",
              "stars                  0\n",
              "classificacao          0\n",
              "text_lower             0\n",
              "text_sem_emojis        0\n",
              "text_sem_caracteres    0\n",
              "text_tokenizado        0\n",
              "text_clean             0\n",
              "dtype: int64"
            ]
          },
          "metadata": {
            "tags": []
          },
          "execution_count": 52
        }
      ]
    },
    {
      "cell_type": "markdown",
      "metadata": {
        "id": "k_6wqyUeX1am"
      },
      "source": [
        "# Salvando o resultado num dataframe"
      ]
    },
    {
      "cell_type": "code",
      "metadata": {
        "id": "yXcAbvibow0d"
      },
      "source": [
        "df2 = df[['object', 'classificacao', 'text', 'text_tokenizado', 'text_clean']]\r\n",
        "df2.to_csv(\"/content/drive/MyDrive/Colab Notebooks/NLP/trabalho/dados/df_util_tokenizado.txt\",index=False)"
      ],
      "execution_count": null,
      "outputs": []
    },
    {
      "cell_type": "markdown",
      "metadata": {
        "id": "kDpf2jcVG9Ct"
      },
      "source": [
        "# Lendo o arquivo"
      ]
    },
    {
      "cell_type": "code",
      "metadata": {
        "id": "nNTz4YI5ou2x",
        "colab": {
          "base_uri": "https://localhost:8080/",
          "height": 210
        },
        "outputId": "b1f249b2-460d-40a1-c7ad-15267124468f"
      },
      "source": [
        "df_limpo = pd.read_csv(\"/content/drive/MyDrive/Colab Notebooks/NLP/trabalho/dados/df_util_tokenizado.txt\")\r\n",
        "print ('tamanho', df_limpo.shape)\r\n",
        "df_limpo.head(3)"
      ],
      "execution_count": 5,
      "outputs": [
        {
          "output_type": "stream",
          "text": [
            "tamanho (12000, 5)\n"
          ],
          "name": "stdout"
        },
        {
          "output_type": "execute_result",
          "data": {
            "text/html": [
              "<div>\n",
              "<style scoped>\n",
              "    .dataframe tbody tr th:only-of-type {\n",
              "        vertical-align: middle;\n",
              "    }\n",
              "\n",
              "    .dataframe tbody tr th {\n",
              "        vertical-align: top;\n",
              "    }\n",
              "\n",
              "    .dataframe thead th {\n",
              "        text-align: right;\n",
              "    }\n",
              "</style>\n",
              "<table border=\"1\" class=\"dataframe\">\n",
              "  <thead>\n",
              "    <tr style=\"text-align: right;\">\n",
              "      <th></th>\n",
              "      <th>object</th>\n",
              "      <th>classificacao</th>\n",
              "      <th>text</th>\n",
              "      <th>text_tokenizado</th>\n",
              "      <th>text_clean</th>\n",
              "    </tr>\n",
              "  </thead>\n",
              "  <tbody>\n",
              "    <tr>\n",
              "      <th>0</th>\n",
              "      <td>a-caca-t55765</td>\n",
              "      <td>0</td>\n",
              "      <td>Filme bem interessante, porém fiquei sem enten...</td>\n",
              "      <td>['filme', 'bem', 'interessante', 'porém', 'fiq...</td>\n",
              "      <td>filme bem interessante porém fiquei entender f...</td>\n",
              "    </tr>\n",
              "    <tr>\n",
              "      <th>1</th>\n",
              "      <td>10-coisas-que-eu-odeio-em-voce-t1964</td>\n",
              "      <td>1</td>\n",
              "      <td>não aguento meu amor por esse tipo de filme, a...</td>\n",
              "      <td>['aguento', 'amor', 'tipo', 'filme', 'assisto'...</td>\n",
              "      <td>aguento amor tipo filme assisto 20 vezes conti...</td>\n",
              "    </tr>\n",
              "    <tr>\n",
              "      <th>2</th>\n",
              "      <td>a-centopeia-humana-t17782</td>\n",
              "      <td>0</td>\n",
              "      <td>me decepcionei com o filme ... o final me pare...</td>\n",
              "      <td>['decepcionei', 'filme', 'final', 'pareceu', '...</td>\n",
              "      <td>decepcionei filme final pareceu meio forçado d...</td>\n",
              "    </tr>\n",
              "  </tbody>\n",
              "</table>\n",
              "</div>"
            ],
            "text/plain": [
              "                                 object  ...                                         text_clean\n",
              "0                         a-caca-t55765  ...  filme bem interessante porém fiquei entender f...\n",
              "1  10-coisas-que-eu-odeio-em-voce-t1964  ...  aguento amor tipo filme assisto 20 vezes conti...\n",
              "2             a-centopeia-humana-t17782  ...  decepcionei filme final pareceu meio forçado d...\n",
              "\n",
              "[3 rows x 5 columns]"
            ]
          },
          "metadata": {
            "tags": []
          },
          "execution_count": 5
        }
      ]
    },
    {
      "cell_type": "code",
      "metadata": {
        "colab": {
          "base_uri": "https://localhost:8080/"
        },
        "id": "o9E97tXaP1TD",
        "outputId": "19764a11-0e69-4f9e-e4b1-840d60cc7e9d"
      },
      "source": [
        "# quatro registros ficaram com text_clean vazio pois continham somente emojis, portanto, serão excluídos\r\n",
        "df_limpo[df_limpo.text_clean.isnull()]\r\n",
        "\r\n",
        "# deletando os registros nulos\r\n",
        "qtde_anterior_nulos = df_limpo.shape[0]\r\n",
        "df_limpo.dropna(subset=['text_clean'], inplace = True)\r\n",
        "qtde_pos_exclusao_nulos = df_limpo.shape[0]\r\n",
        "\r\n",
        "print (\"Antes:\", qtde_anterior_nulos, 'Depois:', qtde_pos_exclusao_nulos, 'Diferença:', qtde_anterior_nulos-qtde_pos_exclusao_nulos)\r\n",
        "\r\n",
        "# resetando os índices\r\n",
        "df_limpo = df_limpo.reset_index()"
      ],
      "execution_count": 6,
      "outputs": [
        {
          "output_type": "stream",
          "text": [
            "Antes: 12000 Depois: 11971 Diferença: 29\n"
          ],
          "name": "stdout"
        }
      ]
    },
    {
      "cell_type": "markdown",
      "metadata": {
        "id": "-oYWoefmX1an"
      },
      "source": [
        "# 2 - Representação\n",
        "\n",
        "Vimos durante a nossa aula diversas forma de representar um documento de texto. Você vai usar cada uma dessas representações e compará-las. A seguir temos a listagem das representações que devem ser usadas para representar seu texto.\n",
        "\n",
        "a) Representação TF-IDF. Você pode usar tanto o gensim quanto o scikit para montar esta representação, mas lembre-se que é importante fazer o pré-processamento dos textos.\n",
        "\n",
        "b) Representação com o word2vec. O modelo poderá ser o apresentado na aula 03 ou algum outro modelo pré-treinado como os existentes no repositório http://nilc.icmc.usp.br/nilc/index.php/repositorio-de-word-embeddings-do-nilc . Neste caso, cada documento deverá ser representado pelo vetor que resultar da média dos vetores de todas as palavras que o compõem. Em outras palavras, se D é composto pelas palavras w1, w2, …, wn, e seus vetores embeddings são v1, v2, …, vn, então a representação do documento de D será v = (v1 + v2 + … + vn) / n.\n",
        "\n",
        "c) Extração de features do texto. Você deve pensar em ao menos 10 features para extrair do documento e que o possam representar. Aqui vão algumas sugestões: número de palavras, número de verbos, número de conjunções, número de palavras negativas, número de palavras fora do vocabulário, quantidades de entidades do tipo PESSOA, quantidade de entidades do tipo LOCAL, etc. \n",
        "\n",
        "Lembrando que você deve dividir seu conjunto em treino e teste. No TF-IDF, você só pode aplicar o método fit no conjunto de treino. Uma sugestão é dividir 80% do conjunto de dados para treino e 20% para teste. Essa divisão é aleatória, mas você pode usar o método train_test_split para essa divisão. \n",
        "\n"
      ]
    },
    {
      "cell_type": "markdown",
      "metadata": {
        "id": "KOUrbeaM85-M"
      },
      "source": [
        "## Dividindo os dados em treino e teste"
      ]
    },
    {
      "cell_type": "code",
      "metadata": {
        "id": "pLTaOunLPaSi"
      },
      "source": [
        "# Definindo X e y\r\n",
        "y = df_limpo['classificacao']\r\n",
        "X = df_limpo.drop(['classificacao'], axis=1)"
      ],
      "execution_count": 7,
      "outputs": []
    },
    {
      "cell_type": "code",
      "metadata": {
        "id": "Th4iQoxiX1ao"
      },
      "source": [
        "from sklearn.model_selection import train_test_split\n",
        "\n",
        "X_train, X_test, y_train, y_test = train_test_split(X, y, test_size = 0.20 , random_state = 42 )"
      ],
      "execution_count": 8,
      "outputs": []
    },
    {
      "cell_type": "code",
      "metadata": {
        "colab": {
          "base_uri": "https://localhost:8080/"
        },
        "id": "YYuDWhCr2kn7",
        "outputId": "106acfe8-c1e8-46ca-cb47-e004a07190bd"
      },
      "source": [
        "print (\"Qtde de dados de treino: X = {}, y = {} \".format(len(X_train), len(y_train)))\r\n",
        "print (\"Qtde de dados de teste: X = {}, y = {} \".format(len(X_test), len(y_test)))"
      ],
      "execution_count": 9,
      "outputs": [
        {
          "output_type": "stream",
          "text": [
            "Qtde de dados de treino: X = 9576, y = 9576 \n",
            "Qtde de dados de teste: X = 2395, y = 2395 \n"
          ],
          "name": "stdout"
        }
      ]
    },
    {
      "cell_type": "markdown",
      "metadata": {
        "id": "TMW-WQTtX1ap"
      },
      "source": [
        "## Representação TF-IDF"
      ]
    },
    {
      "cell_type": "code",
      "metadata": {
        "colab": {
          "base_uri": "https://localhost:8080/",
          "height": 204
        },
        "id": "UfUNSu8OCKHw",
        "outputId": "02d7c1d3-92ae-4f67-b8df-daca92acd2bb"
      },
      "source": [
        "# criando um dicionário de palavras\r\n",
        "\r\n",
        "# cria um dicionário de palavras\r\n",
        "\r\n",
        "import ast\r\n",
        "\r\n",
        "# cria um dicionário de palavras\r\n",
        "dicionario = corpora.Dictionary() # modulo que lida com dicionario e suas funcionalidades\r\n",
        "def dicionario_palavras(row):\r\n",
        "    new_row = ast.literal_eval(row['text_tokenizado'])\r\n",
        "    bow_corpus = dicionario.doc2bow(new_row, allow_update=True)\r\n",
        "    return bow_corpus\r\n",
        "\r\n",
        "\r\n",
        "from gensim import corpora\r\n",
        "\r\n",
        "# cria um dicionário de palavras\r\n",
        "df_limpo['dicionario'] = df_limpo.apply(dicionario_palavras, axis=1) # chamando a função que cria um dicionário para cada registro\r\n",
        "\r\n",
        "# validando\r\n",
        "df_limpo[['text_clean','dicionario']].head(5)"
      ],
      "execution_count": 10,
      "outputs": [
        {
          "output_type": "execute_result",
          "data": {
            "text/html": [
              "<div>\n",
              "<style scoped>\n",
              "    .dataframe tbody tr th:only-of-type {\n",
              "        vertical-align: middle;\n",
              "    }\n",
              "\n",
              "    .dataframe tbody tr th {\n",
              "        vertical-align: top;\n",
              "    }\n",
              "\n",
              "    .dataframe thead th {\n",
              "        text-align: right;\n",
              "    }\n",
              "</style>\n",
              "<table border=\"1\" class=\"dataframe\">\n",
              "  <thead>\n",
              "    <tr style=\"text-align: right;\">\n",
              "      <th></th>\n",
              "      <th>text_clean</th>\n",
              "      <th>dicionario</th>\n",
              "    </tr>\n",
              "  </thead>\n",
              "  <tbody>\n",
              "    <tr>\n",
              "      <th>0</th>\n",
              "      <td>filme bem interessante porém fiquei entender f...</td>\n",
              "      <td>[(0, 1), (1, 1), (2, 1), (3, 1), (4, 1), (5, 1...</td>\n",
              "    </tr>\n",
              "    <tr>\n",
              "      <th>1</th>\n",
              "      <td>aguento amor tipo filme assisto 20 vezes conti...</td>\n",
              "      <td>[(2, 1), (7, 1), (8, 1), (9, 1), (10, 1), (11,...</td>\n",
              "    </tr>\n",
              "    <tr>\n",
              "      <th>2</th>\n",
              "      <td>decepcionei filme final pareceu meio forçado d...</td>\n",
              "      <td>[(2, 2), (3, 1), (17, 1), (18, 1), (19, 1), (2...</td>\n",
              "    </tr>\n",
              "    <tr>\n",
              "      <th>3</th>\n",
              "      <td>sen duvida nenhumao melhor 007 serie so credit...</td>\n",
              "      <td>[(0, 2), (2, 1), (16, 2), (17, 1), (24, 1), (2...</td>\n",
              "    </tr>\n",
              "    <tr>\n",
              "      <th>4</th>\n",
              "      <td>filminho tosco dei estrela meia fotografia</td>\n",
              "      <td>[(73, 1), (74, 1), (75, 1), (76, 1), (77, 1), ...</td>\n",
              "    </tr>\n",
              "  </tbody>\n",
              "</table>\n",
              "</div>"
            ],
            "text/plain": [
              "                                          text_clean                                         dicionario\n",
              "0  filme bem interessante porém fiquei entender f...  [(0, 1), (1, 1), (2, 1), (3, 1), (4, 1), (5, 1...\n",
              "1  aguento amor tipo filme assisto 20 vezes conti...  [(2, 1), (7, 1), (8, 1), (9, 1), (10, 1), (11,...\n",
              "2  decepcionei filme final pareceu meio forçado d...  [(2, 2), (3, 1), (17, 1), (18, 1), (19, 1), (2...\n",
              "3  sen duvida nenhumao melhor 007 serie so credit...  [(0, 2), (2, 1), (16, 2), (17, 1), (24, 1), (2...\n",
              "4         filminho tosco dei estrela meia fotografia  [(73, 1), (74, 1), (75, 1), (76, 1), (77, 1), ..."
            ]
          },
          "metadata": {
            "tags": []
          },
          "execution_count": 10
        }
      ]
    },
    {
      "cell_type": "code",
      "metadata": {
        "colab": {
          "base_uri": "https://localhost:8080/"
        },
        "id": "WCk149aREESg",
        "outputId": "a194cfd0-6378-4b32-aa14-a1f67c19e605"
      },
      "source": [
        "# Visualizando as palavras do dicionário\r\n",
        "id_corpus = [(dicionario[id_palavra],cont) for id_palavra,cont in df_limpo['dicionario'][0]]\r\n",
        "print(id_corpus)"
      ],
      "execution_count": 11,
      "outputs": [
        {
          "output_type": "stream",
          "text": [
            "[('bem', 1), ('entender', 1), ('filme', 1), ('final', 1), ('fiquei', 1), ('interessante', 1), ('porém', 1)]\n"
          ],
          "name": "stdout"
        }
      ]
    },
    {
      "cell_type": "code",
      "metadata": {
        "id": "xASWQ3LY88V8"
      },
      "source": [
        "# computa para cada termo, a fórmula tf-idf\r\n",
        "model = TfidfModel(df_limpo['dicionario'])"
      ],
      "execution_count": 12,
      "outputs": []
    },
    {
      "cell_type": "code",
      "metadata": {
        "colab": {
          "base_uri": "https://localhost:8080/",
          "height": 80
        },
        "id": "kgXUzaysFveh",
        "outputId": "b008f561-3d9a-403f-819f-4d0389d3f91b"
      },
      "source": [
        "# vamos ver a representação de um dos filmes\r\n",
        "df_limpo[['text_clean','dicionario']][230:231] "
      ],
      "execution_count": 13,
      "outputs": [
        {
          "output_type": "execute_result",
          "data": {
            "text/html": [
              "<div>\n",
              "<style scoped>\n",
              "    .dataframe tbody tr th:only-of-type {\n",
              "        vertical-align: middle;\n",
              "    }\n",
              "\n",
              "    .dataframe tbody tr th {\n",
              "        vertical-align: top;\n",
              "    }\n",
              "\n",
              "    .dataframe thead th {\n",
              "        text-align: right;\n",
              "    }\n",
              "</style>\n",
              "<table border=\"1\" class=\"dataframe\">\n",
              "  <thead>\n",
              "    <tr style=\"text-align: right;\">\n",
              "      <th></th>\n",
              "      <th>text_clean</th>\n",
              "      <th>dicionario</th>\n",
              "    </tr>\n",
              "  </thead>\n",
              "  <tbody>\n",
              "    <tr>\n",
              "      <th>230</th>\n",
              "      <td>meio inspiradinho megera domada shakespeare pe...</td>\n",
              "      <td>[(17, 1), (21, 1), (541, 1), (748, 1), (1884, ...</td>\n",
              "    </tr>\n",
              "  </tbody>\n",
              "</table>\n",
              "</div>"
            ],
            "text/plain": [
              "                                            text_clean                                         dicionario\n",
              "230  meio inspiradinho megera domada shakespeare pe...  [(17, 1), (21, 1), (541, 1), (748, 1), (1884, ..."
            ]
          },
          "metadata": {
            "tags": []
          },
          "execution_count": 13
        }
      ]
    },
    {
      "cell_type": "code",
      "metadata": {
        "colab": {
          "base_uri": "https://localhost:8080/"
        },
        "id": "oWsQj9r8FiFR",
        "outputId": "8f49919b-8e06-4eea-ec83-9511b821f6f0"
      },
      "source": [
        "# vamos ver a representação de um dos filmes\r\n",
        "model[df_limpo['dicionario'][230]] "
      ],
      "execution_count": 14,
      "outputs": [
        {
          "output_type": "execute_result",
          "data": {
            "text/plain": [
              "[(17, 0.18877738676079886),\n",
              " (21, 0.22134717088985148),\n",
              " (541, 0.3375850764378942),\n",
              " (748, 0.27022551470716666),\n",
              " (1884, 0.3591444485223504),\n",
              " (1885, 0.5889019464507257),\n",
              " (1886, 0.35157935549771785),\n",
              " (1887, 0.3591444485223504)]"
            ]
          },
          "metadata": {
            "tags": []
          },
          "execution_count": 14
        }
      ]
    },
    {
      "cell_type": "markdown",
      "metadata": {
        "id": "jXzvBElpX1as"
      },
      "source": [
        "## Representação WORD2VEC"
      ]
    },
    {
      "cell_type": "code",
      "metadata": {
        "id": "sttyth1FHZK0"
      },
      "source": [
        "import gensim\r\n",
        "from nltk import sent_tokenize # converte o texto para sentenças"
      ],
      "execution_count": 15,
      "outputs": []
    },
    {
      "cell_type": "code",
      "metadata": {
        "id": "PtDvXUvUIrPa"
      },
      "source": [
        "# carregando modelo pré-treinado\r\n",
        "model_word2vec = gensim.models.doc2vec.Doc2Vec(vector_size=50, min_count=2, epochs=5)"
      ],
      "execution_count": 16,
      "outputs": []
    },
    {
      "cell_type": "code",
      "metadata": {
        "id": "OIA9IZ_IWSix",
        "colab": {
          "base_uri": "https://localhost:8080/",
          "height": 419
        },
        "outputId": "da74e699-d4d7-4676-811f-0df3c60352e4"
      },
      "source": [
        "corpus_filmes = []\r\n",
        "for row in df_limpo.itertuples():\r\n",
        "  #print (row.text)\r\n",
        "  for sentence in row.text.split('.'):\r\n",
        "    if sentence != '':\r\n",
        "      corpus_filmes.append((row[1], sentence))\r\n",
        "new_df = pd.DataFrame(corpus_filmes, columns=['ID', 'SENTENCE'])\r\n",
        "new_df"
      ],
      "execution_count": 17,
      "outputs": [
        {
          "output_type": "execute_result",
          "data": {
            "text/html": [
              "<div>\n",
              "<style scoped>\n",
              "    .dataframe tbody tr th:only-of-type {\n",
              "        vertical-align: middle;\n",
              "    }\n",
              "\n",
              "    .dataframe tbody tr th {\n",
              "        vertical-align: top;\n",
              "    }\n",
              "\n",
              "    .dataframe thead th {\n",
              "        text-align: right;\n",
              "    }\n",
              "</style>\n",
              "<table border=\"1\" class=\"dataframe\">\n",
              "  <thead>\n",
              "    <tr style=\"text-align: right;\">\n",
              "      <th></th>\n",
              "      <th>ID</th>\n",
              "      <th>SENTENCE</th>\n",
              "    </tr>\n",
              "  </thead>\n",
              "  <tbody>\n",
              "    <tr>\n",
              "      <th>0</th>\n",
              "      <td>0</td>\n",
              "      <td>Filme bem interessante, porém fiquei sem enten...</td>\n",
              "    </tr>\n",
              "    <tr>\n",
              "      <th>1</th>\n",
              "      <td>1</td>\n",
              "      <td>não aguento meu amor por esse tipo de filme, a...</td>\n",
              "    </tr>\n",
              "    <tr>\n",
              "      <th>2</th>\n",
              "      <td>2</td>\n",
              "      <td>me decepcionei com o filme</td>\n",
              "    </tr>\n",
              "    <tr>\n",
              "      <th>3</th>\n",
              "      <td>2</td>\n",
              "      <td>o final me pareceu meio forçado demais</td>\n",
              "    </tr>\n",
              "    <tr>\n",
              "      <th>4</th>\n",
              "      <td>2</td>\n",
              "      <td>não é um filme que eu recomendaria para assistir</td>\n",
              "    </tr>\n",
              "    <tr>\n",
              "      <th>...</th>\n",
              "      <td>...</td>\n",
              "      <td>...</td>\n",
              "    </tr>\n",
              "    <tr>\n",
              "      <th>29844</th>\n",
              "      <td>11996</td>\n",
              "      <td>Esse final deu MUITA nostalgia!</td>\n",
              "    </tr>\n",
              "    <tr>\n",
              "      <th>29845</th>\n",
              "      <td>11997</td>\n",
              "      <td>Javier Bardem está de parabéns pela atuação</td>\n",
              "    </tr>\n",
              "    <tr>\n",
              "      <th>29846</th>\n",
              "      <td>11998</td>\n",
              "      <td>wtf? esse Tom Six deve ser muito errado da cab...</td>\n",
              "    </tr>\n",
              "    <tr>\n",
              "      <th>29847</th>\n",
              "      <td>11998</td>\n",
              "      <td>n o j e n t o</td>\n",
              "    </tr>\n",
              "    <tr>\n",
              "      <th>29848</th>\n",
              "      <td>11999</td>\n",
              "      <td>Belíssimo filme, com ótimas atuações e, infeli...</td>\n",
              "    </tr>\n",
              "  </tbody>\n",
              "</table>\n",
              "<p>29849 rows × 2 columns</p>\n",
              "</div>"
            ],
            "text/plain": [
              "          ID                                           SENTENCE\n",
              "0          0  Filme bem interessante, porém fiquei sem enten...\n",
              "1          1  não aguento meu amor por esse tipo de filme, a...\n",
              "2          2                        me decepcionei com o filme \n",
              "3          2            o final me pareceu meio forçado demais \n",
              "4          2  não é um filme que eu recomendaria para assistir \n",
              "...      ...                                                ...\n",
              "29844  11996                    Esse final deu MUITA nostalgia!\n",
              "29845  11997        Javier Bardem está de parabéns pela atuação\n",
              "29846  11998  wtf? esse Tom Six deve ser muito errado da cab...\n",
              "29847  11998                                      n o j e n t o\n",
              "29848  11999  Belíssimo filme, com ótimas atuações e, infeli...\n",
              "\n",
              "[29849 rows x 2 columns]"
            ]
          },
          "metadata": {
            "tags": []
          },
          "execution_count": 17
        }
      ]
    },
    {
      "cell_type": "code",
      "metadata": {
        "colab": {
          "base_uri": "https://localhost:8080/",
          "height": 374
        },
        "id": "hvQ3aQdEUJBA",
        "outputId": "a0bcecb4-7cb9-40dd-9777-890b29e4e1a9"
      },
      "source": [
        "\r\n",
        "# contrucao do vocabulario do modelo a partir das sentenças do nosso corpus, \r\n",
        "# neste caso temos a representação dos documentos\r\n",
        "model_word2vec.build_vocab(new_df.SENTENCE)\r\n",
        "\r\n",
        "for row in df_limpo.itertuples():\r\n",
        "  #print (row.text)\r\n",
        "  for sentence in row.text.split('.'):\r\n",
        "    if sentence != '':\r\n",
        "      sentences.append((row[1], sentence))\r\n",
        "\r\n",
        "\r\n"
      ],
      "execution_count": 19,
      "outputs": [
        {
          "output_type": "error",
          "ename": "AttributeError",
          "evalue": "ignored",
          "traceback": [
            "\u001b[0;31m---------------------------------------------------------------------------\u001b[0m",
            "\u001b[0;31mAttributeError\u001b[0m                            Traceback (most recent call last)",
            "\u001b[0;32m<ipython-input-19-a50de9d5e528>\u001b[0m in \u001b[0;36m<module>\u001b[0;34m()\u001b[0m\n\u001b[1;32m      2\u001b[0m \u001b[0;31m# contrucao do vocabulario do modelo a partir das sentenças do nosso corpus,\u001b[0m\u001b[0;34m\u001b[0m\u001b[0;34m\u001b[0m\u001b[0;34m\u001b[0m\u001b[0m\n\u001b[1;32m      3\u001b[0m \u001b[0;31m# neste caso temos a representação dos documentos\u001b[0m\u001b[0;34m\u001b[0m\u001b[0;34m\u001b[0m\u001b[0;34m\u001b[0m\u001b[0m\n\u001b[0;32m----> 4\u001b[0;31m \u001b[0mmodel_word2vec\u001b[0m\u001b[0;34m.\u001b[0m\u001b[0mbuild_vocab\u001b[0m\u001b[0;34m(\u001b[0m\u001b[0mnew_df\u001b[0m\u001b[0;34m.\u001b[0m\u001b[0mSENTENCE\u001b[0m\u001b[0;34m)\u001b[0m\u001b[0;34m\u001b[0m\u001b[0;34m\u001b[0m\u001b[0m\n\u001b[0m\u001b[1;32m      5\u001b[0m \u001b[0;34m\u001b[0m\u001b[0m\n\u001b[1;32m      6\u001b[0m \u001b[0;32mfor\u001b[0m \u001b[0mrow\u001b[0m \u001b[0;32min\u001b[0m \u001b[0mdf_limpo\u001b[0m\u001b[0;34m.\u001b[0m\u001b[0mitertuples\u001b[0m\u001b[0;34m(\u001b[0m\u001b[0;34m)\u001b[0m\u001b[0;34m:\u001b[0m\u001b[0;34m\u001b[0m\u001b[0;34m\u001b[0m\u001b[0m\n",
            "\u001b[0;32m/usr/local/lib/python3.6/dist-packages/gensim/models/doc2vec.py\u001b[0m in \u001b[0;36mbuild_vocab\u001b[0;34m(self, documents, corpus_file, update, progress_per, keep_raw_vocab, trim_rule, **kwargs)\u001b[0m\n\u001b[1;32m   1160\u001b[0m         total_words, corpus_count = self.vocabulary.scan_vocab(\n\u001b[1;32m   1161\u001b[0m             \u001b[0mdocuments\u001b[0m\u001b[0;34m=\u001b[0m\u001b[0mdocuments\u001b[0m\u001b[0;34m,\u001b[0m \u001b[0mcorpus_file\u001b[0m\u001b[0;34m=\u001b[0m\u001b[0mcorpus_file\u001b[0m\u001b[0;34m,\u001b[0m \u001b[0mdocvecs\u001b[0m\u001b[0;34m=\u001b[0m\u001b[0mself\u001b[0m\u001b[0;34m.\u001b[0m\u001b[0mdocvecs\u001b[0m\u001b[0;34m,\u001b[0m\u001b[0;34m\u001b[0m\u001b[0;34m\u001b[0m\u001b[0m\n\u001b[0;32m-> 1162\u001b[0;31m             \u001b[0mprogress_per\u001b[0m\u001b[0;34m=\u001b[0m\u001b[0mprogress_per\u001b[0m\u001b[0;34m,\u001b[0m \u001b[0mtrim_rule\u001b[0m\u001b[0;34m=\u001b[0m\u001b[0mtrim_rule\u001b[0m\u001b[0;34m\u001b[0m\u001b[0;34m\u001b[0m\u001b[0m\n\u001b[0m\u001b[1;32m   1163\u001b[0m         )\n\u001b[1;32m   1164\u001b[0m         \u001b[0mself\u001b[0m\u001b[0;34m.\u001b[0m\u001b[0mcorpus_count\u001b[0m \u001b[0;34m=\u001b[0m \u001b[0mcorpus_count\u001b[0m\u001b[0;34m\u001b[0m\u001b[0;34m\u001b[0m\u001b[0m\n",
            "\u001b[0;32m/usr/local/lib/python3.6/dist-packages/gensim/models/doc2vec.py\u001b[0m in \u001b[0;36mscan_vocab\u001b[0;34m(self, documents, corpus_file, docvecs, progress_per, trim_rule)\u001b[0m\n\u001b[1;32m   1357\u001b[0m             \u001b[0mdocuments\u001b[0m \u001b[0;34m=\u001b[0m \u001b[0mTaggedLineDocument\u001b[0m\u001b[0;34m(\u001b[0m\u001b[0mcorpus_file\u001b[0m\u001b[0;34m)\u001b[0m\u001b[0;34m\u001b[0m\u001b[0;34m\u001b[0m\u001b[0m\n\u001b[1;32m   1358\u001b[0m \u001b[0;34m\u001b[0m\u001b[0m\n\u001b[0;32m-> 1359\u001b[0;31m         \u001b[0mtotal_words\u001b[0m\u001b[0;34m,\u001b[0m \u001b[0mcorpus_count\u001b[0m \u001b[0;34m=\u001b[0m \u001b[0mself\u001b[0m\u001b[0;34m.\u001b[0m\u001b[0m_scan_vocab\u001b[0m\u001b[0;34m(\u001b[0m\u001b[0mdocuments\u001b[0m\u001b[0;34m,\u001b[0m \u001b[0mdocvecs\u001b[0m\u001b[0;34m,\u001b[0m \u001b[0mprogress_per\u001b[0m\u001b[0;34m,\u001b[0m \u001b[0mtrim_rule\u001b[0m\u001b[0;34m)\u001b[0m\u001b[0;34m\u001b[0m\u001b[0;34m\u001b[0m\u001b[0m\n\u001b[0m\u001b[1;32m   1360\u001b[0m \u001b[0;34m\u001b[0m\u001b[0m\n\u001b[1;32m   1361\u001b[0m         logger.info(\n",
            "\u001b[0;32m/usr/local/lib/python3.6/dist-packages/gensim/models/doc2vec.py\u001b[0m in \u001b[0;36m_scan_vocab\u001b[0;34m(self, documents, docvecs, progress_per, trim_rule)\u001b[0m\n\u001b[1;32m   1286\u001b[0m         \u001b[0;32mfor\u001b[0m \u001b[0mdocument_no\u001b[0m\u001b[0;34m,\u001b[0m \u001b[0mdocument\u001b[0m \u001b[0;32min\u001b[0m \u001b[0menumerate\u001b[0m\u001b[0;34m(\u001b[0m\u001b[0mdocuments\u001b[0m\u001b[0;34m)\u001b[0m\u001b[0;34m:\u001b[0m\u001b[0;34m\u001b[0m\u001b[0;34m\u001b[0m\u001b[0m\n\u001b[1;32m   1287\u001b[0m             \u001b[0;32mif\u001b[0m \u001b[0;32mnot\u001b[0m \u001b[0mchecked_string_types\u001b[0m\u001b[0;34m:\u001b[0m\u001b[0;34m\u001b[0m\u001b[0;34m\u001b[0m\u001b[0m\n\u001b[0;32m-> 1288\u001b[0;31m                 \u001b[0;32mif\u001b[0m \u001b[0misinstance\u001b[0m\u001b[0;34m(\u001b[0m\u001b[0mdocument\u001b[0m\u001b[0;34m.\u001b[0m\u001b[0mwords\u001b[0m\u001b[0;34m,\u001b[0m \u001b[0mstring_types\u001b[0m\u001b[0;34m)\u001b[0m\u001b[0;34m:\u001b[0m\u001b[0;34m\u001b[0m\u001b[0;34m\u001b[0m\u001b[0m\n\u001b[0m\u001b[1;32m   1289\u001b[0m                     logger.warning(\n\u001b[1;32m   1290\u001b[0m                         \u001b[0;34m\"Each 'words' should be a list of words (usually unicode strings). \"\u001b[0m\u001b[0;34m\u001b[0m\u001b[0;34m\u001b[0m\u001b[0m\n",
            "\u001b[0;31mAttributeError\u001b[0m: 'str' object has no attribute 'words'"
          ]
        }
      ]
    },
    {
      "cell_type": "code",
      "metadata": {
        "id": "9KcwC7yuZfiF"
      },
      "source": [
        "\r\n",
        "# tentativa 1\r\n",
        "\r\n",
        "stp_words = nltk.corpus.stopwords.words('portuguese')\r\n",
        "\r\n",
        "features = []\r\n",
        "for idx, text in enumerate(new_df['SENTENCE']):\r\n",
        "  tok_lst = nltk.word_tokenize(text)\r\n",
        "  print (tok_lst)\r\n",
        "  tok_lst = [tok for tok in tok_lst if tok not in stp_words and len(tok) > 1]\r\n",
        "\r\n",
        "  ntok = 0\r\n",
        "  doc = np.zeros((300, ))\r\n",
        "\r\n",
        "  for tok in tok_lst:\r\n",
        "    print (tok)\r\n",
        "    if tok in model_word2vec:\r\n",
        "      doc = np.add(doc, model_word2vec[tok])\r\n",
        "      ntok += 1\r\n",
        "  features.append(doc/ntok)\r\n",
        "\r\n",
        "features = np.array(features)\r\n",
        "features[np.isnan(features)] = 0\r\n"
      ],
      "execution_count": null,
      "outputs": []
    },
    {
      "cell_type": "markdown",
      "metadata": {
        "id": "8qFSa1WPX1au"
      },
      "source": [
        "## Representação EXTRAÇÃO DE FEATURES"
      ]
    },
    {
      "cell_type": "markdown",
      "metadata": {
        "id": "oOPBCPE1m-i7"
      },
      "source": [
        "### Identificando qtde de verbos, adjetivos, pronomes e adverbios"
      ]
    },
    {
      "cell_type": "code",
      "metadata": {
        "id": "CllwaM6melTn",
        "colab": {
          "base_uri": "https://localhost:8080/"
        },
        "outputId": "1568dc29-2e3e-4283-de1d-ebc8813b9b45"
      },
      "source": [
        "import spacy\r\n",
        "\r\n",
        "model = spacy.load('pt')\r\n",
        "model_docs = []\r\n",
        "class_features = {'VERB':[],'ADJ':[],'NOUN':[],'ADV':[]}\r\n",
        "\r\n",
        "for idx, text in enumerate(X_train['text_clean']):\r\n",
        "  model_docs.append(model(text))\r\n",
        "\r\n",
        "for doc in model_docs:  \r\n",
        "    verb, adj, noun, adv = 0, 0, 0, 0\r\n",
        "    num_palavras = len(doc)\r\n",
        "    \r\n",
        "    for tok in doc:\r\n",
        "        if tok.pos_ == 'VERB':\r\n",
        "            verb += 1\r\n",
        "        if tok.pos_ == 'ADJ':\r\n",
        "            adj += 1\r\n",
        "        if tok.pos_ == 'NOUN':\r\n",
        "            noun += 1\r\n",
        "        if tok.pos_ == 'ADV':\r\n",
        "            adv += 1\r\n",
        "\r\n",
        "    class_features['VERB'].append(verb/num_palavras)\r\n",
        "    class_features['ADJ'].append(adj/num_palavras)\r\n",
        "    class_features['NOUN'].append(noun/num_palavras)\r\n",
        "    class_features['ADV'].append(adv/num_palavras)\r\n",
        "\r\n",
        "print(pd.DataFrame(class_features))"
      ],
      "execution_count": 21,
      "outputs": [
        {
          "output_type": "stream",
          "text": [
            "          VERB       ADJ      NOUN       ADV\n",
            "0     0.250000  0.000000  0.150000  0.200000\n",
            "1     0.000000  0.142857  0.000000  0.000000\n",
            "2     1.000000  0.000000  0.000000  0.000000\n",
            "3     0.300000  0.000000  0.200000  0.100000\n",
            "4     0.200000  0.200000  0.200000  0.000000\n",
            "...        ...       ...       ...       ...\n",
            "9571  0.200000  0.200000  0.400000  0.000000\n",
            "9572  0.275000  0.075000  0.325000  0.025000\n",
            "9573  0.142857  0.285714  0.285714  0.285714\n",
            "9574  0.500000  0.200000  0.100000  0.000000\n",
            "9575  0.223140  0.173554  0.231405  0.066116\n",
            "\n",
            "[9576 rows x 4 columns]\n"
          ],
          "name": "stdout"
        }
      ]
    },
    {
      "cell_type": "markdown",
      "metadata": {
        "id": "cH5Qwo-4AWGx"
      },
      "source": [
        "### Coletar emoções no texto (lexicos do emotaix)"
      ]
    },
    {
      "cell_type": "code",
      "metadata": {
        "id": "-VSsOG5vfYE4",
        "colab": {
          "base_uri": "https://localhost:8080/"
        },
        "outputId": "2fede598-2007-4626-808b-b6af700cb2a5"
      },
      "source": [
        "# estou coletando apenas de 'Super category' (terceira coluna)\r\n",
        "dicionario_emotaix = {'ÓDIO':[],'AGRESSIVIDADE':[],'AFEIÇÃO':[],'GENTILEZA':[]}\r\n",
        "fd_emotaix = open('/content/drive/MyDrive/Colab Notebooks/NLP/trabalho/dados/Emotaix-pt .csv','r')\r\n",
        "header = fd_emotaix.readline()\r\n",
        "\r\n",
        "for line in fd_emotaix:\r\n",
        "    entry = line.replace('\\n','').split(\",\")\r\n",
        "    if entry[2] in dicionario_emotaix:\r\n",
        "        dicionario_emotaix[entry[2]].append(entry[0])\r\n",
        "print(\"Visualizando o dicionários de emoções. \\n\",dicionario_emotaix)\r\n",
        "\r\n",
        "emotaix_features = {'ÓDIO':[],'AGRESSIVIDADE':[],'AFEIÇÃO':[],'GENTILEZA':[]}\r\n",
        "\r\n",
        "for doc in model_docs:\r\n",
        "    odio = 0\r\n",
        "    agressividade = 0\r\n",
        "    afeicao = 0\r\n",
        "    gentileza = 0\r\n",
        "    for tok in doc:\r\n",
        "        if tok.text in dicionario_emotaix['ÓDIO']:\r\n",
        "            odio += 1\r\n",
        "        if tok.text in dicionario_emotaix['AGRESSIVIDADE']:\r\n",
        "            agressividade += 1\r\n",
        "        if tok.text in dicionario_emotaix['AFEIÇÃO']:\r\n",
        "            afeicao += 1\r\n",
        "        if tok.text in dicionario_emotaix['GENTILEZA']:\r\n",
        "            gentileza += 1\r\n",
        "            \r\n",
        "    emotaix_features['ÓDIO'].append(odio / len(doc))\r\n",
        "    emotaix_features['AGRESSIVIDADE'].append(agressividade / len(doc))\r\n",
        "    emotaix_features['AFEIÇÃO'].append(afeicao / len(doc))\r\n",
        "    emotaix_features['GENTILEZA'].append(gentileza / len(doc))\r\n",
        "\r\n",
        "print(pd.DataFrame(emotaix_features))"
      ],
      "execution_count": 22,
      "outputs": [
        {
          "output_type": "stream",
          "text": [
            "Visualizando o dicionários de emoções. \n",
            " {'ÓDIO': ['animosidade', 'antipatia', 'antipático', 'antipatizar', 'charlatão', 'ciúme', 'ciumento', 'desunião', 'desunir', 'detestação', 'detestar', 'detestável', 'embusteiro', 'enciumar', 'execração', 'execrar', 'execrável', 'falsário', 'falsidade', 'falsidão', 'falsificação', 'falsificador', 'falsificar', 'falso', 'hipocrisia', 'hipócrita', 'hipocritamente', 'hostil ', 'hostilidade', 'hostilizar', 'hostilmente', 'impostor', 'impostura', 'imposturar', 'imposturice', 'infidelidade', 'infiel', 'ingratamente ', 'ingratidão ', 'ingrato', 'inimigo', 'inimizade', 'insídia', 'insidiosamente', 'intrujão', 'intrujar', 'intrujice', 'mágoa', 'magoado', 'magoar', 'mal-agradecido', 'mal-amada', 'mal-amado', 'mal-encarado', 'mentir', 'mentira', 'mentiroso', 'mesquinhez', 'mesquinheza', 'mesquinho', 'odiar', 'odiento', 'ódio', 'odiosamente', 'odioso', 'preconceito', 'racismo ', 'racista ', 'rancor', 'rancorosamente', 'rancoroso', 'ressentida', 'ressentido', 'ressentimento', 'ressentir', 'rival', 'rivalidade', 'rivalizar', 'traição', 'traiçoeiramente', 'traiçoeiro', 'traidor', 'trair', 'vigarice', 'vigário', 'vigarista', 'vigarizar', 'vingador', 'vingança', 'vingar', 'vingativo', 'xenofobia', 'xenófobo', 'asco', 'ascorosidade', 'ascoroso', 'aversão ', 'badalhocar', 'baixeza', 'conspurcação', 'conspurcar', 'desconsolação', 'desconsolar', 'desconsolo', 'descontentamento', 'descontentar', 'descontente', 'desgostar', 'desgosto', 'desgostoso', 'desprazer', 'ignóbil ', 'ignobilidade', 'impureza', 'impuro', 'imundíce ', 'imundo ', 'javardo', 'lixeira', 'lixo', 'moléstia', 'nojento', 'nojo', 'obscenidade', 'obsceno', 'porcaria', 'refugar', 'refugo ', 'repelir', 'repugnância', 'repugnante', 'repugnar', 'repulsa', 'repulsivo', 'sujar', 'sujeira', 'sujidade', 'sujo ', 'vil', 'vilania', 'vilão', 'vileza', 'abandalhação', 'abandalhado', 'abandalhamento', 'abandalhar', 'abominação', 'absolutista', 'admoestação', 'admoestar', 'advertência', 'advertir', 'afastado', 'afastamento', 'afastar', 'amor próprio ', 'arrogância', 'arrogante', 'autoridade', 'autoritário', 'canceroso', 'castigar', 'castigo', 'censura', 'censurado', 'censurar', 'chacota', 'cínico', 'cinismo', 'crítica', 'criticar', 'depreciação', 'depreciar', 'descasca', 'descascar', 'descompor', 'descompostura', 'desconceituar', 'desconsideração', 'desconsiderar', 'descorado', 'descorar', 'desdém', 'desdenhar', 'desdenhável', 'desdenhoso', 'deseducar', 'deseducativo', 'despótico', 'desprezador', 'desprezar', 'desprezível', 'desprezivelmente', 'desprezo', 'desrespeitar', 'desrespeito', 'desvalorização', 'desvalorizar', 'difamar ', 'egoísmo ', 'egoísta ', 'egolatria', 'egotismo', 'elitismo', 'elitista', 'embuste', 'enganador', 'enganar', 'engano', 'enganoso', 'engazupar', 'engodo', 'enjeitado', 'enjeitar', 'enojar', 'enojo', 'ensoberbecer', 'escarnecer', 'escárnio', 'escória', 'esgar', 'esquecer', 'esquecido', 'esquecimento', 'excomungar', 'excomunhão', 'expulsão', 'expulsar', 'expulso', 'fustigação', 'fustigar', 'gentalha', 'gentinha', 'ignóbil', 'ignobilmente', 'ignorado', 'ignorância', 'ignorante', 'ignorar', 'ignoto', 'imperial', 'imperialmente', 'imperiosamente', 'imperioso', 'imprestável', 'inaceitável', 'inadmissível', 'inconsideração', 'indiferença', 'indiferente', 'interesseiro', 'inútil', 'inutilidade', 'ironia', 'ironicamente', 'irónico', 'irrepreensível', 'irrepreensivelmente', 'irreverência', 'irreverenciosamente', 'irreverente', 'irreverentemente', 'irrisão', 'irrisório', 'judiação', 'judiaria', 'lastimável', 'lastimavelmente', 'lastimoso', 'lograr', 'logro', 'ludibriar', 'ludíbrio', 'mandão', 'mandar', 'menosprezar', 'menosprezo', 'miserável', 'miseravelmente', 'mísero', 'mostrengo', 'ostracismo', 'pejorativamente', 'pejorativo', 'petulância', 'petulante', 'pindérico', 'pulha', 'pulhice', 'punição', 'punir', 'punitivo', 'punível', 'recriminação', 'recriminar', 'recriminatório', 'rejeição', 'rejeitar', 'reles', 'renegação', 'renegado', 'renegar', 'repreender', 'repreensão', 'repreensivamente', 'repreensível', 'repreensivelmente', 'represália', 'reprimenda', 'reprovação', 'reprovar', 'repudiar', 'repúdio', 'repulsão', 'ridicularizar', 'sarcasmo', 'sarcasmos', 'sarcástico', 'esnobe', 'esnobe', 'esnobismo', 'trapaça', 'trapacear', 'trapaceiro', 'troça', 'troçar', 'vaiar', 'vão', 'vilipendiar', 'vilipêndio', 'zombar', 'amuado', 'amuar', 'amuo', 'arrepiar', 'assediado', 'assediador', 'assediar', 'assédio', 'carrancudo', 'desbocado', 'desbocar', 'desencantação', 'desencantamento', 'desmesura', 'desprimor', 'desprimorar', 'embirra', 'embirração', 'embirrante', 'embirrar', 'embirrativo', 'embirrento', 'embravecer', 'embravecimento', 'encanzinar', 'encrespado', 'encrespamento', 'encrespar', 'encruado', 'encruamento', 'encruar', 'enervação', 'enervado', 'enervamento', 'enervante', 'enervar', 'escabrosidade', 'escabroso', 'exacerbação', 'exacerbar', 'exageradamente', 'exagerado', 'exagerar', 'exagero', 'exasperação', 'exasperante', 'exasperar', 'frender', 'fruste', 'fulo', 'grosseiro', 'grosseria', 'grotescamente', 'grotesco', 'grunhido', 'grunhir', 'impertinência', 'impertinente', 'implicação', 'implicar', 'importunar', 'importuno', 'impropriamente', 'impróprio', 'inconveniência', 'inconveniente', 'inculto', 'indecência', 'indecente', 'indecorosamente', 'indecoroso', 'inoportuno', 'insistente', 'irritabilidade', 'irritação', 'irritamente', 'irritante', 'irritantemente', 'irritar', 'irritável', 'labrego', 'ladrão', 'ladroagem', 'ladroeira', 'lamecha', 'lapuz', 'larapiar', 'larápio', 'má cara', 'maçador', 'mal-educado', 'malcriado', 'mau humor', 'melga', 'nervos', 'nervosa', 'nervosamente', 'nervosidade', 'nervosismo', 'nervoso', 'oponente', 'opor', 'oportunismo', 'oportuno', 'oposicionista', 'ordinariamente', 'ordinário', 'praguejar', 'rabugento', 'resmungão', 'resmungar', 'resmunguice', 'rezingão', 'rezingar', 'rosnador', 'rosnar', 'rosnido', 'rude', 'rudemente', 'rudez', 'rudeza', 'rugido', 'rugir', 'ruminante', 'ruminar', 'sensitivo', 'sensível', 'sensivelmente', 'suscetibilidade', 'suscetível', 'troglodita', 'zumbido'], 'AGRESSIVIDADE': ['abruptamente', 'abrupto', 'agreste', 'artificial', 'artificialidade', 'artificialismo', 'áspero', 'asquerosidade', 'asqueroso', 'astúcia', 'atrocidade', 'atroz', 'austeridade', 'austero', 'barbaramente', 'barbaridade', 'barbarismo', 'bárbaro', 'besta', 'cruel', 'crueldade', 'descortês', 'descortesia', 'desnaturado', 'desnaturar', 'desonestidade', 'déspota', 'despotismo', 'destruição', 'destruidor', 'destruir', 'destrutiva', 'destrutivo', 'destrutor', 'desumanidade', 'desumano', 'disfaçado', 'disfarçar', 'disfarce', 'dissimulação', 'dissimulado', 'dissimular', 'ditador', 'ditadura', 'esfacelamento', 'esfacelar', 'espancamento', 'espancar', 'espertalhão', 'esperteza', 'exterminação', 'exterminar', 'extermínio', 'extinção', 'extinguir', 'extinto', 'facínora', 'fera', 'ferida', 'ferido', 'ferimento', 'ferir', 'ferocidade', 'feroz', 'ferozmente', 'fingido', 'fingimento', 'fingir', 'frechar', 'frialdade', 'friamente', 'frieza', 'frigidez', 'frígido', 'frigir', 'frio', 'gélido', 'hediondo', 'imoral', 'imoralidade', 'imperfeição', 'imperfeito', 'impiamente', 'impiedade', 'impiedosamente', 'impiedoso', 'ímpio', 'implacabilidade', 'implacável', 'implacavelmente', 'incivilidade', 'incivilmente', 'inclemência ', 'inclemente', 'indelicadeza', 'inexorável', 'lesão', 'lesar', 'lesivo', 'má', 'mal', 'maldade', 'maldosa', 'maldosamente', 'maldoso', 'maleficência', 'malefício', 'maléfico', 'malevolamente', 'malevolência', 'malevolente', 'malévolo', 'malfeitor', 'malícia', 'maliciosamente', 'malicioso', 'malignamente', 'maligno', 'malquerença', 'malvadamente', 'malvadez', 'malvadeza', 'malvado', 'manha', 'manhoso', 'manipulação', 'manipular', 'maquiavélico', 'maquiavelismo', 'maroteira', 'maroto', 'massacrar', 'massacre', 'matador', 'matança', 'matar', 'matreirice', 'matreiro', 'mau', 'megera', 'molesto', 'monstro', 'monstruosamente', 'monstruosidade', 'monstruoso', 'nazi', 'nazismo', 'nefasto', 'nocivamente', 'nocividade', 'nocivo', 'perversamente', 'perverter', 'pessimamente', 'péssimo', 'prejudicar', 'prejudicial', 'prejuízo', 'rigidamente', 'rigidez', 'rígido', 'rigor', 'rigorosamente', 'rigoroso', 'rijeza', 'rijo', 'rispidez', 'rispideza', 'ríspido', 'ronha', 'ruim', 'ruindade', 'ruinosamente', 'ruinoso', 'satanás', 'satânico', 'severidade', 'severo', 'terrorismo', 'terrorista', 'tortuosamente', 'tortuosidade', 'tortuoso', 'tortura', 'torturante', 'torturar', 'usurpação', 'usurpador', 'usurpar', 'veneno', 'venenoso', 'víbora', 'violador', 'violentar', 'abusar', 'abusivo', 'agredir', 'agressão', 'agressivamente', 'agressividade', 'agressivo', 'agressor', 'amaldiçoar', 'ameaça', 'ameaçado', 'ameaçador', 'ameaçar', 'bruscamente', 'brusco', 'brusquidão', 'brutal', 'brutalidade', 'brutalizar', 'brutamontes', 'bruto', 'conflito', 'conflituoso', 'disputa', 'disputador', 'disputar', 'endiabrado', 'endiabrar', 'energúmeno', 'enfurecer', 'enfurecimento', 'enraivar', 'enraivecer', 'enraivecido', 'fúria', 'furibundo', 'furiosamente', 'furioso', 'furor', 'luta', 'lutar', 'maldizente', 'maldizer', 'maltratar ', 'praquejar', 'provocação', 'provocador', 'provocante', 'provocantemente', 'provocar', 'raiva', 'raivosamente', 'raivoso', 'rixa', 'violação', 'violar', 'violência', 'violenta', 'violentamente', 'violento', 'vituperação', 'vituperador', 'vituperar', 'vituperável', 'zangão', 'cólera', 'colérico', 'encolerizar', 'indignação', 'indignado', 'ira', 'iracundo', 'irar', 'irascível', 'rebelde', 'rebeldia', 'rebeldismo', 'rebelião', 'refilão', 'refilar', 'revolta', 'revoltado', 'revoltante', 'revoltar', 'revolto', 'revolução', 'revolucionar', 'revolucionário', 'sublevação', 'sublevar', 'tempestuoso', 'vandalismo', 'vândalo', 'zanga', 'zangado', 'zangar', 'absoluto', 'altivez', 'altivo', 'autólatra', 'autolatria ', 'bazófia', 'egocêntrico', 'egocentrismo', 'egocentrista', 'elação', 'empertigado', 'empertigar', 'enfatuar-se', 'envaidecer', 'envaidecidamente', 'envaidecido', 'envaidecimento', 'fanfar', 'fanfarrão', 'fanfarrear', 'fanfarrice', 'fanfarronar', 'farsola', 'farsolar', 'fatuidade', 'fátuo', 'fausto', 'faustoso', 'gabar', 'gabarola', 'gabarolice', 'imodestamente', 'imodéstia', 'imodesto', 'imponência', 'imponente', 'importância', 'importante', 'intratável', 'jactância', 'jactancioso', 'jactar-se', 'majestade', 'majestosamente', 'majestoso', 'obstinação', 'obstinadamente', 'obstinado', 'obstinar', 'omnipotência', 'omnipotente', 'opulência', 'opulento', 'orgulhar', 'orgulho', 'orgulhosa', 'orgulhosamente', 'orgulhoso', 'ostensivamente', 'ostensivo', 'ostentação', 'ostentar', 'peneirento', 'pertinácia', 'pertinaz', 'pertinência', 'pertinente', 'possessão', 'possessivo', 'possesso', 'possessor', 'prepotência', 'prepotente', 'presunção', 'presunçosamente', 'presunçoso', 'pretensão', 'pretensioso', 'relutância', 'relutante', 'relutar', 'soberanamente', 'soberania', 'soberano', 'soberba', 'soberbamente', 'soberbo', 'superior', 'superioridade', 'superiorizar', 'superiormente', 'supremo', 'teima', 'teimar', 'teimosamente', 'teimosia', 'teimoso', 'tirano', 'vaidade', 'vaidosamente', 'vaidoso'], 'AFEIÇÃO': ['abraçar', 'abraço', 'adoração', 'adorada', 'adorado', 'adorar', 'adorável', 'afectividade', 'afectivo', 'afecto', 'afectuosa', 'afectuosamente', 'afectuosidade', 'afectuoso', 'afeição', 'afeiçoada', 'afeiçoado', 'afeiçoar', 'afinidade', 'agradecer', 'agradecida', 'agradecido', 'agradecimento', 'alcovitar', 'alcoviteira', 'alcoviteiro', 'alcovitice', 'amada', 'amado', 'amante', 'amar', 'amiga', 'amiga', 'amigável', 'amigavelmente', 'amigo', 'amistoso', 'amizade', 'amor', 'amorosamente', 'amoroso', 'apaixonada', 'apaixonada', 'apaixonadamente', 'apaixonado', 'apaixonante', 'apaixonar', 'apego', 'beijar', 'beijinho', 'beijo', 'beijocar', 'beijoqueiro', 'camarada', 'camaradagem', 'carente', 'carinho', 'carinhoso', 'companheiro', 'conveniência', 'conviva', 'conviver', 'coração', 'enamorada', 'enamoradamente', 'enamorado', 'enamorar', 'família', 'familiar', 'familiarmente', 'fidelidade', 'fiel', 'fielmente', 'fraternal', 'fraternalmente', 'fraternidade', 'fraternização', 'fraterno', 'gostar', 'gratidão', 'grato', 'maternal', 'maternalmente', 'materno', 'namorado', 'namorados', 'namorar', 'namoriscar', 'namorisco', 'namoro', 'noiva', 'noivo', 'paixão', 'paixoneta', 'passional', 'piedade', 'piedosamente', 'piedoso', 'platonicamente', 'platonismo', 'preferência', 'preferido ', 'preferir', 'querido ', 'romântico', 'romantismo', 'sensibilidade', 'sensibilização', 'sensibilizada', 'sensibilizado', 'sensibilizar', 'sensível', 'sentimental', 'sentimentalismo', 'sentimentalmente', 'sentimentos', 'simpatia', 'simpática', 'simpático', 'simpatizante', 'simpatizar', 'união', 'unir', 'veneração', 'venerado', 'venerador', 'venerar', 'veracidade', 'verdade', 'xenofilia', 'xenófilo', 'ambição', 'ambicionar', 'ambicioso', 'anseio', 'ânsia', 'ansiar', 'apetência', 'apetite', 'apetitoso', 'aspiração', 'aspirante', 'aspirar', 'avidamente', 'avidez', 'ávido', 'capricho', 'caprichoso', 'cobiça', 'curiosamente', 'curiosidade', 'curioso', 'desejar', 'desejável', 'desejo', 'desejoso', 'desiderato', 'erótico', 'erotismo', 'erotização', 'esperado', 'esperança', 'esperançado', 'esperançar', 'esperançoso', 'esperar ', 'ganância', 'ganancioso', 'inveja', 'invejar', 'invejável', 'invejosamente', 'invejoso', 'predisposto', 'tendência', 'vontade', 'aclamação', 'aclamar', 'admiração', 'admirado', 'admirar', 'admirável', 'admiravelmente', 'adulação', 'adular', 'aplaudir', 'aplauso', 'aprovação', 'aprovar', 'aprovativamente', 'aprovativo', 'atónito', 'bestial', 'bestialidade', 'bestialmente', 'contemplação', 'contemplar', 'encantador', 'encantamento', 'encantos', 'esplêndido', 'esplendor', 'esplendorosamente', 'esplendoroso', 'fabulosamente', 'fabuloso', 'fama', 'fantástico', 'glória', 'glorificação', 'glorificar', 'gloriosamente', 'glorioso', 'herói', 'heroicamente', 'heróico', 'heroína', 'heroísmo', 'idólatra', 'idolatradamente', 'idolatrar', 'idolatria', 'ídolo', 'ilustre', 'lautamente', 'lauto', 'lisonja', 'lisonjeador', 'lisonjear', 'lisonjeiramente', 'lisonjeiro', 'louvar', 'luxo', 'luxuosamente', 'luxuoso', 'luxúria', 'luxuriante', 'magnanimamente', 'magnata', 'magnificamente', 'magnificência', 'magnífico', 'maravilha', 'maravilhada', 'maravilhado', 'maravilhar', 'maravilhosa', 'maravilhosamente', 'maravilhoso', 'milagre', 'milagrosamente', 'milagroso', 'motivação', 'motivar', 'nobre', 'nobremente', 'nobreza', 'predilecção', 'predilecto', 'prestigiante', 'prestigiar', 'prestígio', 'prestigioso', 'privilegiado', 'privilegiar', 'privilégio', 'aprazível', 'atractivo', 'atraente', 'atrair', 'charme ', 'decência', 'deslumbrada', 'deslumbrado', 'deslumbramento', 'deslumbrante', 'deslumbrar', 'encantada', 'encantado', 'encantar', 'encanto', 'excitação', 'excitado', 'excitante', 'excitar', 'excitável', 'fascinação', 'fascinante', 'fascinar', 'fascínio', 'fenomenal', 'fogosidade', 'galar', 'interessado', 'interessante', 'interessar', 'interesse', 'irresistível', 'irresistívelmente', 'lascivamente', 'lascívia', 'lascivo', 'sedução', 'sedutor', 'seduzir', 'sensual', 'sensualidade', 'sensualmente', 'sexual', 'sexualidade', 'sexualmente', 'subjugação', 'subjugar', 'tentação', 'tentador', 'tentar'], 'GENTILEZA': ['acolhedor', 'acolhedor ', 'acolher', 'acolhida', 'acolhimento', 'afabilidade', 'afável', 'afavelmente', 'altruísmo', 'altruísta', 'amabilidade', 'amável', 'amavelmente', 'atencioso', 'beleza', 'benéfico', 'benevolência', 'benevolente', 'benévolo', 'bondade', 'bondoso', 'caridade', 'caridoso', 'clemência ', 'clemente ', 'comiseração', 'compadecer', 'compaixão', 'compassivo', 'complacência', 'complacente', 'comprazer', 'compreensivo', 'cordial', 'cordialidade', 'cordialmente', 'cortês', 'cortesia', 'delicadeza', 'delicado', 'doação', 'doador', 'doar', 'embelezar', 'empatia', 'empático ', 'enternecedor', 'enternecer', 'enternecimento', 'entreajuda', 'entreajudar-se', 'escrupuloso', 'favorável', 'favorecer', 'formidável', 'formidavelmente', 'galante', 'galanteador', 'galantear', 'galanteio', 'generosidade', 'generoso', 'gentil', 'gentileza', 'gentilmente', 'humanitário', 'humanitarismo', 'impecabilidade', 'impecável', 'impecavelmente', 'ingenuidade', 'ingénuo', 'lamechas', 'magnanimente', 'magnanimidade', 'magnânimo', 'misericórdia', 'misericordiosamente', 'misericordioso', 'perfeccionismo', 'perfeccionista', 'perfeição', 'perfeitamente', 'perfeito', 'piegas', 'pieguice', 'porreiro', 'prestável', 'provocar dó', 'pueril', 'puerilidade', 'sacrificar', 'sacrifício', 'sem-malícia', 'sociável ', 'acarinhar', 'aconchegar', 'amenidade', 'angelical', 'angélico', 'caloroso', 'carícia', 'desculpa', 'desculpar', 'desenraivar', 'desenraivecer', 'dócil', 'docilidade', 'docilmente', 'fofo', 'indulgência', 'indulgente', 'indulgentemente', 'mansidão', 'meigamente', 'meigo', 'meiguice', 'mimar', 'mimo', 'mimos', 'mimoso', 'pequerrucho', 'perdão', 'perdoar', 'perdoável', 'suave', 'suavemente', 'suavidade', 'suavizar', 'ternamente', 'terno', 'ternura', 'conformação', 'conformado', 'conformar', 'esperar', 'longânime', 'longanimidade', 'pachorra', 'pachorrentamente', 'pachorrento', 'paciência', 'paciente', 'pacientemente', 'permissão', 'permissivamente', 'permissividade', 'permissivo', 'permitir', 'perseverança', 'perseverante', 'perseverantemente', 'perseverar', 'persistência', 'persistente', 'persistentemente', 'persistir', 'resignação', 'resignadamente', 'resignado', 'resignar', 'resistência', 'resistente', 'resistir', 'suportar', 'tolerância', 'tolerante', 'tolerar', 'tolerável', 'brio', 'briosa', 'brioso', 'caráter', 'caracterial', 'despretensão', 'despretensiosamente', 'despretensioso', 'discreto', 'discrição', 'humildade', 'humilde', 'humildemente', 'inferior', 'inferioridade', 'inferiorizar', 'modestamente', 'modéstia', 'modesto', 'obedecer', 'obediência', 'obediente', 'princípios', 'pundonor', 'pundonoroso', 'séria', 'seriedade', 'sério', 'simplicidade', 'simplificação', 'simplificar', 'simplista']}\n",
            "          ÓDIO  AGRESSIVIDADE   AFEIÇÃO  GENTILEZA\n",
            "0     0.000000           0.05  0.000000   0.000000\n",
            "1     0.000000           0.00  0.000000   0.000000\n",
            "2     0.000000           0.00  0.000000   0.000000\n",
            "3     0.000000           0.00  0.000000   0.000000\n",
            "4     0.000000           0.00  0.000000   0.000000\n",
            "...        ...            ...       ...        ...\n",
            "9571  0.000000           0.00  0.000000   0.000000\n",
            "9572  0.000000           0.00  0.025000   0.000000\n",
            "9573  0.000000           0.00  0.000000   0.000000\n",
            "9574  0.000000           0.00  0.000000   0.000000\n",
            "9575  0.016529           0.00  0.008264   0.016529\n",
            "\n",
            "[9576 rows x 4 columns]\n"
          ],
          "name": "stdout"
        }
      ]
    },
    {
      "cell_type": "markdown",
      "metadata": {
        "id": "5bTWbKKYAq-U"
      },
      "source": [
        "### Tamanho das senteças"
      ]
    },
    {
      "cell_type": "code",
      "metadata": {
        "id": "PFE88u61_qzb",
        "colab": {
          "base_uri": "https://localhost:8080/"
        },
        "outputId": "799327a9-9f75-4f61-8c0b-159ccc7b5b23"
      },
      "source": [
        "# As primeira features a serem removidas são relacionadas ao \r\n",
        "# tamanho da sentença\r\n",
        "\r\n",
        "stp_words = nltk.corpus.stopwords.words('portuguese')\r\n",
        "\r\n",
        "\r\n",
        "# a partir daí também podemos também pré-processar o texto\r\n",
        "tok_filmes = []\r\n",
        "# vamos armazenar as nossas features como dicionario e podemos transformar facilmente em \r\n",
        "# um dataframe\r\n",
        "sent_features = {'sent3':[],'sent3_5':[],'sent5':[]}\r\n",
        "\r\n",
        "for doc in model_docs:\r\n",
        "    # esses serao os contadores para cada doc\r\n",
        "    sent3 = 0 \r\n",
        "    sent3_5 = 0\r\n",
        "    sent5 = 0\r\n",
        "    \r\n",
        "    tok_doc = []\r\n",
        "    for sent in doc.sents:\r\n",
        "        \r\n",
        "        # desconsiderando stopwords e palavras de tamanho 1\r\n",
        "        tok_lst = [tok for tok in sent if len(tok.text) > 1 and tok.text not in stp_words]\r\n",
        "\r\n",
        "        if len(tok_lst) <= 1:\r\n",
        "            sent3 += 1\r\n",
        "        elif len(tok_lst) > 3 and len(tok_lst) <= 5:\r\n",
        "            sent3_5 += 1\r\n",
        "        else:\r\n",
        "            sent5 += 1\r\n",
        "        tok_doc += tok_lst\r\n",
        "        \r\n",
        "    sent_features['sent3'].append(sent3)\r\n",
        "    sent_features['sent3_5'].append(sent3_5) \r\n",
        "    sent_features['sent5'].append(sent5)\r\n",
        "    \r\n",
        "    tok_filmes.append(tok_doc)   \r\n",
        "\r\n",
        "print(pd.DataFrame(tok_filmes))"
      ],
      "execution_count": 26,
      "outputs": [
        {
          "output_type": "stream",
          "text": [
            "               0          1         2           3    ...   650   651   652   653\n",
            "0          baseado     megera    domada     william  ...  None  None  None  None\n",
            "1            pouco        fim     mundo  crepúsculo  ...  None  None  None  None\n",
            "2     fraquinhoooo       None      None        None  ...  None  None  None  None\n",
            "3        bomdaniel     javier    ótimos       cenas  ...  None  None  None  None\n",
            "4               10    motivos     achar       ótimo  ...  None  None  None  None\n",
            "...            ...        ...       ...         ...  ...   ...   ...   ...   ...\n",
            "9571       maneira  diferente    contar       mesma  ...  None  None  None  None\n",
            "9572         achei      chato    demais       todos  ...  None  None  None  None\n",
            "9573         perdi   precioso     tempo  assistindo  ...  None  None  None  None\n",
            "9574          algo        ser     visto   aprendido  ...  None  None  None  None\n",
            "9575      desculpa      falta  educação         vou  ...  None  None  None  None\n",
            "\n",
            "[9576 rows x 654 columns]\n"
          ],
          "name": "stdout"
        }
      ]
    },
    {
      "cell_type": "markdown",
      "metadata": {
        "id": "40zW9iwBB8J_"
      },
      "source": [
        "### Juntando as novas festures num único dataframe"
      ]
    },
    {
      "cell_type": "code",
      "metadata": {
        "colab": {
          "base_uri": "https://localhost:8080/",
          "height": 340
        },
        "id": "4JLc66-48Hzi",
        "outputId": "b989ff7b-79dd-4ff1-be17-8026aee1f797"
      },
      "source": [
        "# class_features\r\n",
        "# emotaix_features\r\n",
        "# tok_filmes\r\n",
        "teste = pd.DataFrame(columns=['class_features','emotaix_features','tok_filmes'])\r\n",
        "teste['class_features'] = class_features\r\n",
        "teste['emotaix_features'] = emotaix_features\r\n",
        "teste['tok_filmes'] = tok_filmes"
      ],
      "execution_count": 27,
      "outputs": [
        {
          "output_type": "error",
          "ename": "ValueError",
          "evalue": "ignored",
          "traceback": [
            "\u001b[0;31m---------------------------------------------------------------------------\u001b[0m",
            "\u001b[0;31mValueError\u001b[0m                                Traceback (most recent call last)",
            "\u001b[0;32m<ipython-input-27-6efb282c4fff>\u001b[0m in \u001b[0;36m<module>\u001b[0;34m()\u001b[0m\n\u001b[1;32m      5\u001b[0m \u001b[0mteste\u001b[0m\u001b[0;34m[\u001b[0m\u001b[0;34m'class_features'\u001b[0m\u001b[0;34m]\u001b[0m \u001b[0;34m=\u001b[0m \u001b[0mclass_features\u001b[0m\u001b[0;34m\u001b[0m\u001b[0;34m\u001b[0m\u001b[0m\n\u001b[1;32m      6\u001b[0m \u001b[0mteste\u001b[0m\u001b[0;34m[\u001b[0m\u001b[0;34m'emotaix_features'\u001b[0m\u001b[0;34m]\u001b[0m \u001b[0;34m=\u001b[0m \u001b[0memotaix_features\u001b[0m\u001b[0;34m\u001b[0m\u001b[0;34m\u001b[0m\u001b[0m\n\u001b[0;32m----> 7\u001b[0;31m \u001b[0mteste\u001b[0m\u001b[0;34m[\u001b[0m\u001b[0;34m'tok_filmes'\u001b[0m\u001b[0;34m]\u001b[0m \u001b[0;34m=\u001b[0m \u001b[0mtok_filmes\u001b[0m\u001b[0;34m\u001b[0m\u001b[0;34m\u001b[0m\u001b[0m\n\u001b[0m",
            "\u001b[0;32m/usr/local/lib/python3.6/dist-packages/pandas/core/frame.py\u001b[0m in \u001b[0;36m__setitem__\u001b[0;34m(self, key, value)\u001b[0m\n\u001b[1;32m   3042\u001b[0m         \u001b[0;32melse\u001b[0m\u001b[0;34m:\u001b[0m\u001b[0;34m\u001b[0m\u001b[0;34m\u001b[0m\u001b[0m\n\u001b[1;32m   3043\u001b[0m             \u001b[0;31m# set column\u001b[0m\u001b[0;34m\u001b[0m\u001b[0;34m\u001b[0m\u001b[0;34m\u001b[0m\u001b[0m\n\u001b[0;32m-> 3044\u001b[0;31m             \u001b[0mself\u001b[0m\u001b[0;34m.\u001b[0m\u001b[0m_set_item\u001b[0m\u001b[0;34m(\u001b[0m\u001b[0mkey\u001b[0m\u001b[0;34m,\u001b[0m \u001b[0mvalue\u001b[0m\u001b[0;34m)\u001b[0m\u001b[0;34m\u001b[0m\u001b[0;34m\u001b[0m\u001b[0m\n\u001b[0m\u001b[1;32m   3045\u001b[0m \u001b[0;34m\u001b[0m\u001b[0m\n\u001b[1;32m   3046\u001b[0m     \u001b[0;32mdef\u001b[0m \u001b[0m_setitem_slice\u001b[0m\u001b[0;34m(\u001b[0m\u001b[0mself\u001b[0m\u001b[0;34m,\u001b[0m \u001b[0mkey\u001b[0m\u001b[0;34m:\u001b[0m \u001b[0mslice\u001b[0m\u001b[0;34m,\u001b[0m \u001b[0mvalue\u001b[0m\u001b[0;34m)\u001b[0m\u001b[0;34m:\u001b[0m\u001b[0;34m\u001b[0m\u001b[0;34m\u001b[0m\u001b[0m\n",
            "\u001b[0;32m/usr/local/lib/python3.6/dist-packages/pandas/core/frame.py\u001b[0m in \u001b[0;36m_set_item\u001b[0;34m(self, key, value)\u001b[0m\n\u001b[1;32m   3118\u001b[0m         \"\"\"\n\u001b[1;32m   3119\u001b[0m         \u001b[0mself\u001b[0m\u001b[0;34m.\u001b[0m\u001b[0m_ensure_valid_index\u001b[0m\u001b[0;34m(\u001b[0m\u001b[0mvalue\u001b[0m\u001b[0;34m)\u001b[0m\u001b[0;34m\u001b[0m\u001b[0;34m\u001b[0m\u001b[0m\n\u001b[0;32m-> 3120\u001b[0;31m         \u001b[0mvalue\u001b[0m \u001b[0;34m=\u001b[0m \u001b[0mself\u001b[0m\u001b[0;34m.\u001b[0m\u001b[0m_sanitize_column\u001b[0m\u001b[0;34m(\u001b[0m\u001b[0mkey\u001b[0m\u001b[0;34m,\u001b[0m \u001b[0mvalue\u001b[0m\u001b[0;34m)\u001b[0m\u001b[0;34m\u001b[0m\u001b[0;34m\u001b[0m\u001b[0m\n\u001b[0m\u001b[1;32m   3121\u001b[0m         \u001b[0mNDFrame\u001b[0m\u001b[0;34m.\u001b[0m\u001b[0m_set_item\u001b[0m\u001b[0;34m(\u001b[0m\u001b[0mself\u001b[0m\u001b[0;34m,\u001b[0m \u001b[0mkey\u001b[0m\u001b[0;34m,\u001b[0m \u001b[0mvalue\u001b[0m\u001b[0;34m)\u001b[0m\u001b[0;34m\u001b[0m\u001b[0;34m\u001b[0m\u001b[0m\n\u001b[1;32m   3122\u001b[0m \u001b[0;34m\u001b[0m\u001b[0m\n",
            "\u001b[0;32m/usr/local/lib/python3.6/dist-packages/pandas/core/frame.py\u001b[0m in \u001b[0;36m_sanitize_column\u001b[0;34m(self, key, value, broadcast)\u001b[0m\n\u001b[1;32m   3766\u001b[0m \u001b[0;34m\u001b[0m\u001b[0m\n\u001b[1;32m   3767\u001b[0m             \u001b[0;31m# turn me into an ndarray\u001b[0m\u001b[0;34m\u001b[0m\u001b[0;34m\u001b[0m\u001b[0;34m\u001b[0m\u001b[0m\n\u001b[0;32m-> 3768\u001b[0;31m             \u001b[0mvalue\u001b[0m \u001b[0;34m=\u001b[0m \u001b[0msanitize_index\u001b[0m\u001b[0;34m(\u001b[0m\u001b[0mvalue\u001b[0m\u001b[0;34m,\u001b[0m \u001b[0mself\u001b[0m\u001b[0;34m.\u001b[0m\u001b[0mindex\u001b[0m\u001b[0;34m)\u001b[0m\u001b[0;34m\u001b[0m\u001b[0;34m\u001b[0m\u001b[0m\n\u001b[0m\u001b[1;32m   3769\u001b[0m             \u001b[0;32mif\u001b[0m \u001b[0;32mnot\u001b[0m \u001b[0misinstance\u001b[0m\u001b[0;34m(\u001b[0m\u001b[0mvalue\u001b[0m\u001b[0;34m,\u001b[0m \u001b[0;34m(\u001b[0m\u001b[0mnp\u001b[0m\u001b[0;34m.\u001b[0m\u001b[0mndarray\u001b[0m\u001b[0;34m,\u001b[0m \u001b[0mIndex\u001b[0m\u001b[0;34m)\u001b[0m\u001b[0;34m)\u001b[0m\u001b[0;34m:\u001b[0m\u001b[0;34m\u001b[0m\u001b[0;34m\u001b[0m\u001b[0m\n\u001b[1;32m   3770\u001b[0m                 \u001b[0;32mif\u001b[0m \u001b[0misinstance\u001b[0m\u001b[0;34m(\u001b[0m\u001b[0mvalue\u001b[0m\u001b[0;34m,\u001b[0m \u001b[0mlist\u001b[0m\u001b[0;34m)\u001b[0m \u001b[0;32mand\u001b[0m \u001b[0mlen\u001b[0m\u001b[0;34m(\u001b[0m\u001b[0mvalue\u001b[0m\u001b[0;34m)\u001b[0m \u001b[0;34m>\u001b[0m \u001b[0;36m0\u001b[0m\u001b[0;34m:\u001b[0m\u001b[0;34m\u001b[0m\u001b[0;34m\u001b[0m\u001b[0m\n",
            "\u001b[0;32m/usr/local/lib/python3.6/dist-packages/pandas/core/internals/construction.py\u001b[0m in \u001b[0;36msanitize_index\u001b[0;34m(data, index)\u001b[0m\n\u001b[1;32m    746\u001b[0m     \u001b[0;32mif\u001b[0m \u001b[0mlen\u001b[0m\u001b[0;34m(\u001b[0m\u001b[0mdata\u001b[0m\u001b[0;34m)\u001b[0m \u001b[0;34m!=\u001b[0m \u001b[0mlen\u001b[0m\u001b[0;34m(\u001b[0m\u001b[0mindex\u001b[0m\u001b[0;34m)\u001b[0m\u001b[0;34m:\u001b[0m\u001b[0;34m\u001b[0m\u001b[0;34m\u001b[0m\u001b[0m\n\u001b[1;32m    747\u001b[0m         raise ValueError(\n\u001b[0;32m--> 748\u001b[0;31m             \u001b[0;34m\"Length of values \"\u001b[0m\u001b[0;34m\u001b[0m\u001b[0;34m\u001b[0m\u001b[0m\n\u001b[0m\u001b[1;32m    749\u001b[0m             \u001b[0;34mf\"({len(data)}) \"\u001b[0m\u001b[0;34m\u001b[0m\u001b[0;34m\u001b[0m\u001b[0m\n\u001b[1;32m    750\u001b[0m             \u001b[0;34m\"does not match length of index \"\u001b[0m\u001b[0;34m\u001b[0m\u001b[0;34m\u001b[0m\u001b[0m\n",
            "\u001b[0;31mValueError\u001b[0m: Length of values (9576) does not match length of index (4)"
          ]
        }
      ]
    },
    {
      "cell_type": "code",
      "metadata": {
        "id": "Y0vaVROY8WEZ"
      },
      "source": [
        "teste"
      ],
      "execution_count": null,
      "outputs": []
    },
    {
      "cell_type": "code",
      "metadata": {
        "id": "EB3Ev_o5CCCD"
      },
      "source": [
        "# class_features\r\n",
        "# emotaix_features\r\n",
        "# tok_filmes\r\n",
        "data = {}\r\n",
        "data_lst = [class_features, emotaix_features, tok_filmes]\r\n",
        "\r\n",
        "for ftr in data_lst:\r\n",
        "  for k in ftr:\r\n",
        "    print ('k', k)\r\n",
        "    print ('ftr', ftr)\r\n",
        "    data[k] = ftr[k]\r\n",
        "        \r\n",
        "df_festures = pd.DataFrame(data)\r\n",
        "df_festures.head()"
      ],
      "execution_count": null,
      "outputs": []
    },
    {
      "cell_type": "markdown",
      "metadata": {
        "id": "GjQcWCwvoE03"
      },
      "source": [
        "# 3 - Visualização dos dados:\n",
        "Coloque nesta seção os gráficos do PCA e do t-SNE, para cada representação. Responda também às seguintes perguntas: \n",
        "\n",
        "a) Existe algum padrão com relação às classes? \n",
        "\n",
        "b) Caso exista algum padrão, você pode concluir alguma coisa? \n",
        "\n",
        "c) Caso não exista, você consegue dizer se isso tem a ver com alguma representação ou classe?"
      ]
    },
    {
      "cell_type": "code",
      "metadata": {
        "id": "mkyHVCNPOmcl"
      },
      "source": [
        "from sklearn.decomposition import PCA\r\n",
        "import matplotlib.pyplot as plt"
      ],
      "execution_count": null,
      "outputs": []
    },
    {
      "cell_type": "markdown",
      "metadata": {
        "id": "EGyerdbXOI0_"
      },
      "source": [
        "**PCA**"
      ]
    },
    {
      "cell_type": "code",
      "metadata": {
        "id": "kqCSm2IeOnwj"
      },
      "source": [
        "from sklearn.decomposition import PCA\r\n",
        "import matplotlib.pyplot as plt"
      ],
      "execution_count": null,
      "outputs": []
    },
    {
      "cell_type": "code",
      "metadata": {
        "id": "iS-QSeRfUpnd"
      },
      "source": [
        "# Voltar com o formato da feature para texto, mas sem as stop words\r\n",
        "nltk.download('machado')\r\n",
        "corpus_filmes = []\r\n",
        "for f_id in machado.fileids():\r\n",
        "    tok_lst = simple_preprocess(df_processado.raw(f_id)) #convertendo para o formato de texto\r\n",
        "    corpus_filmes.append(' '.join(tok_lst)) "
      ],
      "execution_count": null,
      "outputs": []
    },
    {
      "cell_type": "code",
      "metadata": {
        "id": "zvA7C7cxU1Ag"
      },
      "source": [
        "df_processado[1:4]"
      ],
      "execution_count": null,
      "outputs": []
    },
    {
      "cell_type": "code",
      "metadata": {
        "id": "Dx0WsBFsVZyP"
      },
      "source": [
        "matrix = df_processado['text_stopwords'].fit_transform(corpus_filmes)"
      ],
      "execution_count": null,
      "outputs": []
    },
    {
      "cell_type": "code",
      "metadata": {
        "id": "PbeoLKK0Vp60"
      },
      "source": [
        "!pip install -U yellowbrick\r\n",
        "from yellowbrick.features import PCA\r\n",
        "from sklearn.preprocessing import StandardScaler"
      ],
      "execution_count": null,
      "outputs": []
    },
    {
      "cell_type": "code",
      "metadata": {
        "id": "YjH2lB0TVq04"
      },
      "source": [
        "sc = StandardScaler(with_mean=False)\r\n",
        "matrix = sc.fit_transform(matrix)"
      ],
      "execution_count": null,
      "outputs": []
    },
    {
      "cell_type": "code",
      "metadata": {
        "id": "06LcT8rfVyqN"
      },
      "source": [
        "# o que podemos concluir? os pontos são muito parecido, mas existem dois bem diferentes? \r\n",
        "# quem são esses dois?\r\n",
        "visualizer = PCA(scale=True)\r\n",
        "visualizer.fit_transform(matrix.toarray())\r\n",
        "visualizer.show()"
      ],
      "execution_count": null,
      "outputs": []
    },
    {
      "cell_type": "markdown",
      "metadata": {
        "id": "qhUANEojOK0Q"
      },
      "source": [
        "t-**SNE**"
      ]
    },
    {
      "cell_type": "code",
      "metadata": {
        "id": "VxTywK9lN37G"
      },
      "source": [
        "from yellowbrick.text import TSNEVisualizer"
      ],
      "execution_count": null,
      "outputs": []
    },
    {
      "cell_type": "code",
      "metadata": {
        "id": "hLtNdnaTV2GR"
      },
      "source": [
        "tsne = TSNEVisualizer()\r\n",
        "\r\n",
        "# se existissem classes, poderiamos visualizar os pontos com cores diferentes. Cada um de acordo\r\n",
        "# com uma classe.\r\n",
        "tsne.fit(matrix.toarray())\r\n",
        "tsne.show()"
      ],
      "execution_count": null,
      "outputs": []
    },
    {
      "cell_type": "markdown",
      "metadata": {
        "id": "wJdNwYb9kEDh"
      },
      "source": [
        "# 4 - Classificadores : \n",
        "Descreva sucintamente os dois classificadores escolhidos. Você usou algum parâmetro que não seja padrão? Se sim, mencione nesta seção."
      ]
    },
    {
      "cell_type": "code",
      "metadata": {
        "id": "FMk19I8JWO0h"
      },
      "source": [
        "#EXEMPLO\r\n",
        "\r\n",
        "A tarefa escolhida foi a classificação de redações no estilo do ENEM. O objetivo é classificar cada redação de acordo com o grupo de \r\n",
        "notas 0, 200, 400, 600, 800 e 1000. O Corpus possui 1840 instâncias e a média de tokens por documento é 226,85.\r\n",
        "print(f'Quantidade de instâncias do Corpus: {len(data)}')\r\n",
        "print(f'Média de tokens por documento: {np.mean(toks)}')\r\n",
        "\r\n"
      ],
      "execution_count": null,
      "outputs": []
    },
    {
      "cell_type": "markdown",
      "metadata": {
        "id": "CwMrGsQKkJOR"
      },
      "source": [
        "# 5 - Resultados: \n",
        "Escreva código que execute a validação cruzada em 5-folds para os dois classificadores escolhidos. Também responda às seguintes perguntas: Os embeddings realmente mostraram um resultado melhor que o TF-IDF? Se não, qual foi a representação que teve o melhor desempenho? A diferença foi muito grande?"
      ]
    },
    {
      "cell_type": "markdown",
      "metadata": {
        "id": "hnqG24ZTkMsu"
      },
      "source": [
        "# 6 - Conclusão: \n",
        "Por fim fale aqui o que você conclui das visualizações e dos resultados. Tente explicar em detalhes por que um resultado, na sua opinião, foi melhor do que outro. Esta explicação pode incluir hipóteses para resultados melhores ou resultados piores. Também pode falar das dificuldades enfrentadas durante o trabalho e como conseguiu contorná-las."
      ]
    }
  ]
}