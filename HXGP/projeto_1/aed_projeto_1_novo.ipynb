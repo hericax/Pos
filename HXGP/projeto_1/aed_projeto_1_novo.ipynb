{
 "cells": [
  {
   "cell_type": "markdown",
   "metadata": {},
   "outputs": [],
   "source": [
    "# Projeto #1 - Análise Exploratória de Dados\n",
    "\n",
    "Antes de começar, leia as [Instruções](https://github.com/thvmm/pos-ds-ia/tree/master/projeto_1#instru%C3%A7%C3%B5es) e os [Critérios de Avaliação](https://github.com/thvmm/pos-ds-ia/tree/master/projeto_1#crit%C3%A9rios-de-avalia%C3%A7%C3%A3o)\n"
   ]
  },
  {
   "cell_type": "markdown",
   "metadata": {},
   "outputs": [],
   "source": [
    "### 1) **(5%)** Qual a base escolhida e qual seu interesse nela?"
   ]
  },
  {
   "cell_type": "markdown",
   "metadata": {},
   "outputs": [],
   "source": [
    "*Indique o link da base no Kaggle e explique em um parágrafo curto por que essa base é interessante para você.*\n",
    "\n",
    "https://www.kaggle.com/snocco/missing-migrants-project\n",
    "\n",
    "Me interessei pela base, por possuir uma boa variedade de tipo de features, me permitindo aplicar os conhecimentos que estou adiquirindo no curso."
   ]
  },
  {
   "cell_type": "markdown",
   "metadata": {},
   "outputs": [],
   "source": [
    "### 2) **(5%)** Descrição básica do conjunto de dados escolhido pelo aluno (1 parágrafo).\n",
    "- Identificação da variável a serem trabalhadas\n",
    "- Classificação das variáveis como: contínua ou discreta.\n"
   ]
  },
  {
   "cell_type": "markdown",
   "metadata": {},
   "outputs": [],
   "source": [
    "As variáveis que serão trabalhadas são: 'TOTAL_MIGRANTES_MORTOS','TOTAL_MIGRANTES_DESAPARECIDOS','TOTAL_MIGRANTES_MORTOS_DESAPARECIDOS','QTDE_SOBREVIVENTES','QTDE_MULHERES','QTDE_HOMENS','QTDE_CRIANCAS', 'REGIAO_INCIDENTE', MES_INCIDENTE'\n",
    "\n",
    "Sua classificação é:\n",
    "\n",
    "Contínuas: 'TOTAL_MIGRANTES_MORTOS','TOTAL_MIGRANTES_DESAPARECIDOS','TOTAL_MIGRANTES_MORTOS_DESAPARECIDOS','QTDE_SOBREVIVENTES','QTDE_MULHERES','QTDE_HOMENS','QTDE_CRIANCAS'\n",
    "\n",
    "Discretas: 'REGIAO_INCIDENTE', MES_INCIDENTE'\n"
   ]
  },
  {
   "cell_type": "markdown",
   "metadata": {},
   "outputs": [],
   "source": [
    "### 2) **(15%)** Faça uma avaliação descritiva da sua base. Quantas linhas ela possui? Quais os tipos de dados? Quantas e quais features possuem?\n",
    "\n",
    "Cada variável escolhida pelo aluno precisa passar por ao menos 1 pré-processamento. O pré-processamento pode ser (mas não está limitado a):\n",
    "- Checagem se os valores estão dentro de um limite permitido ou razoável.\n",
    "- Tratamento de valores ausentes por eliminação ou substituição.\n",
    "- Conversão do tipo de dados.\n"
   ]
  },
  {
   "cell_type": "code",
   "execution_count": 281,
   "metadata": {},
   "outputs": [],
   "source": [
    "A base possui 5333 registros e 20 features.\n",
    "Os registros são do tipo\n",
    "\n",
    "a) Checagem se os valores estão dentro de um limite permitido ou razoável.\n",
    "#As variáveis 'TOTAL_MIGRANTES_MORTOS' e 'TOTAL_MIGRANTES_MORTOS_DESAPARECIDOS', possui o valor mínimo igual a zero, como o dataset é para analisar a quantidade ocorrida de mortos e/ou desaparecidos, zero não é um valor aceitavel. \n",
    "#dataset.drop(dataset[dataset.bedrooms==0].index ,inplace=True)\n",
    "#migrantes.isnull().sum() #191 TOTAL_MIGRANTES_MORTOS vazio\n",
    "migrantes = migrantes.dropna(subset=[\"TOTAL_MIGRANTES_MORTOS_DESAPARECIDOS\"])\n",
    "#titanic = titanic.update(titanic['Idade'].fillna('9'))\n",
    "migrantes.describe()\n",
    "\n",
    "#Percentual de registros que não possuem valor. Estes dados não serão excluídos pois não precisam necessaria mente preenchido durante a pesquisa. Os valores faltantes, dos dados relevantes que serão preenchidos com zero, são:\n",
    "TOTAL_MIGRANTES_DESAPARECIDOS - 90,56%\n",
    "QTDE_CRIANCAS - 87,92%\n",
    "QTDE_SOBREVIVENTES - 85,95%\n",
    "QTDE_MULHERES - 83,18\n",
    "ROTA_MIGRACAO - 50,12%\n",
    "QTDE_HOMENS - 47,25%\n",
    "\n",
    "Após o preenchimento, o percentual ficou 0%. \n",
    "\n",
    "b) Tratamento de valores ausentes por eliminação ou substituição.\n",
    "#Exclusão de algumas colunas que não são de interesse: ID, INFORMACOES_PESQUISA, COORDENADAS_LOCAL_INCIDENTE, URL, QUALIDADE_PESQUISA, DATA_INCIDENTE.\n",
    "migrantes.drop(['ID','INFORMACOES_PESQUISA','COORDENADAS_LOCAL_INCIDENTE','URL','QUALIDADE_PESQUISA','DATA_INCIDENTE'],axis = 1, inplace = True)\n",
    "migrantes.head()\n",
    "\n",
    "c) Conversão do tipo de dados.\n",
    "# preenchendo com zero os registros que não possuem valor:'TOTAL_MIGRANTES_MORTOS', 'TOTAL_MIGRANTES_DESAPARECIDOS', 'QTDE_SOBREVIVENTES', 'QTDE_MULHERES', 'QTDE_HOMENS' , 'QTDE_CRIANCAS'\n",
    "\n",
    "\n",
    "\n",
    "\n",
    "\n"
   ]
  },
  {
   "cell_type": "code",
   "execution_count": 185,
   "metadata": {},
   "outputs": [],
   "source": [
    "# Implemente sua análise aqui. Use mais blocos se achar que ficará mais organizado.\n",
    "import pandas as pd\n",
    "import matplotlib.pyplot as plt\n",
    "import random\n",
    "from sklearn.preprocessing import MinMaxScaler, StandardScaler\n",
    "from sklearn.decomposition import PCA\n",
    "import numpy as np\n",
    "from sklearn import preprocessing\n",
    "\n",
    "from sklearn.preprocessing import LabelEncoder #converter para i\n",
    "label_encoder = LabelEncoder() #instancia de um objeto do tipo LabelEncoder.\n",
    "\n",
    "\n",
    "migrantes = pd.read_csv(\"projeto_1/missing-migrants/MissingMigrants-Global.csv\")\n",
    "migrantes.columns = ['ID', 'REGIAO_INCIDENTE','DATA_INCIDENTE','ANO_INCIDENTE','MES_INCIDENTE','TOTAL_MIGRANTES_MORTOS','TOTAL_MIGRANTES_DESAPARECIDOS','TOTAL_MIGRANTES_MORTOS_DESAPARECIDOS','QTDE_SOBREVIVENTES','QTDE_MULHERES','QTDE_HOMENS','QTDE_CRIANCAS','CAUSA_MORTE','LOCAL_INCIDENTE','INFORMACOES_PESQUISA','COORDENADAS_LOCAL_INCIDENTE','ROTA_MIGRACAO','URL','GEOGRAFICO','QUALIDADE_PESQUISA']\n",
    "migrantes.head(5)"
   ]
  },
  {
   "cell_type": "code",
   "execution_count": 282,
   "metadata": {},
   "outputs": [
    {
     "data": {
      "text/html": "<div>\n<style scoped>\n    .dataframe tbody tr th:only-of-type {\n        vertical-align: middle;\n    }\n\n    .dataframe tbody tr th {\n        vertical-align: top;\n    }\n\n    .dataframe thead th {\n        text-align: right;\n    }\n</style>\n<table border=\"1\" class=\"dataframe\">\n  <thead>\n    <tr style=\"text-align: right;\">\n      <th></th>\n      <th>ID</th>\n      <th>ANO_INCIDENTE</th>\n      <th>TOTAL_MIGRANTES_MORTOS</th>\n      <th>TOTAL_MIGRANTES_DESAPARECIDOS</th>\n      <th>TOTAL_MIGRANTES_MORTOS_DESAPARECIDOS</th>\n      <th>QTDE_SOBREVIVENTES</th>\n      <th>QTDE_MULHERES</th>\n      <th>QTDE_HOMENS</th>\n      <th>QTDE_CRIANCAS</th>\n      <th>QUALIDADE_PESQUISA</th>\n    </tr>\n  </thead>\n  <tbody>\n    <tr>\n      <th>count</th>\n      <td>5333.000000</td>\n      <td>5333.000000</td>\n      <td>5142.000000</td>\n      <td>503.000000</td>\n      <td>5333.000000</td>\n      <td>749.000000</td>\n      <td>897.000000</td>\n      <td>2813.000000</td>\n      <td>644.000000</td>\n      <td>5333.000000</td>\n    </tr>\n    <tr>\n      <th>mean</th>\n      <td>43247.885805</td>\n      <td>2016.656104</td>\n      <td>3.287631</td>\n      <td>29.119284</td>\n      <td>5.916370</td>\n      <td>63.607477</td>\n      <td>2.012263</td>\n      <td>1.890864</td>\n      <td>2.476708</td>\n      <td>2.895556</td>\n    </tr>\n    <tr>\n      <th>std</th>\n      <td>5186.837212</td>\n      <td>1.237033</td>\n      <td>13.593407</td>\n      <td>67.913216</td>\n      <td>28.051811</td>\n      <td>146.520155</td>\n      <td>2.990100</td>\n      <td>5.510674</td>\n      <td>10.216220</td>\n      <td>1.423257</td>\n    </tr>\n    <tr>\n      <th>min</th>\n      <td>30158.000000</td>\n      <td>2014.000000</td>\n      <td>0.000000</td>\n      <td>0.000000</td>\n      <td>0.000000</td>\n      <td>0.000000</td>\n      <td>0.000000</td>\n      <td>0.000000</td>\n      <td>0.000000</td>\n      <td>1.000000</td>\n    </tr>\n    <tr>\n      <th>25%</th>\n      <td>40876.000000</td>\n      <td>2016.000000</td>\n      <td>1.000000</td>\n      <td>2.000000</td>\n      <td>1.000000</td>\n      <td>5.000000</td>\n      <td>1.000000</td>\n      <td>1.000000</td>\n      <td>1.000000</td>\n      <td>2.000000</td>\n    </tr>\n    <tr>\n      <th>50%</th>\n      <td>43504.000000</td>\n      <td>2017.000000</td>\n      <td>1.000000</td>\n      <td>7.000000</td>\n      <td>1.000000</td>\n      <td>15.000000</td>\n      <td>1.000000</td>\n      <td>1.000000</td>\n      <td>1.000000</td>\n      <td>2.000000</td>\n    </tr>\n    <tr>\n      <th>75%</th>\n      <td>45747.000000</td>\n      <td>2018.000000</td>\n      <td>2.000000</td>\n      <td>25.000000</td>\n      <td>3.000000</td>\n      <td>61.000000</td>\n      <td>2.000000</td>\n      <td>1.000000</td>\n      <td>2.000000</td>\n      <td>4.000000</td>\n    </tr>\n    <tr>\n      <th>max</th>\n      <td>51592.000000</td>\n      <td>2019.000000</td>\n      <td>750.000000</td>\n      <td>750.000000</td>\n      <td>1022.000000</td>\n      <td>1950.000000</td>\n      <td>30.000000</td>\n      <td>135.000000</td>\n      <td>250.000000</td>\n      <td>5.000000</td>\n    </tr>\n  </tbody>\n</table>\n</div>",
      "text/plain": "                 ID  ANO_INCIDENTE  TOTAL_MIGRANTES_MORTOS  \\\ncount   5333.000000    5333.000000             5142.000000   \nmean   43247.885805    2016.656104                3.287631   \nstd     5186.837212       1.237033               13.593407   \nmin    30158.000000    2014.000000                0.000000   \n25%    40876.000000    2016.000000                1.000000   \n50%    43504.000000    2017.000000                1.000000   \n75%    45747.000000    2018.000000                2.000000   \nmax    51592.000000    2019.000000              750.000000   \n\n       TOTAL_MIGRANTES_DESAPARECIDOS  TOTAL_MIGRANTES_MORTOS_DESAPARECIDOS  \\\ncount                     503.000000                           5333.000000   \nmean                       29.119284                              5.916370   \nstd                        67.913216                             28.051811   \nmin                         0.000000                              0.000000   \n25%                         2.000000                              1.000000   \n50%                         7.000000                              1.000000   \n75%                        25.000000                              3.000000   \nmax                       750.000000                           1022.000000   \n\n       QTDE_SOBREVIVENTES  QTDE_MULHERES  QTDE_HOMENS  QTDE_CRIANCAS  \\\ncount          749.000000     897.000000  2813.000000     644.000000   \nmean            63.607477       2.012263     1.890864       2.476708   \nstd            146.520155       2.990100     5.510674      10.216220   \nmin              0.000000       0.000000     0.000000       0.000000   \n25%              5.000000       1.000000     1.000000       1.000000   \n50%             15.000000       1.000000     1.000000       1.000000   \n75%             61.000000       2.000000     1.000000       2.000000   \nmax           1950.000000      30.000000   135.000000     250.000000   \n\n       QUALIDADE_PESQUISA  \ncount         5333.000000  \nmean             2.895556  \nstd              1.423257  \nmin              1.000000  \n25%              2.000000  \n50%              2.000000  \n75%              4.000000  \nmax              5.000000  "
     },
     "execution_count": 282,
     "metadata": {},
     "output_type": "execute_result"
    }
   ],
   "source": [
    "migrantes.describe() #análise dos dados"
   ]
  },
  {
   "cell_type": "code",
   "execution_count": 283,
   "metadata": {},
   "outputs": [
    {
     "data": {
      "text/plain": "TOTAL_MIGRANTES_DESAPARECIDOS           0.905682\nQTDE_CRIANCAS                           0.879242\nQTDE_SOBREVIVENTES                      0.859554\nQTDE_MULHERES                           0.831802\nROTA_MIGRACAO                           0.501219\nQTDE_HOMENS                             0.472530\nURL                                     0.401463\nTOTAL_MIGRANTES_MORTOS                  0.035815\nGEOGRAFICO                              0.002063\nLOCAL_INCIDENTE                         0.001875\nINFORMACOES_PESQUISA                    0.000375\nCOORDENADAS_LOCAL_INCIDENTE             0.000188\nANO_INCIDENTE                           0.000000\nREGIAO_INCIDENTE                        0.000000\nDATA_INCIDENTE                          0.000000\nQUALIDADE_PESQUISA                      0.000000\nMES_INCIDENTE                           0.000000\nTOTAL_MIGRANTES_MORTOS_DESAPARECIDOS    0.000000\nCAUSA_MORTE                             0.000000\nID                                      0.000000\ndtype: float64"
     },
     "execution_count": 283,
     "metadata": {},
     "output_type": "execute_result"
    }
   ],
   "source": [
    "# preenchendo com zero os registros que não possuem valor:\n",
    "# ver a porcentagem valores faltantes\n",
    "(migrantes.isnull().sum() / migrantes.shape[0]).sort_values(ascending=False)"
   ]
  },
  {
   "cell_type": "code",
   "execution_count": 284,
   "metadata": {},
   "outputs": [
    {
     "data": {
      "text/plain": "TOTAL_MIGRANTES_DESAPARECIDOS           0.905682\nQTDE_CRIANCAS                           0.879242\nQTDE_SOBREVIVENTES                      0.859554\nQTDE_MULHERES                           0.831802\nROTA_MIGRACAO                           0.501219\nQTDE_HOMENS                             0.472530\nURL                                     0.401463\nTOTAL_MIGRANTES_MORTOS                  0.035815\nGEOGRAFICO                              0.002063\nLOCAL_INCIDENTE                         0.001875\nINFORMACOES_PESQUISA                    0.000375\nCOORDENADAS_LOCAL_INCIDENTE             0.000188\nANO_INCIDENTE                           0.000000\nREGIAO_INCIDENTE                        0.000000\nDATA_INCIDENTE                          0.000000\nQUALIDADE_PESQUISA                      0.000000\nMES_INCIDENTE                           0.000000\nTOTAL_MIGRANTES_MORTOS_DESAPARECIDOS    0.000000\nCAUSA_MORTE                             0.000000\nID                                      0.000000\ndtype: float64"
     },
     "execution_count": 284,
     "metadata": {},
     "output_type": "execute_result"
    }
   ],
   "source": [
    "# ver a porcentagem valores faltantes\n",
    "(migrantes.isnull().sum() / migrantes.shape[0]).sort_values(ascending=False)"
   ]
  },
  {
   "cell_type": "code",
   "execution_count": 134,
   "metadata": {},
   "outputs": [],
   "source": [
    "#Preenchendo os dados faltantes com 'zero' das colunas que serão utilizadas na análise\n",
    "migrantes['TOTAL_MIGRANTES_DESAPARECIDOS'].fillna(0, inplace=True)\n",
    "migrantes['QTDE_CRIANCAS'].fillna(0, inplace=True)\n",
    "migrantes['QTDE_SOBREVIVENTES'].fillna(0, inplace=True)\n",
    "migrantes['QTDE_MULHERES'].fillna(0, inplace=True)\n",
    "migrantes['QTDE_HOMENS'].fillna(0, inplace=True)\n",
    "migrantes['TOTAL_MIGRANTES_MORTOS'].fillna(0, inplace=True)\n",
    "\n",
    "# ver a porcentagem valores faltantes após preenchimento dos valores faltantes\n",
    "(migrantes.isnull().sum() / migrantes.shape[0]).sort_values(ascending=False)"
   ]
  },
  {
   "cell_type": "code",
   "execution_count": 144,
   "metadata": {},
   "outputs": [],
   "source": [
    "#Separado dados para aprendizado/amostra\n",
    "migrantes_amostra = migrantes.sample(n=80) # Pegando amostra dos dados\n",
    "migrantes_restante = migrantes.drop(migrantes_amostra.index) # Removendo bolas da caixa\n",
    "\n",
    "migrantes_restante.describe() #retaram 5253 registros"
   ]
  },
  {
   "cell_type": "code",
   "execution_count": 145,
   "metadata": {},
   "outputs": [],
   "source": [
    "migrantes_amostra.describe()"
   ]
  },
  {
   "cell_type": "code",
   "execution_count": 174,
   "metadata": {},
   "outputs": [],
   "source": [
    "# Conversão do tipo de dados.\n",
    "\n",
    "# TOTAL_MIGRANTES_MORTOS: converter para inteiro\n",
    "# TOTAL_MIGRANTES_DESAPARECIDOS: converter para inteiro\n",
    "# TOTAL_MIGRANTES_MORTOS_DESAPARECIDOS: converter para inteiro\n",
    "# QTDE_SOBREVIVENTES: converter para inteiro\n",
    "# QTDE_MULHERES: converter para inteiro\n",
    "# QTDE_HOMENS: converter para inteiro\n",
    "# QTDE_CRIANCAS: converter para inteiro\n",
    "\n",
    "# REGIAO_INCIDENTE: converter para inteiro\n",
    "# MES_INCIDENTE: converter para inteiro\n",
    "# CAUSA_MORTE: converter para inteiro\n",
    "# LOCAL_INCIDENTE: converter para inteiro\n",
    "# ROTA_MIGRACAO: converter para inteiro\n",
    "# GEOGRAFICO: converter para inteiro\n",
    "\n",
    "migrantes.dtypes\n",
    "\n",
    "migrantes_convertido = migrantes.REGIAO_INCIDENTE.DataFrame({'value': np.random.rando})"
   ]
  },
  {
   "cell_type": "code",
   "execution_count": 190,
   "metadata": {},
   "outputs": [],
   "source": [
    "#migrantes[\"REGIAO_INCIDENTE\"] = migrantes[\"REGIAO_INCIDENTE\"].astype(int)\n",
    "migrantes.dtypes\n",
    "#migrantes.MES_INCIDENTE.astype(int)\n",
    "\n",
    "#plt.plot(migrantes_amostra.QTDE_MULHERES[1],migrantes_amostra.TOTAL_MIGRANTES_MORTOS_DESAPARECIDOS[1], \"bx\")\n",
    "\n",
    "print(migrantes.TOTAL_MIGRANTES_MORTOS[1])\n",
    "\n",
    "plt.plot( migrantes.QTDE_HOMENS[1],migrantes.TOTAL_MIGRANTES_MORTOS[1], \"bx\")\n",
    "plt.plot( migrantes.QTDE_MULHERES[1],migrantes.TOTAL_MIGRANTES_MORTOS[1], \"r+\")\n",
    "plt.plot( migrantes.QTDE_CRIANCAS[1],migrantes.TOTAL_MIGRANTES_MORTOS[1], \"go\")\n",
    "\n",
    "plt.ylabel(\"QTDE_MORTOS\")\n",
    "plt.xlabel(\"TOTAL_MORTOS\")\n",
    "plt.title(\"Gráfico de QTDE de homens, mulheres e crianças mortosa (Tentativa 1)\")"
   ]
  },
  {
   "cell_type": "code",
   "execution_count": null,
   "metadata": {},
   "outputs": [],
   "source": [
    "# \n",
    "#grafico de barras\n",
    "plt.bar(migrantes.TOTAL_MIGRANTES_MORTOS,migrantes.QTDE_HOMENS,color='yellow')\n",
    "plt.bar(migrantes.TOTAL_MIGRANTES_MORTOS,migrantes.QTDE_MULHERES,color='PINK')\n",
    "plt.bar(migrantes.TOTAL_MIGRANTES_MORTOS,migrantes.QTDE_CRIANCAS,color='green')\n"
   ]
  },
  {
   "cell_type": "code",
   "execution_count": 182,
   "metadata": {},
   "outputs": [],
   "source": [
    "\n",
    "#grafico de barras\n",
    "plt.bar(migrantes.TOTAL_MIGRANTES_MORTOS[1],migrantes.QTDE_HOMENS[1],color='yellow')\n",
    "plt.bar(migrantes.TOTAL_MIGRANTES_MORTOS[1],migrantes.QTDE_MULHERES[1],color='PINK')\n",
    "plt.bar(migrantes.TOTAL_MIGRANTES_MORTOS[1],migrantes.QTDE_CRIANCAS[1],color='green')\n"
   ]
  },
  {
   "cell_type": "code",
   "execution_count": 189,
   "metadata": {},
   "outputs": [],
   "source": [
    "#grafico de barras\n",
    "plt.bar(migrantes.TOTAL_MIGRANTES_MORTOS[90],migrantes.QTDE_HOMENS[90],color='yellow')\n",
    "plt.bar(migrantes.TOTAL_MIGRANTES_MORTOS[90],migrantes.QTDE_MULHERES[90],color='PINK')\n",
    "plt.bar(migrantes.TOTAL_MIGRANTES_MORTOS[90],migrantes.QTDE_CRIANCAS[90],color='green')\n",
    "\n",
    "plt.ylabel(\"QTDE HOMENS / MULHERES / CRIANÇAS\")\n",
    "plt.xlabel(\"TOTAL_MORTOS\")\n",
    "plt.title(\"Gráfico de QTDE de homens, mulheres e crianças mortas (Tentativa 2)\")"
   ]
  },
  {
   "cell_type": "code",
   "execution_count": 220,
   "metadata": {},
   "outputs": [],
   "source": [
    "#ax = migrantes[migrantes[\"target\"] == 0.0].plot.scatter(\"sepal width (cm)\", \"sepal length (cm)\", c=\"m\")\n",
    "\n",
    "migrantes_amostra.hist(figsize=(10,8))\n",
    "\n",
    "\n"
   ]
  },
  {
   "cell_type": "markdown",
   "metadata": {},
   "outputs": [],
   "source": [
    "### 4) **(60%)** Nos blocos seguintes construa análises que vão justificar suas conclusões."
   ]
  },
  {
   "cell_type": "markdown",
   "metadata": {},
   "outputs": [],
   "source": [
    "#### 4.1) **(20%)** Análise 1 -  Distribuição dos valores para cada uma das variáveis\n",
    "- Exemplo para variável contínua: se o conjunto de dados possui a variável \"idade\". Quantos % possui a idade entre 0 e 30 anos? 31 a 59? 60+?\n",
    "\n",
    "- Exemplo para variável discreta: se o conjunto de dados possui a variável \"gênero\", quantos % do conjunto de dados é do sexo feminino, quantos % é masculino? Inclua outros gêneros se houver.\n"
   ]
  },
  {
   "cell_type": "code",
   "execution_count": 0,
   "metadata": {},
   "outputs": [],
   "source": [
    "# Implemente sua análise aqui. Use mais blocos se achar que ficará mais organizado."
   ]
  },
  {
   "cell_type": "code",
   "execution_count": 240,
   "metadata": {},
   "outputs": [],
   "source": [
    "# Variável contínua: 'TOTAL_MIGRANTES_MORTOS' (% do total que está morto)\n",
    "\n",
    "plt.bar(migrantes_amostra.TOTAL_MIGRANTES_MORTOS,migrantes_amostra.TOTAL_MIGRANTES_MORTOS_DESAPARECIDOS,color='yellow')\n",
    "\n",
    "plt.ylabel(\"TOTAL MORTOS\")\n",
    "plt.xlabel(\"TOTAL MORTOS  DESAPARECIDOS\")\n",
    "plt.title(\"Total migrantes mortos x Total migrantes mortos e desaparecidos\")"
   ]
  },
  {
   "cell_type": "code",
   "execution_count": 239,
   "metadata": {},
   "outputs": [],
   "source": [
    "# Variável contínua: 'TOTAL_MIGRANTES_DESAPARECIDOS' (% do total que está desparecido)\n",
    "width =0.5\n",
    "plt.bar(migrantes_amostra.TOTAL_MIGRANTES_DESAPARECIDOS,migrantes_amostra.TOTAL_MIGRANTES_MORTOS_DESAPARECIDOS,width,color='green') #(x,y)\n",
    "\n",
    "plt.ylabel(\"TOTAL MORTOS\")\n",
    "plt.xlabel(\"TOTAL DESAPARECIDOS\")\n",
    "plt.title(\"Total desaparecidos x Total mortos e desaparecidos\")\n"
   ]
  },
  {
   "cell_type": "code",
   "execution_count": 243,
   "metadata": {},
   "outputs": [],
   "source": [
    "# Variável contínua: 'TOTAL_sobreviventes (% do total que sobreviveu)\n",
    "width =0.5\n",
    "plt.bar(migrantes_amostra.QTDE_SOBREVIVENTES,migrantes_amostra.TOTAL_MIGRANTES_MORTOS_DESAPARECIDOS,width,color='green') #(x,y)\n",
    "\n",
    "plt.ylabel(\"TOTAL MORTOS\")\n",
    "plt.xlabel(\"Qtde Sobreviventes\")\n",
    "plt.title(\"Total sobreviventes x Total mortos e desaparecidos\")\n"
   ]
  },
  {
   "cell_type": "code",
   "execution_count": 246,
   "metadata": {},
   "outputs": [],
   "source": [
    "# Variável contínua: 'QTDE_MULHERES' (% do total que são mulheres)\n",
    "width =0.5\n",
    "plt.bar(migrantes_amostra.QTDE_MULHERES,migrantes_amostra.TOTAL_MIGRANTES_MORTOS_DESAPARECIDOS,width,color='green') #(x,y)\n",
    "\n",
    "plt.ylabel(\"TOTAL MORTOS\")\n",
    "plt.xlabel(\"Qtde mulheres mortas\")\n",
    "plt.title(\"Total mulheres mortas x Total mortos e desaparecidos\")"
   ]
  },
  {
   "cell_type": "code",
   "execution_count": 247,
   "metadata": {},
   "outputs": [],
   "source": [
    "# Variável contínua: 'QTDE_HOMENS' (% do total que são homens)\n",
    "width =0.5\n",
    "plt.bar(migrantes_amostra.QTDE_HOMENS,migrantes_amostra.TOTAL_MIGRANTES_MORTOS_DESAPARECIDOS,width,color='green') #(x,y)\n",
    "\n",
    "plt.ylabel(\"TOTAL MORTOS\")\n",
    "plt.xlabel(\"Qtde homens mortas\")\n",
    "plt.title(\"Total homens mortas x Total mortos e desaparecidos\")"
   ]
  },
  {
   "cell_type": "code",
   "execution_count": 256,
   "metadata": {},
   "outputs": [],
   "source": [
    "# Variável contínua: 'QTDE_CRIANCAS' (% do total que são crianças)\n",
    "width =0.5\n",
    "#plt.plot(migrantes_amostra.QTDE_CRIANCAS,migrantes_amostra.TOTAL_MIGRANTES_MORTOS_DESAPARECIDOS,width,color='green') #(x,y)\n",
    "\n",
    "plt.scatter(migrantes_amostra.QTDE_CRIANCAS, migrantes_amostra.TOTAL_MIGRANTES_MORTOS_DESAPARECIDOS)\n",
    "\n",
    "plt.ylabel(\"TOTAL MORTOS\")\n",
    "plt.xlabel(\"Qtde crianças mortas\")\n",
    "plt.title(\"Total crianças mortas x Total mortos e desaparecidos\")\n",
    "\n"
   ]
  },
  {
   "cell_type": "code",
   "execution_count": 264,
   "metadata": {},
   "outputs": [],
   "source": [
    "\n",
    "migrantes_amostra.TOTAL_MIGRANTES_MORTOS_DESAPARECIDOS.describe()"
   ]
  },
  {
   "cell_type": "markdown",
   "metadata": {},
   "outputs": [],
   "source": [
    "#### 4.2) **(20%)** Análise 2 - Dependência entre variáveis\n",
    "O aluno deve apresentar as mesmas distribuições para cada valor da variável dependente. Exemplo: Em um conjunto de dados em que as variáveis independentes são idade e sexo, e a variável dependente é renda. O aluno pode dividir a renda em 3 \"grupos\", <1000 reais, entre 1000 e 10000 reais e >1000 reais. Para cada um desses grupos, é necessário apresentar a distribuição das variáveis \"idade\" e \"sexo\".\n"
   ]
  },
  {
   "cell_type": "code",
   "execution_count": 0,
   "metadata": {},
   "outputs": [],
   "source": [
    "# Implemente sua análise aqui. Use mais blocos se achar que ficará mais organizado."
   ]
  },
  {
   "cell_type": "code",
   "execution_count": null,
   "metadata": {},
   "outputs": [],
   "source": [
    "# Agrupar por REGIAO_INCIDENTE\n",
    "\n",
    "\n"
   ]
  },
  {
   "cell_type": "markdown",
   "metadata": {},
   "outputs": [],
   "source": [
    "#### 4.3) **(20%)** Análise 3 - Correlação entre variáveis\n",
    "\n",
    "O aluno deve apresentar 3 análises de correlação entre variáveis do conjunto de dados trabalhado. Exemplo: Em um conjunto de dados com as informações de temperatura e ocorrência de incêndios, eu gostaria de saber a incidência de correlação entre as duas variáveis.\n",
    "\n"
   ]
  },
  {
   "cell_type": "code",
   "execution_count": 0,
   "metadata": {},
   "outputs": [],
   "source": [
    "# Primeiro par de variáveis: Implemente sua análise aqui. Use mais blocos se achar que ficará mais organizado."
   ]
  },
  {
   "cell_type": "code",
   "execution_count": 0,
   "metadata": {},
   "outputs": [],
   "source": [
    "# Segundo par de variáveis: Implemente sua análise aqui. Use mais blocos se achar que ficará mais organizado."
   ]
  },
  {
   "cell_type": "code",
   "execution_count": 0,
   "metadata": {},
   "outputs": [],
   "source": [
    "# Terceiro par de variáveis: Implemente sua análise aqui. Use mais blocos se achar que ficará mais organizado."
   ]
  },
  {
   "cell_type": "markdown",
   "metadata": {},
   "outputs": [],
   "source": [
    "### 5) Conclusões **15%**"
   ]
  },
  {
   "cell_type": "markdown",
   "metadata": {},
   "outputs": [],
   "source": [
    "*O que é possível concluir com os dados que você analisou? Se fosse fazer uma apresentação, o que levaria como os maiores destaques e por que?*"
   ]
  },
  {
   "cell_type": "markdown",
   "metadata": {},
   "outputs": [],
   "source": []
  }
 ],
 "metadata": {
  "file_extension": ".py",
  "kernelspec": {
   "display_name": "Python 3",
   "language": "python",
   "name": "python3"
  },
  "language_info": {
   "codemirror_mode": {
    "name": "ipython",
    "version": 3
   },
   "file_extension": ".py",
   "mimetype": "text/x-python",
   "name": "python",
   "nbconvert_exporter": "python",
   "pygments_lexer": "ipython3",
   "version": "3.7.4"
  },
  "mimetype": "text/x-python",
  "name": "python",
  "npconvert_exporter": "python",
  "pygments_lexer": "ipython3",
  "version": 3
 },
 "nbformat": 4,
 "nbformat_minor": 2
}