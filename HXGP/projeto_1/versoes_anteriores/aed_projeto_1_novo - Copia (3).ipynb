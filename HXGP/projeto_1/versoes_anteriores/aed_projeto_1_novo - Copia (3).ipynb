{
 "cells": [
  {
   "cell_type": "markdown",
   "metadata": {},
   "outputs": [],
   "source": [
    "# Projeto #1 - Análise Exploratória de Dados\n",
    "\n",
    "Antes de começar, leia as [Instruções](https://github.com/thvmm/pos-ds-ia/tree/master/projeto_1#instru%C3%A7%C3%B5es) e os [Critérios de Avaliação](https://github.com/thvmm/pos-ds-ia/tree/master/projeto_1#crit%C3%A9rios-de-avalia%C3%A7%C3%A3o)\n"
   ]
  },
  {
   "cell_type": "markdown",
   "metadata": {},
   "outputs": [],
   "source": [
    "### 1) **(5%)** Qual a base escolhida e qual seu interesse nela?"
   ]
  },
  {
   "cell_type": "markdown",
   "metadata": {},
   "outputs": [],
   "source": [
    "*Indique o link da base no Kaggle e explique em um parágrafo curto por que essa base é interessante para você.*\n",
    "\n",
    "https://www.kaggle.com/snocco/missing-migrants-project\n",
    "\n",
    "Me interessei pela base, por possuir uma boa variedade de tipo de features, me permitindo aplicar os conhecimentos que estou adiquirindo no curso."
   ]
  },
  {
   "cell_type": "markdown",
   "metadata": {},
   "outputs": [],
   "source": [
    "### 2) **(5%)** Descrição básica do conjunto de dados escolhido pelo aluno (1 parágrafo).\n",
    "- Identificação da variável a serem trabalhadas\n",
    "- Classificação das variáveis como: contínua ou discreta.\n"
   ]
  },
  {
   "cell_type": "markdown",
   "metadata": {},
   "outputs": [],
   "source": [
    "As variáveis são:\n",
    "\n",
    "\n",
    "Contínuas:'TOTAL_MIGRANTES_DESAPARECIDOS'\n",
    "\n",
    "Discretas:'ID', 'REGIAO_INCIDENTE','DATA_INCIDENTE','ANO_INCIDENTE','MES_INCIDENTE','TOTAL_MIGRANTES_MORTOS',\n",
    "'TOTAL_MIGRANTES_DESAPARECIDOS','TOTAL_MIGRANTES_MORTOS_DESAPARECIDOS','QTDE_SOBREVIVENTES','QTDE_MULHERES','QTDE_HOMENS','QTDE_CRIANCAS',\n",
    "CAUSA_MORTE','LOCAL_INCIDENTE','INFORMACOES_PESQUISA','COORDENADAS_LOCAL_INCIDENTE','ROTA_MIGRACAO','URL','GEOGRAFICO','QUALIDADE_PESQUISA'\n"
   ]
  },
  {
   "cell_type": "markdown",
   "metadata": {},
   "outputs": [],
   "source": [
    "### 2) **(15%)** Faça uma avaliação descritiva da sua base. Quantas linhas ela possui? Quais os tipos de dados? Quantas e quais features possuem?\n",
    "\n",
    "Cada variável escolhida pelo aluno precisa passar por ao menos 1 pré-processamento. O pré-processamento pode ser (mas não está limitado a):\n",
    "- Checagem se os valores estão dentro de um limite permitido ou razoável.\n",
    "- Tratamento de valores ausentes por eliminação ou substituição.\n",
    "- Conversão do tipo de dados.\n"
   ]
  },
  {
   "cell_type": "code",
   "execution_count": 18,
   "metadata": {},
   "outputs": [],
   "source": [
    "# Implemente sua análise aqui. Use mais blocos se achar que ficará mais organizado.\n",
    "\n",
    "import pandas as pd\n",
    "from sklearn.decomposition import PCA\n",
    "import matplotlib.pyplot as plt"
   ]
  },
  {
   "cell_type": "code",
   "execution_count": 28,
   "metadata": {},
   "outputs": [
    {
     "data": {
      "text/html": "<div>\n<style scoped>\n    .dataframe tbody tr th:only-of-type {\n        vertical-align: middle;\n    }\n\n    .dataframe tbody tr th {\n        vertical-align: top;\n    }\n\n    .dataframe thead th {\n        text-align: right;\n    }\n</style>\n<table border=\"1\" class=\"dataframe\">\n  <thead>\n    <tr style=\"text-align: right;\">\n      <th></th>\n      <th>ID</th>\n      <th>REGIAO_INCIDENTE</th>\n      <th>DATA_INCIDENTE</th>\n      <th>ANO_INCIDENTE</th>\n      <th>MES_INCIDENTE</th>\n      <th>TOTAL_MIGRANTES_MORTOS</th>\n      <th>TOTAL_MIGRANTES_DESAPARECIDOS</th>\n      <th>TOTAL_MIGRANTES_MORTOS_DESAPARECIDOS</th>\n      <th>QTDE_SOBREVIVENTES</th>\n      <th>QTDE_MULHERES</th>\n      <th>QTDE_HOMENS</th>\n      <th>QTDE_CRIANCAS</th>\n      <th>CAUSA_MORTE</th>\n      <th>LOCAL_INCIDENTE</th>\n      <th>INFORMACOES_PESQUISA</th>\n      <th>COORDENADAS_LOCAL_INCIDENTE</th>\n      <th>ROTA_MIGRACAO</th>\n      <th>URL</th>\n      <th>GEOGRAFICO</th>\n      <th>QUALIDADE_PESQUISA</th>\n    </tr>\n  </thead>\n  <tbody>\n    <tr>\n      <th>0</th>\n      <td>51591</td>\n      <td>Mediterranean</td>\n      <td>March 28, 2019</td>\n      <td>2019</td>\n      <td>Mar</td>\n      <td>NaN</td>\n      <td>2.0</td>\n      <td>2</td>\n      <td>36.0</td>\n      <td>NaN</td>\n      <td>2.0</td>\n      <td>NaN</td>\n      <td>Presumed drowning</td>\n      <td>Off the coast of Chios, Greece</td>\n      <td>Hellenic Coast Guard via IOM Greece</td>\n      <td>38.362368696592, 26.172509473654</td>\n      <td>Eastern Mediterranean</td>\n      <td>NaN</td>\n      <td>Uncategorized</td>\n      <td>5</td>\n    </tr>\n    <tr>\n      <th>1</th>\n      <td>51588</td>\n      <td>Mediterranean</td>\n      <td>March 26, 2019</td>\n      <td>2019</td>\n      <td>Mar</td>\n      <td>4.0</td>\n      <td>NaN</td>\n      <td>4</td>\n      <td>11.0</td>\n      <td>3.0</td>\n      <td>NaN</td>\n      <td>1.0</td>\n      <td>Presumed drowning</td>\n      <td>Off the coast of Ayvacık district, Çanakkale p...</td>\n      <td>Turkish Coast Guard via IOM Turkey</td>\n      <td>39.441975591614, 26.378816195919</td>\n      <td>Eastern Mediterranean</td>\n      <td>http://bit.ly/2YmiPAN</td>\n      <td>Uncategorized</td>\n      <td>5</td>\n    </tr>\n    <tr>\n      <th>2</th>\n      <td>51589</td>\n      <td>Mediterranean</td>\n      <td>March 26, 2019</td>\n      <td>2019</td>\n      <td>Mar</td>\n      <td>1.0</td>\n      <td>NaN</td>\n      <td>1</td>\n      <td>NaN</td>\n      <td>NaN</td>\n      <td>NaN</td>\n      <td>NaN</td>\n      <td>Presumed drowning</td>\n      <td>Body recovered on Playa del Tarajal, Ceuta, Sp...</td>\n      <td>Ceuta al día, El Pueblo de Ceuta</td>\n      <td>35.871901875921, -5.343037665842</td>\n      <td>Western Mediterranean</td>\n      <td>http://bit.ly/2uyj7qO, http://bit.ly/2uwj5zC</td>\n      <td>Uncategorized</td>\n      <td>3</td>\n    </tr>\n    <tr>\n      <th>3</th>\n      <td>51590</td>\n      <td>Mediterranean</td>\n      <td>March 26, 2019</td>\n      <td>2019</td>\n      <td>Mar</td>\n      <td>1.0</td>\n      <td>NaN</td>\n      <td>1</td>\n      <td>NaN</td>\n      <td>NaN</td>\n      <td>NaN</td>\n      <td>NaN</td>\n      <td>Presumed drowning</td>\n      <td>Body recovered on beach near Tetouan, Morocco ...</td>\n      <td>El Pueblo de Ceuta</td>\n      <td>35.635115912988, -5.275650103548</td>\n      <td>Western Mediterranean</td>\n      <td>http://bit.ly/2uwj5zC</td>\n      <td>Uncategorized</td>\n      <td>1</td>\n    </tr>\n    <tr>\n      <th>4</th>\n      <td>51587</td>\n      <td>Central America</td>\n      <td>March 25, 2019</td>\n      <td>2019</td>\n      <td>Mar</td>\n      <td>1.0</td>\n      <td>NaN</td>\n      <td>1</td>\n      <td>NaN</td>\n      <td>NaN</td>\n      <td>1.0</td>\n      <td>NaN</td>\n      <td>Fall from train</td>\n      <td>Train tracks in Teacalco, Tlaxcala, Mexico</td>\n      <td>Megalópolis, Línea de contraste</td>\n      <td>19.334475177429, -98.069823987538</td>\n      <td>NaN</td>\n      <td>http://bit.ly/2uvDIvH, http://bit.ly/2TXAFLS</td>\n      <td>Central America</td>\n      <td>3</td>\n    </tr>\n  </tbody>\n</table>\n</div>",
      "text/plain": "      ID REGIAO_INCIDENTE  DATA_INCIDENTE  ANO_INCIDENTE MES_INCIDENTE  \\\n0  51591    Mediterranean  March 28, 2019           2019           Mar   \n1  51588    Mediterranean  March 26, 2019           2019           Mar   \n2  51589    Mediterranean  March 26, 2019           2019           Mar   \n3  51590    Mediterranean  March 26, 2019           2019           Mar   \n4  51587  Central America  March 25, 2019           2019           Mar   \n\n   TOTAL_MIGRANTES_MORTOS  TOTAL_MIGRANTES_DESAPARECIDOS  \\\n0                     NaN                            2.0   \n1                     4.0                            NaN   \n2                     1.0                            NaN   \n3                     1.0                            NaN   \n4                     1.0                            NaN   \n\n   TOTAL_MIGRANTES_MORTOS_DESAPARECIDOS  QTDE_SOBREVIVENTES  QTDE_MULHERES  \\\n0                                     2                36.0            NaN   \n1                                     4                11.0            3.0   \n2                                     1                 NaN            NaN   \n3                                     1                 NaN            NaN   \n4                                     1                 NaN            NaN   \n\n   QTDE_HOMENS  QTDE_CRIANCAS        CAUSA_MORTE  \\\n0          2.0            NaN  Presumed drowning   \n1          NaN            1.0  Presumed drowning   \n2          NaN            NaN  Presumed drowning   \n3          NaN            NaN  Presumed drowning   \n4          1.0            NaN    Fall from train   \n\n                                     LOCAL_INCIDENTE  \\\n0                     Off the coast of Chios, Greece   \n1  Off the coast of Ayvacık district, Çanakkale p...   \n2  Body recovered on Playa del Tarajal, Ceuta, Sp...   \n3  Body recovered on beach near Tetouan, Morocco ...   \n4         Train tracks in Teacalco, Tlaxcala, Mexico   \n\n                  INFORMACOES_PESQUISA        COORDENADAS_LOCAL_INCIDENTE  \\\n0  Hellenic Coast Guard via IOM Greece   38.362368696592, 26.172509473654   \n1   Turkish Coast Guard via IOM Turkey   39.441975591614, 26.378816195919   \n2     Ceuta al día, El Pueblo de Ceuta   35.871901875921, -5.343037665842   \n3                   El Pueblo de Ceuta   35.635115912988, -5.275650103548   \n4      Megalópolis, Línea de contraste  19.334475177429, -98.069823987538   \n\n           ROTA_MIGRACAO                                           URL  \\\n0  Eastern Mediterranean                                           NaN   \n1  Eastern Mediterranean                         http://bit.ly/2YmiPAN   \n2  Western Mediterranean  http://bit.ly/2uyj7qO, http://bit.ly/2uwj5zC   \n3  Western Mediterranean                         http://bit.ly/2uwj5zC   \n4                    NaN  http://bit.ly/2uvDIvH, http://bit.ly/2TXAFLS   \n\n        GEOGRAFICO  QUALIDADE_PESQUISA  \n0    Uncategorized                   5  \n1    Uncategorized                   5  \n2    Uncategorized                   3  \n3    Uncategorized                   1  \n4  Central America                   3  "
     },
     "execution_count": 28,
     "metadata": {},
     "output_type": "execute_result"
    }
   ],
   "source": [
    "migrantes = pd.read_csv(\"projeto_1/missing-migrants/MissingMigrants-Global.csv\")\n",
    "migrantes.columns = ['ID', 'REGIAO_INCIDENTE','DATA_INCIDENTE','ANO_INCIDENTE','MES_INCIDENTE','TOTAL_MIGRANTES_MORTOS','TOTAL_MIGRANTES_DESAPARECIDOS','TOTAL_MIGRANTES_MORTOS_DESAPARECIDOS','QTDE_SOBREVIVENTES','QTDE_MULHERES','QTDE_HOMENS','QTDE_CRIANCAS','CAUSA_MORTE','LOCAL_INCIDENTE','INFORMACOES_PESQUISA','COORDENADAS_LOCAL_INCIDENTE','ROTA_MIGRACAO','URL','GEOGRAFICO','QUALIDADE_PESQUISA']\n",
    "migrantes.head(5)"
   ]
  },
  {
   "cell_type": "code",
   "execution_count": 29,
   "metadata": {},
   "outputs": [
    {
     "data": {
      "text/html": "<div>\n<style scoped>\n    .dataframe tbody tr th:only-of-type {\n        vertical-align: middle;\n    }\n\n    .dataframe tbody tr th {\n        vertical-align: top;\n    }\n\n    .dataframe thead th {\n        text-align: right;\n    }\n</style>\n<table border=\"1\" class=\"dataframe\">\n  <thead>\n    <tr style=\"text-align: right;\">\n      <th></th>\n      <th>ID</th>\n      <th>ANO_INCIDENTE</th>\n      <th>TOTAL_MIGRANTES_MORTOS</th>\n      <th>TOTAL_MIGRANTES_DESAPARECIDOS</th>\n      <th>TOTAL_MIGRANTES_MORTOS_DESAPARECIDOS</th>\n      <th>QTDE_SOBREVIVENTES</th>\n      <th>QTDE_MULHERES</th>\n      <th>QTDE_HOMENS</th>\n      <th>QTDE_CRIANCAS</th>\n      <th>QUALIDADE_PESQUISA</th>\n    </tr>\n  </thead>\n  <tbody>\n    <tr>\n      <th>count</th>\n      <td>5333.000000</td>\n      <td>5333.000000</td>\n      <td>5142.000000</td>\n      <td>503.000000</td>\n      <td>5333.000000</td>\n      <td>749.000000</td>\n      <td>897.000000</td>\n      <td>2813.000000</td>\n      <td>644.000000</td>\n      <td>5333.000000</td>\n    </tr>\n    <tr>\n      <th>mean</th>\n      <td>43247.885805</td>\n      <td>2016.656104</td>\n      <td>3.287631</td>\n      <td>29.119284</td>\n      <td>5.916370</td>\n      <td>63.607477</td>\n      <td>2.012263</td>\n      <td>1.890864</td>\n      <td>2.476708</td>\n      <td>2.895556</td>\n    </tr>\n    <tr>\n      <th>std</th>\n      <td>5186.837212</td>\n      <td>1.237033</td>\n      <td>13.593407</td>\n      <td>67.913216</td>\n      <td>28.051811</td>\n      <td>146.520155</td>\n      <td>2.990100</td>\n      <td>5.510674</td>\n      <td>10.216220</td>\n      <td>1.423257</td>\n    </tr>\n    <tr>\n      <th>min</th>\n      <td>30158.000000</td>\n      <td>2014.000000</td>\n      <td>0.000000</td>\n      <td>0.000000</td>\n      <td>0.000000</td>\n      <td>0.000000</td>\n      <td>0.000000</td>\n      <td>0.000000</td>\n      <td>0.000000</td>\n      <td>1.000000</td>\n    </tr>\n    <tr>\n      <th>25%</th>\n      <td>40876.000000</td>\n      <td>2016.000000</td>\n      <td>1.000000</td>\n      <td>2.000000</td>\n      <td>1.000000</td>\n      <td>5.000000</td>\n      <td>1.000000</td>\n      <td>1.000000</td>\n      <td>1.000000</td>\n      <td>2.000000</td>\n    </tr>\n    <tr>\n      <th>50%</th>\n      <td>43504.000000</td>\n      <td>2017.000000</td>\n      <td>1.000000</td>\n      <td>7.000000</td>\n      <td>1.000000</td>\n      <td>15.000000</td>\n      <td>1.000000</td>\n      <td>1.000000</td>\n      <td>1.000000</td>\n      <td>2.000000</td>\n    </tr>\n    <tr>\n      <th>75%</th>\n      <td>45747.000000</td>\n      <td>2018.000000</td>\n      <td>2.000000</td>\n      <td>25.000000</td>\n      <td>3.000000</td>\n      <td>61.000000</td>\n      <td>2.000000</td>\n      <td>1.000000</td>\n      <td>2.000000</td>\n      <td>4.000000</td>\n    </tr>\n    <tr>\n      <th>max</th>\n      <td>51592.000000</td>\n      <td>2019.000000</td>\n      <td>750.000000</td>\n      <td>750.000000</td>\n      <td>1022.000000</td>\n      <td>1950.000000</td>\n      <td>30.000000</td>\n      <td>135.000000</td>\n      <td>250.000000</td>\n      <td>5.000000</td>\n    </tr>\n  </tbody>\n</table>\n</div>",
      "text/plain": "                 ID  ANO_INCIDENTE  TOTAL_MIGRANTES_MORTOS  \\\ncount   5333.000000    5333.000000             5142.000000   \nmean   43247.885805    2016.656104                3.287631   \nstd     5186.837212       1.237033               13.593407   \nmin    30158.000000    2014.000000                0.000000   \n25%    40876.000000    2016.000000                1.000000   \n50%    43504.000000    2017.000000                1.000000   \n75%    45747.000000    2018.000000                2.000000   \nmax    51592.000000    2019.000000              750.000000   \n\n       TOTAL_MIGRANTES_DESAPARECIDOS  TOTAL_MIGRANTES_MORTOS_DESAPARECIDOS  \\\ncount                     503.000000                           5333.000000   \nmean                       29.119284                              5.916370   \nstd                        67.913216                             28.051811   \nmin                         0.000000                              0.000000   \n25%                         2.000000                              1.000000   \n50%                         7.000000                              1.000000   \n75%                        25.000000                              3.000000   \nmax                       750.000000                           1022.000000   \n\n       QTDE_SOBREVIVENTES  QTDE_MULHERES  QTDE_HOMENS  QTDE_CRIANCAS  \\\ncount          749.000000     897.000000  2813.000000     644.000000   \nmean            63.607477       2.012263     1.890864       2.476708   \nstd            146.520155       2.990100     5.510674      10.216220   \nmin              0.000000       0.000000     0.000000       0.000000   \n25%              5.000000       1.000000     1.000000       1.000000   \n50%             15.000000       1.000000     1.000000       1.000000   \n75%             61.000000       2.000000     1.000000       2.000000   \nmax           1950.000000      30.000000   135.000000     250.000000   \n\n       QUALIDADE_PESQUISA  \ncount         5333.000000  \nmean             2.895556  \nstd              1.423257  \nmin              1.000000  \n25%              2.000000  \n50%              2.000000  \n75%              4.000000  \nmax              5.000000  "
     },
     "execution_count": 29,
     "metadata": {},
     "output_type": "execute_result"
    }
   ],
   "source": [
    "#A base possui 5333 registros e 20 features.\n",
    "# Checagem se os valores estão dentro de um limite permitido ou razoável.\n",
    "\n",
    "#'TOTAL MORTOS': o valor mínimo é zero, como o dataset é para analisar a quantidade ocorrida de mortos, zero não é um valor aceitavel. \n",
    "#\n",
    "migrantes.describe()\n"
   ]
  },
  {
   "cell_type": "code",
   "execution_count": 35,
   "metadata": {},
   "outputs": [
    {
     "data": {
      "text/html": "<div>\n<style scoped>\n    .dataframe tbody tr th:only-of-type {\n        vertical-align: middle;\n    }\n\n    .dataframe tbody tr th {\n        vertical-align: top;\n    }\n\n    .dataframe thead th {\n        text-align: right;\n    }\n</style>\n<table border=\"1\" class=\"dataframe\">\n  <thead>\n    <tr style=\"text-align: right;\">\n      <th></th>\n      <th>ID</th>\n      <th>REGIAO_INCIDENTE</th>\n      <th>DATA_INCIDENTE</th>\n      <th>ANO_INCIDENTE</th>\n      <th>MES_INCIDENTE</th>\n      <th>TOTAL_MIGRANTES_MORTOS</th>\n      <th>TOTAL_MIGRANTES_DESAPARECIDOS</th>\n      <th>TOTAL_MIGRANTES_MORTOS_DESAPARECIDOS</th>\n      <th>QTDE_SOBREVIVENTES</th>\n      <th>QTDE_MULHERES</th>\n      <th>QTDE_HOMENS</th>\n      <th>QTDE_CRIANCAS</th>\n      <th>CAUSA_MORTE</th>\n      <th>LOCAL_INCIDENTE</th>\n      <th>INFORMACOES_PESQUISA</th>\n      <th>COORDENADAS_LOCAL_INCIDENTE</th>\n      <th>ROTA_MIGRACAO</th>\n      <th>URL</th>\n      <th>GEOGRAFICO</th>\n      <th>QUALIDADE_PESQUISA</th>\n    </tr>\n  </thead>\n  <tbody>\n    <tr>\n      <th>0</th>\n      <td>51591</td>\n      <td>Mediterranean</td>\n      <td>March 28, 2019</td>\n      <td>2019</td>\n      <td>Mar</td>\n      <td>NaN</td>\n      <td>2.0</td>\n      <td>2</td>\n      <td>36.0</td>\n      <td>NaN</td>\n      <td>2.0</td>\n      <td>NaN</td>\n      <td>Presumed drowning</td>\n      <td>Off the coast of Chios, Greece</td>\n      <td>Hellenic Coast Guard via IOM Greece</td>\n      <td>38.362368696592, 26.172509473654</td>\n      <td>Eastern Mediterranean</td>\n      <td>NaN</td>\n      <td>Uncategorized</td>\n      <td>5</td>\n    </tr>\n    <tr>\n      <th>1</th>\n      <td>51588</td>\n      <td>Mediterranean</td>\n      <td>March 26, 2019</td>\n      <td>2019</td>\n      <td>Mar</td>\n      <td>4.0</td>\n      <td>NaN</td>\n      <td>4</td>\n      <td>11.0</td>\n      <td>3.0</td>\n      <td>NaN</td>\n      <td>1.0</td>\n      <td>Presumed drowning</td>\n      <td>Off the coast of Ayvacık district, Çanakkale p...</td>\n      <td>Turkish Coast Guard via IOM Turkey</td>\n      <td>39.441975591614, 26.378816195919</td>\n      <td>Eastern Mediterranean</td>\n      <td>http://bit.ly/2YmiPAN</td>\n      <td>Uncategorized</td>\n      <td>5</td>\n    </tr>\n    <tr>\n      <th>2</th>\n      <td>51589</td>\n      <td>Mediterranean</td>\n      <td>March 26, 2019</td>\n      <td>2019</td>\n      <td>Mar</td>\n      <td>1.0</td>\n      <td>NaN</td>\n      <td>1</td>\n      <td>NaN</td>\n      <td>NaN</td>\n      <td>NaN</td>\n      <td>NaN</td>\n      <td>Presumed drowning</td>\n      <td>Body recovered on Playa del Tarajal, Ceuta, Sp...</td>\n      <td>Ceuta al día, El Pueblo de Ceuta</td>\n      <td>35.871901875921, -5.343037665842</td>\n      <td>Western Mediterranean</td>\n      <td>http://bit.ly/2uyj7qO, http://bit.ly/2uwj5zC</td>\n      <td>Uncategorized</td>\n      <td>3</td>\n    </tr>\n    <tr>\n      <th>3</th>\n      <td>51590</td>\n      <td>Mediterranean</td>\n      <td>March 26, 2019</td>\n      <td>2019</td>\n      <td>Mar</td>\n      <td>1.0</td>\n      <td>NaN</td>\n      <td>1</td>\n      <td>NaN</td>\n      <td>NaN</td>\n      <td>NaN</td>\n      <td>NaN</td>\n      <td>Presumed drowning</td>\n      <td>Body recovered on beach near Tetouan, Morocco ...</td>\n      <td>El Pueblo de Ceuta</td>\n      <td>35.635115912988, -5.275650103548</td>\n      <td>Western Mediterranean</td>\n      <td>http://bit.ly/2uwj5zC</td>\n      <td>Uncategorized</td>\n      <td>1</td>\n    </tr>\n    <tr>\n      <th>4</th>\n      <td>51587</td>\n      <td>Central America</td>\n      <td>March 25, 2019</td>\n      <td>2019</td>\n      <td>Mar</td>\n      <td>1.0</td>\n      <td>NaN</td>\n      <td>1</td>\n      <td>NaN</td>\n      <td>NaN</td>\n      <td>1.0</td>\n      <td>NaN</td>\n      <td>Fall from train</td>\n      <td>Train tracks in Teacalco, Tlaxcala, Mexico</td>\n      <td>Megalópolis, Línea de contraste</td>\n      <td>19.334475177429, -98.069823987538</td>\n      <td>NaN</td>\n      <td>http://bit.ly/2uvDIvH, http://bit.ly/2TXAFLS</td>\n      <td>Central America</td>\n      <td>3</td>\n    </tr>\n  </tbody>\n</table>\n</div>",
      "text/plain": "      ID REGIAO_INCIDENTE  DATA_INCIDENTE  ANO_INCIDENTE MES_INCIDENTE  \\\n0  51591    Mediterranean  March 28, 2019           2019           Mar   \n1  51588    Mediterranean  March 26, 2019           2019           Mar   \n2  51589    Mediterranean  March 26, 2019           2019           Mar   \n3  51590    Mediterranean  March 26, 2019           2019           Mar   \n4  51587  Central America  March 25, 2019           2019           Mar   \n\n   TOTAL_MIGRANTES_MORTOS  TOTAL_MIGRANTES_DESAPARECIDOS  \\\n0                     NaN                            2.0   \n1                     4.0                            NaN   \n2                     1.0                            NaN   \n3                     1.0                            NaN   \n4                     1.0                            NaN   \n\n   TOTAL_MIGRANTES_MORTOS_DESAPARECIDOS  QTDE_SOBREVIVENTES  QTDE_MULHERES  \\\n0                                     2                36.0            NaN   \n1                                     4                11.0            3.0   \n2                                     1                 NaN            NaN   \n3                                     1                 NaN            NaN   \n4                                     1                 NaN            NaN   \n\n   QTDE_HOMENS  QTDE_CRIANCAS        CAUSA_MORTE  \\\n0          2.0            NaN  Presumed drowning   \n1          NaN            1.0  Presumed drowning   \n2          NaN            NaN  Presumed drowning   \n3          NaN            NaN  Presumed drowning   \n4          1.0            NaN    Fall from train   \n\n                                     LOCAL_INCIDENTE  \\\n0                     Off the coast of Chios, Greece   \n1  Off the coast of Ayvacık district, Çanakkale p...   \n2  Body recovered on Playa del Tarajal, Ceuta, Sp...   \n3  Body recovered on beach near Tetouan, Morocco ...   \n4         Train tracks in Teacalco, Tlaxcala, Mexico   \n\n                  INFORMACOES_PESQUISA        COORDENADAS_LOCAL_INCIDENTE  \\\n0  Hellenic Coast Guard via IOM Greece   38.362368696592, 26.172509473654   \n1   Turkish Coast Guard via IOM Turkey   39.441975591614, 26.378816195919   \n2     Ceuta al día, El Pueblo de Ceuta   35.871901875921, -5.343037665842   \n3                   El Pueblo de Ceuta   35.635115912988, -5.275650103548   \n4      Megalópolis, Línea de contraste  19.334475177429, -98.069823987538   \n\n           ROTA_MIGRACAO                                           URL  \\\n0  Eastern Mediterranean                                           NaN   \n1  Eastern Mediterranean                         http://bit.ly/2YmiPAN   \n2  Western Mediterranean  http://bit.ly/2uyj7qO, http://bit.ly/2uwj5zC   \n3  Western Mediterranean                         http://bit.ly/2uwj5zC   \n4                    NaN  http://bit.ly/2uvDIvH, http://bit.ly/2TXAFLS   \n\n        GEOGRAFICO  QUALIDADE_PESQUISA  \n0    Uncategorized                   5  \n1    Uncategorized                   5  \n2    Uncategorized                   3  \n3    Uncategorized                   1  \n4  Central America                   3  "
     },
     "execution_count": 35,
     "metadata": {},
     "output_type": "execute_result"
    }
   ],
   "source": [
    "# Tratamento de valores ausentes por eliminação ou substituição.\n",
    "\n",
    "# ID, INFORMACOES_PESQUISA, COORDENADAS_LOCAL_INCIDENTE, URL, QUALIDADE_PESQUISA: colunas serão excluídas pois não tem relevância para a análise\n",
    "# DATA_INCIDENTE: será excluída pois a informação do dia não é relevante, o ano e mês estão contidos em outras colunas\n",
    "\n",
    "dúvida\n",
    "- unir as colunas mulheres, homens e crianças?\n",
    "\n",
    "\n",
    "migrantes.drop(0).head()\n",
    "migrantes.drop(2).head()\n",
    "migrantes.drop(14).head()\n",
    "migrantes.drop(15).head()\n",
    "migrantes.drop(17).head()\n",
    "migrantes.drop(19).head()"
   ]
  },
  {
   "cell_type": "code",
   "execution_count": 22,
   "metadata": {},
   "outputs": [
    {
     "data": {
      "text/plain": "ID                                        int64\nREGIAO_INCIDENTE                         object\nDATA_INCIDENTE                           object\nANO_INCIDENTE                             int64\nMES_INCIDENTE                            object\nTOTAL_MIGRANTES_MORTOS                  float64\nTOTAL_MIGRANTES_DESAPARECIDOS           float64\nTOTAL_MIGRANTES_MORTOS_DESAPARECIDOS      int64\nQTDE_SOBREVIVENTES                      float64\nQTDE_MULHERES                           float64\nQTDE_HOMENS                             float64\nQTDE_CRIANCAS                           float64\nCAUSA_MORTE                              object\nLOCAL_INCIDENTE                          object\nINFORMACOES_PESQUISA                     object\nCOORDENADAS_LOCAL_INCIDENTE              object\nROTA_MIGRACAO                            object\nURL                                      object\nGEOGRAFICO                               object\nQUALIDADE_PESQUISA                        int64\ndtype: object"
     },
     "execution_count": 22,
     "metadata": {},
     "output_type": "execute_result"
    }
   ],
   "source": [
    "# Conversão do tipo de dados.\n",
    "\n",
    "TOTAL_MIGRANTES_MORTOS: converter para inteiro\n",
    "TOTAL_MIGRANTES_DESAPARECIDOS: converter para inteiro\n",
    "TOTAL_MIGRANTES_MORTOS_DESAPARECIDOS: converter para inteiro\n",
    "QTDE_SOBREVIVENTES: converter para inteiro\n",
    "QTDE_MULHERES: converter para inteiro\n",
    "QTDE_HOMENS: converter para inteiro\n",
    "QTDE_CRIANCAS: converter para inteiro\n",
    "\n",
    "REGIAO_INCIDENTE: converter para inteiro\n",
    "MES_INCIDENTE: converter para inteiro\n",
    "CAUSA_MORTE: converter para inteiro\n",
    "LOCAL_INCIDENTE: converter para inteiro\n",
    "ROTA_MIGRACAO: converter para inteiro\n",
    "GEOGRAFICO: converter para inteiro\n",
    "\n",
    "\n",
    "migrantes.dtypes"
   ]
  },
  {
   "cell_type": "markdown",
   "metadata": {},
   "outputs": [],
   "source": [
    "### 4) **(60%)** Nos blocos seguintes construa análises que vão justificar suas conclusões."
   ]
  },
  {
   "cell_type": "markdown",
   "metadata": {},
   "outputs": [],
   "source": [
    "#### 4.1) **(20%)** Análise 1 -  Distribuição dos valores para cada uma das variáveis\n",
    "- Exemplo para variável contínua: se o conjunto de dados possui a variável \"idade\". Quantos % possui a idade entre 0 e 30 anos? 31 a 59? 60+?\n",
    "\n",
    "- Exemplo para variável discreta: se o conjunto de dados possui a variável \"gênero\", quantos % do conjunto de dados é do sexo feminino, quantos % é masculino? Inclua outros gêneros se houver.\n"
   ]
  },
  {
   "cell_type": "code",
   "execution_count": 23,
   "metadata": {},
   "outputs": [],
   "source": [
    "# Implemente sua análise aqui. Use mais blocos se achar que ficará mais organizado."
   ]
  },
  {
   "cell_type": "markdown",
   "metadata": {},
   "outputs": [],
   "source": [
    "#### 4.2) **(20%)** Análise 2 - Dependência entre variáveis\n",
    "O aluno deve apresentar as mesmas distribuições para cada valor da variável dependente. Exemplo: Em um conjunto de dados em que as variáveis independentes são idade e sexo, e a variável dependente é renda. O aluno pode dividir a renda em 3 \"grupos\", <1000 reais, entre 1000 e 10000 reais e >1000 reais. Para cada um desses grupos, é necessário apresentar a distribuição das variáveis \"idade\" e \"sexo\".\n"
   ]
  },
  {
   "cell_type": "code",
   "execution_count": 24,
   "metadata": {},
   "outputs": [],
   "source": [
    "# Implemente sua análise aqui. Use mais blocos se achar que ficará mais organizado."
   ]
  },
  {
   "cell_type": "markdown",
   "metadata": {},
   "outputs": [],
   "source": [
    "#### 4.3) **(20%)** Análise 3 - Correlação entre variáveis\n",
    "\n",
    "O aluno deve apresentar 3 análises de correlação entre variáveis do conjunto de dados trabalhado. Exemplo: Em um conjunto de dados com as informações de temperatura e ocorrência de incêndios, eu gostaria de saber a incidência de correlação entre as duas variáveis.\n",
    "\n"
   ]
  },
  {
   "cell_type": "code",
   "execution_count": 25,
   "metadata": {},
   "outputs": [],
   "source": [
    "# Primeiro par de variáveis: Implemente sua análise aqui. Use mais blocos se achar que ficará mais organizado."
   ]
  },
  {
   "cell_type": "code",
   "execution_count": 26,
   "metadata": {},
   "outputs": [],
   "source": [
    "# Segundo par de variáveis: Implemente sua análise aqui. Use mais blocos se achar que ficará mais organizado."
   ]
  },
  {
   "cell_type": "code",
   "execution_count": 27,
   "metadata": {},
   "outputs": [],
   "source": [
    "# Terceiro par de variáveis: Implemente sua análise aqui. Use mais blocos se achar que ficará mais organizado."
   ]
  },
  {
   "cell_type": "markdown",
   "metadata": {},
   "outputs": [],
   "source": [
    "### 5) Conclusões **15%**"
   ]
  },
  {
   "cell_type": "markdown",
   "metadata": {},
   "outputs": [],
   "source": [
    "*O que é possível concluir com os dados que você analisou? Se fosse fazer uma apresentação, o que levaria como os maiores destaques e por que?*"
   ]
  },
  {
   "cell_type": "markdown",
   "metadata": {},
   "outputs": [],
   "source": []
  }
 ],
 "metadata": {
  "file_extension": ".py",
  "kernelspec": {
   "display_name": "Python 3",
   "language": "python",
   "name": "python3"
  },
  "language_info": {
   "codemirror_mode": {
    "name": "ipython",
    "version": 3
   },
   "file_extension": ".py",
   "mimetype": "text/x-python",
   "name": "python",
   "nbconvert_exporter": "python",
   "pygments_lexer": "ipython3",
   "version": "3.7.4"
  },
  "mimetype": "text/x-python",
  "name": "python",
  "npconvert_exporter": "python",
  "pygments_lexer": "ipython3",
  "version": 3
 },
 "nbformat": 4,
 "nbformat_minor": 2
}