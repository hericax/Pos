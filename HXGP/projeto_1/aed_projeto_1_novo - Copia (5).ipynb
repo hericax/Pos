{
 "cells": [
  {
   "cell_type": "markdown",
   "metadata": {},
   "outputs": [],
   "source": [
    "# Projeto #1 - Análise Exploratória de Dados\n",
    "\n",
    "Antes de começar, leia as [Instruções](https://github.com/thvmm/pos-ds-ia/tree/master/projeto_1#instru%C3%A7%C3%B5es) e os [Critérios de Avaliação](https://github.com/thvmm/pos-ds-ia/tree/master/projeto_1#crit%C3%A9rios-de-avalia%C3%A7%C3%A3o)\n"
   ]
  },
  {
   "cell_type": "markdown",
   "metadata": {},
   "outputs": [],
   "source": [
    "### 1) **(5%)** Qual a base escolhida e qual seu interesse nela?"
   ]
  },
  {
   "cell_type": "markdown",
   "metadata": {},
   "outputs": [],
   "source": [
    "*Indique o link da base no Kaggle e explique em um parágrafo curto por que essa base é interessante para você.*\n",
    "\n",
    "https://www.kaggle.com/snocco/missing-migrants-project\n",
    "\n",
    "Me interessei pela base, por possuir uma boa variedade de tipo de features, me permitindo aplicar os conhecimentos que estou adiquirindo no curso."
   ]
  },
  {
   "cell_type": "markdown",
   "metadata": {},
   "outputs": [],
   "source": [
    "### 2) **(5%)** Descrição básica do conjunto de dados escolhido pelo aluno (1 parágrafo).\n",
    "- Identificação da variável a serem trabalhadas\n",
    "- Classificação das variáveis como: contínua ou discreta.\n"
   ]
  },
  {
   "cell_type": "markdown",
   "metadata": {},
   "outputs": [],
   "source": [
    "As variáveis que serão trabalhadas são: 'TOTAL_MIGRANTES_MORTOS','TOTAL_MIGRANTES_DESAPARECIDOS','TOTAL_MIGRANTES_MORTOS_DESAPARECIDOS','QTDE_SOBREVIVENTES','QTDE_MULHERES','QTDE_HOMENS','QTDE_CRIANCAS'\n",
    "\n",
    "Sua classificação é:\n",
    "\n",
    "Contínuas: 'TOTAL_MIGRANTES_MORTOS','TOTAL_MIGRANTES_DESAPARECIDOS','TOTAL_MIGRANTES_MORTOS_DESAPARECIDOS','QTDE_SOBREVIVENTES','QTDE_MULHERES','QTDE_HOMENS','QTDE_CRIANCAS'\n",
    "\n",
    "Discretas: não tem variável discreta\n"
   ]
  },
  {
   "cell_type": "markdown",
   "metadata": {},
   "outputs": [],
   "source": [
    "### 2) **(15%)** Faça uma avaliação descritiva da sua base. Quantas linhas ela possui? Quais os tipos de dados? Quantas e quais features possuem?\n",
    "\n",
    "Cada variável escolhida pelo aluno precisa passar por ao menos 1 pré-processamento. O pré-processamento pode ser (mas não está limitado a):\n",
    "- Checagem se os valores estão dentro de um limite permitido ou razoável.\n",
    "- Tratamento de valores ausentes por eliminação ou substituição.\n",
    "- Conversão do tipo de dados.\n"
   ]
  },
  {
   "cell_type": "code",
   "execution_count": 130,
   "metadata": {},
   "outputs": [
    {
     "data": {
      "text/html": "<div>\n<style scoped>\n    .dataframe tbody tr th:only-of-type {\n        vertical-align: middle;\n    }\n\n    .dataframe tbody tr th {\n        vertical-align: top;\n    }\n\n    .dataframe thead th {\n        text-align: right;\n    }\n</style>\n<table border=\"1\" class=\"dataframe\">\n  <thead>\n    <tr style=\"text-align: right;\">\n      <th></th>\n      <th>ID</th>\n      <th>REGIAO_INCIDENTE</th>\n      <th>DATA_INCIDENTE</th>\n      <th>ANO_INCIDENTE</th>\n      <th>MES_INCIDENTE</th>\n      <th>TOTAL_MIGRANTES_MORTOS</th>\n      <th>TOTAL_MIGRANTES_DESAPARECIDOS</th>\n      <th>TOTAL_MIGRANTES_MORTOS_DESAPARECIDOS</th>\n      <th>QTDE_SOBREVIVENTES</th>\n      <th>QTDE_MULHERES</th>\n      <th>QTDE_HOMENS</th>\n      <th>QTDE_CRIANCAS</th>\n      <th>CAUSA_MORTE</th>\n      <th>LOCAL_INCIDENTE</th>\n      <th>INFORMACOES_PESQUISA</th>\n      <th>COORDENADAS_LOCAL_INCIDENTE</th>\n      <th>ROTA_MIGRACAO</th>\n      <th>URL</th>\n      <th>GEOGRAFICO</th>\n      <th>QUALIDADE_PESQUISA</th>\n    </tr>\n  </thead>\n  <tbody>\n    <tr>\n      <th>0</th>\n      <td>51591</td>\n      <td>Mediterranean</td>\n      <td>March 28, 2019</td>\n      <td>2019</td>\n      <td>Mar</td>\n      <td>NaN</td>\n      <td>2.0</td>\n      <td>2</td>\n      <td>36.0</td>\n      <td>NaN</td>\n      <td>2.0</td>\n      <td>NaN</td>\n      <td>Presumed drowning</td>\n      <td>Off the coast of Chios, Greece</td>\n      <td>Hellenic Coast Guard via IOM Greece</td>\n      <td>38.362368696592, 26.172509473654</td>\n      <td>Eastern Mediterranean</td>\n      <td>NaN</td>\n      <td>Uncategorized</td>\n      <td>5</td>\n    </tr>\n    <tr>\n      <th>1</th>\n      <td>51588</td>\n      <td>Mediterranean</td>\n      <td>March 26, 2019</td>\n      <td>2019</td>\n      <td>Mar</td>\n      <td>4.0</td>\n      <td>NaN</td>\n      <td>4</td>\n      <td>11.0</td>\n      <td>3.0</td>\n      <td>NaN</td>\n      <td>1.0</td>\n      <td>Presumed drowning</td>\n      <td>Off the coast of Ayvacık district, Çanakkale p...</td>\n      <td>Turkish Coast Guard via IOM Turkey</td>\n      <td>39.441975591614, 26.378816195919</td>\n      <td>Eastern Mediterranean</td>\n      <td>http://bit.ly/2YmiPAN</td>\n      <td>Uncategorized</td>\n      <td>5</td>\n    </tr>\n    <tr>\n      <th>2</th>\n      <td>51589</td>\n      <td>Mediterranean</td>\n      <td>March 26, 2019</td>\n      <td>2019</td>\n      <td>Mar</td>\n      <td>1.0</td>\n      <td>NaN</td>\n      <td>1</td>\n      <td>NaN</td>\n      <td>NaN</td>\n      <td>NaN</td>\n      <td>NaN</td>\n      <td>Presumed drowning</td>\n      <td>Body recovered on Playa del Tarajal, Ceuta, Sp...</td>\n      <td>Ceuta al día, El Pueblo de Ceuta</td>\n      <td>35.871901875921, -5.343037665842</td>\n      <td>Western Mediterranean</td>\n      <td>http://bit.ly/2uyj7qO, http://bit.ly/2uwj5zC</td>\n      <td>Uncategorized</td>\n      <td>3</td>\n    </tr>\n    <tr>\n      <th>3</th>\n      <td>51590</td>\n      <td>Mediterranean</td>\n      <td>March 26, 2019</td>\n      <td>2019</td>\n      <td>Mar</td>\n      <td>1.0</td>\n      <td>NaN</td>\n      <td>1</td>\n      <td>NaN</td>\n      <td>NaN</td>\n      <td>NaN</td>\n      <td>NaN</td>\n      <td>Presumed drowning</td>\n      <td>Body recovered on beach near Tetouan, Morocco ...</td>\n      <td>El Pueblo de Ceuta</td>\n      <td>35.635115912988, -5.275650103548</td>\n      <td>Western Mediterranean</td>\n      <td>http://bit.ly/2uwj5zC</td>\n      <td>Uncategorized</td>\n      <td>1</td>\n    </tr>\n    <tr>\n      <th>4</th>\n      <td>51587</td>\n      <td>Central America</td>\n      <td>March 25, 2019</td>\n      <td>2019</td>\n      <td>Mar</td>\n      <td>1.0</td>\n      <td>NaN</td>\n      <td>1</td>\n      <td>NaN</td>\n      <td>NaN</td>\n      <td>1.0</td>\n      <td>NaN</td>\n      <td>Fall from train</td>\n      <td>Train tracks in Teacalco, Tlaxcala, Mexico</td>\n      <td>Megalópolis, Línea de contraste</td>\n      <td>19.334475177429, -98.069823987538</td>\n      <td>NaN</td>\n      <td>http://bit.ly/2uvDIvH, http://bit.ly/2TXAFLS</td>\n      <td>Central America</td>\n      <td>3</td>\n    </tr>\n  </tbody>\n</table>\n</div>",
      "text/plain": "      ID REGIAO_INCIDENTE  DATA_INCIDENTE  ANO_INCIDENTE MES_INCIDENTE  \\\n0  51591    Mediterranean  March 28, 2019           2019           Mar   \n1  51588    Mediterranean  March 26, 2019           2019           Mar   \n2  51589    Mediterranean  March 26, 2019           2019           Mar   \n3  51590    Mediterranean  March 26, 2019           2019           Mar   \n4  51587  Central America  March 25, 2019           2019           Mar   \n\n   TOTAL_MIGRANTES_MORTOS  TOTAL_MIGRANTES_DESAPARECIDOS  \\\n0                     NaN                            2.0   \n1                     4.0                            NaN   \n2                     1.0                            NaN   \n3                     1.0                            NaN   \n4                     1.0                            NaN   \n\n   TOTAL_MIGRANTES_MORTOS_DESAPARECIDOS  QTDE_SOBREVIVENTES  QTDE_MULHERES  \\\n0                                     2                36.0            NaN   \n1                                     4                11.0            3.0   \n2                                     1                 NaN            NaN   \n3                                     1                 NaN            NaN   \n4                                     1                 NaN            NaN   \n\n   QTDE_HOMENS  QTDE_CRIANCAS        CAUSA_MORTE  \\\n0          2.0            NaN  Presumed drowning   \n1          NaN            1.0  Presumed drowning   \n2          NaN            NaN  Presumed drowning   \n3          NaN            NaN  Presumed drowning   \n4          1.0            NaN    Fall from train   \n\n                                     LOCAL_INCIDENTE  \\\n0                     Off the coast of Chios, Greece   \n1  Off the coast of Ayvacık district, Çanakkale p...   \n2  Body recovered on Playa del Tarajal, Ceuta, Sp...   \n3  Body recovered on beach near Tetouan, Morocco ...   \n4         Train tracks in Teacalco, Tlaxcala, Mexico   \n\n                  INFORMACOES_PESQUISA        COORDENADAS_LOCAL_INCIDENTE  \\\n0  Hellenic Coast Guard via IOM Greece   38.362368696592, 26.172509473654   \n1   Turkish Coast Guard via IOM Turkey   39.441975591614, 26.378816195919   \n2     Ceuta al día, El Pueblo de Ceuta   35.871901875921, -5.343037665842   \n3                   El Pueblo de Ceuta   35.635115912988, -5.275650103548   \n4      Megalópolis, Línea de contraste  19.334475177429, -98.069823987538   \n\n           ROTA_MIGRACAO                                           URL  \\\n0  Eastern Mediterranean                                           NaN   \n1  Eastern Mediterranean                         http://bit.ly/2YmiPAN   \n2  Western Mediterranean  http://bit.ly/2uyj7qO, http://bit.ly/2uwj5zC   \n3  Western Mediterranean                         http://bit.ly/2uwj5zC   \n4                    NaN  http://bit.ly/2uvDIvH, http://bit.ly/2TXAFLS   \n\n        GEOGRAFICO  QUALIDADE_PESQUISA  \n0    Uncategorized                   5  \n1    Uncategorized                   5  \n2    Uncategorized                   3  \n3    Uncategorized                   1  \n4  Central America                   3  "
     },
     "execution_count": 130,
     "metadata": {},
     "output_type": "execute_result"
    }
   ],
   "source": [
    "# Implemente sua análise aqui. Use mais blocos se achar que ficará mais organizado.\n",
    "import pandas as pd\n",
    "import matplotlib.pyplot as plt\n",
    "import random\n",
    "from sklearn.preprocessing import MinMaxScaler, StandardScaler\n",
    "from sklearn.decomposition import PCA\n",
    "import numpy as np\n",
    "from sklearn import preprocessing\n",
    "\n",
    "migrantes = pd.read_csv(\"projeto_1/missing-migrants/MissingMigrants-Global.csv\")\n",
    "migrantes.columns = ['ID', 'REGIAO_INCIDENTE','DATA_INCIDENTE','ANO_INCIDENTE','MES_INCIDENTE','TOTAL_MIGRANTES_MORTOS','TOTAL_MIGRANTES_DESAPARECIDOS','TOTAL_MIGRANTES_MORTOS_DESAPARECIDOS','QTDE_SOBREVIVENTES','QTDE_MULHERES','QTDE_HOMENS','QTDE_CRIANCAS','CAUSA_MORTE','LOCAL_INCIDENTE','INFORMACOES_PESQUISA','COORDENADAS_LOCAL_INCIDENTE','ROTA_MIGRACAO','URL','GEOGRAFICO','QUALIDADE_PESQUISA']\n",
    "migrantes.head(5)"
   ]
  },
  {
   "cell_type": "code",
   "execution_count": 131,
   "metadata": {},
   "outputs": [
    {
     "data": {
      "text/html": "<div>\n<style scoped>\n    .dataframe tbody tr th:only-of-type {\n        vertical-align: middle;\n    }\n\n    .dataframe tbody tr th {\n        vertical-align: top;\n    }\n\n    .dataframe thead th {\n        text-align: right;\n    }\n</style>\n<table border=\"1\" class=\"dataframe\">\n  <thead>\n    <tr style=\"text-align: right;\">\n      <th></th>\n      <th>REGIAO_INCIDENTE</th>\n      <th>ANO_INCIDENTE</th>\n      <th>MES_INCIDENTE</th>\n      <th>TOTAL_MIGRANTES_MORTOS</th>\n      <th>TOTAL_MIGRANTES_DESAPARECIDOS</th>\n      <th>TOTAL_MIGRANTES_MORTOS_DESAPARECIDOS</th>\n      <th>QTDE_SOBREVIVENTES</th>\n      <th>QTDE_MULHERES</th>\n      <th>QTDE_HOMENS</th>\n      <th>QTDE_CRIANCAS</th>\n      <th>CAUSA_MORTE</th>\n      <th>LOCAL_INCIDENTE</th>\n      <th>ROTA_MIGRACAO</th>\n      <th>GEOGRAFICO</th>\n    </tr>\n  </thead>\n  <tbody>\n    <tr>\n      <th>0</th>\n      <td>Mediterranean</td>\n      <td>2019</td>\n      <td>Mar</td>\n      <td>NaN</td>\n      <td>2.0</td>\n      <td>2</td>\n      <td>36.0</td>\n      <td>NaN</td>\n      <td>2.0</td>\n      <td>NaN</td>\n      <td>Presumed drowning</td>\n      <td>Off the coast of Chios, Greece</td>\n      <td>Eastern Mediterranean</td>\n      <td>Uncategorized</td>\n    </tr>\n    <tr>\n      <th>1</th>\n      <td>Mediterranean</td>\n      <td>2019</td>\n      <td>Mar</td>\n      <td>4.0</td>\n      <td>NaN</td>\n      <td>4</td>\n      <td>11.0</td>\n      <td>3.0</td>\n      <td>NaN</td>\n      <td>1.0</td>\n      <td>Presumed drowning</td>\n      <td>Off the coast of Ayvacık district, Çanakkale p...</td>\n      <td>Eastern Mediterranean</td>\n      <td>Uncategorized</td>\n    </tr>\n    <tr>\n      <th>2</th>\n      <td>Mediterranean</td>\n      <td>2019</td>\n      <td>Mar</td>\n      <td>1.0</td>\n      <td>NaN</td>\n      <td>1</td>\n      <td>NaN</td>\n      <td>NaN</td>\n      <td>NaN</td>\n      <td>NaN</td>\n      <td>Presumed drowning</td>\n      <td>Body recovered on Playa del Tarajal, Ceuta, Sp...</td>\n      <td>Western Mediterranean</td>\n      <td>Uncategorized</td>\n    </tr>\n    <tr>\n      <th>3</th>\n      <td>Mediterranean</td>\n      <td>2019</td>\n      <td>Mar</td>\n      <td>1.0</td>\n      <td>NaN</td>\n      <td>1</td>\n      <td>NaN</td>\n      <td>NaN</td>\n      <td>NaN</td>\n      <td>NaN</td>\n      <td>Presumed drowning</td>\n      <td>Body recovered on beach near Tetouan, Morocco ...</td>\n      <td>Western Mediterranean</td>\n      <td>Uncategorized</td>\n    </tr>\n    <tr>\n      <th>4</th>\n      <td>Central America</td>\n      <td>2019</td>\n      <td>Mar</td>\n      <td>1.0</td>\n      <td>NaN</td>\n      <td>1</td>\n      <td>NaN</td>\n      <td>NaN</td>\n      <td>1.0</td>\n      <td>NaN</td>\n      <td>Fall from train</td>\n      <td>Train tracks in Teacalco, Tlaxcala, Mexico</td>\n      <td>NaN</td>\n      <td>Central America</td>\n    </tr>\n  </tbody>\n</table>\n</div>",
      "text/plain": "  REGIAO_INCIDENTE  ANO_INCIDENTE MES_INCIDENTE  TOTAL_MIGRANTES_MORTOS  \\\n0    Mediterranean           2019           Mar                     NaN   \n1    Mediterranean           2019           Mar                     4.0   \n2    Mediterranean           2019           Mar                     1.0   \n3    Mediterranean           2019           Mar                     1.0   \n4  Central America           2019           Mar                     1.0   \n\n   TOTAL_MIGRANTES_DESAPARECIDOS  TOTAL_MIGRANTES_MORTOS_DESAPARECIDOS  \\\n0                            2.0                                     2   \n1                            NaN                                     4   \n2                            NaN                                     1   \n3                            NaN                                     1   \n4                            NaN                                     1   \n\n   QTDE_SOBREVIVENTES  QTDE_MULHERES  QTDE_HOMENS  QTDE_CRIANCAS  \\\n0                36.0            NaN          2.0            NaN   \n1                11.0            3.0          NaN            1.0   \n2                 NaN            NaN          NaN            NaN   \n3                 NaN            NaN          NaN            NaN   \n4                 NaN            NaN          1.0            NaN   \n\n         CAUSA_MORTE                                    LOCAL_INCIDENTE  \\\n0  Presumed drowning                     Off the coast of Chios, Greece   \n1  Presumed drowning  Off the coast of Ayvacık district, Çanakkale p...   \n2  Presumed drowning  Body recovered on Playa del Tarajal, Ceuta, Sp...   \n3  Presumed drowning  Body recovered on beach near Tetouan, Morocco ...   \n4    Fall from train         Train tracks in Teacalco, Tlaxcala, Mexico   \n\n           ROTA_MIGRACAO       GEOGRAFICO  \n0  Eastern Mediterranean    Uncategorized  \n1  Eastern Mediterranean    Uncategorized  \n2  Western Mediterranean    Uncategorized  \n3  Western Mediterranean    Uncategorized  \n4                    NaN  Central America  "
     },
     "execution_count": 131,
     "metadata": {},
     "output_type": "execute_result"
    }
   ],
   "source": [
    "#A base possui 5333 registros e 20 features.\n",
    "\n",
    "# Checagem se os valores estão dentro de um limite permitido ou razoável.\n",
    "\n",
    "#'TOTAL MORTOS': o valor mínimo é zero, como o dataset é para analisar a quantidade ocorrida de mortos, zero não é um valor aceitavel. \n",
    "????????????????????????????????????? excluir \n"
   ]
  },
  {
   "cell_type": "code",
   "execution_count": null,
   "metadata": {},
   "outputs": [],
   "source": [
    "# Tratamento de valores ausentes por eliminação ou substituição.\n",
    "    #Excluindo algumas colunas que não são de interesse: ID, INFORMACOES_PESQUISA, COORDENADAS_LOCAL_INCIDENTE, URL, QUALIDADE_PESQUISA, DATA_INCIDENTE.\n",
    "\n",
    "#dúvida\n",
    "#- unir as colunas mulheres, homens e crianças?\n",
    "\n",
    "migrantes.drop(['ID','INFORMACOES_PESQUISA','COORDENADAS_LOCAL_INCIDENTE','URL','QUALIDADE_PESQUISA','DATA_INCIDENTE'],axis = 1, inplace = True)\n",
    "migrantes.head()"
   ]
  },
  {
   "cell_type": "code",
   "execution_count": 132,
   "metadata": {},
   "outputs": [
    {
     "data": {
      "text/html": "<div>\n<style scoped>\n    .dataframe tbody tr th:only-of-type {\n        vertical-align: middle;\n    }\n\n    .dataframe tbody tr th {\n        vertical-align: top;\n    }\n\n    .dataframe thead th {\n        text-align: right;\n    }\n</style>\n<table border=\"1\" class=\"dataframe\">\n  <thead>\n    <tr style=\"text-align: right;\">\n      <th></th>\n      <th>ANO_INCIDENTE</th>\n      <th>TOTAL_MIGRANTES_MORTOS</th>\n      <th>TOTAL_MIGRANTES_DESAPARECIDOS</th>\n      <th>TOTAL_MIGRANTES_MORTOS_DESAPARECIDOS</th>\n      <th>QTDE_SOBREVIVENTES</th>\n      <th>QTDE_MULHERES</th>\n      <th>QTDE_HOMENS</th>\n      <th>QTDE_CRIANCAS</th>\n    </tr>\n  </thead>\n  <tbody>\n    <tr>\n      <th>count</th>\n      <td>5333.000000</td>\n      <td>5142.000000</td>\n      <td>503.000000</td>\n      <td>5333.000000</td>\n      <td>749.000000</td>\n      <td>897.000000</td>\n      <td>2813.000000</td>\n      <td>644.000000</td>\n    </tr>\n    <tr>\n      <th>mean</th>\n      <td>2016.656104</td>\n      <td>3.287631</td>\n      <td>29.119284</td>\n      <td>5.916370</td>\n      <td>63.607477</td>\n      <td>2.012263</td>\n      <td>1.890864</td>\n      <td>2.476708</td>\n    </tr>\n    <tr>\n      <th>std</th>\n      <td>1.237033</td>\n      <td>13.593407</td>\n      <td>67.913216</td>\n      <td>28.051811</td>\n      <td>146.520155</td>\n      <td>2.990100</td>\n      <td>5.510674</td>\n      <td>10.216220</td>\n    </tr>\n    <tr>\n      <th>min</th>\n      <td>2014.000000</td>\n      <td>0.000000</td>\n      <td>0.000000</td>\n      <td>0.000000</td>\n      <td>0.000000</td>\n      <td>0.000000</td>\n      <td>0.000000</td>\n      <td>0.000000</td>\n    </tr>\n    <tr>\n      <th>25%</th>\n      <td>2016.000000</td>\n      <td>1.000000</td>\n      <td>2.000000</td>\n      <td>1.000000</td>\n      <td>5.000000</td>\n      <td>1.000000</td>\n      <td>1.000000</td>\n      <td>1.000000</td>\n    </tr>\n    <tr>\n      <th>50%</th>\n      <td>2017.000000</td>\n      <td>1.000000</td>\n      <td>7.000000</td>\n      <td>1.000000</td>\n      <td>15.000000</td>\n      <td>1.000000</td>\n      <td>1.000000</td>\n      <td>1.000000</td>\n    </tr>\n    <tr>\n      <th>75%</th>\n      <td>2018.000000</td>\n      <td>2.000000</td>\n      <td>25.000000</td>\n      <td>3.000000</td>\n      <td>61.000000</td>\n      <td>2.000000</td>\n      <td>1.000000</td>\n      <td>2.000000</td>\n    </tr>\n    <tr>\n      <th>max</th>\n      <td>2019.000000</td>\n      <td>750.000000</td>\n      <td>750.000000</td>\n      <td>1022.000000</td>\n      <td>1950.000000</td>\n      <td>30.000000</td>\n      <td>135.000000</td>\n      <td>250.000000</td>\n    </tr>\n  </tbody>\n</table>\n</div>",
      "text/plain": "       ANO_INCIDENTE  TOTAL_MIGRANTES_MORTOS  TOTAL_MIGRANTES_DESAPARECIDOS  \\\ncount    5333.000000             5142.000000                     503.000000   \nmean     2016.656104                3.287631                      29.119284   \nstd         1.237033               13.593407                      67.913216   \nmin      2014.000000                0.000000                       0.000000   \n25%      2016.000000                1.000000                       2.000000   \n50%      2017.000000                1.000000                       7.000000   \n75%      2018.000000                2.000000                      25.000000   \nmax      2019.000000              750.000000                     750.000000   \n\n       TOTAL_MIGRANTES_MORTOS_DESAPARECIDOS  QTDE_SOBREVIVENTES  \\\ncount                           5333.000000          749.000000   \nmean                               5.916370           63.607477   \nstd                               28.051811          146.520155   \nmin                                0.000000            0.000000   \n25%                                1.000000            5.000000   \n50%                                1.000000           15.000000   \n75%                                3.000000           61.000000   \nmax                             1022.000000         1950.000000   \n\n       QTDE_MULHERES  QTDE_HOMENS  QTDE_CRIANCAS  \ncount     897.000000  2813.000000     644.000000  \nmean        2.012263     1.890864       2.476708  \nstd         2.990100     5.510674      10.216220  \nmin         0.000000     0.000000       0.000000  \n25%         1.000000     1.000000       1.000000  \n50%         1.000000     1.000000       1.000000  \n75%         2.000000     1.000000       2.000000  \nmax        30.000000   135.000000     250.000000  "
     },
     "execution_count": 132,
     "metadata": {},
     "output_type": "execute_result"
    }
   ],
   "source": [
    "migrantes.describe()"
   ]
  },
  {
   "cell_type": "code",
   "execution_count": 133,
   "metadata": {},
   "outputs": [
    {
     "data": {
      "text/plain": "TOTAL_MIGRANTES_DESAPARECIDOS           0.905682\nQTDE_CRIANCAS                           0.879242\nQTDE_SOBREVIVENTES                      0.859554\nQTDE_MULHERES                           0.831802\nROTA_MIGRACAO                           0.501219\nQTDE_HOMENS                             0.472530\nTOTAL_MIGRANTES_MORTOS                  0.035815\nGEOGRAFICO                              0.002063\nLOCAL_INCIDENTE                         0.001875\nCAUSA_MORTE                             0.000000\nTOTAL_MIGRANTES_MORTOS_DESAPARECIDOS    0.000000\nMES_INCIDENTE                           0.000000\nANO_INCIDENTE                           0.000000\nREGIAO_INCIDENTE                        0.000000\ndtype: float64"
     },
     "execution_count": 133,
     "metadata": {},
     "output_type": "execute_result"
    }
   ],
   "source": [
    "# preenchendo com zero os registros que não possuem valor:'TOTAL_MIGRANTES_MORTOS', 'TOTAL_MIGRANTES_DESAPARECIDOS', 'QTDE_SOBREVIVENTES', 'QTDE_MULHERES', 'QTDE_HOMENS' , 'QTDE_CRIANCAS'\n",
    "\n",
    "# ver a porcentagem valores faltantes\n",
    "(migrantes.isnull().sum() / migrantes.shape[0]).sort_values(ascending=False)"
   ]
  },
  {
   "cell_type": "code",
   "execution_count": 134,
   "metadata": {},
   "outputs": [
    {
     "data": {
      "text/plain": "ROTA_MIGRACAO                           0.501219\nGEOGRAFICO                              0.002063\nLOCAL_INCIDENTE                         0.001875\nCAUSA_MORTE                             0.000000\nQTDE_CRIANCAS                           0.000000\nQTDE_HOMENS                             0.000000\nQTDE_MULHERES                           0.000000\nQTDE_SOBREVIVENTES                      0.000000\nTOTAL_MIGRANTES_MORTOS_DESAPARECIDOS    0.000000\nTOTAL_MIGRANTES_DESAPARECIDOS           0.000000\nTOTAL_MIGRANTES_MORTOS                  0.000000\nMES_INCIDENTE                           0.000000\nANO_INCIDENTE                           0.000000\nREGIAO_INCIDENTE                        0.000000\ndtype: float64"
     },
     "execution_count": 134,
     "metadata": {},
     "output_type": "execute_result"
    }
   ],
   "source": [
    "#Preenchendo os dados faltantes com 'zero' das colunas que serão utilizadas na análise\n",
    "migrantes['TOTAL_MIGRANTES_DESAPARECIDOS'].fillna(0, inplace=True)\n",
    "migrantes['QTDE_CRIANCAS'].fillna(0, inplace=True)\n",
    "migrantes['QTDE_SOBREVIVENTES'].fillna(0, inplace=True)\n",
    "migrantes['QTDE_MULHERES'].fillna(0, inplace=True)\n",
    "migrantes['QTDE_HOMENS'].fillna(0, inplace=True)\n",
    "migrantes['TOTAL_MIGRANTES_MORTOS'].fillna(0, inplace=True)\n",
    "\n",
    "# ver a porcentagem valores faltantes após preenchimento dos valores faltantes\n",
    "(migrantes.isnull().sum() / migrantes.shape[0]).sort_values(ascending=False)"
   ]
  },
  {
   "cell_type": "code",
   "execution_count": 144,
   "metadata": {},
   "outputs": [
    {
     "data": {
      "text/html": "<div>\n<style scoped>\n    .dataframe tbody tr th:only-of-type {\n        vertical-align: middle;\n    }\n\n    .dataframe tbody tr th {\n        vertical-align: top;\n    }\n\n    .dataframe thead th {\n        text-align: right;\n    }\n</style>\n<table border=\"1\" class=\"dataframe\">\n  <thead>\n    <tr style=\"text-align: right;\">\n      <th></th>\n      <th>ANO_INCIDENTE</th>\n      <th>TOTAL_MIGRANTES_MORTOS</th>\n      <th>TOTAL_MIGRANTES_DESAPARECIDOS</th>\n      <th>TOTAL_MIGRANTES_MORTOS_DESAPARECIDOS</th>\n      <th>QTDE_SOBREVIVENTES</th>\n      <th>QTDE_MULHERES</th>\n      <th>QTDE_HOMENS</th>\n      <th>QTDE_CRIANCAS</th>\n    </tr>\n  </thead>\n  <tbody>\n    <tr>\n      <th>count</th>\n      <td>5253.000000</td>\n      <td>5253.000000</td>\n      <td>5253.000000</td>\n      <td>5253.000000</td>\n      <td>5253.000000</td>\n      <td>5253.000000</td>\n      <td>5253.000000</td>\n      <td>5253.000000</td>\n    </tr>\n    <tr>\n      <th>mean</th>\n      <td>2016.656196</td>\n      <td>3.170760</td>\n      <td>2.765277</td>\n      <td>5.936037</td>\n      <td>8.972206</td>\n      <td>0.338473</td>\n      <td>0.988388</td>\n      <td>0.301352</td>\n    </tr>\n    <tr>\n      <th>std</th>\n      <td>1.236896</td>\n      <td>13.426323</td>\n      <td>22.664746</td>\n      <td>28.235540</td>\n      <td>59.561171</td>\n      <td>1.444202</td>\n      <td>4.061182</td>\n      <td>3.665309</td>\n    </tr>\n    <tr>\n      <th>min</th>\n      <td>2014.000000</td>\n      <td>0.000000</td>\n      <td>0.000000</td>\n      <td>0.000000</td>\n      <td>0.000000</td>\n      <td>0.000000</td>\n      <td>0.000000</td>\n      <td>0.000000</td>\n    </tr>\n    <tr>\n      <th>25%</th>\n      <td>2016.000000</td>\n      <td>1.000000</td>\n      <td>0.000000</td>\n      <td>1.000000</td>\n      <td>0.000000</td>\n      <td>0.000000</td>\n      <td>0.000000</td>\n      <td>0.000000</td>\n    </tr>\n    <tr>\n      <th>50%</th>\n      <td>2017.000000</td>\n      <td>1.000000</td>\n      <td>0.000000</td>\n      <td>1.000000</td>\n      <td>0.000000</td>\n      <td>0.000000</td>\n      <td>1.000000</td>\n      <td>0.000000</td>\n    </tr>\n    <tr>\n      <th>75%</th>\n      <td>2018.000000</td>\n      <td>2.000000</td>\n      <td>0.000000</td>\n      <td>3.000000</td>\n      <td>0.000000</td>\n      <td>0.000000</td>\n      <td>1.000000</td>\n      <td>0.000000</td>\n    </tr>\n    <tr>\n      <th>max</th>\n      <td>2019.000000</td>\n      <td>750.000000</td>\n      <td>750.000000</td>\n      <td>1022.000000</td>\n      <td>1950.000000</td>\n      <td>30.000000</td>\n      <td>135.000000</td>\n      <td>250.000000</td>\n    </tr>\n  </tbody>\n</table>\n</div>",
      "text/plain": "       ANO_INCIDENTE  TOTAL_MIGRANTES_MORTOS  TOTAL_MIGRANTES_DESAPARECIDOS  \\\ncount    5253.000000             5253.000000                    5253.000000   \nmean     2016.656196                3.170760                       2.765277   \nstd         1.236896               13.426323                      22.664746   \nmin      2014.000000                0.000000                       0.000000   \n25%      2016.000000                1.000000                       0.000000   \n50%      2017.000000                1.000000                       0.000000   \n75%      2018.000000                2.000000                       0.000000   \nmax      2019.000000              750.000000                     750.000000   \n\n       TOTAL_MIGRANTES_MORTOS_DESAPARECIDOS  QTDE_SOBREVIVENTES  \\\ncount                           5253.000000         5253.000000   \nmean                               5.936037            8.972206   \nstd                               28.235540           59.561171   \nmin                                0.000000            0.000000   \n25%                                1.000000            0.000000   \n50%                                1.000000            0.000000   \n75%                                3.000000            0.000000   \nmax                             1022.000000         1950.000000   \n\n       QTDE_MULHERES  QTDE_HOMENS  QTDE_CRIANCAS  \ncount    5253.000000  5253.000000    5253.000000  \nmean        0.338473     0.988388       0.301352  \nstd         1.444202     4.061182       3.665309  \nmin         0.000000     0.000000       0.000000  \n25%         0.000000     0.000000       0.000000  \n50%         0.000000     1.000000       0.000000  \n75%         0.000000     1.000000       0.000000  \nmax        30.000000   135.000000     250.000000  "
     },
     "execution_count": 144,
     "metadata": {},
     "output_type": "execute_result"
    }
   ],
   "source": [
    "#Separado dados para aprendizado/amostra\n",
    "migrantes_amostra = migrantes.sample(n=80) # Pegando amostra dos dados\n",
    "migrantes_restante = migrantes.drop(migrantes_amostra.index) # Removendo bolas da caixa\n",
    "\n",
    "migrantes_restante.describe() #retaram 5253 registros"
   ]
  },
  {
   "cell_type": "code",
   "execution_count": 145,
   "metadata": {},
   "outputs": [
    {
     "data": {
      "text/html": "<div>\n<style scoped>\n    .dataframe tbody tr th:only-of-type {\n        vertical-align: middle;\n    }\n\n    .dataframe tbody tr th {\n        vertical-align: top;\n    }\n\n    .dataframe thead th {\n        text-align: right;\n    }\n</style>\n<table border=\"1\" class=\"dataframe\">\n  <thead>\n    <tr style=\"text-align: right;\">\n      <th></th>\n      <th>ANO_INCIDENTE</th>\n      <th>TOTAL_MIGRANTES_MORTOS</th>\n      <th>TOTAL_MIGRANTES_DESAPARECIDOS</th>\n      <th>TOTAL_MIGRANTES_MORTOS_DESAPARECIDOS</th>\n      <th>QTDE_SOBREVIVENTES</th>\n      <th>QTDE_MULHERES</th>\n      <th>QTDE_HOMENS</th>\n      <th>QTDE_CRIANCAS</th>\n    </tr>\n  </thead>\n  <tbody>\n    <tr>\n      <th>count</th>\n      <td>80.000000</td>\n      <td>80.00000</td>\n      <td>80.000000</td>\n      <td>80.000000</td>\n      <td>80.000000</td>\n      <td>80.000000</td>\n      <td>80.000000</td>\n      <td>80.00000</td>\n    </tr>\n    <tr>\n      <th>mean</th>\n      <td>2016.650000</td>\n      <td>3.11250</td>\n      <td>1.512500</td>\n      <td>4.625000</td>\n      <td>6.387500</td>\n      <td>0.337500</td>\n      <td>1.587500</td>\n      <td>0.15000</td>\n    </tr>\n    <tr>\n      <th>std</th>\n      <td>1.253855</td>\n      <td>8.10531</td>\n      <td>6.733618</td>\n      <td>10.374476</td>\n      <td>19.742323</td>\n      <td>0.992934</td>\n      <td>6.651722</td>\n      <td>0.55347</td>\n    </tr>\n    <tr>\n      <th>min</th>\n      <td>2014.000000</td>\n      <td>0.00000</td>\n      <td>0.000000</td>\n      <td>1.000000</td>\n      <td>0.000000</td>\n      <td>0.000000</td>\n      <td>0.000000</td>\n      <td>0.00000</td>\n    </tr>\n    <tr>\n      <th>25%</th>\n      <td>2016.000000</td>\n      <td>1.00000</td>\n      <td>0.000000</td>\n      <td>1.000000</td>\n      <td>0.000000</td>\n      <td>0.000000</td>\n      <td>0.000000</td>\n      <td>0.00000</td>\n    </tr>\n    <tr>\n      <th>50%</th>\n      <td>2017.000000</td>\n      <td>1.00000</td>\n      <td>0.000000</td>\n      <td>1.000000</td>\n      <td>0.000000</td>\n      <td>0.000000</td>\n      <td>1.000000</td>\n      <td>0.00000</td>\n    </tr>\n    <tr>\n      <th>75%</th>\n      <td>2018.000000</td>\n      <td>3.00000</td>\n      <td>0.000000</td>\n      <td>4.000000</td>\n      <td>0.000000</td>\n      <td>0.000000</td>\n      <td>1.000000</td>\n      <td>0.00000</td>\n    </tr>\n    <tr>\n      <th>max</th>\n      <td>2019.000000</td>\n      <td>71.00000</td>\n      <td>49.000000</td>\n      <td>71.000000</td>\n      <td>129.000000</td>\n      <td>8.000000</td>\n      <td>59.000000</td>\n      <td>4.00000</td>\n    </tr>\n  </tbody>\n</table>\n</div>",
      "text/plain": "       ANO_INCIDENTE  TOTAL_MIGRANTES_MORTOS  TOTAL_MIGRANTES_DESAPARECIDOS  \\\ncount      80.000000                80.00000                      80.000000   \nmean     2016.650000                 3.11250                       1.512500   \nstd         1.253855                 8.10531                       6.733618   \nmin      2014.000000                 0.00000                       0.000000   \n25%      2016.000000                 1.00000                       0.000000   \n50%      2017.000000                 1.00000                       0.000000   \n75%      2018.000000                 3.00000                       0.000000   \nmax      2019.000000                71.00000                      49.000000   \n\n       TOTAL_MIGRANTES_MORTOS_DESAPARECIDOS  QTDE_SOBREVIVENTES  \\\ncount                             80.000000           80.000000   \nmean                               4.625000            6.387500   \nstd                               10.374476           19.742323   \nmin                                1.000000            0.000000   \n25%                                1.000000            0.000000   \n50%                                1.000000            0.000000   \n75%                                4.000000            0.000000   \nmax                               71.000000          129.000000   \n\n       QTDE_MULHERES  QTDE_HOMENS  QTDE_CRIANCAS  \ncount      80.000000    80.000000       80.00000  \nmean        0.337500     1.587500        0.15000  \nstd         0.992934     6.651722        0.55347  \nmin         0.000000     0.000000        0.00000  \n25%         0.000000     0.000000        0.00000  \n50%         0.000000     1.000000        0.00000  \n75%         0.000000     1.000000        0.00000  \nmax         8.000000    59.000000        4.00000  "
     },
     "execution_count": 145,
     "metadata": {},
     "output_type": "execute_result"
    }
   ],
   "source": [
    "migrantes_amostra.describe()"
   ]
  },
  {
   "cell_type": "code",
   "execution_count": 174,
   "metadata": {},
   "outputs": [
    {
     "data": {
      "text/plain": "REGIAO_INCIDENTE                         object\nANO_INCIDENTE                             int64\nMES_INCIDENTE                            object\nTOTAL_MIGRANTES_MORTOS                  float64\nTOTAL_MIGRANTES_DESAPARECIDOS           float64\nTOTAL_MIGRANTES_MORTOS_DESAPARECIDOS      int64\nQTDE_SOBREVIVENTES                      float64\nQTDE_MULHERES                           float64\nQTDE_HOMENS                             float64\nQTDE_CRIANCAS                           float64\nCAUSA_MORTE                              object\nLOCAL_INCIDENTE                          object\nROTA_MIGRACAO                            object\nGEOGRAFICO                               object\ndtype: object"
     },
     "execution_count": 174,
     "metadata": {},
     "output_type": "execute_result"
    }
   ],
   "source": [
    "# Conversão do tipo de dados.\n",
    "\n",
    "# TOTAL_MIGRANTES_MORTOS: converter para inteiro\n",
    "# TOTAL_MIGRANTES_DESAPARECIDOS: converter para inteiro\n",
    "# TOTAL_MIGRANTES_MORTOS_DESAPARECIDOS: converter para inteiro\n",
    "# QTDE_SOBREVIVENTES: converter para inteiro\n",
    "# QTDE_MULHERES: converter para inteiro\n",
    "# QTDE_HOMENS: converter para inteiro\n",
    "# QTDE_CRIANCAS: converter para inteiro\n",
    "\n",
    "# REGIAO_INCIDENTE: converter para inteiro\n",
    "# MES_INCIDENTE: converter para inteiro\n",
    "# CAUSA_MORTE: converter para inteiro\n",
    "# LOCAL_INCIDENTE: converter para inteiro\n",
    "# ROTA_MIGRACAO: converter para inteiro\n",
    "# GEOGRAFICO: converter para inteiro\n",
    "\n",
    "migrantes.dtypes"
   ]
  },
  {
   "cell_type": "code",
   "execution_count": null,
   "metadata": {},
   "outputs": [],
   "source": [
    "#migrantes[\"REGIAO_INCIDENTE\"] = migrantes[\"REGIAO_INCIDENTE\"].astype(int)\n",
    "migrantes.dtypes\n",
    "#migrantes.MES_INCIDENTE.astype(int)\n",
    "\n",
    "#plt.plot(migrantes_amostra.QTDE_MULHERES[1],migrantes_amostra.TOTAL_MIGRANTES_MORTOS_DESAPARECIDOS[1], \"bx\")\n",
    "\n",
    "print(migrantes.TOTAL_MIGRANTES_MORTOS[1])\n",
    "\n",
    "plt.plot( migrantes.QTDE_HOMENS[1],migrantes.TOTAL_MIGRANTES_MORTOS[1], \"bx\")\n",
    "plt.plot( migrantes.QTDE_MULHERES[1],migrantes.TOTAL_MIGRANTES_MORTOS[1], \"r+\")\n",
    "plt.plot( migrantes.QTDE_CRIANCAS[1],migrantes.TOTAL_MIGRANTES_MORTOS[1], \"go\")\n",
    "\n",
    "plt.ylabel(\"QTDE_MORTOS\")\n",
    "plt.xlabel(\"TOTAL_MORTOS\")\n",
    "plt.title(\"Gráfico de QTDE de homens, mulheres e crianças mortosa (Tentativa 1)\")"
   ]
  },
  {
   "cell_type": "code",
   "execution_count": 172,
   "metadata": {},
   "outputs": [
    {
     "ename": "ConversionError",
     "evalue": "Failed to convert value(s) to axis units: 'bx'",
     "output_type": "error",
     "traceback": [
      "\u001b[1;31m---------------------------------------------------------------------------\u001b[0m",
      "\u001b[1;31mUFuncTypeError\u001b[0m                            Traceback (most recent call last)",
      "\u001b[1;32m~\\anaconda\\envs\\pos-ds-ia-3.7\\lib\\site-packages\\matplotlib\\axes\\_axes.py\u001b[0m in \u001b[0;36m_convert_dx\u001b[1;34m(dx, x0, xconv, convert)\u001b[0m\n\u001b[0;32m   2179\u001b[0m                 \u001b[0mdelist\u001b[0m \u001b[1;33m=\u001b[0m \u001b[1;32mTrue\u001b[0m\u001b[1;33m\u001b[0m\u001b[1;33m\u001b[0m\u001b[0m\n\u001b[1;32m-> 2180\u001b[1;33m             \u001b[0mdx\u001b[0m \u001b[1;33m=\u001b[0m \u001b[1;33m[\u001b[0m\u001b[0mconvert\u001b[0m\u001b[1;33m(\u001b[0m\u001b[0mx0\u001b[0m \u001b[1;33m+\u001b[0m \u001b[0mddx\u001b[0m\u001b[1;33m)\u001b[0m \u001b[1;33m-\u001b[0m \u001b[0mx\u001b[0m \u001b[1;32mfor\u001b[0m \u001b[0mddx\u001b[0m \u001b[1;32min\u001b[0m \u001b[0mdx\u001b[0m\u001b[1;33m]\u001b[0m\u001b[1;33m\u001b[0m\u001b[1;33m\u001b[0m\u001b[0m\n\u001b[0m\u001b[0;32m   2181\u001b[0m             \u001b[1;32mif\u001b[0m \u001b[0mdelist\u001b[0m\u001b[1;33m:\u001b[0m\u001b[1;33m\u001b[0m\u001b[1;33m\u001b[0m\u001b[0m\n",
      "\u001b[1;32m~\\anaconda\\envs\\pos-ds-ia-3.7\\lib\\site-packages\\matplotlib\\axes\\_axes.py\u001b[0m in \u001b[0;36m<listcomp>\u001b[1;34m(.0)\u001b[0m\n\u001b[0;32m   2179\u001b[0m                 \u001b[0mdelist\u001b[0m \u001b[1;33m=\u001b[0m \u001b[1;32mTrue\u001b[0m\u001b[1;33m\u001b[0m\u001b[1;33m\u001b[0m\u001b[0m\n\u001b[1;32m-> 2180\u001b[1;33m             \u001b[0mdx\u001b[0m \u001b[1;33m=\u001b[0m \u001b[1;33m[\u001b[0m\u001b[0mconvert\u001b[0m\u001b[1;33m(\u001b[0m\u001b[0mx0\u001b[0m \u001b[1;33m+\u001b[0m \u001b[0mddx\u001b[0m\u001b[1;33m)\u001b[0m \u001b[1;33m-\u001b[0m \u001b[0mx\u001b[0m \u001b[1;32mfor\u001b[0m \u001b[0mddx\u001b[0m \u001b[1;32min\u001b[0m \u001b[0mdx\u001b[0m\u001b[1;33m]\u001b[0m\u001b[1;33m\u001b[0m\u001b[1;33m\u001b[0m\u001b[0m\n\u001b[0m\u001b[0;32m   2181\u001b[0m             \u001b[1;32mif\u001b[0m \u001b[0mdelist\u001b[0m\u001b[1;33m:\u001b[0m\u001b[1;33m\u001b[0m\u001b[1;33m\u001b[0m\u001b[0m\n",
      "\u001b[1;31mUFuncTypeError\u001b[0m: ufunc 'add' did not contain a loop with signature matching types (dtype('<U32'), dtype('<U32')) -> dtype('<U32')",
      "\nDuring handling of the above exception, another exception occurred:\n",
      "\u001b[1;31mValueError\u001b[0m                                Traceback (most recent call last)",
      "\u001b[1;32m~\\anaconda\\envs\\pos-ds-ia-3.7\\lib\\site-packages\\matplotlib\\axis.py\u001b[0m in \u001b[0;36mconvert_units\u001b[1;34m(self, x)\u001b[0m\n\u001b[0;32m   1549\u001b[0m         \u001b[1;32mtry\u001b[0m\u001b[1;33m:\u001b[0m\u001b[1;33m\u001b[0m\u001b[1;33m\u001b[0m\u001b[0m\n\u001b[1;32m-> 1550\u001b[1;33m             \u001b[0mret\u001b[0m \u001b[1;33m=\u001b[0m \u001b[0mself\u001b[0m\u001b[1;33m.\u001b[0m\u001b[0mconverter\u001b[0m\u001b[1;33m.\u001b[0m\u001b[0mconvert\u001b[0m\u001b[1;33m(\u001b[0m\u001b[0mx\u001b[0m\u001b[1;33m,\u001b[0m \u001b[0mself\u001b[0m\u001b[1;33m.\u001b[0m\u001b[0munits\u001b[0m\u001b[1;33m,\u001b[0m \u001b[0mself\u001b[0m\u001b[1;33m)\u001b[0m\u001b[1;33m\u001b[0m\u001b[1;33m\u001b[0m\u001b[0m\n\u001b[0m\u001b[0;32m   1551\u001b[0m         \u001b[1;32mexcept\u001b[0m \u001b[0mException\u001b[0m \u001b[1;32mas\u001b[0m \u001b[0me\u001b[0m\u001b[1;33m:\u001b[0m\u001b[1;33m\u001b[0m\u001b[1;33m\u001b[0m\u001b[0m\n",
      "\u001b[1;32m~\\anaconda\\envs\\pos-ds-ia-3.7\\lib\\site-packages\\matplotlib\\category.py\u001b[0m in \u001b[0;36mconvert\u001b[1;34m(value, unit, axis)\u001b[0m\n\u001b[0;32m     51\u001b[0m             raise ValueError(\n\u001b[1;32m---> 52\u001b[1;33m                 \u001b[1;34m'Missing category information for StrCategoryConverter; '\u001b[0m\u001b[1;33m\u001b[0m\u001b[1;33m\u001b[0m\u001b[0m\n\u001b[0m\u001b[0;32m     53\u001b[0m                 \u001b[1;34m'this might be caused by unintendedly mixing categorical and '\u001b[0m\u001b[1;33m\u001b[0m\u001b[1;33m\u001b[0m\u001b[0m\n",
      "\u001b[1;31mValueError\u001b[0m: Missing category information for StrCategoryConverter; this might be caused by unintendedly mixing categorical and numeric data",
      "\nThe above exception was the direct cause of the following exception:\n",
      "\u001b[1;31mConversionError\u001b[0m                           Traceback (most recent call last)",
      "\u001b[1;32m<ipython-input-172-254b804c80b1>\u001b[0m in \u001b[0;36m<module>\u001b[1;34m\u001b[0m\n\u001b[1;32m----> 1\u001b[1;33m \u001b[0mplt\u001b[0m\u001b[1;33m.\u001b[0m\u001b[0mbar\u001b[0m\u001b[1;33m(\u001b[0m \u001b[0mmigrantes\u001b[0m\u001b[1;33m.\u001b[0m\u001b[0mQTDE_HOMENS\u001b[0m\u001b[1;33m[\u001b[0m\u001b[1;36m1\u001b[0m\u001b[1;33m]\u001b[0m\u001b[1;33m,\u001b[0m\u001b[0mmigrantes\u001b[0m\u001b[1;33m.\u001b[0m\u001b[0mTOTAL_MIGRANTES_MORTOS\u001b[0m\u001b[1;33m[\u001b[0m\u001b[1;36m1\u001b[0m\u001b[1;33m]\u001b[0m\u001b[1;33m,\u001b[0m \u001b[1;34m\"bx\"\u001b[0m\u001b[1;33m)\u001b[0m\u001b[1;33m\u001b[0m\u001b[1;33m\u001b[0m\u001b[0m\n\u001b[0m\u001b[0;32m      2\u001b[0m \u001b[0mplt\u001b[0m\u001b[1;33m.\u001b[0m\u001b[0mbar\u001b[0m\u001b[1;33m(\u001b[0m \u001b[0mmigrantes\u001b[0m\u001b[1;33m.\u001b[0m\u001b[0mQTDE_MULHERES\u001b[0m\u001b[1;33m[\u001b[0m\u001b[1;36m1\u001b[0m\u001b[1;33m]\u001b[0m\u001b[1;33m,\u001b[0m\u001b[0mmigrantes\u001b[0m\u001b[1;33m.\u001b[0m\u001b[0mTOTAL_MIGRANTES_MORTOS\u001b[0m\u001b[1;33m[\u001b[0m\u001b[1;36m1\u001b[0m\u001b[1;33m]\u001b[0m\u001b[1;33m,\u001b[0m \u001b[1;34m\"r+\"\u001b[0m\u001b[1;33m)\u001b[0m\u001b[1;33m\u001b[0m\u001b[1;33m\u001b[0m\u001b[0m\n\u001b[0;32m      3\u001b[0m \u001b[0mplt\u001b[0m\u001b[1;33m.\u001b[0m\u001b[0mbar\u001b[0m\u001b[1;33m(\u001b[0m \u001b[0mmigrantes\u001b[0m\u001b[1;33m.\u001b[0m\u001b[0mQTDE_CRIANCAS\u001b[0m\u001b[1;33m[\u001b[0m\u001b[1;36m1\u001b[0m\u001b[1;33m]\u001b[0m\u001b[1;33m,\u001b[0m\u001b[0mmigrantes\u001b[0m\u001b[1;33m.\u001b[0m\u001b[0mTOTAL_MIGRANTES_MORTOS\u001b[0m\u001b[1;33m[\u001b[0m\u001b[1;36m1\u001b[0m\u001b[1;33m]\u001b[0m\u001b[1;33m,\u001b[0m \u001b[1;34m\"go\"\u001b[0m\u001b[1;33m)\u001b[0m\u001b[1;33m\u001b[0m\u001b[1;33m\u001b[0m\u001b[0m\n\u001b[0;32m      4\u001b[0m \u001b[1;33m\u001b[0m\u001b[0m\n\u001b[0;32m      5\u001b[0m \u001b[0mplt\u001b[0m\u001b[1;33m.\u001b[0m\u001b[0mylabel\u001b[0m\u001b[1;33m(\u001b[0m\u001b[1;34m\"QTDE_MORTOS\"\u001b[0m\u001b[1;33m)\u001b[0m\u001b[1;33m\u001b[0m\u001b[1;33m\u001b[0m\u001b[0m\n",
      "\u001b[1;32m~\\anaconda\\envs\\pos-ds-ia-3.7\\lib\\site-packages\\matplotlib\\pyplot.py\u001b[0m in \u001b[0;36mbar\u001b[1;34m(x, height, width, bottom, align, data, **kwargs)\u001b[0m\n\u001b[0;32m   2438\u001b[0m     return gca().bar(\n\u001b[0;32m   2439\u001b[0m         \u001b[0mx\u001b[0m\u001b[1;33m,\u001b[0m \u001b[0mheight\u001b[0m\u001b[1;33m,\u001b[0m \u001b[0mwidth\u001b[0m\u001b[1;33m=\u001b[0m\u001b[0mwidth\u001b[0m\u001b[1;33m,\u001b[0m \u001b[0mbottom\u001b[0m\u001b[1;33m=\u001b[0m\u001b[0mbottom\u001b[0m\u001b[1;33m,\u001b[0m \u001b[0malign\u001b[0m\u001b[1;33m=\u001b[0m\u001b[0malign\u001b[0m\u001b[1;33m,\u001b[0m\u001b[1;33m\u001b[0m\u001b[1;33m\u001b[0m\u001b[0m\n\u001b[1;32m-> 2440\u001b[1;33m         **({\"data\": data} if data is not None else {}), **kwargs)\n\u001b[0m\u001b[0;32m   2441\u001b[0m \u001b[1;33m\u001b[0m\u001b[0m\n\u001b[0;32m   2442\u001b[0m \u001b[1;33m\u001b[0m\u001b[0m\n",
      "\u001b[1;32m~\\anaconda\\envs\\pos-ds-ia-3.7\\lib\\site-packages\\matplotlib\\__init__.py\u001b[0m in \u001b[0;36minner\u001b[1;34m(ax, data, *args, **kwargs)\u001b[0m\n\u001b[0;32m   1599\u001b[0m     \u001b[1;32mdef\u001b[0m \u001b[0minner\u001b[0m\u001b[1;33m(\u001b[0m\u001b[0max\u001b[0m\u001b[1;33m,\u001b[0m \u001b[1;33m*\u001b[0m\u001b[0margs\u001b[0m\u001b[1;33m,\u001b[0m \u001b[0mdata\u001b[0m\u001b[1;33m=\u001b[0m\u001b[1;32mNone\u001b[0m\u001b[1;33m,\u001b[0m \u001b[1;33m**\u001b[0m\u001b[0mkwargs\u001b[0m\u001b[1;33m)\u001b[0m\u001b[1;33m:\u001b[0m\u001b[1;33m\u001b[0m\u001b[1;33m\u001b[0m\u001b[0m\n\u001b[0;32m   1600\u001b[0m         \u001b[1;32mif\u001b[0m \u001b[0mdata\u001b[0m \u001b[1;32mis\u001b[0m \u001b[1;32mNone\u001b[0m\u001b[1;33m:\u001b[0m\u001b[1;33m\u001b[0m\u001b[1;33m\u001b[0m\u001b[0m\n\u001b[1;32m-> 1601\u001b[1;33m             \u001b[1;32mreturn\u001b[0m \u001b[0mfunc\u001b[0m\u001b[1;33m(\u001b[0m\u001b[0max\u001b[0m\u001b[1;33m,\u001b[0m \u001b[1;33m*\u001b[0m\u001b[0mmap\u001b[0m\u001b[1;33m(\u001b[0m\u001b[0msanitize_sequence\u001b[0m\u001b[1;33m,\u001b[0m \u001b[0margs\u001b[0m\u001b[1;33m)\u001b[0m\u001b[1;33m,\u001b[0m \u001b[1;33m**\u001b[0m\u001b[0mkwargs\u001b[0m\u001b[1;33m)\u001b[0m\u001b[1;33m\u001b[0m\u001b[1;33m\u001b[0m\u001b[0m\n\u001b[0m\u001b[0;32m   1602\u001b[0m \u001b[1;33m\u001b[0m\u001b[0m\n\u001b[0;32m   1603\u001b[0m         \u001b[0mbound\u001b[0m \u001b[1;33m=\u001b[0m \u001b[0mnew_sig\u001b[0m\u001b[1;33m.\u001b[0m\u001b[0mbind\u001b[0m\u001b[1;33m(\u001b[0m\u001b[0max\u001b[0m\u001b[1;33m,\u001b[0m \u001b[1;33m*\u001b[0m\u001b[0margs\u001b[0m\u001b[1;33m,\u001b[0m \u001b[1;33m**\u001b[0m\u001b[0mkwargs\u001b[0m\u001b[1;33m)\u001b[0m\u001b[1;33m\u001b[0m\u001b[1;33m\u001b[0m\u001b[0m\n",
      "\u001b[1;32m~\\anaconda\\envs\\pos-ds-ia-3.7\\lib\\site-packages\\matplotlib\\axes\\_axes.py\u001b[0m in \u001b[0;36mbar\u001b[1;34m(self, x, height, width, bottom, align, **kwargs)\u001b[0m\n\u001b[0;32m   2361\u001b[0m             \u001b[0mx0\u001b[0m \u001b[1;33m=\u001b[0m \u001b[0mx\u001b[0m\u001b[1;33m\u001b[0m\u001b[1;33m\u001b[0m\u001b[0m\n\u001b[0;32m   2362\u001b[0m             \u001b[0mx\u001b[0m \u001b[1;33m=\u001b[0m \u001b[0mnp\u001b[0m\u001b[1;33m.\u001b[0m\u001b[0masarray\u001b[0m\u001b[1;33m(\u001b[0m\u001b[0mself\u001b[0m\u001b[1;33m.\u001b[0m\u001b[0mconvert_xunits\u001b[0m\u001b[1;33m(\u001b[0m\u001b[0mx\u001b[0m\u001b[1;33m)\u001b[0m\u001b[1;33m)\u001b[0m\u001b[1;33m\u001b[0m\u001b[1;33m\u001b[0m\u001b[0m\n\u001b[1;32m-> 2363\u001b[1;33m             \u001b[0mwidth\u001b[0m \u001b[1;33m=\u001b[0m \u001b[0mself\u001b[0m\u001b[1;33m.\u001b[0m\u001b[0m_convert_dx\u001b[0m\u001b[1;33m(\u001b[0m\u001b[0mwidth\u001b[0m\u001b[1;33m,\u001b[0m \u001b[0mx0\u001b[0m\u001b[1;33m,\u001b[0m \u001b[0mx\u001b[0m\u001b[1;33m,\u001b[0m \u001b[0mself\u001b[0m\u001b[1;33m.\u001b[0m\u001b[0mconvert_xunits\u001b[0m\u001b[1;33m)\u001b[0m\u001b[1;33m\u001b[0m\u001b[1;33m\u001b[0m\u001b[0m\n\u001b[0m\u001b[0;32m   2364\u001b[0m             \u001b[1;32mif\u001b[0m \u001b[0mxerr\u001b[0m \u001b[1;32mis\u001b[0m \u001b[1;32mnot\u001b[0m \u001b[1;32mNone\u001b[0m\u001b[1;33m:\u001b[0m\u001b[1;33m\u001b[0m\u001b[1;33m\u001b[0m\u001b[0m\n\u001b[0;32m   2365\u001b[0m                 \u001b[0mxerr\u001b[0m \u001b[1;33m=\u001b[0m \u001b[0mself\u001b[0m\u001b[1;33m.\u001b[0m\u001b[0m_convert_dx\u001b[0m\u001b[1;33m(\u001b[0m\u001b[0mxerr\u001b[0m\u001b[1;33m,\u001b[0m \u001b[0mx0\u001b[0m\u001b[1;33m,\u001b[0m \u001b[0mx\u001b[0m\u001b[1;33m,\u001b[0m \u001b[0mself\u001b[0m\u001b[1;33m.\u001b[0m\u001b[0mconvert_xunits\u001b[0m\u001b[1;33m)\u001b[0m\u001b[1;33m\u001b[0m\u001b[1;33m\u001b[0m\u001b[0m\n",
      "\u001b[1;32m~\\anaconda\\envs\\pos-ds-ia-3.7\\lib\\site-packages\\matplotlib\\axes\\_axes.py\u001b[0m in \u001b[0;36m_convert_dx\u001b[1;34m(dx, x0, xconv, convert)\u001b[0m\n\u001b[0;32m   2184\u001b[0m             \u001b[1;31m# if the above fails (for any reason) just fallback to what\u001b[0m\u001b[1;33m\u001b[0m\u001b[1;33m\u001b[0m\u001b[1;33m\u001b[0m\u001b[0m\n\u001b[0;32m   2185\u001b[0m             \u001b[1;31m# we do by default and convert dx by itself.\u001b[0m\u001b[1;33m\u001b[0m\u001b[1;33m\u001b[0m\u001b[1;33m\u001b[0m\u001b[0m\n\u001b[1;32m-> 2186\u001b[1;33m             \u001b[0mdx\u001b[0m \u001b[1;33m=\u001b[0m \u001b[0mconvert\u001b[0m\u001b[1;33m(\u001b[0m\u001b[0mdx\u001b[0m\u001b[1;33m)\u001b[0m\u001b[1;33m\u001b[0m\u001b[1;33m\u001b[0m\u001b[0m\n\u001b[0m\u001b[0;32m   2187\u001b[0m         \u001b[1;32mreturn\u001b[0m \u001b[0mdx\u001b[0m\u001b[1;33m\u001b[0m\u001b[1;33m\u001b[0m\u001b[0m\n\u001b[0;32m   2188\u001b[0m \u001b[1;33m\u001b[0m\u001b[0m\n",
      "\u001b[1;32m~\\anaconda\\envs\\pos-ds-ia-3.7\\lib\\site-packages\\matplotlib\\artist.py\u001b[0m in \u001b[0;36mconvert_xunits\u001b[1;34m(self, x)\u001b[0m\n\u001b[0;32m    178\u001b[0m         \u001b[1;32mif\u001b[0m \u001b[0max\u001b[0m \u001b[1;32mis\u001b[0m \u001b[1;32mNone\u001b[0m \u001b[1;32mor\u001b[0m \u001b[0max\u001b[0m\u001b[1;33m.\u001b[0m\u001b[0mxaxis\u001b[0m \u001b[1;32mis\u001b[0m \u001b[1;32mNone\u001b[0m\u001b[1;33m:\u001b[0m\u001b[1;33m\u001b[0m\u001b[1;33m\u001b[0m\u001b[0m\n\u001b[0;32m    179\u001b[0m             \u001b[1;32mreturn\u001b[0m \u001b[0mx\u001b[0m\u001b[1;33m\u001b[0m\u001b[1;33m\u001b[0m\u001b[0m\n\u001b[1;32m--> 180\u001b[1;33m         \u001b[1;32mreturn\u001b[0m \u001b[0max\u001b[0m\u001b[1;33m.\u001b[0m\u001b[0mxaxis\u001b[0m\u001b[1;33m.\u001b[0m\u001b[0mconvert_units\u001b[0m\u001b[1;33m(\u001b[0m\u001b[0mx\u001b[0m\u001b[1;33m)\u001b[0m\u001b[1;33m\u001b[0m\u001b[1;33m\u001b[0m\u001b[0m\n\u001b[0m\u001b[0;32m    181\u001b[0m \u001b[1;33m\u001b[0m\u001b[0m\n\u001b[0;32m    182\u001b[0m     \u001b[1;32mdef\u001b[0m \u001b[0mconvert_yunits\u001b[0m\u001b[1;33m(\u001b[0m\u001b[0mself\u001b[0m\u001b[1;33m,\u001b[0m \u001b[0my\u001b[0m\u001b[1;33m)\u001b[0m\u001b[1;33m:\u001b[0m\u001b[1;33m\u001b[0m\u001b[1;33m\u001b[0m\u001b[0m\n",
      "\u001b[1;32m~\\anaconda\\envs\\pos-ds-ia-3.7\\lib\\site-packages\\matplotlib\\axis.py\u001b[0m in \u001b[0;36mconvert_units\u001b[1;34m(self, x)\u001b[0m\n\u001b[0;32m   1551\u001b[0m         \u001b[1;32mexcept\u001b[0m \u001b[0mException\u001b[0m \u001b[1;32mas\u001b[0m \u001b[0me\u001b[0m\u001b[1;33m:\u001b[0m\u001b[1;33m\u001b[0m\u001b[1;33m\u001b[0m\u001b[0m\n\u001b[0;32m   1552\u001b[0m             raise munits.ConversionError('Failed to convert value(s) to axis '\n\u001b[1;32m-> 1553\u001b[1;33m                                          f'units: {x!r}') from e\n\u001b[0m\u001b[0;32m   1554\u001b[0m         \u001b[1;32mreturn\u001b[0m \u001b[0mret\u001b[0m\u001b[1;33m\u001b[0m\u001b[1;33m\u001b[0m\u001b[0m\n\u001b[0;32m   1555\u001b[0m \u001b[1;33m\u001b[0m\u001b[0m\n",
      "\u001b[1;31mConversionError\u001b[0m: Failed to convert value(s) to axis units: 'bx'"
     ]
    }
   ],
   "source": [
    "\n",
    "\n",
    "plt.bar( migrantes.QTDE_HOMENS[1],migrantes.TOTAL_MIGRANTES_MORTOS[1], \"bx\")\n",
    "plt.bar( migrantes.QTDE_MULHERES[1],migrantes.TOTAL_MIGRANTES_MORTOS[1], \"r+\")\n",
    "plt.bar( migrantes.QTDE_CRIANCAS[1],migrantes.TOTAL_MIGRANTES_MORTOS[1], \"go\")\n",
    "\n",
    "plt.ylabel(\"QTDE_MORTOS\")\n",
    "plt.xlabel(\"TOTAL_MORTOS\")\n",
    "plt.title(\"Gráfico de QTDE de homens, mulheres e crianças mortosa (Tentativa 1)\")"
   ]
  },
  {
   "cell_type": "code",
   "execution_count": 165,
   "metadata": {},
   "outputs": [
    {
     "ename": "KeyError",
     "evalue": "\"['MULHER'] not in index\"",
     "output_type": "error",
     "traceback": [
      "\u001b[1;31m---------------------------------------------------------------------------\u001b[0m",
      "\u001b[1;31mKeyError\u001b[0m                                  Traceback (most recent call last)",
      "\u001b[1;32m<ipython-input-165-2c9b9528cb69>\u001b[0m in \u001b[0;36m<module>\u001b[1;34m\u001b[0m\n\u001b[0;32m      3\u001b[0m \u001b[1;31m#migrantes.hist(figsize=(10,8))\u001b[0m\u001b[1;33m\u001b[0m\u001b[1;33m\u001b[0m\u001b[1;33m\u001b[0m\u001b[0m\n\u001b[0;32m      4\u001b[0m \u001b[1;33m\u001b[0m\u001b[0m\n\u001b[1;32m----> 5\u001b[1;33m \u001b[0mmigrantes\u001b[0m\u001b[1;33m[\u001b[0m\u001b[1;33m[\u001b[0m\u001b[1;34m'MULHER'\u001b[0m\u001b[1;33m,\u001b[0m \u001b[1;34m'TOTAL_MIGRANTES_MORTOS_DESAPARECIDOS'\u001b[0m\u001b[1;33m]\u001b[0m\u001b[1;33m]\u001b[0m\u001b[1;33m.\u001b[0m\u001b[0mgroupby\u001b[0m\u001b[1;33m(\u001b[0m\u001b[1;33m[\u001b[0m\u001b[1;34m'MULHER'\u001b[0m\u001b[1;33m]\u001b[0m\u001b[1;33m)\u001b[0m\u001b[1;33m.\u001b[0m\u001b[0mmean\u001b[0m\u001b[1;33m(\u001b[0m\u001b[1;33m)\u001b[0m\u001b[1;33m\u001b[0m\u001b[1;33m\u001b[0m\u001b[0m\n\u001b[0m",
      "\u001b[1;32m~\\anaconda\\envs\\pos-ds-ia-3.7\\lib\\site-packages\\pandas\\core\\frame.py\u001b[0m in \u001b[0;36m__getitem__\u001b[1;34m(self, key)\u001b[0m\n\u001b[0;32m   2999\u001b[0m             \u001b[1;32mif\u001b[0m \u001b[0mis_iterator\u001b[0m\u001b[1;33m(\u001b[0m\u001b[0mkey\u001b[0m\u001b[1;33m)\u001b[0m\u001b[1;33m:\u001b[0m\u001b[1;33m\u001b[0m\u001b[1;33m\u001b[0m\u001b[0m\n\u001b[0;32m   3000\u001b[0m                 \u001b[0mkey\u001b[0m \u001b[1;33m=\u001b[0m \u001b[0mlist\u001b[0m\u001b[1;33m(\u001b[0m\u001b[0mkey\u001b[0m\u001b[1;33m)\u001b[0m\u001b[1;33m\u001b[0m\u001b[1;33m\u001b[0m\u001b[0m\n\u001b[1;32m-> 3001\u001b[1;33m             \u001b[0mindexer\u001b[0m \u001b[1;33m=\u001b[0m \u001b[0mself\u001b[0m\u001b[1;33m.\u001b[0m\u001b[0mloc\u001b[0m\u001b[1;33m.\u001b[0m\u001b[0m_convert_to_indexer\u001b[0m\u001b[1;33m(\u001b[0m\u001b[0mkey\u001b[0m\u001b[1;33m,\u001b[0m \u001b[0maxis\u001b[0m\u001b[1;33m=\u001b[0m\u001b[1;36m1\u001b[0m\u001b[1;33m,\u001b[0m \u001b[0mraise_missing\u001b[0m\u001b[1;33m=\u001b[0m\u001b[1;32mTrue\u001b[0m\u001b[1;33m)\u001b[0m\u001b[1;33m\u001b[0m\u001b[1;33m\u001b[0m\u001b[0m\n\u001b[0m\u001b[0;32m   3002\u001b[0m \u001b[1;33m\u001b[0m\u001b[0m\n\u001b[0;32m   3003\u001b[0m         \u001b[1;31m# take() does not accept boolean indexers\u001b[0m\u001b[1;33m\u001b[0m\u001b[1;33m\u001b[0m\u001b[1;33m\u001b[0m\u001b[0m\n",
      "\u001b[1;32m~\\anaconda\\envs\\pos-ds-ia-3.7\\lib\\site-packages\\pandas\\core\\indexing.py\u001b[0m in \u001b[0;36m_convert_to_indexer\u001b[1;34m(self, obj, axis, is_setter, raise_missing)\u001b[0m\n\u001b[0;32m   1283\u001b[0m                 \u001b[1;31m# When setting, missing keys are not allowed, even with .loc:\u001b[0m\u001b[1;33m\u001b[0m\u001b[1;33m\u001b[0m\u001b[1;33m\u001b[0m\u001b[0m\n\u001b[0;32m   1284\u001b[0m                 \u001b[0mkwargs\u001b[0m \u001b[1;33m=\u001b[0m \u001b[1;33m{\u001b[0m\u001b[1;34m\"raise_missing\"\u001b[0m\u001b[1;33m:\u001b[0m \u001b[1;32mTrue\u001b[0m \u001b[1;32mif\u001b[0m \u001b[0mis_setter\u001b[0m \u001b[1;32melse\u001b[0m \u001b[0mraise_missing\u001b[0m\u001b[1;33m}\u001b[0m\u001b[1;33m\u001b[0m\u001b[1;33m\u001b[0m\u001b[0m\n\u001b[1;32m-> 1285\u001b[1;33m                 \u001b[1;32mreturn\u001b[0m \u001b[0mself\u001b[0m\u001b[1;33m.\u001b[0m\u001b[0m_get_listlike_indexer\u001b[0m\u001b[1;33m(\u001b[0m\u001b[0mobj\u001b[0m\u001b[1;33m,\u001b[0m \u001b[0maxis\u001b[0m\u001b[1;33m,\u001b[0m \u001b[1;33m**\u001b[0m\u001b[0mkwargs\u001b[0m\u001b[1;33m)\u001b[0m\u001b[1;33m[\u001b[0m\u001b[1;36m1\u001b[0m\u001b[1;33m]\u001b[0m\u001b[1;33m\u001b[0m\u001b[1;33m\u001b[0m\u001b[0m\n\u001b[0m\u001b[0;32m   1286\u001b[0m         \u001b[1;32melse\u001b[0m\u001b[1;33m:\u001b[0m\u001b[1;33m\u001b[0m\u001b[1;33m\u001b[0m\u001b[0m\n\u001b[0;32m   1287\u001b[0m             \u001b[1;32mtry\u001b[0m\u001b[1;33m:\u001b[0m\u001b[1;33m\u001b[0m\u001b[1;33m\u001b[0m\u001b[0m\n",
      "\u001b[1;32m~\\anaconda\\envs\\pos-ds-ia-3.7\\lib\\site-packages\\pandas\\core\\indexing.py\u001b[0m in \u001b[0;36m_get_listlike_indexer\u001b[1;34m(self, key, axis, raise_missing)\u001b[0m\n\u001b[0;32m   1090\u001b[0m \u001b[1;33m\u001b[0m\u001b[0m\n\u001b[0;32m   1091\u001b[0m         self._validate_read_indexer(\n\u001b[1;32m-> 1092\u001b[1;33m             \u001b[0mkeyarr\u001b[0m\u001b[1;33m,\u001b[0m \u001b[0mindexer\u001b[0m\u001b[1;33m,\u001b[0m \u001b[0mo\u001b[0m\u001b[1;33m.\u001b[0m\u001b[0m_get_axis_number\u001b[0m\u001b[1;33m(\u001b[0m\u001b[0maxis\u001b[0m\u001b[1;33m)\u001b[0m\u001b[1;33m,\u001b[0m \u001b[0mraise_missing\u001b[0m\u001b[1;33m=\u001b[0m\u001b[0mraise_missing\u001b[0m\u001b[1;33m\u001b[0m\u001b[1;33m\u001b[0m\u001b[0m\n\u001b[0m\u001b[0;32m   1093\u001b[0m         )\n\u001b[0;32m   1094\u001b[0m         \u001b[1;32mreturn\u001b[0m \u001b[0mkeyarr\u001b[0m\u001b[1;33m,\u001b[0m \u001b[0mindexer\u001b[0m\u001b[1;33m\u001b[0m\u001b[1;33m\u001b[0m\u001b[0m\n",
      "\u001b[1;32m~\\anaconda\\envs\\pos-ds-ia-3.7\\lib\\site-packages\\pandas\\core\\indexing.py\u001b[0m in \u001b[0;36m_validate_read_indexer\u001b[1;34m(self, key, indexer, axis, raise_missing)\u001b[0m\n\u001b[0;32m   1183\u001b[0m             \u001b[1;32mif\u001b[0m \u001b[1;32mnot\u001b[0m \u001b[1;33m(\u001b[0m\u001b[0mself\u001b[0m\u001b[1;33m.\u001b[0m\u001b[0mname\u001b[0m \u001b[1;33m==\u001b[0m \u001b[1;34m\"loc\"\u001b[0m \u001b[1;32mand\u001b[0m \u001b[1;32mnot\u001b[0m \u001b[0mraise_missing\u001b[0m\u001b[1;33m)\u001b[0m\u001b[1;33m:\u001b[0m\u001b[1;33m\u001b[0m\u001b[1;33m\u001b[0m\u001b[0m\n\u001b[0;32m   1184\u001b[0m                 \u001b[0mnot_found\u001b[0m \u001b[1;33m=\u001b[0m \u001b[0mlist\u001b[0m\u001b[1;33m(\u001b[0m\u001b[0mset\u001b[0m\u001b[1;33m(\u001b[0m\u001b[0mkey\u001b[0m\u001b[1;33m)\u001b[0m \u001b[1;33m-\u001b[0m \u001b[0mset\u001b[0m\u001b[1;33m(\u001b[0m\u001b[0max\u001b[0m\u001b[1;33m)\u001b[0m\u001b[1;33m)\u001b[0m\u001b[1;33m\u001b[0m\u001b[1;33m\u001b[0m\u001b[0m\n\u001b[1;32m-> 1185\u001b[1;33m                 \u001b[1;32mraise\u001b[0m \u001b[0mKeyError\u001b[0m\u001b[1;33m(\u001b[0m\u001b[1;34m\"{} not in index\"\u001b[0m\u001b[1;33m.\u001b[0m\u001b[0mformat\u001b[0m\u001b[1;33m(\u001b[0m\u001b[0mnot_found\u001b[0m\u001b[1;33m)\u001b[0m\u001b[1;33m)\u001b[0m\u001b[1;33m\u001b[0m\u001b[1;33m\u001b[0m\u001b[0m\n\u001b[0m\u001b[0;32m   1186\u001b[0m \u001b[1;33m\u001b[0m\u001b[0m\n\u001b[0;32m   1187\u001b[0m             \u001b[1;31m# we skip the warning on Categorical/Interval\u001b[0m\u001b[1;33m\u001b[0m\u001b[1;33m\u001b[0m\u001b[1;33m\u001b[0m\u001b[0m\n",
      "\u001b[1;31mKeyError\u001b[0m: \"['MULHER'] not in index\""
     ]
    }
   ],
   "source": [
    "#ax = migrantes[migrantes[\"target\"] == 0.0].plot.scatter(\"sepal width (cm)\", \"sepal length (cm)\", c=\"m\")\n",
    "\n",
    "#migrantes.hist(figsize=(10,8))\n",
    "\n",
    "\n"
   ]
  },
  {
   "cell_type": "markdown",
   "metadata": {},
   "outputs": [],
   "source": [
    "### 4) **(60%)** Nos blocos seguintes construa análises que vão justificar suas conclusões."
   ]
  },
  {
   "cell_type": "markdown",
   "metadata": {},
   "outputs": [],
   "source": [
    "#### 4.1) **(20%)** Análise 1 -  Distribuição dos valores para cada uma das variáveis\n",
    "- Exemplo para variável contínua: se o conjunto de dados possui a variável \"idade\". Quantos % possui a idade entre 0 e 30 anos? 31 a 59? 60+?\n",
    "\n",
    "- Exemplo para variável discreta: se o conjunto de dados possui a variável \"gênero\", quantos % do conjunto de dados é do sexo feminino, quantos % é masculino? Inclua outros gêneros se houver.\n"
   ]
  },
  {
   "cell_type": "code",
   "execution_count": 0,
   "metadata": {},
   "outputs": [],
   "source": [
    "# Implemente sua análise aqui. Use mais blocos se achar que ficará mais organizado."
   ]
  },
  {
   "cell_type": "markdown",
   "metadata": {},
   "outputs": [],
   "source": [
    "#### 4.2) **(20%)** Análise 2 - Dependência entre variáveis\n",
    "O aluno deve apresentar as mesmas distribuições para cada valor da variável dependente. Exemplo: Em um conjunto de dados em que as variáveis independentes são idade e sexo, e a variável dependente é renda. O aluno pode dividir a renda em 3 \"grupos\", <1000 reais, entre 1000 e 10000 reais e >1000 reais. Para cada um desses grupos, é necessário apresentar a distribuição das variáveis \"idade\" e \"sexo\".\n"
   ]
  },
  {
   "cell_type": "code",
   "execution_count": 0,
   "metadata": {},
   "outputs": [],
   "source": [
    "# Implemente sua análise aqui. Use mais blocos se achar que ficará mais organizado."
   ]
  },
  {
   "cell_type": "markdown",
   "metadata": {},
   "outputs": [],
   "source": [
    "#### 4.3) **(20%)** Análise 3 - Correlação entre variáveis\n",
    "\n",
    "O aluno deve apresentar 3 análises de correlação entre variáveis do conjunto de dados trabalhado. Exemplo: Em um conjunto de dados com as informações de temperatura e ocorrência de incêndios, eu gostaria de saber a incidência de correlação entre as duas variáveis.\n",
    "\n"
   ]
  },
  {
   "cell_type": "code",
   "execution_count": 0,
   "metadata": {},
   "outputs": [],
   "source": [
    "# Primeiro par de variáveis: Implemente sua análise aqui. Use mais blocos se achar que ficará mais organizado."
   ]
  },
  {
   "cell_type": "code",
   "execution_count": 0,
   "metadata": {},
   "outputs": [],
   "source": [
    "# Segundo par de variáveis: Implemente sua análise aqui. Use mais blocos se achar que ficará mais organizado."
   ]
  },
  {
   "cell_type": "code",
   "execution_count": 0,
   "metadata": {},
   "outputs": [],
   "source": [
    "# Terceiro par de variáveis: Implemente sua análise aqui. Use mais blocos se achar que ficará mais organizado."
   ]
  },
  {
   "cell_type": "markdown",
   "metadata": {},
   "outputs": [],
   "source": [
    "### 5) Conclusões **15%**"
   ]
  },
  {
   "cell_type": "markdown",
   "metadata": {},
   "outputs": [],
   "source": [
    "*O que é possível concluir com os dados que você analisou? Se fosse fazer uma apresentação, o que levaria como os maiores destaques e por que?*"
   ]
  },
  {
   "cell_type": "markdown",
   "metadata": {},
   "outputs": [],
   "source": []
  }
 ],
 "metadata": {
  "file_extension": ".py",
  "kernelspec": {
   "display_name": "Python 3",
   "language": "python",
   "name": "python3"
  },
  "language_info": {
   "codemirror_mode": {
    "name": "ipython",
    "version": 3
   },
   "file_extension": ".py",
   "mimetype": "text/x-python",
   "name": "python",
   "nbconvert_exporter": "python",
   "pygments_lexer": "ipython3",
   "version": "3.7.4"
  },
  "mimetype": "text/x-python",
  "name": "python",
  "npconvert_exporter": "python",
  "pygments_lexer": "ipython3",
  "version": 3
 },
 "nbformat": 4,
 "nbformat_minor": 2
}