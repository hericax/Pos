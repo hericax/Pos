{
 "cells": [
  {
   "cell_type": "markdown",
   "metadata": {},
   "outputs": [],
   "source": [
    "# Projeto #1 - Análise Exploratória de Dados\n",
    "\n",
    "Antes de começar, leia as [Instruções](https://github.com/thvmm/pos-ds-ia/tree/master/projeto_1#instru%C3%A7%C3%B5es) e os [Critérios de Avaliação](https://github.com/thvmm/pos-ds-ia/tree/master/projeto_1#crit%C3%A9rios-de-avalia%C3%A7%C3%A3o)\n"
   ]
  },
  {
   "cell_type": "markdown",
   "metadata": {},
   "outputs": [],
   "source": [
    "### 1) **(5%)** Qual a base escolhida e qual seu interesse nela?"
   ]
  },
  {
   "cell_type": "markdown",
   "metadata": {},
   "outputs": [],
   "source": [
    "*Indique o link da base no Kaggle e explique em um parágrafo curto por que essa base é interessante para você.*\n",
    "\n",
    "https://www.kaggle.com/snocco/missing-migrants-project\n",
    "\n",
    "Me interessei pela base, por possuir uma boa variedade de tipo de features, me permitindo aplicar os conhecimentos que estou adiquirindo no curso."
   ]
  },
  {
   "cell_type": "markdown",
   "metadata": {},
   "outputs": [],
   "source": [
    "### 2) **(5%)** Descrição básica do conjunto de dados escolhido pelo aluno (1 parágrafo).\n",
    "- Identificação da variável a serem trabalhadas\n",
    "- Classificação das variáveis como: contínua ou discreta.\n"
   ]
  },
  {
   "cell_type": "markdown",
   "metadata": {},
   "outputs": [],
   "source": [
    "As variáveis que serão trabalhadas são: 'REGIAO_INCIDENTE', 'ANO_INCIDENTE', 'MES_INCIDENTE, 'TOTAL_MIGRANTES_MORTOS','TOTAL_MIGRANTES_DESAPARECIDOS','TOTAL_MIGRANTES_MORTOS_DESAPARECIDOS','QTDE_SOBREVIVENTES','QTDE_MULHERES','QTDE_HOMENS','QTDE_CRIANCAS'\n",
    "\n",
    "Sua classificação é:\n",
    "\n",
    "Contínuas: 'ANO_INCIDENTE', 'TOTAL_MIGRANTES_MORTOS','TOTAL_MIGRANTES_DESAPARECIDOS','TOTAL_MIGRANTES_MORTOS_DESAPARECIDOS','QTDE_SOBREVIVENTES','QTDE_MULHERES','QTDE_HOMENS','QTDE_CRIANCAS'\n",
    "\n",
    "Discretas: 'REGIAO_INCIDENTE', MES_INCIDENTE'\n"
   ]
  },
  {
   "cell_type": "markdown",
   "metadata": {},
   "outputs": [],
   "source": [
    "### 2) **(15%)** Faça uma avaliação descritiva da sua base. Quantas linhas ela possui? Quais os tipos de dados? Quantas e quais features possuem?\n",
    "\n",
    "Cada variável escolhida pelo aluno precisa passar por ao menos 1 pré-processamento. O pré-processamento pode ser (mas não está limitado a):\n",
    "- Checagem se os valores estão dentro de um limite permitido ou razoável.\n",
    "- Tratamento de valores ausentes por eliminação ou substituição.\n",
    "- Conversão do tipo de dados.\n"
   ]
  },
  {
   "cell_type": "code",
   "metadata": {},
   "outputs": [],
   "source": [
    "A base possui 5333 registros e 20 features.\n",
    "\n",
    "Os registros são do tipo:\n",
    "Inteiro: ID, ANO_INCIDENTE, TOTAL_MIGRANTES_MORTOS_DESAPARECIDOS, QUALIDADE_PESQUISA\n",
    "Object: REGIAO_INCIDENTE, DATA_INCIDENTE, MES_INCIDENTE, CAUSA_MORTE, LOCAL_INCIDENTE, INFORMACOES_PESQUISA, COORDENADAS_LOCAL_INCIDENTE,  ROTA_MIGRACAO, URL, GEOGRAFICO\n",
    "Float: TOTAL_MIGRANTES_MORTOS, TOTAL_MIGRANTES_DESAPARECIDOS, QTDE_SOBREVIVENTES, QTDE_MULHERES, QTDE_HOMENS, QTDE_CRIANCAS\n",
    "\n",
    "a) Checagem se os valores estão dentro de um limite permitido ou razoável.\n",
    "As variáveis 'TOTAL_MIGRANTES_MORTOS' e 'TOTAL_MIGRANTES_MORTOS_DESAPARECIDOS', possui o valor mínimo igual a zero, como o dataset é para analisar a quantidade ocorrida de mortos e/ou desaparecidos, zero não é um valor aceitavel. \n",
    "#dataset.drop(dataset[dataset.bedrooms==0].index ,inplace=True)\n",
    "#migrantes.isnull().sum() #191 TOTAL_MIGRANTES_MORTOS vazio\n",
    "migrantes = migrantes.dropna(subset=[\"TOTAL_MIGRANTES_MORTOS_DESAPARECIDOS\"])\n",
    "#titanic = titanic.update(titanic['Idade'].fillna('9'))\n",
    "migrantes.describe()\n",
    "\n",
    "Após o preenchimento, o percentual ficou 0%. \n",
    "\n",
    "????????????????????????verificar o valor máximo de cada variável\n",
    "TOTAL_MIGRANTES_MORTOS\t                MIN: 0 - MAX: 750.000000\t\n",
    "TOTAL_MIGRANTES_DESAPARECIDOS\t        MIN: 0 - MAX: 750.000000\n",
    "TOTAL_MIGRANTES_MORTOS_DESAPARECIDOS\tMIN: 0 - MAX: 1022.000000\t\n",
    "QTDE_SOBREVIVENTES                      MIN: 0 - MAX: 1950.000000\t\n",
    "QTDE_HOMENS                             MIN: 0 - MAX: 30.000000\t\n",
    "QTDE_MULHERES                           MIN: 0 - MAX: 135.000000\t\n",
    "QTDE_CRIANCAS                           MIN: 0 - MAX: 250.000000\n",
    "\n",
    "\n",
    "\n",
    "b) Tratamento de valores ausentes por eliminação ou substituição.\n",
    "\n",
    "As colunas que não são de interesse, serão excluídas. São elas: ID, INFORMACOES_PESQUISA, COORDENADAS_LOCAL_INCIDENTE, URL, QUALIDADE_PESQUISA, DATA_INCIDENTE.\n",
    "\n",
    "#migrantes.drop(['ID','INFORMACOES_PESQUISA','COORDENADAS_LOCAL_INCIDENTE','URL','QUALIDADE_PESQUISA','DATA_INCIDENTE'],axis = 1, inplace = True)\n",
    "#migrantes.head()\n",
    "\n",
    "c) Conversão do tipo de dados.\n",
    "A feature MES_INCIDENTE será convertida para inteiro.\n",
    "\n"
   ]
  },
  {
   "cell_type": "code",
   "metadata": {},
   "outputs": [],
   "source": [
    "# Implemente sua análise aqui. Use mais blocos se achar que ficará mais organizado.\n",
    "import pandas as pd\n",
    "import matplotlib.pyplot as plt\n",
    "import random\n",
    "from sklearn.preprocessing import MinMaxScaler, StandardScaler\n",
    "from sklearn.decomposition import PCA\n",
    "import numpy as np\n",
    "from sklearn import preprocessing\n",
    "\n",
    "migrantes = pd.read_csv(\"projeto_1/missing-migrants/MissingMigrants-Global.csv\")\n",
    "# Renomeando as features/colunas\n",
    "migrantes.columns = ['ID', 'REGIAO_INCIDENTE','DATA_INCIDENTE','ANO_INCIDENTE','MES_INCIDENTE','TOTAL_MIGRANTES_MORTOS','TOTAL_MIGRANTES_DESAPARECIDOS','TOTAL_MIGRANTES_MORTOS_DESAPARECIDOS','QTDE_SOBREVIVENTES','QTDE_MULHERES','QTDE_HOMENS','QTDE_CRIANCAS','CAUSA_MORTE','LOCAL_INCIDENTE','INFORMACOES_PESQUISA','COORDENADAS_LOCAL_INCIDENTE','ROTA_MIGRACAO','URL','GEOGRAFICO','QUALIDADE_PESQUISA']\n",
    "migrantes.head(5)"
   ]
  },
  {
   "cell_type": "code",
   "metadata": {},
   "outputs": [],
   "source": [
    "migrantes.dtypes  #análise dos dados"
   ]
  },
  {
   "cell_type": "code",
   "metadata": {},
   "outputs": [],
   "source": [
    "migrantes.describe() #análise dos dados"
   ]
  },
  {
   "cell_type": "code",
   "metadata": {},
   "outputs": [],
   "source": [
    "# Percentual das features que não possuem valor (dados faltantes):\n",
    "(migrantes.isnull().sum() / migrantes.shape[0]).sort_values(ascending=False)"
   ]
  },
  {
   "cell_type": "code",
   "metadata": {},
   "outputs": [],
   "source": [
    "#Preenchendo os dados faltantes com 'zero' das colunas que serão utilizadas na análise\n",
    "migrantes['TOTAL_MIGRANTES_DESAPARECIDOS'].fillna(0, inplace=True)\n",
    "migrantes['QTDE_CRIANCAS'].fillna(0, inplace=True)\n",
    "migrantes['QTDE_SOBREVIVENTES'].fillna(0, inplace=True)\n",
    "migrantes['QTDE_MULHERES'].fillna(0, inplace=True)\n",
    "migrantes['QTDE_HOMENS'].fillna(0, inplace=True)\n",
    "migrantes['TOTAL_MIGRANTES_MORTOS'].fillna(0, inplace=True)\n",
    "\n",
    "# ver a porcentagem dos valores faltantes após preenchimento dos valores faltantes\n",
    "(migrantes.isnull().sum() / migrantes.shape[0]).sort_values(ascending=False)"
   ]
  },
  {
   "cell_type": "code",
   "metadata": {},
   "outputs": [],
   "source": [
    "migrantes.dtypes"
   ]
  },
  {
   "cell_type": "code",
   "metadata": {},
   "outputs": [],
   "source": [
    "# Conversão do tipo de dados.\n",
    "# conversão do ME_INCIDENTE para número\n",
    "migrantes['MES_INCIDENTE'] = migrantes['MES_INCIDENTE'].map({\n",
    "    'Jan': 1, \n",
    "    'Feb': 2,\n",
    "    'Mar': 3, \n",
    "    'Apr': 4,\n",
    "    'May': 5,\n",
    "    'Jun': 6,\n",
    "    'Jul': 7,\n",
    "    'Aug': 8,\n",
    "    'Sep': 9,\n",
    "    'Out': 10,\n",
    "    'Nov': 11,\n",
    "    'Dec': 12})"
   ]
  },
  {
   "cell_type": "code",
   "execution_count": 70,
   "metadata": {},
   "outputs": [],
   "source": [
    "# Criando a coluna HEMISFERIO\n",
    "migrantes['HEMISFERIO'] = migrantes['REGIAO_INCIDENTE'].map({\n",
    "    'Caribbean': 'NORTE',\n",
    "    'Central Asia': 'NORTE',\n",
    "    'East Asia': 'NORTE',\n",
    "    'Europe\tnorte': 'NORTE',\n",
    "    'Mediterranean': 'NORTE',\n",
    "    'Middle East': 'NORTE',\n",
    "    'North Africa': 'NORTE',\n",
    "    'North America': 'NORTE',\n",
    "    'South Asia': 'NORTE',\n",
    "    'Southeast Asia': 'NORTE',\n",
    "    'Sub-Saharan Africa': 'NORTE',\n",
    "    'US-Mexico Border': 'NORTE',\n",
    "    'Central America': 'NORTE',\n",
    "    'Horn of Africa': 'SUL',\n",
    "    'South America': 'SUL'})"
   ]
  },
  {
   "cell_type": "markdown",
   "metadata": {},
   "outputs": [],
   "source": [
    "### 4) **(60%)** Nos blocos seguintes construa análises que vão justificar suas conclusões."
   ]
  },
  {
   "cell_type": "markdown",
   "metadata": {},
   "outputs": [],
   "source": [
    "#### 4.1) **(20%)** Análise 1 -  Distribuição dos valores para cada uma das variáveis\n",
    "- Exemplo para variável contínua: se o conjunto de dados possui a variável \"idade\". Quantos % possui a idade entre 0 e 30 anos? 31 a 59? 60+?\n",
    "\n",
    "- Exemplo para variável discreta: se o conjunto de dados possui a variável \"gênero\", quantos % do conjunto de dados é do sexo feminino, quantos % é masculino? Inclua outros gêneros se houver.\n"
   ]
  },
  {
   "cell_type": "code",
   "metadata": {},
   "outputs": [],
   "source": [
    "# Implemente sua análise aqui. Use mais blocos se achar que ficará mais organizado."
   ]
  },
  {
   "cell_type": "code",
   "metadata": {},
   "outputs": [],
   "source": [
    "#Análise 1: Qual ano teve mais mortos ou desaparecidos?\n",
    "# A partir do gráfico abaixo, observamos que o ano com maior quantidade de mortos e/ou desaparecidos foi 2016.\n",
    "x = migrantes.groupby('ANO_INCIDENTE').sum()\n",
    "x = x.reset_index()\n",
    "\n",
    "plt.bar(x.ANO_INCIDENTE,x.TOTAL_MIGRANTES_MORTOS_DESAPARECIDOS,color='red')\n",
    "\n",
    "plt.xlabel(\"Ano\")\n",
    "plt.ylabel(\"Total de mortos e desaparecidos\")\n",
    "plt.title(\"Qtde de mortos e desaparecidos por ano\")"
   ]
  },
  {
   "cell_type": "code",
   "metadata": {},
   "outputs": [],
   "source": [
    "#Análise 2: Qual região teve mais migrantes mortos e desaparecidos?\n",
    "# A partir do gráfico abaixo, observamos que a região com maior mortos e/ou desaparecidos foi Mediterranean.\n",
    "\n",
    "x = migrantes.groupby('REGIAO_INCIDENTE').sum()\n",
    "x = x.reset_index()\n",
    "\n",
    "plt.xticks(rotation=90)\n",
    "plt.bar(x.REGIAO_INCIDENTE,x.TOTAL_MIGRANTES_MORTOS_DESAPARECIDOS,color='green')\n",
    "\n",
    "plt.xlabel(\"Região\")\n",
    "plt.ylabel(\"Total de mortos e desaparecidos\")\n",
    "plt.title(\"Mortos e desaparecidos por região\")\n"
   ]
  },
  {
   "cell_type": "code",
   "metadata": {},
   "outputs": [],
   "source": [
    "#Análise 3: Houve mais mortes de homens, mulheres ou crianças? \n",
    "# A partir do gráfico abaixo, observamos que morreram mais crianças, seguindo dos homens e depois as mulheres.\n",
    "\n",
    "x = migrantes.groupby('ANO_INCIDENTE').sum()\n",
    "x = x.reset_index()\n",
    "\n",
    "print ('mortos:', sum(migrantes.TOTAL_MIGRANTES_MORTOS))\n",
    "print ('desaparecidos:', sum(migrantes.TOTAL_MIGRANTES_DESAPARECIDOS))\n",
    "print ('mortos e desaparecidos:', sum(migrantes.TOTAL_MIGRANTES_MORTOS_DESAPARECIDOS))\n",
    "print ('homens/ulheres/criancas:', sum(x.QTDE_HOMENS)+sum(x.QTDE_MULHERES)+sum(x.QTDE_CRIANCAS))\n",
    "\n",
    "labels = ['Homens','Mulheres','Criancas']\n",
    "sizes = [sum(x.QTDE_HOMENS),sum(x.QTDE_MULHERES),sum(x.QTDE_CRIANCAS)]\n",
    "\n",
    "print (sizes)\n",
    "\n",
    "fig1, ax1 = plt.subplots()\n",
    "\n",
    "ax1.pie(sizes, labels = labels, autopct='%1.1f%%', shadow=True, startangle=90)\n",
    "ax1.axis('equal')\n",
    "plt.show()\n",
    "\n"
   ]
  },
  {
   "cell_type": "code",
   "metadata": {},
   "outputs": [],
   "source": [
    "# Analise 4: houve mais mortos ou desaparecidos?\n",
    "# De acordo com o grafico, houve mais mortos \n",
    "\n",
    "y= sum(migrantes.TOTAL_MIGRANTES_MORTOS)\n",
    "x = sum(migrantes.TOTAL_MIGRANTES_DESAPARECIDOS)\n",
    "\n",
    "print ('mortos',sum(migrantes.TOTAL_MIGRANTES_MORTOS))\n",
    "print ('desaparecidos',sum(migrantes.TOTAL_MIGRANTES_DESAPARECIDOS))\n",
    "print ('mortos e desaparecidos',sum(migrantes.TOTAL_MIGRANTES_MORTOS_DESAPARECIDOS))\n",
    "\n",
    "\n",
    "plt.bar(x,y,color='green')\n",
    "\n",
    "plt.xlabel(\"Mortos\")\n",
    "plt.ylabel(\"Desaparecidos\")\n",
    "plt.title(\"Mortos x desaparecidos\")"
   ]
  },
  {
   "cell_type": "markdown",
   "metadata": {},
   "outputs": [],
   "source": [
    "#### 4.2) **(20%)** Análise 2 - Dependência entre variáveis\n",
    "O aluno deve apresentar as mesmas distribuições para cada valor da variável dependente. Exemplo: Em um conjunto de dados em que as variáveis independentes são idade e sexo, e a variável dependente é renda. O aluno pode dividir a renda em 3 \"grupos\", <1000 reais, entre 1000 e 10000 reais e >1000 reais. Para cada um desses grupos, é necessário apresentar a distribuição das variáveis \"idade\" e \"sexo\".\n"
   ]
  },
  {
   "cell_type": "code",
   "metadata": {},
   "outputs": [],
   "source": [
    "# Implemente sua análise aqui. Use mais blocos se achar que ficará mais organizado.\n",
    "\n",
    "no seu exemplo, uma possivel analise dessa natureza poderia ser:\n",
    "total de fatalidades por regiao e mes; ou\n",
    "total de fatalidades por causa e local\n",
    "\n",
    "\n",
    "\n",
    "6) Total de mortos por estacao do ano\n",
    "# Identificar quais sao os hemisferios de cada regiao\n",
    "dar um groupby por regiao\n",
    "\n",
    "# identificar estacao do mes por hesmiferio\n",
    "migrantes['MES_INCIDENTE'] = migrantes['MES_INCIDENTE'].map({\n",
    "    'Jan': 1, \n",
    "    'Feb': 2,\n",
    "    'Mar': 3, \n",
    "    'Apr': 4,\n",
    "    'May': 5,\n",
    "    'Jun': 6,\n",
    "    'Jul': 7,\n",
    "    'Aug': 8,\n",
    "    'Sep': 9,\n",
    "    'Out': 10,\n",
    "    'Nov': 11,\n",
    "    'Dec': 12})\n",
    " # criar uma coluna para armazenar o valor acima\n",
    "\n",
    "  \n",
    "\n",
    "7) Total de mortos por período do mes\n"
   ]
  },
  {
   "cell_type": "code",
   "metadata": {},
   "outputs": [],
   "source": [
    "#Análise 1: total de mortos e desaparecidos por mes/ano\n",
    "# De acordo com o gráfico, abril de 2015 foi o mês/ano com mais mortos e desaparecidos, 1583.\n",
    "\n",
    "x = migrantes.groupby(['ANO_INCIDENTE','MES_INCIDENTE']).sum()\n",
    "#x = x.reset_index()\n",
    "#print (x)\n",
    "\n",
    "x['TOTAL_MIGRANTES_MORTOS_DESAPARECIDOS'].plot(kind = 'bar',color='purple', title='Mês/ano com maior incidente',grid=True, stacked=True)\n",
    "#table.plot(kind='bar',width=1.0, color=['red','yellow','orange','blue','green'], title='Condition by Bedrooms' ,grid=False)\n",
    "#plt.xlabel(\"Ano\")\n",
    "#plt.ylabel(\"Total de mortos e desaparecidos\")\n",
    "#plt.title(\"Mortos e desaparecidos por região\")"
   ]
  },
  {
   "cell_type": "code",
   "metadata": {},
   "outputs": [],
   "source": [
    "# Análise 2: Total de fatalidades por região e mês\n",
    "# Confirmando a análise da região do Mediterraneo, com a maior quantidade de mortes e/ou desaparecidos, o mês de abril teve 2595 mortos e/ou desaparecidos\n",
    "\n",
    "x = migrantes.groupby(['REGIAO_INCIDENTE','MES_INCIDENTE']).sum()\n",
    "\n",
    "x['TOTAL_MIGRANTES_MORTOS_DESAPARECIDOS'].plot(kind = 'bar',color='green', title='Total de fatalidades por região e mês',grid=True, stacked=True)"
   ]
  },
  {
   "cell_type": "code",
   "metadata": {},
   "outputs": [],
   "source": [
    "# Análise 3: Mortos e desaparecidos por hemisfério\n",
    "\n",
    "??????????????????///"
   ]
  },
  {
   "cell_type": "markdown",
   "metadata": {},
   "outputs": [],
   "source": [
    "#### 4.3) **(20%)** Análise 3 - Correlação entre variáveis\n",
    "\n",
    "O aluno deve apresentar 3 análises de correlação entre variáveis do conjunto de dados trabalhado. Exemplo: Em um conjunto de dados com as informações de temperatura e ocorrência de incêndios, eu gostaria de saber a incidência de correlação entre as duas variáveis.\n",
    "\n"
   ]
  },
  {
   "cell_type": "code",
   "metadata": {},
   "outputs": [],
   "source": [
    "# Primeiro par de variáveis: Implemente sua análise aqui. Use mais blocos se achar que ficará mais organizado."
   ]
  },
  {
   "cell_type": "code",
   "metadata": {},
   "outputs": [],
   "source": [
    "# Segundo par de variáveis: Implemente sua análise aqui. Use mais blocos se achar que ficará mais organizado."
   ]
  },
  {
   "cell_type": "code",
   "metadata": {},
   "outputs": [],
   "source": [
    "# Terceiro par de variáveis: Implemente sua análise aqui. Use mais blocos se achar que ficará mais organizado."
   ]
  },
  {
   "cell_type": "markdown",
   "metadata": {},
   "outputs": [],
   "source": [
    "### 5) Conclusões **15%**"
   ]
  },
  {
   "cell_type": "markdown",
   "metadata": {},
   "outputs": [],
   "source": [
    "*O que é possível concluir com os dados que você analisou? Se fosse fazer uma apresentação, o que levaria como os maiores destaques e por que?*"
   ]
  },
  {
   "cell_type": "markdown",
   "metadata": {},
   "outputs": [],
   "source": []
  }
 ],
 "metadata": {
  "file_extension": ".py",
  "kernelspec": {
   "display_name": "Python 3",
   "language": "python",
   "name": "python3"
  },
  "language_info": {
   "codemirror_mode": {
    "name": "ipython",
    "version": 3
   },
   "file_extension": ".py",
   "mimetype": "text/x-python",
   "name": "python",
   "nbconvert_exporter": "python",
   "pygments_lexer": "ipython3",
   "version": "3.7.5"
  },
  "mimetype": "text/x-python",
  "name": "python",
  "npconvert_exporter": "python",
  "pygments_lexer": "ipython3",
  "version": 3
 },
 "nbformat": 4,
 "nbformat_minor": 2
}