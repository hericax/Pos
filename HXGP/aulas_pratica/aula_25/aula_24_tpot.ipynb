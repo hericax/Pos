{
 "cells": [
  {
   "cell_type": "markdown",
   "metadata": {},
   "source": [
    "## Aula: Prática em AutoML\n"
   ]
  },
  {
   "cell_type": "markdown",
   "metadata": {},
   "source": [
    "<div><img src=\"https://miro.medium.com/max/910/1*aDlEr5OL0Q6qFRqlVs6TAA.png\">\n",
    "</div>"
   ]
  },
  {
   "cell_type": "markdown",
   "metadata": {},
   "source": [
    "## Exemplo 1: Boston Housing Prices (again)"
   ]
  },
  {
   "cell_type": "code",
   "execution_count": 8,
   "metadata": {},
   "outputs": [],
   "source": [
    "from sklearn.datasets import load_boston\n",
    "import pandas as pd\n",
    "from sklearn.model_selection import train_test_split\n",
    "from sklearn.tree import DecisionTreeRegressor\n",
    "from sklearn.model_selection import RandomizedSearchCV\n",
    "from IPython.display import SVG, Image\n",
    "from IPython.display import display\n",
    "from sklearn.tree import export_graphviz\n",
    "from graphviz import Source\n",
    "from sklearn import tree\n",
    "import time\n",
    "\n",
    "from tpot import TPOTRegressor\n",
    "data = load_boston(return_X_y=False)\n",
    ""
   ]
  },
  {
   "cell_type": "markdown",
   "metadata": {},
   "source": [
    "### Definindo conjuntos de treino e teste"
   ]
  },
  {
   "cell_type": "code",
   "execution_count": 9,
   "metadata": {},
   "outputs": [],
   "source": [
    "X = pd.DataFrame(data[\"data\"], columns=data['feature_names'])\n",
    "y = data[\"target\"]\n",
    "X_train, X_test, y_train, y_test = train_test_split(X, y, test_size=0.25, random_state=42)\n",
    ""
   ]
  },
  {
   "cell_type": "markdown",
   "metadata": {},
   "source": [
    "### Observando preço médio e desvio padrão"
   ]
  },
  {
   "cell_type": "code",
   "execution_count": 10,
   "metadata": {},
   "outputs": [
    {
     "output_type": "stream",
     "name": "stdout",
     "text": "Mean value: 22.907915567282323 Std value: 9.41709782996042\n"
    },
    {
     "output_type": "execute_result",
     "data": {
      "text/plain": "array(['CRIM', 'ZN', 'INDUS', 'CHAS', 'NOX', 'RM', 'AGE', 'DIS', 'RAD',\n       'TAX', 'PTRATIO', 'B', 'LSTAT'], dtype='<U7')"
     },
     "metadata": {},
     "execution_count": 10
    }
   ],
   "source": [
    "print(\"Mean value: {} Std value: {}\".format(y_train.mean(), y_train.std()))\n",
    "data['feature_names']"
   ]
  },
  {
   "cell_type": "markdown",
   "metadata": {},
   "source": [
    "### Modelando os dados utilizando o TPOT "
   ]
  },
  {
   "cell_type": "code",
   "execution_count": 12,
   "metadata": {},
   "outputs": [],
   "source": [
    "tpot = TPOTRegressor(generations=10, population_size=20, verbosity=10, scoring=\"neg_mean_squared_error\", n_jobs=-2, random_state=42)\n",
    "start = time.time()\n"
   ]
  },
  {
   "cell_type": "code",
   "execution_count": 18,
   "metadata": {},
   "outputs": [
    {
     "output_type": "stream",
     "name": "stdout",
     "text": "30 operators have been imported by TPOT.\nOptimization Progress:   9%|▉         | 20/220 [00:49<47:16, 14.18s/pipeline]_pre_test decorator: _random_mutation_operator: num_test=0 Found array with 0 feature(s) (shape=(50, 0)) while a minimum of 1 is required..\nOptimization Progress:   9%|▉         | 20/220 [00:51<47:16, 14.18s/pipeline]_pre_test decorator: _random_mutation_operator: num_test=0 Found array with 0 feature(s) (shape=(50, 0)) while a minimum of 1 is required..\nOptimization Progress:  36%|███▋      | 80/220 [01:54<05:57,  2.56s/pipeline]Pipeline encountered that has previously been evaluated during the optimization process. Using the score from the previous evaluation.\nOptimization Progress:  45%|████▌     | 100/220 [02:28<04:40,  2.34s/pipeline]_pre_test decorator: _random_mutation_operator: num_test=0 '(slice(None, None, None), 0)' is an invalid key.\nOptimization Progress:  45%|████▌     | 100/220 [02:29<04:40,  2.34s/pipeline]_pre_test decorator: _random_mutation_operator: num_test=0 Found array with 0 feature(s) (shape=(50, 0)) while a minimum of 1 is required..\nOptimization Progress:  55%|█████▍    | 120/220 [02:47<02:54,  1.74s/pipeline]_pre_test decorator: _random_mutation_operator: num_test=0 l2 was provided as affinity. Ward can only work with euclidean distances..\nOptimization Progress:  55%|█████▌    | 121/220 [02:53<04:37,  2.81s/pipeline]Pipeline encountered that has previously been evaluated during the optimization process. Using the score from the previous evaluation.\nOptimization Progress:  64%|██████▎   | 140/220 [03:13<02:48,  2.10s/pipeline]_pre_test decorator: _random_mutation_operator: num_test=0 feature_names mismatch: ['CRIM', 'ZN', 'INDUS', 'CHAS', 'NOX', 'RM', 'AGE', 'DIS', 'RAD', 'TAX', 'PTRATIO', 'B', 'LSTAT'] ['f0', 'f1', 'f2', 'f3', 'f4', 'f5', 'f6', 'f7', 'f8', 'f9', 'f10', 'f11', 'f12']\nexpected LSTAT, RAD, CHAS, NOX, INDUS, RM, ZN, DIS, AGE, B, PTRATIO, CRIM, TAX in input data\ntraining data did not have the following fields: f7, f3, f9, f1, f0, f8, f2, f11, f4, f12, f5, f10, f6.\nOptimization Progress:  64%|██████▎   | 140/220 [03:15<02:48,  2.10s/pipeline]_pre_test decorator: _random_mutation_operator: num_test=0 '(slice(None, None, None), 0)' is an invalid key.\nOptimization Progress:  64%|██████▍   | 141/220 [03:18<03:44,  2.85s/pipeline]Pipeline encountered that has previously been evaluated during the optimization process. Using the score from the previous evaluation.\nOptimization Progress:  82%|████████▏ | 180/220 [03:58<01:10,  1.77s/pipeline]_pre_test decorator: _random_mutation_operator: num_test=0 Found array with 0 feature(s) (shape=(50, 0)) while a minimum of 1 is required..\nOptimization Progress:  82%|████████▏ | 181/220 [04:04<01:54,  2.94s/pipeline]Pipeline encountered that has previously been evaluated during the optimization process. Using the score from the previous evaluation.\nOptimization Progress:  91%|█████████ | 200/220 [04:23<00:39,  1.96s/pipeline]_pre_test decorator: _random_mutation_operator: num_test=0 array must not contain infs or NaNs.\nOptimization Progress:  99%|█████████▊| 217/220 [04:46<00:07,  2.61s/pipeline]time:  515.5672204494476\nMSE : -11.076354321339512\n"
    }
   ],
   "source": [
    "#tpot.regressor.fit(X_train, y_train)\n",
    "tpot.fit(X_train, y_train)\n",
    "\n",
    "end = time.time()\n",
    "print('time: ',(end-start))\n",
    "print('MSE :', tpot.score(X_test, y_test))\n",
    "tpot.export('tpot_boston_pipeline.py')"
   ]
  },
  {
   "cell_type": "code",
   "execution_count": null,
   "metadata": {},
   "outputs": [],
   "source": [
    "from sklearn.metrics import mean_absolute_error, mean_squared_error, r2_score\n",
    "y_pred = tpot.predict(X_test)\n",
    "\n",
    "print('MAE',mean_absolute_error(y_pred=y_pred, y_true=y_test))\n",
    "print('MSE',mean_squared_error(y_pred=y_pred, y_true=y_test))\n",
    "print('R2',r2_score(y_pred=y_pred, y_true=y_test))"
   ]
  },
  {
   "cell_type": "markdown",
   "metadata": {},
   "source": [
    "<div>\n",
    "<img src=\"https://i.imgur.com/BmBC8VW.jpg\" width=\"300\"/>\n",
    "</div>"
   ]
  },
  {
   "cell_type": "markdown",
   "metadata": {},
   "source": [
    "<div>\n",
    "<img src=\"https://cdn-media-1.freecodecamp.org/images/hmZydSW9YegiMVPWq2JBpOpai3CejzQpGkNG\" width=\"300\"/>\n",
    "</div>"
   ]
  },
  {
   "cell_type": "code",
   "execution_count": null,
   "metadata": {},
   "outputs": [],
   "source": []
  }
 ],
 "metadata": {
  "file_extension": ".py",
  "kernelspec": {
   "display_name": "Python 3.7.0 64-bit",
   "language": "python",
   "name": "python37064bitc01724e9609b4d719b1530c185cd833e"
  },
  "language_info": {
   "codemirror_mode": {
    "name": "ipython",
    "version": 3
   },
   "file_extension": ".py",
   "mimetype": "text/x-python",
   "name": "python",
   "nbconvert_exporter": "python",
   "pygments_lexer": "ipython3",
   "version": "3.7.0-final"
  },
  "mimetype": "text/x-python",
  "name": "python",
  "npconvert_exporter": "python",
  "pygments_lexer": "ipython3",
  "version": 3
 },
 "nbformat": 4,
 "nbformat_minor": 2
}