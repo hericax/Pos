{
 "cells": [
  {
   "cell_type": "markdown",
   "metadata": {},
   "source": [
    "## Aula: Prática em AutoML\n"
   ]
  },
  {
   "cell_type": "markdown",
   "metadata": {},
   "source": [
    "<div><img src=\"https://miro.medium.com/max/910/1*aDlEr5OL0Q6qFRqlVs6TAA.png\">\n",
    "</div>"
   ]
  },
  {
   "cell_type": "markdown",
   "metadata": {},
   "source": [
    "## Exemplo 1: Boston Housing Prices (again)"
   ]
  },
  {
   "cell_type": "code",
   "execution_count": 1,
   "metadata": {},
   "outputs": [],
   "source": [
    "from sklearn.datasets import load_boston\n",
    "import pandas as pd\n",
    "from sklearn.model_selection import train_test_split\n",
    "from sklearn.tree import DecisionTreeRegressor\n",
    "from sklearn.model_selection import RandomizedSearchCV\n",
    "from IPython.display import SVG, Image\n",
    "from IPython.display import display\n",
    "from sklearn.tree import export_graphviz\n",
    "from graphviz import Source\n",
    "from sklearn import tree\n",
    "import time\n",
    "\n",
    "from tpot import TPOTRegressor\n",
    "data = load_boston(return_X_y=False)\n",
    ""
   ]
  },
  {
   "cell_type": "markdown",
   "metadata": {},
   "source": [
    "### Definindo conjuntos de treino e teste"
   ]
  },
  {
   "cell_type": "code",
   "execution_count": 2,
   "metadata": {},
   "outputs": [],
   "source": [
    "X = pd.DataFrame(data[\"data\"], columns=data['feature_names'])\n",
    "y = data[\"target\"]\n",
    "X_train, X_test, y_train, y_test = train_test_split(X, y, test_size=0.25, random_state=42)\n",
    ""
   ]
  },
  {
   "cell_type": "markdown",
   "metadata": {},
   "source": [
    "### Observando preço médio e desvio padrão"
   ]
  },
  {
   "cell_type": "code",
   "execution_count": 3,
   "metadata": {},
   "outputs": [
    {
     "output_type": "stream",
     "name": "stdout",
     "text": "Mean value: 22.907915567282323 Std value: 9.41709782996042\n"
    },
    {
     "output_type": "execute_result",
     "data": {
      "text/plain": "array(['CRIM', 'ZN', 'INDUS', 'CHAS', 'NOX', 'RM', 'AGE', 'DIS', 'RAD',\n       'TAX', 'PTRATIO', 'B', 'LSTAT'], dtype='<U7')"
     },
     "metadata": {},
     "execution_count": 3
    }
   ],
   "source": [
    "print(\"Mean value: {} Std value: {}\".format(y_train.mean(), y_train.std()))\n",
    "data['feature_names']"
   ]
  },
  {
   "cell_type": "markdown",
   "metadata": {},
   "source": [
    "### Modelando os dados utilizando o TPOT "
   ]
  },
  {
   "cell_type": "code",
   "execution_count": 4,
   "metadata": {},
   "outputs": [],
   "source": [
    "tpot = TPOTRegressor(generations=10, population_size=20, verbosity=10, scoring=\"neg_mean_squared_error\", n_jobs=-2, random_state=42)\n",
    "start = time.time()\n"
   ]
  },
  {
   "cell_type": "code",
   "execution_count": 5,
   "metadata": {},
   "outputs": [
    {
     "output_type": "stream",
     "name": "stdout",
     "text": "30 operators have been imported by TPOT.\nOptimization Progress:   9%|▉         | 20/220 [00:37<35:15, 10.58s/pipeline]_pre_test decorator: _random_mutation_operator: num_test=0 Found array with 0 feature(s) (shape=(50, 0)) while a minimum of 1 is required..\nOptimization Progress:   9%|▉         | 20/220 [00:40<35:15, 10.58s/pipeline]_pre_test decorator: _random_mutation_operator: num_test=0 Found array with 0 feature(s) (shape=(50, 0)) while a minimum of 1 is required..\nOptimization Progress:  45%|████▌     | 100/220 [02:00<02:17,  1.14s/pipeline]_pre_test decorator: _random_mutation_operator: num_test=0 Found array with 0 feature(s) (shape=(50, 0)) while a minimum of 1 is required..\nOptimization Progress:  45%|████▌     | 100/220 [02:01<02:17,  1.14s/pipeline]_pre_test decorator: _random_mutation_operator: num_test=0 Unsupported set of arguments: The combination of penalty='l2' and loss='epsilon_insensitive' are not supported when dual=False, Parameters: penalty='l2', loss='epsilon_insensitive', dual=False.\nOptimization Progress:  45%|████▌     | 100/220 [02:04<02:17,  1.14s/pipeline]_pre_test decorator: _random_mutation_operator: num_test=0 '(slice(None, None, None), 0)' is an invalid key.\nOptimization Progress:  55%|█████▍    | 120/220 [02:43<05:24,  3.24s/pipeline]_pre_test decorator: _random_mutation_operator: num_test=0 Unsupported set of arguments: The combination of penalty='l2' and loss='epsilon_insensitive' are not supported when dual=False, Parameters: penalty='l2', loss='epsilon_insensitive', dual=False.\nOptimization Progress:  55%|█████▌    | 121/220 [02:46<05:26,  3.30s/pipeline]Pipeline encountered that has previously been evaluated during the optimization process. Using the score from the previous evaluation.\nOptimization Progress:  82%|████████▏ | 180/220 [03:52<01:13,  1.83s/pipeline]_pre_test decorator: _random_mutation_operator: num_test=0 '(slice(None, None, None), 0)' is an invalid key.\nOptimization Progress:  82%|████████▏ | 180/220 [03:57<01:13,  1.83s/pipeline]_pre_test decorator: _random_mutation_operator: num_test=0 Found array with 0 feature(s) (shape=(50, 0)) while a minimum of 1 is required..\nOptimization Progress:  91%|█████████ | 200/220 [04:27<00:48,  2.41s/pipeline]_pre_test decorator: _random_mutation_operator: num_test=0 feature_names mismatch: ['CRIM', 'ZN', 'INDUS', 'CHAS', 'NOX', 'RM', 'AGE', 'DIS', 'RAD', 'TAX', 'PTRATIO', 'B', 'LSTAT'] ['f0', 'f1', 'f2', 'f3', 'f4', 'f5', 'f6', 'f7', 'f8', 'f9', 'f10', 'f11', 'f12']\nexpected DIS, B, INDUS, AGE, RAD, ZN, RM, LSTAT, NOX, PTRATIO, TAX, CRIM, CHAS in input data\ntraining data did not have the following fields: f2, f10, f3, f5, f1, f6, f7, f0, f8, f9, f4, f12, f11.\nOptimization Progress:  91%|█████████ | 200/220 [04:28<00:48,  2.41s/pipeline]_pre_test decorator: _random_mutation_operator: num_test=0 Unsupported set of arguments: The combination of penalty='l2' and loss='epsilon_insensitive' are not supported when dual=False, Parameters: penalty='l2', loss='epsilon_insensitive', dual=False.\nOptimization Progress:  99%|█████████▊| 217/220 [04:50<00:08,  2.81s/pipeline]time:  301.5889992713928\nMSE : -13.919605200579804\n"
    }
   ],
   "source": [
    "#tpot.regressor.fit(X_train, y_train)\n",
    "tpot.fit(X_train, y_train)\n",
    "\n",
    "end = time.time()\n",
    "print('time: ',(end-start))\n",
    "print('MSE :', tpot.score(X_test, y_test))\n",
    "tpot.export('tpot_boston_pipeline.py')"
   ]
  },
  {
   "cell_type": "code",
   "execution_count": 6,
   "metadata": {},
   "outputs": [
    {
     "output_type": "stream",
     "name": "stdout",
     "text": "MAE 2.224785965494296\nMSE 13.919605200579802\nR2 0.8012255751955464\n"
    }
   ],
   "source": [
    "from sklearn.metrics import mean_absolute_error, mean_squared_error, r2_score\n",
    "y_pred = tpot.predict(X_test)\n",
    "\n",
    "print('MAE',mean_absolute_error(y_pred=y_pred, y_true=y_test))\n",
    "print('MSE',mean_squared_error(y_pred=y_pred, y_true=y_test))\n",
    "print('R2',r2_score(y_pred=y_pred, y_true=y_test))"
   ]
  },
  {
   "cell_type": "markdown",
   "metadata": {},
   "source": [
    "<div>\n",
    "<img src=\"https://i.imgur.com/BmBC8VW.jpg\" width=\"300\"/>\n",
    "</div>"
   ]
  },
  {
   "cell_type": "markdown",
   "metadata": {},
   "source": [
    "<div>\n",
    "<img src=\"https://cdn-media-1.freecodecamp.org/images/hmZydSW9YegiMVPWq2JBpOpai3CejzQpGkNG\" width=\"300\"/>\n",
    "</div>"
   ]
  },
  {
   "cell_type": "code",
   "execution_count": null,
   "metadata": {},
   "outputs": [],
   "source": []
  }
 ],
 "metadata": {
  "file_extension": ".py",
  "kernelspec": {
   "display_name": "Python 3.7.0 64-bit",
   "language": "python",
   "name": "python37064bitc01724e9609b4d719b1530c185cd833e"
  },
  "language_info": {
   "codemirror_mode": {
    "name": "ipython",
    "version": 3
   },
   "file_extension": ".py",
   "mimetype": "text/x-python",
   "name": "python",
   "nbconvert_exporter": "python",
   "pygments_lexer": "ipython3",
   "version": "3.7.0-final"
  },
  "mimetype": "text/x-python",
  "name": "python",
  "npconvert_exporter": "python",
  "pygments_lexer": "ipython3",
  "version": 3
 },
 "nbformat": 4,
 "nbformat_minor": 2
}