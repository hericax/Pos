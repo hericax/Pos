{
  "nbformat": 4,
  "nbformat_minor": 0,
  "metadata": {
    "file_extension": ".py",
    "kernelspec": {
      "display_name": "Python 3.7.5 32-bit ('pos-ds-ia-3.7': conda)",
      "language": "python",
      "name": "python37532bitposdsia37condac7e21a6016ce41d79614fa61fa050301"
    },
    "language_info": {
      "codemirror_mode": {
        "name": "ipython",
        "version": 3
      },
      "file_extension": ".py",
      "mimetype": "text/x-python",
      "name": "python",
      "nbconvert_exporter": "python",
      "pygments_lexer": "ipython3",
      "version": "3.7.5-final"
    },
    "mimetype": "text/x-python",
    "name": "python",
    "npconvert_exporter": "python",
    "pygments_lexer": "ipython3",
    "version": 3,
    "colab": {
      "name": "classificador_projeto_2.ipynb",
      "provenance": [],
      "include_colab_link": true
    }
  },
  "cells": [
    {
      "cell_type": "markdown",
      "metadata": {
        "id": "view-in-github",
        "colab_type": "text"
      },
      "source": [
        "<a href=\"https://colab.research.google.com/github/hericax/Pos/blob/master/HXGP/pos-ds-ia-master/projeto_2/classificador_projeto_2.ipynb\" target=\"_parent\"><img src=\"https://colab.research.google.com/assets/colab-badge.svg\" alt=\"Open In Colab\"/></a>"
      ]
    },
    {
      "cell_type": "markdown",
      "metadata": {
        "id": "D6e89xf1GG0I",
        "colab_type": "text"
      },
      "source": [
        "# Projeto #2 - Classificador supervisionado\n",
        "\n",
        "Antes de começar, leia as [Instruções](https://github.com/thvmm/pos-ds-ia/tree/master/projeto_2#instru%C3%A7%C3%B5es) e os [Critérios de Avaliação](https://github.com/thvmm/pos-ds-ia/tree/master/projeto_2#crit%C3%A9rios-de-avalia%C3%A7%C3%A3o)\n"
      ]
    },
    {
      "cell_type": "markdown",
      "metadata": {
        "id": "wb6WutC9GG0R",
        "colab_type": "text"
      },
      "source": [
        "### 1) Qual a base escolhida?\n",
        "\n"
      ]
    },
    {
      "cell_type": "markdown",
      "metadata": {
        "id": "izKdPAdQGG0U",
        "colab_type": "text"
      },
      "source": [
        "A base escolhida foi - Reuters Corpus Volume I - https://scikit-learn.org/stable/datasets/index.html#id9"
      ]
    },
    {
      "cell_type": "markdown",
      "metadata": {
        "id": "qRIsOXcQGG0Y",
        "colab_type": "text"
      },
      "source": [
        "### 2) **(10%)** Pré-processamento: entendimento do conjunto de dados\n",
        "- Quais são minhas features?\n",
        "- Quais são minhas classes?\n",
        "- Como estão distribuidas minhas classes?\n",
        "- Checagem se os valores estão dentro de um limite permitido ou razoável.\n",
        "- Tratamento de valores ausentes por eliminação ou substituição.\n",
        "- Conversão do tipo de dados.\n"
      ]
    },
    {
      "cell_type": "code",
      "metadata": {
        "id": "MhZY4UvgGG0b",
        "colab_type": "code",
        "colab": {}
      },
      "source": [
        "# Implemente sua análise aqui. Use mais blocos se achar que ficará mais organizado."
      ],
      "execution_count": 0,
      "outputs": []
    },
    {
      "cell_type": "code",
      "metadata": {
        "id": "-On6xR_8Kxcy",
        "colab_type": "code",
        "colab": {}
      },
      "source": [
        ""
      ],
      "execution_count": 0,
      "outputs": []
    },
    {
      "cell_type": "code",
      "metadata": {
        "id": "trkd1SK9GG0y",
        "colab_type": "code",
        "colab": {}
      },
      "source": [
        "import pandas as pd\n",
        "import numpy as np"
      ],
      "execution_count": 0,
      "outputs": []
    },
    {
      "cell_type": "code",
      "metadata": {
        "id": "uMHfXrzbJwWf",
        "colab_type": "code",
        "colab": {}
      },
      "source": [
        "from sklearn.datasets import fetch_rcv1\n"
      ],
      "execution_count": 0,
      "outputs": []
    },
    {
      "cell_type": "code",
      "metadata": {
        "id": "8Cl921rZJ4ld",
        "colab_type": "code",
        "colab": {
          "base_uri": "https://localhost:8080/",
          "height": 119
        },
        "outputId": "ad457d9e-4859-4afc-a86b-a2a72d35eb70"
      },
      "source": [
        "rcv1 = fetch_rcv1()"
      ],
      "execution_count": 4,
      "outputs": [
        {
          "output_type": "stream",
          "text": [
            "Downloading https://ndownloader.figshare.com/files/5976069\n",
            "Downloading https://ndownloader.figshare.com/files/5976066\n",
            "Downloading https://ndownloader.figshare.com/files/5976063\n",
            "Downloading https://ndownloader.figshare.com/files/5976060\n",
            "Downloading https://ndownloader.figshare.com/files/5976057\n",
            "Downloading https://ndownloader.figshare.com/files/5976048\n"
          ],
          "name": "stderr"
        }
      ]
    },
    {
      "cell_type": "code",
      "metadata": {
        "id": "Q9LDmyuyZky5",
        "colab_type": "code",
        "colab": {
          "base_uri": "https://localhost:8080/",
          "height": 34
        },
        "outputId": "7ed6c5db-fdeb-4430-e5c2-f2fca09ae183"
      },
      "source": [
        "print ('Features', dir(rcv1))"
      ],
      "execution_count": 47,
      "outputs": [
        {
          "output_type": "stream",
          "text": [
            "Features ['DESCR', 'data', 'sample_id', 'target', 'target_names']\n"
          ],
          "name": "stdout"
        }
      ]
    },
    {
      "cell_type": "code",
      "metadata": {
        "id": "Wn1CmH6BUWTm",
        "colab_type": "code",
        "colab": {
          "base_uri": "https://localhost:8080/",
          "height": 34
        },
        "outputId": "b15c8e67-5338-4c87-9043-daa9d7a59c86"
      },
      "source": [
        "print(type(rcv1))"
      ],
      "execution_count": 41,
      "outputs": [
        {
          "output_type": "stream",
          "text": [
            "<class 'sklearn.utils.Bunch'>\n"
          ],
          "name": "stdout"
        }
      ]
    },
    {
      "cell_type": "code",
      "metadata": {
        "id": "-Ff2oyZFGG1U",
        "colab_type": "code",
        "colab": {
          "base_uri": "https://localhost:8080/",
          "height": 34
        },
        "outputId": "fb9191b2-f0e8-45e6-e8e2-dd448260389e"
      },
      "source": [
        "rcv1.data.shape"
      ],
      "execution_count": 5,
      "outputs": [
        {
          "output_type": "execute_result",
          "data": {
            "text/plain": [
              "(804414, 47236)"
            ]
          },
          "metadata": {
            "tags": []
          },
          "execution_count": 5
        }
      ]
    },
    {
      "cell_type": "code",
      "metadata": {
        "id": "pgVyKs2yGG1a",
        "colab_type": "code",
        "colab": {
          "base_uri": "https://localhost:8080/",
          "height": 34
        },
        "outputId": "5395f8f6-f39d-45c1-909e-42683a01d460"
      },
      "source": [
        "rcv1.target.shape"
      ],
      "execution_count": 6,
      "outputs": [
        {
          "output_type": "execute_result",
          "data": {
            "text/plain": [
              "(804414, 103)"
            ]
          },
          "metadata": {
            "tags": []
          },
          "execution_count": 6
        }
      ]
    },
    {
      "cell_type": "code",
      "metadata": {
        "id": "jIV416cZGG1e",
        "colab_type": "code",
        "colab": {
          "base_uri": "https://localhost:8080/",
          "height": 34
        },
        "outputId": "23a5311d-f13b-4f74-97e8-f96877346484"
      },
      "source": [
        "rcv1.sample_id[:3]"
      ],
      "execution_count": 7,
      "outputs": [
        {
          "output_type": "execute_result",
          "data": {
            "text/plain": [
              "array([2286, 2287, 2288], dtype=uint32)"
            ]
          },
          "metadata": {
            "tags": []
          },
          "execution_count": 7
        }
      ]
    },
    {
      "cell_type": "code",
      "metadata": {
        "id": "3ggPmi7CMMPV",
        "colab_type": "code",
        "colab": {
          "base_uri": "https://localhost:8080/",
          "height": 51
        },
        "outputId": "0441beb8-5c8b-442f-e7ce-f47e26b2036a"
      },
      "source": [
        "rcv1.data"
      ],
      "execution_count": 17,
      "outputs": [
        {
          "output_type": "execute_result",
          "data": {
            "text/plain": [
              "<804414x47236 sparse matrix of type '<class 'numpy.float64'>'\n",
              "\twith 60915113 stored elements in Compressed Sparse Row format>"
            ]
          },
          "metadata": {
            "tags": []
          },
          "execution_count": 17
        }
      ]
    },
    {
      "cell_type": "code",
      "metadata": {
        "id": "4gq-x8AXMMVI",
        "colab_type": "code",
        "colab": {
          "base_uri": "https://localhost:8080/",
          "height": 54
        },
        "outputId": "0e25f228-699e-4522-df86-f6d6cf462e5d"
      },
      "source": [
        "rcv1.DESCR"
      ],
      "execution_count": 18,
      "outputs": [
        {
          "output_type": "execute_result",
          "data": {
            "text/plain": [
              "\".. _rcv1_dataset:\\n\\nRCV1 dataset\\n------------\\n\\nReuters Corpus Volume I (RCV1) is an archive of over 800,000 manually \\ncategorized newswire stories made available by Reuters, Ltd. for research \\npurposes. The dataset is extensively described in [1]_.\\n\\n**Data Set Characteristics:**\\n\\n    ==============     =====================\\n    Classes                              103\\n    Samples total                     804414\\n    Dimensionality                     47236\\n    Features           real, between 0 and 1\\n    ==============     =====================\\n\\n:func:`sklearn.datasets.fetch_rcv1` will load the following \\nversion: RCV1-v2, vectors, full sets, topics multilabels::\\n\\n    >>> from sklearn.datasets import fetch_rcv1\\n    >>> rcv1 = fetch_rcv1()\\n\\nIt returns a dictionary-like object, with the following attributes:\\n\\n``data``:\\nThe feature matrix is a scipy CSR sparse matrix, with 804414 samples and\\n47236 features. Non-zero values contains cosine-normalized, log TF-IDF vectors.\\nA nearly chronological split is proposed in [1]_: The first 23149 samples are\\nthe training set. The last 781265 samples are the testing set. This follows \\nthe official LYRL2004 chronological split. The array has 0.16% of non zero \\nvalues::\\n\\n    >>> rcv1.data.shape\\n    (804414, 47236)\\n\\n``target``:\\nThe target values are stored in a scipy CSR sparse matrix, with 804414 samples \\nand 103 categories. Each sample has a value of 1 in its categories, and 0 in \\nothers. The array has 3.15% of non zero values::\\n\\n    >>> rcv1.target.shape\\n    (804414, 103)\\n\\n``sample_id``:\\nEach sample can be identified by its ID, ranging (with gaps) from 2286 \\nto 810596::\\n\\n    >>> rcv1.sample_id[:3]\\n    array([2286, 2287, 2288], dtype=uint32)\\n\\n``target_names``:\\nThe target values are the topics of each sample. Each sample belongs to at \\nleast one topic, and to up to 17 topics. There are 103 topics, each \\nrepresented by a string. Their corpus frequencies span five orders of \\nmagnitude, from 5 occurrences for 'GMIL', to 381327 for 'CCAT'::\\n\\n    >>> rcv1.target_names[:3].tolist()  # doctest: +SKIP\\n    ['E11', 'ECAT', 'M11']\\n\\nThe dataset will be downloaded from the `rcv1 homepage`_ if necessary.\\nThe compressed size is about 656 MB.\\n\\n.. _rcv1 homepage: http://jmlr.csail.mit.edu/papers/volume5/lewis04a/\\n\\n\\n.. topic:: References\\n\\n    .. [1] Lewis, D. D., Yang, Y., Rose, T. G., & Li, F. (2004). \\n           RCV1: A new benchmark collection for text categorization research. \\n           The Journal of Machine Learning Research, 5, 361-397.\\n\""
            ]
          },
          "metadata": {
            "tags": []
          },
          "execution_count": 18
        }
      ]
    },
    {
      "cell_type": "code",
      "metadata": {
        "id": "ZYGYFC_rMMgF",
        "colab_type": "code",
        "colab": {
          "base_uri": "https://localhost:8080/",
          "height": 34
        },
        "outputId": "5d068537-4050-4983-cf1b-2c92b812df49"
      },
      "source": [
        "rcv1.sample_id"
      ],
      "execution_count": 19,
      "outputs": [
        {
          "output_type": "execute_result",
          "data": {
            "text/plain": [
              "array([  2286,   2287,   2288, ..., 810594, 810595, 810596], dtype=uint32)"
            ]
          },
          "metadata": {
            "tags": []
          },
          "execution_count": 19
        }
      ]
    },
    {
      "cell_type": "code",
      "metadata": {
        "id": "x3k5CA1rL1KY",
        "colab_type": "code",
        "colab": {
          "base_uri": "https://localhost:8080/",
          "height": 51
        },
        "outputId": "c66ebd18-5113-490f-8db9-e7c90e304cc8"
      },
      "source": [
        "rcv1.target"
      ],
      "execution_count": 20,
      "outputs": [
        {
          "output_type": "execute_result",
          "data": {
            "text/plain": [
              "<804414x103 sparse matrix of type '<class 'numpy.uint8'>'\n",
              "\twith 2606875 stored elements in Compressed Sparse Row format>"
            ]
          },
          "metadata": {
            "tags": []
          },
          "execution_count": 20
        }
      ]
    },
    {
      "cell_type": "code",
      "metadata": {
        "id": "tCl--DyRLGpB",
        "colab_type": "code",
        "colab": {
          "base_uri": "https://localhost:8080/",
          "height": 238
        },
        "outputId": "5d23cbc8-99e5-476b-8c81-1d28598a40ff"
      },
      "source": [
        "rcv1 . target_names"
      ],
      "execution_count": 9,
      "outputs": [
        {
          "output_type": "execute_result",
          "data": {
            "text/plain": [
              "array(['C11', 'C12', 'C13', 'C14', 'C15', 'C151', 'C1511', 'C152', 'C16',\n",
              "       'C17', 'C171', 'C172', 'C173', 'C174', 'C18', 'C181', 'C182',\n",
              "       'C183', 'C21', 'C22', 'C23', 'C24', 'C31', 'C311', 'C312', 'C313',\n",
              "       'C32', 'C33', 'C331', 'C34', 'C41', 'C411', 'C42', 'CCAT', 'E11',\n",
              "       'E12', 'E121', 'E13', 'E131', 'E132', 'E14', 'E141', 'E142',\n",
              "       'E143', 'E21', 'E211', 'E212', 'E31', 'E311', 'E312', 'E313',\n",
              "       'E41', 'E411', 'E51', 'E511', 'E512', 'E513', 'E61', 'E71', 'ECAT',\n",
              "       'G15', 'G151', 'G152', 'G153', 'G154', 'G155', 'G156', 'G157',\n",
              "       'G158', 'G159', 'GCAT', 'GCRIM', 'GDEF', 'GDIP', 'GDIS', 'GENT',\n",
              "       'GENV', 'GFAS', 'GHEA', 'GJOB', 'GMIL', 'GOBIT', 'GODD', 'GPOL',\n",
              "       'GPRO', 'GREL', 'GSCI', 'GSPO', 'GTOUR', 'GVIO', 'GVOTE', 'GWEA',\n",
              "       'GWELF', 'M11', 'M12', 'M13', 'M131', 'M132', 'M14', 'M141',\n",
              "       'M142', 'M143', 'MCAT'], dtype=object)"
            ]
          },
          "metadata": {
            "tags": []
          },
          "execution_count": 9
        }
      ]
    },
    {
      "cell_type": "code",
      "metadata": {
        "id": "LFAcO6brGG1k",
        "colab_type": "code",
        "colab": {
          "base_uri": "https://localhost:8080/",
          "height": 34
        },
        "outputId": "48b1b779-e2a6-46d9-ff69-2c009ea9d7d9"
      },
      "source": [
        "rcv1.target_names[:3].tolist()"
      ],
      "execution_count": 8,
      "outputs": [
        {
          "output_type": "execute_result",
          "data": {
            "text/plain": [
              "['C11', 'C12', 'C13']"
            ]
          },
          "metadata": {
            "tags": []
          },
          "execution_count": 8
        }
      ]
    },
    {
      "cell_type": "code",
      "metadata": {
        "id": "NTJx1vx1NCUK",
        "colab_type": "code",
        "colab": {
          "base_uri": "https://localhost:8080/",
          "height": 34
        },
        "outputId": "9698e11e-a2c6-4eec-8708-7aec44aee5ca"
      },
      "source": [
        "len(rcv1)"
      ],
      "execution_count": 22,
      "outputs": [
        {
          "output_type": "execute_result",
          "data": {
            "text/plain": [
              "5"
            ]
          },
          "metadata": {
            "tags": []
          },
          "execution_count": 22
        }
      ]
    },
    {
      "cell_type": "code",
      "metadata": {
        "id": "B5NIgZJhNg7Q",
        "colab_type": "code",
        "colab": {
          "base_uri": "https://localhost:8080/",
          "height": 34
        },
        "outputId": "7e81272e-91bf-4062-abb1-20b3a615b01f"
      },
      "source": [
        "min(rcv1) --max() e sum()"
      ],
      "execution_count": 27,
      "outputs": [
        {
          "output_type": "execute_result",
          "data": {
            "text/plain": [
              "'DESCR'"
            ]
          },
          "metadata": {
            "tags": []
          },
          "execution_count": 27
        }
      ]
    },
    {
      "cell_type": "code",
      "metadata": {
        "id": "1txoU_hhUK5s",
        "colab_type": "code",
        "colab": {}
      },
      "source": [
        ""
      ],
      "execution_count": 0,
      "outputs": []
    },
    {
      "cell_type": "markdown",
      "metadata": {
        "id": "NduROfF0GG0m",
        "colab_type": "text"
      },
      "source": [
        "### 3) **(80%)** Nos blocos seguintes implemente seus classificadores (serão implementados 2 métodos diferentes)."
      ]
    },
    {
      "cell_type": "markdown",
      "metadata": {
        "id": "QOPNJdZWGG0p",
        "colab_type": "text"
      },
      "source": [
        "#### 3.1) Qual método escolhido?"
      ]
    },
    {
      "cell_type": "markdown",
      "metadata": {
        "id": "b13bWc4aGG0s",
        "colab_type": "text"
      },
      "source": [
        "*Indique o método escolhido*"
      ]
    },
    {
      "cell_type": "markdown",
      "metadata": {
        "id": "Bf3K93UwGG0v",
        "colab_type": "text"
      },
      "source": [
        "#### 3.2) **(10%)** Baseline - Implemente seu classificador da forma mais simples possível para esse ser seu baseline"
      ]
    },
    {
      "cell_type": "code",
      "metadata": {
        "id": "N4hMUPbjGG1q",
        "colab_type": "code",
        "colab": {}
      },
      "source": [
        "# Implementação. Use mais blocos se achar que ficará mais organizado."
      ],
      "execution_count": 0,
      "outputs": []
    },
    {
      "cell_type": "markdown",
      "metadata": {
        "id": "-TleIik3GG1w",
        "colab_type": "text"
      },
      "source": [
        "#### 3.3) **(20%)** Versão 1 - O que podemos fazer para melhorar nosso baseline? Aplique técnicas como redução de dimensionalidade, normalização ou outras. Compare os resultados."
      ]
    },
    {
      "cell_type": "code",
      "metadata": {
        "id": "Lf_tdjQ0GG1y",
        "colab_type": "code",
        "colab": {}
      },
      "source": [
        "# Implementação. Use mais blocos se achar que ficará mais organizado."
      ],
      "execution_count": 0,
      "outputs": []
    },
    {
      "cell_type": "markdown",
      "metadata": {
        "id": "rFq_h5gRGG14",
        "colab_type": "text"
      },
      "source": [
        "#### 3.4) **(10%)** Tunning - Agora que temos um resultado promissor, vamos tentar melhorar o resultado alterando um ou mais hiper-parametro. Compare os resultados."
      ]
    },
    {
      "cell_type": "code",
      "metadata": {
        "id": "qdK1Ob38GG16",
        "colab_type": "code",
        "colab": {}
      },
      "source": [
        "# Implementação. Use mais blocos se achar que ficará mais organizado."
      ],
      "execution_count": 0,
      "outputs": []
    },
    {
      "cell_type": "markdown",
      "metadata": {
        "id": "C1iSxV22GG2B",
        "colab_type": "text"
      },
      "source": [
        "#### 3.5) Qual método escolhido?"
      ]
    },
    {
      "cell_type": "markdown",
      "metadata": {
        "id": "FZRXGfb4GG2E",
        "colab_type": "text"
      },
      "source": [
        "Indique o método escolhido"
      ]
    },
    {
      "cell_type": "markdown",
      "metadata": {
        "id": "un7Fx7byGG2H",
        "colab_type": "text"
      },
      "source": [
        "#### 3.6) **(10%)** Baseline - Implemente seu classificador da forma mais simples possível para esse ser seu baseline"
      ]
    },
    {
      "cell_type": "code",
      "metadata": {
        "id": "Nt9rCA_lGG2I",
        "colab_type": "code",
        "colab": {}
      },
      "source": [
        "# Implementação. Use mais blocos se achar que ficará mais organizado."
      ],
      "execution_count": 0,
      "outputs": []
    },
    {
      "cell_type": "markdown",
      "metadata": {
        "id": "DyCYuGV4GG2P",
        "colab_type": "text"
      },
      "source": [
        "#### 3.7) **(20%)** Versão 1 - O que podemos fazer para melhorar nosso baseline? Aplique técnicas como redução de dimensionalidade, normalização ou outras. Compare os resultados."
      ]
    },
    {
      "cell_type": "code",
      "metadata": {
        "id": "c19EQlMqGG2R",
        "colab_type": "code",
        "colab": {}
      },
      "source": [
        "# Implementação. Use mais blocos se achar que ficará mais organizado."
      ],
      "execution_count": 0,
      "outputs": []
    },
    {
      "cell_type": "markdown",
      "metadata": {
        "id": "5qj02ALlGG2X",
        "colab_type": "text"
      },
      "source": [
        "#### 3.8) **(10%)** Tunning - Agora que temos um resultado promissor, vamos tentar melhorar o resultado alterando um ou mais hiper-parametro. Compare os resultados."
      ]
    },
    {
      "cell_type": "code",
      "metadata": {
        "id": "BfwUZjO-GG2Z",
        "colab_type": "code",
        "colab": {}
      },
      "source": [
        "# Implementação. Use mais blocos se achar que ficará mais organizado."
      ],
      "execution_count": 0,
      "outputs": []
    },
    {
      "cell_type": "markdown",
      "metadata": {
        "id": "8BYPXnXFGG2k",
        "colab_type": "text"
      },
      "source": [
        "### 5) **(10%)** Conclusões"
      ]
    },
    {
      "cell_type": "markdown",
      "metadata": {
        "id": "qIR8OLJKGG2l",
        "colab_type": "text"
      },
      "source": [
        "*Compare seus resultados. Imaginando que sua solução fosse para produção, qual deles você escolheria? Por que? Quais os riscos você enxerga? O que recomendaria de próximos passos para melhorar os resultados?*"
      ]
    },
    {
      "cell_type": "markdown",
      "metadata": {
        "id": "IsA9C2CGGG2n",
        "colab_type": "text"
      },
      "source": [
        ""
      ]
    }
  ]
}