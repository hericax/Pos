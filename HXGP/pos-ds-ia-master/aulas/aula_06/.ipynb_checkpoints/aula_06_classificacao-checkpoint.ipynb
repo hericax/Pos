{
 "cells": [
  {
   "cell_type": "markdown",
   "metadata": {},
   "source": [
    "por: Matheus Araujo\n",
    "## Resumo da aula Prática:\n",
    "\n",
    "* (80%) Introdução a Classificadores Lineares: Passo a Passo\n",
    "* (20%) Utilizando Classificador linear para iris setosa"
   ]
  },
  {
   "cell_type": "code",
   "execution_count": 1,
   "metadata": {},
   "outputs": [],
   "source": [
    "from numpy.random import normal\n",
    "import pandas as pd\n",
    "import matplotlib.pyplot as plt\n",
    "from sklearn.linear_model import LogisticRegression\n",
    "import numpy as np\n"
   ]
  },
  {
   "cell_type": "code",
   "execution_count": 2,
   "metadata": {},
   "outputs": [
    {
     "name": "stdout",
     "output_type": "stream",
     "text": [
      "        peso        raio    classe\n",
      "0  64.057949  114.246228  vermelho\n",
      "1  75.298249  120.682203  vermelho\n",
      "2  62.021909  124.778560  vermelho\n",
      "3  59.194688  105.498387  vermelho\n",
      "4  61.749398  120.345307  vermelho\n",
      "        peso        raio classe\n",
      "0  89.184450  144.715972   azul\n",
      "1  74.307286  141.039123   azul\n",
      "2  92.230216  149.995287   azul\n",
      "3  69.313322  144.425207   azul\n",
      "4  62.358188  131.916161   azul\n"
     ]
    }
   ],
   "source": [
    "#Criando bolas azuis\n",
    "bolas_azuis = {}\n",
    "azul_peso_media = 80\n",
    "azul_raio_media = 150\n",
    "azul_peso_std = 10\n",
    "azul_raio_std = 30\n",
    "\n",
    "bolas_azuis[\"peso\"] = normal(azul_peso_media, 10, 100)\n",
    "bolas_azuis[\"raio\"] = normal(azul_raio_media, 15, 100)\n",
    "bolas_azuis[\"classe\"] = \"azul\"\n",
    "bolas_azuis_df = pd.DataFrame(bolas_azuis) \n",
    "\n",
    "#Criando bolas vermelhas\n",
    "bolas_vermelhas = {}\n",
    "vermelho_peso_media = 60\n",
    "vermelho_raio_media = 110\n",
    "vermelho_peso_std = 10\n",
    "vermelho_raio_std = 10\n",
    "\n",
    "bolas_vermelhas[\"peso\"] = normal(vermelho_peso_media, vermelho_peso_std, 100)\n",
    "bolas_vermelhas[\"raio\"] = normal(vermelho_raio_media, vermelho_raio_std, 100)\n",
    "bolas_vermelhas[\"classe\"] = \"vermelho\"\n",
    "bolas_vermelhas_df = pd.DataFrame(bolas_vermelhas) \n",
    "print(bolas_vermelhas_df.head())\n",
    "print(bolas_azuis_df.head())"
   ]
  },
  {
   "cell_type": "code",
   "execution_count": 32,
   "metadata": {},
   "outputs": [
    {
     "data": {
      "image/png": "[encoded data removed]",
      "text/plain": [
       "<Figure size 432x288 with 1 Axes>"
      ]
     },
     "metadata": {
      "needs_background": "light"
     },
     "output_type": "display_data"
    }
   ],
   "source": [
    "# Plotando todas as bolas\n",
    "ax = bolas_azuis_df.plot.scatter(\"peso\", \"raio\", c=\"b\")\n",
    "ax = bolas_vermelhas_df.plot.scatter(\"peso\", \"raio\",ax=ax, c=\"r\")"
   ]
  },
  {
   "cell_type": "code",
   "execution_count": 4,
   "metadata": {},
   "outputs": [
    {
     "name": "stdout",
     "output_type": "stream",
     "text": [
      "Numero de bolas: 200, Numero de Colunas: 3\n"
     ]
    }
   ],
   "source": [
    "# Colocando as bolas dentro do mesmo caixa\n",
    "caixa_original_df = pd.concat([bolas_azuis_df, bolas_vermelhas_df])\n",
    "\n",
    "# Certifica que cada bola tem um index unico\n",
    "mapa_cor_classe = {\n",
    "    \"vermelho\" : 1,\n",
    "    \"azul\" : 0\n",
    "}\n",
    "caixa_original_df = caixa_original_df.reset_index(drop=True)\n",
    "caixa_original_df[\"classe\"] = caixa_original_df[\"classe\"].apply(lambda classe: mapa_cor_classe[classe])\n",
    "print(\"Numero de bolas: {}, Numero de Colunas: {}\".format(caixa_original_df.shape[0], caixa_original_df.shape[1]))"
   ]
  },
  {
   "cell_type": "code",
   "execution_count": 5,
   "metadata": {},
   "outputs": [
    {
     "data": {
      "text/html": [
       "<div>\n",
       "<style scoped>\n",
       "    .dataframe tbody tr th:only-of-type {\n",
       "        vertical-align: middle;\n",
       "    }\n",
       "\n",
       "    .dataframe tbody tr th {\n",
       "        vertical-align: top;\n",
       "    }\n",
       "\n",
       "    .dataframe thead th {\n",
       "        text-align: right;\n",
       "    }\n",
       "</style>\n",
       "<table border=\"1\" class=\"dataframe\">\n",
       "  <thead>\n",
       "    <tr style=\"text-align: right;\">\n",
       "      <th></th>\n",
       "      <th>peso</th>\n",
       "      <th>raio</th>\n",
       "      <th>classe</th>\n",
       "    </tr>\n",
       "  </thead>\n",
       "  <tbody>\n",
       "    <tr>\n",
       "      <th>92</th>\n",
       "      <td>87.989221</td>\n",
       "      <td>137.455994</td>\n",
       "      <td>0</td>\n",
       "    </tr>\n",
       "    <tr>\n",
       "      <th>114</th>\n",
       "      <td>49.921686</td>\n",
       "      <td>105.687599</td>\n",
       "      <td>1</td>\n",
       "    </tr>\n",
       "    <tr>\n",
       "      <th>194</th>\n",
       "      <td>40.329725</td>\n",
       "      <td>103.510432</td>\n",
       "      <td>1</td>\n",
       "    </tr>\n",
       "    <tr>\n",
       "      <th>44</th>\n",
       "      <td>93.138246</td>\n",
       "      <td>152.743702</td>\n",
       "      <td>0</td>\n",
       "    </tr>\n",
       "    <tr>\n",
       "      <th>9</th>\n",
       "      <td>88.982598</td>\n",
       "      <td>147.548931</td>\n",
       "      <td>0</td>\n",
       "    </tr>\n",
       "  </tbody>\n",
       "</table>\n",
       "</div>"
      ],
      "text/plain": [
       "          peso        raio  classe\n",
       "92   87.989221  137.455994       0\n",
       "114  49.921686  105.687599       1\n",
       "194  40.329725  103.510432       1\n",
       "44   93.138246  152.743702       0\n",
       "9    88.982598  147.548931       0"
      ]
     },
     "execution_count": 5,
     "metadata": {},
     "output_type": "execute_result"
    }
   ],
   "source": [
    "#Chacoalhando a caixa\n",
    "caixa_original_df = caixa_original_df.sample(frac=1)\n",
    "caixa_original_df.head()"
   ]
  },
  {
   "cell_type": "code",
   "execution_count": 6,
   "metadata": {},
   "outputs": [
    {
     "name": "stdout",
     "output_type": "stream",
     "text": [
      "Bolas na caixa: 120, Bolas na amostra: 80\n"
     ]
    }
   ],
   "source": [
    "#Pegando uma amostra de N bolas da caixa e plotando\n",
    "amostra_df = caixa_original_df.sample(n=80) # Pegando amostra de N bolas\n",
    "caixa_df = caixa_original_df.drop(amostra_df.index) # Removendo bolas da caixa\n",
    "\n",
    "print(\"Bolas na caixa: {}, Bolas na amostra: {}\".format(caixa_df.shape[0], amostra_df.shape[0]))"
   ]
  },
  {
   "cell_type": "markdown",
   "metadata": {},
   "source": [
    "# Voce conseguiria adivinhar qual é classe de cada bola?"
   ]
  },
  {
   "cell_type": "code",
   "execution_count": 7,
   "metadata": {},
   "outputs": [
    {
     "data": {
      "text/plain": [
       "<matplotlib.axes._subplots.AxesSubplot at 0x7f716ce74588>"
      ]
     },
     "execution_count": 7,
     "metadata": {},
     "output_type": "execute_result"
    },
    {
     "data": {
      "image/png": "[encoded data removed]",
      "text/plain": [
       "<Figure size 432x288 with 1 Axes>"
      ]
     },
     "metadata": {
      "needs_background": "light"
     },
     "output_type": "display_data"
    }
   ],
   "source": [
    "amostra_df.plot.scatter(\"peso\",\"raio\", c=\"k\")"
   ]
  },
  {
   "cell_type": "code",
   "execution_count": 8,
   "metadata": {},
   "outputs": [
    {
     "name": "stdout",
     "output_type": "stream",
     "text": [
      "             peso                  raio           \n",
      "             mean       std        mean        std\n",
      "classe                                            \n",
      "0       82.547946  9.509509  147.279368  12.949382\n",
      "1       59.285147  7.395829  110.401038   8.885472\n"
     ]
    },
    {
     "data": {
      "text/plain": [
       "<matplotlib.axes._subplots.AxesSubplot at 0x7f716c78c978>"
      ]
     },
     "execution_count": 8,
     "metadata": {},
     "output_type": "execute_result"
    },
    {
     "data": {
      "image/png": "[encoded data removed]",
      "text/plain": [
       "<Figure size 432x288 with 1 Axes>"
      ]
     },
     "metadata": {
      "needs_background": "light"
     },
     "output_type": "display_data"
    }
   ],
   "source": [
    "# Imprimindo media e desvio padrão de cada feature na amostra\n",
    "print(amostra_df.groupby(\"classe\").agg([\"mean\", \"std\"]))\n",
    "\n",
    "# Separando bolas azuis e bolas vermelhas da amostra\n",
    "bolas_azuis_amostra = amostra_df[amostra_df[\"classe\"] == 0]\n",
    "bolas_vermelhas_amostra = amostra_df[amostra_df[\"classe\"] == 1]\n",
    "\n",
    "# Mostrando a cor da amostra\n",
    "ax = bolas_azuis_amostra.plot.scatter(\"peso\", \"raio\", c=\"b\")\n",
    "bolas_vermelhas_amostra.plot.scatter(\"peso\", \"raio\", ax=ax, c=\"r\")\n"
   ]
  },
  {
   "cell_type": "code",
   "execution_count": 9,
   "metadata": {
    "scrolled": true
   },
   "outputs": [
    {
     "name": "stderr",
     "output_type": "stream",
     "text": [
      "/home/matheus/personal_python/lib/python3.7/site-packages/sklearn/linear_model/logistic.py:432: FutureWarning: Default solver will be changed to 'lbfgs' in 0.22. Specify a solver to silence this warning.\n",
      "  FutureWarning)\n"
     ]
    },
    {
     "data": {
      "text/plain": [
       "LogisticRegression(C=1.0, class_weight=None, dual=False, fit_intercept=True,\n",
       "                   intercept_scaling=1, l1_ratio=None, max_iter=100,\n",
       "                   multi_class='warn', n_jobs=None, penalty='l2',\n",
       "                   random_state=None, solver='warn', tol=0.0001, verbose=0,\n",
       "                   warm_start=False)"
      ]
     },
     "execution_count": 9,
     "metadata": {},
     "output_type": "execute_result"
    }
   ],
   "source": [
    "#É comum usar 42 como random_state (para mais informações consulte\n",
    "#o guia do mochileiro das galáxias.)\n",
    "\n",
    "#Definindo classificador\n",
    "clf = LogisticRegression()\n",
    "\n",
    "# Definindo vetores de features\n",
    "X = amostra_df[[\"peso\", \"raio\"]].values\n",
    "\n",
    "# Definindo vetor da variavel alvo\n",
    "Y = amostra_df[\"classe\"].values\n",
    "\n",
    "# Treinando o classificador com os dados da amostra\n",
    "clf.fit(X,Y)"
   ]
  },
  {
   "cell_type": "code",
   "execution_count": 10,
   "metadata": {},
   "outputs": [],
   "source": [
    "#Função auxiliar para plotar o hiperplano do classificador linear\n",
    "def plot_hiperplano(clf,x_min,x_max,y_min,y_max, ax=None):\n",
    "    \n",
    "    w = clf.coef_[0]\n",
    "    # Criando hiperplano (linha)\n",
    "    m = -w[0] / w[1]\n",
    "    xx = np.linspace(x_min, x_max)\n",
    "    \n",
    "    # Formula da reta: a*x + by + c = 0\n",
    "    # Logo: y = -ax/b -c/b    \n",
    "    yy = m * xx - (clf.intercept_[0]) / w[1]\n",
    "    # Plotando hiperplano\n",
    "    if ax:\n",
    "        ax.plot(xx, yy)\n",
    "    else:        \n",
    "        plt.plot(xx, yy)\n",
    "        plt.xlim(x_min, x_max)\n",
    "        plt.ylim(y_min, y_max)\n",
    "        \n",
    "        \n"
   ]
  },
  {
   "cell_type": "code",
   "execution_count": 11,
   "metadata": {
    "scrolled": false
   },
   "outputs": [
    {
     "data": {
      "image/png": "[encoded data removed]",
      "text/plain": [
       "<Figure size 432x288 with 1 Axes>"
      ]
     },
     "metadata": {
      "needs_background": "light"
     },
     "output_type": "display_data"
    }
   ],
   "source": [
    "# Plotando o Classificador linear\n",
    "x_min = amostra_df[\"peso\"].min()\n",
    "x_max = amostra_df[\"peso\"].max()\n",
    "y_min = amostra_df[\"raio\"].min()\n",
    "y_max = amostra_df[\"raio\"].max()\n",
    "plot_hiperplano(clf,x_min,x_max,y_min,y_max)"
   ]
  },
  {
   "cell_type": "code",
   "execution_count": 12,
   "metadata": {},
   "outputs": [
    {
     "data": {
      "image/png": "[encoded data removed]",
      "text/plain": [
       "<Figure size 432x288 with 1 Axes>"
      ]
     },
     "metadata": {
      "needs_background": "light"
     },
     "output_type": "display_data"
    }
   ],
   "source": [
    "# Plotando o classificador linear junto com nossa amostra\n",
    "ax = amostra_df[amostra_df[\"classe\"] == 0].plot.scatter(\"peso\", \"raio\", c=\"b\")\n",
    "amostra_df[amostra_df[\"classe\"] == 1].plot.scatter(\"peso\", \"raio\", ax=ax, c=\"r\")\n",
    "plot_hiperplano(clf,x_min,x_max,y_min,y_max, ax)"
   ]
  },
  {
   "cell_type": "markdown",
   "metadata": {},
   "source": [
    "## Qual é a performance do nosso classificador na amostra?"
   ]
  },
  {
   "cell_type": "code",
   "execution_count": 13,
   "metadata": {},
   "outputs": [
    {
     "name": "stdout",
     "output_type": "stream",
     "text": [
      "Acuracia Media 0.95\n"
     ]
    }
   ],
   "source": [
    "acuracia_media_amostra = clf.score(X,Y)\n",
    "print(\"Acuracia Media\", acuracia_media_amostra)"
   ]
  },
  {
   "cell_type": "markdown",
   "metadata": {},
   "source": [
    "# Vamos retirar mais bolas"
   ]
  },
  {
   "cell_type": "code",
   "execution_count": 14,
   "metadata": {},
   "outputs": [
    {
     "name": "stdout",
     "output_type": "stream",
     "text": [
      "Bolas na Caixa: 119\n",
      "Bola Removida:\n"
     ]
    },
    {
     "data": {
      "text/plain": [
       "peso       87.989221\n",
       "raio      137.455994\n",
       "classe      0.000000\n",
       "Name: 92, dtype: float64"
      ]
     },
     "execution_count": 14,
     "metadata": {},
     "output_type": "execute_result"
    }
   ],
   "source": [
    "# Pegando primeira bola da caixa e utilizando o classificador\n",
    "bola_x = caixa_df.iloc[0] # Escolhendo bola\n",
    "caixa_df = caixa_df.drop(bola_x.name, errors=\"ignore\") # Removendo bola\n",
    "print(\"Bolas na Caixa: {}\".format(caixa_df.shape[0]))\n",
    "print(\"Bola Removida:\")\n",
    "bola_x"
   ]
  },
  {
   "cell_type": "code",
   "execution_count": 15,
   "metadata": {},
   "outputs": [
    {
     "name": "stdout",
     "output_type": "stream",
     "text": [
      "Classe Prevista: 0\n"
     ]
    }
   ],
   "source": [
    "classe_prevista = clf.predict(bola_x[[\"peso\", \"raio\"]].values.reshape(1,-1))[0]\n",
    "print(\"Classe Prevista: {}\".format(classe_prevista))"
   ]
  },
  {
   "cell_type": "code",
   "execution_count": 16,
   "metadata": {},
   "outputs": [
    {
     "name": "stdout",
     "output_type": "stream",
     "text": [
      "Classe Prevista: azul\n"
     ]
    }
   ],
   "source": [
    "mapa_class_cor = {\n",
    "    1 : \"vermelho\",\n",
    "    0 : \"azul\"\n",
    "}\n",
    "print(\"Classe Prevista: {}\".format(mapa_class_cor[classe_prevista]))"
   ]
  },
  {
   "cell_type": "markdown",
   "metadata": {},
   "source": [
    "# Classificando o resto da caixa"
   ]
  },
  {
   "cell_type": "code",
   "execution_count": 17,
   "metadata": {},
   "outputs": [
    {
     "name": "stdout",
     "output_type": "stream",
     "text": [
      "Bolas na caixa: 119\n"
     ]
    }
   ],
   "source": [
    "print(\"Bolas na caixa: {}\".format(caixa_df.shape[0]))"
   ]
  },
  {
   "cell_type": "code",
   "execution_count": 18,
   "metadata": {},
   "outputs": [
    {
     "name": "stdout",
     "output_type": "stream",
     "text": [
      "Primeiras 10 bolas na caixa são: ['vermelho', 'vermelho', 'azul', 'azul', 'azul', 'vermelho', 'vermelho', 'azul', 'azul', 'vermelho']\n"
     ]
    }
   ],
   "source": [
    "bolas_previsoes = clf.predict(caixa_df[[\"peso\", \"raio\"]].values)\n",
    "bolas_previsoes_cores = list(map(lambda classe: mapa_class_cor[classe], bolas_previsoes))\n",
    "print(\"Primeiras 10 bolas na caixa são: {}\".format(bolas_previsoes_cores[:10]))"
   ]
  },
  {
   "cell_type": "code",
   "execution_count": 19,
   "metadata": {},
   "outputs": [
    {
     "data": {
      "text/html": [
       "<div>\n",
       "<style scoped>\n",
       "    .dataframe tbody tr th:only-of-type {\n",
       "        vertical-align: middle;\n",
       "    }\n",
       "\n",
       "    .dataframe tbody tr th {\n",
       "        vertical-align: top;\n",
       "    }\n",
       "\n",
       "    .dataframe thead th {\n",
       "        text-align: right;\n",
       "    }\n",
       "</style>\n",
       "<table border=\"1\" class=\"dataframe\">\n",
       "  <thead>\n",
       "    <tr style=\"text-align: right;\">\n",
       "      <th></th>\n",
       "      <th>peso</th>\n",
       "      <th>raio</th>\n",
       "      <th>classe</th>\n",
       "      <th>previsao</th>\n",
       "    </tr>\n",
       "  </thead>\n",
       "  <tbody>\n",
       "    <tr>\n",
       "      <th>114</th>\n",
       "      <td>49.921686</td>\n",
       "      <td>105.687599</td>\n",
       "      <td>1</td>\n",
       "      <td>1</td>\n",
       "    </tr>\n",
       "    <tr>\n",
       "      <th>194</th>\n",
       "      <td>40.329725</td>\n",
       "      <td>103.510432</td>\n",
       "      <td>1</td>\n",
       "      <td>1</td>\n",
       "    </tr>\n",
       "    <tr>\n",
       "      <th>9</th>\n",
       "      <td>88.982598</td>\n",
       "      <td>147.548931</td>\n",
       "      <td>0</td>\n",
       "      <td>0</td>\n",
       "    </tr>\n",
       "    <tr>\n",
       "      <th>31</th>\n",
       "      <td>78.647688</td>\n",
       "      <td>141.765864</td>\n",
       "      <td>0</td>\n",
       "      <td>0</td>\n",
       "    </tr>\n",
       "    <tr>\n",
       "      <th>71</th>\n",
       "      <td>75.409283</td>\n",
       "      <td>133.589012</td>\n",
       "      <td>0</td>\n",
       "      <td>0</td>\n",
       "    </tr>\n",
       "  </tbody>\n",
       "</table>\n",
       "</div>"
      ],
      "text/plain": [
       "          peso        raio  classe  previsao\n",
       "114  49.921686  105.687599       1         1\n",
       "194  40.329725  103.510432       1         1\n",
       "9    88.982598  147.548931       0         0\n",
       "31   78.647688  141.765864       0         0\n",
       "71   75.409283  133.589012       0         0"
      ]
     },
     "execution_count": 19,
     "metadata": {},
     "output_type": "execute_result"
    }
   ],
   "source": [
    "caixa_df[\"previsao\"] = bolas_previsoes\n",
    "caixa_df.head()"
   ]
  },
  {
   "cell_type": "markdown",
   "metadata": {},
   "source": [
    "## Qual é a performace do nosso classificador para o resto da caixa?\n",
    "\n",
    "**!Importante:** Lembre-se que o classficador foi treinado com as amostras. As bolas dentro da caixa nunca foram vistas antes."
   ]
  },
  {
   "cell_type": "code",
   "execution_count": 20,
   "metadata": {},
   "outputs": [
    {
     "name": "stdout",
     "output_type": "stream",
     "text": [
      "Acuracia média na caixa: 88.24%\n"
     ]
    }
   ],
   "source": [
    "X_caixa = caixa_df[[\"peso\", \"raio\"]].values \n",
    "Y_caixa = caixa_df[[\"classe\"]].values\n",
    "acuracia_media_caixa = clf.score(X_caixa, Y_caixa)\n",
    "print(\"Acuracia média na caixa: {:.2f}%\".format(acuracia_media_caixa*100))"
   ]
  },
  {
   "cell_type": "markdown",
   "metadata": {},
   "source": [
    "## Desmitificando cálculo da acurácia média"
   ]
  },
  {
   "cell_type": "code",
   "execution_count": 33,
   "metadata": {
    "scrolled": true
   },
   "outputs": [
    {
     "name": "stdout",
     "output_type": "stream",
     "text": [
      "Acertou: 105\n",
      "Errou: 14\n",
      "Acuracia na Caixa: 88.24%\n"
     ]
    }
   ],
   "source": [
    "total = caixa_df.shape[0]\n",
    "acertou = 0\n",
    "for index, bola in caixa_df.iterrows():\n",
    "    if bola[\"classe\"] == bola[\"previsao\"]:\n",
    "        acertou += 1\n",
    "print(\"Acertou: {}\\nErrou: {}\\nAcuracia na Caixa: {:.2f}%\".format(acertou, total - acertou, (acertou/total) * 100))"
   ]
  },
  {
   "cell_type": "code",
   "execution_count": 34,
   "metadata": {},
   "outputs": [
    {
     "name": "stdout",
     "output_type": "stream",
     "text": [
      "Acuracia Amostra: 0.95, Acuracia Caixa: 0.8823529411764706 \n"
     ]
    },
    {
     "data": {
      "text/plain": [
       "Text(0.5, 1.0, 'Desempenho do Classificador de Bolas')"
      ]
     },
     "execution_count": 34,
     "metadata": {},
     "output_type": "execute_result"
    },
    {
     "data": {
      "image/png": "[encoded data removed]",
      "text/plain": [
       "<Figure size 432x288 with 1 Axes>"
      ]
     },
     "metadata": {
      "needs_background": "light"
     },
     "output_type": "display_data"
    }
   ],
   "source": [
    "print(\"Acuracia Amostra: {}, Acuracia Caixa: {} \".format(acuracia_media_amostra, acuracia_media_caixa))\n",
    "\n",
    "# Utilizando matplotlib para fazer um grafico de barras\n",
    "acuracias_nomes = ['Acc. Amostra', 'Acc. Caixa']\n",
    "y_pos = np.arange(len(acuracias_nomes))\n",
    "acuracias = [acuracia_media_amostra, acuracia_media_caixa]\n",
    "plt.bar(y_pos, acuracias, align='center', color=\"r\")\n",
    "\n",
    "# Colocando nomes no eixo\n",
    "plt.xticks(y_pos, acuracias_nomes)\n",
    "plt.ylim(0,1)\n",
    "plt.ylabel('Acurácia Média')\n",
    "plt.title('Desempenho do Classificador de Bolas')"
   ]
  },
  {
   "cell_type": "markdown",
   "metadata": {},
   "source": [
    "# Classificando uma caixa de iris"
   ]
  },
  {
   "cell_type": "code",
   "execution_count": 35,
   "metadata": {},
   "outputs": [
    {
     "data": {
      "text/html": [
       "<div>\n",
       "<style scoped>\n",
       "    .dataframe tbody tr th:only-of-type {\n",
       "        vertical-align: middle;\n",
       "    }\n",
       "\n",
       "    .dataframe tbody tr th {\n",
       "        vertical-align: top;\n",
       "    }\n",
       "\n",
       "    .dataframe thead th {\n",
       "        text-align: right;\n",
       "    }\n",
       "</style>\n",
       "<table border=\"1\" class=\"dataframe\">\n",
       "  <thead>\n",
       "    <tr style=\"text-align: right;\">\n",
       "      <th></th>\n",
       "      <th>sepal length (cm)</th>\n",
       "      <th>sepal width (cm)</th>\n",
       "      <th>petal length (cm)</th>\n",
       "      <th>petal width (cm)</th>\n",
       "      <th>target</th>\n",
       "    </tr>\n",
       "  </thead>\n",
       "  <tbody>\n",
       "    <tr>\n",
       "      <th>0</th>\n",
       "      <td>5.1</td>\n",
       "      <td>3.5</td>\n",
       "      <td>1.4</td>\n",
       "      <td>0.2</td>\n",
       "      <td>0.0</td>\n",
       "    </tr>\n",
       "    <tr>\n",
       "      <th>1</th>\n",
       "      <td>4.9</td>\n",
       "      <td>3.0</td>\n",
       "      <td>1.4</td>\n",
       "      <td>0.2</td>\n",
       "      <td>0.0</td>\n",
       "    </tr>\n",
       "    <tr>\n",
       "      <th>2</th>\n",
       "      <td>4.7</td>\n",
       "      <td>3.2</td>\n",
       "      <td>1.3</td>\n",
       "      <td>0.2</td>\n",
       "      <td>0.0</td>\n",
       "    </tr>\n",
       "    <tr>\n",
       "      <th>3</th>\n",
       "      <td>4.6</td>\n",
       "      <td>3.1</td>\n",
       "      <td>1.5</td>\n",
       "      <td>0.2</td>\n",
       "      <td>0.0</td>\n",
       "    </tr>\n",
       "    <tr>\n",
       "      <th>4</th>\n",
       "      <td>5.0</td>\n",
       "      <td>3.6</td>\n",
       "      <td>1.4</td>\n",
       "      <td>0.2</td>\n",
       "      <td>0.0</td>\n",
       "    </tr>\n",
       "  </tbody>\n",
       "</table>\n",
       "</div>"
      ],
      "text/plain": [
       "   sepal length (cm)  sepal width (cm)  petal length (cm)  petal width (cm)  \\\n",
       "0                5.1               3.5                1.4               0.2   \n",
       "1                4.9               3.0                1.4               0.2   \n",
       "2                4.7               3.2                1.3               0.2   \n",
       "3                4.6               3.1                1.5               0.2   \n",
       "4                5.0               3.6                1.4               0.2   \n",
       "\n",
       "   target  \n",
       "0     0.0  \n",
       "1     0.0  \n",
       "2     0.0  \n",
       "3     0.0  \n",
       "4     0.0  "
      ]
     },
     "execution_count": 35,
     "metadata": {},
     "output_type": "execute_result"
    }
   ],
   "source": [
    "from  sklearn import  datasets\n",
    "iris=datasets.load_iris()\n",
    "iris_df = pd.DataFrame(data= np.c_[iris['data'], iris['target']],\n",
    "                       columns= iris['feature_names'] + ['target'])\n",
    "iris_df.head()"
   ]
  },
  {
   "cell_type": "code",
   "execution_count": 36,
   "metadata": {},
   "outputs": [
    {
     "data": {
      "text/plain": [
       "array(['setosa', 'versicolor', 'virginica'], dtype='<U10')"
      ]
     },
     "execution_count": 36,
     "metadata": {},
     "output_type": "execute_result"
    }
   ],
   "source": [
    "iris.target_names"
   ]
  },
  {
   "cell_type": "code",
   "execution_count": 37,
   "metadata": {},
   "outputs": [
    {
     "data": {
      "text/html": [
       "<div>\n",
       "<style scoped>\n",
       "    .dataframe tbody tr th:only-of-type {\n",
       "        vertical-align: middle;\n",
       "    }\n",
       "\n",
       "    .dataframe tbody tr th {\n",
       "        vertical-align: top;\n",
       "    }\n",
       "\n",
       "    .dataframe thead th {\n",
       "        text-align: right;\n",
       "    }\n",
       "</style>\n",
       "<table border=\"1\" class=\"dataframe\">\n",
       "  <thead>\n",
       "    <tr style=\"text-align: right;\">\n",
       "      <th></th>\n",
       "      <th>sepal length (cm)</th>\n",
       "      <th>sepal width (cm)</th>\n",
       "      <th>target</th>\n",
       "    </tr>\n",
       "  </thead>\n",
       "  <tbody>\n",
       "    <tr>\n",
       "      <th>0</th>\n",
       "      <td>5.1</td>\n",
       "      <td>3.5</td>\n",
       "      <td>0.0</td>\n",
       "    </tr>\n",
       "    <tr>\n",
       "      <th>1</th>\n",
       "      <td>4.9</td>\n",
       "      <td>3.0</td>\n",
       "      <td>0.0</td>\n",
       "    </tr>\n",
       "    <tr>\n",
       "      <th>2</th>\n",
       "      <td>4.7</td>\n",
       "      <td>3.2</td>\n",
       "      <td>0.0</td>\n",
       "    </tr>\n",
       "    <tr>\n",
       "      <th>3</th>\n",
       "      <td>4.6</td>\n",
       "      <td>3.1</td>\n",
       "      <td>0.0</td>\n",
       "    </tr>\n",
       "    <tr>\n",
       "      <th>4</th>\n",
       "      <td>5.0</td>\n",
       "      <td>3.6</td>\n",
       "      <td>0.0</td>\n",
       "    </tr>\n",
       "  </tbody>\n",
       "</table>\n",
       "</div>"
      ],
      "text/plain": [
       "   sepal length (cm)  sepal width (cm)  target\n",
       "0                5.1               3.5     0.0\n",
       "1                4.9               3.0     0.0\n",
       "2                4.7               3.2     0.0\n",
       "3                4.6               3.1     0.0\n",
       "4                5.0               3.6     0.0"
      ]
     },
     "execution_count": 37,
     "metadata": {},
     "output_type": "execute_result"
    }
   ],
   "source": [
    "# Vamos trabalhar com 2 classes: setosa and virginica\n",
    "iris_df = iris_df[iris_df[\"target\"] != 1]\n",
    "\n",
    "# Vamos trabalhar apenas com 2 features: sepal length and sepalwidth\n",
    "iris_df = iris_df[[\"sepal length (cm)\", \"sepal width (cm)\", \"target\"]]\n",
    "\n",
    "iris_df.head()"
   ]
  },
  {
   "cell_type": "code",
   "execution_count": 38,
   "metadata": {},
   "outputs": [
    {
     "data": {
      "text/plain": [
       "Text(0.5, 1.0, 'Plot iris Setosa(verde) e Virginica(magenta)')"
      ]
     },
     "execution_count": 38,
     "metadata": {},
     "output_type": "execute_result"
    },
    {
     "data": {
      "image/png": "[encoded data removed]",
      "text/plain": [
       "<Figure size 432x288 with 1 Axes>"
      ]
     },
     "metadata": {
      "needs_background": "light"
     },
     "output_type": "display_data"
    }
   ],
   "source": [
    "# Plot iris Setosa e Virginica\n",
    "ax = iris_df[iris_df[\"target\"] == 0.0].plot.scatter(\"sepal width (cm)\", \"sepal length (cm)\", c=\"m\")\n",
    "ax = iris_df[iris_df[\"target\"] == 2.0].plot.scatter(\"sepal width (cm)\", \"sepal length (cm)\",ax=ax, c=\"g\")\n",
    "ax.set_title(\"Plot iris Setosa(verde) e Virginica(magenta)\")"
   ]
  },
  {
   "cell_type": "code",
   "execution_count": 27,
   "metadata": {},
   "outputs": [
    {
     "name": "stdout",
     "output_type": "stream",
     "text": [
      "Iris na caixa: 70, Iris na amostra: 30\n"
     ]
    }
   ],
   "source": [
    "#Chacoalhando a caixa de iris \n",
    "#Pegando uma amostra aleatória de N iris da caixa\n",
    "iris_amostra_df = iris_df.sample(n=30)\n",
    "iris_caixa_df = iris_df.drop(iris_amostra_df.index) # Removendo bolas da caixa\n",
    "\n",
    "print(\"Iris na caixa: {}, Iris na amostra: {}\".format(iris_caixa_df.shape[0], iris_amostra_df.shape[0]))"
   ]
  },
  {
   "cell_type": "code",
   "execution_count": 28,
   "metadata": {},
   "outputs": [
    {
     "name": "stderr",
     "output_type": "stream",
     "text": [
      "/home/matheus/personal_python/lib/python3.7/site-packages/sklearn/linear_model/logistic.py:432: FutureWarning: Default solver will be changed to 'lbfgs' in 0.22. Specify a solver to silence this warning.\n",
      "  FutureWarning)\n"
     ]
    }
   ],
   "source": [
    "#Definindo classificador\n",
    "clf = LogisticRegression()\n",
    "\n",
    "# Definindo vetores de features\n",
    "X = iris_amostra_df[[\"sepal width (cm)\", \"sepal length (cm)\"]].values\n",
    "\n",
    "# Definindo vetor da variavel alvo\n",
    "Y = iris_amostra_df[\"target\"].values\n",
    "\n",
    "# Treinando o classificador com os dados da amostra\n",
    "clf.fit(X,Y)\n",
    "acuracia_media_amostra_iris = clf.score(X,Y)"
   ]
  },
  {
   "cell_type": "code",
   "execution_count": 40,
   "metadata": {},
   "outputs": [
    {
     "name": "stdout",
     "output_type": "stream",
     "text": [
      "Acuracia Media Amostra 1.0\n"
     ]
    },
    {
     "data": {
      "image/png": "[encoded data removed]",
      "text/plain": [
       "<Figure size 432x288 with 1 Axes>"
      ]
     },
     "metadata": {
      "needs_background": "light"
     },
     "output_type": "display_data"
    }
   ],
   "source": [
    "x_min = iris_amostra_df[\"sepal width (cm)\"].min()\n",
    "x_max = iris_amostra_df[\"sepal width (cm)\"].max()\n",
    "y_min = iris_amostra_df[\"sepal length (cm)\"].min()\n",
    "y_max = iris_amostra_df[\"sepal length (cm)\"].max()\n",
    "\n",
    "# Plotando o classificador linear junto com nossa amostra\n",
    "ax = iris_amostra_df[iris_amostra_df[\"target\"] == 0].plot.scatter(\"sepal width (cm)\", \"sepal length (cm)\", c=\"b\")\n",
    "iris_amostra_df[iris_amostra_df[\"target\"] == 2].plot.scatter(\"sepal width (cm)\", \"sepal length (cm)\", ax=ax, c=\"r\")\n",
    "\n",
    "plot_hiperplano(clf,x_min, x_max, y_min, y_max, ax)\n",
    "\n",
    "print(\"Acuracia Media Amostra\", acuracia_media_amostra_iris)"
   ]
  },
  {
   "cell_type": "code",
   "execution_count": 41,
   "metadata": {},
   "outputs": [
    {
     "name": "stdout",
     "output_type": "stream",
     "text": [
      "Acuracia Media Caixa 0.9857142857142858\n"
     ]
    },
    {
     "data": {
      "image/png": "[encoded data removed]",
      "text/plain": [
       "<Figure size 432x288 with 1 Axes>"
      ]
     },
     "metadata": {
      "needs_background": "light"
     },
     "output_type": "display_data"
    }
   ],
   "source": [
    "# Definindo vetores de features\n",
    "X_caixa = iris_caixa_df[[\"sepal width (cm)\", \"sepal length (cm)\"]].values\n",
    "\n",
    "# Definindo vetor da variavel alvo\n",
    "Y_caixa = iris_caixa_df[\"target\"].values\n",
    "\n",
    "acuracia_media_caixa_iris = clf.score(X_caixa,Y_caixa)\n",
    "\n",
    "# Plotando o classificador linear junto com nossa amostra\n",
    "ax = iris_caixa_df[iris_caixa_df[\"target\"] == 0].plot.scatter(\"sepal width (cm)\", \"sepal length (cm)\", c=\"b\")\n",
    "iris_caixa_df[iris_caixa_df[\"target\"] == 2].plot.scatter(\"sepal width (cm)\", \"sepal length (cm)\", ax=ax, c=\"r\")\n",
    "\n",
    "plot_hiperplano(clf,x_min, x_max, y_min, y_max, ax)\n",
    "\n",
    "print(\"Acuracia Media Caixa\", acuracia_media_caixa_iris)"
   ]
  },
  {
   "cell_type": "code",
   "execution_count": 39,
   "metadata": {},
   "outputs": [
    {
     "name": "stdout",
     "output_type": "stream",
     "text": [
      "Acuracia Amostra: 1.0, Acuracia Caixa: 0.9857142857142858 \n"
     ]
    },
    {
     "data": {
      "text/plain": [
       "Text(0.5, 1.0, 'Desempenho do Classificador de Bolas')"
      ]
     },
     "execution_count": 39,
     "metadata": {},
     "output_type": "execute_result"
    },
    {
     "data": {
      "image/png": "[encoded data removed]",
      "text/plain": [
       "<Figure size 432x288 with 1 Axes>"
      ]
     },
     "metadata": {
      "needs_background": "light"
     },
     "output_type": "display_data"
    }
   ],
   "source": [
    "print(\"Acuracia Amostra: {}, Acuracia Caixa: {} \".format(acuracia_media_amostra_iris, acuracia_media_caixa_iris))\n",
    "\n",
    "# Utilizando matplotlib para fazer um grafico de barras\n",
    "acuracias_nomes = ['Acc. Amostra', 'Acc. Caixa']\n",
    "y_pos = np.arange(len(acuracias_nomes))\n",
    "acuracias = [acuracia_media_amostra_iris, acuracia_media_caixa_iris]\n",
    "plt.bar(y_pos, acuracias, align='center', color=\"b\")\n",
    "\n",
    "# Colocando nomes no eixo\n",
    "plt.xticks(y_pos, acuracias_nomes)\n",
    "plt.ylim(0,1)\n",
    "plt.ylabel('Acurácia Média')\n",
    "plt.title('Desempenho do Classificador de Bolas')"
   ]
  },
  {
   "cell_type": "markdown",
   "metadata": {},
   "source": [
    "# Agora é sua vez: Crie um classificador linear para os sobreviventes do Titanic\n",
    "\n",
    "* Dica: Dê uma olhada no notebook da aula 05 ( na última parte trabalhamos com o conjunto de dados do Titanic)"
   ]
  },
  {
   "cell_type": "markdown",
   "metadata": {},
   "source": [
    "### 1 - Carregue o conjunto de dados do Titanic\n"
   ]
  },
  {
   "cell_type": "code",
   "execution_count": null,
   "metadata": {},
   "outputs": [],
   "source": []
  },
  {
   "cell_type": "markdown",
   "metadata": {},
   "source": [
    "### 2 - Selecione as features Age, Sex para prever Survived. Seu dataset precisa ter 3 colunas\n",
    "\n"
   ]
  },
  {
   "cell_type": "code",
   "execution_count": null,
   "metadata": {},
   "outputs": [],
   "source": []
  },
  {
   "cell_type": "markdown",
   "metadata": {},
   "source": [
    "### 3 - Discretize a feature Sex. Transformado o tipo do dado de string para integer"
   ]
  },
  {
   "cell_type": "code",
   "execution_count": null,
   "metadata": {},
   "outputs": [],
   "source": []
  },
  {
   "cell_type": "markdown",
   "metadata": {},
   "source": [
    "### 4 - Limpe os dados removendo as linhas com valores nulos. (Dica: .dropna)"
   ]
  },
  {
   "cell_type": "code",
   "execution_count": null,
   "metadata": {},
   "outputs": [],
   "source": []
  },
  {
   "cell_type": "markdown",
   "metadata": {},
   "source": [
    "### 5 - Visualize o conjunto de dados. (Dica: normalize os dados). No eixo X a idade e no eixo Y o sexo"
   ]
  },
  {
   "cell_type": "code",
   "execution_count": null,
   "metadata": {},
   "outputs": [],
   "source": []
  },
  {
   "cell_type": "markdown",
   "metadata": {},
   "source": [
    "### 6 - Remova uma amostra do seu conjunto de dados (não esqueça de remover a amostra do conjunto de dados original)"
   ]
  },
  {
   "cell_type": "code",
   "execution_count": null,
   "metadata": {},
   "outputs": [],
   "source": []
  },
  {
   "cell_type": "markdown",
   "metadata": {},
   "source": [
    "### 7 - Treine um classificador linear utilizando sua amostra e imprima sua acuracia"
   ]
  },
  {
   "cell_type": "code",
   "execution_count": null,
   "metadata": {},
   "outputs": [],
   "source": []
  },
  {
   "cell_type": "markdown",
   "metadata": {},
   "source": [
    "### 8 - Utilize o classificador linear treinado para classificar o restante dos dados que não foram usados no treinamento e imprima sua acuracia"
   ]
  },
  {
   "cell_type": "code",
   "execution_count": null,
   "metadata": {},
   "outputs": [],
   "source": []
  }
 ],
 "metadata": {
  "kernelspec": {
   "display_name": "Python 3",
   "language": "python",
   "name": "python3"
  },
  "language_info": {
   "codemirror_mode": {
    "name": "ipython",
    "version": 3
   },
   "file_extension": ".py",
   "mimetype": "text/x-python",
   "name": "python",
   "nbconvert_exporter": "python",
   "pygments_lexer": "ipython3",
   "version": "3.7.3"
  }
 },
 "nbformat": 4,
 "nbformat_minor": 2
}
