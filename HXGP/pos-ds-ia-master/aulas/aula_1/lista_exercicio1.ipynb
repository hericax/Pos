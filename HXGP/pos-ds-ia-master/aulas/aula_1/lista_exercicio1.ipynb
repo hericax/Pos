{
  "nbformat": 4,
  "nbformat_minor": 0,
  "metadata": {
    "colab": {
      "name": "lista_exercicio1.ipynb",
      "provenance": []
    },
    "kernelspec": {
      "name": "python3",
      "display_name": "Python 3"
    }
  },
  "cells": [
    {
      "cell_type": "markdown",
      "metadata": {
        "id": "ZOUPCvOo9d9K",
        "colab_type": "text"
      },
      "source": [
        "**LISTA DE EXERCÍCIOS**"
      ]
    },
    {
      "cell_type": "markdown",
      "metadata": {
        "id": "yhXGbDZ39kMx",
        "colab_type": "text"
      },
      "source": [
        "EXERCÍCIO 1 - FAÇA UM SCRIPT VERIFIQUE SE UM NÚMERO (*num*) É PAR OU IMPAR:"
      ]
    },
    {
      "cell_type": "code",
      "metadata": {
        "id": "B6-R9snc92Bo",
        "colab_type": "code",
        "outputId": "2ac2eb0c-bfa0-4c1f-bc16-62d4ed02b090",
        "colab": {
          "base_uri": "https://localhost:8080/",
          "height": 34
        }
      },
      "source": [
        "import random\n",
        "num = random.randint(1, 100)\n",
        "\n",
        "print(num)\n",
        "\n",
        "# SEU CODIGO AQUI ..."
      ],
      "execution_count": 0,
      "outputs": [
        {
          "output_type": "stream",
          "text": [
            "86\n"
          ],
          "name": "stdout"
        }
      ]
    },
    {
      "cell_type": "markdown",
      "metadata": {
        "id": "eIYJ02BOdacM",
        "colab_type": "text"
      },
      "source": [
        "EXERCÍCIO 2 - FAÇA UMA SCRIPT QUE CALCULA UMA EXPRESSÃO MATEMÁTICA DADO 2 INTEIROS (*num1, num2 e op*) E UM OPERADOR (String = '+', '-', '*', '/'):"
      ]
    },
    {
      "cell_type": "code",
      "metadata": {
        "id": "8JEWjI_5_eGr",
        "colab_type": "code",
        "outputId": "95c36ecc-bd07-485d-c1f8-dc2fd8c298c7",
        "colab": {
          "base_uri": "https://localhost:8080/",
          "height": 34
        }
      },
      "source": [
        "import random\n",
        "num1 = random.randint(0, 100)\n",
        "num2 = random.randint(0, 100)\n",
        "op = ['+', '-', '*', '/'][random.randint(0, 3)]\n",
        "\n",
        "print(num1, num2, op)\n",
        "\n",
        "# SEU CODIGO AQUI ..."
      ],
      "execution_count": 0,
      "outputs": [
        {
          "output_type": "stream",
          "text": [
            "88 94 *\n"
          ],
          "name": "stdout"
        }
      ]
    },
    {
      "cell_type": "markdown",
      "metadata": {
        "id": "-dtLZ8yBKqNv",
        "colab_type": "text"
      },
      "source": [
        "EXERCÍCIO 3 - FAÇA UM SCRIPT QUE IDENTIFIQUE SE UM NÚMERO INTEIRO (*num*) É PRIMO OU NÃO"
      ]
    },
    {
      "cell_type": "code",
      "metadata": {
        "id": "HDO-r9oMK4Me",
        "colab_type": "code",
        "outputId": "ee9b472f-2cdd-4f7b-b5df-9efce34d616c",
        "colab": {
          "base_uri": "https://localhost:8080/",
          "height": 34
        }
      },
      "source": [
        "import random\n",
        "num = random.randint(1, 100)\n",
        "\n",
        "print(num)\n",
        "\n",
        "# SEU CODIGO AQUI ..."
      ],
      "execution_count": 0,
      "outputs": [
        {
          "output_type": "stream",
          "text": [
            "90\n"
          ],
          "name": "stdout"
        }
      ]
    },
    {
      "cell_type": "markdown",
      "metadata": {
        "id": "acGUTrFMSXkM",
        "colab_type": "text"
      },
      "source": [
        "EXERCÍCIO 4 - FAÇA UM SCRIPT QUER RETORNE DE UMA LISTA DE INTEIROS (*lista*):\n",
        "\n",
        "*   MAIOR ELEMENTO\n",
        "*   MENOR ELEMENTO\n",
        "*   TAMANHO\n",
        "\n",
        "**DESAFIO:** NÃO USE FUNÇÕES *min(), max() e len()*!"
      ]
    },
    {
      "cell_type": "code",
      "metadata": {
        "id": "i8jlu3EQS_fk",
        "colab_type": "code",
        "outputId": "4004a593-7b23-4c44-f6f3-2aa195d08c8a",
        "colab": {
          "base_uri": "https://localhost:8080/",
          "height": 34
        }
      },
      "source": [
        "import random\n",
        "\n",
        "lista = [random.randint(0,10) for i in range(5)]\n",
        "\n",
        "print(lista)\n",
        "\n",
        "# SEU CODIGO AQUI ..."
      ],
      "execution_count": 0,
      "outputs": [
        {
          "output_type": "stream",
          "text": [
            "[9, 3, 3, 2, 2]\n"
          ],
          "name": "stdout"
        }
      ]
    },
    {
      "cell_type": "markdown",
      "metadata": {
        "id": "9_Pf0yIgczaK",
        "colab_type": "text"
      },
      "source": [
        "EXERCÍCIO 5 - FAÇA UM SCRIPT QUE RETORNE DE UMA LISTA DE INTEIROS (*lista*):\n",
        "\n",
        "* A MEDIA\n",
        "* A MEDIANA\n",
        "* A MODA"
      ]
    },
    {
      "cell_type": "code",
      "metadata": {
        "id": "lGD6zfrRciZ2",
        "colab_type": "code",
        "outputId": "4f56bbf5-ccd2-4d0e-cfab-79af7458dde5",
        "colab": {
          "base_uri": "https://localhost:8080/",
          "height": 34
        }
      },
      "source": [
        "import random\n",
        "\n",
        "lista = [random.randint(0,10) for i in range(5)]\n",
        "\n",
        "print(lista)\n",
        "\n",
        "# SEU CODIGO AQUI ..."
      ],
      "execution_count": 0,
      "outputs": [
        {
          "output_type": "stream",
          "text": [
            "[2, 1, 7, 7, 8]\n"
          ],
          "name": "stdout"
        }
      ]
    },
    {
      "cell_type": "markdown",
      "metadata": {
        "id": "8yqWYSJLFo7U",
        "colab_type": "text"
      },
      "source": [
        "EXERCÍCIO 6 - FAÇA UMA FUNÇÃO QUE TENHA COMO ENTRADA UMA LISTA DE INTEIROS (*idades*) E RETORNE UMA LISTA COM AS FAIXAS DE CADA IDADE, DE ACORDO COM AS REGRAS A SEGUIR:<br>\n",
        "* '<18', \n",
        "* '18 A 21', \n",
        "* '21 A 27', \n",
        "* '28 A 35', \n",
        "* '36 A 50', \n",
        "* '50 A 65', \n",
        "* '65+'"
      ]
    },
    {
      "cell_type": "code",
      "metadata": {
        "id": "KrJWT6mmLX98",
        "colab_type": "code",
        "outputId": "68f85f86-c031-4f5e-c8cc-06b36f068195",
        "colab": {
          "base_uri": "https://localhost:8080/",
          "height": 54
        }
      },
      "source": [
        "import random\n",
        "\n",
        "idades = [random.randint(5, 95) for i in range(100)]\n",
        "\n",
        "print(idades)\n",
        "\n",
        "# SEU CODIGO AQUI ..."
      ],
      "execution_count": 0,
      "outputs": [
        {
          "output_type": "stream",
          "text": [
            "[90, 32, 33, 32, 15, 38, 45, 49, 50, 54, 71, 37, 7, 78, 43, 37, 70, 15, 42, 85, 36, 48, 12, 76, 91, 17, 18, 26, 81, 11, 80, 61, 87, 30, 71, 81, 11, 7, 83, 10, 55, 43, 48, 51, 47, 76, 6, 55, 26, 65, 77, 39, 81, 26, 75, 38, 44, 34, 39, 63, 58, 87, 44, 5, 21, 71, 94, 19, 59, 68, 77, 20, 26, 91, 34, 62, 64, 83, 52, 67, 26, 59, 69, 90, 66, 35, 45, 91, 28, 37, 62, 80, 59, 9, 56, 47, 33, 64, 30, 80]\n"
          ],
          "name": "stdout"
        }
      ]
    },
    {
      "cell_type": "markdown",
      "metadata": {
        "id": "9GAGi3vNM0lA",
        "colab_type": "text"
      },
      "source": [
        "EXERCÍCIO 7 - DADA UM LISTA (*cabecalho*) CONTENDO O CABEÇALHO DE UMA TABELA, FAÇA AS SEGUINTES TRANSFORMAÇÕES:<br>\n",
        "* Remova espaços a direita e a esquerda (função \\<string\\>.strip())\n",
        "* Deixe todas a letras maiúsculas (função \\<string\\>.upper())\n",
        "* substitua \" \" (espaços) por \"_\" (função \\<string\\>.replace())"
      ]
    },
    {
      "cell_type": "code",
      "metadata": {
        "id": "7F71_O5yOFJv",
        "colab_type": "code",
        "colab": {}
      },
      "source": [
        "cabecalho = [\"nome \", \"IdadE\", \"data de nascimento\", \"endereco\", \" cpf\", \"Valor Devido\", \"Valor ja pago\"]\n",
        "\n",
        "\n",
        "# SEU CODIGO AQUI ..."
      ],
      "execution_count": 0,
      "outputs": []
    }
  ]
}