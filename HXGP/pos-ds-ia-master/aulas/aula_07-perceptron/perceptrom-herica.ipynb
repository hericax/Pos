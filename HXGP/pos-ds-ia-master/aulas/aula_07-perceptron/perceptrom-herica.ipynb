{
 "nbformat": 4,
 "nbformat_minor": 2,
 "metadata": {
  "language_info": {
   "name": "python",
   "codemirror_mode": {
    "name": "ipython",
    "version": 3
   },
   "version": "3.7.4"
  },
  "orig_nbformat": 2,
  "file_extension": ".py",
  "mimetype": "text/x-python",
  "name": "python",
  "npconvert_exporter": "python",
  "pygments_lexer": "ipython3",
  "version": 3
 },
 "cells": [
  {
   "source": [
    "class Perceptron(object):\n",
    "    def __init__(self, taxa_aprendizado, n_features): #metodo construtor -n_features e a qutde de features que tem na minha amostra dos dados\n",
    "        self.taxa_aprendizado = taxa_aprendizado #estou criando um atributo exclusivo (self) da classe\n",
    "        self.pesos = np.random.uniform(-1,1,n_featues) #estou criando um array com pesos aleatorios e uniformes\n",
    "\n",
    "    def fit(self, x_train, y_train): #xtrain e um data frame com as features/dados | ytrain e a parte isolada, no caso o rotulo\n",
    "        n_linhas = x_train.shape[0]\n",
    "        \n",
    "        for n in range(n_linhas): #range esta sendo usado para conseguimos acessar os elementos passando a chave / shape [0] - qtde de linhas / shape [1] - qutde de colunas\n",
    "            \n",
    "            print (\"Amostra\", n)\n",
    "            \n",
    "            np_x = x_train.ilqc[n].values #converte linha a linha para um array numpy, para fazer calculos par a par (X1*w1 / x2*w2)\n",
    "            np_y - y_train.ilqc[n]\n",
    "\n",
    "            print (\"x_ATUAL\", np_x)\n",
    "            print (\"pesos\",self.pesos)\n",
    "            \n",
    "            output = np.dot(self.pesos, np_x) #soma ponderada para a iteracao atual\n",
    "\n",
    "            print (\"output\", output)\n",
    "\n",
    "            heaveside = 1 if output >=0 else 0 #sinal de ativacao\n",
    "\n",
    "            print (\"output\", heaveside)\n",
    "\n",
    "            #comparar o heaveside com o target\n",
    "            if heaveside != ny_y:\n",
    "                erro = np_y - heaveside #ou vai ser -1 ou 0\n",
    "\n",
    "                print (\"erro\", erro)\n",
    "\n",
    "                self.pesos = self.pesos + (self.taxa_aprendizado * erro * np_x)\n",
    "\n",
    "                print (\"pesos atualizados:\", self.pesos)\n",
    "\n",
    "            else:\n",
    "                print (\"sem erros\")\n",
    "\n",
    "    def predict(self, x_test):\n",
    "        \n",
    "np_x = x_test.values\n",
    "        \n",
    "#prediction = [1 if self.pesos.dot(x) >= 0 for x in np_x else 0]\n",
    "        \n",
    "prediciton = []\n",
    "        for x in np_x:  \n",
    "            if self.pesos.dot(x) >= 0:\n",
    "                prediciton.append(1)\n",
    "            else\n",
    "                prediciton.append(0)                        "
   ],
   "cell_type": "code",
   "outputs": [
    {
     "output_type": "error",
     "ename": "SyntaxError",
     "evalue": "unexpected EOF while parsing (<ipython-input-7-71474a82cdab>, line 40)",
     "traceback": [
      "\u001b[0;36m  File \u001b[0;32m\"<ipython-input-7-71474a82cdab>\"\u001b[0;36m, line \u001b[0;32m40\u001b[0m\n\u001b[0;31m    def predict(self, ):\u001b[0m\n\u001b[0m                        ^\u001b[0m\n\u001b[0;31mSyntaxError\u001b[0m\u001b[0;31m:\u001b[0m unexpected EOF while parsing\n"
     ]
    }
   ],
   "metadata": {},
   "execution_count": 7
  },
  {
   "source": [
    "#testando o que a linha esta fazendo\n",
    "self.pesos = np.random.uniform"
   ],
   "cell_type": "code",
   "outputs": [
    {
     "output_type": "error",
     "ename": "NameError",
     "evalue": "name 'np' is not defined",
     "traceback": [
      "\u001b[0;31m---------------------------------------------------------------------------\u001b[0m",
      "\u001b[0;31mNameError\u001b[0m                                 Traceback (most recent call last)",
      "\u001b[0;32m<ipython-input-1-d0f50ec31323>\u001b[0m in \u001b[0;36m<module>\u001b[0;34m\u001b[0m\n\u001b[1;32m      1\u001b[0m \u001b[0;31m#testando o que a linha esta fazendo\u001b[0m\u001b[0;34m\u001b[0m\u001b[0;34m\u001b[0m\u001b[0;34m\u001b[0m\u001b[0m\n\u001b[0;32m----> 2\u001b[0;31m \u001b[0mself\u001b[0m\u001b[0;34m.\u001b[0m\u001b[0mpesos\u001b[0m \u001b[0;34m=\u001b[0m \u001b[0mnp\u001b[0m\u001b[0;34m.\u001b[0m\u001b[0mrandom\u001b[0m\u001b[0;34m.\u001b[0m\u001b[0muniform\u001b[0m\u001b[0;34m\u001b[0m\u001b[0;34m\u001b[0m\u001b[0m\n\u001b[0m",
      "\u001b[0;31mNameError\u001b[0m: name 'np' is not defined"
     ]
    }
   ],
   "metadata": {},
   "execution_count": 1
  },
  {
   "source": [
    "perpeptron = Perceptron (0.5,2)\n",
    "perpeptron.pesos #vai mostrar os pesos que ele criou"
   ],
   "cell_type": "code",
   "outputs": [
    {
     "output_type": "error",
     "ename": "NameError",
     "evalue": "name 'Perceptron' is not defined",
     "traceback": [
      "\u001b[0;31m---------------------------------------------------------------------------\u001b[0m",
      "\u001b[0;31mNameError\u001b[0m                                 Traceback (most recent call last)",
      "\u001b[0;32m<ipython-input-3-89a6e856517d>\u001b[0m in \u001b[0;36m<module>\u001b[0;34m\u001b[0m\n\u001b[0;32m----> 1\u001b[0;31m \u001b[0mperceptron\u001b[0m \u001b[0;34m=\u001b[0m \u001b[0mPerceptron\u001b[0m \u001b[0;34m(\u001b[0m\u001b[0;36m0.5\u001b[0m\u001b[0;34m,\u001b[0m\u001b[0;36m2\u001b[0m\u001b[0;34m)\u001b[0m\u001b[0;34m\u001b[0m\u001b[0;34m\u001b[0m\u001b[0m\n\u001b[0m",
      "\u001b[0;31mNameError\u001b[0m: name 'Perceptron' is not defined"
     ]
    }
   ],
   "metadata": {},
   "execution_count": 3
  },
  {
   "cell_type": "code",
   "execution_count": null,
   "metadata": {},
   "outputs": [],
   "source": [
    "df = pd.DataFrame([])\n",
    "df[\"x1\"] = [0.3, -0.6, -0.1, 0.1]\n",
    "df[\"x2\"] = [0.7, 0.3, -0.0, -0.45]\n",
    "\n",
    "df[\"classe\"] = [1,0,0,1]\n",
    "\n",
    "df"
   ]
  },
  {
   "cell_type": "code",
   "execution_count": null,
   "metadata": {},
   "outputs": [],
   "source": [
    "Perceptron = Perceptron(taxa_aprendizado=0.5, n_features.shape[1])"
   ]
  },
  {
   "cell_type": "code",
   "execution_count": null,
   "metadata": {},
   "outputs": [],
   "source": [
    "x_train = df[\"x1\",\"x2\"]\n",
    "y_train = df[\"classe\"]"
   ]
  },
  {
   "cell_type": "code",
   "outputs": [],
   "source": [
    "import pandas as pd \n",
    "import numpy as np \n"
   ],
   "metadata": {},
   "execution_count": null
  }
 ]
}