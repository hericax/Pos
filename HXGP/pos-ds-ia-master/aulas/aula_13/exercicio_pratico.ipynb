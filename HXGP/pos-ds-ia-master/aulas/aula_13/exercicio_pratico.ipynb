{
 "nbformat": 4,
 "nbformat_minor": 2,
 "metadata": {
  "language_info": {
   "name": "python",
   "codemirror_mode": {
    "name": "ipython",
    "version": 3
   },
   "version": "3.7.5"
  },
  "orig_nbformat": 2,
  "file_extension": ".py",
  "mimetype": "text/x-python",
  "name": "python",
  "npconvert_exporter": "python",
  "pygments_lexer": "ipython3",
  "version": 3
 },
 "cells": [
  {
   "cell_type": "code",
   "execution_count": 1,
   "metadata": {},
   "outputs": [],
   "source": [
    "import numpy as np\n",
    "import matplotlib.pyplot as plt\n",
    "import pandas as pd"
   ]
  },
  {
   "cell_type": "code",
   "execution_count": 2,
   "metadata": {},
   "outputs": [],
   "source": [
    "#dataset = pd.read_csv('/Users/aluno/Documents/GitHub/Pos/HXGP/pos-ds-ia-master/aulas/aula_13/train.csv')\n",
    "dataset = pd.read_csv('c:/Users/Herica/Desktop/Hérica/curso-ia-ciencia_dados/repositorio/GitHub/Pos/HXGP/pos-ds-ia-master/aulas/aula_13/train.csv')"
   ]
  },
  {
   "cell_type": "code",
   "execution_count": 3,
   "metadata": {},
   "outputs": [
    {
     "data": {
      "text/html": "<div>\n<style scoped>\n    .dataframe tbody tr th:only-of-type {\n        vertical-align: middle;\n    }\n\n    .dataframe tbody tr th {\n        vertical-align: top;\n    }\n\n    .dataframe thead th {\n        text-align: right;\n    }\n</style>\n<table border=\"1\" class=\"dataframe\">\n  <thead>\n    <tr style=\"text-align: right;\">\n      <th></th>\n      <th>Id</th>\n      <th>MSSubClass</th>\n      <th>MSZoning</th>\n      <th>LotFrontage</th>\n      <th>LotArea</th>\n      <th>Street</th>\n      <th>Alley</th>\n      <th>LotShape</th>\n      <th>LandContour</th>\n      <th>Utilities</th>\n      <th>...</th>\n      <th>PoolArea</th>\n      <th>PoolQC</th>\n      <th>Fence</th>\n      <th>MiscFeature</th>\n      <th>MiscVal</th>\n      <th>MoSold</th>\n      <th>YrSold</th>\n      <th>SaleType</th>\n      <th>SaleCondition</th>\n      <th>SalePrice</th>\n    </tr>\n  </thead>\n  <tbody>\n    <tr>\n      <th>0</th>\n      <td>1</td>\n      <td>60</td>\n      <td>RL</td>\n      <td>65.0</td>\n      <td>8450</td>\n      <td>Pave</td>\n      <td>NaN</td>\n      <td>Reg</td>\n      <td>Lvl</td>\n      <td>AllPub</td>\n      <td>...</td>\n      <td>0</td>\n      <td>NaN</td>\n      <td>NaN</td>\n      <td>NaN</td>\n      <td>0</td>\n      <td>2</td>\n      <td>2008</td>\n      <td>WD</td>\n      <td>Normal</td>\n      <td>208500</td>\n    </tr>\n    <tr>\n      <th>1</th>\n      <td>2</td>\n      <td>20</td>\n      <td>RL</td>\n      <td>80.0</td>\n      <td>9600</td>\n      <td>Pave</td>\n      <td>NaN</td>\n      <td>Reg</td>\n      <td>Lvl</td>\n      <td>AllPub</td>\n      <td>...</td>\n      <td>0</td>\n      <td>NaN</td>\n      <td>NaN</td>\n      <td>NaN</td>\n      <td>0</td>\n      <td>5</td>\n      <td>2007</td>\n      <td>WD</td>\n      <td>Normal</td>\n      <td>181500</td>\n    </tr>\n    <tr>\n      <th>2</th>\n      <td>3</td>\n      <td>60</td>\n      <td>RL</td>\n      <td>68.0</td>\n      <td>11250</td>\n      <td>Pave</td>\n      <td>NaN</td>\n      <td>IR1</td>\n      <td>Lvl</td>\n      <td>AllPub</td>\n      <td>...</td>\n      <td>0</td>\n      <td>NaN</td>\n      <td>NaN</td>\n      <td>NaN</td>\n      <td>0</td>\n      <td>9</td>\n      <td>2008</td>\n      <td>WD</td>\n      <td>Normal</td>\n      <td>223500</td>\n    </tr>\n    <tr>\n      <th>3</th>\n      <td>4</td>\n      <td>70</td>\n      <td>RL</td>\n      <td>60.0</td>\n      <td>9550</td>\n      <td>Pave</td>\n      <td>NaN</td>\n      <td>IR1</td>\n      <td>Lvl</td>\n      <td>AllPub</td>\n      <td>...</td>\n      <td>0</td>\n      <td>NaN</td>\n      <td>NaN</td>\n      <td>NaN</td>\n      <td>0</td>\n      <td>2</td>\n      <td>2006</td>\n      <td>WD</td>\n      <td>Abnorml</td>\n      <td>140000</td>\n    </tr>\n    <tr>\n      <th>4</th>\n      <td>5</td>\n      <td>60</td>\n      <td>RL</td>\n      <td>84.0</td>\n      <td>14260</td>\n      <td>Pave</td>\n      <td>NaN</td>\n      <td>IR1</td>\n      <td>Lvl</td>\n      <td>AllPub</td>\n      <td>...</td>\n      <td>0</td>\n      <td>NaN</td>\n      <td>NaN</td>\n      <td>NaN</td>\n      <td>0</td>\n      <td>12</td>\n      <td>2008</td>\n      <td>WD</td>\n      <td>Normal</td>\n      <td>250000</td>\n    </tr>\n  </tbody>\n</table>\n<p>5 rows × 81 columns</p>\n</div>",
      "text/plain": "   Id  MSSubClass MSZoning  LotFrontage  LotArea Street Alley LotShape  \\\n0   1          60       RL         65.0     8450   Pave   NaN      Reg   \n1   2          20       RL         80.0     9600   Pave   NaN      Reg   \n2   3          60       RL         68.0    11250   Pave   NaN      IR1   \n3   4          70       RL         60.0     9550   Pave   NaN      IR1   \n4   5          60       RL         84.0    14260   Pave   NaN      IR1   \n\n  LandContour Utilities  ... PoolArea PoolQC Fence MiscFeature MiscVal MoSold  \\\n0         Lvl    AllPub  ...        0    NaN   NaN         NaN       0      2   \n1         Lvl    AllPub  ...        0    NaN   NaN         NaN       0      5   \n2         Lvl    AllPub  ...        0    NaN   NaN         NaN       0      9   \n3         Lvl    AllPub  ...        0    NaN   NaN         NaN       0      2   \n4         Lvl    AllPub  ...        0    NaN   NaN         NaN       0     12   \n\n  YrSold  SaleType  SaleCondition  SalePrice  \n0   2008        WD         Normal     208500  \n1   2007        WD         Normal     181500  \n2   2008        WD         Normal     223500  \n3   2006        WD        Abnorml     140000  \n4   2008        WD         Normal     250000  \n\n[5 rows x 81 columns]"
     },
     "execution_count": 3,
     "metadata": {},
     "output_type": "execute_result"
    }
   ],
   "source": [
    "dataset.head()"
   ]
  },
  {
   "cell_type": "code",
   "execution_count": 6,
   "metadata": {},
   "outputs": [],
   "source": [
    "#converter todo o dataframe para numero -> não funcionou\n",
    "#dataset.apply(pd.to_numeric, errors='ignore')"
   ]
  },
  {
   "cell_type": "code",
   "execution_count": 4,
   "metadata": {},
   "outputs": [
    {
     "data": {
      "text/plain": "PoolQC           0.995205\nMiscFeature      0.963014\nAlley            0.937671\nFence            0.807534\nFireplaceQu      0.472603\n                   ...   \nCentralAir       0.000000\nSaleCondition    0.000000\nHeating          0.000000\nTotalBsmtSF      0.000000\nId               0.000000\nLength: 81, dtype: float64"
     },
     "execution_count": 4,
     "metadata": {},
     "output_type": "execute_result"
    }
   ],
   "source": [
    "# Percentual das features que não possuem valor (dados faltantes):\n",
    "(dataset.isnull().sum() / dataset.shape[0]).sort_values(ascending=False)"
   ]
  },
  {
   "cell_type": "code",
   "execution_count": 41,
   "metadata": {},
   "outputs": [],
   "source": [
    "dataset.fillna(0, inplace=True)"
   ]
  },
  {
   "cell_type": "code",
   "execution_count": 40,
   "metadata": {},
   "outputs": [],
   "source": [
    "# Substituição dos dados ausentes/faltantes com 'zero' de algumas colunas que serão utilizadas na análise. \n",
    "dataset['MSZoning'].fillna(0, inplace=True)\n",
    "dataset['Street'].fillna(0, inplace=True)\n",
    "dataset['Alley'].fillna(0, inplace=True)\n",
    "dataset['LotShape'].fillna(0, inplace=True)\n",
    "dataset['SaleCondition'].fillna(0, inplace=True)\n",
    "dataset['LandContour'].fillna(0, inplace=True)\n",
    "dataset['Utilities'].fillna(0, inplace=True)\n",
    "dataset['PoolQC'].fillna(0, inplace=True)\n",
    "dataset['Fence'].fillna(0, inplace=True)\n",
    "dataset['LotConfig'].fillna(0, inplace=True)\n",
    "dataset['LandSlope'].fillna(0, inplace=True)\n",
    "dataset['Neighborhood'].fillna(0, inplace=True)\n",
    "dataset['Condition1'].fillna(0, inplace=True)\n",
    "dataset['Condition2'].fillna(0, inplace=True)\n",
    "dataset['BldgType'].fillna(0, inplace=True)\n",
    "dataset['HouseStyle'].fillna(0, inplace=True)\n",
    "dataset['RoofStyle'].fillna(0, inplace=True)\n",
    "dataset['RoofMatl'].fillna(0, inplace=True)\n",
    "dataset['Exterior1st'].fillna(0, inplace=True)\n",
    "dataset['Exterior2nd'].fillna(0, inplace=True)\n",
    "dataset['MasVnrType'].fillna(0, inplace=True)\n",
    "dataset['ExterQual'].fillna(0, inplace=True)\n",
    "dataset['ExterCond'].fillna(0, inplace=True)\n",
    "dataset['Foundation'].fillna(0, inplace=True)\n",
    "dataset['BsmtQual'].fillna(0, inplace=True)\n",
    "dataset['BsmtCond'].fillna(0, inplace=True)\n",
    "dataset['BsmtExposure'].fillna(0, inplace=True)\n",
    "dataset['BsmtFinType1'].fillna(0, inplace=True)\n",
    "dataset['BsmtFinType2'].fillna(0, inplace=True)\n",
    "dataset['Electrical'].fillna(0, inplace=True)\n",
    "dataset['KitchenQual'].fillna(0, inplace=True)\n",
    "dataset['Functional'].fillna(0, inplace=True)\n",
    "dataset['FireplaceQu'].fillna(0, inplace=True)\n",
    "dataset['GarageType'].fillna(0, inplace=True)\n",
    "dataset['GarageFinish'].fillna(0, inplace=True)\n",
    "dataset['GarageQual'].fillna(0, inplace=True)\n",
    "dataset['GarageCond'].fillna(0, inplace=True)\n",
    "dataset['PavedDrive'].fillna(0, inplace=True)\n",
    "dataset['MiscFeature'].fillna(0, inplace=True)\n",
    "dataset['CentralAir'].fillna(0, inplace=True)\n",
    "dataset['SaleType'].fillna(0, inplace=True)\n",
    "dataset['Heating'].fillna(0, inplace=True)\n",
    "dataset['HeatingQC'].fillna(0, inplace=True)"
   ]
  },
  {
   "cell_type": "code",
   "execution_count": 8,
   "metadata": {},
   "outputs": [
    {
     "data": {
      "text/plain": "SalePrice       0.0\nHeating         0.0\nRoofStyle       0.0\nRoofMatl        0.0\nExterior1st     0.0\n               ... \nTotRmsAbvGrd    0.0\nFunctional      0.0\nFireplaces      0.0\nFireplaceQu     0.0\nId              0.0\nLength: 81, dtype: float64"
     },
     "execution_count": 8,
     "metadata": {},
     "output_type": "execute_result"
    }
   ],
   "source": [
    "# Percentual das features que não possuem valor (dados faltantes):\n",
    "(dataset.isnull().sum() / dataset.shape[0]).sort_values(ascending=False)"
   ]
  },
  {
   "cell_type": "code",
   "execution_count": 3,
   "metadata": {},
   "outputs": [
    {
     "data": {
      "text/html": "<div>\n<style scoped>\n    .dataframe tbody tr th:only-of-type {\n        vertical-align: middle;\n    }\n\n    .dataframe tbody tr th {\n        vertical-align: top;\n    }\n\n    .dataframe thead th {\n        text-align: right;\n    }\n</style>\n<table border=\"1\" class=\"dataframe\">\n  <thead>\n    <tr style=\"text-align: right;\">\n      <th></th>\n      <th>Id</th>\n      <th>MSSubClass</th>\n      <th>LotFrontage</th>\n      <th>LotArea</th>\n      <th>OverallQual</th>\n      <th>OverallCond</th>\n      <th>YearBuilt</th>\n      <th>YearRemodAdd</th>\n      <th>MasVnrArea</th>\n      <th>BsmtFinSF1</th>\n      <th>...</th>\n      <th>WoodDeckSF</th>\n      <th>OpenPorchSF</th>\n      <th>EnclosedPorch</th>\n      <th>3SsnPorch</th>\n      <th>ScreenPorch</th>\n      <th>PoolArea</th>\n      <th>MiscVal</th>\n      <th>MoSold</th>\n      <th>YrSold</th>\n      <th>SalePrice</th>\n    </tr>\n  </thead>\n  <tbody>\n    <tr>\n      <th>count</th>\n      <td>1460.000000</td>\n      <td>1460.000000</td>\n      <td>1201.000000</td>\n      <td>1460.000000</td>\n      <td>1460.000000</td>\n      <td>1460.000000</td>\n      <td>1460.000000</td>\n      <td>1460.000000</td>\n      <td>1452.000000</td>\n      <td>1460.000000</td>\n      <td>...</td>\n      <td>1460.000000</td>\n      <td>1460.000000</td>\n      <td>1460.000000</td>\n      <td>1460.000000</td>\n      <td>1460.000000</td>\n      <td>1460.000000</td>\n      <td>1460.000000</td>\n      <td>1460.000000</td>\n      <td>1460.000000</td>\n      <td>1460.000000</td>\n    </tr>\n    <tr>\n      <th>mean</th>\n      <td>730.500000</td>\n      <td>56.897260</td>\n      <td>70.049958</td>\n      <td>10516.828082</td>\n      <td>6.099315</td>\n      <td>5.575342</td>\n      <td>1971.267808</td>\n      <td>1984.865753</td>\n      <td>103.685262</td>\n      <td>443.639726</td>\n      <td>...</td>\n      <td>94.244521</td>\n      <td>46.660274</td>\n      <td>21.954110</td>\n      <td>3.409589</td>\n      <td>15.060959</td>\n      <td>2.758904</td>\n      <td>43.489041</td>\n      <td>6.321918</td>\n      <td>2007.815753</td>\n      <td>180921.195890</td>\n    </tr>\n    <tr>\n      <th>std</th>\n      <td>421.610009</td>\n      <td>42.300571</td>\n      <td>24.284752</td>\n      <td>9981.264932</td>\n      <td>1.382997</td>\n      <td>1.112799</td>\n      <td>30.202904</td>\n      <td>20.645407</td>\n      <td>181.066207</td>\n      <td>456.098091</td>\n      <td>...</td>\n      <td>125.338794</td>\n      <td>66.256028</td>\n      <td>61.119149</td>\n      <td>29.317331</td>\n      <td>55.757415</td>\n      <td>40.177307</td>\n      <td>496.123024</td>\n      <td>2.703626</td>\n      <td>1.328095</td>\n      <td>79442.502883</td>\n    </tr>\n    <tr>\n      <th>min</th>\n      <td>1.000000</td>\n      <td>20.000000</td>\n      <td>21.000000</td>\n      <td>1300.000000</td>\n      <td>1.000000</td>\n      <td>1.000000</td>\n      <td>1872.000000</td>\n      <td>1950.000000</td>\n      <td>0.000000</td>\n      <td>0.000000</td>\n      <td>...</td>\n      <td>0.000000</td>\n      <td>0.000000</td>\n      <td>0.000000</td>\n      <td>0.000000</td>\n      <td>0.000000</td>\n      <td>0.000000</td>\n      <td>0.000000</td>\n      <td>1.000000</td>\n      <td>2006.000000</td>\n      <td>34900.000000</td>\n    </tr>\n    <tr>\n      <th>25%</th>\n      <td>365.750000</td>\n      <td>20.000000</td>\n      <td>59.000000</td>\n      <td>7553.500000</td>\n      <td>5.000000</td>\n      <td>5.000000</td>\n      <td>1954.000000</td>\n      <td>1967.000000</td>\n      <td>0.000000</td>\n      <td>0.000000</td>\n      <td>...</td>\n      <td>0.000000</td>\n      <td>0.000000</td>\n      <td>0.000000</td>\n      <td>0.000000</td>\n      <td>0.000000</td>\n      <td>0.000000</td>\n      <td>0.000000</td>\n      <td>5.000000</td>\n      <td>2007.000000</td>\n      <td>129975.000000</td>\n    </tr>\n    <tr>\n      <th>50%</th>\n      <td>730.500000</td>\n      <td>50.000000</td>\n      <td>69.000000</td>\n      <td>9478.500000</td>\n      <td>6.000000</td>\n      <td>5.000000</td>\n      <td>1973.000000</td>\n      <td>1994.000000</td>\n      <td>0.000000</td>\n      <td>383.500000</td>\n      <td>...</td>\n      <td>0.000000</td>\n      <td>25.000000</td>\n      <td>0.000000</td>\n      <td>0.000000</td>\n      <td>0.000000</td>\n      <td>0.000000</td>\n      <td>0.000000</td>\n      <td>6.000000</td>\n      <td>2008.000000</td>\n      <td>163000.000000</td>\n    </tr>\n    <tr>\n      <th>75%</th>\n      <td>1095.250000</td>\n      <td>70.000000</td>\n      <td>80.000000</td>\n      <td>11601.500000</td>\n      <td>7.000000</td>\n      <td>6.000000</td>\n      <td>2000.000000</td>\n      <td>2004.000000</td>\n      <td>166.000000</td>\n      <td>712.250000</td>\n      <td>...</td>\n      <td>168.000000</td>\n      <td>68.000000</td>\n      <td>0.000000</td>\n      <td>0.000000</td>\n      <td>0.000000</td>\n      <td>0.000000</td>\n      <td>0.000000</td>\n      <td>8.000000</td>\n      <td>2009.000000</td>\n      <td>214000.000000</td>\n    </tr>\n    <tr>\n      <th>max</th>\n      <td>1460.000000</td>\n      <td>190.000000</td>\n      <td>313.000000</td>\n      <td>215245.000000</td>\n      <td>10.000000</td>\n      <td>9.000000</td>\n      <td>2010.000000</td>\n      <td>2010.000000</td>\n      <td>1600.000000</td>\n      <td>5644.000000</td>\n      <td>...</td>\n      <td>857.000000</td>\n      <td>547.000000</td>\n      <td>552.000000</td>\n      <td>508.000000</td>\n      <td>480.000000</td>\n      <td>738.000000</td>\n      <td>15500.000000</td>\n      <td>12.000000</td>\n      <td>2010.000000</td>\n      <td>755000.000000</td>\n    </tr>\n  </tbody>\n</table>\n<p>8 rows × 38 columns</p>\n</div>",
      "text/plain": "                Id   MSSubClass  LotFrontage        LotArea  OverallQual  \\\ncount  1460.000000  1460.000000  1201.000000    1460.000000  1460.000000   \nmean    730.500000    56.897260    70.049958   10516.828082     6.099315   \nstd     421.610009    42.300571    24.284752    9981.264932     1.382997   \nmin       1.000000    20.000000    21.000000    1300.000000     1.000000   \n25%     365.750000    20.000000    59.000000    7553.500000     5.000000   \n50%     730.500000    50.000000    69.000000    9478.500000     6.000000   \n75%    1095.250000    70.000000    80.000000   11601.500000     7.000000   \nmax    1460.000000   190.000000   313.000000  215245.000000    10.000000   \n\n       OverallCond    YearBuilt  YearRemodAdd   MasVnrArea   BsmtFinSF1  ...  \\\ncount  1460.000000  1460.000000   1460.000000  1452.000000  1460.000000  ...   \nmean      5.575342  1971.267808   1984.865753   103.685262   443.639726  ...   \nstd       1.112799    30.202904     20.645407   181.066207   456.098091  ...   \nmin       1.000000  1872.000000   1950.000000     0.000000     0.000000  ...   \n25%       5.000000  1954.000000   1967.000000     0.000000     0.000000  ...   \n50%       5.000000  1973.000000   1994.000000     0.000000   383.500000  ...   \n75%       6.000000  2000.000000   2004.000000   166.000000   712.250000  ...   \nmax       9.000000  2010.000000   2010.000000  1600.000000  5644.000000  ...   \n\n        WoodDeckSF  OpenPorchSF  EnclosedPorch    3SsnPorch  ScreenPorch  \\\ncount  1460.000000  1460.000000    1460.000000  1460.000000  1460.000000   \nmean     94.244521    46.660274      21.954110     3.409589    15.060959   \nstd     125.338794    66.256028      61.119149    29.317331    55.757415   \nmin       0.000000     0.000000       0.000000     0.000000     0.000000   \n25%       0.000000     0.000000       0.000000     0.000000     0.000000   \n50%       0.000000    25.000000       0.000000     0.000000     0.000000   \n75%     168.000000    68.000000       0.000000     0.000000     0.000000   \nmax     857.000000   547.000000     552.000000   508.000000   480.000000   \n\n          PoolArea       MiscVal       MoSold       YrSold      SalePrice  \ncount  1460.000000   1460.000000  1460.000000  1460.000000    1460.000000  \nmean      2.758904     43.489041     6.321918  2007.815753  180921.195890  \nstd      40.177307    496.123024     2.703626     1.328095   79442.502883  \nmin       0.000000      0.000000     1.000000  2006.000000   34900.000000  \n25%       0.000000      0.000000     5.000000  2007.000000  129975.000000  \n50%       0.000000      0.000000     6.000000  2008.000000  163000.000000  \n75%       0.000000      0.000000     8.000000  2009.000000  214000.000000  \nmax     738.000000  15500.000000    12.000000  2010.000000  755000.000000  \n\n[8 rows x 38 columns]"
     },
     "execution_count": 3,
     "metadata": {},
     "output_type": "execute_result"
    }
   ],
   "source": [
    "dataset.describe()"
   ]
  },
  {
   "cell_type": "code",
   "execution_count": 6,
   "metadata": {},
   "outputs": [
    {
     "data": {
      "text/plain": "Id                 int64\nMSSubClass         int64\nMSZoning          object\nLotFrontage      float64\nLotArea            int64\n                  ...   \nMoSold             int64\nYrSold             int64\nSaleType          object\nSaleCondition     object\nSalePrice          int64\nLength: 81, dtype: object"
     },
     "execution_count": 6,
     "metadata": {},
     "output_type": "execute_result"
    }
   ],
   "source": [
    "dataset.dtypes"
   ]
  },
  {
   "cell_type": "code",
   "execution_count": 23,
   "metadata": {},
   "outputs": [
    {
     "data": {
      "text/plain": "Index(['Id', 'MSSubClass', 'MSZoning', 'LotFrontage', 'LotArea', 'Street',\n       'Alley', 'LotShape', 'LandContour', 'Utilities', 'LotConfig',\n       'LandSlope', 'Neighborhood', 'Condition1', 'Condition2', 'BldgType',\n       'HouseStyle', 'OverallQual', 'OverallCond', 'YearBuilt', 'YearRemodAdd',\n       'RoofStyle', 'RoofMatl', 'Exterior1st', 'Exterior2nd', 'MasVnrType',\n       'MasVnrArea', 'ExterQual', 'ExterCond', 'Foundation', 'BsmtQual',\n       'BsmtCond', 'BsmtExposure', 'BsmtFinType1', 'BsmtFinSF1',\n       'BsmtFinType2', 'BsmtFinSF2', 'BsmtUnfSF', 'TotalBsmtSF', 'Heating',\n       'HeatingQC', 'CentralAir', 'Electrical', '1stFlrSF', '2ndFlrSF',\n       'LowQualFinSF', 'GrLivArea', 'BsmtFullBath', 'BsmtHalfBath', 'FullBath',\n       'HalfBath', 'BedroomAbvGr', 'KitchenAbvGr', 'KitchenQual',\n       'TotRmsAbvGrd', 'Functional', 'Fireplaces', 'FireplaceQu', 'GarageType',\n       'GarageYrBlt', 'GarageFinish', 'GarageCars', 'GarageArea', 'GarageQual',\n       'GarageCond', 'PavedDrive', 'WoodDeckSF', 'OpenPorchSF',\n       'EnclosedPorch', '3SsnPorch', 'ScreenPorch', 'PoolArea', 'PoolQC',\n       'Fence', 'MiscFeature', 'MiscVal', 'MoSold', 'YrSold', 'SaleType',\n       'SaleCondition', 'SalePrice'],\n      dtype='object')"
     },
     "execution_count": 23,
     "metadata": {},
     "output_type": "execute_result"
    }
   ],
   "source": [
    "# formas de visualizar as colunas de um dataframe\n",
    "#list(dataset.columns.values) #opção 1\n",
    "dataset.columns #opção 2\n"
   ]
  },
  {
   "cell_type": "code",
   "execution_count": 10,
   "metadata": {},
   "outputs": [],
   "source": [
    "#converter para inteiro\n",
    "#dataset[\"SaleType\"] = dataset[\"SaleType\"].astype(int)"
   ]
  },
  {
   "cell_type": "code",
   "execution_count": 11,
   "metadata": {},
   "outputs": [
    {
     "data": {
      "text/plain": "array(['WD', 'New', 'COD', 'ConLD', 'ConLI', 'CWD', 'ConLw', 'Con', 'Oth'],\n      dtype=object)"
     },
     "execution_count": 11,
     "metadata": {},
     "output_type": "execute_result"
    }
   ],
   "source": [
    "# visualizar os valores unicos de cada coluna\n",
    "dataset[\"SaleType\"].unique()"
   ]
  },
  {
   "cell_type": "code",
   "execution_count": 12,
   "metadata": {},
   "outputs": [],
   "source": [
    "# Fazer um dicionário da coluna MSZoning\n",
    "dataset['MSZoning'] = dataset['MSZoning'].map({\n",
    "    'RL': 1,     'RM': 2,    'FV': 3,     'RH': 4,    'C (all)': 5})\n",
    "\n",
    "dataset['Street'] = dataset['Street'].map({\n",
    "    'Pave': 1,     'Grvl': 2})\n",
    "\n",
    "dataset['Alley'] = dataset['Alley'].map({\n",
    "    'Grvl': 1,    'Pave':2})\n",
    "\n",
    "dataset['LotShape'] = dataset['LotShape'].map({\n",
    "    'Reg': 1,     'IR1': 2,    'IR2':3,    'IR3':4})\n",
    "\n",
    "dataset['SaleCondition'] = dataset['SaleCondition'].map({\n",
    "    'Normal': 1,     'Abnorml': 2,    'Partial':3,    'AdjLand':4,    'Alloca':5,    'Family':6})\n",
    "\n",
    "dataset['LandContour'] = dataset['LandContour'].map({\n",
    "    'Lvl': 1, 'Bnk': 2, 'Low':3,  'HLS':4})\n",
    "\n",
    "dataset['Utilities'] = dataset['Utilities'].map({\n",
    "    'AllPub': 1,     'NoSeWa': 2})\n",
    "\n",
    "dataset['PoolQC'] = dataset['PoolQC'].map({\n",
    "    'Ex': 1,    'Fa':2,    'Gd':3})\n",
    "\n",
    "dataset['Fence'] = dataset['Fence'].map({\n",
    "    'MnPrv': 1,    'GdWo':2,    'GdPrv':3,    'MnWw':4})\n",
    "\n",
    "dataset['LotConfig'] = dataset['LotConfig'].map({\n",
    "    'Inside':1,     'FR2': 2,     'Corner': 3,     'CulDSac': 4,     'FR3':5})\n",
    "\n",
    "dataset['LandSlope'] = dataset['LandSlope'].map({\n",
    "    'Gtl':1,    'Mod': 2,     'Sev': 3})\n",
    "\n",
    "dataset['Neighborhood'] = dataset['Neighborhood'].map({\n",
    "    'CollgCr':1,    'Veenker': 2,     'Crawfor': 3, \n",
    "    'NoRidge': 4,     'Mitchel': 5,     'Somerst': 6, \n",
    "    'NWAmes': 7,     'OldTown': 8,     'BrkSide': 9, \n",
    "    'Sawyer': 10,     'NridgHt': 11,     'NAmes': 12, \n",
    "    'SawyerW': 13,     'IDOTRR': 14,     'MeadowV': 15, \n",
    "    'Edwards': 16,     'Timber': 17,     'Gilbert': 18, \n",
    "    'StoneBr': 19,     'ClearCr': 20,     'NPkVill': 21, \n",
    "    'Blmngtn': 22,     'BrDale': 23,     'SWISU': 24, \n",
    "    'Blueste': 25})\n",
    "\n",
    "dataset['Condition1'] = dataset['Condition1'].map({\n",
    "    'Norm': 1,     'Feedr': 2,     'PosN': 3,     'Artery': 4,     'RRAe': 5, \n",
    "    'RRNn': 6,     'RRAn': 7,     'PosA': 8,    'RRNe': 9})\n",
    "\n",
    "dataset['Condition2'] = dataset['Condition2'].map({\n",
    "    'Norm': 1,     'Artery': 2,     'RRNn': 3,     'Feedr': 4,     'PosN': 5,     'PosA': 6,     'RRAn': 7,     'RRAe': 8})\n",
    "\n",
    "dataset['BldgType'] = dataset['BldgType'].map({\n",
    "    '1Fam': 1,    '2fmCon': 2,     'Duplex': 3,     'TwnhsE': 4,     'Twnhs': 5})\n",
    "\n",
    "dataset['HouseStyle'] = dataset['HouseStyle'].map({\n",
    "    '2Story': 1,    '1Story': 2,     '1.5Fin': 3,     '1.5Unf': 4, \n",
    "    'SFoyer': 5,     'SLvl': 6,     '2.5Unf': 7,    '2.5Fin': 8})\n",
    "\n",
    "dataset['RoofStyle'] = dataset['RoofStyle'].map({\n",
    "    'Gable': 1,     'Hip': 2,     'Gambrel': 3, \n",
    "    'Mansard': 4,     'Flat': 5,     'Shed': 6})\n",
    "\n",
    "dataset['RoofMatl'] = dataset['RoofMatl'].map({\n",
    "    'CompShg': 1,     'WdShngl': 2,     'Metal': 3,     'WdShake': 4, \n",
    "    'Membran': 5,     'Tar&Grv': 6,     'Roll': 7,      'ClyTile': 8})\n",
    "\n",
    "dataset['Exterior1st'] = dataset['Exterior1st'].map({\n",
    "    'VinylSd': 1,     'MetalSd': 2,     'Wd Sdng': 3,     'HdBoard': 4,     'BrkFace': 5, \n",
    "    'WdShing': 6,    'CemntBd': 7,     'Plywood': 8,     'AsbShng': 9,     'Stucco': 10, \n",
    "    'BrkComm': 11,     'AsphShn': 12,    'Stone': 13,     'ImStucc': 14,     'CBlock': 15})\n",
    "\n",
    "dataset['Exterior2nd'] = dataset['Exterior2nd'].map({\n",
    "    'VinylSd': 1,     'MetalSd': 2,     'Wd Shng': 3,     'HdBoard': 4,     'Plywood': 5, \n",
    "    'Wd Sdng': 6,    'CmentBd': 7,     'BrkFace': 8,     'Stucco': 9,     'AsbShng': 10, \n",
    "    'Brk Cmn': 11,     'ImStucc': 12,    'AsphShn': 13,     'Stone': 14,     'Other': 15, \n",
    "    'CBlock': 16})\n",
    "\n",
    "dataset['MasVnrType'] = dataset['MasVnrType'].map({\n",
    "    'BrkFace': 1, 'None': 2, 'Stone': 3, 'BrkCmn': 4})\n",
    "\n",
    "dataset['ExterQual'] = dataset['ExterQual'].map({\n",
    "    'Gd': 1, 'TA': 2, 'Ex': 3, 'Fa': 4})\n",
    "\n",
    "dataset['ExterCond'] = dataset['ExterCond'].map({\n",
    "    'TA': 1, 'Gd': 2, 'Fa': 3, 'Po': 4, 'Ex': 5})\n",
    "\n",
    "dataset['Foundation'] = dataset['Foundation'].map({\n",
    "    'PConc': 1, 'CBlock': 2, 'BrkTil': 3, 'Wood': 4, 'Slab': 5, 'Stone': 6})\n",
    "\n",
    "dataset['BsmtQual'] = dataset['BsmtQual'].map({\n",
    "    'Gd': 1, 'TA': 2, 'Ex': 3, 'Fa': 4})\n",
    "\n",
    "dataset['BsmtCond'] = dataset['BsmtCond'].map({\n",
    "    'TA': 1, 'Gd': 2, 'Fa': 3, 'Po': 4})\n",
    "\n",
    "dataset['BsmtExposure'] = dataset['BsmtExposure'].map({\n",
    "    'No': 1, 'Gd': 2, 'Mn': 3, 'Av': 4})\n",
    "\n",
    "dataset['BsmtFinType1'] = dataset['BsmtFinType1'].map({\n",
    "    'GLQ': 1, 'ALQ': 2, 'Unf': 3, 'Rec': 4, 'BLQ': 5, 'LwQ': 6})\n",
    "\n",
    "dataset['BsmtFinType2'] = dataset['BsmtFinType2'].map({\n",
    "    'Unf': 1, 'BLQ': 2, 'ALQ': 3, 'Rec': 4, 'LwQ': 5, 'GLQ': 6})\n",
    "\n",
    "dataset['Electrical'] = dataset['Electrical'].map({\n",
    "    'SBrkr': 1, 'FuseF': 2, 'FuseA': 3, 'FuseP': 4, 'Mix': 5})\n",
    "\n",
    "dataset['KitchenQual'] = dataset['KitchenQual'].map({\n",
    "    'Gd': 1, 'TA': 2, 'Ex': 3, 'Fa': 4})\n",
    "\n",
    "dataset['Functional'] = dataset['Functional'].map({\n",
    "    'Typ': 1, 'Min1': 2, 'Maj1': 3, 'Min2': 4, 'Mod': 5, 'Maj2': 6, 'Sev': 7})\n",
    "\n",
    "dataset['FireplaceQu'] = dataset['FireplaceQu'].map({\n",
    "    'TA': 1, 'Gd': 2, 'Fa': 3, 'Ex': 4, 'Po': 5})\n",
    "\n",
    "dataset['GarageType'] = dataset['GarageType'].map({\n",
    "    'Attchd': 1, 'Detchd': 2, 'BuiltIn': 3, 'CarPort': 4, 'Basment': 5, '2Types': 6})\n",
    "\n",
    "dataset['GarageFinish'] = dataset['GarageFinish'].map({\n",
    "    'RFn': 1, 'Unf': 2, 'Fin': 3})\n",
    "\n",
    "dataset['GarageQual'] = dataset['GarageQual'].map({\n",
    "    'TA': 1, 'Fa': 2, 'Gd': 3, 'Ex': 4, 'Po': 5})\n",
    "\n",
    "dataset['GarageCond'] = dataset['GarageCond'].map({\n",
    "    'TA': 1, 'Fa': 2, 'Gd': 3, 'Po': 4, 'Ex': 5})\n",
    "\n",
    "dataset['PavedDrive'] = dataset['PavedDrive'].map({\n",
    "    'Y': 1, 'N': 2, 'P': 3})\n",
    "\n",
    "dataset['MiscFeature'] = dataset['MiscFeature'].map({\n",
    "    'Shed': 1, 'Gar2': 2, 'Othr': 3, 'TenC': 4})\n",
    "\n",
    "dataset['CentralAir'] = dataset['CentralAir'].map({\n",
    "    'Y': 1, 'N': 2})\n",
    "\n",
    "dataset['SaleType'] = dataset['SaleType'].map({\n",
    "    'WD': 1, 'New': 2, 'COD': 3, 'ConLD': 4, 'ConLI': 5, 'CWD': 6, 'ConLw': 7, 'Con': 8, 'Oth': 9})\n",
    "\n",
    "dataset['Heating'] = dataset['Heating'].map({\n",
    "    'GasA': 1, 'GasW': 2, 'Grav': 3, 'Wall': 4, 'OthW': 5, 'Floor': 6})\n",
    "\n",
    "dataset['HeatingQC'] = dataset['HeatingQC'].map({\n",
    "    'Ex': 1, 'Gd': 2, 'TA': 3, 'Fa': 4, 'Po': 5})\n",
    "\n",
    "dataset['HeatingQC'] = dataset['HeatingQC'].map({\n",
    "    'Ex': 1, 'Gd': 2, 'TA': 3, 'Fa': 4, 'Po': 5})\n",
    "\n",
    "dataset['SaleType'] = dataset['SaleType'].map({\n",
    "    'WD': 1, 'New': 2, 'COD': 3, 'ConLD': 4, 'ConLI': 5, 'CWD': 6, 'ConLw': 7, 'Con': 8, 'Oth': 9})"
   ]
  },
  {
   "cell_type": "code",
   "execution_count": 19,
   "metadata": {},
   "outputs": [
    {
     "data": {
      "text/plain": "Id                 int64\nMSSubClass         int64\nMSZoning           int64\nLotFrontage      float64\nLotArea            int64\n                  ...   \nMoSold             int64\nYrSold             int64\nSaleType         float64\nSaleCondition      int64\nSalePrice          int64\nLength: 81, dtype: object"
     },
     "execution_count": 19,
     "metadata": {},
     "output_type": "execute_result"
    }
   ],
   "source": [
    "dataset.dtypes"
   ]
  },
  {
   "cell_type": "code",
   "execution_count": 35,
   "metadata": {},
   "outputs": [],
   "source": [
    "#criar uma variavel com o target (chamar de y)\n",
    "y = dataset.SalePrice"
   ]
  },
  {
   "cell_type": "code",
   "execution_count": 47,
   "metadata": {},
   "outputs": [
    {
     "data": {
      "text/plain": "(1460,)"
     },
     "execution_count": 47,
     "metadata": {},
     "output_type": "execute_result"
    }
   ],
   "source": [
    "y.shape"
   ]
  },
  {
   "cell_type": "code",
   "execution_count": 36,
   "metadata": {},
   "outputs": [],
   "source": [
    "#dropar (drop) o target (SalePrice) do meu dataset (chamar de X)\n",
    "dataset.drop(['SalePrice'],axis = 1, inplace = True)"
   ]
  },
  {
   "cell_type": "code",
   "execution_count": 42,
   "metadata": {},
   "outputs": [],
   "source": [
    "#X = dataset.iloc[:, 1:2].values #pega somente a segunda coluna\n",
    "#X = dataset.loc[:,['Id', 'MSZoning', 'Street', 'Alley', 'LotShape', 'SaleCondition', 'LandContour', 'Utilities', 'PoolQC', 'Fence']]\n",
    "X = dataset"
   ]
  },
  {
   "cell_type": "code",
   "execution_count": 43,
   "metadata": {},
   "outputs": [
    {
     "data": {
      "text/html": "<div>\n<style scoped>\n    .dataframe tbody tr th:only-of-type {\n        vertical-align: middle;\n    }\n\n    .dataframe tbody tr th {\n        vertical-align: top;\n    }\n\n    .dataframe thead th {\n        text-align: right;\n    }\n</style>\n<table border=\"1\" class=\"dataframe\">\n  <thead>\n    <tr style=\"text-align: right;\">\n      <th></th>\n      <th>Id</th>\n      <th>MSSubClass</th>\n      <th>MSZoning</th>\n      <th>LotFrontage</th>\n      <th>LotArea</th>\n      <th>Street</th>\n      <th>Alley</th>\n      <th>LotShape</th>\n      <th>LandContour</th>\n      <th>Utilities</th>\n      <th>...</th>\n      <th>ScreenPorch</th>\n      <th>PoolArea</th>\n      <th>PoolQC</th>\n      <th>Fence</th>\n      <th>MiscFeature</th>\n      <th>MiscVal</th>\n      <th>MoSold</th>\n      <th>YrSold</th>\n      <th>SaleType</th>\n      <th>SaleCondition</th>\n    </tr>\n  </thead>\n  <tbody>\n    <tr>\n      <th>0</th>\n      <td>1</td>\n      <td>60</td>\n      <td>0.0</td>\n      <td>65.0</td>\n      <td>8450</td>\n      <td>0.0</td>\n      <td>0.0</td>\n      <td>0.0</td>\n      <td>0.0</td>\n      <td>0.0</td>\n      <td>...</td>\n      <td>0</td>\n      <td>0</td>\n      <td>0.0</td>\n      <td>0.0</td>\n      <td>0.0</td>\n      <td>0</td>\n      <td>2</td>\n      <td>2008</td>\n      <td>0.0</td>\n      <td>0.0</td>\n    </tr>\n    <tr>\n      <th>1</th>\n      <td>2</td>\n      <td>20</td>\n      <td>0.0</td>\n      <td>80.0</td>\n      <td>9600</td>\n      <td>0.0</td>\n      <td>0.0</td>\n      <td>0.0</td>\n      <td>0.0</td>\n      <td>0.0</td>\n      <td>...</td>\n      <td>0</td>\n      <td>0</td>\n      <td>0.0</td>\n      <td>0.0</td>\n      <td>0.0</td>\n      <td>0</td>\n      <td>5</td>\n      <td>2007</td>\n      <td>0.0</td>\n      <td>0.0</td>\n    </tr>\n    <tr>\n      <th>2</th>\n      <td>3</td>\n      <td>60</td>\n      <td>0.0</td>\n      <td>68.0</td>\n      <td>11250</td>\n      <td>0.0</td>\n      <td>0.0</td>\n      <td>0.0</td>\n      <td>0.0</td>\n      <td>0.0</td>\n      <td>...</td>\n      <td>0</td>\n      <td>0</td>\n      <td>0.0</td>\n      <td>0.0</td>\n      <td>0.0</td>\n      <td>0</td>\n      <td>9</td>\n      <td>2008</td>\n      <td>0.0</td>\n      <td>0.0</td>\n    </tr>\n    <tr>\n      <th>3</th>\n      <td>4</td>\n      <td>70</td>\n      <td>0.0</td>\n      <td>60.0</td>\n      <td>9550</td>\n      <td>0.0</td>\n      <td>0.0</td>\n      <td>0.0</td>\n      <td>0.0</td>\n      <td>0.0</td>\n      <td>...</td>\n      <td>0</td>\n      <td>0</td>\n      <td>0.0</td>\n      <td>0.0</td>\n      <td>0.0</td>\n      <td>0</td>\n      <td>2</td>\n      <td>2006</td>\n      <td>0.0</td>\n      <td>0.0</td>\n    </tr>\n    <tr>\n      <th>4</th>\n      <td>5</td>\n      <td>60</td>\n      <td>0.0</td>\n      <td>84.0</td>\n      <td>14260</td>\n      <td>0.0</td>\n      <td>0.0</td>\n      <td>0.0</td>\n      <td>0.0</td>\n      <td>0.0</td>\n      <td>...</td>\n      <td>0</td>\n      <td>0</td>\n      <td>0.0</td>\n      <td>0.0</td>\n      <td>0.0</td>\n      <td>0</td>\n      <td>12</td>\n      <td>2008</td>\n      <td>0.0</td>\n      <td>0.0</td>\n    </tr>\n    <tr>\n      <th>5</th>\n      <td>6</td>\n      <td>50</td>\n      <td>0.0</td>\n      <td>85.0</td>\n      <td>14115</td>\n      <td>0.0</td>\n      <td>0.0</td>\n      <td>0.0</td>\n      <td>0.0</td>\n      <td>0.0</td>\n      <td>...</td>\n      <td>0</td>\n      <td>0</td>\n      <td>0.0</td>\n      <td>0.0</td>\n      <td>0.0</td>\n      <td>700</td>\n      <td>10</td>\n      <td>2009</td>\n      <td>0.0</td>\n      <td>0.0</td>\n    </tr>\n    <tr>\n      <th>6</th>\n      <td>7</td>\n      <td>20</td>\n      <td>0.0</td>\n      <td>75.0</td>\n      <td>10084</td>\n      <td>0.0</td>\n      <td>0.0</td>\n      <td>0.0</td>\n      <td>0.0</td>\n      <td>0.0</td>\n      <td>...</td>\n      <td>0</td>\n      <td>0</td>\n      <td>0.0</td>\n      <td>0.0</td>\n      <td>0.0</td>\n      <td>0</td>\n      <td>8</td>\n      <td>2007</td>\n      <td>0.0</td>\n      <td>0.0</td>\n    </tr>\n    <tr>\n      <th>7</th>\n      <td>8</td>\n      <td>60</td>\n      <td>0.0</td>\n      <td>0.0</td>\n      <td>10382</td>\n      <td>0.0</td>\n      <td>0.0</td>\n      <td>0.0</td>\n      <td>0.0</td>\n      <td>0.0</td>\n      <td>...</td>\n      <td>0</td>\n      <td>0</td>\n      <td>0.0</td>\n      <td>0.0</td>\n      <td>0.0</td>\n      <td>350</td>\n      <td>11</td>\n      <td>2009</td>\n      <td>0.0</td>\n      <td>0.0</td>\n    </tr>\n    <tr>\n      <th>8</th>\n      <td>9</td>\n      <td>50</td>\n      <td>0.0</td>\n      <td>51.0</td>\n      <td>6120</td>\n      <td>0.0</td>\n      <td>0.0</td>\n      <td>0.0</td>\n      <td>0.0</td>\n      <td>0.0</td>\n      <td>...</td>\n      <td>0</td>\n      <td>0</td>\n      <td>0.0</td>\n      <td>0.0</td>\n      <td>0.0</td>\n      <td>0</td>\n      <td>4</td>\n      <td>2008</td>\n      <td>0.0</td>\n      <td>0.0</td>\n    </tr>\n    <tr>\n      <th>9</th>\n      <td>10</td>\n      <td>190</td>\n      <td>0.0</td>\n      <td>50.0</td>\n      <td>7420</td>\n      <td>0.0</td>\n      <td>0.0</td>\n      <td>0.0</td>\n      <td>0.0</td>\n      <td>0.0</td>\n      <td>...</td>\n      <td>0</td>\n      <td>0</td>\n      <td>0.0</td>\n      <td>0.0</td>\n      <td>0.0</td>\n      <td>0</td>\n      <td>1</td>\n      <td>2008</td>\n      <td>0.0</td>\n      <td>0.0</td>\n    </tr>\n  </tbody>\n</table>\n<p>10 rows × 80 columns</p>\n</div>",
      "text/plain": "   Id  MSSubClass  MSZoning  LotFrontage  LotArea  Street  Alley  LotShape  \\\n0   1          60       0.0         65.0     8450     0.0    0.0       0.0   \n1   2          20       0.0         80.0     9600     0.0    0.0       0.0   \n2   3          60       0.0         68.0    11250     0.0    0.0       0.0   \n3   4          70       0.0         60.0     9550     0.0    0.0       0.0   \n4   5          60       0.0         84.0    14260     0.0    0.0       0.0   \n5   6          50       0.0         85.0    14115     0.0    0.0       0.0   \n6   7          20       0.0         75.0    10084     0.0    0.0       0.0   \n7   8          60       0.0          0.0    10382     0.0    0.0       0.0   \n8   9          50       0.0         51.0     6120     0.0    0.0       0.0   \n9  10         190       0.0         50.0     7420     0.0    0.0       0.0   \n\n   LandContour  Utilities  ...  ScreenPorch  PoolArea  PoolQC  Fence  \\\n0          0.0        0.0  ...            0         0     0.0    0.0   \n1          0.0        0.0  ...            0         0     0.0    0.0   \n2          0.0        0.0  ...            0         0     0.0    0.0   \n3          0.0        0.0  ...            0         0     0.0    0.0   \n4          0.0        0.0  ...            0         0     0.0    0.0   \n5          0.0        0.0  ...            0         0     0.0    0.0   \n6          0.0        0.0  ...            0         0     0.0    0.0   \n7          0.0        0.0  ...            0         0     0.0    0.0   \n8          0.0        0.0  ...            0         0     0.0    0.0   \n9          0.0        0.0  ...            0         0     0.0    0.0   \n\n   MiscFeature  MiscVal  MoSold  YrSold  SaleType  SaleCondition  \n0          0.0        0       2    2008       0.0            0.0  \n1          0.0        0       5    2007       0.0            0.0  \n2          0.0        0       9    2008       0.0            0.0  \n3          0.0        0       2    2006       0.0            0.0  \n4          0.0        0      12    2008       0.0            0.0  \n5          0.0      700      10    2009       0.0            0.0  \n6          0.0        0       8    2007       0.0            0.0  \n7          0.0      350      11    2009       0.0            0.0  \n8          0.0        0       4    2008       0.0            0.0  \n9          0.0        0       1    2008       0.0            0.0  \n\n[10 rows x 80 columns]"
     },
     "execution_count": 43,
     "metadata": {},
     "output_type": "execute_result"
    }
   ],
   "source": [
    "X.head(10)"
   ]
  },
  {
   "cell_type": "code",
   "execution_count": 22,
   "metadata": {},
   "outputs": [
    {
     "data": {
      "text/plain": "(1460, 81)"
     },
     "execution_count": 22,
     "metadata": {},
     "output_type": "execute_result"
    }
   ],
   "source": [
    "X.shape"
   ]
  },
  {
   "cell_type": "code",
   "metadata": {},
   "outputs": [],
   "source": [
    "#X = dataset.iloc[:, 1:2].values\n",
    "#y = dataset.SalePrice"
   ]
  },
  {
   "cell_type": "code",
   "metadata": {},
   "outputs": [],
   "source": [
    "dataset.shape"
   ]
  },
  {
   "cell_type": "code",
   "metadata": {},
   "outputs": [],
   "source": [
    "y.shape"
   ]
  },
  {
   "cell_type": "code",
   "execution_count": 44,
   "metadata": {},
   "outputs": [],
   "source": [
    "from sklearn.model_selection import train_test_split \n",
    "X_train, X_test, y_train, y_test = train_test_split(X, y, test_size=0.3, random_state=1)"
   ]
  },
  {
   "cell_type": "code",
   "execution_count": 45,
   "metadata": {},
   "outputs": [
    {
     "data": {
      "text/plain": "LinearRegression(copy_X=True, fit_intercept=True, n_jobs=None, normalize=False)"
     },
     "execution_count": 45,
     "metadata": {},
     "output_type": "execute_result"
    }
   ],
   "source": [
    "from sklearn.linear_model import LinearRegression\n",
    "linear_reg = LinearRegression()\n",
    "linear_reg.fit(X_train,y_train)"
   ]
  },
  {
   "cell_type": "code",
   "execution_count": 46,
   "metadata": {},
   "outputs": [],
   "source": [
    "pred_teste = linear_reg.predict(X_test)"
   ]
  },
  {
   "cell_type": "code",
   "execution_count": 26,
   "metadata": {},
   "outputs": [],
   "source": [
    "pred_train = linear_reg.predict(X_train)"
   ]
  },
  {
   "cell_type": "code",
   "execution_count": 47,
   "metadata": {},
   "outputs": [
    {
     "name": "stdout",
     "output_type": "stream",
     "text": "1166206310.9279797\n"
    }
   ],
   "source": [
    "print(np.mean((y_test - pred_teste) ** 2))"
   ]
  },
  {
   "cell_type": "code",
   "execution_count": 48,
   "metadata": {},
   "outputs": [],
   "source": [
    "dataset_teste = pd.read_csv('/Users/Herica/Desktop/Hérica/curso-ia-ciencia_dados/repositorio/GitHub/Pos\\/HXGP/pos-ds-ia-master/aulas/aula_13/test.csv')\n",
    "#dataset_teste.head()\n"
   ]
  },
  {
   "cell_type": "code",
   "execution_count": 52,
   "metadata": {},
   "outputs": [],
   "source": [
    "dataset_teste.fillna(0, inplace=True)"
   ]
  },
  {
   "cell_type": "code",
   "execution_count": 49,
   "metadata": {},
   "outputs": [],
   "source": [
    "# Substituição dos dados ausentes/faltantes com 'zero' de algumas colunas que serão utilizadas na análise. \n",
    "dataset_teste['MSZoning'].fillna(0, inplace=True)\n",
    "dataset_teste['Street'].fillna(0, inplace=True)\n",
    "dataset_teste['Alley'].fillna(0, inplace=True)\n",
    "dataset_teste['LotShape'].fillna(0, inplace=True)\n",
    "dataset_teste['SaleCondition'].fillna(0, inplace=True)\n",
    "dataset_teste['LandContour'].fillna(0, inplace=True)\n",
    "dataset_teste['Utilities'].fillna(0, inplace=True)\n",
    "dataset_teste['PoolQC'].fillna(0, inplace=True)\n",
    "dataset_teste['Fence'].fillna(0, inplace=True)\n",
    "dataset_teste['LotConfig'].fillna(0, inplace=True)\n",
    "dataset_teste['LandSlope'].fillna(0, inplace=True)\n",
    "dataset_teste['Neighborhood'].fillna(0, inplace=True)\n",
    "dataset_teste['Condition1'].fillna(0, inplace=True)\n",
    "dataset_teste['Condition2'].fillna(0, inplace=True)\n",
    "dataset_teste['BldgType'].fillna(0, inplace=True)\n",
    "dataset_teste['HouseStyle'].fillna(0, inplace=True)\n",
    "dataset_teste['RoofStyle'].fillna(0, inplace=True)\n",
    "dataset_teste['RoofMatl'].fillna(0, inplace=True)\n",
    "dataset_teste['Exterior1st'].fillna(0, inplace=True)\n",
    "dataset_teste['Exterior2nd'].fillna(0, inplace=True)\n",
    "dataset_teste['MasVnrType'].fillna(0, inplace=True)\n",
    "dataset_teste['ExterQual'].fillna(0, inplace=True)\n",
    "dataset_teste['ExterCond'].fillna(0, inplace=True)\n",
    "dataset_teste['Foundation'].fillna(0, inplace=True)\n",
    "dataset_teste['BsmtQual'].fillna(0, inplace=True)\n",
    "dataset_teste['BsmtCond'].fillna(0, inplace=True)\n",
    "dataset_teste['BsmtExposure'].fillna(0, inplace=True)\n",
    "dataset_teste['BsmtFinType1'].fillna(0, inplace=True)\n",
    "dataset_teste['BsmtFinType2'].fillna(0, inplace=True)\n",
    "dataset_teste['Electrical'].fillna(0, inplace=True)\n",
    "dataset_teste['KitchenQual'].fillna(0, inplace=True)\n",
    "dataset_teste['Functional'].fillna(0, inplace=True)\n",
    "dataset_teste['FireplaceQu'].fillna(0, inplace=True)\n",
    "dataset_teste['GarageType'].fillna(0, inplace=True)\n",
    "dataset_teste['GarageFinish'].fillna(0, inplace=True)\n",
    "dataset_teste['GarageQual'].fillna(0, inplace=True)\n",
    "dataset_teste['GarageCond'].fillna(0, inplace=True)\n",
    "dataset_teste['PavedDrive'].fillna(0, inplace=True)\n",
    "dataset_teste['MiscFeature'].fillna(0, inplace=True)\n",
    "dataset_teste['CentralAir'].fillna(0, inplace=True)\n",
    "dataset_teste['SaleType'].fillna(0, inplace=True)\n",
    "dataset_teste['Heating'].fillna(0, inplace=True)\n",
    "dataset_teste['HeatingQC'].fillna(0, inplace=True)"
   ]
  },
  {
   "cell_type": "code",
   "execution_count": 50,
   "metadata": {},
   "outputs": [],
   "source": [
    "# Fazer um dicionário da coluna MSZoning\n",
    "dataset_teste['MSZoning'] = dataset_teste['MSZoning'].map({\n",
    "    'RL': 1,     'RM': 2,    'FV': 3,     'RH': 4,    'C (all)': 5})\n",
    "\n",
    "dataset_teste['Street'] = dataset_teste['Street'].map({\n",
    "    'Pave': 1,     'Grvl': 2})\n",
    "\n",
    "dataset_teste['Alley'] = dataset_teste['Alley'].map({\n",
    "    'Grvl': 1,    'Pave':2})\n",
    "\n",
    "dataset_teste['LotShape'] = dataset_teste['LotShape'].map({\n",
    "    'Reg': 1,     'IR1': 2,    'IR2':3,    'IR3':4})\n",
    "\n",
    "dataset_teste['SaleCondition'] = dataset_teste['SaleCondition'].map({\n",
    "    'Normal': 1,     'Abnorml': 2,    'Partial':3,    'AdjLand':4,    'Alloca':5,    'Family':6})\n",
    "\n",
    "dataset_teste['LandContour'] = dataset_teste['LandContour'].map({\n",
    "    'Lvl': 1, 'Bnk': 2, 'Low':3,  'HLS':4})\n",
    "\n",
    "dataset_teste['Utilities'] = dataset_teste['Utilities'].map({\n",
    "    'AllPub': 1,     'NoSeWa': 2})\n",
    "\n",
    "dataset_teste['PoolQC'] = dataset_teste['PoolQC'].map({\n",
    "    'Ex': 1,    'Fa':2,    'Gd':3})\n",
    "\n",
    "dataset_teste['Fence'] = dataset_teste['Fence'].map({\n",
    "    'MnPrv': 1,    'GdWo':2,    'GdPrv':3,    'MnWw':4})\n",
    "\n",
    "dataset_teste['LotConfig'] = dataset_teste['LotConfig'].map({\n",
    "    'Inside':1,     'FR2': 2,     'Corner': 3,     'CulDSac': 4,     'FR3':5})\n",
    "\n",
    "dataset_teste['LandSlope'] = dataset_teste['LandSlope'].map({\n",
    "    'Gtl':1,    'Mod': 2,     'Sev': 3})\n",
    "\n",
    "dataset_teste['Neighborhood'] = dataset_teste['Neighborhood'].map({\n",
    "    'CollgCr':1,    'Veenker': 2,     'Crawfor': 3, \n",
    "    'NoRidge': 4,     'Mitchel': 5,     'Somerst': 6, \n",
    "    'NWAmes': 7,     'OldTown': 8,     'BrkSide': 9, \n",
    "    'Sawyer': 10,     'NridgHt': 11,     'NAmes': 12, \n",
    "    'SawyerW': 13,     'IDOTRR': 14,     'MeadowV': 15, \n",
    "    'Edwards': 16,     'Timber': 17,     'Gilbert': 18, \n",
    "    'StoneBr': 19,     'ClearCr': 20,     'NPkVill': 21, \n",
    "    'Blmngtn': 22,     'BrDale': 23,     'SWISU': 24, \n",
    "    'Blueste': 25})\n",
    "\n",
    "dataset_teste['Condition1'] = dataset_teste['Condition1'].map({\n",
    "    'Norm': 1,     'Feedr': 2,     'PosN': 3,     'Artery': 4,     'RRAe': 5, \n",
    "    'RRNn': 6,     'RRAn': 7,     'PosA': 8,    'RRNe': 9})\n",
    "\n",
    "dataset_teste['Condition2'] = dataset_teste['Condition2'].map({\n",
    "    'Norm': 1,     'Artery': 2,     'RRNn': 3,     'Feedr': 4,     'PosN': 5,     'PosA': 6,     'RRAn': 7,     'RRAe': 8})\n",
    "\n",
    "dataset_teste['BldgType'] = dataset_teste['BldgType'].map({\n",
    "    '1Fam': 1,    '2fmCon': 2,     'Duplex': 3,     'TwnhsE': 4,     'Twnhs': 5})\n",
    "\n",
    "dataset_teste['HouseStyle'] = dataset_teste['HouseStyle'].map({\n",
    "    '2Story': 1,    '1Story': 2,     '1.5Fin': 3,     '1.5Unf': 4, \n",
    "    'SFoyer': 5,     'SLvl': 6,     '2.5Unf': 7,    '2.5Fin': 8})\n",
    "\n",
    "dataset_teste['RoofStyle'] = dataset_teste['RoofStyle'].map({\n",
    "    'Gable': 1,     'Hip': 2,     'Gambrel': 3, \n",
    "    'Mansard': 4,     'Flat': 5,     'Shed': 6})\n",
    "\n",
    "dataset_teste['RoofMatl'] = dataset_teste['RoofMatl'].map({\n",
    "    'CompShg': 1,     'WdShngl': 2,     'Metal': 3,     'WdShake': 4, \n",
    "    'Membran': 5,     'Tar&Grv': 6,     'Roll': 7,      'ClyTile': 8})\n",
    "\n",
    "dataset_teste['Exterior1st'] = dataset_teste['Exterior1st'].map({\n",
    "    'VinylSd': 1,     'MetalSd': 2,     'Wd Sdng': 3,     'HdBoard': 4,     'BrkFace': 5, \n",
    "    'WdShing': 6,    'CemntBd': 7,     'Plywood': 8,     'AsbShng': 9,     'Stucco': 10, \n",
    "    'BrkComm': 11,     'AsphShn': 12,    'Stone': 13,     'ImStucc': 14,     'CBlock': 15})\n",
    "\n",
    "dataset_teste['Exterior2nd'] = dataset_teste['Exterior2nd'].map({\n",
    "    'VinylSd': 1,     'MetalSd': 2,     'Wd Shng': 3,     'HdBoard': 4,     'Plywood': 5, \n",
    "    'Wd Sdng': 6,    'CmentBd': 7,     'BrkFace': 8,     'Stucco': 9,     'AsbShng': 10, \n",
    "    'Brk Cmn': 11,     'ImStucc': 12,    'AsphShn': 13,     'Stone': 14,     'Other': 15, \n",
    "    'CBlock': 16})\n",
    "\n",
    "dataset_teste['MasVnrType'] = dataset_teste['MasVnrType'].map({\n",
    "    'BrkFace': 1, 'None': 2, 'Stone': 3, 'BrkCmn': 4})\n",
    "\n",
    "dataset_teste['ExterQual'] = dataset_teste['ExterQual'].map({\n",
    "    'Gd': 1, 'TA': 2, 'Ex': 3, 'Fa': 4})\n",
    "\n",
    "dataset_teste['ExterCond'] = dataset_teste['ExterCond'].map({\n",
    "    'TA': 1, 'Gd': 2, 'Fa': 3, 'Po': 4, 'Ex': 5})\n",
    "\n",
    "dataset_teste['Foundation'] = dataset_teste['Foundation'].map({\n",
    "    'PConc': 1, 'CBlock': 2, 'BrkTil': 3, 'Wood': 4, 'Slab': 5, 'Stone': 6})\n",
    "\n",
    "dataset_teste['BsmtQual'] = dataset_teste['BsmtQual'].map({\n",
    "    'Gd': 1, 'TA': 2, 'Ex': 3, 'Fa': 4})\n",
    "\n",
    "dataset_teste['BsmtCond'] = dataset_teste['BsmtCond'].map({\n",
    "    'TA': 1, 'Gd': 2, 'Fa': 3, 'Po': 4})\n",
    "\n",
    "dataset_teste['BsmtExposure'] = dataset_teste['BsmtExposure'].map({\n",
    "    'No': 1, 'Gd': 2, 'Mn': 3, 'Av': 4})\n",
    "\n",
    "dataset_teste['BsmtFinType1'] = dataset_teste['BsmtFinType1'].map({\n",
    "    'GLQ': 1, 'ALQ': 2, 'Unf': 3, 'Rec': 4, 'BLQ': 5, 'LwQ': 6})\n",
    "\n",
    "dataset_teste['BsmtFinType2'] = dataset_teste['BsmtFinType2'].map({\n",
    "    'Unf': 1, 'BLQ': 2, 'ALQ': 3, 'Rec': 4, 'LwQ': 5, 'GLQ': 6})\n",
    "\n",
    "dataset_teste['Electrical'] = dataset_teste['Electrical'].map({\n",
    "    'SBrkr': 1, 'FuseF': 2, 'FuseA': 3, 'FuseP': 4, 'Mix': 5})\n",
    "\n",
    "dataset_teste['KitchenQual'] = dataset_teste['KitchenQual'].map({\n",
    "    'Gd': 1, 'TA': 2, 'Ex': 3, 'Fa': 4})\n",
    "\n",
    "dataset_teste['Functional'] = dataset_teste['Functional'].map({\n",
    "    'Typ': 1, 'Min1': 2, 'Maj1': 3, 'Min2': 4, 'Mod': 5, 'Maj2': 6, 'Sev': 7})\n",
    "\n",
    "dataset_teste['FireplaceQu'] = dataset_teste['FireplaceQu'].map({\n",
    "    'TA': 1, 'Gd': 2, 'Fa': 3, 'Ex': 4, 'Po': 5})\n",
    "\n",
    "dataset_teste['GarageType'] = dataset_teste['GarageType'].map({\n",
    "    'Attchd': 1, 'Detchd': 2, 'BuiltIn': 3, 'CarPort': 4, 'Basment': 5, '2Types': 6})\n",
    "\n",
    "dataset_teste['GarageFinish'] = dataset_teste['GarageFinish'].map({\n",
    "    'RFn': 1, 'Unf': 2, 'Fin': 3})\n",
    "\n",
    "dataset_teste['GarageQual'] = dataset_teste['GarageQual'].map({\n",
    "    'TA': 1, 'Fa': 2, 'Gd': 3, 'Ex': 4, 'Po': 5})\n",
    "\n",
    "dataset_teste['GarageCond'] = dataset_teste['GarageCond'].map({\n",
    "    'TA': 1, 'Fa': 2, 'Gd': 3, 'Po': 4, 'Ex': 5})\n",
    "\n",
    "dataset_teste['PavedDrive'] = dataset_teste['PavedDrive'].map({\n",
    "    'Y': 1, 'N': 2, 'P': 3})\n",
    "\n",
    "dataset_teste['MiscFeature'] = dataset_teste['MiscFeature'].map({\n",
    "    'Shed': 1, 'Gar2': 2, 'Othr': 3, 'TenC': 4})\n",
    "\n",
    "dataset_teste['CentralAir'] = dataset_teste['CentralAir'].map({\n",
    "    'Y': 1, 'N': 2})\n",
    "\n",
    "dataset_teste['SaleType'] = dataset_teste['SaleType'].map({\n",
    "    'WD': 1, 'New': 2, 'COD': 3, 'ConLD': 4, 'ConLI': 5, 'CWD': 6, 'ConLw': 7, 'Con': 8, 'Oth': 9})\n",
    "\n",
    "dataset_teste['Heating'] = dataset_teste['Heating'].map({\n",
    "    'GasA': 1, 'GasW': 2, 'Grav': 3, 'Wall': 4, 'OthW': 5, 'Floor': 6})\n",
    "\n",
    "dataset_teste['HeatingQC'] = dataset_teste['HeatingQC'].map({\n",
    "    'Ex': 1, 'Gd': 2, 'TA': 3, 'Fa': 4, 'Po': 5})\n",
    "\n",
    "dataset_teste['HeatingQC'] = dataset_teste['HeatingQC'].map({\n",
    "    'Ex': 1, 'Gd': 2, 'TA': 3, 'Fa': 4, 'Po': 5})\n",
    "\n",
    "dataset_teste['SaleType'] = dataset_teste['SaleType'].map({\n",
    "    'WD': 1, 'New': 2, 'COD': 3, 'ConLD': 4, 'ConLI': 5, 'CWD': 6, 'ConLw': 7, 'Con': 8, 'Oth': 9})"
   ]
  },
  {
   "cell_type": "code",
   "execution_count": 53,
   "metadata": {},
   "outputs": [],
   "source": [
    "#X2 =  dataset_teste.iloc[:, 1:2].values\n",
    "#X2 = dataset_teste.loc[:,['Id', 'MSZoning', 'Street', 'Alley', 'LotShape', 'SaleCondition', 'LandContour', 'Utilities', 'PoolQC', 'Fence']]\n",
    "X2 = dataset_teste"
   ]
  },
  {
   "cell_type": "code",
   "execution_count": 54,
   "metadata": {},
   "outputs": [],
   "source": [
    "pred_novas_casas = linear_reg.predict(X2)"
   ]
  },
  {
   "cell_type": "code",
   "execution_count": 55,
   "metadata": {},
   "outputs": [
    {
     "name": "stdout",
     "output_type": "stream",
     "text": "[117493.97684531 152436.54323663 169833.2126948  ... 180191.60979264\n 119327.63249086 253358.20409478]\n"
    }
   ],
   "source": [
    "print(pred_novas_casas)"
   ]
  },
  {
   "cell_type": "code",
   "metadata": {},
   "outputs": [],
   "source": [
    "dataset_teste.head()"
   ]
  },
  {
   "cell_type": "code",
   "metadata": {},
   "outputs": [],
   "source": [
    "dataset_teste.shape"
   ]
  },
  {
   "cell_type": "code",
   "metadata": {},
   "outputs": [],
   "source": [
    "pred_novas_casas.shape"
   ]
  },
  {
   "cell_type": "code",
   "execution_count": 56,
   "metadata": {},
   "outputs": [],
   "source": [
    "# criar a coluna SalePrice no dataset de teste e preencher com os valores preditos\n",
    "dataset_teste['SalePrice'] = pred_novas_casas"
   ]
  },
  {
   "cell_type": "code",
   "metadata": {},
   "outputs": [],
   "source": [
    "dataset_teste.head()"
   ]
  },
  {
   "cell_type": "code",
   "execution_count": 57,
   "metadata": {},
   "outputs": [],
   "source": [
    "w = dataset_teste.loc[:,['Id','SalePrice']]"
   ]
  },
  {
   "cell_type": "code",
   "metadata": {},
   "outputs": [],
   "source": [
    "print (w)"
   ]
  },
  {
   "cell_type": "code",
   "execution_count": 64,
   "metadata": {},
   "outputs": [
    {
     "ename": "TypeError",
     "evalue": "'DataFrame' object is not callable",
     "output_type": "error",
     "traceback": [
      "\u001b[1;31m---------------------------------------------------------------------------\u001b[0m",
      "\u001b[1;31mTypeError\u001b[0m                                 Traceback (most recent call last)",
      "\u001b[1;32m<ipython-input-64-9870d4ccd4a4>\u001b[0m in \u001b[0;36m<module>\u001b[1;34m\u001b[0m\n\u001b[1;32m----> 1\u001b[1;33m \u001b[0mdataset_teste\u001b[0m\u001b[1;33m(\u001b[0m\u001b[0my_test\u001b[0m\u001b[1;33m,\u001b[0m \u001b[0mpred_teste\u001b[0m\u001b[1;33m,\u001b[0m \u001b[0mdataset_teste\u001b[0m\u001b[1;33m)\u001b[0m\u001b[1;33m\u001b[0m\u001b[1;33m\u001b[0m\u001b[0m\n\u001b[0m",
      "\u001b[1;31mTypeError\u001b[0m: 'DataFrame' object is not callable"
     ]
    }
   ],
   "source": [
    "# visualizar na matriz de confusão\n",
    "dataset_teste(y_test, pred_teste, dataset_teste)"
   ]
  },
  {
   "cell_type": "code",
   "execution_count": 58,
   "metadata": {},
   "outputs": [],
   "source": [
    "# gerar o arquivo com o resultado\n",
    "w.to_csv(\"predition2.csv\",columns=[\"Id\",\"SalePrice\"],index=False)"
   ]
  },
  {
   "cell_type": "code",
   "metadata": {},
   "outputs": [],
   "source": []
  }
 ]
}