{
 "nbformat": 4,
 "nbformat_minor": 2,
 "metadata": {
  "language_info": {
   "name": "python",
   "codemirror_mode": {
    "name": "ipython",
    "version": 3
   },
   "version": "3.7.5"
  },
  "orig_nbformat": 2,
  "file_extension": ".py",
  "mimetype": "text/x-python",
  "name": "python",
  "npconvert_exporter": "python",
  "pygments_lexer": "ipython3",
  "version": 3
 },
 "cells": [
  {
   "cell_type": "code",
   "execution_count": 1,
   "metadata": {},
   "outputs": [],
   "source": [
    "import numpy as np\n",
    "import matplotlib.pyplot as plt\n",
    "import pandas as pd"
   ]
  },
  {
   "cell_type": "code",
   "execution_count": 2,
   "metadata": {},
   "outputs": [],
   "source": [
    "#dataset = pd.read_csv('/Users/aluno/Documents/GitHub/Pos/HXGP/pos-ds-ia-master/aulas/aula_13/train.csv')\n",
    "dataset = pd.read_csv('c:/Users/Herica/Desktop/Hérica/curso-ia-ciencia_dados/repositorio/GitHub/Pos/HXGP/pos-ds-ia-master/aulas/aula_13/train.csv')"
   ]
  },
  {
   "cell_type": "code",
   "metadata": {},
   "outputs": [],
   "source": [
    "# visualizar os valores unicos de cada coluna\n",
    "dataset[\"MSZoning\"].unique()"
   ]
  },
  {
   "cell_type": "code",
   "execution_count": 3,
   "metadata": {},
   "outputs": [],
   "source": [
    "# Fazer um dicionário da coluna MSZoning\n",
    "dataset['MSZoning'] = dataset['MSZoning'].map({\n",
    "    'RL': 1,     'RM': 2,    'FV': 3,     'RH': 4,    'C (all)': 5})\n",
    "\n",
    "# Substituindo os valores ausentes por zero\n",
    "dataset['MSZoning'].fillna(0, inplace=True)"
   ]
  },
  {
   "cell_type": "code",
   "metadata": {},
   "outputs": [],
   "source": [
    "dataset[\"Street\"].unique()"
   ]
  },
  {
   "cell_type": "code",
   "execution_count": 4,
   "metadata": {},
   "outputs": [],
   "source": [
    "# Fazer um dicionário da coluna Street\n",
    "dataset['Street'] = dataset['Street'].map({\n",
    "    'Pave': 1,     'Grvl': 2})\n",
    "    \n",
    "# Substituindo os valores ausentes por zero\n",
    "dataset['Street'].fillna(0, inplace=True)"
   ]
  },
  {
   "cell_type": "code",
   "metadata": {},
   "outputs": [],
   "source": [
    "dataset[\"Alley\"].unique() #beco"
   ]
  },
  {
   "cell_type": "code",
   "execution_count": 5,
   "metadata": {},
   "outputs": [],
   "source": [
    "# Fazer um dicionário da coluna Alley\n",
    "dataset['Alley'] = dataset['Alley'].map({\n",
    "    'Grvl': 1,    'Pave':2})\n",
    "\n",
    "# Substituindo os valores ausentes por zero\n",
    "dataset['Alley'].fillna(0, inplace=True)"
   ]
  },
  {
   "cell_type": "code",
   "metadata": {},
   "outputs": [],
   "source": [
    "dataset[\"LotShape\"].unique()"
   ]
  },
  {
   "cell_type": "code",
   "execution_count": 6,
   "metadata": {},
   "outputs": [],
   "source": [
    "# Fazer um dicionário da coluna LotShape\n",
    "dataset['LotShape'] = dataset['LotShape'].map({\n",
    "    'Reg': 1,     'IR1': 2,    'IR2':3,    'IR3':4})\n",
    "\n",
    "# Substituindo os valores ausentes por zero\n",
    "dataset['LotShape'].fillna(0, inplace=True)"
   ]
  },
  {
   "cell_type": "code",
   "metadata": {},
   "outputs": [],
   "source": [
    "dataset[\"SaleCondition\"].unique()"
   ]
  },
  {
   "cell_type": "code",
   "execution_count": 7,
   "metadata": {},
   "outputs": [],
   "source": [
    "# Fazer um dicionário da coluna LotShape\n",
    "dataset['SaleCondition'] = dataset['SaleCondition'].map({\n",
    "    'Normal': 1,     'Abnorml': 2,    'Partial':3,    'AdjLand':4,    'Alloca':5,    'Family':6})\n",
    "\n",
    "# Substituindo os valores ausentes por zero\n",
    "dataset['SaleCondition'].fillna(0, inplace=True)"
   ]
  },
  {
   "cell_type": "code",
   "metadata": {},
   "outputs": [],
   "source": [
    "dataset[\"LandContour\"].unique()"
   ]
  },
  {
   "cell_type": "code",
   "execution_count": 8,
   "metadata": {},
   "outputs": [],
   "source": [
    "# Fazer um dicionário da coluna LotShape\n",
    "dataset['LandContour'] = dataset['LandContour'].map({\n",
    "    'Lvl': 1, 'Bnk': 2, 'Low':3,  'HLS':4})\n",
    "\n",
    "# Substituindo os valores ausentes por zero\n",
    "dataset['LandContour'].fillna(0, inplace=True)"
   ]
  },
  {
   "cell_type": "code",
   "metadata": {},
   "outputs": [],
   "source": [
    "dataset[\"Utilities\"].unique()"
   ]
  },
  {
   "cell_type": "code",
   "execution_count": 9,
   "metadata": {},
   "outputs": [],
   "source": [
    "# Fazer um dicionário da coluna Utilities\n",
    "dataset['Utilities'] = dataset['Utilities'].map({\n",
    "    'AllPub': 1,     'NoSeWa': 2})\n",
    "\n",
    "# Substituindo os valores ausentes por zero\n",
    "dataset['Utilities'].fillna(0, inplace=True)"
   ]
  },
  {
   "cell_type": "code",
   "metadata": {},
   "outputs": [],
   "source": [
    "dataset[\"PoolQC\"].unique()"
   ]
  },
  {
   "cell_type": "code",
   "execution_count": 10,
   "metadata": {},
   "outputs": [],
   "source": [
    "# Fazer um dicionário da coluna PoolQC\n",
    "dataset['PoolQC'] = dataset['PoolQC'].map({\n",
    "    'Ex': 1,    'Fa':2,    'Gd':3})\n",
    "\n",
    "# Substituindo os valores ausentes por zero\n",
    "dataset['PoolQC'].fillna(0, inplace=True)"
   ]
  },
  {
   "cell_type": "code",
   "metadata": {},
   "outputs": [],
   "source": [
    "dataset[\"Fence\"].unique()   # cerca"
   ]
  },
  {
   "cell_type": "code",
   "execution_count": 11,
   "metadata": {},
   "outputs": [],
   "source": [
    "# Fazer um dicionário da coluna Fence\n",
    "dataset['Fence'] = dataset['Fence'].map({\n",
    "    'MnPrv': 1,    'GdWo':2,    'GdPrv':3,    'MnWw':4})\n",
    "\n",
    "# Substituindo os valores ausentes por zero\n",
    "dataset['Fence'].fillna(0, inplace=True)"
   ]
  },
  {
   "cell_type": "code",
   "metadata": {},
   "outputs": [],
   "source": [
    "dataset[\"LotConfig\"].unique()"
   ]
  },
  {
   "cell_type": "code",
   "execution_count": 12,
   "metadata": {},
   "outputs": [],
   "source": [
    "# Fazer um dicionário\n",
    "dataset['LotConfig'] = dataset['LotConfig'].map({\n",
    "    'Inside':1,     'FR2': 2,     'Corner': 3,     'CulDSac': 4,     'FR3':5})\n",
    "    \n",
    "# Substituindo os valores ausentes por zero\n",
    "dataset['LotConfig'].fillna(0, inplace=True)"
   ]
  },
  {
   "cell_type": "code",
   "execution_count": 83,
   "metadata": {},
   "outputs": [
    {
     "data": {
      "text/plain": "array([1, 2, 3], dtype=int64)"
     },
     "execution_count": 83,
     "metadata": {},
     "output_type": "execute_result"
    }
   ],
   "source": [
    "dataset[\"LandSlope\"].unique() #Inclinação da terra"
   ]
  },
  {
   "cell_type": "code",
   "execution_count": 13,
   "metadata": {},
   "outputs": [],
   "source": [
    "# Fazer um dicionário\n",
    "dataset['LandSlope'] = dataset['LandSlope'].map({\n",
    "    'Gtl':1,    'Mod': 2,     'Sev': 3})\n",
    "\n",
    "# Substituindo os valores ausentes por zero\n",
    "dataset['LandSlope'].fillna(0, inplace=True)"
   ]
  },
  {
   "cell_type": "code",
   "execution_count": 84,
   "metadata": {},
   "outputs": [
    {
     "data": {
      "text/plain": "array(['CollgCr', 'Veenker', 'Crawfor', 'NoRidge', 'Mitchel', 'Somerst',\n       'NWAmes', 'OldTown', 'BrkSide', 'Sawyer', 'NridgHt', 'NAmes',\n       'SawyerW', 'IDOTRR', 'MeadowV', 'Edwards', 'Timber', 'Gilbert',\n       'StoneBr', 'ClearCr', 'NPkVill', 'Blmngtn', 'BrDale', 'SWISU',\n       'Blueste'], dtype=object)"
     },
     "execution_count": 84,
     "metadata": {},
     "output_type": "execute_result"
    }
   ],
   "source": [
    "dataset[\"Neighborhood\"].unique()"
   ]
  },
  {
   "cell_type": "code",
   "execution_count": 14,
   "metadata": {},
   "outputs": [],
   "source": [
    "# Fazer um dicionário\n",
    "dataset['Neighborhood'] = dataset['Neighborhood'].map({\n",
    "    'CollgCr':1,    'Veenker': 2,     'Crawfor': 3, \n",
    "    'NoRidge': 4,     'Mitchel': 5,     'Somerst': 6, \n",
    "    'NWAmes': 7,     'OldTown': 8,     'BrkSide': 9, \n",
    "    'Sawyer': 10,     'NridgHt': 11,     'NAmes': 12, \n",
    "    'SawyerW': 13,     'IDOTRR': 14,     'MeadowV': 15, \n",
    "    'Edwards': 16,     'Timber': 17,     'Gilbert': 18, \n",
    "    'StoneBr': 19,     'ClearCr': 20,     'NPkVill': 21, \n",
    "    'Blmngtn': 22,     'BrDale': 23,     'SWISU': 24, \n",
    "    'Blueste': 25})\n",
    "\n",
    "# Substituindo os valores ausentes por zero\n",
    "dataset['Neighborhood'].fillna(0, inplace=True)"
   ]
  },
  {
   "cell_type": "code",
   "execution_count": 89,
   "metadata": {},
   "outputs": [
    {
     "data": {
      "text/plain": "array([1, 2, 3, 4, 5, 6, 7, 8, 9], dtype=int64)"
     },
     "execution_count": 89,
     "metadata": {},
     "output_type": "execute_result"
    }
   ],
   "source": [
    "dataset[\"Condition1\"].unique()"
   ]
  },
  {
   "cell_type": "code",
   "execution_count": 15,
   "metadata": {},
   "outputs": [],
   "source": [
    "# Fazer um dicionário\n",
    "dataset['Condition1'] = dataset['Condition1'].map({\n",
    "    'Norm': 1,     'Feedr': 2,     'PosN': 3,     'Artery': 4,     'RRAe': 5, \n",
    "    'RRNn': 6,     'RRAn': 7,     'PosA': 8,    'RRNe': 9})\n",
    "\n",
    "# Substituindo os valores ausentes por zero\n",
    "dataset['Condition1'].fillna(0, inplace=True)"
   ]
  },
  {
   "cell_type": "code",
   "execution_count": 92,
   "metadata": {},
   "outputs": [
    {
     "data": {
      "text/plain": "array([1, 2, 3, 4, 5, 6, 7, 8], dtype=int64)"
     },
     "execution_count": 92,
     "metadata": {},
     "output_type": "execute_result"
    }
   ],
   "source": [
    "dataset[\"Condition2\"].unique()"
   ]
  },
  {
   "cell_type": "code",
   "execution_count": 16,
   "metadata": {},
   "outputs": [],
   "source": [
    "# Fazer um dicionário\n",
    "dataset['Condition2'] = dataset['Condition2'].map({\n",
    "    'Norm': 1,     'Artery': 2,     'RRNn': 3,     'Feedr': 4,     'PosN': 5,     'PosA': 6,     'RRAn': 7,     'RRAe': 8})\n",
    "\n",
    "# Substituindo os valores ausentes por zero\n",
    "dataset['Condition2'].fillna(0, inplace=True)"
   ]
  },
  {
   "cell_type": "code",
   "execution_count": 95,
   "metadata": {},
   "outputs": [
    {
     "data": {
      "text/plain": "array([1, 2, 3, 4, 5], dtype=int64)"
     },
     "execution_count": 95,
     "metadata": {},
     "output_type": "execute_result"
    }
   ],
   "source": [
    "dataset[\"BldgType\"].unique()"
   ]
  },
  {
   "cell_type": "code",
   "execution_count": 17,
   "metadata": {},
   "outputs": [],
   "source": [
    "# Fazer um dicionário\n",
    "dataset['BldgType'] = dataset['BldgType'].map({\n",
    "    '1Fam': 1,    '2fmCon': 2,     'Duplex': 3,     'TwnhsE': 4,     'Twnhs': 5})\n",
    "\n",
    "# Substituindo os valores ausentes por zero\n",
    "dataset['BldgType'].fillna(0, inplace=True)"
   ]
  },
  {
   "cell_type": "code",
   "execution_count": 98,
   "metadata": {},
   "outputs": [
    {
     "data": {
      "text/plain": "array([1, 2, 3, 4, 5, 6, 7, 8], dtype=int64)"
     },
     "execution_count": 98,
     "metadata": {},
     "output_type": "execute_result"
    }
   ],
   "source": [
    "dataset[\"HouseStyle\"].unique()"
   ]
  },
  {
   "cell_type": "code",
   "execution_count": 18,
   "metadata": {},
   "outputs": [],
   "source": [
    "# Fazer um dicionário\n",
    "dataset['HouseStyle'] = dataset['HouseStyle'].map({\n",
    "    '2Story': 1,    '1Story': 2,     '1.5Fin': 3,     '1.5Unf': 4, \n",
    "    'SFoyer': 5,     'SLvl': 6,     '2.5Unf': 7,    '2.5Fin': 8})\n",
    "\n",
    "# Substituindo os valores ausentes por zero\n",
    "dataset['HouseStyle'].fillna(0, inplace=True)"
   ]
  },
  {
   "cell_type": "code",
   "execution_count": 101,
   "metadata": {},
   "outputs": [
    {
     "data": {
      "text/plain": "array([1, 2, 3, 4, 5, 6], dtype=int64)"
     },
     "execution_count": 101,
     "metadata": {},
     "output_type": "execute_result"
    }
   ],
   "source": [
    "dataset[\"RoofStyle\"].unique()\n"
   ]
  },
  {
   "cell_type": "code",
   "execution_count": 19,
   "metadata": {},
   "outputs": [],
   "source": [
    "# Fazer um dicionário\n",
    "dataset['RoofStyle'] = dataset['RoofStyle'].map({\n",
    "    'Gable': 1,     'Hip': 2,     'Gambrel': 3, \n",
    "    'Mansard': 4,     'Flat': 5,     'Shed': 6})\n",
    "\n",
    "# Substituindo os valores ausentes por zero\n",
    "dataset['RoofStyle'].fillna(0, inplace=True)"
   ]
  },
  {
   "cell_type": "code",
   "execution_count": 102,
   "metadata": {},
   "outputs": [
    {
     "data": {
      "text/plain": "array(['CompShg', 'WdShngl', 'Metal', 'WdShake', 'Membran', 'Tar&Grv',\n       'Roll', 'ClyTile'], dtype=object)"
     },
     "execution_count": 102,
     "metadata": {},
     "output_type": "execute_result"
    }
   ],
   "source": [
    "dataset[\"RoofMatl\"].unique()"
   ]
  },
  {
   "cell_type": "code",
   "execution_count": 20,
   "metadata": {},
   "outputs": [],
   "source": [
    "# Fazer um dicionário\n",
    "dataset['RoofMatl'] = dataset['RoofMatl'].map({\n",
    "    'CompShg': 1,     'WdShngl': 2,     'Metal': 3,     'WdShake': 4, \n",
    "    'Membran': 5,     'Tar&Grv': 6,     'Roll': 7,      'ClyTile': 8})\n",
    "\n",
    "# Substituindo os valores ausentes por zero\n",
    "dataset['RoofMatl'].fillna(0, inplace=True)"
   ]
  },
  {
   "cell_type": "code",
   "execution_count": 106,
   "metadata": {},
   "outputs": [
    {
     "data": {
      "text/plain": "array([ 1,  2,  3,  4,  5,  6,  7,  8,  9, 10, 11, 12, 13, 14, 15],\n      dtype=int64)"
     },
     "execution_count": 106,
     "metadata": {},
     "output_type": "execute_result"
    }
   ],
   "source": [
    "dataset[\"Exterior1st\"].unique()\t"
   ]
  },
  {
   "cell_type": "code",
   "execution_count": 21,
   "metadata": {},
   "outputs": [],
   "source": [
    "# Fazer um dicionário\n",
    "dataset['Exterior1st'] = dataset['Exterior1st'].map({\n",
    "    'VinylSd': 1,     'MetalSd': 2,     'Wd Sdng': 3,     'HdBoard': 4,     'BrkFace': 5, \n",
    "    'WdShing': 6,    'CemntBd': 7,     'Plywood': 8,     'AsbShng': 9,     'Stucco': 10, \n",
    "    'BrkComm': 11,     'AsphShn': 12,    'Stone': 13,     'ImStucc': 14,     'CBlock': 15})\n",
    "\n",
    "# Substituindo os valores ausentes por zero\n",
    "dataset['Exterior1st'].fillna(0, inplace=True)"
   ]
  },
  {
   "cell_type": "code",
   "execution_count": 109,
   "metadata": {},
   "outputs": [
    {
     "data": {
      "text/plain": "array([ 1,  2,  3,  4,  5,  6,  7,  8,  9, 10, 11, 12, 13, 14, 15, 16],\n      dtype=int64)"
     },
     "execution_count": 109,
     "metadata": {},
     "output_type": "execute_result"
    }
   ],
   "source": [
    "\n",
    "dataset[\"Exterior2nd\"].unique()\t"
   ]
  },
  {
   "cell_type": "code",
   "execution_count": 22,
   "metadata": {},
   "outputs": [],
   "source": [
    "# Fazer um dicionário\n",
    "dataset['Exterior2nd'] = dataset['Exterior2nd'].map({\n",
    "    'VinylSd': 1,     'MetalSd': 2,     'Wd Shng': 3,     'HdBoard': 4,     'Plywood': 5, \n",
    "    'Wd Sdng': 6,    'CmentBd': 7,     'BrkFace': 8,     'Stucco': 9,     'AsbShng': 10, \n",
    "    'Brk Cmn': 11,     'ImStucc': 12,    'AsphShn': 13,     'Stone': 14,     'Other': 15, \n",
    "    'CBlock': 16})\n",
    "\n",
    "# Substituindo os valores ausentes por zero\n",
    "dataset['Exterior2nd'].fillna(0, inplace=True)"
   ]
  },
  {
   "cell_type": "code",
   "execution_count": 112,
   "metadata": {},
   "outputs": [
    {
     "data": {
      "text/plain": "array([1., 2., 3., 4., 0.])"
     },
     "execution_count": 112,
     "metadata": {},
     "output_type": "execute_result"
    }
   ],
   "source": [
    "\n",
    "dataset[\"MasVnrType\"].unique()"
   ]
  },
  {
   "cell_type": "code",
   "execution_count": 23,
   "metadata": {},
   "outputs": [],
   "source": [
    "# Fazer um dicionário\n",
    "dataset['MasVnrType'] = dataset['MasVnrType'].map({\n",
    "    'BrkFace': 1, 'None': 2, 'Stone': 3, 'BrkCmn': 4})\n",
    "\n",
    "# Substituindo os valores ausentes por zero\n",
    "dataset['MasVnrType'].fillna(0, inplace=True)"
   ]
  },
  {
   "cell_type": "code",
   "execution_count": 115,
   "metadata": {},
   "outputs": [
    {
     "data": {
      "text/plain": "array([1, 2, 3, 4], dtype=int64)"
     },
     "execution_count": 115,
     "metadata": {},
     "output_type": "execute_result"
    }
   ],
   "source": [
    "\n",
    "dataset[\"ExterQual\"].unique()"
   ]
  },
  {
   "cell_type": "code",
   "execution_count": 24,
   "metadata": {},
   "outputs": [],
   "source": [
    "# Fazer um dicionário\n",
    "dataset['ExterQual'] = dataset['ExterQual'].map({\n",
    "    'Gd': 1, 'TA': 2, 'Ex': 3, 'Fa': 4})\n",
    "\n",
    "# Substituindo os valores ausentes por zero\n",
    "dataset['ExterQual'].fillna(0, inplace=True)"
   ]
  },
  {
   "cell_type": "code",
   "execution_count": 116,
   "metadata": {},
   "outputs": [
    {
     "data": {
      "text/plain": "array(['TA', 'Gd', 'Fa', 'Po', 'Ex'], dtype=object)"
     },
     "execution_count": 116,
     "metadata": {},
     "output_type": "execute_result"
    }
   ],
   "source": [
    "\t\n",
    "dataset[\"ExterCond\"].unique()"
   ]
  },
  {
   "cell_type": "code",
   "execution_count": 25,
   "metadata": {},
   "outputs": [],
   "source": [
    "# Fazer um dicionário\n",
    "dataset['ExterCond'] = dataset['ExterCond'].map({\n",
    "    'TA': 1, 'Gd': 2, 'Fa': 3, 'Po': 4, 'Ex': 5})\n",
    "\n",
    "# Substituindo os valores ausentes por zero\n",
    "dataset['ExterCond'].fillna(0, inplace=True)"
   ]
  },
  {
   "cell_type": "code",
   "execution_count": 120,
   "metadata": {},
   "outputs": [
    {
     "data": {
      "text/plain": "array([1, 2, 3, 4, 5, 6], dtype=int64)"
     },
     "execution_count": 120,
     "metadata": {},
     "output_type": "execute_result"
    }
   ],
   "source": [
    "\t\n",
    "dataset[\"Foundation\"].unique()"
   ]
  },
  {
   "cell_type": "code",
   "execution_count": 26,
   "metadata": {},
   "outputs": [],
   "source": [
    "# Fazer um dicionário\n",
    "dataset['Foundation'] = dataset['Foundation'].map({\n",
    "    'PConc': 1, 'CBlock': 2, 'BrkTil': 3, 'Wood': 4, 'Slab': 5, 'Stone': 6})\n",
    "\n",
    "# Substituindo os valores ausentes por zero\n",
    "dataset['Foundation'].fillna(0, inplace=True)"
   ]
  },
  {
   "cell_type": "code",
   "execution_count": 123,
   "metadata": {},
   "outputs": [
    {
     "data": {
      "text/plain": "array([1., 2., 3., 0., 4.])"
     },
     "execution_count": 123,
     "metadata": {},
     "output_type": "execute_result"
    }
   ],
   "source": [
    "\t\n",
    "dataset[\"BsmtQual\"].unique()"
   ]
  },
  {
   "cell_type": "code",
   "execution_count": 27,
   "metadata": {},
   "outputs": [],
   "source": [
    "# Fazer um dicionário\n",
    "dataset['BsmtQual'] = dataset['BsmtQual'].map({\n",
    "    'Gd': 1, 'TA': 2, 'Ex': 3, 'Fa': 4})\n",
    "\n",
    "# Substituindo os valores ausentes por zero\n",
    "dataset['BsmtQual'].fillna(0, inplace=True)"
   ]
  },
  {
   "cell_type": "code",
   "execution_count": 126,
   "metadata": {},
   "outputs": [
    {
     "data": {
      "text/plain": "array([1., 2., 0., 3., 4.])"
     },
     "execution_count": 126,
     "metadata": {},
     "output_type": "execute_result"
    }
   ],
   "source": [
    "\t\n",
    "dataset[\"BsmtCond\"].unique()"
   ]
  },
  {
   "cell_type": "code",
   "execution_count": 28,
   "metadata": {},
   "outputs": [],
   "source": [
    "# Fazer um dicionário\n",
    "dataset['BsmtCond'] = dataset['BsmtCond'].map({\n",
    "    'TA': 1, 'Gd': 2, 'Fa': 3, 'Po': 4})\n",
    "\n",
    "# Substituindo os valores ausentes por zero\n",
    "dataset['BsmtCond'].fillna(0, inplace=True)"
   ]
  },
  {
   "cell_type": "code",
   "execution_count": 129,
   "metadata": {},
   "outputs": [
    {
     "data": {
      "text/plain": "array([1., 2., 3., 4., 0.])"
     },
     "execution_count": 129,
     "metadata": {},
     "output_type": "execute_result"
    }
   ],
   "source": [
    "\t\n",
    "dataset[\"BsmtExposure\"].unique()"
   ]
  },
  {
   "cell_type": "code",
   "execution_count": 29,
   "metadata": {},
   "outputs": [],
   "source": [
    "# Fazer um dicionário\n",
    "dataset['BsmtExposure'] = dataset['BsmtExposure'].map({\n",
    "    'No': 1, 'Gd': 2, 'Mn': 3, 'Av': 4})\n",
    "\n",
    "# Substituindo os valores ausentes por zero\n",
    "dataset['BsmtExposure'].fillna(0, inplace=True)"
   ]
  },
  {
   "cell_type": "code",
   "execution_count": 132,
   "metadata": {},
   "outputs": [
    {
     "data": {
      "text/plain": "array([1., 2., 3., 4., 5., 0., 6.])"
     },
     "execution_count": 132,
     "metadata": {},
     "output_type": "execute_result"
    }
   ],
   "source": [
    "\t\n",
    "dataset[\"BsmtFinType1\"].unique()"
   ]
  },
  {
   "cell_type": "code",
   "execution_count": 30,
   "metadata": {},
   "outputs": [],
   "source": [
    "# Fazer um dicionário\n",
    "dataset['BsmtFinType1'] = dataset['BsmtFinType1'].map({\n",
    "    'GLQ': 1, 'ALQ': 2, 'Unf': 3, 'Rec': 4, 'BLQ': 5, 'LwQ': 6})\n",
    "\n",
    "# Substituindo os valores ausentes por zero\n",
    "dataset['BsmtFinType1'].fillna(0, inplace=True)"
   ]
  },
  {
   "cell_type": "code",
   "execution_count": 135,
   "metadata": {},
   "outputs": [
    {
     "data": {
      "text/plain": "array([1., 2., 0., 3., 4., 5., 6.])"
     },
     "execution_count": 135,
     "metadata": {},
     "output_type": "execute_result"
    }
   ],
   "source": [
    "\n",
    "dataset[\"BsmtFinType2\"].unique()"
   ]
  },
  {
   "cell_type": "code",
   "execution_count": 31,
   "metadata": {},
   "outputs": [],
   "source": [
    "# Fazer um dicionário\n",
    "dataset['BsmtFinType2'] = dataset['BsmtFinType2'].map({\n",
    "    'Unf': 1, 'BLQ': 2, 'ALQ': 3, 'Rec': 4, 'LwQ': 5, 'GLQ': 6})\n",
    "\n",
    "# Substituindo os valores ausentes por zero\n",
    "dataset['BsmtFinType2'].fillna(0, inplace=True)"
   ]
  },
  {
   "cell_type": "code",
   "execution_count": 138,
   "metadata": {},
   "outputs": [
    {
     "data": {
      "text/plain": "array([1., 2., 3., 4., 5., 0.])"
     },
     "execution_count": 138,
     "metadata": {},
     "output_type": "execute_result"
    }
   ],
   "source": [
    "\n",
    "dataset[\"Electrical\"].unique()"
   ]
  },
  {
   "cell_type": "code",
   "execution_count": 32,
   "metadata": {},
   "outputs": [],
   "source": [
    "# Fazer um dicionário\n",
    "dataset['Electrical'] = dataset['Electrical'].map({\n",
    "    'SBrkr': 1, 'FuseF': 2, 'FuseA': 3, 'FuseP': 4, 'Mix': 5})\n",
    "\n",
    "# Substituindo os valores ausentes por zero\n",
    "dataset['Electrical'].fillna(0, inplace=True)"
   ]
  },
  {
   "cell_type": "code",
   "execution_count": 141,
   "metadata": {},
   "outputs": [
    {
     "data": {
      "text/plain": "array([1, 2, 3, 4], dtype=int64)"
     },
     "execution_count": 141,
     "metadata": {},
     "output_type": "execute_result"
    }
   ],
   "source": [
    "\n",
    "dataset[\"KitchenQual\"].unique()"
   ]
  },
  {
   "cell_type": "code",
   "execution_count": 33,
   "metadata": {},
   "outputs": [],
   "source": [
    "# Fazer um dicionário\n",
    "dataset['KitchenQual'] = dataset['KitchenQual'].map({\n",
    "    'Gd': 1, 'TA': 2, 'Ex': 3, 'Fa': 4})\n",
    "\n",
    "# Substituindo os valores ausentes por zero\n",
    "dataset['KitchenQual'].fillna(0, inplace=True)"
   ]
  },
  {
   "cell_type": "code",
   "execution_count": 144,
   "metadata": {},
   "outputs": [
    {
     "data": {
      "text/plain": "array([1, 2, 3, 4, 5, 6, 7], dtype=int64)"
     },
     "execution_count": 144,
     "metadata": {},
     "output_type": "execute_result"
    }
   ],
   "source": [
    "\n",
    "dataset[\"Functional\"].unique()"
   ]
  },
  {
   "cell_type": "code",
   "execution_count": 34,
   "metadata": {},
   "outputs": [],
   "source": [
    "# Fazer um dicionário\n",
    "dataset['Functional'] = dataset['Functional'].map({\n",
    "    'Typ': 1, 'Min1': 2, 'Maj1': 3, 'Min2': 4, 'Mod': 5, 'Maj2': 6, 'Sev': 7})\n",
    "\n",
    "# Substituindo os valores ausentes por zero\n",
    "dataset['Functional'].fillna(0, inplace=True)"
   ]
  },
  {
   "cell_type": "code",
   "execution_count": 147,
   "metadata": {},
   "outputs": [
    {
     "data": {
      "text/plain": "array([0., 1., 2., 3., 4., 5.])"
     },
     "execution_count": 147,
     "metadata": {},
     "output_type": "execute_result"
    }
   ],
   "source": [
    "\n",
    "dataset[\"FireplaceQu\"].unique()"
   ]
  },
  {
   "cell_type": "code",
   "execution_count": 34,
   "metadata": {},
   "outputs": [],
   "source": [
    "# Fazer um dicionário\n",
    "dataset['FireplaceQu'] = dataset['FireplaceQu'].map({\n",
    "    'TA': 1, 'Gd': 2, 'Fa': 3, 'Ex': 4, 'Po': 5})\n",
    "\n",
    "# Substituindo os valores ausentes por zero\n",
    "dataset['FireplaceQu'].fillna(0, inplace=True)"
   ]
  },
  {
   "cell_type": "code",
   "execution_count": 150,
   "metadata": {},
   "outputs": [
    {
     "data": {
      "text/plain": "array([1., 2., 3., 4., 0., 5., 6.])"
     },
     "execution_count": 150,
     "metadata": {},
     "output_type": "execute_result"
    }
   ],
   "source": [
    "dataset[\"GarageType\"].unique()"
   ]
  },
  {
   "cell_type": "code",
   "execution_count": 35,
   "metadata": {},
   "outputs": [],
   "source": [
    "# Fazer um dicionário\n",
    "dataset['GarageType'] = dataset['GarageType'].map({\n",
    "    'Attchd': 1, 'Detchd': 2, 'BuiltIn': 3, 'CarPort': 4, 'Basment': 5, '2Types': 6})\n",
    "\n",
    "# Substituindo os valores ausentes por zero\n",
    "dataset['GarageType'].fillna(0, inplace=True)"
   ]
  },
  {
   "cell_type": "code",
   "execution_count": 153,
   "metadata": {},
   "outputs": [
    {
     "data": {
      "text/plain": "array([1., 2., 3., 0.])"
     },
     "execution_count": 153,
     "metadata": {},
     "output_type": "execute_result"
    }
   ],
   "source": [
    "dataset[\"GarageFinish\"].unique()"
   ]
  },
  {
   "cell_type": "code",
   "execution_count": 36,
   "metadata": {},
   "outputs": [],
   "source": [
    "# Fazer um dicionário\n",
    "dataset['GarageFinish'] = dataset['GarageFinish'].map({\n",
    "    'RFn': 1, 'Unf': 2, 'Fin': 3})\n",
    "\n",
    "# Substituindo os valores ausentes por zero\n",
    "dataset['GarageFinish'].fillna(0, inplace=True)"
   ]
  },
  {
   "cell_type": "code",
   "execution_count": 156,
   "metadata": {},
   "outputs": [
    {
     "data": {
      "text/plain": "array([1., 2., 3., 0., 4., 5.])"
     },
     "execution_count": 156,
     "metadata": {},
     "output_type": "execute_result"
    }
   ],
   "source": [
    "dataset[\"GarageQual\"].unique()"
   ]
  },
  {
   "cell_type": "code",
   "execution_count": 37,
   "metadata": {},
   "outputs": [],
   "source": [
    "# Fazer um dicionário\n",
    "dataset['GarageQual'] = dataset['GarageQual'].map({\n",
    "    'TA': 1, 'Fa': 2, 'Gd': 3, 'Ex': 4, 'Po': 5})\n",
    "\n",
    "# Substituindo os valores ausentes por zero\n",
    "dataset['GarageQual'].fillna(0, inplace=True)"
   ]
  },
  {
   "cell_type": "code",
   "execution_count": 159,
   "metadata": {},
   "outputs": [
    {
     "data": {
      "text/plain": "array([1., 2., 0., 3., 4., 5.])"
     },
     "execution_count": 159,
     "metadata": {},
     "output_type": "execute_result"
    }
   ],
   "source": [
    "dataset[\"GarageCond\"].unique()"
   ]
  },
  {
   "cell_type": "code",
   "execution_count": 38,
   "metadata": {},
   "outputs": [],
   "source": [
    "# Fazer um dicionário\n",
    "dataset['GarageCond'] = dataset['GarageCond'].map({\n",
    "    'TA': 1, 'Fa': 2, 'Gd': 3, 'Po': 4, 'Ex': 5})\n",
    "\n",
    "# Substituindo os valores ausentes por zero\n",
    "dataset['GarageCond'].fillna(0, inplace=True)"
   ]
  },
  {
   "cell_type": "code",
   "execution_count": 162,
   "metadata": {},
   "outputs": [
    {
     "data": {
      "text/plain": "array([1, 2, 3], dtype=int64)"
     },
     "execution_count": 162,
     "metadata": {},
     "output_type": "execute_result"
    }
   ],
   "source": [
    "dataset[\"PavedDrive\"].unique()"
   ]
  },
  {
   "cell_type": "code",
   "execution_count": 39,
   "metadata": {},
   "outputs": [],
   "source": [
    "# Fazer um dicionário\n",
    "dataset['PavedDrive'] = dataset['PavedDrive'].map({\n",
    "    'Y': 1, 'N': 2, 'P': 3})\n",
    "\n",
    "# Substituindo os valores ausentes por zero\n",
    "dataset['PavedDrive'].fillna(0, inplace=True)"
   ]
  },
  {
   "cell_type": "code",
   "execution_count": 165,
   "metadata": {},
   "outputs": [
    {
     "data": {
      "text/plain": "array([0., 1., 2., 3., 4.])"
     },
     "execution_count": 165,
     "metadata": {},
     "output_type": "execute_result"
    }
   ],
   "source": [
    "dataset[\"MiscFeature\"].unique()"
   ]
  },
  {
   "cell_type": "code",
   "execution_count": 40,
   "metadata": {},
   "outputs": [],
   "source": [
    "# Fazer um dicionário\n",
    "dataset['MiscFeature'] = dataset['MiscFeature'].map({\n",
    "    'Shed': 1, 'Gar2': 2, 'Othr': 3, 'TenC': 4})\n",
    "\n",
    "# Substituindo os valores ausentes por zero\n",
    "dataset['MiscFeature'].fillna(0, inplace=True)"
   ]
  },
  {
   "cell_type": "code",
   "execution_count": 169,
   "metadata": {},
   "outputs": [
    {
     "data": {
      "text/plain": "array([1, 2], dtype=int64)"
     },
     "execution_count": 169,
     "metadata": {},
     "output_type": "execute_result"
    }
   ],
   "source": [
    "dataset[\"CentralAir\"].unique()"
   ]
  },
  {
   "cell_type": "code",
   "execution_count": 41,
   "metadata": {},
   "outputs": [],
   "source": [
    "# Fazer um dicionário\n",
    "dataset['CentralAir'] = dataset['CentralAir'].map({\n",
    "    'Y': 1, 'N': 2})\n",
    "\n",
    "# Substituindo os valores ausentes por zero\n",
    "dataset['CentralAir'].fillna(0, inplace=True)"
   ]
  },
  {
   "cell_type": "code",
   "execution_count": 44,
   "metadata": {},
   "outputs": [
    {
     "data": {
      "text/plain": "array(['WD', 'New', 'COD', 'ConLD', 'ConLI', 'CWD', 'ConLw', 'Con', 'Oth'],\n      dtype=object)"
     },
     "execution_count": 44,
     "metadata": {},
     "output_type": "execute_result"
    }
   ],
   "source": [
    "dataset[\"SaleType\"].unique()"
   ]
  },
  {
   "cell_type": "code",
   "execution_count": 42,
   "metadata": {},
   "outputs": [],
   "source": [
    "# Fazer um dicionário\n",
    "dataset['SaleType'] = dataset['SaleType'].map({\n",
    "    'WD': 1, 'New': 2, 'COD': 3, 'ConLD': 4, 'ConLI': 5, 'CWD': 6, 'ConLw': 7, 'Con': 8, 'Oth': 9})\n",
    "\n",
    "# Substituindo os valores ausentes por zero\n",
    "dataset['SaleType'].fillna(0, inplace=True)"
   ]
  },
  {
   "cell_type": "code",
   "execution_count": 52,
   "metadata": {},
   "outputs": [
    {
     "data": {
      "text/plain": "array(['GasA', 'GasW', 'Grav', 'Wall', 'OthW', 'Floor'], dtype=object)"
     },
     "execution_count": 52,
     "metadata": {},
     "output_type": "execute_result"
    }
   ],
   "source": [
    "dataset[\"Heating\"].unique()"
   ]
  },
  {
   "cell_type": "code",
   "execution_count": 43,
   "metadata": {},
   "outputs": [],
   "source": [
    "# Fazer um dicionário\n",
    "dataset['Heating'] = dataset['Heating'].map({\n",
    "    'GasA': 1, 'GasW': 2, 'Grav': 3, 'Wall': 4, 'OthW': 5, 'Floor': 6})\n",
    "\n",
    "# Substituindo os valores ausentes por zero\n",
    "dataset['Heating'].fillna(0, inplace=True)"
   ]
  },
  {
   "cell_type": "code",
   "execution_count": 54,
   "metadata": {},
   "outputs": [
    {
     "data": {
      "text/plain": "array(['Ex', 'Gd', 'TA', 'Fa', 'Po'], dtype=object)"
     },
     "execution_count": 54,
     "metadata": {},
     "output_type": "execute_result"
    }
   ],
   "source": [
    "dataset[\"HeatingQC\"].unique()"
   ]
  },
  {
   "cell_type": "code",
   "execution_count": 44,
   "metadata": {},
   "outputs": [],
   "source": [
    "# Fazer um dicionário\n",
    "dataset['HeatingQC'] = dataset['HeatingQC'].map({\n",
    "    'Ex': 1, 'Gd': 2, 'TA': 3, 'Fa': 4, 'Po': 5})\n",
    "\n",
    "# Substituindo os valores ausentes por zero\n",
    "dataset['HeatingQC'].fillna(0, inplace=True)"
   ]
  },
  {
   "cell_type": "code",
   "metadata": {},
   "outputs": [],
   "source": [
    "#converter todo o dataframe para numero -> não funcionou\n",
    "#dataset.apply(pd.to_numeric, errors='ignore')"
   ]
  },
  {
   "cell_type": "code",
   "metadata": {},
   "outputs": [],
   "source": [
    "print (teste)"
   ]
  },
  {
   "cell_type": "code",
   "metadata": {},
   "outputs": [],
   "source": [
    "dataset.head()"
   ]
  },
  {
   "cell_type": "code",
   "metadata": {},
   "outputs": [],
   "source": [
    "dataset.dtypes"
   ]
  },
  {
   "cell_type": "code",
   "execution_count": 45,
   "metadata": {},
   "outputs": [],
   "source": [
    "#criar uma variavel com o target (chamar de y)\n",
    "y = dataset.SalePrice"
   ]
  },
  {
   "cell_type": "code",
   "execution_count": 47,
   "metadata": {},
   "outputs": [
    {
     "data": {
      "text/plain": "(1460,)"
     },
     "execution_count": 47,
     "metadata": {},
     "output_type": "execute_result"
    }
   ],
   "source": [
    "y.shape"
   ]
  },
  {
   "cell_type": "code",
   "execution_count": 46,
   "metadata": {},
   "outputs": [],
   "source": [
    "#dropar (drop) o target (SalePrice) do meu dataset (chamar de X)\n",
    "dataset.drop(['SalePrice'],axis = 1, inplace = True)"
   ]
  },
  {
   "cell_type": "code",
   "execution_count": 48,
   "metadata": {},
   "outputs": [],
   "source": [
    "#X = dataset.iloc[:, 1:2].values #pega somente a segunda coluna\n",
    "#X = dataset.loc[:,['Id', 'MSZoning', 'Street', 'Alley', 'LotShape', 'SaleCondition', 'LandContour', 'Utilities', 'PoolQC', 'Fence']]\n",
    "X = dataset"
   ]
  },
  {
   "cell_type": "code",
   "metadata": {},
   "outputs": [],
   "source": [
    "X.head(10)"
   ]
  },
  {
   "cell_type": "code",
   "execution_count": 49,
   "metadata": {},
   "outputs": [
    {
     "data": {
      "text/plain": "(1460, 80)"
     },
     "execution_count": 49,
     "metadata": {},
     "output_type": "execute_result"
    }
   ],
   "source": [
    "X.shape"
   ]
  },
  {
   "cell_type": "code",
   "metadata": {},
   "outputs": [],
   "source": [
    "print (X)"
   ]
  },
  {
   "cell_type": "code",
   "metadata": {},
   "outputs": [],
   "source": [
    "#X = dataset.iloc[:, 1:2].values\n",
    "#y = dataset.SalePrice"
   ]
  },
  {
   "cell_type": "code",
   "metadata": {},
   "outputs": [],
   "source": [
    "y.shape"
   ]
  },
  {
   "cell_type": "code",
   "metadata": {},
   "outputs": [],
   "source": [
    "dataset.shape"
   ]
  },
  {
   "cell_type": "code",
   "execution_count": 50,
   "metadata": {},
   "outputs": [],
   "source": [
    "from sklearn.model_selection import train_test_split \n",
    "X_train, X_test, y_train, y_test = train_test_split(X, y, test_size=0.3, random_state=1)"
   ]
  },
  {
   "cell_type": "code",
   "execution_count": 51,
   "metadata": {},
   "outputs": [
    {
     "ename": "ValueError",
     "evalue": "could not convert string to float: 'Typ'",
     "output_type": "error",
     "traceback": [
      "\u001b[1;31m---------------------------------------------------------------------------\u001b[0m",
      "\u001b[1;31mValueError\u001b[0m                                Traceback (most recent call last)",
      "\u001b[1;32m<ipython-input-51-a58bb4a184c9>\u001b[0m in \u001b[0;36m<module>\u001b[1;34m\u001b[0m\n\u001b[0;32m      1\u001b[0m \u001b[1;32mfrom\u001b[0m \u001b[0msklearn\u001b[0m\u001b[1;33m.\u001b[0m\u001b[0mlinear_model\u001b[0m \u001b[1;32mimport\u001b[0m \u001b[0mLinearRegression\u001b[0m\u001b[1;33m\u001b[0m\u001b[1;33m\u001b[0m\u001b[0m\n\u001b[0;32m      2\u001b[0m \u001b[0mlinear_reg\u001b[0m \u001b[1;33m=\u001b[0m \u001b[0mLinearRegression\u001b[0m\u001b[1;33m(\u001b[0m\u001b[1;33m)\u001b[0m\u001b[1;33m\u001b[0m\u001b[1;33m\u001b[0m\u001b[0m\n\u001b[1;32m----> 3\u001b[1;33m \u001b[0mlinear_reg\u001b[0m\u001b[1;33m.\u001b[0m\u001b[0mfit\u001b[0m\u001b[1;33m(\u001b[0m\u001b[0mX_train\u001b[0m\u001b[1;33m,\u001b[0m\u001b[0my_train\u001b[0m\u001b[1;33m)\u001b[0m\u001b[1;33m\u001b[0m\u001b[1;33m\u001b[0m\u001b[0m\n\u001b[0m",
      "\u001b[1;32m~\\anaconda\\envs\\pos-ds-ia-3.7\\lib\\site-packages\\sklearn\\linear_model\\base.py\u001b[0m in \u001b[0;36mfit\u001b[1;34m(self, X, y, sample_weight)\u001b[0m\n\u001b[0;32m    461\u001b[0m         \u001b[0mn_jobs_\u001b[0m \u001b[1;33m=\u001b[0m \u001b[0mself\u001b[0m\u001b[1;33m.\u001b[0m\u001b[0mn_jobs\u001b[0m\u001b[1;33m\u001b[0m\u001b[1;33m\u001b[0m\u001b[0m\n\u001b[0;32m    462\u001b[0m         X, y = check_X_y(X, y, accept_sparse=['csr', 'csc', 'coo'],\n\u001b[1;32m--> 463\u001b[1;33m                          y_numeric=True, multi_output=True)\n\u001b[0m\u001b[0;32m    464\u001b[0m \u001b[1;33m\u001b[0m\u001b[0m\n\u001b[0;32m    465\u001b[0m         \u001b[1;32mif\u001b[0m \u001b[0msample_weight\u001b[0m \u001b[1;32mis\u001b[0m \u001b[1;32mnot\u001b[0m \u001b[1;32mNone\u001b[0m \u001b[1;32mand\u001b[0m \u001b[0mnp\u001b[0m\u001b[1;33m.\u001b[0m\u001b[0matleast_1d\u001b[0m\u001b[1;33m(\u001b[0m\u001b[0msample_weight\u001b[0m\u001b[1;33m)\u001b[0m\u001b[1;33m.\u001b[0m\u001b[0mndim\u001b[0m \u001b[1;33m>\u001b[0m \u001b[1;36m1\u001b[0m\u001b[1;33m:\u001b[0m\u001b[1;33m\u001b[0m\u001b[1;33m\u001b[0m\u001b[0m\n",
      "\u001b[1;32m~\\anaconda\\envs\\pos-ds-ia-3.7\\lib\\site-packages\\sklearn\\utils\\validation.py\u001b[0m in \u001b[0;36mcheck_X_y\u001b[1;34m(X, y, accept_sparse, accept_large_sparse, dtype, order, copy, force_all_finite, ensure_2d, allow_nd, multi_output, ensure_min_samples, ensure_min_features, y_numeric, warn_on_dtype, estimator)\u001b[0m\n\u001b[0;32m    717\u001b[0m                     \u001b[0mensure_min_features\u001b[0m\u001b[1;33m=\u001b[0m\u001b[0mensure_min_features\u001b[0m\u001b[1;33m,\u001b[0m\u001b[1;33m\u001b[0m\u001b[1;33m\u001b[0m\u001b[0m\n\u001b[0;32m    718\u001b[0m                     \u001b[0mwarn_on_dtype\u001b[0m\u001b[1;33m=\u001b[0m\u001b[0mwarn_on_dtype\u001b[0m\u001b[1;33m,\u001b[0m\u001b[1;33m\u001b[0m\u001b[1;33m\u001b[0m\u001b[0m\n\u001b[1;32m--> 719\u001b[1;33m                     estimator=estimator)\n\u001b[0m\u001b[0;32m    720\u001b[0m     \u001b[1;32mif\u001b[0m \u001b[0mmulti_output\u001b[0m\u001b[1;33m:\u001b[0m\u001b[1;33m\u001b[0m\u001b[1;33m\u001b[0m\u001b[0m\n\u001b[0;32m    721\u001b[0m         y = check_array(y, 'csr', force_all_finite=True, ensure_2d=False,\n",
      "\u001b[1;32m~\\anaconda\\envs\\pos-ds-ia-3.7\\lib\\site-packages\\sklearn\\utils\\validation.py\u001b[0m in \u001b[0;36mcheck_array\u001b[1;34m(array, accept_sparse, accept_large_sparse, dtype, order, copy, force_all_finite, ensure_2d, allow_nd, ensure_min_samples, ensure_min_features, warn_on_dtype, estimator)\u001b[0m\n\u001b[0;32m    534\u001b[0m         \u001b[1;31m# make sure we actually converted to numeric:\u001b[0m\u001b[1;33m\u001b[0m\u001b[1;33m\u001b[0m\u001b[1;33m\u001b[0m\u001b[0m\n\u001b[0;32m    535\u001b[0m         \u001b[1;32mif\u001b[0m \u001b[0mdtype_numeric\u001b[0m \u001b[1;32mand\u001b[0m \u001b[0marray\u001b[0m\u001b[1;33m.\u001b[0m\u001b[0mdtype\u001b[0m\u001b[1;33m.\u001b[0m\u001b[0mkind\u001b[0m \u001b[1;33m==\u001b[0m \u001b[1;34m\"O\"\u001b[0m\u001b[1;33m:\u001b[0m\u001b[1;33m\u001b[0m\u001b[1;33m\u001b[0m\u001b[0m\n\u001b[1;32m--> 536\u001b[1;33m             \u001b[0marray\u001b[0m \u001b[1;33m=\u001b[0m \u001b[0marray\u001b[0m\u001b[1;33m.\u001b[0m\u001b[0mastype\u001b[0m\u001b[1;33m(\u001b[0m\u001b[0mnp\u001b[0m\u001b[1;33m.\u001b[0m\u001b[0mfloat64\u001b[0m\u001b[1;33m)\u001b[0m\u001b[1;33m\u001b[0m\u001b[1;33m\u001b[0m\u001b[0m\n\u001b[0m\u001b[0;32m    537\u001b[0m         \u001b[1;32mif\u001b[0m \u001b[1;32mnot\u001b[0m \u001b[0mallow_nd\u001b[0m \u001b[1;32mand\u001b[0m \u001b[0marray\u001b[0m\u001b[1;33m.\u001b[0m\u001b[0mndim\u001b[0m \u001b[1;33m>=\u001b[0m \u001b[1;36m3\u001b[0m\u001b[1;33m:\u001b[0m\u001b[1;33m\u001b[0m\u001b[1;33m\u001b[0m\u001b[0m\n\u001b[0;32m    538\u001b[0m             raise ValueError(\"Found array with dim %d. %s expected <= 2.\"\n",
      "\u001b[1;31mValueError\u001b[0m: could not convert string to float: 'Typ'"
     ]
    }
   ],
   "source": [
    "from sklearn.linear_model import LinearRegression\n",
    "linear_reg = LinearRegression()\n",
    "linear_reg.fit(X_train,y_train)"
   ]
  },
  {
   "cell_type": "code",
   "metadata": {},
   "outputs": [],
   "source": [
    "pred_teste = linear_reg.predict(X_test)"
   ]
  },
  {
   "cell_type": "code",
   "metadata": {},
   "outputs": [],
   "source": [
    "pred_train = linear_reg.predict(X_train)"
   ]
  },
  {
   "cell_type": "code",
   "metadata": {},
   "outputs": [],
   "source": [
    "print(np.mean((y_test - pred_teste) ** 2))"
   ]
  },
  {
   "cell_type": "code",
   "metadata": {},
   "outputs": [],
   "source": [
    "dataset_teste = pd.read_csv('/Users/Herica/Desktop/Hérica/curso-ia-ciencia_dados/repositorio/GitHub/Pos\\/HXGP/pos-ds-ia-master/aulas/aula_13/test.csv')\n",
    "#dataset_teste.head()\n"
   ]
  },
  {
   "cell_type": "code",
   "execution_count": null,
   "metadata": {},
   "outputs": [],
   "source": [
    "# Fazer um dicionário da coluna Street\n",
    "dataset['Street'] = dataset['Street'].map({\n",
    "    'Pave': 1,     'Grvl': 2})\n",
    "# Substituindo os valores ausentes por zero\n",
    "dataset['Street'].fillna(0, inplace=True)\n",
    "\n",
    "\n",
    "\n",
    "# Fazer um dicionário da coluna Alley\n",
    "dataset['Alley'] = dataset['Alley'].map({\n",
    "    'Grvl': 1,    'Pave':2})\n",
    "# Substituindo os valores ausentes por zero\n",
    "dataset['Alley'].fillna(0, inplace=True)\n",
    "\n",
    "\n",
    "# Fazer um dicionário da coluna LotShape\n",
    "dataset['LotShape'] = dataset['LotShape'].map({\n",
    "    'Reg': 1,     'IR1': 2,    'IR2':3,    'IR3':4})\n",
    "\n",
    "# Substituindo os valores ausentes por zero\n",
    "dataset['LotShape'].fillna(0, inplace=True)\n",
    "\n",
    "\n",
    "# Fazer um dicionário da coluna LotShape\n",
    "dataset['SaleCondition'] = dataset['SaleCondition'].map({\n",
    "    'Normal': 1,     'Abnorml': 2,    'Partial':3,    'AdjLand':4,    'Alloca':5,    'Family':6})\n",
    "\n",
    "# Substituindo os valores ausentes por zero\n",
    "dataset['SaleCondition'].fillna(0, inplace=True)\n",
    "\n",
    "\n",
    " \t# Fazer um dicionário da coluna LotShape\n",
    "dataset['LandContour'] = dataset['LandContour'].map({\n",
    "    'Lvl': 1, 'Bnk': 2, 'Low':3,  'HLS':4})\n",
    "\n",
    "# Substituindo os valores ausentes por zero\n",
    "dataset['LandContour'].fillna(0, inplace=True)\n",
    "\n",
    "\n",
    "# Fazer um dicionário da coluna Utilities\n",
    "dataset['Utilities'] = dataset['Utilities'].map({\n",
    "    'AllPub': 1,     'NoSeWa': 2})\n",
    "\n",
    "# Substituindo os valores ausentes por zero\n",
    "dataset['Utilities'].fillna(0, inplace=True)\n",
    "\n",
    "\n",
    "# Fazer um dicionário da coluna PoolQC\n",
    "dataset['PoolQC'] = dataset['PoolQC'].map({\n",
    "    'Ex': 1,    'Fa':2,    'Gd':3})\n",
    "\n",
    "# Substituindo os valores ausentes por zero\n",
    "dataset['PoolQC'].fillna(0, inplace=True)\n",
    "\n",
    "\n",
    "# Fazer um dicionário da coluna Fence\n",
    "dataset['Fence'] = dataset['Fence'].map({\n",
    "    'MnPrv': 1,    'GdWo':2,    'GdPrv':3,    'MnWw':4})\n",
    "\n",
    "# Substituindo os valores ausentes por zero\n",
    "dataset['Fence'].fillna(0, inplace=True)\n",
    "\n",
    "\n",
    "# Fazer um dicionário\n",
    "dataset['LotConfig'] = dataset['LotConfig'].map({\n",
    "    'Inside':1,     'FR2': 2,     'Corner': 3,     'CulDSac': 4,     'FR3':5})\n",
    "    \n",
    "# Substituindo os valores ausentes por zero\n",
    "dataset['LotConfig'].fillna(0, inplace=True)\n",
    "\n",
    "\n",
    "# Fazer um dicionário\n",
    "dataset['LandSlope'] = dataset['LandSlope'].map({\n",
    "    'Gtl':1,    'Mod': 2,     'Sev': 3})\n",
    "\n",
    "# Substituindo os valores ausentes por zero\n",
    "dataset['LandSlope'].fillna(0, inplace=True)\n",
    "\n",
    "\n",
    "# Fazer um dicionário\n",
    "dataset['Neighborhood'] = dataset['Neighborhood'].map({\n",
    "    'CollgCr':1,    'Veenker': 2,     'Crawfor': 3, \n",
    "    'NoRidge': 4,     'Mitchel': 5,     'Somerst': 6, \n",
    "    'NWAmes': 7,     'OldTown': 8,     'BrkSide': 9, \n",
    "    'Sawyer': 10,     'NridgHt': 11,     'NAmes': 12, \n",
    "    'SawyerW': 13,     'IDOTRR': 14,     'MeadowV': 15, \n",
    "    'Edwards': 16,     'Timber': 17,     'Gilbert': 18, \n",
    "    'StoneBr': 19,     'ClearCr': 20,     'NPkVill': 21, \n",
    "    'Blmngtn': 22,     'BrDale': 23,     'SWISU': 24, \n",
    "    'Blueste': 25})\n",
    "\n",
    "# Substituindo os valores ausentes por zero\n",
    "dataset['Neighborhood'].fillna(0, inplace=True)\n",
    "\n",
    "\n",
    "# Fazer um dicionário\n",
    "dataset['Condition1'] = dataset['Condition1'].map({\n",
    "    'Norm': 1,     'Feedr': 2,     'PosN': 3,     'Artery': 4,     'RRAe': 5, \n",
    "    'RRNn': 6,     'RRAn': 7,     'PosA': 8,    'RRNe': 9})\n",
    "\n",
    "# Substituindo os valores ausentes por zero\n",
    "dataset['Condition1'].fillna(0, inplace=True)\n",
    "\n",
    "# Fazer um dicionário\n",
    "dataset['Condition2'] = dataset['Condition2'].map({\n",
    "    'Norm': 1,     'Artery': 2,     'RRNn': 3,     'Feedr': 4,     'PosN': 5,     'PosA': 6,     'RRAn': 7,     'RRAe': 8})\n",
    "\n",
    "# Substituindo os valores ausentes por zero\n",
    "dataset['Condition2'].fillna(0, inplace=True)\n",
    "\n",
    "\n",
    "# Fazer um dicionário\n",
    "dataset['BldgType'] = dataset['BldgType'].map({\n",
    "    '1Fam': 1,    '2fmCon': 2,     'Duplex': 3,     'TwnhsE': 4,     'Twnhs': 5})\n",
    "\n",
    "# Substituindo os valores ausentes por zero\n",
    "dataset['BldgType'].fillna(0, inplace=True)\n",
    "\n",
    "\n",
    "# Fazer um dicionário\n",
    "dataset['HouseStyle'] = dataset['HouseStyle'].map({\n",
    "    '2Story': 1,    '1Story': 2,     '1.5Fin': 3,     '1.5Unf': 4, \n",
    "    'SFoyer': 5,     'SLvl': 6,     '2.5Unf': 7,    '2.5Fin': 8})\n",
    "\n",
    "# Substituindo os valores ausentes por zero\n",
    "dataset['HouseStyle'].fillna(0, inplace=True)\n",
    "\n",
    "\n",
    "# Fazer um dicionário\n",
    "dataset['RoofStyle'] = dataset['RoofStyle'].map({\n",
    "    'Gable': 1,     'Hip': 2,     'Gambrel': 3, \n",
    "    'Mansard': 4,     'Flat': 5,     'Shed': 6})\n",
    "\n",
    "# Substituindo os valores ausentes por zero\n",
    "dataset['RoofStyle'].fillna(0, inplace=True)\n",
    "\n",
    "\n",
    "# Fazer um dicionário\n",
    "dataset['RoofMatl'] = dataset['RoofMatl'].map({\n",
    "    'CompShg': 1,     'WdShngl': 2,     'Metal': 3,     'WdShake': 4, \n",
    "    'Membran': 5,     'Tar&Grv': 6,     'Roll': 7,      'ClyTile': 8})\n",
    "\n",
    "# Substituindo os valores ausentes por zero\n",
    "dataset['RoofMatl'].fillna(0, inplace=True)\n",
    "\n",
    "\n",
    "# Fazer um dicionário\n",
    "dataset['Exterior1st'] = dataset['Exterior1st'].map({\n",
    "    'VinylSd': 1,     'MetalSd': 2,     'Wd Sdng': 3,     'HdBoard': 4,     'BrkFace': 5, \n",
    "    'WdShing': 6,    'CemntBd': 7,     'Plywood': 8,     'AsbShng': 9,     'Stucco': 10, \n",
    "    'BrkComm': 11,     'AsphShn': 12,    'Stone': 13,     'ImStucc': 14,     'CBlock': 15})\n",
    "\n",
    "# Substituindo os valores ausentes por zero\n",
    "dataset['Exterior1st'].fillna(0, inplace=True)\n",
    "\n",
    "\n",
    "# Fazer um dicionário\n",
    "dataset['Exterior2nd'] = dataset['Exterior2nd'].map({\n",
    "    'VinylSd': 1,     'MetalSd': 2,     'Wd Shng': 3,     'HdBoard': 4,     'Plywood': 5, \n",
    "    'Wd Sdng': 6,    'CmentBd': 7,     'BrkFace': 8,     'Stucco': 9,     'AsbShng': 10, \n",
    "    'Brk Cmn': 11,     'ImStucc': 12,    'AsphShn': 13,     'Stone': 14,     'Other': 15, \n",
    "    'CBlock': 16})\n",
    "\n",
    "# Substituindo os valores ausentes por zero\n",
    "dataset['Exterior2nd'].fillna(0, inplace=True)\n",
    "\n",
    "\n",
    "# Fazer um dicionário\n",
    "dataset['MasVnrType'] = dataset['MasVnrType'].map({\n",
    "    'BrkFace': 1, 'None': 2, 'Stone': 3, 'BrkCmn': 4})\n",
    "\n",
    "# Substituindo os valores ausentes por zero\n",
    "dataset['MasVnrType'].fillna(0, inplace=True)\n",
    "\n",
    "\n",
    "# Fazer um dicionário\n",
    "dataset['ExterQual'] = dataset['ExterQual'].map({\n",
    "    'Gd': 1, 'TA': 2, 'Ex': 3, 'Fa': 4})\n",
    "\n",
    "# Substituindo os valores ausentes por zero\n",
    "dataset['ExterQual'].fillna(0, inplace=True)\n",
    "\n",
    "# Fazer um dicionário\n",
    "dataset['ExterCond'] = dataset['ExterCond'].map({\n",
    "    'TA': 1, 'Gd': 2, 'Fa': 3, 'Po': 4, 'Ex': 5})\n",
    "\n",
    "# Substituindo os valores ausentes por zero\n",
    "dataset['ExterCond'].fillna(0, inplace=True)\n",
    "\n",
    "\n",
    "# Fazer um dicionário\n",
    "dataset['Foundation'] = dataset['Foundation'].map({\n",
    "    'PConc': 1, 'CBlock': 2, 'BrkTil': 3, 'Wood': 4, 'Slab': 5, 'Stone': 6})\n",
    "\n",
    "# Substituindo os valores ausentes por zero\n",
    "dataset['Foundation'].fillna(0, inplace=True)\n",
    "\n",
    "\n",
    "# Fazer um dicionário\n",
    "dataset['BsmtQual'] = dataset['BsmtQual'].map({\n",
    "    'Gd': 1, 'TA': 2, 'Ex': 3, 'Fa': 4})\n",
    "\n",
    "# Substituindo os valores ausentes por zero\n",
    "dataset['BsmtQual'].fillna(0, inplace=True)\n",
    "\n",
    "\n",
    "# Fazer um dicionário\n",
    "dataset['BsmtCond'] = dataset['BsmtCond'].map({\n",
    "    'TA': 1, 'Gd': 2, 'Fa': 3, 'Po': 4})\n",
    "\n",
    "# Substituindo os valores ausentes por zero\n",
    "dataset['BsmtCond'].fillna(0, inplace=True)\n",
    "\n",
    "\n",
    "# Fazer um dicionário\n",
    "dataset['BsmtExposure'] = dataset['BsmtExposure'].map({\n",
    "    'No': 1, 'Gd': 2, 'Mn': 3, 'Av': 4})\n",
    "\n",
    "# Substituindo os valores ausentes por zero\n",
    "dataset['BsmtExposure'].fillna(0, inplace=True)\n",
    "\n",
    "\n",
    "# Fazer um dicionário\n",
    "dataset['BsmtFinType1'] = dataset['BsmtFinType1'].map({\n",
    "    'GLQ': 1, 'ALQ': 2, 'Unf': 3, 'Rec': 4, 'BLQ': 5, 'LwQ': 6})\n",
    "\n",
    "# Substituindo os valores ausentes por zero\n",
    "dataset['BsmtFinType1'].fillna(0, inplace=True)\n",
    "\n",
    "\n",
    "# Fazer um dicionário\n",
    "dataset['BsmtFinType2'] = dataset['BsmtFinType2'].map({\n",
    "    'Unf': 1, 'BLQ': 2, 'ALQ': 3, 'Rec': 4, 'LwQ': 5, 'GLQ': 6})\n",
    "\n",
    "# Substituindo os valores ausentes por zero\n",
    "dataset['BsmtFinType2'].fillna(0, inplace=True)\n",
    "\n",
    "\n",
    "# Fazer um dicionário\n",
    "dataset['Electrical'] = dataset['Electrical'].map({\n",
    "    'SBrkr': 1, 'FuseF': 2, 'FuseA': 3, 'FuseP': 4, 'Mix': 5})\n",
    "\n",
    "# Substituindo os valores ausentes por zero\n",
    "dataset['Electrical'].fillna(0, inplace=True)\n",
    "\n",
    "\n",
    "# Fazer um dicionário\n",
    "dataset['KitchenQual'] = dataset['KitchenQual'].map({\n",
    "    'Gd': 1, 'TA': 2, 'Ex': 3, 'Fa': 4})\n",
    "\n",
    "# Substituindo os valores ausentes por zero\n",
    "dataset['KitchenQual'].fillna(0, inplace=True)\n",
    "\n",
    "\n",
    "# Fazer um dicionário\n",
    "dataset['Functional'] = dataset['Functional'].map({\n",
    "    'Typ': 1, 'Min1': 2, 'Maj1': 3, 'Min2': 4, 'Mod': 5, 'Maj2': 6, 'Sev': 7})\n",
    "\n",
    "# Substituindo os valores ausentes por zero\n",
    "dataset['Functional'].fillna(0, inplace=True)\n",
    "\n",
    "\n",
    "# Fazer um dicionário\n",
    "dataset['FireplaceQu'] = dataset['FireplaceQu'].map({\n",
    "    'TA': 1, 'Gd': 2, 'Fa': 3, 'Ex': 4, 'Po': 5})\n",
    "\n",
    "# Substituindo os valores ausentes por zero\n",
    "dataset['FireplaceQu'].fillna(0, inplace=True)\n",
    "\n",
    "\n",
    "# Fazer um dicionário\n",
    "dataset['GarageType'] = dataset['GarageType'].map({\n",
    "    'Attchd': 1, 'Detchd': 2, 'BuiltIn': 3, 'CarPort': 4, 'Basment': 5, '2Types': 6})\n",
    "\n",
    "# Substituindo os valores ausentes por zero\n",
    "dataset['GarageType'].fillna(0, inplace=True)\n",
    "\n",
    "\n",
    "# Fazer um dicionário\n",
    "dataset['GarageFinish'] = dataset['GarageFinish'].map({\n",
    "    'RFn': 1, 'Unf': 2, 'Fin': 3})\n",
    "\n",
    "# Substituindo os valores ausentes por zero\n",
    "dataset['GarageFinish'].fillna(0, inplace=True)\n",
    "\n",
    "\n",
    "# Fazer um dicionário\n",
    "dataset['GarageQual'] = dataset['GarageQual'].map({\n",
    "    'TA': 1, 'Fa': 2, 'Gd': 3, 'Ex': 4, 'Po': 5})\n",
    "\n",
    "# Substituindo os valores ausentes por zero\n",
    "dataset['GarageQual'].fillna(0, inplace=True)\n",
    "\n",
    "\n",
    "# Fazer um dicionário\n",
    "dataset['GarageCond'] = dataset['GarageCond'].map({\n",
    "    'TA': 1, 'Fa': 2, 'Gd': 3, 'Po': 4, 'Ex': 5})\n",
    "\n",
    "# Substituindo os valores ausentes por zero\n",
    "dataset['GarageCond'].fillna(0, inplace=True)\n",
    "\n",
    "\n",
    "# Fazer um dicionário\n",
    "dataset['PavedDrive'] = dataset['PavedDrive'].map({\n",
    "    'Y': 1, 'N': 2, 'P': 3})\n",
    "\n",
    "# Substituindo os valores ausentes por zero\n",
    "dataset['PavedDrive'].fillna(0, inplace=True)\n",
    "\n",
    "\n",
    "# Fazer um dicionário\n",
    "dataset['MiscFeature'] = dataset['MiscFeature'].map({\n",
    "    'Shed': 1, 'Gar2': 2, 'Othr': 3, 'TenC': 4})\n",
    "\n",
    "# Substituindo os valores ausentes por zero\n",
    "dataset['MiscFeature'].fillna(0, inplace=True)\n",
    "\n",
    "\n",
    "# Fazer um dicionário\n",
    "dataset['CentralAir'] = dataset['CentralAir'].map({\n",
    "    'Y': 1, 'N': 2})\n",
    "\n",
    "# Substituindo os valores ausentes por zero\n",
    "dataset['CentralAir'].fillna(0, inplace=True)\n",
    "\n",
    "\n",
    "# Fazer um dicionário\n",
    "dataset['SaleType'] = dataset['SaleType'].map({\n",
    "    'WD': 1, 'New': 2, 'COD': 3, 'ConLD': 4, 'ConLI': 5, 'CWD': 6, 'ConLw': 7, 'Con': 8, 'Oth': 9})\n",
    "\n",
    "# Substituindo os valores ausentes por zero\n",
    "dataset['SaleType'].fillna(0, inplace=True)\n",
    "\n",
    "\n",
    "# Fazer um dicionário\n",
    "dataset['Heating'] = dataset['Heating'].map({\n",
    "    'GasA': 1, 'GasW': 2, 'Grav': 3, 'Wall': 4, 'OthW': 5, 'Floor': 6})\n",
    "\n",
    "# Substituindo os valores ausentes por zero\n",
    "dataset['Heating'].fillna(0, inplace=True)\n",
    "\n",
    "\n",
    "# Fazer um dicionário\n",
    "dataset['HeatingQC'] = dataset['HeatingQC'].map({\n",
    "    'Ex': 1, 'Gd': 2, 'TA': 3, 'Fa': 4, 'Po': 5})\n",
    "\n",
    "# Substituindo os valores ausentes por zero\n",
    "dataset['HeatingQC'].fillna(0, inplace=True)\n"
   ]
  },
  {
   "cell_type": "code",
   "execution_count": null,
   "metadata": {},
   "outputs": [],
   "source": [
    "# Fazer um dicionário da coluna MSZoning\n",
    "dataset['MSZoning'] = dataset['MSZoning'].map({\n",
    "    'RL': 1,     'RM': 2,    'FV': 3,     'RH': 4,    'C (all)': 5})\n",
    "\n",
    "# Substituindo os valores ausentes por zero\n",
    "dataset['MSZoning'].fillna(0, inplace=True)\n",
    "\n",
    "\n"
   ]
  },
  {
   "cell_type": "code",
   "metadata": {},
   "outputs": [],
   "source": [
    "#X2 =  dataset_teste.iloc[:, 1:2].values\n",
    "X2 = dataset_teste.loc[:,['Id', 'MSZoning', 'Street', 'Alley', 'LotShape', 'SaleCondition', 'LandContour', 'Utilities', 'PoolQC', 'Fence']]\n"
   ]
  },
  {
   "cell_type": "code",
   "metadata": {},
   "outputs": [],
   "source": [
    "pred_novas_casas = linear_reg.predict(X2)"
   ]
  },
  {
   "cell_type": "code",
   "metadata": {},
   "outputs": [],
   "source": [
    "print(pred_novas_casas)"
   ]
  },
  {
   "cell_type": "code",
   "metadata": {},
   "outputs": [],
   "source": [
    "dataset_teste.head()"
   ]
  },
  {
   "cell_type": "code",
   "metadata": {},
   "outputs": [],
   "source": [
    "dataset_teste.shape"
   ]
  },
  {
   "cell_type": "code",
   "metadata": {},
   "outputs": [],
   "source": [
    "pred_novas_casas.shape"
   ]
  },
  {
   "cell_type": "code",
   "metadata": {},
   "outputs": [],
   "source": [
    "# criar a coluna SalePrice no dataset de teste e preencher com os valores preditos\n",
    "dataset_teste['SalePrice'] = pred_novas_casas"
   ]
  },
  {
   "cell_type": "code",
   "metadata": {},
   "outputs": [],
   "source": [
    "dataset_teste.head()"
   ]
  },
  {
   "cell_type": "code",
   "metadata": {},
   "outputs": [],
   "source": [
    "w = dataset_teste.loc[:,['Id','SalePrice']]"
   ]
  },
  {
   "cell_type": "code",
   "metadata": {},
   "outputs": [],
   "source": [
    "print (w)"
   ]
  },
  {
   "cell_type": "code",
   "metadata": {},
   "outputs": [],
   "source": [
    "# gerar o arquivo com o resultado\n",
    "w.to_csv(\"predition2.csv\",columns=[\"Id\",\"SalePrice\"],index=False)"
   ]
  },
  {
   "cell_type": "code",
   "metadata": {},
   "outputs": [],
   "source": []
  }
 ]
}