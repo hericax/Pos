{
 "nbformat": 4,
 "nbformat_minor": 2,
 "metadata": {
  "language_info": {
   "name": "python",
   "codemirror_mode": {
    "name": "ipython",
    "version": 3
   },
   "version": "3.7.5-final"
  },
  "orig_nbformat": 2,
  "file_extension": ".py",
  "mimetype": "text/x-python",
  "name": "python",
  "npconvert_exporter": "python",
  "pygments_lexer": "ipython3",
  "version": 3,
  "kernelspec": {
   "name": "python37532bitposdsia37condac7e21a6016ce41d79614fa61fa050301",
   "display_name": "Python 3.7.5 32-bit ('pos-ds-ia-3.7': conda)"
  }
 },
 "cells": [
  {
   "cell_type": "code",
   "execution_count": 1,
   "metadata": {},
   "outputs": [],
   "source": [
    "import numpy as np\n",
    "import matplotlib.pyplot as plt\n",
    "import pandas as pd"
   ]
  },
  {
   "cell_type": "code",
   "execution_count": 2,
   "metadata": {},
   "outputs": [],
   "source": [
    "#dataset = pd.read_csv('/Users/aluno/Documents/GitHub/Pos/HXGP/pos-ds-ia-master/aulas/aula_13/train.csv')\n",
    "dados = pd.read_csv('train.csv')"
   ]
  },
  {
   "cell_type": "code",
   "execution_count": null,
   "metadata": {},
   "outputs": [],
   "source": [
    "dados.head()"
   ]
  },
  {
   "cell_type": "code",
   "execution_count": null,
   "metadata": {},
   "outputs": [],
   "source": [
    "dados.shape"
   ]
  },
  {
   "cell_type": "code",
   "execution_count": null,
   "metadata": {},
   "outputs": [],
   "source": [
    "dados.count"
   ]
  },
  {
   "cell_type": "code",
   "execution_count": null,
   "metadata": {},
   "outputs": [],
   "source": [
    "# visualizar os valores unicos de cada coluna\n",
    "dados[\"SaleCondition\"].unique()"
   ]
  },
  {
   "cell_type": "code",
   "execution_count": 3,
   "metadata": {},
   "outputs": [],
   "source": [
    "dataset = dados.loc[0:1460,['Id','MSZoning','LotArea','LotShape','Utilities','LandSlope','BldgType','HouseStyle','OverallQual','YearBuilt','ExterCond','BsmtQual','BsmtExposure','TotalBsmtSF','CentralAir','Electrical','BsmtFullBath','KitchenQual','TotRmsAbvGrd','GarageType','SaleType','SalePrice','LotConfig','Neighborhood','Condition1','OverallCond','BsmtCond','BsmtFinType2','Heating','1stFlrSF','GrLivArea', 'FullBath', 'HalfBath', 'GarageCars','MoSold','YrSold','SaleCondition']]"
   ]
  },
  {
   "cell_type": "code",
   "execution_count": null,
   "metadata": {},
   "outputs": [],
   "source": [
    "dataset.head()"
   ]
  },
  {
   "cell_type": "code",
   "execution_count": 4,
   "metadata": {},
   "outputs": [
    {
     "data": {
      "text/plain": "(1460, 37)"
     },
     "execution_count": 4,
     "metadata": {},
     "output_type": "execute_result"
    }
   ],
   "source": [
    "dataset.shape"
   ]
  },
  {
   "cell_type": "code",
   "execution_count": null,
   "metadata": {},
   "outputs": [],
   "source": [
    "dataset.isnull().any()\n",
    "#dataset.notnull().all()"
   ]
  },
  {
   "cell_type": "code",
   "execution_count": null,
   "metadata": {},
   "outputs": [],
   "source": [
    "# Percentual das features que não possuem valor (dados faltantes):\n",
    "(dataset.isnull().sum() / dataset.shape[0]).sort_values(ascending=False)"
   ]
  },
  {
   "cell_type": "code",
   "execution_count": null,
   "metadata": {},
   "outputs": [],
   "source": [
    "dados.describe()"
   ]
  },
  {
   "cell_type": "code",
   "execution_count": null,
   "metadata": {},
   "outputs": [],
   "source": [
    "# formas de visualizar as colunas de um dataframe\n",
    "#list(dataset.columns.values) #opção 1\n",
    "dataset.columns #opção 2\n"
   ]
  },
  {
   "cell_type": "code",
   "execution_count": null,
   "metadata": {},
   "outputs": [],
   "source": [
    "# visualizar os valores unicos de cada coluna\n",
    "dataset[\"TotRmsAbvGrd\"].unique()"
   ]
  },
  {
   "cell_type": "code",
   "execution_count": 5,
   "metadata": {},
   "outputs": [],
   "source": [
    "# Convertando strings em numéricos usanso dicionário\n",
    "\n",
    "dataset['MSZoning'] = dataset['MSZoning'].map({\n",
    "    'RL': 1,     'RM': 2,    'FV': 3,     'RH': 4,    'C (all)': 5})\n",
    "\n",
    "dataset['LotShape'] = dataset['LotShape'].map({'Reg': 1,'IR1': 2,'IR2':3,'IR3':4})\n",
    "\n",
    "dataset['Utilities'] = dataset['Utilities'].map({\n",
    "    'AllPub': 1,     'NoSeWa': 2})\n",
    "\n",
    "dataset['LandSlope'] = dataset['LandSlope'].map({\n",
    "    'Gtl':1,    'Mod': 2,     'Sev': 3})\n",
    "\n",
    "dataset['BldgType'] = dataset['BldgType'].map({\n",
    "    '1Fam': 1,    '2fmCon': 2,     'Duplex': 3,     'TwnhsE': 4,     'Twnhs': 5})\n",
    " \n",
    "dataset['HouseStyle'] = dataset['HouseStyle'].map({\n",
    "    '2Story': 1,    '1Story': 2,     '1.5Fin': 3,     '1.5Unf': 4, \n",
    "    'SFoyer': 5,     'SLvl': 6,     '2.5Unf': 7,    '2.5Fin': 8})\n",
    " \n",
    "dataset['ExterCond'] = dataset['ExterCond'].map({\n",
    "    'TA': 1, 'Gd': 2, 'Fa': 3, 'Po': 4, 'Ex': 5})\n",
    "\n",
    "dataset['BsmtQual'] = dataset['BsmtQual'].map({\n",
    "    'Gd': 1, 'TA': 2, 'Ex': 3, 'Fa': 4})\n",
    "       \n",
    "dataset['BsmtExposure'] = dataset['BsmtExposure'].map({\n",
    "    'No': 1, 'Gd': 2, 'Mn': 3, 'Av': 4 })\n",
    "\n",
    "dataset['CentralAir'] = dataset['CentralAir'].map({\n",
    "    'Yes': 1, 'No': 2})\n",
    "\n",
    "dataset['Electrical'] = dataset['Electrical'].map({\n",
    "    'SBrkr': 1, 'FuseF': 2, 'FuseA': 3, 'FuseP': 4, 'Mix': 5})\n",
    "\n",
    "dataset['KitchenQual'] = dataset['KitchenQual'].map({\n",
    "    'Gd': 1, 'TA': 2, 'Ex': 3, 'Fa': 4})\n",
    "\n",
    "dataset['GarageType'] = dataset['GarageType'].map({\n",
    "    'Attchd': 1, 'Detchd': 2, 'BuiltIn': 3, 'CarPort': 4, 'Basment': 5, '2Types': 6})\n",
    "\n",
    "dataset['SaleType'] = dataset['SaleType'].map({\n",
    "    'WD': 1, 'New': 2, 'COD': 3, 'ConLD': 4, 'ConLI': 5, 'CWD': 6, 'ConLw': 7, 'Con': 8, 'Oth': 9})\n",
    "\n",
    "\n",
    "# --- novos incluidos nesta versao---\n",
    "    \n",
    "dataset['LotConfig'] = dataset['LotConfig'].map({\n",
    "    'Inside': 1, 'FR2': 2, 'Corner': 3, 'CulDSac': 4, 'FR3': 5})\n",
    "\n",
    "\n",
    "dataset['Neighborhood'] = dataset['Neighborhood'].map({\n",
    "    'CollgCr':1, 'Veenker':2, 'Crawfor':3, 'NoRidge':4, 'Mitchel':5, 'Somerst':6, 'NWAmes':7, 'OldTown':8, 'BrkSide':9, 'Sawyer':10, 'NridgHt':11, 'Names':12, 'SawyerW':13, 'IDOTRR':14, 'MeadowV':15, 'Edwards':16, 'Timber':17, 'Gilbert':18, 'StoneBr':19, 'ClearCr':20, 'NpkVill':21, 'Blmngtn':22, 'BrDale':23, 'SWISU':24, 'Blueste':25})\n",
    "\n",
    "dataset['Condition1'] = dataset['Condition1'].map({\n",
    "    'Norm': 1, 'Feedr': 2, 'PosN': 3, 'Artery': 4, 'RRAe': 5, 'RRNn': 6, 'RRAn': 7, 'PosA': 8, 'RRNe': 9})\n",
    "\n",
    "dataset['BsmtCond'] = dataset['BsmtCond'].map({\n",
    "    'TA': 1, 'Gd': 2, 'Fa': 3, 'Po': 4})\n",
    "\n",
    "dataset['BsmtFinType2'] = dataset['BsmtFinType2'].map({\n",
    "    'Unf': 1, 'BLQ': 2, 'ALQ': 3, 'Rec': 4, 'LwQ': 5, 'GLQ': 6})\n",
    "\n",
    "dataset['Heating'] = dataset['Heating'].map({\n",
    "    'GasA': 1, 'GasW': 2, 'Grav': 3, 'Wall': 4, 'OthW': 5, 'Floor': 6})\n",
    "\n",
    "dataset['SaleCondition'] = dataset['SaleCondition'].map({\n",
    "    'Normal': 1, 'Abnorml': 2, 'Partial': 3, 'AdjLand': 4, 'Alloca': 5, 'Family': 6})"
   ]
  },
  {
   "cell_type": "code",
   "execution_count": 6,
   "metadata": {},
   "outputs": [],
   "source": [
    "# preencher os dados faltantes com zero\n",
    "dataset.fillna(0, inplace=True)"
   ]
  },
  {
   "cell_type": "code",
   "execution_count": 79,
   "metadata": {},
   "outputs": [
    {
     "data": {
      "text/plain": "SaleCondition    0.0\nKitchenQual      0.0\nElectrical       0.0\nCentralAir       0.0\nTotalBsmtSF      0.0\nBsmtExposure     0.0\nBsmtQual         0.0\nExterCond        0.0\nYearBuilt        0.0\nOverallQual      0.0\nHouseStyle       0.0\nBldgType         0.0\nLandSlope        0.0\nUtilities        0.0\nLotShape         0.0\nLotArea          0.0\nMSZoning         0.0\nBsmtFullBath     0.0\nTotRmsAbvGrd     0.0\nYrSold           0.0\nGarageType       0.0\nMoSold           0.0\nGarageCars       0.0\nHalfBath         0.0\nFullBath         0.0\nGrLivArea        0.0\n1stFlrSF         0.0\nHeating          0.0\nBsmtFinType2     0.0\nBsmtCond         0.0\nOverallCond      0.0\nCondition1       0.0\nNeighborhood     0.0\nLotConfig        0.0\nSalePrice        0.0\nSaleType         0.0\nId               0.0\ndtype: float64"
     },
     "execution_count": 79,
     "metadata": {},
     "output_type": "execute_result"
    }
   ],
   "source": [
    "# Verificar se o comando acima funcionou:\n",
    "(dataset.isnull().sum() / dataset.shape[0]).sort_values(ascending=False)"
   ]
  },
  {
   "cell_type": "code",
   "execution_count": null,
   "metadata": {},
   "outputs": [],
   "source": [
    "dataset.dtypes"
   ]
  },
  {
   "cell_type": "code",
   "execution_count": 7,
   "metadata": {},
   "outputs": [],
   "source": [
    "#criar uma variavel com o target (chamar de y)\n",
    "y = dataset.SalePrice"
   ]
  },
  {
   "cell_type": "code",
   "execution_count": 8,
   "metadata": {},
   "outputs": [
    {
     "data": {
      "text/plain": "(1460,)"
     },
     "execution_count": 8,
     "metadata": {},
     "output_type": "execute_result"
    }
   ],
   "source": [
    "y.shape"
   ]
  },
  {
   "cell_type": "code",
   "execution_count": 9,
   "metadata": {},
   "outputs": [],
   "source": [
    "#dropar (drop) o target (SalePrice) do meu dataset (chamar de X)\n",
    "dataset.drop(['SalePrice'],axis = 1, inplace = True)"
   ]
  },
  {
   "cell_type": "code",
   "execution_count": 10,
   "metadata": {},
   "outputs": [],
   "source": [
    "#X = dataset.iloc[:, 1:2].values #pega somente a segunda coluna\n",
    "#X = dataset.loc[:,['Id', 'MSZoning', 'Street', 'Alley', 'LotShape', 'SaleCondition', 'LandContour', 'Utilities', 'PoolQC', 'Fence']]\n",
    "X = dataset"
   ]
  },
  {
   "cell_type": "code",
   "execution_count": null,
   "metadata": {},
   "outputs": [],
   "source": [
    "X.head(10)"
   ]
  },
  {
   "cell_type": "code",
   "execution_count": 92,
   "metadata": {},
   "outputs": [
    {
     "data": {
      "text/plain": "(1460, 36)"
     },
     "execution_count": 92,
     "metadata": {},
     "output_type": "execute_result"
    }
   ],
   "source": [
    "X.shape"
   ]
  },
  {
   "cell_type": "code",
   "execution_count": null,
   "metadata": {},
   "outputs": [],
   "source": [
    "#X = dataset.iloc[:, 1:2].values\n",
    "#y = dataset.SalePrice"
   ]
  },
  {
   "cell_type": "code",
   "execution_count": null,
   "metadata": {},
   "outputs": [],
   "source": [
    "dataset.shape"
   ]
  },
  {
   "cell_type": "code",
   "execution_count": null,
   "metadata": {},
   "outputs": [],
   "source": [
    "y.shape"
   ]
  },
  {
   "cell_type": "code",
   "execution_count": 11,
   "metadata": {},
   "outputs": [],
   "source": [
    "from sklearn.model_selection import train_test_split \n",
    "X_train, X_test, y_train, y_test = train_test_split(X, y, test_size=0.3, random_state=4)"
   ]
  },
  {
   "cell_type": "code",
   "execution_count": 12,
   "metadata": {},
   "outputs": [
    {
     "data": {
      "text/plain": "LinearRegression(copy_X=True, fit_intercept=True, n_jobs=None, normalize=False)"
     },
     "execution_count": 12,
     "metadata": {},
     "output_type": "execute_result"
    }
   ],
   "source": [
    "from sklearn.linear_model import LinearRegression\n",
    "linear_reg = LinearRegression()\n",
    "linear_reg.fit(X_train,y_train)"
   ]
  },
  {
   "cell_type": "code",
   "execution_count": 14,
   "metadata": {},
   "outputs": [],
   "source": [
    "pred_teste = linear_reg.predict(X_test)"
   ]
  },
  {
   "cell_type": "code",
   "execution_count": 16,
   "metadata": {},
   "outputs": [
    {
     "data": {
      "text/plain": "(438,)"
     },
     "execution_count": 16,
     "metadata": {},
     "output_type": "execute_result"
    }
   ],
   "source": [
    "pred_teste.shape"
   ]
  },
  {
   "cell_type": "code",
   "execution_count": 15,
   "metadata": {},
   "outputs": [],
   "source": [
    "pred_train = linear_reg.predict(X_train)"
   ]
  },
  {
   "cell_type": "code",
   "execution_count": 17,
   "metadata": {},
   "outputs": [
    {
     "data": {
      "text/plain": "(1022,)"
     },
     "execution_count": 17,
     "metadata": {},
     "output_type": "execute_result"
    }
   ],
   "source": [
    "pred_train.shape"
   ]
  },
  {
   "cell_type": "code",
   "execution_count": 18,
   "metadata": {},
   "outputs": [
    {
     "data": {
      "text/plain": "(438,)"
     },
     "execution_count": 18,
     "metadata": {},
     "output_type": "execute_result"
    }
   ],
   "source": [
    "y_test.shape"
   ]
  },
  {
   "cell_type": "code",
   "execution_count": 19,
   "metadata": {},
   "outputs": [
    {
     "data": {
      "text/plain": "(438,)"
     },
     "execution_count": 19,
     "metadata": {},
     "output_type": "execute_result"
    }
   ],
   "source": [
    "pred_teste.shape"
   ]
  },
  {
   "cell_type": "code",
   "execution_count": 144,
   "metadata": {},
   "outputs": [
    {
     "name": "stdout",
     "output_type": "stream",
     "text": "predição linear: 943028929.1920185\n"
    }
   ],
   "source": [
    "print('predição linear:', np.mean((y_test - pred_teste) ** 2))"
   ]
  },
  {
   "cell_type": "code",
   "execution_count": 145,
   "metadata": {},
   "outputs": [
    {
     "data": {
      "text/plain": "LinearRegression(copy_X=True, fit_intercept=True, n_jobs=None, normalize=False)"
     },
     "execution_count": 145,
     "metadata": {},
     "output_type": "execute_result"
    }
   ],
   "source": [
    "# ajustando uma regressao polinomial\n",
    "from sklearn.preprocessing import PolynomialFeatures\n",
    "poly_reg = PolynomialFeatures(degree=2)\n",
    "X_poly = poly_reg.fit_transform(X)\n",
    "pol_reg = LinearRegression()\n",
    "pol_reg.fit(X_poly, y)"
   ]
  },
  {
   "cell_type": "code",
   "execution_count": null,
   "metadata": {},
   "outputs": [],
   "source": [
    "print (X_train.shape, y_train.shape)"
   ]
  },
  {
   "cell_type": "code",
   "execution_count": 146,
   "metadata": {},
   "outputs": [],
   "source": [
    "dados_teste = pd.read_csv('test.csv')"
   ]
  },
  {
   "cell_type": "code",
   "execution_count": 147,
   "metadata": {},
   "outputs": [],
   "source": [
    "dataset_teste = dados_teste.loc[0:1460,['Id','MSZoning','LotArea','LotShape','Utilities','LandSlope','BldgType','HouseStyle','OverallQual','YearBuilt','ExterCond','BsmtQual','BsmtExposure','TotalBsmtSF','CentralAir','Electrical','BsmtFullBath','KitchenQual','TotRmsAbvGrd','GarageType','SaleType','LotConfig','Neighborhood','Condition1','OverallCond','BsmtCond','BsmtFinType2','Heating','1stFlrSF','GrLivArea', 'FullBath', 'HalfBath', 'GarageCars','MoSold','YrSold','SaleCondition']]\n"
   ]
  },
  {
   "cell_type": "code",
   "execution_count": 103,
   "metadata": {},
   "outputs": [
    {
     "data": {
      "text/plain": "(1450, 36)"
     },
     "execution_count": 103,
     "metadata": {},
     "output_type": "execute_result"
    }
   ],
   "source": [
    "dataset_teste.shape"
   ]
  },
  {
   "cell_type": "code",
   "execution_count": 148,
   "metadata": {},
   "outputs": [],
   "source": [
    "# Convertando strings em numéricos usanso dicionário\n",
    " \n",
    "dataset_teste['MSZoning'] = dataset_teste['MSZoning'].map({\n",
    "    'RL': 1,     'RM': 2,    'FV': 3,     'RH': 4,    'C (all)': 5})\n",
    "\n",
    "dataset_teste['LotShape'] = dataset_teste['LotShape'].map({'Reg': 1,'IR1': 2,'IR2':3,'IR3':4})\n",
    "\n",
    "dataset_teste['Utilities'] = dataset_teste['Utilities'].map({\n",
    "    'AllPub': 1,     'NoSeWa': 2})\n",
    "\n",
    "dataset_teste['LandSlope'] = dataset_teste['LandSlope'].map({\n",
    "    'Gtl':1,    'Mod': 2,     'Sev': 3})\n",
    "\n",
    "dataset_teste['BldgType'] = dataset_teste['BldgType'].map({\n",
    "    '1Fam': 1,    '2fmCon': 2,     'Duplex': 3,     'TwnhsE': 4,     'Twnhs': 5})\n",
    "\n",
    "dataset_teste['HouseStyle'] = dataset_teste['HouseStyle'].map({\n",
    "    '2Story': 1,    '1Story': 2,     '1.5Fin': 3,     '1.5Unf': 4, \n",
    "    'SFoyer': 5,     'SLvl': 6,     '2.5Unf': 7,    '2.5Fin': 8})\n",
    "\n",
    "dataset_teste['ExterCond'] = dataset_teste['ExterCond'].map({\n",
    "    'TA': 1, 'Gd': 2, 'Fa': 3, 'Po': 4, 'Ex': 5})\n",
    "\n",
    "dataset_teste['BsmtQual'] = dataset_teste['BsmtQual'].map({\n",
    "    'Gd': 1, 'TA': 2, 'Ex': 3, 'Fa': 4})\n",
    "       \n",
    "dataset_teste['BsmtExposure'] = dataset_teste['BsmtExposure'].map({\n",
    "    'No': 1, 'Gd': 2, 'Mn': 3, 'Av': 4 })\n",
    "\n",
    "dataset_teste['CentralAir'] = dataset_teste['CentralAir'].map({\n",
    "    'Yes': 1, 'No': 2})\n",
    "\n",
    "dataset_teste['Electrical'] = dataset_teste['Electrical'].map({\n",
    "    'SBrkr': 1, 'FuseF': 2, 'FuseA': 3, 'FuseP': 4, 'Mix': 5})\n",
    "\n",
    "dataset_teste['KitchenQual'] = dataset_teste['KitchenQual'].map({\n",
    "    'Gd': 1, 'TA': 2, 'Ex': 3, 'Fa': 4})\n",
    "\n",
    "dataset_teste['GarageType'] = dataset_teste['GarageType'].map({\n",
    "    'Attchd': 1, 'Detchd': 2, 'BuiltIn': 3, 'CarPort': 4, 'Basment': 5, '2Types': 6})\n",
    "\n",
    "dataset_teste['SaleType'] = dataset_teste['SaleType'].map({\n",
    "    'WD': 1, 'New': 2, 'COD': 3, 'ConLD': 4, 'ConLI': 5, 'CWD': 6, 'ConLw': 7, 'Con': 8, 'Oth': 9})\n",
    "\n",
    "# --- novos incluidos nesta versao---\n",
    "    \n",
    "dataset_teste['LotConfig'] = dataset_teste['LotConfig'].map({\n",
    "    'Inside': 1, 'FR2': 2, 'Corner': 3, 'CulDSac': 4, 'FR3': 5})\n",
    "\n",
    "dataset_teste['Neighborhood'] = dataset_teste['Neighborhood'].map({\n",
    "    'CollgCr':1, 'Veenker':2, 'Crawfor':3, 'NoRidge':4, 'Mitchel':5, 'Somerst':6, 'NWAmes':7, 'OldTown':8,'BrkSide':9, 'Sawyer':10, 'NridgHt':11, 'Names':12, 'SawyerW':13, 'IDOTRR':14, 'MeadowV':15, 'Edwards':16,'Timber':17, 'Gilbert':18, 'StoneBr':19, 'ClearCr':20, 'NpkVill':21, 'Blmngtn':22, 'BrDale':23, 'SWISU':24,'Blueste':25})\n",
    "\n",
    "dataset_teste['Condition1'] = dataset_teste['Condition1'].map({\n",
    "    'Norm': 1, 'Feedr': 2, 'PosN': 3, 'Artery': 4, 'RRAe': 5, 'RRNn': 6, 'RRAn': 7, 'PosA': 8, 'RRNe': 9})\n",
    "\n",
    "dataset_teste['BsmtCond'] = dataset_teste['BsmtCond'].map({\n",
    "    'TA': 1, 'Gd': 2, 'Fa': 3, 'Po': 4})\n",
    "\n",
    "dataset_teste['BsmtFinType2'] = dataset_teste['BsmtFinType2'].map({\n",
    "    'Unf': 1, 'BLQ': 2, 'ALQ': 3, 'Rec': 4, 'LwQ': 5, 'GLQ': 6})\n",
    "\n",
    "dataset_teste['Heating'] = dataset_teste['Heating'].map({\n",
    "    'GasA': 1, 'GasW': 2, 'Grav': 3, 'Wall': 4, 'OthW': 5, 'Floor': 6})\n",
    "\n",
    "dataset_teste['SaleCondition'] = dataset_teste['SaleCondition'].map({'Normal': 1, 'Abnorml': 2, 'Partial': 3, 'AdjLand': 4, 'Alloca': 5, 'Family': 6})"
   ]
  },
  {
   "cell_type": "code",
   "execution_count": 149,
   "metadata": {},
   "outputs": [],
   "source": [
    "dataset_teste.fillna(0, inplace=True)"
   ]
  },
  {
   "cell_type": "code",
   "execution_count": 70,
   "metadata": {},
   "outputs": [
    {
     "data": {
      "text/plain": "Id                 int64\nMSZoning         float64\nLotArea            int64\nLotShape           int64\nUtilities        float64\nLandSlope          int64\nBldgType           int64\nHouseStyle         int64\nOverallQual        int64\nYearBuilt          int64\nExterCond          int64\nBsmtQual         float64\nBsmtExposure     float64\nTotalBsmtSF      float64\nCentralAir       float64\nElectrical         int64\nBsmtFullBath     float64\nKitchenQual      float64\nTotRmsAbvGrd       int64\nGarageType       float64\nSaleType         float64\nSalePrice        float64\nLotConfig          int64\nNeighborhood     float64\nCondition1         int64\nOverallCond        int64\nBsmtCond         float64\nBsmtFinType2     float64\nHeating            int64\n1stFlrSF           int64\nGrLivArea          int64\nFullBath           int64\nHalfBath           int64\nGarageCars       float64\nMoSold             int64\nYrSold             int64\nSaleCondition      int64\ndtype: object"
     },
     "execution_count": 70,
     "metadata": {},
     "output_type": "execute_result"
    }
   ],
   "source": [
    "dataset_teste.dtypes"
   ]
  },
  {
   "cell_type": "code",
   "execution_count": null,
   "metadata": {},
   "outputs": [],
   "source": [
    "# Verificar se o comando acima funcionou:\n",
    "(dataset_teste.isnull().sum() / dataset_teste.shape[0]).sort_values(ascending=False)"
   ]
  },
  {
   "cell_type": "code",
   "execution_count": 106,
   "metadata": {},
   "outputs": [
    {
     "data": {
      "text/plain": "(1460, 36)"
     },
     "execution_count": 106,
     "metadata": {},
     "output_type": "execute_result"
    }
   ],
   "source": [
    "dataset.shape"
   ]
  },
  {
   "cell_type": "code",
   "execution_count": 107,
   "metadata": {},
   "outputs": [
    {
     "data": {
      "text/plain": "(1450, 36)"
     },
     "execution_count": 107,
     "metadata": {},
     "output_type": "execute_result"
    }
   ],
   "source": [
    "dataset_teste.shape"
   ]
  },
  {
   "cell_type": "code",
   "execution_count": 150,
   "metadata": {},
   "outputs": [],
   "source": [
    "X2 = dataset_teste"
   ]
  },
  {
   "cell_type": "code",
   "execution_count": 151,
   "metadata": {},
   "outputs": [],
   "source": [
    "pred_novas_casas = linear_reg.predict(X2)"
   ]
  },
  {
   "cell_type": "code",
   "execution_count": 123,
   "metadata": {},
   "outputs": [
    {
     "name": "stdout",
     "output_type": "stream",
     "text": "[103600.52955532 156152.48969721 161491.94107002 ... 165214.80712666\n  95842.23052981 231723.05751477]\n"
    }
   ],
   "source": [
    "print(pred_novas_casas)"
   ]
  },
  {
   "cell_type": "code",
   "execution_count": null,
   "metadata": {},
   "outputs": [],
   "source": [
    "dataset_teste.head()"
   ]
  },
  {
   "cell_type": "code",
   "execution_count": null,
   "metadata": {},
   "outputs": [],
   "source": [
    "dataset_teste.shape"
   ]
  },
  {
   "cell_type": "code",
   "execution_count": null,
   "metadata": {},
   "outputs": [],
   "source": [
    "pred_novas_casas.shape"
   ]
  },
  {
   "cell_type": "code",
   "execution_count": 152,
   "metadata": {},
   "outputs": [],
   "source": [
    "# criar a coluna SalePrice no dataset de teste e preencher com os valores preditos\n",
    "dataset_teste['SalePrice'] = pred_novas_casas"
   ]
  },
  {
   "cell_type": "code",
   "execution_count": null,
   "metadata": {},
   "outputs": [],
   "source": [
    "dataset_teste.head()"
   ]
  },
  {
   "cell_type": "code",
   "execution_count": 153,
   "metadata": {},
   "outputs": [],
   "source": [
    "w = dataset_teste.loc[:,['Id','SalePrice']]"
   ]
  },
  {
   "cell_type": "code",
   "execution_count": null,
   "metadata": {},
   "outputs": [],
   "source": [
    "print (w)"
   ]
  },
  {
   "cell_type": "code",
   "execution_count": 121,
   "metadata": {},
   "outputs": [
    {
     "name": "stdout",
     "output_type": "stream",
     "text": "258     15527.123796\n267     11466.285950\n288     19568.101380\n649     26232.250548\n1233    -3071.047932\n            ...     \n793    -12596.903627\n631    -25417.758861\n1172    -6741.772284\n1167   -28497.778552\n529    -53516.119400\nName: SalePrice, Length: 438, dtype: float64 / 258     15527.123796\n267     11466.285950\n288     19568.101380\n649     26232.250548\n1233    -3071.047932\n            ...     \n793    -12596.903627\n631    -25417.758861\n1172    -6741.772284\n1167   -28497.778552\n529    -53516.119400\nName: SalePrice, Length: 438, dtype: float64\n"
    }
   ],
   "source": [
    "print (y_test - pred_teste, '/', y_test - pred_teste)"
   ]
  },
  {
   "cell_type": "code",
   "execution_count": 154,
   "metadata": {},
   "outputs": [],
   "source": [
    "# gerar o arquivo com o resultado\n",
    "w.to_csv(\"predition4.csv\",columns=[\"Id\",\"SalePrice\"],index=False)"
   ]
  },
  {
   "cell_type": "code",
   "execution_count": null,
   "metadata": {},
   "outputs": [],
   "source": []
  }
 ]
}