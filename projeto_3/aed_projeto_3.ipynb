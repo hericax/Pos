{
 "cells": [
  {
   "cell_type": "markdown",
   "metadata": {},
   "source": [
    "# Projeto #3 - Meu primeiro projeto de IA\n",
    "\n",
    "Antes de começar, leia as [Instruções](https://github.com/thvmm/pos-ds-ia/blob/master/projeto_3/README.md) e os [Critérios de Avaliação](https://github.com/thvmm/pos-ds-ia/blob/master/projeto_3/README.md).\n"
   ]
  },
  {
   "cell_type": "markdown",
   "metadata": {},
   "source": [
    "### 1) **(5%)** Qual a base escolhida e qual seu interesse nela (podem ser mais de uma)? Descrição básica do conjunto de dados escolhido pelo aluno (1 parágrafo)."
   ]
  },
  {
   "cell_type": "markdown",
   "metadata": {},
   "source": [
    "*Indique o link da base no Kaggle e explique em um parágrafo curto por que essa base é interessante para você. Quais são as características básicas da base?*\n",
    "\n",
    "Ex: Estou trabalhando com o histório de vendas de um varejo e uma outra base do mesmo varejista das suas campanhas de marketing realizadas em veiculos de comunicação."
   ]
  },
  {
   "cell_type": "code",
   "execution_count": null,
   "metadata": {},
   "outputs": [],
   "source": [
    "A base escolhida é de filmes - https://www.kaggle.com/rounakbanik/the-movies-dataset \n",
    "A base contém informações sobre 45.000 filmes em destaque no conjunto de dados Full MovieLens."
   ]
  },
  {
   "cell_type": "markdown",
   "metadata": {},
   "source": [
    "### 2) **(5%)** Que tipo de problema podemos solucionar com ela? Liste ao menos 3 hipóteses sobre seus dados, caso sua base seja muito restrita converse com os professores antes de seguir.\n",
    "- Quais são suas hipoteses sobre os dados? O que vc espera descobrir com esse estudo?\n",
    "\n",
    "Ex: Hipoteses válidas seriam:\n",
    "- As pessoas fazem mais compras nos dias utéis ou finais de semana?\n",
    "- Existe diferença entre o padrão de compra de segunda ou terça feira?\n",
    "- O horário de pico influencia no padrão de compra dos clientes?\n",
    "- Quais produtos são comprados mais juntos? Existe diferença se observarmos a idade do cliente?\n",
    "- Qual o efeito de uma campanha de marketing nas vendas?\n"
   ]
  },
  {
   "cell_type": "code",
   "execution_count": null,
   "metadata": {},
   "outputs": [],
   "source": [
    "1 - Quais são os gêneros de filmes melhor avaliados?\n",
    "2 - Existe relação dos filmes mais bem avaliados para a empresa que o produziu?\n",
    "3 - Há influência dos idiomas disponíveis no filmes na avaliação dos filmes?\n",
    "4 - Tem relação de custo de produção do filme com as melhores avaliações?"
   ]
  },
  {
   "cell_type": "markdown",
   "metadata": {},
   "source": [
    "### 3) **(20%)** Preparação de dados\n",
    "\n",
    "Hora de deixar a base perfeita para se trabalhar. Limpe os dados, integre com outras fontes e transforme-o para ficar pronto para se trabalhar! No fim, mostre um antes e depois de seu dataframe."
   ]
  },
  {
   "cell_type": "code",
   "execution_count": null,
   "metadata": {},
   "outputs": [],
   "source": [
    "# Implemente sua análise aqui. Use mais blocos se achar que ficará mais organizado."
   ]
  },
  {
   "cell_type": "code",
   "execution_count": 1,
   "metadata": {},
   "outputs": [],
   "source": [
    "# importando as bibliotecas utilizadas no projeto\n",
    "import pandas as pd\n",
    "import numpy as np \n",
    "import matplotlib.pyplot as plt"
   ]
  },
  {
   "cell_type": "code",
   "execution_count": 2,
   "metadata": {},
   "outputs": [],
   "source": [
    "# Leitura do dataset\n",
    "df = pd.read_csv('C:/Users/Herica/Desktop/Herica/cursoIACD/bases/filmes/movies_metadata.csv')\n",
    "filmes = df"
   ]
  },
  {
   "cell_type": "code",
   "execution_count": null,
   "metadata": {},
   "outputs": [],
   "source": [
    "# Pré-visaulização do dataset\n",
    "filmes.head(3)"
   ]
  },
  {
   "cell_type": "code",
   "execution_count": null,
   "metadata": {},
   "outputs": [],
   "source": [
    "# tamanho da nossa base\n",
    "print('Número de linhas e número de colunas:', filmes.shape)"
   ]
  },
  {
   "cell_type": "code",
   "execution_count": null,
   "metadata": {},
   "outputs": [],
   "source": [
    "filmes.describe()"
   ]
  },
  {
   "cell_type": "code",
   "execution_count": null,
   "metadata": {},
   "outputs": [],
   "source": [
    "filmes.dtypes"
   ]
  },
  {
   "cell_type": "code",
   "execution_count": null,
   "metadata": {},
   "outputs": [],
   "source": [
    "# --------------------------- TRATAMENTO DE DADOS NULOS ---------------------"
   ]
  },
  {
   "cell_type": "code",
   "execution_count": null,
   "metadata": {},
   "outputs": [],
   "source": [
    "filmes.isnull().sum()"
   ]
  },
  {
   "cell_type": "code",
   "execution_count": null,
   "metadata": {},
   "outputs": [],
   "source": [
    "# PERCENTUAL DE ELEMENTOS NULOS\n",
    "round(filmes.isnull().mean() * 100,2)"
   ]
  },
  {
   "cell_type": "code",
   "execution_count": 3,
   "metadata": {},
   "outputs": [],
   "source": [
    "#dropar colunas consideradas irrelevantes na primeira análise ou que possuem muitos valores nulos\n",
    "filmes.drop(['belongs_to_collection'],axis = 1, inplace = True)\n",
    "filmes.drop(['homepage'],axis = 1, inplace = True)\n",
    "filmes.drop(['poster_path'],axis = 1, inplace = True)     \n",
    "filmes.drop(['tagline'],axis = 1, inplace = True)     "
   ]
  },
  {
   "cell_type": "code",
   "execution_count": 4,
   "metadata": {},
   "outputs": [],
   "source": [
    "# REMOVE ELEMENTOS QUE POSSUEM DADOS NULOS\n",
    "filmes = filmes.dropna()"
   ]
  },
  {
   "cell_type": "code",
   "execution_count": 5,
   "metadata": {},
   "outputs": [],
   "source": [
    "# resetando os índices\n",
    "filmes = filmes.reset_index()"
   ]
  },
  {
   "cell_type": "code",
   "execution_count": null,
   "metadata": {},
   "outputs": [],
   "source": [
    "# validando se ainda há registros nulos\n",
    "filmes.isnull().sum()"
   ]
  },
  {
   "cell_type": "code",
   "execution_count": null,
   "metadata": {},
   "outputs": [],
   "source": [
    "# tamanho da base após exclusão de features e registros nulos\n",
    "print('Número de linhas e número de colunas:', filmes.shape)"
   ]
  },
  {
   "cell_type": "code",
   "execution_count": 6,
   "metadata": {},
   "outputs": [],
   "source": [
    "# TRANSFORMANDO A FEATURE \"adult\" EM BINÁRIO, ONDE 'True' = 0 (classificação livre) e 'False' = 1 (são somente para adultos)\n",
    "filmes[\"classificacao\"] = filmes[\"adult\"].apply(lambda x: 1 if x == \"False\" else 0)"
   ]
  },
  {
   "cell_type": "code",
   "execution_count": null,
   "metadata": {},
   "outputs": [],
   "source": [
    "# VALIDANDO TRANSFORMAÇÃO da feature \"adult\"\n",
    "filmes[[\"classificacao\", \"adult\",\"original_title\"]].head(3)"
   ]
  },
  {
   "cell_type": "code",
   "execution_count": 7,
   "metadata": {},
   "outputs": [],
   "source": [
    "# -------------------- RENOMEANDO AS FEATURES --------------------------\n",
    "# renomear as coluna e usar todas com caixa baixa para padronizar\n",
    "filmes = filmes.rename(columns={'adult': \"adulto\", 'budget': 'despesas', 'genres': 'genero', 'original_language': 'lingua_original', 'original_title': 'titulo_original', 'overview': 'descricao', 'popularity': 'popularidade', 'production_companies': 'cia_producao', 'production_countries': 'pais_producao', 'release_date': 'data_lancamento', 'revenue': 'receita', 'runtime': 'duracao', 'spoken_languages': 'idiomas_falados', 'title': 'titulo', 'vote_average': 'media_votos', 'vote_count': 'qtde_votos','video': 'video'})"
   ]
  },
  {
   "cell_type": "code",
   "execution_count": null,
   "metadata": {},
   "outputs": [],
   "source": [
    "# ------------- Transformar as features que são um dicionário em uma lista --------------"
   ]
  },
  {
   "cell_type": "code",
   "execution_count": 8,
   "metadata": {},
   "outputs": [],
   "source": [
    "# feature genero\n",
    "\n",
    "\n",
    "# Recupera os dados da feature e salva numa nova coluna\n",
    "from ast import literal_eval\n",
    "filmes['genero'] = filmes['genero'].apply(literal_eval) # verifica se todos os dados são do mesmo tipo\n",
    "#Função para pegar os nomes dos gêneros, caso exista.\n",
    "def get_list(x):\n",
    "    if isinstance(x, list):\n",
    "        names = [i['name'] for i in x]\n",
    "        if len(names) > 3:\n",
    "            names = names[:3]\n",
    "        return names\n",
    "    return []\n",
    "filmes['novo_genero'] = filmes['genero'].apply(get_list) #O retorno será uma lista com todos os gêneros. quando coloco uma coluna que não existe, ele cria a coluna automaticamente"
   ]
  },
  {
   "cell_type": "code",
   "execution_count": null,
   "metadata": {},
   "outputs": [],
   "source": [
    "# VALIDANDO TRANSFORMAÇÃO\n",
    "filmes[[\"novo_genero\", \"genero\", \"titulo_original\"]].head(3)"
   ]
  },
  {
   "cell_type": "code",
   "execution_count": null,
   "metadata": {},
   "outputs": [],
   "source": [
    "# Criar uma lista que contenha somente valores únicos de gênero, para idêntificá-los e contabilizá-los\n",
    "todos_registros = len(filmes.novo_genero)        \n",
    "generos_unicos = [] # lista onde será incluídos os gêneros únicos\n",
    "x = 0 \n",
    "#print ('total de registros do dataset: ', todos_registros)\n",
    "while (x < todos_registros): # enquanto tiver registros no dataset\n",
    "    #print (\"x:\", x)\n",
    "    generos = filmes.novo_genero[x]\n",
    "    #print (\"P/ x = {} todos os generos são {}:\".format(x,generos))\n",
    "    tam_generos = len(generos)\n",
    "    #print (\"tam_generos: \", tam_generos)\n",
    "    i = z = 0\n",
    "    while (i < tam_generos): # enquanto o registro tiver generos\n",
    "        cada_genero_registo = filmes.novo_genero[x][i]\n",
    "        #print (\"Para x = {} e i = {} os genero é {} \". format(x, i ,cada_genero_registo))\n",
    "        if (not cada_genero_registo in generos_unicos): # verifica se o genero está na lista de generos únicos\n",
    "            generos_unicos.append(cada_genero_registo) # inclui o genero na lista de generos únicos\n",
    "            #print (\"lista com os generos únicos\", generos_unicos)\n",
    "            z +=1\n",
    "        i += 1        \n",
    "    x += 1\n",
    "\n",
    "\n",
    "print (\"generos únicos: \", len(generos_unicos))\n",
    "print (generos_unicos)"
   ]
  },
  {
   "cell_type": "code",
   "execution_count": 9,
   "metadata": {},
   "outputs": [],
   "source": [
    "# transformar as opções possíveis de genero em features com conteúdo true ou false \n",
    "from mlxtend.preprocessing import TransactionEncoder\n",
    "from mlxtend.frequent_patterns import apriori\n",
    "te = TransactionEncoder()\n",
    "genero_x = te.fit(filmes.novo_genero).transform(filmes.novo_genero)\n",
    "df_novo = pd.DataFrame(genero_x, columns=te.columns_)"
   ]
  },
  {
   "cell_type": "code",
   "execution_count": null,
   "metadata": {},
   "outputs": [],
   "source": [
    "df_novo.head(1)"
   ]
  },
  {
   "cell_type": "code",
   "execution_count": 10,
   "metadata": {},
   "outputs": [],
   "source": [
    "# resetando os índices\n",
    "df_novo = df_novo.reset_index()\n",
    "\n",
    "# Mesclado os dois dataframes\n",
    "horizontal_stack = pd.concat([filmes, df_novo], axis=1)"
   ]
  },
  {
   "cell_type": "code",
   "execution_count": 11,
   "metadata": {},
   "outputs": [],
   "source": [
    "# copiando o conteúdo do novo dataframe para o filme utilizado\n",
    "filmes = horizontal_stack.copy()"
   ]
  },
  {
   "cell_type": "code",
   "execution_count": null,
   "metadata": {},
   "outputs": [],
   "source": [
    "# após a transformação do conteúdo da feature genero para novas features, o data set ficou com as seguintes colunas: \n",
    "filmes.columns"
   ]
  },
  {
   "cell_type": "code",
   "execution_count": 12,
   "metadata": {},
   "outputs": [],
   "source": [
    "# renomear as colunas de genero e usar todas com caixa baixa para padronizar\n",
    "filmes = filmes.rename(columns={'Action': \"acao\", 'Adventure': 'aventura', 'Animation': 'animacao', 'Comedy': 'comedia', 'Crime': 'crime', 'Documentary': 'documentario', 'Drama': 'drama', 'Family': 'familia', 'Fantasy': 'fantasia', 'Foreign': 'estrangeiro', 'History': 'historia', 'Horror': 'horror', 'Music': 'musical', 'Mystery': 'misterio', 'Romance': 'romance', 'Science Fiction': 'ficcao_cientifica', 'TV Movie': 'filmes_tv', 'Thriller': 'suspense', 'War': 'gerra', 'Western': 'ocidental'})\n"
   ]
  },
  {
   "cell_type": "code",
   "execution_count": null,
   "metadata": {},
   "outputs": [],
   "source": [
    "# validando a alteração do nome das features\n",
    "filmes.columns"
   ]
  },
  {
   "cell_type": "code",
   "execution_count": null,
   "metadata": {},
   "outputs": [],
   "source": [
    "# Verificando o tamanho da base após a transformação da features de genero\n",
    "print('Número de linhas e número de colunas:', filmes.shape)"
   ]
  },
  {
   "cell_type": "code",
   "execution_count": 13,
   "metadata": {},
   "outputs": [],
   "source": [
    "# Feature pais_producao\n",
    "\n",
    "\n",
    "# Recupera os dados da feature e salva numa nova coluna\n",
    "from ast import literal_eval\n",
    "filmes['pais_producao'] = filmes['pais_producao'].apply(literal_eval) # verifica se todos os dados são do mesmo tipo\n",
    "#Função para pegar os nomes dos gêneros, caso exista.\n",
    "def get_list(x):\n",
    "    if isinstance(x, list):\n",
    "        names = [i['name'] for i in x]\n",
    "        if len(names) > 3:\n",
    "            names = names[:3]\n",
    "        return names\n",
    "    return []\n",
    "filmes['novo_pais_producao'] = filmes['pais_producao'].apply(get_list) #O retorno será uma lista com todos os gêneros. quando coloco uma coluna que não existe, ele cria a coluna automaticamente"
   ]
  },
  {
   "cell_type": "code",
   "execution_count": null,
   "metadata": {},
   "outputs": [],
   "source": [
    "# VALIDANDO TRANSFORMAÇÃO\n",
    "filmes[[\"novo_pais_producao\", \"pais_producao\", \"titulo_original\"]].head(3)"
   ]
  },
  {
   "cell_type": "code",
   "execution_count": null,
   "metadata": {},
   "outputs": [],
   "source": [
    "# Criar uma lista que contenha somente valores únicos do pais de produção, para idêntificá-los e contabilizá-los\n",
    "todos_registros = len(filmes.novo_pais_producao)        \n",
    "pais_producao_unicos = [] # lista onde será incluídos os países de produção únicos\n",
    "x = 0 \n",
    "print ('total de registros do dataset: ', todos_registros)\n",
    "while (x < todos_registros): # enquanto tiver registros no dataset\n",
    "    pais = filmes.novo_pais_producao[x]\n",
    "    tam_pais = len(pais)\n",
    "    i = z = 0\n",
    "    while (i < tam_pais): # enquanto o registro tiver paises de produção\n",
    "        cada_pais_registo = filmes.novo_pais_producao[x][i]\n",
    "        if (not cada_pais_registo in pais_producao_unicos): # verifica se o pais de produção está na lista de paises únicos\n",
    "            pais_producao_unicos.append(cada_pais_registo) # inclui o pais na lista de paises únicos\n",
    "            z +=1\n",
    "        i += 1        \n",
    "    x += 1\n",
    "\n",
    "print (\"pais_producao_unicos: \", len(pais_producao_unicos))\n",
    "print (pais_producao_unicos)"
   ]
  },
  {
   "cell_type": "code",
   "execution_count": 14,
   "metadata": {},
   "outputs": [],
   "source": [
    "# Feature idiomas_falados\n",
    "\n",
    "# Recupera os dados da feature e salva numa nova coluna\n",
    "from ast import literal_eval\n",
    "filmes['idiomas_falados'] = filmes['idiomas_falados'].apply(literal_eval) \n",
    "def get_list(x):\n",
    "    if isinstance(x, list):\n",
    "        names = [i['name'] for i in x]\n",
    "        if len(names) > 3:\n",
    "            names = names[:3]\n",
    "        return names\n",
    "    return []\n",
    "filmes['novo_idiomas_falados'] = filmes['idiomas_falados'].apply(get_list) "
   ]
  },
  {
   "cell_type": "code",
   "execution_count": null,
   "metadata": {},
   "outputs": [],
   "source": [
    "# VALIDANDO TRANSFORMAÇÃO\n",
    "filmes[[\"novo_idiomas_falados\", \"idiomas_falados\", \"titulo_original\"]].head(3)"
   ]
  },
  {
   "cell_type": "code",
   "execution_count": null,
   "metadata": {},
   "outputs": [],
   "source": [
    "# Criar uma lista que contenha somente valores únicos de linguas, para idêntificá-los e contabilizá-los\n",
    "# # existem registros com valores '??????' e '?????' (Turkic), estes NÃO ESTÃO SENDO TRATADOS ????????????????????????????????????????????????????????????????????????????????????????????????????? \n",
    "# https://en.wikipedia.org/wiki/List_of_ISO_639-1_codes\n",
    "\n",
    "todos_registros = len(filmes.novo_idiomas_falados)        \n",
    "idiomas_falados_unicos = [] # lista onde será incluídos os linguas únicos\n",
    "x = 0 \n",
    "print ('total de registros do dataset: ', todos_registros)\n",
    "while (x < todos_registros): # enquanto tiver registros no dataset\n",
    "    #print (\"x:\", x)\n",
    "    idiomas = filmes.novo_idiomas_falados[x]\n",
    "    tam_idiomas = len(idiomas)\n",
    "    i = z = b = 0\n",
    "    while (i < tam_idiomas): # enquanto o registro tiver linguas\n",
    "        cada_idioma_registo = filmes.novo_idiomas_falados[x][i]\n",
    "        if (not cada_idioma_registo in idiomas_falados_unicos): # verifica se a lingua está na lista\n",
    "            if (cada_idioma_registo != '??????') and (cada_idioma_registo != '?????'):               \n",
    "                idiomas_falados_unicos.append(cada_idioma_registo) # inclui na lista de linguas unicas\n",
    "            z +=1\n",
    "        i += 1        \n",
    "    x += 1\n",
    "\n",
    "print (\"idiomas_falados_unicos: \", len(idiomas_falados_unicos))\n",
    "print (idiomas_falados_unicos)"
   ]
  },
  {
   "cell_type": "code",
   "execution_count": 15,
   "metadata": {
    "tags": [
     "outputPrepend",
     "outputPrepend",
     "outputPrepend",
     "outputPrepend",
     "outputPrepend",
     "outputPrepend",
     "outputPrepend",
     "outputPrepend",
     "outputPrepend",
     "outputPrepend",
     "outputPrepend",
     "outputPrepend",
     "outputPrepend",
     "outputPrepend",
     "outputPrepend",
     "outputPrepend",
     "outputPrepend",
     "outputPrepend",
     "outputPrepend",
     "outputPrepend",
     "outputPrepend",
     "outputPrepend",
     "outputPrepend",
     "outputPrepend",
     "outputPrepend",
     "outputPrepend",
     "outputPrepend",
     "outputPrepend",
     "outputPrepend",
     "outputPrepend",
     "outputPrepend",
     "outputPrepend",
     "outputPrepend",
     "outputPrepend",
     "outputPrepend",
     "outputPrepend",
     "outputPrepend",
     "outputPrepend",
     "outputPrepend",
     "outputPrepend",
     "outputPrepend",
     "outputPrepend",
     "outputPrepend",
     "outputPrepend",
     "outputPrepend",
     "outputPrepend",
     "outputPrepend",
     "outputPrepend",
     "outputPrepend",
     "outputPrepend",
     "outputPrepend",
     "outputPrepend",
     "outputPrepend",
     "outputPrepend",
     "outputPrepend",
     "outputPrepend",
     "outputPrepend",
     "outputPrepend",
     "outputPrepend",
     "outputPrepend"
    ]
   },
   "outputs": [],
   "source": [
    "# Feature cia_producao\n",
    "\n",
    "\n",
    "# Recupera os dados da feature e salva numa nova coluna\n",
    "from ast import literal_eval\n",
    "filmes['cia_producao'] = filmes['cia_producao'].apply(literal_eval) \n",
    "def get_list(x):\n",
    "    if isinstance(x, list):\n",
    "        names = [i['name'] for i in x]\n",
    "        if len(names) > 3:\n",
    "            names = names[:3]\n",
    "        return names\n",
    "    return []\n",
    "filmes['novo_cia_producao'] = filmes['cia_producao'].apply(get_list) \n"
   ]
  },
  {
   "cell_type": "code",
   "execution_count": null,
   "metadata": {},
   "outputs": [],
   "source": [
    "# VALIDANDO TRANSFORMAÇÃO\n",
    "filmes[[\"novo_cia_producao\", \"cia_producao\", \"titulo_original\"]].head(3)"
   ]
  },
  {
   "cell_type": "code",
   "execution_count": null,
   "metadata": {
    "tags": [
     "outputPrepend"
    ]
   },
   "outputs": [],
   "source": [
    "# Criar uma lista que contenha somente valores únicos de cia, para idêntificá-los e contabilizá-los\n",
    "todos_registros = len(filmes.novo_cia_producao)        \n",
    "cia_unicos = [] # lista onde será incluídos os cia únicos\n",
    "x = 0 \n",
    "print ('total de registros do dataset: ', todos_registros)\n",
    "while (x < todos_registros):\n",
    "    cia = filmes.novo_cia_producao[x]\n",
    "    tam_cia = len(cia)\n",
    "    i = z = b = 0\n",
    "    while (i < tam_cia): \n",
    "        cada_cia_registo = filmes.novo_cia_producao[x][i]\n",
    "        if (not cada_cia_registo in cia_unicos):      \n",
    "            cia_unicos.append(cada_cia_registo) \n",
    "            z +=1\n",
    "        i += 1        \n",
    "    x += 1\n",
    "\n",
    "print (\"cia_unicos: \", len(cia_unicos))\n",
    "#print (cia_unicos)"
   ]
  },
  {
   "cell_type": "code",
   "execution_count": null,
   "metadata": {},
   "outputs": [],
   "source": [
    "# verificando os valores da feature status\n",
    "filmes.status.unique()"
   ]
  },
  {
   "cell_type": "code",
   "execution_count": 16,
   "metadata": {},
   "outputs": [
    {
     "output_type": "execute_result",
     "data": {
      "text/plain": "  data_lancamento ano_lancamento\n0      1995-10-30           1995\n1      1995-12-15           1995",
      "text/html": "<div>\n<style scoped>\n    .dataframe tbody tr th:only-of-type {\n        vertical-align: middle;\n    }\n\n    .dataframe tbody tr th {\n        vertical-align: top;\n    }\n\n    .dataframe thead th {\n        text-align: right;\n    }\n</style>\n<table border=\"1\" class=\"dataframe\">\n  <thead>\n    <tr style=\"text-align: right;\">\n      <th></th>\n      <th>data_lancamento</th>\n      <th>ano_lancamento</th>\n    </tr>\n  </thead>\n  <tbody>\n    <tr>\n      <th>0</th>\n      <td>1995-10-30</td>\n      <td>1995</td>\n    </tr>\n    <tr>\n      <th>1</th>\n      <td>1995-12-15</td>\n      <td>1995</td>\n    </tr>\n  </tbody>\n</table>\n</div>"
     },
     "metadata": {},
     "execution_count": 16
    }
   ],
   "source": [
    "# Converter a data de lançamento para ter somente o ano\n",
    "data = filmes['data_lancamento'] # se o resultado for uma lista das datas do banco\n",
    "ano = [a.split('-')[0] for a in data]\n",
    "filmes['ano_lancamento'] = ano\n",
    "\n",
    "# validando a transformação\n",
    "filmes[['data_lancamento','ano_lancamento']].head(2)"
   ]
  },
  {
   "cell_type": "code",
   "execution_count": null,
   "metadata": {},
   "outputs": [],
   "source": [
    "# validando se ainda há registros nulos\n",
    "filmes.isnull().sum()"
   ]
  },
  {
   "cell_type": "code",
   "execution_count": null,
   "metadata": {},
   "outputs": [],
   "source": [
    "# ------------------- ALTERAÇÃO DO TIPOS DAS FEATURES ---------------"
   ]
  },
  {
   "cell_type": "code",
   "execution_count": null,
   "metadata": {},
   "outputs": [],
   "source": [
    "filmes.dtypes"
   ]
  },
  {
   "cell_type": "code",
   "execution_count": 17,
   "metadata": {},
   "outputs": [],
   "source": [
    "# converter variáveis object para categoricas\n",
    "filmes.adulto = filmes.adulto.astype('category')\n",
    "filmes.titulo_original = filmes.titulo_original.astype('category')\n",
    "filmes.status = filmes.status.astype('category')\n",
    "filmes.titulo = filmes.titulo.astype('category')"
   ]
  },
  {
   "cell_type": "code",
   "execution_count": 18,
   "metadata": {},
   "outputs": [],
   "source": [
    "# converter variáveis objecto para float ou inteiro\n",
    "filmes.popularidade = filmes.popularidade.astype('float64')\n",
    "filmes.despesas = filmes.despesas.astype('float64')\n",
    "filmes.receita = filmes.receita.astype('float64')\n",
    "filmes.qtde_votos = filmes.qtde_votos.astype('int64')\n",
    "filmes.id = filmes.id.astype('int64')\n",
    "filmes.ano_lancamento = filmes.ano_lancamento.astype('int64')"
   ]
  },
  {
   "cell_type": "code",
   "execution_count": 19,
   "metadata": {},
   "outputs": [],
   "source": [
    "# o dataset está com duas colunas index. Ambas serão excluídas\n",
    "filmes.drop(['index'],axis = 1, inplace = True)"
   ]
  },
  {
   "cell_type": "code",
   "execution_count": null,
   "metadata": {},
   "outputs": [],
   "source": [
    "filmes.dtypes"
   ]
  },
  {
   "cell_type": "code",
   "execution_count": null,
   "metadata": {},
   "outputs": [],
   "source": [
    "# ------------------------ DESCRIÇÃO DAS FEATURES --------------------\n",
    "# descrição das features\n",
    "'adulto' - se o filme é para adulto ou não \n",
    "'despesas' - valor gasto na produção e divulgação dos vídeos\n",
    "'genero' - qual é o gêncero do filme.\n",
    "'id' - número que identifica o filme\n",
    "'imdb_id' - número unico que identifica o filme na base do imdb\n",
    "'lingua_original' - qual é o idioma original do filme. \n",
    "'titulo_original' - titulo original do filme\n",
    "'descricao' - descrição do filme\n",
    "'popularidade' - qual é a popularidade do filme\n",
    "'cia_producao' - qual foi a companhia que produziu o filme. \n",
    "'pais_producao' - qual foi o país que produziu o filme.\n",
    "'data_lancamento' - qual foi a data de lançamento do filme\n",
    "'receita' -  qual foi a receita obtida com o filme\n",
    "'duracao' - qual é a duração do filme em minutos\n",
    "'idiomas_falados' - quais são os idiomas falados no filme. \n",
    "'status' - status do filmes. \n",
    "'slogan' - qual é o slogan do filme.\n",
    "'titulo' - qual é o título do filme\n",
    "'video' - se tem o video ou não do traile ????????? precisa desta feature ?????\n",
    "'media_votos' - qual é a média de votos dada pelos usuários\n",
    "'qtde_votos' - qual foi a quantidade de votos\n",
    "\n",
    "# Tipos de features e seus possíveis valores\n",
    "A) Variáveis categóricas - O dataset contém 8 variáveis:\n",
    "1 - adulto - contém dois valores: 'false' = 1, 'true' = 0\n",
    "2 - genero -  contém 29 valores possíveis. Cada registro foi transformado em feature\n",
    "3 - lingua_original -possui 90 valores possíveis.\n",
    "4 - cia_producao   - possui 19368 valores possíveis.\n",
    "5 - pais_producao  - 155 valores possíveis.\n",
    "6 - idiomas_falado - 73 valores possíveis.\n",
    "7 - status - 'Released', nan, 'Rumored', 'Post Production', 'In Production', 'Planned', 'Canceled'          \n",
    "8 - video - False, True, nan\n",
    "9 - novo_genero \n",
    "10 - novo_pais_producao\n",
    "11 - novo_idiomas_falados\n",
    "12 - novo_cia_producao\n",
    "\n",
    "B) Variáveis discretas - O dataset contém 13 variáveis: \n",
    "despesas, id, imdb_id, titulo_original, descricao,data_lancamento,popularidade,  \n",
    "receita, duracao(minutos), slogan, titulo, media_votos, qtde_votos          "
   ]
  },
  {
   "cell_type": "code",
   "execution_count": null,
   "metadata": {},
   "outputs": [],
   "source": [
    "# Tamanho final da base após o tratamento dos dados/features\n",
    "print('Número de linhas e número de colunas:', filmes.shape)"
   ]
  },
  {
   "cell_type": "code",
   "execution_count": null,
   "metadata": {},
   "outputs": [],
   "source": [
    "filmes.columns"
   ]
  },
  {
   "cell_type": "code",
   "execution_count": null,
   "metadata": {},
   "outputs": [],
   "source": [
    "### SE DER TEMPO, VOU TRABALHAR ESTE CAMPO E RODAR UM ALGORITMO QUE TRATE CAMPO TEXTO\n",
    "filmes['descricao'].isnull().sum()"
   ]
  },
  {
   "cell_type": "code",
   "execution_count": null,
   "metadata": {},
   "outputs": [],
   "source": [
    "filmes"
   ]
  },
  {
   "cell_type": "code",
   "execution_count": null,
   "metadata": {},
   "outputs": [],
   "source": [
    "# No trabalho serão utilizadas as features: \n",
    "        'despesas', 'lingua_original',\n",
    "       'titulo_original', 'descricao', 'popularidade', 'receita', 'duracao',\n",
    "        'status', 'titulo', 'video', 'media_votos',\n",
    "       'qtde_votos', 'classificacao', 'acao', 'aventura',\n",
    "       'animacao', 'comedia', 'crime', 'documentario', 'drama', 'familia',\n",
    "       'fantasia', 'estrangeiro', 'historia', 'horror', 'musical', 'misterio',\n",
    "       'romance', 'ficcao_cientifica', 'filmes_tv', 'suspense', 'gerra',\n",
    "       'ocidental', 'novo_pais_producao', 'novo_idiomas_falados',\n",
    "       'novo_cia_producao', 'ano_lancamento'\n",
    "\n",
    "#a feature 'titulo_original' não será utilizada no trabalho pois o conteúdo é similar a da 'titulo'."
   ]
  },
  {
   "cell_type": "code",
   "execution_count": 20,
   "metadata": {},
   "outputs": [],
   "source": [
    "# seleção das features que serão utilizada. Foram ordenadas de forma mais intuitiva\n",
    "dataset = filmes[['titulo', 'ano_lancamento', 'lingua_original', 'despesas', \n",
    "        'descricao', 'popularidade', 'receita', 'duracao', 'status', 'video', 'classificacao', \n",
    "         'novo_pais_producao', 'novo_idiomas_falados','novo_cia_producao',\n",
    "        'acao', 'aventura', 'animacao', 'comedia', 'crime', 'documentario', 'drama', 'familia',\n",
    "       'fantasia', 'estrangeiro', 'historia', 'horror', 'musical', 'misterio',\n",
    "       'romance', 'ficcao_cientifica', 'filmes_tv', 'suspense', 'gerra',\n",
    "       'ocidental','qtde_votos', 'media_votos']]"
   ]
  },
  {
   "cell_type": "code",
   "execution_count": null,
   "metadata": {},
   "outputs": [],
   "source": [
    "# validando as features que serão utilizadas\n",
    "dataset.head(1)"
   ]
  },
  {
   "cell_type": "code",
   "execution_count": null,
   "metadata": {},
   "outputs": [],
   "source": [
    "# Tamanho da base que será utilizada nos algoritmos\n",
    "print('Número de linhas e número de colunas:', dataset.shape)"
   ]
  },
  {
   "cell_type": "markdown",
   "metadata": {},
   "source": [
    "### 4) **(30%)** Análise\n",
    "\n",
    "Com seu dado pronto, é hora de fazer a parte mais legal: investigar e responder nossas hipoteses. Elas se confirmam? Em quais cenários? Existe alguma forma de perceber isso no mundo real? Dica: Abuse das técnicas de visualização.\n",
    "\n",
    "Ex: Ainda no contexto dos exemplos do item 2). Ao investigar a hipotese relacionada ao padrão de compra, percebi que em todos os meses existia uma diferença entre dia util e final de semana. Porém notei que Fevereiro possui um comportamento diferente, o que poderia explicar? Talvez o carnaval e seus feriados.\n",
    "\n",
    "Ex2: Talvez eu descubra que alguns finais de semana possuam um comportamento diferente dos dias de semana e outros não. Por que não são todos? Nessa investigação você pode acabar descobrindo que os finais de semana que são diferentes, coincidem no fato de serem os primeiros dias utéis, o que pode remeter ao fato de boa parte das empresas realizarem pagamentos nessa parte do mês."
   ]
  },
  {
   "cell_type": "code",
   "execution_count": null,
   "metadata": {},
   "outputs": [],
   "source": [
    "# Implemente sua análise aqui. Use mais blocos se achar que ficará mais organizado."
   ]
  },
  {
   "cell_type": "code",
   "execution_count": null,
   "metadata": {},
   "outputs": [],
   "source": [
    "# ----------------- avaliando algumas da feature discreta ------------------------\n",
    "\n",
    "ex: genero\n",
    "'lingua_original','classificacao','acao', 'aventura', 'animacao', 'comedia', 'crime', 'documentario', 'drama', 'familia', 'fantasia', 'estrangeiro', 'historia', 'horror', 'musical', 'misterio', 'romance', 'ficcao_cientifica', 'filmes_tv', 'suspense', 'gerra', 'ocidental'"
   ]
  },
  {
   "cell_type": "code",
   "execution_count": null,
   "metadata": {},
   "outputs": [],
   "source": [
    "############## lingua_original #############\n",
    "# qual é a linuga original do filme que mais aparece nos filmes do dataset?\n",
    "dataset.lingua_original.describe()"
   ]
  },
  {
   "cell_type": "code",
   "execution_count": null,
   "metadata": {},
   "outputs": [],
   "source": [
    "dataset.groupby(by='lingua_original').size().sort_values(ascending = False).head(10)"
   ]
  },
  {
   "cell_type": "code",
   "execution_count": null,
   "metadata": {},
   "outputs": [],
   "source": [
    "# visualizando as 10 linguas mais frequentes\n",
    "dataset.groupby(by='lingua_original').size().sort_values(ascending = False).head(10).plot.bar()\n",
    "\n",
    "plt.rcParams['figure.figsize'] = [15, 5]\n",
    "plt.ylim(0, 35000)\n",
    "\n",
    "plt.xticks(rotation=0)\n",
    "\n",
    "plt.ylabel('Qtde')\n",
    "plt.xlabel('Idioma original')\n",
    "plt.title('Os 10 idiomas originais mais frequentes')"
   ]
  },
  {
   "cell_type": "code",
   "execution_count": null,
   "metadata": {},
   "outputs": [],
   "source": [
    "dataset.groupby(by='lingua_original').size().sort_values(ascending = False).head(10)"
   ]
  },
  {
   "cell_type": "code",
   "execution_count": null,
   "metadata": {},
   "outputs": [],
   "source": [
    "# --------------------------------------------\n",
    "o idioma mais frequente é o inglês(en), com 32062, seguindo do francês(fr) com 2278, japonês (ja) com 1345 e o italiano com 1264.\n",
    "# --------------------------------------------\n"
   ]
  },
  {
   "cell_type": "code",
   "execution_count": null,
   "metadata": {},
   "outputs": [],
   "source": [
    "############## classificacao #############\n",
    "# valores: livre ou adulto\n",
    "# Qual é a classificação mais comum?\n",
    "dataset.classificacao.describe()"
   ]
  },
  {
   "cell_type": "code",
   "execution_count": null,
   "metadata": {},
   "outputs": [],
   "source": [
    "print ('total de classificação livre (1): ', sum(dataset.classificacao == 1), '\\ntotal de classificação adulto (0): ',sum(dataset.classificacao == 0))"
   ]
  },
  {
   "cell_type": "code",
   "execution_count": null,
   "metadata": {},
   "outputs": [],
   "source": [
    "print ('% de classificação livre (1): ', sum(dataset.classificacao == 1) * 100 / len(dataset.classificacao), '\\n% de classificação adulto (0): ',sum(dataset.classificacao == 0) * 100 / len(dataset.classificacao))\n"
   ]
  },
  {
   "cell_type": "code",
   "execution_count": null,
   "metadata": {},
   "outputs": [],
   "source": [
    "print ('% de classificação livre (1): ', round(sum(dataset.classificacao == 1) * 100 / len(dataset.classificacao),3), '\\n% de classificação adulto (0): ',round(sum(dataset.classificacao == 0) * 100 / len(dataset.classificacao),3))\n"
   ]
  },
  {
   "cell_type": "code",
   "execution_count": null,
   "metadata": {},
   "outputs": [],
   "source": [
    "grupos = ['Livre', 'adulto']\n",
    "\n",
    "valores = [round(sum(dataset.classificacao == 1) * 100 / len(dataset.classificacao),3),round(sum(dataset.classificacao == 0) * 100 / len(dataset.classificacao),3) ]\n",
    "\n",
    "plt.xlabel(\"Classificação do filme\")\n",
    "plt.ylabel(\"Qtde por classificação\")\n",
    "plt.title(\"Total de classificação\")\n",
    "\n",
    "plt.bar(grupos, valores)\n",
    "plt.show()"
   ]
  },
  {
   "cell_type": "code",
   "execution_count": null,
   "metadata": {},
   "outputs": [],
   "source": [
    "# --------------------------------------------\n",
    "Conforme observamos, 99,99% dos filmes possui classificação livre, logo, será avaliado retirar a features da avaliação/predição\n",
    "# --------------------------------------------"
   ]
  },
  {
   "cell_type": "code",
   "execution_count": null,
   "metadata": {},
   "outputs": [],
   "source": [
    "############## features de genero #############\n",
    "# Quais são os generos mais comuns?"
   ]
  },
  {
   "cell_type": "code",
   "execution_count": null,
   "metadata": {},
   "outputs": [],
   "source": [
    "print ('acao: ', sum(dataset.acao == True), 'aventura: ',sum(dataset.aventura == True), 'animacao: ', sum(dataset.animacao == True))"
   ]
  },
  {
   "cell_type": "code",
   "execution_count": null,
   "metadata": {},
   "outputs": [],
   "source": [
    "grupos = ['açãp', 'aventura', 'animacao', 'comedia', 'crime', 'documentario', 'drama', 'familia', 'fantasia', 'estrangeiro', 'historia', 'horror', 'musical', 'misterio', 'romance', 'ficcao_cientifica', 'filmes_tv', 'suspense', 'gerra', 'ocidental']\n",
    "\n",
    "valores = [sum(dataset.acao == True), sum(dataset.aventura == True), sum(dataset.animacao == True), sum(dataset.comedia == True), sum(dataset.crime == True), sum(dataset.documentario == True), sum(dataset.drama == True), sum(dataset.familia == True), sum(dataset.fantasia == True), sum(dataset.estrangeiro == True), sum(dataset.historia == True), sum(dataset.horror == True), sum(dataset.musical == True), sum(dataset.misterio == True), sum(dataset.romance == True), sum(dataset.ficcao_cientifica == True), sum(dataset.filmes_tv == True), sum(dataset.suspense == True), sum(dataset.gerra == True), sum(dataset.ocidental == True)]\n",
    "\n",
    "plt.xlabel(\"Generos\")\n",
    "plt.ylabel(\"Qtde por genero\")\n",
    "plt.title(\"Total de filmes por gênero\")\n",
    "plt.xticks(rotation=60)\n",
    "\n",
    "plt.bar(grupos, valores)\n",
    "plt.show()"
   ]
  },
  {
   "cell_type": "code",
   "execution_count": null,
   "metadata": {},
   "outputs": [],
   "source": [
    "# --------------------------------------------\n",
    "Conforme observamos, o gênero DRAMA é o com maior quantidade no dataset, seguindo do comédia, ação e suspense\n",
    "# --------------------------------------------"
   ]
  },
  {
   "cell_type": "code",
   "execution_count": null,
   "metadata": {},
   "outputs": [],
   "source": [
    "# ----------------- avaliando cada feature contínua  ------------------------\n",
    "\n",
    "ex: media\n",
    "'ano_lancamento',  'despesas', 'popularidade', 'receita', 'duracao', 'novo_pais_producao', 'novo_idiomas_falados','novo_cia_producao', 'qtde_votos', 'media_votos'\n"
   ]
  },
  {
   "cell_type": "code",
   "execution_count": null,
   "metadata": {},
   "outputs": [],
   "source": [
    "################## ano_lancamento ######################\n",
    "#Quais anos de lançamento são os mais frequentes?"
   ]
  },
  {
   "cell_type": "code",
   "execution_count": null,
   "metadata": {},
   "outputs": [],
   "source": [
    "dataset.ano_lancamento"
   ]
  },
  {
   "cell_type": "code",
   "execution_count": null,
   "metadata": {},
   "outputs": [],
   "source": [
    "len(dataset.ano_lancamento.unique())"
   ]
  },
  {
   "cell_type": "code",
   "execution_count": null,
   "metadata": {},
   "outputs": [],
   "source": [
    "# os 10 anos de lançamento mais frequentes\n",
    "dataset.groupby(by='ano_lancamento').size().sort_values(ascending = False).head(10)"
   ]
  },
  {
   "cell_type": "code",
   "execution_count": null,
   "metadata": {},
   "outputs": [],
   "source": [
    "# visualizando as 20 anos de lançamento mais frequentes\n",
    "dataset.groupby(by='ano_lancamento').size().sort_values(ascending = False).head(20).plot.bar()\n",
    "\n",
    "plt.rcParams['figure.figsize'] = [15, 5]\n",
    "plt.ylim(0, 2000)\n",
    "\n",
    "plt.xticks(rotation=0)\n",
    "\n",
    "plt.ylabel('Qtde')\n",
    "plt.xlabel('Ano de lançamento dos filmes')\n",
    "plt.title('Os 20 anos lançamentos mais frequentes')"
   ]
  },
  {
   "cell_type": "code",
   "execution_count": null,
   "metadata": {},
   "outputs": [],
   "source": [
    "# --------------------------------------------\n",
    "Conforme avaliamos, dos filmes do dataset, os anos com mais quantidade de filmes lançados foi 2014, com 1916 filmes, seguido de 2015 com 1855 e 2013 com 1851.\n",
    "# --------------------------------------------"
   ]
  },
  {
   "cell_type": "code",
   "execution_count": null,
   "metadata": {},
   "outputs": [],
   "source": [
    "############# despesas ###############"
   ]
  },
  {
   "cell_type": "code",
   "execution_count": null,
   "metadata": {},
   "outputs": [],
   "source": [
    "dataset.despesas.describe()"
   ]
  },
  {
   "cell_type": "code",
   "execution_count": null,
   "metadata": {},
   "outputs": [],
   "source": [
    "# os 10 anos de lançamento mais frequentes\n",
    "dataset.groupby(by='despesas').size().sort_values(ascending = False).head(10)"
   ]
  },
  {
   "cell_type": "code",
   "execution_count": null,
   "metadata": {},
   "outputs": [],
   "source": [
    "# --------------------------------------------\n",
    "Conforme observamos, a maior parte dos filmes não possui informação de despesas. Portanto, será avaliado exclir a featere da análise e predição\n",
    "# --------------------------------------------"
   ]
  },
  {
   "cell_type": "code",
   "execution_count": null,
   "metadata": {},
   "outputs": [],
   "source": [
    "###################### popularidade #######################"
   ]
  },
  {
   "cell_type": "code",
   "execution_count": null,
   "metadata": {},
   "outputs": [],
   "source": [
    "dataset.popularidade.head(3)"
   ]
  },
  {
   "cell_type": "code",
   "execution_count": null,
   "metadata": {},
   "outputs": [],
   "source": [
    "dataset.popularidade.describe()"
   ]
  },
  {
   "cell_type": "code",
   "execution_count": null,
   "metadata": {},
   "outputs": [],
   "source": [
    "# qtde de registros unicos de popularidade\n",
    "len(dataset.popularidade.unique())"
   ]
  },
  {
   "cell_type": "code",
   "execution_count": null,
   "metadata": {},
   "outputs": [],
   "source": [
    "# os 10 maiores valores de popularidade\n",
    "dataset.groupby(by='popularidade').size().sort_values(ascending = False).head(10)"
   ]
  },
  {
   "cell_type": "code",
   "execution_count": null,
   "metadata": {},
   "outputs": [],
   "source": [
    "################### receita #################"
   ]
  },
  {
   "cell_type": "code",
   "execution_count": null,
   "metadata": {},
   "outputs": [],
   "source": [
    "dataset.receita.head(3)"
   ]
  },
  {
   "cell_type": "code",
   "execution_count": null,
   "metadata": {},
   "outputs": [],
   "source": [
    "dataset.receita.describe()"
   ]
  },
  {
   "cell_type": "code",
   "execution_count": null,
   "metadata": {},
   "outputs": [],
   "source": [
    "# qtde de registros únicos de receita\n",
    "len(dataset.receita.unique())"
   ]
  },
  {
   "cell_type": "code",
   "execution_count": 22,
   "metadata": {},
   "outputs": [
    {
     "output_type": "execute_result",
     "data": {
      "text/plain": "0.0            0.833502\n12000000.0     0.000451\n10000000.0     0.000428\n11000000.0     0.000428\n2000000.0      0.000406\n                 ...   \n8203235.0      0.000023\n25900.0        0.000023\n414404.0       0.000023\n161849455.0    0.000023\n2484095.0      0.000023\nName: receita, Length: 6844, dtype: float64"
     },
     "metadata": {},
     "execution_count": 22
    }
   ],
   "source": [
    "dataset.receita.value_counts(normalize=True)"
   ]
  },
  {
   "cell_type": "code",
   "execution_count": null,
   "metadata": {},
   "outputs": [],
   "source": [
    "# Avaliando a feature alvo\n",
    "dataset.media_votos.describe()"
   ]
  },
  {
   "cell_type": "code",
   "execution_count": null,
   "metadata": {},
   "outputs": [],
   "source": [
    "print ('Qtde de registros unicos no target: ', len(dataset.media_votos.unique()))"
   ]
  },
  {
   "cell_type": "code",
   "execution_count": null,
   "metadata": {},
   "outputs": [],
   "source": [
    "# ao plotar o target (media_votos), observamos que a maioria está entre 4 e 8 \n",
    "dataset['media_votos'].sort_values(ascending = True).plot()"
   ]
  },
  {
   "cell_type": "code",
   "execution_count": null,
   "metadata": {},
   "outputs": [],
   "source": [
    "dataset['qtde_votos'].plot()"
   ]
  },
  {
   "cell_type": "code",
   "execution_count": null,
   "metadata": {},
   "outputs": [],
   "source": [
    "dataset.plot(x='media_votos',y='qtde_votos',kind='scatter', title='media_votos x qtde_votos',color='r')"
   ]
  },
  {
   "cell_type": "code",
   "execution_count": null,
   "metadata": {},
   "outputs": [],
   "source": [
    "#media_votos ordenada\n",
    "dataset.loc[(dataset['media_votos']>=9)].sort_values(by = 'media_votos', ascending=False)"
   ]
  },
  {
   "cell_type": "code",
   "execution_count": null,
   "metadata": {},
   "outputs": [],
   "source": [
    "########################3 avaliando as features de genero ##################################\n",
    "''''acao', 'aventura', 'animacao', 'comedia', 'crime', 'documentario', 'drama', 'familia', 'fantasia', 'estrangeiro', 'historia', 'horror', 'musical', 'misterio', 'romance', 'ficcao_cientifica', 'filmes_tv', 'suspense', 'gerra', 'ocidental' '''\n",
    "\n",
    "#Visualizando todas as variáveis com target\n",
    "x = dataset.groupby(['media_votos']).sum()\n",
    "\n",
    "x['acao'].plot(kind = 'line',color='green', title='Total da classe/acao',grid=True, stacked=True)\n",
    "x['aventura'].plot(kind = 'line',color='red', title='Total da classe/target por V2',grid=True, stacked=True)\n",
    "x['animacao'].plot(kind = 'line',color='purple', title='Total da classe/target por V2',grid=True, stacked=True)\n",
    "x['comedia'].plot(kind = 'line',color='aqua', title='Total da classe/target por V2',grid=True, stacked=True)\n",
    "x['crime'].plot(kind = 'line',color='azure', title='Total da classe/target por V2',grid=True, stacked=True)\n",
    "x['documentario'].plot(kind = 'line',color='brown', title='Total da classe/target por V2',grid=True, stacked=True)\n",
    "x['drama'].plot(kind = 'line',color='coral', title='Total da classe/target por V2',grid=True, stacked=True)\n",
    "x['familia'].plot(kind = 'line',color='darkblue', title='Total da classe/target por V2',grid=True, stacked=True)\n",
    "x['fantasia'].plot(kind = 'line',color='gold', title='Total da classe/target por V2',grid=True, stacked=True)\n",
    "x['estrangeiro'].plot(kind = 'line',color='grey', title='Total da classe/target por V2',grid=True, stacked=True)\n",
    "x['historia'].plot(kind = 'line',color='lavender', title='Total da classe/target por V2',grid=True, stacked=True)\n",
    "x['horror'].plot(kind = 'line',color='magenta', title='Total da classe/target por V2',grid=True, stacked=True)\n",
    "x['musical'].plot(kind = 'line',color='beige', title='Total da classe/target por V2',grid=True, stacked=True)\n",
    "x['misterio'].plot(kind = 'line',color='lime', title='Total da classe/target por V2',grid=True, stacked=True)\n",
    "x['romance'].plot(kind = 'line',color='lime', title='Total da classe/target por V2',grid=True, stacked=True)\n",
    "x['ficcao_cientifica'].plot(kind = 'line',color='lime', title='Total da classe/target por V2',grid=True, stacked=True)\n",
    "x['filmes_tv'].plot(kind = 'line',color='lime', title='Total da classe/target por V2',grid=True, stacked=True)\n",
    "x['suspense'].plot(kind = 'line',color='lime', title='Total da classe/target por V2',grid=True, stacked=True)\n",
    "x['gerra'].plot(kind = 'line',color='lime', title='Total da classe/target por V2',grid=True, stacked=True)\n",
    "x['ocidental'].plot(kind = 'line',color='lime', title='Total da classe/target por V2',grid=True, stacked=True)\n",
    "\n",
    "plt.xlabel(\"Generos\")\n",
    "plt.ylabel(\"media_votos\")\n"
   ]
  },
  {
   "cell_type": "code",
   "execution_count": null,
   "metadata": {},
   "outputs": [],
   "source": [
    "#round(df_2007_2018['media'].value_counts(normalize=True) * 100, 2).plot.bar()\n",
    "#dados = dataset.loc[(dataset['media_votos']>=9)]\n",
    "dados = dataset.loc[(dataset['media_votos']>=9)].sort_values(by = 'media_votos', ascending=False)\n",
    "\n",
    "dados['media_votos'].value_counts().head(10).plot.bar()\n",
    "\n",
    "plt.rcParams['figure.figsize'] = [15, 5]\n",
    "plt.ylim(0, 2000)\n",
    "\n",
    "plt.ylabel('Media votos')\n",
    "plt.xlabel('filmes')\n",
    "plt.title('Os filmes com maior média de votos')"
   ]
  },
  {
   "cell_type": "code",
   "execution_count": null,
   "metadata": {},
   "outputs": [],
   "source": [
    "dataset.groupby(by='media_votos').size() < = 6.0"
   ]
  },
  {
   "cell_type": "code",
   "execution_count": null,
   "metadata": {},
   "outputs": [],
   "source": [
    "dataset.hist(column=\"media_votos\",by=\"aventura\",bins=30)\n"
   ]
  },
  {
   "cell_type": "code",
   "execution_count": null,
   "metadata": {},
   "outputs": [],
   "source": [
    "# Filtrando os dados do tipo float:\n",
    "dataset.select_dtypes(include=['float'])"
   ]
  },
  {
   "cell_type": "code",
   "execution_count": null,
   "metadata": {},
   "outputs": [],
   "source": [
    "# Filtrando os dados do tipo object:\n",
    "dataset.select_dtypes(include=['object'])"
   ]
  },
  {
   "cell_type": "code",
   "execution_count": null,
   "metadata": {},
   "outputs": [],
   "source": []
  },
  {
   "cell_type": "code",
   "execution_count": null,
   "metadata": {},
   "outputs": [],
   "source": []
  },
  {
   "cell_type": "code",
   "execution_count": null,
   "metadata": {},
   "outputs": [],
   "source": [
    " # ---------------- HIPÓTESE - Quais são os 20 filmes mais populares?"
   ]
  },
  {
   "cell_type": "code",
   "execution_count": null,
   "metadata": {},
   "outputs": [],
   "source": [
    "len(round(filmes.popularidade,2).unique())"
   ]
  },
  {
   "cell_type": "code",
   "execution_count": null,
   "metadata": {},
   "outputs": [],
   "source": [
    "plt.plot(filmes.popularidade.head(20), \"bx\")"
   ]
  },
  {
   "cell_type": "code",
   "execution_count": null,
   "metadata": {},
   "outputs": [],
   "source": [
    "# Plotando o gráfico (Tentativa 1)\n",
    "plt.plot(filmes.popularidade.head(10).sort_values(ascending=True), filmes.titulo_original.head(10))\n",
    "plt.ylabel(\"Títulos\")\n",
    "plt.xlabel(\"Popularidade\")\n",
    "plt.title(\"Gráfico de Popularidade x Título (Tentativa 1)\")"
   ]
  },
  {
   "cell_type": "code",
   "execution_count": null,
   "metadata": {},
   "outputs": [],
   "source": [
    "# Plotando o gráfico (Tentativa 2)\n",
    "plt.scatter(filmes.popularidade.head(20).sort_values(ascending=True), filmes.titulo_original.head(20))\n",
    "plt.ylabel(\"Título\")\n",
    "plt.xlabel(\"Popularidade\")\n",
    "plt.title(\"Gráfico de Popularidade x Título (Tentativa 2)\")"
   ]
  },
  {
   "cell_type": "code",
   "execution_count": null,
   "metadata": {},
   "outputs": [],
   "source": [
    " # ---------------- HIPÓTESE - Quais são os gêneros de filmes mais assistidos?"
   ]
  },
  {
   "cell_type": "code",
   "execution_count": null,
   "metadata": {},
   "outputs": [],
   "source": [
    "#Qtde de filmes que possuem a categoria animacao\n",
    "dataset.groupby(by='animacao').size()"
   ]
  },
  {
   "cell_type": "code",
   "execution_count": null,
   "metadata": {},
   "outputs": [],
   "source": [
    "#qual foi a média de idade e a quantidade de passageiros que sobreviveram e que não sobreviveram por sexo. \n",
    "df.groupby(['Sex','Survived']).agg({'Age': np.mean, 'PassengerId': np.size})"
   ]
  },
  {
   "cell_type": "code",
   "execution_count": null,
   "metadata": {},
   "outputs": [],
   "source": [
    "plt.plot(filmes.genero.head(20), \"bx\")"
   ]
  },
  {
   "cell_type": "code",
   "execution_count": null,
   "metadata": {},
   "outputs": [],
   "source": [
    " # ---------------- HIPÓTESE - Existe relação dos filmes mais bem avaliados para a empresa que o produziu?"
   ]
  },
  {
   "cell_type": "code",
   "execution_count": null,
   "metadata": {},
   "outputs": [],
   "source": [
    " # ---------------- HIPÓTESE - Há influência dos idiomas disponíveis no filmes na avaliação dos filmes?"
   ]
  },
  {
   "cell_type": "markdown",
   "metadata": {},
   "source": [
    "### 5) Modelagem 30%\n",
    "\n",
    "Agora você terá mais uma oportunidade de mostrar o que você aprendeu durante o módulo 2 quanto a modelagem de dados e criação de modelos. Utilizando os dados preparados na seção 1 e após a análise feita na seção 2 você deverá:\n",
    "1. **Defina um problema de regressão ou classificação que envolva uma variável dos seus dados.**"
   ]
  },
  {
   "cell_type": "markdown",
   "metadata": {},
   "source": [
    "***---> Comente brevemente sua decisão aqui.***"
   ]
  },
  {
   "cell_type": "markdown",
   "metadata": {},
   "source": [
    "2. **Realize ao menos 2 técnicas de processamento e seleção de features.**\n",
    "    * Isto inclui, normalização, PCA, e técnicas de seleção de features como information gain. Seja criativo pois está parte é crucial para seu modelo. Você pode escolhar manualmente as features desde que seja justificada na seção 2 (parte de Análise).\n"
   ]
  },
  {
   "cell_type": "code",
   "execution_count": null,
   "metadata": {},
   "outputs": [],
   "source": []
  },
  {
   "cell_type": "markdown",
   "metadata": {},
   "source": [
    "3. **Defina uma métrica para avaliar o seu modelo.**\n",
    "    * Por exemplo, você pode utilizar MAE (Mean Absolute Error) para um problema de regressão. Ou, F1-Score para um problema de classificação. Há varias métricas, então escolha sabiamente.\n"
   ]
  },
  {
   "cell_type": "markdown",
   "metadata": {},
   "source": [
    "***---> Comente brevemente sua decisão aqui.***"
   ]
  },
  {
   "cell_type": "markdown",
   "metadata": {},
   "source": [
    "4. **Divida seus dados em 2 conjuntos. Um de treino e outro conjunto de teste.**\n",
    "    * Treine e otimize seu modelo no conjunto de treino e apenas use o conjunto de teste para apresentar os resultados finais.\n"
   ]
  },
  {
   "cell_type": "code",
   "execution_count": null,
   "metadata": {},
   "outputs": [],
   "source": []
  },
  {
   "cell_type": "markdown",
   "metadata": {},
   "source": [
    "5. **Treine um ou mais modelos de ML para o seu problema.**\n",
    "    * Escolha 1 ou mais tipos de classificadores ou regressores dependendo do seu problema.\n",
    "    * Por exemplo, TreeClassifier para um problema de classificação. \n",
    "    * Use cross-validation e outras técnicas como GridSearch e ou RandomizedSearch para encontrar os melhores parametros para o seu modelo.\n"
   ]
  },
  {
   "cell_type": "code",
   "execution_count": null,
   "metadata": {},
   "outputs": [],
   "source": []
  },
  {
   "cell_type": "markdown",
   "metadata": {},
   "source": [
    "6. **Apresente (com visualizações) os resultados do seu modelo mostrando que ele é melhor do que um baseline não aleatório.**\n",
    "    * Para o baseline, você pode escolher um modelo bem trivial mas não aleatório. Por exemplo, para um problema de classificação um baseline pode ser a classe mais presente caso o conjunto de dados seja desbalanceado.  Um modelo mais simples também pode ser utilizado como baseline, por exemplo, você escolheu um Random Forest Classifier, e comparou os resultados um Logistic Regression. Você pode até mesmo escolher um modelo de AutoML(como TPOT) como Baseline."
   ]
  },
  {
   "cell_type": "code",
   "execution_count": null,
   "metadata": {},
   "outputs": [],
   "source": []
  },
  {
   "cell_type": "markdown",
   "metadata": {},
   "source": [
    "### 6) Conclusões **10%**"
   ]
  },
  {
   "cell_type": "markdown",
   "metadata": {},
   "source": [
    "*Partindo das suas hipoteses e investigações, o que você consegue concluir? Suas hipoteses se concretizaram?*"
   ]
  },
  {
   "cell_type": "markdown",
   "metadata": {},
   "source": []
  }
 ],
 "metadata": {
  "file_extension": ".py",
  "kernelspec": {
   "display_name": "Python 3.7.0 64-bit",
   "language": "python",
   "name": "python37064bitc01724e9609b4d719b1530c185cd833e"
  },
  "language_info": {
   "codemirror_mode": {
    "name": "ipython",
    "version": 3
   },
   "file_extension": ".py",
   "mimetype": "text/x-python",
   "name": "python",
   "nbconvert_exporter": "python",
   "pygments_lexer": "ipython3",
   "version": "3.7.0-final"
  },
  "mimetype": "text/x-python",
  "name": "python",
  "npconvert_exporter": "python",
  "pygments_lexer": "ipython3",
  "version": 3
 },
 "nbformat": 4,
 "nbformat_minor": 2
}