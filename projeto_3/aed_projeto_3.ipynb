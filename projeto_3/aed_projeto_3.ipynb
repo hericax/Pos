{
 "cells": [
  {
   "cell_type": "markdown",
   "metadata": {},
   "source": [
    "# Projeto #3 - Meu primeiro projeto de IA\n",
    "\n",
    "Antes de começar, leia as [Instruções](https://github.com/thvmm/pos-ds-ia/blob/master/projeto_3/README.md) e os [Critérios de Avaliação](https://github.com/thvmm/pos-ds-ia/blob/master/projeto_3/README.md).\n"
   ]
  },
  {
   "cell_type": "markdown",
   "metadata": {},
   "source": [
    "### 1) **(5%)** Qual a base escolhida e qual seu interesse nela (podem ser mais de uma)? Descrição básica do conjunto de dados escolhido pelo aluno (1 parágrafo)."
   ]
  },
  {
   "cell_type": "markdown",
   "metadata": {},
   "source": [
    "*Indique o link da base no Kaggle e explique em um parágrafo curto por que essa base é interessante para você. Quais são as características básicas da base?*\n",
    "\n",
    "Ex: Estou trabalhando com o histório de vendas de um varejo e uma outra base do mesmo varejista das suas campanhas de marketing realizadas em veiculos de comunicação."
   ]
  },
  {
   "cell_type": "markdown",
   "metadata": {},
   "source": [
    "A base escolhida é de filmes - https://www.kaggle.com/rounakbanik/the-movies-dataset \n",
    "\n",
    "A base contém informações sobre 45.000 filmes em destaque no conjunto de dados Full MovieLens, lançados em ou antes de julho de 2017. "
   ]
  },
  {
   "cell_type": "markdown",
   "metadata": {},
   "source": [
    "### 2) **(5%)** Que tipo de problema podemos solucionar com ela? Liste ao menos 3 hipóteses sobre seus dados, caso sua base seja muito restrita converse com os professores antes de seguir.\n",
    "- Quais são suas hipoteses sobre os dados? O que vc espera descobrir com esse estudo?\n",
    "\n",
    "Ex: Hipoteses válidas seriam:\n",
    "- As pessoas fazem mais compras nos dias utéis ou finais de semana?\n",
    "- Existe diferença entre o padrão de compra de segunda ou terça feira?\n",
    "- O horário de pico influencia no padrão de compra dos clientes?\n",
    "- Quais produtos são comprados mais juntos? Existe diferença se observarmos a idade do cliente?\n",
    "- Qual o efeito de uma campanha de marketing nas vendas?\n"
   ]
  },
  {
   "cell_type": "markdown",
   "metadata": {},
   "source": [
    "Hipóteses:\n",
    "1 - Quais são os gêneros de filmes melhor avaliados?\n",
    "2 - Existe relação dos filmes mais bem avaliados para a empresa que o produziu?\n",
    "3 - Há influência dos idiomas disponíveis no filmes na avaliação dos filmes?"
   ]
  },
  {
   "cell_type": "markdown",
   "metadata": {},
   "source": [
    "### 3) **(20%)** Preparação de dados\n",
    "\n",
    "Hora de deixar a base perfeita para se trabalhar. Limpe os dados, integre com outras fontes e transforme-o para ficar pronto para se trabalhar! No fim, mostre um antes e depois de seu dataframe."
   ]
  },
  {
   "cell_type": "code",
   "execution_count": null,
   "metadata": {},
   "outputs": [],
   "source": [
    "# Implemente sua análise aqui. Use mais blocos se achar que ficará mais organizado."
   ]
  },
  {
   "cell_type": "code",
   "execution_count": null,
   "metadata": {},
   "outputs": [],
   "source": [
    "# importando as bibliotecas utilizadas no projeto\n",
    "import pandas as pd\n",
    "import numpy as np \n",
    "import matplotlib.pyplot as plt\n",
    "\n",
    "#%matplotlib inline\n",
    "import seaborn as sns"
   ]
  },
  {
   "cell_type": "code",
   "execution_count": null,
   "metadata": {},
   "outputs": [],
   "source": [
    "# Leitura do dataset\n",
    "filmes = pd.read_csv('C:/Users/Herica/Desktop/Herica/cursoIACD/bases/filmes/movies_metadata.csv')"
   ]
  },
  {
   "cell_type": "code",
   "execution_count": null,
   "metadata": {},
   "outputs": [],
   "source": [
    "# Pré-visaulização do dataset\n",
    "filmes.head(1)"
   ]
  },
  {
   "cell_type": "code",
   "execution_count": null,
   "metadata": {
    "tags": []
   },
   "outputs": [],
   "source": [
    "# tamanho da nossa base\n",
    "print('Número de linhas e número de colunas:', filmes.shape)"
   ]
  },
  {
   "cell_type": "code",
   "execution_count": null,
   "metadata": {},
   "outputs": [],
   "source": [
    "filmes.describe()"
   ]
  },
  {
   "cell_type": "code",
   "execution_count": null,
   "metadata": {},
   "outputs": [],
   "source": [
    "filmes.dtypes"
   ]
  },
  {
   "cell_type": "markdown",
   "metadata": {},
   "source": [
    "--------------------------- TRATAMENTO DE DADOS NULOS ---------------------"
   ]
  },
  {
   "cell_type": "code",
   "execution_count": null,
   "metadata": {},
   "outputs": [],
   "source": [
    "# fazendo uma cópia do dataset para ser trabalhado\n",
    "df = filmes.copy()"
   ]
  },
  {
   "cell_type": "code",
   "execution_count": null,
   "metadata": {},
   "outputs": [],
   "source": [
    "# quantidade de elementos nulos\n",
    "df.isnull().sum()"
   ]
  },
  {
   "cell_type": "code",
   "execution_count": null,
   "metadata": {},
   "outputs": [],
   "source": [
    "# PERCENTUAL DE ELEMENTOS NULOS\n",
    "round(df.isnull().mean() * 100,2)"
   ]
  },
  {
   "cell_type": "code",
   "execution_count": null,
   "metadata": {},
   "outputs": [],
   "source": [
    "#dropar colunas consideradas irrelevantes na primeira análise ou que possuem muitos valores nulos\n",
    "df.drop(['belongs_to_collection'],axis = 1, inplace = True)\n",
    "df.drop(['homepage'],axis = 1, inplace = True)\n",
    "df.drop(['poster_path'],axis = 1, inplace = True)     \n",
    "df.drop(['tagline'],axis = 1, inplace = True)     "
   ]
  },
  {
   "cell_type": "code",
   "execution_count": null,
   "metadata": {},
   "outputs": [],
   "source": [
    "# REMOVE ELEMENTOS QUE POSSUEM DADOS NULOS\n",
    "df = df.dropna()"
   ]
  },
  {
   "cell_type": "code",
   "execution_count": null,
   "metadata": {},
   "outputs": [],
   "source": [
    "# resetando os índices\n",
    "df = df.reset_index()"
   ]
  },
  {
   "cell_type": "code",
   "execution_count": null,
   "metadata": {},
   "outputs": [],
   "source": [
    "# validando se ainda há registros nulos\n",
    "df.isnull().sum()"
   ]
  },
  {
   "cell_type": "markdown",
   "metadata": {},
   "source": [
    "-------------------- RENOMEANDO AS FEATURES --------------------------"
   ]
  },
  {
   "cell_type": "code",
   "execution_count": null,
   "metadata": {},
   "outputs": [],
   "source": [
    "# renomear as coluna e usar todas com caixa baixa para padronizar\n",
    "df = df.rename(columns={'adult': \"classificacao\", 'budget': 'despesas', 'genres': 'genero', 'original_language': 'lingua_original', 'original_title': 'titulo_original', 'overview': 'descricao', 'popularity': 'popularidade', 'production_companies': 'cia_producao', 'production_countries': 'pais_producao', 'release_date': 'data_lancamento', 'revenue': 'receita', 'runtime': 'duracao', 'spoken_languages': 'idiomas_falados', 'title': 'titulo', 'vote_average': 'media_votos', 'vote_count': 'qtde_votos','video': 'video'})"
   ]
  },
  {
   "cell_type": "markdown",
   "metadata": {},
   "source": [
    "------------------------ DESCRIÇÃO DAS FEATURES --------------------\n",
    "# descrição das features\n",
    "\n",
    "'adulto' - se o filme é exclusivo para adulto ou não \n",
    "'despesas' - valor gasto na produção e divulgação dos vídeos\n",
    "'genero' - quais são os gênceros do filme. Um filme pode ter um ou gêneros\n",
    "'id' - número que identifica o filme\n",
    "'imdb_id' - número unico que identifica o filme na base do imdb\n",
    "'lingua_original' - qual é o idioma original do filme. \n",
    "'titulo_original' - titulo original do filme\n",
    "'descricao' - descrição do filme\n",
    "'popularidade' - qual é a popularidade do filme\n",
    "'cia_producao' - qual(is) foi a companhia(s) que produziu o filme. \n",
    "'pais_producao' - quais foram os países onde os filmes foram gravados\n",
    "'data_lancamento' - qual foi a data de lançamento do filme\n",
    "'receita' -  qual foi a receita obtida com o filme\n",
    "'duracao' - qual é a duração do filme em minutos\n",
    "'idiomas_falados' - quais são os idiomas falados no filme. \n",
    "'status' - status do filmes. \n",
    "'slogan' - qual é o slogan do filme.\n",
    "'titulo' - qual é o título do filme\n",
    "'video' - se tem o video ou não do traile\n",
    "'media_votos' - qual é a média de votos dada pelos usuários\n",
    "'qtde_votos' - qual foi a quantidade de votos\n",
    "\n",
    "# Tipos de features e seus possíveis valores\n",
    "\n",
    "A) Variáveis categóricas:\n",
    "1 - adulto - contém dois valores: 'false' = 1, 'true' = 0\n",
    "\n",
    "2 - genero -  contém 29 valores possíveis. Cada registro foi transformado em feature\n",
    "\n",
    "3 - lingua_original -possui 90 valores possíveis.\n",
    "\n",
    "4 - cia_producao   - possui 19368 valores possíveis.\n",
    "\n",
    "5 - pais_producao  - 155 valores possíveis.\n",
    "\n",
    "6 - idiomas_falado - 73 valores possíveis.\n",
    "\n",
    "7 - status - 'Released', nan, 'Rumored', 'Post Production', 'In Production', 'Planned', 'Canceled'  \n",
    "\n",
    "8 - video - False, True, nan\n",
    "\n",
    "\n",
    "B) Variáveis discretas: \n",
    "despesas, id, imdb_id, titulo_original, descricao,data_lancamento,popularidade,  \n",
    "receita, duracao(minutos), slogan, titulo, media_votos, qtde_votos          "
   ]
  },
  {
   "cell_type": "markdown",
   "metadata": {},
   "source": [
    "################ Feature adult #############"
   ]
  },
  {
   "cell_type": "code",
   "execution_count": null,
   "metadata": {},
   "outputs": [],
   "source": [
    "# TRANSFORMANDO A FEATURE \"adult\" EM BINÁRIO, ONDE 'True' = 0 (classificação livre) e 'False' = 1 (são somente para adultos)\n",
    "df[\"classificacao\"] = df[\"classificacao\"].apply(lambda x: 1 if x == \"False\" else 0)"
   ]
  },
  {
   "cell_type": "code",
   "execution_count": null,
   "metadata": {
    "tags": []
   },
   "outputs": [],
   "source": [
    "#print (df.groupby('classificacao').sum())\n",
    "print (df.classificacao.value_counts(normalize=True))"
   ]
  },
  {
   "cell_type": "code",
   "execution_count": null,
   "metadata": {},
   "outputs": [],
   "source": [
    "# visualizando A quantidade de registros por classificação\n",
    "df.classificacao.value_counts(normalize=True).plot.bar()\n",
    "\n",
    "plt.ylabel('Qtde')\n",
    "plt.xlabel('Classificação')\n",
    "plt.title('Classificação por quantidade')"
   ]
  },
  {
   "cell_type": "code",
   "execution_count": null,
   "metadata": {},
   "outputs": [],
   "source": [
    "# retirada da feature classificacao\n",
    "df = df[['despesas', 'genero', 'id', 'imdb_id',\n",
    "       'lingua_original', 'titulo_original', 'descricao', 'popularidade',\n",
    "       'cia_producao', 'pais_producao', 'data_lancamento', 'receita',\n",
    "       'duracao', 'idiomas_falados', 'status', 'titulo', 'video',\n",
    "       'media_votos', 'qtde_votos']]"
   ]
  },
  {
   "cell_type": "markdown",
   "metadata": {},
   "source": [
    "Como 99% dos registro tem a classificação 1 (livre), a a feature foi considerada irrelevante e excluída da análise"
   ]
  },
  {
   "cell_type": "markdown",
   "metadata": {},
   "source": [
    "------------- Transformar as features que são um dicionário em uma lista --------------\n",
    "\n",
    "- gênero\n",
    "- pais_producao\n",
    "- cia_producao"
   ]
  },
  {
   "cell_type": "code",
   "execution_count": null,
   "metadata": {},
   "outputs": [],
   "source": [
    "######## Feature gênero ############"
   ]
  },
  {
   "cell_type": "code",
   "execution_count": null,
   "metadata": {
    "tags": []
   },
   "outputs": [],
   "source": [
    "# Recupera os dados da feature e salva numa nova coluna\n",
    "from ast import literal_eval\n",
    "#df['genero'] = df['genero'].apply(literal_eval) # verifica se todos os dados são do mesmo tipo\n",
    "#Função para pegar os nomes dos gêneros, caso exista.\n",
    "def get_list(x):   \n",
    "    if isinstance(x, list):\n",
    "        names = [i['name'] for i in x]\n",
    "        print ('names antes if len(names) > 1', names)\n",
    "        tam = len(names)\n",
    "        x = []\n",
    "        if (tam > 1):\n",
    "            t = 0\n",
    "            #print ('entrei if')\n",
    "            while t < tam:\n",
    "                y = names[t]\n",
    "                #print ('y', y)\n",
    "                x.append(y)\n",
    "                #print ('x', x)\n",
    "                x.sort()\n",
    "                #print ('x ordenado', x)\n",
    "                t = t + 1\n",
    "        if (tam == 1):            \n",
    "            x.append(names[0])\n",
    "            print ('Unico genero', x)\n",
    "        else:\n",
    "            x.append('None')\n",
    "        return x\n",
    "        print ('lista ordenada',x)\n",
    "    return []\n",
    "df['generos_ordenados'] = df['genero'][0:100].apply(get_list) #O retorno será uma lista com todos os gêneros. quando coloco uma coluna que não existe, ele cria a coluna automaticamente\n",
    "#df['genero'].apply(get_list)\n",
    "\n",
    "# VALIDANDO TRANSFORMAÇÃO\n",
    "df[[\"generos_ordenados\", \"genero\", \"titulo_original\"]].head(3)"
   ]
  },
  {
   "cell_type": "code",
   "execution_count": null,
   "metadata": {},
   "outputs": [],
   "source": [
    "df.genero[54]"
   ]
  },
  {
   "cell_type": "code",
   "execution_count": null,
   "metadata": {},
   "outputs": [],
   "source": [
    "# deletando os filmes que não possuem gênero\n",
    "select = (len(df['genero']) == 0)\n",
    "\n",
    "#df = df.dropna(len(df['genero']) == 0)"
   ]
  },
  {
   "cell_type": "code",
   "execution_count": null,
   "metadata": {
    "tags": []
   },
   "outputs": [],
   "source": [
    "# Recupera os dados da feature e salva numa nova coluna\n",
    "from ast import literal_eval\n",
    "#df['genero'] = df['genero'].apply(literal_eval) # verifica se todos os dados são do mesmo tipo\n",
    "#Função para pegar os nomes dos gêneros, caso exista.\n",
    "def get_list(x):\n",
    "    if isinstance(x, list):\n",
    "        names = [i['name'] for i in x]\n",
    "        print ('names antes if len(names) > 1', names)\n",
    "        if len(names) > 1:\n",
    "            names = names[:1]\n",
    "            print (\"names não ordenado\",names)\n",
    "            names.sort()\n",
    "            print ('names ordenado', names)           \n",
    "        return names\n",
    "    return [].sort()\n",
    "df['generos_ordenados'] = df['genero'][0:100].apply(get_list) #O retorno será uma lista com todos os gêneros. quando coloco uma coluna que não existe, ele cria a coluna automaticamente\n",
    "#df['genero'].apply(get_list)\n",
    "\n",
    "# VALIDANDO TRANSFORMAÇÃO\n",
    "df[[\"generos_ordenados\", \"genero\", \"titulo_original\"]].head(3)"
   ]
  },
  {
   "cell_type": "code",
   "execution_count": null,
   "metadata": {
    "tags": []
   },
   "outputs": [],
   "source": [
    "# Criar uma lista que contenha somente valores únicos de gênero, para idêntificá-los e contabilizá-los\n",
    "todos_registros = len(df.generos_ordenados)        \n",
    "generos_unicos = [] # lista onde será incluídos os gêneros únicos\n",
    "x = 0 \n",
    "#print ('total de registros do dataset: ', todos_registros)\n",
    "while (x < todos_registros): # enquanto tiver registros no dataset\n",
    "    #print (\"x:\", x)\n",
    "    generos = df.generos_ordenados[x]\n",
    "    #print (\"P/ x = {} todos os generos são {}:\".format(x,generos))\n",
    "    tam_generos = len(generos)\n",
    "    #print (\"tam_generos: \", tam_generos)\n",
    "    i = z = 0\n",
    "    while (i < tam_generos): # enquanto o registro tiver generos\n",
    "        cada_genero_registo = df.generos_ordenados[x][i]\n",
    "        #print (\"Para x = {} e i = {} os genero é {} \". format(x, i ,cada_genero_registo))\n",
    "        if (not cada_genero_registo in generos_unicos): # verifica se o genero está na lista de generos únicos\n",
    "            generos_unicos.append(cada_genero_registo) # inclui o genero na lista de generos únicos\n",
    "            #print (\"lista com os generos únicos\", generos_unicos)\n",
    "            generos_unicos.sort()\n",
    "            #print (\"lista com os generos únicos ordenado\", generos_unicos)\n",
    "            z +=1\n",
    "        i += 1        \n",
    "    x += 1\n",
    "\n",
    "\n",
    "print (\"generos únicos: \", len(generos_unicos))\n",
    "print (generos_unicos)"
   ]
  },
  {
   "cell_type": "code",
   "execution_count": null,
   "metadata": {
    "tags": []
   },
   "outputs": [],
   "source": [
    "print (\"generos únicos: \", len(generos_unicos))\n",
    "print (generos_unicos)"
   ]
  },
  {
   "cell_type": "code",
   "execution_count": null,
   "metadata": {},
   "outputs": [],
   "source": [
    "# transformar as opções possíveis de genero em features com conteúdo true ou false \n",
    "from mlxtend.preprocessing import TransactionEncoder\n",
    "from mlxtend.frequent_patterns import apriori\n",
    "te = TransactionEncoder()\n",
    "genero_x = te.fit(df.generos_ordenados).transform(df.generos_ordenados)\n",
    "df_novo = pd.DataFrame(genero_x, columns=te.columns_)"
   ]
  },
  {
   "cell_type": "code",
   "execution_count": null,
   "metadata": {},
   "outputs": [],
   "source": [
    "# resetando os índices\n",
    "df_novo = df_novo.reset_index()\n",
    "\n",
    "# Mesclado os dois dataframes\n",
    "horizontal_stack = pd.concat([df, df_novo], axis=1)"
   ]
  },
  {
   "cell_type": "code",
   "execution_count": null,
   "metadata": {},
   "outputs": [],
   "source": [
    "# copiando o conteúdo do novo dataframe para o filme utilizado\n",
    "df = horizontal_stack.copy()"
   ]
  },
  {
   "cell_type": "code",
   "execution_count": null,
   "metadata": {},
   "outputs": [],
   "source": [
    "# após a transformação do conteúdo da feature genero para novas features, o data set ficou com as seguintes colunas: \n",
    "df.columns"
   ]
  },
  {
   "cell_type": "code",
   "execution_count": null,
   "metadata": {},
   "outputs": [],
   "source": [
    "# renomear as colunas de genero e usar todas com caixa baixa para padronizar\n",
    "df = df.rename(columns={'Action': \"acao\", 'Adventure': 'aventura', 'Animation': 'animacao', 'Comedy': 'comedia', 'Crime': 'crime', 'Documentary': 'documentario', 'Drama': 'drama', 'Family': 'familia', 'Fantasy': 'fantasia', 'Foreign': 'estrangeiro', 'History': 'historia', 'Horror': 'horror', 'Music': 'musical', 'Mystery': 'misterio', 'Romance': 'romance', 'Science Fiction': 'ficcao_cientifica', 'TV Movie': 'filmes_tv', 'Thriller': 'suspense', 'War': 'gerra', 'Western': 'ocidental'})\n"
   ]
  },
  {
   "cell_type": "code",
   "execution_count": null,
   "metadata": {
    "tags": []
   },
   "outputs": [],
   "source": [
    "print ('Features após transformação do genero', df.columns)"
   ]
  },
  {
   "cell_type": "code",
   "execution_count": null,
   "metadata": {
    "tags": []
   },
   "outputs": [],
   "source": [
    "print ('acao\\n', df.acao.value_counts(normalize=True))\n",
    "print ('aventura\\n', df.aventura.value_counts(normalize=True))\n",
    "print ('animacao\\n', df.animacao.value_counts(normalize=True))\n",
    "print ('comedia\\n', df.comedia.value_counts(normalize=True))\n",
    "print ('documentario\\n', df.documentario.value_counts(normalize=True))\n",
    "print ('familia\\n', df.familia.value_counts(normalize=True))\n",
    "print ('romance\\n', df.romance.value_counts(normalize=True))\n",
    "print ('ficcao_cientifica\\n', df.ficcao_cientifica.value_counts(normalize=True))\n",
    "print ('filmes_tv\\n', df.filmes_tv.value_counts(normalize=True))\n",
    "print ('suspense\\n', df.suspense.value_counts(normalize=True))\n",
    "print ('gerra\\n', df.gerra.value_counts(normalize=True))\n",
    "print ('ocidental\\n', df.ocidental.value_counts(normalize=True))"
   ]
  },
  {
   "cell_type": "code",
   "execution_count": null,
   "metadata": {
    "tags": []
   },
   "outputs": [],
   "source": [
    "# contabilizando a qtde de registros true de cada gênero\n",
    "lista_generos = ['acao', 'aventura', 'animacao', 'comedia', 'crime', 'documentario', 'drama', 'familia', 'fantasia', 'estrangeiro', 'historia', 'horror', 'musical', 'misterio', 'romance', 'ficcao_cientifica', 'filmes_tv', 'suspense', 'gerra', 'ocidental']\n",
    "\n",
    "tam = len(lista_generos)\n",
    "print (\"total de generos\", tam)\n",
    "x = 0\n",
    "lista_totais = [] # lista para armazenar os valores totais de cada genero\n",
    "#print (type (lista_totais))\n",
    "\n",
    "while x < tam:\n",
    "    genero = lista_generos[x]\n",
    "    total_genero = sum(df[genero] == True)    \n",
    "    print ('genero: ', genero, '|',total_genero)\n",
    "    x += 1\n",
    "    lista_totais.append (total_genero)"
   ]
  },
  {
   "cell_type": "code",
   "execution_count": null,
   "metadata": {},
   "outputs": [],
   "source": [
    "#plotando os totais por generos\n",
    "plt.bar(lista_generos, lista_totais)\n",
    "\n",
    "plt.rcParams['figure.figsize'] = [15, 5]\n",
    "plt.ylim(0, 35000)\n",
    "\n",
    "plt.xticks(rotation=90)\n",
    "\n",
    "plt.xlabel(\"Genero\")\n",
    "plt.ylabel(\"Total\")\n",
    "plt.title(\"Total por gênero\")\n",
    "\n",
    "plt.show()"
   ]
  },
  {
   "cell_type": "markdown",
   "metadata": {},
   "source": [
    "São 20 os tipos de gênero. Um filme tem no mínimo um gênero.\n",
    "Conforme observamos os generos mais comuns são: drama, comédia, ação, suspense e romance."
   ]
  },
  {
   "cell_type": "markdown",
   "metadata": {},
   "source": [
    "######## Feature pais_producao ############"
   ]
  },
  {
   "cell_type": "code",
   "execution_count": null,
   "metadata": {},
   "outputs": [],
   "source": [
    " df['pais_producao'].head()"
   ]
  },
  {
   "cell_type": "code",
   "execution_count": null,
   "metadata": {},
   "outputs": [],
   "source": [
    "type(df.pais_producao)"
   ]
  },
  {
   "cell_type": "code",
   "execution_count": null,
   "metadata": {},
   "outputs": [],
   "source": [
    "# Recupera os dados da feature e salva numa nova coluna\n",
    "from ast import literal_eval\n",
    "df['pais_producao'] = df['pais_producao'].apply(literal_eval) # verifica se todos os dados são do mesmo tipo\n",
    "#Função para pegar os nomes dos paises, caso exista.\n",
    "def get_list(x):\n",
    "    if isinstance(x, list):\n",
    "        names = [i['name'] for i in x]\n",
    "        if len(names) > 3:\n",
    "            names = names[:3]\n",
    "        return names\n",
    "    return []\n",
    "df['novo_pais_producao'] = df['pais_producao'].apply(get_list) #O retorno será uma lista com todos os paises. quando coloco uma coluna que não existe, ele cria a coluna automaticamente\n",
    "\n",
    "\n",
    "df[[\"novo_pais_producao\", \"pais_producao\", \"titulo_original\"]].head(3)"
   ]
  },
  {
   "cell_type": "code",
   "execution_count": null,
   "metadata": {
    "tags": []
   },
   "outputs": [],
   "source": [
    "# Criar uma lista que contenha somente valores únicos do pais de produção, para idêntificá-los e contabilizá-los\n",
    "todos_registros = len(df.novo_pais_producao)        \n",
    "pais_producao_unicos = [] # lista onde será incluídos os países de produção únicos\n",
    "x = 0 \n",
    "print ('total de registros do dataset: ', todos_registros)\n",
    "while (x < todos_registros): # enquanto tiver registros no dataset\n",
    "    pais = df.novo_pais_producao[x]\n",
    "    tam_pais = len(pais)\n",
    "    i = z = 0\n",
    "    while (i < tam_pais): # enquanto o registro tiver paises de produção\n",
    "        cada_pais_registo = df.novo_pais_producao[x][i]\n",
    "        if (not cada_pais_registo in pais_producao_unicos): # verifica se o pais de produção está na lista de paises únicos\n",
    "            pais_producao_unicos.append(cada_pais_registo) # inclui o pais na lista de paises únicos\n",
    "            z +=1\n",
    "        i += 1        \n",
    "    x += 1\n",
    "\n",
    "print (\"pais_producao_unicos: \", len(pais_producao_unicos))\n",
    "print (pais_producao_unicos)"
   ]
  },
  {
   "cell_type": "code",
   "execution_count": null,
   "metadata": {},
   "outputs": [],
   "source": [
    "df.novo_pais_producao.head(3)"
   ]
  },
  {
   "cell_type": "code",
   "execution_count": null,
   "metadata": {},
   "outputs": [],
   "source": [
    "# transformar as opções possíveis de pais de gravação em features com conteúdo true ou false \n",
    "pais_producao_x = te.fit(df.novo_pais_producao).transform(df.novo_pais_producao)\n",
    "df_novo_pais_producao = pd.DataFrame(pais_producao_x, columns=te.columns_)\n",
    "\n",
    "# resetando os índices\n",
    "df_novo_pais_producao = df_novo_pais_producao.reset_index()\n",
    "\n",
    "# Mesclado os dois dataframes\n",
    "horizontal_stack = pd.concat([df, df_novo_pais_producao], axis=1)\n",
    "\n",
    "# copiando o conteúdo do novo dataframe para o filme utilizado\n",
    "dataset = horizontal_stack.copy()"
   ]
  },
  {
   "cell_type": "code",
   "execution_count": null,
   "metadata": {},
   "outputs": [],
   "source": [
    "# a coluna index será excluída\n",
    "dataset.drop(['index'],axis = 1, inplace = True)\n",
    "df_novo_pais_producao.drop(['index'],axis = 1, inplace = True)"
   ]
  },
  {
   "cell_type": "code",
   "execution_count": null,
   "metadata": {
    "tags": []
   },
   "outputs": [],
   "source": [
    "# contabilizando a qtde de registros true de cada pais de gravação\n",
    "lista_pais = df_novo_pais_producao.columns\n",
    "print (lista_pais)\n",
    "tam = len(lista_pais)\n",
    "print (\"total de pais\", tam)\n",
    "x = 0\n",
    "lista_totais = [] # lista para armazenar os valores totais de cada genero\n",
    "#print (type (lista_totais))\n",
    "\n",
    "while x < tam:\n",
    "    pais = lista_pais[x]\n",
    "    total_pais = sum(df_novo_pais_producao[pais] == True)    \n",
    "    print ('pais: ', pais, '|',total_pais)\n",
    "    x += 1\n",
    "    lista_totais.append (total_pais)\n",
    "\n",
    "lista_pais_producao = list(zip(lista_totais,lista_pais))\n",
    "\n",
    "del(lista_pais_producao[0]) # excluindo o valor index\n",
    "\n",
    "print (lista_pais_producao)"
   ]
  },
  {
   "cell_type": "code",
   "execution_count": null,
   "metadata": {},
   "outputs": [],
   "source": [
    "# ordenando e revertendo a ordenação\n",
    "lista_pais_producao.sort(reverse=True)\n",
    "\n",
    "# obtendo os 10 mais frequentes países\n",
    "lista_pais_producao[0:10]"
   ]
  },
  {
   "cell_type": "code",
   "execution_count": null,
   "metadata": {},
   "outputs": [],
   "source": [
    "#plotando os 10 mais frequentes paises de gravação\n",
    "x = [v[1] for v in lista_pais_producao[0:10]]\n",
    "y = [v[0] for v in lista_pais_producao[0:10]]\n",
    "\n",
    "plt.bar(x, y)\n",
    "\n",
    "plt.rcParams['figure.figsize'] = [15, 5]\n",
    "plt.ylim(0, 25000)\n",
    "\n",
    "plt.xticks(rotation=75)\n",
    "\n",
    "plt.xlabel(\"País de gravação\")\n",
    "plt.ylabel(\"Total\")\n",
    "plt.title(\"Total por país onde os filmes foram gravados\")\n",
    "\n",
    "plt.show()"
   ]
  },
  {
   "cell_type": "markdown",
   "metadata": {},
   "source": [
    "Observamos que os 10 países onde mais se grava filmes são:\n",
    "(20903, 'United States of America'),\n",
    " (3947, 'United Kingdom'),\n",
    " (3737, 'France'),\n",
    " (2083, 'Germany'),\n",
    " (1919, 'Italy'),\n",
    " (1737, 'Canada'),\n",
    " (1624, 'Japan'),\n",
    " (875, 'Spain'),\n",
    " (870, 'Russia'),\n",
    " (818, 'India')"
   ]
  },
  {
   "cell_type": "markdown",
   "metadata": {},
   "source": [
    "################# Feature idiomas_falados ################"
   ]
  },
  {
   "cell_type": "code",
   "execution_count": null,
   "metadata": {},
   "outputs": [],
   "source": [
    "# Recupera os dados da feature e salva numa nova coluna\n",
    "from ast import literal_eval\n",
    "df['idiomas_falados'] = df['idiomas_falados'].apply(literal_eval) \n",
    "def get_list(x):\n",
    "    if isinstance(x, list):\n",
    "        names = [i['name'] for i in x]\n",
    "        if len(names) > 3:\n",
    "            names = names[:3]\n",
    "        return names\n",
    "    return []\n",
    "df['novo_idiomas_falados'] = df['idiomas_falados'].apply(get_list) \n",
    "\n",
    "# VALIDANDO TRANSFORMAÇÃO\n",
    "df[[\"novo_idiomas_falados\", \"idiomas_falados\", \"titulo_original\"]].head(3)"
   ]
  },
  {
   "cell_type": "code",
   "execution_count": null,
   "metadata": {
    "tags": []
   },
   "outputs": [],
   "source": [
    "# Criar uma lista que contenha somente valores únicos de linguas, para idêntificá-los e contabilizá-los\n",
    "# # existem registros com valores '??????' e '?????' (Turkic), estes NÃO ESTÃO SENDO TRATADOS ????????????????????????????????????????????????????????????????????????????????????????????????????? \n",
    "# https://en.wikipedia.org/wiki/List_of_ISO_639-1_codes\n",
    "\n",
    "todos_registros = len(df.novo_idiomas_falados)        \n",
    "idiomas_falados_unicos = [] # lista onde será incluídos os linguas únicos\n",
    "x = 0 \n",
    "print ('total de registros do dataset: ', todos_registros)\n",
    "while (x < todos_registros): # enquanto tiver registros no dataset\n",
    "    #print (\"x:\", x)\n",
    "    idiomas = df.novo_idiomas_falados[x]\n",
    "    tam_idiomas = len(idiomas)\n",
    "    i = z = b = 0\n",
    "    while (i < tam_idiomas): # enquanto o registro tiver linguas\n",
    "        cada_idioma_registo = df.novo_idiomas_falados[x][i]\n",
    "        if (not cada_idioma_registo in idiomas_falados_unicos): # verifica se a lingua está na lista\n",
    "            if (cada_idioma_registo != '??????') and (cada_idioma_registo != '?????'):               \n",
    "                idiomas_falados_unicos.append(cada_idioma_registo) # inclui na lista de linguas unicas\n",
    "            z +=1\n",
    "        i += 1        \n",
    "    x += 1\n",
    "\n",
    "print (\"idiomas_falados_unicos: \", len(idiomas_falados_unicos))\n",
    "print (idiomas_falados_unicos)"
   ]
  },
  {
   "cell_type": "code",
   "execution_count": null,
   "metadata": {},
   "outputs": [],
   "source": [
    "# transformar as opções possíveis de pais de gravação em features com conteúdo true ou false \n",
    "idiomas_falados_x = te.fit(df['novo_idiomas_falados']).transform(df['novo_idiomas_falados'])\n",
    "df_novo_idiomas_falados = pd.DataFrame(idiomas_falados_x, columns=te.columns_)\n",
    "\n",
    "# resetando os índices\n",
    "df_novo_idiomas_falados = df_novo_idiomas_falados.reset_index()\n",
    "\n",
    "# Mesclado os dois dataframes\n",
    "horizontal_stack = pd.concat([df, df['novo_idiomas_falados']], axis=1)\n",
    "\n",
    "# copiando o conteúdo do novo dataframe para o filme utilizado\n",
    "dataset = horizontal_stack.copy()"
   ]
  },
  {
   "cell_type": "code",
   "execution_count": null,
   "metadata": {},
   "outputs": [],
   "source": [
    "# a coluna index será excluída\n",
    "dataset.drop(['index'],axis = 1, inplace = True)\n",
    "df_novo_idiomas_falados.drop(['index'],axis = 1, inplace = True)"
   ]
  },
  {
   "cell_type": "code",
   "execution_count": null,
   "metadata": {
    "tags": []
   },
   "outputs": [],
   "source": [
    "# contabilizando a qtde de registros true de cada pais de gravação\n",
    "lista_idiomas = df_novo_idiomas_falados.columns\n",
    "print (lista_idiomas)\n",
    "tam = len(lista_idiomas)\n",
    "print (\"total de idiomas\", tam)\n",
    "x = 0\n",
    "lista_totais = [] # lista para armazenar os valores totais de cada idioma\n",
    "#print (type (lista_totais))\n",
    "\n",
    "while x < tam:\n",
    "    idiomas = lista_idiomas[x]\n",
    "    total_idiomas = sum(df_novo_idiomas_falados[idiomas] == True)    \n",
    "    print ('idiomas: ', idiomas, '|',total_idiomas)\n",
    "    x += 1\n",
    "    lista_totais.append (total_idiomas)\n",
    "\n",
    "lista_total_idiomas_producao = list(zip(lista_totais,lista_idiomas))\n",
    "\n",
    "del(lista_total_idiomas_producao[0]) # excluindo o valor index\n",
    "\n",
    "print (lista_total_idiomas_producao)"
   ]
  },
  {
   "cell_type": "code",
   "execution_count": null,
   "metadata": {},
   "outputs": [],
   "source": [
    "# Deletrando os registros com valor '?????' e '??????'\n",
    "del(lista_total_idiomas_producao[0:2])\n",
    "\n",
    "# validando a exclusão\n",
    "lista_total_idiomas_producao"
   ]
  },
  {
   "cell_type": "code",
   "execution_count": null,
   "metadata": {},
   "outputs": [],
   "source": [
    "# ordenando e revertendo a ordenação\n",
    "lista_total_idiomas_producao.sort(reverse=True)\n",
    "\n",
    "# obtendo os 10 mais frequentes países\n",
    "lista_total_idiomas_producao[0:10]"
   ]
  },
  {
   "cell_type": "code",
   "execution_count": null,
   "metadata": {},
   "outputs": [],
   "source": [
    "#plotando os 10 mais frequentes paises de gravação\n",
    "x = [v[1] for v in lista_total_idiomas_producao[0:10]]\n",
    "y = [v[0] for v in lista_total_idiomas_producao[0:10]]\n",
    "\n",
    "plt.bar(x, y)\n",
    "\n",
    "plt.rcParams['figure.figsize'] = [15, 5]\n",
    "plt.ylim(0, 30000)\n",
    "\n",
    "plt.xticks(rotation=75)\n",
    "\n",
    "plt.xlabel(\"Idiomas\")\n",
    "plt.ylabel(\"Total\")\n",
    "plt.title(\"Total de idiomas disponíveis no filmes\")\n",
    "\n",
    "plt.show()"
   ]
  },
  {
   "cell_type": "markdown",
   "metadata": {},
   "source": [
    "Observamos que os idiomas mais frequentes são:\n",
    "(28537, 'English'),\n",
    " (3999, 'Français'),\n",
    " (2443, 'Deutsch'),\n",
    " (2176, 'Español'),\n",
    " (2071, 'Italiano')"
   ]
  },
  {
   "cell_type": "markdown",
   "metadata": {},
   "source": [
    "############### Feature cia_producao ######################"
   ]
  },
  {
   "cell_type": "code",
   "execution_count": null,
   "metadata": {},
   "outputs": [],
   "source": [
    "# Recupera os dados da feature e salva numa nova coluna\n",
    "from ast import literal_eval\n",
    "df['cia_producao'] = df['cia_producao'].apply(literal_eval) \n",
    "def get_list(x):\n",
    "    if isinstance(x, list):\n",
    "        names = [i['name'] for i in x]\n",
    "        if len(names) > 3:\n",
    "            names = names[:3]\n",
    "        return names\n",
    "    return []\n",
    "df['novo_cia_producao'] = df['cia_producao'].apply(get_list) \n",
    "\n",
    "# VALIDANDO TRANSFORMAÇÃO\n",
    "df[[\"novo_cia_producao\", \"cia_producao\", \"titulo_original\"]].head(3)"
   ]
  },
  {
   "cell_type": "code",
   "execution_count": null,
   "metadata": {
    "tags": []
   },
   "outputs": [],
   "source": [
    "# Criar uma lista que contenha somente valores únicos de cia, para idêntificá-los e contabilizá-los\n",
    "todos_registros = len(df.novo_cia_producao)        \n",
    "cia_unicos = [] # lista onde será incluídos os cia únicos\n",
    "x = 0 \n",
    "print ('total de registros do dataset: ', todos_registros)\n",
    "while (x < todos_registros):\n",
    "    cia = df.novo_cia_producao[x]\n",
    "    tam_cia = len(cia)\n",
    "    i = z = b = 0\n",
    "    while (i < tam_cia): \n",
    "        cada_cia_registo = df.novo_cia_producao[x][i]\n",
    "        if (not cada_cia_registo in cia_unicos):      \n",
    "            cia_unicos.append(cada_cia_registo)\n",
    "            z +=1\n",
    "        i += 1        \n",
    "    x += 1\n",
    "\n",
    "print (\"cia_unicos: \", len(cia_unicos))\n",
    "#print (cia_unicos)"
   ]
  },
  {
   "cell_type": "code",
   "execution_count": null,
   "metadata": {},
   "outputs": [],
   "source": [
    "Não consegui contabilizar os valores mais frequentes da feature devido a erro de memoria.\n",
    "???????????????????????????????????????????????????????????????????????????????????????????????????????????????????????"
   ]
  },
  {
   "cell_type": "markdown",
   "metadata": {},
   "source": [
    "Tratamento das demais features"
   ]
  },
  {
   "cell_type": "code",
   "execution_count": null,
   "metadata": {},
   "outputs": [],
   "source": [
    "# verificando os valores da feature status\n",
    "df.status.unique()"
   ]
  },
  {
   "cell_type": "code",
   "execution_count": null,
   "metadata": {},
   "outputs": [],
   "source": [
    "df.status.value_counts()"
   ]
  },
  {
   "cell_type": "code",
   "execution_count": null,
   "metadata": {},
   "outputs": [],
   "source": [
    "# Avaliação dos valores 'In Production', Planned' e 'Canceled'\n",
    "# após análise, os valores serão mantidos\n",
    "select = df.status == 'Canceled'\n",
    "df[select]"
   ]
  },
  {
   "cell_type": "code",
   "execution_count": null,
   "metadata": {},
   "outputs": [],
   "source": [
    "# visualizando os dados de status\n",
    "df.groupby(by='status').size().sort_values(ascending = False).head(10).plot.bar()\n",
    "\n",
    "plt.rcParams['figure.figsize'] = [15, 5]\n",
    "plt.ylim(0, 45000)\n",
    "\n",
    "plt.xticks(rotation=70)\n",
    "\n",
    "plt.ylabel('Qtde')\n",
    "plt.xlabel('Status')\n",
    "plt.title('Total por status')"
   ]
  },
  {
   "cell_type": "markdown",
   "metadata": {},
   "source": [
    "Na época de disponibilização do dataset (2017), foram avaliados filmes lançados e ainda não lançados\n",
    "\n",
    "Released           44010 #  já lançados\n",
    "\n",
    "Rumored              214 # rumores da mídia sobre o lançamento\n",
    "\n",
    "Post Production       96 # avaliados pós produção, mas ainda não lançados\n",
    "\n",
    "In Production         16 # avaliados ainda em produção\n",
    "\n",
    "Planned               12 # avaliação do projeto do filme\n",
    "\n",
    "Canceled               1 # avaliação do filme antes de concluir a produção e ser lançado. Este filme, teve problemas para ser concluído, tendo sido lançado alguns anos depois, não estando, atualmente, cancelado."
   ]
  },
  {
   "cell_type": "markdown",
   "metadata": {},
   "source": [
    "Feature data de lançamento do filmes"
   ]
  },
  {
   "cell_type": "code",
   "execution_count": null,
   "metadata": {},
   "outputs": [],
   "source": [
    "# Converter a data de lançamento para ter somente o ano\n",
    "data = df['data_lancamento'] # se o resultado for uma lista das datas do banco\n",
    "ano = [a.split('-')[0] for a in data]\n",
    "df['ano_lancamento'] = ano\n",
    "\n",
    "# validando a transformação\n",
    "df[['data_lancamento','ano_lancamento']].head(2)"
   ]
  },
  {
   "cell_type": "code",
   "execution_count": null,
   "metadata": {},
   "outputs": [],
   "source": [
    "df.groupby(by='ano_lancamento').size().sort_values(ascending = False).head(10)"
   ]
  },
  {
   "cell_type": "code",
   "execution_count": null,
   "metadata": {},
   "outputs": [],
   "source": [
    "# visualizando os 10 anos mais frequentes\n",
    "df.groupby(by='ano_lancamento').size().sort_values(ascending = False).head(10).plot.bar()\n",
    "\n",
    "plt.rcParams['figure.figsize'] = [15, 5]\n",
    "plt.ylim(0, 2000)\n",
    "\n",
    "plt.xticks(rotation=0)\n",
    "\n",
    "plt.ylabel('Qtde')\n",
    "plt.xlabel('Ano de lançamentos')\n",
    "plt.title('Os 10 anos de lançamento mais frequentes')"
   ]
  },
  {
   "cell_type": "markdown",
   "metadata": {},
   "source": [
    "Conforme observamos, os anos de lançamento mais comuns são 2014, 2015, 2013 e 2012."
   ]
  },
  {
   "cell_type": "code",
   "execution_count": null,
   "metadata": {},
   "outputs": [],
   "source": [
    "############### Feature despesas #######################"
   ]
  },
  {
   "cell_type": "code",
   "execution_count": null,
   "metadata": {},
   "outputs": [],
   "source": [
    "df.despesas.describe()"
   ]
  },
  {
   "cell_type": "code",
   "execution_count": null,
   "metadata": {},
   "outputs": [],
   "source": [
    "# convertendo a feature para float\n",
    "df.despesas = df.despesas.astype('float64')"
   ]
  },
  {
   "cell_type": "code",
   "execution_count": null,
   "metadata": {},
   "outputs": [],
   "source": [
    "df.despesas.describe()"
   ]
  },
  {
   "cell_type": "code",
   "execution_count": null,
   "metadata": {},
   "outputs": [],
   "source": [
    "# os 10 maiores despesas\n",
    "df.groupby(by='despesas').size().sort_values(ascending = False).head(10)"
   ]
  },
  {
   "cell_type": "code",
   "execution_count": null,
   "metadata": {},
   "outputs": [],
   "source": [
    "# retirada da feature despesas\n",
    "df = df[['genero', 'id', 'imdb_id', 'lingua_original',\n",
    "       'titulo_original', 'descricao', 'popularidade', 'cia_producao',\n",
    "       'pais_producao', 'data_lancamento', 'receita', 'duracao',\n",
    "       'idiomas_falados', 'status', 'titulo', 'video', 'media_votos',\n",
    "       'qtde_votos', 'generos_ordenados', 'index', 'acao', 'aventura', 'animacao',\n",
    "       'comedia', 'crime', 'documentario', 'drama', 'familia', 'fantasia',\n",
    "       'estrangeiro', 'historia', 'horror', 'musical', 'misterio', 'romance',\n",
    "       'ficcao_cientifica', 'filmes_tv', 'suspense', 'gerra', 'ocidental',\n",
    "       'novo_pais_producao', 'novo_idiomas_falados', 'novo_cia_producao',\n",
    "       'ano_lancamento']]"
   ]
  },
  {
   "cell_type": "markdown",
   "metadata": {},
   "source": [
    "Conforme observamos, 75% dos filmes não possui informação de despesas. Portanto, a feature não será utilizada ma análise/predição"
   ]
  },
  {
   "cell_type": "code",
   "execution_count": null,
   "metadata": {},
   "outputs": [],
   "source": [
    "################# Feature original_language ################"
   ]
  },
  {
   "cell_type": "code",
   "execution_count": null,
   "metadata": {},
   "outputs": [],
   "source": [
    "df.lingua_original.describe()"
   ]
  },
  {
   "cell_type": "code",
   "execution_count": null,
   "metadata": {},
   "outputs": [],
   "source": [
    "df.lingua_original.value_counts(normalize=True)\n"
   ]
  },
  {
   "cell_type": "code",
   "execution_count": null,
   "metadata": {},
   "outputs": [],
   "source": [
    "df.groupby(by='lingua_original').size().sort_values(ascending = False).head(10)"
   ]
  },
  {
   "cell_type": "code",
   "execution_count": null,
   "metadata": {},
   "outputs": [],
   "source": [
    "# visualizando os 10 idiomas originais mais frequentes\n",
    "dataset.groupby(by='lingua_original').size().sort_values(ascending = False).head(10).plot.bar()\n",
    "\n",
    "plt.rcParams['figure.figsize'] = [15, 5]\n",
    "plt.ylim(0, 35000)\n",
    "\n",
    "plt.xticks(rotation=0)\n",
    "\n",
    "plt.ylabel('Qtde')\n",
    "plt.xlabel('Idioma original')\n",
    "plt.title('Os 10 idiomas originais mais frequentes')"
   ]
  },
  {
   "cell_type": "markdown",
   "metadata": {},
   "source": [
    "O idioma mais frequente é o inglês(en), com 32062, seguindo do francês(fr) com 2278, japonês (ja) com 1345 e o italiano com 1264."
   ]
  },
  {
   "cell_type": "code",
   "execution_count": null,
   "metadata": {},
   "outputs": [],
   "source": [
    "############# Feature popularidade ##############"
   ]
  },
  {
   "cell_type": "code",
   "execution_count": null,
   "metadata": {},
   "outputs": [],
   "source": [
    "df.popularidade.describe()"
   ]
  },
  {
   "cell_type": "code",
   "execution_count": null,
   "metadata": {},
   "outputs": [],
   "source": [
    "# convertendo a featue para float\n",
    "df.popularidade = df.popularidade.astype('float64')"
   ]
  },
  {
   "cell_type": "code",
   "execution_count": null,
   "metadata": {},
   "outputs": [],
   "source": [
    "df.popularidade.describe()"
   ]
  },
  {
   "cell_type": "code",
   "execution_count": null,
   "metadata": {},
   "outputs": [],
   "source": [
    "df.popularidade.head(3)"
   ]
  },
  {
   "cell_type": "code",
   "execution_count": null,
   "metadata": {},
   "outputs": [],
   "source": [
    "df.popularidade.unique()"
   ]
  },
  {
   "cell_type": "code",
   "execution_count": null,
   "metadata": {},
   "outputs": [],
   "source": [
    "# qtde de registros únicos de popularidade\n",
    "x = df.popularidade\n",
    "len(x.unique())"
   ]
  },
  {
   "cell_type": "code",
   "execution_count": null,
   "metadata": {},
   "outputs": [],
   "source": [
    "########### Feature receitas #############"
   ]
  },
  {
   "cell_type": "code",
   "execution_count": null,
   "metadata": {},
   "outputs": [],
   "source": [
    "df.receita.head(3)"
   ]
  },
  {
   "cell_type": "code",
   "execution_count": null,
   "metadata": {},
   "outputs": [],
   "source": [
    "df.receita.describe()"
   ]
  },
  {
   "cell_type": "code",
   "execution_count": null,
   "metadata": {},
   "outputs": [],
   "source": [
    "# qtde de registros únicos de receita\n",
    "len(df.receita.unique())"
   ]
  },
  {
   "cell_type": "code",
   "execution_count": null,
   "metadata": {},
   "outputs": [],
   "source": [
    "# retirada da feature receita\n",
    "df = df[['genero', 'id', 'imdb_id', 'lingua_original', 'titulo_original',\n",
    "       'descricao', 'popularidade', 'cia_producao', 'pais_producao',\n",
    "       'data_lancamento', 'duracao', 'idiomas_falados', 'status',\n",
    "       'titulo', 'video', 'media_votos', 'qtde_votos', 'generos_ordenados', 'index',\n",
    "       'acao', 'aventura', 'animacao', 'comedia', 'crime', 'documentario',\n",
    "       'drama', 'familia', 'fantasia', 'estrangeiro', 'historia', 'horror',\n",
    "       'musical', 'misterio', 'romance', 'ficcao_cientifica', 'filmes_tv',\n",
    "       'suspense', 'gerra', 'ocidental', 'novo_pais_producao',\n",
    "       'novo_idiomas_falados', 'novo_cia_producao', 'ano_lancamento']]"
   ]
  },
  {
   "cell_type": "markdown",
   "metadata": {},
   "source": [
    "Conforme observamos, 75% dos filmes não possui valor de receita. A feature não será utilizada na análise/predição"
   ]
  },
  {
   "cell_type": "markdown",
   "metadata": {},
   "source": [
    "################### duração #################\n"
   ]
  },
  {
   "cell_type": "code",
   "execution_count": null,
   "metadata": {},
   "outputs": [],
   "source": [
    "df.duracao.head(3)"
   ]
  },
  {
   "cell_type": "code",
   "execution_count": null,
   "metadata": {},
   "outputs": [],
   "source": [
    "df.duracao.describe()"
   ]
  },
  {
   "cell_type": "code",
   "execution_count": null,
   "metadata": {},
   "outputs": [],
   "source": [
    "# qtde de registros únicos\n",
    "len(df.duracao.unique())"
   ]
  },
  {
   "cell_type": "code",
   "execution_count": null,
   "metadata": {},
   "outputs": [],
   "source": [
    "# os 10 anos de lançamento mais frequentes\n",
    "df.groupby(by='duracao').size().sort_values(ascending = False).head(10)"
   ]
  },
  {
   "cell_type": "code",
   "execution_count": null,
   "metadata": {},
   "outputs": [],
   "source": [
    "# muitos registros possuem duração zero. Estes casos serão substituidos pela média\n",
    "df['duracao'].replace(0,df['duracao'].mean(), inplace=True)"
   ]
  },
  {
   "cell_type": "code",
   "execution_count": null,
   "metadata": {},
   "outputs": [],
   "source": [
    "# verificando o impacto da atualização dos valores zerados de duração\n",
    "df.groupby(by='duracao').size().sort_values(ascending = False).head(10)"
   ]
  },
  {
   "cell_type": "code",
   "execution_count": null,
   "metadata": {},
   "outputs": [],
   "source": [
    "df.groupby(by='duracao').size().sort_values(ascending = False).head(10).plot.bar()\n",
    "plt.grid(True)"
   ]
  },
  {
   "cell_type": "markdown",
   "metadata": {},
   "source": [
    "75% dos filmes, tem duração de 107 minutos.\n",
    "1118 filmes estão com duração zero. Para estes, o valor foi atualizado pela média, 95.069945.\n",
    "As durações mais frequentes são:\n",
    "90 minutos, com 2527, seguido de 100 minutos com 1453, 95 minutos com 1393, 93 minutos com 1207.\n",
    "95.069945     1118"
   ]
  },
  {
   "cell_type": "markdown",
   "metadata": {},
   "source": [
    "Devido a grande variedade de registros únicos de popularidade, não vi ganho em agrupar, contabilizar e plotar"
   ]
  },
  {
   "cell_type": "code",
   "execution_count": null,
   "metadata": {},
   "outputs": [],
   "source": [
    "df.columns"
   ]
  },
  {
   "cell_type": "code",
   "execution_count": null,
   "metadata": {},
   "outputs": [],
   "source": [
    "# seleção das features que serão utilizada. Foram ordenadas de forma mais intuitiva\n",
    "df_final = df[['titulo_original',\n",
    "       'descricao', 'popularidade','lingua_original',\n",
    "       'duracao', 'status', 'titulo',\n",
    "       'video', 'media_votos', 'qtde_votos', 'acao',\n",
    "       'aventura', 'animacao', 'comedia', 'crime', 'documentario', 'drama',\n",
    "       'familia', 'fantasia', 'estrangeiro', 'historia', 'horror', 'musical',\n",
    "       'misterio', 'romance', 'ficcao_cientifica', 'filmes_tv', 'suspense',\n",
    "       'gerra', 'ocidental', 'novo_pais_producao', 'novo_idiomas_falados',\n",
    "       'novo_cia_producao', 'ano_lancamento']]"
   ]
  },
  {
   "cell_type": "markdown",
   "metadata": {},
   "source": [
    "-------------- ALTERAÇÃO DO TIPOS DAS FEATURES ---------------\n",
    "\n"
   ]
  },
  {
   "cell_type": "code",
   "execution_count": null,
   "metadata": {},
   "outputs": [],
   "source": [
    "df_final.dtypes"
   ]
  },
  {
   "cell_type": "code",
   "execution_count": null,
   "metadata": {},
   "outputs": [],
   "source": [
    "# converter variáveis object para categoricas\n",
    "df_final.status = df_final.status.astype('category')\n",
    "\n",
    "#df.adulto = df.adulto.astype('category')\n",
    "#df.titulo_original = df.titulo_original.astype('category')\n",
    "#df.titulo = df.titulo.astype('category')\n",
    "df.lingua_original = df.lingua_original.astype('category')\n",
    "           \n",
    "\n",
    "# converter variáveis objecto para float ou inteiro\n",
    "df_final.popularidade = df_final.popularidade.astype('float64')\n",
    "df_final.ano_lancamento = df_final.ano_lancamento.astype('int64')\n",
    "#df.despesas = df.despesas.astype('float64')\n",
    "#df.receita = df.receita.astype('float64')\n",
    "#df.qtde_votos = df.qtde_votos.astype('int64')\n",
    "#df.id = df.id.astype('int64')\n"
   ]
  },
  {
   "cell_type": "code",
   "execution_count": null,
   "metadata": {},
   "outputs": [],
   "source": [
    "df_final.dtypes"
   ]
  },
  {
   "cell_type": "markdown",
   "metadata": {},
   "source": [
    "# devido ao conteúdo das features: overview (visão geral), titulo, titulo original, não foram analisadas"
   ]
  },
  {
   "cell_type": "code",
   "execution_count": null,
   "metadata": {
    "tags": []
   },
   "outputs": [],
   "source": [
    "print('Tamanho original do dataset:', filmes.shape)\n",
    "print('Tamanho final do dataset:', df_final.shape)"
   ]
  },
  {
   "cell_type": "code",
   "execution_count": null,
   "metadata": {
    "tags": []
   },
   "outputs": [],
   "source": [
    "print ('Features originais', filmes.columns)\n",
    "print ('Features finais', df_final.columns)"
   ]
  },
  {
   "cell_type": "code",
   "execution_count": null,
   "metadata": {},
   "outputs": [],
   "source": [
    "# salvando o dataset num CSV\n",
    "w = df[['titulo_original', 'descricao', 'popularidade', 'duracao', 'status', 'lingua_original',\n",
    "       'titulo', 'video', 'media_votos', 'qtde_votos', 'acao', 'aventura',\n",
    "       'animacao', 'comedia', 'crime', 'documentario', 'drama', 'familia',\n",
    "       'fantasia', 'estrangeiro', 'historia', 'horror', 'musical', 'misterio',\n",
    "       'romance', 'ficcao_cientifica', 'filmes_tv', 'suspense', 'gerra',\n",
    "       'ocidental', 'novo_pais_producao', 'novo_idiomas_falados',\n",
    "       'novo_cia_producao', 'ano_lancamento']]\n",
    "       \n",
    "w.to_csv(\"filmes_df_limpo.csv\",columns=['titulo_original', 'descricao', 'popularidade', 'duracao', 'status', 'lingua_original',\n",
    "       'titulo', 'video', 'media_votos', 'qtde_votos', 'acao', 'aventura',\n",
    "       'animacao', 'comedia', 'crime', 'documentario', 'drama', 'familia',\n",
    "       'fantasia', 'estrangeiro', 'historia', 'horror', 'musical', 'misterio',\n",
    "       'romance', 'ficcao_cientifica', 'filmes_tv', 'suspense', 'gerra',\n",
    "       'ocidental', 'novo_pais_producao', 'novo_idiomas_falados',\n",
    "       'novo_cia_producao', 'ano_lancamento'],index=False)"
   ]
  },
  {
   "cell_type": "code",
   "execution_count": null,
   "metadata": {},
   "outputs": [],
   "source": [
    "# lendo o arquivo\n",
    "df = pd.read_csv(r'C:\\Users\\Herica\\Desktop\\Herica\\cursoIACD\\GitHub\\Pos\\projeto_3\\filmes_df_limpo.csv')"
   ]
  },
  {
   "cell_type": "markdown",
   "metadata": {},
   "source": [
    "### 4) **(30%)** Análise\n",
    "\n",
    "Com seu dado pronto, é hora de fazer a parte mais legal: investigar e responder nossas hipoteses. Elas se confirmam? Em quais cenários? Existe alguma forma de perceber isso no mundo real? Dica: Abuse das técnicas de visualização.\n",
    "\n",
    "Ex: Ainda no contexto dos exemplos do item 2). Ao investigar a hipotese relacionada ao padrão de compra, percebi que em todos os meses existia uma diferença entre dia util e final de semana. Porém notei que Fevereiro possui um comportamento diferente, o que poderia explicar? Talvez o carnaval e seus feriados.\n",
    "\n",
    "Ex2: Talvez eu descubra que alguns finais de semana possuam um comportamento diferente dos dias de semana e outros não. Por que não são todos? Nessa investigação você pode acabar descobrindo que os finais de semana que são diferentes, coincidem no fato de serem os primeiros dias utéis, o que pode remeter ao fato de boa parte das empresas realizarem pagamentos nessa parte do mês."
   ]
  },
  {
   "cell_type": "code",
   "execution_count": null,
   "metadata": {},
   "outputs": [],
   "source": [
    "# Implemente sua análise aqui. Use mais blocos se achar que ficará mais organizado."
   ]
  },
  {
   "cell_type": "markdown",
   "metadata": {},
   "source": [
    "Questionamentos a serem investigados:\n",
    "\n",
    "1 - As maiores média de votos está relacionada a algum genero específico?\n",
    "\n",
    "2 - As maiores média de votos está relacionada a algum idioma original? \n",
    "\n",
    "3 - As maiores média de votos está relacionada a algum cia de produção?"
   ]
  },
  {
   "cell_type": "code",
   "execution_count": null,
   "metadata": {},
   "outputs": [],
   "source": [
    "###### 1 - As maiores média de votos está relacionada a algum genero específico? ######"
   ]
  },
  {
   "cell_type": "code",
   "execution_count": null,
   "metadata": {},
   "outputs": [],
   "source": [
    "# Como são várias as features de gênero, as divide\n",
    "x = df.groupby(['media_votos']).sum()\n",
    "\n",
    "x['acao'].plot(kind = 'line',color='green', title='Total da acao/target por V1',grid=True, stacked=True,label='Ação')\n",
    "x['aventura'].plot(kind = 'line',color='red', title='Total da acao/target por V1',grid=True, stacked=True,label='Aventura')\n",
    "x['animacao'].plot(kind = 'line',color='blue', title='Total da acao/target por V1',grid=True, stacked=True,label='Animação')\n",
    "x['comedia'].plot(kind = 'line',color='pink', title='Total da acao/target por V1',grid=True, stacked=True,label='Comédia')\n",
    "x['crime'].plot(kind = 'line',color='magenta', title='Total da acao/target por V1',grid=True, stacked=True,label='Crime')\n",
    "\n",
    "plt.legend()\n",
    "plt.xlabel(\"Gêneros\")\n",
    "plt.ylabel(\"Média Votos\")\n",
    "\n",
    "\n",
    "# Neste gráfico, percebemos que a comédia é o gênero com maior média de votos, seguido da ação"
   ]
  },
  {
   "cell_type": "code",
   "execution_count": null,
   "metadata": {},
   "outputs": [],
   "source": [
    "# Como são várias as features de gênero, as divide\n",
    "x = df.groupby(['media_votos']).sum()\n",
    "\n",
    "x['documentario'].plot(kind = 'line',color='green', title='Total da acao/target por V1',grid=True, stacked=True,label='Documentário')\n",
    "x['drama'].plot(kind = 'line',color='red', title='Total da acao/target por V1',grid=True, stacked=True,label='Drama')\n",
    "x['familia'].plot(kind = 'line',color='blue', title='Total da acao/target por V1',grid=True, stacked=True,label='Família')\n",
    "x['fantasia'].plot(kind = 'line',color='pink', title='Total da acao/target por V1',grid=True, stacked=True,label='Fantasia')\n",
    "x['estrangeiro'].plot(kind = 'line',color='magenta', title='Total da acao/target por V1',grid=True, stacked=True,label='Estrangeiro')\n",
    "\n",
    "plt.legend()\n",
    "plt.xlabel(\"Gêneros\")\n",
    "plt.ylabel(\"Média Votos\")\n",
    "\n",
    "\n",
    "# Neste gráfico, percebemos que o drama é o gênero com maior média de votos, estando os demais mais ou menos no memo nível"
   ]
  },
  {
   "cell_type": "code",
   "execution_count": null,
   "metadata": {},
   "outputs": [],
   "source": [
    "# Como são várias as features de gênero, as divide\n",
    "x = df.groupby(['media_votos']).sum()\n",
    "\n",
    "x['historia'].plot(kind = 'line',color='green', title='Total da acao/target por V1',grid=True, stacked=True,label='História')\n",
    "x['horror'].plot(kind = 'line',color='red', title='Total da acao/target por V1',grid=True, stacked=True,label='Horror')\n",
    "x['musical'].plot(kind = 'line',color='blue', title='Total da acao/target por V1',grid=True, stacked=True,label='Musical')\n",
    "x['misterio'].plot(kind = 'line',color='pink', title='Total da acao/target por V1',grid=True, stacked=True,label='Mistério')\n",
    "x['romance'].plot(kind = 'line',color='magenta', title='Total da acao/target por V1',grid=True, stacked=True,label='Romance')\n",
    "\n",
    "plt.legend()\n",
    "plt.xlabel(\"Gêneros\")\n",
    "plt.ylabel(\"Média Votos\")\n",
    "\n",
    "\n",
    "# Neste gráfico, percebemos que o romance é o gênero com maior média de votos, segido do horror."
   ]
  },
  {
   "cell_type": "code",
   "execution_count": null,
   "metadata": {},
   "outputs": [],
   "source": [
    "# Como são várias as features de gênero, as divide\n",
    "x = df.groupby(['media_votos']).sum()\n",
    "\n",
    "x['ficcao_cientifica'].plot(kind = 'line',color='green', title='Total da acao/target por V1',grid=True, stacked=True,label='Ficção')\n",
    "x['filmes_tv'].plot(kind = 'line',color='red', title='Total da acao/target por V1',grid=True, stacked=True,label='Seriados')\n",
    "x['suspense'].plot(kind = 'line',color='blue', title='Total da acao/target por V1',grid=True, stacked=True,label='Suspense')\n",
    "x['gerra'].plot(kind = 'line',color='pink', title='Total da acao/target por V1',grid=True, stacked=True,label='Gerra')\n",
    "x['ocidental'].plot(kind = 'line',color='magenta', title='Total da acao/target por V1',grid=True, stacked=True,label='Ocidental')\n",
    "\n",
    "plt.legend()\n",
    "plt.xlabel(\"Gêneros\")\n",
    "plt.ylabel(\"Média Votos\")\n",
    "\n",
    "\n",
    "# Neste gráfico, percebemos que o suspense é o gênero com maior média de votos, seguido da ficção"
   ]
  },
  {
   "cell_type": "code",
   "execution_count": null,
   "metadata": {},
   "outputs": [],
   "source": [
    "# plotando os maiores dos gêneros obtidos nos gráficos acima\n",
    "\n",
    "# Como são várias as features de gênero, as divide\n",
    "x = df.groupby(['media_votos']).sum()\n",
    "\n",
    "x['comedia'].plot(kind = 'line',color='pink',grid=True, stacked=True,label='Comédia')\n",
    "x['suspense'].plot(kind = 'line',color='blue',grid=True, stacked=True,label='Suspense')\n",
    "x['romance'].plot(kind = 'line',color='magenta',grid=True, stacked=True,label='Romance')\n",
    "x['drama'].plot(kind = 'line',color='red', grid=True, stacked=True,label='Drama')\n",
    "\n",
    "plt.legend()\n",
    "plt.title('GÊneros x Média Votos')\n",
    "plt.xlabel(\"Gêneros\")\n",
    "plt.ylabel(\"Média Votos\")\n",
    "\n",
    "\n",
    "# Neste gráfico, percebemos que o drama é o gênero com maior média de votos, seguido da comédia. Os demais estão parecidos."
   ]
  },
  {
   "cell_type": "code",
   "execution_count": null,
   "metadata": {},
   "outputs": [],
   "source": [
    "acao = df[['media_votos']].groupby(['media_votos']).sum()\n",
    "acao"
   ]
  },
  {
   "cell_type": "code",
   "execution_count": null,
   "metadata": {},
   "outputs": [],
   "source": [
    "df.media_votos.describe()"
   ]
  },
  {
   "cell_type": "code",
   "execution_count": null,
   "metadata": {},
   "outputs": [],
   "source": [
    "df.columns"
   ]
  },
  {
   "cell_type": "code",
   "execution_count": null,
   "metadata": {},
   "outputs": [],
   "source": [
    "x = df[['media_votos', 'comedia','suspense','drama','romance']].groupby(['media_votos']).sum()\n",
    "x = x.reset_index()\n",
    "\n",
    "plt.xticks(rotation=90)\n",
    "plt.bar(x.comedia,x.media_votos,color='pink')\n",
    "plt.bar(x.suspense,x.media_votos,color='blue')\n",
    "plt.bar(x.romance,x.media_votos,color='magenta')\n",
    "plt.bar(x.drama,x.media_votos,color='red')\n",
    "\n",
    "\n",
    "plt.xlabel(\"Qtde de gêneros\")\n",
    "plt.ylabel(\"Média de votos\")\n",
    "plt.title(\"Gêneros x média de votos\")\n"
   ]
  },
  {
   "cell_type": "code",
   "execution_count": null,
   "metadata": {},
   "outputs": [],
   "source": [
    "###### 2 - As maiores média de votos está relacionada a algum idioma original?  ######"
   ]
  },
  {
   "cell_type": "code",
   "execution_count": null,
   "metadata": {},
   "outputs": [],
   "source": [
    "df.columns"
   ]
  },
  {
   "cell_type": "code",
   "execution_count": null,
   "metadata": {
    "tags": []
   },
   "outputs": [],
   "source": [
    "dados_lingua = df[['media_votos','lingua_original']].groupby(['media_votos'])\n",
    "dados_lingua"
   ]
  },
  {
   "cell_type": "code",
   "execution_count": null,
   "metadata": {
    "tags": []
   },
   "outputs": [],
   "source": [
    "print (df.lingua_original)\n"
   ]
  },
  {
   "cell_type": "code",
   "execution_count": null,
   "metadata": {
    "tags": []
   },
   "outputs": [],
   "source": [
    "print (df.lingua_original.sort_values)\n"
   ]
  },
  {
   "cell_type": "code",
   "execution_count": null,
   "metadata": {},
   "outputs": [],
   "source": [
    "print (df.sort_values(by='lingua_original'))\n"
   ]
  },
  {
   "cell_type": "code",
   "execution_count": null,
   "metadata": {},
   "outputs": [],
   "source": [
    "# ocupação de leitos hospitalares por 100.000\n",
    "df.sort_values(by='lingua_original').to_numpy()\n",
    "df.plot.bar(x='lingua_original',\n",
    "                          y=['media_votos'],\n",
    "                          figsize=(12, 5),\n",
    "                          rot=0,\n",
    "                          grid=True,\n",
    "                          title='Ocupação de leitos por 100.000 da população');"
   ]
  },
  {
   "cell_type": "code",
   "execution_count": null,
   "metadata": {},
   "outputs": [],
   "source": [
    "###### 3 - As maiores média de votos está relacionada a algum cia de produção? ######"
   ]
  },
  {
   "cell_type": "markdown",
   "metadata": {},
   "source": [
    "### 5) Modelagem 30%\n",
    "\n",
    "Agora você terá mais uma oportunidade de mostrar o que você aprendeu durante o módulo 2 quanto a modelagem de dados e criação de modelos. Utilizando os dados preparados na seção 1 e após a análise feita na seção 2 você deverá:\n",
    "1. **Defina um problema de regressão ou classificação que envolva uma variável dos seus dados.**"
   ]
  },
  {
   "cell_type": "markdown",
   "metadata": {},
   "source": [
    "***---> Comente brevemente sua decisão aqui.***"
   ]
  },
  {
   "cell_type": "markdown",
   "metadata": {},
   "source": [
    "2. **Realize ao menos 2 técnicas de processamento e seleção de features.**\n",
    "    * Isto inclui, normalização, PCA, e técnicas de seleção de features como information gain. Seja criativo pois está parte é crucial para seu modelo. Você pode escolhar manualmente as features desde que seja justificada na seção 2 (parte de Análise).\n"
   ]
  },
  {
   "cell_type": "code",
   "execution_count": null,
   "metadata": {},
   "outputs": [],
   "source": []
  },
  {
   "cell_type": "markdown",
   "metadata": {},
   "source": [
    "3. **Defina uma métrica para avaliar o seu modelo.**\n",
    "    * Por exemplo, você pode utilizar MAE (Mean Absolute Error) para um problema de regressão. Ou, F1-Score para um problema de classificação. Há varias métricas, então escolha sabiamente.\n"
   ]
  },
  {
   "cell_type": "markdown",
   "metadata": {},
   "source": [
    "***---> Comente brevemente sua decisão aqui.***"
   ]
  },
  {
   "cell_type": "markdown",
   "metadata": {},
   "source": [
    "4. **Divida seus dados em 2 conjuntos. Um de treino e outro conjunto de teste.**\n",
    "    * Treine e otimize seu modelo no conjunto de treino e apenas use o conjunto de teste para apresentar os resultados finais.\n"
   ]
  },
  {
   "cell_type": "code",
   "execution_count": null,
   "metadata": {},
   "outputs": [],
   "source": []
  },
  {
   "cell_type": "markdown",
   "metadata": {},
   "source": [
    "5. **Treine um ou mais modelos de ML para o seu problema.**\n",
    "    * Escolha 1 ou mais tipos de classificadores ou regressores dependendo do seu problema.\n",
    "    * Por exemplo, TreeClassifier para um problema de classificação. \n",
    "    * Use cross-validation e outras técnicas como GridSearch e ou RandomizedSearch para encontrar os melhores parametros para o seu modelo.\n"
   ]
  },
  {
   "cell_type": "code",
   "execution_count": null,
   "metadata": {},
   "outputs": [],
   "source": []
  },
  {
   "cell_type": "markdown",
   "metadata": {},
   "source": [
    "6. **Apresente (com visualizações) os resultados do seu modelo mostrando que ele é melhor do que um baseline não aleatório.**\n",
    "    * Para o baseline, você pode escolher um modelo bem trivial mas não aleatório. Por exemplo, para um problema de classificação um baseline pode ser a classe mais presente caso o conjunto de dados seja desbalanceado.  Um modelo mais simples também pode ser utilizado como baseline, por exemplo, você escolheu um Random Forest Classifier, e comparou os resultados um Logistic Regression. Você pode até mesmo escolher um modelo de AutoML(como TPOT) como Baseline."
   ]
  },
  {
   "cell_type": "code",
   "execution_count": null,
   "metadata": {},
   "outputs": [],
   "source": []
  },
  {
   "cell_type": "markdown",
   "metadata": {},
   "source": [
    "### 6) Conclusões **10%**"
   ]
  },
  {
   "cell_type": "markdown",
   "metadata": {},
   "source": [
    "*Partindo das suas hipoteses e investigações, o que você consegue concluir? Suas hipoteses se concretizaram?*"
   ]
  },
  {
   "cell_type": "markdown",
   "metadata": {},
   "source": []
  }
 ],
 "metadata": {
  "file_extension": ".py",
  "kernelspec": {
   "display_name": "Python 3",
   "language": "python",
   "name": "python3"
  },
  "language_info": {
   "codemirror_mode": {
    "name": "ipython",
    "version": 3
   },
   "file_extension": ".py",
   "mimetype": "text/x-python",
   "name": "python",
   "nbconvert_exporter": "python",
   "pygments_lexer": "ipython3",
   "version": "3.7.0-final"
  },
  "mimetype": "text/x-python",
  "name": "python",
  "npconvert_exporter": "python",
  "pygments_lexer": "ipython3",
  "version": 3
 },
 "nbformat": 4,
 "nbformat_minor": 2
}