{
  "nbformat": 4,
  "nbformat_minor": 0,
  "metadata": {
    "file_extension": ".py",
    "kernelspec": {
      "display_name": "Python 3",
      "language": "python",
      "name": "python3"
    },
    "language_info": {
      "codemirror_mode": {
        "name": "ipython",
        "version": 3
      },
      "file_extension": ".py",
      "mimetype": "text/x-python",
      "name": "python",
      "nbconvert_exporter": "python",
      "pygments_lexer": "ipython3",
      "version": "3.7.6"
    },
    "mimetype": "text/x-python",
    "name": "python",
    "npconvert_exporter": "python",
    "pygments_lexer": "ipython3",
    "version": 3,
    "colab": {
      "name": "template original.ipynb",
      "provenance": [],
      "include_colab_link": true
    }
  },
  "cells": [
    {
      "cell_type": "markdown",
      "metadata": {
        "id": "view-in-github",
        "colab_type": "text"
      },
      "source": [
        "<a href=\"https://colab.research.google.com/github/hericax/Pos/blob/master/projeto_3/aed_projeto_3(colab).ipynb\" target=\"_parent\"><img src=\"https://colab.research.google.com/assets/colab-badge.svg\" alt=\"Open In Colab\"/></a>"
      ]
    },
    {
      "cell_type": "markdown",
      "metadata": {
        "id": "SmzfOYVlzkXy",
        "colab_type": "text"
      },
      "source": [
        "# Projeto #3 - Meu primeiro projeto de IA\n",
        "\n",
        "Antes de começar, leia as [Instruções](https://github.com/thvmm/pos-ds-ia/blob/master/projeto_3/README.md) e os [Critérios de Avaliação](https://github.com/thvmm/pos-ds-ia/blob/master/projeto_3/README.md).\n"
      ]
    },
    {
      "cell_type": "markdown",
      "metadata": {
        "id": "LffjqDKOzkYH",
        "colab_type": "text"
      },
      "source": [
        "### 1) **(5%)** Qual a base escolhida e qual seu interesse nela (podem ser mais de uma)? Descrição básica do conjunto de dados escolhido pelo aluno (1 parágrafo)."
      ]
    },
    {
      "cell_type": "markdown",
      "metadata": {
        "id": "vrW_dbUUzkYM",
        "colab_type": "text"
      },
      "source": [
        "*Indique o link da base no Kaggle e explique em um parágrafo curto por que essa base é interessante para você. Quais são as características básicas da base?*\n",
        "\n",
        "Ex: Estou trabalhando com o histório de vendas de um varejo e uma outra base do mesmo varejista das suas campanhas de marketing realizadas em veiculos de comunicação."
      ]
    },
    {
      "cell_type": "markdown",
      "metadata": {},
      "source": [
        "A base escolhida é de filmes - https://www.kaggle.com/rounakbanik/the-movies-dataset\n",
        "\n",
        "O conjunto de dados consiste em filmes lançados em ou antes de julho de 2017. Os pontos de dados incluem elenco, equipe, palavras-chave da trama, orçamento, receita, pôsteres, datas de lançamento, idiomas, empresas de produção, países, contagem de votos no TMDB e média de votos. \n",
        "O conjunto possui 6 arquivo, o que foi utilizado no trabalho é o movies_metadata.csv, que contém informações sobre 45.000 filmes em destaque no conjunto de dados Full MovieLens. Este conjunto de dados também possui arquivos contendo 26 milhões de classificações, de 270.000 usuários para todos os 45.000 filmes. \n",
        "\n",
        "As classificações estão em uma escala de 1 a 5 e foram obtidas no site oficial do GroupLens."
      ]
    },
    {
      "cell_type": "markdown",
      "metadata": {
        "id": "pp2W2lJTzkYP",
        "colab_type": "text"
      },
      "source": [
        "### 2) **(5%)** Que tipo de problema podemos solucionar com ela? Liste ao menos 3 hipóteses sobre seus dados, caso sua base seja muito restrita converse com os professores antes de seguir.\n",
        "- Quais são suas hipoteses sobre os dados? O que vc espera descobrir com esse estudo?\n",
        "\n",
        "Ex: Hipoteses válidas seriam:\n",
        "- As pessoas fazem mais compras nos dias utéis ou finais de semana?\n",
        "- Existe diferença entre o padrão de compra de segunda ou terça feira?\n",
        "- O horário de pico influencia no padrão de compra dos clientes?\n",
        "- Quais produtos são comprados mais juntos? Existe diferença se observarmos a idade do cliente?\n",
        "- Qual o efeito de uma campanha de marketing nas vendas?\n"
      ]
    },
    {
      "cell_type": "markdown",
      "metadata": {},
      "source": [
        "Hipóteses: \n",
        "\n",
        "1 - Quais são os gêneros de filmes melhor avaliados? \n",
        "\n",
        "2 - Existe relação dos filmes mais bem avaliados para a empresa que o produziu? \n",
        "\n",
        "3 - Há influência dos idiomas disponíveis no filmes na avaliação dos filmes?"
      ]
    },
    {
      "cell_type": "markdown",
      "metadata": {
        "id": "h5bMqj21zkYS",
        "colab_type": "text"
      },
      "source": [
        "\n",
        "### 3) **(20%)** Preparação de dados\n",
        "\n",
        "Hora de deixar a base perfeita para se trabalhar. Limpe os dados, integre com outras fontes e transforme-o para ficar pronto para se trabalhar! No fim, mostre um antes e depois de seu dataframe."
      ]
    },
    {
      "cell_type": "code",
      "execution_count": null,
      "metadata": {
        "colab": {},
        "colab_type": "code",
        "id": "8USWpLyCzkYV"
      },
      "outputs": [],
      "source": [
        "# IMPORTANDO BIBLIOTECAS\n",
        "\n",
        "# básicas\n",
        "import pandas as pd\n",
        "import numpy as np\n",
        "\n",
        "# visualização\n",
        "import matplotlib.pyplot as plt\n",
        "import matplotlib\n",
        "import seaborn as sns\n",
        "import missingno as msno #! pip install missingno\n",
        "\n",
        "# pré-processamento\n",
        "from sklearn.preprocessing import StandardScaler\n",
        "from sklearn.cluster import KMeans\n",
        "\n",
        "# modelos\n"
      ]
    },
    {
      "cell_type": "code",
      "execution_count": null,
      "metadata": {
        "tags": []
      },
      "outputs": [],
      "source": [
        "# Leitura do dataset\n",
        "filmes = pd.read_csv('C:/Users/Herica/Desktop/Herica/cursoIACD/bases/filmes/movies_metadata.csv')"
      ]
    },
    {
      "cell_type": "code",
      "execution_count": null,
      "metadata": {},
      "outputs": [],
      "source": [
        "# Pré-visaulização do dataset\n",
        "filmes.head(3)"
      ]
    },
    {
      "cell_type": "code",
      "execution_count": null,
      "metadata": {
        "tags": []
      },
      "outputs": [],
      "source": [
        "# tamanho da base\n",
        "print('Número de linhas e número de colunas:', filmes.shape)"
      ]
    },
    {
      "cell_type": "code",
      "execution_count": null,
      "metadata": {},
      "outputs": [],
      "source": [
        "# fazendo uma cópia do dataset para ser trabalhado\n",
        "df = filmes.copy()"
      ]
    },
    {
      "cell_type": "code",
      "execution_count": null,
      "metadata": {
        "tags": []
      },
      "outputs": [],
      "source": [
        "# tamanho da base\n",
        "print('Número de linhas e número de colunas:', df.shape)"
      ]
    },
    {
      "cell_type": "code",
      "execution_count": null,
      "metadata": {
        "tags": []
      },
      "outputs": [],
      "source": [
        "df.info()"
      ]
    },
    {
      "cell_type": "markdown",
      "metadata": {},
      "source": [
        "# RENOMEANDO AS FEATURES"
      ]
    },
    {
      "cell_type": "code",
      "execution_count": null,
      "metadata": {},
      "outputs": [],
      "source": [
        "df = df.rename(columns={'id':'id_filme','adult': \"classificacao\", 'budget': 'despesas', 'genres': 'genero', 'original_language': 'lingua_original', 'original_title': 'titulo_original', 'overview': 'descricao', 'popularity': 'popularidade', 'production_companies': 'cia_producao', 'production_countries': 'pais_producao', 'release_date': 'data_lancamento', 'revenue': 'receita', 'runtime': 'duracao', 'spoken_languages': 'idiomas_falados', 'title': 'titulo', 'vote_average': 'media_votos', 'vote_count': 'qtde_votos','video': 'video'})"
      ]
    },
    {
      "cell_type": "code",
      "execution_count": null,
      "metadata": {},
      "outputs": [],
      "source": [
        "# validando o nome das features\n",
        "df.columns"
      ]
    },
    {
      "cell_type": "markdown",
      "metadata": {},
      "source": [
        "# EXCLUSÃO DE FEATURES COM DADOS QUE NÃO SERÃO TRABALHADOS"
      ]
    },
    {
      "cell_type": "code",
      "execution_count": null,
      "metadata": {},
      "outputs": [],
      "source": [
        "#dropar colunas consideradas irrelevantes na primeira análise ou que possuem muitos valores nulos\n",
        "df.drop(['belongs_to_collection'],axis = 1, inplace = True)\n",
        "df.drop(['homepage'],axis = 1, inplace = True)\n",
        "df.drop(['poster_path'],axis = 1, inplace = True)     \n",
        "df.drop(['tagline'],axis = 1, inplace = True)\n",
        "\n",
        "df.drop(['imdb_id'], inplace=True, axis=1)"
      ]
    },
    {
      "cell_type": "code",
      "execution_count": null,
      "metadata": {
        "tags": []
      },
      "outputs": [],
      "source": [
        "# tamanho da base\n",
        "print('Número de linhas e número de colunas:', df.shape)"
      ]
    },
    {
      "cell_type": "markdown",
      "metadata": {},
      "source": [
        "# DESCRIÇÃO DAS FEATURES"
      ]
    },
    {
      "cell_type": "markdown",
      "metadata": {},
      "source": [
        "'adulto' (booleano) - se o filme é exclusivo para adulto ou não . Contém dois valores: 'false' = 1, 'true' = 0\n",
        "\n",
        "'despesas' (numérico) - possui o valor gasto na produção e divulgação dos vídeos \n",
        "\n",
        "'genero' (dicionário / texto) - contém qual ou quais são os gênceros de cada filme. Um filme pode ter um ou gêneros. Contém 29 valores possíveis. \n",
        "\n",
        "'id' (numérico) - número que identifica o filme \n",
        "\n",
        "'imdb_id'  (alfanumérico)- número unico que identifica o filme na base do imdb \n",
        "\n",
        "'lingua_original' (texto) - qual é o idioma original do filme produzido. Possui 90 valores possíveis.\n",
        "\n",
        "'titulo_original' (texto) - titulo do filme \n",
        "\n",
        "'descricao' (texto) - descrição do filme \n",
        "\n",
        "'popularidade' (numérico)- qual é a popularidade do filme \n",
        "\n",
        "'cia_producao' (dicionário / texto) - qual(is) foi a companhia(s) que produziu o filme. Possui 19368 valores possíveis. Cada filme pode ter no mínimo um.\n",
        "\n",
        "'pais_producao' (dicionário / texto) - quais foram os países onde os filmes foram gravados. Possui 155 valores possíveis. Cada filme pode ter no mínimo um.\n",
        "\n",
        "'data_lancamento' (texto) - qual foi a data de lançamento do filme \n",
        "\n",
        "'receita'  (numérico) -  qual foi a receita obtida com o filme \n",
        "\n",
        "'duracao'  (numérico) - qual é a duração do filme em minutos \n",
        "\n",
        "'idiomas_falados' (dicionário/ texto) - quais são os idiomas que o filme possui tradução. Possui 73 valores possíveis.\n",
        "\n",
        "'status' (texto) - status do filmes. Possui 7 valores possíveis: 'Released', nan, 'Rumored', 'Post Production', 'In Production', 'Planned', 'Canceled'\n",
        "\n",
        "'slogan' (texto) - frase que define o filme. \n",
        "\n",
        "'titulo' (texto) - qual é o título do filme \n",
        "\n",
        "'video' (booleano) - se tem o video ou não do traile. Possui 3 valores possíveis: False, True, nan\n",
        "\n",
        "'media_votos'  (numérico)- qual é a média de votos dada pelos usuários \n",
        "\n",
        "'qtde_votos'  (numérico)- qual foi a quantidade de votos"
      ]
    },
    {
      "cell_type": "markdown",
      "metadata": {},
      "source": [
        "# VERIFICANDO DADOS NULOS GLOBAIS\n",
        "Cada feature será analisada"
      ]
    },
    {
      "cell_type": "code",
      "execution_count": null,
      "metadata": {},
      "outputs": [],
      "source": [
        "df.isnull().sum()"
      ]
    },
    {
      "cell_type": "code",
      "execution_count": null,
      "metadata": {
        "tags": []
      },
      "outputs": [],
      "source": [
        "# configuração do plot\n",
        "figsize = (10, 7)\n",
        "matplotlib.rcParams['figure.figsize'] = figsize\n",
        "\n",
        "\n",
        "# visualização de dados faltantes\n",
        "msno.bar(df, figsize=figsize,)"
      ]
    },
    {
      "cell_type": "code",
      "execution_count": null,
      "metadata": {},
      "outputs": [],
      "source": [
        "# visualização de dados faltantes\n",
        "msno.matrix(df, figsize=figsize)"
      ]
    },
    {
      "cell_type": "code",
      "execution_count": null,
      "metadata": {},
      "outputs": [],
      "source": [
        "df.isnull().sum()"
      ]
    },
    {
      "cell_type": "code",
      "execution_count": null,
      "metadata": {},
      "outputs": [],
      "source": [
        "# lista dos filmes sem media_votos\n",
        "df[df['media_votos'].isnull()]"
      ]
    },
    {
      "cell_type": "code",
      "execution_count": null,
      "metadata": {
        "tags": []
      },
      "outputs": [],
      "source": [
        "# deletando os registros sem media de votos\n",
        "i = df.shape[0]\n",
        "df.dropna(subset=['media_votos'], inplace = True)\n",
        "f = df.shape[0]\n",
        "print ('Qtde de registros excluídos: ', i-f)"
      ]
    },
    {
      "cell_type": "code",
      "execution_count": null,
      "metadata": {},
      "outputs": [],
      "source": [
        "df.isnull().sum()"
      ]
    },
    {
      "cell_type": "code",
      "execution_count": null,
      "metadata": {},
      "outputs": [],
      "source": [
        "# lista dos filmes sem descricao\n",
        "df[df['descricao'].isnull()]"
      ]
    },
    {
      "cell_type": "code",
      "execution_count": null,
      "metadata": {},
      "outputs": [],
      "source": [
        "# atualizando os dados faltantes\n",
        "df.descricao = df.descricao.fillna('Sem descrição')"
      ]
    },
    {
      "cell_type": "code",
      "execution_count": null,
      "metadata": {},
      "outputs": [],
      "source": [
        "df.isnull().sum()"
      ]
    },
    {
      "cell_type": "code",
      "execution_count": null,
      "metadata": {},
      "outputs": [],
      "source": [
        "# lista dos filmes sem lingua original\n",
        "df[df['lingua_original'].isnull()]"
      ]
    },
    {
      "cell_type": "code",
      "execution_count": null,
      "metadata": {},
      "outputs": [],
      "source": [
        "# Atualizando o valor da lingua original, baseando no pais de produção do filmes\n",
        "\n",
        "#Áutria, Austrália e EUA: indice: 44576     41872   19574   21602   22832   32141 -> 'en'\n",
        "df.at[44576, 'lingua_original'] = 'en'\n",
        "df.at[41872, 'lingua_original'] = 'en'\n",
        "df.at[19574, 'lingua_original'] = 'en'\n",
        "df.at[21602, 'lingua_original'] = 'en'\n",
        "df.at[22832, 'lingua_original'] = 'en'\n",
        "df.at[32141, 'lingua_original'] = 'en'\n",
        "\n",
        "#'Czech Republic: indice: 37407 -> 'CZ'\n",
        "df.at[37407, 'lingua_original'] = 'CZ'\n",
        "\n",
        "#France: indice: 44655  e 44057 -> 'fr'         \n",
        "df.at[44655, 'lingua_original'] = 'fr'\n",
        "df.at[44057, 'lingua_original'] = 'fr'"
      ]
    },
    {
      "cell_type": "code",
      "execution_count": null,
      "metadata": {},
      "outputs": [],
      "source": [
        "# validando alterações na feature lingua_original\n",
        "df[df['lingua_original'].isnull()]"
      ]
    },
    {
      "cell_type": "code",
      "execution_count": null,
      "metadata": {},
      "outputs": [],
      "source": [
        "# deletando o restante\n",
        "df.dropna(subset=['lingua_original'], inplace = True)"
      ]
    },
    {
      "cell_type": "code",
      "execution_count": null,
      "metadata": {},
      "outputs": [],
      "source": [
        "# deletando os registros sem data_lancamento e status\n",
        "df.dropna(subset=['data_lancamento','status'], inplace=True)"
      ]
    },
    {
      "cell_type": "code",
      "execution_count": null,
      "metadata": {},
      "outputs": [],
      "source": [
        "df.isnull().sum()"
      ]
    },
    {
      "cell_type": "markdown",
      "metadata": {},
      "source": [
        "# VERIFICANDO REGISTROS DUPLICADOS\n",
        "Fearure  ID que será utilizada como chave"
      ]
    },
    {
      "cell_type": "code",
      "execution_count": null,
      "metadata": {},
      "outputs": [],
      "source": [
        "# encontrando os registros duplicados no ID\n",
        "df_duplicado = df.groupby(['id_filme']).size().reset_index(name='count')\n",
        "df_duplicado.query('count > 1')"
      ]
    },
    {
      "cell_type": "code",
      "execution_count": null,
      "metadata": {},
      "outputs": [],
      "source": [
        "# deletando os filmes com mesmo ID, amntendo o primeiro\n",
        "df.drop_duplicates(subset='id_filme', keep='first', inplace = True)"
      ]
    },
    {
      "cell_type": "code",
      "execution_count": null,
      "metadata": {},
      "outputs": [],
      "source": [
        "# encontrando filmes diferentes com mesmo título\n",
        "df_duplicado = df.groupby(['titulo']).size().reset_index(name='count')\n",
        "df_duplicado.query('count > 1')"
      ]
    },
    {
      "cell_type": "markdown",
      "metadata": {},
      "source": [
        "# TIPOS DE FEATURES"
      ]
    },
    {
      "cell_type": "markdown",
      "metadata": {},
      "source": [
        "A) Variáveis categóricas: adulto, genero , lingua_original, cia_producao, pais_producao, idiomas_falado, status, slogan, titulo, titulo_original, descricao, video\n",
        "\n",
        "B) Variáveis discretas: despesas, id, data_lancamento, popularidade, receita, duracao(minutos), media_votos, qtde_votos  "
      ]
    },
    {
      "cell_type": "code",
      "execution_count": null,
      "metadata": {},
      "outputs": [],
      "source": [
        "df.dtypes"
      ]
    },
    {
      "cell_type": "markdown",
      "metadata": {},
      "source": [
        "# PRÉ-PROCESSANDO OS DADOS"
      ]
    },
    {
      "cell_type": "code",
      "execution_count": null,
      "metadata": {},
      "outputs": [],
      "source": [
        "## FEATURE MÉDIA DE VOTO - TARGET"
      ]
    },
    {
      "cell_type": "code",
      "execution_count": null,
      "metadata": {},
      "outputs": [],
      "source": [
        "df.media_votos.head(5)"
      ]
    },
    {
      "cell_type": "code",
      "execution_count": null,
      "metadata": {},
      "outputs": [],
      "source": [
        "df.media_votos.describe()"
      ]
    },
    {
      "cell_type": "code",
      "execution_count": null,
      "metadata": {},
      "outputs": [],
      "source": [
        "df.media_votos.unique()"
      ]
    },
    {
      "cell_type": "markdown",
      "metadata": {},
      "source": [
        "## FEATURE CLASSIFICAÇÃO"
      ]
    },
    {
      "cell_type": "code",
      "execution_count": null,
      "metadata": {},
      "outputs": [],
      "source": [
        "df.classificacao.unique()"
      ]
    },
    {
      "cell_type": "code",
      "execution_count": null,
      "metadata": {},
      "outputs": [],
      "source": [
        "df.classificacao.value_counts()"
      ]
    },
    {
      "cell_type": "code",
      "execution_count": null,
      "metadata": {},
      "outputs": [],
      "source": [
        "#Existem somente 8 filmes com classificação True, portanto esta feature se tornou irrelevante e será excluída.\n",
        "df.drop(['classificacao'], inplace=True, axis=1)\n",
        "\n",
        "# Validando a exclusão\n",
        "df.columns"
      ]
    },
    {
      "cell_type": "markdown",
      "metadata": {},
      "source": [
        "## FEATURE DESPESAS"
      ]
    },
    {
      "cell_type": "code",
      "execution_count": null,
      "metadata": {},
      "outputs": [],
      "source": [
        "df.despesas.describe()"
      ]
    },
    {
      "cell_type": "code",
      "execution_count": null,
      "metadata": {
        "tags": []
      },
      "outputs": [],
      "source": [
        "print ('Qtde de registros únicos: ', len(df.despesas.unique()))"
      ]
    },
    {
      "cell_type": "code",
      "execution_count": null,
      "metadata": {},
      "outputs": [],
      "source": [
        "df.despesas.value_counts()"
      ]
    },
    {
      "cell_type": "code",
      "execution_count": null,
      "metadata": {},
      "outputs": [],
      "source": [
        "#Conforme observamos, dos 45463 registros da base, 36391 não possui valores de despesas, portanto a feature foi considerada irrelevante e excluída.\n",
        "\n",
        "df.drop(['despesas'], inplace=True, axis=1)\n",
        "\n",
        "# Validando a exclusão\n",
        "df.columns"
      ]
    },
    {
      "cell_type": "markdown",
      "metadata": {},
      "source": [
        "## FEATURE GENERO"
      ]
    },
    {
      "cell_type": "code",
      "execution_count": null,
      "metadata": {},
      "outputs": [],
      "source": [
        "df.genero.describe()"
      ]
    },
    {
      "cell_type": "code",
      "execution_count": null,
      "metadata": {},
      "outputs": [],
      "source": [
        "df[[\"genero\", \"titulo_original\"]].head(3)"
      ]
    },
    {
      "cell_type": "code",
      "execution_count": null,
      "metadata": {},
      "outputs": [],
      "source": [
        "# Função para transformar a feature em uma lista de generos ordenados\n",
        "from ast import literal_eval\n",
        "df['genero'] = df['genero'].apply(literal_eval) # verifica se todos os dados são do mesmo tipo\n",
        "#Função para pegar os nomes dos gêneros, caso exista.\n",
        "def get_list(x):   \n",
        "    if isinstance(x, list):\n",
        "        names = [i['name'] for i in x]\n",
        "        #print ('names antes if len(names) > 1', names)\n",
        "        tam = len(names)\n",
        "        x = []\n",
        "        if (tam > 1):\n",
        "            t = 0\n",
        "            #print ('entrei if')\n",
        "            while t < tam:\n",
        "                y = names[t]\n",
        "                #print ('y', y)\n",
        "                x.append(y)\n",
        "                #print ('x', x)\n",
        "                x.sort()\n",
        "                #print ('x ordenado', x)\n",
        "                t = t + 1\n",
        "        if (tam == 1):            \n",
        "            x.append(names[0])\n",
        "            #print ('Unico genero', x)\n",
        "        return x\n",
        "        #print ('lista ordenada',x)\n",
        "    return []\n",
        "df['generos_ordenados'] = df['genero'].apply(get_list) #O retorno será uma lista com todos os gêneros.\n",
        "\n",
        "# VALIDANDO TRANSFORMAÇÃO\n",
        "df[[\"generos_ordenados\", \"genero\", \"titulo_original\"]].head(3)"
      ]
    },
    {
      "cell_type": "code",
      "execution_count": null,
      "metadata": {},
      "outputs": [],
      "source": [
        "df.columns"
      ]
    },
    {
      "cell_type": "code",
      "execution_count": null,
      "metadata": {},
      "outputs": [],
      "source": [
        "df.generos_ordenados.value_counts()"
      ]
    },
    {
      "cell_type": "code",
      "execution_count": null,
      "metadata": {},
      "outputs": [],
      "source": [
        "# validando a transformação -> exemplos: \"Thirst for Love\" / \"The Young and the Dead\" /  \"The Juche Idea\"\n",
        "df[['titulo','generos_ordenados']][df.titulo == 'The Young and the Dead']"
      ]
    },
    {
      "cell_type": "code",
      "execution_count": null,
      "metadata": {
        "tags": []
      },
      "outputs": [],
      "source": [
        "'''\n",
        "# Identificando e atualizando os filmes que não possuem gênero pela moda ( [] = 2442)\n",
        "total_registros = len(df)\n",
        "print ('total de registros', total_registros)\n",
        "t = z = 0 \n",
        "while t < total_registros:\n",
        "    if (len(df['generos_ordenados'][t]) == 0):\n",
        "        df.genero[t] = df.genero[t].fillna('Drama')\n",
        "        z = z + 1\n",
        "    t = t + 1\n",
        "print (\"total de registros sem gênero excluídos\", z)\n",
        "'''"
      ]
    },
    {
      "cell_type": "code",
      "execution_count": null,
      "metadata": {
        "tags": []
      },
      "outputs": [],
      "source": [
        "print ('Qtde de gêneros únicos: ', len(df.generos_ordenados.value_counts()))"
      ]
    },
    {
      "cell_type": "code",
      "execution_count": null,
      "metadata": {},
      "outputs": [],
      "source": [
        "# Identificando os valores únicos dos gênero (da lista de gêneros)\n",
        "df.generos_ordenados.value_counts().head(10)"
      ]
    },
    {
      "cell_type": "code",
      "execution_count": null,
      "metadata": {},
      "outputs": [],
      "source": [
        "# plotando os generos\n",
        "df.generos_ordenados.value_counts().head(10).plot.bar(color='green')\n",
        "\n",
        "plt.xticks(rotation=75)\n",
        "plt.legend()\n",
        "\n",
        "plt.xlabel(\"Lista de gêneros\")\n",
        "plt.ylabel(\"Média de votos\")\n",
        "plt.title(\"Gêneros x média de votos\")"
      ]
    },
    {
      "cell_type": "markdown",
      "metadata": {},
      "source": [
        "### Abaixo, transformo os gêneros em features"
      ]
    },
    {
      "cell_type": "code",
      "execution_count": null,
      "metadata": {},
      "outputs": [],
      "source": [
        "# resetando os índices\n",
        "df = df.reset_index()"
      ]
    },
    {
      "cell_type": "code",
      "execution_count": null,
      "metadata": {},
      "outputs": [],
      "source": [
        "df.columns"
      ]
    },
    {
      "cell_type": "code",
      "execution_count": null,
      "metadata": {
        "tags": []
      },
      "outputs": [],
      "source": [
        "# Criar uma lista que contenha somente valores únicos de gênero, para idêntificá-los e contabilizá-los\n",
        "todos_registros = len(df.generos_ordenados)        \n",
        "generos_unicos = [] # lista onde será incluídos os gêneros únicos\n",
        "x  = 0 \n",
        "#print ('total de registros do dataset: ', todos_registros)\n",
        "while (x < todos_registros): # enquanto tiver registros no dataset\n",
        "    #print (\"x:\", x)\n",
        "    generos = df.generos_ordenados[x]\n",
        "    #print (\"P/ x = {} todos os generos são {}:\".format(x,generos))\n",
        "    tam_generos = len(generos)\n",
        "    #print (\"tam_generos: \", tam_generos)\n",
        "    i = z = 0\n",
        "    while (i < tam_generos): # enquanto o registro tiver generos\n",
        "        cada_genero_registo = df.generos_ordenados[x][i]\n",
        "        #print (\"Para x = {} e i = {} os genero é {} \". format(x, i ,cada_genero_registo))\n",
        "        if (not cada_genero_registo in generos_unicos): # verifica se o genero está na lista de generos únicos\n",
        "            generos_unicos.append(cada_genero_registo) # inclui o genero na lista de generos únicos\n",
        "            #print (\"lista com os generos únicos\", generos_unicos)\n",
        "            generos_unicos.sort()\n",
        "            #print (\"lista com os generos únicos ordenado\", generos_unicos)\n",
        "            z +=1\n",
        "        i += 1        \n",
        "    x += 1\n",
        "\n",
        "\n",
        "print (\"generos únicos: \", len(generos_unicos))\n",
        "print (generos_unicos)"
      ]
    },
    {
      "cell_type": "code",
      "execution_count": null,
      "metadata": {},
      "outputs": [],
      "source": [
        "# transformar as opções possíveis de genero em features com conteúdo true ou false \n",
        "from mlxtend.preprocessing import TransactionEncoder\n",
        "from mlxtend.frequent_patterns import apriori\n",
        "te = TransactionEncoder()\n",
        "genero_x = te.fit(df.generos_ordenados).transform(df.generos_ordenados)\n",
        "df_novo = pd.DataFrame(genero_x, columns=te.columns_)"
      ]
    },
    {
      "cell_type": "code",
      "execution_count": null,
      "metadata": {},
      "outputs": [],
      "source": [
        "# resetando os índices\n",
        "df_novo = df_novo.reset_index()\n",
        "\n",
        "# Mesclado os dois dataframes\n",
        "horizontal_stack = pd.concat([df, df_novo], axis=1)"
      ]
    },
    {
      "cell_type": "code",
      "execution_count": null,
      "metadata": {},
      "outputs": [],
      "source": [
        "# copiando o conteúdo do novo dataframe para o filme utilizado\n",
        "df = horizontal_stack.copy()"
      ]
    },
    {
      "cell_type": "code",
      "execution_count": null,
      "metadata": {},
      "outputs": [],
      "source": [
        "# após a transformação do conteúdo da feature genero para novas features, o data set ficou com as seguintes colunas: \n",
        "df.columns"
      ]
    },
    {
      "cell_type": "code",
      "execution_count": null,
      "metadata": {},
      "outputs": [],
      "source": [
        "# renomear as colunas de genero e usar todas com caixa baixa para padronizar\n",
        "df = df.rename(columns={'Action': \"acao\", 'Adventure': 'aventura', 'Animation': 'animacao', 'Comedy': 'comedia', 'Crime': 'crime', 'Documentary': 'documentario', 'Drama': 'drama', 'Family': 'familia', 'Fantasy': 'fantasia', 'Foreign': 'estrangeiro', 'History': 'historia', 'Horror': 'horror', 'Music': 'musical', 'Mystery': 'misterio', 'Romance': 'romance', 'Science Fiction': 'ficcao_cientifica', 'TV Movie': 'filmes_tv', 'Thriller': 'suspense', 'War': 'gerra', 'Western': 'ocidental'})"
      ]
    },
    {
      "cell_type": "code",
      "execution_count": null,
      "metadata": {},
      "outputs": [],
      "source": [
        "# validando a transformação dos filmes com genero-> exemplos: \"Thirst for Love\" / \"The Young and the Dead\" /  \"The Juche Idea\"\n",
        "df[['titulo','generos_ordenados','aventura', 'familia', 'fantasia', 'acao', 'misterio']][df.titulo == 'Jumanji']"
      ]
    },
    {
      "cell_type": "code",
      "execution_count": null,
      "metadata": {},
      "outputs": [],
      "source": [
        "# validando a transformação dos filmes sem genero-> exemplos: \"Thirst for Love\" / \"The Young and the Dead\" /  \"The Juche Idea\"\n",
        "df[['titulo','generos_ordenados','animacao', 'comedia', 'crime']][df.titulo == 'Thirst for Love']"
      ]
    },
    {
      "cell_type": "code",
      "execution_count": null,
      "metadata": {},
      "outputs": [],
      "source": [
        "df[['titulo','generos_ordenados','animacao', 'comedia', 'crime']][df.titulo == \"The Young and the Dead\"]"
      ]
    },
    {
      "cell_type": "code",
      "execution_count": null,
      "metadata": {},
      "outputs": [],
      "source": [
        "df[['titulo','generos_ordenados','animacao', 'comedia', 'crime']][df.titulo == \"The Juche Idea\"]"
      ]
    },
    {
      "cell_type": "code",
      "execution_count": null,
      "metadata": {
        "tags": []
      },
      "outputs": [],
      "source": [
        "# contabilizando a qtde de registros true de cada gênero\n",
        "lista_generos = ['acao', 'aventura', 'animacao', 'comedia', 'crime', 'documentario', 'drama', 'familia', 'fantasia', 'estrangeiro', 'historia', 'horror', 'musical', 'misterio', 'romance', 'ficcao_cientifica', 'filmes_tv', 'suspense', 'gerra', 'ocidental']\n",
        "\n",
        "tam = len(lista_generos)\n",
        "print (\"total de generos\", tam)\n",
        "x = 0\n",
        "lista_totais = [] # lista para armazenar os valores totais de cada genero\n",
        "#print (type (lista_totais))\n",
        "\n",
        "while x < tam:\n",
        "    genero = lista_generos[x]\n",
        "    total_genero = sum(df[genero] == True)    \n",
        "    print ('genero: ', genero, '|',total_genero)\n",
        "    x += 1\n",
        "    lista_totais.append (total_genero)"
      ]
    },
    {
      "cell_type": "code",
      "execution_count": null,
      "metadata": {
        "tags": []
      },
      "outputs": [],
      "source": [
        "#plotando os totais por generos\n",
        "plt.bar(lista_generos, lista_totais,color = 'black')\n",
        "\n",
        "plt.rcParams['figure.figsize'] = [15, 10]\n",
        "\n",
        "plt.xticks(rotation=85)\n",
        "plt.legend()\n",
        "\n",
        "plt.xlabel(\"Genero\")\n",
        "plt.ylabel(\"Total\")\n",
        "plt.title(\"Total por gênero\")\n",
        "\n",
        "plt.show()"
      ]
    },
    {
      "cell_type": "markdown",
      "metadata": {},
      "source": [
        "Conforme observamos, tanto na lista de gêneros únicos e os gêneros separadamente, o mais frequente é o drama, ou seja, a maior parte dos filmes disponível na base tem classificação \"Drama\" "
      ]
    },
    {
      "cell_type": "markdown",
      "metadata": {},
      "source": [
        "## FEATURE LINGUA ORIGINAL"
      ]
    },
    {
      "cell_type": "code",
      "execution_count": null,
      "metadata": {},
      "outputs": [],
      "source": [
        "df.lingua_original.head(3)"
      ]
    },
    {
      "cell_type": "code",
      "execution_count": null,
      "metadata": {},
      "outputs": [],
      "source": [
        "df.lingua_original.describe()"
      ]
    },
    {
      "cell_type": "code",
      "execution_count": null,
      "metadata": {},
      "outputs": [],
      "source": [
        "df.lingua_original.unique()"
      ]
    },
    {
      "cell_type": "markdown",
      "metadata": {},
      "source": [
        "### Identificando registros nulos e nan de lingua original"
      ]
    },
    {
      "cell_type": "code",
      "execution_count": null,
      "metadata": {},
      "outputs": [],
      "source": [
        "# identificando a qtde de registros com lingua_original = nan\n",
        "len(df[df.lingua_original.isna()])"
      ]
    },
    {
      "cell_type": "code",
      "execution_count": null,
      "metadata": {},
      "outputs": [],
      "source": [
        "# identificando os registros com lingua_original = nan\n",
        "df[['titulo','lingua_original']][df.lingua_original.isna()]"
      ]
    },
    {
      "cell_type": "markdown",
      "metadata": {},
      "source": [
        "CONVERTENDO A SIGLA DO IDIOMA NO NOME DO IDIOMA"
      ]
    },
    {
      "cell_type": "code",
      "execution_count": null,
      "metadata": {},
      "outputs": [],
      "source": [
        "# Convertando a sigla do idioma no nome do idioma\n",
        "\n",
        "sigla_lingua = df.lingua_original.sort_values().unique()\n",
        "sigla_lingua"
      ]
    },
    {
      "cell_type": "code",
      "execution_count": null,
      "metadata": {},
      "outputs": [],
      "source": [
        "# Convertando a sigla do idioma no nome do idioma, usando o padrão ISO 639 (https://omegat.sourceforge.io/manual-latest/pt_BR/appendix.languages.html). \n",
        "\n",
        "df['lingua'] = df['lingua_original'].map({\n",
        "    '': 'No Language', ' ': 'No Language',\n",
        "    'CZ': 'Tcheco',\n",
        "    'xx': 'No Language',    'en': 'Inglês',     'fr': 'Francês', \n",
        "    'zh': 'Chines',    'it': 'Italiano' ,     'fa': 'Persa', \n",
        "    'nl': 'Neerlandês',     'de': 'Alemão',     'cn': 'Mandarim padrão', \n",
        "    'ar': 'Argentino',     'es' : 'Espanhol',     'ru': 'Russo',\n",
        "    'sv': 'Espanhol',     'ja': 'Japonês',     'ko': 'Coreano', \n",
        "    'sr': 'Sérvio',     'bn': 'Bengali',     'he': 'Hebraico', \n",
        "    'pt': 'Português',     'wo': 'Wolof',     'ro': 'Romeno', \n",
        "    'cy': 'Galês',     'vi': 'Vietnamita',       'cs':'hrv' , \n",
        "       'da': 'Dinamarquês',        'no': 'Norueguês',        'nb': 'Bokmål norueguês', \n",
        "       'pl': 'Polonês',        'el': 'Grego, Moderno',        'sh': 'Shan', \n",
        "       'mk': 'Macedônio',        'bo': 'Tibetano',        'ca': 'Catalão',\n",
        "       'fi': 'Finlandês',        'th': 'Tailandês',        'sk': 'Eslovaco', \n",
        "       'hu': 'Húngaro',        'bs': 'Bósnio',        'hi': 'Hindi', \n",
        "       'tr': 'Turco',        'is': 'Islandês',        'ps': 'Pachto', \n",
        "       'ab': 'Abecásio',        'eo': 'Esperanto',       'ka': 'Georgiano', \n",
        "       'mn': 'Mongol',        'bm': 'Bambara',        'zu': 'Zulu', \n",
        "       'uk': 'Ucraniano',        'af': 'Africâner',        'la': 'Latim', \n",
        "       'et': 'Estoniano',        'ku': 'Curdo',        'fy': 'Frísio ocidental', \n",
        "       'lv': 'Letão',       'ta': 'Tâmil',        'sl': 'Esloveno', \n",
        "       'tl': 'Tagalog',        'ur': 'Urdu',        'rw': 'Kinyarwanda', \n",
        "       'id': 'Indonésio',        'bg': 'Búlgaro', \n",
        "       'mr': 'Marathi (Marāṭhī)', 'lt': 'Lituano', 'kk': 'Cazaque', 'ms': 'Malaio',\n",
        "       'sq': 'Albanês', \n",
        "       'qu': 'Quechua', 'te': 'Telugu', 'am': 'Amárico', \n",
        "       'jv': 'Javanês', 'tg': 'Tajique', 'ml': 'Malayalam', \n",
        "       'hr': 'Croata', 'lo': 'Lao', 'ay': 'Aymará',\n",
        "       'kn': 'Canarês', \n",
        "       'eu': 'Basco', 'ne': 'Nepali', 'pa': 'Panjabi, Punjabi', \n",
        "       'ky': 'Quirguiz, Kyrgyz', 'gl': 'Galego', 'uz': 'Uzbeque', \n",
        "       'sm': 'Samoano', 'mt': 'Maltês', 'hy': 'Armênio', \n",
        "       'iu': 'Inuktitut', 'lb': 'Luxemburguês, Letzeburgesch', 'si': 'Sinhala, Cingalês'\n",
        "       })"
      ]
    },
    {
      "cell_type": "code",
      "execution_count": null,
      "metadata": {},
      "outputs": [],
      "source": [
        "# validando a transformação\n",
        "sigla_lingua = df.lingua.sort_values().unique()\n",
        "sigla_lingua"
      ]
    },
    {
      "cell_type": "code",
      "execution_count": null,
      "metadata": {},
      "outputs": [],
      "source": [
        "# validando a transformação\n",
        "df[['lingua','lingua_original','titulo']][27:32]"
      ]
    },
    {
      "cell_type": "code",
      "execution_count": null,
      "metadata": {},
      "outputs": [],
      "source": [
        "# visualização de dados nan\n",
        "# validando alterações na feature lingua_original\n",
        "df[df['lingua'].isnull()]"
      ]
    },
    {
      "cell_type": "code",
      "execution_count": null,
      "metadata": {},
      "outputs": [],
      "source": [
        "# verificando a quantos e quais são os registro \"No language\"\n",
        "df[df['lingua'] == 'No Language']"
      ]
    },
    {
      "cell_type": "code",
      "execution_count": null,
      "metadata": {
        "tags": []
      },
      "outputs": [],
      "source": [
        "print ('Qtde de registros:', len(df.lingua.unique()))"
      ]
    },
    {
      "cell_type": "code",
      "execution_count": null,
      "metadata": {},
      "outputs": [],
      "source": [
        "#df.lingua.value_counts().sort_values(ascending = False).head(10)\n",
        "linguas = df.groupby(by='lingua').size().sort_values(ascending = False)\n",
        "linguas"
      ]
    },
    {
      "cell_type": "code",
      "execution_count": null,
      "metadata": {},
      "outputs": [],
      "source": [
        "#df.lingua.value_counts().sort_values(ascending = False).plot(color = \"red\")\n",
        "linguas.head(20).plot(kind='bar', color = \"red\")\n",
        "\n",
        "\n",
        "plt.rcParams['figure.figsize'] = [15, 10]\n",
        "\n",
        "plt.xticks(rotation=80)\n",
        "\n",
        "plt.xlabel(\"Idioma\")\n",
        "plt.ylabel(\"Total\")\n",
        "plt.title(\"Total por idioma falado - os 15 mais frequentes\")"
      ]
    },
    {
      "cell_type": "markdown",
      "metadata": {},
      "source": [
        "### FEATURE POPULARIDADE"
      ]
    },
    {
      "cell_type": "code",
      "execution_count": null,
      "metadata": {},
      "outputs": [],
      "source": [
        "df.popularidade.head(3)"
      ]
    },
    {
      "cell_type": "code",
      "execution_count": null,
      "metadata": {},
      "outputs": [],
      "source": [
        "df.popularidade.describe()"
      ]
    },
    {
      "cell_type": "code",
      "execution_count": null,
      "metadata": {},
      "outputs": [],
      "source": [
        "df.popularidade.unique()"
      ]
    },
    {
      "cell_type": "code",
      "execution_count": null,
      "metadata": {
        "tags": []
      },
      "outputs": [],
      "source": [
        "print ('Total de registros únicos de populariade:', len(df.popularidade.unique()))"
      ]
    },
    {
      "cell_type": "code",
      "execution_count": null,
      "metadata": {},
      "outputs": [],
      "source": [
        "# convertendo a featue para float\n",
        "df.popularidade = df.popularidade.astype('float64').round(3)\n",
        "df.popularidade.head(15)"
      ]
    },
    {
      "cell_type": "code",
      "execution_count": null,
      "metadata": {},
      "outputs": [],
      "source": [
        "# visualizando os dados agrupados\n",
        "df.popularidade.value_counts().sort_values(ascending = False)"
      ]
    },
    {
      "cell_type": "code",
      "execution_count": null,
      "metadata": {},
      "outputs": [],
      "source": [
        "df.popularidade.value_counts().sort_values(ascending = False).head(20).plot.bar(color = \"blue\")\n",
        "\n",
        "plt.rcParams['figure.figsize'] = [15, 10]\n",
        "\n",
        "plt.xticks(rotation=90)\n",
        "\n",
        "plt.xlabel(\"Popularidade\")\n",
        "plt.ylabel(\"Total\")\n",
        "plt.title(\"Total por popularidade - os 10 mais frequentes\")"
      ]
    },
    {
      "cell_type": "code",
      "execution_count": null,
      "metadata": {},
      "outputs": [],
      "source": [
        "#Como a feature possui valores muitos discrepantes e não consegui entender qual é o seu range, não irei utilizá-la nas análises do trabalho\n",
        "df.drop(['popularidade'], inplace=True, axis=1)\n",
        "df.drop(['index'], inplace=True, axis=1)"
      ]
    },
    {
      "cell_type": "markdown",
      "metadata": {},
      "source": [
        "# FEATURE COMPANHIA DE PRODUÇÃO (CIA_PRODUCAO)"
      ]
    },
    {
      "cell_type": "code",
      "execution_count": null,
      "metadata": {},
      "outputs": [],
      "source": [
        "df.cia_producao.head(3)"
      ]
    },
    {
      "cell_type": "code",
      "execution_count": null,
      "metadata": {},
      "outputs": [],
      "source": [
        "df.cia_producao.describe()"
      ]
    },
    {
      "cell_type": "code",
      "execution_count": null,
      "metadata": {
        "tags": []
      },
      "outputs": [],
      "source": [
        "print ('Qtde de registros sem cia_producao: ', df.cia_producao.isnull().sum())"
      ]
    },
    {
      "cell_type": "code",
      "execution_count": null,
      "metadata": {},
      "outputs": [],
      "source": [
        "df.cia_producao.describe()"
      ]
    },
    {
      "cell_type": "code",
      "execution_count": null,
      "metadata": {},
      "outputs": [],
      "source": [
        "# Função para transformar a feature em uma lista de generos ordenados\n",
        "from ast import literal_eval\n",
        "df['cia_producao'] = df['cia_producao'].apply(literal_eval) # verifica se todos os dados são do mesmo tipo\n",
        "#Função para pegar os nomes dos gêneros, caso exista.\n",
        "def get_list(x):   \n",
        "    if isinstance(x, list):\n",
        "        names = [i['name'] for i in x]\n",
        "        #print ('names antes if len(names) > 1', names)\n",
        "        tam = len(names)\n",
        "        x = []\n",
        "        if (tam > 1):\n",
        "            t = 0\n",
        "            #print ('entrei if')\n",
        "            while t < tam:\n",
        "                y = names[t]\n",
        "                #print ('y', y)\n",
        "                x.append(y)\n",
        "                #print ('x', x)\n",
        "                x.sort()\n",
        "                #print ('x ordenado', x)\n",
        "                t = t + 1\n",
        "        if (tam == 1):            \n",
        "            x.append(names[0])\n",
        "            #print ('Unico genero', x)\n",
        "        if (tam == 0):            \n",
        "            x.append('No CIA')\n",
        "            #print ('Unico genero', x)\n",
        "        return x\n",
        "        #print ('lista ordenada',x)\n",
        "    return []\n",
        "df['novo_cia_producao'] = df['cia_producao'].apply(get_list) #O retorno será uma lista com todos os gêneros.\n",
        "\n",
        "# VALIDANDO TRANSFORMAÇÃO\n",
        "df[[\"novo_cia_producao\", \"cia_producao\", \"titulo_original\"]].head(3)"
      ]
    },
    {
      "cell_type": "code",
      "execution_count": null,
      "metadata": {},
      "outputs": [],
      "source": [
        "'''\n",
        "# transformar a feature em uma nova coluna contento a lista de companhia de cada filme\n",
        "# Recupera os dados da feature e salva numa nova coluna\n",
        "from ast import literal_eval\n",
        "df['cia_producao'] = df['cia_producao'].apply(literal_eval) \n",
        "def get_list(x):\n",
        "    if isinstance(x, list):\n",
        "        names = [i['name'] for i in x]\n",
        "        if len(names) > 3:\n",
        "            names = names[:3]\n",
        "        return names\n",
        "    return []\n",
        "df['novo_cia_producao'] = df['cia_producao'].apply(get_list) \n",
        "\n",
        "# VALIDANDO TRANSFORMAÇÃO\n",
        "df[[\"novo_cia_producao\", \"cia_producao\", \"titulo_original\"]].head(3)\n",
        "'''"
      ]
    },
    {
      "cell_type": "code",
      "execution_count": null,
      "metadata": {
        "tags": []
      },
      "outputs": [],
      "source": [
        "print ('Qtde de registros unicos de CIA de produção: ', len(df.novo_cia_producao.value_counts()))"
      ]
    },
    {
      "cell_type": "code",
      "execution_count": null,
      "metadata": {},
      "outputs": [],
      "source": [
        "# As 10 CIA mais frequentes\n",
        "cia_10_mais = df.novo_cia_producao.value_counts().sort_values(ascending = False).head(12)\n",
        "cia_10_mais"
      ]
    },
    {
      "cell_type": "code",
      "execution_count": null,
      "metadata": {},
      "outputs": [],
      "source": [
        "# Plotando as 10 cia de produção mais frequentes\n",
        "cia_10_mais.plot.bar(color = \"pink\")\n",
        "\n",
        "plt.rcParams['figure.figsize'] = [15, 10]\n",
        "\n",
        "plt.xticks(rotation=90)\n",
        "\n",
        "plt.xlabel(\"CIA de produção\")\n",
        "plt.ylabel(\"Total\")\n",
        "plt.title(\"Total por CIA - os 10 mais frequentes\")"
      ]
    },
    {
      "cell_type": "markdown",
      "metadata": {},
      "source": [
        "### TRANSFORMANDO AS 10 CIA MAIS FREQUENTES EM FEATURES"
      ]
    },
    {
      "cell_type": "code",
      "execution_count": null,
      "metadata": {},
      "outputs": [],
      "source": [
        "# transformar as opções possíveis de genero em features com conteúdo true ou false \n",
        "from mlxtend.preprocessing import TransactionEncoder\n",
        "from mlxtend.frequent_patterns import apriori\n",
        "te = TransactionEncoder()\n",
        "cia_x = te.fit(df.novo_cia_producao).transform(df.novo_cia_producao)\n",
        "df_cia = pd.DataFrame(cia_x, columns=te.columns_)"
      ]
    },
    {
      "cell_type": "code",
      "execution_count": null,
      "metadata": {},
      "outputs": [],
      "source": [
        "# SELECIONANDO AS 10 MAIS FREQUENTES\n",
        "df_cia = df_cia[['Metro-Goldwyn-Mayer (MGM)', 'Warner Bros.', 'Paramount Pictures', \n",
        "        'Twentieth Century Fox Film Corporation', 'Universal Pictures', 'RKO Radio Pictures',\n",
        "        'Columbia Pictures','Mosfilm', 'Walt Disney Pictures','Universal International Pictures (UI)']]"
      ]
    },
    {
      "cell_type": "code",
      "execution_count": null,
      "metadata": {},
      "outputs": [],
      "source": [
        "# Mesclado os dois dataframes\n",
        "horizontal_stack = pd.concat([df, df_cia], axis=1)\n",
        "\n",
        "# copiando o conteúdo do novo dataframe para o filme utilizado\n",
        "df = horizontal_stack.copy()"
      ]
    },
    {
      "cell_type": "code",
      "execution_count": null,
      "metadata": {
        "tags": []
      },
      "outputs": [],
      "source": [
        "print ('Qtde de colunas após mesclagem:', df.shape)"
      ]
    },
    {
      "cell_type": "code",
      "execution_count": null,
      "metadata": {},
      "outputs": [],
      "source": [
        "# validando a transformação\n",
        "# exemplo: filme: [Dracula: Dead and Loving It] => CIA: ['Columbia Pictures', 'Castle Rock Entertainment', 'Enigma Pictures']\n",
        "# exemplo: filme: [The Indian in the Cupboard] => CIA: [['Paramount Pictures', 'Columbia Pictures Corporation', 'The Kennedy/Marshall Company']\n",
        "\n",
        "df[['Metro-Goldwyn-Mayer (MGM)', 'Warner Bros.', 'Paramount Pictures', \n",
        "        'Twentieth Century Fox Film Corporation', 'Universal Pictures', 'RKO Radio Pictures', 'Columbia Pictures',\n",
        "        'Mosfilm', 'Walt Disney Pictures','Universal International Pictures (UI)']][(df.titulo == 'Dracula: Dead and Loving It') | (df.titulo == 'The Indian in the Cupboard')]\n"
      ]
    },
    {
      "cell_type": "code",
      "execution_count": null,
      "metadata": {},
      "outputs": [],
      "source": [
        "# Features até agora\n",
        "df.columns"
      ]
    },
    {
      "cell_type": "markdown",
      "metadata": {},
      "source": [
        "### FEATURE PAIS DE PRODUÇÃO"
      ]
    },
    {
      "cell_type": "code",
      "execution_count": null,
      "metadata": {},
      "outputs": [],
      "source": [
        "df['pais_producao'].head(3)"
      ]
    },
    {
      "cell_type": "code",
      "execution_count": null,
      "metadata": {},
      "outputs": [],
      "source": [
        "df['pais_producao'].isnull().sum()"
      ]
    },
    {
      "cell_type": "code",
      "execution_count": null,
      "metadata": {},
      "outputs": [],
      "source": [
        "# Função para transformar dicionario em uma lista de pais\n",
        "df['pais_producao'] = df['pais_producao'].apply(literal_eval) # verifica se todos os dados são do mesmo tipo\n",
        "def get_list(x):   \n",
        "    if isinstance(x, list):\n",
        "        names = [i['name'] for i in x]\n",
        "        #print ('names antes if len(names) > 1', names)\n",
        "        tam = len(names)\n",
        "        x = []\n",
        "        if (tam > 1):\n",
        "            t = 0\n",
        "            #print ('entrei if')\n",
        "            while t < tam:\n",
        "                y = names[t]\n",
        "                #print ('y', y)\n",
        "                x.append(y)\n",
        "                #print ('x', x)\n",
        "                x.sort()\n",
        "                #print ('x ordenado', x)\n",
        "                t = t + 1\n",
        "        if (tam == 1):            \n",
        "            x.append(names[0])\n",
        "            #print ('Unico genero', x)\n",
        "        return x\n",
        "        #print ('lista ordenada',x)\n",
        "    return []\n",
        "df['pais_producao_ordenados'] = df['pais_producao'].apply(get_list) #O retorno será uma lista com todos os gêneros.\n",
        "\n",
        "# VALIDANDO TRANSFORMAÇÃO\n",
        "df[[\"pais_producao_ordenados\", \"pais_producao\", \"titulo_original\"]].head(3)"
      ]
    },
    {
      "cell_type": "code",
      "execution_count": null,
      "metadata": {},
      "outputs": [],
      "source": [
        "# lista dos 10 países mais comuns\n",
        "pais_15_mais = df.pais_producao_ordenados.value_counts().sort_values(ascending = False).head(15)\n",
        "pais_15_mais"
      ]
    },
    {
      "cell_type": "code",
      "execution_count": null,
      "metadata": {},
      "outputs": [],
      "source": [
        "pais_15_mais.plot.bar(color = \"red\")\n",
        "\n",
        "plt.rcParams['figure.figsize'] = [15, 10]\n",
        "\n",
        "plt.xticks(rotation=90)\n",
        "\n",
        "plt.xlabel(\"País de produção\")\n",
        "plt.ylabel(\"Total\")\n",
        "plt.title(\"Total por paós - os 10 mais frequentes\")"
      ]
    },
    {
      "cell_type": "markdown",
      "metadata": {},
      "source": [
        "Comparar a lista de países com os países convertidos para feature"
      ]
    },
    {
      "cell_type": "code",
      "execution_count": null,
      "metadata": {
        "tags": []
      },
      "outputs": [],
      "source": [
        "'''# Criar uma lista que contenha somente valores únicos do pais de produção, para idêntificá-los e contabilizá-los\n",
        "todos_registros = len(df.novo_pais_producao)        \n",
        "pais_producao_unicos = [] # lista onde será incluídos os países de produção únicos\n",
        "x = 0 \n",
        "print ('total de registros do dataset: ', todos_registros)\n",
        "while (x < todos_registros): # enquanto tiver registros no dataset\n",
        "    pais = df.novo_pais_producao[x]\n",
        "    tam_pais = len(pais)\n",
        "    i = z = 0\n",
        "    while (i < tam_pais): # enquanto o registro tiver paises de produção\n",
        "        cada_pais_registo = df.novo_pais_producao[x][i]\n",
        "        if (not cada_pais_registo in pais_producao_unicos): # verifica se o pais de produção está na lista de paises únicos\n",
        "            pais_producao_unicos.append(cada_pais_registo) # inclui o pais na lista de paises únicos\n",
        "            z +=1\n",
        "        i += 1        \n",
        "    x += 1\n",
        "\n",
        "print (\"pais_producao_unicos: \", len(pais_producao_unicos))\n",
        "print ('Lista de país onde os filmes foram produzidos: \\n', pais_producao_unicos)\n",
        "'''"
      ]
    },
    {
      "cell_type": "code",
      "execution_count": null,
      "metadata": {},
      "outputs": [],
      "source": [
        "df.pais_producao_ordenados.value_counts().head(15)"
      ]
    },
    {
      "cell_type": "code",
      "execution_count": null,
      "metadata": {},
      "outputs": [],
      "source": [
        "# transformar as opções possíveis de pais de gravação em features com conteúdo true ou false \n",
        "pais_producao_x = te.fit(df.pais_producao_ordenados).transform(df.pais_producao_ordenados)\n",
        "df_novo_pais_producao = pd.DataFrame(pais_producao_x, columns=te.columns_)"
      ]
    },
    {
      "cell_type": "code",
      "execution_count": null,
      "metadata": {},
      "outputs": [],
      "source": [
        "# resetando os índices\n",
        "df_novo_pais_producao = df_novo_pais_producao.reset_index()\n",
        "df_novo_pais_producao.head(3)"
      ]
    },
    {
      "cell_type": "code",
      "execution_count": null,
      "metadata": {},
      "outputs": [],
      "source": [
        "# SELECIONANDO AS 10 MAIS FREQUENTES\n",
        "df_novo_pais_producao = df_novo_pais_producao[['United States of America','United Kingdom','France','Japan','Italy','Canada','Germany','Russia','India', 'Canada']]\n",
        "df_novo_pais_producao.head(3)"
      ]
    },
    {
      "cell_type": "code",
      "execution_count": null,
      "metadata": {},
      "outputs": [],
      "source": [
        "# renomear as coluna para deferenciar do pais dos idiomas (produção)\n",
        "df_novo_pais_producao = df_novo_pais_producao.rename(columns={'United States of America': \"United States of America (pais producao)\", 'United Kingdom': 'United Kingdom (pais producao)', 'France': 'France (pais producao)', 'Japan': 'Japan (pais producao)', 'Italy': 'Italy (pais producao)', 'Canada': 'Canada (pais producao)', 'Germany': 'Germany (pais producao)', 'Russia': 'Russia (pais producao)', 'India': 'India (pais producao)', 'Canada': 'Canada (pais producao)'})"
      ]
    },
    {
      "cell_type": "code",
      "execution_count": null,
      "metadata": {},
      "outputs": [],
      "source": [
        "df_novo_pais_producao.shape"
      ]
    },
    {
      "cell_type": "code",
      "execution_count": null,
      "metadata": {},
      "outputs": [],
      "source": [
        "df.shape"
      ]
    },
    {
      "cell_type": "code",
      "execution_count": null,
      "metadata": {},
      "outputs": [],
      "source": [
        "# Mesclado os dois dataframes\n",
        "horizontal_stack = pd.concat([df, df_novo_pais_producao], axis=1)\n",
        "\n",
        "# copiando o conteúdo do novo dataframe\n",
        "df = horizontal_stack.copy()"
      ]
    },
    {
      "cell_type": "code",
      "execution_count": null,
      "metadata": {
        "tags": []
      },
      "outputs": [],
      "source": [
        "print ('Qtde de colunas após mesclagem:', df.shape)"
      ]
    },
    {
      "cell_type": "code",
      "execution_count": null,
      "metadata": {},
      "outputs": [],
      "source": [
        "df.columns"
      ]
    },
    {
      "cell_type": "code",
      "execution_count": null,
      "metadata": {},
      "outputs": [],
      "source": [
        "# validando a transformação\n",
        "# exemplo: filme: [Dracula: Dead and Loving It] => paises: ['France','United States of America'] -> id: 11\n",
        "# exemplo: filme: [GoldenEye] => paises ['United Kingdom', 'United States of America']-> id => 9\n",
        "\n",
        "\n",
        "df[['United States of America (pais producao)','United Kingdom (pais producao)','France (pais producao)','Japan (pais producao)','Italy (pais producao)','Canada (pais producao)','Germany (pais producao)','Russia (pais producao)','India (pais producao)', 'Canada (pais producao)']][(df.titulo == 'Dracula: Dead and Loving It') | (df.titulo == 'GoldenEye')]"
      ]
    },
    {
      "cell_type": "code",
      "execution_count": null,
      "metadata": {
        "tags": []
      },
      "outputs": [],
      "source": [
        "'''\n",
        "# contabilizando a qtde de registros true de cada pais de gravação\n",
        "lista_pais = df_novo_pais_producao.columns\n",
        "print (lista_pais)\n",
        "tam = len(lista_pais)\n",
        "print (\"total de pais\", tam)\n",
        "x = 0\n",
        "lista_totais = [] # lista para armazenar os valores totais de cada genero\n",
        "#print (type (lista_totais))\n",
        "\n",
        "while x < tam:\n",
        "    pais = lista_pais[x]\n",
        "    total_pais = sum(df_novo_pais_producao[pais] == True)    \n",
        "    print ('pais: ', pais, '|',total_pais)\n",
        "    x += 1\n",
        "    lista_totais.append (total_pais)\n",
        "\n",
        "lista_pais_producao = list(zip(lista_totais,lista_pais))\n",
        "\n",
        "del(lista_pais_producao[0]) # excluindo o valor index\n",
        "\n",
        "print (lista_pais_producao)\n",
        "'''"
      ]
    },
    {
      "cell_type": "code",
      "execution_count": null,
      "metadata": {},
      "outputs": [],
      "source": [
        "'''\n",
        "# ordenando e revertendo a ordenação\n",
        "lista_pais_producao.sort(reverse=True)\n",
        "\n",
        "# obtendo os 10 mais frequentes países\n",
        "lista_pais_producao[0:10]\n",
        "'''"
      ]
    },
    {
      "cell_type": "code",
      "execution_count": null,
      "metadata": {},
      "outputs": [],
      "source": [
        "'''\n",
        "#plotando os 10 mais frequentes paises de gravação\n",
        "x = [v[1] for v in lista_pais_producao[0:10]]\n",
        "y = [v[0] for v in lista_pais_producao[0:10]]\n",
        "\n",
        "plt.bar(x, y)\n",
        "\n",
        "plt.rcParams['figure.figsize'] = [15, 5]\n",
        "plt.ylim(0, 25000)\n",
        "\n",
        "plt.xticks(rotation=75)\n",
        "\n",
        "plt.xlabel(\"País de gravação\")\n",
        "plt.ylabel(\"Total\")\n",
        "plt.title(\"Total por país onde os filmes foram gravados\")\n",
        "\n",
        "plt.show()\n",
        "'''"
      ]
    },
    {
      "cell_type": "markdown",
      "metadata": {},
      "source": [
        "## FEATURE DATA DE LANÇAMENTO"
      ]
    },
    {
      "cell_type": "code",
      "execution_count": null,
      "metadata": {},
      "outputs": [],
      "source": [
        "df.data_lancamento.head(3)"
      ]
    },
    {
      "cell_type": "code",
      "execution_count": null,
      "metadata": {},
      "outputs": [],
      "source": [
        "df.data_lancamento.describe()"
      ]
    },
    {
      "cell_type": "code",
      "execution_count": null,
      "metadata": {
        "tags": []
      },
      "outputs": [],
      "source": [
        "# Separa o ano da data de lançamento e salvar numa nova featue\n",
        "data = df['data_lancamento'].astype(str) # se o resultado for uma lista das datas do banco\n",
        "print (data)\n",
        "ano = [a.split('-')[0] for a in data]\n",
        "df['ano_lancamento'] = ano\n",
        "\n",
        "# validando a transformação\n",
        "df[['data_lancamento','ano_lancamento']].head(2)"
      ]
    },
    {
      "cell_type": "code",
      "execution_count": null,
      "metadata": {},
      "outputs": [],
      "source": [
        "df.ano_lancamento.unique()"
      ]
    },
    {
      "cell_type": "code",
      "execution_count": null,
      "metadata": {},
      "outputs": [],
      "source": [
        "# obtendo o valor mais frequente (a moda não funcionou)\n",
        "df.ano_lancamento.value_counts(ascending = False)"
      ]
    },
    {
      "cell_type": "code",
      "execution_count": null,
      "metadata": {},
      "outputs": [],
      "source": [
        "ano_lancamento = df.groupby(by='ano_lancamento').size().sort_values(ascending = False).head(10)\n",
        "ano_lancamento"
      ]
    },
    {
      "cell_type": "code",
      "execution_count": null,
      "metadata": {},
      "outputs": [],
      "source": [
        "# visualizando os 10 anos mais frequentes\n",
        "ano_lancamento.plot.bar(color = 'gray')\n",
        "\n",
        "plt.rcParams['figure.figsize'] = [15, 5]\n",
        "plt.ylim(0, 2100)\n",
        "\n",
        "plt.xticks(rotation=0)\n",
        "\n",
        "plt.ylabel('Qtde')\n",
        "plt.xlabel('Ano de lançamentos')\n",
        "plt.title('Os 10 anos de lançamento mais frequentes')"
      ]
    },
    {
      "cell_type": "code",
      "execution_count": null,
      "metadata": {},
      "outputs": [],
      "source": [
        "## FEATURE RECEITA"
      ]
    },
    {
      "cell_type": "code",
      "execution_count": null,
      "metadata": {
        "tags": []
      },
      "outputs": [],
      "source": [
        "df.receita.head(3)"
      ]
    },
    {
      "cell_type": "code",
      "execution_count": null,
      "metadata": {},
      "outputs": [],
      "source": [
        "df.receita.describe()"
      ]
    },
    {
      "cell_type": "code",
      "execution_count": null,
      "metadata": {},
      "outputs": [],
      "source": [
        "# qtde de registros únicos de receita\n",
        "len(df.receita.unique())"
      ]
    },
    {
      "cell_type": "markdown",
      "metadata": {},
      "source": [
        "Conforme observado, 75% dos filmes não possui valor de receita, portanto, a feature não será utilizada na análise/predição"
      ]
    },
    {
      "cell_type": "code",
      "execution_count": null,
      "metadata": {},
      "outputs": [],
      "source": [
        "#Deletando\n",
        "df.drop('receita', axis=1, inplace = True)"
      ]
    },
    {
      "cell_type": "markdown",
      "metadata": {},
      "source": [
        "## FEATURE DURACAO"
      ]
    },
    {
      "cell_type": "code",
      "execution_count": null,
      "metadata": {},
      "outputs": [],
      "source": [
        "df.duracao.head(3)\n"
      ]
    },
    {
      "cell_type": "code",
      "execution_count": null,
      "metadata": {},
      "outputs": [],
      "source": [
        "df.duracao.describe()"
      ]
    },
    {
      "cell_type": "code",
      "execution_count": null,
      "metadata": {},
      "outputs": [],
      "source": [
        "# qtde de registros únicos\n",
        "len(df.duracao.unique())"
      ]
    },
    {
      "cell_type": "code",
      "execution_count": null,
      "metadata": {},
      "outputs": [],
      "source": [
        "# As 10 duração mais frequentes\n",
        "df.groupby(by='duracao').size().sort_values(ascending = False).head(10)"
      ]
    },
    {
      "cell_type": "code",
      "execution_count": null,
      "metadata": {},
      "outputs": [],
      "source": [
        "# média\n",
        "df['duracao'].mean().round(0)"
      ]
    },
    {
      "cell_type": "code",
      "execution_count": null,
      "metadata": {},
      "outputs": [],
      "source": [
        "# muitos registros possuem duração zero. Estes casos serão substituidos pela média\n",
        "df.duracao= df.duracao.replace(0,df['duracao'].mean().round(0))"
      ]
    },
    {
      "cell_type": "code",
      "execution_count": null,
      "metadata": {},
      "outputs": [],
      "source": [
        "# verificando o impacto da atualização dos valores zerados de duração\n",
        "df.groupby(by='duracao').size().sort_values(ascending = False).head(10)"
      ]
    },
    {
      "cell_type": "code",
      "execution_count": null,
      "metadata": {},
      "outputs": [],
      "source": [
        "# verificando os valores nulos\n",
        "df[df.duracao.isnull()]"
      ]
    },
    {
      "cell_type": "code",
      "execution_count": null,
      "metadata": {
        "tags": []
      },
      "outputs": [],
      "source": [
        "# atualizando os dados faltantes\n",
        "df.duracao = df.duracao.fillna(df['duracao'].mean().round(0))"
      ]
    },
    {
      "cell_type": "code",
      "execution_count": null,
      "metadata": {},
      "outputs": [],
      "source": [
        "# verificando a atualização\n",
        "df[df.duracao.isnull()]"
      ]
    },
    {
      "cell_type": "code",
      "execution_count": null,
      "metadata": {},
      "outputs": [],
      "source": [
        "df.groupby(by='duracao').size().sort_values(ascending = False).head(10).plot.bar()\n",
        "\n",
        "plt.grid(True)\n",
        "plt.rcParams['figure.figsize'] = [15, 10]\n",
        "\n",
        "plt.xticks(rotation=0)\n",
        "\n",
        "plt.ylabel('Qtde')\n",
        "plt.xlabel('Duração')\n",
        "plt.title('Duração mais frequentes')"
      ]
    },
    {
      "cell_type": "markdown",
      "metadata": {},
      "source": [
        "## FEATURE IDIOMAS FALADOS (TRADUÇÕES)"
      ]
    },
    {
      "cell_type": "code",
      "execution_count": null,
      "metadata": {},
      "outputs": [],
      "source": [
        "df.idiomas_falados.head(3)"
      ]
    },
    {
      "cell_type": "code",
      "execution_count": null,
      "metadata": {},
      "outputs": [],
      "source": [
        "df.idiomas_falados.describe()"
      ]
    },
    {
      "cell_type": "code",
      "execution_count": null,
      "metadata": {},
      "outputs": [],
      "source": [
        "df.idiomas_falados.isnull().sum()"
      ]
    },
    {
      "cell_type": "code",
      "execution_count": null,
      "metadata": {},
      "outputs": [],
      "source": [
        "# identificando os registros nulos\n",
        "df[df.idiomas_falados.isnull()]"
      ]
    },
    {
      "cell_type": "code",
      "execution_count": null,
      "metadata": {},
      "outputs": [],
      "source": [
        "# Deletando os registro\n",
        "df.drop(19721, inplace=True, axis=0)\n",
        "df.drop(29481, inplace=True, axis=0)\n",
        "df.drop(35561, inplace=True, axis=0)"
      ]
    },
    {
      "cell_type": "code",
      "execution_count": null,
      "metadata": {},
      "outputs": [],
      "source": [
        "# validando a exclusao dos registros nulos\n",
        "df[df.idiomas_falados.isnull()]"
      ]
    },
    {
      "cell_type": "code",
      "execution_count": null,
      "metadata": {},
      "outputs": [],
      "source": [
        "'''\n",
        "# Função para transformar dicionario em uma lista de pais\n",
        "df['idiomas_falados'] = df['idiomas_falados'].apply(literal_eval) # verifica se todos os dados são do mesmo tipo\n",
        "def get_list(x):   \n",
        "    if isinstance(x, list):\n",
        "        names = [i['name'] for i in x]\n",
        "        #print ('names antes if len(names) > 1', names)\n",
        "        tam = len(names)\n",
        "        x = []\n",
        "        if (tam > 1):\n",
        "            t = 0\n",
        "            #print ('entrei if')\n",
        "            while t < tam:                \n",
        "                y = names[t]\n",
        "                #print ('y', y)\n",
        "                x.append(y)\n",
        "                #print ('x', x)\n",
        "                x.sort()\n",
        "                #print ('x ordenado', x)\n",
        "                t = t + 1\n",
        "        if (tam == 1):            \n",
        "            x.append(names[0])\n",
        "            #print ('Unico genero', x)\n",
        "        if (tam == 0):\n",
        "            x.append('English') # valor calculado através da moda\n",
        "        return x\n",
        "        #print ('lista ordenada',x)\n",
        "    return []\n",
        "df['idiomas_falados_ordenados'] = df['idiomas_falados'].apply(get_list) #O retorno será uma lista com todos os gêneros.\n",
        "\n",
        "# VALIDANDO TRANSFORMAÇÃO\n",
        "df[[\"idiomas_falados_ordenados\", \"idiomas_falados\", \"titulo_original\"]].head(3)\n",
        "'''"
      ]
    },
    {
      "cell_type": "code",
      "execution_count": null,
      "metadata": {},
      "outputs": [],
      "source": [
        "# resetando os índices\n",
        "'''df = df.reset_index()'''"
      ]
    },
    {
      "cell_type": "code",
      "execution_count": null,
      "metadata": {
        "tags": []
      },
      "outputs": [],
      "source": [
        "# Função para transformar dicionario em uma lista de pais\n",
        "#                elif cada_idioma_registo == '??????': # equivale a sigla ky = 'Quirguiz, Kyrgyz'\n",
        "#                elif cada_idioma_registo == '?????': # equivale a sigla 'kn' = 'Canarês'      \n",
        "# Recupera os dados da feature e salva numa nova coluna\n",
        "from ast import literal_eval\n",
        "df['idiomas_falados'] = df['idiomas_falados'].apply(literal_eval) \n",
        "def get_list(x):\n",
        "    if isinstance(x, list):\n",
        "        names = [i['name'] for i in x]\n",
        "        valores = []\n",
        "        if len(names) > 0:\n",
        "            names = names[:3]    \n",
        "        return names\n",
        "    return []\n",
        "#df['novo_idiomas_falados'] = df['idiomas_falados'].apply(get_list) \n",
        "df['idiomas_falados_ordenados'] = df['idiomas_falados'].apply(get_list) \n",
        "\n",
        "# VALIDANDO TRANSFORMAÇÃO\n",
        "df[[\"idiomas_falados_ordenados\", \"idiomas_falados\", \"titulo_original\"]].head(3)  "
      ]
    },
    {
      "cell_type": "code",
      "execution_count": null,
      "metadata": {},
      "outputs": [],
      "source": [
        "# registros vazios: 83,107,126, 137)\n",
        "df[[\"idiomas_falados_ordenados\", \"idiomas_falados\", \"titulo_original\"]][120:140]"
      ]
    },
    {
      "cell_type": "code",
      "execution_count": null,
      "metadata": {},
      "outputs": [],
      "source": [
        "df.idiomas_falados_ordenados.value_counts()"
      ]
    },
    {
      "cell_type": "code",
      "execution_count": null,
      "metadata": {
        "tags": []
      },
      "outputs": [],
      "source": [
        "'''\n",
        "# atualizando os registros zerados\n",
        "total_registros = len(df)\n",
        "print ('total de registros', total_registros)\n",
        "t = z = 0 \n",
        "while t < total_registros:\n",
        "    if (len(df['idiomas_falados_ordenados'][t]) == 0):\n",
        "        df['idiomas_falados_ordenados'][t].append(df.lingua_original[t])\n",
        "        z = z + 1\n",
        "    t = t + 1\n",
        "print (\"total de registros atualizados\", z)\n",
        "'''"
      ]
    },
    {
      "cell_type": "code",
      "execution_count": null,
      "metadata": {},
      "outputs": [],
      "source": [
        "# Validando se os registros zerados foram atualizados\n",
        "idiomas = df['idiomas_falados_ordenados'].value_counts().head(10)\n",
        "idiomas"
      ]
    },
    {
      "cell_type": "code",
      "execution_count": null,
      "metadata": {
        "tags": []
      },
      "outputs": [],
      "source": [
        "idiomas.plot.bar(color='orange')\n",
        "\n",
        "plt.xticks(rotation=75)\n",
        "\n",
        "plt.xlabel(\"Lista de idiomas/traduções\")\n",
        "plt.ylabel(\"Total\")\n",
        "plt.title(\"Os 10 idiomas mais frequentes\")"
      ]
    },
    {
      "cell_type": "code",
      "execution_count": null,
      "metadata": {},
      "outputs": [],
      "source": [
        "# resetando os índices\n",
        "df = df.reset_index()"
      ]
    },
    {
      "cell_type": "code",
      "execution_count": null,
      "metadata": {
        "tags": []
      },
      "outputs": [],
      "source": [
        "# Criar uma lista que contenha somente valores únicos de linguas, para idêntificá-los e contabilizá-los\n",
        "# # existem registros com valores '??????' e '?????' (Turkic), estes NÃO ESTÃO SENDO TRATADOS ????????????????????????????????????????????????????????????????????????????????????????????????????? \n",
        "# https://en.wikipedia.org/wiki/List_of_ISO_639-1_codes\n",
        "\n",
        "todos_registros = len(df.idiomas_falados_ordenados)        \n",
        "idiomas_falados_unicos = [] # lista onde será incluídos os linguas únicos\n",
        "x = 0 \n",
        "print ('total de registros do dataset: ', todos_registros)\n",
        "while (x < todos_registros): # enquanto tiver registros no dataset\n",
        "    #print (\"x:\", x)\n",
        "    idiomas = df.idiomas_falados_ordenados[x]\n",
        "    tam_idiomas = len(idiomas)\n",
        "    i = z = b = 0\n",
        "    while (i < tam_idiomas): # enquanto o registro tiver linguas\n",
        "        cada_idioma_registo = df.idiomas_falados_ordenados[x][i]\n",
        "        if (not cada_idioma_registo in idiomas_falados_unicos): # verifica se a lingua está na lista\n",
        "            if (cada_idioma_registo != '??????') and (cada_idioma_registo != '?????'):               \n",
        "                idiomas_falados_unicos.append(cada_idioma_registo) # inclui na lista de linguas unicas\n",
        "            z +=1\n",
        "        i += 1        \n",
        "    x += 1\n",
        "\n",
        "print (\"idiomas_falados_unicos: \", len(idiomas_falados_unicos))\n",
        "print (idiomas_falados_unicos)"
      ]
    },
    {
      "cell_type": "code",
      "execution_count": null,
      "metadata": {},
      "outputs": [],
      "source": [
        "df.columns"
      ]
    },
    {
      "cell_type": "code",
      "execution_count": null,
      "metadata": {},
      "outputs": [],
      "source": [
        "# transformar as opções possíveis em features com conteúdo true ou false \n",
        "from mlxtend.preprocessing import TransactionEncoder\n",
        "from mlxtend.frequent_patterns import apriori\n",
        "te = TransactionEncoder()\n",
        "idiomas_x = te.fit(df.idiomas_falados_ordenados).transform(df.idiomas_falados_ordenados)\n",
        "df_novo = pd.DataFrame(idiomas_x, columns=te.columns_)"
      ]
    },
    {
      "cell_type": "code",
      "execution_count": null,
      "metadata": {},
      "outputs": [],
      "source": [
        "# selecionando as features que serão mescladas - somente as 5 mais frequentes\n",
        "# [English], [Français], [日本語], [Italiano], [Español]\n",
        "df_novo = df_novo[['English', 'Français', '日本語', 'Italiano', 'Español']]\n",
        "df_novo"
      ]
    },
    {
      "cell_type": "code",
      "execution_count": null,
      "metadata": {},
      "outputs": [],
      "source": [
        "df_novo.columns"
      ]
    },
    {
      "cell_type": "code",
      "execution_count": null,
      "metadata": {},
      "outputs": [],
      "source": [
        "df.columns"
      ]
    },
    {
      "cell_type": "code",
      "execution_count": null,
      "metadata": {},
      "outputs": [],
      "source": [
        "# resetando os índices\n",
        "df_novo = df_novo.reset_index()\n",
        "\n",
        "# Mesclado os dois dataframes\n",
        "horizontal_stack = pd.concat([df, df_novo], axis=1)\n",
        "\n",
        "# copiando o conteúdo do novo dataframe para o filme utilizado\n",
        "df = horizontal_stack.copy()"
      ]
    },
    {
      "cell_type": "code",
      "execution_count": null,
      "metadata": {},
      "outputs": [],
      "source": [
        "df.columns"
      ]
    },
    {
      "cell_type": "markdown",
      "metadata": {},
      "source": [
        "# Features que serão utilizadas no trabalho\n",
        "\n"
      ]
    },
    {
      "cell_type": "code",
      "execution_count": null,
      "metadata": {},
      "outputs": [],
      "source": [
        "df_reduzido = df[['titulo','generos_ordenados','descricao','duracao', 'status', 'video', 'ano_lancamento',\n",
        "       'lingua', 'qtde_votos', \n",
        "       'acao', 'aventura', 'animacao', 'comedia', 'crime', 'documentario', 'drama', 'familia',\n",
        "       'fantasia', 'estrangeiro', 'historia', 'horror', 'musical', 'misterio',\n",
        "       'romance', 'ficcao_cientifica', 'filmes_tv', 'suspense', 'gerra','ocidental', \n",
        "       'Metro-Goldwyn-Mayer (MGM)', 'Warner Bros.', 'Paramount Pictures',\n",
        "       'Twentieth Century Fox Film Corporation', 'Universal Pictures',\n",
        "       'RKO Radio Pictures', 'Columbia Pictures', 'Mosfilm', 'Walt Disney Pictures', 'Universal International Pictures (UI)',\n",
        "       'United States of America (pais producao)', 'United Kingdom (pais producao)','France (pais producao)', 'Japan (pais producao)', 'Italy (pais producao)', 'Canada (pais producao)', 'Germany (pais producao)', 'Russia (pais producao)', 'India (pais producao)', 'Canada (pais producao)', \n",
        "       'English', 'Français', '日本語','Italiano', 'Español', \n",
        "       'media_votos']]"
      ]
    },
    {
      "cell_type": "code",
      "execution_count": null,
      "metadata": {
        "tags": []
      },
      "outputs": [],
      "source": [
        "print (\" Tamanho original:\", filmes.shape[0], \"| tamanho final: \",  df_reduzido.shape[0], \"| Redução de:\", filmes.shape[0] - df_reduzido.shape[0], \"registros.\")"
      ]
    },
    {
      "cell_type": "code",
      "execution_count": null,
      "metadata": {
        "tags": []
      },
      "outputs": [],
      "source": [
        "print (\"Qtde Features original:\", filmes.shape[1], \"| Qtde Features final: \",  df_reduzido.shape[1], \"| Aumento de:\", df_reduzido.shape[1] - filmes.shape[1], \"registros.\")"
      ]
    },
    {
      "cell_type": "markdown",
      "metadata": {},
      "source": [
        "# identificando OUTLIERS"
      ]
    },
    {
      "cell_type": "markdown",
      "metadata": {},
      "source": [
        "## duracao x media_votos"
      ]
    },
    {
      "cell_type": "code",
      "execution_count": null,
      "metadata": {},
      "outputs": [],
      "source": [
        "plt.figure(figsize=(15,8))\n",
        "sns.boxplot(df_reduzido.duracao, df_reduzido.media_votos)"
      ]
    },
    {
      "cell_type": "code",
      "execution_count": null,
      "metadata": {},
      "outputs": [],
      "source": [
        "plt.figure(figsize=(12,6))\n",
        "plt.scatter(x=df_reduzido.duracao, y=df_reduzido.media_votos)\n",
        "plt.xlabel(\"Duração\", fontsize=13)\n",
        "plt.ylabel(\"Média Votos\", fontsize=13)\n",
        "plt.ylim(0,10)"
      ]
    },
    {
      "cell_type": "code",
      "execution_count": null,
      "metadata": {},
      "outputs": [],
      "source": [
        "# idenficando os registros acima de 1000 horas\n",
        "# os filmes com muitos minutos são mini-séries e séries, portanto não foram classificados como outlier\n",
        "df_reduzido[(df_reduzido[\"duracao\"]>1000)&(df_reduzido[\"media_votos\"]<9)&(df_reduzido[\"media_votos\"]>4)]"
      ]
    },
    {
      "cell_type": "code",
      "execution_count": null,
      "metadata": {},
      "outputs": [],
      "source": [
        "# idenficando os registros com duração abaixo de 10\n",
        "# o filmes com duranção quase zero são filmes de curta metragem, portanto, não são outliers\n",
        "df_reduzido[(df_reduzido[\"duracao\"]<10)&(df_reduzido[\"media_votos\"]<1)].head(10)"
      ]
    },
    {
      "cell_type": "code",
      "execution_count": null,
      "metadata": {},
      "outputs": [],
      "source": [
        "plt.rc('figure', figsize = (14, 6)) # definindo o tamanho da figura\n",
        "df_reduzido.boxplot(['duracao'])"
      ]
    },
    {
      "cell_type": "code",
      "execution_count": null,
      "metadata": {},
      "outputs": [],
      "source": [
        "# definindo os limites do boxplot\n",
        "Q1 = df_reduzido['duracao'].quantile(.25)\n",
        "Q3 = df_reduzido['duracao'].quantile(.75)\n",
        "IIQ = Q3 - Q1\n",
        "limite_inferior = Q1 - 1.5 * IIQ\n",
        "limite_superior = Q3 + 1.5 * IIQ"
      ]
    },
    {
      "cell_type": "code",
      "execution_count": null,
      "metadata": {
        "tags": []
      },
      "outputs": [],
      "source": [
        "print ('Q1 =', Q1, '| Q3=', Q3,  '| IIQ=', IIQ, '| lim-inf=', limite_inferior, '| lim_sup=', limite_superior)"
      ]
    },
    {
      "cell_type": "code",
      "execution_count": null,
      "metadata": {},
      "outputs": [],
      "source": [
        "# selecionando os registros dentro dos limites (considerados não outlier)\n",
        "selecao = (df_reduzido['duracao'] >= limite_inferior) & (df_reduzido['duracao'] <= limite_superior)\n",
        "dados_new = df_reduzido[selecao]\n",
        "dados_new[['titulo','generos_ordenados', 'ano_lancamento', 'qtde_votos','media_votos']]"
      ]
    },
    {
      "cell_type": "code",
      "execution_count": null,
      "metadata": {},
      "outputs": [],
      "source": [
        "# Plotanto os dados sem o outlier\n",
        "dados_new.boxplot(['duracao'])"
      ]
    },
    {
      "cell_type": "code",
      "execution_count": null,
      "metadata": {
        "tags": []
      },
      "outputs": [],
      "source": [
        "# comparando a quantidade de registros\n",
        "diferenca = df_reduzido.shape[0] - df_novo.shape[0]\n",
        "print('Dados com outliers:', df_reduzido.shape[0], \"Dados sem outliers: \", df_novo.shape[0], \" Diferença:\", diferenca)"
      ]
    },
    {
      "cell_type": "markdown",
      "metadata": {},
      "source": [
        "Baseado na feature duração, não houve filme considerado como outlier."
      ]
    },
    {
      "cell_type": "markdown",
      "metadata": {},
      "source": [
        "## status x media_votos"
      ]
    },
    {
      "cell_type": "code",
      "execution_count": null,
      "metadata": {},
      "outputs": [],
      "source": [
        "plt.figure(figsize=(15,8))\n",
        "sns.boxplot(df_reduzido.status, df_reduzido.media_votos)"
      ]
    },
    {
      "cell_type": "code",
      "execution_count": null,
      "metadata": {},
      "outputs": [],
      "source": [
        "plt.figure(figsize=(12,6))\n",
        "plt.scatter(x=df_reduzido.status, y=df_reduzido.media_votos)\n",
        "plt.xlabel(\"Status\", fontsize=13)\n",
        "plt.ylabel(\"Média Votos\", fontsize=13)\n",
        "plt.ylim(0,10)"
      ]
    },
    {
      "cell_type": "code",
      "execution_count": null,
      "metadata": {},
      "outputs": [],
      "source": [
        "# filmes que não possuem votos e portanto nem média de votos. Serão excluídos\n",
        "df_reduzido[(df_reduzido.media_votos ==0) & (df_reduzido.qtde_votos == 0)]"
      ]
    },
    {
      "cell_type": "code",
      "execution_count": null,
      "metadata": {
        "tags": []
      },
      "outputs": [],
      "source": [
        "# exclusão dos registros sem votos e sem média de votos\n",
        "df_reduzido.drop(df_reduzido[(df_reduzido.media_votos ==0) & (df_reduzido.qtde_votos == 0)].index,inplace=True)"
      ]
    },
    {
      "cell_type": "code",
      "execution_count": null,
      "metadata": {},
      "outputs": [],
      "source": [
        "# identificando os filmes que estão no limite superior e inferior do status = released\n",
        "# este filmes tiveram de 1 a 3 votos e receberam média altas, logo não foram descartados\n",
        "df_reduzido[(df_reduzido[\"status\"]=='Released') & (df_reduzido[\"media_votos\"]>9.8)]"
      ]
    },
    {
      "cell_type": "code",
      "execution_count": null,
      "metadata": {},
      "outputs": [],
      "source": [
        "df_reduzido[(df_reduzido[\"status\"]=='Released') & (df_reduzido[\"media_votos\"]>9.8)].sort_values(by='qtde_votos')"
      ]
    },
    {
      "cell_type": "code",
      "execution_count": null,
      "metadata": {},
      "outputs": [],
      "source": [
        "df_reduzido.status.value_counts()"
      ]
    },
    {
      "cell_type": "code",
      "execution_count": null,
      "metadata": {},
      "outputs": [],
      "source": [
        "# identificando os filmes que não foram lançados (released) para avaliar a qtde de votos e média de votos\n",
        "df_reduzido[(df_reduzido[\"status\"]=='Rumored') | (df_reduzido[\"status\"]=='Post Production') \n",
        "        | (df_reduzido[\"status\"]=='Canceled') | (df_reduzido[\"status\"]=='In Production')\n",
        "        | (df_reduzido[\"status\"]=='Planned')].sort_values(by=['status','qtde_votos','media_votos'])"
      ]
    },
    {
      "cell_type": "code",
      "execution_count": null,
      "metadata": {},
      "outputs": [],
      "source": [
        "# estes filmes não foram lançados na época de difponibilização deste dataset, portanto, optei por excluir estes filmes e deletar a feature status\n",
        "df_reduzido.drop(df_reduzido[(df_reduzido[\"status\"]=='Rumored') | (df_reduzido[\"status\"]=='Post Production') \n",
        "        | (df_reduzido[\"status\"]=='Canceled') | (df_reduzido[\"status\"]=='In Production')\n",
        "        | (df_reduzido[\"status\"]=='Planned')].index, inplace=True)"
      ]
    },
    {
      "cell_type": "code",
      "execution_count": null,
      "metadata": {},
      "outputs": [],
      "source": [
        "# validando a exclusão\n",
        "df_reduzido[(df_reduzido[\"status\"]=='Rumored') | (df_reduzido[\"status\"]=='Post Production') \n",
        "        | (df_reduzido[\"status\"]=='Canceled') | (df_reduzido[\"status\"]=='In Production')\n",
        "        | (df_reduzido[\"status\"]=='Planned')].sort_values(by=['status','qtde_votos','media_votos'])"
      ]
    },
    {
      "cell_type": "code",
      "execution_count": null,
      "metadata": {
        "tags": []
      },
      "outputs": [],
      "source": [
        "# deletando a feature status\n",
        "df_reduzido.drop(['status'],axis = 1, inplace = True)"
      ]
    },
    {
      "cell_type": "markdown",
      "metadata": {},
      "source": [
        "## qtde_votos x media_votos "
      ]
    },
    {
      "cell_type": "code",
      "execution_count": null,
      "metadata": {},
      "outputs": [],
      "source": [
        "plt.figure(figsize=(15,8))\n",
        "sns.boxplot(df_reduzido.qtde_votos, df_reduzido.media_votos)"
      ]
    },
    {
      "cell_type": "code",
      "execution_count": null,
      "metadata": {},
      "outputs": [],
      "source": [
        "plt.figure(figsize=(12,6))\n",
        "plt.scatter(x=df_reduzido.qtde_votos, y=df_reduzido.media_votos)\n",
        "plt.xlabel(\"Qtde de votos\", fontsize=13)\n",
        "plt.ylabel(\"Média Votos\", fontsize=13)\n",
        "plt.ylim(0,10)"
      ]
    },
    {
      "cell_type": "markdown",
      "metadata": {},
      "source": [
        "### outra forma de analisar OUTLIERS"
      ]
    },
    {
      "cell_type": "code",
      "execution_count": null,
      "metadata": {},
      "outputs": [],
      "source": [
        "df_reduzido.boxplot(['qtde_votos'])"
      ]
    },
    {
      "cell_type": "code",
      "execution_count": null,
      "metadata": {},
      "outputs": [],
      "source": [
        "Q1 = df_reduzido['qtde_votos'].quantile(.25)\n",
        "Q3 = df_reduzido['qtde_votos'].quantile(.75)\n",
        "IIQ = Q3 - Q1\n",
        "limite_inferior = Q1 - 1.5 * IIQ\n",
        "limite_superior = Q3 + 1.5 * IIQ"
      ]
    },
    {
      "cell_type": "code",
      "execution_count": null,
      "metadata": {
        "tags": []
      },
      "outputs": [],
      "source": [
        "print ('Q1 =', Q1, '| Q3=', Q3,  '| IIQ=', IIQ, '| lim-inf=', limite_inferior, '| lim_sup=', limite_superior)"
      ]
    },
    {
      "cell_type": "code",
      "execution_count": null,
      "metadata": {},
      "outputs": [],
      "source": [
        "# visualizando os registros que estão entre o limite inferior e o superior\n",
        "selecao = (df_reduzido['qtde_votos'] >= limite_inferior) & (df_reduzido['qtde_votos'] <= limite_superior)\n",
        "dados_new = df_reduzido[selecao]\n",
        "dados_new[['titulo', 'duracao','ano_lancamento','qtde_votos','media_votos']]"
      ]
    },
    {
      "cell_type": "code",
      "execution_count": null,
      "metadata": {},
      "outputs": [],
      "source": [
        "# visualizando os registros que estão abaixo do limite inferior\n",
        "selecao = (df_reduzido['qtde_votos'] < limite_inferior)\n",
        "dados_abaixo_inferior = df_reduzido[selecao]\n",
        "dados_abaixo_inferior[['titulo', 'duracao','ano_lancamento','qtde_votos','media_votos']]"
      ]
    },
    {
      "cell_type": "code",
      "execution_count": null,
      "metadata": {},
      "outputs": [],
      "source": [
        "# visualizando os registros que estão acima do limite superior\n",
        "selecao = (df_reduzido['qtde_votos'] > limite_superior)\n",
        "dados_acima_superior = df_reduzido[selecao]\n",
        "dados_acima_superior[['titulo', 'duracao','ano_lancamento','qtde_votos','media_votos']]"
      ]
    },
    {
      "cell_type": "code",
      "execution_count": null,
      "metadata": {
        "tags": []
      },
      "outputs": [],
      "source": [
        "# comparando a quantidade de registros\n",
        "diferenca = df_reduzido.shape[0] - df_novo.shape[0]\n",
        "print('Dados com outliers:', df_reduzido.shape[0], \"Dados sem outliers: \", df_novo.shape[0], \" Diferença:\", diferenca)"
      ]
    },
    {
      "cell_type": "markdown",
      "metadata": {},
      "source": [
        "Analisei os filmes e não achei que os filmes são outliers. Alguns são mais velhos, logo possuiem muitos votos e outros tem poucos votos, mas com classificação alto."
      ]
    },
    {
      "cell_type": "markdown",
      "metadata": {},
      "source": [
        "# convertendo os tipos das features"
      ]
    },
    {
      "cell_type": "code",
      "execution_count": null,
      "metadata": {},
      "outputs": [],
      "source": [
        "df_reduzido.dtypes"
      ]
    },
    {
      "cell_type": "code",
      "execution_count": null,
      "metadata": {},
      "outputs": [],
      "source": [
        "df.duracao.round(0)"
      ]
    },
    {
      "cell_type": "code",
      "execution_count": null,
      "metadata": {
        "tags": []
      },
      "outputs": [],
      "source": [
        "df_reduzido.video = df_reduzido.video.astype('bool')\n",
        "df_reduzido.ano_lancamento = df_reduzido.ano_lancamento.astype('int64')"
      ]
    },
    {
      "cell_type": "code",
      "execution_count": null,
      "metadata": {},
      "outputs": [],
      "source": [
        "df_reduzido.dtypes"
      ]
    },
    {
      "cell_type": "code",
      "execution_count": null,
      "metadata": {},
      "outputs": [],
      "source": [
        "df_reduzido.columns"
      ]
    },
    {
      "cell_type": "markdown",
      "metadata": {},
      "source": [
        "## Salvando em um arquivo"
      ]
    },
    {
      "cell_type": "code",
      "execution_count": null,
      "metadata": {},
      "outputs": [],
      "source": [
        "# salvando o dataset num CSV      \n",
        "df_reduzido.to_csv(\"C:/Users/Herica/Desktop/Herica/cursoIACD/bases/filmes/filmes_df_limpo.csv\",columns=['titulo','descricao','duracao', 'video', 'ano_lancamento',\n",
        "       'lingua', 'qtde_votos', \n",
        "       'acao', 'aventura', 'animacao', 'comedia', 'crime', 'documentario', 'drama', 'familia',\n",
        "       'fantasia', 'estrangeiro', 'historia', 'horror', 'musical', 'misterio',\n",
        "       'romance', 'ficcao_cientifica', 'filmes_tv', 'suspense', 'gerra','ocidental', \n",
        "       'Metro-Goldwyn-Mayer (MGM)', 'Warner Bros.', 'Paramount Pictures',\n",
        "       'Twentieth Century Fox Film Corporation', 'Universal Pictures',\n",
        "       'RKO Radio Pictures', 'Columbia Pictures', 'Mosfilm', 'Walt Disney Pictures', 'Universal International Pictures (UI)',\n",
        "       'United States of America (pais producao)',\n",
        "       'United Kingdom (pais producao)', 'France (pais producao)',\n",
        "       'Japan (pais producao)', 'Italy (pais producao)',\n",
        "       'Canada (pais producao)', 'Canada (pais producao)',\n",
        "       'Germany (pais producao)', 'Russia (pais producao)',\n",
        "       'India (pais producao)', 'Canada (pais producao)',\n",
        "       'Canada (pais producao)', \n",
        "       'English', 'Français', '日本語','Italiano', 'Español', \n",
        "       'media_votos'],index=False)"
      ]
    },
    {
      "cell_type": "markdown",
      "metadata": {
        "id": "34xuqUqUzkYk",
        "colab_type": "text"
      },
      "source": [
        "### 4) **(30%)** Análise\n",
        "\n",
        "Com seu dado pronto, é hora de fazer a parte mais legal: investigar e responder nossas hipoteses. Elas se confirmam? Em quais cenários? Existe alguma forma de perceber isso no mundo real? Dica: Abuse das técnicas de visualização.\n",
        "\n",
        "Ex: Ainda no contexto dos exemplos do item 2). Ao investigar a hipotese relacionada ao padrão de compra, percebi que em todos os meses existia uma diferença entre dia util e final de semana. Porém notei que Fevereiro possui um comportamento diferente, o que poderia explicar? Talvez o carnaval e seus feriados.\n",
        "\n",
        "Ex2: Talvez eu descubra que alguns finais de semana possuam um comportamento diferente dos dias de semana e outros não. Por que não são todos? Nessa investigação você pode acabar descobrindo que os finais de semana que são diferentes, coincidem no fato de serem os primeiros dias utéis, o que pode remeter ao fato de boa parte das empresas realizarem pagamentos nessa parte do mês."
      ]
    },
    {
      "cell_type": "markdown",
      "metadata": {},
      "source": [
        "Questionamentos a serem investigados:\n",
        "\n",
        "1 - As maiores média de votos está relacionada a algum genero específico?\n",
        "\n",
        "2 - As maiores média de votos está relacionada a algum idioma original?\n",
        "\n",
        "3 - As maiores média de votos está relacionada a algum cia de produção?"
      ]
    },
    {
      "cell_type": "code",
      "execution_count": null,
      "metadata": {},
      "outputs": [],
      "source": [
        "# lendo o arquivo\n",
        "df_final = pd.read_csv(r'C:/Users/Herica/Desktop/Herica/cursoIACD/bases/filmes/filmes_df_limpo.csv')"
      ]
    },
    {
      "cell_type": "markdown",
      "metadata": {
        "colab": {},
        "colab_type": "code",
        "id": "MnsbqwaUzkYn"
      },
      "source": [
        "## Hipótese 1 - As maiores média de votos está relacionada a algum genero específico?"
      ]
    },
    {
      "cell_type": "code",
      "execution_count": null,
      "metadata": {},
      "outputs": [],
      "source": [
        "df_final.dtypes"
      ]
    },
    {
      "cell_type": "code",
      "execution_count": null,
      "metadata": {},
      "outputs": [],
      "source": [
        "# Como são várias as features de gênero, as dividi em grupo para facilitar a visualização\n",
        "x = df_final.groupby(['media_votos']).sum()\n",
        "\n",
        "x['acao'].plot(kind = 'line',color='green', title='Total da acao/target por V1',grid=True, stacked=True,label='Ação')\n",
        "x['aventura'].plot(kind = 'line',color='red', title='Total da acao/target por V1',grid=True, stacked=True,label='Aventura')\n",
        "x['animacao'].plot(kind = 'line',color='blue', title='Total da acao/target por V1',grid=True, stacked=True,label='Animação')\n",
        "x['comedia'].plot(kind = 'line',color='pink', title='Total da acao/target por V1',grid=True, stacked=True,label='Comédia')\n",
        "x['crime'].plot(kind = 'line',color='magenta', title='Total da acao/target por V1',grid=True, stacked=True,label='Crime')\n",
        "\n",
        "plt.legend()\n",
        "plt.xlabel(\"Gêneros\")\n",
        "plt.ylabel(\"Média Votos\")\n",
        "\n",
        "\n",
        "# Neste gráfico, percebemos que a comédia é o gênero com maior média de votos, seguido da ação"
      ]
    },
    {
      "cell_type": "code",
      "execution_count": null,
      "metadata": {},
      "outputs": [],
      "source": [
        "# Como são várias as features de gênero, as divide\n",
        "x = df_final.groupby(['media_votos']).sum()\n",
        "\n",
        "x['documentario'].plot(kind = 'line',color='green', title='Total da acao/target por V1',grid=True, stacked=True,label='Documentário')\n",
        "x['drama'].plot(kind = 'line',color='red', title='Total da acao/target por V1',grid=True, stacked=True,label='Drama')\n",
        "x['familia'].plot(kind = 'line',color='blue', title='Total da acao/target por V1',grid=True, stacked=True,label='Família')\n",
        "x['fantasia'].plot(kind = 'line',color='pink', title='Total da acao/target por V1',grid=True, stacked=True,label='Fantasia')\n",
        "x['estrangeiro'].plot(kind = 'line',color='magenta', title='Total da acao/target por V1',grid=True, stacked=True,label='Estrangeiro')\n",
        "\n",
        "plt.legend()\n",
        "plt.xlabel(\"Gêneros\")\n",
        "plt.ylabel(\"Média Votos\")\n",
        "\n",
        "\n",
        "# Neste gráfico, percebemos que o drama é o gênero com maior média de votos, estando os demais mais ou menos no memo nível"
      ]
    },
    {
      "cell_type": "code",
      "execution_count": null,
      "metadata": {},
      "outputs": [],
      "source": [
        "# Como são várias as features de gênero, as divide\n",
        "x = df_final.groupby(['media_votos']).sum()\n",
        "\n",
        "x['historia'].plot(kind = 'line',color='green', title='Total da acao/target por V1',grid=True, stacked=True,label='História')\n",
        "x['horror'].plot(kind = 'line',color='red', title='Total da acao/target por V1',grid=True, stacked=True,label='Horror')\n",
        "x['musical'].plot(kind = 'line',color='blue', title='Total da acao/target por V1',grid=True, stacked=True,label='Musical')\n",
        "x['misterio'].plot(kind = 'line',color='pink', title='Total da acao/target por V1',grid=True, stacked=True,label='Mistério')\n",
        "x['romance'].plot(kind = 'line',color='magenta', title='Total da acao/target por V1',grid=True, stacked=True,label='Romance')\n",
        "\n",
        "plt.legend()\n",
        "plt.xlabel(\"Gêneros\")\n",
        "plt.ylabel(\"Média Votos\")\n",
        "\n",
        "\n",
        "# Neste gráfico, percebemos que o romance é o gênero com maior média de votos, segido do horror."
      ]
    },
    {
      "cell_type": "code",
      "execution_count": null,
      "metadata": {},
      "outputs": [],
      "source": [
        "# Como são várias as features de gênero, as divide\n",
        "x = df_final.groupby(['media_votos']).sum()\n",
        "\n",
        "x['ficcao_cientifica'].plot(kind = 'line',color='green', title='Total da acao/target por V1',grid=True, stacked=True,label='Ficção')\n",
        "x['filmes_tv'].plot(kind = 'line',color='red', title='Total da acao/target por V1',grid=True, stacked=True,label='Seriados')\n",
        "x['suspense'].plot(kind = 'line',color='blue', title='Total da acao/target por V1',grid=True, stacked=True,label='Suspense')\n",
        "x['gerra'].plot(kind = 'line',color='pink', title='Total da acao/target por V1',grid=True, stacked=True,label='Gerra')\n",
        "x['ocidental'].plot(kind = 'line',color='magenta', title='Total da acao/target por V1',grid=True, stacked=True,label='Ocidental')\n",
        "\n",
        "plt.legend()\n",
        "plt.xlabel(\"Gêneros\")\n",
        "plt.ylabel(\"Média Votos\")\n",
        "\n",
        "\n",
        "# Neste gráfico, percebemos que o suspense é o gênero com maior média de votos, seguido da ficção"
      ]
    },
    {
      "cell_type": "code",
      "execution_count": null,
      "metadata": {},
      "outputs": [],
      "source": [
        "# plotando os maiores dos gêneros obtidos nos gráficos acima: comédia, suspense, romance e drama\n",
        "\n",
        "# Como são várias as features de gênero, as divide\n",
        "x = df_final.groupby(['media_votos']).sum()\n",
        "\n",
        "x['comedia'].plot(kind = 'line',color='pink',grid=True, stacked=True,label='Comédia')\n",
        "x['suspense'].plot(kind = 'line',color='blue',grid=True, stacked=True,label='Suspense')\n",
        "x['romance'].plot(kind = 'line',color='magenta',grid=True, stacked=True,label='Romance')\n",
        "x['drama'].plot(kind = 'line',color='red', grid=True, stacked=True,label='Drama')\n",
        "\n",
        "plt.legend()\n",
        "plt.title('GÊneros x Média Votos')\n",
        "plt.xlabel(\"Gêneros\")\n",
        "plt.ylabel(\"Média Votos\")\n",
        "\n",
        "\n",
        "# Neste gráfico, percebemos que o drama é o gênero com maior média de votos, seguido da comédia. Os demais estão parecidos."
      ]
    },
    {
      "cell_type": "code",
      "execution_count": null,
      "metadata": {},
      "outputs": [],
      "source": []
    },
    {
      "cell_type": "markdown",
      "metadata": {},
      "source": [
        "Conforme observamos, o gênero que possui a maior média de votos é o Drama, seja isolado, seja em conjunto com outros gêneros. Dos 10 maiores, o Drama está presente em 6. "
      ]
    },
    {
      "cell_type": "markdown",
      "metadata": {},
      "source": [
        "## Hipótese 2 - As maiores média de votos está relacionada a algum idioma original?"
      ]
    },
    {
      "cell_type": "code",
      "execution_count": null,
      "metadata": {},
      "outputs": [],
      "source": [
        "df_final.columns"
      ]
    },
    {
      "cell_type": "code",
      "execution_count": null,
      "metadata": {},
      "outputs": [],
      "source": [
        "lingua = df_final[['lingua','media_votos']].groupby('lingua').sum().sort_values(by = 'media_votos', ascending = False).head(10)\n",
        "lingua"
      ]
    },
    {
      "cell_type": "code",
      "execution_count": null,
      "metadata": {},
      "outputs": [],
      "source": [
        "# plotando os 10 idiomas originais com maior média de votos\n",
        "x = df_final[['lingua','media_votos']].groupby('lingua').sum().sort_values(by = 'media_votos', ascending = False).head(10)\n",
        "x = x.reset_index()\n",
        "\n",
        "plt.bar(x.lingua,x.media_votos,color='red')\n",
        "\n",
        "\n",
        "plt.xticks(rotation=75)\n",
        "plt.xlabel(\"Lingua original\")\n",
        "plt.ylabel(\"Média de votos\")\n",
        "plt.title(\"Lingua x média de votos\")"
      ]
    },
    {
      "cell_type": "code",
      "execution_count": null,
      "metadata": {},
      "outputs": [],
      "source": [
        "total_ingles = len(df_final[df_final['lingua'] == \"Inglês\"])\n",
        "\n",
        "outras_linguas = ['Francês', 'Chines', 'Italiano', 'Persa', 'Neerlandês',\n",
        "       'Alemão', 'Mandarim padrão', 'Argentino', 'Espanhol', 'Russo',\n",
        "       'Japonês', 'Coreano', 'Sérvio', 'Bengali', 'Hebraico', 'Português',\n",
        "       'Wolof', 'Romeno', 'Húngaro', 'Galês', 'Vietnamita', 'hrv',\n",
        "       'Dinamarquês', 'Norueguês', 'Bokmål norueguês', 'Polonês',\n",
        "       'Grego, Moderno', 'Shan', 'No Language', 'Macedônio', 'Tibetano',\n",
        "       'Catalão', 'Finlandês', 'Tailandês', 'Eslovaco', 'Bósnio', 'Hindi',\n",
        "       'Turco', 'Islandês', 'Pachto', 'Abecásio', 'Esperanto',\n",
        "       'Georgiano', 'Mongol', 'Bambara', 'Zulu', 'Ucraniano', 'Africâner',\n",
        "       'Latim', 'Estoniano', 'Curdo', 'Letão', 'Tâmil', 'Esloveno',\n",
        "       'Tagalog', 'Urdu', 'Kinyarwanda', 'Indonésio', 'Búlgaro',\n",
        "       'Marathi (Marāṭhī)', 'Lituano', 'Cazaque', 'Malaio', 'Albanês',\n",
        "       'Quechua', 'Telugu', 'Amárico', 'Javanês', 'Tajique', 'Malayalam',\n",
        "       'Croata', 'Lao', 'Aymará', 'Canarês', 'Nepali', 'Panjabi, Punjabi',\n",
        "       'Galego', 'Quirguiz, Kyrgyz', 'Samoano', 'Basco', 'Tcheco',\n",
        "       'Armênio', 'Inuktitut', 'Sinhala, Cingalês']\n",
        "total_outras = 0\n",
        "for i in outras_linguas:\n",
        "    total_outras = total_outras + len(df_final[df_final['lingua'] == i])\n",
        "\n",
        "total_linguas = total_outras + total_ingles"
      ]
    },
    {
      "cell_type": "code",
      "execution_count": null,
      "metadata": {
        "tags": []
      },
      "outputs": [],
      "source": [
        "print ('total_outras=',total_outras, 'total_ingles=', total_ingles, '\\n Total linguas', total_linguas, '\\n diferença ingles - outras= ', total_ingles - total_outras, '\\n registros dataset=', len(df_final.lingua))"
      ]
    },
    {
      "cell_type": "code",
      "execution_count": null,
      "metadata": {
        "tags": []
      },
      "outputs": [],
      "source": [
        "print (\"Ingles=\", (total_ingles/total_linguas)*100)\n",
        "print (\"Outras=\", (total_outras/total_linguas)*100)"
      ]
    },
    {
      "cell_type": "markdown",
      "metadata": {
        "tags": []
      },
      "source": [
        "Percebe-se acima que mesmo somando todas as outras linguas originais dos filmes, o inglês é o maior idioma, com 70%. "
      ]
    },
    {
      "cell_type": "markdown",
      "metadata": {},
      "source": [
        "## Hipótese 3 - As maiores média de votos está relacionada a algum cia de produção?"
      ]
    },
    {
      "cell_type": "code",
      "execution_count": null,
      "metadata": {},
      "outputs": [],
      "source": [
        "df_final.columns"
      ]
    },
    {
      "cell_type": "code",
      "execution_count": null,
      "metadata": {
        "tags": []
      },
      "outputs": [],
      "source": [
        "print ('MGM', len(df[df['Metro-Goldwyn-Mayer (MGM)'] == True]))\n",
        "print ('Warner', len(df[df['Warner Bros.'] == True]))\n",
        "print ('Paramount', len(df[df['Paramount Pictures'] == True]))\n",
        "print ('Fox', len(df[df['Twentieth Century Fox Film Corporation'] == True]))\n",
        "print ('Universal', len(df[df['Universal Pictures'] == True]))\n",
        "print ('RKO', len(df[df['RKO Radio Pictures'] == True]))\n",
        "print ('Columbia', len(df[df['Columbia Pictures'] == True]))\n",
        "print ('Mosfilm', len(df[df['Mosfilm'] == True]))\n",
        "print ('Walt Disney', len(df[df['Walt Disney Pictures'] == True]))\n",
        "print ('Universal International Pictures (UI)', len(df[df['Universal International Pictures (UI)'] == True]))"
      ]
    },
    {
      "cell_type": "code",
      "execution_count": null,
      "metadata": {},
      "outputs": [],
      "source": [
        "# plotando os maiores dos gêneros obtidos nos gráficos acima: comédia, suspense, romance e drama\n",
        "\n",
        "# Como são várias as features de gênero, as divide\n",
        "x = df_final.groupby(['media_votos']).sum()\n",
        "\n",
        "x['Metro-Goldwyn-Mayer (MGM)'].plot(kind = 'line',color='pink',grid=True, stacked=True,label='MGM')\n",
        "x['Warner Bros.'].plot(kind = 'line',color='blue',grid=True, stacked=True,label='Warner Bros.')\n",
        "x['Paramount Pictures'].plot(kind = 'line',color='magenta',grid=True, stacked=True,label='Paramount Pictures')\n",
        "x['Twentieth Century Fox Film Corporation'].plot(kind = 'line',color='red', grid=True, stacked=True,label='Twentieth Century Fox Film Corporation')\n",
        "x['Universal Pictures'].plot(kind = 'line',color='yellow', grid=True, stacked=True,label='Universal Pictures')\n",
        "x['RKO Radio Pictures'].plot(kind = 'line',color='brown', grid=True, stacked=True,label='RKO Radio Pictures')\n",
        "x['Columbia Pictures'].plot(kind = 'line',color='black', grid=True, stacked=True,label='Columbia Pictures')\n",
        "x['Mosfilm'].plot(kind = 'line',color='green', grid=True, stacked=True,label='Mosfilm')\n",
        "x['Walt Disney Pictures'].plot(kind = 'line',color='purple', grid=True, stacked=True,label='Walt Disney Pictures')\n",
        "x['Universal International Pictures (UI)'].plot(kind = 'line',color='grey', grid=True, stacked=True,label='Universal International Pictures (UI)')\n",
        "\n",
        "plt.legend()\n",
        "plt.title('Companias x Média Votos')\n",
        "plt.xlabel(\"Companias\")\n",
        "plt.ylabel(\"Média Votos\")"
      ]
    },
    {
      "cell_type": "code",
      "execution_count": null,
      "metadata": {},
      "outputs": [],
      "source": [
        "df.columns"
      ]
    },
    {
      "cell_type": "code",
      "execution_count": null,
      "metadata": {},
      "outputs": [],
      "source": [
        "# plotando os maiores dos gêneros obtidos nos gráficos acima: comédia, suspense, romance e drama\n",
        "\n",
        "# Como são várias as features de gênero, as divide\n",
        "x = df_final.groupby(['media_votos']).sum()\n",
        "\n",
        "\n",
        "x['Metro-Goldwyn-Mayer (MGM)'].plot(kind = 'bar',color='pink',grid=True, stacked=True,label='MGM')\n",
        "x['Warner Bros.'].plot(kind = 'bar',color='blue',grid=True, stacked=True,label='Warner Bros.')\n",
        "x['Paramount Pictures'].plot(kind = 'bar',color='magenta',grid=True, stacked=True,label='Paramount Pictures')\n",
        "x['Twentieth Century Fox Film Corporation'].plot(kind = 'bar',color='red', grid=True, stacked=True,label='Twentieth Century Fox Film Corporation')\n",
        "x['Universal Pictures'].plot(kind = 'bar',color='yellow', grid=True, stacked=True,label='Universal Pictures')\n",
        "x['RKO Radio Pictures'].plot(kind = 'bar',color='brown', grid=True, stacked=True,label='RKO Radio Pictures')\n",
        "x['Columbia Pictures'].plot(kind = 'bar',color='black', grid=True, stacked=True,label='Columbia Pictures')\n",
        "x['Mosfilm'].plot(kind = 'bar',color='green', grid=True, stacked=True,label='Mosfilm')\n",
        "x['Walt Disney Pictures'].plot(kind = 'bar',color='purple', grid=True, stacked=True,label='Walt Disney Pictures')\n",
        "x['Universal International Pictures (UI)'].plot(kind = 'bar',color='grey', grid=True, stacked=True,label='Universal International Pictures (UI)')\n",
        "\n",
        "\n",
        "plt.legend()\n",
        "plt.title('Companias x Média Votos')\n",
        "plt.xlabel(\"Companias\")\n",
        "plt.ylabel(\"Média Votos\")"
      ]
    },
    {
      "cell_type": "markdown",
      "metadata": {},
      "source": [
        "Percebe-se que a companhia com as maiores médias de votos é a Warner"
      ]
    },
    {
      "cell_type": "markdown",
      "metadata": {
        "id": "EdSyCHTnzkZi",
        "colab_type": "text"
      },
      "source": [
        "### 5) Modelagem 30%\n",
        "\n",
        "Agora você terá mais uma oportunidade de mostrar o que você aprendeu durante o módulo 2 quanto a modelagem de dados e criação de modelos. Utilizando os dados preparados na seção 1 e após a análise feita na seção 2 você deverá:\n",
        "1. **Defina um problema de regressão ou classificação que envolva uma variável dos seus dados.**"
      ]
    },
    {
      "cell_type": "markdown",
      "metadata": {
        "id": "Oc1UUQOgzkZj",
        "colab_type": "text"
      },
      "source": [
        "***---> Comente brevemente sua decisão aqui.***"
      ]
    },
    {
      "cell_type": "markdown",
      "metadata": {},
      "source": [
        "Será criado um modelo de regrassão para prever a média de votos dos filmes."
      ]
    },
    {
      "cell_type": "markdown",
      "metadata": {
        "id": "_rMt4KkrzkZl",
        "colab_type": "text"
      },
      "source": [
        "2. **Realize ao menos 2 técnicas de processamento e seleção de features.**\n",
        "    * Isto inclui, normalização, PCA, e técnicas de seleção de features como information gain. Seja criativo pois está parte é crucial para seu modelo. Você pode escolhar manualmente as features desde que seja justificada na seção 2 (parte de Análise).\n"
      ]
    },
    {
      "cell_type": "markdown",
      "metadata": {},
      "source": [
        "### DISCRETIZAÇÃO DA FEATURE DURACAO"
      ]
    },
    {
      "cell_type": "code",
      "execution_count": null,
      "metadata": {
        "tags": []
      },
      "outputs": [],
      "source": [
        "# verificando a correlação da duração com a média de votos\n",
        "corr_ini_duracao = df['duracao'].corr(df['media_votos'])\n",
        "print ('duração x media_votos',corr_ini_duracao)"
      ]
    },
    {
      "cell_type": "code",
      "execution_count": null,
      "metadata": {},
      "outputs": [],
      "source": [
        "df_final.duracao.dtype"
      ]
    },
    {
      "cell_type": "code",
      "execution_count": null,
      "metadata": {},
      "outputs": [],
      "source": [
        "# Vou tentar criar grupos para definir a feture e verificar se há melhora na correlação\n",
        "intervals = pd.qcut(df_final['duracao'], 2).astype(str).unique()\n",
        "intervals"
      ]
    },
    {
      "cell_type": "code",
      "execution_count": null,
      "metadata": {},
      "outputs": [],
      "source": [
        "df_final['tipo_duracao'] = pd.qcut(df_final['duracao'], 2).astype(str).map( {\n",
        "                            intervals[0]: 'media',\n",
        "                            intervals[1]: 'longa'\n",
        "                            } ).astype(str)\n",
        "df_final[['duracao','tipo_duracao']]"
      ]
    },
    {
      "cell_type": "code",
      "execution_count": null,
      "metadata": {},
      "outputs": [],
      "source": [
        "# Convertando strings em numéricos usando dicionário\n",
        "\n",
        "df_final['tipo_duracao'] = df_final['tipo_duracao'].map({\n",
        "'media': 0, \n",
        "'longa': 1})"
      ]
    },
    {
      "cell_type": "code",
      "execution_count": null,
      "metadata": {
        "tags": []
      },
      "outputs": [],
      "source": [
        "# verificando a correlação da duração com a média de votos\n",
        "corr_fim_duracao = df_final['tipo_duracao'].corr(df_final['media_votos'])\n",
        "print ('Tipo duração x media_votos',corr_fim_duracao)"
      ]
    },
    {
      "cell_type": "code",
      "execution_count": null,
      "metadata": {
        "tags": []
      },
      "outputs": [],
      "source": [
        "print ('Houve uma pequena melhorada na correção', corr_fim_duracao - corr_ini_duracao)"
      ]
    },
    {
      "cell_type": "markdown",
      "metadata": {},
      "source": [
        "Fiz o teste da correção para os valores de 2 a 5. Quanto maior a qtde de grupos, pior a correlação."
      ]
    },
    {
      "cell_type": "markdown",
      "metadata": {},
      "source": [
        "### DISCRETIZAÇÃO DA FEATURE ANO_LANCAMENTO"
      ]
    },
    {
      "cell_type": "code",
      "execution_count": null,
      "metadata": {
        "tags": []
      },
      "outputs": [],
      "source": [
        "# verificando a correlação da duração com a média de votos\n",
        "corr_ini_anoLancamento = df_final['ano_lancamento'].corr(df_final['media_votos'])\n",
        "print ('Ano lançamento x media_votos',corr_ini_anoLancamento)"
      ]
    },
    {
      "cell_type": "code",
      "execution_count": null,
      "metadata": {},
      "outputs": [],
      "source": [
        "# tentar criar períodos para melhor a correlação\n",
        "# avaliando a quantidade de períodos a serem criados \n",
        "intervals = pd.qcut(df_final['ano_lancamento'], 10).astype(str).unique()\n",
        "intervals"
      ]
    },
    {
      "cell_type": "code",
      "execution_count": null,
      "metadata": {},
      "outputs": [],
      "source": [
        "# criando os perídos para definir o ano de lançamento dos filmes\n",
        "df_final['periodo'] = pd.qcut(df_final['ano_lancamento'], 10).astype(str).map({intervals[0]: '1993 a 2000',\n",
        "        intervals[1]: '1970 a 1982',\n",
        "        intervals[2]: '1982 a 1993',\n",
        "        intervals[3]: '1952 a 1970',\n",
        "        intervals[4]: '1873 a 1952',\n",
        "        intervals[5]: '2000 a 2005',\n",
        "        intervals[6]: '2009 a 2012',\n",
        "        intervals[7]: '2012 a 2014',\n",
        "        intervals[8]: '2005 a 2009',\n",
        "        intervals[9]: '2014 a 2020'} ).astype(str)\n",
        "\n",
        "df_final[['ano_lancamento','periodo']]"
      ]
    },
    {
      "cell_type": "code",
      "execution_count": null,
      "metadata": {},
      "outputs": [],
      "source": [
        "# Convertando strings em numéricos usando dicionário\n",
        "\n",
        "df_final['tipo_duracao'] = df_final['periodo'].map({\n",
        "    '1993 a 2000': 0,\n",
        "    '1970 a 1982': 1,\n",
        "    '1982 a 1993': 2,\n",
        "    '1952 a 1970': 3,\n",
        "    '1873 a 1952': 4,\n",
        "    '2000 a 2005': 5,\n",
        "    '2009 a 2012': 6,\n",
        "    '2012 a 2014': 7,\n",
        "    '2005 a 2009': 8,\n",
        "    '2014 a 2020': 9\n",
        "})"
      ]
    },
    {
      "cell_type": "code",
      "execution_count": null,
      "metadata": {
        "tags": []
      },
      "outputs": [],
      "source": [
        "# verificando a correlação da duração com a média de votos\n",
        "corr_fim_anoLancamento = df_final['tipo_duracao'].corr(df_final['media_votos'])\n",
        "print ('Ano lançamento x media_votos',corr_fim_anoLancamento)"
      ]
    },
    {
      "cell_type": "code",
      "execution_count": null,
      "metadata": {
        "tags": []
      },
      "outputs": [],
      "source": [
        "print (\" final= \", corr_fim_anoLancamento, \"| inicial = \",corr_ini_anoLancamento)"
      ]
    },
    {
      "cell_type": "code",
      "execution_count": null,
      "metadata": {},
      "outputs": [],
      "source": [
        "# Houve melhora então a nova feature será mantida"
      ]
    },
    {
      "cell_type": "markdown",
      "metadata": {},
      "source": [
        "### FAZER A CORRELAÇÃO DAS FEATURES A SEREM TRABALHADAS"
      ]
    },
    {
      "cell_type": "code",
      "execution_count": null,
      "metadata": {
        "tags": []
      },
      "outputs": [],
      "source": [
        "# verificando a correlação dos generos\n",
        "\n",
        "print ('acao x media_votos',df_final['acao'].corr(df_final['media_votos']))\n",
        "print ('aventura x media_votos',df_final['aventura'].corr(df_final['media_votos']))\n",
        "print ('animacao x media_votos',df_final['animacao'].corr(df_final['media_votos']))\n",
        "print ('comedia x media_votos',df_final['comedia'].corr(df_final['media_votos']))\n",
        "print ('crime x media_votos',df_final['crime'].corr(df_final['media_votos']))\n",
        "print ('documentario x media_votos',df_final['documentario'].corr(df_final['media_votos']))\n",
        "print ('drama x media_votos',df_final['drama'].corr(df_final['media_votos']))\n",
        "print ('familia x media_votos',df_final['familia'].corr(df_final['media_votos']))\n",
        "print ('fantasia x media_votos',df_final['fantasia'].corr(df_final['media_votos']))\n",
        "print ('estrangeiro x media_votos',df_final['estrangeiro'].corr(df_final['media_votos']))\n",
        "print ('historia x media_votos',df_final['historia'].corr(df_final['media_votos']))\n",
        "print ('horror x media_votos',df_final['horror'].corr(df_final['media_votos']))\n",
        "print ('musical x media_votos',df_final['musical'].corr(df_final['media_votos']))\n",
        "print ('misterio x media_votos',df_final['misterio'].corr(df_final['media_votos']))\n",
        "print ('romance x media_votos',df_final['romance'].corr(df_final['media_votos']))\n",
        "print ('ficcao_cientifica x media_votos',df_final['ficcao_cientifica'].corr(df_final['media_votos']))\n",
        "print ('filmes_tv x media_votos',df_final['filmes_tv'].corr(df_final['media_votos']))\n",
        "print ('suspense x media_votos',df_final['suspense'].corr(df_final['media_votos']))\n",
        "print ('gerra x media_votos',df_final['gerra'].corr(df_final['media_votos']))\n",
        "print ('ocidental x media_votos',df_final['ocidental'].corr(df_final['media_votos']))"
      ]
    },
    {
      "cell_type": "code",
      "execution_count": null,
      "metadata": {},
      "outputs": [],
      "source": [
        "#Excluir as features com correlação negativa\n",
        "'''acao x media_votos -0.08289026991958133\n",
        "aventura x media_votos -0.02794159637963377\n",
        "comedia x media_votos -0.01778207543223205\n",
        "familia x media_votos -0.01386665979818757\n",
        "fantasia x media_votos -0.013615448225225833\n",
        "estrangeiro x media_votos -0.0045234706117887975\n",
        "horror x media_votos -0.18819159408147684\n",
        "misterio x media_votos -0.008024703581022141\n",
        "ficcao_cientifica x media_votos -0.11295899314774636\n",
        "filmes_tv x media_votos -0.03709269978090582\n",
        "suspense x media_votos -0.09543228084790208\n",
        "ocidental x media_votos -0.03503105661478576'''\n",
        "\n",
        "df_final.drop(['acao','aventura','comedia', 'familia', 'fantasia', 'estrangeiro', 'horror', 'misterio',\n",
        "    'ficcao_cientifica', 'filmes_tv', 'suspense', 'ocidental'], axis = 1, inplace = True)"
      ]
    },
    {
      "cell_type": "code",
      "execution_count": null,
      "metadata": {
        "tags": []
      },
      "outputs": [],
      "source": [
        "print ('video x media_votos',df_final['video'].corr(df_final['media_votos']))"
      ]
    },
    {
      "cell_type": "code",
      "execution_count": null,
      "metadata": {},
      "outputs": [],
      "source": [
        "# remoção da feature video\n",
        "df_final.drop(['video'], axis = 1, inplace = True)"
      ]
    },
    {
      "cell_type": "code",
      "execution_count": null,
      "metadata": {},
      "outputs": [],
      "source": [
        "df_final.columns"
      ]
    },
    {
      "cell_type": "code",
      "execution_count": null,
      "metadata": {
        "tags": []
      },
      "outputs": [],
      "source": [
        "# features de companhias de produção\n",
        "''''Metro-Goldwyn-Mayer (MGM)','Warner Bros.', 'Paramount Pictures',\n",
        "       'Twentieth Century Fox Film Corporation', 'Universal Pictures',\n",
        "       'RKO Radio Pictures', 'Columbia Pictures', 'Mosfilm',\n",
        "       'Walt Disney Pictures', 'Universal International Pictures (UI)'\n",
        "       '''\n",
        "\n",
        "print ('MGV',df_final['Metro-Goldwyn-Mayer (MGM)'].corr(df_final['media_votos']))\n",
        "print ('Warner Bros. x media_votos',df_final['Warner Bros.'].corr(df_final['media_votos']))\n",
        "print ('Paramount x media_votos',df_final['Paramount Pictures'].corr(df_final['media_votos']))\n",
        "print ('Fox x media_votos',df_final['Twentieth Century Fox Film Corporation'].corr(df_final['media_votos']))\n",
        "print ('Universal Pictures x media_votos',df_final['Universal Pictures'].corr(df_final['media_votos']))\n",
        "print ('RKO Radio Pictures x media_votos',df_final['RKO Radio Pictures'].corr(df_final['media_votos']))\n",
        "print ('Columbia Pictures x media_votos',df_final['Columbia Pictures'].corr(df_final['media_votos']))\n",
        "print ('Mosfilm x media_votos',df_final['Mosfilm'].corr(df_final['media_votos']))\n",
        "print ('Walt Disney Pictures x media_votos',df_final['Walt Disney Pictures'].corr(df_final['media_votos']))\n",
        "print ('Universal International Pictures (UI) x media_votos',df_final['Universal International Pictures (UI)'].corr(df_final['media_votos']))"
      ]
    },
    {
      "cell_type": "code",
      "execution_count": null,
      "metadata": {},
      "outputs": [],
      "source": [
        "# excluido das features com correlação negativa\n",
        "'''\n",
        "MGV -0.005643144906661703\n",
        "RKO Radio Pictures x media_votos -0.005677699693419887\n",
        "\n",
        "'''\n",
        "\n",
        "df_final.drop(['Metro-Goldwyn-Mayer (MGM)','RKO Radio Pictures'], axis = 1, inplace = True)"
      ]
    },
    {
      "cell_type": "code",
      "execution_count": null,
      "metadata": {
        "tags": []
      },
      "outputs": [],
      "source": [
        "# features de paizes onde os filmes foram produzidos\n",
        "'''\n",
        "'United States of America', 'United Kingdom', 'France', 'Japan',\n",
        "       'Italy', 'Canada', 'Canada.1', 'Canada.2', 'Canada.3', 'Germany',\n",
        "       'Russia', 'India', 'Canada.4', 'Canada.5', 'Canada.6', 'Canada.7',\n",
        "       'English', 'Français', '日本語', 'Italiano', 'Español'\n",
        "    '''\n",
        "print ('United States of America',df_final['United States of America (pais producao)'].corr(df_final['media_votos']))\n",
        "print ('United Kingdom x media_votos',df_final['United Kingdom (pais producao)'].corr(df_final['media_votos']))\n",
        "print ('France x media_votos',df_final['France (pais producao)'].corr(df_final['media_votos']))\n",
        "print ('Japan x media_votos',df_final['Japan (pais producao)'].corr(df_final['media_votos']))\n",
        "print ('Italy x media_votos',df_final['Italy (pais producao)'].corr(df_final['media_votos']))\n",
        "print ('Canada x media_votos',df_final['Canada (pais producao)'].corr(df_final['media_votos']))\n"
      ]
    },
    {
      "cell_type": "code",
      "execution_count": null,
      "metadata": {},
      "outputs": [],
      "source": [
        "# remoção das features com correlação negativa\n",
        "'''\n",
        "United States of America -0.10648717484568719\n",
        "Canada x media_votos -0.04293418732490301\n",
        "'''\n",
        "\n",
        "df_final.drop(['United States of America (pais producao)','Canada (pais producao)'], axis = 1, inplace = True)"
      ]
    },
    {
      "cell_type": "code",
      "execution_count": null,
      "metadata": {},
      "outputs": [],
      "source": [
        "df_final.columns"
      ]
    },
    {
      "cell_type": "code",
      "execution_count": null,
      "metadata": {
        "tags": []
      },
      "outputs": [],
      "source": [
        "# correlação dos idimos de tradução\n",
        "''' 'English', 'Français', '日本語', 'Italiano', 'Español' '''\n",
        "\n",
        "print ('English x media_votos',df_final['English'].corr(df_final['media_votos']))\n",
        "print ('Français x media_votos',df_final['Français'].corr(df_final['media_votos']))\n",
        "print ('日本語 x media_votos',df_final['日本語'].corr(df_final['media_votos']))\n",
        "print ('Italiano x media_votos',df_final['Italiano'].corr(df_final['media_votos']))\n",
        "print ('Español x media_votos',df_final['Español'].corr(df_final['media_votos']))"
      ]
    },
    {
      "cell_type": "code",
      "execution_count": null,
      "metadata": {},
      "outputs": [],
      "source": [
        "# remoção das features com correlação negativa\n",
        "'''\n",
        "English x media_votos -0.1104885381792159\n",
        "'''\n",
        "\n",
        "df_final.drop(['English'], axis = 1, inplace = True)"
      ]
    },
    {
      "cell_type": "markdown",
      "metadata": {},
      "source": [
        "### FAZER A NORMALIZAÇÃO DOS DADOS"
      ]
    },
    {
      "cell_type": "markdown",
      "metadata": {},
      "source": [
        "### APLICAR O PCA"
      ]
    },
    {
      "cell_type": "markdown",
      "metadata": {
        "id": "o_il81uyzkZ2",
        "colab_type": "text"
      },
      "source": [
        "3. **Defina uma métrica para avaliar o seu modelo.**\n",
        "    * Por exemplo, você pode utilizar MAE (Mean Absolute Error) para um problema de regressão. Ou, F1-Score para um problema de classificação. Há varias métricas, então escolha sabiamente.\n"
      ]
    },
    {
      "cell_type": "markdown",
      "metadata": {
        "id": "aYZyaLy_zkZ4",
        "colab_type": "text"
      },
      "source": [
        "***---> Comente brevemente sua decisão aqui.***"
      ]
    },
    {
      "cell_type": "markdown",
      "metadata": {
        "id": "SP4p63QEzkZ5",
        "colab_type": "text"
      },
      "source": [
        "4. **Divida seus dados em 2 conjuntos. Um de treino e outro conjunto de teste.**\n",
        "    * Treine e otimize seu modelo no conjunto de treino e apenas use o conjunto de teste para apresentar os resultados finais.\n"
      ]
    },
    {
      "cell_type": "code",
      "metadata": {
        "id": "DPxkTwo_zkZ7",
        "colab_type": "code",
        "colab": {}
      },
      "source": [
        ""
      ],
      "execution_count": null,
      "outputs": []
    },
    {
      "cell_type": "markdown",
      "metadata": {
        "id": "0GOGZ0KOzkaF",
        "colab_type": "text"
      },
      "source": [
        "5. **Treine um ou mais modelos de ML para o seu problema.**\n",
        "    * Escolha 1 ou mais tipos de classificadores ou regressores dependendo do seu problema.\n",
        "    * Por exemplo, TreeClassifier para um problema de classificação. \n",
        "    * Use cross-validation e outras técnicas como GridSearch e ou RandomizedSearch para encontrar os melhores parametros para o seu modelo.\n"
      ]
    },
    {
      "cell_type": "code",
      "metadata": {
        "id": "L2jaNcFnzkaJ",
        "colab_type": "code",
        "colab": {}
      },
      "source": [
        ""
      ],
      "execution_count": null,
      "outputs": []
    },
    {
      "cell_type": "markdown",
      "metadata": {
        "id": "TExXJPSgzkb3",
        "colab_type": "text"
      },
      "source": [
        "6. **Apresente (com visualizações) os resultados do seu modelo mostrando que ele é melhor do que um baseline não aleatório.**\n",
        "    * Para o baseline, você pode escolher um modelo bem trivial mas não aleatório. Por exemplo, para um problema de classificação um baseline pode ser a classe mais presente caso o conjunto de dados seja desbalanceado.  Um modelo mais simples também pode ser utilizado como baseline, por exemplo, você escolheu um Random Forest Classifier, e comparou os resultados um Logistic Regression. Você pode até mesmo escolher um modelo de AutoML(como TPOT) como Baseline."
      ]
    },
    {
      "cell_type": "code",
      "metadata": {
        "id": "h4Rzjgauzkb8",
        "colab_type": "code",
        "colab": {}
      },
      "source": [
        ""
      ],
      "execution_count": null,
      "outputs": []
    },
    {
      "cell_type": "markdown",
      "metadata": {
        "id": "g5qMrhL-zkcL",
        "colab_type": "text"
      },
      "source": [
        "### 6) Conclusões **10%**"
      ]
    },
    {
      "cell_type": "markdown",
      "metadata": {
        "id": "BIA2bbNUzkcO",
        "colab_type": "text"
      },
      "source": [
        "*Partindo das suas hipoteses e investigações, o que você consegue concluir? Suas hipoteses se concretizaram?*"
      ]
    },
    {
      "cell_type": "markdown",
      "metadata": {
        "id": "CBW0AptvzkcS",
        "colab_type": "text"
      },
      "source": [
        ""
      ]
    }
  ]
}