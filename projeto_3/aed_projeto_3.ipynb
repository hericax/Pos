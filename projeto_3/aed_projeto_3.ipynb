{
 "cells": [
  {
   "cell_type": "markdown",
   "metadata": {},
   "source": [
    "# Projeto #3 - Meu primeiro projeto de IA\n",
    "\n",
    "Antes de começar, leia as [Instruções](https://github.com/thvmm/pos-ds-ia/blob/master/projeto_3/README.md) e os [Critérios de Avaliação](https://github.com/thvmm/pos-ds-ia/blob/master/projeto_3/README.md).\n"
   ]
  },
  {
   "cell_type": "markdown",
   "metadata": {},
   "source": [
    "### 1) **(5%)** Qual a base escolhida e qual seu interesse nela (podem ser mais de uma)? Descrição básica do conjunto de dados escolhido pelo aluno (1 parágrafo)."
   ]
  },
  {
   "cell_type": "markdown",
   "metadata": {},
   "source": [
    "*Indique o link da base no Kaggle e explique em um parágrafo curto por que essa base é interessante para você. Quais são as características básicas da base?*\n",
    "\n",
    "Ex: Estou trabalhando com o histório de vendas de um varejo e uma outra base do mesmo varejista das suas campanhas de marketing realizadas em veiculos de comunicação."
   ]
  },
  {
   "cell_type": "code",
   "execution_count": null,
   "metadata": {},
   "outputs": [],
   "source": [
    "A base escolhida é de filmes - https://www.kaggle.com/rounakbanik/the-movies-dataset \n",
    "A base contém informações sobre 45.000 filmes em destaque no conjunto de dados Full MovieLens."
   ]
  },
  {
   "cell_type": "markdown",
   "metadata": {},
   "source": [
    "### 2) **(5%)** Que tipo de problema podemos solucionar com ela? Liste ao menos 3 hipóteses sobre seus dados, caso sua base seja muito restrita converse com os professores antes de seguir.\n",
    "- Quais são suas hipoteses sobre os dados? O que vc espera descobrir com esse estudo?\n",
    "\n",
    "Ex: Hipoteses válidas seriam:\n",
    "- As pessoas fazem mais compras nos dias utéis ou finais de semana?\n",
    "- Existe diferença entre o padrão de compra de segunda ou terça feira?\n",
    "- O horário de pico influencia no padrão de compra dos clientes?\n",
    "- Quais produtos são comprados mais juntos? Existe diferença se observarmos a idade do cliente?\n",
    "- Qual o efeito de uma campanha de marketing nas vendas?\n"
   ]
  },
  {
   "cell_type": "code",
   "execution_count": null,
   "metadata": {},
   "outputs": [],
   "source": [
    "1 - Quais são os gêneros de filmes melhor avaliados?\n",
    "2 - Existe relação dos filmes mais bem avaliados para a empresa que o produziu?\n",
    "3 - Há influência dos idiomas disponíveis no filmes na avaliação dos filmes?\n",
    "4 - Tem relação de custo de produção do filme com as melhores avaliações?"
   ]
  },
  {
   "cell_type": "markdown",
   "metadata": {},
   "source": [
    "### 3) **(20%)** Preparação de dados\n",
    "\n",
    "Hora de deixar a base perfeita para se trabalhar. Limpe os dados, integre com outras fontes e transforme-o para ficar pronto para se trabalhar! No fim, mostre um antes e depois de seu dataframe."
   ]
  },
  {
   "cell_type": "code",
   "execution_count": null,
   "metadata": {},
   "outputs": [],
   "source": [
    "# Implemente sua análise aqui. Use mais blocos se achar que ficará mais organizado."
   ]
  },
  {
   "cell_type": "code",
   "execution_count": 1,
   "metadata": {},
   "outputs": [],
   "source": [
    "# importando as bibliotecas utilizadas no projeto\n",
    "import pandas as pd\n",
    "import numpy as np \n",
    "import matplotlib.pyplot as plt"
   ]
  },
  {
   "cell_type": "code",
   "execution_count": 2,
   "metadata": {},
   "outputs": [],
   "source": [
    "# Leitura do dataset\n",
    "df = pd.read_csv('C:/Users/Herica/Desktop/Herica/cursoIACD/bases/filmes/movies_metadata.csv')\n",
    "filmes = df"
   ]
  },
  {
   "cell_type": "code",
   "execution_count": 38,
   "metadata": {},
   "outputs": [
    {
     "output_type": "execute_result",
     "data": {
      "text/plain": "  adulto    despesas                                             genero  \\\n0  False  30000000.0  [{'id': 16, 'name': 'Animation'}, {'id': 35, '...   \n1  False  65000000.0  [{'id': 12, 'name': 'Adventure'}, {'id': 14, '...   \n2  False         0.0  [{'id': 10749, 'name': 'Romance'}, {'id': 35, ...   \n\n      id    imdb_id lingua_original   titulo_original  \\\n0    862  tt0114709              en         Toy Story   \n1   8844  tt0113497              en           Jumanji   \n2  15602  tt0113228              en  Grumpier Old Men   \n\n                                           descricao  popularidade  \\\n0  Led by Woody, Andy's toys live happily in his ...     21.946943   \n1  When siblings Judy and Peter discover an encha...     17.015539   \n2  A family wedding reignites the ancient feud be...     11.712900   \n\n                                        cia_producao  ... romance  \\\n0     [{'name': 'Pixar Animation Studios', 'id': 3}]  ...   False   \n1  [{'name': 'TriStar Pictures', 'id': 559}, {'na...  ...   False   \n2  [{'name': 'Warner Bros.', 'id': 6194}, {'name'...  ...    True   \n\n  ficcao_cientifica  filmes_tv  suspense  gerra ocidental  \\\n0             False      False     False  False     False   \n1             False      False     False  False     False   \n2             False      False     False  False     False   \n\n           novo_pais_producao novo_idiomas_falados  \\\n0  [United States of America]            [English]   \n1  [United States of America]  [English, Français]   \n2  [United States of America]            [English]   \n\n                                   novo_cia_producao  ano_lancamento  \n0                          [Pixar Animation Studios]            1995  \n1  [TriStar Pictures, Teitler Film, Interscope Co...            1995  \n2                     [Warner Bros., Lancaster Gate]            1995  \n\n[3 rows x 46 columns]",
      "text/html": "<div>\n<style scoped>\n    .dataframe tbody tr th:only-of-type {\n        vertical-align: middle;\n    }\n\n    .dataframe tbody tr th {\n        vertical-align: top;\n    }\n\n    .dataframe thead th {\n        text-align: right;\n    }\n</style>\n<table border=\"1\" class=\"dataframe\">\n  <thead>\n    <tr style=\"text-align: right;\">\n      <th></th>\n      <th>adulto</th>\n      <th>despesas</th>\n      <th>genero</th>\n      <th>id</th>\n      <th>imdb_id</th>\n      <th>lingua_original</th>\n      <th>titulo_original</th>\n      <th>descricao</th>\n      <th>popularidade</th>\n      <th>cia_producao</th>\n      <th>...</th>\n      <th>romance</th>\n      <th>ficcao_cientifica</th>\n      <th>filmes_tv</th>\n      <th>suspense</th>\n      <th>gerra</th>\n      <th>ocidental</th>\n      <th>novo_pais_producao</th>\n      <th>novo_idiomas_falados</th>\n      <th>novo_cia_producao</th>\n      <th>ano_lancamento</th>\n    </tr>\n  </thead>\n  <tbody>\n    <tr>\n      <th>0</th>\n      <td>False</td>\n      <td>30000000.0</td>\n      <td>[{'id': 16, 'name': 'Animation'}, {'id': 35, '...</td>\n      <td>862</td>\n      <td>tt0114709</td>\n      <td>en</td>\n      <td>Toy Story</td>\n      <td>Led by Woody, Andy's toys live happily in his ...</td>\n      <td>21.946943</td>\n      <td>[{'name': 'Pixar Animation Studios', 'id': 3}]</td>\n      <td>...</td>\n      <td>False</td>\n      <td>False</td>\n      <td>False</td>\n      <td>False</td>\n      <td>False</td>\n      <td>False</td>\n      <td>[United States of America]</td>\n      <td>[English]</td>\n      <td>[Pixar Animation Studios]</td>\n      <td>1995</td>\n    </tr>\n    <tr>\n      <th>1</th>\n      <td>False</td>\n      <td>65000000.0</td>\n      <td>[{'id': 12, 'name': 'Adventure'}, {'id': 14, '...</td>\n      <td>8844</td>\n      <td>tt0113497</td>\n      <td>en</td>\n      <td>Jumanji</td>\n      <td>When siblings Judy and Peter discover an encha...</td>\n      <td>17.015539</td>\n      <td>[{'name': 'TriStar Pictures', 'id': 559}, {'na...</td>\n      <td>...</td>\n      <td>False</td>\n      <td>False</td>\n      <td>False</td>\n      <td>False</td>\n      <td>False</td>\n      <td>False</td>\n      <td>[United States of America]</td>\n      <td>[English, Français]</td>\n      <td>[TriStar Pictures, Teitler Film, Interscope Co...</td>\n      <td>1995</td>\n    </tr>\n    <tr>\n      <th>2</th>\n      <td>False</td>\n      <td>0.0</td>\n      <td>[{'id': 10749, 'name': 'Romance'}, {'id': 35, ...</td>\n      <td>15602</td>\n      <td>tt0113228</td>\n      <td>en</td>\n      <td>Grumpier Old Men</td>\n      <td>A family wedding reignites the ancient feud be...</td>\n      <td>11.712900</td>\n      <td>[{'name': 'Warner Bros.', 'id': 6194}, {'name'...</td>\n      <td>...</td>\n      <td>True</td>\n      <td>False</td>\n      <td>False</td>\n      <td>False</td>\n      <td>False</td>\n      <td>False</td>\n      <td>[United States of America]</td>\n      <td>[English]</td>\n      <td>[Warner Bros., Lancaster Gate]</td>\n      <td>1995</td>\n    </tr>\n  </tbody>\n</table>\n<p>3 rows × 46 columns</p>\n</div>"
     },
     "metadata": {},
     "execution_count": 38
    }
   ],
   "source": [
    "# Pré-visaulização do dataset\n",
    "filmes.head(3)"
   ]
  },
  {
   "cell_type": "code",
   "execution_count": null,
   "metadata": {},
   "outputs": [],
   "source": [
    "# tamanho da nossa base\n",
    "print('Número de linhas e número de colunas:', filmes.shape)"
   ]
  },
  {
   "cell_type": "code",
   "execution_count": null,
   "metadata": {},
   "outputs": [],
   "source": [
    "filmes.describe()"
   ]
  },
  {
   "cell_type": "code",
   "execution_count": null,
   "metadata": {},
   "outputs": [],
   "source": [
    "filmes.dtypes"
   ]
  },
  {
   "cell_type": "code",
   "execution_count": null,
   "metadata": {},
   "outputs": [],
   "source": [
    "# --------------------------- TRATAMENTO DE DADOS NULOS ---------------------"
   ]
  },
  {
   "cell_type": "code",
   "execution_count": null,
   "metadata": {},
   "outputs": [],
   "source": [
    "filmes.isnull().sum()"
   ]
  },
  {
   "cell_type": "code",
   "execution_count": null,
   "metadata": {},
   "outputs": [],
   "source": [
    "# PERCENTUAL DE ELEMENTOS NULOS\n",
    "round(filmes.isnull().mean() * 100,2)"
   ]
  },
  {
   "cell_type": "code",
   "execution_count": 3,
   "metadata": {},
   "outputs": [],
   "source": [
    "#dropar colunas consideradas irrelevantes na primeira análise ou que possuem muitos valores nulos\n",
    "filmes.drop(['belongs_to_collection'],axis = 1, inplace = True)\n",
    "filmes.drop(['homepage'],axis = 1, inplace = True)\n",
    "filmes.drop(['poster_path'],axis = 1, inplace = True)     \n",
    "filmes.drop(['tagline'],axis = 1, inplace = True)     "
   ]
  },
  {
   "cell_type": "code",
   "execution_count": 4,
   "metadata": {},
   "outputs": [],
   "source": [
    "# REMOVE ELEMENTOS QUE POSSUEM DADOS NULOS\n",
    "filmes = filmes.dropna()"
   ]
  },
  {
   "cell_type": "code",
   "execution_count": 5,
   "metadata": {},
   "outputs": [],
   "source": [
    "# resetando os índices\n",
    "filmes = filmes.reset_index()"
   ]
  },
  {
   "cell_type": "code",
   "execution_count": null,
   "metadata": {},
   "outputs": [],
   "source": [
    "# validando se ainda há registros nulos\n",
    "filmes.isnull().sum()"
   ]
  },
  {
   "cell_type": "code",
   "execution_count": null,
   "metadata": {},
   "outputs": [],
   "source": [
    "# tamanho da base após exclusão de features e registros nulos\n",
    "print('Número de linhas e número de colunas:', filmes.shape)"
   ]
  },
  {
   "cell_type": "code",
   "execution_count": 6,
   "metadata": {},
   "outputs": [],
   "source": [
    "# TRANSFORMANDO A FEATURE \"adult\" EM BINÁRIO, ONDE 'True' = 0 (classificação livre) e 'False' = 1 (são somente para adultos)\n",
    "filmes[\"classificacao\"] = filmes[\"adult\"].apply(lambda x: 1 if x == \"False\" else 0)"
   ]
  },
  {
   "cell_type": "code",
   "execution_count": 7,
   "metadata": {},
   "outputs": [
    {
     "output_type": "execute_result",
     "data": {
      "text/plain": "   classificacao  adult    original_title\n0              1  False         Toy Story\n1              1  False           Jumanji\n2              1  False  Grumpier Old Men",
      "text/html": "<div>\n<style scoped>\n    .dataframe tbody tr th:only-of-type {\n        vertical-align: middle;\n    }\n\n    .dataframe tbody tr th {\n        vertical-align: top;\n    }\n\n    .dataframe thead th {\n        text-align: right;\n    }\n</style>\n<table border=\"1\" class=\"dataframe\">\n  <thead>\n    <tr style=\"text-align: right;\">\n      <th></th>\n      <th>classificacao</th>\n      <th>adult</th>\n      <th>original_title</th>\n    </tr>\n  </thead>\n  <tbody>\n    <tr>\n      <th>0</th>\n      <td>1</td>\n      <td>False</td>\n      <td>Toy Story</td>\n    </tr>\n    <tr>\n      <th>1</th>\n      <td>1</td>\n      <td>False</td>\n      <td>Jumanji</td>\n    </tr>\n    <tr>\n      <th>2</th>\n      <td>1</td>\n      <td>False</td>\n      <td>Grumpier Old Men</td>\n    </tr>\n  </tbody>\n</table>\n</div>"
     },
     "metadata": {},
     "execution_count": 7
    }
   ],
   "source": [
    "# VALIDANDO TRANSFORMAÇÃO da feature \"adult\"\n",
    "filmes[[\"classificacao\", \"adult\",\"original_title\"]].head(3)"
   ]
  },
  {
   "cell_type": "code",
   "execution_count": 8,
   "metadata": {},
   "outputs": [],
   "source": [
    "# -------------------- RENOMEANDO AS FEATURES --------------------------\n",
    "# renomear as coluna e usar todas com caixa baixa para padronizar\n",
    "filmes = filmes.rename(columns={'adult': \"adulto\", 'budget': 'despesas', 'genres': 'genero', 'original_language': 'lingua_original', 'original_title': 'titulo_original', 'overview': 'descricao', 'popularity': 'popularidade', 'production_companies': 'cia_producao', 'production_countries': 'pais_producao', 'release_date': 'data_lancamento', 'revenue': 'receita', 'runtime': 'duracao', 'spoken_languages': 'idiomas_falados', 'title': 'titulo', 'vote_average': 'media_votos', 'vote_count': 'qtde_votos','video': 'video'})"
   ]
  },
  {
   "cell_type": "code",
   "execution_count": null,
   "metadata": {},
   "outputs": [],
   "source": [
    "# ------------- Transformar as features que são um dicionário em uma lista --------------"
   ]
  },
  {
   "cell_type": "code",
   "execution_count": 9,
   "metadata": {},
   "outputs": [],
   "source": [
    "# feature genero\n",
    "\n",
    "\n",
    "# Recupera os dados da feature e salva numa nova coluna\n",
    "from ast import literal_eval\n",
    "filmes['genero'] = filmes['genero'].apply(literal_eval) # verifica se todos os dados são do mesmo tipo\n",
    "#Função para pegar os nomes dos gêneros, caso exista.\n",
    "def get_list(x):\n",
    "    if isinstance(x, list):\n",
    "        names = [i['name'] for i in x]\n",
    "        if len(names) > 3:\n",
    "            names = names[:3]\n",
    "        return names\n",
    "    return []\n",
    "filmes['novo_genero'] = filmes['genero'].apply(get_list) #O retorno será uma lista com todos os gêneros. quando coloco uma coluna que não existe, ele cria a coluna automaticamente"
   ]
  },
  {
   "cell_type": "code",
   "execution_count": null,
   "metadata": {},
   "outputs": [],
   "source": [
    "# VALIDANDO TRANSFORMAÇÃO\n",
    "filmes[[\"novo_genero\", \"genero\", \"titulo_original\"]].head(3)"
   ]
  },
  {
   "cell_type": "code",
   "execution_count": null,
   "metadata": {},
   "outputs": [],
   "source": [
    "# Criar uma lista que contenha somente valores únicos de gênero, para idêntificá-los e contabilizá-los\n",
    "todos_registros = len(filmes.novo_genero)        \n",
    "generos_unicos = [] # lista onde será incluídos os gêneros únicos\n",
    "x = 0 \n",
    "#print ('total de registros do dataset: ', todos_registros)\n",
    "while (x < todos_registros): # enquanto tiver registros no dataset\n",
    "    #print (\"x:\", x)\n",
    "    generos = filmes.novo_genero[x]\n",
    "    #print (\"P/ x = {} todos os generos são {}:\".format(x,generos))\n",
    "    tam_generos = len(generos)\n",
    "    #print (\"tam_generos: \", tam_generos)\n",
    "    i = z = 0\n",
    "    while (i < tam_generos): # enquanto o registro tiver generos\n",
    "        cada_genero_registo = filmes.novo_genero[x][i]\n",
    "        #print (\"Para x = {} e i = {} os genero é {} \". format(x, i ,cada_genero_registo))\n",
    "        if (not cada_genero_registo in generos_unicos): # verifica se o genero está na lista de generos únicos\n",
    "            generos_unicos.append(cada_genero_registo) # inclui o genero na lista de generos únicos\n",
    "            #print (\"lista com os generos únicos\", generos_unicos)\n",
    "            z +=1\n",
    "        i += 1        \n",
    "    x += 1\n",
    "\n",
    "\n",
    "print (\"generos únicos: \", len(generos_unicos))\n",
    "print (generos_unicos)"
   ]
  },
  {
   "cell_type": "code",
   "execution_count": 10,
   "metadata": {},
   "outputs": [],
   "source": [
    "# transformar as opções possíveis de genero em features com conteúdo true ou false \n",
    "from mlxtend.preprocessing import TransactionEncoder\n",
    "from mlxtend.frequent_patterns import apriori\n",
    "te = TransactionEncoder()\n",
    "genero_x = te.fit(filmes.novo_genero).transform(filmes.novo_genero)\n",
    "df_novo = pd.DataFrame(genero_x, columns=te.columns_)"
   ]
  },
  {
   "cell_type": "code",
   "execution_count": null,
   "metadata": {},
   "outputs": [],
   "source": [
    "df_novo.head(1)"
   ]
  },
  {
   "cell_type": "code",
   "execution_count": 11,
   "metadata": {},
   "outputs": [],
   "source": [
    "# resetando os índices\n",
    "df_novo = df_novo.reset_index()\n",
    "\n",
    "# Mesclado os dois dataframes\n",
    "horizontal_stack = pd.concat([filmes, df_novo], axis=1)"
   ]
  },
  {
   "cell_type": "code",
   "execution_count": 12,
   "metadata": {},
   "outputs": [],
   "source": [
    "# copiando o conteúdo do novo dataframe para o filme utilizado\n",
    "filmes = horizontal_stack.copy()"
   ]
  },
  {
   "cell_type": "code",
   "execution_count": null,
   "metadata": {},
   "outputs": [],
   "source": [
    "# após a transformação do conteúdo da feature genero para novas features, o data set ficou com as seguintes colunas: \n",
    "filmes.columns"
   ]
  },
  {
   "cell_type": "code",
   "execution_count": 13,
   "metadata": {},
   "outputs": [],
   "source": [
    "# renomear as colunas de genero e usar todas com caixa baixa para padronizar\n",
    "filmes = filmes.rename(columns={'Action': \"acao\", 'Adventure': 'aventura', 'Animation': 'animacao', 'Comedy': 'comedia', 'Crime': 'crime', 'Documentary': 'documentario', 'Drama': 'drama', 'Family': 'familia', 'Fantasy': 'fantasia', 'Foreign': 'estrangeiro', 'History': 'historia', 'Horror': 'horror', 'Music': 'musical', 'Mystery': 'misterio', 'Romance': 'romance', 'Science Fiction': 'ficcao_cientifica', 'TV Movie': 'filmes_tv', 'Thriller': 'suspense', 'War': 'gerra', 'Western': 'ocidental'})\n"
   ]
  },
  {
   "cell_type": "code",
   "execution_count": null,
   "metadata": {},
   "outputs": [],
   "source": [
    "# validando a alteração do nome das features\n",
    "filmes.columns"
   ]
  },
  {
   "cell_type": "code",
   "execution_count": null,
   "metadata": {},
   "outputs": [],
   "source": [
    "# Verificando o tamanho da base após a transformação da features de genero\n",
    "print('Número de linhas e número de colunas:', filmes.shape)"
   ]
  },
  {
   "cell_type": "code",
   "execution_count": 14,
   "metadata": {},
   "outputs": [],
   "source": [
    "# Feature pais_producao\n",
    "\n",
    "\n",
    "# Recupera os dados da feature e salva numa nova coluna\n",
    "from ast import literal_eval\n",
    "filmes['pais_producao'] = filmes['pais_producao'].apply(literal_eval) # verifica se todos os dados são do mesmo tipo\n",
    "#Função para pegar os nomes dos gêneros, caso exista.\n",
    "def get_list(x):\n",
    "    if isinstance(x, list):\n",
    "        names = [i['name'] for i in x]\n",
    "        if len(names) > 3:\n",
    "            names = names[:3]\n",
    "        return names\n",
    "    return []\n",
    "filmes['novo_pais_producao'] = filmes['pais_producao'].apply(get_list) #O retorno será uma lista com todos os gêneros. quando coloco uma coluna que não existe, ele cria a coluna automaticamente"
   ]
  },
  {
   "cell_type": "code",
   "execution_count": null,
   "metadata": {},
   "outputs": [],
   "source": [
    "# VALIDANDO TRANSFORMAÇÃO\n",
    "filmes[[\"novo_pais_producao\", \"pais_producao\", \"titulo_original\"]].head(3)"
   ]
  },
  {
   "cell_type": "code",
   "execution_count": null,
   "metadata": {},
   "outputs": [],
   "source": [
    "# Criar uma lista que contenha somente valores únicos do pais de produção, para idêntificá-los e contabilizá-los\n",
    "todos_registros = len(filmes.novo_pais_producao)        \n",
    "pais_producao_unicos = [] # lista onde será incluídos os países de produção únicos\n",
    "x = 0 \n",
    "print ('total de registros do dataset: ', todos_registros)\n",
    "while (x < todos_registros): # enquanto tiver registros no dataset\n",
    "    pais = filmes.novo_pais_producao[x]\n",
    "    tam_pais = len(pais)\n",
    "    i = z = 0\n",
    "    while (i < tam_pais): # enquanto o registro tiver paises de produção\n",
    "        cada_pais_registo = filmes.novo_pais_producao[x][i]\n",
    "        if (not cada_pais_registo in pais_producao_unicos): # verifica se o pais de produção está na lista de paises únicos\n",
    "            pais_producao_unicos.append(cada_pais_registo) # inclui o pais na lista de paises únicos\n",
    "            z +=1\n",
    "        i += 1        \n",
    "    x += 1\n",
    "\n",
    "print (\"pais_producao_unicos: \", len(pais_producao_unicos))\n",
    "print (pais_producao_unicos)"
   ]
  },
  {
   "cell_type": "code",
   "execution_count": 15,
   "metadata": {},
   "outputs": [],
   "source": [
    "# Feature idiomas_falados\n",
    "\n",
    "# Recupera os dados da feature e salva numa nova coluna\n",
    "from ast import literal_eval\n",
    "filmes['idiomas_falados'] = filmes['idiomas_falados'].apply(literal_eval) \n",
    "def get_list(x):\n",
    "    if isinstance(x, list):\n",
    "        names = [i['name'] for i in x]\n",
    "        if len(names) > 3:\n",
    "            names = names[:3]\n",
    "        return names\n",
    "    return []\n",
    "filmes['novo_idiomas_falados'] = filmes['idiomas_falados'].apply(get_list) "
   ]
  },
  {
   "cell_type": "code",
   "execution_count": null,
   "metadata": {},
   "outputs": [],
   "source": [
    "# VALIDANDO TRANSFORMAÇÃO\n",
    "filmes[[\"novo_idiomas_falados\", \"idiomas_falados\", \"titulo_original\"]].head(3)"
   ]
  },
  {
   "cell_type": "code",
   "execution_count": null,
   "metadata": {},
   "outputs": [],
   "source": [
    "# Criar uma lista que contenha somente valores únicos de linguas, para idêntificá-los e contabilizá-los\n",
    "# # existem registros com valores '??????' e '?????' (Turkic), estes NÃO ESTÃO SENDO TRATADOS ????????????????????????????????????????????????????????????????????????????????????????????????????? \n",
    "# https://en.wikipedia.org/wiki/List_of_ISO_639-1_codes\n",
    "\n",
    "todos_registros = len(filmes.novo_idiomas_falados)        \n",
    "idiomas_falados_unicos = [] # lista onde será incluídos os linguas únicos\n",
    "x = 0 \n",
    "print ('total de registros do dataset: ', todos_registros)\n",
    "while (x < todos_registros): # enquanto tiver registros no dataset\n",
    "    #print (\"x:\", x)\n",
    "    idiomas = filmes.novo_idiomas_falados[x]\n",
    "    tam_idiomas = len(idiomas)\n",
    "    i = z = b = 0\n",
    "    while (i < tam_idiomas): # enquanto o registro tiver linguas\n",
    "        cada_idioma_registo = filmes.novo_idiomas_falados[x][i]\n",
    "        if (not cada_idioma_registo in idiomas_falados_unicos): # verifica se a lingua está na lista\n",
    "            if (cada_idioma_registo != '??????') and (cada_idioma_registo != '?????'):               \n",
    "                idiomas_falados_unicos.append(cada_idioma_registo) # inclui na lista de linguas unicas\n",
    "            z +=1\n",
    "        i += 1        \n",
    "    x += 1\n",
    "\n",
    "print (\"idiomas_falados_unicos: \", len(idiomas_falados_unicos))\n",
    "print (idiomas_falados_unicos)"
   ]
  },
  {
   "cell_type": "code",
   "execution_count": 16,
   "metadata": {
    "tags": []
   },
   "outputs": [],
   "source": [
    "# Feature cia_producao\n",
    "\n",
    "\n",
    "# Recupera os dados da feature e salva numa nova coluna\n",
    "from ast import literal_eval\n",
    "filmes['cia_producao'] = filmes['cia_producao'].apply(literal_eval) \n",
    "def get_list(x):\n",
    "    if isinstance(x, list):\n",
    "        names = [i['name'] for i in x]\n",
    "        if len(names) > 3:\n",
    "            names = names[:3]\n",
    "        return names\n",
    "    return []\n",
    "filmes['novo_cia_producao'] = filmes['cia_producao'].apply(get_list) \n"
   ]
  },
  {
   "cell_type": "code",
   "execution_count": null,
   "metadata": {},
   "outputs": [],
   "source": [
    "# VALIDANDO TRANSFORMAÇÃO\n",
    "filmes[[\"novo_cia_producao\", \"cia_producao\", \"titulo_original\"]].head(3)"
   ]
  },
  {
   "cell_type": "code",
   "execution_count": null,
   "metadata": {
    "tags": [
     "outputPrepend"
    ]
   },
   "outputs": [],
   "source": [
    "# Criar uma lista que contenha somente valores únicos de cia, para idêntificá-los e contabilizá-los\n",
    "todos_registros = len(filmes.novo_cia_producao)        \n",
    "cia_unicos = [] # lista onde será incluídos os cia únicos\n",
    "x = 0 \n",
    "print ('total de registros do dataset: ', todos_registros)\n",
    "while (x < todos_registros):\n",
    "    cia = filmes.novo_cia_producao[x]\n",
    "    tam_cia = len(cia)\n",
    "    i = z = b = 0\n",
    "    while (i < tam_cia): \n",
    "        cada_cia_registo = filmes.novo_cia_producao[x][i]\n",
    "        if (not cada_cia_registo in cia_unicos):      \n",
    "            cia_unicos.append(cada_cia_registo) \n",
    "            z +=1\n",
    "        i += 1        \n",
    "    x += 1\n",
    "\n",
    "print (\"cia_unicos: \", len(cia_unicos))\n",
    "#print (cia_unicos)"
   ]
  },
  {
   "cell_type": "code",
   "execution_count": null,
   "metadata": {},
   "outputs": [],
   "source": [
    "# verificando os valores da feature status\n",
    "filmes.status.unique()"
   ]
  },
  {
   "cell_type": "code",
   "execution_count": 17,
   "metadata": {},
   "outputs": [
    {
     "output_type": "execute_result",
     "data": {
      "text/plain": "  data_lancamento ano_lancamento\n0      1995-10-30           1995\n1      1995-12-15           1995",
      "text/html": "<div>\n<style scoped>\n    .dataframe tbody tr th:only-of-type {\n        vertical-align: middle;\n    }\n\n    .dataframe tbody tr th {\n        vertical-align: top;\n    }\n\n    .dataframe thead th {\n        text-align: right;\n    }\n</style>\n<table border=\"1\" class=\"dataframe\">\n  <thead>\n    <tr style=\"text-align: right;\">\n      <th></th>\n      <th>data_lancamento</th>\n      <th>ano_lancamento</th>\n    </tr>\n  </thead>\n  <tbody>\n    <tr>\n      <th>0</th>\n      <td>1995-10-30</td>\n      <td>1995</td>\n    </tr>\n    <tr>\n      <th>1</th>\n      <td>1995-12-15</td>\n      <td>1995</td>\n    </tr>\n  </tbody>\n</table>\n</div>"
     },
     "metadata": {},
     "execution_count": 17
    }
   ],
   "source": [
    "# Converter a data de lançamento para ter somente o ano\n",
    "data = filmes['data_lancamento'] # se o resultado for uma lista das datas do banco\n",
    "ano = [a.split('-')[0] for a in data]\n",
    "filmes['ano_lancamento'] = ano\n",
    "\n",
    "# validando a transformação\n",
    "filmes[['data_lancamento','ano_lancamento']].head(2)"
   ]
  },
  {
   "cell_type": "code",
   "execution_count": null,
   "metadata": {},
   "outputs": [],
   "source": [
    "# validando se ainda há registros nulos\n",
    "filmes.isnull().sum()"
   ]
  },
  {
   "cell_type": "code",
   "execution_count": null,
   "metadata": {},
   "outputs": [],
   "source": [
    "# ------------------- ALTERAÇÃO DO TIPOS DAS FEATURES ---------------"
   ]
  },
  {
   "cell_type": "code",
   "execution_count": null,
   "metadata": {},
   "outputs": [],
   "source": [
    "filmes.dtypes"
   ]
  },
  {
   "cell_type": "code",
   "execution_count": 18,
   "metadata": {},
   "outputs": [],
   "source": [
    "# converter variáveis object para categoricas\n",
    "filmes.adulto = filmes.adulto.astype('category')\n",
    "filmes.titulo_original = filmes.titulo_original.astype('category')\n",
    "filmes.status = filmes.status.astype('category')\n",
    "filmes.titulo = filmes.titulo.astype('category')"
   ]
  },
  {
   "cell_type": "code",
   "execution_count": 19,
   "metadata": {},
   "outputs": [],
   "source": [
    "# converter variáveis objecto para float ou inteiro\n",
    "filmes.popularidade = filmes.popularidade.astype('float64')\n",
    "filmes.despesas = filmes.despesas.astype('float64')\n",
    "filmes.receita = filmes.receita.astype('float64')\n",
    "filmes.qtde_votos = filmes.qtde_votos.astype('int64')\n",
    "filmes.id = filmes.id.astype('int64')\n",
    "filmes.ano_lancamento = filmes.ano_lancamento.astype('int64')"
   ]
  },
  {
   "cell_type": "code",
   "execution_count": 20,
   "metadata": {},
   "outputs": [],
   "source": [
    "# o dataset está com duas colunas index. Ambas serão excluídas\n",
    "filmes.drop(['index'],axis = 1, inplace = True)"
   ]
  },
  {
   "cell_type": "code",
   "execution_count": null,
   "metadata": {},
   "outputs": [],
   "source": [
    "filmes.dtypes"
   ]
  },
  {
   "cell_type": "code",
   "execution_count": null,
   "metadata": {},
   "outputs": [],
   "source": [
    "# ------------------------ DESCRIÇÃO DAS FEATURES --------------------\n",
    "# descrição das features\n",
    "'adulto' - se o filme é para adulto ou não \n",
    "'despesas' - valor gasto na produção e divulgação dos vídeos\n",
    "'genero' - qual é o gêncero do filme.\n",
    "'id' - número que identifica o filme\n",
    "'imdb_id' - número unico que identifica o filme na base do imdb\n",
    "'lingua_original' - qual é o idioma original do filme. \n",
    "'titulo_original' - titulo original do filme\n",
    "'descricao' - descrição do filme\n",
    "'popularidade' - qual é a popularidade do filme\n",
    "'cia_producao' - qual foi a companhia que produziu o filme. \n",
    "'pais_producao' - qual foi o país que produziu o filme.\n",
    "'data_lancamento' - qual foi a data de lançamento do filme\n",
    "'receita' -  qual foi a receita obtida com o filme\n",
    "'duracao' - qual é a duração do filme em minutos\n",
    "'idiomas_falados' - quais são os idiomas falados no filme. \n",
    "'status' - status do filmes. \n",
    "'slogan' - qual é o slogan do filme.\n",
    "'titulo' - qual é o título do filme\n",
    "'video' - se tem o video ou não do traile ????????? precisa desta feature ?????\n",
    "'media_votos' - qual é a média de votos dada pelos usuários\n",
    "'qtde_votos' - qual foi a quantidade de votos\n",
    "\n",
    "# Tipos de features e seus possíveis valores\n",
    "A) Variáveis categóricas - O dataset contém 8 variáveis:\n",
    "1 - adulto - contém dois valores: 'false' = 1, 'true' = 0\n",
    "2 - genero -  contém 29 valores possíveis. Cada registro foi transformado em feature\n",
    "3 - lingua_original -possui 90 valores possíveis.\n",
    "4 - cia_producao   - possui 19368 valores possíveis.\n",
    "5 - pais_producao  - 155 valores possíveis.\n",
    "6 - idiomas_falado - 73 valores possíveis.\n",
    "7 - status - 'Released', nan, 'Rumored', 'Post Production', 'In Production', 'Planned', 'Canceled'          \n",
    "8 - video - False, True, nan\n",
    "9 - novo_genero \n",
    "10 - novo_pais_producao\n",
    "11 - novo_idiomas_falados\n",
    "12 - novo_cia_producao\n",
    "\n",
    "B) Variáveis discretas - O dataset contém 13 variáveis: \n",
    "despesas, id, imdb_id, titulo_original, descricao,data_lancamento,popularidade,  \n",
    "receita, duracao(minutos), slogan, titulo, media_votos, qtde_votos          "
   ]
  },
  {
   "cell_type": "code",
   "execution_count": null,
   "metadata": {},
   "outputs": [],
   "source": [
    "# Tamanho final da base após o tratamento dos dados/features\n",
    "print('Número de linhas e número de colunas:', filmes.shape)"
   ]
  },
  {
   "cell_type": "code",
   "execution_count": null,
   "metadata": {},
   "outputs": [],
   "source": [
    "filmes.columns"
   ]
  },
  {
   "cell_type": "code",
   "execution_count": null,
   "metadata": {},
   "outputs": [],
   "source": [
    "### SE DER TEMPO, VOU TRABALHAR ESTE CAMPO E RODAR UM ALGORITMO QUE TRATE CAMPO TEXTO\n",
    "filmes['descricao'].describe()"
   ]
  },
  {
   "cell_type": "code",
   "execution_count": null,
   "metadata": {},
   "outputs": [],
   "source": [
    "filmes"
   ]
  },
  {
   "cell_type": "code",
   "execution_count": null,
   "metadata": {},
   "outputs": [],
   "source": [
    "# No trabalho serão utilizadas as features: \n",
    "        'despesas', 'lingua_original',\n",
    "       'titulo_original', 'descricao', 'popularidade', 'receita', 'duracao',\n",
    "        'status', 'titulo', 'video', 'media_votos',\n",
    "       'qtde_votos', 'classificacao', 'acao', 'aventura',\n",
    "       'animacao', 'comedia', 'crime', 'documentario', 'drama', 'familia',\n",
    "       'fantasia', 'estrangeiro', 'historia', 'horror', 'musical', 'misterio',\n",
    "       'romance', 'ficcao_cientifica', 'filmes_tv', 'suspense', 'gerra',\n",
    "       'ocidental', 'novo_pais_producao', 'novo_idiomas_falados',\n",
    "       'novo_cia_producao', 'ano_lancamento'\n",
    "\n",
    "#a feature 'titulo_original' não será utilizada no trabalho pois o conteúdo é similar a da 'titulo'."
   ]
  },
  {
   "cell_type": "code",
   "execution_count": 21,
   "metadata": {},
   "outputs": [],
   "source": [
    "# seleção das features que serão utilizada. Foram ordenadas de forma mais intuitiva\n",
    "dataset = filmes[['titulo', 'ano_lancamento', 'lingua_original', 'despesas', \n",
    "        'descricao', 'popularidade', 'receita', 'duracao', 'status', 'video', 'classificacao', \n",
    "         'novo_pais_producao', 'novo_idiomas_falados','novo_cia_producao',\n",
    "        'acao', 'aventura', 'animacao', 'comedia', 'crime', 'documentario', 'drama', 'familia',\n",
    "       'fantasia', 'estrangeiro', 'historia', 'horror', 'musical', 'misterio',\n",
    "       'romance', 'ficcao_cientifica', 'filmes_tv', 'suspense', 'gerra',\n",
    "       'ocidental','qtde_votos', 'media_votos']]"
   ]
  },
  {
   "cell_type": "code",
   "execution_count": null,
   "metadata": {},
   "outputs": [],
   "source": [
    "# validando as features que serão utilizadas\n",
    "dataset.head(1)"
   ]
  },
  {
   "cell_type": "code",
   "execution_count": null,
   "metadata": {},
   "outputs": [],
   "source": [
    "# Tamanho da base que será utilizada nos algoritmos\n",
    "print('Número de linhas e número de colunas:', dataset.shape)"
   ]
  },
  {
   "cell_type": "markdown",
   "metadata": {},
   "source": [
    "### 4) **(30%)** Análise\n",
    "\n",
    "Com seu dado pronto, é hora de fazer a parte mais legal: investigar e responder nossas hipoteses. Elas se confirmam? Em quais cenários? Existe alguma forma de perceber isso no mundo real? Dica: Abuse das técnicas de visualização.\n",
    "\n",
    "Ex: Ainda no contexto dos exemplos do item 2). Ao investigar a hipotese relacionada ao padrão de compra, percebi que em todos os meses existia uma diferença entre dia util e final de semana. Porém notei que Fevereiro possui um comportamento diferente, o que poderia explicar? Talvez o carnaval e seus feriados.\n",
    "\n",
    "Ex2: Talvez eu descubra que alguns finais de semana possuam um comportamento diferente dos dias de semana e outros não. Por que não são todos? Nessa investigação você pode acabar descobrindo que os finais de semana que são diferentes, coincidem no fato de serem os primeiros dias utéis, o que pode remeter ao fato de boa parte das empresas realizarem pagamentos nessa parte do mês."
   ]
  },
  {
   "cell_type": "code",
   "execution_count": null,
   "metadata": {},
   "outputs": [],
   "source": [
    "# Implemente sua análise aqui. Use mais blocos se achar que ficará mais organizado."
   ]
  },
  {
   "cell_type": "code",
   "execution_count": null,
   "metadata": {},
   "outputs": [],
   "source": [
    "# ----------------- avaliando algumas da feature discreta ------------------------\n"
   ]
  },
  {
   "cell_type": "code",
   "execution_count": null,
   "metadata": {},
   "outputs": [],
   "source": [
    "############## lingua_original #############\n",
    "# qual é a linuga original do filme que mais aparece nos filmes do dataset?\n",
    "dataset.lingua_original.describe()"
   ]
  },
  {
   "cell_type": "code",
   "execution_count": null,
   "metadata": {},
   "outputs": [],
   "source": [
    "dataset.groupby(by='lingua_original').size().sort_values(ascending = False).head(10)"
   ]
  },
  {
   "cell_type": "code",
   "execution_count": null,
   "metadata": {},
   "outputs": [],
   "source": [
    "# visualizando as 10 linguas mais frequentes\n",
    "dataset.groupby(by='lingua_original').size().sort_values(ascending = False).head(10).plot.bar()\n",
    "\n",
    "plt.rcParams['figure.figsize'] = [15, 5]\n",
    "plt.ylim(0, 35000)\n",
    "\n",
    "plt.xticks(rotation=0)\n",
    "\n",
    "plt.ylabel('Qtde')\n",
    "plt.xlabel('Idioma original')\n",
    "plt.title('Os 10 idiomas originais mais frequentes')"
   ]
  },
  {
   "cell_type": "code",
   "execution_count": null,
   "metadata": {},
   "outputs": [],
   "source": [
    "dataset.groupby(by='lingua_original').size().sort_values(ascending = False).head(10)"
   ]
  },
  {
   "cell_type": "code",
   "execution_count": null,
   "metadata": {},
   "outputs": [],
   "source": [
    "# --------------------------------------------\n",
    "o idioma mais frequente é o inglês(en), com 32062, seguindo do francês(fr) com 2278, japonês (ja) com 1345 e o italiano com 1264.\n",
    "# --------------------------------------------\n"
   ]
  },
  {
   "cell_type": "code",
   "execution_count": null,
   "metadata": {},
   "outputs": [],
   "source": [
    "############## classificacao #############\n",
    "# valores: livre ou adulto\n",
    "# Qual é a classificação mais comum?\n",
    "dataset.classificacao.describe()"
   ]
  },
  {
   "cell_type": "code",
   "execution_count": null,
   "metadata": {},
   "outputs": [],
   "source": [
    "print ('total de classificação livre (1): ', sum(dataset.classificacao == 1), '\\ntotal de classificação adulto (0): ',sum(dataset.classificacao == 0))"
   ]
  },
  {
   "cell_type": "code",
   "execution_count": null,
   "metadata": {},
   "outputs": [],
   "source": [
    "print ('% de classificação livre (1): ', sum(dataset.classificacao == 1) * 100 / len(dataset.classificacao), '\\n% de classificação adulto (0): ',sum(dataset.classificacao == 0) * 100 / len(dataset.classificacao))\n"
   ]
  },
  {
   "cell_type": "code",
   "execution_count": null,
   "metadata": {},
   "outputs": [],
   "source": [
    "print ('% de classificação livre (1): ', round(sum(dataset.classificacao == 1) * 100 / len(dataset.classificacao),3), '\\n% de classificação adulto (0): ',round(sum(dataset.classificacao == 0) * 100 / len(dataset.classificacao),3))\n"
   ]
  },
  {
   "cell_type": "code",
   "execution_count": 22,
   "metadata": {},
   "outputs": [
    {
     "output_type": "display_data",
     "data": {
      "text/plain": "<Figure size 432x288 with 1 Axes>",
      "image/svg+xml": "<?xml version=\"1.0\" encoding=\"utf-8\" standalone=\"no\"?>\r\n<!DOCTYPE svg PUBLIC \"-//W3C//DTD SVG 1.1//EN\"\r\n  \"http://www.w3.org/Graphics/SVG/1.1/DTD/svg11.dtd\">\r\n<!-- Created with matplotlib (https://matplotlib.org/) -->\r\n<svg height=\"277.355625pt\" version=\"1.1\" viewBox=\"0 0 389.135937 277.355625\" width=\"389.135937pt\" xmlns=\"http://www.w3.org/2000/svg\" xmlns:xlink=\"http://www.w3.org/1999/xlink\">\r\n <defs>\r\n  <style type=\"text/css\">\r\n*{stroke-linecap:butt;stroke-linejoin:round;}\r\n  </style>\r\n </defs>\r\n <g id=\"figure_1\">\r\n  <g id=\"patch_1\">\r\n   <path d=\"M 0 277.355625 \r\nL 389.135937 277.355625 \r\nL 389.135937 0 \r\nL 0 0 \r\nz\r\n\" style=\"fill:none;\"/>\r\n  </g>\r\n  <g id=\"axes_1\">\r\n   <g id=\"patch_2\">\r\n    <path d=\"M 47.135938 239.780625 \r\nL 381.935938 239.780625 \r\nL 381.935938 22.340625 \r\nL 47.135938 22.340625 \r\nz\r\n\" style=\"fill:#ffffff;\"/>\r\n   </g>\r\n   <g id=\"patch_3\">\r\n    <path clip-path=\"url(#p3ae70e61d4)\" d=\"M 62.354119 239.780625 \r\nL 197.626847 239.780625 \r\nL 197.626847 32.694911 \r\nL 62.354119 32.694911 \r\nz\r\n\" style=\"fill:#1f77b4;\"/>\r\n   </g>\r\n   <g id=\"patch_4\">\r\n    <path clip-path=\"url(#p3ae70e61d4)\" d=\"M 231.445028 239.780625 \r\nL 366.717756 239.780625 \r\nL 366.717756 239.743343 \r\nL 231.445028 239.743343 \r\nz\r\n\" style=\"fill:#1f77b4;\"/>\r\n   </g>\r\n   <g id=\"matplotlib.axis_1\">\r\n    <g id=\"xtick_1\">\r\n     <g id=\"line2d_1\">\r\n      <defs>\r\n       <path d=\"M 0 0 \r\nL 0 3.5 \r\n\" id=\"m95a436082b\" style=\"stroke:#000000;stroke-width:0.8;\"/>\r\n      </defs>\r\n      <g>\r\n       <use style=\"stroke:#000000;stroke-width:0.8;\" x=\"129.990483\" xlink:href=\"#m95a436082b\" y=\"239.780625\"/>\r\n      </g>\r\n     </g>\r\n     <g id=\"text_1\">\r\n      <!-- Livre -->\r\n      <defs>\r\n       <path d=\"M 9.8125 72.90625 \r\nL 19.671875 72.90625 \r\nL 19.671875 8.296875 \r\nL 55.171875 8.296875 \r\nL 55.171875 0 \r\nL 9.8125 0 \r\nz\r\n\" id=\"DejaVuSans-76\"/>\r\n       <path d=\"M 9.421875 54.6875 \r\nL 18.40625 54.6875 \r\nL 18.40625 0 \r\nL 9.421875 0 \r\nz\r\nM 9.421875 75.984375 \r\nL 18.40625 75.984375 \r\nL 18.40625 64.59375 \r\nL 9.421875 64.59375 \r\nz\r\n\" id=\"DejaVuSans-105\"/>\r\n       <path d=\"M 2.984375 54.6875 \r\nL 12.5 54.6875 \r\nL 29.59375 8.796875 \r\nL 46.6875 54.6875 \r\nL 56.203125 54.6875 \r\nL 35.6875 0 \r\nL 23.484375 0 \r\nz\r\n\" id=\"DejaVuSans-118\"/>\r\n       <path d=\"M 41.109375 46.296875 \r\nQ 39.59375 47.171875 37.8125 47.578125 \r\nQ 36.03125 48 33.890625 48 \r\nQ 26.265625 48 22.1875 43.046875 \r\nQ 18.109375 38.09375 18.109375 28.8125 \r\nL 18.109375 0 \r\nL 9.078125 0 \r\nL 9.078125 54.6875 \r\nL 18.109375 54.6875 \r\nL 18.109375 46.1875 \r\nQ 20.953125 51.171875 25.484375 53.578125 \r\nQ 30.03125 56 36.53125 56 \r\nQ 37.453125 56 38.578125 55.875 \r\nQ 39.703125 55.765625 41.0625 55.515625 \r\nz\r\n\" id=\"DejaVuSans-114\"/>\r\n       <path d=\"M 56.203125 29.59375 \r\nL 56.203125 25.203125 \r\nL 14.890625 25.203125 \r\nQ 15.484375 15.921875 20.484375 11.0625 \r\nQ 25.484375 6.203125 34.421875 6.203125 \r\nQ 39.59375 6.203125 44.453125 7.46875 \r\nQ 49.3125 8.734375 54.109375 11.28125 \r\nL 54.109375 2.78125 \r\nQ 49.265625 0.734375 44.1875 -0.34375 \r\nQ 39.109375 -1.421875 33.890625 -1.421875 \r\nQ 20.796875 -1.421875 13.15625 6.1875 \r\nQ 5.515625 13.8125 5.515625 26.8125 \r\nQ 5.515625 40.234375 12.765625 48.109375 \r\nQ 20.015625 56 32.328125 56 \r\nQ 43.359375 56 49.78125 48.890625 \r\nQ 56.203125 41.796875 56.203125 29.59375 \r\nz\r\nM 47.21875 32.234375 \r\nQ 47.125 39.59375 43.09375 43.984375 \r\nQ 39.0625 48.390625 32.421875 48.390625 \r\nQ 24.90625 48.390625 20.390625 44.140625 \r\nQ 15.875 39.890625 15.1875 32.171875 \r\nz\r\n\" id=\"DejaVuSans-101\"/>\r\n      </defs>\r\n      <g transform=\"translate(117.836577 254.379062)scale(0.1 -0.1)\">\r\n       <use xlink:href=\"#DejaVuSans-76\"/>\r\n       <use x=\"55.712891\" xlink:href=\"#DejaVuSans-105\"/>\r\n       <use x=\"83.496094\" xlink:href=\"#DejaVuSans-118\"/>\r\n       <use x=\"142.675781\" xlink:href=\"#DejaVuSans-114\"/>\r\n       <use x=\"181.539062\" xlink:href=\"#DejaVuSans-101\"/>\r\n      </g>\r\n     </g>\r\n    </g>\r\n    <g id=\"xtick_2\">\r\n     <g id=\"line2d_2\">\r\n      <g>\r\n       <use style=\"stroke:#000000;stroke-width:0.8;\" x=\"299.081392\" xlink:href=\"#m95a436082b\" y=\"239.780625\"/>\r\n      </g>\r\n     </g>\r\n     <g id=\"text_2\">\r\n      <!-- adulto -->\r\n      <defs>\r\n       <path d=\"M 34.28125 27.484375 \r\nQ 23.390625 27.484375 19.1875 25 \r\nQ 14.984375 22.515625 14.984375 16.5 \r\nQ 14.984375 11.71875 18.140625 8.90625 \r\nQ 21.296875 6.109375 26.703125 6.109375 \r\nQ 34.1875 6.109375 38.703125 11.40625 \r\nQ 43.21875 16.703125 43.21875 25.484375 \r\nL 43.21875 27.484375 \r\nz\r\nM 52.203125 31.203125 \r\nL 52.203125 0 \r\nL 43.21875 0 \r\nL 43.21875 8.296875 \r\nQ 40.140625 3.328125 35.546875 0.953125 \r\nQ 30.953125 -1.421875 24.3125 -1.421875 \r\nQ 15.921875 -1.421875 10.953125 3.296875 \r\nQ 6 8.015625 6 15.921875 \r\nQ 6 25.140625 12.171875 29.828125 \r\nQ 18.359375 34.515625 30.609375 34.515625 \r\nL 43.21875 34.515625 \r\nL 43.21875 35.40625 \r\nQ 43.21875 41.609375 39.140625 45 \r\nQ 35.0625 48.390625 27.6875 48.390625 \r\nQ 23 48.390625 18.546875 47.265625 \r\nQ 14.109375 46.140625 10.015625 43.890625 \r\nL 10.015625 52.203125 \r\nQ 14.9375 54.109375 19.578125 55.046875 \r\nQ 24.21875 56 28.609375 56 \r\nQ 40.484375 56 46.34375 49.84375 \r\nQ 52.203125 43.703125 52.203125 31.203125 \r\nz\r\n\" id=\"DejaVuSans-97\"/>\r\n       <path d=\"M 45.40625 46.390625 \r\nL 45.40625 75.984375 \r\nL 54.390625 75.984375 \r\nL 54.390625 0 \r\nL 45.40625 0 \r\nL 45.40625 8.203125 \r\nQ 42.578125 3.328125 38.25 0.953125 \r\nQ 33.9375 -1.421875 27.875 -1.421875 \r\nQ 17.96875 -1.421875 11.734375 6.484375 \r\nQ 5.515625 14.40625 5.515625 27.296875 \r\nQ 5.515625 40.1875 11.734375 48.09375 \r\nQ 17.96875 56 27.875 56 \r\nQ 33.9375 56 38.25 53.625 \r\nQ 42.578125 51.265625 45.40625 46.390625 \r\nz\r\nM 14.796875 27.296875 \r\nQ 14.796875 17.390625 18.875 11.75 \r\nQ 22.953125 6.109375 30.078125 6.109375 \r\nQ 37.203125 6.109375 41.296875 11.75 \r\nQ 45.40625 17.390625 45.40625 27.296875 \r\nQ 45.40625 37.203125 41.296875 42.84375 \r\nQ 37.203125 48.484375 30.078125 48.484375 \r\nQ 22.953125 48.484375 18.875 42.84375 \r\nQ 14.796875 37.203125 14.796875 27.296875 \r\nz\r\n\" id=\"DejaVuSans-100\"/>\r\n       <path d=\"M 8.5 21.578125 \r\nL 8.5 54.6875 \r\nL 17.484375 54.6875 \r\nL 17.484375 21.921875 \r\nQ 17.484375 14.15625 20.5 10.265625 \r\nQ 23.53125 6.390625 29.59375 6.390625 \r\nQ 36.859375 6.390625 41.078125 11.03125 \r\nQ 45.3125 15.671875 45.3125 23.6875 \r\nL 45.3125 54.6875 \r\nL 54.296875 54.6875 \r\nL 54.296875 0 \r\nL 45.3125 0 \r\nL 45.3125 8.40625 \r\nQ 42.046875 3.421875 37.71875 1 \r\nQ 33.40625 -1.421875 27.6875 -1.421875 \r\nQ 18.265625 -1.421875 13.375 4.4375 \r\nQ 8.5 10.296875 8.5 21.578125 \r\nz\r\nM 31.109375 56 \r\nz\r\n\" id=\"DejaVuSans-117\"/>\r\n       <path d=\"M 9.421875 75.984375 \r\nL 18.40625 75.984375 \r\nL 18.40625 0 \r\nL 9.421875 0 \r\nz\r\n\" id=\"DejaVuSans-108\"/>\r\n       <path d=\"M 18.3125 70.21875 \r\nL 18.3125 54.6875 \r\nL 36.8125 54.6875 \r\nL 36.8125 47.703125 \r\nL 18.3125 47.703125 \r\nL 18.3125 18.015625 \r\nQ 18.3125 11.328125 20.140625 9.421875 \r\nQ 21.96875 7.515625 27.59375 7.515625 \r\nL 36.8125 7.515625 \r\nL 36.8125 0 \r\nL 27.59375 0 \r\nQ 17.1875 0 13.234375 3.875 \r\nQ 9.28125 7.765625 9.28125 18.015625 \r\nL 9.28125 47.703125 \r\nL 2.6875 47.703125 \r\nL 2.6875 54.6875 \r\nL 9.28125 54.6875 \r\nL 9.28125 70.21875 \r\nz\r\n\" id=\"DejaVuSans-116\"/>\r\n       <path d=\"M 30.609375 48.390625 \r\nQ 23.390625 48.390625 19.1875 42.75 \r\nQ 14.984375 37.109375 14.984375 27.296875 \r\nQ 14.984375 17.484375 19.15625 11.84375 \r\nQ 23.34375 6.203125 30.609375 6.203125 \r\nQ 37.796875 6.203125 41.984375 11.859375 \r\nQ 46.1875 17.53125 46.1875 27.296875 \r\nQ 46.1875 37.015625 41.984375 42.703125 \r\nQ 37.796875 48.390625 30.609375 48.390625 \r\nz\r\nM 30.609375 56 \r\nQ 42.328125 56 49.015625 48.375 \r\nQ 55.71875 40.765625 55.71875 27.296875 \r\nQ 55.71875 13.875 49.015625 6.21875 \r\nQ 42.328125 -1.421875 30.609375 -1.421875 \r\nQ 18.84375 -1.421875 12.171875 6.21875 \r\nQ 5.515625 13.875 5.515625 27.296875 \r\nQ 5.515625 40.765625 12.171875 48.375 \r\nQ 18.84375 56 30.609375 56 \r\nz\r\n\" id=\"DejaVuSans-111\"/>\r\n      </defs>\r\n      <g transform=\"translate(283.265767 254.379062)scale(0.1 -0.1)\">\r\n       <use xlink:href=\"#DejaVuSans-97\"/>\r\n       <use x=\"61.279297\" xlink:href=\"#DejaVuSans-100\"/>\r\n       <use x=\"124.755859\" xlink:href=\"#DejaVuSans-117\"/>\r\n       <use x=\"188.134766\" xlink:href=\"#DejaVuSans-108\"/>\r\n       <use x=\"215.917969\" xlink:href=\"#DejaVuSans-116\"/>\r\n       <use x=\"255.126953\" xlink:href=\"#DejaVuSans-111\"/>\r\n      </g>\r\n     </g>\r\n    </g>\r\n    <g id=\"text_3\">\r\n     <!-- Classificação do filme -->\r\n     <defs>\r\n      <path d=\"M 64.40625 67.28125 \r\nL 64.40625 56.890625 \r\nQ 59.421875 61.53125 53.78125 63.8125 \r\nQ 48.140625 66.109375 41.796875 66.109375 \r\nQ 29.296875 66.109375 22.65625 58.46875 \r\nQ 16.015625 50.828125 16.015625 36.375 \r\nQ 16.015625 21.96875 22.65625 14.328125 \r\nQ 29.296875 6.6875 41.796875 6.6875 \r\nQ 48.140625 6.6875 53.78125 8.984375 \r\nQ 59.421875 11.28125 64.40625 15.921875 \r\nL 64.40625 5.609375 \r\nQ 59.234375 2.09375 53.4375 0.328125 \r\nQ 47.65625 -1.421875 41.21875 -1.421875 \r\nQ 24.65625 -1.421875 15.125 8.703125 \r\nQ 5.609375 18.84375 5.609375 36.375 \r\nQ 5.609375 53.953125 15.125 64.078125 \r\nQ 24.65625 74.21875 41.21875 74.21875 \r\nQ 47.75 74.21875 53.53125 72.484375 \r\nQ 59.328125 70.75 64.40625 67.28125 \r\nz\r\n\" id=\"DejaVuSans-67\"/>\r\n      <path d=\"M 44.28125 53.078125 \r\nL 44.28125 44.578125 \r\nQ 40.484375 46.53125 36.375 47.5 \r\nQ 32.28125 48.484375 27.875 48.484375 \r\nQ 21.1875 48.484375 17.84375 46.4375 \r\nQ 14.5 44.390625 14.5 40.28125 \r\nQ 14.5 37.15625 16.890625 35.375 \r\nQ 19.28125 33.59375 26.515625 31.984375 \r\nL 29.59375 31.296875 \r\nQ 39.15625 29.25 43.1875 25.515625 \r\nQ 47.21875 21.78125 47.21875 15.09375 \r\nQ 47.21875 7.46875 41.1875 3.015625 \r\nQ 35.15625 -1.421875 24.609375 -1.421875 \r\nQ 20.21875 -1.421875 15.453125 -0.5625 \r\nQ 10.6875 0.296875 5.421875 2 \r\nL 5.421875 11.28125 \r\nQ 10.40625 8.6875 15.234375 7.390625 \r\nQ 20.0625 6.109375 24.8125 6.109375 \r\nQ 31.15625 6.109375 34.5625 8.28125 \r\nQ 37.984375 10.453125 37.984375 14.40625 \r\nQ 37.984375 18.0625 35.515625 20.015625 \r\nQ 33.0625 21.96875 24.703125 23.78125 \r\nL 21.578125 24.515625 \r\nQ 13.234375 26.265625 9.515625 29.90625 \r\nQ 5.8125 33.546875 5.8125 39.890625 \r\nQ 5.8125 47.609375 11.28125 51.796875 \r\nQ 16.75 56 26.8125 56 \r\nQ 31.78125 56 36.171875 55.265625 \r\nQ 40.578125 54.546875 44.28125 53.078125 \r\nz\r\n\" id=\"DejaVuSans-115\"/>\r\n      <path d=\"M 37.109375 75.984375 \r\nL 37.109375 68.5 \r\nL 28.515625 68.5 \r\nQ 23.6875 68.5 21.796875 66.546875 \r\nQ 19.921875 64.59375 19.921875 59.515625 \r\nL 19.921875 54.6875 \r\nL 34.71875 54.6875 \r\nL 34.71875 47.703125 \r\nL 19.921875 47.703125 \r\nL 19.921875 0 \r\nL 10.890625 0 \r\nL 10.890625 47.703125 \r\nL 2.296875 47.703125 \r\nL 2.296875 54.6875 \r\nL 10.890625 54.6875 \r\nL 10.890625 58.5 \r\nQ 10.890625 67.625 15.140625 71.796875 \r\nQ 19.390625 75.984375 28.609375 75.984375 \r\nz\r\n\" id=\"DejaVuSans-102\"/>\r\n      <path d=\"M 48.78125 52.59375 \r\nL 48.78125 44.1875 \r\nQ 44.96875 46.296875 41.140625 47.34375 \r\nQ 37.3125 48.390625 33.40625 48.390625 \r\nQ 24.65625 48.390625 19.8125 42.84375 \r\nQ 14.984375 37.3125 14.984375 27.296875 \r\nQ 14.984375 17.28125 19.8125 11.734375 \r\nQ 24.65625 6.203125 33.40625 6.203125 \r\nQ 37.3125 6.203125 41.140625 7.25 \r\nQ 44.96875 8.296875 48.78125 10.40625 \r\nL 48.78125 2.09375 \r\nQ 45.015625 0.34375 40.984375 -0.53125 \r\nQ 36.96875 -1.421875 32.421875 -1.421875 \r\nQ 20.0625 -1.421875 12.78125 6.34375 \r\nQ 5.515625 14.109375 5.515625 27.296875 \r\nQ 5.515625 40.671875 12.859375 48.328125 \r\nQ 20.21875 56 33.015625 56 \r\nQ 37.15625 56 41.109375 55.140625 \r\nQ 45.0625 54.296875 48.78125 52.59375 \r\nz\r\n\" id=\"DejaVuSans-99\"/>\r\n      <path d=\"M 48.78125 52.59375 \r\nL 48.78125 44.1875 \r\nQ 44.96875 46.296875 41.140625 47.34375 \r\nQ 37.3125 48.390625 33.40625 48.390625 \r\nQ 24.65625 48.390625 19.8125 42.84375 \r\nQ 14.984375 37.3125 14.984375 27.296875 \r\nQ 14.984375 17.28125 19.8125 11.734375 \r\nQ 24.65625 6.203125 33.40625 6.203125 \r\nQ 37.3125 6.203125 41.140625 7.25 \r\nQ 44.96875 8.296875 48.78125 10.40625 \r\nL 48.78125 2.09375 \r\nQ 45.015625 0.34375 40.984375 -0.53125 \r\nQ 36.96875 -1.421875 32.421875 -1.421875 \r\nQ 20.0625 -1.421875 12.78125 6.34375 \r\nQ 5.515625 14.109375 5.515625 27.296875 \r\nQ 5.515625 40.671875 12.859375 48.328125 \r\nQ 20.21875 56 33.015625 56 \r\nQ 37.15625 56 41.109375 55.140625 \r\nQ 45.0625 54.296875 48.78125 52.59375 \r\nz\r\nM 36.078125 0 \r\nQ 38.765625 -3.03125 40.078125 -5.59375 \r\nQ 41.40625 -8.15625 41.40625 -10.5 \r\nQ 41.40625 -14.84375 38.46875 -17.0625 \r\nQ 35.546875 -19.28125 29.78125 -19.28125 \r\nQ 27.546875 -19.28125 25.421875 -18.984375 \r\nQ 23.296875 -18.703125 21.1875 -18.109375 \r\nL 21.1875 -11.71875 \r\nQ 22.859375 -12.546875 24.65625 -12.90625 \r\nQ 26.46875 -13.28125 28.765625 -13.28125 \r\nQ 31.640625 -13.28125 33.109375 -12.109375 \r\nQ 34.578125 -10.9375 34.578125 -8.6875 \r\nQ 34.578125 -7.234375 33.515625 -5.109375 \r\nQ 32.46875 -2.984375 30.28125 0 \r\nz\r\n\" id=\"DejaVuSans-231\"/>\r\n      <path d=\"M 34.28125 27.484375 \r\nQ 23.390625 27.484375 19.1875 25 \r\nQ 14.984375 22.515625 14.984375 16.5 \r\nQ 14.984375 11.71875 18.140625 8.90625 \r\nQ 21.296875 6.109375 26.703125 6.109375 \r\nQ 34.1875 6.109375 38.703125 11.40625 \r\nQ 43.21875 16.703125 43.21875 25.484375 \r\nL 43.21875 27.484375 \r\nz\r\nM 52.203125 31.203125 \r\nL 52.203125 0 \r\nL 43.21875 0 \r\nL 43.21875 8.296875 \r\nQ 40.140625 3.328125 35.546875 0.953125 \r\nQ 30.953125 -1.421875 24.3125 -1.421875 \r\nQ 15.921875 -1.421875 10.953125 3.296875 \r\nQ 6 8.015625 6 15.921875 \r\nQ 6 25.140625 12.171875 29.828125 \r\nQ 18.359375 34.515625 30.609375 34.515625 \r\nL 43.21875 34.515625 \r\nL 43.21875 35.40625 \r\nQ 43.21875 41.609375 39.140625 45 \r\nQ 35.0625 48.390625 27.6875 48.390625 \r\nQ 23 48.390625 18.546875 47.265625 \r\nQ 14.109375 46.140625 10.015625 43.890625 \r\nL 10.015625 52.203125 \r\nQ 14.9375 54.109375 19.578125 55.046875 \r\nQ 24.21875 56 28.609375 56 \r\nQ 40.484375 56 46.34375 49.84375 \r\nQ 52.203125 43.703125 52.203125 31.203125 \r\nz\r\nM 28.8125 66.890625 \r\nL 26.03125 69.578125 \r\nQ 24.953125 70.5625 24.140625 71.015625 \r\nQ 23.34375 71.484375 22.703125 71.484375 \r\nQ 20.84375 71.484375 19.96875 69.703125 \r\nQ 19.09375 67.921875 19 63.921875 \r\nL 12.890625 63.921875 \r\nQ 12.984375 70.515625 15.46875 74.09375 \r\nQ 17.96875 77.6875 22.40625 77.6875 \r\nQ 24.265625 77.6875 25.828125 77 \r\nQ 27.390625 76.3125 29.203125 74.703125 \r\nL 31.984375 72.015625 \r\nQ 33.0625 71.046875 33.859375 70.578125 \r\nQ 34.671875 70.125 35.296875 70.125 \r\nQ 37.15625 70.125 38.03125 71.90625 \r\nQ 38.921875 73.6875 39.015625 77.6875 \r\nL 45.125 77.6875 \r\nQ 45.015625 71.09375 42.53125 67.5 \r\nQ 40.046875 63.921875 35.59375 63.921875 \r\nQ 33.734375 63.921875 32.171875 64.59375 \r\nQ 30.609375 65.28125 28.8125 66.890625 \r\nz\r\n\" id=\"DejaVuSans-227\"/>\r\n      <path id=\"DejaVuSans-32\"/>\r\n      <path d=\"M 52 44.1875 \r\nQ 55.375 50.25 60.0625 53.125 \r\nQ 64.75 56 71.09375 56 \r\nQ 79.640625 56 84.28125 50.015625 \r\nQ 88.921875 44.046875 88.921875 33.015625 \r\nL 88.921875 0 \r\nL 79.890625 0 \r\nL 79.890625 32.71875 \r\nQ 79.890625 40.578125 77.09375 44.375 \r\nQ 74.3125 48.1875 68.609375 48.1875 \r\nQ 61.625 48.1875 57.5625 43.546875 \r\nQ 53.515625 38.921875 53.515625 30.90625 \r\nL 53.515625 0 \r\nL 44.484375 0 \r\nL 44.484375 32.71875 \r\nQ 44.484375 40.625 41.703125 44.40625 \r\nQ 38.921875 48.1875 33.109375 48.1875 \r\nQ 26.21875 48.1875 22.15625 43.53125 \r\nQ 18.109375 38.875 18.109375 30.90625 \r\nL 18.109375 0 \r\nL 9.078125 0 \r\nL 9.078125 54.6875 \r\nL 18.109375 54.6875 \r\nL 18.109375 46.1875 \r\nQ 21.1875 51.21875 25.484375 53.609375 \r\nQ 29.78125 56 35.6875 56 \r\nQ 41.65625 56 45.828125 52.96875 \r\nQ 50 49.953125 52 44.1875 \r\nz\r\n\" id=\"DejaVuSans-109\"/>\r\n     </defs>\r\n     <g transform=\"translate(160.260938 268.075937)scale(0.1 -0.1)\">\r\n      <use xlink:href=\"#DejaVuSans-67\"/>\r\n      <use x=\"69.824219\" xlink:href=\"#DejaVuSans-108\"/>\r\n      <use x=\"97.607422\" xlink:href=\"#DejaVuSans-97\"/>\r\n      <use x=\"158.886719\" xlink:href=\"#DejaVuSans-115\"/>\r\n      <use x=\"210.986328\" xlink:href=\"#DejaVuSans-115\"/>\r\n      <use x=\"263.085938\" xlink:href=\"#DejaVuSans-105\"/>\r\n      <use x=\"290.869141\" xlink:href=\"#DejaVuSans-102\"/>\r\n      <use x=\"326.074219\" xlink:href=\"#DejaVuSans-105\"/>\r\n      <use x=\"353.857422\" xlink:href=\"#DejaVuSans-99\"/>\r\n      <use x=\"408.837891\" xlink:href=\"#DejaVuSans-97\"/>\r\n      <use x=\"470.117188\" xlink:href=\"#DejaVuSans-231\"/>\r\n      <use x=\"525.097656\" xlink:href=\"#DejaVuSans-227\"/>\r\n      <use x=\"586.376953\" xlink:href=\"#DejaVuSans-111\"/>\r\n      <use x=\"647.558594\" xlink:href=\"#DejaVuSans-32\"/>\r\n      <use x=\"679.345703\" xlink:href=\"#DejaVuSans-100\"/>\r\n      <use x=\"742.822266\" xlink:href=\"#DejaVuSans-111\"/>\r\n      <use x=\"804.003906\" xlink:href=\"#DejaVuSans-32\"/>\r\n      <use x=\"835.791016\" xlink:href=\"#DejaVuSans-102\"/>\r\n      <use x=\"870.996094\" xlink:href=\"#DejaVuSans-105\"/>\r\n      <use x=\"898.779297\" xlink:href=\"#DejaVuSans-108\"/>\r\n      <use x=\"926.5625\" xlink:href=\"#DejaVuSans-109\"/>\r\n      <use x=\"1023.974609\" xlink:href=\"#DejaVuSans-101\"/>\r\n     </g>\r\n    </g>\r\n   </g>\r\n   <g id=\"matplotlib.axis_2\">\r\n    <g id=\"ytick_1\">\r\n     <g id=\"line2d_3\">\r\n      <defs>\r\n       <path d=\"M 0 0 \r\nL -3.5 0 \r\n\" id=\"m0c8c00cabb\" style=\"stroke:#000000;stroke-width:0.8;\"/>\r\n      </defs>\r\n      <g>\r\n       <use style=\"stroke:#000000;stroke-width:0.8;\" x=\"47.135938\" xlink:href=\"#m0c8c00cabb\" y=\"239.780625\"/>\r\n      </g>\r\n     </g>\r\n     <g id=\"text_4\">\r\n      <!-- 0 -->\r\n      <defs>\r\n       <path d=\"M 31.78125 66.40625 \r\nQ 24.171875 66.40625 20.328125 58.90625 \r\nQ 16.5 51.421875 16.5 36.375 \r\nQ 16.5 21.390625 20.328125 13.890625 \r\nQ 24.171875 6.390625 31.78125 6.390625 \r\nQ 39.453125 6.390625 43.28125 13.890625 \r\nQ 47.125 21.390625 47.125 36.375 \r\nQ 47.125 51.421875 43.28125 58.90625 \r\nQ 39.453125 66.40625 31.78125 66.40625 \r\nz\r\nM 31.78125 74.21875 \r\nQ 44.046875 74.21875 50.515625 64.515625 \r\nQ 56.984375 54.828125 56.984375 36.375 \r\nQ 56.984375 17.96875 50.515625 8.265625 \r\nQ 44.046875 -1.421875 31.78125 -1.421875 \r\nQ 19.53125 -1.421875 13.0625 8.265625 \r\nQ 6.59375 17.96875 6.59375 36.375 \r\nQ 6.59375 54.828125 13.0625 64.515625 \r\nQ 19.53125 74.21875 31.78125 74.21875 \r\nz\r\n\" id=\"DejaVuSans-48\"/>\r\n      </defs>\r\n      <g transform=\"translate(33.773438 243.579844)scale(0.1 -0.1)\">\r\n       <use xlink:href=\"#DejaVuSans-48\"/>\r\n      </g>\r\n     </g>\r\n    </g>\r\n    <g id=\"ytick_2\">\r\n     <g id=\"line2d_4\">\r\n      <g>\r\n       <use style=\"stroke:#000000;stroke-width:0.8;\" x=\"47.135938\" xlink:href=\"#m0c8c00cabb\" y=\"198.356026\"/>\r\n      </g>\r\n     </g>\r\n     <g id=\"text_5\">\r\n      <!-- 20 -->\r\n      <defs>\r\n       <path d=\"M 19.1875 8.296875 \r\nL 53.609375 8.296875 \r\nL 53.609375 0 \r\nL 7.328125 0 \r\nL 7.328125 8.296875 \r\nQ 12.9375 14.109375 22.625 23.890625 \r\nQ 32.328125 33.6875 34.8125 36.53125 \r\nQ 39.546875 41.84375 41.421875 45.53125 \r\nQ 43.3125 49.21875 43.3125 52.78125 \r\nQ 43.3125 58.59375 39.234375 62.25 \r\nQ 35.15625 65.921875 28.609375 65.921875 \r\nQ 23.96875 65.921875 18.8125 64.3125 \r\nQ 13.671875 62.703125 7.8125 59.421875 \r\nL 7.8125 69.390625 \r\nQ 13.765625 71.78125 18.9375 73 \r\nQ 24.125 74.21875 28.421875 74.21875 \r\nQ 39.75 74.21875 46.484375 68.546875 \r\nQ 53.21875 62.890625 53.21875 53.421875 \r\nQ 53.21875 48.921875 51.53125 44.890625 \r\nQ 49.859375 40.875 45.40625 35.40625 \r\nQ 44.1875 33.984375 37.640625 27.21875 \r\nQ 31.109375 20.453125 19.1875 8.296875 \r\nz\r\n\" id=\"DejaVuSans-50\"/>\r\n      </defs>\r\n      <g transform=\"translate(27.410938 202.155244)scale(0.1 -0.1)\">\r\n       <use xlink:href=\"#DejaVuSans-50\"/>\r\n       <use x=\"63.623047\" xlink:href=\"#DejaVuSans-48\"/>\r\n      </g>\r\n     </g>\r\n    </g>\r\n    <g id=\"ytick_3\">\r\n     <g id=\"line2d_5\">\r\n      <g>\r\n       <use style=\"stroke:#000000;stroke-width:0.8;\" x=\"47.135938\" xlink:href=\"#m0c8c00cabb\" y=\"156.931426\"/>\r\n      </g>\r\n     </g>\r\n     <g id=\"text_6\">\r\n      <!-- 40 -->\r\n      <defs>\r\n       <path d=\"M 37.796875 64.3125 \r\nL 12.890625 25.390625 \r\nL 37.796875 25.390625 \r\nz\r\nM 35.203125 72.90625 \r\nL 47.609375 72.90625 \r\nL 47.609375 25.390625 \r\nL 58.015625 25.390625 \r\nL 58.015625 17.1875 \r\nL 47.609375 17.1875 \r\nL 47.609375 0 \r\nL 37.796875 0 \r\nL 37.796875 17.1875 \r\nL 4.890625 17.1875 \r\nL 4.890625 26.703125 \r\nz\r\n\" id=\"DejaVuSans-52\"/>\r\n      </defs>\r\n      <g transform=\"translate(27.410938 160.730645)scale(0.1 -0.1)\">\r\n       <use xlink:href=\"#DejaVuSans-52\"/>\r\n       <use x=\"63.623047\" xlink:href=\"#DejaVuSans-48\"/>\r\n      </g>\r\n     </g>\r\n    </g>\r\n    <g id=\"ytick_4\">\r\n     <g id=\"line2d_6\">\r\n      <g>\r\n       <use style=\"stroke:#000000;stroke-width:0.8;\" x=\"47.135938\" xlink:href=\"#m0c8c00cabb\" y=\"115.506827\"/>\r\n      </g>\r\n     </g>\r\n     <g id=\"text_7\">\r\n      <!-- 60 -->\r\n      <defs>\r\n       <path d=\"M 33.015625 40.375 \r\nQ 26.375 40.375 22.484375 35.828125 \r\nQ 18.609375 31.296875 18.609375 23.390625 \r\nQ 18.609375 15.53125 22.484375 10.953125 \r\nQ 26.375 6.390625 33.015625 6.390625 \r\nQ 39.65625 6.390625 43.53125 10.953125 \r\nQ 47.40625 15.53125 47.40625 23.390625 \r\nQ 47.40625 31.296875 43.53125 35.828125 \r\nQ 39.65625 40.375 33.015625 40.375 \r\nz\r\nM 52.59375 71.296875 \r\nL 52.59375 62.3125 \r\nQ 48.875 64.0625 45.09375 64.984375 \r\nQ 41.3125 65.921875 37.59375 65.921875 \r\nQ 27.828125 65.921875 22.671875 59.328125 \r\nQ 17.53125 52.734375 16.796875 39.40625 \r\nQ 19.671875 43.65625 24.015625 45.921875 \r\nQ 28.375 48.1875 33.59375 48.1875 \r\nQ 44.578125 48.1875 50.953125 41.515625 \r\nQ 57.328125 34.859375 57.328125 23.390625 \r\nQ 57.328125 12.15625 50.6875 5.359375 \r\nQ 44.046875 -1.421875 33.015625 -1.421875 \r\nQ 20.359375 -1.421875 13.671875 8.265625 \r\nQ 6.984375 17.96875 6.984375 36.375 \r\nQ 6.984375 53.65625 15.1875 63.9375 \r\nQ 23.390625 74.21875 37.203125 74.21875 \r\nQ 40.921875 74.21875 44.703125 73.484375 \r\nQ 48.484375 72.75 52.59375 71.296875 \r\nz\r\n\" id=\"DejaVuSans-54\"/>\r\n      </defs>\r\n      <g transform=\"translate(27.410938 119.306046)scale(0.1 -0.1)\">\r\n       <use xlink:href=\"#DejaVuSans-54\"/>\r\n       <use x=\"63.623047\" xlink:href=\"#DejaVuSans-48\"/>\r\n      </g>\r\n     </g>\r\n    </g>\r\n    <g id=\"ytick_5\">\r\n     <g id=\"line2d_7\">\r\n      <g>\r\n       <use style=\"stroke:#000000;stroke-width:0.8;\" x=\"47.135938\" xlink:href=\"#m0c8c00cabb\" y=\"74.082228\"/>\r\n      </g>\r\n     </g>\r\n     <g id=\"text_8\">\r\n      <!-- 80 -->\r\n      <defs>\r\n       <path d=\"M 31.78125 34.625 \r\nQ 24.75 34.625 20.71875 30.859375 \r\nQ 16.703125 27.09375 16.703125 20.515625 \r\nQ 16.703125 13.921875 20.71875 10.15625 \r\nQ 24.75 6.390625 31.78125 6.390625 \r\nQ 38.8125 6.390625 42.859375 10.171875 \r\nQ 46.921875 13.96875 46.921875 20.515625 \r\nQ 46.921875 27.09375 42.890625 30.859375 \r\nQ 38.875 34.625 31.78125 34.625 \r\nz\r\nM 21.921875 38.8125 \r\nQ 15.578125 40.375 12.03125 44.71875 \r\nQ 8.5 49.078125 8.5 55.328125 \r\nQ 8.5 64.0625 14.71875 69.140625 \r\nQ 20.953125 74.21875 31.78125 74.21875 \r\nQ 42.671875 74.21875 48.875 69.140625 \r\nQ 55.078125 64.0625 55.078125 55.328125 \r\nQ 55.078125 49.078125 51.53125 44.71875 \r\nQ 48 40.375 41.703125 38.8125 \r\nQ 48.828125 37.15625 52.796875 32.3125 \r\nQ 56.78125 27.484375 56.78125 20.515625 \r\nQ 56.78125 9.90625 50.3125 4.234375 \r\nQ 43.84375 -1.421875 31.78125 -1.421875 \r\nQ 19.734375 -1.421875 13.25 4.234375 \r\nQ 6.78125 9.90625 6.78125 20.515625 \r\nQ 6.78125 27.484375 10.78125 32.3125 \r\nQ 14.796875 37.15625 21.921875 38.8125 \r\nz\r\nM 18.3125 54.390625 \r\nQ 18.3125 48.734375 21.84375 45.5625 \r\nQ 25.390625 42.390625 31.78125 42.390625 \r\nQ 38.140625 42.390625 41.71875 45.5625 \r\nQ 45.3125 48.734375 45.3125 54.390625 \r\nQ 45.3125 60.0625 41.71875 63.234375 \r\nQ 38.140625 66.40625 31.78125 66.40625 \r\nQ 25.390625 66.40625 21.84375 63.234375 \r\nQ 18.3125 60.0625 18.3125 54.390625 \r\nz\r\n\" id=\"DejaVuSans-56\"/>\r\n      </defs>\r\n      <g transform=\"translate(27.410938 77.881447)scale(0.1 -0.1)\">\r\n       <use xlink:href=\"#DejaVuSans-56\"/>\r\n       <use x=\"63.623047\" xlink:href=\"#DejaVuSans-48\"/>\r\n      </g>\r\n     </g>\r\n    </g>\r\n    <g id=\"ytick_6\">\r\n     <g id=\"line2d_8\">\r\n      <g>\r\n       <use style=\"stroke:#000000;stroke-width:0.8;\" x=\"47.135938\" xlink:href=\"#m0c8c00cabb\" y=\"32.657629\"/>\r\n      </g>\r\n     </g>\r\n     <g id=\"text_9\">\r\n      <!-- 100 -->\r\n      <defs>\r\n       <path d=\"M 12.40625 8.296875 \r\nL 28.515625 8.296875 \r\nL 28.515625 63.921875 \r\nL 10.984375 60.40625 \r\nL 10.984375 69.390625 \r\nL 28.421875 72.90625 \r\nL 38.28125 72.90625 \r\nL 38.28125 8.296875 \r\nL 54.390625 8.296875 \r\nL 54.390625 0 \r\nL 12.40625 0 \r\nz\r\n\" id=\"DejaVuSans-49\"/>\r\n      </defs>\r\n      <g transform=\"translate(21.048438 36.456847)scale(0.1 -0.1)\">\r\n       <use xlink:href=\"#DejaVuSans-49\"/>\r\n       <use x=\"63.623047\" xlink:href=\"#DejaVuSans-48\"/>\r\n       <use x=\"127.246094\" xlink:href=\"#DejaVuSans-48\"/>\r\n      </g>\r\n     </g>\r\n    </g>\r\n    <g id=\"text_10\">\r\n     <!-- Qtde por classificação -->\r\n     <defs>\r\n      <path d=\"M 39.40625 66.21875 \r\nQ 28.65625 66.21875 22.328125 58.203125 \r\nQ 16.015625 50.203125 16.015625 36.375 \r\nQ 16.015625 22.609375 22.328125 14.59375 \r\nQ 28.65625 6.59375 39.40625 6.59375 \r\nQ 50.140625 6.59375 56.421875 14.59375 \r\nQ 62.703125 22.609375 62.703125 36.375 \r\nQ 62.703125 50.203125 56.421875 58.203125 \r\nQ 50.140625 66.21875 39.40625 66.21875 \r\nz\r\nM 53.21875 1.3125 \r\nL 66.21875 -12.890625 \r\nL 54.296875 -12.890625 \r\nL 43.5 -1.21875 \r\nQ 41.890625 -1.3125 41.03125 -1.359375 \r\nQ 40.1875 -1.421875 39.40625 -1.421875 \r\nQ 24.03125 -1.421875 14.8125 8.859375 \r\nQ 5.609375 19.140625 5.609375 36.375 \r\nQ 5.609375 53.65625 14.8125 63.9375 \r\nQ 24.03125 74.21875 39.40625 74.21875 \r\nQ 54.734375 74.21875 63.90625 63.9375 \r\nQ 73.09375 53.65625 73.09375 36.375 \r\nQ 73.09375 23.6875 67.984375 14.640625 \r\nQ 62.890625 5.609375 53.21875 1.3125 \r\nz\r\n\" id=\"DejaVuSans-81\"/>\r\n      <path d=\"M 18.109375 8.203125 \r\nL 18.109375 -20.796875 \r\nL 9.078125 -20.796875 \r\nL 9.078125 54.6875 \r\nL 18.109375 54.6875 \r\nL 18.109375 46.390625 \r\nQ 20.953125 51.265625 25.265625 53.625 \r\nQ 29.59375 56 35.59375 56 \r\nQ 45.5625 56 51.78125 48.09375 \r\nQ 58.015625 40.1875 58.015625 27.296875 \r\nQ 58.015625 14.40625 51.78125 6.484375 \r\nQ 45.5625 -1.421875 35.59375 -1.421875 \r\nQ 29.59375 -1.421875 25.265625 0.953125 \r\nQ 20.953125 3.328125 18.109375 8.203125 \r\nz\r\nM 48.6875 27.296875 \r\nQ 48.6875 37.203125 44.609375 42.84375 \r\nQ 40.53125 48.484375 33.40625 48.484375 \r\nQ 26.265625 48.484375 22.1875 42.84375 \r\nQ 18.109375 37.203125 18.109375 27.296875 \r\nQ 18.109375 17.390625 22.1875 11.75 \r\nQ 26.265625 6.109375 33.40625 6.109375 \r\nQ 40.53125 6.109375 44.609375 11.75 \r\nQ 48.6875 17.390625 48.6875 27.296875 \r\nz\r\n\" id=\"DejaVuSans-112\"/>\r\n     </defs>\r\n     <g transform=\"translate(14.96875 186.310625)rotate(-90)scale(0.1 -0.1)\">\r\n      <use xlink:href=\"#DejaVuSans-81\"/>\r\n      <use x=\"78.710938\" xlink:href=\"#DejaVuSans-116\"/>\r\n      <use x=\"117.919922\" xlink:href=\"#DejaVuSans-100\"/>\r\n      <use x=\"181.396484\" xlink:href=\"#DejaVuSans-101\"/>\r\n      <use x=\"242.919922\" xlink:href=\"#DejaVuSans-32\"/>\r\n      <use x=\"274.707031\" xlink:href=\"#DejaVuSans-112\"/>\r\n      <use x=\"338.183594\" xlink:href=\"#DejaVuSans-111\"/>\r\n      <use x=\"399.365234\" xlink:href=\"#DejaVuSans-114\"/>\r\n      <use x=\"440.478516\" xlink:href=\"#DejaVuSans-32\"/>\r\n      <use x=\"472.265625\" xlink:href=\"#DejaVuSans-99\"/>\r\n      <use x=\"527.246094\" xlink:href=\"#DejaVuSans-108\"/>\r\n      <use x=\"555.029297\" xlink:href=\"#DejaVuSans-97\"/>\r\n      <use x=\"616.308594\" xlink:href=\"#DejaVuSans-115\"/>\r\n      <use x=\"668.408203\" xlink:href=\"#DejaVuSans-115\"/>\r\n      <use x=\"720.507812\" xlink:href=\"#DejaVuSans-105\"/>\r\n      <use x=\"748.291016\" xlink:href=\"#DejaVuSans-102\"/>\r\n      <use x=\"783.496094\" xlink:href=\"#DejaVuSans-105\"/>\r\n      <use x=\"811.279297\" xlink:href=\"#DejaVuSans-99\"/>\r\n      <use x=\"866.259766\" xlink:href=\"#DejaVuSans-97\"/>\r\n      <use x=\"927.539062\" xlink:href=\"#DejaVuSans-231\"/>\r\n      <use x=\"982.519531\" xlink:href=\"#DejaVuSans-227\"/>\r\n      <use x=\"1043.798828\" xlink:href=\"#DejaVuSans-111\"/>\r\n     </g>\r\n    </g>\r\n   </g>\r\n   <g id=\"patch_5\">\r\n    <path d=\"M 47.135938 239.780625 \r\nL 47.135938 22.340625 \r\n\" style=\"fill:none;stroke:#000000;stroke-linecap:square;stroke-linejoin:miter;stroke-width:0.8;\"/>\r\n   </g>\r\n   <g id=\"patch_6\">\r\n    <path d=\"M 381.935938 239.780625 \r\nL 381.935938 22.340625 \r\n\" style=\"fill:none;stroke:#000000;stroke-linecap:square;stroke-linejoin:miter;stroke-width:0.8;\"/>\r\n   </g>\r\n   <g id=\"patch_7\">\r\n    <path d=\"M 47.135937 239.780625 \r\nL 381.935938 239.780625 \r\n\" style=\"fill:none;stroke:#000000;stroke-linecap:square;stroke-linejoin:miter;stroke-width:0.8;\"/>\r\n   </g>\r\n   <g id=\"patch_8\">\r\n    <path d=\"M 47.135937 22.340625 \r\nL 381.935938 22.340625 \r\n\" style=\"fill:none;stroke:#000000;stroke-linecap:square;stroke-linejoin:miter;stroke-width:0.8;\"/>\r\n   </g>\r\n   <g id=\"text_11\">\r\n    <!-- Total de classificação -->\r\n    <defs>\r\n     <path d=\"M -0.296875 72.90625 \r\nL 61.375 72.90625 \r\nL 61.375 64.59375 \r\nL 35.5 64.59375 \r\nL 35.5 0 \r\nL 25.59375 0 \r\nL 25.59375 64.59375 \r\nL -0.296875 64.59375 \r\nz\r\n\" id=\"DejaVuSans-84\"/>\r\n    </defs>\r\n    <g transform=\"translate(151.24625 16.340625)scale(0.12 -0.12)\">\r\n     <use xlink:href=\"#DejaVuSans-84\"/>\r\n     <use x=\"44.083984\" xlink:href=\"#DejaVuSans-111\"/>\r\n     <use x=\"105.265625\" xlink:href=\"#DejaVuSans-116\"/>\r\n     <use x=\"144.474609\" xlink:href=\"#DejaVuSans-97\"/>\r\n     <use x=\"205.753906\" xlink:href=\"#DejaVuSans-108\"/>\r\n     <use x=\"233.537109\" xlink:href=\"#DejaVuSans-32\"/>\r\n     <use x=\"265.324219\" xlink:href=\"#DejaVuSans-100\"/>\r\n     <use x=\"328.800781\" xlink:href=\"#DejaVuSans-101\"/>\r\n     <use x=\"390.324219\" xlink:href=\"#DejaVuSans-32\"/>\r\n     <use x=\"422.111328\" xlink:href=\"#DejaVuSans-99\"/>\r\n     <use x=\"477.091797\" xlink:href=\"#DejaVuSans-108\"/>\r\n     <use x=\"504.875\" xlink:href=\"#DejaVuSans-97\"/>\r\n     <use x=\"566.154297\" xlink:href=\"#DejaVuSans-115\"/>\r\n     <use x=\"618.253906\" xlink:href=\"#DejaVuSans-115\"/>\r\n     <use x=\"670.353516\" xlink:href=\"#DejaVuSans-105\"/>\r\n     <use x=\"698.136719\" xlink:href=\"#DejaVuSans-102\"/>\r\n     <use x=\"733.341797\" xlink:href=\"#DejaVuSans-105\"/>\r\n     <use x=\"761.125\" xlink:href=\"#DejaVuSans-99\"/>\r\n     <use x=\"816.105469\" xlink:href=\"#DejaVuSans-97\"/>\r\n     <use x=\"877.384766\" xlink:href=\"#DejaVuSans-231\"/>\r\n     <use x=\"932.365234\" xlink:href=\"#DejaVuSans-227\"/>\r\n     <use x=\"993.644531\" xlink:href=\"#DejaVuSans-111\"/>\r\n    </g>\r\n   </g>\r\n  </g>\r\n </g>\r\n <defs>\r\n  <clipPath id=\"p3ae70e61d4\">\r\n   <rect height=\"217.44\" width=\"334.8\" x=\"47.135938\" y=\"22.340625\"/>\r\n  </clipPath>\r\n </defs>\r\n</svg>\r\n",
      "image/png": "[encoded data removed]"
     },
     "metadata": {
      "needs_background": "light"
     }
    }
   ],
   "source": [
    "grupos = ['Livre', 'adulto']\n",
    "\n",
    "valores = [round(sum(dataset.classificacao == 1) * 100 / len(dataset.classificacao),3),round(sum(dataset.classificacao == 0) * 100 / len(dataset.classificacao),3) ]\n",
    "\n",
    "plt.xlabel(\"Classificação do filme\")\n",
    "plt.ylabel(\"Qtde por classificação\")\n",
    "plt.title(\"Total de classificação\")\n",
    "\n",
    "plt.bar(grupos, valores)\n",
    "plt.show()"
   ]
  },
  {
   "cell_type": "code",
   "execution_count": null,
   "metadata": {},
   "outputs": [],
   "source": [
    "# --------------------------------------------\n",
    "Conforme observamos, 99,99% dos filmes possui classificação livre, logo, será avaliado retirar a features da avaliação/predição\n",
    "# --------------------------------------------"
   ]
  },
  {
   "cell_type": "code",
   "execution_count": null,
   "metadata": {},
   "outputs": [],
   "source": [
    "############## features de genero #############\n",
    "# Quais são os generos mais comuns?"
   ]
  },
  {
   "cell_type": "code",
   "execution_count": 23,
   "metadata": {
    "tags": []
   },
   "outputs": [
    {
     "output_type": "stream",
     "name": "stdout",
     "text": "acao:  6440 aventura:  3318 animacao:  1893\n"
    }
   ],
   "source": [
    "print ('acao: ', sum(dataset.acao == True), 'aventura: ',sum(dataset.aventura == True), 'animacao: ', sum(dataset.animacao == True))"
   ]
  },
  {
   "cell_type": "code",
   "execution_count": 72,
   "metadata": {
    "tags": []
   },
   "outputs": [
    {
     "output_type": "stream",
     "name": "stdout",
     "text": "total de generos 20\n<class 'list'>\ngenero:  acao | 6440\ngenero:  aventura | 3318\ngenero:  animacao | 1893\ngenero:  comedia | 12608\ngenero:  crime | 3926\ngenero:  documentario | 3849\ngenero:  drama | 19680\ngenero:  familia | 2348\ngenero:  fantasia | 1987\ngenero:  estrangeiro | 1280\ngenero:  historia | 1246\ngenero:  horror | 4513\ngenero:  musical | 1489\ngenero:  misterio | 2082\ngenero:  romance | 6027\ngenero:  ficcao_cientifica | 2490\ngenero:  filmes_tv | 655\ngenero:  suspense | 6379\ngenero: gerra | 1119\ngenero:  ocidental | 914\n<class 'list'>\n<class 'list'>\n(['acao', 'aventura', 'animacao', 'comedia', 'crime', 'documentario', 'drama', 'familia', 'fantasia', 'estrangeiro', 'historia', 'horror', 'musical', 'misterio', 'romance', 'ficcao_cientifica', 'filmes_tv', 'suspense', 'gerra', 'ocidental'], [6440, 3318, 1893, 12608, 3926, 3849, 19680, 2348, 1987, 1280, 1246, 4513, 1489, 2082, 6027, 2490, 655, 6379, 1119, 914])\n"
    }
   ],
   "source": [
    "grupos = ['acao', 'aventura', 'animacao', 'comedia', 'crime', 'documentario', 'drama', 'familia', 'fantasia', 'estrangeiro', 'historia', 'horror', 'musical', 'misterio', 'romance', 'ficcao_cientifica', 'filmes_tv', 'suspense', 'gerra', 'ocidental']\n",
    "\n",
    "tam = len(grupos)\n",
    "print (\"total de generos\", tam)\n",
    "x = 0\n",
    "lista_totais = [] # lista para armazenar os valores totais de cada genero\n",
    "print (type (lista_totais))\n",
    "\n",
    "while x < tam:\n",
    "    genero = grupos[x]\n",
    "    total_genero = sum(dataset[genero] == True)    \n",
    "    print ('genero: ', genero, '|',total_genero)\n",
    "    x += 1\n",
    "    lista_totais.append (total_genero)\n",
    "print (type(lista_totais))\n",
    "print (type(lista_totais))\n",
    "total = zip (grupos, lista_totais)\n"
   ]
  },
  {
   "cell_type": "code",
   "execution_count": null,
   "metadata": {},
   "outputs": [],
   "source": []
  },
  {
   "cell_type": "code",
   "execution_count": 42,
   "metadata": {
    "tags": []
   },
   "outputs": [
    {
     "output_type": "stream",
     "name": "stdout",
     "text": "3\nacao\n6440\naventura\n6440\nanimacao\n6440\n"
    },
    {
     "output_type": "error",
     "ename": "IndexError",
     "evalue": "list index out of range",
     "traceback": [
      "\u001b[1;31m---------------------------------------------------------------------------\u001b[0m",
      "\u001b[1;31mIndexError\u001b[0m                                Traceback (most recent call last)",
      "\u001b[1;32m<ipython-input-42-89de29eb1b03>\u001b[0m in \u001b[0;36m<module>\u001b[1;34m\u001b[0m\n\u001b[0;32m      6\u001b[0m \u001b[0mx\u001b[0m \u001b[1;33m=\u001b[0m \u001b[1;36m0\u001b[0m\u001b[1;33m\u001b[0m\u001b[0m\n\u001b[0;32m      7\u001b[0m \u001b[1;32mwhile\u001b[0m \u001b[0mx\u001b[0m \u001b[1;33m<=\u001b[0m \u001b[0mtam\u001b[0m\u001b[1;33m:\u001b[0m\u001b[1;33m\u001b[0m\u001b[0m\n\u001b[1;32m----> 8\u001b[1;33m     \u001b[0mgenero\u001b[0m \u001b[1;33m=\u001b[0m \u001b[0mgrupos\u001b[0m\u001b[1;33m[\u001b[0m\u001b[0mx\u001b[0m\u001b[1;33m]\u001b[0m\u001b[1;33m\u001b[0m\u001b[0m\n\u001b[0m\u001b[0;32m      9\u001b[0m     \u001b[0mprint\u001b[0m \u001b[1;33m(\u001b[0m\u001b[0mgenero\u001b[0m\u001b[1;33m)\u001b[0m\u001b[1;33m\u001b[0m\u001b[0m\n\u001b[0;32m     10\u001b[0m     \u001b[0mtotal_genero\u001b[0m \u001b[1;33m=\u001b[0m \u001b[0msum\u001b[0m\u001b[1;33m(\u001b[0m\u001b[0mdataset\u001b[0m\u001b[1;33m.\u001b[0m\u001b[0macao\u001b[0m\u001b[1;33m)\u001b[0m\u001b[1;33m\u001b[0m\u001b[0m\n",
      "\u001b[1;31mIndexError\u001b[0m: list index out of range"
     ]
    }
   ],
   "source": [
    "'''grupos = ['acao', 'aventura', 'animacao', 'comedia', 'crime', 'documentario', 'drama', 'familia', 'fantasia', 'estrangeiro', 'historia', 'horror', 'musical', 'misterio', 'romance', 'ficcao_cientifica', 'filmes_tv', 'suspense', 'gerra', 'ocidental']'''\n",
    "grupos = ['acao', 'aventura', 'animacao']\n",
    "\n",
    "tam = len(grupos)\n",
    "print (tam)\n",
    "x = 0\n",
    "while x <= tam:\n",
    "    genero = grupos[x]\n",
    "    print (genero)\n",
    "    total_genero = sum(dataset.acao)\n",
    "    \n",
    "    print (total_genero)\n",
    "    x += 1"
   ]
  },
  {
   "cell_type": "code",
   "execution_count": null,
   "metadata": {},
   "outputs": [],
   "source": [
    "grupos = ['açãp', 'aventura', 'animacao', 'comedia', 'crime', 'documentario', 'drama', 'familia', 'fantasia', 'estrangeiro', 'historia', 'horror', 'musical', 'misterio', 'romance', 'ficcao_cientifica', 'filmes_tv', 'suspense', 'gerra', 'ocidental']\n",
    "\n",
    "valores = [sum(dataset.acao == True), sum(dataset.aventura == True), sum(dataset.animacao == True), sum(dataset.comedia == True), sum(dataset.crime == True), sum(dataset.documentario == True), sum(dataset.drama == True), sum(dataset.familia == True), sum(dataset.fantasia == True), sum(dataset.estrangeiro == True), sum(dataset.historia == True), sum(dataset.horror == True), sum(dataset.musical == True), sum(dataset.misterio == True), sum(dataset.romance == True), sum(dataset.ficcao_cientifica == True), sum(dataset.filmes_tv == True), sum(dataset.suspense == True), sum(dataset.gerra == True), sum(dataset.ocidental == True)]\n",
    "\n",
    "plt.xlabel(\"Generos\")\n",
    "plt.ylabel(\"Qtde por genero\")\n",
    "plt.title(\"Total de filmes por gênero\")\n",
    "plt.xticks(rotation=90)\n",
    "\n",
    "plt.bar(grupos, valores)\n",
    "plt.show()"
   ]
  },
  {
   "cell_type": "code",
   "execution_count": null,
   "metadata": {},
   "outputs": [],
   "source": [
    "# --------------------------------------------\n",
    "Conforme observamos, o gênero DRAMA é o com maior quantidade no dataset, seguindo do comédia, ação e suspense\n",
    "# --------------------------------------------"
   ]
  },
  {
   "cell_type": "code",
   "execution_count": null,
   "metadata": {},
   "outputs": [],
   "source": [
    "# ----------------- avaliando cada feature contínua  ------------------------\n",
    "\n",
    "ex: media\n",
    "'ano_lancamento',  'despesas', 'popularidade', 'receita', 'duracao', 'novo_pais_producao', 'novo_idiomas_falados','novo_cia_producao', 'qtde_votos', 'media_votos'\n"
   ]
  },
  {
   "cell_type": "code",
   "execution_count": null,
   "metadata": {},
   "outputs": [],
   "source": [
    "################## ano_lancamento ######################\n",
    "#Quais anos de lançamento são os mais frequentes?"
   ]
  },
  {
   "cell_type": "code",
   "execution_count": null,
   "metadata": {},
   "outputs": [],
   "source": [
    "dataset.ano_lancamento"
   ]
  },
  {
   "cell_type": "code",
   "execution_count": null,
   "metadata": {},
   "outputs": [],
   "source": [
    "len(dataset.ano_lancamento.unique())"
   ]
  },
  {
   "cell_type": "code",
   "execution_count": null,
   "metadata": {},
   "outputs": [],
   "source": [
    "# os 10 anos de lançamento mais frequentes\n",
    "dataset.groupby(by='ano_lancamento').size().sort_values(ascending = False).head(10)"
   ]
  },
  {
   "cell_type": "code",
   "execution_count": null,
   "metadata": {},
   "outputs": [],
   "source": [
    "# visualizando as 20 anos de lançamento mais frequentes\n",
    "dataset.groupby(by='ano_lancamento').size().sort_values(ascending = False).head(20).plot.bar()\n",
    "\n",
    "plt.rcParams['figure.figsize'] = [15, 5]\n",
    "plt.ylim(0, 2000)\n",
    "\n",
    "plt.xticks(rotation=0)\n",
    "\n",
    "plt.ylabel('Qtde')\n",
    "plt.xlabel('Ano de lançamento dos filmes')\n",
    "plt.title('Os 20 anos lançamentos mais frequentes')"
   ]
  },
  {
   "cell_type": "code",
   "execution_count": null,
   "metadata": {},
   "outputs": [],
   "source": [
    "# --------------------------------------------\n",
    "Conforme avaliamos, dos filmes do dataset, os anos com mais quantidade de filmes lançados foi 2014, com 1916 filmes, seguido de 2015 com 1855 e 2013 com 1851.\n",
    "# --------------------------------------------"
   ]
  },
  {
   "cell_type": "code",
   "execution_count": null,
   "metadata": {},
   "outputs": [],
   "source": [
    "############# despesas ###############"
   ]
  },
  {
   "cell_type": "code",
   "execution_count": null,
   "metadata": {},
   "outputs": [],
   "source": [
    "dataset.despesas.describe()"
   ]
  },
  {
   "cell_type": "code",
   "execution_count": null,
   "metadata": {},
   "outputs": [],
   "source": [
    "# os 10 anos de lançamento mais frequentes\n",
    "dataset.groupby(by='despesas').size().sort_values(ascending = False).head(10)"
   ]
  },
  {
   "cell_type": "code",
   "execution_count": null,
   "metadata": {},
   "outputs": [],
   "source": [
    "# --------------------------------------------\n",
    "Conforme observamos, a maior parte dos filmes não possui informação de despesas. Portanto, será avaliado exclir a featere da análise e predição\n",
    "# --------------------------------------------"
   ]
  },
  {
   "cell_type": "code",
   "execution_count": null,
   "metadata": {},
   "outputs": [],
   "source": [
    "###################### popularidade #######################"
   ]
  },
  {
   "cell_type": "code",
   "execution_count": null,
   "metadata": {},
   "outputs": [],
   "source": [
    "dataset.popularidade.head(3)"
   ]
  },
  {
   "cell_type": "code",
   "execution_count": null,
   "metadata": {},
   "outputs": [],
   "source": [
    "dataset.popularidade.describe()"
   ]
  },
  {
   "cell_type": "code",
   "execution_count": null,
   "metadata": {},
   "outputs": [],
   "source": [
    "# qtde de registros unicos de popularidade\n",
    "len(dataset.popularidade.unique())"
   ]
  },
  {
   "cell_type": "code",
   "execution_count": null,
   "metadata": {},
   "outputs": [],
   "source": [
    "# os 10 maiores valores de popularidade\n",
    "dataset.groupby(by='popularidade').size().sort_values(ascending = False).head(10)"
   ]
  },
  {
   "cell_type": "code",
   "execution_count": null,
   "metadata": {},
   "outputs": [],
   "source": [
    "################### receita #################"
   ]
  },
  {
   "cell_type": "code",
   "execution_count": null,
   "metadata": {},
   "outputs": [],
   "source": [
    "dataset.receita.head(3)"
   ]
  },
  {
   "cell_type": "code",
   "execution_count": null,
   "metadata": {},
   "outputs": [],
   "source": [
    "dataset.receita.describe()"
   ]
  },
  {
   "cell_type": "code",
   "execution_count": null,
   "metadata": {},
   "outputs": [],
   "source": [
    "# qtde de registros únicos de receita\n",
    "len(dataset.receita.unique())"
   ]
  },
  {
   "cell_type": "code",
   "execution_count": null,
   "metadata": {},
   "outputs": [],
   "source": [
    "dataset.receita.value_counts(normalize=True)"
   ]
  },
  {
   "cell_type": "code",
   "execution_count": null,
   "metadata": {},
   "outputs": [],
   "source": [
    "# Avaliando a feature alvo\n",
    "dataset.media_votos.describe()"
   ]
  },
  {
   "cell_type": "code",
   "execution_count": null,
   "metadata": {},
   "outputs": [],
   "source": [
    "print ('Qtde de registros unicos no target: ', len(dataset.media_votos.unique()))"
   ]
  },
  {
   "cell_type": "code",
   "execution_count": null,
   "metadata": {},
   "outputs": [],
   "source": [
    "# ao plotar o target (media_votos), observamos que a maioria está entre 4 e 8 \n",
    "dataset['media_votos'].sort_values(ascending = True).plot()"
   ]
  },
  {
   "cell_type": "code",
   "execution_count": null,
   "metadata": {},
   "outputs": [],
   "source": [
    "dataset['qtde_votos'].plot()"
   ]
  },
  {
   "cell_type": "code",
   "execution_count": null,
   "metadata": {},
   "outputs": [],
   "source": [
    "dataset.plot(x='media_votos',y='qtde_votos',kind='scatter', title='media_votos x qtde_votos',color='r')"
   ]
  },
  {
   "cell_type": "code",
   "execution_count": null,
   "metadata": {},
   "outputs": [],
   "source": [
    "#media_votos ordenada\n",
    "dataset.loc[(dataset['media_votos']>=9)].sort_values(by = 'media_votos', ascending=False)"
   ]
  },
  {
   "cell_type": "code",
   "execution_count": null,
   "metadata": {},
   "outputs": [],
   "source": [
    "########################3 avaliando as features de genero ##################################\n",
    "''''acao', 'aventura', 'animacao', 'comedia', 'crime', 'documentario', 'drama', 'familia', 'fantasia', 'estrangeiro', 'historia', 'horror', 'musical', 'misterio', 'romance', 'ficcao_cientifica', 'filmes_tv', 'suspense', 'gerra', 'ocidental' '''\n",
    "\n",
    "#Visualizando todas as variáveis com target\n",
    "x = dataset.groupby(['media_votos']).sum()\n",
    "\n",
    "x['acao'].plot(kind = 'line',color='green', title='Total da classe/acao',grid=True, stacked=True)\n",
    "x['aventura'].plot(kind = 'line',color='red', title='Total da classe/target por V2',grid=True, stacked=True)\n",
    "x['animacao'].plot(kind = 'line',color='purple', title='Total da classe/target por V2',grid=True, stacked=True)\n",
    "x['comedia'].plot(kind = 'line',color='aqua', title='Total da classe/target por V2',grid=True, stacked=True)\n",
    "x['crime'].plot(kind = 'line',color='azure', title='Total da classe/target por V2',grid=True, stacked=True)\n",
    "x['documentario'].plot(kind = 'line',color='brown', title='Total da classe/target por V2',grid=True, stacked=True)\n",
    "x['drama'].plot(kind = 'line',color='coral', title='Total da classe/target por V2',grid=True, stacked=True)\n",
    "x['familia'].plot(kind = 'line',color='darkblue', title='Total da classe/target por V2',grid=True, stacked=True)\n",
    "x['fantasia'].plot(kind = 'line',color='gold', title='Total da classe/target por V2',grid=True, stacked=True)\n",
    "x['estrangeiro'].plot(kind = 'line',color='grey', title='Total da classe/target por V2',grid=True, stacked=True)\n",
    "x['historia'].plot(kind = 'line',color='lavender', title='Total da classe/target por V2',grid=True, stacked=True)\n",
    "x['horror'].plot(kind = 'line',color='magenta', title='Total da classe/target por V2',grid=True, stacked=True)\n",
    "x['musical'].plot(kind = 'line',color='beige', title='Total da classe/target por V2',grid=True, stacked=True)\n",
    "x['misterio'].plot(kind = 'line',color='lime', title='Total da classe/target por V2',grid=True, stacked=True)\n",
    "x['romance'].plot(kind = 'line',color='lime', title='Total da classe/target por V2',grid=True, stacked=True)\n",
    "x['ficcao_cientifica'].plot(kind = 'line',color='lime', title='Total da classe/target por V2',grid=True, stacked=True)\n",
    "x['filmes_tv'].plot(kind = 'line',color='lime', title='Total da classe/target por V2',grid=True, stacked=True)\n",
    "x['suspense'].plot(kind = 'line',color='lime', title='Total da classe/target por V2',grid=True, stacked=True)\n",
    "x['gerra'].plot(kind = 'line',color='lime', title='Total da classe/target por V2',grid=True, stacked=True)\n",
    "x['ocidental'].plot(kind = 'line',color='lime', title='Total da classe/target por V2',grid=True, stacked=True)\n",
    "\n",
    "plt.xlabel(\"Generos\")\n",
    "plt.ylabel(\"media_votos\")\n"
   ]
  },
  {
   "cell_type": "code",
   "execution_count": null,
   "metadata": {},
   "outputs": [],
   "source": [
    "#round(df_2007_2018['media'].value_counts(normalize=True) * 100, 2).plot.bar()\n",
    "#dados = dataset.loc[(dataset['media_votos']>=9)]\n",
    "dados = dataset.loc[(dataset['media_votos']>=9)].sort_values(by = 'media_votos', ascending=False)\n",
    "\n",
    "dados['media_votos'].value_counts().head(10).plot.bar()\n",
    "\n",
    "plt.rcParams['figure.figsize'] = [15, 5]\n",
    "plt.ylim(0, 2000)\n",
    "\n",
    "plt.ylabel('Media votos')\n",
    "plt.xlabel('filmes')\n",
    "plt.title('Os filmes com maior média de votos')"
   ]
  },
  {
   "cell_type": "code",
   "execution_count": null,
   "metadata": {},
   "outputs": [],
   "source": [
    "dataset.groupby(by='media_votos').size() < = 6.0"
   ]
  },
  {
   "cell_type": "code",
   "execution_count": null,
   "metadata": {},
   "outputs": [],
   "source": [
    "dataset.hist(column=\"media_votos\",by=\"aventura\",bins=30)\n"
   ]
  },
  {
   "cell_type": "code",
   "execution_count": null,
   "metadata": {},
   "outputs": [],
   "source": [
    "# Filtrando os dados do tipo float:\n",
    "dataset.select_dtypes(include=['float'])"
   ]
  },
  {
   "cell_type": "code",
   "execution_count": null,
   "metadata": {},
   "outputs": [],
   "source": [
    "# Filtrando os dados do tipo object:\n",
    "dataset.select_dtypes(include=['object'])"
   ]
  },
  {
   "cell_type": "code",
   "execution_count": null,
   "metadata": {},
   "outputs": [],
   "source": []
  },
  {
   "cell_type": "code",
   "execution_count": null,
   "metadata": {},
   "outputs": [],
   "source": []
  },
  {
   "cell_type": "code",
   "execution_count": null,
   "metadata": {},
   "outputs": [],
   "source": [
    " # ---------------- HIPÓTESE - Quais são os 20 filmes mais populares?"
   ]
  },
  {
   "cell_type": "code",
   "execution_count": null,
   "metadata": {},
   "outputs": [],
   "source": [
    "len(round(filmes.popularidade,2).unique())"
   ]
  },
  {
   "cell_type": "code",
   "execution_count": null,
   "metadata": {},
   "outputs": [],
   "source": [
    "plt.plot(filmes.popularidade.head(20), \"bx\")"
   ]
  },
  {
   "cell_type": "code",
   "execution_count": null,
   "metadata": {},
   "outputs": [],
   "source": [
    "# Plotando o gráfico (Tentativa 1)\n",
    "plt.plot(filmes.popularidade.head(10).sort_values(ascending=True), filmes.titulo_original.head(10))\n",
    "plt.ylabel(\"Títulos\")\n",
    "plt.xlabel(\"Popularidade\")\n",
    "plt.title(\"Gráfico de Popularidade x Título (Tentativa 1)\")"
   ]
  },
  {
   "cell_type": "code",
   "execution_count": null,
   "metadata": {},
   "outputs": [],
   "source": [
    "# Plotando o gráfico (Tentativa 2)\n",
    "plt.scatter(filmes.popularidade.head(20).sort_values(ascending=True), filmes.titulo_original.head(20))\n",
    "plt.ylabel(\"Título\")\n",
    "plt.xlabel(\"Popularidade\")\n",
    "plt.title(\"Gráfico de Popularidade x Título (Tentativa 2)\")"
   ]
  },
  {
   "cell_type": "code",
   "execution_count": null,
   "metadata": {},
   "outputs": [],
   "source": [
    " # ---------------- HIPÓTESE - Quais são os gêneros de filmes mais assistidos?"
   ]
  },
  {
   "cell_type": "code",
   "execution_count": null,
   "metadata": {},
   "outputs": [],
   "source": [
    "#Qtde de filmes que possuem a categoria animacao\n",
    "dataset.groupby(by='animacao').size()"
   ]
  },
  {
   "cell_type": "code",
   "execution_count": null,
   "metadata": {},
   "outputs": [],
   "source": [
    "#qual foi a média de idade e a quantidade de passageiros que sobreviveram e que não sobreviveram por sexo. \n",
    "df.groupby(['Sex','Survived']).agg({'Age': np.mean, 'PassengerId': np.size})"
   ]
  },
  {
   "cell_type": "code",
   "execution_count": null,
   "metadata": {},
   "outputs": [],
   "source": [
    "plt.plot(filmes.genero.head(20), \"bx\")"
   ]
  },
  {
   "cell_type": "code",
   "execution_count": null,
   "metadata": {},
   "outputs": [],
   "source": [
    " # ---------------- HIPÓTESE - Existe relação dos filmes mais bem avaliados para a empresa que o produziu?"
   ]
  },
  {
   "cell_type": "code",
   "execution_count": null,
   "metadata": {},
   "outputs": [],
   "source": [
    " # ---------------- HIPÓTESE - Há influência dos idiomas disponíveis no filmes na avaliação dos filmes?"
   ]
  },
  {
   "cell_type": "markdown",
   "metadata": {},
   "source": [
    "### 5) Modelagem 30%\n",
    "\n",
    "Agora você terá mais uma oportunidade de mostrar o que você aprendeu durante o módulo 2 quanto a modelagem de dados e criação de modelos. Utilizando os dados preparados na seção 1 e após a análise feita na seção 2 você deverá:\n",
    "1. **Defina um problema de regressão ou classificação que envolva uma variável dos seus dados.**"
   ]
  },
  {
   "cell_type": "markdown",
   "metadata": {},
   "source": [
    "***---> Comente brevemente sua decisão aqui.***"
   ]
  },
  {
   "cell_type": "markdown",
   "metadata": {},
   "source": [
    "2. **Realize ao menos 2 técnicas de processamento e seleção de features.**\n",
    "    * Isto inclui, normalização, PCA, e técnicas de seleção de features como information gain. Seja criativo pois está parte é crucial para seu modelo. Você pode escolhar manualmente as features desde que seja justificada na seção 2 (parte de Análise).\n"
   ]
  },
  {
   "cell_type": "code",
   "execution_count": null,
   "metadata": {},
   "outputs": [],
   "source": []
  },
  {
   "cell_type": "markdown",
   "metadata": {},
   "source": [
    "3. **Defina uma métrica para avaliar o seu modelo.**\n",
    "    * Por exemplo, você pode utilizar MAE (Mean Absolute Error) para um problema de regressão. Ou, F1-Score para um problema de classificação. Há varias métricas, então escolha sabiamente.\n"
   ]
  },
  {
   "cell_type": "markdown",
   "metadata": {},
   "source": [
    "***---> Comente brevemente sua decisão aqui.***"
   ]
  },
  {
   "cell_type": "markdown",
   "metadata": {},
   "source": [
    "4. **Divida seus dados em 2 conjuntos. Um de treino e outro conjunto de teste.**\n",
    "    * Treine e otimize seu modelo no conjunto de treino e apenas use o conjunto de teste para apresentar os resultados finais.\n"
   ]
  },
  {
   "cell_type": "code",
   "execution_count": null,
   "metadata": {},
   "outputs": [],
   "source": []
  },
  {
   "cell_type": "markdown",
   "metadata": {},
   "source": [
    "5. **Treine um ou mais modelos de ML para o seu problema.**\n",
    "    * Escolha 1 ou mais tipos de classificadores ou regressores dependendo do seu problema.\n",
    "    * Por exemplo, TreeClassifier para um problema de classificação. \n",
    "    * Use cross-validation e outras técnicas como GridSearch e ou RandomizedSearch para encontrar os melhores parametros para o seu modelo.\n"
   ]
  },
  {
   "cell_type": "code",
   "execution_count": null,
   "metadata": {},
   "outputs": [],
   "source": []
  },
  {
   "cell_type": "markdown",
   "metadata": {},
   "source": [
    "6. **Apresente (com visualizações) os resultados do seu modelo mostrando que ele é melhor do que um baseline não aleatório.**\n",
    "    * Para o baseline, você pode escolher um modelo bem trivial mas não aleatório. Por exemplo, para um problema de classificação um baseline pode ser a classe mais presente caso o conjunto de dados seja desbalanceado.  Um modelo mais simples também pode ser utilizado como baseline, por exemplo, você escolheu um Random Forest Classifier, e comparou os resultados um Logistic Regression. Você pode até mesmo escolher um modelo de AutoML(como TPOT) como Baseline."
   ]
  },
  {
   "cell_type": "code",
   "execution_count": null,
   "metadata": {},
   "outputs": [],
   "source": []
  },
  {
   "cell_type": "markdown",
   "metadata": {},
   "source": [
    "### 6) Conclusões **10%**"
   ]
  },
  {
   "cell_type": "markdown",
   "metadata": {},
   "source": [
    "*Partindo das suas hipoteses e investigações, o que você consegue concluir? Suas hipoteses se concretizaram?*"
   ]
  },
  {
   "cell_type": "markdown",
   "metadata": {},
   "source": []
  }
 ],
 "metadata": {
  "file_extension": ".py",
  "kernelspec": {
   "display_name": "Python 3.7.0 64-bit",
   "language": "python",
   "name": "python37064bitc01724e9609b4d719b1530c185cd833e"
  },
  "language_info": {
   "codemirror_mode": {
    "name": "ipython",
    "version": 3
   },
   "file_extension": ".py",
   "mimetype": "text/x-python",
   "name": "python",
   "nbconvert_exporter": "python",
   "pygments_lexer": "ipython3",
   "version": "3.7.0-final"
  },
  "mimetype": "text/x-python",
  "name": "python",
  "npconvert_exporter": "python",
  "pygments_lexer": "ipython3",
  "version": 3
 },
 "nbformat": 4,
 "nbformat_minor": 2
}