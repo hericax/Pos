{
  "nbformat": 4,
  "nbformat_minor": 0,
  "metadata": {
    "file_extension": ".py",
    "kernelspec": {
      "display_name": "Python 3",
      "language": "python",
      "name": "python3"
    },
    "language_info": {
      "codemirror_mode": {
        "name": "ipython",
        "version": 3
      },
      "file_extension": ".py",
      "mimetype": "text/x-python",
      "name": "python",
      "nbconvert_exporter": "python",
      "pygments_lexer": "ipython3",
      "version": "3.7.6"
    },
    "mimetype": "text/x-python",
    "name": "python",
    "npconvert_exporter": "python",
    "pygments_lexer": "ipython3",
    "version": 3,
    "colab": {
      "name": "template original.ipynb",
      "provenance": [],
      "include_colab_link": true
    }
  },
  "cells": [
    {
      "cell_type": "markdown",
      "metadata": {
        "id": "view-in-github",
        "colab_type": "text"
      },
      "source": [
        "<a href=\"https://colab.research.google.com/github/hericax/Pos/blob/master/projeto_3/aed_projeto_3(colab).ipynb\" target=\"_parent\"><img src=\"https://colab.research.google.com/assets/colab-badge.svg\" alt=\"Open In Colab\"/></a>"
      ]
    },
    {
      "cell_type": "markdown",
      "metadata": {
        "id": "SmzfOYVlzkXy",
        "colab_type": "text"
      },
      "source": [
        "# Projeto #3 - Meu primeiro projeto de IA\n",
        "\n",
        "Antes de começar, leia as [Instruções](https://github.com/thvmm/pos-ds-ia/blob/master/projeto_3/README.md) e os [Critérios de Avaliação](https://github.com/thvmm/pos-ds-ia/blob/master/projeto_3/README.md).\n"
      ]
    },
    {
      "cell_type": "markdown",
      "metadata": {
        "id": "LffjqDKOzkYH",
        "colab_type": "text"
      },
      "source": [
        "### 1) **(5%)** Qual a base escolhida e qual seu interesse nela (podem ser mais de uma)? Descrição básica do conjunto de dados escolhido pelo aluno (1 parágrafo)."
      ]
    },
    {
      "cell_type": "markdown",
      "metadata": {
        "id": "vrW_dbUUzkYM",
        "colab_type": "text"
      },
      "source": [
        "*Indique o link da base no Kaggle e explique em um parágrafo curto por que essa base é interessante para você. Quais são as características básicas da base?*\n",
        "\n",
        "Ex: Estou trabalhando com o histório de vendas de um varejo e uma outra base do mesmo varejista das suas campanhas de marketing realizadas em veiculos de comunicação."
      ]
    },
    {
      "cell_type": "markdown",
      "metadata": {},
      "source": [
        "A base escolhida é de filmes - https://www.kaggle.com/rounakbanik/the-movies-dataset\n",
        "\n",
        "O conjunto de dados consiste em filmes lançados em ou antes de julho de 2017. Os pontos de dados incluem elenco, equipe, palavras-chave da trama, orçamento, receita, pôsteres, datas de lançamento, idiomas, empresas de produção, países, contagem de votos no TMDB e média de votos. \n",
        "O conjunto possui 6 arquivo, o que foi utilizado no trabalho é o movies_metadata.csv, que contém informações sobre 45.000 filmes em destaque no conjunto de dados Full MovieLens. Este conjunto de dados também possui arquivos contendo 26 milhões de classificações, de 270.000 usuários para todos os 45.000 filmes. \n",
        "\n",
        "As classificações estão em uma escala de 1 a 5 e foram obtidas no site oficial do GroupLens."
      ]
    },
    {
      "cell_type": "markdown",
      "metadata": {
        "id": "pp2W2lJTzkYP",
        "colab_type": "text"
      },
      "source": [
        "### 2) **(5%)** Que tipo de problema podemos solucionar com ela? Liste ao menos 3 hipóteses sobre seus dados, caso sua base seja muito restrita converse com os professores antes de seguir.\n",
        "- Quais são suas hipoteses sobre os dados? O que vc espera descobrir com esse estudo?\n",
        "\n",
        "Ex: Hipoteses válidas seriam:\n",
        "- As pessoas fazem mais compras nos dias utéis ou finais de semana?\n",
        "- Existe diferença entre o padrão de compra de segunda ou terça feira?\n",
        "- O horário de pico influencia no padrão de compra dos clientes?\n",
        "- Quais produtos são comprados mais juntos? Existe diferença se observarmos a idade do cliente?\n",
        "- Qual o efeito de uma campanha de marketing nas vendas?\n"
      ]
    },
    {
      "cell_type": "markdown",
      "metadata": {},
      "source": [
        "Hipóteses: \n",
        "\n",
        "1 - Quais são os gêneros de filmes melhor avaliados? \n",
        "\n",
        "2 - Existe relação dos filmes mais bem avaliados para a empresa que o produziu? \n",
        "\n",
        "3 - Há influência dos idiomas disponíveis no filmes na avaliação dos filmes?"
      ]
    },
    {
      "cell_type": "markdown",
      "metadata": {
        "id": "h5bMqj21zkYS",
        "colab_type": "text"
      },
      "source": [
        "\n",
        "### 3) **(20%)** Preparação de dados\n",
        "\n",
        "Hora de deixar a base perfeita para se trabalhar. Limpe os dados, integre com outras fontes e transforme-o para ficar pronto para se trabalhar! No fim, mostre um antes e depois de seu dataframe."
      ]
    },
    {
      "cell_type": "code",
      "execution_count": 1,
      "metadata": {
        "colab": {},
        "colab_type": "code",
        "id": "8USWpLyCzkYV"
      },
      "outputs": [],
      "source": [
        "# IMPORTANDO BIBLIOTECAS\n",
        "\n",
        "# básicas\n",
        "import pandas as pd\n",
        "import numpy as np\n",
        "\n",
        "# visualização\n",
        "import matplotlib.pyplot as plt\n",
        "import matplotlib\n",
        "import seaborn as sns\n",
        "import missingno as msno #! pip install missingno\n",
        "\n",
        "# modelos\n"
      ]
    },
    {
      "cell_type": "code",
      "execution_count": 2,
      "metadata": {
        "tags": []
      },
      "outputs": [],
      "source": [
        "# Leitura do dataset\n",
        "filmes = pd.read_csv('C:/Users/Herica/Desktop/Herica/cursoIACD/bases/filmes/movies_metadata.csv')"
      ]
    },
    {
      "cell_type": "code",
      "execution_count": 3,
      "metadata": {},
      "outputs": [
        {
          "output_type": "execute_result",
          "data": {
            "text/plain": "   adult                              belongs_to_collection    budget  \\\n0  False  {'id': 10194, 'name': 'Toy Story Collection', ...  30000000   \n1  False                                                NaN  65000000   \n2  False  {'id': 119050, 'name': 'Grumpy Old Men Collect...         0   \n\n                                              genres  \\\n0  [{'id': 16, 'name': 'Animation'}, {'id': 35, '...   \n1  [{'id': 12, 'name': 'Adventure'}, {'id': 14, '...   \n2  [{'id': 10749, 'name': 'Romance'}, {'id': 35, ...   \n\n                               homepage     id    imdb_id original_language  \\\n0  http://toystory.disney.com/toy-story    862  tt0114709                en   \n1                                   NaN   8844  tt0113497                en   \n2                                   NaN  15602  tt0113228                en   \n\n     original_title                                           overview  ...  \\\n0         Toy Story  Led by Woody, Andy's toys live happily in his ...  ...   \n1           Jumanji  When siblings Judy and Peter discover an encha...  ...   \n2  Grumpier Old Men  A family wedding reignites the ancient feud be...  ...   \n\n  release_date      revenue runtime  \\\n0   1995-10-30  373554033.0    81.0   \n1   1995-12-15  262797249.0   104.0   \n2   1995-12-22          0.0   101.0   \n\n                                    spoken_languages    status  \\\n0           [{'iso_639_1': 'en', 'name': 'English'}]  Released   \n1  [{'iso_639_1': 'en', 'name': 'English'}, {'iso...  Released   \n2           [{'iso_639_1': 'en', 'name': 'English'}]  Released   \n\n                                             tagline             title  video  \\\n0                                                NaN         Toy Story  False   \n1          Roll the dice and unleash the excitement!           Jumanji  False   \n2  Still Yelling. Still Fighting. Still Ready for...  Grumpier Old Men  False   \n\n  vote_average vote_count  \n0          7.7     5415.0  \n1          6.9     2413.0  \n2          6.5       92.0  \n\n[3 rows x 24 columns]",
            "text/html": "<div>\n<style scoped>\n    .dataframe tbody tr th:only-of-type {\n        vertical-align: middle;\n    }\n\n    .dataframe tbody tr th {\n        vertical-align: top;\n    }\n\n    .dataframe thead th {\n        text-align: right;\n    }\n</style>\n<table border=\"1\" class=\"dataframe\">\n  <thead>\n    <tr style=\"text-align: right;\">\n      <th></th>\n      <th>adult</th>\n      <th>belongs_to_collection</th>\n      <th>budget</th>\n      <th>genres</th>\n      <th>homepage</th>\n      <th>id</th>\n      <th>imdb_id</th>\n      <th>original_language</th>\n      <th>original_title</th>\n      <th>overview</th>\n      <th>...</th>\n      <th>release_date</th>\n      <th>revenue</th>\n      <th>runtime</th>\n      <th>spoken_languages</th>\n      <th>status</th>\n      <th>tagline</th>\n      <th>title</th>\n      <th>video</th>\n      <th>vote_average</th>\n      <th>vote_count</th>\n    </tr>\n  </thead>\n  <tbody>\n    <tr>\n      <th>0</th>\n      <td>False</td>\n      <td>{'id': 10194, 'name': 'Toy Story Collection', ...</td>\n      <td>30000000</td>\n      <td>[{'id': 16, 'name': 'Animation'}, {'id': 35, '...</td>\n      <td>http://toystory.disney.com/toy-story</td>\n      <td>862</td>\n      <td>tt0114709</td>\n      <td>en</td>\n      <td>Toy Story</td>\n      <td>Led by Woody, Andy's toys live happily in his ...</td>\n      <td>...</td>\n      <td>1995-10-30</td>\n      <td>373554033.0</td>\n      <td>81.0</td>\n      <td>[{'iso_639_1': 'en', 'name': 'English'}]</td>\n      <td>Released</td>\n      <td>NaN</td>\n      <td>Toy Story</td>\n      <td>False</td>\n      <td>7.7</td>\n      <td>5415.0</td>\n    </tr>\n    <tr>\n      <th>1</th>\n      <td>False</td>\n      <td>NaN</td>\n      <td>65000000</td>\n      <td>[{'id': 12, 'name': 'Adventure'}, {'id': 14, '...</td>\n      <td>NaN</td>\n      <td>8844</td>\n      <td>tt0113497</td>\n      <td>en</td>\n      <td>Jumanji</td>\n      <td>When siblings Judy and Peter discover an encha...</td>\n      <td>...</td>\n      <td>1995-12-15</td>\n      <td>262797249.0</td>\n      <td>104.0</td>\n      <td>[{'iso_639_1': 'en', 'name': 'English'}, {'iso...</td>\n      <td>Released</td>\n      <td>Roll the dice and unleash the excitement!</td>\n      <td>Jumanji</td>\n      <td>False</td>\n      <td>6.9</td>\n      <td>2413.0</td>\n    </tr>\n    <tr>\n      <th>2</th>\n      <td>False</td>\n      <td>{'id': 119050, 'name': 'Grumpy Old Men Collect...</td>\n      <td>0</td>\n      <td>[{'id': 10749, 'name': 'Romance'}, {'id': 35, ...</td>\n      <td>NaN</td>\n      <td>15602</td>\n      <td>tt0113228</td>\n      <td>en</td>\n      <td>Grumpier Old Men</td>\n      <td>A family wedding reignites the ancient feud be...</td>\n      <td>...</td>\n      <td>1995-12-22</td>\n      <td>0.0</td>\n      <td>101.0</td>\n      <td>[{'iso_639_1': 'en', 'name': 'English'}]</td>\n      <td>Released</td>\n      <td>Still Yelling. Still Fighting. Still Ready for...</td>\n      <td>Grumpier Old Men</td>\n      <td>False</td>\n      <td>6.5</td>\n      <td>92.0</td>\n    </tr>\n  </tbody>\n</table>\n<p>3 rows × 24 columns</p>\n</div>"
          },
          "metadata": {},
          "execution_count": 3
        }
      ],
      "source": [
        "# Pré-visaulização do dataset\n",
        "filmes.head(3)"
      ]
    },
    {
      "cell_type": "code",
      "execution_count": 4,
      "metadata": {
        "tags": []
      },
      "outputs": [
        {
          "output_type": "stream",
          "name": "stdout",
          "text": "Número de linhas e número de colunas: (45466, 24)\n"
        }
      ],
      "source": [
        "# tamanho da base\n",
        "print('Número de linhas e número de colunas:', filmes.shape)"
      ]
    },
    {
      "cell_type": "code",
      "execution_count": 7,
      "metadata": {},
      "outputs": [],
      "source": [
        "# fazendo uma cópia do dataset para ser trabalhado\n",
        "df = filmes.copy()"
      ]
    },
    {
      "cell_type": "code",
      "execution_count": 8,
      "metadata": {
        "tags": []
      },
      "outputs": [
        {
          "output_type": "stream",
          "name": "stdout",
          "text": "Número de linhas e número de colunas: (45466, 24)\n"
        }
      ],
      "source": [
        "# tamanho da base\n",
        "print('Número de linhas e número de colunas:', df.shape)"
      ]
    },
    {
      "cell_type": "code",
      "execution_count": 9,
      "metadata": {
        "tags": []
      },
      "outputs": [
        {
          "output_type": "stream",
          "name": "stdout",
          "text": "<class 'pandas.core.frame.DataFrame'>\nRangeIndex: 45466 entries, 0 to 45465\nData columns (total 24 columns):\nadult                    45466 non-null object\nbelongs_to_collection    4494 non-null object\nbudget                   45466 non-null object\ngenres                   45466 non-null object\nhomepage                 7782 non-null object\nid                       45466 non-null object\nimdb_id                  45449 non-null object\noriginal_language        45455 non-null object\noriginal_title           45466 non-null object\noverview                 44512 non-null object\npopularity               45461 non-null object\nposter_path              45080 non-null object\nproduction_companies     45463 non-null object\nproduction_countries     45463 non-null object\nrelease_date             45379 non-null object\nrevenue                  45460 non-null float64\nruntime                  45203 non-null float64\nspoken_languages         45460 non-null object\nstatus                   45379 non-null object\ntagline                  20412 non-null object\ntitle                    45460 non-null object\nvideo                    45460 non-null object\nvote_average             45460 non-null float64\nvote_count               45460 non-null float64\ndtypes: float64(4), object(20)\nmemory usage: 8.3+ MB\n"
        }
      ],
      "source": [
        "df.info()"
      ]
    },
    {
      "cell_type": "markdown",
      "metadata": {},
      "source": [
        "# RENOMEANDO AS FEATURES"
      ]
    },
    {
      "cell_type": "code",
      "execution_count": 10,
      "metadata": {},
      "outputs": [],
      "source": [
        "df = df.rename(columns={'id':'id_filme','adult': \"classificacao\", 'budget': 'despesas', 'genres': 'genero', 'original_language': 'lingua_original', 'original_title': 'titulo_original', 'overview': 'descricao', 'popularity': 'popularidade', 'production_companies': 'cia_producao', 'production_countries': 'pais_producao', 'release_date': 'data_lancamento', 'revenue': 'receita', 'runtime': 'duracao', 'spoken_languages': 'idiomas_falados', 'title': 'titulo', 'vote_average': 'media_votos', 'vote_count': 'qtde_votos','video': 'video'})"
      ]
    },
    {
      "cell_type": "code",
      "execution_count": 11,
      "metadata": {},
      "outputs": [
        {
          "output_type": "execute_result",
          "data": {
            "text/plain": "Index(['classificacao', 'belongs_to_collection', 'despesas', 'genero',\n       'homepage', 'id_filme', 'imdb_id', 'lingua_original', 'titulo_original',\n       'descricao', 'popularidade', 'poster_path', 'cia_producao',\n       'pais_producao', 'data_lancamento', 'receita', 'duracao',\n       'idiomas_falados', 'status', 'tagline', 'titulo', 'video',\n       'media_votos', 'qtde_votos'],\n      dtype='object')"
          },
          "metadata": {},
          "execution_count": 11
        }
      ],
      "source": [
        "# validando o nome das features\n",
        "df.columns"
      ]
    },
    {
      "cell_type": "markdown",
      "metadata": {},
      "source": [
        "# EXCLUSÃO DE FEATURES COM DADOS QUE NÃO SERÃO TRABALHADOS"
      ]
    },
    {
      "cell_type": "code",
      "execution_count": 12,
      "metadata": {},
      "outputs": [],
      "source": [
        "#dropar colunas consideradas irrelevantes na primeira análise ou que possuem muitos valores nulos\n",
        "df.drop(['belongs_to_collection'],axis = 1, inplace = True)\n",
        "df.drop(['homepage'],axis = 1, inplace = True)\n",
        "df.drop(['poster_path'],axis = 1, inplace = True)     \n",
        "df.drop(['tagline'],axis = 1, inplace = True)\n",
        "\n",
        "df.drop(['imdb_id'], inplace=True, axis=1)"
      ]
    },
    {
      "cell_type": "code",
      "execution_count": 13,
      "metadata": {
        "tags": []
      },
      "outputs": [
        {
          "output_type": "stream",
          "name": "stdout",
          "text": "Número de linhas e número de colunas: (45466, 19)\n"
        }
      ],
      "source": [
        "# tamanho da base\n",
        "print('Número de linhas e número de colunas:', df.shape)"
      ]
    },
    {
      "cell_type": "markdown",
      "metadata": {},
      "source": [
        "# DESCRIÇÃO DAS FEATURES"
      ]
    },
    {
      "cell_type": "markdown",
      "metadata": {},
      "source": [
        "'adulto' (booleano) - se o filme é exclusivo para adulto ou não . Contém dois valores: 'false' = 1, 'true' = 0\n",
        "\n",
        "'despesas' (numérico) - possui o valor gasto na produção e divulgação dos vídeos \n",
        "\n",
        "'genero' (dicionário / texto) - contém qual ou quais são os gênceros de cada filme. Um filme pode ter um ou gêneros. Contém 29 valores possíveis. \n",
        "\n",
        "'id' (numérico) - número que identifica o filme \n",
        "\n",
        "'imdb_id'  (alfanumérico)- número unico que identifica o filme na base do imdb \n",
        "\n",
        "'lingua_original' (texto) - qual é o idioma original do filme produzido. Possui 90 valores possíveis.\n",
        "\n",
        "'titulo_original' (texto) - titulo do filme \n",
        "\n",
        "'descricao' (texto) - descrição do filme \n",
        "\n",
        "'popularidade' (numérico)- qual é a popularidade do filme \n",
        "\n",
        "'cia_producao' (dicionário / texto) - qual(is) foi a companhia(s) que produziu o filme. Possui 19368 valores possíveis. Cada filme pode ter no mínimo um.\n",
        "\n",
        "'pais_producao' (dicionário / texto) - quais foram os países onde os filmes foram gravados. Possui 155 valores possíveis. Cada filme pode ter no mínimo um.\n",
        "\n",
        "'data_lancamento' (texto) - qual foi a data de lançamento do filme \n",
        "\n",
        "'receita'  (numérico) -  qual foi a receita obtida com o filme \n",
        "\n",
        "'duracao'  (numérico) - qual é a duração do filme em minutos \n",
        "\n",
        "'idiomas_falados' (dicionário/ texto) - quais são os idiomas que o filme possui tradução. Possui 73 valores possíveis.\n",
        "\n",
        "'status' (texto) - status do filmes. Possui 7 valores possíveis: 'Released', nan, 'Rumored', 'Post Production', 'In Production', 'Planned', 'Canceled'\n",
        "\n",
        "'slogan' (texto) - frase que define o filme. \n",
        "\n",
        "'titulo' (texto) - qual é o título do filme \n",
        "\n",
        "'video' (booleano) - se tem o video ou não do traile. Possui 3 valores possíveis: False, True, nan\n",
        "\n",
        "'media_votos'  (numérico)- qual é a média de votos dada pelos usuários \n",
        "\n",
        "'qtde_votos'  (numérico)- qual foi a quantidade de votos"
      ]
    },
    {
      "cell_type": "markdown",
      "metadata": {},
      "source": [
        "# VERIFICANDO DADOS NULOS GLOBAIS\n",
        "Cada feature será analisada"
      ]
    },
    {
      "cell_type": "code",
      "execution_count": 14,
      "metadata": {},
      "outputs": [
        {
          "output_type": "execute_result",
          "data": {
            "text/plain": "classificacao        0\ndespesas             0\ngenero               0\nid_filme             0\nlingua_original     11\ntitulo_original      0\ndescricao          954\npopularidade         5\ncia_producao         3\npais_producao        3\ndata_lancamento     87\nreceita              6\nduracao            263\nidiomas_falados      6\nstatus              87\ntitulo               6\nvideo                6\nmedia_votos          6\nqtde_votos           6\ndtype: int64"
          },
          "metadata": {},
          "execution_count": 14
        }
      ],
      "source": [
        "df.isnull().sum()"
      ]
    },
    {
      "cell_type": "code",
      "execution_count": 15,
      "metadata": {},
      "outputs": [
        {
          "output_type": "execute_result",
          "data": {
            "text/plain": "<matplotlib.axes._subplots.AxesSubplot at 0x1b3c83aaac8>"
          },
          "metadata": {},
          "execution_count": 15
        },
        {
          "output_type": "display_data",
          "data": {
            "text/plain": "<Figure size 720x504 with 3 Axes>",
            "image/svg+xml": "<?xml version=\"1.0\" encoding=\"utf-8\" standalone=\"no\"?>\r\n<!DOCTYPE svg PUBLIC \"-//W3C//DTD SVG 1.1//EN\"\r\n  \"http://www.w3.org/Graphics/SVG/1.1/DTD/svg11.dtd\">\r\n<!-- Created with matplotlib (https://matplotlib.org/) -->\r\n<svg height=\"565.176457pt\" version=\"1.1\" viewBox=\"0 0 698.149293 565.176457\" width=\"698.149293pt\" xmlns=\"http://www.w3.org/2000/svg\" xmlns:xlink=\"http://www.w3.org/1999/xlink\">\r\n <defs>\r\n  <style type=\"text/css\">\r\n*{stroke-linecap:butt;stroke-linejoin:round;}\r\n  </style>\r\n </defs>\r\n <g id=\"figure_1\">\r\n  <g id=\"patch_1\">\r\n   <path d=\"M 0 565.176457 \r\nL 698.149293 565.176457 \r\nL 698.149293 -0 \r\nL 0 -0 \r\nz\r\n\" style=\"fill:none;\"/>\r\n  </g>\r\n  <g id=\"axes_1\">\r\n   <g id=\"patch_2\">\r\n    <path d=\"M 75.049293 441.661284 \r\nL 633.049293 441.661284 \r\nL 633.049293 61.141284 \r\nL 75.049293 61.141284 \r\nz\r\n\" style=\"fill:#ffffff;\"/>\r\n   </g>\r\n   <g id=\"patch_3\">\r\n    <path clip-path=\"url(#p178a38f953)\" d=\"M 82.391398 441.661284 \r\nL 97.075609 441.661284 \r\nL 97.075609 61.141284 \r\nL 82.391398 61.141284 \r\nz\r\n\" style=\"fill:#696969;\"/>\r\n   </g>\r\n   <g id=\"patch_4\">\r\n    <path clip-path=\"url(#p178a38f953)\" d=\"M 111.759819 441.661284 \r\nL 126.44403 441.661284 \r\nL 126.44403 61.141284 \r\nL 111.759819 61.141284 \r\nz\r\n\" style=\"fill:#696969;\"/>\r\n   </g>\r\n   <g id=\"patch_5\">\r\n    <path clip-path=\"url(#p178a38f953)\" d=\"M 141.12824 441.661284 \r\nL 155.812451 441.661284 \r\nL 155.812451 61.141284 \r\nL 141.12824 61.141284 \r\nz\r\n\" style=\"fill:#696969;\"/>\r\n   </g>\r\n   <g id=\"patch_6\">\r\n    <path clip-path=\"url(#p178a38f953)\" d=\"M 170.496661 441.661284 \r\nL 185.180872 441.661284 \r\nL 185.180872 61.141284 \r\nL 170.496661 61.141284 \r\nz\r\n\" style=\"fill:#696969;\"/>\r\n   </g>\r\n   <g id=\"patch_7\">\r\n    <path clip-path=\"url(#p178a38f953)\" d=\"M 199.865082 441.661284 \r\nL 214.549293 441.661284 \r\nL 214.549293 61.233346 \r\nL 199.865082 61.233346 \r\nz\r\n\" style=\"fill:#696969;\"/>\r\n   </g>\r\n   <g id=\"patch_8\">\r\n    <path clip-path=\"url(#p178a38f953)\" d=\"M 229.233504 441.661284 \r\nL 243.917714 441.661284 \r\nL 243.917714 61.141284 \r\nL 229.233504 61.141284 \r\nz\r\n\" style=\"fill:#696969;\"/>\r\n   </g>\r\n   <g id=\"patch_9\">\r\n    <path clip-path=\"url(#p178a38f953)\" d=\"M 258.601925 441.661284 \r\nL 273.286135 441.661284 \r\nL 273.286135 69.125625 \r\nL 258.601925 69.125625 \r\nz\r\n\" style=\"fill:#696969;\"/>\r\n   </g>\r\n   <g id=\"patch_10\">\r\n    <path clip-path=\"url(#p178a38f953)\" d=\"M 287.970346 441.661284 \r\nL 302.654556 441.661284 \r\nL 302.654556 61.18313 \r\nL 287.970346 61.18313 \r\nz\r\n\" style=\"fill:#696969;\"/>\r\n   </g>\r\n   <g id=\"patch_11\">\r\n    <path clip-path=\"url(#p178a38f953)\" d=\"M 317.338767 441.661284 \r\nL 332.022977 441.661284 \r\nL 332.022977 61.166392 \r\nL 317.338767 61.166392 \r\nz\r\n\" style=\"fill:#696969;\"/>\r\n   </g>\r\n   <g id=\"patch_12\">\r\n    <path clip-path=\"url(#p178a38f953)\" d=\"M 346.707188 441.661284 \r\nL 361.391398 441.661284 \r\nL 361.391398 61.166392 \r\nL 346.707188 61.166392 \r\nz\r\n\" style=\"fill:#696969;\"/>\r\n   </g>\r\n   <g id=\"patch_13\">\r\n    <path clip-path=\"url(#p178a38f953)\" d=\"M 376.075609 441.661284 \r\nL 390.759819 441.661284 \r\nL 390.759819 61.869415 \r\nL 376.075609 61.869415 \r\nz\r\n\" style=\"fill:#696969;\"/>\r\n   </g>\r\n   <g id=\"patch_14\">\r\n    <path clip-path=\"url(#p178a38f953)\" d=\"M 405.44403 441.661284 \r\nL 420.12824 441.661284 \r\nL 420.12824 61.1915 \r\nL 405.44403 61.1915 \r\nz\r\n\" style=\"fill:#696969;\"/>\r\n   </g>\r\n   <g id=\"patch_15\">\r\n    <path clip-path=\"url(#p178a38f953)\" d=\"M 434.812451 441.661284 \r\nL 449.496661 441.661284 \r\nL 449.496661 63.342418 \r\nL 434.812451 63.342418 \r\nz\r\n\" style=\"fill:#696969;\"/>\r\n   </g>\r\n   <g id=\"patch_16\">\r\n    <path clip-path=\"url(#p178a38f953)\" d=\"M 464.180872 441.661284 \r\nL 478.865082 441.661284 \r\nL 478.865082 61.1915 \r\nL 464.180872 61.1915 \r\nz\r\n\" style=\"fill:#696969;\"/>\r\n   </g>\r\n   <g id=\"patch_17\">\r\n    <path clip-path=\"url(#p178a38f953)\" d=\"M 493.549293 441.661284 \r\nL 508.233504 441.661284 \r\nL 508.233504 61.869415 \r\nL 493.549293 61.869415 \r\nz\r\n\" style=\"fill:#696969;\"/>\r\n   </g>\r\n   <g id=\"patch_18\">\r\n    <path clip-path=\"url(#p178a38f953)\" d=\"M 522.917714 441.661284 \r\nL 537.601925 441.661284 \r\nL 537.601925 61.1915 \r\nL 522.917714 61.1915 \r\nz\r\n\" style=\"fill:#696969;\"/>\r\n   </g>\r\n   <g id=\"patch_19\">\r\n    <path clip-path=\"url(#p178a38f953)\" d=\"M 552.286135 441.661284 \r\nL 566.970346 441.661284 \r\nL 566.970346 61.1915 \r\nL 552.286135 61.1915 \r\nz\r\n\" style=\"fill:#696969;\"/>\r\n   </g>\r\n   <g id=\"patch_20\">\r\n    <path clip-path=\"url(#p178a38f953)\" d=\"M 581.654556 441.661284 \r\nL 596.338767 441.661284 \r\nL 596.338767 61.1915 \r\nL 581.654556 61.1915 \r\nz\r\n\" style=\"fill:#696969;\"/>\r\n   </g>\r\n   <g id=\"patch_21\">\r\n    <path clip-path=\"url(#p178a38f953)\" d=\"M 611.022977 441.661284 \r\nL 625.707188 441.661284 \r\nL 625.707188 61.1915 \r\nL 611.022977 61.1915 \r\nz\r\n\" style=\"fill:#696969;\"/>\r\n   </g>\r\n   <g id=\"matplotlib.axis_1\">\r\n    <g id=\"xtick_1\">\r\n     <g id=\"text_1\">\r\n      <!-- classificacao -->\r\n      <defs>\r\n       <path d=\"M 48.78125 52.59375 \r\nL 48.78125 44.1875 \r\nQ 44.96875 46.296875 41.140625 47.34375 \r\nQ 37.3125 48.390625 33.40625 48.390625 \r\nQ 24.65625 48.390625 19.8125 42.84375 \r\nQ 14.984375 37.3125 14.984375 27.296875 \r\nQ 14.984375 17.28125 19.8125 11.734375 \r\nQ 24.65625 6.203125 33.40625 6.203125 \r\nQ 37.3125 6.203125 41.140625 7.25 \r\nQ 44.96875 8.296875 48.78125 10.40625 \r\nL 48.78125 2.09375 \r\nQ 45.015625 0.34375 40.984375 -0.53125 \r\nQ 36.96875 -1.421875 32.421875 -1.421875 \r\nQ 20.0625 -1.421875 12.78125 6.34375 \r\nQ 5.515625 14.109375 5.515625 27.296875 \r\nQ 5.515625 40.671875 12.859375 48.328125 \r\nQ 20.21875 56 33.015625 56 \r\nQ 37.15625 56 41.109375 55.140625 \r\nQ 45.0625 54.296875 48.78125 52.59375 \r\nz\r\n\" id=\"DejaVuSans-99\"/>\r\n       <path d=\"M 9.421875 75.984375 \r\nL 18.40625 75.984375 \r\nL 18.40625 0 \r\nL 9.421875 0 \r\nz\r\n\" id=\"DejaVuSans-108\"/>\r\n       <path d=\"M 34.28125 27.484375 \r\nQ 23.390625 27.484375 19.1875 25 \r\nQ 14.984375 22.515625 14.984375 16.5 \r\nQ 14.984375 11.71875 18.140625 8.90625 \r\nQ 21.296875 6.109375 26.703125 6.109375 \r\nQ 34.1875 6.109375 38.703125 11.40625 \r\nQ 43.21875 16.703125 43.21875 25.484375 \r\nL 43.21875 27.484375 \r\nz\r\nM 52.203125 31.203125 \r\nL 52.203125 0 \r\nL 43.21875 0 \r\nL 43.21875 8.296875 \r\nQ 40.140625 3.328125 35.546875 0.953125 \r\nQ 30.953125 -1.421875 24.3125 -1.421875 \r\nQ 15.921875 -1.421875 10.953125 3.296875 \r\nQ 6 8.015625 6 15.921875 \r\nQ 6 25.140625 12.171875 29.828125 \r\nQ 18.359375 34.515625 30.609375 34.515625 \r\nL 43.21875 34.515625 \r\nL 43.21875 35.40625 \r\nQ 43.21875 41.609375 39.140625 45 \r\nQ 35.0625 48.390625 27.6875 48.390625 \r\nQ 23 48.390625 18.546875 47.265625 \r\nQ 14.109375 46.140625 10.015625 43.890625 \r\nL 10.015625 52.203125 \r\nQ 14.9375 54.109375 19.578125 55.046875 \r\nQ 24.21875 56 28.609375 56 \r\nQ 40.484375 56 46.34375 49.84375 \r\nQ 52.203125 43.703125 52.203125 31.203125 \r\nz\r\n\" id=\"DejaVuSans-97\"/>\r\n       <path d=\"M 44.28125 53.078125 \r\nL 44.28125 44.578125 \r\nQ 40.484375 46.53125 36.375 47.5 \r\nQ 32.28125 48.484375 27.875 48.484375 \r\nQ 21.1875 48.484375 17.84375 46.4375 \r\nQ 14.5 44.390625 14.5 40.28125 \r\nQ 14.5 37.15625 16.890625 35.375 \r\nQ 19.28125 33.59375 26.515625 31.984375 \r\nL 29.59375 31.296875 \r\nQ 39.15625 29.25 43.1875 25.515625 \r\nQ 47.21875 21.78125 47.21875 15.09375 \r\nQ 47.21875 7.46875 41.1875 3.015625 \r\nQ 35.15625 -1.421875 24.609375 -1.421875 \r\nQ 20.21875 -1.421875 15.453125 -0.5625 \r\nQ 10.6875 0.296875 5.421875 2 \r\nL 5.421875 11.28125 \r\nQ 10.40625 8.6875 15.234375 7.390625 \r\nQ 20.0625 6.109375 24.8125 6.109375 \r\nQ 31.15625 6.109375 34.5625 8.28125 \r\nQ 37.984375 10.453125 37.984375 14.40625 \r\nQ 37.984375 18.0625 35.515625 20.015625 \r\nQ 33.0625 21.96875 24.703125 23.78125 \r\nL 21.578125 24.515625 \r\nQ 13.234375 26.265625 9.515625 29.90625 \r\nQ 5.8125 33.546875 5.8125 39.890625 \r\nQ 5.8125 47.609375 11.28125 51.796875 \r\nQ 16.75 56 26.8125 56 \r\nQ 31.78125 56 36.171875 55.265625 \r\nQ 40.578125 54.546875 44.28125 53.078125 \r\nz\r\n\" id=\"DejaVuSans-115\"/>\r\n       <path d=\"M 9.421875 54.6875 \r\nL 18.40625 54.6875 \r\nL 18.40625 0 \r\nL 9.421875 0 \r\nz\r\nM 9.421875 75.984375 \r\nL 18.40625 75.984375 \r\nL 18.40625 64.59375 \r\nL 9.421875 64.59375 \r\nz\r\n\" id=\"DejaVuSans-105\"/>\r\n       <path d=\"M 37.109375 75.984375 \r\nL 37.109375 68.5 \r\nL 28.515625 68.5 \r\nQ 23.6875 68.5 21.796875 66.546875 \r\nQ 19.921875 64.59375 19.921875 59.515625 \r\nL 19.921875 54.6875 \r\nL 34.71875 54.6875 \r\nL 34.71875 47.703125 \r\nL 19.921875 47.703125 \r\nL 19.921875 0 \r\nL 10.890625 0 \r\nL 10.890625 47.703125 \r\nL 2.296875 47.703125 \r\nL 2.296875 54.6875 \r\nL 10.890625 54.6875 \r\nL 10.890625 58.5 \r\nQ 10.890625 67.625 15.140625 71.796875 \r\nQ 19.390625 75.984375 28.609375 75.984375 \r\nz\r\n\" id=\"DejaVuSans-102\"/>\r\n       <path d=\"M 30.609375 48.390625 \r\nQ 23.390625 48.390625 19.1875 42.75 \r\nQ 14.984375 37.109375 14.984375 27.296875 \r\nQ 14.984375 17.484375 19.15625 11.84375 \r\nQ 23.34375 6.203125 30.609375 6.203125 \r\nQ 37.796875 6.203125 41.984375 11.859375 \r\nQ 46.1875 17.53125 46.1875 27.296875 \r\nQ 46.1875 37.015625 41.984375 42.703125 \r\nQ 37.796875 48.390625 30.609375 48.390625 \r\nz\r\nM 30.609375 56 \r\nQ 42.328125 56 49.015625 48.375 \r\nQ 55.71875 40.765625 55.71875 27.296875 \r\nQ 55.71875 13.875 49.015625 6.21875 \r\nQ 42.328125 -1.421875 30.609375 -1.421875 \r\nQ 18.84375 -1.421875 12.171875 6.21875 \r\nQ 5.515625 13.875 5.515625 27.296875 \r\nQ 5.515625 40.765625 12.171875 48.375 \r\nQ 18.84375 56 30.609375 56 \r\nz\r\n\" id=\"DejaVuSans-111\"/>\r\n      </defs>\r\n      <g transform=\"translate(15.796651 528.841889)rotate(-45)scale(0.16 -0.16)\">\r\n       <use xlink:href=\"#DejaVuSans-99\"/>\r\n       <use x=\"54.980469\" xlink:href=\"#DejaVuSans-108\"/>\r\n       <use x=\"82.763672\" xlink:href=\"#DejaVuSans-97\"/>\r\n       <use x=\"144.042969\" xlink:href=\"#DejaVuSans-115\"/>\r\n       <use x=\"196.142578\" xlink:href=\"#DejaVuSans-115\"/>\r\n       <use x=\"248.242188\" xlink:href=\"#DejaVuSans-105\"/>\r\n       <use x=\"276.025391\" xlink:href=\"#DejaVuSans-102\"/>\r\n       <use x=\"311.230469\" xlink:href=\"#DejaVuSans-105\"/>\r\n       <use x=\"339.013672\" xlink:href=\"#DejaVuSans-99\"/>\r\n       <use x=\"393.994141\" xlink:href=\"#DejaVuSans-97\"/>\r\n       <use x=\"455.273438\" xlink:href=\"#DejaVuSans-99\"/>\r\n       <use x=\"510.253906\" xlink:href=\"#DejaVuSans-97\"/>\r\n       <use x=\"571.533203\" xlink:href=\"#DejaVuSans-111\"/>\r\n      </g>\r\n     </g>\r\n    </g>\r\n    <g id=\"xtick_2\">\r\n     <g id=\"text_2\">\r\n      <!-- despesas -->\r\n      <defs>\r\n       <path d=\"M 45.40625 46.390625 \r\nL 45.40625 75.984375 \r\nL 54.390625 75.984375 \r\nL 54.390625 0 \r\nL 45.40625 0 \r\nL 45.40625 8.203125 \r\nQ 42.578125 3.328125 38.25 0.953125 \r\nQ 33.9375 -1.421875 27.875 -1.421875 \r\nQ 17.96875 -1.421875 11.734375 6.484375 \r\nQ 5.515625 14.40625 5.515625 27.296875 \r\nQ 5.515625 40.1875 11.734375 48.09375 \r\nQ 17.96875 56 27.875 56 \r\nQ 33.9375 56 38.25 53.625 \r\nQ 42.578125 51.265625 45.40625 46.390625 \r\nz\r\nM 14.796875 27.296875 \r\nQ 14.796875 17.390625 18.875 11.75 \r\nQ 22.953125 6.109375 30.078125 6.109375 \r\nQ 37.203125 6.109375 41.296875 11.75 \r\nQ 45.40625 17.390625 45.40625 27.296875 \r\nQ 45.40625 37.203125 41.296875 42.84375 \r\nQ 37.203125 48.484375 30.078125 48.484375 \r\nQ 22.953125 48.484375 18.875 42.84375 \r\nQ 14.796875 37.203125 14.796875 27.296875 \r\nz\r\n\" id=\"DejaVuSans-100\"/>\r\n       <path d=\"M 56.203125 29.59375 \r\nL 56.203125 25.203125 \r\nL 14.890625 25.203125 \r\nQ 15.484375 15.921875 20.484375 11.0625 \r\nQ 25.484375 6.203125 34.421875 6.203125 \r\nQ 39.59375 6.203125 44.453125 7.46875 \r\nQ 49.3125 8.734375 54.109375 11.28125 \r\nL 54.109375 2.78125 \r\nQ 49.265625 0.734375 44.1875 -0.34375 \r\nQ 39.109375 -1.421875 33.890625 -1.421875 \r\nQ 20.796875 -1.421875 13.15625 6.1875 \r\nQ 5.515625 13.8125 5.515625 26.8125 \r\nQ 5.515625 40.234375 12.765625 48.109375 \r\nQ 20.015625 56 32.328125 56 \r\nQ 43.359375 56 49.78125 48.890625 \r\nQ 56.203125 41.796875 56.203125 29.59375 \r\nz\r\nM 47.21875 32.234375 \r\nQ 47.125 39.59375 43.09375 43.984375 \r\nQ 39.0625 48.390625 32.421875 48.390625 \r\nQ 24.90625 48.390625 20.390625 44.140625 \r\nQ 15.875 39.890625 15.1875 32.171875 \r\nz\r\n\" id=\"DejaVuSans-101\"/>\r\n       <path d=\"M 18.109375 8.203125 \r\nL 18.109375 -20.796875 \r\nL 9.078125 -20.796875 \r\nL 9.078125 54.6875 \r\nL 18.109375 54.6875 \r\nL 18.109375 46.390625 \r\nQ 20.953125 51.265625 25.265625 53.625 \r\nQ 29.59375 56 35.59375 56 \r\nQ 45.5625 56 51.78125 48.09375 \r\nQ 58.015625 40.1875 58.015625 27.296875 \r\nQ 58.015625 14.40625 51.78125 6.484375 \r\nQ 45.5625 -1.421875 35.59375 -1.421875 \r\nQ 29.59375 -1.421875 25.265625 0.953125 \r\nQ 20.953125 3.328125 18.109375 8.203125 \r\nz\r\nM 48.6875 27.296875 \r\nQ 48.6875 37.203125 44.609375 42.84375 \r\nQ 40.53125 48.484375 33.40625 48.484375 \r\nQ 26.265625 48.484375 22.1875 42.84375 \r\nQ 18.109375 37.203125 18.109375 27.296875 \r\nQ 18.109375 17.390625 22.1875 11.75 \r\nQ 26.265625 6.109375 33.40625 6.109375 \r\nQ 40.53125 6.109375 44.609375 11.75 \r\nQ 48.6875 17.390625 48.6875 27.296875 \r\nz\r\n\" id=\"DejaVuSans-112\"/>\r\n      </defs>\r\n      <g transform=\"translate(63.846833 510.160128)rotate(-45)scale(0.16 -0.16)\">\r\n       <use xlink:href=\"#DejaVuSans-100\"/>\r\n       <use x=\"63.476562\" xlink:href=\"#DejaVuSans-101\"/>\r\n       <use x=\"125\" xlink:href=\"#DejaVuSans-115\"/>\r\n       <use x=\"177.099609\" xlink:href=\"#DejaVuSans-112\"/>\r\n       <use x=\"240.576172\" xlink:href=\"#DejaVuSans-101\"/>\r\n       <use x=\"302.099609\" xlink:href=\"#DejaVuSans-115\"/>\r\n       <use x=\"354.199219\" xlink:href=\"#DejaVuSans-97\"/>\r\n       <use x=\"415.478516\" xlink:href=\"#DejaVuSans-115\"/>\r\n      </g>\r\n     </g>\r\n    </g>\r\n    <g id=\"xtick_3\">\r\n     <g id=\"text_3\">\r\n      <!-- genero -->\r\n      <defs>\r\n       <path d=\"M 45.40625 27.984375 \r\nQ 45.40625 37.75 41.375 43.109375 \r\nQ 37.359375 48.484375 30.078125 48.484375 \r\nQ 22.859375 48.484375 18.828125 43.109375 \r\nQ 14.796875 37.75 14.796875 27.984375 \r\nQ 14.796875 18.265625 18.828125 12.890625 \r\nQ 22.859375 7.515625 30.078125 7.515625 \r\nQ 37.359375 7.515625 41.375 12.890625 \r\nQ 45.40625 18.265625 45.40625 27.984375 \r\nz\r\nM 54.390625 6.78125 \r\nQ 54.390625 -7.171875 48.1875 -13.984375 \r\nQ 42 -20.796875 29.203125 -20.796875 \r\nQ 24.46875 -20.796875 20.265625 -20.09375 \r\nQ 16.0625 -19.390625 12.109375 -17.921875 \r\nL 12.109375 -9.1875 \r\nQ 16.0625 -11.328125 19.921875 -12.34375 \r\nQ 23.78125 -13.375 27.78125 -13.375 \r\nQ 36.625 -13.375 41.015625 -8.765625 \r\nQ 45.40625 -4.15625 45.40625 5.171875 \r\nL 45.40625 9.625 \r\nQ 42.625 4.78125 38.28125 2.390625 \r\nQ 33.9375 0 27.875 0 \r\nQ 17.828125 0 11.671875 7.65625 \r\nQ 5.515625 15.328125 5.515625 27.984375 \r\nQ 5.515625 40.671875 11.671875 48.328125 \r\nQ 17.828125 56 27.875 56 \r\nQ 33.9375 56 38.28125 53.609375 \r\nQ 42.625 51.21875 45.40625 46.390625 \r\nL 45.40625 54.6875 \r\nL 54.390625 54.6875 \r\nz\r\n\" id=\"DejaVuSans-103\"/>\r\n       <path d=\"M 54.890625 33.015625 \r\nL 54.890625 0 \r\nL 45.90625 0 \r\nL 45.90625 32.71875 \r\nQ 45.90625 40.484375 42.875 44.328125 \r\nQ 39.84375 48.1875 33.796875 48.1875 \r\nQ 26.515625 48.1875 22.3125 43.546875 \r\nQ 18.109375 38.921875 18.109375 30.90625 \r\nL 18.109375 0 \r\nL 9.078125 0 \r\nL 9.078125 54.6875 \r\nL 18.109375 54.6875 \r\nL 18.109375 46.1875 \r\nQ 21.34375 51.125 25.703125 53.5625 \r\nQ 30.078125 56 35.796875 56 \r\nQ 45.21875 56 50.046875 50.171875 \r\nQ 54.890625 44.34375 54.890625 33.015625 \r\nz\r\n\" id=\"DejaVuSans-110\"/>\r\n       <path d=\"M 41.109375 46.296875 \r\nQ 39.59375 47.171875 37.8125 47.578125 \r\nQ 36.03125 48 33.890625 48 \r\nQ 26.265625 48 22.1875 43.046875 \r\nQ 18.109375 38.09375 18.109375 28.8125 \r\nL 18.109375 0 \r\nL 9.078125 0 \r\nL 9.078125 54.6875 \r\nL 18.109375 54.6875 \r\nL 18.109375 46.1875 \r\nQ 20.953125 51.171875 25.484375 53.578125 \r\nQ 30.03125 56 36.53125 56 \r\nQ 37.453125 56 38.578125 55.875 \r\nQ 39.703125 55.765625 41.0625 55.515625 \r\nz\r\n\" id=\"DejaVuSans-114\"/>\r\n      </defs>\r\n      <g transform=\"translate(106.523004 496.852379)rotate(-45)scale(0.16 -0.16)\">\r\n       <use xlink:href=\"#DejaVuSans-103\"/>\r\n       <use x=\"63.476562\" xlink:href=\"#DejaVuSans-101\"/>\r\n       <use x=\"125\" xlink:href=\"#DejaVuSans-110\"/>\r\n       <use x=\"188.378906\" xlink:href=\"#DejaVuSans-101\"/>\r\n       <use x=\"249.902344\" xlink:href=\"#DejaVuSans-114\"/>\r\n       <use x=\"288.765625\" xlink:href=\"#DejaVuSans-111\"/>\r\n      </g>\r\n     </g>\r\n    </g>\r\n    <g id=\"xtick_4\">\r\n     <g id=\"text_4\">\r\n      <!-- id_filme -->\r\n      <defs>\r\n       <path d=\"M 50.984375 -16.609375 \r\nL 50.984375 -23.578125 \r\nL -0.984375 -23.578125 \r\nL -0.984375 -16.609375 \r\nz\r\n\" id=\"DejaVuSans-95\"/>\r\n       <path d=\"M 52 44.1875 \r\nQ 55.375 50.25 60.0625 53.125 \r\nQ 64.75 56 71.09375 56 \r\nQ 79.640625 56 84.28125 50.015625 \r\nQ 88.921875 44.046875 88.921875 33.015625 \r\nL 88.921875 0 \r\nL 79.890625 0 \r\nL 79.890625 32.71875 \r\nQ 79.890625 40.578125 77.09375 44.375 \r\nQ 74.3125 48.1875 68.609375 48.1875 \r\nQ 61.625 48.1875 57.5625 43.546875 \r\nQ 53.515625 38.921875 53.515625 30.90625 \r\nL 53.515625 0 \r\nL 44.484375 0 \r\nL 44.484375 32.71875 \r\nQ 44.484375 40.625 41.703125 44.40625 \r\nQ 38.921875 48.1875 33.109375 48.1875 \r\nQ 26.21875 48.1875 22.15625 43.53125 \r\nQ 18.109375 38.875 18.109375 30.90625 \r\nL 18.109375 0 \r\nL 9.078125 0 \r\nL 9.078125 54.6875 \r\nL 18.109375 54.6875 \r\nL 18.109375 46.1875 \r\nQ 21.1875 51.21875 25.484375 53.609375 \r\nQ 29.78125 56 35.6875 56 \r\nQ 41.65625 56 45.828125 52.96875 \r\nQ 50 49.953125 52 44.1875 \r\nz\r\n\" id=\"DejaVuSans-109\"/>\r\n      </defs>\r\n      <g transform=\"translate(130.938142 501.490999)rotate(-45)scale(0.16 -0.16)\">\r\n       <use xlink:href=\"#DejaVuSans-105\"/>\r\n       <use x=\"27.783203\" xlink:href=\"#DejaVuSans-100\"/>\r\n       <use x=\"91.259766\" xlink:href=\"#DejaVuSans-95\"/>\r\n       <use x=\"141.259766\" xlink:href=\"#DejaVuSans-102\"/>\r\n       <use x=\"176.464844\" xlink:href=\"#DejaVuSans-105\"/>\r\n       <use x=\"204.248047\" xlink:href=\"#DejaVuSans-108\"/>\r\n       <use x=\"232.03125\" xlink:href=\"#DejaVuSans-109\"/>\r\n       <use x=\"329.443359\" xlink:href=\"#DejaVuSans-101\"/>\r\n      </g>\r\n     </g>\r\n    </g>\r\n    <g id=\"xtick_5\">\r\n     <g id=\"text_5\">\r\n      <!-- lingua_original -->\r\n      <defs>\r\n       <path d=\"M 8.5 21.578125 \r\nL 8.5 54.6875 \r\nL 17.484375 54.6875 \r\nL 17.484375 21.921875 \r\nQ 17.484375 14.15625 20.5 10.265625 \r\nQ 23.53125 6.390625 29.59375 6.390625 \r\nQ 36.859375 6.390625 41.078125 11.03125 \r\nQ 45.3125 15.671875 45.3125 23.6875 \r\nL 45.3125 54.6875 \r\nL 54.296875 54.6875 \r\nL 54.296875 0 \r\nL 45.3125 0 \r\nL 45.3125 8.40625 \r\nQ 42.046875 3.421875 37.71875 1 \r\nQ 33.40625 -1.421875 27.6875 -1.421875 \r\nQ 18.265625 -1.421875 13.375 4.4375 \r\nQ 8.5 10.296875 8.5 21.578125 \r\nz\r\nM 31.109375 56 \r\nz\r\n\" id=\"DejaVuSans-117\"/>\r\n      </defs>\r\n      <g transform=\"translate(121.852328 539.945234)rotate(-45)scale(0.16 -0.16)\">\r\n       <use xlink:href=\"#DejaVuSans-108\"/>\r\n       <use x=\"27.783203\" xlink:href=\"#DejaVuSans-105\"/>\r\n       <use x=\"55.566406\" xlink:href=\"#DejaVuSans-110\"/>\r\n       <use x=\"118.945312\" xlink:href=\"#DejaVuSans-103\"/>\r\n       <use x=\"182.421875\" xlink:href=\"#DejaVuSans-117\"/>\r\n       <use x=\"245.800781\" xlink:href=\"#DejaVuSans-97\"/>\r\n       <use x=\"307.080078\" xlink:href=\"#DejaVuSans-95\"/>\r\n       <use x=\"357.080078\" xlink:href=\"#DejaVuSans-111\"/>\r\n       <use x=\"418.261719\" xlink:href=\"#DejaVuSans-114\"/>\r\n       <use x=\"459.375\" xlink:href=\"#DejaVuSans-105\"/>\r\n       <use x=\"487.158203\" xlink:href=\"#DejaVuSans-103\"/>\r\n       <use x=\"550.634766\" xlink:href=\"#DejaVuSans-105\"/>\r\n       <use x=\"578.417969\" xlink:href=\"#DejaVuSans-110\"/>\r\n       <use x=\"641.796875\" xlink:href=\"#DejaVuSans-97\"/>\r\n       <use x=\"703.076172\" xlink:href=\"#DejaVuSans-108\"/>\r\n      </g>\r\n     </g>\r\n    </g>\r\n    <g id=\"xtick_6\">\r\n     <g id=\"text_6\">\r\n      <!-- titulo_original -->\r\n      <defs>\r\n       <path d=\"M 18.3125 70.21875 \r\nL 18.3125 54.6875 \r\nL 36.8125 54.6875 \r\nL 36.8125 47.703125 \r\nL 18.3125 47.703125 \r\nL 18.3125 18.015625 \r\nQ 18.3125 11.328125 20.140625 9.421875 \r\nQ 21.96875 7.515625 27.59375 7.515625 \r\nL 36.8125 7.515625 \r\nL 36.8125 0 \r\nL 27.59375 0 \r\nQ 17.1875 0 13.234375 3.875 \r\nQ 9.28125 7.765625 9.28125 18.015625 \r\nL 9.28125 47.703125 \r\nL 2.6875 47.703125 \r\nL 2.6875 54.6875 \r\nL 9.28125 54.6875 \r\nL 9.28125 70.21875 \r\nz\r\n\" id=\"DejaVuSans-116\"/>\r\n      </defs>\r\n      <g transform=\"translate(156.713201 534.452782)rotate(-45)scale(0.16 -0.16)\">\r\n       <use xlink:href=\"#DejaVuSans-116\"/>\r\n       <use x=\"39.208984\" xlink:href=\"#DejaVuSans-105\"/>\r\n       <use x=\"66.992188\" xlink:href=\"#DejaVuSans-116\"/>\r\n       <use x=\"106.201172\" xlink:href=\"#DejaVuSans-117\"/>\r\n       <use x=\"169.580078\" xlink:href=\"#DejaVuSans-108\"/>\r\n       <use x=\"197.363281\" xlink:href=\"#DejaVuSans-111\"/>\r\n       <use x=\"258.544922\" xlink:href=\"#DejaVuSans-95\"/>\r\n       <use x=\"308.544922\" xlink:href=\"#DejaVuSans-111\"/>\r\n       <use x=\"369.726562\" xlink:href=\"#DejaVuSans-114\"/>\r\n       <use x=\"410.839844\" xlink:href=\"#DejaVuSans-105\"/>\r\n       <use x=\"438.623047\" xlink:href=\"#DejaVuSans-103\"/>\r\n       <use x=\"502.099609\" xlink:href=\"#DejaVuSans-105\"/>\r\n       <use x=\"529.882812\" xlink:href=\"#DejaVuSans-110\"/>\r\n       <use x=\"593.261719\" xlink:href=\"#DejaVuSans-97\"/>\r\n       <use x=\"654.541016\" xlink:href=\"#DejaVuSans-108\"/>\r\n      </g>\r\n     </g>\r\n    </g>\r\n    <g id=\"xtick_7\">\r\n     <g id=\"text_7\">\r\n      <!-- descricao -->\r\n      <g transform=\"translate(209.462108 511.386958)rotate(-45)scale(0.16 -0.16)\">\r\n       <use xlink:href=\"#DejaVuSans-100\"/>\r\n       <use x=\"63.476562\" xlink:href=\"#DejaVuSans-101\"/>\r\n       <use x=\"125\" xlink:href=\"#DejaVuSans-115\"/>\r\n       <use x=\"177.099609\" xlink:href=\"#DejaVuSans-99\"/>\r\n       <use x=\"232.080078\" xlink:href=\"#DejaVuSans-114\"/>\r\n       <use x=\"273.193359\" xlink:href=\"#DejaVuSans-105\"/>\r\n       <use x=\"300.976562\" xlink:href=\"#DejaVuSans-99\"/>\r\n       <use x=\"355.957031\" xlink:href=\"#DejaVuSans-97\"/>\r\n       <use x=\"417.236328\" xlink:href=\"#DejaVuSans-111\"/>\r\n      </g>\r\n     </g>\r\n    </g>\r\n    <g id=\"xtick_8\">\r\n     <g id=\"text_8\">\r\n      <!-- popularidade -->\r\n      <g transform=\"translate(218.372162 531.845325)rotate(-45)scale(0.16 -0.16)\">\r\n       <use xlink:href=\"#DejaVuSans-112\"/>\r\n       <use x=\"63.476562\" xlink:href=\"#DejaVuSans-111\"/>\r\n       <use x=\"124.658203\" xlink:href=\"#DejaVuSans-112\"/>\r\n       <use x=\"188.134766\" xlink:href=\"#DejaVuSans-117\"/>\r\n       <use x=\"251.513672\" xlink:href=\"#DejaVuSans-108\"/>\r\n       <use x=\"279.296875\" xlink:href=\"#DejaVuSans-97\"/>\r\n       <use x=\"340.576172\" xlink:href=\"#DejaVuSans-114\"/>\r\n       <use x=\"381.689453\" xlink:href=\"#DejaVuSans-105\"/>\r\n       <use x=\"409.472656\" xlink:href=\"#DejaVuSans-100\"/>\r\n       <use x=\"472.949219\" xlink:href=\"#DejaVuSans-97\"/>\r\n       <use x=\"534.228516\" xlink:href=\"#DejaVuSans-100\"/>\r\n       <use x=\"597.705078\" xlink:href=\"#DejaVuSans-101\"/>\r\n      </g>\r\n     </g>\r\n    </g>\r\n    <g id=\"xtick_9\">\r\n     <g id=\"text_9\">\r\n      <!-- cia_producao -->\r\n      <g transform=\"translate(247.128936 532.14231)rotate(-45)scale(0.16 -0.16)\">\r\n       <use xlink:href=\"#DejaVuSans-99\"/>\r\n       <use x=\"54.980469\" xlink:href=\"#DejaVuSans-105\"/>\r\n       <use x=\"82.763672\" xlink:href=\"#DejaVuSans-97\"/>\r\n       <use x=\"144.042969\" xlink:href=\"#DejaVuSans-95\"/>\r\n       <use x=\"194.042969\" xlink:href=\"#DejaVuSans-112\"/>\r\n       <use x=\"257.519531\" xlink:href=\"#DejaVuSans-114\"/>\r\n       <use x=\"296.382812\" xlink:href=\"#DejaVuSans-111\"/>\r\n       <use x=\"357.564453\" xlink:href=\"#DejaVuSans-100\"/>\r\n       <use x=\"421.041016\" xlink:href=\"#DejaVuSans-117\"/>\r\n       <use x=\"484.419922\" xlink:href=\"#DejaVuSans-99\"/>\r\n       <use x=\"539.400391\" xlink:href=\"#DejaVuSans-97\"/>\r\n       <use x=\"600.679688\" xlink:href=\"#DejaVuSans-111\"/>\r\n      </g>\r\n     </g>\r\n    </g>\r\n    <g id=\"xtick_10\">\r\n     <g id=\"text_10\">\r\n      <!-- pais_producao -->\r\n      <g transform=\"translate(269.641957 538.99771)rotate(-45)scale(0.16 -0.16)\">\r\n       <use xlink:href=\"#DejaVuSans-112\"/>\r\n       <use x=\"63.476562\" xlink:href=\"#DejaVuSans-97\"/>\r\n       <use x=\"124.755859\" xlink:href=\"#DejaVuSans-105\"/>\r\n       <use x=\"152.539062\" xlink:href=\"#DejaVuSans-115\"/>\r\n       <use x=\"204.638672\" xlink:href=\"#DejaVuSans-95\"/>\r\n       <use x=\"254.638672\" xlink:href=\"#DejaVuSans-112\"/>\r\n       <use x=\"318.115234\" xlink:href=\"#DejaVuSans-114\"/>\r\n       <use x=\"356.978516\" xlink:href=\"#DejaVuSans-111\"/>\r\n       <use x=\"418.160156\" xlink:href=\"#DejaVuSans-100\"/>\r\n       <use x=\"481.636719\" xlink:href=\"#DejaVuSans-117\"/>\r\n       <use x=\"545.015625\" xlink:href=\"#DejaVuSans-99\"/>\r\n       <use x=\"599.996094\" xlink:href=\"#DejaVuSans-97\"/>\r\n       <use x=\"661.275391\" xlink:href=\"#DejaVuSans-111\"/>\r\n      </g>\r\n     </g>\r\n    </g>\r\n    <g id=\"xtick_11\">\r\n     <g id=\"text_11\">\r\n      <!-- data_lancamento -->\r\n      <g transform=\"translate(282.699192 555.308896)rotate(-45)scale(0.16 -0.16)\">\r\n       <use xlink:href=\"#DejaVuSans-100\"/>\r\n       <use x=\"63.476562\" xlink:href=\"#DejaVuSans-97\"/>\r\n       <use x=\"124.755859\" xlink:href=\"#DejaVuSans-116\"/>\r\n       <use x=\"163.964844\" xlink:href=\"#DejaVuSans-97\"/>\r\n       <use x=\"225.244141\" xlink:href=\"#DejaVuSans-95\"/>\r\n       <use x=\"275.244141\" xlink:href=\"#DejaVuSans-108\"/>\r\n       <use x=\"303.027344\" xlink:href=\"#DejaVuSans-97\"/>\r\n       <use x=\"364.306641\" xlink:href=\"#DejaVuSans-110\"/>\r\n       <use x=\"427.685547\" xlink:href=\"#DejaVuSans-99\"/>\r\n       <use x=\"482.666016\" xlink:href=\"#DejaVuSans-97\"/>\r\n       <use x=\"543.945312\" xlink:href=\"#DejaVuSans-109\"/>\r\n       <use x=\"641.357422\" xlink:href=\"#DejaVuSans-101\"/>\r\n       <use x=\"702.880859\" xlink:href=\"#DejaVuSans-110\"/>\r\n       <use x=\"766.259766\" xlink:href=\"#DejaVuSans-116\"/>\r\n       <use x=\"805.46875\" xlink:href=\"#DejaVuSans-111\"/>\r\n      </g>\r\n     </g>\r\n    </g>\r\n    <g id=\"xtick_12\">\r\n     <g id=\"text_12\">\r\n      <!-- receita -->\r\n      <g transform=\"translate(371.381498 496.309674)rotate(-45)scale(0.16 -0.16)\">\r\n       <use xlink:href=\"#DejaVuSans-114\"/>\r\n       <use x=\"38.863281\" xlink:href=\"#DejaVuSans-101\"/>\r\n       <use x=\"100.386719\" xlink:href=\"#DejaVuSans-99\"/>\r\n       <use x=\"155.367188\" xlink:href=\"#DejaVuSans-101\"/>\r\n       <use x=\"216.890625\" xlink:href=\"#DejaVuSans-105\"/>\r\n       <use x=\"244.673828\" xlink:href=\"#DejaVuSans-116\"/>\r\n       <use x=\"283.882812\" xlink:href=\"#DejaVuSans-97\"/>\r\n      </g>\r\n     </g>\r\n    </g>\r\n    <g id=\"xtick_13\">\r\n     <g id=\"text_13\">\r\n      <!-- duracao -->\r\n      <g transform=\"translate(393.788452 503.27114)rotate(-45)scale(0.16 -0.16)\">\r\n       <use xlink:href=\"#DejaVuSans-100\"/>\r\n       <use x=\"63.476562\" xlink:href=\"#DejaVuSans-117\"/>\r\n       <use x=\"126.855469\" xlink:href=\"#DejaVuSans-114\"/>\r\n       <use x=\"167.96875\" xlink:href=\"#DejaVuSans-97\"/>\r\n       <use x=\"229.248047\" xlink:href=\"#DejaVuSans-99\"/>\r\n       <use x=\"284.228516\" xlink:href=\"#DejaVuSans-97\"/>\r\n       <use x=\"345.507812\" xlink:href=\"#DejaVuSans-111\"/>\r\n      </g>\r\n     </g>\r\n    </g>\r\n    <g id=\"xtick_14\">\r\n     <g id=\"text_14\">\r\n      <!-- idiomas_falados -->\r\n      <g transform=\"translate(377.969214 548.144137)rotate(-45)scale(0.16 -0.16)\">\r\n       <use xlink:href=\"#DejaVuSans-105\"/>\r\n       <use x=\"27.783203\" xlink:href=\"#DejaVuSans-100\"/>\r\n       <use x=\"91.259766\" xlink:href=\"#DejaVuSans-105\"/>\r\n       <use x=\"119.042969\" xlink:href=\"#DejaVuSans-111\"/>\r\n       <use x=\"180.224609\" xlink:href=\"#DejaVuSans-109\"/>\r\n       <use x=\"277.636719\" xlink:href=\"#DejaVuSans-97\"/>\r\n       <use x=\"338.916016\" xlink:href=\"#DejaVuSans-115\"/>\r\n       <use x=\"391.015625\" xlink:href=\"#DejaVuSans-95\"/>\r\n       <use x=\"441.015625\" xlink:href=\"#DejaVuSans-102\"/>\r\n       <use x=\"476.220703\" xlink:href=\"#DejaVuSans-97\"/>\r\n       <use x=\"537.5\" xlink:href=\"#DejaVuSans-108\"/>\r\n       <use x=\"565.283203\" xlink:href=\"#DejaVuSans-97\"/>\r\n       <use x=\"626.5625\" xlink:href=\"#DejaVuSans-100\"/>\r\n       <use x=\"690.039062\" xlink:href=\"#DejaVuSans-111\"/>\r\n       <use x=\"751.220703\" xlink:href=\"#DejaVuSans-115\"/>\r\n      </g>\r\n     </g>\r\n    </g>\r\n    <g id=\"xtick_15\">\r\n     <g id=\"text_15\">\r\n      <!-- status -->\r\n      <g transform=\"translate(463.777131 492.019304)rotate(-45)scale(0.16 -0.16)\">\r\n       <use xlink:href=\"#DejaVuSans-115\"/>\r\n       <use x=\"52.099609\" xlink:href=\"#DejaVuSans-116\"/>\r\n       <use x=\"91.308594\" xlink:href=\"#DejaVuSans-97\"/>\r\n       <use x=\"152.587891\" xlink:href=\"#DejaVuSans-116\"/>\r\n       <use x=\"191.796875\" xlink:href=\"#DejaVuSans-117\"/>\r\n       <use x=\"255.175781\" xlink:href=\"#DejaVuSans-115\"/>\r\n      </g>\r\n     </g>\r\n    </g>\r\n    <g id=\"xtick_16\">\r\n     <g id=\"text_16\">\r\n      <!-- titulo -->\r\n      <g transform=\"translate(498.657449 486.507406)rotate(-45)scale(0.16 -0.16)\">\r\n       <use xlink:href=\"#DejaVuSans-116\"/>\r\n       <use x=\"39.208984\" xlink:href=\"#DejaVuSans-105\"/>\r\n       <use x=\"66.992188\" xlink:href=\"#DejaVuSans-116\"/>\r\n       <use x=\"106.201172\" xlink:href=\"#DejaVuSans-117\"/>\r\n       <use x=\"169.580078\" xlink:href=\"#DejaVuSans-108\"/>\r\n       <use x=\"197.363281\" xlink:href=\"#DejaVuSans-111\"/>\r\n      </g>\r\n     </g>\r\n    </g>\r\n    <g id=\"xtick_17\">\r\n     <g id=\"text_17\">\r\n      <!-- video -->\r\n      <defs>\r\n       <path d=\"M 2.984375 54.6875 \r\nL 12.5 54.6875 \r\nL 29.59375 8.796875 \r\nL 46.6875 54.6875 \r\nL 56.203125 54.6875 \r\nL 35.6875 0 \r\nL 23.484375 0 \r\nz\r\n\" id=\"DejaVuSans-118\"/>\r\n      </defs>\r\n      <g transform=\"translate(526.369473 488.163804)rotate(-45)scale(0.16 -0.16)\">\r\n       <use xlink:href=\"#DejaVuSans-118\"/>\r\n       <use x=\"59.179688\" xlink:href=\"#DejaVuSans-105\"/>\r\n       <use x=\"86.962891\" xlink:href=\"#DejaVuSans-100\"/>\r\n       <use x=\"150.439453\" xlink:href=\"#DejaVuSans-101\"/>\r\n       <use x=\"211.962891\" xlink:href=\"#DejaVuSans-111\"/>\r\n      </g>\r\n     </g>\r\n    </g>\r\n    <g id=\"xtick_18\">\r\n     <g id=\"text_18\">\r\n      <!-- media_votos -->\r\n      <g transform=\"translate(514.561298 529.025737)rotate(-45)scale(0.16 -0.16)\">\r\n       <use xlink:href=\"#DejaVuSans-109\"/>\r\n       <use x=\"97.412109\" xlink:href=\"#DejaVuSans-101\"/>\r\n       <use x=\"158.935547\" xlink:href=\"#DejaVuSans-100\"/>\r\n       <use x=\"222.412109\" xlink:href=\"#DejaVuSans-105\"/>\r\n       <use x=\"250.195312\" xlink:href=\"#DejaVuSans-97\"/>\r\n       <use x=\"311.474609\" xlink:href=\"#DejaVuSans-95\"/>\r\n       <use x=\"361.474609\" xlink:href=\"#DejaVuSans-118\"/>\r\n       <use x=\"420.654297\" xlink:href=\"#DejaVuSans-111\"/>\r\n       <use x=\"481.835938\" xlink:href=\"#DejaVuSans-116\"/>\r\n       <use x=\"521.044922\" xlink:href=\"#DejaVuSans-111\"/>\r\n       <use x=\"582.226562\" xlink:href=\"#DejaVuSans-115\"/>\r\n      </g>\r\n     </g>\r\n    </g>\r\n    <g id=\"xtick_19\">\r\n     <g id=\"text_19\">\r\n      <!-- qtde_votos -->\r\n      <defs>\r\n       <path d=\"M 14.796875 27.296875 \r\nQ 14.796875 17.390625 18.875 11.75 \r\nQ 22.953125 6.109375 30.078125 6.109375 \r\nQ 37.203125 6.109375 41.296875 11.75 \r\nQ 45.40625 17.390625 45.40625 27.296875 \r\nQ 45.40625 37.203125 41.296875 42.84375 \r\nQ 37.203125 48.484375 30.078125 48.484375 \r\nQ 22.953125 48.484375 18.875 42.84375 \r\nQ 14.796875 37.203125 14.796875 27.296875 \r\nz\r\nM 45.40625 8.203125 \r\nQ 42.578125 3.328125 38.25 0.953125 \r\nQ 33.9375 -1.421875 27.875 -1.421875 \r\nQ 17.96875 -1.421875 11.734375 6.484375 \r\nQ 5.515625 14.40625 5.515625 27.296875 \r\nQ 5.515625 40.1875 11.734375 48.09375 \r\nQ 17.96875 56 27.875 56 \r\nQ 33.9375 56 38.25 53.625 \r\nQ 42.578125 51.265625 45.40625 46.390625 \r\nL 45.40625 54.6875 \r\nL 54.390625 54.6875 \r\nL 54.390625 -20.796875 \r\nL 45.40625 -20.796875 \r\nz\r\n\" id=\"DejaVuSans-113\"/>\r\n      </defs>\r\n      <g transform=\"translate(553.408486 519.546971)rotate(-45)scale(0.16 -0.16)\">\r\n       <use xlink:href=\"#DejaVuSans-113\"/>\r\n       <use x=\"63.476562\" xlink:href=\"#DejaVuSans-116\"/>\r\n       <use x=\"102.685547\" xlink:href=\"#DejaVuSans-100\"/>\r\n       <use x=\"166.162109\" xlink:href=\"#DejaVuSans-101\"/>\r\n       <use x=\"227.685547\" xlink:href=\"#DejaVuSans-95\"/>\r\n       <use x=\"277.685547\" xlink:href=\"#DejaVuSans-118\"/>\r\n       <use x=\"336.865234\" xlink:href=\"#DejaVuSans-111\"/>\r\n       <use x=\"398.046875\" xlink:href=\"#DejaVuSans-116\"/>\r\n       <use x=\"437.255859\" xlink:href=\"#DejaVuSans-111\"/>\r\n       <use x=\"498.4375\" xlink:href=\"#DejaVuSans-115\"/>\r\n      </g>\r\n     </g>\r\n    </g>\r\n   </g>\r\n   <g id=\"matplotlib.axis_2\">\r\n    <g id=\"ytick_1\">\r\n     <g id=\"text_20\">\r\n      <!-- 0.0 -->\r\n      <defs>\r\n       <path d=\"M 31.78125 66.40625 \r\nQ 24.171875 66.40625 20.328125 58.90625 \r\nQ 16.5 51.421875 16.5 36.375 \r\nQ 16.5 21.390625 20.328125 13.890625 \r\nQ 24.171875 6.390625 31.78125 6.390625 \r\nQ 39.453125 6.390625 43.28125 13.890625 \r\nQ 47.125 21.390625 47.125 36.375 \r\nQ 47.125 51.421875 43.28125 58.90625 \r\nQ 39.453125 66.40625 31.78125 66.40625 \r\nz\r\nM 31.78125 74.21875 \r\nQ 44.046875 74.21875 50.515625 64.515625 \r\nQ 56.984375 54.828125 56.984375 36.375 \r\nQ 56.984375 17.96875 50.515625 8.265625 \r\nQ 44.046875 -1.421875 31.78125 -1.421875 \r\nQ 19.53125 -1.421875 13.0625 8.265625 \r\nQ 6.59375 17.96875 6.59375 36.375 \r\nQ 6.59375 54.828125 13.0625 64.515625 \r\nQ 19.53125 74.21875 31.78125 74.21875 \r\nz\r\n\" id=\"DejaVuSans-48\"/>\r\n       <path d=\"M 10.6875 12.40625 \r\nL 21 12.40625 \r\nL 21 0 \r\nL 10.6875 0 \r\nz\r\n\" id=\"DejaVuSans-46\"/>\r\n      </defs>\r\n      <g transform=\"translate(42.604293 447.740034)scale(0.16 -0.16)\">\r\n       <use xlink:href=\"#DejaVuSans-48\"/>\r\n       <use x=\"63.623047\" xlink:href=\"#DejaVuSans-46\"/>\r\n       <use x=\"95.410156\" xlink:href=\"#DejaVuSans-48\"/>\r\n      </g>\r\n     </g>\r\n    </g>\r\n    <g id=\"ytick_2\">\r\n     <g id=\"text_21\">\r\n      <!-- 0.2 -->\r\n      <defs>\r\n       <path d=\"M 19.1875 8.296875 \r\nL 53.609375 8.296875 \r\nL 53.609375 0 \r\nL 7.328125 0 \r\nL 7.328125 8.296875 \r\nQ 12.9375 14.109375 22.625 23.890625 \r\nQ 32.328125 33.6875 34.8125 36.53125 \r\nQ 39.546875 41.84375 41.421875 45.53125 \r\nQ 43.3125 49.21875 43.3125 52.78125 \r\nQ 43.3125 58.59375 39.234375 62.25 \r\nQ 35.15625 65.921875 28.609375 65.921875 \r\nQ 23.96875 65.921875 18.8125 64.3125 \r\nQ 13.671875 62.703125 7.8125 59.421875 \r\nL 7.8125 69.390625 \r\nQ 13.765625 71.78125 18.9375 73 \r\nQ 24.125 74.21875 28.421875 74.21875 \r\nQ 39.75 74.21875 46.484375 68.546875 \r\nQ 53.21875 62.890625 53.21875 53.421875 \r\nQ 53.21875 48.921875 51.53125 44.890625 \r\nQ 49.859375 40.875 45.40625 35.40625 \r\nQ 44.1875 33.984375 37.640625 27.21875 \r\nQ 31.109375 20.453125 19.1875 8.296875 \r\nz\r\n\" id=\"DejaVuSans-50\"/>\r\n      </defs>\r\n      <g transform=\"translate(42.604293 371.636034)scale(0.16 -0.16)\">\r\n       <use xlink:href=\"#DejaVuSans-48\"/>\r\n       <use x=\"63.623047\" xlink:href=\"#DejaVuSans-46\"/>\r\n       <use x=\"95.410156\" xlink:href=\"#DejaVuSans-50\"/>\r\n      </g>\r\n     </g>\r\n    </g>\r\n    <g id=\"ytick_3\">\r\n     <g id=\"text_22\">\r\n      <!-- 0.4 -->\r\n      <defs>\r\n       <path d=\"M 37.796875 64.3125 \r\nL 12.890625 25.390625 \r\nL 37.796875 25.390625 \r\nz\r\nM 35.203125 72.90625 \r\nL 47.609375 72.90625 \r\nL 47.609375 25.390625 \r\nL 58.015625 25.390625 \r\nL 58.015625 17.1875 \r\nL 47.609375 17.1875 \r\nL 47.609375 0 \r\nL 37.796875 0 \r\nL 37.796875 17.1875 \r\nL 4.890625 17.1875 \r\nL 4.890625 26.703125 \r\nz\r\n\" id=\"DejaVuSans-52\"/>\r\n      </defs>\r\n      <g transform=\"translate(42.604293 295.532034)scale(0.16 -0.16)\">\r\n       <use xlink:href=\"#DejaVuSans-48\"/>\r\n       <use x=\"63.623047\" xlink:href=\"#DejaVuSans-46\"/>\r\n       <use x=\"95.410156\" xlink:href=\"#DejaVuSans-52\"/>\r\n      </g>\r\n     </g>\r\n    </g>\r\n    <g id=\"ytick_4\">\r\n     <g id=\"text_23\">\r\n      <!-- 0.6 -->\r\n      <defs>\r\n       <path d=\"M 33.015625 40.375 \r\nQ 26.375 40.375 22.484375 35.828125 \r\nQ 18.609375 31.296875 18.609375 23.390625 \r\nQ 18.609375 15.53125 22.484375 10.953125 \r\nQ 26.375 6.390625 33.015625 6.390625 \r\nQ 39.65625 6.390625 43.53125 10.953125 \r\nQ 47.40625 15.53125 47.40625 23.390625 \r\nQ 47.40625 31.296875 43.53125 35.828125 \r\nQ 39.65625 40.375 33.015625 40.375 \r\nz\r\nM 52.59375 71.296875 \r\nL 52.59375 62.3125 \r\nQ 48.875 64.0625 45.09375 64.984375 \r\nQ 41.3125 65.921875 37.59375 65.921875 \r\nQ 27.828125 65.921875 22.671875 59.328125 \r\nQ 17.53125 52.734375 16.796875 39.40625 \r\nQ 19.671875 43.65625 24.015625 45.921875 \r\nQ 28.375 48.1875 33.59375 48.1875 \r\nQ 44.578125 48.1875 50.953125 41.515625 \r\nQ 57.328125 34.859375 57.328125 23.390625 \r\nQ 57.328125 12.15625 50.6875 5.359375 \r\nQ 44.046875 -1.421875 33.015625 -1.421875 \r\nQ 20.359375 -1.421875 13.671875 8.265625 \r\nQ 6.984375 17.96875 6.984375 36.375 \r\nQ 6.984375 53.65625 15.1875 63.9375 \r\nQ 23.390625 74.21875 37.203125 74.21875 \r\nQ 40.921875 74.21875 44.703125 73.484375 \r\nQ 48.484375 72.75 52.59375 71.296875 \r\nz\r\n\" id=\"DejaVuSans-54\"/>\r\n      </defs>\r\n      <g transform=\"translate(42.604293 219.428034)scale(0.16 -0.16)\">\r\n       <use xlink:href=\"#DejaVuSans-48\"/>\r\n       <use x=\"63.623047\" xlink:href=\"#DejaVuSans-46\"/>\r\n       <use x=\"95.410156\" xlink:href=\"#DejaVuSans-54\"/>\r\n      </g>\r\n     </g>\r\n    </g>\r\n    <g id=\"ytick_5\">\r\n     <g id=\"text_24\">\r\n      <!-- 0.8 -->\r\n      <defs>\r\n       <path d=\"M 31.78125 34.625 \r\nQ 24.75 34.625 20.71875 30.859375 \r\nQ 16.703125 27.09375 16.703125 20.515625 \r\nQ 16.703125 13.921875 20.71875 10.15625 \r\nQ 24.75 6.390625 31.78125 6.390625 \r\nQ 38.8125 6.390625 42.859375 10.171875 \r\nQ 46.921875 13.96875 46.921875 20.515625 \r\nQ 46.921875 27.09375 42.890625 30.859375 \r\nQ 38.875 34.625 31.78125 34.625 \r\nz\r\nM 21.921875 38.8125 \r\nQ 15.578125 40.375 12.03125 44.71875 \r\nQ 8.5 49.078125 8.5 55.328125 \r\nQ 8.5 64.0625 14.71875 69.140625 \r\nQ 20.953125 74.21875 31.78125 74.21875 \r\nQ 42.671875 74.21875 48.875 69.140625 \r\nQ 55.078125 64.0625 55.078125 55.328125 \r\nQ 55.078125 49.078125 51.53125 44.71875 \r\nQ 48 40.375 41.703125 38.8125 \r\nQ 48.828125 37.15625 52.796875 32.3125 \r\nQ 56.78125 27.484375 56.78125 20.515625 \r\nQ 56.78125 9.90625 50.3125 4.234375 \r\nQ 43.84375 -1.421875 31.78125 -1.421875 \r\nQ 19.734375 -1.421875 13.25 4.234375 \r\nQ 6.78125 9.90625 6.78125 20.515625 \r\nQ 6.78125 27.484375 10.78125 32.3125 \r\nQ 14.796875 37.15625 21.921875 38.8125 \r\nz\r\nM 18.3125 54.390625 \r\nQ 18.3125 48.734375 21.84375 45.5625 \r\nQ 25.390625 42.390625 31.78125 42.390625 \r\nQ 38.140625 42.390625 41.71875 45.5625 \r\nQ 45.3125 48.734375 45.3125 54.390625 \r\nQ 45.3125 60.0625 41.71875 63.234375 \r\nQ 38.140625 66.40625 31.78125 66.40625 \r\nQ 25.390625 66.40625 21.84375 63.234375 \r\nQ 18.3125 60.0625 18.3125 54.390625 \r\nz\r\n\" id=\"DejaVuSans-56\"/>\r\n      </defs>\r\n      <g transform=\"translate(42.604293 143.324034)scale(0.16 -0.16)\">\r\n       <use xlink:href=\"#DejaVuSans-48\"/>\r\n       <use x=\"63.623047\" xlink:href=\"#DejaVuSans-46\"/>\r\n       <use x=\"95.410156\" xlink:href=\"#DejaVuSans-56\"/>\r\n      </g>\r\n     </g>\r\n    </g>\r\n    <g id=\"ytick_6\">\r\n     <g id=\"text_25\">\r\n      <!-- 1.0 -->\r\n      <defs>\r\n       <path d=\"M 12.40625 8.296875 \r\nL 28.515625 8.296875 \r\nL 28.515625 63.921875 \r\nL 10.984375 60.40625 \r\nL 10.984375 69.390625 \r\nL 28.421875 72.90625 \r\nL 38.28125 72.90625 \r\nL 38.28125 8.296875 \r\nL 54.390625 8.296875 \r\nL 54.390625 0 \r\nL 12.40625 0 \r\nz\r\n\" id=\"DejaVuSans-49\"/>\r\n      </defs>\r\n      <g transform=\"translate(42.604293 67.220034)scale(0.16 -0.16)\">\r\n       <use xlink:href=\"#DejaVuSans-49\"/>\r\n       <use x=\"63.623047\" xlink:href=\"#DejaVuSans-46\"/>\r\n       <use x=\"95.410156\" xlink:href=\"#DejaVuSans-48\"/>\r\n      </g>\r\n     </g>\r\n    </g>\r\n   </g>\r\n  </g>\r\n  <g id=\"axes_2\">\r\n   <g id=\"matplotlib.axis_3\">\r\n    <g id=\"ytick_7\">\r\n     <g id=\"text_26\">\r\n      <!-- 0 -->\r\n      <g transform=\"translate(640.049293 447.740034)scale(0.16 -0.16)\">\r\n       <use xlink:href=\"#DejaVuSans-48\"/>\r\n      </g>\r\n     </g>\r\n    </g>\r\n    <g id=\"ytick_8\">\r\n     <g id=\"text_27\">\r\n      <!-- 9093 -->\r\n      <defs>\r\n       <path d=\"M 10.984375 1.515625 \r\nL 10.984375 10.5 \r\nQ 14.703125 8.734375 18.5 7.8125 \r\nQ 22.3125 6.890625 25.984375 6.890625 \r\nQ 35.75 6.890625 40.890625 13.453125 \r\nQ 46.046875 20.015625 46.78125 33.40625 \r\nQ 43.953125 29.203125 39.59375 26.953125 \r\nQ 35.25 24.703125 29.984375 24.703125 \r\nQ 19.046875 24.703125 12.671875 31.3125 \r\nQ 6.296875 37.9375 6.296875 49.421875 \r\nQ 6.296875 60.640625 12.9375 67.421875 \r\nQ 19.578125 74.21875 30.609375 74.21875 \r\nQ 43.265625 74.21875 49.921875 64.515625 \r\nQ 56.59375 54.828125 56.59375 36.375 \r\nQ 56.59375 19.140625 48.40625 8.859375 \r\nQ 40.234375 -1.421875 26.421875 -1.421875 \r\nQ 22.703125 -1.421875 18.890625 -0.6875 \r\nQ 15.09375 0.046875 10.984375 1.515625 \r\nz\r\nM 30.609375 32.421875 \r\nQ 37.25 32.421875 41.125 36.953125 \r\nQ 45.015625 41.5 45.015625 49.421875 \r\nQ 45.015625 57.28125 41.125 61.84375 \r\nQ 37.25 66.40625 30.609375 66.40625 \r\nQ 23.96875 66.40625 20.09375 61.84375 \r\nQ 16.21875 57.28125 16.21875 49.421875 \r\nQ 16.21875 41.5 20.09375 36.953125 \r\nQ 23.96875 32.421875 30.609375 32.421875 \r\nz\r\n\" id=\"DejaVuSans-57\"/>\r\n       <path d=\"M 40.578125 39.3125 \r\nQ 47.65625 37.796875 51.625 33 \r\nQ 55.609375 28.21875 55.609375 21.1875 \r\nQ 55.609375 10.40625 48.1875 4.484375 \r\nQ 40.765625 -1.421875 27.09375 -1.421875 \r\nQ 22.515625 -1.421875 17.65625 -0.515625 \r\nQ 12.796875 0.390625 7.625 2.203125 \r\nL 7.625 11.71875 \r\nQ 11.71875 9.328125 16.59375 8.109375 \r\nQ 21.484375 6.890625 26.8125 6.890625 \r\nQ 36.078125 6.890625 40.9375 10.546875 \r\nQ 45.796875 14.203125 45.796875 21.1875 \r\nQ 45.796875 27.640625 41.28125 31.265625 \r\nQ 36.765625 34.90625 28.71875 34.90625 \r\nL 20.21875 34.90625 \r\nL 20.21875 43.015625 \r\nL 29.109375 43.015625 \r\nQ 36.375 43.015625 40.234375 45.921875 \r\nQ 44.09375 48.828125 44.09375 54.296875 \r\nQ 44.09375 59.90625 40.109375 62.90625 \r\nQ 36.140625 65.921875 28.71875 65.921875 \r\nQ 24.65625 65.921875 20.015625 65.03125 \r\nQ 15.375 64.15625 9.8125 62.3125 \r\nL 9.8125 71.09375 \r\nQ 15.4375 72.65625 20.34375 73.4375 \r\nQ 25.25 74.21875 29.59375 74.21875 \r\nQ 40.828125 74.21875 47.359375 69.109375 \r\nQ 53.90625 64.015625 53.90625 55.328125 \r\nQ 53.90625 49.265625 50.4375 45.09375 \r\nQ 46.96875 40.921875 40.578125 39.3125 \r\nz\r\n\" id=\"DejaVuSans-51\"/>\r\n      </defs>\r\n      <g transform=\"translate(640.049293 371.636034)scale(0.16 -0.16)\">\r\n       <use xlink:href=\"#DejaVuSans-57\"/>\r\n       <use x=\"63.623047\" xlink:href=\"#DejaVuSans-48\"/>\r\n       <use x=\"127.246094\" xlink:href=\"#DejaVuSans-57\"/>\r\n       <use x=\"190.869141\" xlink:href=\"#DejaVuSans-51\"/>\r\n      </g>\r\n     </g>\r\n    </g>\r\n    <g id=\"ytick_9\">\r\n     <g id=\"text_28\">\r\n      <!-- 18186 -->\r\n      <g transform=\"translate(640.049293 295.532034)scale(0.16 -0.16)\">\r\n       <use xlink:href=\"#DejaVuSans-49\"/>\r\n       <use x=\"63.623047\" xlink:href=\"#DejaVuSans-56\"/>\r\n       <use x=\"127.246094\" xlink:href=\"#DejaVuSans-49\"/>\r\n       <use x=\"190.869141\" xlink:href=\"#DejaVuSans-56\"/>\r\n       <use x=\"254.492188\" xlink:href=\"#DejaVuSans-54\"/>\r\n      </g>\r\n     </g>\r\n    </g>\r\n    <g id=\"ytick_10\">\r\n     <g id=\"text_29\">\r\n      <!-- 27279 -->\r\n      <defs>\r\n       <path d=\"M 8.203125 72.90625 \r\nL 55.078125 72.90625 \r\nL 55.078125 68.703125 \r\nL 28.609375 0 \r\nL 18.3125 0 \r\nL 43.21875 64.59375 \r\nL 8.203125 64.59375 \r\nz\r\n\" id=\"DejaVuSans-55\"/>\r\n      </defs>\r\n      <g transform=\"translate(640.049293 219.428034)scale(0.16 -0.16)\">\r\n       <use xlink:href=\"#DejaVuSans-50\"/>\r\n       <use x=\"63.623047\" xlink:href=\"#DejaVuSans-55\"/>\r\n       <use x=\"127.246094\" xlink:href=\"#DejaVuSans-50\"/>\r\n       <use x=\"190.869141\" xlink:href=\"#DejaVuSans-55\"/>\r\n       <use x=\"254.492188\" xlink:href=\"#DejaVuSans-57\"/>\r\n      </g>\r\n     </g>\r\n    </g>\r\n    <g id=\"ytick_11\">\r\n     <g id=\"text_30\">\r\n      <!-- 36372 -->\r\n      <g transform=\"translate(640.049293 143.324034)scale(0.16 -0.16)\">\r\n       <use xlink:href=\"#DejaVuSans-51\"/>\r\n       <use x=\"63.623047\" xlink:href=\"#DejaVuSans-54\"/>\r\n       <use x=\"127.246094\" xlink:href=\"#DejaVuSans-51\"/>\r\n       <use x=\"190.869141\" xlink:href=\"#DejaVuSans-55\"/>\r\n       <use x=\"254.492188\" xlink:href=\"#DejaVuSans-50\"/>\r\n      </g>\r\n     </g>\r\n    </g>\r\n    <g id=\"ytick_12\">\r\n     <g id=\"text_31\">\r\n      <!-- 45466 -->\r\n      <defs>\r\n       <path d=\"M 10.796875 72.90625 \r\nL 49.515625 72.90625 \r\nL 49.515625 64.59375 \r\nL 19.828125 64.59375 \r\nL 19.828125 46.734375 \r\nQ 21.96875 47.46875 24.109375 47.828125 \r\nQ 26.265625 48.1875 28.421875 48.1875 \r\nQ 40.625 48.1875 47.75 41.5 \r\nQ 54.890625 34.8125 54.890625 23.390625 \r\nQ 54.890625 11.625 47.5625 5.09375 \r\nQ 40.234375 -1.421875 26.90625 -1.421875 \r\nQ 22.3125 -1.421875 17.546875 -0.640625 \r\nQ 12.796875 0.140625 7.71875 1.703125 \r\nL 7.71875 11.625 \r\nQ 12.109375 9.234375 16.796875 8.0625 \r\nQ 21.484375 6.890625 26.703125 6.890625 \r\nQ 35.15625 6.890625 40.078125 11.328125 \r\nQ 45.015625 15.765625 45.015625 23.390625 \r\nQ 45.015625 31 40.078125 35.4375 \r\nQ 35.15625 39.890625 26.703125 39.890625 \r\nQ 22.75 39.890625 18.8125 39.015625 \r\nQ 14.890625 38.140625 10.796875 36.28125 \r\nz\r\n\" id=\"DejaVuSans-53\"/>\r\n      </defs>\r\n      <g transform=\"translate(640.049293 67.220034)scale(0.16 -0.16)\">\r\n       <use xlink:href=\"#DejaVuSans-52\"/>\r\n       <use x=\"63.623047\" xlink:href=\"#DejaVuSans-53\"/>\r\n       <use x=\"127.246094\" xlink:href=\"#DejaVuSans-52\"/>\r\n       <use x=\"190.869141\" xlink:href=\"#DejaVuSans-54\"/>\r\n       <use x=\"254.492188\" xlink:href=\"#DejaVuSans-54\"/>\r\n      </g>\r\n     </g>\r\n    </g>\r\n   </g>\r\n  </g>\r\n  <g id=\"axes_3\">\r\n   <g id=\"matplotlib.axis_4\">\r\n    <g id=\"xtick_20\">\r\n     <g id=\"text_32\">\r\n      <!-- 45466 -->\r\n      <g transform=\"translate(98.330154 51.788386)rotate(-45)scale(0.16 -0.16)\">\r\n       <use xlink:href=\"#DejaVuSans-52\"/>\r\n       <use x=\"63.623047\" xlink:href=\"#DejaVuSans-53\"/>\r\n       <use x=\"127.246094\" xlink:href=\"#DejaVuSans-52\"/>\r\n       <use x=\"190.869141\" xlink:href=\"#DejaVuSans-54\"/>\r\n       <use x=\"254.492188\" xlink:href=\"#DejaVuSans-54\"/>\r\n      </g>\r\n     </g>\r\n    </g>\r\n    <g id=\"xtick_21\">\r\n     <g id=\"text_33\">\r\n      <!-- 45466 -->\r\n      <g transform=\"translate(127.698575 51.788386)rotate(-45)scale(0.16 -0.16)\">\r\n       <use xlink:href=\"#DejaVuSans-52\"/>\r\n       <use x=\"63.623047\" xlink:href=\"#DejaVuSans-53\"/>\r\n       <use x=\"127.246094\" xlink:href=\"#DejaVuSans-52\"/>\r\n       <use x=\"190.869141\" xlink:href=\"#DejaVuSans-54\"/>\r\n       <use x=\"254.492188\" xlink:href=\"#DejaVuSans-54\"/>\r\n      </g>\r\n     </g>\r\n    </g>\r\n    <g id=\"xtick_22\">\r\n     <g id=\"text_34\">\r\n      <!-- 45466 -->\r\n      <g transform=\"translate(157.066996 51.788386)rotate(-45)scale(0.16 -0.16)\">\r\n       <use xlink:href=\"#DejaVuSans-52\"/>\r\n       <use x=\"63.623047\" xlink:href=\"#DejaVuSans-53\"/>\r\n       <use x=\"127.246094\" xlink:href=\"#DejaVuSans-52\"/>\r\n       <use x=\"190.869141\" xlink:href=\"#DejaVuSans-54\"/>\r\n       <use x=\"254.492188\" xlink:href=\"#DejaVuSans-54\"/>\r\n      </g>\r\n     </g>\r\n    </g>\r\n    <g id=\"xtick_23\">\r\n     <g id=\"text_35\">\r\n      <!-- 45466 -->\r\n      <g transform=\"translate(186.435417 51.788386)rotate(-45)scale(0.16 -0.16)\">\r\n       <use xlink:href=\"#DejaVuSans-52\"/>\r\n       <use x=\"63.623047\" xlink:href=\"#DejaVuSans-53\"/>\r\n       <use x=\"127.246094\" xlink:href=\"#DejaVuSans-52\"/>\r\n       <use x=\"190.869141\" xlink:href=\"#DejaVuSans-54\"/>\r\n       <use x=\"254.492188\" xlink:href=\"#DejaVuSans-54\"/>\r\n      </g>\r\n     </g>\r\n    </g>\r\n    <g id=\"xtick_24\">\r\n     <g id=\"text_36\">\r\n      <!-- 45455 -->\r\n      <g transform=\"translate(215.803838 51.788386)rotate(-45)scale(0.16 -0.16)\">\r\n       <use xlink:href=\"#DejaVuSans-52\"/>\r\n       <use x=\"63.623047\" xlink:href=\"#DejaVuSans-53\"/>\r\n       <use x=\"127.246094\" xlink:href=\"#DejaVuSans-52\"/>\r\n       <use x=\"190.869141\" xlink:href=\"#DejaVuSans-53\"/>\r\n       <use x=\"254.492188\" xlink:href=\"#DejaVuSans-53\"/>\r\n      </g>\r\n     </g>\r\n    </g>\r\n    <g id=\"xtick_25\">\r\n     <g id=\"text_37\">\r\n      <!-- 45466 -->\r\n      <g transform=\"translate(245.172259 51.788386)rotate(-45)scale(0.16 -0.16)\">\r\n       <use xlink:href=\"#DejaVuSans-52\"/>\r\n       <use x=\"63.623047\" xlink:href=\"#DejaVuSans-53\"/>\r\n       <use x=\"127.246094\" xlink:href=\"#DejaVuSans-52\"/>\r\n       <use x=\"190.869141\" xlink:href=\"#DejaVuSans-54\"/>\r\n       <use x=\"254.492188\" xlink:href=\"#DejaVuSans-54\"/>\r\n      </g>\r\n     </g>\r\n    </g>\r\n    <g id=\"xtick_26\">\r\n     <g id=\"text_38\">\r\n      <!-- 44512 -->\r\n      <g transform=\"translate(274.540681 51.788386)rotate(-45)scale(0.16 -0.16)\">\r\n       <use xlink:href=\"#DejaVuSans-52\"/>\r\n       <use x=\"63.623047\" xlink:href=\"#DejaVuSans-52\"/>\r\n       <use x=\"127.246094\" xlink:href=\"#DejaVuSans-53\"/>\r\n       <use x=\"190.869141\" xlink:href=\"#DejaVuSans-49\"/>\r\n       <use x=\"254.492188\" xlink:href=\"#DejaVuSans-50\"/>\r\n      </g>\r\n     </g>\r\n    </g>\r\n    <g id=\"xtick_27\">\r\n     <g id=\"text_39\">\r\n      <!-- 45461 -->\r\n      <g transform=\"translate(303.909102 51.788386)rotate(-45)scale(0.16 -0.16)\">\r\n       <use xlink:href=\"#DejaVuSans-52\"/>\r\n       <use x=\"63.623047\" xlink:href=\"#DejaVuSans-53\"/>\r\n       <use x=\"127.246094\" xlink:href=\"#DejaVuSans-52\"/>\r\n       <use x=\"190.869141\" xlink:href=\"#DejaVuSans-54\"/>\r\n       <use x=\"254.492188\" xlink:href=\"#DejaVuSans-49\"/>\r\n      </g>\r\n     </g>\r\n    </g>\r\n    <g id=\"xtick_28\">\r\n     <g id=\"text_40\">\r\n      <!-- 45463 -->\r\n      <g transform=\"translate(333.277523 51.788386)rotate(-45)scale(0.16 -0.16)\">\r\n       <use xlink:href=\"#DejaVuSans-52\"/>\r\n       <use x=\"63.623047\" xlink:href=\"#DejaVuSans-53\"/>\r\n       <use x=\"127.246094\" xlink:href=\"#DejaVuSans-52\"/>\r\n       <use x=\"190.869141\" xlink:href=\"#DejaVuSans-54\"/>\r\n       <use x=\"254.492188\" xlink:href=\"#DejaVuSans-51\"/>\r\n      </g>\r\n     </g>\r\n    </g>\r\n    <g id=\"xtick_29\">\r\n     <g id=\"text_41\">\r\n      <!-- 45463 -->\r\n      <g transform=\"translate(362.645944 51.788386)rotate(-45)scale(0.16 -0.16)\">\r\n       <use xlink:href=\"#DejaVuSans-52\"/>\r\n       <use x=\"63.623047\" xlink:href=\"#DejaVuSans-53\"/>\r\n       <use x=\"127.246094\" xlink:href=\"#DejaVuSans-52\"/>\r\n       <use x=\"190.869141\" xlink:href=\"#DejaVuSans-54\"/>\r\n       <use x=\"254.492188\" xlink:href=\"#DejaVuSans-51\"/>\r\n      </g>\r\n     </g>\r\n    </g>\r\n    <g id=\"xtick_30\">\r\n     <g id=\"text_42\">\r\n      <!-- 45379 -->\r\n      <g transform=\"translate(392.014365 51.788386)rotate(-45)scale(0.16 -0.16)\">\r\n       <use xlink:href=\"#DejaVuSans-52\"/>\r\n       <use x=\"63.623047\" xlink:href=\"#DejaVuSans-53\"/>\r\n       <use x=\"127.246094\" xlink:href=\"#DejaVuSans-51\"/>\r\n       <use x=\"190.869141\" xlink:href=\"#DejaVuSans-55\"/>\r\n       <use x=\"254.492188\" xlink:href=\"#DejaVuSans-57\"/>\r\n      </g>\r\n     </g>\r\n    </g>\r\n    <g id=\"xtick_31\">\r\n     <g id=\"text_43\">\r\n      <!-- 45460 -->\r\n      <g transform=\"translate(421.382786 51.788386)rotate(-45)scale(0.16 -0.16)\">\r\n       <use xlink:href=\"#DejaVuSans-52\"/>\r\n       <use x=\"63.623047\" xlink:href=\"#DejaVuSans-53\"/>\r\n       <use x=\"127.246094\" xlink:href=\"#DejaVuSans-52\"/>\r\n       <use x=\"190.869141\" xlink:href=\"#DejaVuSans-54\"/>\r\n       <use x=\"254.492188\" xlink:href=\"#DejaVuSans-48\"/>\r\n      </g>\r\n     </g>\r\n    </g>\r\n    <g id=\"xtick_32\">\r\n     <g id=\"text_44\">\r\n      <!-- 45203 -->\r\n      <g transform=\"translate(450.751207 51.788386)rotate(-45)scale(0.16 -0.16)\">\r\n       <use xlink:href=\"#DejaVuSans-52\"/>\r\n       <use x=\"63.623047\" xlink:href=\"#DejaVuSans-53\"/>\r\n       <use x=\"127.246094\" xlink:href=\"#DejaVuSans-50\"/>\r\n       <use x=\"190.869141\" xlink:href=\"#DejaVuSans-48\"/>\r\n       <use x=\"254.492188\" xlink:href=\"#DejaVuSans-51\"/>\r\n      </g>\r\n     </g>\r\n    </g>\r\n    <g id=\"xtick_33\">\r\n     <g id=\"text_45\">\r\n      <!-- 45460 -->\r\n      <g transform=\"translate(480.119628 51.788386)rotate(-45)scale(0.16 -0.16)\">\r\n       <use xlink:href=\"#DejaVuSans-52\"/>\r\n       <use x=\"63.623047\" xlink:href=\"#DejaVuSans-53\"/>\r\n       <use x=\"127.246094\" xlink:href=\"#DejaVuSans-52\"/>\r\n       <use x=\"190.869141\" xlink:href=\"#DejaVuSans-54\"/>\r\n       <use x=\"254.492188\" xlink:href=\"#DejaVuSans-48\"/>\r\n      </g>\r\n     </g>\r\n    </g>\r\n    <g id=\"xtick_34\">\r\n     <g id=\"text_46\">\r\n      <!-- 45379 -->\r\n      <g transform=\"translate(509.488049 51.788386)rotate(-45)scale(0.16 -0.16)\">\r\n       <use xlink:href=\"#DejaVuSans-52\"/>\r\n       <use x=\"63.623047\" xlink:href=\"#DejaVuSans-53\"/>\r\n       <use x=\"127.246094\" xlink:href=\"#DejaVuSans-51\"/>\r\n       <use x=\"190.869141\" xlink:href=\"#DejaVuSans-55\"/>\r\n       <use x=\"254.492188\" xlink:href=\"#DejaVuSans-57\"/>\r\n      </g>\r\n     </g>\r\n    </g>\r\n    <g id=\"xtick_35\">\r\n     <g id=\"text_47\">\r\n      <!-- 45460 -->\r\n      <g transform=\"translate(538.85647 51.788386)rotate(-45)scale(0.16 -0.16)\">\r\n       <use xlink:href=\"#DejaVuSans-52\"/>\r\n       <use x=\"63.623047\" xlink:href=\"#DejaVuSans-53\"/>\r\n       <use x=\"127.246094\" xlink:href=\"#DejaVuSans-52\"/>\r\n       <use x=\"190.869141\" xlink:href=\"#DejaVuSans-54\"/>\r\n       <use x=\"254.492188\" xlink:href=\"#DejaVuSans-48\"/>\r\n      </g>\r\n     </g>\r\n    </g>\r\n    <g id=\"xtick_36\">\r\n     <g id=\"text_48\">\r\n      <!-- 45460 -->\r\n      <g transform=\"translate(568.224891 51.788386)rotate(-45)scale(0.16 -0.16)\">\r\n       <use xlink:href=\"#DejaVuSans-52\"/>\r\n       <use x=\"63.623047\" xlink:href=\"#DejaVuSans-53\"/>\r\n       <use x=\"127.246094\" xlink:href=\"#DejaVuSans-52\"/>\r\n       <use x=\"190.869141\" xlink:href=\"#DejaVuSans-54\"/>\r\n       <use x=\"254.492188\" xlink:href=\"#DejaVuSans-48\"/>\r\n      </g>\r\n     </g>\r\n    </g>\r\n    <g id=\"xtick_37\">\r\n     <g id=\"text_49\">\r\n      <!-- 45460 -->\r\n      <g transform=\"translate(597.593312 51.788386)rotate(-45)scale(0.16 -0.16)\">\r\n       <use xlink:href=\"#DejaVuSans-52\"/>\r\n       <use x=\"63.623047\" xlink:href=\"#DejaVuSans-53\"/>\r\n       <use x=\"127.246094\" xlink:href=\"#DejaVuSans-52\"/>\r\n       <use x=\"190.869141\" xlink:href=\"#DejaVuSans-54\"/>\r\n       <use x=\"254.492188\" xlink:href=\"#DejaVuSans-48\"/>\r\n      </g>\r\n     </g>\r\n    </g>\r\n    <g id=\"xtick_38\">\r\n     <g id=\"text_50\">\r\n      <!-- 45460 -->\r\n      <g transform=\"translate(626.961733 51.788386)rotate(-45)scale(0.16 -0.16)\">\r\n       <use xlink:href=\"#DejaVuSans-52\"/>\r\n       <use x=\"63.623047\" xlink:href=\"#DejaVuSans-53\"/>\r\n       <use x=\"127.246094\" xlink:href=\"#DejaVuSans-52\"/>\r\n       <use x=\"190.869141\" xlink:href=\"#DejaVuSans-54\"/>\r\n       <use x=\"254.492188\" xlink:href=\"#DejaVuSans-48\"/>\r\n      </g>\r\n     </g>\r\n    </g>\r\n   </g>\r\n  </g>\r\n </g>\r\n <defs>\r\n  <clipPath id=\"p178a38f953\">\r\n   <rect height=\"380.52\" width=\"558\" x=\"75.049293\" y=\"61.141284\"/>\r\n  </clipPath>\r\n </defs>\r\n</svg>\r\n",
            "image/png": "[encoded data removed]"
          },
          "metadata": {
            "needs_background": "light"
          }
        }
      ],
      "source": [
        "# configuração do plot\n",
        "figsize = (10, 7)\n",
        "matplotlib.rcParams['figure.figsize'] = figsize\n",
        "\n",
        "\n",
        "# visualização de dados faltantes\n",
        "msno.bar(df, figsize=figsize,)"
      ]
    },
    {
      "cell_type": "code",
      "execution_count": 16,
      "metadata": {},
      "outputs": [
        {
          "output_type": "execute_result",
          "data": {
            "text/plain": "<matplotlib.axes._subplots.AxesSubplot at 0x1b3c8cc1ef0>"
          },
          "metadata": {},
          "execution_count": 16
        },
        {
          "output_type": "display_data",
          "data": {
            "text/plain": "<Figure size 720x504 with 2 Axes>",
            "image/svg+xml": "<?xml version=\"1.0\" encoding=\"utf-8\" standalone=\"no\"?>\r\n<!DOCTYPE svg PUBLIC \"-//W3C//DTD SVG 1.1//EN\"\r\n  \"http://www.w3.org/Graphics/SVG/1.1/DTD/svg11.dtd\">\r\n<!-- Created with matplotlib (https://matplotlib.org/) -->\r\n<svg height=\"522.988801pt\" version=\"1.1\" viewBox=\"0 0 660.84 522.988801\" width=\"660.84pt\" xmlns=\"http://www.w3.org/2000/svg\" xmlns:xlink=\"http://www.w3.org/1999/xlink\">\r\n <defs>\r\n  <style type=\"text/css\">\r\n*{stroke-linecap:butt;stroke-linejoin:round;}\r\n  </style>\r\n </defs>\r\n <g id=\"figure_1\">\r\n  <g id=\"patch_1\">\r\n   <path d=\"M 0 522.988801 \r\nL 660.84 522.988801 \r\nL 660.84 0 \r\nL 0 0 \r\nz\r\n\" style=\"fill:none;\"/>\r\n  </g>\r\n  <g id=\"axes_1\">\r\n   <g id=\"patch_2\">\r\n    <path d=\"M 602.291346 504.035173 \r\nL 635.825 504.035173 \r\nL 635.825 123.515173 \r\nL 602.291346 123.515173 \r\nz\r\n\" style=\"fill:#ffffff;\"/>\r\n   </g>\r\n   <g id=\"matplotlib.axis_1\"/>\r\n   <g id=\"matplotlib.axis_2\"/>\r\n   <g id=\"line2d_1\">\r\n    <path clip-path=\"url(#pf6992801f8)\" d=\"M 631.633293 504.035173 \r\nL 631.633293 504.010064 \r\nL 629.53744 504.001695 \r\nL 631.633293 503.901261 \r\nL 631.633293 503.851044 \r\nL 629.53744 503.842674 \r\nL 631.633293 503.74224 \r\nL 631.633293 503.583219 \r\nL 625.345733 503.57485 \r\nL 629.53744 503.474415 \r\nL 631.633293 503.357242 \r\nL 631.633293 503.307025 \r\nL 627.441587 503.298656 \r\nL 631.633293 503.198221 \r\nL 631.633293 503.014092 \r\nL 629.53744 502.972244 \r\nL 631.633293 502.905288 \r\nL 631.633293 502.771376 \r\nL 627.441587 502.737898 \r\nL 631.633293 502.662572 \r\nL 631.633293 502.612355 \r\nL 629.53744 502.603986 \r\nL 631.633293 502.503552 \r\nL 631.633293 502.210619 \r\nL 627.441587 502.202249 \r\nL 631.633293 502.101815 \r\nL 631.633293 502.085076 \r\nL 627.441587 502.076706 \r\nL 631.633293 501.976272 \r\nL 631.633293 501.850729 \r\nL 629.53744 501.84236 \r\nL 631.633293 501.741926 \r\nL 631.633293 501.532688 \r\nL 629.53744 501.474101 \r\nL 631.633293 501.423884 \r\nL 631.633293 501.390406 \r\nL 629.53744 501.382037 \r\nL 631.633293 501.281602 \r\nL 631.633293 501.005408 \r\nL 629.53744 500.896605 \r\nL 631.633293 500.779431 \r\nL 631.633293 500.737584 \r\nL 627.441587 500.662258 \r\nL 631.633293 500.62878 \r\nL 631.633293 500.603672 \r\nL 627.441587 500.595302 \r\nL 631.633293 500.494868 \r\nL 631.633293 500.277261 \r\nL 627.441587 500.268891 \r\nL 631.633293 500.168457 \r\nL 631.633293 500.051284 \r\nL 627.441587 499.959219 \r\nL 631.633293 499.94248 \r\nL 631.633293 499.808568 \r\nL 627.441587 499.800198 \r\nL 631.633293 499.699764 \r\nL 631.633293 499.691395 \r\nL 629.53744 499.683025 \r\nL 631.633293 499.582591 \r\nL 631.633293 499.406831 \r\nL 627.441587 499.398462 \r\nL 631.633293 499.298027 \r\nL 631.633293 499.197593 \r\nL 627.441587 499.113898 \r\nL 631.633293 499.088789 \r\nL 631.633293 498.795856 \r\nL 629.53744 498.787487 \r\nL 631.633293 498.687053 \r\nL 631.633293 498.461076 \r\nL 629.53744 498.452706 \r\nL 631.633293 498.352272 \r\nL 631.633293 498.343903 \r\nL 627.441587 498.327164 \r\nL 631.633293 498.235099 \r\nL 631.633293 498.159773 \r\nL 629.53744 498.076078 \r\nL 631.633293 498.05097 \r\nL 631.633293 497.925427 \r\nL 629.53744 497.917057 \r\nL 631.633293 497.816623 \r\nL 631.633293 497.414886 \r\nL 629.53744 497.406517 \r\nL 631.633293 497.306083 \r\nL 631.633293 497.264235 \r\nL 629.53744 497.255866 \r\nL 631.633293 497.155431 \r\nL 631.633293 496.736956 \r\nL 627.441587 496.728586 \r\nL 631.633293 496.628152 \r\nL 631.633293 496.603044 \r\nL 627.441587 496.519348 \r\nL 631.633293 496.49424 \r\nL 631.633293 496.460762 \r\nL 627.441587 496.452392 \r\nL 631.633293 496.351958 \r\nL 631.633293 495.941852 \r\nL 629.53744 495.933482 \r\nL 631.633293 495.833048 \r\nL 631.633293 495.615441 \r\nL 629.53744 495.607071 \r\nL 631.633293 495.506637 \r\nL 631.633293 495.498268 \r\nL 629.53744 495.406203 \r\nL 631.633293 495.389464 \r\nL 631.633293 495.322508 \r\nL 627.441587 495.314138 \r\nL 631.633293 495.213704 \r\nL 629.53744 495.205335 \r\nL 631.633293 495.1049 \r\nL 631.633293 495.079792 \r\nL 627.441587 494.970988 \r\nL 631.633293 494.853815 \r\nL 631.633293 494.811967 \r\nL 629.53744 494.76175 \r\nL 631.633293 494.703164 \r\nL 631.633293 494.393492 \r\nL 629.53744 494.385122 \r\nL 631.633293 494.284688 \r\nL 631.633293 494.259579 \r\nL 629.53744 494.25121 \r\nL 631.633293 494.150776 \r\nL 631.633293 494.016863 \r\nL 629.53744 494.008494 \r\nL 631.633293 493.90806 \r\nL 631.633293 493.590018 \r\nL 629.53744 493.581649 \r\nL 631.633293 493.481214 \r\nL 631.633293 493.246868 \r\nL 629.53744 493.230129 \r\nL 631.633293 493.138064 \r\nL 631.633293 493.054369 \r\nL 627.441587 493.03763 \r\nL 631.633293 492.945565 \r\nL 631.633293 492.903718 \r\nL 629.53744 492.895348 \r\nL 631.633293 492.794914 \r\nL 631.633293 492.786545 \r\nL 627.441587 492.778175 \r\nL 631.633293 492.677741 \r\nL 631.633293 492.644263 \r\nL 629.53744 492.594046 \r\nL 631.633293 492.535459 \r\nL 631.633293 492.501981 \r\nL 629.53744 492.493612 \r\nL 631.633293 492.393177 \r\nL 631.633293 492.384808 \r\nL 625.345733 492.317852 \r\nL 631.633293 492.276004 \r\nL 631.633293 492.259265 \r\nL 627.441587 492.250896 \r\nL 631.633293 492.150462 \r\nL 631.633293 491.99981 \r\nL 627.441587 491.907746 \r\nL 629.53744 491.891007 \r\nL 631.633293 491.773833 \r\nL 631.633293 491.65666 \r\nL 627.441587 491.648291 \r\nL 631.633293 491.547856 \r\nL 631.633293 491.472531 \r\nL 627.441587 491.464161 \r\nL 631.633293 491.363727 \r\nL 631.633293 491.355358 \r\nL 627.441587 491.280032 \r\nL 631.633293 491.246554 \r\nL 631.633293 490.819709 \r\nL 629.53744 490.811339 \r\nL 631.633293 490.710905 \r\nL 631.633293 490.643949 \r\nL 629.53744 490.635579 \r\nL 631.633293 490.535145 \r\nL 631.633293 489.689824 \r\nL 629.53744 489.681455 \r\nL 631.633293 489.58102 \r\nL 631.633293 489.271348 \r\nL 629.53744 489.262979 \r\nL 631.633293 489.162545 \r\nL 631.633293 489.112328 \r\nL 627.441587 489.037002 \r\nL 631.633293 489.003524 \r\nL 631.633293 488.585048 \r\nL 629.53744 488.576679 \r\nL 631.633293 488.476244 \r\nL 631.633293 488.409288 \r\nL 627.441587 488.392549 \r\nL 631.633293 488.300485 \r\nL 631.633293 488.082877 \r\nL 629.53744 488.074508 \r\nL 631.633293 487.974074 \r\nL 631.633293 487.86527 \r\nL 627.441587 487.8569 \r\nL 631.633293 487.756466 \r\nL 631.633293 487.530489 \r\nL 625.345733 487.471903 \r\nL 627.441587 487.421686 \r\nL 631.633293 487.312882 \r\nL 629.53744 487.304512 \r\nL 631.633293 487.204078 \r\nL 631.633293 487.128753 \r\nL 629.53744 487.120383 \r\nL 631.633293 487.019949 \r\nL 631.633293 486.693538 \r\nL 627.441587 486.685168 \r\nL 631.633293 486.584734 \r\nL 631.633293 486.567995 \r\nL 629.53744 486.450822 \r\nL 631.633293 486.333649 \r\nL 631.633293 486.258323 \r\nL 629.53744 486.166258 \r\nL 631.633293 486.149519 \r\nL 631.633293 486.082563 \r\nL 629.53744 486.074194 \r\nL 631.633293 485.973759 \r\nL 631.633293 485.731044 \r\nL 629.53744 485.722674 \r\nL 631.633293 485.62224 \r\nL 631.633293 485.187025 \r\nL 627.441587 485.09496 \r\nL 631.633293 485.078221 \r\nL 631.633293 484.919201 \r\nL 629.53744 484.818766 \r\nL 631.633293 484.810397 \r\nL 631.633293 484.684854 \r\nL 629.53744 484.676485 \r\nL 631.633293 484.57605 \r\nL 631.633293 484.517464 \r\nL 627.441587 484.475616 \r\nL 631.633293 484.40866 \r\nL 631.633293 484.333335 \r\nL 627.441587 484.291487 \r\nL 631.633293 484.224531 \r\nL 631.633293 484.165944 \r\nL 629.53744 484.115727 \r\nL 631.633293 484.057141 \r\nL 631.633293 483.747468 \r\nL 629.53744 483.630295 \r\nL 631.633293 483.513122 \r\nL 631.633293 482.918886 \r\nL 629.53744 482.910517 \r\nL 631.633293 482.810083 \r\nL 631.633293 482.600845 \r\nL 629.53744 482.550628 \r\nL 631.633293 482.492041 \r\nL 631.633293 482.16563 \r\nL 627.441587 482.123783 \r\nL 631.633293 482.056826 \r\nL 631.633293 481.931284 \r\nL 629.53744 481.922914 \r\nL 631.633293 481.82248 \r\nL 631.633293 481.529547 \r\nL 627.441587 481.521177 \r\nL 631.633293 481.420743 \r\nL 631.633293 479.838905 \r\nL 625.345733 479.830535 \r\nL 631.633293 479.730101 \r\nL 631.633293 479.294886 \r\nL 629.53744 479.286517 \r\nL 631.633293 479.186083 \r\nL 631.633293 478.03109 \r\nL 627.441587 477.913916 \r\nL 631.633293 477.796743 \r\nL 631.633293 477.721418 \r\nL 627.441587 477.713048 \r\nL 631.633293 477.612614 \r\nL 631.633293 477.528919 \r\nL 627.441587 477.453593 \r\nL 631.633293 477.420115 \r\nL 631.633293 477.403376 \r\nL 629.53744 477.395007 \r\nL 631.633293 477.294572 \r\nL 631.633293 477.202508 \r\nL 627.441587 477.185769 \r\nL 631.633293 477.093704 \r\nL 631.633293 477.001639 \r\nL 629.53744 476.99327 \r\nL 631.633293 476.892836 \r\nL 631.633293 476.809141 \r\nL 627.441587 476.683598 \r\nL 631.633293 476.566425 \r\nL 631.633293 476.541316 \r\nL 629.53744 476.47436 \r\nL 631.633293 476.432512 \r\nL 631.633293 476.2986 \r\nL 627.441587 476.281861 \r\nL 631.633293 476.189796 \r\nL 631.633293 476.156318 \r\nL 629.53744 476.147949 \r\nL 631.633293 476.047515 \r\nL 631.633293 475.629039 \r\nL 627.441587 475.60393 \r\nL 631.633293 475.520235 \r\nL 631.633293 475.453279 \r\nL 629.53744 475.44491 \r\nL 631.633293 475.344475 \r\nL 631.633293 474.91763 \r\nL 629.53744 474.909261 \r\nL 631.633293 474.808826 \r\nL 631.633293 474.658175 \r\nL 629.53744 474.649806 \r\nL 631.633293 474.549371 \r\nL 631.633293 474.515893 \r\nL 629.53744 474.507524 \r\nL 631.633293 474.40709 \r\nL 631.633293 474.390351 \r\nL 627.441587 474.373612 \r\nL 631.633293 474.281547 \r\nL 631.633293 474.097418 \r\nL 627.441587 474.089048 \r\nL 631.633293 473.988614 \r\nL 631.633293 473.971875 \r\nL 629.53744 473.963505 \r\nL 631.633293 473.863071 \r\nL 631.633293 473.637094 \r\nL 627.441587 473.628725 \r\nL 631.633293 473.528291 \r\nL 631.633293 473.185141 \r\nL 629.53744 473.176771 \r\nL 631.633293 473.076337 \r\nL 631.633293 472.691339 \r\nL 625.345733 472.6746 \r\nL 631.633293 472.582535 \r\nL 631.633293 472.515579 \r\nL 627.441587 472.482101 \r\nL 631.633293 472.406776 \r\nL 631.633293 472.180799 \r\nL 627.441587 472.172429 \r\nL 631.633293 472.071995 \r\nL 631.633293 472.063625 \r\nL 629.53744 472.055256 \r\nL 631.633293 471.954822 \r\nL 631.633293 471.46102 \r\nL 629.53744 471.452651 \r\nL 631.633293 471.352217 \r\nL 631.633293 471.318739 \r\nL 629.53744 471.201565 \r\nL 629.53744 471.193196 \r\nL 631.633293 471.076023 \r\nL 631.633293 470.95885 \r\nL 629.53744 470.95048 \r\nL 631.633293 470.850046 \r\nL 631.633293 470.230702 \r\nL 629.53744 470.222332 \r\nL 631.633293 470.121898 \r\nL 631.633293 470.105159 \r\nL 625.345733 470.004725 \r\nL 631.633293 469.996355 \r\nL 631.633293 469.937769 \r\nL 627.441587 469.812226 \r\nL 631.633293 469.686683 \r\nL 631.633293 468.858101 \r\nL 629.53744 468.849732 \r\nL 631.633293 468.749298 \r\nL 631.633293 467.627783 \r\nL 629.53744 467.619413 \r\nL 631.633293 467.518979 \r\nL 631.633293 467.368328 \r\nL 627.441587 467.31811 \r\nL 631.633293 467.259524 \r\nL 631.633293 467.251154 \r\nL 627.441587 467.226046 \r\nL 631.633293 467.142351 \r\nL 631.633293 467.108873 \r\nL 627.441587 467.041916 \r\nL 631.633293 467.000069 \r\nL 631.633293 466.841048 \r\nL 629.53744 466.832679 \r\nL 631.633293 466.732244 \r\nL 631.633293 465.719533 \r\nL 627.441587 465.711164 \r\nL 631.633293 465.610729 \r\nL 631.633293 465.560512 \r\nL 629.53744 465.552143 \r\nL 631.633293 465.451709 \r\nL 631.633293 464.840734 \r\nL 627.441587 464.782147 \r\nL 631.633293 464.73193 \r\nL 631.633293 464.656605 \r\nL 629.53744 464.648235 \r\nL 631.633293 464.547801 \r\nL 631.633293 464.497584 \r\nL 629.53744 464.38878 \r\nL 627.441587 464.363672 \r\nL 631.633293 464.271607 \r\nL 631.633293 463.585307 \r\nL 629.53744 463.568568 \r\nL 631.633293 463.476503 \r\nL 631.633293 463.124983 \r\nL 627.441587 463.116614 \r\nL 631.633293 463.01618 \r\nL 631.633293 462.957593 \r\nL 629.53744 462.949224 \r\nL 631.633293 462.848789 \r\nL 631.633293 462.765094 \r\nL 629.53744 462.756725 \r\nL 631.633293 462.656291 \r\nL 631.633293 462.103903 \r\nL 629.53744 461.986729 \r\nL 631.633293 461.869556 \r\nL 631.633293 461.467819 \r\nL 627.441587 461.45945 \r\nL 631.633293 461.359016 \r\nL 631.633293 460.722933 \r\nL 629.53744 460.714563 \r\nL 631.633293 460.614129 \r\nL 631.633293 460.312826 \r\nL 629.53744 460.304457 \r\nL 631.633293 460.204023 \r\nL 631.633293 460.053371 \r\nL 625.345733 459.994785 \r\nL 631.633293 459.944568 \r\nL 631.633293 459.693482 \r\nL 629.53744 459.618157 \r\nL 631.633293 459.584679 \r\nL 631.633293 459.56794 \r\nL 627.441587 459.55957 \r\nL 631.633293 459.459136 \r\nL 631.633293 459.032291 \r\nL 629.53744 458.982074 \r\nL 631.633293 458.923487 \r\nL 631.633293 458.061427 \r\nL 627.441587 458.044688 \r\nL 631.633293 457.952623 \r\nL 631.633293 457.927515 \r\nL 629.53744 457.919145 \r\nL 631.633293 457.818711 \r\nL 631.633293 457.801972 \r\nL 629.53744 457.793602 \r\nL 631.633293 457.693168 \r\nL 631.633293 457.057085 \r\nL 627.441587 457.048716 \r\nL 631.633293 456.948281 \r\nL 631.633293 456.027635 \r\nL 627.441587 455.952309 \r\nL 631.633293 455.918831 \r\nL 631.633293 455.600789 \r\nL 627.441587 455.59242 \r\nL 631.633293 455.491986 \r\nL 631.633293 455.408291 \r\nL 629.53744 455.399921 \r\nL 631.633293 455.299487 \r\nL 631.633293 454.989815 \r\nL 629.53744 454.981445 \r\nL 631.633293 454.881011 \r\nL 631.633293 454.864272 \r\nL 629.53744 454.855903 \r\nL 631.633293 454.755468 \r\nL 631.633293 454.680143 \r\nL 627.441587 454.671773 \r\nL 631.633293 454.571339 \r\nL 631.633293 454.253298 \r\nL 629.53744 454.194711 \r\nL 631.633293 454.144494 \r\nL 631.633293 454.136124 \r\nL 627.441587 454.077538 \r\nL 631.633293 454.027321 \r\nL 631.633293 453.458194 \r\nL 629.53744 453.449824 \r\nL 631.633293 453.34939 \r\nL 631.633293 452.99787 \r\nL 627.441587 452.972762 \r\nL 631.633293 452.889067 \r\nL 631.633293 452.880697 \r\nL 629.53744 452.763524 \r\nL 631.633293 452.646351 \r\nL 631.633293 452.453852 \r\nL 627.441587 452.445482 \r\nL 631.633293 452.345048 \r\nL 631.633293 452.303201 \r\nL 627.441587 452.186027 \r\nL 631.633293 452.068854 \r\nL 631.633293 451.658748 \r\nL 629.53744 451.650378 \r\nL 631.633293 451.549944 \r\nL 631.633293 451.382554 \r\nL 629.53744 451.374184 \r\nL 631.633293 451.27375 \r\nL 631.633293 451.131468 \r\nL 627.441587 451.123099 \r\nL 631.633293 451.022665 \r\nL 631.633293 450.964078 \r\nL 629.53744 450.955709 \r\nL 631.633293 450.855274 \r\nL 631.633293 450.202452 \r\nL 629.53744 450.194083 \r\nL 631.633293 450.093649 \r\nL 631.633293 448.813113 \r\nL 629.53744 448.804743 \r\nL 631.633293 448.704309 \r\nL 631.633293 448.17703 \r\nL 629.53744 448.16866 \r\nL 631.633293 448.068226 \r\nL 631.633293 447.105732 \r\nL 629.53744 447.080623 \r\nL 631.633293 446.996928 \r\nL 631.633293 446.26878 \r\nL 629.53744 446.226933 \r\nL 631.633293 446.159977 \r\nL 631.633293 445.716392 \r\nL 629.53744 445.708023 \r\nL 631.633293 445.607589 \r\nL 631.633293 445.205852 \r\nL 629.53744 445.197482 \r\nL 631.633293 445.097048 \r\nL 631.633293 445.030092 \r\nL 627.441587 444.912919 \r\nL 631.633293 444.795746 \r\nL 631.633293 444.770637 \r\nL 629.53744 444.653464 \r\nL 627.441587 444.561399 \r\nL 631.633293 444.536291 \r\nL 631.633293 444.318683 \r\nL 629.53744 444.310314 \r\nL 631.633293 444.20988 \r\nL 631.633293 443.079995 \r\nL 627.441587 443.071625 \r\nL 631.633293 442.971191 \r\nL 631.633293 442.870757 \r\nL 629.53744 442.862388 \r\nL 631.633293 442.761953 \r\nL 631.633293 442.694997 \r\nL 629.53744 442.686628 \r\nL 631.633293 442.586194 \r\nL 631.633293 442.402064 \r\nL 627.441587 442.393695 \r\nL 631.633293 442.293261 \r\nL 631.633293 442.159348 \r\nL 629.53744 442.150979 \r\nL 631.633293 442.050545 \r\nL 631.633293 441.523265 \r\nL 629.53744 441.514896 \r\nL 631.633293 441.414462 \r\nL 631.633293 441.062942 \r\nL 629.53744 441.054572 \r\nL 631.633293 440.954138 \r\nL 631.633293 440.000013 \r\nL 627.441587 439.991644 \r\nL 631.633293 439.89121 \r\nL 629.53744 439.88284 \r\nL 631.633293 439.782406 \r\nL 631.633293 439.615016 \r\nL 627.441587 439.489473 \r\nL 631.633293 439.3723 \r\nL 631.633293 438.819912 \r\nL 629.53744 438.794803 \r\nL 631.633293 438.711108 \r\nL 631.633293 438.694369 \r\nL 629.53744 438.686 \r\nL 631.633293 438.585565 \r\nL 631.633293 438.577196 \r\nL 625.345733 438.543718 \r\nL 631.633293 438.468392 \r\nL 631.633293 437.916004 \r\nL 629.53744 437.907635 \r\nL 631.633293 437.807201 \r\nL 631.633293 437.773722 \r\nL 629.53744 437.765353 \r\nL 631.633293 437.664919 \r\nL 631.633293 437.29666 \r\nL 627.441587 437.263182 \r\nL 631.633293 437.187856 \r\nL 631.633293 437.171117 \r\nL 627.441587 437.12927 \r\nL 631.633293 437.062314 \r\nL 631.633293 437.053944 \r\nL 627.441587 436.95351 \r\nL 631.633293 436.945141 \r\nL 631.633293 436.652207 \r\nL 627.441587 436.568512 \r\nL 631.633293 436.543404 \r\nL 631.633293 436.233732 \r\nL 629.53744 436.200254 \r\nL 631.633293 436.124928 \r\nL 631.633293 435.790147 \r\nL 629.53744 435.698083 \r\nL 631.633293 435.681344 \r\nL 631.633293 435.614388 \r\nL 627.441587 435.57254 \r\nL 631.633293 435.505584 \r\nL 631.633293 435.488845 \r\nL 627.441587 435.480475 \r\nL 631.633293 435.380041 \r\nL 631.633293 435.212651 \r\nL 627.441587 435.204281 \r\nL 631.633293 435.103847 \r\nL 631.633293 435.095478 \r\nL 625.345733 434.978304 \r\nL 631.633293 434.861131 \r\nL 631.633293 434.743958 \r\nL 627.441587 434.735589 \r\nL 631.633293 434.635154 \r\nL 631.633293 434.551459 \r\nL 627.441587 434.442656 \r\nL 629.53744 434.434286 \r\nL 631.633293 434.317113 \r\nL 631.633293 434.124614 \r\nL 629.53744 434.099505 \r\nL 631.633293 434.01581 \r\nL 631.633293 433.898637 \r\nL 627.441587 433.823311 \r\nL 631.633293 433.789833 \r\nL 629.53744 433.773094 \r\nL 631.633293 433.68103 \r\nL 631.633293 433.429944 \r\nL 629.53744 433.396466 \r\nL 631.633293 433.321141 \r\nL 631.633293 433.195598 \r\nL 629.53744 433.187228 \r\nL 631.633293 433.086794 \r\nL 631.633293 432.919404 \r\nL 629.53744 432.81897 \r\nL 631.633293 432.8106 \r\nL 631.633293 432.760383 \r\nL 629.53744 432.752013 \r\nL 631.633293 432.651579 \r\nL 631.633293 432.350277 \r\nL 627.441587 432.341907 \r\nL 631.633293 432.241473 \r\nL 631.633293 432.224734 \r\nL 629.53744 432.216365 \r\nL 631.633293 432.11593 \r\nL 631.633293 432.048974 \r\nL 627.441587 431.990388 \r\nL 631.633293 431.940171 \r\nL 631.633293 431.77278 \r\nL 629.53744 431.655607 \r\nL 631.633293 431.538434 \r\nL 631.633293 431.371044 \r\nL 629.53744 431.270609 \r\nL 631.633293 431.26224 \r\nL 631.633293 430.843764 \r\nL 629.53744 430.801916 \r\nL 631.633293 430.73496 \r\nL 631.633293 430.626157 \r\nL 629.53744 430.584309 \r\nL 631.633293 430.517353 \r\nL 631.633293 430.383441 \r\nL 629.53744 430.375071 \r\nL 631.633293 430.274637 \r\nL 631.633293 429.772466 \r\nL 627.441587 429.764097 \r\nL 631.633293 429.663662 \r\nL 631.633293 429.437686 \r\nL 629.53744 429.379099 \r\nL 631.633293 429.328882 \r\nL 631.633293 429.211709 \r\nL 629.53744 429.203339 \r\nL 631.633293 429.102905 \r\nL 631.633293 428.994101 \r\nL 629.53744 428.943884 \r\nL 631.633293 428.885298 \r\nL 631.633293 428.809972 \r\nL 629.53744 428.743016 \r\nL 631.633293 428.701168 \r\nL 631.633293 428.67606 \r\nL 627.441587 428.66769 \r\nL 631.633293 428.567256 \r\nL 631.633293 428.533778 \r\nL 629.53744 428.525408 \r\nL 631.633293 428.424974 \r\nL 631.633293 428.349649 \r\nL 625.345733 428.341279 \r\nL 631.633293 428.240845 \r\nL 631.633293 428.190628 \r\nL 627.441587 428.182258 \r\nL 631.633293 428.081824 \r\nL 631.633293 428.014868 \r\nL 629.53744 428.006498 \r\nL 631.633293 427.906064 \r\nL 631.633293 427.839108 \r\nL 627.441587 427.721935 \r\nL 631.633293 427.604762 \r\nL 631.633293 427.362046 \r\nL 629.53744 427.353676 \r\nL 631.633293 427.253242 \r\nL 631.633293 427.236503 \r\nL 629.53744 427.228134 \r\nL 631.633293 427.127699 \r\nL 631.633293 426.818027 \r\nL 629.53744 426.809658 \r\nL 631.633293 426.709224 \r\nL 631.633293 426.642268 \r\nL 627.441587 426.633898 \r\nL 631.633293 426.533464 \r\nL 631.633293 426.08988 \r\nL 629.53744 426.08151 \r\nL 631.633293 425.981076 \r\nL 631.633293 425.822055 \r\nL 629.53744 425.788577 \r\nL 631.633293 425.713251 \r\nL 631.633293 425.328254 \r\nL 629.53744 425.319884 \r\nL 631.633293 425.21945 \r\nL 631.633293 425.077168 \r\nL 629.53744 424.993473 \r\nL 631.633293 424.968365 \r\nL 631.633293 424.792605 \r\nL 629.53744 424.784235 \r\nL 631.633293 424.683801 \r\nL 631.633293 424.667062 \r\nL 627.441587 424.658692 \r\nL 629.53744 424.558258 \r\nL 631.633293 424.441085 \r\nL 631.633293 424.315542 \r\nL 629.53744 424.273695 \r\nL 631.633293 424.206739 \r\nL 631.633293 424.056087 \r\nL 629.53744 423.964023 \r\nL 631.633293 423.947284 \r\nL 631.633293 423.897067 \r\nL 629.53744 423.863589 \r\nL 631.633293 423.788263 \r\nL 631.633293 423.394896 \r\nL 629.53744 423.311201 \r\nL 631.633293 423.286092 \r\nL 631.633293 423.244244 \r\nL 629.53744 423.235875 \r\nL 631.633293 423.135441 \r\nL 631.633293 422.650009 \r\nL 629.53744 422.641639 \r\nL 631.633293 422.541205 \r\nL 631.633293 422.432401 \r\nL 629.53744 422.424032 \r\nL 631.633293 422.323598 \r\nL 631.633293 422.231533 \r\nL 627.441587 422.223164 \r\nL 631.633293 422.122729 \r\nL 631.633293 422.022295 \r\nL 627.441587 421.905122 \r\nL 631.633293 421.787949 \r\nL 631.633293 421.612189 \r\nL 629.53744 421.59545 \r\nL 631.633293 421.503385 \r\nL 631.633293 421.42806 \r\nL 606.483053 421.352734 \r\nL 631.633293 421.319256 \r\nL 631.633293 421.009584 \r\nL 629.53744 421.001214 \r\nL 631.633293 420.90078 \r\nL 631.633293 420.842194 \r\nL 627.441587 420.775238 \r\nL 631.633293 420.73339 \r\nL 631.633293 420.566 \r\nL 627.441587 420.55763 \r\nL 631.633293 420.457196 \r\nL 631.633293 419.226877 \r\nL 629.53744 419.109704 \r\nL 629.53744 419.084595 \r\nL 627.441587 419.067856 \r\nL 631.633293 418.967422 \r\nL 631.633293 418.264383 \r\nL 627.441587 418.256013 \r\nL 631.633293 418.155579 \r\nL 631.633293 417.845907 \r\nL 627.441587 417.812429 \r\nL 631.633293 417.737104 \r\nL 631.633293 417.469279 \r\nL 629.53744 417.46091 \r\nL 631.633293 417.360475 \r\nL 631.633293 417.201455 \r\nL 629.53744 417.134498 \r\nL 631.633293 417.092651 \r\nL 631.633293 416.791348 \r\nL 627.441587 416.741131 \r\nL 629.53744 416.674175 \r\nL 631.633293 416.557002 \r\nL 631.633293 416.456568 \r\nL 629.53744 416.448198 \r\nL 631.633293 416.347764 \r\nL 631.633293 416.255699 \r\nL 629.53744 416.24733 \r\nL 631.633293 416.146896 \r\nL 631.633293 416.096679 \r\nL 629.53744 416.088309 \r\nL 631.633293 415.987875 \r\nL 631.633293 415.276466 \r\nL 627.441587 415.268097 \r\nL 631.633293 415.167662 \r\nL 631.633293 415.058859 \r\nL 629.53744 415.050489 \r\nL 631.633293 414.950055 \r\nL 631.633293 414.791034 \r\nL 629.53744 414.740817 \r\nL 631.633293 414.682231 \r\nL 631.633293 414.380928 \r\nL 629.53744 414.313972 \r\nL 631.633293 414.272124 \r\nL 631.633293 413.962452 \r\nL 627.441587 413.954083 \r\nL 631.633293 413.853649 \r\nL 631.633293 413.702997 \r\nL 627.441587 413.694628 \r\nL 631.633293 413.594194 \r\nL 631.633293 413.267783 \r\nL 629.53744 413.175718 \r\nL 631.633293 413.158979 \r\nL 631.633293 413.150609 \r\nL 627.441587 413.14224 \r\nL 631.633293 413.041806 \r\nL 631.633293 412.949741 \r\nL 629.53744 412.941371 \r\nL 631.633293 412.840937 \r\nL 631.633293 412.773981 \r\nL 627.441587 412.740503 \r\nL 629.53744 412.665177 \r\nL 631.633293 412.548004 \r\nL 631.633293 412.489418 \r\nL 627.441587 412.481048 \r\nL 631.633293 412.380614 \r\nL 631.633293 412.179746 \r\nL 629.53744 412.171376 \r\nL 631.633293 412.070942 \r\nL 631.633293 411.853335 \r\nL 627.441587 411.811487 \r\nL 631.633293 411.744531 \r\nL 631.633293 411.40975 \r\nL 627.441587 411.401381 \r\nL 631.633293 411.300947 \r\nL 631.633293 410.924318 \r\nL 629.53744 410.915949 \r\nL 631.633293 410.815515 \r\nL 631.633293 410.430517 \r\nL 629.53744 410.422147 \r\nL 631.633293 410.321713 \r\nL 631.633293 410.137584 \r\nL 629.53744 410.129214 \r\nL 631.633293 410.02878 \r\nL 631.633293 409.752586 \r\nL 629.53744 409.744217 \r\nL 631.633293 409.643783 \r\nL 631.633293 409.576826 \r\nL 629.53744 409.568457 \r\nL 631.633293 409.468023 \r\nL 631.633293 408.982591 \r\nL 629.53744 408.924004 \r\nL 631.633293 408.873787 \r\nL 631.633293 408.714766 \r\nL 629.53744 408.706397 \r\nL 631.633293 408.605963 \r\nL 631.633293 408.237704 \r\nL 627.441587 408.229335 \r\nL 631.633293 408.1289 \r\nL 631.633293 407.660207 \r\nL 629.53744 407.635099 \r\nL 631.633293 407.551404 \r\nL 631.633293 405.157722 \r\nL 629.53744 405.149353 \r\nL 631.633293 405.048919 \r\nL 631.633293 404.764355 \r\nL 629.53744 404.739247 \r\nL 631.633293 404.655552 \r\nL 631.633293 404.16175 \r\nL 627.441587 404.128272 \r\nL 631.633293 404.052947 \r\nL 631.633293 403.919034 \r\nL 629.53744 403.910665 \r\nL 631.633293 403.810231 \r\nL 631.633293 403.550776 \r\nL 629.53744 403.517298 \r\nL 631.633293 403.441972 \r\nL 631.633293 403.065344 \r\nL 629.53744 403.056974 \r\nL 631.633293 402.95654 \r\nL 631.633293 402.705455 \r\nL 629.53744 402.61339 \r\nL 631.633293 402.596651 \r\nL 631.633293 402.462739 \r\nL 629.53744 402.454369 \r\nL 631.633293 402.353935 \r\nL 631.633293 402.119589 \r\nL 629.53744 402.052632 \r\nL 631.633293 402.010785 \r\nL 631.633293 401.39981 \r\nL 629.53744 401.391441 \r\nL 631.633293 401.291007 \r\nL 631.633293 400.822314 \r\nL 629.53744 400.813944 \r\nL 631.633293 400.71351 \r\nL 631.633293 400.320143 \r\nL 629.53744 400.261556 \r\nL 631.633293 400.211339 \r\nL 631.633293 400.169492 \r\nL 629.53744 400.161122 \r\nL 631.633293 400.060688 \r\nL 631.633293 399.742646 \r\nL 627.441587 399.734277 \r\nL 631.633293 399.633843 \r\nL 631.633293 399.566886 \r\nL 629.53744 399.491561 \r\nL 631.633293 399.458083 \r\nL 631.633293 399.366018 \r\nL 629.53744 399.357649 \r\nL 631.633293 399.257214 \r\nL 631.633293 398.035265 \r\nL 629.53744 398.026896 \r\nL 631.633293 397.926462 \r\nL 631.633293 397.524725 \r\nL 629.53744 397.516355 \r\nL 631.633293 397.415921 \r\nL 631.633293 397.273639 \r\nL 629.53744 397.26527 \r\nL 631.633293 397.164836 \r\nL 631.633293 396.671034 \r\nL 627.441587 396.662665 \r\nL 631.633293 396.562231 \r\nL 631.633293 395.624845 \r\nL 627.441587 395.499302 \r\nL 631.633293 395.382129 \r\nL 631.633293 395.290064 \r\nL 629.53744 395.281695 \r\nL 631.633293 395.181261 \r\nL 631.633293 395.122674 \r\nL 629.53744 395.114304 \r\nL 631.633293 395.01387 \r\nL 631.633293 394.938545 \r\nL 627.441587 394.879958 \r\nL 631.633293 394.829741 \r\nL 631.633293 394.168549 \r\nL 629.53744 394.16018 \r\nL 631.633293 394.059746 \r\nL 631.633293 393.532466 \r\nL 629.53744 393.524097 \r\nL 631.633293 393.423662 \r\nL 631.633293 393.331598 \r\nL 629.53744 393.323228 \r\nL 631.633293 393.222794 \r\nL 631.633293 392.821057 \r\nL 627.441587 392.812688 \r\nL 631.633293 392.712254 \r\nL 631.633293 392.645298 \r\nL 627.441587 392.636928 \r\nL 631.633293 392.536494 \r\nL 631.633293 392.528124 \r\nL 629.53744 392.519755 \r\nL 631.633293 392.419321 \r\nL 631.633293 392.09291 \r\nL 629.53744 391.984106 \r\nL 631.633293 391.883672 \r\nL 627.441587 391.875302 \r\nL 631.633293 391.774868 \r\nL 631.633293 391.373131 \r\nL 627.441587 391.364762 \r\nL 631.633293 391.264328 \r\nL 631.633293 390.979764 \r\nL 627.441587 390.896069 \r\nL 631.633293 390.87096 \r\nL 631.633293 390.276725 \r\nL 629.53744 390.268355 \r\nL 631.633293 390.167921 \r\nL 631.633293 389.690859 \r\nL 629.53744 389.657381 \r\nL 631.633293 389.582055 \r\nL 631.633293 388.619561 \r\nL 629.53744 388.611191 \r\nL 631.633293 388.510757 \r\nL 631.633293 388.477279 \r\nL 629.53744 388.46891 \r\nL 631.633293 388.368475 \r\nL 631.633293 388.134129 \r\nL 627.441587 388.125759 \r\nL 629.53744 388.025325 \r\nL 631.633293 387.916522 \r\nL 627.441587 387.824457 \r\nL 631.633293 387.807718 \r\nL 631.633293 387.799348 \r\nL 629.53744 387.690545 \r\nL 627.441587 387.623589 \r\nL 631.633293 387.573371 \r\nL 627.441587 387.514785 \r\nL 631.633293 387.464568 \r\nL 631.633293 387.447829 \r\nL 627.441587 387.42272 \r\nL 629.53744 387.330656 \r\nL 629.53744 387.322286 \r\nL 631.633293 387.205113 \r\nL 631.633293 386.845224 \r\nL 629.53744 386.836854 \r\nL 631.633293 386.73642 \r\nL 631.633293 386.451856 \r\nL 627.441587 386.443487 \r\nL 631.633293 386.343053 \r\nL 631.633293 386.301205 \r\nL 629.53744 386.292836 \r\nL 631.633293 386.192401 \r\nL 631.633293 385.974794 \r\nL 627.441587 385.966425 \r\nL 631.633293 385.86599 \r\nL 631.633293 385.414037 \r\nL 629.53744 385.405667 \r\nL 631.633293 385.305233 \r\nL 631.633293 385.255016 \r\nL 629.53744 385.213168 \r\nL 631.633293 385.146212 \r\nL 631.633293 384.911866 \r\nL 627.441587 384.886757 \r\nL 631.633293 384.803062 \r\nL 631.633293 384.233935 \r\nL 629.53744 384.225565 \r\nL 631.633293 384.125131 \r\nL 631.633293 384.016328 \r\nL 629.53744 384.007958 \r\nL 631.633293 383.907524 \r\nL 631.633293 383.648069 \r\nL 629.53744 383.639699 \r\nL 631.633293 383.539265 \r\nL 631.633293 383.514157 \r\nL 627.441587 383.438831 \r\nL 631.633293 383.405353 \r\nL 631.633293 383.154268 \r\nL 627.441587 383.053833 \r\nL 629.53744 383.045464 \r\nL 631.633293 382.928291 \r\nL 631.633293 382.543293 \r\nL 627.441587 382.501445 \r\nL 631.633293 382.434489 \r\nL 631.633293 381.890471 \r\nL 629.53744 381.882101 \r\nL 631.633293 381.781667 \r\nL 631.633293 381.647755 \r\nL 629.53744 381.538951 \r\nL 627.441587 381.522212 \r\nL 631.633293 381.421778 \r\nL 631.633293 381.21254 \r\nL 627.441587 381.145584 \r\nL 631.633293 381.103736 \r\nL 631.633293 381.086997 \r\nL 629.53744 381.078628 \r\nL 631.633293 380.978194 \r\nL 631.633293 379.706027 \r\nL 629.53744 379.697658 \r\nL 631.633293 379.597224 \r\nL 631.633293 379.547007 \r\nL 629.53744 379.538637 \r\nL 631.633293 379.438203 \r\nL 631.633293 378.919293 \r\nL 629.53744 378.910923 \r\nL 631.633293 378.810489 \r\nL 631.633293 378.726794 \r\nL 629.53744 378.61799 \r\nL 631.633293 378.500817 \r\nL 631.633293 377.948429 \r\nL 629.53744 377.839625 \r\nL 627.441587 377.822886 \r\nL 631.633293 377.722452 \r\nL 629.53744 377.613649 \r\nL 627.441587 377.580171 \r\nL 631.633293 377.496475 \r\nL 631.633293 377.379302 \r\nL 629.53744 377.370933 \r\nL 631.633293 377.270498 \r\nL 631.633293 376.642785 \r\nL 629.53744 376.634415 \r\nL 631.633293 376.533981 \r\nL 631.633293 376.458656 \r\nL 629.53744 376.450286 \r\nL 631.633293 376.349852 \r\nL 631.633293 376.232679 \r\nL 627.441587 376.157353 \r\nL 631.633293 376.123875 \r\nL 631.633293 376.065288 \r\nL 629.53744 375.948115 \r\nL 631.633293 375.830942 \r\nL 631.633293 375.571487 \r\nL 629.53744 375.563117 \r\nL 631.633293 375.462683 \r\nL 631.633293 375.429205 \r\nL 629.53744 375.420836 \r\nL 631.633293 375.320401 \r\nL 631.633293 374.935404 \r\nL 629.53744 374.927034 \r\nL 631.633293 374.8266 \r\nL 631.633293 374.768013 \r\nL 629.53744 374.759644 \r\nL 631.633293 374.65921 \r\nL 631.633293 373.395413 \r\nL 629.53744 373.387044 \r\nL 631.633293 373.286609 \r\nL 631.633293 373.202914 \r\nL 629.53744 373.194545 \r\nL 631.633293 373.09411 \r\nL 631.633293 373.077371 \r\nL 629.53744 373.069002 \r\nL 631.633293 372.968568 \r\nL 631.633293 372.943459 \r\nL 629.53744 372.93509 \r\nL 631.633293 372.834656 \r\nL 631.633293 370.533039 \r\nL 606.483053 370.432605 \r\nL 631.633293 370.424235 \r\nL 631.633293 370.005759 \r\nL 627.441587 369.980651 \r\nL 631.633293 369.896956 \r\nL 631.633293 369.737935 \r\nL 629.53744 369.729565 \r\nL 631.633293 369.629131 \r\nL 631.633293 369.545436 \r\nL 629.53744 369.428263 \r\nL 631.633293 369.31109 \r\nL 631.633293 368.842397 \r\nL 627.441587 368.741963 \r\nL 631.633293 368.733593 \r\nL 631.633293 368.708485 \r\nL 629.53744 368.700115 \r\nL 631.633293 368.599681 \r\nL 631.633293 368.44903 \r\nL 627.441587 368.44066 \r\nL 631.633293 368.340226 \r\nL 631.633293 368.139358 \r\nL 627.441587 368.130988 \r\nL 631.633293 368.030554 \r\nL 631.633293 367.511644 \r\nL 629.53744 367.503274 \r\nL 631.633293 367.40284 \r\nL 631.633293 366.306434 \r\nL 629.53744 366.298064 \r\nL 631.633293 366.19763 \r\nL 631.633293 366.113935 \r\nL 629.53744 366.005131 \r\nL 627.441587 365.929806 \r\nL 631.633293 365.887958 \r\nL 631.633293 365.829371 \r\nL 627.441587 365.821002 \r\nL 631.633293 365.720568 \r\nL 631.633293 365.553177 \r\nL 629.53744 365.544808 \r\nL 631.633293 365.444374 \r\nL 631.633293 364.565575 \r\nL 627.441587 364.557205 \r\nL 631.633293 364.456771 \r\nL 631.633293 364.138729 \r\nL 629.53744 364.13036 \r\nL 631.633293 364.029926 \r\nL 631.633293 363.377104 \r\nL 627.441587 363.360365 \r\nL 631.633293 363.2683 \r\nL 631.633293 362.92515 \r\nL 629.53744 362.91678 \r\nL 631.633293 362.816346 \r\nL 631.633293 362.473196 \r\nL 629.53744 362.456457 \r\nL 631.633293 362.364392 \r\nL 631.633293 362.138415 \r\nL 629.53744 362.130046 \r\nL 631.633293 362.029612 \r\nL 631.633293 361.996134 \r\nL 629.53744 361.912438 \r\nL 631.633293 361.88733 \r\nL 631.633293 361.828743 \r\nL 629.53744 361.803635 \r\nL 631.633293 361.71994 \r\nL 631.633293 361.694831 \r\nL 629.53744 361.686462 \r\nL 631.633293 361.586027 \r\nL 631.633293 361.343311 \r\nL 627.441587 361.334942 \r\nL 631.633293 361.234508 \r\nL 631.633293 361.108965 \r\nL 629.53744 361.092226 \r\nL 631.633293 361.000161 \r\nL 631.633293 360.916466 \r\nL 629.53744 360.908097 \r\nL 631.633293 360.807662 \r\nL 631.633293 360.230166 \r\nL 627.441587 360.146471 \r\nL 629.53744 360.112993 \r\nL 631.633293 359.995819 \r\nL 631.633293 359.920494 \r\nL 627.441587 359.912124 \r\nL 631.633293 359.81169 \r\nL 631.633293 358.974739 \r\nL 627.441587 358.966369 \r\nL 631.633293 358.865935 \r\nL 631.633293 357.593769 \r\nL 627.441587 357.585399 \r\nL 631.633293 357.484965 \r\nL 631.633293 357.426378 \r\nL 629.53744 357.418009 \r\nL 631.633293 357.317575 \r\nL 631.633293 356.890729 \r\nL 627.441587 356.857251 \r\nL 631.633293 356.781926 \r\nL 631.633293 356.120734 \r\nL 629.53744 356.112365 \r\nL 631.633293 356.01193 \r\nL 631.633293 355.375847 \r\nL 629.53744 355.308891 \r\nL 631.633293 355.267044 \r\nL 631.633293 354.957371 \r\nL 629.53744 354.949002 \r\nL 631.633293 354.848568 \r\nL 631.633293 354.530526 \r\nL 629.53744 354.46357 \r\nL 631.633293 354.421722 \r\nL 631.633293 354.413353 \r\nL 629.53744 354.404983 \r\nL 631.633293 354.304549 \r\nL 631.633293 354.279441 \r\nL 629.53744 354.229224 \r\nL 631.633293 354.170637 \r\nL 631.633293 353.852595 \r\nL 629.53744 353.844226 \r\nL 631.633293 353.743792 \r\nL 631.633293 353.676836 \r\nL 629.53744 353.668466 \r\nL 631.633293 353.568032 \r\nL 631.633293 353.475967 \r\nL 629.53744 353.467598 \r\nL 631.633293 353.367164 \r\nL 631.633293 352.957057 \r\nL 629.53744 352.948688 \r\nL 631.633293 352.848254 \r\nL 631.633293 352.094997 \r\nL 629.53744 352.086628 \r\nL 631.633293 351.986194 \r\nL 631.633293 350.111422 \r\nL 629.53744 350.103053 \r\nL 631.633293 350.002619 \r\nL 631.633293 348.437519 \r\nL 629.53744 348.42915 \r\nL 631.633293 348.328716 \r\nL 631.633293 346.989593 \r\nL 629.53744 346.981224 \r\nL 631.633293 346.880789 \r\nL 631.633293 346.119164 \r\nL 629.53744 346.110794 \r\nL 631.633293 346.01036 \r\nL 631.633293 344.79678 \r\nL 629.53744 344.788411 \r\nL 631.633293 344.687977 \r\nL 631.633293 343.574831 \r\nL 629.53744 343.499505 \r\nL 631.633293 343.466027 \r\nL 631.633293 342.344512 \r\nL 629.53744 342.227339 \r\nL 631.633293 342.110166 \r\nL 631.633293 341.750277 \r\nL 627.441587 341.741907 \r\nL 631.633293 341.641473 \r\nL 631.633293 340.603653 \r\nL 627.441587 340.595284 \r\nL 629.53744 340.49485 \r\nL 631.633293 340.394415 \r\nL 629.53744 340.386046 \r\nL 627.441587 340.377676 \r\nL 631.633293 340.352568 \r\nL 631.633293 340.285612 \r\nL 631.633293 339.498877 \r\nL 629.53744 339.490508 \r\nL 631.633293 339.390074 \r\nL 631.633293 338.469427 \r\nL 627.441587 338.41921 \r\nL 631.633293 338.360623 \r\nL 631.633293 338.034212 \r\nL 627.441587 338.025843 \r\nL 631.633293 337.925408 \r\nL 631.633293 337.674323 \r\nL 629.53744 337.665953 \r\nL 631.633293 337.565519 \r\nL 631.633293 337.506933 \r\nL 627.441587 337.448346 \r\nL 631.633293 337.398129 \r\nL 631.633293 337.063348 \r\nL 627.441587 336.971284 \r\nL 629.53744 336.954545 \r\nL 631.633293 336.837371 \r\nL 631.633293 335.883247 \r\nL 629.53744 335.774443 \r\nL 631.633293 335.65727 \r\nL 629.53744 335.6489 \r\nL 631.633293 335.548466 \r\nL 631.633293 335.322489 \r\nL 629.53744 335.31412 \r\nL 631.633293 335.213686 \r\nL 631.633293 334.460429 \r\nL 627.441587 334.45206 \r\nL 631.633293 334.351625 \r\nL 631.633293 333.506304 \r\nL 629.53744 333.481196 \r\nL 631.633293 333.397501 \r\nL 631.633293 332.811635 \r\nL 629.53744 332.803265 \r\nL 631.633293 332.702831 \r\nL 631.633293 330.568605 \r\nL 629.53744 330.560235 \r\nL 631.633293 330.459801 \r\nL 631.633293 329.631219 \r\nL 629.53744 329.62285 \r\nL 631.633293 329.522415 \r\nL 631.633293 328.802637 \r\nL 629.53744 328.794268 \r\nL 631.633293 328.693833 \r\nL 631.633293 326.434064 \r\nL 629.53744 326.425695 \r\nL 631.633293 326.325261 \r\nL 631.633293 326.316891 \r\nL 627.441587 326.308522 \r\nL 631.633293 326.208087 \r\nL 631.633293 325.873307 \r\nL 629.53744 325.864937 \r\nL 631.633293 325.764503 \r\nL 631.633293 325.705916 \r\nL 629.53744 325.697547 \r\nL 631.633293 325.597113 \r\nL 631.633293 325.538526 \r\nL 629.53744 325.530157 \r\nL 631.633293 325.429722 \r\nL 631.633293 324.994508 \r\nL 629.53744 324.910813 \r\nL 631.633293 324.885704 \r\nL 631.633293 324.810378 \r\nL 629.53744 324.751792 \r\nL 631.633293 324.701575 \r\nL 631.633293 324.693205 \r\nL 629.53744 324.576032 \r\nL 631.633293 324.458859 \r\nL 631.633293 323.764189 \r\nL 629.53744 323.755819 \r\nL 631.633293 323.655385 \r\nL 631.633293 323.337344 \r\nL 629.53744 323.328974 \r\nL 631.633293 323.22854 \r\nL 631.633293 323.161584 \r\nL 629.53744 323.153214 \r\nL 631.633293 323.05278 \r\nL 631.633293 322.960716 \r\nL 627.441587 322.952346 \r\nL 631.633293 322.851912 \r\nL 631.633293 322.835173 \r\nL 629.53744 322.826803 \r\nL 631.633293 322.726369 \r\nL 631.633293 322.157242 \r\nL 629.53744 322.148873 \r\nL 631.633293 322.048438 \r\nL 631.633293 321.722027 \r\nL 629.53744 321.621593 \r\nL 631.633293 321.613224 \r\nL 631.633293 319.537584 \r\nL 627.441587 319.512475 \r\nL 631.633293 319.42878 \r\nL 631.633293 317.913898 \r\nL 627.441587 317.905528 \r\nL 631.633293 317.805094 \r\nL 631.633293 317.520531 \r\nL 629.53744 317.512161 \r\nL 631.633293 317.411727 \r\nL 631.633293 316.340429 \r\nL 627.441587 316.33206 \r\nL 631.633293 316.231625 \r\nL 631.633293 316.223256 \r\nL 629.53744 316.214886 \r\nL 631.633293 316.114452 \r\nL 631.633293 316.014018 \r\nL 629.53744 315.921953 \r\nL 631.633293 315.905214 \r\nL 631.633293 315.838258 \r\nL 629.53744 315.829889 \r\nL 631.633293 315.729455 \r\nL 631.633293 314.934351 \r\nL 629.53744 314.925981 \r\nL 631.633293 314.825547 \r\nL 631.633293 314.783699 \r\nL 629.53744 314.77533 \r\nL 631.633293 314.674896 \r\nL 631.633293 314.616309 \r\nL 629.53744 314.60794 \r\nL 631.633293 314.507505 \r\nL 631.633293 314.499136 \r\nL 627.441587 314.490766 \r\nL 629.53744 314.390332 \r\nL 631.633293 314.273159 \r\nL 631.633293 314.147616 \r\nL 629.53744 314.139247 \r\nL 631.633293 314.038813 \r\nL 631.633293 313.980226 \r\nL 629.53744 313.896531 \r\nL 631.633293 313.871422 \r\nL 631.633293 313.201861 \r\nL 627.441587 313.193492 \r\nL 631.633293 313.093057 \r\nL 631.633293 312.599256 \r\nL 629.53744 312.5323 \r\nL 631.633293 312.490452 \r\nL 631.633293 312.448605 \r\nL 629.53744 312.440235 \r\nL 631.633293 312.339801 \r\nL 631.633293 312.247736 \r\nL 629.53744 312.18915 \r\nL 631.633293 312.138933 \r\nL 631.633293 311.737196 \r\nL 629.53744 311.728826 \r\nL 631.633293 311.628392 \r\nL 631.633293 311.235025 \r\nL 627.441587 311.193177 \r\nL 631.633293 311.126221 \r\nL 631.633293 311.117852 \r\nL 629.53744 311.109482 \r\nL 631.633293 311.009048 \r\nL 631.633293 310.582203 \r\nL 627.441587 310.540355 \r\nL 629.53744 310.46503 \r\nL 631.633293 310.347856 \r\nL 631.633293 310.272531 \r\nL 627.441587 310.264161 \r\nL 631.633293 310.163727 \r\nL 631.633293 307.811893 \r\nL 629.53744 307.803524 \r\nL 631.633293 307.70309 \r\nL 631.633293 307.51896 \r\nL 627.441587 307.510591 \r\nL 631.633293 307.410157 \r\nL 631.633293 307.292983 \r\nL 629.53744 307.284614 \r\nL 631.633293 307.18418 \r\nL 631.633293 306.974942 \r\nL 627.441587 306.966572 \r\nL 631.633293 306.866138 \r\nL 631.633293 306.765704 \r\nL 629.53744 306.757335 \r\nL 631.633293 306.6569 \r\nL 631.633293 306.14636 \r\nL 629.53744 306.13799 \r\nL 631.633293 306.037556 \r\nL 631.633293 305.669298 \r\nL 629.53744 305.660928 \r\nL 631.633293 305.560494 \r\nL 631.633293 305.510277 \r\nL 629.53744 305.501907 \r\nL 631.633293 305.401473 \r\nL 631.633293 305.208974 \r\nL 629.53744 305.200605 \r\nL 631.633293 305.100171 \r\nL 631.633293 304.321806 \r\nL 629.53744 304.313436 \r\nL 631.633293 304.213002 \r\nL 631.633293 303.459746 \r\nL 629.53744 303.451376 \r\nL 631.633293 303.350942 \r\nL 631.633293 303.099856 \r\nL 629.53744 303.091487 \r\nL 631.633293 302.991053 \r\nL 631.633293 302.932466 \r\nL 629.53744 302.924097 \r\nL 631.633293 302.823662 \r\nL 631.633293 302.078776 \r\nL 629.53744 302.070406 \r\nL 631.633293 301.969972 \r\nL 631.633293 301.375736 \r\nL 627.441587 301.367367 \r\nL 631.633293 301.266933 \r\nL 631.633293 300.681067 \r\nL 629.53744 300.61411 \r\nL 631.633293 300.572263 \r\nL 631.633293 300.555524 \r\nL 629.53744 300.547154 \r\nL 631.633293 300.44672 \r\nL 631.633293 300.137048 \r\nL 627.441587 300.128679 \r\nL 631.633293 300.028244 \r\nL 631.633293 298.931838 \r\nL 629.53744 298.923468 \r\nL 631.633293 298.823034 \r\nL 631.633293 298.0363 \r\nL 629.53744 298.02793 \r\nL 631.633293 297.927496 \r\nL 631.633293 297.827062 \r\nL 627.441587 297.818692 \r\nL 631.633293 297.718258 \r\nL 631.633293 297.50902 \r\nL 629.53744 297.416956 \r\nL 631.633293 297.400217 \r\nL 631.633293 296.864568 \r\nL 625.345733 296.856198 \r\nL 631.633293 296.755764 \r\nL 631.633293 296.65533 \r\nL 629.53744 296.630221 \r\nL 631.633293 296.546526 \r\nL 631.633293 296.287071 \r\nL 627.441587 296.278702 \r\nL 631.633293 296.178268 \r\nL 629.53744 296.169898 \r\nL 631.633293 296.069464 \r\nL 631.633293 295.943921 \r\nL 629.53744 295.927182 \r\nL 631.633293 295.835117 \r\nL 631.633293 294.085889 \r\nL 627.441587 294.077519 \r\nL 631.633293 293.977085 \r\nL 631.633293 293.692522 \r\nL 627.441587 293.684152 \r\nL 631.633293 293.583718 \r\nL 631.633293 293.433067 \r\nL 629.53744 293.424697 \r\nL 631.633293 293.324263 \r\nL 631.633293 293.064808 \r\nL 629.53744 293.056438 \r\nL 631.633293 292.956004 \r\nL 631.633293 292.663071 \r\nL 629.53744 292.654702 \r\nL 631.633293 292.554268 \r\nL 631.633293 292.303182 \r\nL 625.345733 292.294813 \r\nL 631.633293 292.194378 \r\nL 631.633293 292.152531 \r\nL 629.53744 292.135792 \r\nL 631.633293 292.043727 \r\nL 631.633293 291.893076 \r\nL 629.53744 291.884706 \r\nL 631.633293 291.784272 \r\nL 631.633293 291.775903 \r\nL 629.53744 291.767533 \r\nL 631.633293 291.667099 \r\nL 631.633293 290.537214 \r\nL 629.53744 290.495367 \r\nL 631.633293 290.428411 \r\nL 631.633293 290.361455 \r\nL 629.53744 290.353085 \r\nL 631.633293 290.252651 \r\nL 631.633293 290.143847 \r\nL 629.53744 290.135478 \r\nL 631.633293 290.035044 \r\nL 631.633293 289.859284 \r\nL 627.441587 289.850914 \r\nL 631.633293 289.75048 \r\nL 631.633293 289.516134 \r\nL 629.53744 289.491025 \r\nL 631.633293 289.40733 \r\nL 631.633293 288.654074 \r\nL 606.483053 288.637335 \r\nL 631.633293 288.54527 \r\nL 631.633293 288.411358 \r\nL 629.53744 288.402988 \r\nL 631.633293 288.302554 \r\nL 631.633293 287.348429 \r\nL 629.53744 287.34006 \r\nL 631.633293 287.239625 \r\nL 631.633293 287.139191 \r\nL 629.53744 287.130822 \r\nL 631.633293 287.030388 \r\nL 631.633293 286.544956 \r\nL 629.53744 286.536586 \r\nL 631.633293 286.436152 \r\nL 631.633293 286.318979 \r\nL 629.53744 286.310609 \r\nL 631.633293 286.210175 \r\nL 631.633293 286.017676 \r\nL 629.53744 286.009307 \r\nL 631.633293 285.908873 \r\nL 631.633293 285.724743 \r\nL 627.441587 285.641048 \r\nL 631.633293 285.61594 \r\nL 631.633293 285.540614 \r\nL 627.441587 285.532244 \r\nL 631.633293 285.43181 \r\nL 631.633293 285.239311 \r\nL 627.441587 285.172355 \r\nL 631.633293 285.130508 \r\nL 631.633293 284.795727 \r\nL 629.53744 284.787358 \r\nL 631.633293 284.686923 \r\nL 631.633293 283.598886 \r\nL 629.53744 283.590517 \r\nL 631.633293 283.490083 \r\nL 631.633293 282.276503 \r\nL 627.441587 282.268134 \r\nL 631.633293 282.167699 \r\nL 631.633293 281.841288 \r\nL 627.441587 281.832919 \r\nL 631.633293 281.732485 \r\nL 631.633293 281.322378 \r\nL 629.53744 281.314009 \r\nL 631.633293 281.213575 \r\nL 631.633293 279.799127 \r\nL 627.441587 279.790757 \r\nL 631.633293 279.690323 \r\nL 631.633293 279.673584 \r\nL 629.53744 279.665214 \r\nL 631.633293 279.56478 \r\nL 631.633293 279.179783 \r\nL 629.53744 279.171413 \r\nL 631.633293 279.070979 \r\nL 631.633293 278.970545 \r\nL 625.345733 278.953806 \r\nL 631.633293 278.861741 \r\nL 631.633293 277.539358 \r\nL 629.53744 277.455662 \r\nL 631.633293 277.430554 \r\nL 631.633293 277.288272 \r\nL 629.53744 277.196207 \r\nL 631.633293 277.179468 \r\nL 631.633293 277.045556 \r\nL 629.53744 277.037187 \r\nL 631.633293 276.936753 \r\nL 631.633293 275.606 \r\nL 629.53744 275.59763 \r\nL 631.633293 275.497196 \r\nL 631.633293 274.643505 \r\nL 629.53744 274.55981 \r\nL 631.633293 274.534702 \r\nL 631.633293 274.492854 \r\nL 625.345733 274.484485 \r\nL 631.633293 274.38405 \r\nL 631.633293 274.367311 \r\nL 629.53744 274.358942 \r\nL 631.633293 274.258508 \r\nL 631.633293 273.764706 \r\nL 627.441587 273.756337 \r\nL 631.633293 273.655903 \r\nL 631.633293 273.019819 \r\nL 629.53744 273.01145 \r\nL 631.633293 272.911016 \r\nL 631.633293 272.643191 \r\nL 629.53744 272.634822 \r\nL 631.633293 272.534388 \r\nL 631.633293 271.195265 \r\nL 629.53744 271.186896 \r\nL 631.633293 271.086462 \r\nL 631.633293 270.801898 \r\nL 629.53744 270.793528 \r\nL 631.633293 270.693094 \r\nL 631.633293 269.90636 \r\nL 627.441587 269.89799 \r\nL 631.633293 269.797556 \r\nL 631.633293 269.672013 \r\nL 629.53744 269.630166 \r\nL 631.633293 269.56321 \r\nL 631.633293 269.270277 \r\nL 629.53744 269.261907 \r\nL 631.633293 269.161473 \r\nL 631.633293 269.002452 \r\nL 629.53744 268.994083 \r\nL 631.633293 268.893649 \r\nL 631.633293 268.726258 \r\nL 629.53744 268.625824 \r\nL 631.633293 268.617455 \r\nL 631.633293 268.52539 \r\nL 627.441587 268.450064 \r\nL 631.633293 268.416586 \r\nL 631.633293 268.098545 \r\nL 629.53744 268.065067 \r\nL 631.633293 267.989741 \r\nL 631.633293 267.772134 \r\nL 629.53744 267.763764 \r\nL 631.633293 267.66333 \r\nL 631.633293 267.412244 \r\nL 629.53744 267.295071 \r\nL 631.633293 267.177898 \r\nL 631.633293 267.094203 \r\nL 629.53744 267.085833 \r\nL 631.633293 266.985399 \r\nL 631.633293 266.608771 \r\nL 629.53744 266.600401 \r\nL 631.633293 266.499967 \r\nL 631.633293 265.997796 \r\nL 629.53744 265.897362 \r\nL 631.633293 265.888993 \r\nL 631.633293 265.41193 \r\nL 629.53744 265.403561 \r\nL 631.633293 265.303127 \r\nL 631.633293 264.976716 \r\nL 627.441587 264.968346 \r\nL 631.633293 264.867912 \r\nL 631.633293 264.767478 \r\nL 627.441587 264.759108 \r\nL 631.633293 264.658674 \r\nL 631.633293 264.583348 \r\nL 629.53744 264.574979 \r\nL 631.633293 264.474545 \r\nL 631.633293 264.432697 \r\nL 629.53744 264.38248 \r\nL 631.633293 264.323893 \r\nL 631.633293 262.976401 \r\nL 629.53744 262.942923 \r\nL 631.633293 262.867598 \r\nL 631.633293 262.733686 \r\nL 629.53744 262.708577 \r\nL 631.633293 262.624882 \r\nL 631.633293 258.431755 \r\nL 629.53744 258.356429 \r\nL 631.633293 258.322951 \r\nL 631.633293 257.511108 \r\nL 629.53744 257.502739 \r\nL 631.633293 257.402304 \r\nL 631.633293 257.360457 \r\nL 629.53744 257.326979 \r\nL 631.633293 257.251653 \r\nL 631.633293 256.238942 \r\nL 629.53744 256.230572 \r\nL 631.633293 256.130138 \r\nL 631.633293 256.113399 \r\nL 629.53744 256.10503 \r\nL 631.633293 256.004595 \r\nL 631.633293 255.201122 \r\nL 627.441587 255.192753 \r\nL 631.633293 255.092318 \r\nL 631.633293 252.280161 \r\nL 627.441587 252.271792 \r\nL 631.633293 252.171358 \r\nL 631.633293 251.828207 \r\nL 629.53744 251.819838 \r\nL 631.633293 251.719404 \r\nL 631.633293 251.116799 \r\nL 627.441587 251.108429 \r\nL 631.633293 251.007995 \r\nL 631.633293 250.782018 \r\nL 629.53744 250.765279 \r\nL 631.633293 250.673214 \r\nL 631.633293 248.145621 \r\nL 627.441587 248.137251 \r\nL 631.633293 248.036817 \r\nL 631.633293 247.978231 \r\nL 629.53744 247.969861 \r\nL 631.633293 247.869427 \r\nL 631.633293 247.400734 \r\nL 629.53744 247.392365 \r\nL 631.633293 247.29193 \r\nL 631.633293 247.13291 \r\nL 627.441587 247.12454 \r\nL 631.633293 247.024106 \r\nL 631.633293 246.940411 \r\nL 629.53744 246.932041 \r\nL 631.633293 246.831607 \r\nL 631.633293 246.454979 \r\nL 629.53744 246.446609 \r\nL 631.633293 246.346175 \r\nL 631.633293 246.295958 \r\nL 629.53744 246.287589 \r\nL 631.633293 246.187154 \r\nL 631.633293 245.961177 \r\nL 629.53744 245.952808 \r\nL 631.633293 245.852374 \r\nL 631.633293 245.124226 \r\nL 629.53744 245.115856 \r\nL 631.633293 245.015422 \r\nL 631.633293 242.236743 \r\nL 629.53744 242.228374 \r\nL 631.633293 242.12794 \r\nL 631.633293 241.77642 \r\nL 629.53744 241.717833 \r\nL 631.633293 241.667616 \r\nL 631.633293 241.458378 \r\nL 629.53744 241.450009 \r\nL 631.633293 241.349575 \r\nL 631.633293 241.25751 \r\nL 629.53744 241.249141 \r\nL 631.633293 241.148706 \r\nL 631.633293 240.922729 \r\nL 629.53744 240.91436 \r\nL 631.633293 240.813926 \r\nL 631.633293 240.772078 \r\nL 629.53744 240.763709 \r\nL 631.633293 240.663274 \r\nL 631.633293 239.349261 \r\nL 629.53744 239.340891 \r\nL 631.633293 239.240457 \r\nL 631.633293 239.064697 \r\nL 629.53744 239.056328 \r\nL 631.633293 238.955893 \r\nL 631.633293 238.713177 \r\nL 627.441587 238.654591 \r\nL 631.633293 238.604374 \r\nL 631.633293 238.361658 \r\nL 629.53744 238.353288 \r\nL 631.633293 238.252854 \r\nL 631.633293 237.909704 \r\nL 627.441587 237.842748 \r\nL 629.53744 237.8009 \r\nL 631.633293 237.683727 \r\nL 631.633293 237.541445 \r\nL 629.53744 237.533076 \r\nL 631.633293 237.432642 \r\nL 631.633293 237.148078 \r\nL 627.441587 237.139709 \r\nL 631.633293 237.039274 \r\nL 631.633293 237.030905 \r\nL 627.441587 237.022535 \r\nL 631.633293 236.922101 \r\nL 631.633293 234.093205 \r\nL 629.53744 234.084836 \r\nL 631.633293 233.984401 \r\nL 631.633293 231.77485 \r\nL 629.53744 231.76648 \r\nL 631.633293 231.666046 \r\nL 631.633293 223.689898 \r\nL 629.53744 223.681528 \r\nL 631.633293 223.581094 \r\nL 631.633293 220.626656 \r\nL 629.53744 220.618286 \r\nL 631.633293 220.517852 \r\nL 631.633293 212.993658 \r\nL 627.441587 212.985288 \r\nL 631.633293 212.884854 \r\nL 631.633293 212.298988 \r\nL 629.53744 212.290619 \r\nL 631.633293 212.190184 \r\nL 631.633293 207.252171 \r\nL 629.53744 207.243801 \r\nL 631.633293 207.143367 \r\nL 631.633293 205.218378 \r\nL 629.53744 205.210009 \r\nL 631.633293 205.109575 \r\nL 631.633293 204.063385 \r\nL 629.53744 204.055016 \r\nL 631.633293 203.954582 \r\nL 631.633293 202.372743 \r\nL 629.53744 202.364374 \r\nL 631.633293 202.26394 \r\nL 631.633293 200.280365 \r\nL 629.53744 200.271995 \r\nL 631.633293 200.171561 \r\nL 631.633293 198.740374 \r\nL 629.53744 198.732004 \r\nL 631.633293 198.63157 \r\nL 631.633293 195.149852 \r\nL 629.53744 195.141482 \r\nL 631.633293 195.041048 \r\nL 631.633293 175.715838 \r\nL 629.53744 175.707468 \r\nL 631.633293 175.607034 \r\nL 631.633293 174.837039 \r\nL 629.53744 174.828669 \r\nL 631.633293 174.728235 \r\nL 631.633293 173.807589 \r\nL 629.53744 173.799219 \r\nL 631.633293 173.698785 \r\nL 631.633293 173.330526 \r\nL 629.53744 173.322157 \r\nL 631.633293 173.221722 \r\nL 631.633293 172.727921 \r\nL 629.53744 172.719552 \r\nL 631.633293 172.619117 \r\nL 631.633293 163.663736 \r\nL 629.53744 163.655367 \r\nL 631.633293 163.554933 \r\nL 631.633293 163.295478 \r\nL 629.53744 163.287108 \r\nL 631.633293 163.186674 \r\nL 631.633293 158.089639 \r\nL 627.441587 158.08127 \r\nL 631.633293 157.980836 \r\nL 631.633293 153.888143 \r\nL 629.53744 153.879773 \r\nL 631.633293 153.779339 \r\nL 631.633293 152.482064 \r\nL 627.441587 152.473695 \r\nL 631.633293 152.373261 \r\nL 631.633293 141.886258 \r\nL 629.53744 141.877889 \r\nL 631.633293 141.777455 \r\nL 631.633293 141.434304 \r\nL 625.345733 141.425935 \r\nL 631.633293 141.325501 \r\nL 631.633293 135.324559 \r\nL 629.53744 135.316189 \r\nL 631.633293 135.215755 \r\nL 631.633293 135.148799 \r\nL 629.53744 135.098582 \r\nL 631.633293 135.039995 \r\nL 631.633293 132.529141 \r\nL 629.53744 132.520771 \r\nL 631.633293 132.420337 \r\nL 631.633293 132.077187 \r\nL 629.53744 132.068817 \r\nL 631.633293 131.968383 \r\nL 631.633293 130.746434 \r\nL 627.441587 130.738064 \r\nL 631.633293 130.63763 \r\nL 631.633293 130.486979 \r\nL 629.53744 130.386545 \r\nL 631.633293 130.378175 \r\nL 631.633293 130.235893 \r\nL 627.441587 130.227524 \r\nL 631.633293 130.12709 \r\nL 631.633293 129.94296 \r\nL 629.53744 129.934591 \r\nL 631.633293 129.834157 \r\nL 631.633293 129.666766 \r\nL 629.53744 129.658397 \r\nL 631.633293 129.557963 \r\nL 631.633293 129.474268 \r\nL 629.53744 129.465898 \r\nL 631.633293 129.365464 \r\nL 631.633293 129.206443 \r\nL 629.53744 129.198074 \r\nL 631.633293 129.097639 \r\nL 631.633293 128.91351 \r\nL 627.441587 128.821445 \r\nL 631.633293 128.804706 \r\nL 631.633293 126.034397 \r\nL 629.53744 126.026027 \r\nL 631.633293 125.925593 \r\nL 631.633293 125.105381 \r\nL 629.53744 125.097011 \r\nL 631.633293 124.996577 \r\nL 631.633293 123.791367 \r\nL 629.53744 123.782997 \r\nL 631.633293 123.682563 \r\nL 631.633293 123.515173 \r\nL 631.633293 123.515173 \r\n\" style=\"fill:none;stroke:#404040;stroke-linecap:square;stroke-width:1.5;\"/>\r\n   </g>\r\n   <g id=\"line2d_2\">\r\n    <defs>\r\n     <path d=\"M 0 2.5 \r\nC 0.663008 2.5 1.29895 2.236584 1.767767 1.767767 \r\nC 2.236584 1.29895 2.5 0.663008 2.5 0 \r\nC 2.5 -0.663008 2.236584 -1.29895 1.767767 -1.767767 \r\nC 1.29895 -2.236584 0.663008 -2.5 0 -2.5 \r\nC -0.663008 -2.5 -1.29895 -2.236584 -1.767767 -1.767767 \r\nC -2.236584 -1.29895 -2.5 -0.663008 -2.5 0 \r\nC -2.5 0.663008 -2.236584 1.29895 -1.767767 1.767767 \r\nC -1.29895 2.236584 -0.663008 2.5 0 2.5 \r\nz\r\n\" id=\"m5a84f52759\" style=\"stroke:#404040;\"/>\r\n    </defs>\r\n    <g clip-path=\"url(#pf6992801f8)\">\r\n     <use style=\"fill:#404040;stroke:#404040;\" x=\"606.483053\" xlink:href=\"#m5a84f52759\" y=\"421.352734\"/>\r\n    </g>\r\n   </g>\r\n   <g id=\"line2d_3\">\r\n    <g clip-path=\"url(#pf6992801f8)\">\r\n     <use style=\"fill:#404040;stroke:#404040;\" x=\"631.633293\" xlink:href=\"#m5a84f52759\" y=\"504.035173\"/>\r\n    </g>\r\n   </g>\r\n   <g id=\"text_1\">\r\n    <!-- 19 -->\r\n    <defs>\r\n     <path d=\"M 12.40625 8.296875 \r\nL 28.515625 8.296875 \r\nL 28.515625 63.921875 \r\nL 10.984375 60.40625 \r\nL 10.984375 69.390625 \r\nL 28.421875 72.90625 \r\nL 38.28125 72.90625 \r\nL 38.28125 8.296875 \r\nL 54.390625 8.296875 \r\nL 54.390625 0 \r\nL 12.40625 0 \r\nz\r\n\" id=\"DejaVuSans-49\"/>\r\n     <path d=\"M 10.984375 1.515625 \r\nL 10.984375 10.5 \r\nQ 14.703125 8.734375 18.5 7.8125 \r\nQ 22.3125 6.890625 25.984375 6.890625 \r\nQ 35.75 6.890625 40.890625 13.453125 \r\nQ 46.046875 20.015625 46.78125 33.40625 \r\nQ 43.953125 29.203125 39.59375 26.953125 \r\nQ 35.25 24.703125 29.984375 24.703125 \r\nQ 19.046875 24.703125 12.671875 31.3125 \r\nQ 6.296875 37.9375 6.296875 49.421875 \r\nQ 6.296875 60.640625 12.9375 67.421875 \r\nQ 19.578125 74.21875 30.609375 74.21875 \r\nQ 43.265625 74.21875 49.921875 64.515625 \r\nQ 56.59375 54.828125 56.59375 36.375 \r\nQ 56.59375 19.140625 48.40625 8.859375 \r\nQ 40.234375 -1.421875 26.421875 -1.421875 \r\nQ 22.703125 -1.421875 18.890625 -0.6875 \r\nQ 15.09375 0.046875 10.984375 1.515625 \r\nz\r\nM 30.609375 32.421875 \r\nQ 37.25 32.421875 41.125 36.953125 \r\nQ 45.015625 41.5 45.015625 49.421875 \r\nQ 45.015625 57.28125 41.125 61.84375 \r\nQ 37.25 66.40625 30.609375 66.40625 \r\nQ 23.96875 66.40625 20.09375 61.84375 \r\nQ 16.21875 57.28125 16.21875 49.421875 \r\nQ 16.21875 41.5 20.09375 36.953125 \r\nQ 23.96875 32.421875 30.609375 32.421875 \r\nz\r\n\" id=\"DejaVuSans-57\"/>\r\n    </defs>\r\n    <g transform=\"translate(635.825 507.898298)scale(0.14 -0.14)\">\r\n     <use xlink:href=\"#DejaVuSans-49\"/>\r\n     <use x=\"63.623047\" xlink:href=\"#DejaVuSans-57\"/>\r\n    </g>\r\n   </g>\r\n   <g id=\"text_2\">\r\n    <!-- 7 -->\r\n    <defs>\r\n     <path d=\"M 8.203125 72.90625 \r\nL 55.078125 72.90625 \r\nL 55.078125 68.703125 \r\nL 28.609375 0 \r\nL 18.3125 0 \r\nL 43.21875 64.59375 \r\nL 8.203125 64.59375 \r\nz\r\n\" id=\"DejaVuSans-55\"/>\r\n    </defs>\r\n    <g transform=\"translate(593.383846 425.215859)scale(0.14 -0.14)\">\r\n     <use xlink:href=\"#DejaVuSans-55\"/>\r\n    </g>\r\n   </g>\r\n  </g>\r\n  <g id=\"axes_2\">\r\n   <g id=\"patch_3\">\r\n    <path d=\"M 77.825 504.035173 \r\nL 580.829808 504.035173 \r\nL 580.829808 123.515173 \r\nL 77.825 123.515173 \r\nz\r\n\" style=\"fill:#ffffff;\"/>\r\n   </g>\r\n   <g clip-path=\"url(#p42d9831abf)\">\r\n    <image height=\"45466\" id=\"imagef51148df59\" transform=\"matrix(26.526316 0 0 0.00838 77.825 123.035173)\" width=\"19\" xlink:href=\"data:image/png;base64,\r\niVBORw0KGgoAAAANSUhEUgAAABMAALGaCAYAAADN7TfIAAAABHNCSVQICAgIfAhkiAAAIABJREFUeJzt3VmS47oRAEC1Y+5FHZ03a/+M4vWoSYqAIKKAyvpxtGXngAv2hV/LsnzfGsX/WkEwGAwGg8FgsF+xrmsx9qWxB4PBYDAYDAaDwWAwGAwGg8FgMBgMBoPBYDAYDAaDwWAwGAwGg8FgsFmwrYX1Fs7DYDAYDAaDwWAwGAwGg8FgMBgMBoPBYDAYDAZLhjmbEAaDwWAwGAwGg8FgMBgMBoPBYDAYDAaDwWAwGAwGg8FgMBgMBoPBYDAYDAaDwWAwGAwGg8FgMBgMBoPBYDAYDAaDwWAwGAwGg8FgMBgMBoPBYDAYDAYbDdv76sjR10iapswnTKJiST5IU5MDBrxMGAwGg8FgMFgsLElrGwaDwWAwGGxY7Ex7TfsMBoPBYANjqjoYDAaDwWCwRNhW409jDwaDwWCwBpjFH7DcmFX4MBgMNhSm4QKDNcNkJxgMBoPBYLC3MQNLMBgMBoPBYDAYDAaDwWAwGAwGg8FgMBgMBoPBYDAYDAaDwWAwGAwGg3XB7JKEwWAwGAwGg8FgMBgMdowZPYDBYDAYDAaDwWAwGAwGg8FgMBgMBoPBYDAYDAaDwWAwGAwGg8FgMBgMBoPBYDAYDAaDwWAwGAwGg8FgMBgMBoPBYDAYDAaDwWAwGAwGg8FgP2PrDHNnlDfEHBIPg8FgsCaYCgUGg8FgMBgMBoPBYDAYDAaDwWAwGAwGg8FgMBgMBoPBYDAYDAaDwWAwGAwGg8FgMBgMBoPBYDAYDAaDwWAwGAwGg8FgMBgMBoPBYDAYDAaDwWAwGAwGg8FgMBgMBoPBYDAYDAaDwWAwGAwGg8FgMBgMBoPBYDAYDAaDwWAwGAwGg8FgMBgMBoPBYDAYDAaDwWAwGAwGg8FgMBgMBoPBYDAYDAaDwWAwGAwGg8FgMBgMBoPBYDAYDAaDwWAwGGx2bF3Xw/9+6/evZVm+W6TqdhvynsFgMBgMBoPBYDAYDJYL2xs9OAqjBzAYDAaDwWAwGAwGg8FgMBgMBoPBYDAYDAaDwWAwGAwGg8FgMBgMBoPBYDAYDAaDwWAwGAwGg8FgMBgMBoPBYDAYDAaDwWAwGAwGg8FgMBgMBoPBYDAYDAaDwWAwGAwGg8FgMBgMBoPBYDAYDAaDwWAwGAwGg8FgMBgMBoPBYDAYDAaDwWAwGAwGg8FgMBgMBoPBYDAYDAaDwWAwGAwGg8FgMBgMBoPBYDAYDAaDwWAwGAwGg8FgMBgMBoPBYDAYDAaDwWAwGAwGg8FgMBgMBoPBYDAYDAaDwWAwGAwGg8FgMBgMBoPBYDAYDAaDwWAwGAwGg8FgMBgMBoPBYDAYDAaDwWAwGAwGg8FgMBgMBoPBYDAYDAaDwWAwGAwGg8FgMBgMBoPBYDAYDAaDwWAwGAwGg8FgMBgMBoPBYDAYDAaDwWAwGAwGg8FgI2Lruh7+fbvdbl/Lsny/m6JHTHDPYDAYDAaDwWAwGAwGg8FgMBgMBoPBYDAYDAaDwWAwGAwGg8FgMBgMBoPBMmJb+06ewz4UGAwGg8FgMBgMBoPBYDAYDAaDwWAwGAwGg8FgMBgMBoPBYDAYDAaDwWAwGAwGg8FgMBgMBoPBYDAYDAaDwWAwGAwGg8FgMBgMBoPBYDAYDAaDwWAwGAwGg8FgMBgMBoPBYDAYDAaDwWAwGAwGg8FgMBgMBoPBYDAYDAaDwWAwGAwGi46t63r4f9z6/WtZlu93U/SIAe8ZDAaDwWAwGAwGg8FgMBgMBoPBYDAYDAaDwWAwGAwGg8FgMBgMBoPBYDAYDAaDwWAwGAwGg8FgMBgMBoPBYDAYDAaDwWAwGAwGg8FgMBgMBoPBYDAYDAaDwWAwGAwGg8FgMBgMBoPBYDAYDAaDwWAwGAwGg8FgMBgMBoPBYDAYDAaDwWAwGAwGg8FgMBgMBoPBYDAYDAaDwWAwGAwGg8FgMNj12LquxdjXsizf76TmZwx4z2AwGAwGg8FgMFg+TN8JBoPBYDAYDAaDwWAwGAwGg8FgMBgMBoPBYDAYDAaDwWAwGAwGg8FgMBgMBoPBYDAYDAaDwWAwGAwGg8FgMBgMBoPBYDAYDAaDwWAwGAwGg8FgMBgMBoPBYDAYDAaDwWAwGAwGg8FgMBgMBoPBYDAYDAaDwWAwGAwGg8FgMBgMBoPBYDAYDAaDwWAwGAwGg8FgMBgMBoPBYDAYDAaDwWAwGAwGg8FgMBgMBoPBYDAYDAaDwWAwGAwGg8FgMBgMBoPBYDAYDAaDwWAwGAwGg8FgMBgMBoPBYDAYDAaDwWAwGAwGg8FgMBgMBoPBYDAYDAaDwWAwGAwGg8FgMBgMBoPBYDAYDAaDwWAwGAwGg8FgMBgMBoPBYDAYDAZrhq3r+vJ/87Usy/c7qfkZE9wzGAwGg8FgMBgMBoPBYDAYDAZ7BzszLvscxmlhMBgMBoPBYDAYDAaDTYcZJIHBYDAYDAaDwWAwGAwGg8FgMBgMBoPBYDAYDAaDwWCTYlvLoyx/gsFgMBgMBoPBYDAYDAaDwWAwGAwGg8FgMBjsBOZMEhgMBoPBYDAYDAaDwWAwGAwGg8FgMBgMBoPBYDAYDAaDwWAwGAwGg8FgMBgMBoPBYDAYDAaDwWAwGAwGg8FgMBgMBoPBYDAYDAaDwWAwGAwGg8FgMBgMBoPBYDAYDAaDwWAwGAwGg8FgMBgMBoPBYDAYDAaDwWAwGAwGg8FgMBgMBoPBYDAYDAaDwWAwGAwGg8FgMBgMBoPBYDAYDAaDwWAwGAwGg8FgMBgMBoPBYDAYDAaDwWAwGAwGg8FgMBgMBoPBYDAYDAaDwWAwGAwGg8FgMBgMBoPBYDAYDAaDwWAwGAwGg8FgMBgMBoPBYDAYDAaDwWAwGAwGg8FgMBgMBoPBYDAYDAaDwWAwGAwGg8FgMBgMBoPBYDAYDAaDwWAwGAwGg8FgMBgMBoPBYDAYDAaDwWAwGAwGg8FgMBgMBoPBYDAYDAaDwWAwGAwGg8FgMBgMBoPBYDAYDAaDwWAwGAwGg8FgMBgMBoPBYDAYDAaDwWAwGAwGg8FgMBgMBoPBYDAYDAaDwWAwGAwGg8FgMBgMBoPBYDAYDAaDwWAwGAwGg8FgMBgMBoPBYDAYDAaDwWAwGAwGg8FgMBgMBoPBYDAYDAaDwWAwGAwGg8FgMBgMBoPBYDAYDAaDwWAwGAwGg8FgMBgMBoPBYDAYDAaDwWAwGAwGg8FgMBgMBoPBYDAYDAaDwWAwGAwGg8FgMBgMBoPBYDAYDAaDwWAwGAwGg8FgMBgMBoPBYDAYDAaDwWAwGAwGg8FgMBgMBoPBYDAYDAaDwWAwGAwGg8FgMBgMBoPBYDAYDAaDwWAwGAwGW9e1GPtaluX7ndT8jAHvGQwGg8FgMBgMBoPBYDAYDAaDwWAwGAwGg8FgMBgMBoPBYDAYDAaDwWAwGAwGg8FgMBgMBoPBYDAYDAaDwWAwGAwGg8FgMBgMBoPBYDAYDAaDwWAwGAwGg8FgMBgMBoPBYDAYDAaDwWAwGAwGg8Fg02LruhZjX8uyfL+Tmp8x4D2DwWAwGAwGg8FgMBgMBoPBYDAYDAaDwWAwGAwGg8FgMBgMBoPBYDAYDAaDwWAw2LiYfXUwGAwGg8FgMBgMBoPBYDAYDAaDwWAwGAwGg8FgMBgMBoPBYDAYDAaDwWAwGAwGg8FgMBgMBoPBYDAYDAaDwWCw2JgTs2AwGAwGg8FgMBgMBoPBYDAYDAaDwWAwGAwGg8FgMBgMBoPBYDAYDAaDwWAwGAwGg8FgMFg7zA5mGAwGg8FgMBgMBoPBYDAYDAaDwWAwGAwGg8FgMBgMBoPBYLDW2NYKTSswYTAYDAaDwWAwGAwGg8FgMBgMBoPBYDAYDAaDwWAwGAwGg8FgMBgMBoPBYDAYDAaDwWAwGAwGg8FgMBgMBoN9APNhShgMBoPBYDAYDAaDwWAwGAwGg8FgMBgMBoPBYDAYDAaDwWAwGAwGg8FgMBgMBoPBYDAYDAaDwWAwGAwGg8FgMBgMBoPBYDAYDAaDwWAwGAwGg8FgMBgMBoPBYDAYDAaDwWAwGAwGg8FgMBgMBoPBYDAYDAaDwWAwGAwGg8FgMBgMBoPBYDAYDAaDwWAwGAwGg8FgMBgMBoPBYDAYLC22rmsx9rUsy/c7qfkZA94zGAwGg8FgMBgMBoPBYDAYDAaDwWAhsVfTHlu/m/aAwWAwGAwGg8FgMBgMBoPBYDAYDAaDwWAwGAwGg8FgMBgMBoPBYDAYDAaDwWAwGAwGg8FgMBgMBoPBYDAYDAaDwWAwGAwGg8FgMBgMBoPBYDAYDAaDwWAwGAwGg8FgMBgMBoPBYDAYDAaDwWAwGAwGg8FgMBgMBoPBYDAYDAaDwWAwGAwGg8FgMBgMBoPBYDAYDAaDwWAwGAwGg8FgMBgMBoPBYDAYDAaDwWAwGAwGg8FgMBgMBoPBYDAYDAaDwWAwGAwGg8FgMBgMBoPBYDAYDAaDwWAwGAwGg8FgMBgMBoPBYDAYDAaDwWAwGCw3tq5rMfa1LMv3O6n5GQPeMxgMBoPBYDAYDAaDwWAwGAwGg8FgMBgMBoPBYDAYDAaDwWAwGAwGg8FgMBgMBoPBYDAYDAaDwWAwGAwGg8FgMBgMBoPBYDAYDAaDwWAwGAwGg8FgMBgMBoPBYDAYDAb7L3wVDgaDwWAwGAwGg8FgMBgMBoPBYDAYDAaDwWAwGAwGg8FgMBgMBoPBYDAYDAaDwWAwGAwGg8FgMBgMBoPBYDAYDAaDwWAwGAwGg8FgMBgMBoPBYDAYDAaDwWAwGAwGg8FgMBgMBoPBYDAYDAaDwWAwGAwGg8FgMBgMBoPBYDAYDAaDwWAwGAwGg8FgMBgMBoPBYDAYDAaDwWAwGAwGg8FgMBgMBoPBYDAYDAaDwWAwGAwGg8FgMBgMBoPBYDAYDAaDwWAwGAwGg8FgMBgMBoPBYDAYDAaDwWAwGAwGg8FgMBgMBoPBYDAYDAaDwWAwGAwGg8FgMBgMBoPBYDBYW2xd12Lsa1mW73dS8zMGvGcwGAwGg8FgMBgMBoPBYDAYDAaDwWAwGAwGg8FgMBgMBoPBYDAYDAaDwWAwGAwGg8FgMBgMBoPBYDAYDAaDwWAwGAwGg8FgsI6YAzVhMBgMBoPBYDAYDAaDwWAwGAwGg8FgMBgMBoPBYDAYDAaDwWAwGAwGg8FgMBgMBoPBYDAYDAaDwWAwGAwGg8FgMBgMBoPBYDAYDAaDwWAwGAwGg8FgMBgMBoNNgO19kunoU00DfpLJl6dgsGZYklIDBoPBYDAYDAaDwWDvY1tdRV1EGAwGg8FgsM9hZsQ6Y+ZQYDshb8JgMBgMBoPBYDAYDAY7xowewGAwGAwGg8FGx0yWzoTpocBgMBgMBoPBYLA4mB4KDAaDwWAwGKwOO9OS1HKEwWAwGAwGg8FgMBgMBoPBYDAYDAaDwWAwGAwGg8FgMBgMBoPBYDAYDAaDxcHsrYbBYLBPY0paGAwGg8FgMBgsH6YfAIPBYDDYeUy9CYPBYDAYDBYL0z6bCfM0YTAYDAaDwWAwGAwGg12IGYqAwWAwGAwGg8FgMBgMBoPBYDAYDAaDwWAwGAwGg8FgMBgMBoPBYDAYDAaDwWAwGAwGg8FgMBgMBoPBYDAYDAaDwWAwGAwGg8FgMBgMBoPBYDAYDAaDwWAwWFrMR3xgMBgMBoPBYDAYDAaDwWAwGAwGg8FgMBhsXsycMAwGg8FgMBgMlg/TD4DBYLChMMU2DAaDwWAwGAwGg8FgMFhrzIgLDAaDwSbH9qq6oypQVQeDwWAwGAx2HXZmaEL7DAaDwWAwGAwGg8FgMBgMBoNdgllLBYPBYENhNcV2ccosMoLBYDAYDAaDwWAwGAwGg8FgMBgMBoPBYDAYDAaDwWAwGAwGg8FgMBgMBoPBYDAYDAaDwWAwGAwGg8FgMBgMBoPBYDAYDAaDwWAwGAwGg8FgsOjYJcfXH4Xj62EwGAwGg8FgsLGxvU6Fz1jBYDAYDAaDwWAwGAwGg8FgMBgMBoM1wmpWeZmQgcFgMBgMBoPBYDAYLBNmOScMBoPBYDAYDAaDwWAwGAwGg8FgMBgMBoPBYDAYDAaDwWAwGAwGg8FgMBgMBoPBYDAYDAaDwWAwGAwGg8FgMBgMBoPBYDAYDAaDwWAwGAwGg8FgMBgMBoPBYLDTmA8fwWAwGAwGg8FgMBgMBoPBYDAYDAaDwWAwGAwGC4MdLVjYCwsZYDDYRdhWEaUIgsFgMBgMBoPBYDAYDAaDwWAwGAwGg8FgMBgMBoPBYDAY7Ha7TbPMzoJmGAwG+zSmpIXBYDAYDAaDwWAwGAwGg8FgMBgMBoPBYDDY9ZjZatgVmPcMBoPBYDAYDAaDwWAwGAwGg8FgMBgMBoPBYDAYDAaDwWAwGAwGg8FgMBgMBoPBYDAYDAaDwWAwGAwGg8FgMBgMBoPBYDAYDAaDwWAwGAwGg8FgMBgMBoPBYDAYDAaDwWAwGAwGg8FgMBgMBoPBYDAYDAaDwWAwGAwGg8FgMBgMBoPBYDDYbNi6rsXY17Is3++k5mcMmDIYDAaDwWDnsbg1ek3Kmt4zDRcYDAaDwWAwGAwGg8FgMBgMBoPBYDAYDAaDwWAwGAwGg8FgMBgMBoPBYDDYR7GtHTQ2tXwQO7NlyQOAwWCwEizuNlUYDAaD5cVe1U46YjAYDAaDfQjbq4SPKmeVMAwGg8FgMBgMBoPBYJ/HLJiBwWAwGAwGg8FgMBgMBguFWYUPgzXDZCcYDAaDwWAwGAwGg8FgMBgMBpsIM+gLg8FgMBgMBoPBYDAYDNYaM+ICg8FgMFgnrKYSbpoyNToM9nlMaxsGg8FgMBgMBoMlxXz6CwaDwWAwGAwWHUsyhJ/kMmEwGAwGg8FgMFg+zPfRYVdgutUwWAKs6ZL++/1ejCs1YF0xm1pgMBgMBoPBYHWY7g4MBoPBYDBYX8wkFgwGg8FgMBgMBoO9xvSdyjH3DAaDwWAw2CcxG4FgMBgMBoPBYDAYDAaDwWAwGAwGg8FgMBgMBkuHWZoIg8FgMBgMBoPBYLC/oYsIg8FgMBgMBoPBYDAYDAaDwWAwGAwGg8FgMBgMBoPBYDAYDAaDwWAwGAwGgw2A2QgEg8FgMBgMBoPBYBdjOmIwGAwGg8FgMBgMBoPBYDAYDAaDwWCwcNjeJNbR5JZJLBgMBoPBYDAYDAaDwWAwGAwGa4fZbACDwTpiz0XQ429TRbCwmHoTNhzmpYXBYDAYDAaDwWAwGAwGg8FgMBgMBoPBYDAYDAaDdcC2lq1YlgKDwWAwGAwGg8FgMBgMBoPBYDAYDAaDwWAwGAwGg8FgMBgMBoPBYDAYDAaDvcYcKQuDwWBDY2eKccU2bB5MwwUGg8FgTTAVCmw4zEsLg8FgMBgMBoPBYDAYDAaDwWAwGAwGg8FgMBgMBoPBYDAYDAaDwWAwGAwGGxt73iHz+Pto58zplN3v93/+cytst4HBYDAYrAFmzysMBoPBYDAYDAaDwWAwWGjM8A0MBuuI7RVBR0WTIggGg8FgMBgMBoPBYDAYDAaDwWAwGAwGg8FgMBgMBoPBYDAYDAaDwWAwGAwGg8Fgx5gNtDAYDAaDwWAwGAwGg8FgsP6YM5ZgMBgMBoPBYDAYDAaLgemjw2AwGAwGg8FgMBgMBoPBYDAYDAaDwWAwGAwGg8FgMBgMBoPBYDAYDHYWc54jDAaDwWAwGAwGg8FgMBgMBoPBYDAYDAaDwWAwGAwGg8FgMBhsMMwSWBgMBoPBYDAYDAYbGfN5IdjJODMA4NWAwWAwGAwGg0XCXrVht37XpoXBBsOMa8CGwyyxgMFgMBgMBoMFxAySwGAwGAwGg8GiY4ZWYTAYDAaDPYXmAQwGg8FgMBgMBoPBYDAYDAaDNcesJoTBYDAYrDFWM6/5CJUwDAaDwWAwGAwGg8FgMBgMBoPBYDAYDAaDwWAwGAwGgw2JORIDBoPBYDBYg/hz9GNpe+MQu91ut/v9fhrXcIHBYDAYDAaDwWAwGAwGg8FgMBgMBoPBYLCEWNyVcXFTBoPBYDAYDAaDwYbA9joVR50NnQoYDAaDwWCwjJjhaBgMBoPBZsDU6DAYDLYRCsf3sTP30D2DwWAwGAwGg8FgMBgMBoPBYDAYDAaDwWAwGAwGg8FgMBgMBoPBYI+wBhkGgx1jdnvAYDAYDAbLidW0gpqmTJMKBoPBSrDnYvvxtzN9YTAYDAaDwWAw2OTYVrdHdwcGg8FgMBgMBoPBYK8wa0NhMBgMBoPBYDAYrByzGxcGg8FgMBisGHvVhLL8CQaDwWAwGAwGg8HSYHtdRAcCwGAwGAwGg8FgMBgMBoPBYDAYDAaDwWAwGAwGg8FgMBgMBoPBYDAYDAaDwWAwGAwGg8FgMBgMBoMlx7YOoNjFXh10eL/ff/13TrGAwWAwGAx2FhvnG3++oAGDVWOOxoPBYDAYDAaDwWBxsLhDEXFTBoPBYDDY5NirAUyff4TBYDAYDAaDwWAwGAwGg8Gmx8zVwXJjcgAMBoPBYDAYDPYpzL46GAwGg8E6YYa8YDAYDAaDwWAwGAwGg8FgMBgMBoPBYDAYDAZLh1kuAIPBYDAYDAaDwWAwGAwGg8FgMBgMBoPBYDAYDAaDwWAwGAwGy4w5AxMGg8FgMBgMBoPBYLkwO0thV2DeM9jJOPOqeDVgMBgMBoPBYDAYDAaDwWAwGAxWiJmpgF2BWYMMg8FgMBgMBoPBYDAYDAaDwWAwGAxWHltzKeZQYDAYDAaDwWAwGAwGg8FgMBgMBoPBYDAYDPYeZmcpDAaDwfbCiiUYDAaDwWAwGAw2KGbICwaDwWAwGAwGg8FgMBgMBoPBYDAYDAaDwWCDYjVT3o8w9Q2DwWAwGAwGg8FgMBgMBoPBYDAYDAaDwWAwWG/szMy/GX4YDAaDwWAwWCTMgU0wGAw2FKbYhsFgMBgMBoPBYDAYDAa7GSSBwWAwGAwGg8FgMBgMBoPBYDDY3g9GkGEwGAwG64S9qoS3flcJw2AwGAwGg8FgNZhDrmAwGAwGS4/tNQeOmgmaBzAYDAaDwWCwxphRKhgMBoPBYDAYDAaDwWAwGAwGg8FgMBgMBoPBYDAYDAaDwWAwGAwGg8FgMBgMBoPBYDAYDAaDwWAwGAwGg8FgMBgMBoPBYDAYDAaDwUbDfPQCBoPBYLDz2JlT+Z9DvQnrimnslWMyOgwGg8FgMBgMBoPBYDAYDFaPbY2vGT+DzYMZdW+PKTVgMBgMBoPBYDAYDAaDwebBrMCEwWAwGAwGg8FgMBgMdiGWZCjCZe7GgJcJg8FgMFgTTL0JgzXDZCfYTng1YDAYDAaDwWAwGAwGg8FgMBisL+aIHxgMBoPBYDAYDAaDwWAwGAwGg8FgsN9hrTtsOMxLC4PBYHkxdQAMBoPB4mNnaiu1E6wUq2kFNU2ZlxYG2wzL02Ew2DmspiZ/hFIDBoPB5sCMbcNgMNinMSUtDAaDwWAwGAwGg8FgMBgMBoPBYDAYDAaDwWCwT2JbaxOsPYDBNsNSHlhuTA6AwWAwGKwTphKGwWBlmLMiYDAYDAaDwWAwGAwGg8FgMBgMBoPBYDAYDAaDwWAwGAwGg8FgVWHTMQwGg8FgMBgMBoOlwexFhMFgMBgMBoPBYDAYDAaDwWAwGAwGg8FgMBgMBoPBYDAYDAaDwWAwGAwGg8FgMBgMBmuLxd2/GTdlMBgMBoPBYDAYDAaDwWAwGAwGg8FgMBgMBoPBYDAYDAaDwWAwGAwGg8FgMBgMBoPBYDAYDAaDwWAwGAwGg8FgMNiZ2Do5y4lZMFhVyE4wGAwGg8FgMBgMBoNdgx0dBr8X+ugwGAwGg8FgMBgMBoPBYDAYDAaDJcZMLsBgsI6Yj2DDYDAYDHYe03SHwWAwWBNMhQKDwWAwGAwGg8FgMNjHMGcswWAwGAwGg8FgMBgMBoPBYDAYDAaDwWAw2CvMgmYYLAEmo8OuwLxnM2Nnnq6nCYMNhim2YdNhlg3DYDAYDAaDwWAwGAwGg8FgjTAjyDAYDAZ7hOUCMBgMlgfTD4DBYDAYDAaDwWAwGGxCzMeJYTBYGWaYEAaDwWAwGAwGg8FgMBgMBoPBYDAYDAaDwWAwGAwGg8FgMBgMBoPBYDAYDAaDwWAwGAwGg8FgMBgMBoPBYDAYDAaDwWAwGAwGg3XCHI8Kg8FgMBgMBoPBYDAYDAaDwWAwGAwGg8FgoTDTuDAYDAaDwWAwGAwGg8FgMBgMBoPBYDAYDAaDwWB9sTPrN6zXgMFgMBgMBoPBYDAYDAaDwWAwGAwGg8FgMBgMBoPBYDAYDAaDwWAwGAwGg8FgMBgMBoPBYDAYDAaDwWAwGAwGg8FgMBhsHsy3JGEwGAwGg8FgMBgMBoPBYDAYDAaDFWE1kwtxL9O0BwwGg8FgMBgMBoPBYDAYDAaDwWAwGAwGg8FgMNiM2N4al6O1L1aSwGAwGAwGg8FgMBgMBoPBYDAYDAaDwWAwGCwQ5uxoGAwGg8FgMBgsHxa3HxA3ZTAYrBkWN6M7A3M34l4mrCEWN2/CYDAYDAaDwWAwGAwGg8FgMBgMBoPBYDAYDAaDwWAwGCwNFncxW5KDqJNfZhVW849MtDq6/2XCYDAYDAaDwWAw2FtY3KGIuFiS0YMkmBwAg8FgeTF1AAwGg8FgMBgMBpsUM4AJg8FgMBgMBoPBYLC/UdNFLE7Z/X7f/S17f9OUJAwGg8FgMBgMBoPBYDAYDAaDwWAwGAwGg8FgMBgMBhsUs/wJBoPBYDAYDAaDwWAwGAwGg8FgMBgMBoPBYKewJBPMl3wbtyk22Qkz3R9Akpd2wMtsiiW5Z0kusynmnsGuwBwrDoPBYDAYDAaDwWAwGAwGg8FgMBgMBoPBYDAYDAaDwWAwGCwFZtEkDAaDwWAwGAwGg8FgMFhrLO526Lgpg8GGw2QnGAwGg8FgMBgMBoPBYDAYDAaDwWAwGAwGg8FgMBgMBoPBYLCumOWcsCsw7xkMBoPBYDDj8I27AAAdBUlEQVQYDAaDwWAwGAwGg8FgMBgMBoPBYDAYDAaDwWAwGAwWEbPSFwaDwWAwGAwGg8FgMBgMBoPBYDAYDAaDwWAwGAwGg8FgMBgMBoPBYLCzmFX4MBgMBoPBYDAYDAaDwWAwGAwGg8FgMBgMBoP9F+bRYTAYDAaDwWAwGAwGg8FgMBgMBoPBYDAYDAaDwWAwGAwGg8FgMBgMBoPBYLABMBuBYDAYDAaDwWAwGAwGg8FgMBgMBoPBYDAYDAaDwWAwGAwGg8FgMBgMBoPBYDAYDAaDwWCw8TD7hGEwGAwGg8FgMBgMBoPBYDAYDAaDwWAwGAwGg8FgMBgMBoPBYDAYDAaDwWAwGAwGg8FgMBgMBoPBYDAYDDY05iAdGAwGg8FgMBgMBoPBYDAYDAaDwWAwGAwGgw2OmfqGwWAwGAwGg8FgMBgMBoP1x4xSwWAwGAxWj52pR9WbMBgMBvsVOmIwGAwGg8FgMBgMNjO21evTq2uI6VbDYLBZMOUZbCeSvBpJLrMp5p7BYDAYDAaDwWAwGAxWjelWw2AwGAwGg8FgsEkx3R3YTng1YDAYDAaDwWAwGAwGg8FgMBgMBoPBYMNhDuuAwWAwGAwGg8FgMBgMBoPBYDAYDAaDXY7t7cQ62qE14CSWDWcwGAwGg8FgMBgMBoPBYDCY8TMYDAaD/Y4kU0UwGAwGg8FgMBgMBoPBYDAYDAaDwWAwGAwGg8FgMBgMBoPBYDAYDAaDpcZ8D+XDmA0aMBgMBoPBYDAYDAaDwWAwGAwGg8FgMBgMBoPBYANjFn/AYDAYLB4W9/sBUrYb2dsaSS6zKVbz0u5i9/v98P+49Y9Vp2zrH8v+NGEwGAwGg8FgMBgMBoPBYDAYDAaDtcLiTvzBYDAYLC/WdIa/JlR1MBgMBoPBzmKWc8JgMBgMBoPBYLBxMF/QgMFg/0bc5QJxUwaDDYfJTrDhMC8tDAaDbYTCEQaDwWAwGAwGGwKzDQIGg8FgMBgMBoPBYDDYhZhZRBgMBoPBYDAYDAaDwSbEak4yKk7Z0ccXjR7AYDAYDAaDwWAwGAwGg8FgMBgMBoPBYJvhTF8YDAaDwWAwGAwGg8F2MR/zhMFgMBgMBoPBYDAYDAaDwWAwGAwGg8FgMBgMBoPBajEnzsNgMBgMBoNNjFlqDYMlwGR02HCYoQjYcFjNS9s0ZdfkAHkTBoPBYMkxx7zBYDAYDAaDwWAwGAwGg8FgMBgMBoPBYDAYDAaDwWAwGAwGg8FmxmwdgcFgMBgMBoPBYDAYDAaDwWAw2AWYo/FgMBgMBoPBYLAfoYEMg8FgMBgM9jZmCWxnTJsWthM1r0bcy+z7NQjZCQaDwWAwGAwGg8FgMBgMBoPBTBXBYJkxGR0Gg8Fgk2OqOhgMBoPBYDmxuIsm46YMBoPBYDAYDAaDwWCwKbE/Rz+WzqMcYrfb7Xa/30/jOvyweTBTkjAYDAaDwWAwGAwGg8FgMBgMBoPBYDAYDAaDwWAwGAwGg8FgMBgMBoPBYDAYDAaDwWAwGAwGg8FgMBgMBoPBYDAYDAaDwWAwGAyWE3M+LQwGmwVTnsFgsI6YIggGg8Fgk2OqOhgMBoPBYDAYDAaDwWAwGAwGg8FgMBgMBoPBYDAYDAaDwWAwGAwGg8FgGTF7KmAwGCwvpg6AwWAwGAwGg8FgMBgMBguNGb6BwWCwjVA4wmAwGAwGg8E6YEmaoXEvU8p2Q8rKQ3Zai7EBH0BTzD0rx9wzGOwotnJIjDqgX8pgM2HqABgMBoPBYE+heQCDwWCweJjaCQaDwWAwGAwGg8FgMBgMBoPBYDAYDNYCM+8Eg8FgsEuwSXZ71NSbxSk7+kcGvGdNMQ2XzpgHANsJrwZsJ/Zejf5VnZe2HPM0d2PApwmD9cDO5FV5EwaDwWAwGAwGg8FgMBgMBoPBYNNgJrHKsUsWZh2F+U0YrComWRsKg8FgsLyY9hkMBoPBYDAYDAaDwWAwGAwGg8EuwAxHw2Aw2NCYnfIwGAwGg8FgMBgMBoPBYDAYDAaDwWAwGAwGg8FgMBgMBoPBYDAYDAaDwWCFmH115ViSE5qbYnE/tAvrjHk1YDAYDAaDwWCwT2FxW9tJhiKSXCZsJsxLC4PBYDAYbBhMwwUGg8FgMBgMBoPBYDAYDAaDwWDbYcHMbgyYMhgMBoPBYDAYDAaDwWAw2C3y8M0lR6/0H9mDwYbD4pYaMBgMBoPBYLCJsbjrNWAzYbo7MBhsVuxM+aY8g8FgMBgMBoPBYLB/Y6svpe8Eg8FgMFg0zOwODAaDwWAwGAwGg8FgMBgMBoPBYCGxcTYCWWoNg8FgMBgMBoMdhPW0v8OKJRgMBhsKU2zDYDAYDAaDwWAwGAwGg8Fg6bFxFrPBYDAYDAaDwWCpMTP8MBgM9mnMIAkMBoPBYDAYDAaDwXbC0SswGAwGg8FgMBgM9mEs7qqIuCmDzYTVvGdNUxY3Ow14mU2x7vcsLjbg04yLxV0woxLujHkA5VhNdhqwcOxeO8W9TClbi7EBS4256s24Je2Ar0ZTLEl2iot1z07Zn2bcHBA3ZU2xS3KAejPwZfZNmb7TiKVGXCzJA4h7mVK2GwOmDAaLgPX7ItCrvOlbRTAYDAaDwWAwGOwQ0+GHwWCwijDiAoPBYDAYDAaDwWAwGAwGg8FgMBgMBoPBYDAYDAaDwWCFWJJVq0kuEwaDwWAwGAwGg8FgMBgMBoOlx4yGwmAwGAwGg8FgMBgMBoPBYDAY7ALM5zhgw2HmUGAwGAwGg8FgMBgM9jdqvo+uiwiDwWAwGAwGg8FgMBgMBjOwVIHFXa8RN2VNsSSX2RRzz2bCPM2ZME8TBoPBYDAYDAaDwWCwvlhN3/wR2fvoxjVglTHJRm3TazDYGNiZ2krehHXFVCgwGAwGg8FgMBgMBoPBYLAqzFwdDAaDwWDnMfUmDAaDwWAwGAwGg8FgMBgMBoPBRsOMbcNgMBgMBoPBYDAYDAaDwWAwGAwGg42EOUpqJsxcHQwGg8HiYWonGAwGy4upA2AwGAwGmwGrGUFumjLNg6iYxl45lmRCxqsBg8FgMBgMBoPBYDAYDAaDwWAwGAwGg8FgMBgMBoPBYI2xJOvPYDAYDAaDwWAwGAwGg8FgMBgsLGYDLQwGg8FgMNjtdq5VpBUEg8FgMBgMBoPBYDAYDAYzvQaDwWAwGAwGg8FgMBgMBoPBYDAYDAaDwWAwGAwGg8FgMBgMBoPBYDBYH8ySfhgMNgumPINdgXnPYDAYDNYE84k5GAwGg8FgMBgMBoPBqjHjtDBYTCxu3oybsriYewaDwWAwGAwGg8FgMBgMlgczFgSDwWAwGAwGg8FgMBgMBoPBwmIGMGEwGAwGg8FgMBgMBoPBYDAYDAYbEtsa4jeEnwIzuwODwWAwGAwGg8HewnQqYDAYbChMsQ2D/YwzOUIOgMFgMBgMBoPBYANgOvwwGAwGg8FgMBgMBoPBLsSSDEUkuUwYDAaDwWAwGAwGewvTd4LBYLC8WE0d0DRl11QoSaq6vcs8unyXWR4DZnQYDAaDwWAwGAwGg8FgMBgMNiIWd2w7bspgMBgMBoPBYDAYDHYxposIg8FgMBgMBoPBYDAYDAaDwWAwGAwGg8FgMBgMBoPBYDAYDAaDwWAwGAwGg8FgMBgMBoPBYDAYDAaDwWAwGAwGg8FgMBgMBoPBYDAYbAgs7qHKcVMGg8FgMBgMBoPBYDAYDAaDwUbEasYcq1O29Y8ZwITBYDAYDAaDwWAwGAw2HWaVFwwGg8FgM2Bq9JkwTxMGg8FgMBgMBoPBYDAYDAaDwYoxQ6swGAwGa4KpUGAwGAwGg8FgMBhsJuxML0+vDgaDwWAwGAzWGNMMhcFgMBgMBoPBYDAYDAYLhVkbCoPBYDAYDAaDwWAwGAzWGtsbcTkaiTHiAoPBYDAYDAaDwQbE7A8YGdN5fR+TA2AwGAwGg8FgsJCY1dEwGAwGg8FgMNiPMB8Ag8FgsHhYzfBN3MtUb6bAkjSpDK3CYDAYrAmmQoHBYGVY9y7igEWQkrYci3vPkvQ3m2JxnyYMdgUmB8BgMBgMBoPBYDAYDBYDM7IHg8FgMNh5zNg2bCc0qWAwGAwGg8FgMNikmJ4wbCe8GjAYDAaDwWAwGAz2GtN3Ksds1IbBYDAYDAabGNNAhsFgMBhsBszCeRgMBoPBYDAYDAaDwWAwGAwGg8FgMBgMBnsXs5YKBoPBhsIU2zAYDAaDncfUmzAYDAaDdcLiVsJxUwabCbPfqTMmo8NgMBgMBoPBYLA4mB4KbCe8GjAYDAaDwWCxMO0zGAwGg8FgMBgsHxa3H1Cz/qz4nt3v993fLOeEwWAwGAwGg8FgMBisPWbDGQwGg8FgMBgMBoPBYDAYDAaDwWAwGGxuzNrQcizJPYs7WVrzAAZ8z2piwPcMBrsCi1tsx00ZDAaDwWAwGAwGg8FgMBgMBoPBYDAYDAaDwWAwGAwGg8FgMBgMBoPBYFNjl2xR6r8TCwaDwWAw2Hks7t5qWGfMZlAYDAbLi6kDYDAYDAaDwWAw2OXYn6MfS3spRT2UV7juTgpMTxgGg8FgTbDuZ0ernWAwGAwGg42P6aPPhI27NHErhTFSBvsd475nk2CKbRgMBoPBOmFaQTAYDAaDncd0XmEwGAwGmwFTo8NgMBgMBoPBYDAYDAaDwWAwWDFmaBU2HOalhQ2HeWlhMBgMBoPBYDAYDAaDwW5pBkmSXCZsJizuSxs3ZbCZMO8ZDAaDwWCwp9A8KMfcMxgMBoPBYDkxrSBYbixuDnAMLwwG64jFLRxhMBgMBpsci1sJx00ZrDPm1YDBYDAYDJYT0wqCwWAwGAwGg8FgMBgMNiqWZFwjyWXCYDAYDAaDDYNpn8FgMBgMBoPBYDAYDAaDwWAjYs6+gcFgMFgTzFQRDAaDwWAwGAwGg8FyYXrCMBisI6YIgsFgMBgMBoPBYG9hNZ2KpinzVbiomHsGmw7benm9tDAYDAb7FUbdYTAYDNYE062GwZph2mewK7Dn9+zxt2IbBoPBYP0wrSBYbkwOgO2EERfYdJiFDGkxVR0MBoNthMKxM+YBwGAwGAw2I3amhlejw2AwGOxX6CLOhHmaMBgMBoPBYDDYj0jSQLbMDgaDwWAwGAwGg8FgMBgMBoPBJsKSjG3DYDAYDDYe5qyI36HhAoPBYLB4WJLaKcnXB2EwGAwGg8FgMBgMBsuFJRnXgM2ExX1p46YMBoPBYDAYDDYxphkKuwLznnXGPAAYDAaDwWBP4QTAmTBPEwaDwWBNMKMHsNyYHNAZ06aFwWAwGAwGg8FgMNhw2JnRBJ1XWClmlAoGa4bJTjAYDAaDwWATYxp7MBgMBoN1wpJUwkkuEwaDwWAwGAwGgw2BJfm+U5KOWJLNU0meZlwsyXsGg8FgMFg8LG4rKG7KYDAYDAaDwWCJsa1m6oDN0EuG8I3sjYgZp+2MJZleg8FgMBisCabhAoPBYHkxfadyTL3ZGXu+0Y+/PQAYrBiLu5IkbspgMFgzzPQaDAaDwWAwWCwsbkfMYBwM1gzbG1o9CmNB/0acewaDDYeNk9FhsE9gcgAMBoPBYDAYDAaDwXJhSXrCSS4TBoPBYDAYDAaDfQqbfGVcTZ9pF7vf79XoQPcsPuYBwGAwGAwGg8FgP2LyXh0M1hOzd2dkzOhBOVZToRSn7DG+1gQ7CnsRYbDMWJIGcpLLhMFgMBgMBoPBYDAYDAY7xozTwmAw2EYoHGEwGAwGg8FgMBgMBoPBYDAYDDYa9mp19Nbv1Snb2tziy1MwGGwETKkBg02IxZ3hj5syGAwGg8FgMBgMBoPBYDAYDAaDwWAhsUtOND0KMxUw2GCYKUkYDAaDwWCwibEkjb0kl9kUc89mwnwmAQaDwWAwGAwGg8FgMBgMBoPBYDAYDAaDwWAwGAwGg8HSYBYAwmAwGAwGg8FgMBgMBrsQMxQBg8FgMBgMBoPBYDAYDAaDwWCw0TBj2zAYDDYUptiG5cYcKQuDwWAwGAwG64DpiMFgMBisCaZCgcFgMBisE2ZyAQaDwWAwGAwGg8FgMBgMBoPBYDAYDAaDwWAwGAwGg8FgMBgMBoO9g53ZGGQNMgwGg8FgsPGxuDuxajZqN71nGnuwUszpAjBYAkxGh8FgZZhSoxyL20OBwWDNMBkdBoPBYE0wrW0YDAaDwWAwGAwGg8FgMFgVZmAJBoPBYDAYDAaDwWAwGAzWHzNKVY65ZzAYDAaDwWAwGAwGg8FgMBgMBoPBYDAYDPYuFnfmNW7KYDAYDAaDwWAwGAwGg8FgMBgMBoPBYDAYDAaDwWAwGAwWGbP+DAaDwWAwGAwGg8FgMBgMBoPBYKNjZ8a6jW3DYDAYDAaDwWAwGAwGg8FgMBgMBoPBYDAYDAaDwWAwGAwGg8FgMBgMBoN9CnOSEQwGg8FgMBgMBoPBYDAYDAaDwWAwGAx2GjO9BoPBYHmxvTrgqG5QB8BgMBgMBhsf0xOGwWAwGAwGmxjT2IPBYDAYDAaDwWAwGAwGg8EsGYPBYAexleFldBgMBivBNKlgMBgMBoPBYLCrsDMLArW2YbDPYzWLc5umTEaHwT6PxR3yipsyGAwGg8FgMBgMBoPBYBNijiqAwWAwGAwGg8FgMBgMBoPBYDDYBZiVcTNhJhdgV2Des5kwTxMGg8FgMBgMBoPBYLBqzNAqDAaDweJhBn1hMFggzKF9MBgMBoPBYDAYDAabGzMYB4PBYLDJMasiYDAYDAaDwWAw2KRY3O5O3JTByjEjyDAYDAaDwWAwGAwGg8FgMBgMBoPBYDAYDAaDwWAwGGxQzGI2GAwGg8FgMBgMBoPBYDAYDAaDwWAw2HDY1mSWSSwYDNYIc4wIDAbriNUs5WmaMuUZDAaDwWAwGAwGg8FgMBgMBoPBYDAYDAaDwWCw5NiZJWSWWDTErNmDwWAwGAwGg8FgMBgM1hEzFvQaM3zTGXN2NGwnavJm3Mv00kbF1AEwGAwGg8FgMNiPeG4gP/6erI+eZChCdwcGg8FgMBjsbUyTCgaDwWAwGAwGg8Fg4TGdVxgMBoPBYDAYDAaDwWAwGAwGg8FgMFg4LMneHRgMBoPBYDAYDAaDwWAwWB7Mum0YDLZZEMjoMBgMBoPBYDAYDAaDwWAwGAwGg30cM1cHg8FgsMkxVR0MBoNtRJLC0W5cGAwGg8FgMBgMBoPBYMdYzSBJ05QZioDBYDAYDAaDwWAwGAwGg8FgMBgMBuuFJVlPC+uMJVnQbOYVNhwWtw5omp3u93sxLjvBYDBYNyxu7QSDwWBlWE1PuDhlz23dn6Fw/CCmUwGDwWAwGAwGg8FgMBgMBoPBYDAYDBYZs/YABoPBhsKSbDaAwWAwGAwGg8FgMBgMBoPBYDAYDAaDwWAwGAwGg8FgMBgMVo1trSq0mhAGg8FgsAZYvCX9NXvDHqF58EHMEYywv2H/JuwK7JIzfY/i9Eu7ruvh4cBF2JkY8GnCOmPxGnvJMPUmDAaDwWAwWHPMKBUMBoPBYDAYDAaDwWAwGAwGg8FgMBgMBoPBYDAYDAaDwWAwGAw2HWYnFgwGg8FgMBgMBoPBYDAYDAaDwWAwGAwGg8FgH8JqJuWLUxbv7OgzUXzP+p/pe8nh3Udnbg+YA/Yi7j3r/57BYLkxi9lgw2HPL+3jbxUKDFaMqQNgMFhHTBEEg8FgMBgMBoPBYDAYDAaDwWAwGAyWFjNVBIPBYLDk2FZVqKqLil2yRekyzHsGg30e092BwWCwjVA4wmAwGAwGg8FgMBgMBoPBYDBYX8w4LQwGK8Pink8Lg8FgMBgMBoN1wJI0kJNcJgwGg8E2oubI/9Mpe3zV5ujrNioUGAwGg8FgMBgMBoPBYLDLMKsJYTAYDAaDwWAwGAwGgx1jVhPCYDAYDAaDwWB5sJrZw0foB8BgsEaYoQgYDAaDwWAw2DmspuXYNGWaoTAYrBFmST8MBoNthMIRBoPBYDAY7G1MkwoGg8FgMBgMBoPBYDAYDAarx7bG14yfwWAwWDfskmXDR19RanqZKhQYDAaDwWAwGAwGg8FgMFhgzBpkGAw2C+ZMEhgMBoNNjmm6w07GmVfFqwGDwWAlmP4mDAYrwzTdYTAYDDY5pqqDwWAw2ORY942N6k0YDAaDZcX0N2E74UvHsCsw7xkMBoPlxZI0Q1V1MBgMBoOdx9Sb5VjcJlXclME6Y14NGAwGg8FgMBgMBoPBYDAYDAaDwWAwGAwGg8FgMBgMBoPBYDAYDAb7FZZaw2AwGAwGg8FgMBgMBoPlxXwA9WLs+YY//nbACQwGg8FgMBgMBoPBYDAYDAaDwWAwGAwGg8FgMBgMBoPBYDAYDAaDwWAwGAwGg8FgMBgMlgSrOQGwOGV2MMNgMBgMBoPBYDAY7B3M8fUwGAwGi4fFrZ32UmacdsSnCYPBYDAYDAaDwWCwizFdxM6YBwCDwWAwGAwGg12F+WAgDAaDwWAwGAwGg8FgMBgMBoPBYDBYZCzJWqoklwmD7YQcAIPBYDAYDAaDwWAXYzpiwTALmmEw2KiYY97KMfcMBhsT28qj8mZUTElbjukiwmAwWF5MHQCDwWAVoYsIg53GtDVgMBgMFg8zggzLjWmfwWAwGAwGg8FgMBgMBoPBYAbjYDAYDAaDwWAwWDpMDwUGa4bJTrDhsJqXtmnK5AAYDAaDZcW0HGGwhJgjZWEw2IWYXZIwGAwGg8FgMBgMBoPFwMwHwGAwGCweFrd2umQx29E/YmVcVOzVq7H1e/Wrcb/f38e2kGrsKPrmzabZ6bJ7Vo1NcuL8q6fZJDs9Yuupxq1QJnqaRzHgZcJgMBgMBoNdiVnpCwuPWRsKg8FgMNgMmJE9GAwGg8FgMBjsU1j3NS6a7jAYDAb7FcaCYDAYDAaDwWAwGAwGg12IWWgKuwLznsFgMNhQmJkKGAwGg8FgMBgMBoPlwvSEYTAYDAaDwWAwGAwGg8FgMBgMBoPBYDAYDAaDwWDnYpIPU8JgMBisN6ZCgcFgMBgMBoPBYDAYDBYVc2Yc7ArMewaDJcTO7Ok/XWo8vgan1IDBYNvhGBHYFZg2LQwGg22EShgGGwM7k1evyZuaVLDcmHoTBoPBYMkxeypg72CP90eTaiYs7tN8TtmZ9897lgKL+9LCYLAxMQ1kGCwGFmcOJQmmSQWDxcRq8mbTlGXP6ObRYTBYGaZJBYPByrAkpUZNk6o4ZY8Njlsx4D2DwWAw2FCY4RsYDAaDwWAwGAw2DmZlHAwGg8FgMBgMBoPBYNmX8sBgMBgMBpsRsxsXBoONiumIwWAwGAwGg8FgMNjFmI5YZ8wDgMFggTGbDT6MOc0OBouJyZswGGx0rKaf+QjlGQw2GKbhAoM1w4zTwnJjcgAMBivDlBowGAwGg8FgMNgQmKY7DAaDwWAwGAwGg8FgMBisP2adI+wKzHs2Exb3aTb5OPEDud/vxZiXFgaDRcTiFtswGAwGg8FgMBgMBoPBYDBYEebAJhgMBus9uXAUSloYDAaDwWAwGAwGg8FgMJiBJRgMBhsLU2zDhsO8tDAYDAZrgtVsuSxO2dE+dbUTDAb7L860cZUaMBgMBoPBYDDY2JixbRgMBoPBYDAYbAjMwa2w4TD9TRgMBoPBOmFajjAYDAaDwWCwc5jhm86YBwC7AmvyycxXob8Jg8FgIbHn4tkeMVguzEA5DAaDwWCwp9A8gMFgMBgMBoPBhsA03WFXYN6z4NjWg5jgAZirg8FiYNbswSJgk1Z1sJGxJIVjksuEwWAwGAwGg8FgsCSYUXcY7GOYAcyRMENeMBgMBoPBYDDYVZihCBgMBoPB0mPOc4TBYLNg9tXBYDAYDAaDwWAwGOwTmMVsMBhsFizJ+FmSy4TBYDAYLD426dLES5ZYHMWA9wwGg8FgMBgMFgszfgaDwWCwJphBEhgsJvacNx9/a+zBYDAYDAaDxcQcjwqDwWChsUmXP3XH/g8MoT4paf+uCgAAAABJRU5ErkJggg==\"/>\r\n   </g>\r\n   <g id=\"matplotlib.axis_3\">\r\n    <g id=\"xtick_1\">\r\n     <g id=\"text_3\">\r\n      <!-- classificacao -->\r\n      <defs>\r\n       <path d=\"M 48.78125 52.59375 \r\nL 48.78125 44.1875 \r\nQ 44.96875 46.296875 41.140625 47.34375 \r\nQ 37.3125 48.390625 33.40625 48.390625 \r\nQ 24.65625 48.390625 19.8125 42.84375 \r\nQ 14.984375 37.3125 14.984375 27.296875 \r\nQ 14.984375 17.28125 19.8125 11.734375 \r\nQ 24.65625 6.203125 33.40625 6.203125 \r\nQ 37.3125 6.203125 41.140625 7.25 \r\nQ 44.96875 8.296875 48.78125 10.40625 \r\nL 48.78125 2.09375 \r\nQ 45.015625 0.34375 40.984375 -0.53125 \r\nQ 36.96875 -1.421875 32.421875 -1.421875 \r\nQ 20.0625 -1.421875 12.78125 6.34375 \r\nQ 5.515625 14.109375 5.515625 27.296875 \r\nQ 5.515625 40.671875 12.859375 48.328125 \r\nQ 20.21875 56 33.015625 56 \r\nQ 37.15625 56 41.109375 55.140625 \r\nQ 45.0625 54.296875 48.78125 52.59375 \r\nz\r\n\" id=\"DejaVuSans-99\"/>\r\n       <path d=\"M 9.421875 75.984375 \r\nL 18.40625 75.984375 \r\nL 18.40625 0 \r\nL 9.421875 0 \r\nz\r\n\" id=\"DejaVuSans-108\"/>\r\n       <path d=\"M 34.28125 27.484375 \r\nQ 23.390625 27.484375 19.1875 25 \r\nQ 14.984375 22.515625 14.984375 16.5 \r\nQ 14.984375 11.71875 18.140625 8.90625 \r\nQ 21.296875 6.109375 26.703125 6.109375 \r\nQ 34.1875 6.109375 38.703125 11.40625 \r\nQ 43.21875 16.703125 43.21875 25.484375 \r\nL 43.21875 27.484375 \r\nz\r\nM 52.203125 31.203125 \r\nL 52.203125 0 \r\nL 43.21875 0 \r\nL 43.21875 8.296875 \r\nQ 40.140625 3.328125 35.546875 0.953125 \r\nQ 30.953125 -1.421875 24.3125 -1.421875 \r\nQ 15.921875 -1.421875 10.953125 3.296875 \r\nQ 6 8.015625 6 15.921875 \r\nQ 6 25.140625 12.171875 29.828125 \r\nQ 18.359375 34.515625 30.609375 34.515625 \r\nL 43.21875 34.515625 \r\nL 43.21875 35.40625 \r\nQ 43.21875 41.609375 39.140625 45 \r\nQ 35.0625 48.390625 27.6875 48.390625 \r\nQ 23 48.390625 18.546875 47.265625 \r\nQ 14.109375 46.140625 10.015625 43.890625 \r\nL 10.015625 52.203125 \r\nQ 14.9375 54.109375 19.578125 55.046875 \r\nQ 24.21875 56 28.609375 56 \r\nQ 40.484375 56 46.34375 49.84375 \r\nQ 52.203125 43.703125 52.203125 31.203125 \r\nz\r\n\" id=\"DejaVuSans-97\"/>\r\n       <path d=\"M 44.28125 53.078125 \r\nL 44.28125 44.578125 \r\nQ 40.484375 46.53125 36.375 47.5 \r\nQ 32.28125 48.484375 27.875 48.484375 \r\nQ 21.1875 48.484375 17.84375 46.4375 \r\nQ 14.5 44.390625 14.5 40.28125 \r\nQ 14.5 37.15625 16.890625 35.375 \r\nQ 19.28125 33.59375 26.515625 31.984375 \r\nL 29.59375 31.296875 \r\nQ 39.15625 29.25 43.1875 25.515625 \r\nQ 47.21875 21.78125 47.21875 15.09375 \r\nQ 47.21875 7.46875 41.1875 3.015625 \r\nQ 35.15625 -1.421875 24.609375 -1.421875 \r\nQ 20.21875 -1.421875 15.453125 -0.5625 \r\nQ 10.6875 0.296875 5.421875 2 \r\nL 5.421875 11.28125 \r\nQ 10.40625 8.6875 15.234375 7.390625 \r\nQ 20.0625 6.109375 24.8125 6.109375 \r\nQ 31.15625 6.109375 34.5625 8.28125 \r\nQ 37.984375 10.453125 37.984375 14.40625 \r\nQ 37.984375 18.0625 35.515625 20.015625 \r\nQ 33.0625 21.96875 24.703125 23.78125 \r\nL 21.578125 24.515625 \r\nQ 13.234375 26.265625 9.515625 29.90625 \r\nQ 5.8125 33.546875 5.8125 39.890625 \r\nQ 5.8125 47.609375 11.28125 51.796875 \r\nQ 16.75 56 26.8125 56 \r\nQ 31.78125 56 36.171875 55.265625 \r\nQ 40.578125 54.546875 44.28125 53.078125 \r\nz\r\n\" id=\"DejaVuSans-115\"/>\r\n       <path d=\"M 9.421875 54.6875 \r\nL 18.40625 54.6875 \r\nL 18.40625 0 \r\nL 9.421875 0 \r\nz\r\nM 9.421875 75.984375 \r\nL 18.40625 75.984375 \r\nL 18.40625 64.59375 \r\nL 9.421875 64.59375 \r\nz\r\n\" id=\"DejaVuSans-105\"/>\r\n       <path d=\"M 37.109375 75.984375 \r\nL 37.109375 68.5 \r\nL 28.515625 68.5 \r\nQ 23.6875 68.5 21.796875 66.546875 \r\nQ 19.921875 64.59375 19.921875 59.515625 \r\nL 19.921875 54.6875 \r\nL 34.71875 54.6875 \r\nL 34.71875 47.703125 \r\nL 19.921875 47.703125 \r\nL 19.921875 0 \r\nL 10.890625 0 \r\nL 10.890625 47.703125 \r\nL 2.296875 47.703125 \r\nL 2.296875 54.6875 \r\nL 10.890625 54.6875 \r\nL 10.890625 58.5 \r\nQ 10.890625 67.625 15.140625 71.796875 \r\nQ 19.390625 75.984375 28.609375 75.984375 \r\nz\r\n\" id=\"DejaVuSans-102\"/>\r\n       <path d=\"M 30.609375 48.390625 \r\nQ 23.390625 48.390625 19.1875 42.75 \r\nQ 14.984375 37.109375 14.984375 27.296875 \r\nQ 14.984375 17.484375 19.15625 11.84375 \r\nQ 23.34375 6.203125 30.609375 6.203125 \r\nQ 37.796875 6.203125 41.984375 11.859375 \r\nQ 46.1875 17.53125 46.1875 27.296875 \r\nQ 46.1875 37.015625 41.984375 42.703125 \r\nQ 37.796875 48.390625 30.609375 48.390625 \r\nz\r\nM 30.609375 56 \r\nQ 42.328125 56 49.015625 48.375 \r\nQ 55.71875 40.765625 55.71875 27.296875 \r\nQ 55.71875 13.875 49.015625 6.21875 \r\nQ 42.328125 -1.421875 30.609375 -1.421875 \r\nQ 18.84375 -1.421875 12.171875 6.21875 \r\nQ 5.515625 13.875 5.515625 27.296875 \r\nQ 5.515625 40.765625 12.171875 48.375 \r\nQ 18.84375 56 30.609375 56 \r\nz\r\n\" id=\"DejaVuSans-111\"/>\r\n      </defs>\r\n      <g transform=\"translate(99.658619 114.162275)rotate(-45)scale(0.16 -0.16)\">\r\n       <use xlink:href=\"#DejaVuSans-99\"/>\r\n       <use x=\"54.980469\" xlink:href=\"#DejaVuSans-108\"/>\r\n       <use x=\"82.763672\" xlink:href=\"#DejaVuSans-97\"/>\r\n       <use x=\"144.042969\" xlink:href=\"#DejaVuSans-115\"/>\r\n       <use x=\"196.142578\" xlink:href=\"#DejaVuSans-115\"/>\r\n       <use x=\"248.242188\" xlink:href=\"#DejaVuSans-105\"/>\r\n       <use x=\"276.025391\" xlink:href=\"#DejaVuSans-102\"/>\r\n       <use x=\"311.230469\" xlink:href=\"#DejaVuSans-105\"/>\r\n       <use x=\"339.013672\" xlink:href=\"#DejaVuSans-99\"/>\r\n       <use x=\"393.994141\" xlink:href=\"#DejaVuSans-97\"/>\r\n       <use x=\"455.273438\" xlink:href=\"#DejaVuSans-99\"/>\r\n       <use x=\"510.253906\" xlink:href=\"#DejaVuSans-97\"/>\r\n       <use x=\"571.533203\" xlink:href=\"#DejaVuSans-111\"/>\r\n      </g>\r\n     </g>\r\n    </g>\r\n    <g id=\"xtick_2\">\r\n     <g id=\"text_4\">\r\n      <!-- despesas -->\r\n      <defs>\r\n       <path d=\"M 45.40625 46.390625 \r\nL 45.40625 75.984375 \r\nL 54.390625 75.984375 \r\nL 54.390625 0 \r\nL 45.40625 0 \r\nL 45.40625 8.203125 \r\nQ 42.578125 3.328125 38.25 0.953125 \r\nQ 33.9375 -1.421875 27.875 -1.421875 \r\nQ 17.96875 -1.421875 11.734375 6.484375 \r\nQ 5.515625 14.40625 5.515625 27.296875 \r\nQ 5.515625 40.1875 11.734375 48.09375 \r\nQ 17.96875 56 27.875 56 \r\nQ 33.9375 56 38.25 53.625 \r\nQ 42.578125 51.265625 45.40625 46.390625 \r\nz\r\nM 14.796875 27.296875 \r\nQ 14.796875 17.390625 18.875 11.75 \r\nQ 22.953125 6.109375 30.078125 6.109375 \r\nQ 37.203125 6.109375 41.296875 11.75 \r\nQ 45.40625 17.390625 45.40625 27.296875 \r\nQ 45.40625 37.203125 41.296875 42.84375 \r\nQ 37.203125 48.484375 30.078125 48.484375 \r\nQ 22.953125 48.484375 18.875 42.84375 \r\nQ 14.796875 37.203125 14.796875 27.296875 \r\nz\r\n\" id=\"DejaVuSans-100\"/>\r\n       <path d=\"M 56.203125 29.59375 \r\nL 56.203125 25.203125 \r\nL 14.890625 25.203125 \r\nQ 15.484375 15.921875 20.484375 11.0625 \r\nQ 25.484375 6.203125 34.421875 6.203125 \r\nQ 39.59375 6.203125 44.453125 7.46875 \r\nQ 49.3125 8.734375 54.109375 11.28125 \r\nL 54.109375 2.78125 \r\nQ 49.265625 0.734375 44.1875 -0.34375 \r\nQ 39.109375 -1.421875 33.890625 -1.421875 \r\nQ 20.796875 -1.421875 13.15625 6.1875 \r\nQ 5.515625 13.8125 5.515625 26.8125 \r\nQ 5.515625 40.234375 12.765625 48.109375 \r\nQ 20.015625 56 32.328125 56 \r\nQ 43.359375 56 49.78125 48.890625 \r\nQ 56.203125 41.796875 56.203125 29.59375 \r\nz\r\nM 47.21875 32.234375 \r\nQ 47.125 39.59375 43.09375 43.984375 \r\nQ 39.0625 48.390625 32.421875 48.390625 \r\nQ 24.90625 48.390625 20.390625 44.140625 \r\nQ 15.875 39.890625 15.1875 32.171875 \r\nz\r\n\" id=\"DejaVuSans-101\"/>\r\n       <path d=\"M 18.109375 8.203125 \r\nL 18.109375 -20.796875 \r\nL 9.078125 -20.796875 \r\nL 9.078125 54.6875 \r\nL 18.109375 54.6875 \r\nL 18.109375 46.390625 \r\nQ 20.953125 51.265625 25.265625 53.625 \r\nQ 29.59375 56 35.59375 56 \r\nQ 45.5625 56 51.78125 48.09375 \r\nQ 58.015625 40.1875 58.015625 27.296875 \r\nQ 58.015625 14.40625 51.78125 6.484375 \r\nQ 45.5625 -1.421875 35.59375 -1.421875 \r\nQ 29.59375 -1.421875 25.265625 0.953125 \r\nQ 20.953125 3.328125 18.109375 8.203125 \r\nz\r\nM 48.6875 27.296875 \r\nQ 48.6875 37.203125 44.609375 42.84375 \r\nQ 40.53125 48.484375 33.40625 48.484375 \r\nQ 26.265625 48.484375 22.1875 42.84375 \r\nQ 18.109375 37.203125 18.109375 27.296875 \r\nQ 18.109375 17.390625 22.1875 11.75 \r\nQ 26.265625 6.109375 33.40625 6.109375 \r\nQ 40.53125 6.109375 44.609375 11.75 \r\nQ 48.6875 17.390625 48.6875 27.296875 \r\nz\r\n\" id=\"DejaVuSans-112\"/>\r\n      </defs>\r\n      <g transform=\"translate(126.132557 114.162275)rotate(-45)scale(0.16 -0.16)\">\r\n       <use xlink:href=\"#DejaVuSans-100\"/>\r\n       <use x=\"63.476562\" xlink:href=\"#DejaVuSans-101\"/>\r\n       <use x=\"125\" xlink:href=\"#DejaVuSans-115\"/>\r\n       <use x=\"177.099609\" xlink:href=\"#DejaVuSans-112\"/>\r\n       <use x=\"240.576172\" xlink:href=\"#DejaVuSans-101\"/>\r\n       <use x=\"302.099609\" xlink:href=\"#DejaVuSans-115\"/>\r\n       <use x=\"354.199219\" xlink:href=\"#DejaVuSans-97\"/>\r\n       <use x=\"415.478516\" xlink:href=\"#DejaVuSans-115\"/>\r\n      </g>\r\n     </g>\r\n    </g>\r\n    <g id=\"xtick_3\">\r\n     <g id=\"text_5\">\r\n      <!-- genero -->\r\n      <defs>\r\n       <path d=\"M 45.40625 27.984375 \r\nQ 45.40625 37.75 41.375 43.109375 \r\nQ 37.359375 48.484375 30.078125 48.484375 \r\nQ 22.859375 48.484375 18.828125 43.109375 \r\nQ 14.796875 37.75 14.796875 27.984375 \r\nQ 14.796875 18.265625 18.828125 12.890625 \r\nQ 22.859375 7.515625 30.078125 7.515625 \r\nQ 37.359375 7.515625 41.375 12.890625 \r\nQ 45.40625 18.265625 45.40625 27.984375 \r\nz\r\nM 54.390625 6.78125 \r\nQ 54.390625 -7.171875 48.1875 -13.984375 \r\nQ 42 -20.796875 29.203125 -20.796875 \r\nQ 24.46875 -20.796875 20.265625 -20.09375 \r\nQ 16.0625 -19.390625 12.109375 -17.921875 \r\nL 12.109375 -9.1875 \r\nQ 16.0625 -11.328125 19.921875 -12.34375 \r\nQ 23.78125 -13.375 27.78125 -13.375 \r\nQ 36.625 -13.375 41.015625 -8.765625 \r\nQ 45.40625 -4.15625 45.40625 5.171875 \r\nL 45.40625 9.625 \r\nQ 42.625 4.78125 38.28125 2.390625 \r\nQ 33.9375 0 27.875 0 \r\nQ 17.828125 0 11.671875 7.65625 \r\nQ 5.515625 15.328125 5.515625 27.984375 \r\nQ 5.515625 40.671875 11.671875 48.328125 \r\nQ 17.828125 56 27.875 56 \r\nQ 33.9375 56 38.28125 53.609375 \r\nQ 42.625 51.21875 45.40625 46.390625 \r\nL 45.40625 54.6875 \r\nL 54.390625 54.6875 \r\nz\r\n\" id=\"DejaVuSans-103\"/>\r\n       <path d=\"M 54.890625 33.015625 \r\nL 54.890625 0 \r\nL 45.90625 0 \r\nL 45.90625 32.71875 \r\nQ 45.90625 40.484375 42.875 44.328125 \r\nQ 39.84375 48.1875 33.796875 48.1875 \r\nQ 26.515625 48.1875 22.3125 43.546875 \r\nQ 18.109375 38.921875 18.109375 30.90625 \r\nL 18.109375 0 \r\nL 9.078125 0 \r\nL 9.078125 54.6875 \r\nL 18.109375 54.6875 \r\nL 18.109375 46.1875 \r\nQ 21.34375 51.125 25.703125 53.5625 \r\nQ 30.078125 56 35.796875 56 \r\nQ 45.21875 56 50.046875 50.171875 \r\nQ 54.890625 44.34375 54.890625 33.015625 \r\nz\r\n\" id=\"DejaVuSans-110\"/>\r\n       <path d=\"M 41.109375 46.296875 \r\nQ 39.59375 47.171875 37.8125 47.578125 \r\nQ 36.03125 48 33.890625 48 \r\nQ 26.265625 48 22.1875 43.046875 \r\nQ 18.109375 38.09375 18.109375 28.8125 \r\nL 18.109375 0 \r\nL 9.078125 0 \r\nL 9.078125 54.6875 \r\nL 18.109375 54.6875 \r\nL 18.109375 46.1875 \r\nQ 20.953125 51.171875 25.484375 53.578125 \r\nQ 30.03125 56 36.53125 56 \r\nQ 37.453125 56 38.578125 55.875 \r\nQ 39.703125 55.765625 41.0625 55.515625 \r\nz\r\n\" id=\"DejaVuSans-114\"/>\r\n      </defs>\r\n      <g transform=\"translate(152.606494 114.162275)rotate(-45)scale(0.16 -0.16)\">\r\n       <use xlink:href=\"#DejaVuSans-103\"/>\r\n       <use x=\"63.476562\" xlink:href=\"#DejaVuSans-101\"/>\r\n       <use x=\"125\" xlink:href=\"#DejaVuSans-110\"/>\r\n       <use x=\"188.378906\" xlink:href=\"#DejaVuSans-101\"/>\r\n       <use x=\"249.902344\" xlink:href=\"#DejaVuSans-114\"/>\r\n       <use x=\"288.765625\" xlink:href=\"#DejaVuSans-111\"/>\r\n      </g>\r\n     </g>\r\n    </g>\r\n    <g id=\"xtick_4\">\r\n     <g id=\"text_6\">\r\n      <!-- id_filme -->\r\n      <defs>\r\n       <path d=\"M 50.984375 -16.609375 \r\nL 50.984375 -23.578125 \r\nL -0.984375 -23.578125 \r\nL -0.984375 -16.609375 \r\nz\r\n\" id=\"DejaVuSans-95\"/>\r\n       <path d=\"M 52 44.1875 \r\nQ 55.375 50.25 60.0625 53.125 \r\nQ 64.75 56 71.09375 56 \r\nQ 79.640625 56 84.28125 50.015625 \r\nQ 88.921875 44.046875 88.921875 33.015625 \r\nL 88.921875 0 \r\nL 79.890625 0 \r\nL 79.890625 32.71875 \r\nQ 79.890625 40.578125 77.09375 44.375 \r\nQ 74.3125 48.1875 68.609375 48.1875 \r\nQ 61.625 48.1875 57.5625 43.546875 \r\nQ 53.515625 38.921875 53.515625 30.90625 \r\nL 53.515625 0 \r\nL 44.484375 0 \r\nL 44.484375 32.71875 \r\nQ 44.484375 40.625 41.703125 44.40625 \r\nQ 38.921875 48.1875 33.109375 48.1875 \r\nQ 26.21875 48.1875 22.15625 43.53125 \r\nQ 18.109375 38.875 18.109375 30.90625 \r\nL 18.109375 0 \r\nL 9.078125 0 \r\nL 9.078125 54.6875 \r\nL 18.109375 54.6875 \r\nL 18.109375 46.1875 \r\nQ 21.1875 51.21875 25.484375 53.609375 \r\nQ 29.78125 56 35.6875 56 \r\nQ 41.65625 56 45.828125 52.96875 \r\nQ 50 49.953125 52 44.1875 \r\nz\r\n\" id=\"DejaVuSans-109\"/>\r\n      </defs>\r\n      <g transform=\"translate(179.080431 113.847613)rotate(-45)scale(0.16 -0.16)\">\r\n       <use xlink:href=\"#DejaVuSans-105\"/>\r\n       <use x=\"27.783203\" xlink:href=\"#DejaVuSans-100\"/>\r\n       <use x=\"91.259766\" xlink:href=\"#DejaVuSans-95\"/>\r\n       <use x=\"141.259766\" xlink:href=\"#DejaVuSans-102\"/>\r\n       <use x=\"176.464844\" xlink:href=\"#DejaVuSans-105\"/>\r\n       <use x=\"204.248047\" xlink:href=\"#DejaVuSans-108\"/>\r\n       <use x=\"232.03125\" xlink:href=\"#DejaVuSans-109\"/>\r\n       <use x=\"329.443359\" xlink:href=\"#DejaVuSans-101\"/>\r\n      </g>\r\n     </g>\r\n    </g>\r\n    <g id=\"xtick_5\">\r\n     <g id=\"text_7\">\r\n      <!-- lingua_original -->\r\n      <defs>\r\n       <path d=\"M 8.5 21.578125 \r\nL 8.5 54.6875 \r\nL 17.484375 54.6875 \r\nL 17.484375 21.921875 \r\nQ 17.484375 14.15625 20.5 10.265625 \r\nQ 23.53125 6.390625 29.59375 6.390625 \r\nQ 36.859375 6.390625 41.078125 11.03125 \r\nQ 45.3125 15.671875 45.3125 23.6875 \r\nL 45.3125 54.6875 \r\nL 54.296875 54.6875 \r\nL 54.296875 0 \r\nL 45.3125 0 \r\nL 45.3125 8.40625 \r\nQ 42.046875 3.421875 37.71875 1 \r\nQ 33.40625 -1.421875 27.6875 -1.421875 \r\nQ 18.265625 -1.421875 13.375 4.4375 \r\nQ 8.5 10.296875 8.5 21.578125 \r\nz\r\nM 31.109375 56 \r\nz\r\n\" id=\"DejaVuSans-117\"/>\r\n      </defs>\r\n      <g transform=\"translate(205.554368 113.847613)rotate(-45)scale(0.16 -0.16)\">\r\n       <use xlink:href=\"#DejaVuSans-108\"/>\r\n       <use x=\"27.783203\" xlink:href=\"#DejaVuSans-105\"/>\r\n       <use x=\"55.566406\" xlink:href=\"#DejaVuSans-110\"/>\r\n       <use x=\"118.945312\" xlink:href=\"#DejaVuSans-103\"/>\r\n       <use x=\"182.421875\" xlink:href=\"#DejaVuSans-117\"/>\r\n       <use x=\"245.800781\" xlink:href=\"#DejaVuSans-97\"/>\r\n       <use x=\"307.080078\" xlink:href=\"#DejaVuSans-95\"/>\r\n       <use x=\"357.080078\" xlink:href=\"#DejaVuSans-111\"/>\r\n       <use x=\"418.261719\" xlink:href=\"#DejaVuSans-114\"/>\r\n       <use x=\"459.375\" xlink:href=\"#DejaVuSans-105\"/>\r\n       <use x=\"487.158203\" xlink:href=\"#DejaVuSans-103\"/>\r\n       <use x=\"550.634766\" xlink:href=\"#DejaVuSans-105\"/>\r\n       <use x=\"578.417969\" xlink:href=\"#DejaVuSans-110\"/>\r\n       <use x=\"641.796875\" xlink:href=\"#DejaVuSans-97\"/>\r\n       <use x=\"703.076172\" xlink:href=\"#DejaVuSans-108\"/>\r\n      </g>\r\n     </g>\r\n    </g>\r\n    <g id=\"xtick_6\">\r\n     <g id=\"text_8\">\r\n      <!-- titulo_original -->\r\n      <defs>\r\n       <path d=\"M 18.3125 70.21875 \r\nL 18.3125 54.6875 \r\nL 36.8125 54.6875 \r\nL 36.8125 47.703125 \r\nL 18.3125 47.703125 \r\nL 18.3125 18.015625 \r\nQ 18.3125 11.328125 20.140625 9.421875 \r\nQ 21.96875 7.515625 27.59375 7.515625 \r\nL 36.8125 7.515625 \r\nL 36.8125 0 \r\nL 27.59375 0 \r\nQ 17.1875 0 13.234375 3.875 \r\nQ 9.28125 7.765625 9.28125 18.015625 \r\nL 9.28125 47.703125 \r\nL 2.6875 47.703125 \r\nL 2.6875 54.6875 \r\nL 9.28125 54.6875 \r\nL 9.28125 70.21875 \r\nz\r\n\" id=\"DejaVuSans-116\"/>\r\n      </defs>\r\n      <g transform=\"translate(232.028306 113.847613)rotate(-45)scale(0.16 -0.16)\">\r\n       <use xlink:href=\"#DejaVuSans-116\"/>\r\n       <use x=\"39.208984\" xlink:href=\"#DejaVuSans-105\"/>\r\n       <use x=\"66.992188\" xlink:href=\"#DejaVuSans-116\"/>\r\n       <use x=\"106.201172\" xlink:href=\"#DejaVuSans-117\"/>\r\n       <use x=\"169.580078\" xlink:href=\"#DejaVuSans-108\"/>\r\n       <use x=\"197.363281\" xlink:href=\"#DejaVuSans-111\"/>\r\n       <use x=\"258.544922\" xlink:href=\"#DejaVuSans-95\"/>\r\n       <use x=\"308.544922\" xlink:href=\"#DejaVuSans-111\"/>\r\n       <use x=\"369.726562\" xlink:href=\"#DejaVuSans-114\"/>\r\n       <use x=\"410.839844\" xlink:href=\"#DejaVuSans-105\"/>\r\n       <use x=\"438.623047\" xlink:href=\"#DejaVuSans-103\"/>\r\n       <use x=\"502.099609\" xlink:href=\"#DejaVuSans-105\"/>\r\n       <use x=\"529.882812\" xlink:href=\"#DejaVuSans-110\"/>\r\n       <use x=\"593.261719\" xlink:href=\"#DejaVuSans-97\"/>\r\n       <use x=\"654.541016\" xlink:href=\"#DejaVuSans-108\"/>\r\n      </g>\r\n     </g>\r\n    </g>\r\n    <g id=\"xtick_7\">\r\n     <g id=\"text_9\">\r\n      <!-- descricao -->\r\n      <g transform=\"translate(258.502243 114.162275)rotate(-45)scale(0.16 -0.16)\">\r\n       <use xlink:href=\"#DejaVuSans-100\"/>\r\n       <use x=\"63.476562\" xlink:href=\"#DejaVuSans-101\"/>\r\n       <use x=\"125\" xlink:href=\"#DejaVuSans-115\"/>\r\n       <use x=\"177.099609\" xlink:href=\"#DejaVuSans-99\"/>\r\n       <use x=\"232.080078\" xlink:href=\"#DejaVuSans-114\"/>\r\n       <use x=\"273.193359\" xlink:href=\"#DejaVuSans-105\"/>\r\n       <use x=\"300.976562\" xlink:href=\"#DejaVuSans-99\"/>\r\n       <use x=\"355.957031\" xlink:href=\"#DejaVuSans-97\"/>\r\n       <use x=\"417.236328\" xlink:href=\"#DejaVuSans-111\"/>\r\n      </g>\r\n     </g>\r\n    </g>\r\n    <g id=\"xtick_8\">\r\n     <g id=\"text_10\">\r\n      <!-- popularidade -->\r\n      <g transform=\"translate(284.97618 114.162275)rotate(-45)scale(0.16 -0.16)\">\r\n       <use xlink:href=\"#DejaVuSans-112\"/>\r\n       <use x=\"63.476562\" xlink:href=\"#DejaVuSans-111\"/>\r\n       <use x=\"124.658203\" xlink:href=\"#DejaVuSans-112\"/>\r\n       <use x=\"188.134766\" xlink:href=\"#DejaVuSans-117\"/>\r\n       <use x=\"251.513672\" xlink:href=\"#DejaVuSans-108\"/>\r\n       <use x=\"279.296875\" xlink:href=\"#DejaVuSans-97\"/>\r\n       <use x=\"340.576172\" xlink:href=\"#DejaVuSans-114\"/>\r\n       <use x=\"381.689453\" xlink:href=\"#DejaVuSans-105\"/>\r\n       <use x=\"409.472656\" xlink:href=\"#DejaVuSans-100\"/>\r\n       <use x=\"472.949219\" xlink:href=\"#DejaVuSans-97\"/>\r\n       <use x=\"534.228516\" xlink:href=\"#DejaVuSans-100\"/>\r\n       <use x=\"597.705078\" xlink:href=\"#DejaVuSans-101\"/>\r\n      </g>\r\n     </g>\r\n    </g>\r\n    <g id=\"xtick_9\">\r\n     <g id=\"text_11\">\r\n      <!-- cia_producao -->\r\n      <g transform=\"translate(311.450117 113.847613)rotate(-45)scale(0.16 -0.16)\">\r\n       <use xlink:href=\"#DejaVuSans-99\"/>\r\n       <use x=\"54.980469\" xlink:href=\"#DejaVuSans-105\"/>\r\n       <use x=\"82.763672\" xlink:href=\"#DejaVuSans-97\"/>\r\n       <use x=\"144.042969\" xlink:href=\"#DejaVuSans-95\"/>\r\n       <use x=\"194.042969\" xlink:href=\"#DejaVuSans-112\"/>\r\n       <use x=\"257.519531\" xlink:href=\"#DejaVuSans-114\"/>\r\n       <use x=\"296.382812\" xlink:href=\"#DejaVuSans-111\"/>\r\n       <use x=\"357.564453\" xlink:href=\"#DejaVuSans-100\"/>\r\n       <use x=\"421.041016\" xlink:href=\"#DejaVuSans-117\"/>\r\n       <use x=\"484.419922\" xlink:href=\"#DejaVuSans-99\"/>\r\n       <use x=\"539.400391\" xlink:href=\"#DejaVuSans-97\"/>\r\n       <use x=\"600.679688\" xlink:href=\"#DejaVuSans-111\"/>\r\n      </g>\r\n     </g>\r\n    </g>\r\n    <g id=\"xtick_10\">\r\n     <g id=\"text_12\">\r\n      <!-- pais_producao -->\r\n      <g transform=\"translate(337.924055 113.847613)rotate(-45)scale(0.16 -0.16)\">\r\n       <use xlink:href=\"#DejaVuSans-112\"/>\r\n       <use x=\"63.476562\" xlink:href=\"#DejaVuSans-97\"/>\r\n       <use x=\"124.755859\" xlink:href=\"#DejaVuSans-105\"/>\r\n       <use x=\"152.539062\" xlink:href=\"#DejaVuSans-115\"/>\r\n       <use x=\"204.638672\" xlink:href=\"#DejaVuSans-95\"/>\r\n       <use x=\"254.638672\" xlink:href=\"#DejaVuSans-112\"/>\r\n       <use x=\"318.115234\" xlink:href=\"#DejaVuSans-114\"/>\r\n       <use x=\"356.978516\" xlink:href=\"#DejaVuSans-111\"/>\r\n       <use x=\"418.160156\" xlink:href=\"#DejaVuSans-100\"/>\r\n       <use x=\"481.636719\" xlink:href=\"#DejaVuSans-117\"/>\r\n       <use x=\"545.015625\" xlink:href=\"#DejaVuSans-99\"/>\r\n       <use x=\"599.996094\" xlink:href=\"#DejaVuSans-97\"/>\r\n       <use x=\"661.275391\" xlink:href=\"#DejaVuSans-111\"/>\r\n      </g>\r\n     </g>\r\n    </g>\r\n    <g id=\"xtick_11\">\r\n     <g id=\"text_13\">\r\n      <!-- data_lancamento -->\r\n      <g transform=\"translate(364.397992 113.847613)rotate(-45)scale(0.16 -0.16)\">\r\n       <use xlink:href=\"#DejaVuSans-100\"/>\r\n       <use x=\"63.476562\" xlink:href=\"#DejaVuSans-97\"/>\r\n       <use x=\"124.755859\" xlink:href=\"#DejaVuSans-116\"/>\r\n       <use x=\"163.964844\" xlink:href=\"#DejaVuSans-97\"/>\r\n       <use x=\"225.244141\" xlink:href=\"#DejaVuSans-95\"/>\r\n       <use x=\"275.244141\" xlink:href=\"#DejaVuSans-108\"/>\r\n       <use x=\"303.027344\" xlink:href=\"#DejaVuSans-97\"/>\r\n       <use x=\"364.306641\" xlink:href=\"#DejaVuSans-110\"/>\r\n       <use x=\"427.685547\" xlink:href=\"#DejaVuSans-99\"/>\r\n       <use x=\"482.666016\" xlink:href=\"#DejaVuSans-97\"/>\r\n       <use x=\"543.945312\" xlink:href=\"#DejaVuSans-109\"/>\r\n       <use x=\"641.357422\" xlink:href=\"#DejaVuSans-101\"/>\r\n       <use x=\"702.880859\" xlink:href=\"#DejaVuSans-110\"/>\r\n       <use x=\"766.259766\" xlink:href=\"#DejaVuSans-116\"/>\r\n       <use x=\"805.46875\" xlink:href=\"#DejaVuSans-111\"/>\r\n      </g>\r\n     </g>\r\n    </g>\r\n    <g id=\"xtick_12\">\r\n     <g id=\"text_14\">\r\n      <!-- receita -->\r\n      <g transform=\"translate(390.871929 114.162275)rotate(-45)scale(0.16 -0.16)\">\r\n       <use xlink:href=\"#DejaVuSans-114\"/>\r\n       <use x=\"38.863281\" xlink:href=\"#DejaVuSans-101\"/>\r\n       <use x=\"100.386719\" xlink:href=\"#DejaVuSans-99\"/>\r\n       <use x=\"155.367188\" xlink:href=\"#DejaVuSans-101\"/>\r\n       <use x=\"216.890625\" xlink:href=\"#DejaVuSans-105\"/>\r\n       <use x=\"244.673828\" xlink:href=\"#DejaVuSans-116\"/>\r\n       <use x=\"283.882812\" xlink:href=\"#DejaVuSans-97\"/>\r\n      </g>\r\n     </g>\r\n    </g>\r\n    <g id=\"xtick_13\">\r\n     <g id=\"text_15\">\r\n      <!-- duracao -->\r\n      <g transform=\"translate(417.345866 114.162275)rotate(-45)scale(0.16 -0.16)\">\r\n       <use xlink:href=\"#DejaVuSans-100\"/>\r\n       <use x=\"63.476562\" xlink:href=\"#DejaVuSans-117\"/>\r\n       <use x=\"126.855469\" xlink:href=\"#DejaVuSans-114\"/>\r\n       <use x=\"167.96875\" xlink:href=\"#DejaVuSans-97\"/>\r\n       <use x=\"229.248047\" xlink:href=\"#DejaVuSans-99\"/>\r\n       <use x=\"284.228516\" xlink:href=\"#DejaVuSans-97\"/>\r\n       <use x=\"345.507812\" xlink:href=\"#DejaVuSans-111\"/>\r\n      </g>\r\n     </g>\r\n    </g>\r\n    <g id=\"xtick_14\">\r\n     <g id=\"text_16\">\r\n      <!-- idiomas_falados -->\r\n      <g transform=\"translate(443.819804 113.847613)rotate(-45)scale(0.16 -0.16)\">\r\n       <use xlink:href=\"#DejaVuSans-105\"/>\r\n       <use x=\"27.783203\" xlink:href=\"#DejaVuSans-100\"/>\r\n       <use x=\"91.259766\" xlink:href=\"#DejaVuSans-105\"/>\r\n       <use x=\"119.042969\" xlink:href=\"#DejaVuSans-111\"/>\r\n       <use x=\"180.224609\" xlink:href=\"#DejaVuSans-109\"/>\r\n       <use x=\"277.636719\" xlink:href=\"#DejaVuSans-97\"/>\r\n       <use x=\"338.916016\" xlink:href=\"#DejaVuSans-115\"/>\r\n       <use x=\"391.015625\" xlink:href=\"#DejaVuSans-95\"/>\r\n       <use x=\"441.015625\" xlink:href=\"#DejaVuSans-102\"/>\r\n       <use x=\"476.220703\" xlink:href=\"#DejaVuSans-97\"/>\r\n       <use x=\"537.5\" xlink:href=\"#DejaVuSans-108\"/>\r\n       <use x=\"565.283203\" xlink:href=\"#DejaVuSans-97\"/>\r\n       <use x=\"626.5625\" xlink:href=\"#DejaVuSans-100\"/>\r\n       <use x=\"690.039062\" xlink:href=\"#DejaVuSans-111\"/>\r\n       <use x=\"751.220703\" xlink:href=\"#DejaVuSans-115\"/>\r\n      </g>\r\n     </g>\r\n    </g>\r\n    <g id=\"xtick_15\">\r\n     <g id=\"text_17\">\r\n      <!-- status -->\r\n      <g transform=\"translate(470.293741 114.162275)rotate(-45)scale(0.16 -0.16)\">\r\n       <use xlink:href=\"#DejaVuSans-115\"/>\r\n       <use x=\"52.099609\" xlink:href=\"#DejaVuSans-116\"/>\r\n       <use x=\"91.308594\" xlink:href=\"#DejaVuSans-97\"/>\r\n       <use x=\"152.587891\" xlink:href=\"#DejaVuSans-116\"/>\r\n       <use x=\"191.796875\" xlink:href=\"#DejaVuSans-117\"/>\r\n       <use x=\"255.175781\" xlink:href=\"#DejaVuSans-115\"/>\r\n      </g>\r\n     </g>\r\n    </g>\r\n    <g id=\"xtick_16\">\r\n     <g id=\"text_18\">\r\n      <!-- titulo -->\r\n      <g transform=\"translate(496.767678 114.162275)rotate(-45)scale(0.16 -0.16)\">\r\n       <use xlink:href=\"#DejaVuSans-116\"/>\r\n       <use x=\"39.208984\" xlink:href=\"#DejaVuSans-105\"/>\r\n       <use x=\"66.992188\" xlink:href=\"#DejaVuSans-116\"/>\r\n       <use x=\"106.201172\" xlink:href=\"#DejaVuSans-117\"/>\r\n       <use x=\"169.580078\" xlink:href=\"#DejaVuSans-108\"/>\r\n       <use x=\"197.363281\" xlink:href=\"#DejaVuSans-111\"/>\r\n      </g>\r\n     </g>\r\n    </g>\r\n    <g id=\"xtick_17\">\r\n     <g id=\"text_19\">\r\n      <!-- video -->\r\n      <defs>\r\n       <path d=\"M 2.984375 54.6875 \r\nL 12.5 54.6875 \r\nL 29.59375 8.796875 \r\nL 46.6875 54.6875 \r\nL 56.203125 54.6875 \r\nL 35.6875 0 \r\nL 23.484375 0 \r\nz\r\n\" id=\"DejaVuSans-118\"/>\r\n      </defs>\r\n      <g transform=\"translate(523.241615 114.162275)rotate(-45)scale(0.16 -0.16)\">\r\n       <use xlink:href=\"#DejaVuSans-118\"/>\r\n       <use x=\"59.179688\" xlink:href=\"#DejaVuSans-105\"/>\r\n       <use x=\"86.962891\" xlink:href=\"#DejaVuSans-100\"/>\r\n       <use x=\"150.439453\" xlink:href=\"#DejaVuSans-101\"/>\r\n       <use x=\"211.962891\" xlink:href=\"#DejaVuSans-111\"/>\r\n      </g>\r\n     </g>\r\n    </g>\r\n    <g id=\"xtick_18\">\r\n     <g id=\"text_20\">\r\n      <!-- media_votos -->\r\n      <g transform=\"translate(549.715553 113.847613)rotate(-45)scale(0.16 -0.16)\">\r\n       <use xlink:href=\"#DejaVuSans-109\"/>\r\n       <use x=\"97.412109\" xlink:href=\"#DejaVuSans-101\"/>\r\n       <use x=\"158.935547\" xlink:href=\"#DejaVuSans-100\"/>\r\n       <use x=\"222.412109\" xlink:href=\"#DejaVuSans-105\"/>\r\n       <use x=\"250.195312\" xlink:href=\"#DejaVuSans-97\"/>\r\n       <use x=\"311.474609\" xlink:href=\"#DejaVuSans-95\"/>\r\n       <use x=\"361.474609\" xlink:href=\"#DejaVuSans-118\"/>\r\n       <use x=\"420.654297\" xlink:href=\"#DejaVuSans-111\"/>\r\n       <use x=\"481.835938\" xlink:href=\"#DejaVuSans-116\"/>\r\n       <use x=\"521.044922\" xlink:href=\"#DejaVuSans-111\"/>\r\n       <use x=\"582.226562\" xlink:href=\"#DejaVuSans-115\"/>\r\n      </g>\r\n     </g>\r\n    </g>\r\n    <g id=\"xtick_19\">\r\n     <g id=\"text_21\">\r\n      <!-- qtde_votos -->\r\n      <defs>\r\n       <path d=\"M 14.796875 27.296875 \r\nQ 14.796875 17.390625 18.875 11.75 \r\nQ 22.953125 6.109375 30.078125 6.109375 \r\nQ 37.203125 6.109375 41.296875 11.75 \r\nQ 45.40625 17.390625 45.40625 27.296875 \r\nQ 45.40625 37.203125 41.296875 42.84375 \r\nQ 37.203125 48.484375 30.078125 48.484375 \r\nQ 22.953125 48.484375 18.875 42.84375 \r\nQ 14.796875 37.203125 14.796875 27.296875 \r\nz\r\nM 45.40625 8.203125 \r\nQ 42.578125 3.328125 38.25 0.953125 \r\nQ 33.9375 -1.421875 27.875 -1.421875 \r\nQ 17.96875 -1.421875 11.734375 6.484375 \r\nQ 5.515625 14.40625 5.515625 27.296875 \r\nQ 5.515625 40.1875 11.734375 48.09375 \r\nQ 17.96875 56 27.875 56 \r\nQ 33.9375 56 38.25 53.625 \r\nQ 42.578125 51.265625 45.40625 46.390625 \r\nL 45.40625 54.6875 \r\nL 54.390625 54.6875 \r\nL 54.390625 -20.796875 \r\nL 45.40625 -20.796875 \r\nz\r\n\" id=\"DejaVuSans-113\"/>\r\n      </defs>\r\n      <g transform=\"translate(576.18949 113.847613)rotate(-45)scale(0.16 -0.16)\">\r\n       <use xlink:href=\"#DejaVuSans-113\"/>\r\n       <use x=\"63.476562\" xlink:href=\"#DejaVuSans-116\"/>\r\n       <use x=\"102.685547\" xlink:href=\"#DejaVuSans-100\"/>\r\n       <use x=\"166.162109\" xlink:href=\"#DejaVuSans-101\"/>\r\n       <use x=\"227.685547\" xlink:href=\"#DejaVuSans-95\"/>\r\n       <use x=\"277.685547\" xlink:href=\"#DejaVuSans-118\"/>\r\n       <use x=\"336.865234\" xlink:href=\"#DejaVuSans-111\"/>\r\n       <use x=\"398.046875\" xlink:href=\"#DejaVuSans-116\"/>\r\n       <use x=\"437.255859\" xlink:href=\"#DejaVuSans-111\"/>\r\n       <use x=\"498.4375\" xlink:href=\"#DejaVuSans-115\"/>\r\n      </g>\r\n     </g>\r\n    </g>\r\n   </g>\r\n   <g id=\"matplotlib.axis_4\">\r\n    <g id=\"ytick_1\">\r\n     <g id=\"text_22\">\r\n      <!-- 1 -->\r\n      <g transform=\"translate(58.1 131.117795)scale(0.2 -0.2)\">\r\n       <use xlink:href=\"#DejaVuSans-49\"/>\r\n      </g>\r\n     </g>\r\n    </g>\r\n    <g id=\"ytick_2\">\r\n     <g id=\"text_23\">\r\n      <!-- 45466 -->\r\n      <defs>\r\n       <path d=\"M 37.796875 64.3125 \r\nL 12.890625 25.390625 \r\nL 37.796875 25.390625 \r\nz\r\nM 35.203125 72.90625 \r\nL 47.609375 72.90625 \r\nL 47.609375 25.390625 \r\nL 58.015625 25.390625 \r\nL 58.015625 17.1875 \r\nL 47.609375 17.1875 \r\nL 47.609375 0 \r\nL 37.796875 0 \r\nL 37.796875 17.1875 \r\nL 4.890625 17.1875 \r\nL 4.890625 26.703125 \r\nz\r\n\" id=\"DejaVuSans-52\"/>\r\n       <path d=\"M 10.796875 72.90625 \r\nL 49.515625 72.90625 \r\nL 49.515625 64.59375 \r\nL 19.828125 64.59375 \r\nL 19.828125 46.734375 \r\nQ 21.96875 47.46875 24.109375 47.828125 \r\nQ 26.265625 48.1875 28.421875 48.1875 \r\nQ 40.625 48.1875 47.75 41.5 \r\nQ 54.890625 34.8125 54.890625 23.390625 \r\nQ 54.890625 11.625 47.5625 5.09375 \r\nQ 40.234375 -1.421875 26.90625 -1.421875 \r\nQ 22.3125 -1.421875 17.546875 -0.640625 \r\nQ 12.796875 0.140625 7.71875 1.703125 \r\nL 7.71875 11.625 \r\nQ 12.109375 9.234375 16.796875 8.0625 \r\nQ 21.484375 6.890625 26.703125 6.890625 \r\nQ 35.15625 6.890625 40.078125 11.328125 \r\nQ 45.015625 15.765625 45.015625 23.390625 \r\nQ 45.015625 31 40.078125 35.4375 \r\nQ 35.15625 39.890625 26.703125 39.890625 \r\nQ 22.75 39.890625 18.8125 39.015625 \r\nQ 14.890625 38.140625 10.796875 36.28125 \r\nz\r\n\" id=\"DejaVuSans-53\"/>\r\n       <path d=\"M 33.015625 40.375 \r\nQ 26.375 40.375 22.484375 35.828125 \r\nQ 18.609375 31.296875 18.609375 23.390625 \r\nQ 18.609375 15.53125 22.484375 10.953125 \r\nQ 26.375 6.390625 33.015625 6.390625 \r\nQ 39.65625 6.390625 43.53125 10.953125 \r\nQ 47.40625 15.53125 47.40625 23.390625 \r\nQ 47.40625 31.296875 43.53125 35.828125 \r\nQ 39.65625 40.375 33.015625 40.375 \r\nz\r\nM 52.59375 71.296875 \r\nL 52.59375 62.3125 \r\nQ 48.875 64.0625 45.09375 64.984375 \r\nQ 41.3125 65.921875 37.59375 65.921875 \r\nQ 27.828125 65.921875 22.671875 59.328125 \r\nQ 17.53125 52.734375 16.796875 39.40625 \r\nQ 19.671875 43.65625 24.015625 45.921875 \r\nQ 28.375 48.1875 33.59375 48.1875 \r\nQ 44.578125 48.1875 50.953125 41.515625 \r\nQ 57.328125 34.859375 57.328125 23.390625 \r\nQ 57.328125 12.15625 50.6875 5.359375 \r\nQ 44.046875 -1.421875 33.015625 -1.421875 \r\nQ 20.359375 -1.421875 13.671875 8.265625 \r\nQ 6.984375 17.96875 6.984375 36.375 \r\nQ 6.984375 53.65625 15.1875 63.9375 \r\nQ 23.390625 74.21875 37.203125 74.21875 \r\nQ 40.921875 74.21875 44.703125 73.484375 \r\nQ 48.484375 72.75 52.59375 71.296875 \r\nz\r\n\" id=\"DejaVuSans-54\"/>\r\n      </defs>\r\n      <g transform=\"translate(7.2 511.629426)scale(0.2 -0.2)\">\r\n       <use xlink:href=\"#DejaVuSans-52\"/>\r\n       <use x=\"63.623047\" xlink:href=\"#DejaVuSans-53\"/>\r\n       <use x=\"127.246094\" xlink:href=\"#DejaVuSans-52\"/>\r\n       <use x=\"190.869141\" xlink:href=\"#DejaVuSans-54\"/>\r\n       <use x=\"254.492188\" xlink:href=\"#DejaVuSans-54\"/>\r\n      </g>\r\n     </g>\r\n    </g>\r\n   </g>\r\n   <g id=\"line2d_4\">\r\n    <path clip-path=\"url(#p42d9831abf)\" d=\"M 104.298937 504.035173 \r\nL 104.298937 123.515173 \r\n\" style=\"fill:none;stroke:#ffffff;stroke-linecap:square;stroke-width:1.5;\"/>\r\n   </g>\r\n   <g id=\"line2d_5\">\r\n    <path clip-path=\"url(#p42d9831abf)\" d=\"M 130.772874 504.035173 \r\nL 130.772874 123.515173 \r\n\" style=\"fill:none;stroke:#ffffff;stroke-linecap:square;stroke-width:1.5;\"/>\r\n   </g>\r\n   <g id=\"line2d_6\">\r\n    <path clip-path=\"url(#p42d9831abf)\" d=\"M 157.246812 504.035173 \r\nL 157.246812 123.515173 \r\n\" style=\"fill:none;stroke:#ffffff;stroke-linecap:square;stroke-width:1.5;\"/>\r\n   </g>\r\n   <g id=\"line2d_7\">\r\n    <path clip-path=\"url(#p42d9831abf)\" d=\"M 183.720749 504.035173 \r\nL 183.720749 123.515173 \r\n\" style=\"fill:none;stroke:#ffffff;stroke-linecap:square;stroke-width:1.5;\"/>\r\n   </g>\r\n   <g id=\"line2d_8\">\r\n    <path clip-path=\"url(#p42d9831abf)\" d=\"M 210.194686 504.035173 \r\nL 210.194686 123.515173 \r\n\" style=\"fill:none;stroke:#ffffff;stroke-linecap:square;stroke-width:1.5;\"/>\r\n   </g>\r\n   <g id=\"line2d_9\">\r\n    <path clip-path=\"url(#p42d9831abf)\" d=\"M 236.668623 504.035173 \r\nL 236.668623 123.515173 \r\n\" style=\"fill:none;stroke:#ffffff;stroke-linecap:square;stroke-width:1.5;\"/>\r\n   </g>\r\n   <g id=\"line2d_10\">\r\n    <path clip-path=\"url(#p42d9831abf)\" d=\"M 263.142561 504.035173 \r\nL 263.142561 123.515173 \r\n\" style=\"fill:none;stroke:#ffffff;stroke-linecap:square;stroke-width:1.5;\"/>\r\n   </g>\r\n   <g id=\"line2d_11\">\r\n    <path clip-path=\"url(#p42d9831abf)\" d=\"M 289.616498 504.035173 \r\nL 289.616498 123.515173 \r\n\" style=\"fill:none;stroke:#ffffff;stroke-linecap:square;stroke-width:1.5;\"/>\r\n   </g>\r\n   <g id=\"line2d_12\">\r\n    <path clip-path=\"url(#p42d9831abf)\" d=\"M 316.090435 504.035173 \r\nL 316.090435 123.515173 \r\n\" style=\"fill:none;stroke:#ffffff;stroke-linecap:square;stroke-width:1.5;\"/>\r\n   </g>\r\n   <g id=\"line2d_13\">\r\n    <path clip-path=\"url(#p42d9831abf)\" d=\"M 342.564372 504.035173 \r\nL 342.564372 123.515173 \r\n\" style=\"fill:none;stroke:#ffffff;stroke-linecap:square;stroke-width:1.5;\"/>\r\n   </g>\r\n   <g id=\"line2d_14\">\r\n    <path clip-path=\"url(#p42d9831abf)\" d=\"M 369.03831 504.035173 \r\nL 369.03831 123.515173 \r\n\" style=\"fill:none;stroke:#ffffff;stroke-linecap:square;stroke-width:1.5;\"/>\r\n   </g>\r\n   <g id=\"line2d_15\">\r\n    <path clip-path=\"url(#p42d9831abf)\" d=\"M 395.512247 504.035173 \r\nL 395.512247 123.515173 \r\n\" style=\"fill:none;stroke:#ffffff;stroke-linecap:square;stroke-width:1.5;\"/>\r\n   </g>\r\n   <g id=\"line2d_16\">\r\n    <path clip-path=\"url(#p42d9831abf)\" d=\"M 421.986184 504.035173 \r\nL 421.986184 123.515173 \r\n\" style=\"fill:none;stroke:#ffffff;stroke-linecap:square;stroke-width:1.5;\"/>\r\n   </g>\r\n   <g id=\"line2d_17\">\r\n    <path clip-path=\"url(#p42d9831abf)\" d=\"M 448.460121 504.035173 \r\nL 448.460121 123.515173 \r\n\" style=\"fill:none;stroke:#ffffff;stroke-linecap:square;stroke-width:1.5;\"/>\r\n   </g>\r\n   <g id=\"line2d_18\">\r\n    <path clip-path=\"url(#p42d9831abf)\" d=\"M 474.934059 504.035173 \r\nL 474.934059 123.515173 \r\n\" style=\"fill:none;stroke:#ffffff;stroke-linecap:square;stroke-width:1.5;\"/>\r\n   </g>\r\n   <g id=\"line2d_19\">\r\n    <path clip-path=\"url(#p42d9831abf)\" d=\"M 501.407996 504.035173 \r\nL 501.407996 123.515173 \r\n\" style=\"fill:none;stroke:#ffffff;stroke-linecap:square;stroke-width:1.5;\"/>\r\n   </g>\r\n   <g id=\"line2d_20\">\r\n    <path clip-path=\"url(#p42d9831abf)\" d=\"M 527.881933 504.035173 \r\nL 527.881933 123.515173 \r\n\" style=\"fill:none;stroke:#ffffff;stroke-linecap:square;stroke-width:1.5;\"/>\r\n   </g>\r\n   <g id=\"line2d_21\">\r\n    <path clip-path=\"url(#p42d9831abf)\" d=\"M 554.35587 504.035173 \r\nL 554.35587 123.515173 \r\n\" style=\"fill:none;stroke:#ffffff;stroke-linecap:square;stroke-width:1.5;\"/>\r\n   </g>\r\n  </g>\r\n </g>\r\n <defs>\r\n  <clipPath id=\"pf6992801f8\">\r\n   <rect height=\"380.52\" width=\"33.533654\" x=\"602.291346\" y=\"123.515173\"/>\r\n  </clipPath>\r\n  <clipPath id=\"p42d9831abf\">\r\n   <rect height=\"380.52\" width=\"503.004808\" x=\"77.825\" y=\"123.515173\"/>\r\n  </clipPath>\r\n </defs>\r\n</svg>\r\n",
            "image/png": "[encoded data removed]"
          },
          "metadata": {
            "needs_background": "light"
          }
        }
      ],
      "source": [
        "# visualização de dados faltantes\n",
        "msno.matrix(df, figsize=figsize)"
      ]
    },
    {
      "cell_type": "code",
      "execution_count": 17,
      "metadata": {},
      "outputs": [
        {
          "output_type": "execute_result",
          "data": {
            "text/plain": "classificacao        0\ndespesas             0\ngenero               0\nid_filme             0\nlingua_original     11\ntitulo_original      0\ndescricao          954\npopularidade         5\ncia_producao         3\npais_producao        3\ndata_lancamento     87\nreceita              6\nduracao            263\nidiomas_falados      6\nstatus              87\ntitulo               6\nvideo                6\nmedia_votos          6\nqtde_votos           6\ndtype: int64"
          },
          "metadata": {},
          "execution_count": 17
        }
      ],
      "source": [
        "df.isnull().sum()"
      ]
    },
    {
      "cell_type": "code",
      "execution_count": 18,
      "metadata": {},
      "outputs": [
        {
          "output_type": "execute_result",
          "data": {
            "text/plain": "                                           classificacao  \\\n19729                                              False   \n19730                                 - Written by Ørnås   \n29502                                              False   \n29503   Rune Balot goes to a casino connected to the ...   \n35586                                              False   \n35587   Avalanche Sharks tells the story of a bikini ...   \n\n                               despesas  \\\n19729                                 0   \n19730  /ff9qCepilowshEtG2GYWwzt2bs4.jpg   \n29502                                 0   \n29503  /zV8bHuSL6WXoD6FWogP9j4x80bL.jpg   \n35586                                 0   \n35587  /zaSf5OG7V8X8gqFvly88zDdRm46.jpg   \n\n                                                  genero    id_filme  \\\n19729  [{'id': 28, 'name': 'Action'}, {'id': 53, 'nam...       82663   \n19730  [{'name': 'Carousel Productions', 'id': 11176}...  1997-08-20   \n29502  [{'id': 16, 'name': 'Animation'}, {'id': 878, ...      122662   \n29503  [{'name': 'Aniplex', 'id': 2883}, {'name': 'Go...  2012-09-29   \n35586  [{'id': 10770, 'name': 'TV Movie'}, {'id': 28,...      249260   \n35587  [{'name': 'Odyssey Media', 'id': 17161}, {'nam...  2014-01-01   \n\n      lingua_original                           titulo_original  \\\n19729              en                              Midnight Man   \n19730           104.0  [{'iso_639_1': 'en', 'name': 'English'}]   \n29502              ja                          マルドゥック・スクランブル 排気   \n29503            68.0      [{'iso_639_1': 'ja', 'name': '日本語'}]   \n35586              en                          Avalanche Sharks   \n35587            82.0  [{'iso_639_1': 'en', 'name': 'English'}]   \n\n                                               descricao  \\\n19729  British soldiers force a recently captured IRA...   \n19730                                           Released   \n29502         Third film of the Mardock Scramble series.   \n29503                                           Released   \n35586  A group of skiers are terrorized during spring...   \n35587                                           Released   \n\n                popularidade cia_producao pais_producao data_lancamento  \\\n19729                    NaN          NaN           NaN             NaN   \n19730                    NaN        False           6.0               1   \n29502                    NaN          NaN           NaN             NaN   \n29503                    NaN        False           7.0              12   \n35586                    NaN          NaN           NaN             NaN   \n35587  Beware Of Frost Bites        False           4.3              22   \n\n       receita  duracao idiomas_falados status titulo video  media_votos  \\\n19729      NaN      NaN             NaN    NaN    NaN   NaN          NaN   \n19730      NaN      NaN             NaN    NaN    NaN   NaN          NaN   \n29502      NaN      NaN             NaN    NaN    NaN   NaN          NaN   \n29503      NaN      NaN             NaN    NaN    NaN   NaN          NaN   \n35586      NaN      NaN             NaN    NaN    NaN   NaN          NaN   \n35587      NaN      NaN             NaN    NaN    NaN   NaN          NaN   \n\n       qtde_votos  \n19729         NaN  \n19730         NaN  \n29502         NaN  \n29503         NaN  \n35586         NaN  \n35587         NaN  ",
            "text/html": "<div>\n<style scoped>\n    .dataframe tbody tr th:only-of-type {\n        vertical-align: middle;\n    }\n\n    .dataframe tbody tr th {\n        vertical-align: top;\n    }\n\n    .dataframe thead th {\n        text-align: right;\n    }\n</style>\n<table border=\"1\" class=\"dataframe\">\n  <thead>\n    <tr style=\"text-align: right;\">\n      <th></th>\n      <th>classificacao</th>\n      <th>despesas</th>\n      <th>genero</th>\n      <th>id_filme</th>\n      <th>lingua_original</th>\n      <th>titulo_original</th>\n      <th>descricao</th>\n      <th>popularidade</th>\n      <th>cia_producao</th>\n      <th>pais_producao</th>\n      <th>data_lancamento</th>\n      <th>receita</th>\n      <th>duracao</th>\n      <th>idiomas_falados</th>\n      <th>status</th>\n      <th>titulo</th>\n      <th>video</th>\n      <th>media_votos</th>\n      <th>qtde_votos</th>\n    </tr>\n  </thead>\n  <tbody>\n    <tr>\n      <th>19729</th>\n      <td>False</td>\n      <td>0</td>\n      <td>[{'id': 28, 'name': 'Action'}, {'id': 53, 'nam...</td>\n      <td>82663</td>\n      <td>en</td>\n      <td>Midnight Man</td>\n      <td>British soldiers force a recently captured IRA...</td>\n      <td>NaN</td>\n      <td>NaN</td>\n      <td>NaN</td>\n      <td>NaN</td>\n      <td>NaN</td>\n      <td>NaN</td>\n      <td>NaN</td>\n      <td>NaN</td>\n      <td>NaN</td>\n      <td>NaN</td>\n      <td>NaN</td>\n      <td>NaN</td>\n    </tr>\n    <tr>\n      <th>19730</th>\n      <td>- Written by Ørnås</td>\n      <td>/ff9qCepilowshEtG2GYWwzt2bs4.jpg</td>\n      <td>[{'name': 'Carousel Productions', 'id': 11176}...</td>\n      <td>1997-08-20</td>\n      <td>104.0</td>\n      <td>[{'iso_639_1': 'en', 'name': 'English'}]</td>\n      <td>Released</td>\n      <td>NaN</td>\n      <td>False</td>\n      <td>6.0</td>\n      <td>1</td>\n      <td>NaN</td>\n      <td>NaN</td>\n      <td>NaN</td>\n      <td>NaN</td>\n      <td>NaN</td>\n      <td>NaN</td>\n      <td>NaN</td>\n      <td>NaN</td>\n    </tr>\n    <tr>\n      <th>29502</th>\n      <td>False</td>\n      <td>0</td>\n      <td>[{'id': 16, 'name': 'Animation'}, {'id': 878, ...</td>\n      <td>122662</td>\n      <td>ja</td>\n      <td>マルドゥック・スクランブル 排気</td>\n      <td>Third film of the Mardock Scramble series.</td>\n      <td>NaN</td>\n      <td>NaN</td>\n      <td>NaN</td>\n      <td>NaN</td>\n      <td>NaN</td>\n      <td>NaN</td>\n      <td>NaN</td>\n      <td>NaN</td>\n      <td>NaN</td>\n      <td>NaN</td>\n      <td>NaN</td>\n      <td>NaN</td>\n    </tr>\n    <tr>\n      <th>29503</th>\n      <td>Rune Balot goes to a casino connected to the ...</td>\n      <td>/zV8bHuSL6WXoD6FWogP9j4x80bL.jpg</td>\n      <td>[{'name': 'Aniplex', 'id': 2883}, {'name': 'Go...</td>\n      <td>2012-09-29</td>\n      <td>68.0</td>\n      <td>[{'iso_639_1': 'ja', 'name': '日本語'}]</td>\n      <td>Released</td>\n      <td>NaN</td>\n      <td>False</td>\n      <td>7.0</td>\n      <td>12</td>\n      <td>NaN</td>\n      <td>NaN</td>\n      <td>NaN</td>\n      <td>NaN</td>\n      <td>NaN</td>\n      <td>NaN</td>\n      <td>NaN</td>\n      <td>NaN</td>\n    </tr>\n    <tr>\n      <th>35586</th>\n      <td>False</td>\n      <td>0</td>\n      <td>[{'id': 10770, 'name': 'TV Movie'}, {'id': 28,...</td>\n      <td>249260</td>\n      <td>en</td>\n      <td>Avalanche Sharks</td>\n      <td>A group of skiers are terrorized during spring...</td>\n      <td>NaN</td>\n      <td>NaN</td>\n      <td>NaN</td>\n      <td>NaN</td>\n      <td>NaN</td>\n      <td>NaN</td>\n      <td>NaN</td>\n      <td>NaN</td>\n      <td>NaN</td>\n      <td>NaN</td>\n      <td>NaN</td>\n      <td>NaN</td>\n    </tr>\n    <tr>\n      <th>35587</th>\n      <td>Avalanche Sharks tells the story of a bikini ...</td>\n      <td>/zaSf5OG7V8X8gqFvly88zDdRm46.jpg</td>\n      <td>[{'name': 'Odyssey Media', 'id': 17161}, {'nam...</td>\n      <td>2014-01-01</td>\n      <td>82.0</td>\n      <td>[{'iso_639_1': 'en', 'name': 'English'}]</td>\n      <td>Released</td>\n      <td>Beware Of Frost Bites</td>\n      <td>False</td>\n      <td>4.3</td>\n      <td>22</td>\n      <td>NaN</td>\n      <td>NaN</td>\n      <td>NaN</td>\n      <td>NaN</td>\n      <td>NaN</td>\n      <td>NaN</td>\n      <td>NaN</td>\n      <td>NaN</td>\n    </tr>\n  </tbody>\n</table>\n</div>"
          },
          "metadata": {},
          "execution_count": 18
        }
      ],
      "source": [
        "# lista dos filmes sem media_votos\n",
        "df[df['media_votos'].isnull()]"
      ]
    },
    {
      "cell_type": "code",
      "execution_count": 19,
      "metadata": {
        "tags": []
      },
      "outputs": [
        {
          "output_type": "stream",
          "name": "stdout",
          "text": "Qtde de registros excluídos:  6\n"
        }
      ],
      "source": [
        "# deletando os registros sem media de votos\n",
        "i = df.shape[0]\n",
        "df.dropna(subset=['media_votos'], inplace = True)\n",
        "f = df.shape[0]\n",
        "print ('Qtde de registros excluídos: ', i-f)"
      ]
    },
    {
      "cell_type": "code",
      "execution_count": 20,
      "metadata": {},
      "outputs": [
        {
          "output_type": "execute_result",
          "data": {
            "text/plain": "classificacao        0\ndespesas             0\ngenero               0\nid_filme             0\nlingua_original     11\ntitulo_original      0\ndescricao          954\npopularidade         0\ncia_producao         0\npais_producao        0\ndata_lancamento     84\nreceita              0\nduracao            257\nidiomas_falados      0\nstatus              81\ntitulo               0\nvideo                0\nmedia_votos          0\nqtde_votos           0\ndtype: int64"
          },
          "metadata": {},
          "execution_count": 20
        }
      ],
      "source": [
        "df.isnull().sum()"
      ]
    },
    {
      "cell_type": "code",
      "execution_count": 21,
      "metadata": {},
      "outputs": [
        {
          "output_type": "execute_result",
          "data": {
            "text/plain": "      classificacao  despesas  \\\n32            False         0   \n300           False  22000000   \n634           False         0   \n635           False         0   \n641           False         0   \n...             ...       ...   \n45342         False         0   \n45377         False         0   \n45398         False   1254040   \n45399         False    750000   \n45410         False         0   \n\n                                                  genero id_filme  \\\n32     [{'id': 10749, 'name': 'Romance'}, {'id': 12, ...    78802   \n300    [{'id': 18, 'name': 'Drama'}, {'id': 35, 'name...   161495   \n634                       [{'id': 35, 'name': 'Comedy'}]   287305   \n635                       [{'id': 35, 'name': 'Comedy'}]   339428   \n641                       [{'id': 35, 'name': 'Comedy'}]    10801   \n...                                                  ...      ...   \n45342                      [{'id': 18, 'name': 'Drama'}]   199887   \n45377                  [{'id': 12, 'name': 'Adventure'}]   317389   \n45398  [{'id': 10749, 'name': 'Romance'}, {'id': 35, ...   468707   \n45399  [{'id': 80, 'name': 'Crime'}, {'id': 35, 'name...   280422   \n45410  [{'id': 18, 'name': 'Drama'}, {'id': 80, 'name...   449131   \n\n      lingua_original                   titulo_original descricao  \\\n32                 fr  Guillaumet, les ailes du courage       NaN   \n300                sv                         Roommates       NaN   \n634                de    Peanuts – Die Bank zahlt alles       NaN   \n635                de                     Happy Weekend       NaN   \n641                de                     Das Superweib       NaN   \n...               ...                               ...       ...   \n45342              en                        Over/Under       NaN   \n45377              es     Simbad e il califfo di Bagdad       NaN   \n45398              fi  Lauri Mäntyvaaran tuuheet ripset       NaN   \n45399              ru                       Все и сразу       NaN   \n45410              ru                             Aprel       NaN   \n\n      popularidade                                       cia_producao  \\\n32        0.745542    [{'name': 'Iwerks Entertainment', 'id': 70801}]   \n300        3.39587  [{'name': 'Hollywood Pictures', 'id': 915}, {'...   \n634       0.066123  [{'name': 'Westdeutscher Rundfunk (WDR)', 'id'...   \n635       0.002229   [{'name': 'Senator Film Produktion', 'id': 191}]   \n641       0.821299            [{'name': 'Constantin Film', 'id': 47}]   \n...            ...                                                ...   \n45342     0.704642  [{'name': 'Fox Television Studios', 'id': 6529...   \n45377     0.006352  [{'name': 'Roas Produzioni', 'id': 21137}, {'n...   \n45398     0.347806    [{'name': 'Elokuvayhtiö Oy Aamu', 'id': 84883}]   \n45399     0.201582  [{'name': 'Кинокомпания «Lunapark»', 'id': 420...   \n45410     0.008903                                                 []   \n\n                                           pais_producao data_lancamento  \\\n32     [{'iso_3166_1': 'FR', 'name': 'France'}, {'iso...      1996-09-18   \n300    [{'iso_3166_1': 'US', 'name': 'United States o...      1995-03-01   \n634            [{'iso_3166_1': 'DE', 'name': 'Germany'}]      1996-03-21   \n635            [{'iso_3166_1': 'DE', 'name': 'Germany'}]      1996-03-14   \n641            [{'iso_3166_1': 'DE', 'name': 'Germany'}]      1996-03-06   \n...                                                  ...             ...   \n45342  [{'iso_3166_1': 'US', 'name': 'United States o...      2013-01-04   \n45377            [{'iso_3166_1': 'IT', 'name': 'Italy'}]      1973-07-22   \n45398          [{'iso_3166_1': 'FI', 'name': 'Finland'}]      2017-07-28   \n45399           [{'iso_3166_1': 'RU', 'name': 'Russia'}]      2014-06-05   \n45410           [{'iso_3166_1': 'RU', 'name': 'Russia'}]             NaN   \n\n          receita  duracao                            idiomas_falados  \\\n32            0.0     50.0   [{'iso_639_1': 'en', 'name': 'English'}]   \n300    12400000.0    108.0   [{'iso_639_1': 'en', 'name': 'English'}]   \n634           0.0      NaN                                         []   \n635       65335.0      NaN   [{'iso_639_1': 'de', 'name': 'Deutsch'}]   \n641           0.0     86.0   [{'iso_639_1': 'de', 'name': 'Deutsch'}]   \n...           ...      ...                                        ...   \n45342         0.0     87.0   [{'iso_639_1': 'en', 'name': 'English'}]   \n45377         0.0      NaN  [{'iso_639_1': 'it', 'name': 'Italiano'}]   \n45398         0.0     90.0     [{'iso_639_1': 'fi', 'name': 'suomi'}]   \n45399         3.0      0.0   [{'iso_639_1': 'ru', 'name': 'Pусский'}]   \n45410         0.0      NaN                                         []   \n\n         status                            titulo  video  media_votos  \\\n32     Released                  Wings of Courage  False          6.8   \n300    Released                         Roommates  False          6.4   \n634    Released    Peanuts – Die Bank zahlt alles  False          4.0   \n635    Released                     Happy Weekend  False          0.0   \n641    Released                     The Superwife  False          5.3   \n...         ...                               ...    ...          ...   \n45342  Released                        Over/Under  False          4.0   \n45377  Released     Simbad e il califfo di Bagdad  False          0.0   \n45398  Released  Thick Lashes of Lauri Mäntyvaara  False          8.0   \n45399  Released                       All at Once  False          6.0   \n45410  Released                             Aprel  False          6.0   \n\n       qtde_votos  \n32            4.0  \n300           7.0  \n634           1.0  \n635           0.0  \n641           7.0  \n...           ...  \n45342         2.0  \n45377         0.0  \n45398         1.0  \n45399         4.0  \n45410         1.0  \n\n[954 rows x 19 columns]",
            "text/html": "<div>\n<style scoped>\n    .dataframe tbody tr th:only-of-type {\n        vertical-align: middle;\n    }\n\n    .dataframe tbody tr th {\n        vertical-align: top;\n    }\n\n    .dataframe thead th {\n        text-align: right;\n    }\n</style>\n<table border=\"1\" class=\"dataframe\">\n  <thead>\n    <tr style=\"text-align: right;\">\n      <th></th>\n      <th>classificacao</th>\n      <th>despesas</th>\n      <th>genero</th>\n      <th>id_filme</th>\n      <th>lingua_original</th>\n      <th>titulo_original</th>\n      <th>descricao</th>\n      <th>popularidade</th>\n      <th>cia_producao</th>\n      <th>pais_producao</th>\n      <th>data_lancamento</th>\n      <th>receita</th>\n      <th>duracao</th>\n      <th>idiomas_falados</th>\n      <th>status</th>\n      <th>titulo</th>\n      <th>video</th>\n      <th>media_votos</th>\n      <th>qtde_votos</th>\n    </tr>\n  </thead>\n  <tbody>\n    <tr>\n      <th>32</th>\n      <td>False</td>\n      <td>0</td>\n      <td>[{'id': 10749, 'name': 'Romance'}, {'id': 12, ...</td>\n      <td>78802</td>\n      <td>fr</td>\n      <td>Guillaumet, les ailes du courage</td>\n      <td>NaN</td>\n      <td>0.745542</td>\n      <td>[{'name': 'Iwerks Entertainment', 'id': 70801}]</td>\n      <td>[{'iso_3166_1': 'FR', 'name': 'France'}, {'iso...</td>\n      <td>1996-09-18</td>\n      <td>0.0</td>\n      <td>50.0</td>\n      <td>[{'iso_639_1': 'en', 'name': 'English'}]</td>\n      <td>Released</td>\n      <td>Wings of Courage</td>\n      <td>False</td>\n      <td>6.8</td>\n      <td>4.0</td>\n    </tr>\n    <tr>\n      <th>300</th>\n      <td>False</td>\n      <td>22000000</td>\n      <td>[{'id': 18, 'name': 'Drama'}, {'id': 35, 'name...</td>\n      <td>161495</td>\n      <td>sv</td>\n      <td>Roommates</td>\n      <td>NaN</td>\n      <td>3.39587</td>\n      <td>[{'name': 'Hollywood Pictures', 'id': 915}, {'...</td>\n      <td>[{'iso_3166_1': 'US', 'name': 'United States o...</td>\n      <td>1995-03-01</td>\n      <td>12400000.0</td>\n      <td>108.0</td>\n      <td>[{'iso_639_1': 'en', 'name': 'English'}]</td>\n      <td>Released</td>\n      <td>Roommates</td>\n      <td>False</td>\n      <td>6.4</td>\n      <td>7.0</td>\n    </tr>\n    <tr>\n      <th>634</th>\n      <td>False</td>\n      <td>0</td>\n      <td>[{'id': 35, 'name': 'Comedy'}]</td>\n      <td>287305</td>\n      <td>de</td>\n      <td>Peanuts – Die Bank zahlt alles</td>\n      <td>NaN</td>\n      <td>0.066123</td>\n      <td>[{'name': 'Westdeutscher Rundfunk (WDR)', 'id'...</td>\n      <td>[{'iso_3166_1': 'DE', 'name': 'Germany'}]</td>\n      <td>1996-03-21</td>\n      <td>0.0</td>\n      <td>NaN</td>\n      <td>[]</td>\n      <td>Released</td>\n      <td>Peanuts – Die Bank zahlt alles</td>\n      <td>False</td>\n      <td>4.0</td>\n      <td>1.0</td>\n    </tr>\n    <tr>\n      <th>635</th>\n      <td>False</td>\n      <td>0</td>\n      <td>[{'id': 35, 'name': 'Comedy'}]</td>\n      <td>339428</td>\n      <td>de</td>\n      <td>Happy Weekend</td>\n      <td>NaN</td>\n      <td>0.002229</td>\n      <td>[{'name': 'Senator Film Produktion', 'id': 191}]</td>\n      <td>[{'iso_3166_1': 'DE', 'name': 'Germany'}]</td>\n      <td>1996-03-14</td>\n      <td>65335.0</td>\n      <td>NaN</td>\n      <td>[{'iso_639_1': 'de', 'name': 'Deutsch'}]</td>\n      <td>Released</td>\n      <td>Happy Weekend</td>\n      <td>False</td>\n      <td>0.0</td>\n      <td>0.0</td>\n    </tr>\n    <tr>\n      <th>641</th>\n      <td>False</td>\n      <td>0</td>\n      <td>[{'id': 35, 'name': 'Comedy'}]</td>\n      <td>10801</td>\n      <td>de</td>\n      <td>Das Superweib</td>\n      <td>NaN</td>\n      <td>0.821299</td>\n      <td>[{'name': 'Constantin Film', 'id': 47}]</td>\n      <td>[{'iso_3166_1': 'DE', 'name': 'Germany'}]</td>\n      <td>1996-03-06</td>\n      <td>0.0</td>\n      <td>86.0</td>\n      <td>[{'iso_639_1': 'de', 'name': 'Deutsch'}]</td>\n      <td>Released</td>\n      <td>The Superwife</td>\n      <td>False</td>\n      <td>5.3</td>\n      <td>7.0</td>\n    </tr>\n    <tr>\n      <th>...</th>\n      <td>...</td>\n      <td>...</td>\n      <td>...</td>\n      <td>...</td>\n      <td>...</td>\n      <td>...</td>\n      <td>...</td>\n      <td>...</td>\n      <td>...</td>\n      <td>...</td>\n      <td>...</td>\n      <td>...</td>\n      <td>...</td>\n      <td>...</td>\n      <td>...</td>\n      <td>...</td>\n      <td>...</td>\n      <td>...</td>\n      <td>...</td>\n    </tr>\n    <tr>\n      <th>45342</th>\n      <td>False</td>\n      <td>0</td>\n      <td>[{'id': 18, 'name': 'Drama'}]</td>\n      <td>199887</td>\n      <td>en</td>\n      <td>Over/Under</td>\n      <td>NaN</td>\n      <td>0.704642</td>\n      <td>[{'name': 'Fox Television Studios', 'id': 6529...</td>\n      <td>[{'iso_3166_1': 'US', 'name': 'United States o...</td>\n      <td>2013-01-04</td>\n      <td>0.0</td>\n      <td>87.0</td>\n      <td>[{'iso_639_1': 'en', 'name': 'English'}]</td>\n      <td>Released</td>\n      <td>Over/Under</td>\n      <td>False</td>\n      <td>4.0</td>\n      <td>2.0</td>\n    </tr>\n    <tr>\n      <th>45377</th>\n      <td>False</td>\n      <td>0</td>\n      <td>[{'id': 12, 'name': 'Adventure'}]</td>\n      <td>317389</td>\n      <td>es</td>\n      <td>Simbad e il califfo di Bagdad</td>\n      <td>NaN</td>\n      <td>0.006352</td>\n      <td>[{'name': 'Roas Produzioni', 'id': 21137}, {'n...</td>\n      <td>[{'iso_3166_1': 'IT', 'name': 'Italy'}]</td>\n      <td>1973-07-22</td>\n      <td>0.0</td>\n      <td>NaN</td>\n      <td>[{'iso_639_1': 'it', 'name': 'Italiano'}]</td>\n      <td>Released</td>\n      <td>Simbad e il califfo di Bagdad</td>\n      <td>False</td>\n      <td>0.0</td>\n      <td>0.0</td>\n    </tr>\n    <tr>\n      <th>45398</th>\n      <td>False</td>\n      <td>1254040</td>\n      <td>[{'id': 10749, 'name': 'Romance'}, {'id': 35, ...</td>\n      <td>468707</td>\n      <td>fi</td>\n      <td>Lauri Mäntyvaaran tuuheet ripset</td>\n      <td>NaN</td>\n      <td>0.347806</td>\n      <td>[{'name': 'Elokuvayhtiö Oy Aamu', 'id': 84883}]</td>\n      <td>[{'iso_3166_1': 'FI', 'name': 'Finland'}]</td>\n      <td>2017-07-28</td>\n      <td>0.0</td>\n      <td>90.0</td>\n      <td>[{'iso_639_1': 'fi', 'name': 'suomi'}]</td>\n      <td>Released</td>\n      <td>Thick Lashes of Lauri Mäntyvaara</td>\n      <td>False</td>\n      <td>8.0</td>\n      <td>1.0</td>\n    </tr>\n    <tr>\n      <th>45399</th>\n      <td>False</td>\n      <td>750000</td>\n      <td>[{'id': 80, 'name': 'Crime'}, {'id': 35, 'name...</td>\n      <td>280422</td>\n      <td>ru</td>\n      <td>Все и сразу</td>\n      <td>NaN</td>\n      <td>0.201582</td>\n      <td>[{'name': 'Кинокомпания «Lunapark»', 'id': 420...</td>\n      <td>[{'iso_3166_1': 'RU', 'name': 'Russia'}]</td>\n      <td>2014-06-05</td>\n      <td>3.0</td>\n      <td>0.0</td>\n      <td>[{'iso_639_1': 'ru', 'name': 'Pусский'}]</td>\n      <td>Released</td>\n      <td>All at Once</td>\n      <td>False</td>\n      <td>6.0</td>\n      <td>4.0</td>\n    </tr>\n    <tr>\n      <th>45410</th>\n      <td>False</td>\n      <td>0</td>\n      <td>[{'id': 18, 'name': 'Drama'}, {'id': 80, 'name...</td>\n      <td>449131</td>\n      <td>ru</td>\n      <td>Aprel</td>\n      <td>NaN</td>\n      <td>0.008903</td>\n      <td>[]</td>\n      <td>[{'iso_3166_1': 'RU', 'name': 'Russia'}]</td>\n      <td>NaN</td>\n      <td>0.0</td>\n      <td>NaN</td>\n      <td>[]</td>\n      <td>Released</td>\n      <td>Aprel</td>\n      <td>False</td>\n      <td>6.0</td>\n      <td>1.0</td>\n    </tr>\n  </tbody>\n</table>\n<p>954 rows × 19 columns</p>\n</div>"
          },
          "metadata": {},
          "execution_count": 21
        }
      ],
      "source": [
        "# lista dos filmes sem descricao\n",
        "df[df['descricao'].isnull()]"
      ]
    },
    {
      "cell_type": "code",
      "execution_count": 22,
      "metadata": {},
      "outputs": [],
      "source": [
        "# atualizando os dados faltantes\n",
        "df.descricao = df.descricao.fillna('Sem descrição')"
      ]
    },
    {
      "cell_type": "code",
      "execution_count": 23,
      "metadata": {},
      "outputs": [
        {
          "output_type": "execute_result",
          "data": {
            "text/plain": "classificacao        0\ndespesas             0\ngenero               0\nid_filme             0\nlingua_original     11\ntitulo_original      0\ndescricao            0\npopularidade         0\ncia_producao         0\npais_producao        0\ndata_lancamento     84\nreceita              0\nduracao            257\nidiomas_falados      0\nstatus              81\ntitulo               0\nvideo                0\nmedia_votos          0\nqtde_votos           0\ndtype: int64"
          },
          "metadata": {},
          "execution_count": 23
        }
      ],
      "source": [
        "df.isnull().sum()"
      ]
    },
    {
      "cell_type": "code",
      "execution_count": 24,
      "metadata": {},
      "outputs": [
        {
          "output_type": "execute_result",
          "data": {
            "text/plain": "      classificacao despesas  \\\n19574         False        0   \n21602         False        0   \n22832         False        0   \n32141         False        0   \n37407         False        0   \n41047         False        0   \n41872         False        0   \n44057         False        0   \n44410         False        0   \n44576         False        0   \n44655         False        0   \n\n                                                  genero id_filme  \\\n19574                [{'id': 99, 'name': 'Documentary'}]   283101   \n21602  [{'id': 10749, 'name': 'Romance'}, {'id': 18, ...   103902   \n22832  [{'id': 10752, 'name': 'War'}, {'id': 37, 'nam...   359195   \n32141                     [{'id': 35, 'name': 'Comedy'}]   147050   \n37407                  [{'id': 16, 'name': 'Animation'}]   257095   \n41047                [{'id': 99, 'name': 'Documentary'}]   332742   \n41872                [{'id': 99, 'name': 'Documentary'}]   144410   \n44057                      [{'id': 18, 'name': 'Drama'}]   380438   \n44410  [{'id': 16, 'name': 'Animation'}, {'id': 99, '...   381096   \n44576                                                 []   381525   \n44655  [{'id': 28, 'name': 'Action'}, {'id': 10752, '...   104473   \n\n      lingua_original             titulo_original  \\\n19574             NaN     Shadowing the Third Man   \n21602             NaN              Unfinished Sky   \n22832             NaN             13 Fighting Men   \n32141             NaN                   Lambchops   \n37407             NaN                      Bajaja   \n41047             NaN              Song of Lahore   \n41872             NaN  Annabelle Serpentine Dance   \n44057             NaN       Lettre d'une inconnue   \n44410             NaN                        Garn   \n44576             NaN                      WiNWiN   \n44655             NaN       La prise de Tournavos   \n\n                                               descricao popularidade  \\\n19574  Documentary about the production of The Third ...     0.017007   \n21602  An Outback farmer takes in an Afghani woman wh...     0.359818   \n22832  A group of Union Army soldiers is charged with...     0.070647   \n32141  George and Gracie enter an elegant drawing roo...     0.073418   \n37407  The first fairy tale transformed into a full-l...     0.036841   \n41047  Until the late 1970s, the Pakistani city of La...     0.373688   \n41872  Two dancers perform in succession facing a sta...      1.58434   \n44057                                      Sem descrição     0.001283   \n44410  The traditional crafts of crochet and knitting...     0.067624   \n44576  American investment fund buys Austrian compani...     0.030766   \n44655  Three military men, seen inside a fortificatio...     0.471325   \n\n                                            cia_producao  \\\n19574  [{'name': 'StudioCanal', 'id': 694}, {'name': ...   \n21602  [{'name': 'New Holland Pictures', 'id': 10229}...   \n22832  [{'name': 'Associated Producers (API)', 'id': ...   \n32141  [{'name': 'Warner Bros.', 'id': 6194}, {'name'...   \n37407  [{'name': 'Ceskoslovenský Státní Film', 'id': ...   \n41047                                                 []   \n41872  [{'name': 'Edison Manufacturing Company', 'id'...   \n44057                                                 []   \n44410                                                 []   \n44576                                                 []   \n44655                [{'name': 'Star-Film', 'id': 7159}]   \n\n                                           pais_producao data_lancamento  \\\n19574  [{'iso_3166_1': 'AT', 'name': 'Austria'}, {'is...      2004-10-11   \n21602        [{'iso_3166_1': 'AU', 'name': 'Australia'}]      2007-08-04   \n22832  [{'iso_3166_1': 'US', 'name': 'United States o...      1960-03-31   \n32141  [{'iso_3166_1': 'US', 'name': 'United States o...      1929-10-31   \n37407   [{'iso_3166_1': 'CZ', 'name': 'Czech Republic'}]      1950-01-26   \n41047                                                 []      2015-11-13   \n41872  [{'iso_3166_1': 'US', 'name': 'United States o...      1895-04-01   \n44057           [{'iso_3166_1': 'FR', 'name': 'France'}]      2001-01-01   \n44410                                                 []      2016-03-12   \n44576          [{'iso_3166_1': 'AT', 'name': 'Austria'}]      2016-01-27   \n44655           [{'iso_3166_1': 'FR', 'name': 'France'}]      1897-01-01   \n\n       receita  duracao                                    idiomas_falados  \\\n19574      0.0     95.0  [{'iso_639_1': 'de', 'name': 'Deutsch'}, {'iso...   \n21602      0.0     94.0           [{'iso_639_1': 'en', 'name': 'English'}]   \n22832      0.0     69.0           [{'iso_639_1': 'en', 'name': 'English'}]   \n32141      0.0      8.0           [{'iso_639_1': 'en', 'name': 'English'}]   \n37407      0.0     87.0             [{'iso_639_1': 'cs', 'name': 'Český'}]   \n41047      0.0     82.0  [{'iso_639_1': 'ur', 'name': 'اردو'}, {'iso_63...   \n41872      0.0      1.0       [{'iso_639_1': 'xx', 'name': 'No Language'}]   \n44057      0.0      0.0          [{'iso_639_1': 'fr', 'name': 'Français'}]   \n44410      0.0     76.0  [{'iso_639_1': 'sv', 'name': 'svenska'}, {'iso...   \n44576      0.0     84.0  [{'iso_639_1': 'de', 'name': 'Deutsch'}, {'iso...   \n44655      0.0      1.0       [{'iso_639_1': 'xx', 'name': 'No Language'}]   \n\n         status                      titulo  video  media_votos  qtde_votos  \n19574  Released     Shadowing the Third Man  False          0.0         0.0  \n21602  Released              Unfinished Sky  False          6.4         8.0  \n22832  Released             13 Fighting Men  False          0.0         0.0  \n32141  Released                   Lambchops  False          6.5         2.0  \n37407  Released               Prince Bayaya  False          5.0         1.0  \n41047  Released              Song of Lahore  False          6.5         2.0  \n41872  Released  Annabelle Serpentine Dance  False          5.7        20.0  \n44057  Released       Lettre d'une inconnue  False          0.0         0.0  \n44410  Released                        Yarn  False          0.0         0.0  \n44576  Released                      WiNWiN  False          0.0         0.0  \n44655   Rumored  The Surrender of Tournavos  False          4.6         5.0  ",
            "text/html": "<div>\n<style scoped>\n    .dataframe tbody tr th:only-of-type {\n        vertical-align: middle;\n    }\n\n    .dataframe tbody tr th {\n        vertical-align: top;\n    }\n\n    .dataframe thead th {\n        text-align: right;\n    }\n</style>\n<table border=\"1\" class=\"dataframe\">\n  <thead>\n    <tr style=\"text-align: right;\">\n      <th></th>\n      <th>classificacao</th>\n      <th>despesas</th>\n      <th>genero</th>\n      <th>id_filme</th>\n      <th>lingua_original</th>\n      <th>titulo_original</th>\n      <th>descricao</th>\n      <th>popularidade</th>\n      <th>cia_producao</th>\n      <th>pais_producao</th>\n      <th>data_lancamento</th>\n      <th>receita</th>\n      <th>duracao</th>\n      <th>idiomas_falados</th>\n      <th>status</th>\n      <th>titulo</th>\n      <th>video</th>\n      <th>media_votos</th>\n      <th>qtde_votos</th>\n    </tr>\n  </thead>\n  <tbody>\n    <tr>\n      <th>19574</th>\n      <td>False</td>\n      <td>0</td>\n      <td>[{'id': 99, 'name': 'Documentary'}]</td>\n      <td>283101</td>\n      <td>NaN</td>\n      <td>Shadowing the Third Man</td>\n      <td>Documentary about the production of The Third ...</td>\n      <td>0.017007</td>\n      <td>[{'name': 'StudioCanal', 'id': 694}, {'name': ...</td>\n      <td>[{'iso_3166_1': 'AT', 'name': 'Austria'}, {'is...</td>\n      <td>2004-10-11</td>\n      <td>0.0</td>\n      <td>95.0</td>\n      <td>[{'iso_639_1': 'de', 'name': 'Deutsch'}, {'iso...</td>\n      <td>Released</td>\n      <td>Shadowing the Third Man</td>\n      <td>False</td>\n      <td>0.0</td>\n      <td>0.0</td>\n    </tr>\n    <tr>\n      <th>21602</th>\n      <td>False</td>\n      <td>0</td>\n      <td>[{'id': 10749, 'name': 'Romance'}, {'id': 18, ...</td>\n      <td>103902</td>\n      <td>NaN</td>\n      <td>Unfinished Sky</td>\n      <td>An Outback farmer takes in an Afghani woman wh...</td>\n      <td>0.359818</td>\n      <td>[{'name': 'New Holland Pictures', 'id': 10229}...</td>\n      <td>[{'iso_3166_1': 'AU', 'name': 'Australia'}]</td>\n      <td>2007-08-04</td>\n      <td>0.0</td>\n      <td>94.0</td>\n      <td>[{'iso_639_1': 'en', 'name': 'English'}]</td>\n      <td>Released</td>\n      <td>Unfinished Sky</td>\n      <td>False</td>\n      <td>6.4</td>\n      <td>8.0</td>\n    </tr>\n    <tr>\n      <th>22832</th>\n      <td>False</td>\n      <td>0</td>\n      <td>[{'id': 10752, 'name': 'War'}, {'id': 37, 'nam...</td>\n      <td>359195</td>\n      <td>NaN</td>\n      <td>13 Fighting Men</td>\n      <td>A group of Union Army soldiers is charged with...</td>\n      <td>0.070647</td>\n      <td>[{'name': 'Associated Producers (API)', 'id': ...</td>\n      <td>[{'iso_3166_1': 'US', 'name': 'United States o...</td>\n      <td>1960-03-31</td>\n      <td>0.0</td>\n      <td>69.0</td>\n      <td>[{'iso_639_1': 'en', 'name': 'English'}]</td>\n      <td>Released</td>\n      <td>13 Fighting Men</td>\n      <td>False</td>\n      <td>0.0</td>\n      <td>0.0</td>\n    </tr>\n    <tr>\n      <th>32141</th>\n      <td>False</td>\n      <td>0</td>\n      <td>[{'id': 35, 'name': 'Comedy'}]</td>\n      <td>147050</td>\n      <td>NaN</td>\n      <td>Lambchops</td>\n      <td>George and Gracie enter an elegant drawing roo...</td>\n      <td>0.073418</td>\n      <td>[{'name': 'Warner Bros.', 'id': 6194}, {'name'...</td>\n      <td>[{'iso_3166_1': 'US', 'name': 'United States o...</td>\n      <td>1929-10-31</td>\n      <td>0.0</td>\n      <td>8.0</td>\n      <td>[{'iso_639_1': 'en', 'name': 'English'}]</td>\n      <td>Released</td>\n      <td>Lambchops</td>\n      <td>False</td>\n      <td>6.5</td>\n      <td>2.0</td>\n    </tr>\n    <tr>\n      <th>37407</th>\n      <td>False</td>\n      <td>0</td>\n      <td>[{'id': 16, 'name': 'Animation'}]</td>\n      <td>257095</td>\n      <td>NaN</td>\n      <td>Bajaja</td>\n      <td>The first fairy tale transformed into a full-l...</td>\n      <td>0.036841</td>\n      <td>[{'name': 'Ceskoslovenský Státní Film', 'id': ...</td>\n      <td>[{'iso_3166_1': 'CZ', 'name': 'Czech Republic'}]</td>\n      <td>1950-01-26</td>\n      <td>0.0</td>\n      <td>87.0</td>\n      <td>[{'iso_639_1': 'cs', 'name': 'Český'}]</td>\n      <td>Released</td>\n      <td>Prince Bayaya</td>\n      <td>False</td>\n      <td>5.0</td>\n      <td>1.0</td>\n    </tr>\n    <tr>\n      <th>41047</th>\n      <td>False</td>\n      <td>0</td>\n      <td>[{'id': 99, 'name': 'Documentary'}]</td>\n      <td>332742</td>\n      <td>NaN</td>\n      <td>Song of Lahore</td>\n      <td>Until the late 1970s, the Pakistani city of La...</td>\n      <td>0.373688</td>\n      <td>[]</td>\n      <td>[]</td>\n      <td>2015-11-13</td>\n      <td>0.0</td>\n      <td>82.0</td>\n      <td>[{'iso_639_1': 'ur', 'name': 'اردو'}, {'iso_63...</td>\n      <td>Released</td>\n      <td>Song of Lahore</td>\n      <td>False</td>\n      <td>6.5</td>\n      <td>2.0</td>\n    </tr>\n    <tr>\n      <th>41872</th>\n      <td>False</td>\n      <td>0</td>\n      <td>[{'id': 99, 'name': 'Documentary'}]</td>\n      <td>144410</td>\n      <td>NaN</td>\n      <td>Annabelle Serpentine Dance</td>\n      <td>Two dancers perform in succession facing a sta...</td>\n      <td>1.58434</td>\n      <td>[{'name': 'Edison Manufacturing Company', 'id'...</td>\n      <td>[{'iso_3166_1': 'US', 'name': 'United States o...</td>\n      <td>1895-04-01</td>\n      <td>0.0</td>\n      <td>1.0</td>\n      <td>[{'iso_639_1': 'xx', 'name': 'No Language'}]</td>\n      <td>Released</td>\n      <td>Annabelle Serpentine Dance</td>\n      <td>False</td>\n      <td>5.7</td>\n      <td>20.0</td>\n    </tr>\n    <tr>\n      <th>44057</th>\n      <td>False</td>\n      <td>0</td>\n      <td>[{'id': 18, 'name': 'Drama'}]</td>\n      <td>380438</td>\n      <td>NaN</td>\n      <td>Lettre d'une inconnue</td>\n      <td>Sem descrição</td>\n      <td>0.001283</td>\n      <td>[]</td>\n      <td>[{'iso_3166_1': 'FR', 'name': 'France'}]</td>\n      <td>2001-01-01</td>\n      <td>0.0</td>\n      <td>0.0</td>\n      <td>[{'iso_639_1': 'fr', 'name': 'Français'}]</td>\n      <td>Released</td>\n      <td>Lettre d'une inconnue</td>\n      <td>False</td>\n      <td>0.0</td>\n      <td>0.0</td>\n    </tr>\n    <tr>\n      <th>44410</th>\n      <td>False</td>\n      <td>0</td>\n      <td>[{'id': 16, 'name': 'Animation'}, {'id': 99, '...</td>\n      <td>381096</td>\n      <td>NaN</td>\n      <td>Garn</td>\n      <td>The traditional crafts of crochet and knitting...</td>\n      <td>0.067624</td>\n      <td>[]</td>\n      <td>[]</td>\n      <td>2016-03-12</td>\n      <td>0.0</td>\n      <td>76.0</td>\n      <td>[{'iso_639_1': 'sv', 'name': 'svenska'}, {'iso...</td>\n      <td>Released</td>\n      <td>Yarn</td>\n      <td>False</td>\n      <td>0.0</td>\n      <td>0.0</td>\n    </tr>\n    <tr>\n      <th>44576</th>\n      <td>False</td>\n      <td>0</td>\n      <td>[]</td>\n      <td>381525</td>\n      <td>NaN</td>\n      <td>WiNWiN</td>\n      <td>American investment fund buys Austrian compani...</td>\n      <td>0.030766</td>\n      <td>[]</td>\n      <td>[{'iso_3166_1': 'AT', 'name': 'Austria'}]</td>\n      <td>2016-01-27</td>\n      <td>0.0</td>\n      <td>84.0</td>\n      <td>[{'iso_639_1': 'de', 'name': 'Deutsch'}, {'iso...</td>\n      <td>Released</td>\n      <td>WiNWiN</td>\n      <td>False</td>\n      <td>0.0</td>\n      <td>0.0</td>\n    </tr>\n    <tr>\n      <th>44655</th>\n      <td>False</td>\n      <td>0</td>\n      <td>[{'id': 28, 'name': 'Action'}, {'id': 10752, '...</td>\n      <td>104473</td>\n      <td>NaN</td>\n      <td>La prise de Tournavos</td>\n      <td>Three military men, seen inside a fortificatio...</td>\n      <td>0.471325</td>\n      <td>[{'name': 'Star-Film', 'id': 7159}]</td>\n      <td>[{'iso_3166_1': 'FR', 'name': 'France'}]</td>\n      <td>1897-01-01</td>\n      <td>0.0</td>\n      <td>1.0</td>\n      <td>[{'iso_639_1': 'xx', 'name': 'No Language'}]</td>\n      <td>Rumored</td>\n      <td>The Surrender of Tournavos</td>\n      <td>False</td>\n      <td>4.6</td>\n      <td>5.0</td>\n    </tr>\n  </tbody>\n</table>\n</div>"
          },
          "metadata": {},
          "execution_count": 24
        }
      ],
      "source": [
        "# lista dos filmes sem lingua original\n",
        "df[df['lingua_original'].isnull()]"
      ]
    },
    {
      "cell_type": "code",
      "execution_count": 28,
      "metadata": {},
      "outputs": [],
      "source": [
        "# Atualizando o valor da lingua original, baseando no pais de produção do filmes\n",
        "\n",
        "#Áutria, Austrália e EUA: indice: 44576     41872   19574   21602   22832   32141 -> 'en'\n",
        "df.at[44576, 'lingua_original'] = 'en'\n",
        "df.at[41872, 'lingua_original'] = 'en'\n",
        "df.at[19574, 'lingua_original'] = 'en'\n",
        "df.at[21602, 'lingua_original'] = 'en'\n",
        "df.at[22832, 'lingua_original'] = 'en'\n",
        "df.at[32141, 'lingua_original'] = 'en'\n",
        "\n",
        "#'Czech Republic: indice: 37407 -> 'CZ'\n",
        "df.at[37407, 'lingua_original'] = 'CZ'\n",
        "\n",
        "#France: indice: 44655  e 44057 -> 'fr'         \n",
        "df.at[44655, 'lingua_original'] = 'fr'\n",
        "df.at[44057, 'lingua_original'] = 'fr'"
      ]
    },
    {
      "cell_type": "code",
      "execution_count": 29,
      "metadata": {},
      "outputs": [
        {
          "output_type": "execute_result",
          "data": {
            "text/plain": "      classificacao despesas  \\\n41047         False        0   \n44410         False        0   \n\n                                                  genero id_filme  \\\n41047                [{'id': 99, 'name': 'Documentary'}]   332742   \n44410  [{'id': 16, 'name': 'Animation'}, {'id': 99, '...   381096   \n\n      lingua_original titulo_original  \\\n41047             NaN  Song of Lahore   \n44410             NaN            Garn   \n\n                                               descricao popularidade  \\\n41047  Until the late 1970s, the Pakistani city of La...     0.373688   \n44410  The traditional crafts of crochet and knitting...     0.067624   \n\n      cia_producao pais_producao data_lancamento  receita  duracao  \\\n41047           []            []      2015-11-13      0.0     82.0   \n44410           []            []      2016-03-12      0.0     76.0   \n\n                                         idiomas_falados    status  \\\n41047  [{'iso_639_1': 'ur', 'name': 'اردو'}, {'iso_63...  Released   \n44410  [{'iso_639_1': 'sv', 'name': 'svenska'}, {'iso...  Released   \n\n               titulo  video  media_votos  qtde_votos  \n41047  Song of Lahore  False          6.5         2.0  \n44410            Yarn  False          0.0         0.0  ",
            "text/html": "<div>\n<style scoped>\n    .dataframe tbody tr th:only-of-type {\n        vertical-align: middle;\n    }\n\n    .dataframe tbody tr th {\n        vertical-align: top;\n    }\n\n    .dataframe thead th {\n        text-align: right;\n    }\n</style>\n<table border=\"1\" class=\"dataframe\">\n  <thead>\n    <tr style=\"text-align: right;\">\n      <th></th>\n      <th>classificacao</th>\n      <th>despesas</th>\n      <th>genero</th>\n      <th>id_filme</th>\n      <th>lingua_original</th>\n      <th>titulo_original</th>\n      <th>descricao</th>\n      <th>popularidade</th>\n      <th>cia_producao</th>\n      <th>pais_producao</th>\n      <th>data_lancamento</th>\n      <th>receita</th>\n      <th>duracao</th>\n      <th>idiomas_falados</th>\n      <th>status</th>\n      <th>titulo</th>\n      <th>video</th>\n      <th>media_votos</th>\n      <th>qtde_votos</th>\n    </tr>\n  </thead>\n  <tbody>\n    <tr>\n      <th>41047</th>\n      <td>False</td>\n      <td>0</td>\n      <td>[{'id': 99, 'name': 'Documentary'}]</td>\n      <td>332742</td>\n      <td>NaN</td>\n      <td>Song of Lahore</td>\n      <td>Until the late 1970s, the Pakistani city of La...</td>\n      <td>0.373688</td>\n      <td>[]</td>\n      <td>[]</td>\n      <td>2015-11-13</td>\n      <td>0.0</td>\n      <td>82.0</td>\n      <td>[{'iso_639_1': 'ur', 'name': 'اردو'}, {'iso_63...</td>\n      <td>Released</td>\n      <td>Song of Lahore</td>\n      <td>False</td>\n      <td>6.5</td>\n      <td>2.0</td>\n    </tr>\n    <tr>\n      <th>44410</th>\n      <td>False</td>\n      <td>0</td>\n      <td>[{'id': 16, 'name': 'Animation'}, {'id': 99, '...</td>\n      <td>381096</td>\n      <td>NaN</td>\n      <td>Garn</td>\n      <td>The traditional crafts of crochet and knitting...</td>\n      <td>0.067624</td>\n      <td>[]</td>\n      <td>[]</td>\n      <td>2016-03-12</td>\n      <td>0.0</td>\n      <td>76.0</td>\n      <td>[{'iso_639_1': 'sv', 'name': 'svenska'}, {'iso...</td>\n      <td>Released</td>\n      <td>Yarn</td>\n      <td>False</td>\n      <td>0.0</td>\n      <td>0.0</td>\n    </tr>\n  </tbody>\n</table>\n</div>"
          },
          "metadata": {},
          "execution_count": 29
        }
      ],
      "source": [
        "# validando alterações na feature lingua_original\n",
        "df[df['lingua_original'].isnull()]"
      ]
    },
    {
      "cell_type": "code",
      "execution_count": 30,
      "metadata": {},
      "outputs": [],
      "source": [
        "# deletando o restante\n",
        "df.dropna(subset=['lingua_original'], inplace = True)"
      ]
    },
    {
      "cell_type": "code",
      "execution_count": 33,
      "metadata": {},
      "outputs": [],
      "source": [
        "# deletando os registros sem data_lancamento, lingua_origindal e status\n",
        "df.dropna(subset=['data_lancamento','status'], inplace=True)"
      ]
    },
    {
      "cell_type": "code",
      "execution_count": 34,
      "metadata": {},
      "outputs": [
        {
          "output_type": "execute_result",
          "data": {
            "text/plain": "classificacao      0\ndespesas           0\ngenero             0\nid_filme           0\nlingua_original    0\ntitulo_original    0\ndescricao          0\npopularidade       0\ncia_producao       0\npais_producao      0\ndata_lancamento    0\nreceita            0\nduracao            0\nidiomas_falados    0\nstatus             0\ntitulo             0\nvideo              0\nmedia_votos        0\nqtde_votos         0\ndtype: int64"
          },
          "metadata": {},
          "execution_count": 34
        }
      ],
      "source": [
        "df.isnull().sum()"
      ]
    },
    {
      "cell_type": "markdown",
      "metadata": {},
      "source": [
        "# VERIFICANDO REGISTROS DUPLICADOS\n",
        "Fearure  ID que será utilizada como chave"
      ]
    },
    {
      "cell_type": "code",
      "execution_count": 37,
      "metadata": {},
      "outputs": [
        {
          "output_type": "execute_result",
          "data": {
            "text/plain": "      id_filme  count\n938     105045      2\n1866     10991      2\n1874    109962      2\n1966    110428      2\n2100     11115      2\n3566    119916      2\n4435     12600      2\n5265     13209      2\n5325    132641      2\n6591    141971      3\n7332     14788      2\n7660     15028      2\n7892    152795      2\n8722    159849      2\n9624    168538      2\n11175    18440      2\n15055    22649      2\n15529    23305      2\n17338    25541      2\n18383   265189      2\n21524   298721      2\n30589    42495      2\n33766     4912      2\n35586     5511      2\n38917    69234      2\n40549    77221      2\n42119    84198      2\n44884    97995      2\n45086    99080      2",
            "text/html": "<div>\n<style scoped>\n    .dataframe tbody tr th:only-of-type {\n        vertical-align: middle;\n    }\n\n    .dataframe tbody tr th {\n        vertical-align: top;\n    }\n\n    .dataframe thead th {\n        text-align: right;\n    }\n</style>\n<table border=\"1\" class=\"dataframe\">\n  <thead>\n    <tr style=\"text-align: right;\">\n      <th></th>\n      <th>id_filme</th>\n      <th>count</th>\n    </tr>\n  </thead>\n  <tbody>\n    <tr>\n      <th>938</th>\n      <td>105045</td>\n      <td>2</td>\n    </tr>\n    <tr>\n      <th>1866</th>\n      <td>10991</td>\n      <td>2</td>\n    </tr>\n    <tr>\n      <th>1874</th>\n      <td>109962</td>\n      <td>2</td>\n    </tr>\n    <tr>\n      <th>1966</th>\n      <td>110428</td>\n      <td>2</td>\n    </tr>\n    <tr>\n      <th>2100</th>\n      <td>11115</td>\n      <td>2</td>\n    </tr>\n    <tr>\n      <th>3566</th>\n      <td>119916</td>\n      <td>2</td>\n    </tr>\n    <tr>\n      <th>4435</th>\n      <td>12600</td>\n      <td>2</td>\n    </tr>\n    <tr>\n      <th>5265</th>\n      <td>13209</td>\n      <td>2</td>\n    </tr>\n    <tr>\n      <th>5325</th>\n      <td>132641</td>\n      <td>2</td>\n    </tr>\n    <tr>\n      <th>6591</th>\n      <td>141971</td>\n      <td>3</td>\n    </tr>\n    <tr>\n      <th>7332</th>\n      <td>14788</td>\n      <td>2</td>\n    </tr>\n    <tr>\n      <th>7660</th>\n      <td>15028</td>\n      <td>2</td>\n    </tr>\n    <tr>\n      <th>7892</th>\n      <td>152795</td>\n      <td>2</td>\n    </tr>\n    <tr>\n      <th>8722</th>\n      <td>159849</td>\n      <td>2</td>\n    </tr>\n    <tr>\n      <th>9624</th>\n      <td>168538</td>\n      <td>2</td>\n    </tr>\n    <tr>\n      <th>11175</th>\n      <td>18440</td>\n      <td>2</td>\n    </tr>\n    <tr>\n      <th>15055</th>\n      <td>22649</td>\n      <td>2</td>\n    </tr>\n    <tr>\n      <th>15529</th>\n      <td>23305</td>\n      <td>2</td>\n    </tr>\n    <tr>\n      <th>17338</th>\n      <td>25541</td>\n      <td>2</td>\n    </tr>\n    <tr>\n      <th>18383</th>\n      <td>265189</td>\n      <td>2</td>\n    </tr>\n    <tr>\n      <th>21524</th>\n      <td>298721</td>\n      <td>2</td>\n    </tr>\n    <tr>\n      <th>30589</th>\n      <td>42495</td>\n      <td>2</td>\n    </tr>\n    <tr>\n      <th>33766</th>\n      <td>4912</td>\n      <td>2</td>\n    </tr>\n    <tr>\n      <th>35586</th>\n      <td>5511</td>\n      <td>2</td>\n    </tr>\n    <tr>\n      <th>38917</th>\n      <td>69234</td>\n      <td>2</td>\n    </tr>\n    <tr>\n      <th>40549</th>\n      <td>77221</td>\n      <td>2</td>\n    </tr>\n    <tr>\n      <th>42119</th>\n      <td>84198</td>\n      <td>2</td>\n    </tr>\n    <tr>\n      <th>44884</th>\n      <td>97995</td>\n      <td>2</td>\n    </tr>\n    <tr>\n      <th>45086</th>\n      <td>99080</td>\n      <td>2</td>\n    </tr>\n  </tbody>\n</table>\n</div>"
          },
          "metadata": {},
          "execution_count": 37
        }
      ],
      "source": [
        "# encontrando os registros duplicados no ID\n",
        "df_duplicado = df.groupby(['id_filme']).size().reset_index(name='count')\n",
        "df_duplicado.query('count > 1')"
      ]
    },
    {
      "cell_type": "code",
      "execution_count": 45,
      "metadata": {},
      "outputs": [],
      "source": [
        "# deletando os filmes com mesmo ID, amntendo o primeiro\n",
        "df.drop_duplicates(subset='id_filme', keep='first', inplace = True)"
      ]
    },
    {
      "cell_type": "code",
      "execution_count": 48,
      "metadata": {},
      "outputs": [
        {
          "output_type": "execute_result",
          "data": {
            "text/plain": "                             titulo  count\n61                       10 Minutes      2\n126                    12 Angry Men      2\n127                       12 Chairs      2\n247    20,000 Leagues Under the Sea      4\n324                            2:22      2\n...                             ...    ...\n41921                          Zero      2\n41949                       Zig Zag      2\n41958                        Zodiac      2\n42000                          Zoom      2\n42014                          Zulu      2\n\n[2298 rows x 2 columns]",
            "text/html": "<div>\n<style scoped>\n    .dataframe tbody tr th:only-of-type {\n        vertical-align: middle;\n    }\n\n    .dataframe tbody tr th {\n        vertical-align: top;\n    }\n\n    .dataframe thead th {\n        text-align: right;\n    }\n</style>\n<table border=\"1\" class=\"dataframe\">\n  <thead>\n    <tr style=\"text-align: right;\">\n      <th></th>\n      <th>titulo</th>\n      <th>count</th>\n    </tr>\n  </thead>\n  <tbody>\n    <tr>\n      <th>61</th>\n      <td>10 Minutes</td>\n      <td>2</td>\n    </tr>\n    <tr>\n      <th>126</th>\n      <td>12 Angry Men</td>\n      <td>2</td>\n    </tr>\n    <tr>\n      <th>127</th>\n      <td>12 Chairs</td>\n      <td>2</td>\n    </tr>\n    <tr>\n      <th>247</th>\n      <td>20,000 Leagues Under the Sea</td>\n      <td>4</td>\n    </tr>\n    <tr>\n      <th>324</th>\n      <td>2:22</td>\n      <td>2</td>\n    </tr>\n    <tr>\n      <th>...</th>\n      <td>...</td>\n      <td>...</td>\n    </tr>\n    <tr>\n      <th>41921</th>\n      <td>Zero</td>\n      <td>2</td>\n    </tr>\n    <tr>\n      <th>41949</th>\n      <td>Zig Zag</td>\n      <td>2</td>\n    </tr>\n    <tr>\n      <th>41958</th>\n      <td>Zodiac</td>\n      <td>2</td>\n    </tr>\n    <tr>\n      <th>42000</th>\n      <td>Zoom</td>\n      <td>2</td>\n    </tr>\n    <tr>\n      <th>42014</th>\n      <td>Zulu</td>\n      <td>2</td>\n    </tr>\n  </tbody>\n</table>\n<p>2298 rows × 2 columns</p>\n</div>"
          },
          "metadata": {},
          "execution_count": 48
        }
      ],
      "source": [
        "# encontrando filmes diferentes com mesmo título\n",
        "df_duplicado = df.groupby(['titulo']).size().reset_index(name='count')\n",
        "df_duplicado.query('count > 1')"
      ]
    },
    {
      "cell_type": "markdown",
      "metadata": {},
      "source": [
        "# TIPOS DE FEATURES"
      ]
    },
    {
      "cell_type": "markdown",
      "metadata": {},
      "source": [
        "A) Variáveis categóricas: adulto, genero , lingua_original, cia_producao, pais_producao, idiomas_falado, status, slogan, titulo, titulo_original, descricao, video\n",
        "\n",
        "B) Variáveis discretas: despesas, id, data_lancamento, popularidade, receita, duracao(minutos), media_votos, qtde_votos  "
      ]
    },
    {
      "cell_type": "code",
      "execution_count": null,
      "metadata": {},
      "outputs": [],
      "source": [
        "df.dtypes"
      ]
    },
    {
      "cell_type": "markdown",
      "metadata": {},
      "source": [
        "# PRÉ-PROCESSANDO OS DADOS"
      ]
    },
    {
      "cell_type": "markdown",
      "metadata": {},
      "source": [
        "## FEATURE CLASSIFICAÇÃO"
      ]
    },
    {
      "cell_type": "code",
      "execution_count": 49,
      "metadata": {},
      "outputs": [
        {
          "output_type": "execute_result",
          "data": {
            "text/plain": "array(['False', 'True'], dtype=object)"
          },
          "metadata": {},
          "execution_count": 49
        }
      ],
      "source": [
        "df.classificacao.unique()"
      ]
    },
    {
      "cell_type": "code",
      "execution_count": 50,
      "metadata": {},
      "outputs": [
        {
          "output_type": "execute_result",
          "data": {
            "text/plain": "Empty DataFrame\nColumns: [classificacao, despesas, genero, id_filme, lingua_original, titulo_original, descricao, popularidade, cia_producao, pais_producao, data_lancamento, receita, duracao, idiomas_falados, status, titulo, video, media_votos, qtde_votos]\nIndex: []",
            "text/html": "<div>\n<style scoped>\n    .dataframe tbody tr th:only-of-type {\n        vertical-align: middle;\n    }\n\n    .dataframe tbody tr th {\n        vertical-align: top;\n    }\n\n    .dataframe thead th {\n        text-align: right;\n    }\n</style>\n<table border=\"1\" class=\"dataframe\">\n  <thead>\n    <tr style=\"text-align: right;\">\n      <th></th>\n      <th>classificacao</th>\n      <th>despesas</th>\n      <th>genero</th>\n      <th>id_filme</th>\n      <th>lingua_original</th>\n      <th>titulo_original</th>\n      <th>descricao</th>\n      <th>popularidade</th>\n      <th>cia_producao</th>\n      <th>pais_producao</th>\n      <th>data_lancamento</th>\n      <th>receita</th>\n      <th>duracao</th>\n      <th>idiomas_falados</th>\n      <th>status</th>\n      <th>titulo</th>\n      <th>video</th>\n      <th>media_votos</th>\n      <th>qtde_votos</th>\n    </tr>\n  </thead>\n  <tbody>\n  </tbody>\n</table>\n</div>"
          },
          "metadata": {},
          "execution_count": 50
        }
      ],
      "source": [
        "df[(df.classificacao == ' - Written by Ørnås') | (df.classificacao == ' Rune Balot goes to a casino connected to the October corporation to try to wrap up her case once and for all.') | (df.classificacao == ' Avalanche Sharks tells the story of a bikini contest that turns into a horrifying affair when it is hit by a shark avalanche.')]"
      ]
    },
    {
      "cell_type": "code",
      "execution_count": null,
      "metadata": {},
      "outputs": [],
      "source": [
        "# DELETANDO OS TRÊS REGISTROS ACIMA QUE ESTÃO INVÁLIDOS\n",
        "df.drop(19730, axis=0, inplace = True )\n",
        "df.drop(29503, axis=0, inplace = True )\n",
        "df.drop(35587, axis=0, inplace = True )"
      ]
    },
    {
      "cell_type": "code",
      "execution_count": null,
      "metadata": {},
      "outputs": [],
      "source": [
        "# VALIDANDO A EXCLUSÃO DOS REGISTROS\n",
        "df[(df.classificacao == ' - Written by Ørnås') | (df.classificacao == ' Rune Balot goes to a casino connected to the October corporation to try to wrap up her case once and for all.') | (df.classificacao == ' Avalanche Sharks tells the story of a bikini contest that turns into a horrifying affair when it is hit by a shark avalanche.')]"
      ]
    },
    {
      "cell_type": "code",
      "execution_count": null,
      "metadata": {},
      "outputs": [],
      "source": [
        "df.classificacao.unique()"
      ]
    },
    {
      "cell_type": "code",
      "execution_count": null,
      "metadata": {},
      "outputs": [],
      "source": [
        "df.classificacao.value_counts()"
      ]
    },
    {
      "cell_type": "markdown",
      "metadata": {},
      "source": [
        "Após a exclusão dos registros faltantes, os poucos filmes com classificação True, ou seja, somente para adultos, foram somente 9.\n",
        "Portanto esta feature se tornou irrelevante e foi excluída."
      ]
    },
    {
      "cell_type": "code",
      "execution_count": null,
      "metadata": {},
      "outputs": [],
      "source": [
        "# exclusão da feature\n",
        "df.drop(['classificacao'], inplace=True, axis=1)\n",
        "\n",
        "# Validando a exclusão\n",
        "df.columns"
      ]
    },
    {
      "cell_type": "markdown",
      "metadata": {},
      "source": [
        "## FEATURE DESPESAS"
      ]
    },
    {
      "cell_type": "code",
      "execution_count": null,
      "metadata": {},
      "outputs": [],
      "source": [
        "df.despesas.describe()"
      ]
    },
    {
      "cell_type": "code",
      "execution_count": null,
      "metadata": {
        "tags": []
      },
      "outputs": [],
      "source": [
        "print ('Qtde de registros únicos: ', len(df.despesas.unique()))"
      ]
    },
    {
      "cell_type": "code",
      "execution_count": null,
      "metadata": {},
      "outputs": [],
      "source": [
        "df.despesas.value_counts()"
      ]
    },
    {
      "cell_type": "markdown",
      "metadata": {},
      "source": [
        "Conforme observamos, dos 45463 registros da base, 36573 não possui valores de despesas, portanto a feature foi considerada irrelevante e excluída."
      ]
    },
    {
      "cell_type": "code",
      "execution_count": null,
      "metadata": {},
      "outputs": [],
      "source": [
        "# exclusão da feature\n",
        "df.drop(['despesas'], inplace=True, axis=1)\n",
        "\n",
        "# Validando a exclusão\n",
        "df.columns"
      ]
    },
    {
      "cell_type": "markdown",
      "metadata": {},
      "source": [
        "## FEATURE GENERO"
      ]
    },
    {
      "cell_type": "code",
      "execution_count": null,
      "metadata": {},
      "outputs": [],
      "source": [
        "df[[\"genero\", \"titulo_original\"]].head(3)"
      ]
    },
    {
      "cell_type": "code",
      "execution_count": null,
      "metadata": {},
      "outputs": [],
      "source": [
        "# Função para transformar a feature em uma lista de generos\n",
        "from ast import literal_eval\n",
        "df['genero'] = df['genero'].apply(literal_eval) # verifica se todos os dados são do mesmo tipo\n",
        "#Função para pegar os nomes dos gêneros, caso exista.\n",
        "def get_list(x):   \n",
        "    if isinstance(x, list):\n",
        "        names = [i['name'] for i in x]\n",
        "        #print ('names antes if len(names) > 1', names)\n",
        "        tam = len(names)\n",
        "        x = []\n",
        "        if (tam > 1):\n",
        "            t = 0\n",
        "            #print ('entrei if')\n",
        "            while t < tam:\n",
        "                y = names[t]\n",
        "                #print ('y', y)\n",
        "                x.append(y)\n",
        "                #print ('x', x)\n",
        "                x.sort()\n",
        "                #print ('x ordenado', x)\n",
        "                t = t + 1\n",
        "        if (tam == 1):            \n",
        "            x.append(names[0])\n",
        "            #print ('Unico genero', x)\n",
        "        return x\n",
        "        #print ('lista ordenada',x)\n",
        "    return []\n",
        "df['generos_ordenados'] = df['genero'].apply(get_list) #O retorno será uma lista com todos os gêneros.\n",
        "\n",
        "# VALIDANDO TRANSFORMAÇÃO\n",
        "df[[\"generos_ordenados\", \"genero\", \"titulo_original\"]].head(3)"
      ]
    },
    {
      "cell_type": "code",
      "execution_count": null,
      "metadata": {},
      "outputs": [],
      "source": [
        "df.columns"
      ]
    },
    {
      "cell_type": "code",
      "execution_count": null,
      "metadata": {},
      "outputs": [],
      "source": [
        "df.generos_ordenados.value_counts()"
      ]
    },
    {
      "cell_type": "markdown",
      "metadata": {},
      "source": [
        "# INICIO DE TESTE para excluir registros vazios"
      ]
    },
    {
      "cell_type": "code",
      "execution_count": null,
      "metadata": {},
      "outputs": [],
      "source": [
        "df.generos_ordenados.value_counts()"
      ]
    },
    {
      "cell_type": "code",
      "execution_count": null,
      "metadata": {},
      "outputs": [],
      "source": [
        "df.generos_ordenados.mode()[0]"
      ]
    },
    {
      "cell_type": "code",
      "execution_count": null,
      "metadata": {
        "tags": []
      },
      "outputs": [],
      "source": [
        "# substituindo o registros zerado\n",
        "i = 0\n",
        "id_zerados = []\n",
        "novo_genero = df.generos_ordenados.mode()[0]\n",
        "for index, row in df.iterrows():\n",
        "    if len(row['generos_ordenados']) == 0:\n",
        "        id_zerados.append(row['id'])\n",
        "        df.ix[df.id==row['id'], ['generos_ordenados']] = [novo_genero]\n",
        "        i = i + 1\n",
        "print (\"total = \", i)"
      ]
    },
    {
      "cell_type": "code",
      "execution_count": null,
      "metadata": {},
      "outputs": [],
      "source": [
        "df.generos_ordenados.value_counts()"
      ]
    },
    {
      "cell_type": "markdown",
      "metadata": {},
      "source": [
        "# FIM DO TESTE"
      ]
    },
    {
      "cell_type": "code",
      "execution_count": null,
      "metadata": {},
      "outputs": [],
      "source": [
        "df.generos_ordenados.value_counts()"
      ]
    },
    {
      "cell_type": "code",
      "execution_count": null,
      "metadata": {},
      "outputs": [],
      "source": [
        "# validando a transformação -> exemplos: \"Thirst for Love\" / \"The Young and the Dead\" /  \"The Juche Idea\"\n",
        "df[['titulo','generos_ordenados']][df.titulo == 'Thirst for Love']"
      ]
    },
    {
      "cell_type": "code",
      "execution_count": null,
      "metadata": {
        "tags": []
      },
      "outputs": [],
      "source": [
        "'''\n",
        "# Identificando e atualizando os filmes que não possuem gênero pela moda ( [] = 2442)\n",
        "total_registros = len(df)\n",
        "print ('total de registros', total_registros)\n",
        "t = z = 0 \n",
        "while t < total_registros:\n",
        "    if (len(df['generos_ordenados'][t]) == 0):\n",
        "        df.genero[t] = df.genero[t].fillna('Drama')\n",
        "        z = z + 1\n",
        "    t = t + 1\n",
        "print (\"total de registros sem gênero excluídos\", z)\n",
        "'''"
      ]
    },
    {
      "cell_type": "code",
      "execution_count": null,
      "metadata": {
        "tags": []
      },
      "outputs": [],
      "source": [
        "print ('Qtde de gêneros únicos: ', len(df.generos_ordenados.value_counts()))"
      ]
    },
    {
      "cell_type": "code",
      "execution_count": null,
      "metadata": {},
      "outputs": [],
      "source": [
        "# Identificando os valores únicos dos gênero (da lista de gêneros)\n",
        "df.generos_ordenados.value_counts().head(10)"
      ]
    },
    {
      "cell_type": "code",
      "execution_count": null,
      "metadata": {},
      "outputs": [],
      "source": [
        "# plotando os generos\n",
        "df.generos_ordenados.value_counts().head(10).plot.bar(color='green')\n",
        "\n",
        "plt.xticks(rotation=75)\n",
        "plt.xlabel(\"Lista de gêneros\")\n",
        "plt.ylabel(\"Média de votos\")\n",
        "plt.title(\"Gêneros x média de votos\")"
      ]
    },
    {
      "cell_type": "markdown",
      "metadata": {},
      "source": [
        "### Abaixo, transformo os gêneros em features"
      ]
    },
    {
      "cell_type": "code",
      "execution_count": null,
      "metadata": {},
      "outputs": [],
      "source": [
        "# resetando os índices\n",
        "df = df.reset_index()"
      ]
    },
    {
      "cell_type": "code",
      "execution_count": null,
      "metadata": {},
      "outputs": [],
      "source": [
        "df.columns"
      ]
    },
    {
      "cell_type": "code",
      "execution_count": null,
      "metadata": {
        "tags": []
      },
      "outputs": [],
      "source": [
        "# Criar uma lista que contenha somente valores únicos de gênero, para idêntificá-los e contabilizá-los\n",
        "todos_registros = len(df.generos_ordenados)        \n",
        "generos_unicos = [] # lista onde será incluídos os gêneros únicos\n",
        "x  = 0 \n",
        "#print ('total de registros do dataset: ', todos_registros)\n",
        "while (x < todos_registros): # enquanto tiver registros no dataset\n",
        "    #print (\"x:\", x)\n",
        "    generos = df.generos_ordenados[x]\n",
        "    #print (\"P/ x = {} todos os generos são {}:\".format(x,generos))\n",
        "    tam_generos = len(generos)\n",
        "    #print (\"tam_generos: \", tam_generos)\n",
        "    i = z = 0\n",
        "    while (i < tam_generos): # enquanto o registro tiver generos\n",
        "        cada_genero_registo = df.generos_ordenados[x][i]\n",
        "        #print (\"Para x = {} e i = {} os genero é {} \". format(x, i ,cada_genero_registo))\n",
        "        if (not cada_genero_registo in generos_unicos): # verifica se o genero está na lista de generos únicos\n",
        "            generos_unicos.append(cada_genero_registo) # inclui o genero na lista de generos únicos\n",
        "            #print (\"lista com os generos únicos\", generos_unicos)\n",
        "            generos_unicos.sort()\n",
        "            #print (\"lista com os generos únicos ordenado\", generos_unicos)\n",
        "            z +=1\n",
        "        i += 1        \n",
        "    x += 1\n",
        "\n",
        "\n",
        "print (\"generos únicos: \", len(generos_unicos))\n",
        "print (generos_unicos)"
      ]
    },
    {
      "cell_type": "code",
      "execution_count": null,
      "metadata": {},
      "outputs": [],
      "source": [
        "# transformar as opções possíveis de genero em features com conteúdo true ou false \n",
        "from mlxtend.preprocessing import TransactionEncoder\n",
        "from mlxtend.frequent_patterns import apriori\n",
        "te = TransactionEncoder()\n",
        "genero_x = te.fit(df.generos_ordenados).transform(df.generos_ordenados)\n",
        "df_novo = pd.DataFrame(genero_x, columns=te.columns_)"
      ]
    },
    {
      "cell_type": "code",
      "execution_count": null,
      "metadata": {},
      "outputs": [],
      "source": [
        "# resetando os índices\n",
        "df_novo = df_novo.reset_index()\n",
        "\n",
        "# Mesclado os dois dataframes\n",
        "horizontal_stack = pd.concat([df, df_novo], axis=1)"
      ]
    },
    {
      "cell_type": "code",
      "execution_count": null,
      "metadata": {},
      "outputs": [],
      "source": [
        "# copiando o conteúdo do novo dataframe para o filme utilizado\n",
        "df = horizontal_stack.copy()"
      ]
    },
    {
      "cell_type": "code",
      "execution_count": null,
      "metadata": {},
      "outputs": [],
      "source": [
        "# após a transformação do conteúdo da feature genero para novas features, o data set ficou com as seguintes colunas: \n",
        "df.columns"
      ]
    },
    {
      "cell_type": "code",
      "execution_count": null,
      "metadata": {},
      "outputs": [],
      "source": [
        "# renomear as colunas de genero e usar todas com caixa baixa para padronizar\n",
        "df = df.rename(columns={'Action': \"acao\", 'Adventure': 'aventura', 'Animation': 'animacao', 'Comedy': 'comedia', 'Crime': 'crime', 'Documentary': 'documentario', 'Drama': 'drama', 'Family': 'familia', 'Fantasy': 'fantasia', 'Foreign': 'estrangeiro', 'History': 'historia', 'Horror': 'horror', 'Music': 'musical', 'Mystery': 'misterio', 'Romance': 'romance', 'Science Fiction': 'ficcao_cientifica', 'TV Movie': 'filmes_tv', 'Thriller': 'suspense', 'War': 'gerra', 'Western': 'ocidental'})"
      ]
    },
    {
      "cell_type": "code",
      "execution_count": null,
      "metadata": {
        "tags": []
      },
      "outputs": [],
      "source": [
        "# contabilizando a qtde de registros true de cada gênero\n",
        "lista_generos = ['acao', 'aventura', 'animacao', 'comedia', 'crime', 'documentario', 'drama', 'familia', 'fantasia', 'estrangeiro', 'historia', 'horror', 'musical', 'misterio', 'romance', 'ficcao_cientifica', 'filmes_tv', 'suspense', 'gerra', 'ocidental']\n",
        "\n",
        "tam = len(lista_generos)\n",
        "print (\"total de generos\", tam)\n",
        "x = 0\n",
        "lista_totais = [] # lista para armazenar os valores totais de cada genero\n",
        "#print (type (lista_totais))\n",
        "\n",
        "while x < tam:\n",
        "    genero = lista_generos[x]\n",
        "    total_genero = sum(df[genero] == True)    \n",
        "    print ('genero: ', genero, '|',total_genero)\n",
        "    x += 1\n",
        "    lista_totais.append (total_genero)"
      ]
    },
    {
      "cell_type": "code",
      "execution_count": null,
      "metadata": {},
      "outputs": [],
      "source": [
        "#plotando os totais por generos\n",
        "plt.bar(lista_generos, lista_totais,color = 'black')\n",
        "\n",
        "plt.rcParams['figure.figsize'] = [15, 10]\n",
        "\n",
        "plt.xticks(rotation=85)\n",
        "\n",
        "plt.xlabel(\"Genero\")\n",
        "plt.ylabel(\"Total\")\n",
        "plt.title(\"Total por gênero\")\n",
        "\n",
        "plt.show()"
      ]
    },
    {
      "cell_type": "markdown",
      "metadata": {},
      "source": [
        "Conforme observamos, tanto na lista de gêneros únicos e os gêneros separadamente, o mais frequente é o drama, ou seja, a maior parte dos filmes disponível na base tem classificação \"Drama\" "
      ]
    },
    {
      "cell_type": "markdown",
      "metadata": {},
      "source": [
        "## FEATURE LINGUA ORIGINAL"
      ]
    },
    {
      "cell_type": "code",
      "execution_count": null,
      "metadata": {},
      "outputs": [],
      "source": [
        "df.lingua_original.head(3)"
      ]
    },
    {
      "cell_type": "code",
      "execution_count": null,
      "metadata": {},
      "outputs": [],
      "source": [
        "df.lingua_original.describe()"
      ]
    },
    {
      "cell_type": "code",
      "execution_count": null,
      "metadata": {},
      "outputs": [],
      "source": [
        "df.lingua_original.unique()"
      ]
    },
    {
      "cell_type": "markdown",
      "metadata": {},
      "source": [
        "### Identificando registros nulos e nan de lingua original"
      ]
    },
    {
      "cell_type": "code",
      "execution_count": null,
      "metadata": {},
      "outputs": [],
      "source": [
        "# identificando a qtde de registros com lingua_original = nan\n",
        "len(df[df.lingua_original.isna()])"
      ]
    },
    {
      "cell_type": "code",
      "execution_count": null,
      "metadata": {},
      "outputs": [],
      "source": [
        "# identificando os registros com lingua_original = nan\n",
        "df[['titulo','lingua_original']][df.lingua_original.isna()]"
      ]
    },
    {
      "cell_type": "code",
      "execution_count": null,
      "metadata": {},
      "outputs": [],
      "source": [
        "# resultado da moda\n",
        "df.lingua_original.mode()[0]"
      ]
    },
    {
      "cell_type": "code",
      "execution_count": null,
      "metadata": {},
      "outputs": [],
      "source": [
        "# atualizando pela moda\n",
        "df.lingua_original = df.lingua_original.fillna('en')"
      ]
    },
    {
      "cell_type": "code",
      "execution_count": null,
      "metadata": {},
      "outputs": [],
      "source": [
        "# validando a substituição os registros com lingua_original = nan\n",
        "df[df.lingua_original.isnull()]"
      ]
    },
    {
      "cell_type": "markdown",
      "metadata": {},
      "source": [
        "CONVERTENDO A SIGLA DO IDIOMA NO NOME DO IDIOMA"
      ]
    },
    {
      "cell_type": "code",
      "execution_count": null,
      "metadata": {},
      "outputs": [],
      "source": [
        "# Convertando a sigla do idioma no nome do idioma\n",
        "\n",
        "sigla_lingua = df.lingua_original.sort_values().unique()\n",
        "sigla_lingua"
      ]
    },
    {
      "cell_type": "code",
      "execution_count": null,
      "metadata": {},
      "outputs": [],
      "source": [
        "# Convertando a sigla do idioma no nome do idioma, usando o padrão ISO 639 (https://omegat.sourceforge.io/manual-latest/pt_BR/appendix.languages.html). \n",
        "\n",
        "df['lingua'] = df['lingua_original'].map({\n",
        "    '': 'No Language', ' ': 'No Language',\n",
        "    'cze': 'Tcheco',\n",
        "    'xx':'No Language',    'en': 'Inglês',     'fr': 'Francês', \n",
        "    'zh': 'Chines',    'it': 'Italiano' ,     'fa': 'Persa', \n",
        "    'nl': 'Neerlandês',     'de': 'Alemão',     'cn': 'Mandarim padrão', \n",
        "    'ar': 'Argentino',     'es' : 'Espanhol',     'ru': 'Russo',\n",
        "    'sv': 'Espanhol',     'ja': 'Japonês',     'ko': 'Coreano', \n",
        "    'sr': 'Sérvio',     'bn': 'Bengali',     'he': 'Hebraico', \n",
        "    'pt': 'Português',     'wo': 'Wolof',     'ro': 'Romeno', \n",
        "    'cy': 'Galês',     'vi': 'Vietnamita',       'cs':'hrv' , \n",
        "       'da': 'Dinamarquês',        'no': 'Norueguês',        'nb': 'Bokmål norueguês', \n",
        "       'pl': 'Polonês',        'el': 'Grego, Moderno',        'sh': 'Shan', \n",
        "       'mk': 'Macedônio',        'bo': 'Tibetano',        'ca': 'Catalão',\n",
        "       'fi': 'Finlandês',        'th': 'Tailandês',        'sk': 'Eslovaco', \n",
        "       'hu': 'Húngaro',        'bs': 'Bósnio',        'hi': 'Hindi', \n",
        "       'tr': 'Turco',        'is': 'Islandês',        'ps': 'Pachto', \n",
        "       'ab': 'Abecásio',        'eo': 'Esperanto',       'ka': 'Georgiano', \n",
        "       'mn': 'Mongol',        'bm': 'Bambara',        'zu': 'Zulu', \n",
        "       'uk': 'Ucraniano',        'af': 'Africâner',        'la': 'Latim', \n",
        "       'et': 'Estoniano',        'ku': 'Curdo',        'fy': 'Frísio ocidental', \n",
        "       'lv': 'Letão',       'ta': 'Tâmil',        'sl': 'Esloveno', \n",
        "       'tl': 'Tagalog',        'ur': 'Urdu',        'rw': 'Kinyarwanda', \n",
        "       'id': 'Indonésio',        'bg': 'Búlgaro', \n",
        "       'mr': 'Marathi (Marāṭhī)', 'lt': 'Lituano', 'kk': 'Cazaque', 'ms': 'Malaio',\n",
        "       'sq': 'Albanês', \n",
        "       'qu': 'Quechua', 'te': 'Telugu', 'am': 'Amárico', \n",
        "       'jv': 'Javanês', 'tg': 'Tajique', 'ml': 'Malayalam', \n",
        "       'hr': 'Croata', 'lo': 'Lao', 'ay': 'Aymará',\n",
        "       'kn': 'Canarês', \n",
        "       'eu': 'Basco', 'ne': 'Nepali', 'pa': 'Panjabi, Punjabi', \n",
        "       'ky': 'Quirguiz, Kyrgyz', 'gl': 'Galego', 'uz': 'Uzbeque', \n",
        "       'sm': 'Samoano', 'mt': 'Maltês', 'hy': 'Armênio', \n",
        "       'iu': 'Inuktitut', 'lb': 'Luxemburguês, Letzeburgesch', 'si': 'Sinhala, Cingalês'\n",
        "       })"
      ]
    },
    {
      "cell_type": "code",
      "execution_count": null,
      "metadata": {},
      "outputs": [],
      "source": [
        "# validando a transformação\n",
        "df[['lingua','lingua_original','titulo']][27:32]"
      ]
    },
    {
      "cell_type": "code",
      "execution_count": null,
      "metadata": {},
      "outputs": [],
      "source": [
        "# verificando se os registros únicos\n",
        "df['lingua'].unique()"
      ]
    },
    {
      "cell_type": "code",
      "execution_count": null,
      "metadata": {
        "tags": []
      },
      "outputs": [],
      "source": [
        "print ('Qtde de registros:', len(df.lingua.unique()))"
      ]
    },
    {
      "cell_type": "code",
      "execution_count": null,
      "metadata": {},
      "outputs": [],
      "source": [
        "df.lingua.value_counts().sort_values(ascending = False).head(10)"
      ]
    },
    {
      "cell_type": "code",
      "execution_count": null,
      "metadata": {},
      "outputs": [],
      "source": [
        "df.lingua.value_counts().sort_values(ascending = False).head(10).plot(color = \"red\")\n",
        "\n",
        "plt.rcParams['figure.figsize'] = [15, 10]\n",
        "\n",
        "plt.xticks(rotation=0)\n",
        "\n",
        "plt.xlabel(\"Idioma\")\n",
        "plt.ylabel(\"Total\")\n",
        "plt.title(\"Total por idioma falado - os 10 mais frequentes\")"
      ]
    },
    {
      "cell_type": "markdown",
      "metadata": {},
      "source": [
        "### FEATURE POPULARIDADE"
      ]
    },
    {
      "cell_type": "code",
      "execution_count": null,
      "metadata": {},
      "outputs": [],
      "source": [
        "df.popularidade.head(3)"
      ]
    },
    {
      "cell_type": "code",
      "execution_count": null,
      "metadata": {},
      "outputs": [],
      "source": [
        "df.popularidade.describe()"
      ]
    },
    {
      "cell_type": "code",
      "execution_count": null,
      "metadata": {},
      "outputs": [],
      "source": [
        "df.popularidade.unique()"
      ]
    },
    {
      "cell_type": "code",
      "execution_count": null,
      "metadata": {
        "tags": []
      },
      "outputs": [],
      "source": [
        "print ('Total de registros únicos de populariade:', len(df.popularidade.unique()))"
      ]
    },
    {
      "cell_type": "code",
      "execution_count": null,
      "metadata": {},
      "outputs": [],
      "source": [
        "# convertendo a featue para float\n",
        "df.popularidade = df.popularidade.astype('float64').round(3)\n",
        "df.popularidade.head(15)"
      ]
    },
    {
      "cell_type": "code",
      "execution_count": null,
      "metadata": {},
      "outputs": [],
      "source": [
        "# visualizando os dados agrupados\n",
        "df.popularidade.value_counts().sort_values(ascending = False)"
      ]
    },
    {
      "cell_type": "code",
      "execution_count": null,
      "metadata": {},
      "outputs": [],
      "source": [
        "l "
      ]
    },
    {
      "cell_type": "code",
      "execution_count": null,
      "metadata": {},
      "outputs": [],
      "source": [
        "df.popularidade.value_counts().sort_values(ascending = False).head(20).plot.bar(color = \"blue\")\n",
        "\n",
        "plt.rcParams['figure.figsize'] = [15, 10]\n",
        "\n",
        "plt.xticks(rotation=90)\n",
        "\n",
        "plt.xlabel(\"Popularidade\")\n",
        "plt.ylabel(\"Total\")\n",
        "plt.title(\"Total por popularidade - os 10 mais frequentes\")"
      ]
    },
    {
      "cell_type": "code",
      "execution_count": null,
      "metadata": {},
      "outputs": [],
      "source": [
        "#Como a feature possui valores muitos discrepantes e não consegui entender qual é o seu range, não irei utilizá-la nas análises do trabalho\n",
        "df.drop(['popularidade'], inplace=True, axis=1)\n",
        "df.drop(['index'], inplace=True, axis=1)"
      ]
    },
    {
      "cell_type": "markdown",
      "metadata": {},
      "source": [
        "# FEATURE COMPANHIA DE PRODUÇÃO (CIA_PRODUCAO)"
      ]
    },
    {
      "cell_type": "code",
      "execution_count": null,
      "metadata": {},
      "outputs": [],
      "source": [
        "df.cia_producao.head(3)"
      ]
    },
    {
      "cell_type": "code",
      "execution_count": null,
      "metadata": {},
      "outputs": [],
      "source": [
        "df.cia_producao.describe()"
      ]
    },
    {
      "cell_type": "code",
      "execution_count": null,
      "metadata": {
        "tags": []
      },
      "outputs": [],
      "source": [
        "print ('Qtde de registros sem cia_producao: ', df.cia_producao.isnull().sum())"
      ]
    },
    {
      "cell_type": "code",
      "execution_count": null,
      "metadata": {},
      "outputs": [],
      "source": [
        "# deletando os registros em branco\n",
        "df = df.dropna(subset=['cia_producao'])"
      ]
    },
    {
      "cell_type": "code",
      "execution_count": null,
      "metadata": {
        "tags": []
      },
      "outputs": [],
      "source": [
        "# validando exclusão\n",
        "print ('Qtde de registros sem cia_producao: ', df.cia_producao.isnull().sum())"
      ]
    },
    {
      "cell_type": "code",
      "execution_count": null,
      "metadata": {},
      "outputs": [],
      "source": [
        "# transformar a feature em uma nova coluna contento a lista de companhia de cada filme\n",
        "# Recupera os dados da feature e salva numa nova coluna\n",
        "from ast import literal_eval\n",
        "df['cia_producao'] = df['cia_producao'].apply(literal_eval) \n",
        "def get_list(x):\n",
        "    if isinstance(x, list):\n",
        "        names = [i['name'] for i in x]\n",
        "        if len(names) > 3:\n",
        "            names = names[:3]\n",
        "        return names\n",
        "    return []\n",
        "df['novo_cia_producao'] = df['cia_producao'].apply(get_list) \n",
        "\n",
        "# VALIDANDO TRANSFORMAÇÃO\n",
        "df[[\"novo_cia_producao\", \"cia_producao\", \"titulo_original\"]].head(3)"
      ]
    },
    {
      "cell_type": "code",
      "execution_count": null,
      "metadata": {
        "tags": []
      },
      "outputs": [],
      "source": [
        "print ('Qtde de registros unicos de CIA de produção: ', len(df.novo_cia_producao.value_counts()))"
      ]
    },
    {
      "cell_type": "code",
      "execution_count": null,
      "metadata": {},
      "outputs": [],
      "source": [
        "# As 10 CIA mais frequentes\n",
        "cia_10_mais = df.novo_cia_producao.value_counts().sort_values(ascending = False).head(11)\n",
        "cia_10_mais"
      ]
    },
    {
      "cell_type": "code",
      "execution_count": null,
      "metadata": {},
      "outputs": [],
      "source": [
        "# Plotando as 10 cia de produção mais frequentes\n",
        "cia_10_mais.plot.bar(color = \"pink\")\n",
        "\n",
        "plt.rcParams['figure.figsize'] = [15, 10]\n",
        "\n",
        "plt.xticks(rotation=90)\n",
        "\n",
        "plt.xlabel(\"CIA de produção\")\n",
        "plt.ylabel(\"Total\")\n",
        "plt.title(\"Total por CIA - os 10 mais frequentes\")"
      ]
    },
    {
      "cell_type": "markdown",
      "metadata": {},
      "source": [
        "### TRANSFORMANDO AS 10 CIA MAIS FREQUENTES EM FEATURES"
      ]
    },
    {
      "cell_type": "code",
      "execution_count": null,
      "metadata": {},
      "outputs": [],
      "source": [
        "# transformar as opções possíveis de genero em features com conteúdo true ou false \n",
        "from mlxtend.preprocessing import TransactionEncoder\n",
        "from mlxtend.frequent_patterns import apriori\n",
        "te = TransactionEncoder()\n",
        "cia_x = te.fit(df.novo_cia_producao).transform(df.novo_cia_producao)\n",
        "df_cia = pd.DataFrame(cia_x, columns=te.columns_)"
      ]
    },
    {
      "cell_type": "code",
      "execution_count": null,
      "metadata": {},
      "outputs": [],
      "source": [
        "df_cia.head(3)"
      ]
    },
    {
      "cell_type": "code",
      "execution_count": null,
      "metadata": {},
      "outputs": [],
      "source": [
        "# SELECIONANDO AS 10 MAIS FREQUENTES\n",
        "df_cia = df_cia[['Metro-Goldwyn-Mayer (MGM)', 'Warner Bros.', 'Paramount Pictures', \n",
        "        'Twentieth Century Fox Film Corporation', 'Universal Pictures', 'RKO Radio Pictures', \n",
        "        'Columbia Pictures Corporation', 'Columbia Pictures',\n",
        "        'Mosfilm', 'Walt Disney Pictures']]"
      ]
    },
    {
      "cell_type": "code",
      "execution_count": null,
      "metadata": {},
      "outputs": [],
      "source": [
        "df_cia.shape"
      ]
    },
    {
      "cell_type": "code",
      "execution_count": null,
      "metadata": {},
      "outputs": [],
      "source": [
        "df.shape"
      ]
    },
    {
      "cell_type": "code",
      "execution_count": null,
      "metadata": {},
      "outputs": [],
      "source": [
        "# Mesclado os dois dataframes\n",
        "horizontal_stack = pd.concat([df, df_cia], axis=1)\n",
        "\n",
        "# copiando o conteúdo do novo dataframe para o filme utilizado\n",
        "df = horizontal_stack.copy()"
      ]
    },
    {
      "cell_type": "code",
      "execution_count": null,
      "metadata": {
        "tags": []
      },
      "outputs": [],
      "source": [
        "print ('Qtde de colunas após mesclagem:', df.shape)"
      ]
    },
    {
      "cell_type": "code",
      "execution_count": null,
      "metadata": {},
      "outputs": [],
      "source": [
        "# validando a transformação\n",
        "# exemplo: filme: [Dracula: Dead and Loving It] => CIA: ['Columbia Pictures', 'Castle Rock Entertainment', 'Enigma Pictures']\n",
        "# exemplo: filme: [The Indian in the Cupboard] => CIA: [['Paramount Pictures', 'Columbia Pictures Corporation', 'The Kennedy/Marshall Company']\n",
        "\n",
        "df[['Metro-Goldwyn-Mayer (MGM)', 'Warner Bros.', 'Paramount Pictures', \n",
        "        'Twentieth Century Fox Film Corporation', 'Universal Pictures', 'RKO Radio Pictures', \n",
        "        'Columbia Pictures Corporation', 'Columbia Pictures',\n",
        "        'Mosfilm', 'Walt Disney Pictures']][(df.titulo == 'Dracula: Dead and Loving It') | (df.titulo == 'The Indian in the Cupboard')]\n"
      ]
    },
    {
      "cell_type": "code",
      "execution_count": null,
      "metadata": {},
      "outputs": [],
      "source": [
        "# Features até agora\n",
        "df.columns"
      ]
    },
    {
      "cell_type": "markdown",
      "metadata": {},
      "source": [
        "### FEATURE PAIS DE PRODUÇÃO"
      ]
    },
    {
      "cell_type": "code",
      "execution_count": null,
      "metadata": {},
      "outputs": [],
      "source": [
        "df['pais_producao'].head(3)"
      ]
    },
    {
      "cell_type": "code",
      "execution_count": null,
      "metadata": {},
      "outputs": [],
      "source": [
        "df['pais_producao'].isnull().sum()"
      ]
    },
    {
      "cell_type": "code",
      "execution_count": null,
      "metadata": {},
      "outputs": [],
      "source": [
        "# idenficando os registros nulos\n",
        "select = df['pais_producao'].isnull()\n",
        "df[select]"
      ]
    },
    {
      "cell_type": "code",
      "execution_count": null,
      "metadata": {},
      "outputs": [],
      "source": [
        "# exclusão dos registros nulos\n",
        "df.drop(19721, inplace=True, axis=0)\n",
        "df.drop(29481, inplace=True, axis=0)\n",
        "df.drop(35561, inplace=True, axis=0)"
      ]
    },
    {
      "cell_type": "code",
      "execution_count": null,
      "metadata": {},
      "outputs": [],
      "source": [
        "# validando a exclusão\n",
        "select = df['pais_producao'].isnull()\n",
        "df[select]"
      ]
    },
    {
      "cell_type": "code",
      "execution_count": null,
      "metadata": {},
      "outputs": [],
      "source": [
        "# Função para transformar dicionario em uma lista de pais\n",
        "df['pais_producao'] = df['pais_producao'].apply(literal_eval) # verifica se todos os dados são do mesmo tipo\n",
        "def get_list(x):   \n",
        "    if isinstance(x, list):\n",
        "        names = [i['name'] for i in x]\n",
        "        #print ('names antes if len(names) > 1', names)\n",
        "        tam = len(names)\n",
        "        x = []\n",
        "        if (tam > 1):\n",
        "            t = 0\n",
        "            #print ('entrei if')\n",
        "            while t < tam:\n",
        "                y = names[t]\n",
        "                #print ('y', y)\n",
        "                x.append(y)\n",
        "                #print ('x', x)\n",
        "                x.sort()\n",
        "                #print ('x ordenado', x)\n",
        "                t = t + 1\n",
        "        if (tam == 1):            \n",
        "            x.append(names[0])\n",
        "            #print ('Unico genero', x)\n",
        "        return x\n",
        "        #print ('lista ordenada',x)\n",
        "    return []\n",
        "df['pais_producao_ordenados'] = df['pais_producao'].apply(get_list) #O retorno será uma lista com todos os gêneros.\n",
        "\n",
        "# VALIDANDO TRANSFORMAÇÃO\n",
        "df[[\"pais_producao_ordenados\", \"pais_producao\", \"titulo_original\"]].head(3)"
      ]
    },
    {
      "cell_type": "code",
      "execution_count": null,
      "metadata": {},
      "outputs": [],
      "source": [
        "# lista dos 10 países mais comuns\n",
        "pais_15_mais = df.pais_producao_ordenados.value_counts().sort_values(ascending = False).head(15)\n",
        "pais_15_mais"
      ]
    },
    {
      "cell_type": "code",
      "execution_count": null,
      "metadata": {},
      "outputs": [],
      "source": [
        "pais_15_mais.plot.bar(color = \"red\")\n",
        "\n",
        "plt.rcParams['figure.figsize'] = [15, 10]\n",
        "\n",
        "plt.xticks(rotation=90)\n",
        "\n",
        "plt.xlabel(\"País de produção\")\n",
        "plt.ylabel(\"Total\")\n",
        "plt.title(\"Total por paós - os 10 mais frequentes\")"
      ]
    },
    {
      "cell_type": "markdown",
      "metadata": {},
      "source": [
        "Comparar a lista de países com os países convertidos para feature"
      ]
    },
    {
      "cell_type": "code",
      "execution_count": null,
      "metadata": {
        "tags": []
      },
      "outputs": [],
      "source": [
        "'''# Criar uma lista que contenha somente valores únicos do pais de produção, para idêntificá-los e contabilizá-los\n",
        "todos_registros = len(df.novo_pais_producao)        \n",
        "pais_producao_unicos = [] # lista onde será incluídos os países de produção únicos\n",
        "x = 0 \n",
        "print ('total de registros do dataset: ', todos_registros)\n",
        "while (x < todos_registros): # enquanto tiver registros no dataset\n",
        "    pais = df.novo_pais_producao[x]\n",
        "    tam_pais = len(pais)\n",
        "    i = z = 0\n",
        "    while (i < tam_pais): # enquanto o registro tiver paises de produção\n",
        "        cada_pais_registo = df.novo_pais_producao[x][i]\n",
        "        if (not cada_pais_registo in pais_producao_unicos): # verifica se o pais de produção está na lista de paises únicos\n",
        "            pais_producao_unicos.append(cada_pais_registo) # inclui o pais na lista de paises únicos\n",
        "            z +=1\n",
        "        i += 1        \n",
        "    x += 1\n",
        "\n",
        "print (\"pais_producao_unicos: \", len(pais_producao_unicos))\n",
        "print ('Lista de país onde os filmes foram produzidos: \\n', pais_producao_unicos)\n",
        "'''"
      ]
    },
    {
      "cell_type": "code",
      "execution_count": null,
      "metadata": {},
      "outputs": [],
      "source": [
        "df.pais_producao_ordenados.value_counts().head(15)"
      ]
    },
    {
      "cell_type": "code",
      "execution_count": null,
      "metadata": {},
      "outputs": [],
      "source": [
        "# transformar as opções possíveis de pais de gravação em features com conteúdo true ou false \n",
        "pais_producao_x = te.fit(df.pais_producao_ordenados).transform(df.pais_producao_ordenados)\n",
        "df_novo_pais_producao = pd.DataFrame(pais_producao_x, columns=te.columns_)\n"
      ]
    },
    {
      "cell_type": "code",
      "execution_count": null,
      "metadata": {},
      "outputs": [],
      "source": [
        "# resetando os índices\n",
        "df_novo_pais_producao = df_novo_pais_producao.reset_index()\n",
        "df_novo_pais_producao.head(3)"
      ]
    },
    {
      "cell_type": "code",
      "execution_count": null,
      "metadata": {},
      "outputs": [],
      "source": [
        "# SELECIONANDO AS 10 MAIS FREQUENTES\n",
        "df_novo_pais_producao = df_novo_pais_producao[['United States of America','United Kingdom','France','Japan','Italy','Canada','Germany','Russia','India', 'Canada']]\n",
        "df_novo_pais_producao.head(3)"
      ]
    },
    {
      "cell_type": "code",
      "execution_count": null,
      "metadata": {},
      "outputs": [],
      "source": [
        "df_novo_pais_producao.shape"
      ]
    },
    {
      "cell_type": "code",
      "execution_count": null,
      "metadata": {},
      "outputs": [],
      "source": [
        "df.shape"
      ]
    },
    {
      "cell_type": "code",
      "execution_count": null,
      "metadata": {},
      "outputs": [],
      "source": [
        "# Mesclado os dois dataframes\n",
        "horizontal_stack = pd.concat([df, df_novo_pais_producao], axis=1)\n",
        "\n",
        "# copiando o conteúdo do novo dataframe\n",
        "df = horizontal_stack.copy()"
      ]
    },
    {
      "cell_type": "code",
      "execution_count": null,
      "metadata": {
        "tags": []
      },
      "outputs": [],
      "source": [
        "print ('Qtde de colunas após mesclagem:', df.shape)"
      ]
    },
    {
      "cell_type": "code",
      "execution_count": null,
      "metadata": {},
      "outputs": [],
      "source": [
        "df.columns"
      ]
    },
    {
      "cell_type": "code",
      "execution_count": null,
      "metadata": {},
      "outputs": [],
      "source": [
        "# validando a transformação\n",
        "# exemplo: filme: [Dracula: Dead and Loving It] => paises: ['France','United States of America'] -> id: 11\n",
        "# exemplo: filme: [GoldenEye] => paises ['United Kingdom', 'United States of America']-> id => 9\n",
        "\n",
        "\n",
        "df[['United States of America','United Kingdom','France','Japan','Italy','Canada','Germany','Russia','India', 'Canada']][(df.titulo == 'Dracula: Dead and Loving It') | (df.titulo == 'GoldenEye')]"
      ]
    },
    {
      "cell_type": "code",
      "execution_count": null,
      "metadata": {},
      "outputs": [],
      "source": [
        "# a coluna index será excluída\n",
        "df.drop(['index'],axis = 1, inplace = True)"
      ]
    },
    {
      "cell_type": "code",
      "execution_count": null,
      "metadata": {
        "tags": []
      },
      "outputs": [],
      "source": [
        "'''\n",
        "# contabilizando a qtde de registros true de cada pais de gravação\n",
        "lista_pais = df_novo_pais_producao.columns\n",
        "print (lista_pais)\n",
        "tam = len(lista_pais)\n",
        "print (\"total de pais\", tam)\n",
        "x = 0\n",
        "lista_totais = [] # lista para armazenar os valores totais de cada genero\n",
        "#print (type (lista_totais))\n",
        "\n",
        "while x < tam:\n",
        "    pais = lista_pais[x]\n",
        "    total_pais = sum(df_novo_pais_producao[pais] == True)    \n",
        "    print ('pais: ', pais, '|',total_pais)\n",
        "    x += 1\n",
        "    lista_totais.append (total_pais)\n",
        "\n",
        "lista_pais_producao = list(zip(lista_totais,lista_pais))\n",
        "\n",
        "del(lista_pais_producao[0]) # excluindo o valor index\n",
        "\n",
        "print (lista_pais_producao)\n",
        "'''"
      ]
    },
    {
      "cell_type": "code",
      "execution_count": null,
      "metadata": {},
      "outputs": [],
      "source": [
        "'''\n",
        "# ordenando e revertendo a ordenação\n",
        "lista_pais_producao.sort(reverse=True)\n",
        "\n",
        "# obtendo os 10 mais frequentes países\n",
        "lista_pais_producao[0:10]\n",
        "'''"
      ]
    },
    {
      "cell_type": "code",
      "execution_count": null,
      "metadata": {},
      "outputs": [],
      "source": [
        "'''\n",
        "#plotando os 10 mais frequentes paises de gravação\n",
        "x = [v[1] for v in lista_pais_producao[0:10]]\n",
        "y = [v[0] for v in lista_pais_producao[0:10]]\n",
        "\n",
        "plt.bar(x, y)\n",
        "\n",
        "plt.rcParams['figure.figsize'] = [15, 5]\n",
        "plt.ylim(0, 25000)\n",
        "\n",
        "plt.xticks(rotation=75)\n",
        "\n",
        "plt.xlabel(\"País de gravação\")\n",
        "plt.ylabel(\"Total\")\n",
        "plt.title(\"Total por país onde os filmes foram gravados\")\n",
        "\n",
        "plt.show()\n",
        "'''"
      ]
    },
    {
      "cell_type": "markdown",
      "metadata": {},
      "source": [
        "## FEATURE DATA DE LANÇAMENTO"
      ]
    },
    {
      "cell_type": "code",
      "execution_count": null,
      "metadata": {},
      "outputs": [],
      "source": [
        "df.data_lancamento.head(3)"
      ]
    },
    {
      "cell_type": "code",
      "execution_count": null,
      "metadata": {},
      "outputs": [],
      "source": [
        "df.data_lancamento.describe()"
      ]
    },
    {
      "cell_type": "code",
      "execution_count": null,
      "metadata": {
        "tags": []
      },
      "outputs": [],
      "source": [
        "# Separa o ano da data de lançamento e salvar numa nova featue\n",
        "data = df['data_lancamento'].astype(str) # se o resultado for uma lista das datas do banco\n",
        "print (data)\n",
        "ano = [a.split('-')[0] for a in data]\n",
        "df['ano_lancamento'] = ano\n",
        "\n",
        "# validando a transformação\n",
        "df[['data_lancamento','ano_lancamento']].head(2)"
      ]
    },
    {
      "cell_type": "code",
      "execution_count": null,
      "metadata": {},
      "outputs": [],
      "source": [
        "df.ano_lancamento.unique()"
      ]
    },
    {
      "cell_type": "code",
      "execution_count": null,
      "metadata": {},
      "outputs": [],
      "source": [
        "# obtendo o valor mais frequente (a moda não funcionou)\n",
        "df.ano_lancamento.value_counts(ascending = False)"
      ]
    },
    {
      "cell_type": "code",
      "execution_count": null,
      "metadata": {},
      "outputs": [],
      "source": [
        "# exclusão do registro 45425 que não possui data e não consegui atualizar o valor\n",
        "df.drop(45425, inplace=True, axis=0)"
      ]
    },
    {
      "cell_type": "code",
      "execution_count": null,
      "metadata": {},
      "outputs": [],
      "source": [
        "# validando a exclusao\n",
        "df.ano_lancamento.unique()"
      ]
    },
    {
      "cell_type": "code",
      "execution_count": null,
      "metadata": {},
      "outputs": [],
      "source": [
        "ano_lancamento = df.groupby(by='ano_lancamento').size().sort_values(ascending = False).head(10)\n",
        "ano_lancamento"
      ]
    },
    {
      "cell_type": "code",
      "execution_count": null,
      "metadata": {},
      "outputs": [],
      "source": [
        "# visualizando os 10 anos mais frequentes\n",
        "ano_lancamento.plot.bar(color = 'gray')\n",
        "\n",
        "plt.rcParams['figure.figsize'] = [15, 5]\n",
        "plt.ylim(0, 2100)\n",
        "\n",
        "plt.xticks(rotation=0)\n",
        "\n",
        "plt.ylabel('Qtde')\n",
        "plt.xlabel('Ano de lançamentos')\n",
        "plt.title('Os 10 anos de lançamento mais frequentes')"
      ]
    },
    {
      "cell_type": "code",
      "execution_count": null,
      "metadata": {},
      "outputs": [],
      "source": [
        "## FEATURE RECEITA"
      ]
    },
    {
      "cell_type": "code",
      "execution_count": null,
      "metadata": {
        "tags": []
      },
      "outputs": [],
      "source": [
        "df.receita.head(3)"
      ]
    },
    {
      "cell_type": "code",
      "execution_count": null,
      "metadata": {},
      "outputs": [],
      "source": [
        "df.receita.describe()"
      ]
    },
    {
      "cell_type": "code",
      "execution_count": null,
      "metadata": {},
      "outputs": [],
      "source": [
        "# qtde de registros únicos de receita\n",
        "len(df.receita.unique())"
      ]
    },
    {
      "cell_type": "markdown",
      "metadata": {},
      "source": [
        "Conforme observado, 75% dos filmes não possui valor de receita, portanto, a feature não será utilizada na análise/predição"
      ]
    },
    {
      "cell_type": "code",
      "execution_count": null,
      "metadata": {},
      "outputs": [],
      "source": [
        "#Deletando\n",
        "df.drop('receita', axis=1, inplace = True)"
      ]
    },
    {
      "cell_type": "markdown",
      "metadata": {},
      "source": [
        "## FEATURE DURACAO"
      ]
    },
    {
      "cell_type": "code",
      "execution_count": null,
      "metadata": {},
      "outputs": [],
      "source": [
        "df.duracao.head(3)\n"
      ]
    },
    {
      "cell_type": "code",
      "execution_count": null,
      "metadata": {},
      "outputs": [],
      "source": [
        "df.duracao.describe()"
      ]
    },
    {
      "cell_type": "code",
      "execution_count": null,
      "metadata": {},
      "outputs": [],
      "source": [
        "# qtde de registros únicos\n",
        "len(df.duracao.unique())"
      ]
    },
    {
      "cell_type": "code",
      "execution_count": null,
      "metadata": {},
      "outputs": [],
      "source": [
        "# As 10 duração mais frequentes\n",
        "df.groupby(by='duracao').size().sort_values(ascending = False).head(10)"
      ]
    },
    {
      "cell_type": "code",
      "execution_count": null,
      "metadata": {},
      "outputs": [],
      "source": [
        "# média\n",
        "df['duracao'].mean().round(0)"
      ]
    },
    {
      "cell_type": "code",
      "execution_count": null,
      "metadata": {},
      "outputs": [],
      "source": [
        "# muitos registros possuem duração zero. Estes casos serão substituidos pela média\n",
        "df.duracao= df.duracao.replace(0,df['duracao'].mean().round(0))"
      ]
    },
    {
      "cell_type": "code",
      "execution_count": null,
      "metadata": {},
      "outputs": [],
      "source": [
        "# verificando o impacto da atualização dos valores zerados de duração\n",
        "df.groupby(by='duracao').size().sort_values(ascending = False).head(10)"
      ]
    },
    {
      "cell_type": "code",
      "execution_count": null,
      "metadata": {},
      "outputs": [],
      "source": [
        "df.groupby(by='duracao').size().sort_values(ascending = False).head(10).plot.bar()\n",
        "\n",
        "plt.grid(True)\n",
        "plt.rcParams['figure.figsize'] = [15, 10]\n",
        "\n",
        "plt.xticks(rotation=0)\n",
        "\n",
        "plt.ylabel('Qtde')\n",
        "plt.xlabel('Duração')\n",
        "plt.title('Duração mais frequentes')"
      ]
    },
    {
      "cell_type": "markdown",
      "metadata": {},
      "source": [
        "## FEATURE IDIOMAS FALADOS (TRADUÇÕES)"
      ]
    },
    {
      "cell_type": "code",
      "execution_count": null,
      "metadata": {},
      "outputs": [],
      "source": [
        "df.idiomas_falados.head(3)"
      ]
    },
    {
      "cell_type": "code",
      "execution_count": null,
      "metadata": {},
      "outputs": [],
      "source": [
        "df.idiomas_falados.describe()"
      ]
    },
    {
      "cell_type": "code",
      "execution_count": null,
      "metadata": {},
      "outputs": [],
      "source": [
        "df.idiomas_falados.isnull().sum()"
      ]
    },
    {
      "cell_type": "code",
      "execution_count": null,
      "metadata": {},
      "outputs": [],
      "source": [
        "# identificando os registros nulos\n",
        "df[df.idiomas_falados.isnull()]"
      ]
    },
    {
      "cell_type": "code",
      "execution_count": null,
      "metadata": {},
      "outputs": [],
      "source": [
        "# Deletando os registro\n",
        "df.drop(19721, inplace=True, axis=0)\n",
        "df.drop(29481, inplace=True, axis=0)\n",
        "df.drop(35561, inplace=True, axis=0)"
      ]
    },
    {
      "cell_type": "code",
      "execution_count": null,
      "metadata": {},
      "outputs": [],
      "source": [
        "# validando a exclusao dos registros nulos\n",
        "df[df.idiomas_falados.isnull()]"
      ]
    },
    {
      "cell_type": "code",
      "execution_count": null,
      "metadata": {},
      "outputs": [],
      "source": [
        "'''\n",
        "# Função para transformar dicionario em uma lista de pais\n",
        "df['idiomas_falados'] = df['idiomas_falados'].apply(literal_eval) # verifica se todos os dados são do mesmo tipo\n",
        "def get_list(x):   \n",
        "    if isinstance(x, list):\n",
        "        names = [i['name'] for i in x]\n",
        "        #print ('names antes if len(names) > 1', names)\n",
        "        tam = len(names)\n",
        "        x = []\n",
        "        if (tam > 1):\n",
        "            t = 0\n",
        "            #print ('entrei if')\n",
        "            while t < tam:                \n",
        "                y = names[t]\n",
        "                #print ('y', y)\n",
        "                x.append(y)\n",
        "                #print ('x', x)\n",
        "                x.sort()\n",
        "                #print ('x ordenado', x)\n",
        "                t = t + 1\n",
        "        if (tam == 1):            \n",
        "            x.append(names[0])\n",
        "            #print ('Unico genero', x)\n",
        "        if (tam == 0):\n",
        "            x.append('English') # valor calculado através da moda\n",
        "        return x\n",
        "        #print ('lista ordenada',x)\n",
        "    return []\n",
        "df['idiomas_falados_ordenados'] = df['idiomas_falados'].apply(get_list) #O retorno será uma lista com todos os gêneros.\n",
        "\n",
        "# VALIDANDO TRANSFORMAÇÃO\n",
        "df[[\"idiomas_falados_ordenados\", \"idiomas_falados\", \"titulo_original\"]].head(3)\n",
        "'''"
      ]
    },
    {
      "cell_type": "code",
      "execution_count": null,
      "metadata": {},
      "outputs": [],
      "source": [
        "# resetando os índices\n",
        "'''df = df.reset_index()'''"
      ]
    },
    {
      "cell_type": "code",
      "execution_count": null,
      "metadata": {
        "tags": []
      },
      "outputs": [],
      "source": [
        "# Função para transformar dicionario em uma lista de pais\n",
        "#                elif cada_idioma_registo == '??????': # equivale a sigla ky = 'Quirguiz, Kyrgyz'\n",
        "#                elif cada_idioma_registo == '?????': # equivale a sigla 'kn' = 'Canarês'      \n",
        "# Recupera os dados da feature e salva numa nova coluna\n",
        "from ast import literal_eval\n",
        "df['idiomas_falados'] = df['idiomas_falados'].apply(literal_eval) \n",
        "def get_list(x):\n",
        "    if isinstance(x, list):\n",
        "        names = [i['name'] for i in x]\n",
        "        valores = []\n",
        "        if len(names) > 0:\n",
        "            names = names[:3]    \n",
        "        return names\n",
        "    return []\n",
        "#df['novo_idiomas_falados'] = df['idiomas_falados'].apply(get_list) \n",
        "df['idiomas_falados_ordenados'] = df['idiomas_falados'].apply(get_list) \n",
        "\n",
        "# VALIDANDO TRANSFORMAÇÃO\n",
        "df[[\"idiomas_falados_ordenados\", \"idiomas_falados\", \"titulo_original\"]].head(3)  "
      ]
    },
    {
      "cell_type": "code",
      "execution_count": null,
      "metadata": {},
      "outputs": [],
      "source": [
        "# registros vazios: 83,107,126, 137)\n",
        "df[[\"idiomas_falados_ordenados\", \"idiomas_falados\", \"titulo_original\"]][120:140]"
      ]
    },
    {
      "cell_type": "code",
      "execution_count": null,
      "metadata": {},
      "outputs": [],
      "source": [
        "df.idiomas_falados_ordenados.value_counts()"
      ]
    },
    {
      "cell_type": "code",
      "execution_count": null,
      "metadata": {
        "tags": []
      },
      "outputs": [],
      "source": [
        "'''\n",
        "# atualizando os registros zerados\n",
        "total_registros = len(df)\n",
        "print ('total de registros', total_registros)\n",
        "t = z = 0 \n",
        "while t < total_registros:\n",
        "    if (len(df['idiomas_falados_ordenados'][t]) == 0):\n",
        "        df['idiomas_falados_ordenados'][t].append(df.lingua_original[t])\n",
        "        z = z + 1\n",
        "    t = t + 1\n",
        "print (\"total de registros atualizados\", z)\n",
        "'''"
      ]
    },
    {
      "cell_type": "markdown",
      "metadata": {},
      "source": [
        "# conversar problema de registros zerados"
      ]
    },
    {
      "cell_type": "code",
      "execution_count": null,
      "metadata": {
        "tags": []
      },
      "outputs": [],
      "source": [
        "'''\n",
        "# substituindo o registros zerado\n",
        "i = 0\n",
        "idioma_zerados = []\n",
        "novo_idioma = []\n",
        "novo_idioma.append(df.idiomas_falados_ordenados[0].copy())\n",
        "for index, row in df.iterrows():\n",
        "    if len(row['idiomas_falados_ordenados']) == 0:\n",
        "        idioma_zerados.append(row['id'])\n",
        "        df.ix[df.id==row['id'], ['idiomas_falados_ordenados']] = novo_idioma\n",
        "        i = i + 1\n",
        "print (\"total de registros atualizados = \", i)\n",
        "'''"
      ]
    },
    {
      "cell_type": "markdown",
      "metadata": {},
      "source": [
        "# fim do conversar sobre problema de registros zerados"
      ]
    },
    {
      "cell_type": "code",
      "execution_count": null,
      "metadata": {},
      "outputs": [],
      "source": [
        "# Validando se os registros zerados foram atualizados\n",
        "idiomas = df['idiomas_falados_ordenados'].value_counts().head(10)\n",
        "idiomas"
      ]
    },
    {
      "cell_type": "code",
      "execution_count": null,
      "metadata": {
        "tags": []
      },
      "outputs": [],
      "source": [
        "idiomas.plot.bar(color='orange')\n",
        "\n",
        "plt.xticks(rotation=75)\n",
        "plt.xlabel(\"Lista de idiomas/traduções\")\n",
        "plt.ylabel(\"Total\")\n",
        "plt.title(\"Os 10 idiomas mais frequentes\")"
      ]
    },
    {
      "cell_type": "code",
      "execution_count": null,
      "metadata": {},
      "outputs": [],
      "source": [
        "# resetando os índices\n",
        "df = df.reset_index()"
      ]
    },
    {
      "cell_type": "code",
      "execution_count": null,
      "metadata": {
        "tags": []
      },
      "outputs": [],
      "source": [
        "# Criar uma lista que contenha somente valores únicos de linguas, para idêntificá-los e contabilizá-los\n",
        "# # existem registros com valores '??????' e '?????' (Turkic), estes NÃO ESTÃO SENDO TRATADOS ????????????????????????????????????????????????????????????????????????????????????????????????????? \n",
        "# https://en.wikipedia.org/wiki/List_of_ISO_639-1_codes\n",
        "\n",
        "todos_registros = len(df.idiomas_falados_ordenados)        \n",
        "idiomas_falados_unicos = [] # lista onde será incluídos os linguas únicos\n",
        "x = 0 \n",
        "print ('total de registros do dataset: ', todos_registros)\n",
        "while (x < todos_registros): # enquanto tiver registros no dataset\n",
        "    #print (\"x:\", x)\n",
        "    idiomas = df.idiomas_falados_ordenados[x]\n",
        "    tam_idiomas = len(idiomas)\n",
        "    i = z = b = 0\n",
        "    while (i < tam_idiomas): # enquanto o registro tiver linguas\n",
        "        cada_idioma_registo = df.idiomas_falados_ordenados[x][i]\n",
        "        if (not cada_idioma_registo in idiomas_falados_unicos): # verifica se a lingua está na lista\n",
        "            if (cada_idioma_registo != '??????') and (cada_idioma_registo != '?????'):               \n",
        "                idiomas_falados_unicos.append(cada_idioma_registo) # inclui na lista de linguas unicas\n",
        "            z +=1\n",
        "        i += 1        \n",
        "    x += 1\n",
        "\n",
        "print (\"idiomas_falados_unicos: \", len(idiomas_falados_unicos))\n",
        "print (idiomas_falados_unicos)"
      ]
    },
    {
      "cell_type": "code",
      "execution_count": null,
      "metadata": {},
      "outputs": [],
      "source": [
        "# transformar as opções possíveis de pais de gravação em features com conteúdo true ou false \n",
        "idiomas_falados_x = te.fit(df['idiomas_falados_ordenados']).transform(df['idiomas_falados_ordenados'])\n",
        "df_novo_idiomas_falados = pd.DataFrame(idiomas_falados_x, columns=te.columns_)\n",
        "\n",
        "# resetando os índices\n",
        "df_novo_idiomas_falados = df_novo_idiomas_falados.reset_index()"
      ]
    },
    {
      "cell_type": "code",
      "execution_count": null,
      "metadata": {},
      "outputs": [],
      "source": [
        "df_novo_idiomas_falados.head(3)"
      ]
    },
    {
      "cell_type": "code",
      "execution_count": null,
      "metadata": {},
      "outputs": [],
      "source": [
        "df_novo_idiomas_falados['?????'].value_counts()"
      ]
    },
    {
      "cell_type": "code",
      "execution_count": null,
      "metadata": {},
      "outputs": [],
      "source": [
        "df_novo_idiomas_falados['??????'].value_counts()"
      ]
    },
    {
      "cell_type": "code",
      "execution_count": null,
      "metadata": {},
      "outputs": [],
      "source": [
        "# Selecionando somente os 10 idiomas mais frequentes\n",
        "df.idiomas_falados_ordenados.value_counts().head(10)"
      ]
    },
    {
      "cell_type": "code",
      "execution_count": null,
      "metadata": {},
      "outputs": [],
      "source": [
        "# Mesclado os dois dataframes\n",
        "horizontal_stack = pd.concat([df, df['idiomas_falados_ordenados']], axis=1)\n",
        "\n",
        "# copiando o conteúdo do novo dataframe para o filme utilizado\n",
        "df = horizontal_stack.copy()"
      ]
    },
    {
      "cell_type": "code",
      "execution_count": null,
      "metadata": {},
      "outputs": [],
      "source": [
        "# a coluna index será excluída\n",
        "dataset.drop(['index'],axis = 1, inplace = True)\n",
        "df_novo_idiomas_falados.drop(['index'],axis = 1, inplace = True)"
      ]
    },
    {
      "cell_type": "code",
      "execution_count": null,
      "metadata": {
        "tags": []
      },
      "outputs": [],
      "source": [
        "# contabilizando a qtde de registros true de cada pais de gravação\n",
        "lista_idiomas = df_novo_idiomas_falados.columns\n",
        "print (lista_idiomas)\n",
        "tam = len(lista_idiomas)\n",
        "print (\"total de idiomas\", tam)\n",
        "x = 0\n",
        "lista_totais = [] # lista para armazenar os valores totais de cada idioma\n",
        "#print (type (lista_totais))\n",
        "\n",
        "while x < tam:\n",
        "    idiomas = lista_idiomas[x]\n",
        "    total_idiomas = sum(df_novo_idiomas_falados[idiomas] == True)    \n",
        "    print ('idiomas: ', idiomas, '|',total_idiomas)\n",
        "    x += 1\n",
        "    lista_totais.append (total_idiomas)\n",
        "\n",
        "lista_total_idiomas_producao = list(zip(lista_totais,lista_idiomas))\n",
        "\n",
        "del(lista_total_idiomas_producao[0]) # excluindo o valor index\n",
        "\n",
        "print (lista_total_idiomas_producao)"
      ]
    },
    {
      "cell_type": "code",
      "execution_count": null,
      "metadata": {},
      "outputs": [],
      "source": [
        "# Deletrando os registros com valor '?????' e '??????'\n",
        "del(lista_total_idiomas_producao[0:2])\n",
        "\n",
        "# validando a exclusão\n",
        "lista_total_idiomas_producao"
      ]
    },
    {
      "cell_type": "code",
      "execution_count": null,
      "metadata": {},
      "outputs": [],
      "source": [
        "# ordenando e revertendo a ordenação\n",
        "lista_total_idiomas_producao.sort(reverse=True)\n",
        "\n",
        "# obtendo os 10 mais frequentes países\n",
        "lista_total_idiomas_producao[0:10]"
      ]
    },
    {
      "cell_type": "code",
      "execution_count": null,
      "metadata": {},
      "outputs": [],
      "source": [
        "#plotando os 10 mais frequentes paises de gravação\n",
        "x = [v[1] for v in lista_total_idiomas_producao[0:10]]\n",
        "y = [v[0] for v in lista_total_idiomas_producao[0:10]]\n",
        "\n",
        "plt.bar(x, y)\n",
        "\n",
        "plt.rcParams['figure.figsize'] = [15, 5]\n",
        "plt.ylim(0, 30000)\n",
        "\n",
        "plt.xticks(rotation=75)\n",
        "\n",
        "plt.xlabel(\"Idiomas\")\n",
        "plt.ylabel(\"Total\")\n",
        "plt.title(\"Total de idiomas disponíveis no filmes\")\n",
        "\n",
        "plt.show()"
      ]
    },
    {
      "cell_type": "markdown",
      "metadata": {
        "id": "34xuqUqUzkYk",
        "colab_type": "text"
      },
      "source": [
        "### 4) **(30%)** Análise\n",
        "\n",
        "Com seu dado pronto, é hora de fazer a parte mais legal: investigar e responder nossas hipoteses. Elas se confirmam? Em quais cenários? Existe alguma forma de perceber isso no mundo real? Dica: Abuse das técnicas de visualização.\n",
        "\n",
        "Ex: Ainda no contexto dos exemplos do item 2). Ao investigar a hipotese relacionada ao padrão de compra, percebi que em todos os meses existia uma diferença entre dia util e final de semana. Porém notei que Fevereiro possui um comportamento diferente, o que poderia explicar? Talvez o carnaval e seus feriados.\n",
        "\n",
        "Ex2: Talvez eu descubra que alguns finais de semana possuam um comportamento diferente dos dias de semana e outros não. Por que não são todos? Nessa investigação você pode acabar descobrindo que os finais de semana que são diferentes, coincidem no fato de serem os primeiros dias utéis, o que pode remeter ao fato de boa parte das empresas realizarem pagamentos nessa parte do mês."
      ]
    },
    {
      "cell_type": "markdown",
      "metadata": {},
      "source": [
        "Questionamentos a serem investigados:\n",
        "\n",
        "1 - As maiores média de votos está relacionada a algum genero específico?\n",
        "\n",
        "2 - As maiores média de votos está relacionada a algum idioma original?\n",
        "\n",
        "3 - As maiores média de votos está relacionada a algum cia de produção?"
      ]
    },
    {
      "cell_type": "markdown",
      "metadata": {
        "colab": {},
        "colab_type": "code",
        "id": "MnsbqwaUzkYn"
      },
      "source": [
        "## Hipótese 1 - As maiores média de votos está relacionada a algum genero específico?"
      ]
    },
    {
      "cell_type": "markdown",
      "metadata": {},
      "source": [
        "## Hipótese 2 - As maiores média de votos está relacionada a algum idioma original?"
      ]
    },
    {
      "cell_type": "markdown",
      "metadata": {},
      "source": [
        "## Hipótese 3 - As maiores média de votos está relacionada a algum cia de produção?"
      ]
    },
    {
      "cell_type": "markdown",
      "metadata": {
        "id": "EdSyCHTnzkZi",
        "colab_type": "text"
      },
      "source": [
        "### 5) Modelagem 30%\n",
        "\n",
        "Agora você terá mais uma oportunidade de mostrar o que você aprendeu durante o módulo 2 quanto a modelagem de dados e criação de modelos. Utilizando os dados preparados na seção 1 e após a análise feita na seção 2 você deverá:\n",
        "1. **Defina um problema de regressão ou classificação que envolva uma variável dos seus dados.**"
      ]
    },
    {
      "cell_type": "markdown",
      "metadata": {
        "id": "Oc1UUQOgzkZj",
        "colab_type": "text"
      },
      "source": [
        "***---> Comente brevemente sua decisão aqui.***"
      ]
    },
    {
      "cell_type": "markdown",
      "metadata": {
        "id": "_rMt4KkrzkZl",
        "colab_type": "text"
      },
      "source": [
        "2. **Realize ao menos 2 técnicas de processamento e seleção de features.**\n",
        "    * Isto inclui, normalização, PCA, e técnicas de seleção de features como information gain. Seja criativo pois está parte é crucial para seu modelo. Você pode escolhar manualmente as features desde que seja justificada na seção 2 (parte de Análise).\n"
      ]
    },
    {
      "cell_type": "code",
      "metadata": {
        "id": "7GjQILRFzkZn",
        "colab_type": "code",
        "colab": {}
      },
      "source": [
        ""
      ],
      "execution_count": null,
      "outputs": []
    },
    {
      "cell_type": "markdown",
      "metadata": {},
      "source": [
        "### DISCRETIZAÇÃO DA FEATURE DURACAO"
      ]
    },
    {
      "cell_type": "markdown",
      "metadata": {},
      "source": [
        "### DISCRETIZAÇÃO DA FEATURE DATA_LANCAMENTO"
      ]
    },
    {
      "cell_type": "markdown",
      "metadata": {},
      "source": [
        "### DISCRETIZAÇÃO DA FEATURE STATUS"
      ]
    },
    {
      "cell_type": "markdown",
      "metadata": {},
      "source": [
        "### FAZER A CORRELAÇÃO DAS FEATURES A SEREM TRABALHADAS"
      ]
    },
    {
      "cell_type": "markdown",
      "metadata": {},
      "source": [
        "### FAZER A NORMALIZAÇÃO DOS DADOS"
      ]
    },
    {
      "cell_type": "markdown",
      "metadata": {},
      "source": [
        "### APLICAR O PCA"
      ]
    },
    {
      "cell_type": "markdown",
      "metadata": {
        "id": "o_il81uyzkZ2",
        "colab_type": "text"
      },
      "source": [
        "3. **Defina uma métrica para avaliar o seu modelo.**\n",
        "    * Por exemplo, você pode utilizar MAE (Mean Absolute Error) para um problema de regressão. Ou, F1-Score para um problema de classificação. Há varias métricas, então escolha sabiamente.\n"
      ]
    },
    {
      "cell_type": "markdown",
      "metadata": {
        "id": "aYZyaLy_zkZ4",
        "colab_type": "text"
      },
      "source": [
        "***---> Comente brevemente sua decisão aqui.***"
      ]
    },
    {
      "cell_type": "markdown",
      "metadata": {
        "id": "SP4p63QEzkZ5",
        "colab_type": "text"
      },
      "source": [
        "4. **Divida seus dados em 2 conjuntos. Um de treino e outro conjunto de teste.**\n",
        "    * Treine e otimize seu modelo no conjunto de treino e apenas use o conjunto de teste para apresentar os resultados finais.\n"
      ]
    },
    {
      "cell_type": "code",
      "metadata": {
        "id": "DPxkTwo_zkZ7",
        "colab_type": "code",
        "colab": {}
      },
      "source": [
        ""
      ],
      "execution_count": null,
      "outputs": []
    },
    {
      "cell_type": "markdown",
      "metadata": {
        "id": "0GOGZ0KOzkaF",
        "colab_type": "text"
      },
      "source": [
        "5. **Treine um ou mais modelos de ML para o seu problema.**\n",
        "    * Escolha 1 ou mais tipos de classificadores ou regressores dependendo do seu problema.\n",
        "    * Por exemplo, TreeClassifier para um problema de classificação. \n",
        "    * Use cross-validation e outras técnicas como GridSearch e ou RandomizedSearch para encontrar os melhores parametros para o seu modelo.\n"
      ]
    },
    {
      "cell_type": "code",
      "metadata": {
        "id": "L2jaNcFnzkaJ",
        "colab_type": "code",
        "colab": {}
      },
      "source": [
        ""
      ],
      "execution_count": null,
      "outputs": []
    },
    {
      "cell_type": "markdown",
      "metadata": {
        "id": "TExXJPSgzkb3",
        "colab_type": "text"
      },
      "source": [
        "6. **Apresente (com visualizações) os resultados do seu modelo mostrando que ele é melhor do que um baseline não aleatório.**\n",
        "    * Para o baseline, você pode escolher um modelo bem trivial mas não aleatório. Por exemplo, para um problema de classificação um baseline pode ser a classe mais presente caso o conjunto de dados seja desbalanceado.  Um modelo mais simples também pode ser utilizado como baseline, por exemplo, você escolheu um Random Forest Classifier, e comparou os resultados um Logistic Regression. Você pode até mesmo escolher um modelo de AutoML(como TPOT) como Baseline."
      ]
    },
    {
      "cell_type": "code",
      "metadata": {
        "id": "h4Rzjgauzkb8",
        "colab_type": "code",
        "colab": {}
      },
      "source": [
        ""
      ],
      "execution_count": null,
      "outputs": []
    },
    {
      "cell_type": "markdown",
      "metadata": {
        "id": "g5qMrhL-zkcL",
        "colab_type": "text"
      },
      "source": [
        "### 6) Conclusões **10%**"
      ]
    },
    {
      "cell_type": "markdown",
      "metadata": {
        "id": "BIA2bbNUzkcO",
        "colab_type": "text"
      },
      "source": [
        "*Partindo das suas hipoteses e investigações, o que você consegue concluir? Suas hipoteses se concretizaram?*"
      ]
    },
    {
      "cell_type": "markdown",
      "metadata": {
        "id": "CBW0AptvzkcS",
        "colab_type": "text"
      },
      "source": [
        ""
      ]
    }
  ]
}