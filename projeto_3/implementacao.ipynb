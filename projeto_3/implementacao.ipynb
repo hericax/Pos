{
 "cells": [
  {
   "cell_type": "code",
   "execution_count": 1,
   "metadata": {},
   "outputs": [],
   "source": [
    "import pandas as pd"
   ]
  },
  {
   "cell_type": "code",
   "execution_count": null,
   "metadata": {},
   "outputs": [],
   "source": [
    "# dataset expectativa de vida\n",
    "expectativo_vida = pd.read_csv(r'C:\\Users\\Herica\\Desktop\\Herica\\cursoIACD\\GitHub\\Pos\\projeto_3\\expectativa_vida\\Life_Expectancy_Data.csv', encoding='windows-1252', sep=',')"
   ]
  },
  {
   "cell_type": "code",
   "execution_count": null,
   "metadata": {},
   "outputs": [],
   "source": [
    "expectativo_vida.describe()"
   ]
  },
  {
   "cell_type": "code",
   "execution_count": 2,
   "metadata": {},
   "outputs": [],
   "source": [
    "# FILMES\n",
    "filmes = pd.read_csv('C:/Users/Herica/Desktop/Herica/cursoIACD/GitHub/Pos/projeto_3/filmes/movies_metadata.csv')"
   ]
  },
  {
   "cell_type": "code",
   "execution_count": 3,
   "metadata": {},
   "outputs": [
    {
     "output_type": "execute_result",
     "data": {
      "text/plain": "            revenue       runtime  vote_average    vote_count\ncount  4.546000e+04  45203.000000  45460.000000  45460.000000\nmean   1.120935e+07     94.128199      5.618207    109.897338\nstd    6.433225e+07     38.407810      1.924216    491.310374\nmin    0.000000e+00      0.000000      0.000000      0.000000\n25%    0.000000e+00     85.000000      5.000000      3.000000\n50%    0.000000e+00     95.000000      6.000000     10.000000\n75%    0.000000e+00    107.000000      6.800000     34.000000\nmax    2.787965e+09   1256.000000     10.000000  14075.000000",
      "text/html": "<div>\n<style scoped>\n    .dataframe tbody tr th:only-of-type {\n        vertical-align: middle;\n    }\n\n    .dataframe tbody tr th {\n        vertical-align: top;\n    }\n\n    .dataframe thead th {\n        text-align: right;\n    }\n</style>\n<table border=\"1\" class=\"dataframe\">\n  <thead>\n    <tr style=\"text-align: right;\">\n      <th></th>\n      <th>revenue</th>\n      <th>runtime</th>\n      <th>vote_average</th>\n      <th>vote_count</th>\n    </tr>\n  </thead>\n  <tbody>\n    <tr>\n      <th>count</th>\n      <td>4.546000e+04</td>\n      <td>45203.000000</td>\n      <td>45460.000000</td>\n      <td>45460.000000</td>\n    </tr>\n    <tr>\n      <th>mean</th>\n      <td>1.120935e+07</td>\n      <td>94.128199</td>\n      <td>5.618207</td>\n      <td>109.897338</td>\n    </tr>\n    <tr>\n      <th>std</th>\n      <td>6.433225e+07</td>\n      <td>38.407810</td>\n      <td>1.924216</td>\n      <td>491.310374</td>\n    </tr>\n    <tr>\n      <th>min</th>\n      <td>0.000000e+00</td>\n      <td>0.000000</td>\n      <td>0.000000</td>\n      <td>0.000000</td>\n    </tr>\n    <tr>\n      <th>25%</th>\n      <td>0.000000e+00</td>\n      <td>85.000000</td>\n      <td>5.000000</td>\n      <td>3.000000</td>\n    </tr>\n    <tr>\n      <th>50%</th>\n      <td>0.000000e+00</td>\n      <td>95.000000</td>\n      <td>6.000000</td>\n      <td>10.000000</td>\n    </tr>\n    <tr>\n      <th>75%</th>\n      <td>0.000000e+00</td>\n      <td>107.000000</td>\n      <td>6.800000</td>\n      <td>34.000000</td>\n    </tr>\n    <tr>\n      <th>max</th>\n      <td>2.787965e+09</td>\n      <td>1256.000000</td>\n      <td>10.000000</td>\n      <td>14075.000000</td>\n    </tr>\n  </tbody>\n</table>\n</div>"
     },
     "metadata": {},
     "execution_count": 3
    }
   ],
   "source": [
    "filmes.describe()"
   ]
  },
  {
   "cell_type": "code",
   "execution_count": null,
   "metadata": {},
   "outputs": [],
   "source": [
    "#\n",
    "liberdade_humana = pd.read_csv(r'C:\\Users\\Herica\\Desktop\\Herica\\cursoIACD\\GitHub\\Pos\\projeto_3\\Liberdade_Humana\\hfi_cc_2019.csv')"
   ]
  },
  {
   "cell_type": "code",
   "execution_count": null,
   "metadata": {},
   "outputs": [],
   "source": [
    "liberdade_humana.describe()"
   ]
  }
 ],
 "metadata": {
  "language_info": {
   "codemirror_mode": {
    "name": "ipython",
    "version": 3
   },
   "file_extension": ".py",
   "mimetype": "text/x-python",
   "name": "python",
   "nbconvert_exporter": "python",
   "pygments_lexer": "ipython3",
   "version": "3.7.0-final"
  },
  "orig_nbformat": 2,
  "kernelspec": {
   "name": "python37064bitc01724e9609b4d719b1530c185cd833e",
   "display_name": "Python 3.7.0 64-bit"
  }
 },
 "nbformat": 4,
 "nbformat_minor": 2
}