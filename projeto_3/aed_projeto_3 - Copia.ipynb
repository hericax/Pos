{
 "cells": [
  {
   "cell_type": "markdown",
   "metadata": {},
   "source": [
    "# Projeto #3 - Meu primeiro projeto de IA\n",
    "\n",
    "Antes de começar, leia as [Instruções](https://github.com/thvmm/pos-ds-ia/blob/master/projeto_3/README.md) e os [Critérios de Avaliação](https://github.com/thvmm/pos-ds-ia/blob/master/projeto_3/README.md).\n"
   ]
  },
  {
   "cell_type": "markdown",
   "metadata": {},
   "source": [
    "### 1) **(5%)** Qual a base escolhida e qual seu interesse nela (podem ser mais de uma)? Descrição básica do conjunto de dados escolhido pelo aluno (1 parágrafo)."
   ]
  },
  {
   "cell_type": "markdown",
   "metadata": {},
   "source": [
    "*Indique o link da base no Kaggle e explique em um parágrafo curto por que essa base é interessante para você. Quais são as características básicas da base?*\n",
    "\n",
    "Ex: Estou trabalhando com o histório de vendas de um varejo e uma outra base do mesmo varejista das suas campanhas de marketing realizadas em veiculos de comunicação."
   ]
  },
  {
   "cell_type": "code",
   "execution_count": null,
   "metadata": {},
   "outputs": [],
   "source": [
    "A base escolhida é de filmes - https://www.kaggle.com/rounakbanik/the-movies-dataset \n",
    "A base contém informações sobre 45.000 filmes em destaque no conjunto de dados Full MovieLens."
   ]
  },
  {
   "cell_type": "markdown",
   "metadata": {},
   "source": [
    "### 2) **(5%)** Que tipo de problema podemos solucionar com ela? Liste ao menos 3 hipóteses sobre seus dados, caso sua base seja muito restrita converse com os professores antes de seguir.\n",
    "- Quais são suas hipoteses sobre os dados? O que vc espera descobrir com esse estudo?\n",
    "\n",
    "Ex: Hipoteses válidas seriam:\n",
    "- As pessoas fazem mais compras nos dias utéis ou finais de semana?\n",
    "- Existe diferença entre o padrão de compra de segunda ou terça feira?\n",
    "- O horário de pico influencia no padrão de compra dos clientes?\n",
    "- Quais produtos são comprados mais juntos? Existe diferença se observarmos a idade do cliente?\n",
    "- Qual o efeito de uma campanha de marketing nas vendas?\n"
   ]
  },
  {
   "cell_type": "code",
   "execution_count": null,
   "metadata": {},
   "outputs": [],
   "source": [
    "1 - Quais são os gêneros de filmes melhor avaliados?\n",
    "2 - Existe relação dos filmes mais bem avaliados para a empresa que o produziu?\n",
    "3 - Há influência dos idiomas disponíveis no filmes na avaliação dos filmes?\n",
    "4 - Tem relação de custo de produção do filme com as melhores avaliações?"
   ]
  },
  {
   "cell_type": "markdown",
   "metadata": {},
   "source": [
    "### 3) **(20%)** Preparação de dados\n",
    "\n",
    "Hora de deixar a base perfeita para se trabalhar. Limpe os dados, integre com outras fontes e transforme-o para ficar pronto para se trabalhar! No fim, mostre um antes e depois de seu dataframe."
   ]
  },
  {
   "cell_type": "code",
   "execution_count": null,
   "metadata": {},
   "outputs": [],
   "source": [
    "# Implemente sua análise aqui. Use mais blocos se achar que ficará mais organizado."
   ]
  },
  {
   "cell_type": "code",
   "execution_count": null,
   "metadata": {},
   "outputs": [],
   "source": [
    "# importando as bibliotecas utilizadas no projeto\n",
    "import pandas as pd\n",
    "import numpy as np \n",
    "import matplotlib.pyplot as plt\n",
    "\n",
    "#%matplotlib inline\n",
    "import seaborn as sns"
   ]
  },
  {
   "cell_type": "code",
   "execution_count": 180,
   "metadata": {},
   "outputs": [],
   "source": [
    "# Leitura do dataset\n",
    "df = pd.read_csv('C:/Users/Herica/Desktop/Herica/cursoIACD/bases/filmes/movies_metadata.csv')\n",
    "filmes = df"
   ]
  },
  {
   "cell_type": "code",
   "execution_count": null,
   "metadata": {},
   "outputs": [],
   "source": [
    "# Pré-visaulização do dataset\n",
    "filmes.head(3)"
   ]
  },
  {
   "cell_type": "code",
   "execution_count": null,
   "metadata": {},
   "outputs": [],
   "source": [
    "# tamanho da nossa base\n",
    "print('Número de linhas e número de colunas:', filmes.shape)"
   ]
  },
  {
   "cell_type": "code",
   "execution_count": null,
   "metadata": {},
   "outputs": [],
   "source": [
    "filmes.describe()"
   ]
  },
  {
   "cell_type": "code",
   "execution_count": null,
   "metadata": {},
   "outputs": [],
   "source": [
    "filmes.dtypes"
   ]
  },
  {
   "cell_type": "markdown",
   "metadata": {},
   "source": [
    "--------------------------- TRATAMENTO DE DADOS NULOS ---------------------"
   ]
  },
  {
   "cell_type": "code",
   "execution_count": null,
   "metadata": {},
   "outputs": [],
   "source": [
    "filmes.isnull().sum()"
   ]
  },
  {
   "cell_type": "code",
   "execution_count": null,
   "metadata": {},
   "outputs": [],
   "source": [
    "# PERCENTUAL DE ELEMENTOS NULOS\n",
    "round(filmes.isnull().mean() * 100,2)"
   ]
  },
  {
   "cell_type": "code",
   "execution_count": 181,
   "metadata": {},
   "outputs": [],
   "source": [
    "#dropar colunas consideradas irrelevantes na primeira análise ou que possuem muitos valores nulos\n",
    "filmes.drop(['belongs_to_collection'],axis = 1, inplace = True)\n",
    "filmes.drop(['homepage'],axis = 1, inplace = True)\n",
    "filmes.drop(['poster_path'],axis = 1, inplace = True)     \n",
    "filmes.drop(['tagline'],axis = 1, inplace = True)     "
   ]
  },
  {
   "cell_type": "code",
   "execution_count": 182,
   "metadata": {},
   "outputs": [],
   "source": [
    "# REMOVE ELEMENTOS QUE POSSUEM DADOS NULOS\n",
    "filmes = filmes.dropna()"
   ]
  },
  {
   "cell_type": "code",
   "execution_count": 183,
   "metadata": {},
   "outputs": [],
   "source": [
    "# resetando os índices\n",
    "filmes = filmes.reset_index()"
   ]
  },
  {
   "cell_type": "code",
   "execution_count": null,
   "metadata": {},
   "outputs": [],
   "source": [
    "# validando se ainda há registros nulos\n",
    "filmes.isnull().sum()"
   ]
  },
  {
   "cell_type": "code",
   "execution_count": null,
   "metadata": {},
   "outputs": [],
   "source": [
    "# tamanho da base após exclusão de features e registros nulos\n",
    "print('Número de linhas e número de colunas:', filmes.shape)"
   ]
  },
  {
   "cell_type": "code",
   "execution_count": 184,
   "metadata": {},
   "outputs": [],
   "source": [
    "# TRANSFORMANDO A FEATURE \"adult\" EM BINÁRIO, ONDE 'True' = 0 (classificação livre) e 'False' = 1 (são somente para adultos)\n",
    "filmes[\"classificacao\"] = filmes[\"adult\"].apply(lambda x: 1 if x == \"False\" else 0)"
   ]
  },
  {
   "cell_type": "code",
   "execution_count": null,
   "metadata": {},
   "outputs": [],
   "source": [
    "# VALIDANDO TRANSFORMAÇÃO da feature \"adult\"\n",
    "filmes[[\"classificacao\", \"adult\",\"original_title\"]].head(3)"
   ]
  },
  {
   "cell_type": "markdown",
   "metadata": {},
   "source": [
    "-------------------- RENOMEANDO AS FEATURES --------------------------"
   ]
  },
  {
   "cell_type": "code",
   "execution_count": 185,
   "metadata": {},
   "outputs": [],
   "source": [
    "# renomear as coluna e usar todas com caixa baixa para padronizar\n",
    "filmes = filmes.rename(columns={'adult': \"adulto\", 'budget': 'despesas', 'genres': 'genero', 'original_language': 'lingua_original', 'original_title': 'titulo_original', 'overview': 'descricao', 'popularity': 'popularidade', 'production_companies': 'cia_producao', 'production_countries': 'pais_producao', 'release_date': 'data_lancamento', 'revenue': 'receita', 'runtime': 'duracao', 'spoken_languages': 'idiomas_falados', 'title': 'titulo', 'vote_average': 'media_votos', 'vote_count': 'qtde_votos','video': 'video'})"
   ]
  },
  {
   "cell_type": "markdown",
   "metadata": {},
   "source": [
    "------------- Transformar as features que são um dicionário em uma lista --------------"
   ]
  },
  {
   "cell_type": "code",
   "execution_count": 186,
   "metadata": {},
   "outputs": [],
   "source": [
    "# feature genero\n",
    "\n",
    "# Recupera os dados da feature e salva numa nova coluna\n",
    "from ast import literal_eval\n",
    "filmes['genero'] = filmes['genero'].apply(literal_eval) # verifica se todos os dados são do mesmo tipo\n",
    "#Função para pegar os nomes dos gêneros, caso exista.\n",
    "def get_list(x):\n",
    "    if isinstance(x, list):\n",
    "        names = [i['name'] for i in x]\n",
    "        if len(names) > 3:\n",
    "            names = names[:3]\n",
    "        return names\n",
    "    return []\n",
    "filmes['generos_ordenados'] = filmes['genero'].apply(get_list) #O retorno será uma lista com todos os gêneros. quando coloco uma coluna que não existe, ele cria a coluna automaticamente"
   ]
  },
  {
   "cell_type": "code",
   "execution_count": null,
   "metadata": {},
   "outputs": [],
   "source": [
    "# VALIDANDO TRANSFORMAÇÃO\n",
    "filmes[[\"generos_ordenados\", \"genero\", \"titulo_original\"]].head(3)"
   ]
  },
  {
   "cell_type": "code",
   "execution_count": null,
   "metadata": {
    "tags": []
   },
   "outputs": [],
   "source": [
    "# Criar uma lista que contenha somente valores únicos de gênero, para idêntificá-los e contabilizá-los\n",
    "todos_registros = len(filmes.generos_ordenados)        \n",
    "generos_unicos = [] # lista onde será incluídos os gêneros únicos\n",
    "x = 0 \n",
    "#print ('total de registros do dataset: ', todos_registros)\n",
    "while (x < todos_registros): # enquanto tiver registros no dataset\n",
    "    #print (\"x:\", x)\n",
    "    generos = filmes.generos_ordenados[x]\n",
    "    #print (\"P/ x = {} todos os generos são {}:\".format(x,generos))\n",
    "    tam_generos = len(generos)\n",
    "    #print (\"tam_generos: \", tam_generos)\n",
    "    i = z = 0\n",
    "    while (i < tam_generos): # enquanto o registro tiver generos\n",
    "        cada_genero_registo = filmes.generos_ordenados[x][i]\n",
    "        #print (\"Para x = {} e i = {} os genero é {} \". format(x, i ,cada_genero_registo))\n",
    "        if (not cada_genero_registo in generos_unicos): # verifica se o genero está na lista de generos únicos\n",
    "            generos_unicos.append(cada_genero_registo) # inclui o genero na lista de generos únicos\n",
    "            #print (\"lista com os generos únicos\", generos_unicos)\n",
    "            z +=1\n",
    "        i += 1        \n",
    "    x += 1\n",
    "\n",
    "\n",
    "print (\"generos únicos: \", len(generos_unicos))\n",
    "print (generos_unicos)"
   ]
  },
  {
   "cell_type": "code",
   "execution_count": 187,
   "metadata": {},
   "outputs": [],
   "source": [
    "# transformar as opções possíveis de genero em features com conteúdo true ou false \n",
    "from mlxtend.preprocessing import TransactionEncoder\n",
    "from mlxtend.frequent_patterns import apriori\n",
    "te = TransactionEncoder()\n",
    "genero_x = te.fit(filmes.generos_ordenados).transform(filmes.generos_ordenados)\n",
    "df_novo = pd.DataFrame(genero_x, columns=te.columns_)"
   ]
  },
  {
   "cell_type": "code",
   "execution_count": null,
   "metadata": {},
   "outputs": [],
   "source": [
    "df_novo.head(1)"
   ]
  },
  {
   "cell_type": "code",
   "execution_count": 188,
   "metadata": {},
   "outputs": [],
   "source": [
    "# resetando os índices\n",
    "df_novo = df_novo.reset_index()\n",
    "\n",
    "# Mesclado os dois dataframes\n",
    "horizontal_stack = pd.concat([filmes, df_novo], axis=1)"
   ]
  },
  {
   "cell_type": "code",
   "execution_count": 189,
   "metadata": {},
   "outputs": [],
   "source": [
    "# copiando o conteúdo do novo dataframe para o filme utilizado\n",
    "df = horizontal_stack.copy()"
   ]
  },
  {
   "cell_type": "code",
   "execution_count": null,
   "metadata": {},
   "outputs": [],
   "source": [
    "# após a transformação do conteúdo da feature genero para novas features, o data set ficou com as seguintes colunas: \n",
    "df.columns"
   ]
  },
  {
   "cell_type": "code",
   "execution_count": 190,
   "metadata": {},
   "outputs": [],
   "source": [
    "# renomear as colunas de genero e usar todas com caixa baixa para padronizar\n",
    "df = df.rename(columns={'Action': \"acao\", 'Adventure': 'aventura', 'Animation': 'animacao', 'Comedy': 'comedia', 'Crime': 'crime', 'Documentary': 'documentario', 'Drama': 'drama', 'Family': 'familia', 'Fantasy': 'fantasia', 'Foreign': 'estrangeiro', 'History': 'historia', 'Horror': 'horror', 'Music': 'musical', 'Mystery': 'misterio', 'Romance': 'romance', 'Science Fiction': 'ficcao_cientifica', 'TV Movie': 'filmes_tv', 'Thriller': 'suspense', 'War': 'gerra', 'Western': 'ocidental'})\n"
   ]
  },
  {
   "cell_type": "code",
   "execution_count": null,
   "metadata": {},
   "outputs": [],
   "source": [
    "# validando a alteração do nome das features\n",
    "df.columns"
   ]
  },
  {
   "cell_type": "code",
   "execution_count": null,
   "metadata": {},
   "outputs": [],
   "source": [
    "# Verificando o tamanho da base após a transformação da features de genero\n",
    "print('Número de linhas e número de colunas:', df.shape)"
   ]
  },
  {
   "cell_type": "markdown",
   "metadata": {},
   "source": [
    "######## Feature pais_producao ############"
   ]
  },
  {
   "cell_type": "code",
   "execution_count": null,
   "metadata": {},
   "outputs": [],
   "source": [
    " df['pais_producao'].head()"
   ]
  },
  {
   "cell_type": "code",
   "execution_count": 191,
   "metadata": {},
   "outputs": [],
   "source": [
    "# Recupera os dados da feature e salva numa nova coluna\n",
    "from ast import literal_eval\n",
    "df['pais_producao'] = df['pais_producao'].apply(literal_eval) # verifica se todos os dados são do mesmo tipo\n",
    "#Função para pegar os nomes dos paises, caso exista.\n",
    "def get_list(x):\n",
    "    if isinstance(x, list):\n",
    "        names = [i['name'] for i in x]\n",
    "        if len(names) > 3:\n",
    "            names = names[:3]\n",
    "        return names\n",
    "    return []\n",
    "filmes['novo_pais_producao'] = filmes['pais_producao'].apply(get_list) #O retorno será uma lista com todos os paises. quando coloco uma coluna que não existe, ele cria a coluna automaticamente"
   ]
  },
  {
   "cell_type": "code",
   "execution_count": null,
   "metadata": {},
   "outputs": [],
   "source": [
    "# VALIDANDO TRANSFORMAÇÃO\n",
    "df[[\"novo_pais_producao\", \"pais_producao\", \"titulo_original\"]].head(3)"
   ]
  },
  {
   "cell_type": "code",
   "execution_count": null,
   "metadata": {
    "tags": []
   },
   "outputs": [],
   "source": [
    "# Criar uma lista que contenha somente valores únicos do pais de produção, para idêntificá-los e contabilizá-los\n",
    "todos_registros = len(df.novo_pais_producao)        \n",
    "pais_producao_unicos = [] # lista onde será incluídos os países de produção únicos\n",
    "x = 0 \n",
    "print ('total de registros do dataset: ', todos_registros)\n",
    "while (x < todos_registros): # enquanto tiver registros no dataset\n",
    "    pais = df.novo_pais_producao[x]\n",
    "    tam_pais = len(pais)\n",
    "    i = z = 0\n",
    "    while (i < tam_pais): # enquanto o registro tiver paises de produção\n",
    "        cada_pais_registo = df.novo_pais_producao[x][i]\n",
    "        if (not cada_pais_registo in pais_producao_unicos): # verifica se o pais de produção está na lista de paises únicos\n",
    "            pais_producao_unicos.append(cada_pais_registo) # inclui o pais na lista de paises únicos\n",
    "            z +=1\n",
    "        i += 1        \n",
    "    x += 1\n",
    "\n",
    "print (\"pais_producao_unicos: \", len(pais_producao_unicos))\n",
    "print (pais_producao_unicos)"
   ]
  },
  {
   "cell_type": "code",
   "execution_count": null,
   "metadata": {},
   "outputs": [],
   "source": [
    "df.novo_pais_producao.value_counts()"
   ]
  },
  {
   "cell_type": "markdown",
   "metadata": {},
   "source": [
    "Feature idiomas_falados"
   ]
  },
  {
   "cell_type": "code",
   "execution_count": 192,
   "metadata": {},
   "outputs": [],
   "source": [
    "# Recupera os dados da feature e salva numa nova coluna\n",
    "from ast import literal_eval\n",
    "df['idiomas_falados'] = df['idiomas_falados'].apply(literal_eval) \n",
    "def get_list(x):\n",
    "    if isinstance(x, list):\n",
    "        names = [i['name'] for i in x]\n",
    "        if len(names) > 3:\n",
    "            names = names[:3]\n",
    "        return names\n",
    "    return []\n",
    "df['novo_idiomas_falados'] = df['idiomas_falados'].apply(get_list) "
   ]
  },
  {
   "cell_type": "code",
   "execution_count": null,
   "metadata": {},
   "outputs": [],
   "source": [
    "# VALIDANDO TRANSFORMAÇÃO\n",
    "df[[\"novo_idiomas_falados\", \"idiomas_falados\", \"titulo_original\"]].head(3)"
   ]
  },
  {
   "cell_type": "code",
   "execution_count": null,
   "metadata": {
    "tags": []
   },
   "outputs": [],
   "source": [
    "# Criar uma lista que contenha somente valores únicos de linguas, para idêntificá-los e contabilizá-los\n",
    "# # existem registros com valores '??????' e '?????' (Turkic), estes NÃO ESTÃO SENDO TRATADOS ????????????????????????????????????????????????????????????????????????????????????????????????????? \n",
    "# https://en.wikipedia.org/wiki/List_of_ISO_639-1_codes\n",
    "\n",
    "todos_registros = len(df.novo_idiomas_falados)        \n",
    "idiomas_falados_unicos = [] # lista onde será incluídos os linguas únicos\n",
    "x = 0 \n",
    "print ('total de registros do dataset: ', todos_registros)\n",
    "while (x < todos_registros): # enquanto tiver registros no dataset\n",
    "    #print (\"x:\", x)\n",
    "    idiomas = df.novo_idiomas_falados[x]\n",
    "    tam_idiomas = len(idiomas)\n",
    "    i = z = b = 0\n",
    "    while (i < tam_idiomas): # enquanto o registro tiver linguas\n",
    "        cada_idioma_registo = df.novo_idiomas_falados[x][i]\n",
    "        if (not cada_idioma_registo in idiomas_falados_unicos): # verifica se a lingua está na lista\n",
    "            if (cada_idioma_registo != '??????') and (cada_idioma_registo != '?????'):               \n",
    "                idiomas_falados_unicos.append(cada_idioma_registo) # inclui na lista de linguas unicas\n",
    "            z +=1\n",
    "        i += 1        \n",
    "    x += 1\n",
    "\n",
    "print (\"idiomas_falados_unicos: \", len(idiomas_falados_unicos))\n",
    "print (idiomas_falados_unicos)"
   ]
  },
  {
   "cell_type": "markdown",
   "metadata": {},
   "source": [
    "Feature cia_producao"
   ]
  },
  {
   "cell_type": "code",
   "execution_count": 193,
   "metadata": {
    "tags": []
   },
   "outputs": [],
   "source": [
    "# Recupera os dados da feature e salva numa nova coluna\n",
    "from ast import literal_eval\n",
    "df['cia_producao'] = df['cia_producao'].apply(literal_eval) \n",
    "def get_list(x):\n",
    "    if isinstance(x, list):\n",
    "        names = [i['name'] for i in x]\n",
    "        if len(names) > 3:\n",
    "            names = names[:3]\n",
    "        return names\n",
    "    return []\n",
    "df['novo_cia_producao'] = df['cia_producao'].apply(get_list) \n"
   ]
  },
  {
   "cell_type": "code",
   "execution_count": null,
   "metadata": {},
   "outputs": [],
   "source": [
    "# VALIDANDO TRANSFORMAÇÃO\n",
    "df[[\"novo_cia_producao\", \"cia_producao\", \"titulo_original\"]].head(3)"
   ]
  },
  {
   "cell_type": "code",
   "execution_count": null,
   "metadata": {
    "tags": []
   },
   "outputs": [],
   "source": [
    "# Criar uma lista que contenha somente valores únicos de cia, para idêntificá-los e contabilizá-los\n",
    "todos_registros = len(df.novo_cia_producao)        \n",
    "cia_unicos = [] # lista onde será incluídos os cia únicos\n",
    "x = 0 \n",
    "print ('total de registros do dataset: ', todos_registros)\n",
    "while (x < todos_registros):\n",
    "    cia = df.novo_cia_producao[x]\n",
    "    tam_cia = len(cia)\n",
    "    i = z = b = 0\n",
    "    while (i < tam_cia): \n",
    "        cada_cia_registo = df.novo_cia_producao[x][i]\n",
    "        if (not cada_cia_registo in cia_unicos):      \n",
    "            cia_unicos.append(cada_cia_registo) \n",
    "            z +=1\n",
    "        i += 1        \n",
    "    x += 1\n",
    "\n",
    "print (\"cia_unicos: \", len(cia_unicos))\n",
    "#print (cia_unicos)"
   ]
  },
  {
   "cell_type": "code",
   "execution_count": null,
   "metadata": {},
   "outputs": [],
   "source": [
    "Features status"
   ]
  },
  {
   "cell_type": "code",
   "execution_count": null,
   "metadata": {},
   "outputs": [],
   "source": [
    "# verificando os valores da feature status\n",
    "df.status.unique()"
   ]
  },
  {
   "cell_type": "code",
   "execution_count": null,
   "metadata": {},
   "outputs": [],
   "source": [
    "df.status.value_counts()\n",
    "???????????????????????????????"
   ]
  },
  {
   "cell_type": "markdown",
   "metadata": {},
   "source": [
    "Feature data de lançamento do filmes"
   ]
  },
  {
   "cell_type": "code",
   "execution_count": 194,
   "metadata": {},
   "outputs": [
    {
     "output_type": "execute_result",
     "data": {
      "text/plain": "  data_lancamento ano_lancamento\n0      1995-10-30           1995\n1      1995-12-15           1995",
      "text/html": "<div>\n<style scoped>\n    .dataframe tbody tr th:only-of-type {\n        vertical-align: middle;\n    }\n\n    .dataframe tbody tr th {\n        vertical-align: top;\n    }\n\n    .dataframe thead th {\n        text-align: right;\n    }\n</style>\n<table border=\"1\" class=\"dataframe\">\n  <thead>\n    <tr style=\"text-align: right;\">\n      <th></th>\n      <th>data_lancamento</th>\n      <th>ano_lancamento</th>\n    </tr>\n  </thead>\n  <tbody>\n    <tr>\n      <th>0</th>\n      <td>1995-10-30</td>\n      <td>1995</td>\n    </tr>\n    <tr>\n      <th>1</th>\n      <td>1995-12-15</td>\n      <td>1995</td>\n    </tr>\n  </tbody>\n</table>\n</div>"
     },
     "metadata": {},
     "execution_count": 194
    }
   ],
   "source": [
    "# Converter a data de lançamento para ter somente o ano\n",
    "data = df['data_lancamento'] # se o resultado for uma lista das datas do banco\n",
    "ano = [a.split('-')[0] for a in data]\n",
    "df['ano_lancamento'] = ano\n",
    "\n",
    "# validando a transformação\n",
    "df[['data_lancamento','ano_lancamento']].head(2)"
   ]
  },
  {
   "cell_type": "code",
   "execution_count": null,
   "metadata": {},
   "outputs": [],
   "source": [
    "# validando se ainda há registros nulos\n",
    "filmes.isnull().sum()"
   ]
  },
  {
   "cell_type": "markdown",
   "metadata": {},
   "source": [
    "-------------- ALTERAÇÃO DO TIPOS DAS FEATURES ---------------"
   ]
  },
  {
   "cell_type": "code",
   "execution_count": null,
   "metadata": {},
   "outputs": [],
   "source": [
    "filmes.dtypes"
   ]
  },
  {
   "cell_type": "code",
   "execution_count": 195,
   "metadata": {},
   "outputs": [],
   "source": [
    "# converter variáveis object para categoricas\n",
    "df.adulto = df.adulto.astype('category')\n",
    "df.titulo_original = df.titulo_original.astype('category')\n",
    "df.status = df.status.astype('category')\n",
    "df.titulo = df.titulo.astype('category')"
   ]
  },
  {
   "cell_type": "code",
   "execution_count": 196,
   "metadata": {},
   "outputs": [],
   "source": [
    "# converter variáveis objecto para float ou inteiro\n",
    "df.popularidade = df.popularidade.astype('float64')\n",
    "df.despesas = df.despesas.astype('float64')\n",
    "df.receita = df.receita.astype('float64')\n",
    "df.qtde_votos = df.qtde_votos.astype('int64')\n",
    "df.id = df.id.astype('int64')\n",
    "df.ano_lancamento = df.ano_lancamento.astype('int64')"
   ]
  },
  {
   "cell_type": "code",
   "execution_count": 197,
   "metadata": {},
   "outputs": [],
   "source": [
    "# o dataset está com duas colunas index. Ambas serão excluídas\n",
    "df.drop(['index'],axis = 1, inplace = True)"
   ]
  },
  {
   "cell_type": "code",
   "execution_count": null,
   "metadata": {},
   "outputs": [],
   "source": [
    "filmes.dtypes"
   ]
  },
  {
   "cell_type": "code",
   "execution_count": null,
   "metadata": {},
   "outputs": [],
   "source": [
    "# ------------------------ DESCRIÇÃO DAS FEATURES --------------------\n",
    "# descrição das features\n",
    "'adulto' - se o filme é para adulto ou não \n",
    "'despesas' - valor gasto na produção e divulgação dos vídeos\n",
    "'genero' - qual é o gêncero do filme.\n",
    "'id' - número que identifica o filme\n",
    "'imdb_id' - número unico que identifica o filme na base do imdb\n",
    "'lingua_original' - qual é o idioma original do filme. \n",
    "'titulo_original' - titulo original do filme\n",
    "'descricao' - descrição do filme\n",
    "'popularidade' - qual é a popularidade do filme\n",
    "'cia_producao' - qual foi a companhia que produziu o filme. \n",
    "'pais_producao' - quais foram os países onde os filmes foram gravados\n",
    "'data_lancamento' - qual foi a data de lançamento do filme\n",
    "'receita' -  qual foi a receita obtida com o filme\n",
    "'duracao' - qual é a duração do filme em minutos\n",
    "'idiomas_falados' - quais são os idiomas falados no filme. \n",
    "'status' - status do filmes. \n",
    "'slogan' - qual é o slogan do filme.\n",
    "'titulo' - qual é o título do filme\n",
    "'video' - se tem o video ou não do traile ????????? precisa desta feature ?????\n",
    "'media_votos' - qual é a média de votos dada pelos usuários\n",
    "'qtde_votos' - qual foi a quantidade de votos\n",
    "\n",
    "# Tipos de features e seus possíveis valores\n",
    "A) Variáveis categóricas - O dataset contém 8 variáveis:\n",
    "1 - adulto - contém dois valores: 'false' = 1, 'true' = 0\n",
    "2 - genero -  contém 29 valores possíveis. Cada registro foi transformado em feature\n",
    "3 - lingua_original -possui 90 valores possíveis.\n",
    "4 - cia_producao   - possui 19368 valores possíveis.\n",
    "5 - pais_producao  - 155 valores possíveis.\n",
    "6 - idiomas_falado - 73 valores possíveis.\n",
    "7 - status - 'Released', nan, 'Rumored', 'Post Production', 'In Production', 'Planned', 'Canceled'          \n",
    "8 - video - False, True, nan\n",
    "9 - generos_ordenados \n",
    "10 - novo_pais_producao\n",
    "11 - novo_idiomas_falados\n",
    "12 - novo_cia_producao\n",
    "\n",
    "B) Variáveis discretas - O dataset contém 13 variáveis: \n",
    "despesas, id, imdb_id, titulo_original, descricao,data_lancamento,popularidade,  \n",
    "receita, duracao(minutos), slogan, titulo, media_votos, qtde_votos          "
   ]
  },
  {
   "cell_type": "code",
   "execution_count": 198,
   "metadata": {
    "tags": []
   },
   "outputs": [
    {
     "output_type": "stream",
     "name": "stdout",
     "text": "Tamanho original da base (44349, 24)\n"
    }
   ],
   "source": [
    "# Tamanho original da base\n",
    "print('Tamanho original da base', filmes.shape)"
   ]
  },
  {
   "cell_type": "code",
   "execution_count": 199,
   "metadata": {
    "tags": []
   },
   "outputs": [
    {
     "output_type": "stream",
     "name": "stdout",
     "text": "Tamanho final da base (44349, 45)\n"
    }
   ],
   "source": [
    "# Tamanho final da base após o tratamento dos dados/features\n",
    "print('Tamanho final da base', df.shape)"
   ]
  },
  {
   "cell_type": "code",
   "execution_count": null,
   "metadata": {},
   "outputs": [],
   "source": [
    "df.columns"
   ]
  },
  {
   "cell_type": "code",
   "execution_count": null,
   "metadata": {},
   "outputs": [],
   "source": [
    "### SE DER TEMPO, VOU TRABALHAR ESTE CAMPO E RODAR UM ALGORITMO QUE TRATE CAMPO TEXTO\n",
    "df['descricao'].describe()"
   ]
  },
  {
   "cell_type": "code",
   "execution_count": null,
   "metadata": {},
   "outputs": [],
   "source": [
    "filmes"
   ]
  },
  {
   "cell_type": "markdown",
   "metadata": {},
   "source": [
    "# No trabalho serão utilizadas as features: \n",
    "        'despesas', 'lingua_original',\n",
    "       'titulo_original', 'descricao', 'popularidade', 'receita', 'duracao',\n",
    "        'status', 'titulo', 'video', 'media_votos',\n",
    "       'qtde_votos', 'classificacao', 'acao', 'aventura',\n",
    "       'animacao', 'comedia', 'crime', 'documentario', 'drama', 'familia',\n",
    "       'fantasia', 'estrangeiro', 'historia', 'horror', 'musical', 'misterio',\n",
    "       'romance', 'ficcao_cientifica', 'filmes_tv', 'suspense', 'gerra',\n",
    "       'ocidental', 'novo_pais_producao', 'novo_idiomas_falados',\n",
    "       'novo_cia_producao', 'ano_lancamento'\n",
    "\n",
    "#a feature 'titulo_original' não será utilizada no trabalho pois o conteúdo é similar a da 'titulo'."
   ]
  },
  {
   "cell_type": "code",
   "execution_count": null,
   "metadata": {},
   "outputs": [],
   "source": [
    "# seleção das features que serão utilizada. Foram ordenadas de forma mais intuitiva\n",
    "dataset = df[['titulo', 'ano_lancamento', 'lingua_original', 'despesas', \n",
    "        'descricao', 'popularidade', 'receita', 'duracao', 'status', 'video', 'classificacao', \n",
    "         'novo_pais_producao', 'novo_idiomas_falados','novo_cia_producao',\n",
    "        'acao', 'aventura', 'animacao', 'comedia', 'crime', 'documentario', 'drama', 'familia',\n",
    "       'fantasia', 'estrangeiro', 'historia', 'horror', 'musical', 'misterio',\n",
    "       'romance', 'ficcao_cientifica', 'filmes_tv', 'suspense', 'gerra',\n",
    "       'ocidental','qtde_votos', 'media_votos']]"
   ]
  },
  {
   "cell_type": "code",
   "execution_count": null,
   "metadata": {},
   "outputs": [],
   "source": [
    "# validando as features que serão utilizadas\n",
    "dataset.head(1)"
   ]
  },
  {
   "cell_type": "code",
   "execution_count": null,
   "metadata": {},
   "outputs": [],
   "source": [
    "# Tamanho da base que será utilizada nos algoritmos\n",
    "print('Número de linhas e número de colunas:', dataset.shape)"
   ]
  },
  {
   "cell_type": "markdown",
   "metadata": {},
   "source": [
    "### 4) **(30%)** Análise\n",
    "\n",
    "Com seu dado pronto, é hora de fazer a parte mais legal: investigar e responder nossas hipoteses. Elas se confirmam? Em quais cenários? Existe alguma forma de perceber isso no mundo real? Dica: Abuse das técnicas de visualização.\n",
    "\n",
    "Ex: Ainda no contexto dos exemplos do item 2). Ao investigar a hipotese relacionada ao padrão de compra, percebi que em todos os meses existia uma diferença entre dia util e final de semana. Porém notei que Fevereiro possui um comportamento diferente, o que poderia explicar? Talvez o carnaval e seus feriados.\n",
    "\n",
    "Ex2: Talvez eu descubra que alguns finais de semana possuam um comportamento diferente dos dias de semana e outros não. Por que não são todos? Nessa investigação você pode acabar descobrindo que os finais de semana que são diferentes, coincidem no fato de serem os primeiros dias utéis, o que pode remeter ao fato de boa parte das empresas realizarem pagamentos nessa parte do mês."
   ]
  },
  {
   "cell_type": "code",
   "execution_count": null,
   "metadata": {},
   "outputs": [],
   "source": [
    "# Implemente sua análise aqui. Use mais blocos se achar que ficará mais organizado."
   ]
  },
  {
   "cell_type": "markdown",
   "metadata": {},
   "source": [
    "Analisando com variárial\n"
   ]
  },
  {
   "cell_type": "code",
   "execution_count": null,
   "metadata": {},
   "outputs": [],
   "source": [
    "#----------------- variáveis discretas --------------------------"
   ]
  },
  {
   "cell_type": "code",
   "execution_count": null,
   "metadata": {},
   "outputs": [],
   "source": [
    "############## lingua_original #############\n",
    "# qual é a linuga original do filme que mais aparece nos filmes do dataset?\n",
    "o idioma mais frequente é o inglês(en), com 32062, seguindo do francês(fr) com 2278, japonês (ja) com 1345 e o italiano com 1264."
   ]
  },
  {
   "cell_type": "code",
   "execution_count": null,
   "metadata": {},
   "outputs": [],
   "source": [
    "dataset.lingua_original.describe()"
   ]
  },
  {
   "cell_type": "code",
   "execution_count": null,
   "metadata": {},
   "outputs": [],
   "source": [
    "dataset.lingua_original.value_counts(normalize=True)\n"
   ]
  },
  {
   "cell_type": "code",
   "execution_count": null,
   "metadata": {},
   "outputs": [],
   "source": [
    "dataset.groupby(by='lingua_original').size().sort_values(ascending = False).head(10)"
   ]
  },
  {
   "cell_type": "code",
   "execution_count": null,
   "metadata": {},
   "outputs": [],
   "source": [
    "# visualizando as 10 linguas mais frequentes\n",
    "dataset.groupby(by='lingua_original').size().sort_values(ascending = False).head(10).plot.bar()\n",
    "\n",
    "plt.rcParams['figure.figsize'] = [15, 5]\n",
    "plt.ylim(0, 35000)\n",
    "\n",
    "plt.xticks(rotation=0)\n",
    "\n",
    "plt.ylabel('Qtde')\n",
    "plt.xlabel('Idioma original')\n",
    "plt.title('Os 10 idiomas originais mais frequentes')"
   ]
  },
  {
   "cell_type": "markdown",
   "metadata": {},
   "source": [
    "-------------------------------------------------------------------------------------"
   ]
  },
  {
   "cell_type": "code",
   "execution_count": null,
   "metadata": {},
   "outputs": [],
   "source": [
    "############## classificacao #############\n",
    "# valores: livre ou adulto\n",
    "# Qual é a classificação mais comum?\n",
    "Conforme observamos, 99,99% dos filmes possui classificação livre, logo, a features não será utilizada na da avaliação/predição"
   ]
  },
  {
   "cell_type": "code",
   "execution_count": null,
   "metadata": {},
   "outputs": [],
   "source": [
    "dataset.classificacao.describe()"
   ]
  },
  {
   "cell_type": "code",
   "execution_count": null,
   "metadata": {},
   "outputs": [],
   "source": [
    "dataset.classificacao.value_counts(normalize=True)"
   ]
  },
  {
   "cell_type": "code",
   "execution_count": null,
   "metadata": {},
   "outputs": [],
   "source": [
    "print ('total de classificação livre (1): ', sum(dataset.classificacao == 1), '\\ntotal de classificação adulto (0): ',sum(dataset.classificacao == 0))"
   ]
  },
  {
   "cell_type": "code",
   "execution_count": null,
   "metadata": {},
   "outputs": [],
   "source": [
    "print ('% de classificação livre (1): ', sum(dataset.classificacao == 1) * 100 / len(dataset.classificacao), '\\n% de classificação adulto (0): ',sum(dataset.classificacao == 0) * 100 / len(dataset.classificacao))\n"
   ]
  },
  {
   "cell_type": "code",
   "execution_count": null,
   "metadata": {},
   "outputs": [],
   "source": [
    "print ('% de classificação livre (1): ', round(sum(dataset.classificacao == 1) * 100 / len(dataset.classificacao),3), '\\n% de classificação adulto (0): ',round(sum(dataset.classificacao == 0) * 100 / len(dataset.classificacao),3))\n"
   ]
  },
  {
   "cell_type": "code",
   "execution_count": null,
   "metadata": {},
   "outputs": [],
   "source": [
    "grupos = ['Livre', 'adulto']\n",
    "\n",
    "valores = [round(sum(dataset.classificacao == 1) * 100 / len(dataset.classificacao),3),round(sum(dataset.classificacao == 0) * 100 / len(dataset.classificacao),3) ]\n",
    "\n",
    "plt.xlabel(\"Classificação do filme\")\n",
    "plt.ylabel(\"Qtde por classificação\")\n",
    "plt.title(\"Total de classificação\")\n",
    "\n",
    "plt.bar(grupos, valores)\n",
    "plt.show()"
   ]
  },
  {
   "cell_type": "code",
   "execution_count": null,
   "metadata": {},
   "outputs": [],
   "source": [
    "# retirada da feature classificação\n",
    "dataset = dataset[['titulo', 'ano_lancamento', 'lingua_original', 'despesas', \n",
    "        'descricao', 'popularidade', 'receita', 'duracao', 'status', 'video', \n",
    "         'novo_pais_producao', 'novo_idiomas_falados','novo_cia_producao',\n",
    "        'acao', 'aventura', 'animacao', 'comedia', 'crime', 'documentario', 'drama', 'familia',\n",
    "       'fantasia', 'estrangeiro', 'historia', 'horror', 'musical', 'misterio',\n",
    "       'romance', 'ficcao_cientifica', 'filmes_tv', 'suspense', 'gerra',\n",
    "       'ocidental','qtde_votos', 'media_votos']]"
   ]
  },
  {
   "cell_type": "code",
   "execution_count": null,
   "metadata": {},
   "outputs": [],
   "source": [
    "############## features de genero #############\n",
    "# Quais são os generos mais comuns?\n",
    "São 20 os tipos de gênero. Um filme tem no mínimo um gênero.\n",
    "Conforme observamos os generos mais comuns são: drama, comédia, ação, suspense e romance."
   ]
  },
  {
   "cell_type": "code",
   "execution_count": 200,
   "metadata": {
    "tags": []
   },
   "outputs": [
    {
     "output_type": "stream",
     "name": "stdout",
     "text": "acao\n False    0.854788\nTrue     0.145212\nName: acao, dtype: float64\naventura\n False    0.925184\nTrue     0.074816\nName: aventura, dtype: float64\nanimacao\n False    0.957316\nTrue     0.042684\nName: animacao, dtype: float64\ncomedia\n False    0.715709\nTrue     0.284291\nName: comedia, dtype: float64\ndocumentario\n False    0.913211\nTrue     0.086789\nName: documentario, dtype: float64\nfamilia\n False    0.947056\nTrue     0.052944\nName: familia, dtype: float64\nromance\n False    0.864101\nTrue     0.135899\nName: romance, dtype: float64\nficcao_cientifica\n False    0.943854\nTrue     0.056146\nName: ficcao_cientifica, dtype: float64\nfilmes_tv\n False    0.985231\nTrue     0.014769\nName: filmes_tv, dtype: float64\nsuspense\n False    0.856164\nTrue     0.143836\nName: suspense, dtype: float64\ngerra\n False    0.974768\nTrue     0.025232\nName: gerra, dtype: float64\nocidental\n False    0.979391\nTrue     0.020609\nName: ocidental, dtype: float64\n"
    }
   ],
   "source": [
    "print ('acao\\n', dataset.acao.value_counts(normalize=True))\n",
    "print ('aventura\\n', dataset.aventura.value_counts(normalize=True))\n",
    "print ('animacao\\n', dataset.animacao.value_counts(normalize=True))\n",
    "print ('comedia\\n', dataset.comedia.value_counts(normalize=True))\n",
    "print ('documentario\\n', dataset.documentario.value_counts(normalize=True))\n",
    "print ('familia\\n', dataset.familia.value_counts(normalize=True))\n",
    "print ('romance\\n', dataset.romance.value_counts(normalize=True))\n",
    "print ('ficcao_cientifica\\n', dataset.ficcao_cientifica.value_counts(normalize=True))\n",
    "print ('filmes_tv\\n', dataset.filmes_tv.value_counts(normalize=True))\n",
    "print ('suspense\\n', dataset.suspense.value_counts(normalize=True))\n",
    "print ('gerra\\n', dataset.gerra.value_counts(normalize=True))\n",
    "print ('ocidental\\n', dataset.ocidental.value_counts(normalize=True))"
   ]
  },
  {
   "cell_type": "code",
   "execution_count": null,
   "metadata": {
    "tags": []
   },
   "outputs": [],
   "source": [
    "# contabilizando a qtde de registros true de cada gênero\n",
    "lista_generos = ['acao', 'aventura', 'animacao', 'comedia', 'crime', 'documentario', 'drama', 'familia', 'fantasia', 'estrangeiro', 'historia', 'horror', 'musical', 'misterio', 'romance', 'ficcao_cientifica', 'filmes_tv', 'suspense', 'gerra', 'ocidental']\n",
    "\n",
    "tam = len(lista_generos)\n",
    "print (\"total de generos\", tam)\n",
    "x = 0\n",
    "lista_totais = [] # lista para armazenar os valores totais de cada genero\n",
    "#print (type (lista_totais))\n",
    "\n",
    "while x < tam:\n",
    "    genero = lista_generos[x]\n",
    "    total_genero = sum(dataset[genero] == True)    \n",
    "    print ('genero: ', genero, '|',total_genero)\n",
    "    x += 1\n",
    "    lista_totais.append (total_genero)"
   ]
  },
  {
   "cell_type": "code",
   "execution_count": null,
   "metadata": {},
   "outputs": [],
   "source": [
    "#plotando os totais por generos\n",
    "plt.bar(lista_generos, lista_totais)\n",
    "\n",
    "plt.rcParams['figure.figsize'] = [15, 5]\n",
    "plt.ylim(0, 35000)\n",
    "\n",
    "plt.xticks(rotation=90)\n",
    "\n",
    "plt.xlabel(\"Genero\")\n",
    "plt.ylabel(\"Total\")\n",
    "plt.title(\"Total por gênero\")\n",
    "\n",
    "plt.show()"
   ]
  },
  {
   "cell_type": "markdown",
   "metadata": {},
   "source": [
    "--------------------------------------------\n"
   ]
  },
  {
   "cell_type": "code",
   "execution_count": null,
   "metadata": {},
   "outputs": [],
   "source": [
    "# ----------------- avaliando cada feature contínua  ------------------------\n"
   ]
  },
  {
   "cell_type": "code",
   "execution_count": null,
   "metadata": {},
   "outputs": [],
   "source": [
    "################## ano_lancamento ######################\n",
    "#Quais anos de lançamento são os mais frequentes?\n",
    "Conforme observamos, os anos de lançamento mais comuns são 2014, 2015, 2013 e 2012."
   ]
  },
  {
   "cell_type": "code",
   "execution_count": null,
   "metadata": {},
   "outputs": [],
   "source": [
    "dataset.groupby(by='ano_lancamento').size().sort_values(ascending = False).head(10)"
   ]
  },
  {
   "cell_type": "code",
   "execution_count": null,
   "metadata": {},
   "outputs": [],
   "source": [
    "# visualizando os 10 anos mais frequentes\n",
    "dataset.groupby(by='ano_lancamento').size().sort_values(ascending = False).head(10).plot.bar()\n",
    "\n",
    "plt.rcParams['figure.figsize'] = [15, 5]\n",
    "plt.ylim(0, 2000)\n",
    "\n",
    "plt.xticks(rotation=0)\n",
    "\n",
    "plt.ylabel('Qtde')\n",
    "plt.xlabel('Ano de lançamentos')\n",
    "plt.title('Os 10 anos de lançamento mais frequentes')"
   ]
  },
  {
   "cell_type": "code",
   "execution_count": null,
   "metadata": {},
   "outputs": [],
   "source": [
    "################## novo_pais_producao ##################\n",
    "Observamos que os 10 países onde mais se grava filmes são:\n",
    "(20903, 'United States of America'),\n",
    " (3947, 'United Kingdom'),\n",
    " (3737, 'France'),\n",
    " (2083, 'Germany'),\n",
    " (1919, 'Italy'),\n",
    " (1737, 'Canada'),\n",
    " (1624, 'Japan'),\n",
    " (875, 'Spain'),\n",
    " (870, 'Russia'),\n",
    " (818, 'India')"
   ]
  },
  {
   "cell_type": "code",
   "execution_count": null,
   "metadata": {},
   "outputs": [],
   "source": [
    "dataset.novo_pais_producao.head(3)"
   ]
  },
  {
   "cell_type": "code",
   "execution_count": null,
   "metadata": {},
   "outputs": [],
   "source": [
    "# transformar as opções possíveis de pais de gravação em features com conteúdo true ou false \n",
    "pais_producao_x = te.fit(dataset.novo_pais_producao).transform(dataset.novo_pais_producao)\n",
    "df_novo_pais_producao = pd.DataFrame(pais_producao_x, columns=te.columns_)\n",
    "\n",
    "# resetando os índices\n",
    "df_novo_pais_producao = df_novo_pais_producao.reset_index()\n",
    "\n",
    "# Mesclado os dois dataframes\n",
    "horizontal_stack = pd.concat([filmes, df_novo_pais_producao], axis=1)\n",
    "\n",
    "# copiando o conteúdo do novo dataframe para o filme utilizado\n",
    "dataset = horizontal_stack.copy()"
   ]
  },
  {
   "cell_type": "code",
   "execution_count": null,
   "metadata": {},
   "outputs": [],
   "source": [
    "# a coluna index será excluída\n",
    "dataset.drop(['index'],axis = 1, inplace = True)\n",
    "df_novo_pais_producao.drop(['index'],axis = 1, inplace = True)"
   ]
  },
  {
   "cell_type": "code",
   "execution_count": null,
   "metadata": {
    "tags": []
   },
   "outputs": [],
   "source": [
    "# contabilizando a qtde de registros true de cada pais de gravação\n",
    "lista_pais = df_novo_pais_producao.columns\n",
    "print (lista_pais)\n",
    "tam = len(lista_pais)\n",
    "print (\"total de pais\", tam)\n",
    "x = 0\n",
    "lista_totais = [] # lista para armazenar os valores totais de cada genero\n",
    "#print (type (lista_totais))\n",
    "\n",
    "while x < tam:\n",
    "    pais = lista_pais[x]\n",
    "    total_pais = sum(df_novo_pais_producao[pais] == True)    \n",
    "    print ('pais: ', pais, '|',total_pais)\n",
    "    x += 1\n",
    "    lista_totais.append (total_pais)\n",
    "\n",
    "tupla_pais_producao = list(zip(lista_totais,lista_pais))\n",
    "\n",
    "del(tupla_pais_producao[0]) # excluindo o valor index\n",
    "\n",
    "print (tupla_pais_producao)"
   ]
  },
  {
   "cell_type": "code",
   "execution_count": null,
   "metadata": {},
   "outputs": [],
   "source": [
    "# ordenando e revertendo a ordenação\n",
    "tupla_pais_producao.sort(reverse=True)\n",
    "\n",
    "# obtendo os 10 mais frequentes países\n",
    "tupla_pais_producao[0:10]"
   ]
  },
  {
   "cell_type": "code",
   "execution_count": null,
   "metadata": {},
   "outputs": [],
   "source": [
    "#plotando os 10 mais frequentes paises de gravação\n",
    "x = [v[1] for v in tupla_pais_producao[0:10]]\n",
    "y = [v[0] for v in tupla_pais_producao[0:10]]\n",
    "\n",
    "plt.bar(x, y)\n",
    "\n",
    "plt.rcParams['figure.figsize'] = [15, 5]\n",
    "plt.ylim(0, 25000)\n",
    "\n",
    "plt.xticks(rotation=75)\n",
    "\n",
    "plt.xlabel(\"País de gravação\")\n",
    "plt.ylabel(\"Total\")\n",
    "plt.title(\"Total por país onde os filmes foram gravados\")\n",
    "\n",
    "plt.show()"
   ]
  },
  {
   "cell_type": "code",
   "execution_count": null,
   "metadata": {},
   "outputs": [],
   "source": [
    "################## novo_idiomas_falados ################"
   ]
  },
  {
   "cell_type": "code",
   "execution_count": null,
   "metadata": {},
   "outputs": [],
   "source": [
    "dataset.columns[25:45]"
   ]
  },
  {
   "cell_type": "code",
   "execution_count": null,
   "metadata": {},
   "outputs": [],
   "source": [
    "dataset.novo_idiomas_falados.head(3)"
   ]
  },
  {
   "cell_type": "code",
   "execution_count": null,
   "metadata": {},
   "outputs": [],
   "source": [
    "# qtde de registros únicos de popularidade\n",
    "x = str(dataset.novo_idiomas_falados)\n",
    "len(x.unique())"
   ]
  },
  {
   "cell_type": "code",
   "execution_count": null,
   "metadata": {},
   "outputs": [],
   "source": [
    "################# novo_cia_producao ####################"
   ]
  },
  {
   "cell_type": "code",
   "execution_count": null,
   "metadata": {},
   "outputs": [],
   "source": [
    "################## popularidade ######################\n",
    "#Quais são os valores de populariade mais frequentes?\n",
    "Os valores mais frequentes são:\n",
    "0.000001    53\n",
    "0.000308    41\n",
    "0.000000    37\n",
    "0.000220    37\n",
    "0.002001    27"
   ]
  },
  {
   "cell_type": "code",
   "execution_count": null,
   "metadata": {},
   "outputs": [],
   "source": [
    "dataset.popularidade"
   ]
  },
  {
   "cell_type": "code",
   "execution_count": null,
   "metadata": {},
   "outputs": [],
   "source": [
    "# qtde de registros únicos de popularidade\n",
    "len(dataset.popularidade.unique())"
   ]
  },
  {
   "cell_type": "code",
   "execution_count": null,
   "metadata": {},
   "outputs": [],
   "source": [
    "dataset.groupby(by='popularidade').size().sort_values(ascending = False).head(10)"
   ]
  },
  {
   "cell_type": "code",
   "execution_count": null,
   "metadata": {},
   "outputs": [],
   "source": [
    "# visualizando os 10 valores de popularidade mais frequentes\n",
    "dataset.groupby(by='popularidade').size().sort_values(ascending = False).head(10).plot.bar()\n",
    "\n",
    "plt.rcParams['figure.figsize'] = [15, 5]\n",
    "plt.ylim(0, 60)\n",
    "\n",
    "plt.xticks(rotation=70)\n",
    "\n",
    "plt.ylabel('Qtde')\n",
    "plt.xlabel('Popularidade')\n",
    "plt.title('Os 10 valores de popularidade mais frequentes')"
   ]
  },
  {
   "cell_type": "code",
   "execution_count": null,
   "metadata": {},
   "outputs": [],
   "source": [
    "############# despesas ###############\n",
    "Conforme observamos, 75% dos filmes não possui informação de despesas. Portanto, a feature não será utilizada ma análise/predição"
   ]
  },
  {
   "cell_type": "code",
   "execution_count": null,
   "metadata": {},
   "outputs": [],
   "source": [
    "dataset.despesas.describe()"
   ]
  },
  {
   "cell_type": "code",
   "execution_count": null,
   "metadata": {},
   "outputs": [],
   "source": [
    "# os 10 anos de lançamento mais frequentes\n",
    "dataset.groupby(by='despesas').size().sort_values(ascending = False).head(10)"
   ]
  },
  {
   "cell_type": "code",
   "execution_count": null,
   "metadata": {},
   "outputs": [],
   "source": [
    "# retirada da feature despesas\n",
    "dataset = dataset[['titulo', 'ano_lancamento', 'lingua_original', \n",
    "        'descricao', 'popularidade', 'receita', 'duracao', 'status', 'video', \n",
    "         'novo_pais_producao', 'novo_idiomas_falados','novo_cia_producao',\n",
    "        'acao', 'aventura', 'animacao', 'comedia', 'crime', 'documentario', 'drama', 'familia',\n",
    "       'fantasia', 'estrangeiro', 'historia', 'horror', 'musical', 'misterio',\n",
    "       'romance', 'ficcao_cientifica', 'filmes_tv', 'suspense', 'gerra',\n",
    "       'ocidental','qtde_votos', 'media_votos']]"
   ]
  },
  {
   "cell_type": "code",
   "execution_count": null,
   "metadata": {},
   "outputs": [],
   "source": [
    "################### receita #################\n",
    "Conforme observamos, 75% dos filmes não possui valor de receita. A feature não será utilizada na análise/predição"
   ]
  },
  {
   "cell_type": "code",
   "execution_count": null,
   "metadata": {},
   "outputs": [],
   "source": [
    "dataset.receita.head(3)"
   ]
  },
  {
   "cell_type": "code",
   "execution_count": null,
   "metadata": {},
   "outputs": [],
   "source": [
    "dataset.receita.describe()"
   ]
  },
  {
   "cell_type": "code",
   "execution_count": null,
   "metadata": {},
   "outputs": [],
   "source": [
    "# qtde de registros únicos de receita\n",
    "len(dataset.receita.unique())"
   ]
  },
  {
   "cell_type": "code",
   "execution_count": null,
   "metadata": {},
   "outputs": [],
   "source": [
    "# retirada da feature despesas\n",
    "dataset = dataset[['titulo', 'ano_lancamento', 'lingua_original', \n",
    "        'descricao', 'popularidade', 'duracao', 'status', 'video', \n",
    "         'novo_pais_producao', 'novo_idiomas_falados','novo_cia_producao',\n",
    "        'acao', 'aventura', 'animacao', 'comedia', 'crime', 'documentario', 'drama', 'familia',\n",
    "       'fantasia', 'estrangeiro', 'historia', 'horror', 'musical', 'misterio',\n",
    "       'romance', 'ficcao_cientifica', 'filmes_tv', 'suspense', 'gerra',\n",
    "       'ocidental','qtde_votos', 'media_votos']]"
   ]
  },
  {
   "cell_type": "code",
   "execution_count": null,
   "metadata": {},
   "outputs": [],
   "source": [
    "################### duração #################\n",
    "75% dos filmes, tem duração de 107 minutos.\n",
    "1118 filmes estão com duração zero. Para estes, o valor foi atualizado pela média, 95.069945."
   ]
  },
  {
   "cell_type": "code",
   "execution_count": null,
   "metadata": {},
   "outputs": [],
   "source": [
    "dataset.duracao.head(3)"
   ]
  },
  {
   "cell_type": "code",
   "execution_count": null,
   "metadata": {},
   "outputs": [],
   "source": [
    "dataset.duracao.describe()"
   ]
  },
  {
   "cell_type": "code",
   "execution_count": null,
   "metadata": {},
   "outputs": [],
   "source": [
    "# qtde de registros únicos\n",
    "len(dataset.duracao.unique())"
   ]
  },
  {
   "cell_type": "code",
   "execution_count": null,
   "metadata": {},
   "outputs": [],
   "source": [
    "# os 10 anos de lançamento mais frequentes\n",
    "dataset.groupby(by='duracao').size().sort_values(ascending = False).head(10)"
   ]
  },
  {
   "cell_type": "code",
   "execution_count": null,
   "metadata": {},
   "outputs": [],
   "source": [
    "# muitos registros possuem duração zero. Estes casos serão substituidos pela média\n",
    "dataset['duracao'].replace(0,dataset['duracao'].mean(), inplace=True)"
   ]
  },
  {
   "cell_type": "code",
   "execution_count": null,
   "metadata": {},
   "outputs": [],
   "source": [
    "# verificando o impacto da atualização dos valores zerados de duração\n",
    "dataset.groupby(by='duracao').size().sort_values(ascending = False).head(10)"
   ]
  },
  {
   "cell_type": "code",
   "execution_count": null,
   "metadata": {},
   "outputs": [],
   "source": [
    "################ media_votos (target) ##################"
   ]
  },
  {
   "cell_type": "code",
   "execution_count": null,
   "metadata": {},
   "outputs": [],
   "source": [
    "dataset.media_votos.describe()"
   ]
  },
  {
   "cell_type": "code",
   "execution_count": null,
   "metadata": {
    "tags": []
   },
   "outputs": [],
   "source": [
    "print ('Qtde de registros unicos no target: ', len(dataset.media_votos.unique()))"
   ]
  },
  {
   "cell_type": "code",
   "execution_count": null,
   "metadata": {
    "tags": []
   },
   "outputs": [],
   "source": [
    "print (dataset.groupby(by='media_votos').size())"
   ]
  },
  {
   "cell_type": "code",
   "execution_count": null,
   "metadata": {
    "tags": []
   },
   "outputs": [],
   "source": [
    "# as 10 médias de votos mais frequentes na base\n",
    "print (dataset.groupby(by='media_votos').size().sort_values(ascending = False).head(10))"
   ]
  },
  {
   "cell_type": "code",
   "execution_count": null,
   "metadata": {},
   "outputs": [],
   "source": [
    "# visualizando os 10 maiores valores de media de votos\n",
    "dataset.groupby(by='media_votos').size().sort_values(ascending = False).head(10).plot.bar()\n",
    "\n",
    "plt.rcParams['figure.figsize'] = [15, 5]\n",
    "plt.ylim(0, 3000)\n",
    "\n",
    "plt.xticks(rotation=70)\n",
    "\n",
    "plt.ylabel('Qtde')\n",
    "plt.xlabel('Média de votos')\n",
    "plt.title('Média de votos mais frequente')"
   ]
  },
  {
   "cell_type": "code",
   "execution_count": null,
   "metadata": {},
   "outputs": [],
   "source": [
    "# ------------------------------\n",
    "Percebemos que a maior parte dos registros de média_votos fica entre 6 e 6.8. Que as médias mais frequentes são 0, seguido do 6 e 5. \n",
    "# ------------------------------"
   ]
  },
  {
   "cell_type": "code",
   "execution_count": null,
   "metadata": {},
   "outputs": [],
   "source": [
    "################# qtde_votos ########################"
   ]
  },
  {
   "cell_type": "code",
   "execution_count": null,
   "metadata": {},
   "outputs": [],
   "source": [
    "dataset.qtde_votos.head()"
   ]
  },
  {
   "cell_type": "code",
   "execution_count": null,
   "metadata": {},
   "outputs": [],
   "source": [
    "dataset.qtde_votos.describe()"
   ]
  },
  {
   "cell_type": "code",
   "execution_count": null,
   "metadata": {
    "tags": []
   },
   "outputs": [],
   "source": [
    "print ('Quanto de registros únicos:', len(dataset.qtde_votos.unique()))"
   ]
  },
  {
   "cell_type": "code",
   "execution_count": null,
   "metadata": {
    "tags": []
   },
   "outputs": [],
   "source": [
    "print ('A maior qtde de votos: ' ,max(dataset['qtde_votos'], key = int))"
   ]
  },
  {
   "cell_type": "code",
   "execution_count": null,
   "metadata": {},
   "outputs": [],
   "source": [
    "# --------------------------\n",
    "Percebemos que 75% da qtde de votos foi 35 e a qtde máxima 14075.\n",
    "# --------------------------"
   ]
  },
  {
   "cell_type": "markdown",
   "metadata": {},
   "source": [
    "Analisando a dependência entre variáveis"
   ]
  },
  {
   "cell_type": "code",
   "execution_count": null,
   "metadata": {},
   "outputs": [],
   "source": [
    "# Features que serão utilizada\n",
    "dataset = dataset[['titulo', 'ano_lancamento', 'lingua_original', \n",
    "        'descricao', 'popularidade', 'duracao', 'status', 'video', \n",
    "         'novo_pais_producao', 'novo_idiomas_falados','novo_cia_producao',\n",
    "        'acao', 'aventura', 'animacao', 'comedia', 'crime', 'documentario', 'drama', 'familia',\n",
    "       'fantasia', 'estrangeiro', 'historia', 'horror', 'musical', 'misterio',\n",
    "       'romance', 'ficcao_cientifica', 'filmes_tv', 'suspense', 'gerra',\n",
    "       'ocidental','qtde_votos', 'media_votos']]"
   ]
  },
  {
   "cell_type": "code",
   "execution_count": null,
   "metadata": {},
   "outputs": [],
   "source": [
    "# correlação entre as variáveis\n",
    "#  variam entre 0 e 1 ou entre -1 e +1, de maneira que a proximidade de zero indique a falta de associação entre elas.\n",
    "x = pd.get_dummies(dataset).astype(int)\n",
    "x['titulo'].corr(x['media_votos'])"
   ]
  },
  {
   "cell_type": "code",
   "execution_count": null,
   "metadata": {},
   "outputs": [],
   "source": [
    "dataset.groupby(\"titulo\").mean().media_votos"
   ]
  },
  {
   "cell_type": "code",
   "execution_count": null,
   "metadata": {},
   "outputs": [],
   "source": [
    "medias_por_filme = dataset.groupby(\"filmeId\").mean().nota\n",
    "medias_por_filme.head()\n",
    "medias_por_filme.plot(kind='hist')"
   ]
  },
  {
   "cell_type": "code",
   "execution_count": null,
   "metadata": {},
   "outputs": [],
   "source": [
    "# plotando o histograma\n",
    "x = dataset[['qtde_votos','media_votos']]\n",
    "x.groupby('qtde_votos').sum()\n",
    "sns.pairplot(x, hue=\"qtde_votos\")"
   ]
  },
  {
   "cell_type": "markdown",
   "metadata": {},
   "source": [
    "Qual linha teve maior media de votos?"
   ]
  },
  {
   "cell_type": "code",
   "execution_count": null,
   "metadata": {},
   "outputs": [],
   "source": [
    "x = dataset.groupby('lingua_original').sum()\n",
    "x = x.reset_index()\n",
    "\n",
    "plt.bar(x.lingua_original,x.media_votos,color='red')\n",
    "\n",
    "plt.rcParams['figure.figsize'] = [15, 5]\n",
    "plt.ylim(0, 180000)\n",
    "\n",
    "plt.xticks(rotation=90)\n",
    "\n",
    "plt.xlabel(\"lingua_original\")\n",
    "plt.ylabel(\"Media_votos\")\n",
    "plt.title(\"media_votos x qtde_votos\")"
   ]
  },
  {
   "cell_type": "code",
   "execution_count": null,
   "metadata": {},
   "outputs": [],
   "source": [
    "O inglês (EN) foi o idioma com maior media de votos.\n"
   ]
  },
  {
   "cell_type": "markdown",
   "metadata": {},
   "source": [
    "Qual a classificação com maior média de votos?"
   ]
  },
  {
   "cell_type": "code",
   "execution_count": null,
   "metadata": {},
   "outputs": [],
   "source": [
    "x = dataset.groupby('classificacao').sum()\n",
    "x"
   ]
  },
  {
   "cell_type": "code",
   "execution_count": null,
   "metadata": {},
   "outputs": [],
   "source": [
    "x = dataset.groupby('classificacao').sum()\n",
    "x = x.reset_index()\n",
    "\n",
    "plt.bar(x.classificacao,x.media_votos,color='red')\n",
    "\n",
    "plt.rcParams['figure.figsize'] = [15, 5]\n",
    "plt.ylim(0, 300000)\n",
    "\n",
    "plt.xticks(rotation=90)\n",
    "\n",
    "plt.xlabel(\"classificacao\")\n",
    "plt.ylabel(\"Media_votos\")\n",
    "plt.title(\"classificacao x media_votos\")"
   ]
  },
  {
   "cell_type": "markdown",
   "metadata": {},
   "source": [
    "A classificação com a maior média de votos foi a 1 (livre). Feature irrelevante. Será descartada"
   ]
  },
  {
   "cell_type": "code",
   "execution_count": null,
   "metadata": {},
   "outputs": [],
   "source": [
    "dataset.plot(x='media_votos',y='qtde_votos',kind='scatter', title='media_votos x qtde_votos',color='r')"
   ]
  },
  {
   "cell_type": "code",
   "execution_count": null,
   "metadata": {},
   "outputs": [],
   "source": [
    "#media_votos ordenada\n",
    "dataset.loc[(dataset['media_votos']>=9)].sort_values(by = 'media_votos', ascending=False)"
   ]
  },
  {
   "cell_type": "code",
   "execution_count": null,
   "metadata": {},
   "outputs": [],
   "source": [
    "######################## avaliando as features de genero ##################################\n",
    "''''acao', 'aventura', 'animacao', 'comedia', 'crime', 'documentario', 'drama', 'familia', 'fantasia', 'estrangeiro', 'historia', 'horror', 'musical', 'misterio', 'romance', 'ficcao_cientifica', 'filmes_tv', 'suspense', 'gerra', 'ocidental' '''\n",
    "\n",
    "#Visualizando todas as variáveis com target\n",
    "x = dataset.groupby(['media_votos']).sum()\n",
    "\n",
    "x['acao'].plot(kind = 'line',color='green', title='Total da classe/acao',grid=True, stacked=True)\n",
    "x['aventura'].plot(kind = 'line',color='red', title='Total da classe/target por V2',grid=True, stacked=True)\n",
    "x['animacao'].plot(kind = 'line',color='purple', title='Total da classe/target por V2',grid=True, stacked=True)\n",
    "x['comedia'].plot(kind = 'line',color='aqua', title='Total da classe/target por V2',grid=True, stacked=True)\n",
    "x['crime'].plot(kind = 'line',color='azure', title='Total da classe/target por V2',grid=True, stacked=True)\n",
    "x['documentario'].plot(kind = 'line',color='brown', title='Total da classe/target por V2',grid=True, stacked=True)\n",
    "x['drama'].plot(kind = 'line',color='coral', title='Total da classe/target por V2',grid=True, stacked=True)\n",
    "x['familia'].plot(kind = 'line',color='darkblue', title='Total da classe/target por V2',grid=True, stacked=True)\n",
    "x['fantasia'].plot(kind = 'line',color='gold', title='Total da classe/target por V2',grid=True, stacked=True)\n",
    "x['estrangeiro'].plot(kind = 'line',color='grey', title='Total da classe/target por V2',grid=True, stacked=True)\n",
    "x['historia'].plot(kind = 'line',color='lavender', title='Total da classe/target por V2',grid=True, stacked=True)\n",
    "x['horror'].plot(kind = 'line',color='magenta', title='Total da classe/target por V2',grid=True, stacked=True)\n",
    "x['musical'].plot(kind = 'line',color='beige', title='Total da classe/target por V2',grid=True, stacked=True)\n",
    "x['misterio'].plot(kind = 'line',color='lime', title='Total da classe/target por V2',grid=True, stacked=True)\n",
    "x['romance'].plot(kind = 'line',color='lime', title='Total da classe/target por V2',grid=True, stacked=True)\n",
    "x['ficcao_cientifica'].plot(kind = 'line',color='lime', title='Total da classe/target por V2',grid=True, stacked=True)\n",
    "x['filmes_tv'].plot(kind = 'line',color='lime', title='Total da classe/target por V2',grid=True, stacked=True)\n",
    "x['suspense'].plot(kind = 'line',color='lime', title='Total da classe/target por V2',grid=True, stacked=True)\n",
    "x['gerra'].plot(kind = 'line',color='lime', title='Total da classe/target por V2',grid=True, stacked=True)\n",
    "x['ocidental'].plot(kind = 'line',color='lime', title='Total da classe/target por V2',grid=True, stacked=True)\n",
    "\n",
    "plt.xlabel(\"Generos\")\n",
    "plt.ylabel(\"media_votos\")\n"
   ]
  },
  {
   "cell_type": "code",
   "execution_count": null,
   "metadata": {},
   "outputs": [],
   "source": [
    "#round(df_2007_2018['media'].value_counts(normalize=True) * 100, 2).plot.bar()\n",
    "#dados = dataset.loc[(dataset['media_votos']>=9)]\n",
    "dados = dataset.loc[(dataset['media_votos']>=9)].sort_values(by = 'media_votos', ascending=False)\n",
    "\n",
    "dados['media_votos'].value_counts().head(10).plot.bar()\n",
    "\n",
    "plt.rcParams['figure.figsize'] = [15, 5]\n",
    "plt.ylim(0, 2000)\n",
    "\n",
    "plt.ylabel('Media votos')\n",
    "plt.xlabel('filmes')\n",
    "plt.title('Os filmes com maior média de votos')"
   ]
  },
  {
   "cell_type": "code",
   "execution_count": null,
   "metadata": {},
   "outputs": [],
   "source": [
    "dataset.groupby(by='media_votos').size() < = 6.0"
   ]
  },
  {
   "cell_type": "code",
   "execution_count": null,
   "metadata": {},
   "outputs": [],
   "source": [
    "dataset.hist(column=\"media_votos\",by=\"aventura\",bins=30)\n"
   ]
  },
  {
   "cell_type": "code",
   "execution_count": null,
   "metadata": {},
   "outputs": [],
   "source": [
    "# Filtrando os dados do tipo float:\n",
    "dataset.select_dtypes(include=['float'])"
   ]
  },
  {
   "cell_type": "code",
   "execution_count": null,
   "metadata": {},
   "outputs": [],
   "source": [
    "# Filtrando os dados do tipo object:\n",
    "dataset.select_dtypes(include=['object'])"
   ]
  },
  {
   "cell_type": "code",
   "execution_count": null,
   "metadata": {},
   "outputs": [],
   "source": []
  },
  {
   "cell_type": "code",
   "execution_count": null,
   "metadata": {},
   "outputs": [],
   "source": []
  },
  {
   "cell_type": "code",
   "execution_count": null,
   "metadata": {},
   "outputs": [],
   "source": [
    " # ---------------- HIPÓTESE - Quais são os 20 filmes mais populares?"
   ]
  },
  {
   "cell_type": "code",
   "execution_count": null,
   "metadata": {},
   "outputs": [],
   "source": [
    "len(round(filmes.popularidade,2).unique())"
   ]
  },
  {
   "cell_type": "code",
   "execution_count": null,
   "metadata": {},
   "outputs": [],
   "source": [
    "plt.plot(filmes.popularidade.head(20), \"bx\")"
   ]
  },
  {
   "cell_type": "code",
   "execution_count": null,
   "metadata": {},
   "outputs": [],
   "source": [
    "# Plotando o gráfico (Tentativa 1)\n",
    "plt.plot(filmes.popularidade.head(10).sort_values(ascending=True), filmes.titulo_original.head(10))\n",
    "plt.ylabel(\"Títulos\")\n",
    "plt.xlabel(\"Popularidade\")\n",
    "plt.title(\"Gráfico de Popularidade x Título (Tentativa 1)\")"
   ]
  },
  {
   "cell_type": "code",
   "execution_count": null,
   "metadata": {},
   "outputs": [],
   "source": [
    "# Plotando o gráfico (Tentativa 2)\n",
    "plt.scatter(filmes.popularidade.head(20).sort_values(ascending=True), filmes.titulo_original.head(20))\n",
    "plt.ylabel(\"Título\")\n",
    "plt.xlabel(\"Popularidade\")\n",
    "plt.title(\"Gráfico de Popularidade x Título (Tentativa 2)\")"
   ]
  },
  {
   "cell_type": "code",
   "execution_count": null,
   "metadata": {},
   "outputs": [],
   "source": [
    " # ---------------- HIPÓTESE - Quais são os gêneros de filmes mais assistidos?"
   ]
  },
  {
   "cell_type": "code",
   "execution_count": null,
   "metadata": {},
   "outputs": [],
   "source": [
    "#Qtde de filmes que possuem a categoria animacao\n",
    "dataset.groupby(by='animacao').size()"
   ]
  },
  {
   "cell_type": "code",
   "execution_count": null,
   "metadata": {},
   "outputs": [],
   "source": [
    "#qual foi a média de idade e a quantidade de passageiros que sobreviveram e que não sobreviveram por sexo. \n",
    "df.groupby(['Sex','Survived']).agg({'Age': np.mean, 'PassengerId': np.size})"
   ]
  },
  {
   "cell_type": "code",
   "execution_count": null,
   "metadata": {},
   "outputs": [],
   "source": [
    "plt.plot(filmes.genero.head(20), \"bx\")"
   ]
  },
  {
   "cell_type": "code",
   "execution_count": null,
   "metadata": {},
   "outputs": [],
   "source": [
    " # ---------------- HIPÓTESE - Existe relação dos filmes mais bem avaliados para a empresa que o produziu?"
   ]
  },
  {
   "cell_type": "code",
   "execution_count": null,
   "metadata": {},
   "outputs": [],
   "source": [
    " # ---------------- HIPÓTESE - Há influência dos idiomas disponíveis no filmes na avaliação dos filmes?"
   ]
  },
  {
   "cell_type": "markdown",
   "metadata": {},
   "source": [
    "### 5) Modelagem 30%\n",
    "\n",
    "Agora você terá mais uma oportunidade de mostrar o que você aprendeu durante o módulo 2 quanto a modelagem de dados e criação de modelos. Utilizando os dados preparados na seção 1 e após a análise feita na seção 2 você deverá:\n",
    "1. **Defina um problema de regressão ou classificação que envolva uma variável dos seus dados.**"
   ]
  },
  {
   "cell_type": "markdown",
   "metadata": {},
   "source": [
    "***---> Comente brevemente sua decisão aqui.***"
   ]
  },
  {
   "cell_type": "markdown",
   "metadata": {},
   "source": [
    "2. **Realize ao menos 2 técnicas de processamento e seleção de features.**\n",
    "    * Isto inclui, normalização, PCA, e técnicas de seleção de features como information gain. Seja criativo pois está parte é crucial para seu modelo. Você pode escolhar manualmente as features desde que seja justificada na seção 2 (parte de Análise).\n"
   ]
  },
  {
   "cell_type": "code",
   "execution_count": null,
   "metadata": {},
   "outputs": [],
   "source": []
  },
  {
   "cell_type": "markdown",
   "metadata": {},
   "source": [
    "3. **Defina uma métrica para avaliar o seu modelo.**\n",
    "    * Por exemplo, você pode utilizar MAE (Mean Absolute Error) para um problema de regressão. Ou, F1-Score para um problema de classificação. Há varias métricas, então escolha sabiamente.\n"
   ]
  },
  {
   "cell_type": "markdown",
   "metadata": {},
   "source": [
    "***---> Comente brevemente sua decisão aqui.***"
   ]
  },
  {
   "cell_type": "markdown",
   "metadata": {},
   "source": [
    "4. **Divida seus dados em 2 conjuntos. Um de treino e outro conjunto de teste.**\n",
    "    * Treine e otimize seu modelo no conjunto de treino e apenas use o conjunto de teste para apresentar os resultados finais.\n"
   ]
  },
  {
   "cell_type": "code",
   "execution_count": null,
   "metadata": {},
   "outputs": [],
   "source": []
  },
  {
   "cell_type": "markdown",
   "metadata": {},
   "source": [
    "5. **Treine um ou mais modelos de ML para o seu problema.**\n",
    "    * Escolha 1 ou mais tipos de classificadores ou regressores dependendo do seu problema.\n",
    "    * Por exemplo, TreeClassifier para um problema de classificação. \n",
    "    * Use cross-validation e outras técnicas como GridSearch e ou RandomizedSearch para encontrar os melhores parametros para o seu modelo.\n"
   ]
  },
  {
   "cell_type": "code",
   "execution_count": null,
   "metadata": {},
   "outputs": [],
   "source": []
  },
  {
   "cell_type": "markdown",
   "metadata": {},
   "source": [
    "6. **Apresente (com visualizações) os resultados do seu modelo mostrando que ele é melhor do que um baseline não aleatório.**\n",
    "    * Para o baseline, você pode escolher um modelo bem trivial mas não aleatório. Por exemplo, para um problema de classificação um baseline pode ser a classe mais presente caso o conjunto de dados seja desbalanceado.  Um modelo mais simples também pode ser utilizado como baseline, por exemplo, você escolheu um Random Forest Classifier, e comparou os resultados um Logistic Regression. Você pode até mesmo escolher um modelo de AutoML(como TPOT) como Baseline."
   ]
  },
  {
   "cell_type": "code",
   "execution_count": null,
   "metadata": {},
   "outputs": [],
   "source": []
  },
  {
   "cell_type": "markdown",
   "metadata": {},
   "source": [
    "### 6) Conclusões **10%**"
   ]
  },
  {
   "cell_type": "markdown",
   "metadata": {},
   "source": [
    "*Partindo das suas hipoteses e investigações, o que você consegue concluir? Suas hipoteses se concretizaram?*"
   ]
  },
  {
   "cell_type": "markdown",
   "metadata": {},
   "source": []
  }
 ],
 "metadata": {
  "file_extension": ".py",
  "kernelspec": {
   "display_name": "Python 3.7.0 64-bit",
   "language": "python",
   "name": "python37064bitc01724e9609b4d719b1530c185cd833e"
  },
  "language_info": {
   "codemirror_mode": {
    "name": "ipython",
    "version": 3
   },
   "file_extension": ".py",
   "mimetype": "text/x-python",
   "name": "python",
   "nbconvert_exporter": "python",
   "pygments_lexer": "ipython3",
   "version": "3.7.0-final"
  },
  "mimetype": "text/x-python",
  "name": "python",
  "npconvert_exporter": "python",
  "pygments_lexer": "ipython3",
  "version": 3
 },
 "nbformat": 4,
 "nbformat_minor": 2
}