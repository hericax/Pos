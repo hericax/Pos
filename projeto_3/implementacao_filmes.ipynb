{
 "cells": [
  {
   "cell_type": "code",
   "execution_count": null,
   "metadata": {},
   "outputs": [],
   "source": [
    "# importando as bibliotecas utilizadas no projeto\n",
    "import pandas as pd\n",
    "import numpy as np "
   ]
  },
  {
   "cell_type": "code",
   "execution_count": null,
   "metadata": {},
   "outputs": [],
   "source": [
    "# Leitura do dataset\n",
    "df = pd.read_csv('C:/Users/Herica/Desktop/Herica/cursoIACD/bases/filmes/movies_metadata.csv')\n",
    "filmes = df"
   ]
  },
  {
   "cell_type": "code",
   "execution_count": 87,
   "metadata": {},
   "outputs": [
    {
     "output_type": "execute_result",
     "data": {
      "text/plain": "  adulto  despesas  genero     id    imdb_id lingua_original  \\\n0  False  30000000     NaN    862  tt0114709              en   \n1  False  65000000     NaN   8844  tt0113497              en   \n2  False         0     NaN  15602  tt0113228              en   \n\n    titulo_original                                          descricao  \\\n0         toy story  led by woody, andy's toys live happily in his ...   \n1           jumanji  when siblings judy and peter discover an encha...   \n2  grumpier old men  a family wedding reignites the ancient feud be...   \n\n  popularidade                                       cia_producao  ...  \\\n0          NaN     [{'name': 'pixar animation studios', 'id': 3}]  ...   \n1          NaN  [{'name': 'tristar pictures', 'id': 559}, {'na...  ...   \n2          NaN  [{'name': 'warner bros.', 'id': 6194}, {'name'...  ...   \n\n       receita duracao                                    idiomas_falados  \\\n0  373554033.0    81.0           [{'iso_639_1': 'en', 'name': 'english'}]   \n1  262797249.0   104.0  [{'iso_639_1': 'en', 'name': 'english'}, {'iso...   \n2          0.0   101.0           [{'iso_639_1': 'en', 'name': 'english'}]   \n\n     status            titulo  video qtde_votos                   novo_genero  \\\n0  released         toy story  False     5415.0   [Animation, Comedy, Family]   \n1  released           jumanji  False     2413.0  [Adventure, Fantasy, Family]   \n2  released  grumpier old men  False       92.0             [Romance, Comedy]   \n\n   adulto_novo          novo_pais_producao  \n0            1  [united states of america]  \n1            1  [united states of america]  \n2            1  [united states of america]  \n\n[3 rows x 22 columns]",
      "text/html": "<div>\n<style scoped>\n    .dataframe tbody tr th:only-of-type {\n        vertical-align: middle;\n    }\n\n    .dataframe tbody tr th {\n        vertical-align: top;\n    }\n\n    .dataframe thead th {\n        text-align: right;\n    }\n</style>\n<table border=\"1\" class=\"dataframe\">\n  <thead>\n    <tr style=\"text-align: right;\">\n      <th></th>\n      <th>adulto</th>\n      <th>despesas</th>\n      <th>genero</th>\n      <th>id</th>\n      <th>imdb_id</th>\n      <th>lingua_original</th>\n      <th>titulo_original</th>\n      <th>descricao</th>\n      <th>popularidade</th>\n      <th>cia_producao</th>\n      <th>...</th>\n      <th>receita</th>\n      <th>duracao</th>\n      <th>idiomas_falados</th>\n      <th>status</th>\n      <th>titulo</th>\n      <th>video</th>\n      <th>qtde_votos</th>\n      <th>novo_genero</th>\n      <th>adulto_novo</th>\n      <th>novo_pais_producao</th>\n    </tr>\n  </thead>\n  <tbody>\n    <tr>\n      <th>0</th>\n      <td>False</td>\n      <td>30000000</td>\n      <td>NaN</td>\n      <td>862</td>\n      <td>tt0114709</td>\n      <td>en</td>\n      <td>toy story</td>\n      <td>led by woody, andy's toys live happily in his ...</td>\n      <td>NaN</td>\n      <td>[{'name': 'pixar animation studios', 'id': 3}]</td>\n      <td>...</td>\n      <td>373554033.0</td>\n      <td>81.0</td>\n      <td>[{'iso_639_1': 'en', 'name': 'english'}]</td>\n      <td>released</td>\n      <td>toy story</td>\n      <td>False</td>\n      <td>5415.0</td>\n      <td>[Animation, Comedy, Family]</td>\n      <td>1</td>\n      <td>[united states of america]</td>\n    </tr>\n    <tr>\n      <th>1</th>\n      <td>False</td>\n      <td>65000000</td>\n      <td>NaN</td>\n      <td>8844</td>\n      <td>tt0113497</td>\n      <td>en</td>\n      <td>jumanji</td>\n      <td>when siblings judy and peter discover an encha...</td>\n      <td>NaN</td>\n      <td>[{'name': 'tristar pictures', 'id': 559}, {'na...</td>\n      <td>...</td>\n      <td>262797249.0</td>\n      <td>104.0</td>\n      <td>[{'iso_639_1': 'en', 'name': 'english'}, {'iso...</td>\n      <td>released</td>\n      <td>jumanji</td>\n      <td>False</td>\n      <td>2413.0</td>\n      <td>[Adventure, Fantasy, Family]</td>\n      <td>1</td>\n      <td>[united states of america]</td>\n    </tr>\n    <tr>\n      <th>2</th>\n      <td>False</td>\n      <td>0</td>\n      <td>NaN</td>\n      <td>15602</td>\n      <td>tt0113228</td>\n      <td>en</td>\n      <td>grumpier old men</td>\n      <td>a family wedding reignites the ancient feud be...</td>\n      <td>NaN</td>\n      <td>[{'name': 'warner bros.', 'id': 6194}, {'name'...</td>\n      <td>...</td>\n      <td>0.0</td>\n      <td>101.0</td>\n      <td>[{'iso_639_1': 'en', 'name': 'english'}]</td>\n      <td>released</td>\n      <td>grumpier old men</td>\n      <td>False</td>\n      <td>92.0</td>\n      <td>[Romance, Comedy]</td>\n      <td>1</td>\n      <td>[united states of america]</td>\n    </tr>\n  </tbody>\n</table>\n<p>3 rows × 22 columns</p>\n</div>"
     },
     "metadata": {},
     "execution_count": 87
    }
   ],
   "source": [
    "# Pré-visaulização do dataset\n",
    "filmes.head(3)"
   ]
  },
  {
   "cell_type": "code",
   "execution_count": null,
   "metadata": {},
   "outputs": [],
   "source": [
    "# tamanho da nossa base\n",
    "print('Número de linhas e número de colunas:', filmes.shape)"
   ]
  },
  {
   "cell_type": "code",
   "execution_count": null,
   "metadata": {},
   "outputs": [],
   "source": [
    "filmes.describe()"
   ]
  },
  {
   "cell_type": "code",
   "execution_count": 83,
   "metadata": {},
   "outputs": [
    {
     "output_type": "execute_result",
     "data": {
      "text/plain": "adulto                 object\ndespesas               object\ngenero                float64\nid                     object\nimdb_id                object\nlingua_original        object\ntitulo_original        object\ndescricao              object\npopularidade           object\ncia_producao           object\npais_producao          object\ndata_lancamento        object\nreceita               float64\nduracao               float64\nidiomas_falados        object\nstatus                 object\ntitulo                 object\nvideo                  object\nqtde_votos            float64\nnovo_genero            object\nadulto_novo             int64\nnovo_pais_producao     object\ndtype: object"
     },
     "metadata": {},
     "execution_count": 83
    }
   ],
   "source": [
    "filmes.dtypes"
   ]
  },
  {
   "cell_type": "code",
   "execution_count": 84,
   "metadata": {},
   "outputs": [],
   "source": [
    "filmes.id = filmes.id.astype('category')"
   ]
  },
  {
   "cell_type": "code",
   "execution_count": 85,
   "metadata": {},
   "outputs": [
    {
     "output_type": "execute_result",
     "data": {
      "text/plain": "adulto                  object\ndespesas                object\ngenero                 float64\nid                    category\nimdb_id                 object\nlingua_original         object\ntitulo_original         object\ndescricao               object\npopularidade            object\ncia_producao            object\npais_producao           object\ndata_lancamento         object\nreceita                float64\nduracao                float64\nidiomas_falados         object\nstatus                  object\ntitulo                  object\nvideo                   object\nqtde_votos             float64\nnovo_genero             object\nadulto_novo              int64\nnovo_pais_producao      object\ndtype: object"
     },
     "metadata": {},
     "execution_count": 85
    }
   ],
   "source": [
    "filmes.dtypes"
   ]
  },
  {
   "cell_type": "code",
   "execution_count": 86,
   "metadata": {},
   "outputs": [
    {
     "output_type": "execute_result",
     "data": {
      "text/plain": "0           862\n1          8844\n2         15602\n3         31357\n4         11862\n          ...  \n45460     30840\n45462    111109\n45463     67758\n45464    227506\n45465    461257\nName: id, Length: 44349, dtype: category\nCategories (44319, object): [100, 10000, 10001, 100010, ..., 9995, 9997, 99977, 9999]"
     },
     "metadata": {},
     "execution_count": 86
    }
   ],
   "source": [
    "filmes.id"
   ]
  },
  {
   "cell_type": "code",
   "execution_count": null,
   "metadata": {},
   "outputs": [],
   "source": [
    "--------------------------- TRATAMENTO DE DADOS NULOS ---------------------"
   ]
  },
  {
   "cell_type": "code",
   "execution_count": null,
   "metadata": {},
   "outputs": [],
   "source": [
    "filmes.isnull().sum()"
   ]
  },
  {
   "cell_type": "code",
   "execution_count": null,
   "metadata": {},
   "outputs": [],
   "source": [
    "# PERCENTUAL DE ELEMENTOS NULOS\n",
    "round(filmes.isnull().mean() * 100,2)"
   ]
  },
  {
   "cell_type": "code",
   "execution_count": null,
   "metadata": {},
   "outputs": [],
   "source": [
    "#dropar colunas consideradas irrelevantes na primeira análise ou que possuem muitos valores nulos\n",
    "filmes.drop(['belongs_to_collection'],axis = 1, inplace = True)\n",
    "filmes.drop(['homepage'],axis = 1, inplace = True)\n",
    "filmes.drop(['poster_path'],axis = 1, inplace = True)     \n",
    "filmes.drop(['tagline'],axis = 1, inplace = True)     "
   ]
  },
  {
   "cell_type": "code",
   "execution_count": null,
   "metadata": {},
   "outputs": [],
   "source": [
    "--------------------------- TRATAMENTO DOS DADOS --------------------------------------\n",
    "\n",
    "Transformar as features que são um dicionário em uma lista"
   ]
  },
  {
   "cell_type": "code",
   "execution_count": null,
   "metadata": {},
   "outputs": [],
   "source": [
    "# feature genres\n",
    "# Recupera os dados da feature e salva numa nova coluna\n",
    "from ast import literal_eval\n",
    "filmes['genres'] = filmes['genres'].apply(literal_eval) # verifica se todos os dados são do mesmo tipo\n",
    "#Função para pegar os nomes dos gêneros, caso exista.\n",
    "def get_list(x):\n",
    "    if isinstance(x, list):\n",
    "        names = [i['name'] for i in x]\n",
    "        if len(names) > 3:\n",
    "            names = names[:3]\n",
    "        return names\n",
    "    return []\n",
    "filmes['novo_genero'] = filmes['genres'].apply(get_list) #O retorno será uma lista com todos os gêneros. quando coloco uma coluna que não existe, ele cria a coluna automaticamente"
   ]
  },
  {
   "cell_type": "code",
   "execution_count": null,
   "metadata": {},
   "outputs": [],
   "source": [
    "# VALIDANDO TRANSFORMAÇÃO\n",
    "filmes[[\"novo_genero\", \"genres\", \"original_title\"]].head(3)"
   ]
  },
  {
   "cell_type": "code",
   "execution_count": null,
   "metadata": {
    "tags": [
     "outputPrepend",
     "outputPrepend",
     "outputPrepend",
     "outputPrepend",
     "outputPrepend",
     "outputPrepend",
     "outputPrepend",
     "outputPrepend",
     "outputPrepend",
     "outputPrepend",
     "outputPrepend",
     "outputPrepend",
     "outputPrepend",
     "outputPrepend",
     "outputPrepend",
     "outputPrepend",
     "outputPrepend",
     "outputPrepend",
     "outputPrepend",
     "outputPrepend",
     "outputPrepend",
     "outputPrepend",
     "outputPrepend",
     "outputPrepend",
     "outputPrepend",
     "outputPrepend",
     "outputPrepend",
     "outputPrepend",
     "outputPrepend",
     "outputPrepend",
     "outputPrepend",
     "outputPrepend",
     "outputPrepend",
     "outputPrepend",
     "outputPrepend",
     "outputPrepend",
     "outputPrepend",
     "outputPrepend",
     "outputPrepend",
     "outputPrepend",
     "outputPrepend",
     "outputPrepend",
     "outputPrepend",
     "outputPrepend",
     "outputPrepend",
     "outputPrepend",
     "outputPrepend",
     "outputPrepend",
     "outputPrepend",
     "outputPrepend",
     "outputPrepend",
     "outputPrepend",
     "outputPrepend",
     "outputPrepend",
     "outputPrepend",
     "outputPrepend"
    ]
   },
   "outputs": [],
   "source": [
    "# Criar uma lista que contenha somente valores únicos de gênero, para idêntificá-los e contabilizá-los\n",
    "todos_registros = len(filmes.novo_genero)        \n",
    "generos_unicos = [] # lista onde será incluídos os gêneros únicos\n",
    "x = 0 \n",
    "#print ('total de registros do dataset: ', todos_registros)\n",
    "while (x < todos_registros): # enquanto tiver registros no dataset\n",
    "    #print (\"x:\", x)\n",
    "    generos = filmes.novo_genero[x]\n",
    "    #print (\"P/ x = {} todos os generos são {}:\".format(x,generos))\n",
    "    tam_generos = len(generos)\n",
    "    #print (\"tam_generos: \", tam_generos)\n",
    "    i = z = 0\n",
    "    while (i < tam_generos): # enquanto o registro tiver generos\n",
    "        cada_genero_registo = filmes.novo_genero[x][i]\n",
    "        #print (\"Para x = {} e i = {} os genero é {} \". format(x, i ,cada_genero_registo))\n",
    "        if (not cada_genero_registo in generos_unicos): # verifica se o genero está na lista de generos únicos\n",
    "            generos_unicos.append(cada_genero_registo) # inclui o genero na lista de generos únicos\n",
    "            #print (\"lista com os generos únicos\", generos_unicos)\n",
    "            z +=1\n",
    "        i += 1        \n",
    "    x += 1\n",
    "\n",
    "\n",
    "print (\"generos únicos: \", len(generos_unicos))\n",
    "print (generos_unicos)"
   ]
  },
  {
   "cell_type": "code",
   "execution_count": null,
   "metadata": {},
   "outputs": [],
   "source": [
    "# VERIFICAÇÃO DO PERCENTUAL DE ELEMENTOS NULOS\n",
    "round(filmes.isnull().mean() * 100,2)"
   ]
  },
  {
   "cell_type": "code",
   "execution_count": null,
   "metadata": {},
   "outputs": [],
   "source": [
    "# Percentual das features que não possuem valor (dados faltantes):\n",
    "(filmes.isnull().sum() / filmes.shape[0]).sort_values(ascending=False)"
   ]
  },
  {
   "cell_type": "code",
   "execution_count": null,
   "metadata": {},
   "outputs": [],
   "source": [
    "filmes.shape"
   ]
  },
  {
   "cell_type": "code",
   "execution_count": null,
   "metadata": {},
   "outputs": [],
   "source": [
    "# REMOVE ELEMENTOS QUE AINDA POSSUEM DADOS NULOS\n",
    "filmes = filmes.dropna()"
   ]
  },
  {
   "cell_type": "code",
   "execution_count": null,
   "metadata": {},
   "outputs": [],
   "source": [
    "filmes.shape"
   ]
  },
  {
   "cell_type": "code",
   "execution_count": null,
   "metadata": {},
   "outputs": [],
   "source": [
    "# identificando o id do registro \n",
    "print (\"registro written by ørnås: \" , filmes.loc [filmes['adult'] == ' - written by ørnås'])"
   ]
  },
  {
   "cell_type": "code",
   "execution_count": null,
   "metadata": {},
   "outputs": [],
   "source": [
    "# identificando o id do 2o registro \n",
    "print (\"registro rune balot goes ...: \" , filmes.loc [filmes['adult'] == ' rune balot goes to a casino connected to the october corporation to try to wrap up her case once and for all.'])"
   ]
  },
  {
   "cell_type": "code",
   "execution_count": null,
   "metadata": {},
   "outputs": [],
   "source": [
    "# identificando o id do 3o registro \n",
    "print (\"registro rune balot goes ...: \" , filmes.loc [filmes['adult'] == ' avalanche sharks tells the story of a bikini contest that turns into a horrifying affair when it is hit by a shark avalanche.'])"
   ]
  },
  {
   "cell_type": "code",
   "execution_count": null,
   "metadata": {},
   "outputs": [],
   "source": [
    "#Conforme observamos acima, a feature 'adulto' possui três registros diferente de false e true, portanto serão excluídos\n",
    "\n",
    "# id: 19730  -> filmes['adulto'] == ' - written by ørnås'\n",
    "filmes = filmes.drop([19730]) \n",
    "\n",
    "# id: 29503   -> filmes['adulto'] == ' rune balot goes to ....'\n",
    "filmes = filmes.drop([29503]) \n",
    "\n",
    "#id 35587   -> filmes['adulto'] == ' avalanche sharks tells ....'\n",
    "#excluir = filmes.loc [filmes['adulto'] == ' avalanche sharks tells the story of a bikini contest that turns into a horrifying affair when it is hit by a shark avalanche.']\n",
    "filmes = filmes.drop([35587]) "
   ]
  },
  {
   "cell_type": "code",
   "execution_count": null,
   "metadata": {},
   "outputs": [],
   "source": [
    "# TRANSFORMANDO A FEATURE \"adult\" EM BINÁRIO, ONDE 'True' = 1 e 'False' = 0\n",
    "filmes[\"adulto_novo\"] = filmes[\"adult\"].apply(lambda x: 1 if x == \"False\" else 0)"
   ]
  },
  {
   "cell_type": "code",
   "execution_count": null,
   "metadata": {},
   "outputs": [],
   "source": [
    "# VALIDANDO TRANSFORMAÇÃO da feature \"adult\"\n",
    "filmes[[\"adulto_novo\", \"adult\",\"original_title\"]].head(3)"
   ]
  },
  {
   "cell_type": "code",
   "execution_count": null,
   "metadata": {},
   "outputs": [],
   "source": [
    "# converter todos os valores da features do tipo string para caixa baixa, padronizando os dados\n",
    "# o dataset possui 21 features após a exclusão de features consideradas irrelevantes e 45466 registros\n",
    "#filmes['adult'] = filmes['adult'].str.lower()  \n",
    "filmes['budget'] = filmes['budget'].str.lower() \n",
    "filmes['genres'] = filmes['genres'].str.lower() \n",
    "filmes['id'] = filmes['id'].str.lower() \n",
    "filmes['imdb_id'] = filmes['imdb_id'].str.lower() \n",
    "filmes['original_language'] = filmes['original_language'].str.lower() \n",
    "filmes['original_title'] = filmes['original_title'].str.lower() \n",
    "filmes['overview'] = filmes['overview'].str.lower() \n",
    "filmes['popularity'] = filmes['popularity'].str.lower() \n",
    "filmes['production_companies'] = filmes['production_companies'].str.lower() \n",
    "filmes['production_countries'] = filmes['production_countries'].str.lower() \n",
    "filmes['release_date'] = filmes['release_date'].str.lower() \n",
    "filmes['spoken_languages'] = filmes['spoken_languages'].str.lower() \n",
    "filmes['status'] = filmes['status'].str.lower() \n",
    "filmes['title'] = filmes['title'].str.lower() "
   ]
  },
  {
   "cell_type": "code",
   "execution_count": null,
   "metadata": {},
   "outputs": [],
   "source": [
    "# Percentual das features que não possuem valor (dados faltantes):\n",
    "(filmes.isnull().sum() / filmes.shape[0]).sort_values(ascending=False)"
   ]
  },
  {
   "cell_type": "code",
   "execution_count": null,
   "metadata": {},
   "outputs": [],
   "source": [
    "# visualizar o nome das colunas do DATASET\n",
    "filmes.columns"
   ]
  },
  {
   "cell_type": "code",
   "execution_count": null,
   "metadata": {},
   "outputs": [],
   "source": [
    "# renomear as coluna e usar todas com caixa baixa para padronizar\n",
    "filmes = filmes.rename(columns={'adult': \"adulto\", 'budget': 'despesas', 'genres': 'genero', 'original_language': 'lingua_original', 'original_title': 'titulo_original', 'overview': 'descricao', 'popularity': 'popularidade', 'production_companies': 'cia_producao', 'production_countries': 'pais_producao', 'release_date': 'data_lancamento', 'revenue': 'receita', 'runtime': 'duracao', 'spoken_languages': 'idiomas_falados', 'title': 'titulo', 'vote_average': 'media_votos', 'vote_count': 'qtde_votos','video': 'video'})"
   ]
  },
  {
   "cell_type": "code",
   "execution_count": null,
   "metadata": {},
   "outputs": [],
   "source": [
    "# descrição das features\n",
    "'ADULTO' - se o filme é para adulto ou não \n",
    "'DESPESAS' - valor gasto na produção e divulgação dos vídeos\n",
    "'GENERO' - qual é o gêncero do filme.\n",
    "'ID' - Número que identifica o filme\n",
    "'IMDB_ID' - número unico que identifica o filme na base do IMDB\n",
    "'LINGUA_ORIGINAL' - Qual é o idioma original do filme. \n",
    "'TITULO_ORIGINAL' - Titulo original do filme\n",
    "'DESCRICAO' - Descrição do filme\n",
    "'POPULARIDADE' - Qual é a popularidade do filme\n",
    "'CIA_PRODUCAO' - Qual foi a companhia que produziu o filme. \n",
    "'PAIS_PRODUCAO' - Qual foi o país que produziu o filme.\n",
    "'DATA_LANCAMENTO' - Qual foi a data de lançamento do filme\n",
    "'RECEITA' -  Qual foi a receita obtida com o filme\n",
    "'DURACAO' - Qual é a duração do filme em minutos\n",
    "'IDIOMAS_FALADOS' - Quais são os idiomas falados no filme. \n",
    "'STATUS' - Status do filmes. \n",
    "'SLOGAN' - Qual é o slogan do filme.\n",
    "'TITULO' - Qual é o título do filme\n",
    "'VIDEO' - Se tem o video ou não do traile ????????? precisa desta feature ?????\n",
    "'MEDIA_VOTOS' - Qual é a média de votos dada pelos usuários\n",
    "'QTDE_VOTOS' - Qual foi a quantidade de votos\n",
    "\n",
    "# Tipos de features e seus possíveis valores\n",
    "A) Variáveis discretas - O dataset contém 8 variáveis:\n",
    "1 - ADULTO - Contém dois valores possíveis: 'False' = 1, 'True' = 0\n",
    "2 - GENERO -  Contém 29 valores possíveis: ['animation', 'comedy', 'family', 'adventure', 'fantasy', 'romance', 'drama', 'action', 'crime', 'thriller', 'horror', 'history', 'science fiction', 'mystery', 'war', 'foreign', 'music', 'documentary', 'western', 'tv movie', 'carousel productions', 'vision view entertainment', 'telescene film group productions', 'aniplex', 'gohands', 'brosta tv', 'odyssey media', 'pulser productions', 'rogue state']\n",
    "3 - LINGUA_ORIGINAL -possui 90 opções possíveis: 'en' 'fr' 'zh' 'it' 'fa' 'nl' 'de' 'cn' 'ar' 'es' 'ru' 'sv' 'ja' 'ko'  'sr' 'bn' 'he' 'pt' 'wo' 'ro' 'hu' 'cy' 'vi' 'cs' 'da' 'no' 'nb' 'pl'\n",
    " 'el' 'sh' 'xx' 'mk' 'bo' 'ca' 'fi' 'th' 'sk' 'bs' 'hi' 'tr' 'is' 'ps'\n",
    " 'ab' 'eo' 'ka' 'mn' 'bm' 'zu' 'uk' 'af' 'la' 'et' 'ku' 'fy' 'lv' 'ta'\n",
    " 'sl' 'tl' 'ur' 'rw' 'id' 'bg' 'mr' 'lt' 'kk' 'ms' 'sq' nan 'qu' 'te' 'am'\n",
    " 'jv' 'tg' 'ml' 'hr' 'lo' 'ay' 'kn' 'eu' 'ne' 'pa' 'ky' 'gl' 'uz' 'sm'\n",
    " 'mt' 'hy' 'iu' 'lb' 'si'\n",
    "4 - cia_producao   - ????? TRANSFORMAR OS DADOS EM FEATURES      - FAZER UM DICIONARIO PARA                      #CONVERTER O ID E NOME DA CIA\n",
    "5 - pais_producao  - ???????TRANSFORMAR OS DADOS - FAZER DICIONARIO -> SIGLA E NOME DO PAIS \n",
    "6 - idiomas_falado - ????????TRANSFORMAR OS DADOS - CRIAR LISTA COM OS IDIOMAS FALADOS\n",
    "7 - status - 'Released', nan, 'Rumored', 'Post Production', 'In Production', 'Planned', 'Canceled'          \n",
    "8 - video - False, True, nan\n",
    "\n",
    "B) Variáveis categóricas - O dataset contém 13 variáveis: \n",
    "DESPESAS,ID,IMDB_ID ,TITULO_ORIGINAL, DESCRICAO,DATA_LANCAMENTO,POPULARIDADE,  \n",
    "RECEITA ,  DURACAO(MINUTOS),SLOGAN, TITULO,MEDIA_VOTOS,QTDE_VOTOS          "
   ]
  },
  {
   "cell_type": "code",
   "execution_count": null,
   "metadata": {},
   "outputs": [],
   "source": [
    "# feature pais_producao\n",
    "# Recupera os dados da feature e salva numa nova coluna\n",
    "from ast import literal_eval\n",
    "filmes['pais_producao'] = filmes['pais_producao'].apply(literal_eval) # verifica se todos os dados são do mesmo tipo\n",
    "#Função para pegar os nomes dos gêneros, caso exista.\n",
    "def get_list(x):\n",
    "    if isinstance(x, list):\n",
    "        names = [i['name'] for i in x]\n",
    "        if len(names) > 3:\n",
    "            names = names[:3]\n",
    "        return names\n",
    "    return []\n",
    "filmes['novo_pais_producao'] = filmes['pais_producao'].apply(get_list) #O retorno será uma lista com todos os gêneros. quando coloco uma coluna que não existe, ele cria a coluna automaticamente"
   ]
  },
  {
   "cell_type": "code",
   "execution_count": null,
   "metadata": {},
   "outputs": [],
   "source": [
    "# VALIDANDO TRANSFORMAÇÃO\n",
    "filmes[[\"novo_pais_producao\", \"pais_producao\", \"titulo_original\"]].head(3)"
   ]
  },
  {
   "cell_type": "code",
   "execution_count": null,
   "metadata": {},
   "outputs": [],
   "source": []
  },
  {
   "cell_type": "code",
   "execution_count": 29,
   "metadata": {
    "tags": [
     "outputPrepend",
     "outputPrepend",
     "outputPrepend",
     "outputPrepend",
     "outputPrepend",
     "outputPrepend",
     "outputPrepend",
     "outputPrepend",
     "outputPrepend",
     "outputPrepend",
     "outputPrepend",
     "outputPrepend",
     "outputPrepend",
     "outputPrepend",
     "outputPrepend",
     "outputPrepend",
     "outputPrepend",
     "outputPrepend",
     "outputPrepend",
     "outputPrepend",
     "outputPrepend",
     "outputPrepend",
     "outputPrepend",
     "outputPrepend",
     "outputPrepend",
     "outputPrepend",
     "outputPrepend",
     "outputPrepend",
     "outputPrepend",
     "outputPrepend",
     "outputPrepend",
     "outputPrepend",
     "outputPrepend",
     "outputPrepend",
     "outputPrepend",
     "outputPrepend",
     "outputPrepend",
     "outputPrepend",
     "outputPrepend",
     "outputPrepend",
     "outputPrepend",
     "outputPrepend",
     "outputPrepend",
     "outputPrepend",
     "outputPrepend",
     "outputPrepend",
     "outputPrepend",
     "outputPrepend",
     "outputPrepend",
     "outputPrepend",
     "outputPrepend",
     "outputPrepend",
     "outputPrepend",
     "outputPrepend",
     "outputPrepend",
     "outputPrepend",
     "outputPrepend",
     "outputPrepend",
     "outputPrepend",
     "outputPrepend",
     "outputPrepend",
     "outputPrepend",
     "outputPrepend",
     "outputPrepend",
     "outputPrepend",
     "outputPrepend",
     "outputPrepend",
     "outputPrepend",
     "outputPrepend",
     "outputPrepend",
     "outputPrepend",
     "outputPrepend",
     "outputPrepend",
     "outputPrepend",
     "outputPrepend",
     "outputPrepend",
     "outputPrepend",
     "outputPrepend",
     "outputPrepend",
     "outputPrepend",
     "outputPrepend",
     "outputPrepend",
     "outputPrepend"
    ]
   },
   "outputs": [
    {
     "output_type": "error",
     "ename": "KeyError",
     "evalue": "32",
     "traceback": [
      "\u001b[1;31m---------------------------------------------------------------------------\u001b[0m",
      "\u001b[1;31mKeyError\u001b[0m                                  Traceback (most recent call last)",
      "\u001b[1;32m<ipython-input-29-193810f377b9>\u001b[0m in \u001b[0;36m<module>\u001b[1;34m\u001b[0m\n\u001b[0;32m      1\u001b[0m \u001b[1;31m# Criar uma lista que contenha somente valores únicos de gênero, para idêntificá-los e contabilizá-los\u001b[0m\u001b[1;33m\u001b[0m\u001b[1;33m\u001b[0m\u001b[0m\n\u001b[1;32m----> 2\u001b[1;33m \u001b[0mtodos_registros\u001b[0m \u001b[1;33m=\u001b[0m \u001b[0mlen\u001b[0m\u001b[1;33m(\u001b[0m\u001b[0mfilmes\u001b[0m\u001b[1;33m.\u001b[0m\u001b[0mnovo_pais_producao\u001b[0m\u001b[1;33m[\u001b[0m\u001b[1;36m32\u001b[0m\u001b[1;33m]\u001b[0m\u001b[1;33m)\u001b[0m\u001b[1;33m\u001b[0m\u001b[0m\n\u001b[0m\u001b[0;32m      3\u001b[0m \u001b[0mpais_producao_unicos\u001b[0m \u001b[1;33m=\u001b[0m \u001b[1;33m[\u001b[0m\u001b[1;33m]\u001b[0m \u001b[1;31m# lista onde será incluídos os gêneros únicos\u001b[0m\u001b[1;33m\u001b[0m\u001b[0m\n\u001b[0;32m      4\u001b[0m \u001b[0mx\u001b[0m \u001b[1;33m=\u001b[0m \u001b[1;36m0\u001b[0m\u001b[1;33m\u001b[0m\u001b[0m\n\u001b[0;32m      5\u001b[0m \u001b[0mprint\u001b[0m \u001b[1;33m(\u001b[0m\u001b[1;34m'total de registros do dataset: '\u001b[0m\u001b[1;33m,\u001b[0m \u001b[0mtodos_registros\u001b[0m\u001b[1;33m)\u001b[0m\u001b[1;33m\u001b[0m\u001b[0m\n",
      "\u001b[1;32m~\\AppData\\Local\\Programs\\Python\\Python37\\lib\\site-packages\\pandas\\core\\series.py\u001b[0m in \u001b[0;36m__getitem__\u001b[1;34m(self, key)\u001b[0m\n\u001b[0;32m   1069\u001b[0m         \u001b[0mkey\u001b[0m \u001b[1;33m=\u001b[0m \u001b[0mcom\u001b[0m\u001b[1;33m.\u001b[0m\u001b[0mapply_if_callable\u001b[0m\u001b[1;33m(\u001b[0m\u001b[0mkey\u001b[0m\u001b[1;33m,\u001b[0m \u001b[0mself\u001b[0m\u001b[1;33m)\u001b[0m\u001b[1;33m\u001b[0m\u001b[0m\n\u001b[0;32m   1070\u001b[0m         \u001b[1;32mtry\u001b[0m\u001b[1;33m:\u001b[0m\u001b[1;33m\u001b[0m\u001b[0m\n\u001b[1;32m-> 1071\u001b[1;33m             \u001b[0mresult\u001b[0m \u001b[1;33m=\u001b[0m \u001b[0mself\u001b[0m\u001b[1;33m.\u001b[0m\u001b[0mindex\u001b[0m\u001b[1;33m.\u001b[0m\u001b[0mget_value\u001b[0m\u001b[1;33m(\u001b[0m\u001b[0mself\u001b[0m\u001b[1;33m,\u001b[0m \u001b[0mkey\u001b[0m\u001b[1;33m)\u001b[0m\u001b[1;33m\u001b[0m\u001b[0m\n\u001b[0m\u001b[0;32m   1072\u001b[0m \u001b[1;33m\u001b[0m\u001b[0m\n\u001b[0;32m   1073\u001b[0m             \u001b[1;32mif\u001b[0m \u001b[1;32mnot\u001b[0m \u001b[0mis_scalar\u001b[0m\u001b[1;33m(\u001b[0m\u001b[0mresult\u001b[0m\u001b[1;33m)\u001b[0m\u001b[1;33m:\u001b[0m\u001b[1;33m\u001b[0m\u001b[0m\n",
      "\u001b[1;32m~\\AppData\\Local\\Programs\\Python\\Python37\\lib\\site-packages\\pandas\\core\\indexes\\base.py\u001b[0m in \u001b[0;36mget_value\u001b[1;34m(self, series, key)\u001b[0m\n\u001b[0;32m   4728\u001b[0m         \u001b[0mk\u001b[0m \u001b[1;33m=\u001b[0m \u001b[0mself\u001b[0m\u001b[1;33m.\u001b[0m\u001b[0m_convert_scalar_indexer\u001b[0m\u001b[1;33m(\u001b[0m\u001b[0mk\u001b[0m\u001b[1;33m,\u001b[0m \u001b[0mkind\u001b[0m\u001b[1;33m=\u001b[0m\u001b[1;34m\"getitem\"\u001b[0m\u001b[1;33m)\u001b[0m\u001b[1;33m\u001b[0m\u001b[0m\n\u001b[0;32m   4729\u001b[0m         \u001b[1;32mtry\u001b[0m\u001b[1;33m:\u001b[0m\u001b[1;33m\u001b[0m\u001b[0m\n\u001b[1;32m-> 4730\u001b[1;33m             \u001b[1;32mreturn\u001b[0m \u001b[0mself\u001b[0m\u001b[1;33m.\u001b[0m\u001b[0m_engine\u001b[0m\u001b[1;33m.\u001b[0m\u001b[0mget_value\u001b[0m\u001b[1;33m(\u001b[0m\u001b[0ms\u001b[0m\u001b[1;33m,\u001b[0m \u001b[0mk\u001b[0m\u001b[1;33m,\u001b[0m \u001b[0mtz\u001b[0m\u001b[1;33m=\u001b[0m\u001b[0mgetattr\u001b[0m\u001b[1;33m(\u001b[0m\u001b[0mseries\u001b[0m\u001b[1;33m.\u001b[0m\u001b[0mdtype\u001b[0m\u001b[1;33m,\u001b[0m \u001b[1;34m\"tz\"\u001b[0m\u001b[1;33m,\u001b[0m \u001b[1;32mNone\u001b[0m\u001b[1;33m)\u001b[0m\u001b[1;33m)\u001b[0m\u001b[1;33m\u001b[0m\u001b[0m\n\u001b[0m\u001b[0;32m   4731\u001b[0m         \u001b[1;32mexcept\u001b[0m \u001b[0mKeyError\u001b[0m \u001b[1;32mas\u001b[0m \u001b[0me1\u001b[0m\u001b[1;33m:\u001b[0m\u001b[1;33m\u001b[0m\u001b[0m\n\u001b[0;32m   4732\u001b[0m             \u001b[1;32mif\u001b[0m \u001b[0mlen\u001b[0m\u001b[1;33m(\u001b[0m\u001b[0mself\u001b[0m\u001b[1;33m)\u001b[0m \u001b[1;33m>\u001b[0m \u001b[1;36m0\u001b[0m \u001b[1;32mand\u001b[0m \u001b[1;33m(\u001b[0m\u001b[0mself\u001b[0m\u001b[1;33m.\u001b[0m\u001b[0mholds_integer\u001b[0m\u001b[1;33m(\u001b[0m\u001b[1;33m)\u001b[0m \u001b[1;32mor\u001b[0m \u001b[0mself\u001b[0m\u001b[1;33m.\u001b[0m\u001b[0mis_boolean\u001b[0m\u001b[1;33m(\u001b[0m\u001b[1;33m)\u001b[0m\u001b[1;33m)\u001b[0m\u001b[1;33m:\u001b[0m\u001b[1;33m\u001b[0m\u001b[0m\n",
      "\u001b[1;32mpandas/_libs/index.pyx\u001b[0m in \u001b[0;36mpandas._libs.index.IndexEngine.get_value\u001b[1;34m()\u001b[0m\n",
      "\u001b[1;32mpandas/_libs/index.pyx\u001b[0m in \u001b[0;36mpandas._libs.index.IndexEngine.get_value\u001b[1;34m()\u001b[0m\n",
      "\u001b[1;32mpandas/_libs/index.pyx\u001b[0m in \u001b[0;36mpandas._libs.index.IndexEngine.get_loc\u001b[1;34m()\u001b[0m\n",
      "\u001b[1;32mpandas/_libs/hashtable_class_helper.pxi\u001b[0m in \u001b[0;36mpandas._libs.hashtable.Int64HashTable.get_item\u001b[1;34m()\u001b[0m\n",
      "\u001b[1;32mpandas/_libs/hashtable_class_helper.pxi\u001b[0m in \u001b[0;36mpandas._libs.hashtable.Int64HashTable.get_item\u001b[1;34m()\u001b[0m\n",
      "\u001b[1;31mKeyError\u001b[0m: 32"
     ]
    }
   ],
   "source": [
    "# Criar uma lista que contenha somente valores únicos de gênero, para idêntificá-los e contabilizá-los\n",
    "todos_registros = len(filmes.novo_pais_producao[32])        \n",
    "pais_producao_unicos = [] # lista onde será incluídos os gêneros únicos\n",
    "x = 0 \n",
    "print ('total de registros do dataset: ', todos_registros)\n",
    "while (x < todos_registros): # enquanto tiver registros no dataset\n",
    "    #print (\"x:\", x)\n",
    "    pais = filmes.novo_pais_producao[x]\n",
    "    #print (\"P/ x = {} todos os generos são {}:\".format(x,pais))\n",
    "    tam_pais = len(pais)\n",
    "    #print (\"tam_pais: \", tam_pais)\n",
    "    i = z = 0\n",
    "    while (i < tam_pais): # enquanto o registro tiver generos\n",
    "        cada_pais_registo = filmes.novo_pais_producao[x][i]\n",
    "        #print (\"Para x = {} e i = {} os genero é {} \". format(x, i ,cada_genero_registo))\n",
    "        if (not cada_pais_registo in pais_producao_unicos): # verifica se o genero está na lista de generos únicos\n",
    "            pais_producao_unicos.append(cada_pais_registo) # inclui o genero na lista de generos únicos\n",
    "            #print (\"lista com os generos únicos\", generos_unicos)\n",
    "            z +=1\n",
    "        i += 1        \n",
    "    x += 1\n",
    "\n",
    "print (\"pais_producao_unicos: \", len(pais_producao_unicos))\n",
    "print (pais_producao_unicos)"
   ]
  },
  {
   "cell_type": "code",
   "execution_count": null,
   "metadata": {},
   "outputs": [],
   "source": [
    "# Percentual das features que não possuem valor (dados faltantes):\n",
    "(filmes.isnull().sum() / filmes.shape[0]).sort_values(ascending=False)"
   ]
  },
  {
   "cell_type": "code",
   "execution_count": null,
   "metadata": {},
   "outputs": [],
   "source": [
    "#Após transformação das features, exclusão das features irrelevantes e exclusão de registros incorretos ou com informações ausentes\n",
    "filmes.shape"
   ]
  },
  {
   "cell_type": "code",
   "execution_count": null,
   "metadata": {},
   "outputs": [],
   "source": [
    "filmes.dtypes"
   ]
  },
  {
   "cell_type": "code",
   "execution_count": null,
   "metadata": {},
   "outputs": [],
   "source": [
    "# --------------------- Separação do target --------------------------"
   ]
  },
  {
   "cell_type": "code",
   "execution_count": null,
   "metadata": {},
   "outputs": [],
   "source": [
    "target = filmes['media_votos']\n",
    "\n",
    "filmes = filmes.drop(['media_votos'],axis=1)\n",
    "\n",
    "\"\"\" mostre os nomes de colunas do dataframe para verificar exclusão da coluna\"\"\"\n",
    "filmes.columns"
   ]
  },
  {
   "cell_type": "code",
   "execution_count": null,
   "metadata": {},
   "outputs": [],
   "source": [
    "#  *************************** BINARIZAR AS VARIÁVEIS CATEGÓRICAS  ***************************\n",
    "\n",
    "# atributos categóricos: despesas,id,imdb_id ,titulo_original, descricao,data_lancamento,popularidade, receita, duracao(minutos),slogan, titulo,media_votos,qtde_votos "
   ]
  },
  {
   "cell_type": "code",
   "execution_count": 69,
   "metadata": {},
   "outputs": [],
   "source": [
    "#Aplique a função get_dummies\n",
    "df2 = filmes\n",
    "#{'adult': \"adulto\", 'budget': 'despesas', 'genres': 'genero', 'original_language': 'lingua_original', 'original_title': 'titulo_original', 'overview': 'descricao', 'popularity': 'popularidade', 'production_companies': 'cia_producao', 'production_countries': 'pais_producao', 'release_date': 'data_lancamento', 'revenue': 'receita', 'runtime': 'duracao', 'spoken_languages': 'idiomas_falados', 'title': 'titulo', 'vote_average': 'media_votos', 'vote_count': 'qtde_votos','video': 'video'})"
   ]
  },
  {
   "cell_type": "code",
   "execution_count": 70,
   "metadata": {},
   "outputs": [
    {
     "output_type": "execute_result",
     "data": {
      "text/plain": "      adulto  despesas  genero      id    imdb_id lingua_original  \\\n0      False  30000000     NaN     862  tt0114709              en   \n1      False  65000000     NaN    8844  tt0113497              en   \n2      False         0     NaN   15602  tt0113228              en   \n3      False  16000000     NaN   31357  tt0114885              en   \n4      False         0     NaN   11862  tt0113041              en   \n...      ...       ...     ...     ...        ...             ...   \n45460  False         0     NaN   30840  tt0102797              en   \n45462  False         0     NaN  111109  tt2028550              tl   \n45463  False         0     NaN   67758  tt0303758              en   \n45464  False         0     NaN  227506  tt0008536              en   \n45465  False         0     NaN  461257  tt6980792              en   \n\n                   titulo_original  \\\n0                        toy story   \n1                          jumanji   \n2                 grumpier old men   \n3                waiting to exhale   \n4      father of the bride part ii   \n...                            ...   \n45460                   robin hood   \n45462          siglo ng pagluluwal   \n45463                     betrayal   \n45464          satana likuyushchiy   \n45465                     queerama   \n\n                                               descricao popularidade  \\\n0      led by woody, andy's toys live happily in his ...          NaN   \n1      when siblings judy and peter discover an encha...          NaN   \n2      a family wedding reignites the ancient feud be...          NaN   \n3      cheated on, mistreated and stepped on, the wom...          NaN   \n4      just when george banks has recovered from his ...          NaN   \n...                                                  ...          ...   \n45460  yet another version of the classic epic, with ...     5.683753   \n45462  an artist struggles to finish his work while a...     0.178241   \n45463  when one of her hits goes wrong, a professiona...     0.903007   \n45464  in a small town live two brothers, one a minis...     0.003503   \n45465  50 years after decriminalisation of homosexual...     0.163015   \n\n                                            cia_producao  ...      receita  \\\n0         [{'name': 'pixar animation studios', 'id': 3}]  ...  373554033.0   \n1      [{'name': 'tristar pictures', 'id': 559}, {'na...  ...  262797249.0   \n2      [{'name': 'warner bros.', 'id': 6194}, {'name'...  ...          0.0   \n3      [{'name': 'twentieth century fox film corporat...  ...   81452156.0   \n4      [{'name': 'sandollar productions', 'id': 5842}...  ...   76578911.0   \n...                                                  ...  ...          ...   \n45460  [{'name': 'westdeutscher rundfunk (wdr)', 'id'...  ...          0.0   \n45462             [{'name': 'sine olivia', 'id': 19653}]  ...          0.0   \n45463  [{'name': 'american world pictures', 'id': 6165}]  ...          0.0   \n45464               [{'name': 'yermoliev', 'id': 88753}]  ...          0.0   \n45465                                                 []  ...          0.0   \n\n      duracao                                    idiomas_falados    status  \\\n0        81.0           [{'iso_639_1': 'en', 'name': 'english'}]  released   \n1       104.0  [{'iso_639_1': 'en', 'name': 'english'}, {'iso...  released   \n2       101.0           [{'iso_639_1': 'en', 'name': 'english'}]  released   \n3       127.0           [{'iso_639_1': 'en', 'name': 'english'}]  released   \n4       106.0           [{'iso_639_1': 'en', 'name': 'english'}]  released   \n...       ...                                                ...       ...   \n45460   104.0           [{'iso_639_1': 'en', 'name': 'english'}]  released   \n45462   360.0                  [{'iso_639_1': 'tl', 'name': ''}]  released   \n45463    90.0           [{'iso_639_1': 'en', 'name': 'english'}]  released   \n45464    87.0                                                 []  released   \n45465    75.0           [{'iso_639_1': 'en', 'name': 'english'}]  released   \n\n                            titulo  video qtde_votos  \\\n0                        toy story  False     5415.0   \n1                          jumanji  False     2413.0   \n2                 grumpier old men  False       92.0   \n3                waiting to exhale  False       34.0   \n4      father of the bride part ii  False      173.0   \n...                            ...    ...        ...   \n45460                   robin hood  False       26.0   \n45462          century of birthing  False        3.0   \n45463                     betrayal  False        6.0   \n45464             satan triumphant  False        0.0   \n45465                     queerama  False        0.0   \n\n                        novo_genero  adulto_novo  \\\n0       [Animation, Comedy, Family]            1   \n1      [Adventure, Fantasy, Family]            1   \n2                 [Romance, Comedy]            1   \n3          [Comedy, Drama, Romance]            1   \n4                          [Comedy]            1   \n...                             ...          ...   \n45460      [Drama, Action, Romance]            1   \n45462                       [Drama]            1   \n45463     [Action, Drama, Thriller]            1   \n45464                            []            1   \n45465                            []            1   \n\n                      novo_pais_producao  \n0             [united states of america]  \n1             [united states of america]  \n2             [united states of america]  \n3             [united states of america]  \n4             [united states of america]  \n...                                  ...  \n45460  [canada, germany, united kingdom]  \n45462                      [philippines]  \n45463         [united states of america]  \n45464                           [russia]  \n45465                   [united kingdom]  \n\n[44349 rows x 22 columns]",
      "text/html": "<div>\n<style scoped>\n    .dataframe tbody tr th:only-of-type {\n        vertical-align: middle;\n    }\n\n    .dataframe tbody tr th {\n        vertical-align: top;\n    }\n\n    .dataframe thead th {\n        text-align: right;\n    }\n</style>\n<table border=\"1\" class=\"dataframe\">\n  <thead>\n    <tr style=\"text-align: right;\">\n      <th></th>\n      <th>adulto</th>\n      <th>despesas</th>\n      <th>genero</th>\n      <th>id</th>\n      <th>imdb_id</th>\n      <th>lingua_original</th>\n      <th>titulo_original</th>\n      <th>descricao</th>\n      <th>popularidade</th>\n      <th>cia_producao</th>\n      <th>...</th>\n      <th>receita</th>\n      <th>duracao</th>\n      <th>idiomas_falados</th>\n      <th>status</th>\n      <th>titulo</th>\n      <th>video</th>\n      <th>qtde_votos</th>\n      <th>novo_genero</th>\n      <th>adulto_novo</th>\n      <th>novo_pais_producao</th>\n    </tr>\n  </thead>\n  <tbody>\n    <tr>\n      <th>0</th>\n      <td>False</td>\n      <td>30000000</td>\n      <td>NaN</td>\n      <td>862</td>\n      <td>tt0114709</td>\n      <td>en</td>\n      <td>toy story</td>\n      <td>led by woody, andy's toys live happily in his ...</td>\n      <td>NaN</td>\n      <td>[{'name': 'pixar animation studios', 'id': 3}]</td>\n      <td>...</td>\n      <td>373554033.0</td>\n      <td>81.0</td>\n      <td>[{'iso_639_1': 'en', 'name': 'english'}]</td>\n      <td>released</td>\n      <td>toy story</td>\n      <td>False</td>\n      <td>5415.0</td>\n      <td>[Animation, Comedy, Family]</td>\n      <td>1</td>\n      <td>[united states of america]</td>\n    </tr>\n    <tr>\n      <th>1</th>\n      <td>False</td>\n      <td>65000000</td>\n      <td>NaN</td>\n      <td>8844</td>\n      <td>tt0113497</td>\n      <td>en</td>\n      <td>jumanji</td>\n      <td>when siblings judy and peter discover an encha...</td>\n      <td>NaN</td>\n      <td>[{'name': 'tristar pictures', 'id': 559}, {'na...</td>\n      <td>...</td>\n      <td>262797249.0</td>\n      <td>104.0</td>\n      <td>[{'iso_639_1': 'en', 'name': 'english'}, {'iso...</td>\n      <td>released</td>\n      <td>jumanji</td>\n      <td>False</td>\n      <td>2413.0</td>\n      <td>[Adventure, Fantasy, Family]</td>\n      <td>1</td>\n      <td>[united states of america]</td>\n    </tr>\n    <tr>\n      <th>2</th>\n      <td>False</td>\n      <td>0</td>\n      <td>NaN</td>\n      <td>15602</td>\n      <td>tt0113228</td>\n      <td>en</td>\n      <td>grumpier old men</td>\n      <td>a family wedding reignites the ancient feud be...</td>\n      <td>NaN</td>\n      <td>[{'name': 'warner bros.', 'id': 6194}, {'name'...</td>\n      <td>...</td>\n      <td>0.0</td>\n      <td>101.0</td>\n      <td>[{'iso_639_1': 'en', 'name': 'english'}]</td>\n      <td>released</td>\n      <td>grumpier old men</td>\n      <td>False</td>\n      <td>92.0</td>\n      <td>[Romance, Comedy]</td>\n      <td>1</td>\n      <td>[united states of america]</td>\n    </tr>\n    <tr>\n      <th>3</th>\n      <td>False</td>\n      <td>16000000</td>\n      <td>NaN</td>\n      <td>31357</td>\n      <td>tt0114885</td>\n      <td>en</td>\n      <td>waiting to exhale</td>\n      <td>cheated on, mistreated and stepped on, the wom...</td>\n      <td>NaN</td>\n      <td>[{'name': 'twentieth century fox film corporat...</td>\n      <td>...</td>\n      <td>81452156.0</td>\n      <td>127.0</td>\n      <td>[{'iso_639_1': 'en', 'name': 'english'}]</td>\n      <td>released</td>\n      <td>waiting to exhale</td>\n      <td>False</td>\n      <td>34.0</td>\n      <td>[Comedy, Drama, Romance]</td>\n      <td>1</td>\n      <td>[united states of america]</td>\n    </tr>\n    <tr>\n      <th>4</th>\n      <td>False</td>\n      <td>0</td>\n      <td>NaN</td>\n      <td>11862</td>\n      <td>tt0113041</td>\n      <td>en</td>\n      <td>father of the bride part ii</td>\n      <td>just when george banks has recovered from his ...</td>\n      <td>NaN</td>\n      <td>[{'name': 'sandollar productions', 'id': 5842}...</td>\n      <td>...</td>\n      <td>76578911.0</td>\n      <td>106.0</td>\n      <td>[{'iso_639_1': 'en', 'name': 'english'}]</td>\n      <td>released</td>\n      <td>father of the bride part ii</td>\n      <td>False</td>\n      <td>173.0</td>\n      <td>[Comedy]</td>\n      <td>1</td>\n      <td>[united states of america]</td>\n    </tr>\n    <tr>\n      <th>...</th>\n      <td>...</td>\n      <td>...</td>\n      <td>...</td>\n      <td>...</td>\n      <td>...</td>\n      <td>...</td>\n      <td>...</td>\n      <td>...</td>\n      <td>...</td>\n      <td>...</td>\n      <td>...</td>\n      <td>...</td>\n      <td>...</td>\n      <td>...</td>\n      <td>...</td>\n      <td>...</td>\n      <td>...</td>\n      <td>...</td>\n      <td>...</td>\n      <td>...</td>\n      <td>...</td>\n    </tr>\n    <tr>\n      <th>45460</th>\n      <td>False</td>\n      <td>0</td>\n      <td>NaN</td>\n      <td>30840</td>\n      <td>tt0102797</td>\n      <td>en</td>\n      <td>robin hood</td>\n      <td>yet another version of the classic epic, with ...</td>\n      <td>5.683753</td>\n      <td>[{'name': 'westdeutscher rundfunk (wdr)', 'id'...</td>\n      <td>...</td>\n      <td>0.0</td>\n      <td>104.0</td>\n      <td>[{'iso_639_1': 'en', 'name': 'english'}]</td>\n      <td>released</td>\n      <td>robin hood</td>\n      <td>False</td>\n      <td>26.0</td>\n      <td>[Drama, Action, Romance]</td>\n      <td>1</td>\n      <td>[canada, germany, united kingdom]</td>\n    </tr>\n    <tr>\n      <th>45462</th>\n      <td>False</td>\n      <td>0</td>\n      <td>NaN</td>\n      <td>111109</td>\n      <td>tt2028550</td>\n      <td>tl</td>\n      <td>siglo ng pagluluwal</td>\n      <td>an artist struggles to finish his work while a...</td>\n      <td>0.178241</td>\n      <td>[{'name': 'sine olivia', 'id': 19653}]</td>\n      <td>...</td>\n      <td>0.0</td>\n      <td>360.0</td>\n      <td>[{'iso_639_1': 'tl', 'name': ''}]</td>\n      <td>released</td>\n      <td>century of birthing</td>\n      <td>False</td>\n      <td>3.0</td>\n      <td>[Drama]</td>\n      <td>1</td>\n      <td>[philippines]</td>\n    </tr>\n    <tr>\n      <th>45463</th>\n      <td>False</td>\n      <td>0</td>\n      <td>NaN</td>\n      <td>67758</td>\n      <td>tt0303758</td>\n      <td>en</td>\n      <td>betrayal</td>\n      <td>when one of her hits goes wrong, a professiona...</td>\n      <td>0.903007</td>\n      <td>[{'name': 'american world pictures', 'id': 6165}]</td>\n      <td>...</td>\n      <td>0.0</td>\n      <td>90.0</td>\n      <td>[{'iso_639_1': 'en', 'name': 'english'}]</td>\n      <td>released</td>\n      <td>betrayal</td>\n      <td>False</td>\n      <td>6.0</td>\n      <td>[Action, Drama, Thriller]</td>\n      <td>1</td>\n      <td>[united states of america]</td>\n    </tr>\n    <tr>\n      <th>45464</th>\n      <td>False</td>\n      <td>0</td>\n      <td>NaN</td>\n      <td>227506</td>\n      <td>tt0008536</td>\n      <td>en</td>\n      <td>satana likuyushchiy</td>\n      <td>in a small town live two brothers, one a minis...</td>\n      <td>0.003503</td>\n      <td>[{'name': 'yermoliev', 'id': 88753}]</td>\n      <td>...</td>\n      <td>0.0</td>\n      <td>87.0</td>\n      <td>[]</td>\n      <td>released</td>\n      <td>satan triumphant</td>\n      <td>False</td>\n      <td>0.0</td>\n      <td>[]</td>\n      <td>1</td>\n      <td>[russia]</td>\n    </tr>\n    <tr>\n      <th>45465</th>\n      <td>False</td>\n      <td>0</td>\n      <td>NaN</td>\n      <td>461257</td>\n      <td>tt6980792</td>\n      <td>en</td>\n      <td>queerama</td>\n      <td>50 years after decriminalisation of homosexual...</td>\n      <td>0.163015</td>\n      <td>[]</td>\n      <td>...</td>\n      <td>0.0</td>\n      <td>75.0</td>\n      <td>[{'iso_639_1': 'en', 'name': 'english'}]</td>\n      <td>released</td>\n      <td>queerama</td>\n      <td>False</td>\n      <td>0.0</td>\n      <td>[]</td>\n      <td>1</td>\n      <td>[united kingdom]</td>\n    </tr>\n  </tbody>\n</table>\n<p>44349 rows × 22 columns</p>\n</div>"
     },
     "metadata": {},
     "execution_count": 70
    }
   ],
   "source": [
    "df2"
   ]
  },
  {
   "cell_type": "code",
   "execution_count": 80,
   "metadata": {},
   "outputs": [
    {
     "output_type": "execute_result",
     "data": {
      "text/plain": "      adulto  despesas      id    imdb_id lingua_original  \\\n0      False  30000000     862  tt0114709              en   \n1      False  65000000    8844  tt0113497              en   \n2      False         0   15602  tt0113228              en   \n3      False  16000000   31357  tt0114885              en   \n4      False         0   11862  tt0113041              en   \n...      ...       ...     ...        ...             ...   \n44345  False         0  154727  tt0107382              ja   \n44346  False         0  423360  tt5909128              ru   \n44347  False   7200000   11930  tt0391774              de   \n44348  False         0  431714  tt4143508              en   \n44349  False         0  390410  tt2626338              en   \n\n                   titulo_original  \\\n0                        toy story   \n1                          jumanji   \n2                 grumpier old men   \n3                waiting to exhale   \n4      father of the bride part ii   \n...                            ...   \n44345  銀河英雄伝説外伝／新たなる戦いの序曲（オーヴァチュア）   \n44346                        молот   \n44347                autobahnraser   \n44348            long strange trip   \n44349                 shadow world   \n\n                                               descricao popularidade  \\\n0      led by woody, andy's toys live happily in his ...          NaN   \n1      when siblings judy and peter discover an encha...          NaN   \n2      a family wedding reignites the ancient feud be...          NaN   \n3      cheated on, mistreated and stepped on, the wom...          NaN   \n4      just when george banks has recovered from his ...          NaN   \n...                                                  ...          ...   \n44345  based on a series of sci-fi novels, this serie...     0.398224   \n44346  victor aka hammer is an mma champion with the ...     0.711675   \n44347     a teen comedy with cool cars and fast driving.     2.686788   \n44348  the tale of the grateful dead is inspiring, co...     0.617655   \n44349  feature documentary that explores the internat...     0.356383   \n\n                                            cia_producao  \\\n0         [{'name': 'pixar animation studios', 'id': 3}]   \n1      [{'name': 'tristar pictures', 'id': 559}, {'na...   \n2      [{'name': 'warner bros.', 'id': 6194}, {'name'...   \n3      [{'name': 'twentieth century fox film corporat...   \n4      [{'name': 'sandollar productions', 'id': 5842}...   \n...                                                  ...   \n44345            [{'name': 'tokuma shoten', 'id': 1779}]   \n44346  [{'name': 'russian golden episodes', 'id': 849...   \n44347  [{'name': 'delux productions', 'id': 1472}, {'...   \n44348          [{'name': 'amazon studios', 'id': 20580}]   \n44349                                                 []   \n\n                                           pais_producao data_lancamento  \\\n0      [{'iso_3166_1': 'us', 'name': 'united states o...      1995-10-30   \n1      [{'iso_3166_1': 'us', 'name': 'united states o...      1995-12-15   \n2      [{'iso_3166_1': 'us', 'name': 'united states o...      1995-12-22   \n3      [{'iso_3166_1': 'us', 'name': 'united states o...      1995-12-22   \n4      [{'iso_3166_1': 'us', 'name': 'united states o...      1995-02-10   \n...                                                  ...             ...   \n44345            [{'iso_3166_1': 'jp', 'name': 'japan'}]      1993-12-18   \n44346           [{'iso_3166_1': 'ru', 'name': 'russia'}]      2016-11-03   \n44347  [{'iso_3166_1': 'de', 'name': 'germany'}, {'is...      2004-02-19   \n44348                                                 []      2017-01-23   \n44349                                                 []      2016-04-16   \n\n                                         idiomas_falados  \\\n0               [{'iso_639_1': 'en', 'name': 'english'}]   \n1      [{'iso_639_1': 'en', 'name': 'english'}, {'iso...   \n2               [{'iso_639_1': 'en', 'name': 'english'}]   \n3               [{'iso_639_1': 'en', 'name': 'english'}]   \n4               [{'iso_639_1': 'en', 'name': 'english'}]   \n...                                                  ...   \n44345               [{'iso_639_1': 'ja', 'name': '日本語'}]   \n44346           [{'iso_639_1': 'ru', 'name': 'pусский'}]   \n44347  [{'iso_639_1': 'en', 'name': 'english'}, {'iso...   \n44348           [{'iso_639_1': 'en', 'name': 'english'}]   \n44349  [{'iso_639_1': 'ar', 'name': 'العربية'}, {'iso...   \n\n                                                  titulo  video  \\\n0                                              toy story  False   \n1                                                jumanji  False   \n2                                       grumpier old men  False   \n3                                      waiting to exhale  False   \n4                            father of the bride part ii  False   \n...                                                  ...    ...   \n44345  legend of the galactic heroes: overture to a n...  False   \n44346                                             hammer  False   \n44347                                           a2 racer  False   \n44348                                  long strange trip  False   \n44349                                       shadow world  False   \n\n                        novo_genero  adulto_novo          novo_pais_producao  \n0       [Animation, Comedy, Family]            1  [united states of america]  \n1      [Adventure, Fantasy, Family]            1  [united states of america]  \n2                 [Romance, Comedy]            1  [united states of america]  \n3          [Comedy, Drama, Romance]            1  [united states of america]  \n4                          [Comedy]            1  [united states of america]  \n...                             ...          ...                         ...  \n44345  [Animation, Science Fiction]            1                     [japan]  \n44346               [Action, Drama]            1                    [russia]  \n44347                      [Action]            1       [germany, luxembourg]  \n44348          [Music, Documentary]            1                          []  \n44349                 [Documentary]            1                          []  \n\n[43296 rows x 17 columns]",
      "text/html": "<div>\n<style scoped>\n    .dataframe tbody tr th:only-of-type {\n        vertical-align: middle;\n    }\n\n    .dataframe tbody tr th {\n        vertical-align: top;\n    }\n\n    .dataframe thead th {\n        text-align: right;\n    }\n</style>\n<table border=\"1\" class=\"dataframe\">\n  <thead>\n    <tr style=\"text-align: right;\">\n      <th></th>\n      <th>adulto</th>\n      <th>despesas</th>\n      <th>id</th>\n      <th>imdb_id</th>\n      <th>lingua_original</th>\n      <th>titulo_original</th>\n      <th>descricao</th>\n      <th>popularidade</th>\n      <th>cia_producao</th>\n      <th>pais_producao</th>\n      <th>data_lancamento</th>\n      <th>idiomas_falados</th>\n      <th>titulo</th>\n      <th>video</th>\n      <th>novo_genero</th>\n      <th>adulto_novo</th>\n      <th>novo_pais_producao</th>\n    </tr>\n  </thead>\n  <tbody>\n    <tr>\n      <th>0</th>\n      <td>False</td>\n      <td>30000000</td>\n      <td>862</td>\n      <td>tt0114709</td>\n      <td>en</td>\n      <td>toy story</td>\n      <td>led by woody, andy's toys live happily in his ...</td>\n      <td>NaN</td>\n      <td>[{'name': 'pixar animation studios', 'id': 3}]</td>\n      <td>[{'iso_3166_1': 'us', 'name': 'united states o...</td>\n      <td>1995-10-30</td>\n      <td>[{'iso_639_1': 'en', 'name': 'english'}]</td>\n      <td>toy story</td>\n      <td>False</td>\n      <td>[Animation, Comedy, Family]</td>\n      <td>1</td>\n      <td>[united states of america]</td>\n    </tr>\n    <tr>\n      <th>1</th>\n      <td>False</td>\n      <td>65000000</td>\n      <td>8844</td>\n      <td>tt0113497</td>\n      <td>en</td>\n      <td>jumanji</td>\n      <td>when siblings judy and peter discover an encha...</td>\n      <td>NaN</td>\n      <td>[{'name': 'tristar pictures', 'id': 559}, {'na...</td>\n      <td>[{'iso_3166_1': 'us', 'name': 'united states o...</td>\n      <td>1995-12-15</td>\n      <td>[{'iso_639_1': 'en', 'name': 'english'}, {'iso...</td>\n      <td>jumanji</td>\n      <td>False</td>\n      <td>[Adventure, Fantasy, Family]</td>\n      <td>1</td>\n      <td>[united states of america]</td>\n    </tr>\n    <tr>\n      <th>2</th>\n      <td>False</td>\n      <td>0</td>\n      <td>15602</td>\n      <td>tt0113228</td>\n      <td>en</td>\n      <td>grumpier old men</td>\n      <td>a family wedding reignites the ancient feud be...</td>\n      <td>NaN</td>\n      <td>[{'name': 'warner bros.', 'id': 6194}, {'name'...</td>\n      <td>[{'iso_3166_1': 'us', 'name': 'united states o...</td>\n      <td>1995-12-22</td>\n      <td>[{'iso_639_1': 'en', 'name': 'english'}]</td>\n      <td>grumpier old men</td>\n      <td>False</td>\n      <td>[Romance, Comedy]</td>\n      <td>1</td>\n      <td>[united states of america]</td>\n    </tr>\n    <tr>\n      <th>3</th>\n      <td>False</td>\n      <td>16000000</td>\n      <td>31357</td>\n      <td>tt0114885</td>\n      <td>en</td>\n      <td>waiting to exhale</td>\n      <td>cheated on, mistreated and stepped on, the wom...</td>\n      <td>NaN</td>\n      <td>[{'name': 'twentieth century fox film corporat...</td>\n      <td>[{'iso_3166_1': 'us', 'name': 'united states o...</td>\n      <td>1995-12-22</td>\n      <td>[{'iso_639_1': 'en', 'name': 'english'}]</td>\n      <td>waiting to exhale</td>\n      <td>False</td>\n      <td>[Comedy, Drama, Romance]</td>\n      <td>1</td>\n      <td>[united states of america]</td>\n    </tr>\n    <tr>\n      <th>4</th>\n      <td>False</td>\n      <td>0</td>\n      <td>11862</td>\n      <td>tt0113041</td>\n      <td>en</td>\n      <td>father of the bride part ii</td>\n      <td>just when george banks has recovered from his ...</td>\n      <td>NaN</td>\n      <td>[{'name': 'sandollar productions', 'id': 5842}...</td>\n      <td>[{'iso_3166_1': 'us', 'name': 'united states o...</td>\n      <td>1995-02-10</td>\n      <td>[{'iso_639_1': 'en', 'name': 'english'}]</td>\n      <td>father of the bride part ii</td>\n      <td>False</td>\n      <td>[Comedy]</td>\n      <td>1</td>\n      <td>[united states of america]</td>\n    </tr>\n    <tr>\n      <th>...</th>\n      <td>...</td>\n      <td>...</td>\n      <td>...</td>\n      <td>...</td>\n      <td>...</td>\n      <td>...</td>\n      <td>...</td>\n      <td>...</td>\n      <td>...</td>\n      <td>...</td>\n      <td>...</td>\n      <td>...</td>\n      <td>...</td>\n      <td>...</td>\n      <td>...</td>\n      <td>...</td>\n      <td>...</td>\n    </tr>\n    <tr>\n      <th>44345</th>\n      <td>False</td>\n      <td>0</td>\n      <td>154727</td>\n      <td>tt0107382</td>\n      <td>ja</td>\n      <td>銀河英雄伝説外伝／新たなる戦いの序曲（オーヴァチュア）</td>\n      <td>based on a series of sci-fi novels, this serie...</td>\n      <td>0.398224</td>\n      <td>[{'name': 'tokuma shoten', 'id': 1779}]</td>\n      <td>[{'iso_3166_1': 'jp', 'name': 'japan'}]</td>\n      <td>1993-12-18</td>\n      <td>[{'iso_639_1': 'ja', 'name': '日本語'}]</td>\n      <td>legend of the galactic heroes: overture to a n...</td>\n      <td>False</td>\n      <td>[Animation, Science Fiction]</td>\n      <td>1</td>\n      <td>[japan]</td>\n    </tr>\n    <tr>\n      <th>44346</th>\n      <td>False</td>\n      <td>0</td>\n      <td>423360</td>\n      <td>tt5909128</td>\n      <td>ru</td>\n      <td>молот</td>\n      <td>victor aka hammer is an mma champion with the ...</td>\n      <td>0.711675</td>\n      <td>[{'name': 'russian golden episodes', 'id': 849...</td>\n      <td>[{'iso_3166_1': 'ru', 'name': 'russia'}]</td>\n      <td>2016-11-03</td>\n      <td>[{'iso_639_1': 'ru', 'name': 'pусский'}]</td>\n      <td>hammer</td>\n      <td>False</td>\n      <td>[Action, Drama]</td>\n      <td>1</td>\n      <td>[russia]</td>\n    </tr>\n    <tr>\n      <th>44347</th>\n      <td>False</td>\n      <td>7200000</td>\n      <td>11930</td>\n      <td>tt0391774</td>\n      <td>de</td>\n      <td>autobahnraser</td>\n      <td>a teen comedy with cool cars and fast driving.</td>\n      <td>2.686788</td>\n      <td>[{'name': 'delux productions', 'id': 1472}, {'...</td>\n      <td>[{'iso_3166_1': 'de', 'name': 'germany'}, {'is...</td>\n      <td>2004-02-19</td>\n      <td>[{'iso_639_1': 'en', 'name': 'english'}, {'iso...</td>\n      <td>a2 racer</td>\n      <td>False</td>\n      <td>[Action]</td>\n      <td>1</td>\n      <td>[germany, luxembourg]</td>\n    </tr>\n    <tr>\n      <th>44348</th>\n      <td>False</td>\n      <td>0</td>\n      <td>431714</td>\n      <td>tt4143508</td>\n      <td>en</td>\n      <td>long strange trip</td>\n      <td>the tale of the grateful dead is inspiring, co...</td>\n      <td>0.617655</td>\n      <td>[{'name': 'amazon studios', 'id': 20580}]</td>\n      <td>[]</td>\n      <td>2017-01-23</td>\n      <td>[{'iso_639_1': 'en', 'name': 'english'}]</td>\n      <td>long strange trip</td>\n      <td>False</td>\n      <td>[Music, Documentary]</td>\n      <td>1</td>\n      <td>[]</td>\n    </tr>\n    <tr>\n      <th>44349</th>\n      <td>False</td>\n      <td>0</td>\n      <td>390410</td>\n      <td>tt2626338</td>\n      <td>en</td>\n      <td>shadow world</td>\n      <td>feature documentary that explores the internat...</td>\n      <td>0.356383</td>\n      <td>[]</td>\n      <td>[]</td>\n      <td>2016-04-16</td>\n      <td>[{'iso_639_1': 'ar', 'name': 'العربية'}, {'iso...</td>\n      <td>shadow world</td>\n      <td>False</td>\n      <td>[Documentary]</td>\n      <td>1</td>\n      <td>[]</td>\n    </tr>\n  </tbody>\n</table>\n<p>43296 rows × 17 columns</p>\n</div>"
     },
     "metadata": {},
     "execution_count": 80
    }
   ],
   "source": [
    "d = df2.loc[0:44349, [\"adulto\", \"despesas\", \"id\", \"imdb_id\", \"lingua_original\", \"titulo_original\", \"descricao\", \"popularidade\", \"cia_producao\", \"pais_producao\", \"data_lancamento\", \"idiomas_falados\", \"titulo\", \"video\", \"novo_genero\", \"adulto_novo\", \"novo_pais_producao\"]]\n",
    "d"
   ]
  },
  {
   "cell_type": "code",
   "execution_count": 82,
   "metadata": {},
   "outputs": [
    {
     "output_type": "error",
     "ename": "AttributeError",
     "evalue": "'DataFrame' object has no attribute 'get_dummies'",
     "traceback": [
      "\u001b[1;31m---------------------------------------------------------------------------\u001b[0m",
      "\u001b[1;31mAttributeError\u001b[0m                            Traceback (most recent call last)",
      "\u001b[1;32m<ipython-input-82-6f590d8cff13>\u001b[0m in \u001b[0;36m<module>\u001b[1;34m\u001b[0m\n\u001b[1;32m----> 1\u001b[1;33m \u001b[0mfilmes_binarizado\u001b[0m \u001b[1;33m=\u001b[0m \u001b[0md\u001b[0m\u001b[1;33m.\u001b[0m\u001b[0mget_dummies\u001b[0m\u001b[1;33m(\u001b[0m\u001b[0md\u001b[0m\u001b[1;33m)\u001b[0m\u001b[1;33m\u001b[0m\u001b[0m\n\u001b[0m",
      "\u001b[1;32m~\\AppData\\Local\\Programs\\Python\\Python37\\lib\\site-packages\\pandas\\core\\generic.py\u001b[0m in \u001b[0;36m__getattr__\u001b[1;34m(self, name)\u001b[0m\n\u001b[0;32m   5177\u001b[0m             \u001b[1;32mif\u001b[0m \u001b[0mself\u001b[0m\u001b[1;33m.\u001b[0m\u001b[0m_info_axis\u001b[0m\u001b[1;33m.\u001b[0m\u001b[0m_can_hold_identifiers_and_holds_name\u001b[0m\u001b[1;33m(\u001b[0m\u001b[0mname\u001b[0m\u001b[1;33m)\u001b[0m\u001b[1;33m:\u001b[0m\u001b[1;33m\u001b[0m\u001b[0m\n\u001b[0;32m   5178\u001b[0m                 \u001b[1;32mreturn\u001b[0m \u001b[0mself\u001b[0m\u001b[1;33m[\u001b[0m\u001b[0mname\u001b[0m\u001b[1;33m]\u001b[0m\u001b[1;33m\u001b[0m\u001b[0m\n\u001b[1;32m-> 5179\u001b[1;33m             \u001b[1;32mreturn\u001b[0m \u001b[0mobject\u001b[0m\u001b[1;33m.\u001b[0m\u001b[0m__getattribute__\u001b[0m\u001b[1;33m(\u001b[0m\u001b[0mself\u001b[0m\u001b[1;33m,\u001b[0m \u001b[0mname\u001b[0m\u001b[1;33m)\u001b[0m\u001b[1;33m\u001b[0m\u001b[0m\n\u001b[0m\u001b[0;32m   5180\u001b[0m \u001b[1;33m\u001b[0m\u001b[0m\n\u001b[0;32m   5181\u001b[0m     \u001b[1;32mdef\u001b[0m \u001b[0m__setattr__\u001b[0m\u001b[1;33m(\u001b[0m\u001b[0mself\u001b[0m\u001b[1;33m,\u001b[0m \u001b[0mname\u001b[0m\u001b[1;33m,\u001b[0m \u001b[0mvalue\u001b[0m\u001b[1;33m)\u001b[0m\u001b[1;33m:\u001b[0m\u001b[1;33m\u001b[0m\u001b[0m\n",
      "\u001b[1;31mAttributeError\u001b[0m: 'DataFrame' object has no attribute 'get_dummies'"
     ]
    }
   ],
   "source": [
    "filmes_binarizado = d.get_dummies(d)\n"
   ]
  },
  {
   "cell_type": "code",
   "execution_count": null,
   "metadata": {},
   "outputs": [],
   "source": [
    "#  *************************** SEPARAÇÃO DE TREINO E TESTE ***************************"
   ]
  },
  {
   "cell_type": "code",
   "execution_count": null,
   "metadata": {},
   "outputs": [],
   "source": [
    "# importar train_test_split do sklearn para dividir dados de treino e teste\n",
    "from sklearn.model_selection import train_test_split"
   ]
  },
  {
   "cell_type": "code",
   "execution_count": null,
   "metadata": {},
   "outputs": [],
   "source": [
    "RANDOM_STATE = 1\n",
    "\n",
    "# o parâmetro test_size indica o percentual de amostras que serão selecionadas para teste\n",
    "X_train, X_test, y_train, y_test = train_test_split(filmes, target, \n",
    "                                                    test_size=0.33, # 33% será amostra de teste\n",
    "                                                    random_state=RANDOM_STATE)#, stratify=target)"
   ]
  },
  {
   "cell_type": "code",
   "execution_count": null,
   "metadata": {},
   "outputs": [],
   "source": [
    "# *************************** REGRESSÃO LINEAR ***************************"
   ]
  },
  {
   "cell_type": "code",
   "execution_count": null,
   "metadata": {},
   "outputs": [],
   "source": [
    "from sklearn.linear_model import LinearRegression\n",
    "from sklearn.metrics import r2_score\n",
    "from sklearn.metrics import mean_squared_error\n",
    "from matplotlib import pyplot as plt"
   ]
  },
  {
   "cell_type": "code",
   "execution_count": null,
   "metadata": {},
   "outputs": [],
   "source": [
    "regressor = LinearRegression()\n",
    "regressor.fit(X_train, y_train)"
   ]
  },
  {
   "cell_type": "code",
   "execution_count": null,
   "metadata": {},
   "outputs": [],
   "source": [
    "# *************************** ÁRVORE DE DECISÃO ***************************"
   ]
  },
  {
   "cell_type": "code",
   "execution_count": null,
   "metadata": {},
   "outputs": [],
   "source": [
    "# Usando o módulo tree para chamar o classificador de árvore de decisão\n",
    "from sklearn import tree\n",
    "\n",
    "# Guardando a semente aleatória\n",
    "RANDOM_STATE = 1\n",
    "\n",
    "# vamos variar os parâmetros da DecisionTree implementada no sklearn, busque sua explicação detalhada na documentação\n",
    "dec_clf = tree.DecisionTreeClassifier()\n",
    "\n",
    "# Usando os arquivos de treino com as variáveis e o target, ajustamos um modelo\n",
    "dec_clf.fit(X_train, y_train)\n",
    "\n",
    "variables = df.columns\n",
    "\n",
    "# Usando a biblioteca graphviz, podemos plotar a árvore gerada pelo nosso modelo \n",
    "# Caso você não tenha instale usando o comando pip install graphviz\n",
    "# import graphviz:\n",
    "# dot_data = tree.export_graphviz(dec_clf, out_file=None, feature_names=variables, \n",
    "#                                 class_names=dec_clf.classes_, filled=True) \n",
    "# graph = graphviz.Source(dot_data) \n",
    "# graph"
   ]
  },
  {
   "cell_type": "code",
   "execution_count": null,
   "metadata": {},
   "outputs": [],
   "source": []
  }
 ],
 "metadata": {
  "language_info": {
   "codemirror_mode": {
    "name": "ipython",
    "version": 3
   },
   "file_extension": ".py",
   "mimetype": "text/x-python",
   "name": "python",
   "nbconvert_exporter": "python",
   "pygments_lexer": "ipython3",
   "version": "3.7.0-final"
  },
  "orig_nbformat": 2,
  "kernelspec": {
   "name": "python37064bitc01724e9609b4d719b1530c185cd833e",
   "display_name": "Python 3.7.0 64-bit"
  }
 },
 "nbformat": 4,
 "nbformat_minor": 2
}