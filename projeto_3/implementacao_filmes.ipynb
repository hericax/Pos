{
 "cells": [
  {
   "cell_type": "code",
   "execution_count": null,
   "metadata": {},
   "outputs": [],
   "source": [
    "# importando as bibliotecas utilizadas no projeto\n",
    "import pandas as pd\n",
    "import numpy as np "
   ]
  },
  {
   "cell_type": "code",
   "execution_count": 377,
   "metadata": {},
   "outputs": [],
   "source": [
    "# Leitura do dataset\n",
    "filmes = pd.read_csv('C:/Users/Herica/Desktop/Herica/cursoIACD/bases/filmes/movies_metadata.csv')"
   ]
  },
  {
   "cell_type": "code",
   "execution_count": 371,
   "metadata": {},
   "outputs": [
    {
     "output_type": "execute_result",
     "data": {
      "text/plain": "(45466, 24)"
     },
     "metadata": {},
     "execution_count": 371
    }
   ],
   "source": [
    "filmes.shape"
   ]
  },
  {
   "cell_type": "code",
   "execution_count": 372,
   "metadata": {},
   "outputs": [
    {
     "output_type": "execute_result",
     "data": {
      "text/plain": "   adult                              belongs_to_collection    budget  \\\n0  False  {'id': 10194, 'name': 'Toy Story Collection', ...  30000000   \n1  False                                                NaN  65000000   \n2  False  {'id': 119050, 'name': 'Grumpy Old Men Collect...         0   \n\n                                              genres  \\\n0  [{'id': 16, 'name': 'Animation'}, {'id': 35, '...   \n1  [{'id': 12, 'name': 'Adventure'}, {'id': 14, '...   \n2  [{'id': 10749, 'name': 'Romance'}, {'id': 35, ...   \n\n                               homepage     id    imdb_id original_language  \\\n0  http://toystory.disney.com/toy-story    862  tt0114709                en   \n1                                   NaN   8844  tt0113497                en   \n2                                   NaN  15602  tt0113228                en   \n\n     original_title                                           overview  ...  \\\n0         Toy Story  Led by Woody, Andy's toys live happily in his ...  ...   \n1           Jumanji  When siblings Judy and Peter discover an encha...  ...   \n2  Grumpier Old Men  A family wedding reignites the ancient feud be...  ...   \n\n  release_date      revenue runtime  \\\n0   1995-10-30  373554033.0    81.0   \n1   1995-12-15  262797249.0   104.0   \n2   1995-12-22          0.0   101.0   \n\n                                    spoken_languages    status  \\\n0           [{'iso_639_1': 'en', 'name': 'English'}]  Released   \n1  [{'iso_639_1': 'en', 'name': 'English'}, {'iso...  Released   \n2           [{'iso_639_1': 'en', 'name': 'English'}]  Released   \n\n                                             tagline             title  video  \\\n0                                                NaN         Toy Story  False   \n1          Roll the dice and unleash the excitement!           Jumanji  False   \n2  Still Yelling. Still Fighting. Still Ready for...  Grumpier Old Men  False   \n\n  vote_average vote_count  \n0          7.7     5415.0  \n1          6.9     2413.0  \n2          6.5       92.0  \n\n[3 rows x 24 columns]",
      "text/html": "<div>\n<style scoped>\n    .dataframe tbody tr th:only-of-type {\n        vertical-align: middle;\n    }\n\n    .dataframe tbody tr th {\n        vertical-align: top;\n    }\n\n    .dataframe thead th {\n        text-align: right;\n    }\n</style>\n<table border=\"1\" class=\"dataframe\">\n  <thead>\n    <tr style=\"text-align: right;\">\n      <th></th>\n      <th>adult</th>\n      <th>belongs_to_collection</th>\n      <th>budget</th>\n      <th>genres</th>\n      <th>homepage</th>\n      <th>id</th>\n      <th>imdb_id</th>\n      <th>original_language</th>\n      <th>original_title</th>\n      <th>overview</th>\n      <th>...</th>\n      <th>release_date</th>\n      <th>revenue</th>\n      <th>runtime</th>\n      <th>spoken_languages</th>\n      <th>status</th>\n      <th>tagline</th>\n      <th>title</th>\n      <th>video</th>\n      <th>vote_average</th>\n      <th>vote_count</th>\n    </tr>\n  </thead>\n  <tbody>\n    <tr>\n      <th>0</th>\n      <td>False</td>\n      <td>{'id': 10194, 'name': 'Toy Story Collection', ...</td>\n      <td>30000000</td>\n      <td>[{'id': 16, 'name': 'Animation'}, {'id': 35, '...</td>\n      <td>http://toystory.disney.com/toy-story</td>\n      <td>862</td>\n      <td>tt0114709</td>\n      <td>en</td>\n      <td>Toy Story</td>\n      <td>Led by Woody, Andy's toys live happily in his ...</td>\n      <td>...</td>\n      <td>1995-10-30</td>\n      <td>373554033.0</td>\n      <td>81.0</td>\n      <td>[{'iso_639_1': 'en', 'name': 'English'}]</td>\n      <td>Released</td>\n      <td>NaN</td>\n      <td>Toy Story</td>\n      <td>False</td>\n      <td>7.7</td>\n      <td>5415.0</td>\n    </tr>\n    <tr>\n      <th>1</th>\n      <td>False</td>\n      <td>NaN</td>\n      <td>65000000</td>\n      <td>[{'id': 12, 'name': 'Adventure'}, {'id': 14, '...</td>\n      <td>NaN</td>\n      <td>8844</td>\n      <td>tt0113497</td>\n      <td>en</td>\n      <td>Jumanji</td>\n      <td>When siblings Judy and Peter discover an encha...</td>\n      <td>...</td>\n      <td>1995-12-15</td>\n      <td>262797249.0</td>\n      <td>104.0</td>\n      <td>[{'iso_639_1': 'en', 'name': 'English'}, {'iso...</td>\n      <td>Released</td>\n      <td>Roll the dice and unleash the excitement!</td>\n      <td>Jumanji</td>\n      <td>False</td>\n      <td>6.9</td>\n      <td>2413.0</td>\n    </tr>\n    <tr>\n      <th>2</th>\n      <td>False</td>\n      <td>{'id': 119050, 'name': 'Grumpy Old Men Collect...</td>\n      <td>0</td>\n      <td>[{'id': 10749, 'name': 'Romance'}, {'id': 35, ...</td>\n      <td>NaN</td>\n      <td>15602</td>\n      <td>tt0113228</td>\n      <td>en</td>\n      <td>Grumpier Old Men</td>\n      <td>A family wedding reignites the ancient feud be...</td>\n      <td>...</td>\n      <td>1995-12-22</td>\n      <td>0.0</td>\n      <td>101.0</td>\n      <td>[{'iso_639_1': 'en', 'name': 'English'}]</td>\n      <td>Released</td>\n      <td>Still Yelling. Still Fighting. Still Ready for...</td>\n      <td>Grumpier Old Men</td>\n      <td>False</td>\n      <td>6.5</td>\n      <td>92.0</td>\n    </tr>\n  </tbody>\n</table>\n<p>3 rows × 24 columns</p>\n</div>"
     },
     "metadata": {},
     "execution_count": 372
    }
   ],
   "source": [
    "# Pré-visaulização do dataset\n",
    "filmes.head(3)"
   ]
  },
  {
   "cell_type": "code",
   "execution_count": 373,
   "metadata": {},
   "outputs": [
    {
     "output_type": "execute_result",
     "data": {
      "text/plain": "            revenue       runtime  vote_average    vote_count\ncount  4.546000e+04  45203.000000  45460.000000  45460.000000\nmean   1.120935e+07     94.128199      5.618207    109.897338\nstd    6.433225e+07     38.407810      1.924216    491.310374\nmin    0.000000e+00      0.000000      0.000000      0.000000\n25%    0.000000e+00     85.000000      5.000000      3.000000\n50%    0.000000e+00     95.000000      6.000000     10.000000\n75%    0.000000e+00    107.000000      6.800000     34.000000\nmax    2.787965e+09   1256.000000     10.000000  14075.000000",
      "text/html": "<div>\n<style scoped>\n    .dataframe tbody tr th:only-of-type {\n        vertical-align: middle;\n    }\n\n    .dataframe tbody tr th {\n        vertical-align: top;\n    }\n\n    .dataframe thead th {\n        text-align: right;\n    }\n</style>\n<table border=\"1\" class=\"dataframe\">\n  <thead>\n    <tr style=\"text-align: right;\">\n      <th></th>\n      <th>revenue</th>\n      <th>runtime</th>\n      <th>vote_average</th>\n      <th>vote_count</th>\n    </tr>\n  </thead>\n  <tbody>\n    <tr>\n      <th>count</th>\n      <td>4.546000e+04</td>\n      <td>45203.000000</td>\n      <td>45460.000000</td>\n      <td>45460.000000</td>\n    </tr>\n    <tr>\n      <th>mean</th>\n      <td>1.120935e+07</td>\n      <td>94.128199</td>\n      <td>5.618207</td>\n      <td>109.897338</td>\n    </tr>\n    <tr>\n      <th>std</th>\n      <td>6.433225e+07</td>\n      <td>38.407810</td>\n      <td>1.924216</td>\n      <td>491.310374</td>\n    </tr>\n    <tr>\n      <th>min</th>\n      <td>0.000000e+00</td>\n      <td>0.000000</td>\n      <td>0.000000</td>\n      <td>0.000000</td>\n    </tr>\n    <tr>\n      <th>25%</th>\n      <td>0.000000e+00</td>\n      <td>85.000000</td>\n      <td>5.000000</td>\n      <td>3.000000</td>\n    </tr>\n    <tr>\n      <th>50%</th>\n      <td>0.000000e+00</td>\n      <td>95.000000</td>\n      <td>6.000000</td>\n      <td>10.000000</td>\n    </tr>\n    <tr>\n      <th>75%</th>\n      <td>0.000000e+00</td>\n      <td>107.000000</td>\n      <td>6.800000</td>\n      <td>34.000000</td>\n    </tr>\n    <tr>\n      <th>max</th>\n      <td>2.787965e+09</td>\n      <td>1256.000000</td>\n      <td>10.000000</td>\n      <td>14075.000000</td>\n    </tr>\n  </tbody>\n</table>\n</div>"
     },
     "metadata": {},
     "execution_count": 373
    }
   ],
   "source": [
    "filmes.describe()"
   ]
  },
  {
   "cell_type": "code",
   "execution_count": 378,
   "metadata": {},
   "outputs": [
    {
     "output_type": "execute_result",
     "data": {
      "text/plain": "adult                        0\nbelongs_to_collection    40972\nbudget                       0\ngenres                       0\nhomepage                 37684\nid                           0\nimdb_id                     17\noriginal_language           11\noriginal_title               0\noverview                   954\npopularity                   5\nposter_path                386\nproduction_companies         3\nproduction_countries         3\nrelease_date                87\nrevenue                      6\nruntime                    263\nspoken_languages             6\nstatus                      87\ntagline                  25054\ntitle                        6\nvideo                        6\nvote_average                 6\nvote_count                   6\ndtype: int64"
     },
     "metadata": {},
     "execution_count": 378
    }
   ],
   "source": [
    "# verificando dados ausentes\n",
    "filmes.isnull().sum()"
   ]
  },
  {
   "cell_type": "code",
   "execution_count": 379,
   "metadata": {},
   "outputs": [],
   "source": [
    "#dropar colunas consideradas irrelevantes na primeira análise ou que possuem muitos valores nulos\n",
    "filmes.drop(['belongs_to_collection'],axis = 1, inplace = True)\n",
    "filmes.drop(['homepage'],axis = 1, inplace = True)\n",
    "filmes.drop(['poster_path'],axis = 1, inplace = True)     \n",
    "filmes.drop(['tagline'],axis = 1, inplace = True)     "
   ]
  },
  {
   "cell_type": "code",
   "execution_count": 380,
   "metadata": {},
   "outputs": [
    {
     "output_type": "execute_result",
     "data": {
      "text/plain": "adult                     0\nbudget                    0\ngenres                    0\nid                        0\nimdb_id                  17\noriginal_language        11\noriginal_title            0\noverview                954\npopularity                5\nproduction_companies      3\nproduction_countries      3\nrelease_date             87\nrevenue                   6\nruntime                 263\nspoken_languages          6\nstatus                   87\ntitle                     6\nvideo                     6\nvote_average              6\nvote_count                6\ndtype: int64"
     },
     "metadata": {},
     "execution_count": 380
    }
   ],
   "source": [
    "# verificando dados ausentes\n",
    "filmes.isnull().sum()"
   ]
  },
  {
   "cell_type": "code",
   "execution_count": 388,
   "metadata": {},
   "outputs": [
    {
     "output_type": "execute_result",
     "data": {
      "text/plain": "0        False\n1        False\n2        False\n3        False\n4        False\n         ...  \n45461    False\n45462    False\n45463    False\n45464    False\n45465    False\nName: overview, Length: 45466, dtype: bool"
     },
     "metadata": {},
     "execution_count": 388
    }
   ],
   "source": [
    "filmes['overview'].isnull()"
   ]
  },
  {
   "cell_type": "code",
   "execution_count": 282,
   "metadata": {},
   "outputs": [],
   "source": [
    "# converter todos os valores da features do tipo string para caixa baixa, padronizando os dados\n",
    "# o dataset possui 21 features após a exclusão de features consideradas irrelevantes e 45466 registros\n",
    "filmes['adult'] = filmes['adult'].str.lower()  \n",
    "filmes['budget'] = filmes['budget'].str.lower() \n",
    "filmes['genres'] = filmes['genres'].str.lower() \n",
    "filmes['id'] = filmes['id'].str.lower() \n",
    "filmes['imdb_id'] = filmes['imdb_id'].str.lower() \n",
    "filmes['original_language'] = filmes['original_language'].str.lower() \n",
    "filmes['original_title'] = filmes['original_title'].str.lower() \n",
    "filmes['overview'] = filmes['overview'].str.lower() \n",
    "filmes['popularity'] = filmes['popularity'].str.lower() \n",
    "filmes['production_companies'] = filmes['production_companies'].str.lower() \n",
    "filmes['production_countries'] = filmes['production_countries'].str.lower() \n",
    "filmes['release_date'] = filmes['release_date'].str.lower() \n",
    "filmes['spoken_languages'] = filmes['spoken_languages'].str.lower() \n",
    "filmes['status'] = filmes['status'].str.lower() \n",
    "filmes['title'] = filmes['title'].str.lower() "
   ]
  },
  {
   "cell_type": "code",
   "execution_count": 283,
   "metadata": {},
   "outputs": [
    {
     "output_type": "execute_result",
     "data": {
      "text/plain": "Index(['adult', 'budget', 'genres', 'id', 'imdb_id', 'original_language',\n       'original_title', 'overview', 'popularity', 'production_companies',\n       'production_countries', 'release_date', 'revenue', 'runtime',\n       'spoken_languages', 'status', 'tagline', 'title', 'video',\n       'vote_average', 'vote_count'],\n      dtype='object')"
     },
     "metadata": {},
     "execution_count": 283
    }
   ],
   "source": [
    "# visualizar o nome das colunas do DATASET\n",
    "filmes.columns"
   ]
  },
  {
   "cell_type": "code",
   "execution_count": 284,
   "metadata": {},
   "outputs": [],
   "source": [
    "# renomear as coluna e usar todas com caixa baixa para padronizar\n",
    "filmes = filmes.rename(columns={'adult': \"adulto\", 'budget': 'despesas', 'genres': 'genero', 'original_language': 'lingua_original', 'original_title': 'Titulo_original', 'overview': 'descricao', 'popularity': 'popularidade', 'production_companies': 'cia_producao', 'production_countries': 'pais_producao', 'release_date': 'data_lancamento', 'revenue': 'receita', 'runtime': 'duracao', 'spoken_languages': 'idiomas_falados', 'title': 'titulo', 'vote_average': 'media_votos', 'vote_count': 'qtde_votos','video': 'video'})"
   ]
  },
  {
   "cell_type": "code",
   "execution_count": 285,
   "metadata": {},
   "outputs": [
    {
     "output_type": "execute_result",
     "data": {
      "text/plain": "adulto              object\ndespesas            object\ngenero              object\nid                  object\nimdb_id             object\nlingua_original     object\nTitulo_original     object\ndescricao           object\npopularidade        object\ncia_producao        object\npais_producao       object\ndata_lancamento     object\nreceita            float64\nduracao            float64\nidiomas_falados     object\nstatus              object\nslogan              object\ntitulo              object\nvideo               object\nmedia_votos        float64\nqtde_votos         float64\ndtype: object"
     },
     "metadata": {},
     "execution_count": 285
    }
   ],
   "source": [
    "filmes.dtypes"
   ]
  },
  {
   "cell_type": "code",
   "execution_count": null,
   "metadata": {},
   "outputs": [],
   "source": [
    "# descrição das features\n",
    "'ADULTO' - se o filme é para adulto ou não \n",
    "'DESPESAS' - valor gasto na produção e divulgação dos vídeos\n",
    "'GENERO' - qual é o gêncero do filme.\n",
    "'ID' - Número que identifica o filme\n",
    "'IMDB_ID' - número unico que identifica o filme na base do IMDB\n",
    "'LINGUA_ORIGINAL' - Qual é o idioma original do filme. \n",
    "'TITULO_ORIGINAL' - Titulo original do filme\n",
    "'DESCRICAO' - Descrição do filme\n",
    "'POPULARIDADE' - Qual é a popularidade do filme\n",
    "'CIA_PRODUCAO' - Qual foi a companhia que produziu o filme. \n",
    "'PAIS_PRODUCAO' - Qual foi o país que produziu o filme.\n",
    "'DATA_LANCAMENTO' - Qual foi a data de lançamento do filme\n",
    "'RECEITA' -  Qual foi a receita obtida com o filme\n",
    "'DURACAO' - Qual é a duração do filme em minutos\n",
    "'IDIOMAS_FALADOS' - Quais são os idiomas falados no filme. \n",
    "'STATUS' - Status do filmes. \n",
    "'SLOGAN' - Qual é o slogan do filme.\n",
    "'TITULO' - Qual é o título do filme\n",
    "'VIDEO' - Se tem o video ou não do traile ????????? precisa desta feature ?????\n",
    "'MEDIA_VOTOS' - Qual é a média de votos dada pelos usuários\n",
    "'QTDE_VOTOS' - Qual foi a quantidade de votos\n",
    "\n",
    "# Tipos de features e seus possíveis valores\n",
    "A) Variáveis discretas - O dataset contém 8 variáveis:\n",
    "1 - ADULTO - Contém dois valores possíveis: 'False', 'True'\n",
    "2 - GENERO -  Contém 29 valores possíveis: ['animation', 'comedy', 'family', 'adventure', 'fantasy', 'romance', 'drama', 'action', 'crime', 'thriller', 'horror', 'history', 'science fiction', 'mystery', 'war', 'foreign', 'music', 'documentary', 'western', 'tv movie', 'carousel productions', 'vision view entertainment', 'telescene film group productions', 'aniplex', 'gohands', 'brosta tv', 'odyssey media', 'pulser productions', 'rogue state']\n",
    "3 - LINGUA_ORIGINAL -possui 90 opções possíveis: 'en' 'fr' 'zh' 'it' 'fa' 'nl' 'de' 'cn' 'ar' 'es' 'ru' 'sv' 'ja' 'ko'  'sr' 'bn' 'he' 'pt' 'wo' 'ro' 'hu' 'cy' 'vi' 'cs' 'da' 'no' 'nb' 'pl'\n",
    " 'el' 'sh' 'xx' 'mk' 'bo' 'ca' 'fi' 'th' 'sk' 'bs' 'hi' 'tr' 'is' 'ps'\n",
    " 'ab' 'eo' 'ka' 'mn' 'bm' 'zu' 'uk' 'af' 'la' 'et' 'ku' 'fy' 'lv' 'ta'\n",
    " 'sl' 'tl' 'ur' 'rw' 'id' 'bg' 'mr' 'lt' 'kk' 'ms' 'sq' nan 'qu' 'te' 'am'\n",
    " 'jv' 'tg' 'ml' 'hr' 'lo' 'ay' 'kn' 'eu' 'ne' 'pa' 'ky' 'gl' 'uz' 'sm'\n",
    " 'mt' 'hy' 'iu' 'lb' 'si'\n",
    "4 - cia_producao   - ????? TRANSFORMAR OS DADOS EM FEATURES      - FAZER UM DICIONARIO PARA                      #CONVERTER O ID E NOME DA CIA\n",
    "5 - pais_producao  - ???????TRANSFORMAR OS DADOS - FAZER DICIONARIO -> SIGLA E NOME DO PAIS \n",
    "6 - idiomas_falado - ????????TRANSFORMAR OS DADOS - CRIAR LISTA COM OS IDIOMAS FALADOS\n",
    "7 - status - 'Released', nan, 'Rumored', 'Post Production', 'In Production', 'Planned', 'Canceled'          \n",
    "8 - video - False, True, nan\n",
    "\n",
    "B) Variáveis categóricas - O dataset contém 13 variáveis: \n",
    "DESPESAS,ID,IMDB_ID ,TITULO_ORIGINAL, DESCRICAO,DATA_LANCAMENTO,POPULARIDADE,  \n",
    "RECEITA ,  DURACAO(MINUTOS),SLOGAN, TITULO,MEDIA_VOTOS,QTDE_VOTOS          "
   ]
  },
  {
   "cell_type": "code",
   "execution_count": 286,
   "metadata": {},
   "outputs": [
    {
     "output_type": "execute_result",
     "data": {
      "text/plain": "array(['false', 'true', ' - written by ørnås',\n       ' rune balot goes to a casino connected to the october corporation to try to wrap up her case once and for all.',\n       ' avalanche sharks tells the story of a bikini contest that turns into a horrifying affair when it is hit by a shark avalanche.'],\n      dtype=object)"
     },
     "metadata": {},
     "execution_count": 286
    }
   ],
   "source": [
    "# ao executar o comando abaixo, percebemos que há registros diferentes de true e false na feature adulto\n",
    "# os registros serão eliminados\n",
    "filmes['adulto'].unique()"
   ]
  },
  {
   "cell_type": "code",
   "execution_count": 287,
   "metadata": {},
   "outputs": [
    {
     "output_type": "stream",
     "name": "stdout",
     "text": "registro written by ørnås:                      adulto                          despesas  \\\n19730   - written by ørnås  /ff9qcepilowshetg2gywwzt2bs4.jpg   \n\n                                                  genero          id imdb_id  \\\n19730  [{'name': 'carousel productions', 'id': 11176}...  1997-08-20       0   \n\n      lingua_original                           Titulo_original descricao  \\\n19730           104.0  [{'iso_639_1': 'en', 'name': 'english'}]  released   \n\n      popularidade cia_producao  ... data_lancamento receita  duracao  \\\n19730          NaN        false  ...               1     NaN      NaN   \n\n       idiomas_falados status slogan titulo video media_votos  qtde_votos  \n19730              NaN    NaN    NaN    NaN   NaN         NaN         NaN  \n\n[1 rows x 21 columns]\n"
    }
   ],
   "source": [
    "# identificando o id do registro \n",
    "print (\"registro written by ørnås: \" , filmes.loc [filmes['adulto'] == ' - written by ørnås'])\n"
   ]
  },
  {
   "cell_type": "code",
   "execution_count": 288,
   "metadata": {},
   "outputs": [
    {
     "output_type": "stream",
     "name": "stdout",
     "text": "registro rune balot goes ...:                                                    adulto  \\\n29503   rune balot goes to a casino connected to the ...   \n\n                               despesas  \\\n29503  /zv8bhusl6wxod6fwogp9j4x80bl.jpg   \n\n                                                  genero          id imdb_id  \\\n29503  [{'name': 'aniplex', 'id': 2883}, {'name': 'go...  2012-09-29       0   \n\n      lingua_original                       Titulo_original descricao  \\\n29503            68.0  [{'iso_639_1': 'ja', 'name': '日本語'}]  released   \n\n      popularidade cia_producao  ... data_lancamento receita  duracao  \\\n29503          NaN        false  ...              12     NaN      NaN   \n\n       idiomas_falados status slogan titulo video media_votos  qtde_votos  \n29503              NaN    NaN    NaN    NaN   NaN         NaN         NaN  \n\n[1 rows x 21 columns]\n"
    }
   ],
   "source": [
    "# identificando o id do 2o registro \n",
    "print (\"registro rune balot goes ...: \" , filmes.loc [filmes['adulto'] == ' rune balot goes to a casino connected to the october corporation to try to wrap up her case once and for all.'])\n"
   ]
  },
  {
   "cell_type": "code",
   "execution_count": 289,
   "metadata": {},
   "outputs": [
    {
     "output_type": "stream",
     "name": "stdout",
     "text": "registro rune balot goes ...:                                                    adulto  \\\n35587   avalanche sharks tells the story of a bikini ...   \n\n                               despesas  \\\n35587  /zasf5og7v8x8gqfvly88zddrm46.jpg   \n\n                                                  genero          id imdb_id  \\\n35587  [{'name': 'odyssey media', 'id': 17161}, {'nam...  2014-01-01       0   \n\n      lingua_original                           Titulo_original descricao  \\\n35587            82.0  [{'iso_639_1': 'en', 'name': 'english'}]  released   \n\n                popularidade cia_producao  ... data_lancamento receita  \\\n35587  beware of frost bites        false  ...              22     NaN   \n\n       duracao  idiomas_falados status slogan titulo video media_votos  \\\n35587      NaN              NaN    NaN    NaN    NaN   NaN         NaN   \n\n       qtde_votos  \n35587         NaN  \n\n[1 rows x 21 columns]\n"
    }
   ],
   "source": [
    "# identificando o id do 3o registro \n",
    "print (\"registro rune balot goes ...: \" , filmes.loc [filmes['adulto'] == ' avalanche sharks tells the story of a bikini contest that turns into a horrifying affair when it is hit by a shark avalanche.'])"
   ]
  },
  {
   "cell_type": "code",
   "execution_count": 291,
   "metadata": {},
   "outputs": [],
   "source": [
    "#Conforme observamos acima, a feature 'adulto' possui três registros diferente de false e true, portanto serão excluídos\n",
    "\n",
    "# id: 19730  -> filmes['adulto'] == ' - written by ørnås'\n",
    "filmes = filmes.drop([19730]) \n",
    "\n",
    "\n",
    "# id: 29503   -> filmes['adulto'] == ' rune balot goes to ....'\n",
    "filmes = filmes.drop([29503]) \n",
    "\n",
    "#id 35587   -> filmes['adulto'] == ' avalanche sharks tells ....'\n",
    "#excluir = filmes.loc [filmes['adulto'] == ' avalanche sharks tells the story of a bikini contest that turns into a horrifying affair when it is hit by a shark avalanche.']\n",
    "filmes = filmes.drop([35587]) \n",
    "\n",
    "#antes do drop (45466, 21)\n",
    "# depois do drop (45463, 21)"
   ]
  },
  {
   "cell_type": "code",
   "execution_count": 292,
   "metadata": {},
   "outputs": [
    {
     "output_type": "execute_result",
     "data": {
      "text/plain": "(45463, 21)"
     },
     "metadata": {},
     "execution_count": 292
    }
   ],
   "source": [
    "filmes.shape"
   ]
  },
  {
   "cell_type": "code",
   "execution_count": 298,
   "metadata": {},
   "outputs": [
    {
     "output_type": "execute_result",
     "data": {
      "text/plain": "adulto              object\ndespesas            object\ngenero              object\nid                  object\nimdb_id             object\nlingua_original     object\nTitulo_original     object\ndescricao           object\npopularidade        object\ncia_producao        object\npais_producao       object\ndata_lancamento     object\nreceita            float64\nduracao            float64\nidiomas_falados     object\nstatus              object\nslogan              object\ntitulo              object\nvideo               object\nmedia_votos        float64\nqtde_votos         float64\ndtype: object"
     },
     "metadata": {},
     "execution_count": 298
    }
   ],
   "source": [
    "filmes.dtypes"
   ]
  },
  {
   "cell_type": "code",
   "execution_count": null,
   "metadata": {},
   "outputs": [],
   "source": [
    "# a feature 'genero' é uma dista de dicionário, portanto, o nome dos generos serão salvos numa nova feature \n",
    "Recupera os gêneros de um filme que é uma lista  e salva numa nova coluna chamada novos_generos\n",
    "from ast import literal_eval\n",
    "filmes['genero'] = filmes['genero'].apply(literal_eval) # verifica se todos os dados são do mesmo tipo\n",
    "#Função para pegar os nomes dos gêneros, caso exista.\n",
    "def get_list(x):\n",
    "    if isinstance(x, list):\n",
    "        names = [i['name'] for i in x]\n",
    "        if len(names) > 3:\n",
    "            names = names[:3]\n",
    "        return names\n",
    "    return []\n",
    "filmes['novo_genero'] = filmes['genero'].apply(get_list) #O retorno será uma lista com todos os gêneros. quando coloco uma coluna que não existe, ele cria a coluna automaticamente"
   ]
  },
  {
   "cell_type": "code",
   "execution_count": null,
   "metadata": {},
   "outputs": [],
   "source": [
    "# Criar uma lista que contenha somente valores únicos de gênero, para idêntificá-los e contabilizá-los\n",
    "todos_registros = len(filmes.novo_genero)        \n",
    "generos_unicos = [] # lista onde será incluídos os gêneros únicos\n",
    "x = 0 \n",
    "#print (todos_registros)\n",
    "while (x < todos_registros): # enquanto tiver registros no dataset\n",
    "    #print (\"x:\", x)\n",
    "    generos = filmes.novo_genero[x]\n",
    "    #print (\"P/ x = {} todos os generos são {}:\".format(x,generos))\n",
    "    tam_generos = len(generos)\n",
    "    #print (\"tam_generos: \", tam_generos)\n",
    "    i = z = 0\n",
    "    while (i < tam_generos): # enquanto o registro tiver generos\n",
    "        cada_genero_registo = filmes.novo_genero[x][i]\n",
    "        #print (\"Para x = {} e i = {} os genero é {} \". format(x, i ,cada_genero_registo))\n",
    "        if (not cada_genero_registo in generos_unicos): # verifica se o genero está na lista de generos únicos\n",
    "            generos_unicos.append(cada_genero_registo) # inclui o genero na lista de generos únicos\n",
    "            #print (\"lista com os generos únicos\", generos_unicos)\n",
    "            z +=1\n",
    "        i += 1        \n",
    "    x += 1\n",
    "print (\"O dataset contém {} generos únicos: \", format(len(generos_unicos),))\n",
    "print (generos_unicos)"
   ]
  },
  {
   "cell_type": "code",
   "execution_count": 353,
   "metadata": {},
   "outputs": [
    {
     "output_type": "execute_result",
     "data": {
      "text/plain": "0           [{'name': 'pixar animation studios', 'id': 3}]\n1        [{'name': 'tristar pictures', 'id': 559}, {'na...\n2        [{'name': 'warner bros.', 'id': 6194}, {'name'...\n3        [{'name': 'twentieth century fox film corporat...\n4        [{'name': 'sandollar productions', 'id': 5842}...\n                               ...                        \n45461                                                   []\n45462               [{'name': 'sine olivia', 'id': 19653}]\n45463    [{'name': 'american world pictures', 'id': 6165}]\n45464                 [{'name': 'yermoliev', 'id': 88753}]\n45465                                                   []\nName: cia_producao, Length: 45463, dtype: object"
     },
     "metadata": {},
     "execution_count": 353
    }
   ],
   "source": []
  },
  {
   "cell_type": "code",
   "execution_count": 359,
   "metadata": {},
   "outputs": [
    {
     "output_type": "execute_result",
     "data": {
      "text/plain": "0                 [{'iso_639_1': 'en', 'name': 'english'}]\n1        [{'iso_639_1': 'en', 'name': 'english'}, {'iso...\n2                 [{'iso_639_1': 'en', 'name': 'english'}]\n3                 [{'iso_639_1': 'en', 'name': 'english'}]\n4                 [{'iso_639_1': 'en', 'name': 'english'}]\n                               ...                        \n45461               [{'iso_639_1': 'fa', 'name': 'فارسی'}]\n45462                    [{'iso_639_1': 'tl', 'name': ''}]\n45463             [{'iso_639_1': 'en', 'name': 'english'}]\n45464                                                   []\n45465             [{'iso_639_1': 'en', 'name': 'english'}]\nName: idiomas_falados, Length: 45463, dtype: object"
     },
     "metadata": {},
     "execution_count": 359
    }
   ],
   "source": [
    "x = filmes['idiomas_falados']\n",
    "x"
   ]
  },
  {
   "cell_type": "code",
   "execution_count": 363,
   "metadata": {},
   "outputs": [
    {
     "output_type": "error",
     "ename": "ValueError",
     "evalue": "malformed node or string: nan",
     "traceback": [
      "\u001b[1;31m---------------------------------------------------------------------------\u001b[0m",
      "\u001b[1;31mValueError\u001b[0m                                Traceback (most recent call last)",
      "\u001b[1;32m<ipython-input-363-c543c162d5f2>\u001b[0m in \u001b[0;36m<module>\u001b[1;34m\u001b[0m\n\u001b[0;32m      2\u001b[0m \u001b[1;33m\u001b[0m\u001b[0m\n\u001b[0;32m      3\u001b[0m \u001b[1;32mfrom\u001b[0m \u001b[0mast\u001b[0m \u001b[1;32mimport\u001b[0m \u001b[0mliteral_eval\u001b[0m\u001b[1;33m\u001b[0m\u001b[0m\n\u001b[1;32m----> 4\u001b[1;33m \u001b[0mfilmes\u001b[0m\u001b[1;33m[\u001b[0m\u001b[1;34m'idiomas_falados'\u001b[0m\u001b[1;33m]\u001b[0m \u001b[1;33m=\u001b[0m \u001b[0mfilmes\u001b[0m\u001b[1;33m[\u001b[0m\u001b[1;34m'idiomas_falados'\u001b[0m\u001b[1;33m]\u001b[0m\u001b[1;33m.\u001b[0m\u001b[0mapply\u001b[0m\u001b[1;33m(\u001b[0m\u001b[0mliteral_eval\u001b[0m\u001b[1;33m)\u001b[0m \u001b[1;31m# verifica se todos os dados são do mesmo tipo\u001b[0m\u001b[1;33m\u001b[0m\u001b[0m\n\u001b[0m\u001b[0;32m      5\u001b[0m \u001b[1;33m\u001b[0m\u001b[0m\n\u001b[0;32m      6\u001b[0m \u001b[1;31m#Função para pegar os nomes das companhias, caso exista.\u001b[0m\u001b[1;33m\u001b[0m\u001b[1;33m\u001b[0m\u001b[0m\n",
      "\u001b[1;32m~\\AppData\\Local\\Programs\\Python\\Python37\\lib\\site-packages\\pandas\\core\\series.py\u001b[0m in \u001b[0;36mapply\u001b[1;34m(self, func, convert_dtype, args, **kwds)\u001b[0m\n\u001b[0;32m   4043\u001b[0m             \u001b[1;32melse\u001b[0m\u001b[1;33m:\u001b[0m\u001b[1;33m\u001b[0m\u001b[0m\n\u001b[0;32m   4044\u001b[0m                 \u001b[0mvalues\u001b[0m \u001b[1;33m=\u001b[0m \u001b[0mself\u001b[0m\u001b[1;33m.\u001b[0m\u001b[0mastype\u001b[0m\u001b[1;33m(\u001b[0m\u001b[0mobject\u001b[0m\u001b[1;33m)\u001b[0m\u001b[1;33m.\u001b[0m\u001b[0mvalues\u001b[0m\u001b[1;33m\u001b[0m\u001b[0m\n\u001b[1;32m-> 4045\u001b[1;33m                 \u001b[0mmapped\u001b[0m \u001b[1;33m=\u001b[0m \u001b[0mlib\u001b[0m\u001b[1;33m.\u001b[0m\u001b[0mmap_infer\u001b[0m\u001b[1;33m(\u001b[0m\u001b[0mvalues\u001b[0m\u001b[1;33m,\u001b[0m \u001b[0mf\u001b[0m\u001b[1;33m,\u001b[0m \u001b[0mconvert\u001b[0m\u001b[1;33m=\u001b[0m\u001b[0mconvert_dtype\u001b[0m\u001b[1;33m)\u001b[0m\u001b[1;33m\u001b[0m\u001b[0m\n\u001b[0m\u001b[0;32m   4046\u001b[0m \u001b[1;33m\u001b[0m\u001b[0m\n\u001b[0;32m   4047\u001b[0m         \u001b[1;32mif\u001b[0m \u001b[0mlen\u001b[0m\u001b[1;33m(\u001b[0m\u001b[0mmapped\u001b[0m\u001b[1;33m)\u001b[0m \u001b[1;32mand\u001b[0m \u001b[0misinstance\u001b[0m\u001b[1;33m(\u001b[0m\u001b[0mmapped\u001b[0m\u001b[1;33m[\u001b[0m\u001b[1;36m0\u001b[0m\u001b[1;33m]\u001b[0m\u001b[1;33m,\u001b[0m \u001b[0mSeries\u001b[0m\u001b[1;33m)\u001b[0m\u001b[1;33m:\u001b[0m\u001b[1;33m\u001b[0m\u001b[0m\n",
      "\u001b[1;32mpandas/_libs/lib.pyx\u001b[0m in \u001b[0;36mpandas._libs.lib.map_infer\u001b[1;34m()\u001b[0m\n",
      "\u001b[1;32m~\\AppData\\Local\\Programs\\Python\\Python37\\lib\\ast.py\u001b[0m in \u001b[0;36mliteral_eval\u001b[1;34m(node_or_string)\u001b[0m\n\u001b[0;32m     89\u001b[0m                     \u001b[1;32mreturn\u001b[0m \u001b[0mleft\u001b[0m \u001b[1;33m-\u001b[0m \u001b[0mright\u001b[0m\u001b[1;33m\u001b[0m\u001b[0m\n\u001b[0;32m     90\u001b[0m         \u001b[1;32mreturn\u001b[0m \u001b[0m_convert_signed_num\u001b[0m\u001b[1;33m(\u001b[0m\u001b[0mnode\u001b[0m\u001b[1;33m)\u001b[0m\u001b[1;33m\u001b[0m\u001b[0m\n\u001b[1;32m---> 91\u001b[1;33m     \u001b[1;32mreturn\u001b[0m \u001b[0m_convert\u001b[0m\u001b[1;33m(\u001b[0m\u001b[0mnode_or_string\u001b[0m\u001b[1;33m)\u001b[0m\u001b[1;33m\u001b[0m\u001b[0m\n\u001b[0m\u001b[0;32m     92\u001b[0m \u001b[1;33m\u001b[0m\u001b[0m\n\u001b[0;32m     93\u001b[0m \u001b[1;33m\u001b[0m\u001b[0m\n",
      "\u001b[1;32m~\\AppData\\Local\\Programs\\Python\\Python37\\lib\\ast.py\u001b[0m in \u001b[0;36m_convert\u001b[1;34m(node)\u001b[0m\n\u001b[0;32m     88\u001b[0m                 \u001b[1;32melse\u001b[0m\u001b[1;33m:\u001b[0m\u001b[1;33m\u001b[0m\u001b[0m\n\u001b[0;32m     89\u001b[0m                     \u001b[1;32mreturn\u001b[0m \u001b[0mleft\u001b[0m \u001b[1;33m-\u001b[0m \u001b[0mright\u001b[0m\u001b[1;33m\u001b[0m\u001b[0m\n\u001b[1;32m---> 90\u001b[1;33m         \u001b[1;32mreturn\u001b[0m \u001b[0m_convert_signed_num\u001b[0m\u001b[1;33m(\u001b[0m\u001b[0mnode\u001b[0m\u001b[1;33m)\u001b[0m\u001b[1;33m\u001b[0m\u001b[0m\n\u001b[0m\u001b[0;32m     91\u001b[0m     \u001b[1;32mreturn\u001b[0m \u001b[0m_convert\u001b[0m\u001b[1;33m(\u001b[0m\u001b[0mnode_or_string\u001b[0m\u001b[1;33m)\u001b[0m\u001b[1;33m\u001b[0m\u001b[0m\n\u001b[0;32m     92\u001b[0m \u001b[1;33m\u001b[0m\u001b[0m\n",
      "\u001b[1;32m~\\AppData\\Local\\Programs\\Python\\Python37\\lib\\ast.py\u001b[0m in \u001b[0;36m_convert_signed_num\u001b[1;34m(node)\u001b[0m\n\u001b[0;32m     61\u001b[0m             \u001b[1;32melse\u001b[0m\u001b[1;33m:\u001b[0m\u001b[1;33m\u001b[0m\u001b[0m\n\u001b[0;32m     62\u001b[0m                 \u001b[1;32mreturn\u001b[0m \u001b[1;33m-\u001b[0m \u001b[0moperand\u001b[0m\u001b[1;33m\u001b[0m\u001b[0m\n\u001b[1;32m---> 63\u001b[1;33m         \u001b[1;32mreturn\u001b[0m \u001b[0m_convert_num\u001b[0m\u001b[1;33m(\u001b[0m\u001b[0mnode\u001b[0m\u001b[1;33m)\u001b[0m\u001b[1;33m\u001b[0m\u001b[0m\n\u001b[0m\u001b[0;32m     64\u001b[0m     \u001b[1;32mdef\u001b[0m \u001b[0m_convert\u001b[0m\u001b[1;33m(\u001b[0m\u001b[0mnode\u001b[0m\u001b[1;33m)\u001b[0m\u001b[1;33m:\u001b[0m\u001b[1;33m\u001b[0m\u001b[0m\n\u001b[0;32m     65\u001b[0m         \u001b[1;32mif\u001b[0m \u001b[0misinstance\u001b[0m\u001b[1;33m(\u001b[0m\u001b[0mnode\u001b[0m\u001b[1;33m,\u001b[0m \u001b[0mConstant\u001b[0m\u001b[1;33m)\u001b[0m\u001b[1;33m:\u001b[0m\u001b[1;33m\u001b[0m\u001b[0m\n",
      "\u001b[1;32m~\\AppData\\Local\\Programs\\Python\\Python37\\lib\\ast.py\u001b[0m in \u001b[0;36m_convert_num\u001b[1;34m(node)\u001b[0m\n\u001b[0;32m     53\u001b[0m         \u001b[1;32melif\u001b[0m \u001b[0misinstance\u001b[0m\u001b[1;33m(\u001b[0m\u001b[0mnode\u001b[0m\u001b[1;33m,\u001b[0m \u001b[0mNum\u001b[0m\u001b[1;33m)\u001b[0m\u001b[1;33m:\u001b[0m\u001b[1;33m\u001b[0m\u001b[0m\n\u001b[0;32m     54\u001b[0m             \u001b[1;32mreturn\u001b[0m \u001b[0mnode\u001b[0m\u001b[1;33m.\u001b[0m\u001b[0mn\u001b[0m\u001b[1;33m\u001b[0m\u001b[0m\n\u001b[1;32m---> 55\u001b[1;33m         \u001b[1;32mraise\u001b[0m \u001b[0mValueError\u001b[0m\u001b[1;33m(\u001b[0m\u001b[1;34m'malformed node or string: '\u001b[0m \u001b[1;33m+\u001b[0m \u001b[0mrepr\u001b[0m\u001b[1;33m(\u001b[0m\u001b[0mnode\u001b[0m\u001b[1;33m)\u001b[0m\u001b[1;33m)\u001b[0m\u001b[1;33m\u001b[0m\u001b[0m\n\u001b[0m\u001b[0;32m     56\u001b[0m     \u001b[1;32mdef\u001b[0m \u001b[0m_convert_signed_num\u001b[0m\u001b[1;33m(\u001b[0m\u001b[0mnode\u001b[0m\u001b[1;33m)\u001b[0m\u001b[1;33m:\u001b[0m\u001b[1;33m\u001b[0m\u001b[0m\n\u001b[0;32m     57\u001b[0m         \u001b[1;32mif\u001b[0m \u001b[0misinstance\u001b[0m\u001b[1;33m(\u001b[0m\u001b[0mnode\u001b[0m\u001b[1;33m,\u001b[0m \u001b[0mUnaryOp\u001b[0m\u001b[1;33m)\u001b[0m \u001b[1;32mand\u001b[0m \u001b[0misinstance\u001b[0m\u001b[1;33m(\u001b[0m\u001b[0mnode\u001b[0m\u001b[1;33m.\u001b[0m\u001b[0mop\u001b[0m\u001b[1;33m,\u001b[0m \u001b[1;33m(\u001b[0m\u001b[0mUAdd\u001b[0m\u001b[1;33m,\u001b[0m \u001b[0mUSub\u001b[0m\u001b[1;33m)\u001b[0m\u001b[1;33m)\u001b[0m\u001b[1;33m:\u001b[0m\u001b[1;33m\u001b[0m\u001b[0m\n",
      "\u001b[1;31mValueError\u001b[0m: malformed node or string: nan"
     ]
    }
   ],
   "source": [
    "# A feature 'cia_producao' é uma lista de dicionário, portanto, o nome das companhias que que produziram o filme serão salvos numa nova feature \n",
    "\n",
    "from ast import literal_eval\n",
    "filmes['idiomas_falados'] = filmes['idiomas_falados'].apply(literal_eval) # verifica se todos os dados são do mesmo tipo\n",
    "\n",
    "#Função para pegar os nomes das companhias, caso exista.\n",
    "def get_list(x):\n",
    "    print (x)\n",
    "    if isinstance(x, list):\n",
    "        names = [i['name'] for i in x]\n",
    "        if len(names) > 2:\n",
    "            names = names[:2]\n",
    "        return names\n",
    "    return []\n",
    "\n",
    "filmes['idiomas_falados'] = filmes['idiomas_falados'].apply(get_list) #O retorno será uma lista com todas as companhia. quando coloco uma coluna que não existe, ele cria a coluna automaticamente\n"
   ]
  },
  {
   "cell_type": "code",
   "execution_count": null,
   "metadata": {},
   "outputs": [],
   "source": [
    "filmes"
   ]
  },
  {
   "cell_type": "code",
   "execution_count": 366,
   "metadata": {},
   "outputs": [
    {
     "output_type": "execute_result",
     "data": {
      "text/plain": "count                                        45460\nunique                                        1931\ntop       [{'iso_639_1': 'en', 'name': 'english'}]\nfreq                                         22395\nName: idiomas_falados, dtype: object"
     },
     "metadata": {},
     "execution_count": 366
    }
   ],
   "source": [
    "filmes['idiomas_falados']"
   ]
  },
  {
   "cell_type": "code",
   "execution_count": null,
   "metadata": {},
   "outputs": [],
   "source": [
    "# Percentual das features que não possuem valor (dados faltantes):\n",
    "(filmes.isnull().sum() / filmes.shape[0]).sort_values(ascending=False)"
   ]
  },
  {
   "cell_type": "code",
   "execution_count": null,
   "metadata": {},
   "outputs": [],
   "source": []
  }
 ],
 "metadata": {
  "language_info": {
   "codemirror_mode": {
    "name": "ipython",
    "version": 3
   },
   "file_extension": ".py",
   "mimetype": "text/x-python",
   "name": "python",
   "nbconvert_exporter": "python",
   "pygments_lexer": "ipython3",
   "version": "3.7.0-final"
  },
  "orig_nbformat": 2,
  "kernelspec": {
   "name": "python37064bitc01724e9609b4d719b1530c185cd833e",
   "display_name": "Python 3.7.0 64-bit"
  }
 },
 "nbformat": 4,
 "nbformat_minor": 2
}