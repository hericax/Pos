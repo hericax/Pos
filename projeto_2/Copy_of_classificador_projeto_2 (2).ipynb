{
  "nbformat": 4,
  "nbformat_minor": 0,
  "metadata": {
    "file_extension": ".py",
    "kernelspec": {
      "display_name": "Python 3.7.5 32-bit ('pos-ds-ia-3.7': conda)",
      "language": "python",
      "name": "python37532bitposdsia37condac7e21a6016ce41d79614fa61fa050301"
    },
    "language_info": {
      "codemirror_mode": {
        "name": "ipython",
        "version": 3
      },
      "file_extension": ".py",
      "mimetype": "text/x-python",
      "name": "python",
      "nbconvert_exporter": "python",
      "pygments_lexer": "ipython3",
      "version": "3.7.5-final"
    },
    "mimetype": "text/x-python",
    "name": "python",
    "npconvert_exporter": "python",
    "pygments_lexer": "ipython3",
    "version": 3,
    "colab": {
      "name": "Copy of classificador_projeto_2.ipynb",
      "provenance": []
    }
  },
  "cells": [
    {
      "cell_type": "markdown",
      "metadata": {
        "id": "bwIpoRak_FSG",
        "colab_type": "text"
      },
      "source": [
        "# Projeto #2 - Classificador supervisionado\n",
        "\n",
        "Antes de começar, leia as [Instruções](https://github.com/thvmm/pos-ds-ia/tree/master/projeto_2#instru%C3%A7%C3%B5es) e os [Critérios de Avaliação](https://github.com/thvmm/pos-ds-ia/tree/master/projeto_2#crit%C3%A9rios-de-avalia%C3%A7%C3%A3o)\n"
      ]
    },
    {
      "cell_type": "markdown",
      "metadata": {
        "id": "Vq0xJImi_FSM",
        "colab_type": "text"
      },
      "source": [
        "### 1) Qual a base escolhida?\n",
        "\n"
      ]
    },
    {
      "cell_type": "markdown",
      "metadata": {
        "id": "iKRD-w9d_FSP",
        "colab_type": "text"
      },
      "source": [
        "A base escolhida foi - Reuters Corpus Volume I - https://scikit-learn.org/stable/datasets/index.html#id9"
      ]
    },
    {
      "cell_type": "markdown",
      "metadata": {
        "id": "n_l2ttl0_FSR",
        "colab_type": "text"
      },
      "source": [
        "### 2) **(10%)** Pré-processamento: entendimento do conjunto de dados\n",
        "- Quais são minhas features?\n",
        "    \n",
        "\tNumber of instances (observations):  581,012\n",
        "\tNumber of Attributes:\t\n",
        "\t\t12 features\n",
        "    Name                                     Data Type    Measurement                       Description\n",
        "\n",
        "Elevation - Elevation in meters\n",
        "Aspect - Aspect in degrees azimuth\n",
        "Slope - Slope in degrees\n",
        "Horizontal_Distance_To_Hydrology        quantitative    meters                       Horz Dist to nearest surface water features\n",
        "Vertical_Distance_To_Hydrology          quantitative    meters                       Vert Dist to nearest surface water features\n",
        "Horizontal_Distance_To_Roadways         quantitative    meters                       Horz Dist to nearest roadway\n",
        "Hillshade_9am                           quantitative    0 to 255 index               Hillshade index at 9am, summer solstice\n",
        "Hillshade_Noon                          quantitative    0 to 255 index               Hillshade index at noon, summer soltice\n",
        "Hillshade_3pm                           quantitative    0 to 255 index               Hillshade index at 3pm, summer solstice\n",
        "Horizontal_Distance_To_Fire_Points      quantitative    meters                       Horz Dist to nearest wildfire ignition points\n",
        "Wilderness_Area (4 binary columns)      qualitative     0 (absence) or 1 (presence)  Wilderness area designation\n",
        "Soil_Type (40 binary columns)           qualitative     0 (absence) or 1 (presence)  Soil Type designation\n",
        "Cover_Type (7 types)                    integer         1 to 7                       Forest Cover Type designation\n",
        "\n",
        "- Quais são minhas classes?\n",
        "- Como estão distribuidas minhas classes?\n",
        "- Checagem se os valores estão dentro de um limite permitido ou razoável.\n",
        "- Tratamento de valores ausentes por eliminação ou substituição.\n",
        "- Conversão do tipo de dados.\n"
      ]
    },
    {
      "cell_type": "code",
      "metadata": {
        "id": "novTqAj-_FST",
        "colab_type": "code",
        "colab": {}
      },
      "source": [
        "# Implemente sua análise aqui. Use mais blocos se achar que ficará mais organizado."
      ],
      "execution_count": 0,
      "outputs": []
    },
    {
      "cell_type": "markdown",
      "metadata": {
        "id": "G72ZdR4-_FSa",
        "colab_type": "text"
      },
      "source": [
        "### 3) **(80%)** Nos blocos seguintes implemente seus classificadores (serão implementados 2 métodos diferentes)."
      ]
    },
    {
      "cell_type": "markdown",
      "metadata": {
        "id": "Q9gopcgD_FSb",
        "colab_type": "text"
      },
      "source": [
        "#### 3.1) Qual método escolhido?"
      ]
    },
    {
      "cell_type": "markdown",
      "metadata": {
        "id": "cr26xYmO_FSe",
        "colab_type": "text"
      },
      "source": [
        "*Indique o método escolhido*"
      ]
    },
    {
      "cell_type": "markdown",
      "metadata": {
        "id": "aayXclGv_FSh",
        "colab_type": "text"
      },
      "source": [
        "#### 3.2) **(10%)** Baseline - Implemente seu classificador da forma mais simples possível para esse ser seu baseline"
      ]
    },
    {
      "cell_type": "code",
      "metadata": {
        "id": "xbafXSmr_FSk",
        "colab_type": "code",
        "colab": {}
      },
      "source": [
        "from sklearn.datasets import fetch_rcv1\n",
        "\n",
        "import numpy as np\n",
        "import matplotlib.pyplot as plt\n",
        "import pandas as pd\n",
        "\n",
        "from sklearn.svm import SVC\n",
        "from sklearn.decomposition import PCA as RandomizedPCA\n",
        "from sklearn.pipeline import make_pipeline"
      ],
      "execution_count": 0,
      "outputs": []
    },
    {
      "cell_type": "code",
      "metadata": {
        "id": "GYEP5Mxn_FSq",
        "colab_type": "code",
        "outputId": "9434992c-8c75-44e5-cf31-f5593f65e08a",
        "colab": {
          "base_uri": "https://localhost:8080/",
          "height": 119
        }
      },
      "source": [
        "#Demora alguns minutos para rodar...\n",
        "rcv1 = fetch_rcv1()"
      ],
      "execution_count": 0,
      "outputs": [
        {
          "output_type": "stream",
          "text": [
            "Downloading https://ndownloader.figshare.com/files/5976069\n",
            "Downloading https://ndownloader.figshare.com/files/5976066\n",
            "Downloading https://ndownloader.figshare.com/files/5976063\n",
            "Downloading https://ndownloader.figshare.com/files/5976060\n",
            "Downloading https://ndownloader.figshare.com/files/5976057\n",
            "Downloading https://ndownloader.figshare.com/files/5976048\n"
          ],
          "name": "stderr"
        }
      ]
    },
    {
      "cell_type": "code",
      "metadata": {
        "id": "3tGjBtbKbWUO",
        "colab_type": "code",
        "outputId": "561c0ea9-7cf8-4427-c1d6-40dc04431932",
        "colab": {
          "base_uri": "https://localhost:8080/",
          "height": 34
        }
      },
      "source": [
        "matriz = rcv1\n",
        "\n",
        "print(\"A matriz possui %d linhas\" % len(matriz))"
      ],
      "execution_count": 0,
      "outputs": [
        {
          "output_type": "stream",
          "text": [
            "A matriz possui 5 linhas\n"
          ],
          "name": "stdout"
        }
      ]
    },
    {
      "cell_type": "code",
      "metadata": {
        "id": "aFwauHbZcJqU",
        "colab_type": "code",
        "outputId": "0b12a5ff-c796-4014-8493-976702f50a66",
        "colab": {
          "base_uri": "https://localhost:8080/",
          "height": 180
        }
      },
      "source": [
        "\n",
        "print(\"A matriz possui %d colunas\" % len(matriz[0]))"
      ],
      "execution_count": 0,
      "outputs": [
        {
          "output_type": "error",
          "ename": "KeyError",
          "evalue": "ignored",
          "traceback": [
            "\u001b[0;31m---------------------------------------------------------------------------\u001b[0m",
            "\u001b[0;31mKeyError\u001b[0m                                  Traceback (most recent call last)",
            "\u001b[0;32m<ipython-input-23-2b350a1d76f1>\u001b[0m in \u001b[0;36m<module>\u001b[0;34m()\u001b[0m\n\u001b[1;32m      1\u001b[0m \u001b[0;34m\u001b[0m\u001b[0m\n\u001b[0;32m----> 2\u001b[0;31m \u001b[0mprint\u001b[0m\u001b[0;34m(\u001b[0m\u001b[0;34m\"A matriz possui %d colunas\"\u001b[0m \u001b[0;34m%\u001b[0m \u001b[0mlen\u001b[0m\u001b[0;34m(\u001b[0m\u001b[0mmatriz\u001b[0m\u001b[0;34m[\u001b[0m\u001b[0;36m0\u001b[0m\u001b[0;34m]\u001b[0m\u001b[0;34m)\u001b[0m\u001b[0;34m)\u001b[0m\u001b[0;34m\u001b[0m\u001b[0;34m\u001b[0m\u001b[0m\n\u001b[0m",
            "\u001b[0;31mKeyError\u001b[0m: 0"
          ]
        }
      ]
    },
    {
      "cell_type": "code",
      "metadata": {
        "id": "6rxbAG7lbBlY",
        "colab_type": "code",
        "outputId": "860866ca-aa30-4436-d001-adff6a702e11",
        "colab": {
          "base_uri": "https://localhost:8080/",
          "height": 1000
        }
      },
      "source": [
        "print(rcv1.DESCR)"
      ],
      "execution_count": 0,
      "outputs": [
        {
          "output_type": "stream",
          "text": [
            ".. _rcv1_dataset:\n",
            "\n",
            "RCV1 dataset\n",
            "------------\n",
            "\n",
            "Reuters Corpus Volume I (RCV1) is an archive of over 800,000 manually \n",
            "categorized newswire stories made available by Reuters, Ltd. for research \n",
            "purposes. The dataset is extensively described in [1]_.\n",
            "\n",
            "**Data Set Characteristics:**\n",
            "\n",
            "    ==============     =====================\n",
            "    Classes                              103\n",
            "    Samples total                     804414\n",
            "    Dimensionality                     47236\n",
            "    Features           real, between 0 and 1\n",
            "    ==============     =====================\n",
            "\n",
            ":func:`sklearn.datasets.fetch_rcv1` will load the following \n",
            "version: RCV1-v2, vectors, full sets, topics multilabels::\n",
            "\n",
            "    >>> from sklearn.datasets import fetch_rcv1\n",
            "    >>> rcv1 = fetch_rcv1()\n",
            "\n",
            "It returns a dictionary-like object, with the following attributes:\n",
            "\n",
            "``data``:\n",
            "The feature matrix is a scipy CSR sparse matrix, with 804414 samples and\n",
            "47236 features. Non-zero values contains cosine-normalized, log TF-IDF vectors.\n",
            "A nearly chronological split is proposed in [1]_: The first 23149 samples are\n",
            "the training set. The last 781265 samples are the testing set. This follows \n",
            "the official LYRL2004 chronological split. The array has 0.16% of non zero \n",
            "values::\n",
            "\n",
            "    >>> rcv1.data.shape\n",
            "    (804414, 47236)\n",
            "\n",
            "``target``:\n",
            "The target values are stored in a scipy CSR sparse matrix, with 804414 samples \n",
            "and 103 categories. Each sample has a value of 1 in its categories, and 0 in \n",
            "others. The array has 3.15% of non zero values::\n",
            "\n",
            "    >>> rcv1.target.shape\n",
            "    (804414, 103)\n",
            "\n",
            "``sample_id``:\n",
            "Each sample can be identified by its ID, ranging (with gaps) from 2286 \n",
            "to 810596::\n",
            "\n",
            "    >>> rcv1.sample_id[:3]\n",
            "    array([2286, 2287, 2288], dtype=uint32)\n",
            "\n",
            "``target_names``:\n",
            "The target values are the topics of each sample. Each sample belongs to at \n",
            "least one topic, and to up to 17 topics. There are 103 topics, each \n",
            "represented by a string. Their corpus frequencies span five orders of \n",
            "magnitude, from 5 occurrences for 'GMIL', to 381327 for 'CCAT'::\n",
            "\n",
            "    >>> rcv1.target_names[:3].tolist()  # doctest: +SKIP\n",
            "    ['E11', 'ECAT', 'M11']\n",
            "\n",
            "The dataset will be downloaded from the `rcv1 homepage`_ if necessary.\n",
            "The compressed size is about 656 MB.\n",
            "\n",
            ".. _rcv1 homepage: http://jmlr.csail.mit.edu/papers/volume5/lewis04a/\n",
            "\n",
            "\n",
            ".. topic:: References\n",
            "\n",
            "    .. [1] Lewis, D. D., Yang, Y., Rose, T. G., & Li, F. (2004). \n",
            "           RCV1: A new benchmark collection for text categorization research. \n",
            "           The Journal of Machine Learning Research, 5, 361-397.\n",
            "\n"
          ],
          "name": "stdout"
        }
      ]
    },
    {
      "cell_type": "code",
      "metadata": {
        "id": "jEaP0rBYYexm",
        "colab_type": "code",
        "outputId": "9e142f48-b53d-4a21-fafd-220000b6c546",
        "colab": {
          "base_uri": "https://localhost:8080/",
          "height": 51
        }
      },
      "source": [
        "rcv1.data"
      ],
      "execution_count": 0,
      "outputs": [
        {
          "output_type": "execute_result",
          "data": {
            "text/plain": [
              "<804414x47236 sparse matrix of type '<class 'numpy.float64'>'\n",
              "\twith 60915113 stored elements in Compressed Sparse Row format>"
            ]
          },
          "metadata": {
            "tags": []
          },
          "execution_count": 13
        }
      ]
    },
    {
      "cell_type": "code",
      "metadata": {
        "id": "S2e1GplOcByA",
        "colab_type": "code",
        "outputId": "732b1307-fb10-4520-c1fc-bbdb836cf036",
        "colab": {
          "base_uri": "https://localhost:8080/",
          "height": 34
        }
      },
      "source": [
        " rcv1.data.shape\n",
        " # matriz com 804414 amostras e 47236 recursos"
      ],
      "execution_count": 0,
      "outputs": [
        {
          "output_type": "execute_result",
          "data": {
            "text/plain": [
              "(804414, 47236)"
            ]
          },
          "metadata": {
            "tags": []
          },
          "execution_count": 9
        }
      ]
    },
    {
      "cell_type": "code",
      "metadata": {
        "id": "0uF4JdbTcqN1",
        "colab_type": "code",
        "outputId": "5ba2d52e-830e-4b18-dc0c-3cf0c2558714",
        "colab": {
          "base_uri": "https://localhost:8080/",
          "height": 34
        }
      },
      "source": [
        "#Cada amostra pode ser identificada por seu ID, variando (com intervalos) de 2286 a 810596:\n",
        "rcv1.sample_id[:3]"
      ],
      "execution_count": 0,
      "outputs": [
        {
          "output_type": "execute_result",
          "data": {
            "text/plain": [
              "array([2286, 2287, 2288], dtype=uint32)"
            ]
          },
          "metadata": {
            "tags": []
          },
          "execution_count": 4
        }
      ]
    },
    {
      "cell_type": "code",
      "metadata": {
        "id": "V62AwsS7dNs8",
        "colab_type": "code",
        "outputId": "c1516621-f219-4c50-e74f-2e809e3448a0",
        "colab": {
          "base_uri": "https://localhost:8080/",
          "height": 34
        }
      },
      "source": [
        "#Os valores de destino são os tópicos de cada amostra. Cada amostra pertence a pelo menos um tópico e até 17 tópicos. Existem 103 tópicos, cada um representado por uma sequência. Suas frequências de corpus abrangem cinco ordens de magnitude, de 5 ocorrências para 'GMIL' a 381327 para 'CCAT':\n",
        "rcv1.target_names[:4].tolist()"
      ],
      "execution_count": 0,
      "outputs": [
        {
          "output_type": "execute_result",
          "data": {
            "text/plain": [
              "['C11', 'C12', 'C13', 'C14']"
            ]
          },
          "metadata": {
            "tags": []
          },
          "execution_count": 26
        }
      ]
    },
    {
      "cell_type": "code",
      "metadata": {
        "id": "Kn97GZAsKIVU",
        "colab_type": "code",
        "outputId": "8ebf21c8-91a1-4194-86a1-c9f98ecfc18e",
        "colab": {
          "base_uri": "https://localhost:8080/",
          "height": 426
        }
      },
      "source": [
        "rcv1.LEWISSPLIT"
      ],
      "execution_count": 0,
      "outputs": [
        {
          "output_type": "error",
          "ename": "AttributeError",
          "evalue": "ignored",
          "traceback": [
            "\u001b[0;31m---------------------------------------------------------------------------\u001b[0m",
            "\u001b[0;31mKeyError\u001b[0m                                  Traceback (most recent call last)",
            "\u001b[0;32m/usr/local/lib/python3.6/dist-packages/sklearn/utils/__init__.py\u001b[0m in \u001b[0;36m__getattr__\u001b[0;34m(self, key)\u001b[0m\n\u001b[1;32m    113\u001b[0m         \u001b[0;32mtry\u001b[0m\u001b[0;34m:\u001b[0m\u001b[0;34m\u001b[0m\u001b[0;34m\u001b[0m\u001b[0m\n\u001b[0;32m--> 114\u001b[0;31m             \u001b[0;32mreturn\u001b[0m \u001b[0mself\u001b[0m\u001b[0;34m[\u001b[0m\u001b[0mkey\u001b[0m\u001b[0;34m]\u001b[0m\u001b[0;34m\u001b[0m\u001b[0;34m\u001b[0m\u001b[0m\n\u001b[0m\u001b[1;32m    115\u001b[0m         \u001b[0;32mexcept\u001b[0m \u001b[0mKeyError\u001b[0m\u001b[0;34m:\u001b[0m\u001b[0;34m\u001b[0m\u001b[0;34m\u001b[0m\u001b[0m\n",
            "\u001b[0;31mKeyError\u001b[0m: 'LEWISSPLIT'",
            "\nDuring handling of the above exception, another exception occurred:\n",
            "\u001b[0;31mAttributeError\u001b[0m                            Traceback (most recent call last)",
            "\u001b[0;32m<ipython-input-22-1418bc751639>\u001b[0m in \u001b[0;36m<module>\u001b[0;34m()\u001b[0m\n\u001b[0;32m----> 1\u001b[0;31m \u001b[0mrcv1\u001b[0m\u001b[0;34m.\u001b[0m\u001b[0mLEWISSPLIT\u001b[0m\u001b[0;34m\u001b[0m\u001b[0;34m\u001b[0m\u001b[0m\n\u001b[0m",
            "\u001b[0;32m/usr/local/lib/python3.6/dist-packages/sklearn/utils/__init__.py\u001b[0m in \u001b[0;36m__getattr__\u001b[0;34m(self, key)\u001b[0m\n\u001b[1;32m    114\u001b[0m             \u001b[0;32mreturn\u001b[0m \u001b[0mself\u001b[0m\u001b[0;34m[\u001b[0m\u001b[0mkey\u001b[0m\u001b[0;34m]\u001b[0m\u001b[0;34m\u001b[0m\u001b[0;34m\u001b[0m\u001b[0m\n\u001b[1;32m    115\u001b[0m         \u001b[0;32mexcept\u001b[0m \u001b[0mKeyError\u001b[0m\u001b[0;34m:\u001b[0m\u001b[0;34m\u001b[0m\u001b[0;34m\u001b[0m\u001b[0m\n\u001b[0;32m--> 116\u001b[0;31m             \u001b[0;32mraise\u001b[0m \u001b[0mAttributeError\u001b[0m\u001b[0;34m(\u001b[0m\u001b[0mkey\u001b[0m\u001b[0;34m)\u001b[0m\u001b[0;34m\u001b[0m\u001b[0;34m\u001b[0m\u001b[0m\n\u001b[0m\u001b[1;32m    117\u001b[0m \u001b[0;34m\u001b[0m\u001b[0m\n\u001b[1;32m    118\u001b[0m     \u001b[0;32mdef\u001b[0m \u001b[0m__setstate__\u001b[0m\u001b[0;34m(\u001b[0m\u001b[0mself\u001b[0m\u001b[0;34m,\u001b[0m \u001b[0mstate\u001b[0m\u001b[0;34m)\u001b[0m\u001b[0;34m:\u001b[0m\u001b[0;34m\u001b[0m\u001b[0;34m\u001b[0m\u001b[0m\n",
            "\u001b[0;31mAttributeError\u001b[0m: LEWISSPLIT"
          ]
        }
      ]
    },
    {
      "cell_type": "code",
      "metadata": {
        "id": "NLeraDYEd8-U",
        "colab_type": "code",
        "colab": {}
      },
      "source": [
        "from nltk.corpus import reuters \n",
        " def collection_stats():\n",
        "    # List of documents\n",
        "    documents = reuters.fileids()\n",
        "    print(str(len(documents)) + \" documents\");\n",
        " \n",
        "    train_docs = list(filter(lambda doc: doc.startswith(\"train\"),documents));\n",
        "    print(str(len(train_docs)) + \" total train documents\");\n",
        " \n",
        "    test_docs = list(filter(lambda doc: doc.startswith(\"test\"),documents));\n",
        "    print(str(len(test_docs)) + \" total test documents\");\n"
      ],
      "execution_count": 0,
      "outputs": []
    },
    {
      "cell_type": "code",
      "metadata": {
        "id": "P4duX1AAEwSn",
        "colab_type": "code",
        "colab": {}
      },
      "source": [
        "# List of categories\n",
        "    categories = reuters.categories();\n",
        "    print(str(len(categories)) + \" categories\");\n",
        " \n",
        "    # Documents in a category\n",
        "    category_docs = reuters.fileids(\"acq\");\n",
        " \n",
        "    # Words for a document\n",
        "    document_id = category_docs[0]\n",
        "    document_words = reuters.words(category_docs[0]);\n",
        "    print(document_words);  \n",
        " \n",
        "    # Raw document\n",
        "    print(reuters.raw(document_id));"
      ],
      "execution_count": 0,
      "outputs": []
    },
    {
      "cell_type": "code",
      "metadata": {
        "id": "yUgSIN_M_FS2",
        "colab_type": "code",
        "outputId": "13d5ae9f-2c42-4093-d0a5-bacae13f332d",
        "colab": {
          "base_uri": "https://localhost:8080/",
          "height": 627
        }
      },
      "source": [
        "n_components = 150\n",
        "pca = RandomizedPCA(n_components=n_components, whiten=True, random_state=42)\n",
        "fig, ax = plt.subplots(1,1)\n",
        "ax.imshow(rcv1.data[0].reshape(62, 47), cmap='gray')\n",
        "ax.set_xlabel(rcv1.target_names[faces.target[0]])\n",
        "plt.show()"
      ],
      "execution_count": 0,
      "outputs": [
        {
          "output_type": "error",
          "ename": "ValueError",
          "evalue": "ignored",
          "traceback": [
            "\u001b[0;31m---------------------------------------------------------------------------\u001b[0m",
            "\u001b[0;31mValueError\u001b[0m                                Traceback (most recent call last)",
            "\u001b[0;32m<ipython-input-7-92363786495f>\u001b[0m in \u001b[0;36m<module>\u001b[0;34m()\u001b[0m\n\u001b[1;32m      2\u001b[0m \u001b[0mpca\u001b[0m \u001b[0;34m=\u001b[0m \u001b[0mRandomizedPCA\u001b[0m\u001b[0;34m(\u001b[0m\u001b[0mn_components\u001b[0m\u001b[0;34m=\u001b[0m\u001b[0mn_components\u001b[0m\u001b[0;34m,\u001b[0m \u001b[0mwhiten\u001b[0m\u001b[0;34m=\u001b[0m\u001b[0;32mTrue\u001b[0m\u001b[0;34m,\u001b[0m \u001b[0mrandom_state\u001b[0m\u001b[0;34m=\u001b[0m\u001b[0;36m42\u001b[0m\u001b[0;34m)\u001b[0m\u001b[0;34m\u001b[0m\u001b[0;34m\u001b[0m\u001b[0m\n\u001b[1;32m      3\u001b[0m \u001b[0mfig\u001b[0m\u001b[0;34m,\u001b[0m \u001b[0max\u001b[0m \u001b[0;34m=\u001b[0m \u001b[0mplt\u001b[0m\u001b[0;34m.\u001b[0m\u001b[0msubplots\u001b[0m\u001b[0;34m(\u001b[0m\u001b[0;36m1\u001b[0m\u001b[0;34m,\u001b[0m\u001b[0;36m1\u001b[0m\u001b[0;34m)\u001b[0m\u001b[0;34m\u001b[0m\u001b[0;34m\u001b[0m\u001b[0m\n\u001b[0;32m----> 4\u001b[0;31m \u001b[0max\u001b[0m\u001b[0;34m.\u001b[0m\u001b[0mimshow\u001b[0m\u001b[0;34m(\u001b[0m\u001b[0mrcv1\u001b[0m\u001b[0;34m.\u001b[0m\u001b[0mdata\u001b[0m\u001b[0;34m[\u001b[0m\u001b[0;36m0\u001b[0m\u001b[0;34m]\u001b[0m\u001b[0;34m.\u001b[0m\u001b[0mreshape\u001b[0m\u001b[0;34m(\u001b[0m\u001b[0;36m62\u001b[0m\u001b[0;34m,\u001b[0m \u001b[0;36m47\u001b[0m\u001b[0;34m)\u001b[0m\u001b[0;34m,\u001b[0m \u001b[0mcmap\u001b[0m\u001b[0;34m=\u001b[0m\u001b[0;34m'gray'\u001b[0m\u001b[0;34m)\u001b[0m\u001b[0;34m\u001b[0m\u001b[0;34m\u001b[0m\u001b[0m\n\u001b[0m\u001b[1;32m      5\u001b[0m \u001b[0max\u001b[0m\u001b[0;34m.\u001b[0m\u001b[0mset_xlabel\u001b[0m\u001b[0;34m(\u001b[0m\u001b[0mrcv1\u001b[0m\u001b[0;34m.\u001b[0m\u001b[0mtarget_names\u001b[0m\u001b[0;34m[\u001b[0m\u001b[0mfaces\u001b[0m\u001b[0;34m.\u001b[0m\u001b[0mtarget\u001b[0m\u001b[0;34m[\u001b[0m\u001b[0;36m0\u001b[0m\u001b[0;34m]\u001b[0m\u001b[0;34m]\u001b[0m\u001b[0;34m)\u001b[0m\u001b[0;34m\u001b[0m\u001b[0;34m\u001b[0m\u001b[0m\n\u001b[1;32m      6\u001b[0m \u001b[0mplt\u001b[0m\u001b[0;34m.\u001b[0m\u001b[0mshow\u001b[0m\u001b[0;34m(\u001b[0m\u001b[0;34m)\u001b[0m\u001b[0;34m\u001b[0m\u001b[0;34m\u001b[0m\u001b[0m\n",
            "\u001b[0;32m/usr/local/lib/python3.6/dist-packages/scipy/sparse/base.py\u001b[0m in \u001b[0;36mreshape\u001b[0;34m(self, *args, **kwargs)\u001b[0m\n\u001b[1;32m    121\u001b[0m         \u001b[0;31m# If the shape already matches, don't bother doing an actual reshape\u001b[0m\u001b[0;34m\u001b[0m\u001b[0;34m\u001b[0m\u001b[0;34m\u001b[0m\u001b[0m\n\u001b[1;32m    122\u001b[0m         \u001b[0;31m# Otherwise, the default is to convert to COO and use its reshape\u001b[0m\u001b[0;34m\u001b[0m\u001b[0;34m\u001b[0m\u001b[0;34m\u001b[0m\u001b[0m\n\u001b[0;32m--> 123\u001b[0;31m         \u001b[0mshape\u001b[0m \u001b[0;34m=\u001b[0m \u001b[0mcheck_shape\u001b[0m\u001b[0;34m(\u001b[0m\u001b[0margs\u001b[0m\u001b[0;34m,\u001b[0m \u001b[0mself\u001b[0m\u001b[0;34m.\u001b[0m\u001b[0mshape\u001b[0m\u001b[0;34m)\u001b[0m\u001b[0;34m\u001b[0m\u001b[0;34m\u001b[0m\u001b[0m\n\u001b[0m\u001b[1;32m    124\u001b[0m         \u001b[0morder\u001b[0m\u001b[0;34m,\u001b[0m \u001b[0mcopy\u001b[0m \u001b[0;34m=\u001b[0m \u001b[0mcheck_reshape_kwargs\u001b[0m\u001b[0;34m(\u001b[0m\u001b[0mkwargs\u001b[0m\u001b[0;34m)\u001b[0m\u001b[0;34m\u001b[0m\u001b[0;34m\u001b[0m\u001b[0m\n\u001b[1;32m    125\u001b[0m         \u001b[0;32mif\u001b[0m \u001b[0mshape\u001b[0m \u001b[0;34m==\u001b[0m \u001b[0mself\u001b[0m\u001b[0;34m.\u001b[0m\u001b[0mshape\u001b[0m\u001b[0;34m:\u001b[0m\u001b[0;34m\u001b[0m\u001b[0;34m\u001b[0m\u001b[0m\n",
            "\u001b[0;32m/usr/local/lib/python3.6/dist-packages/scipy/sparse/sputils.py\u001b[0m in \u001b[0;36mcheck_shape\u001b[0;34m(args, current_shape)\u001b[0m\n\u001b[1;32m    296\u001b[0m             \u001b[0;32mif\u001b[0m \u001b[0mnew_size\u001b[0m \u001b[0;34m!=\u001b[0m \u001b[0mcurrent_size\u001b[0m\u001b[0;34m:\u001b[0m\u001b[0;34m\u001b[0m\u001b[0;34m\u001b[0m\u001b[0m\n\u001b[1;32m    297\u001b[0m                 raise ValueError('cannot reshape array of size {} into shape {}'\n\u001b[0;32m--> 298\u001b[0;31m                                  .format(current_size, new_shape))\n\u001b[0m\u001b[1;32m    299\u001b[0m         \u001b[0;32melif\u001b[0m \u001b[0mlen\u001b[0m\u001b[0;34m(\u001b[0m\u001b[0mnegative_indexes\u001b[0m\u001b[0;34m)\u001b[0m \u001b[0;34m==\u001b[0m \u001b[0;36m1\u001b[0m\u001b[0;34m:\u001b[0m\u001b[0;34m\u001b[0m\u001b[0;34m\u001b[0m\u001b[0m\n\u001b[1;32m    300\u001b[0m             \u001b[0mskip\u001b[0m \u001b[0;34m=\u001b[0m \u001b[0mnegative_indexes\u001b[0m\u001b[0;34m[\u001b[0m\u001b[0;36m0\u001b[0m\u001b[0;34m]\u001b[0m\u001b[0;34m\u001b[0m\u001b[0;34m\u001b[0m\u001b[0m\n",
            "\u001b[0;31mValueError\u001b[0m: cannot reshape array of size 47236 into shape (62, 47)"
          ]
        },
        {
          "output_type": "display_data",
          "data": {
            "image/png": "[encoded data removed]",
            "text/plain": [
              "<Figure size 432x288 with 1 Axes>"
            ]
          },
          "metadata": {
            "tags": []
          }
        }
      ]
    },
    {
      "cell_type": "code",
      "metadata": {
        "id": "_KKbrHHN_FS_",
        "colab_type": "code",
        "colab": {}
      },
      "source": [
        "rcv1.data.shape"
      ],
      "execution_count": 0,
      "outputs": []
    },
    {
      "cell_type": "code",
      "metadata": {
        "id": "1_FpMJfF_FTG",
        "colab_type": "code",
        "colab": {}
      },
      "source": [
        "rcv1.target.shape"
      ],
      "execution_count": 0,
      "outputs": []
    },
    {
      "cell_type": "code",
      "metadata": {
        "id": "IfS5lX49_FTN",
        "colab_type": "code",
        "colab": {}
      },
      "source": [
        "rcv1.sample_id[:3]"
      ],
      "execution_count": 0,
      "outputs": []
    },
    {
      "cell_type": "code",
      "metadata": {
        "id": "gKHCf77S_FTW",
        "colab_type": "code",
        "colab": {}
      },
      "source": [
        "rcv1.target_names[:3].tolist()"
      ],
      "execution_count": 0,
      "outputs": []
    },
    {
      "cell_type": "code",
      "metadata": {
        "id": "KtmGjf6J_FTe",
        "colab_type": "code",
        "colab": {}
      },
      "source": [
        "# Implementação. Use mais blocos se achar que ficará mais organizado."
      ],
      "execution_count": 0,
      "outputs": []
    },
    {
      "cell_type": "markdown",
      "metadata": {
        "id": "XaexUB1B_FTl",
        "colab_type": "text"
      },
      "source": [
        "#### 3.3) **(20%)** Versão 1 - O que podemos fazer para melhorar nosso baseline? Aplique técnicas como redução de dimensionalidade, normalização ou outras. Compare os resultados."
      ]
    },
    {
      "cell_type": "code",
      "metadata": {
        "id": "vnSVxwMu_FTn",
        "colab_type": "code",
        "colab": {}
      },
      "source": [
        "# Implementação. Use mais blocos se achar que ficará mais organizado."
      ],
      "execution_count": 0,
      "outputs": []
    },
    {
      "cell_type": "markdown",
      "metadata": {
        "id": "e7fubU-R_FTr",
        "colab_type": "text"
      },
      "source": [
        "#### 3.4) **(10%)** Tunning - Agora que temos um resultado promissor, vamos tentar melhorar o resultado alterando um ou mais hiper-parametro. Compare os resultados."
      ]
    },
    {
      "cell_type": "code",
      "metadata": {
        "id": "kpTk4cMQ_FTt",
        "colab_type": "code",
        "colab": {}
      },
      "source": [
        "# Implementação. Use mais blocos se achar que ficará mais organizado."
      ],
      "execution_count": 0,
      "outputs": []
    },
    {
      "cell_type": "markdown",
      "metadata": {
        "id": "uJthiOIb_FTz",
        "colab_type": "text"
      },
      "source": [
        "#### 3.5) Qual método escolhido?"
      ]
    },
    {
      "cell_type": "markdown",
      "metadata": {
        "id": "y1r2CAd0_FT1",
        "colab_type": "text"
      },
      "source": [
        "Indique o método escolhido"
      ]
    },
    {
      "cell_type": "markdown",
      "metadata": {
        "id": "eCmWzqqV_FT3",
        "colab_type": "text"
      },
      "source": [
        "#### 3.6) **(10%)** Baseline - Implemente seu classificador da forma mais simples possível para esse ser seu baseline"
      ]
    },
    {
      "cell_type": "code",
      "metadata": {
        "id": "ku9Kdqhu_FT5",
        "colab_type": "code",
        "colab": {}
      },
      "source": [
        "# Implementação. Use mais blocos se achar que ficará mais organizado."
      ],
      "execution_count": 0,
      "outputs": []
    },
    {
      "cell_type": "markdown",
      "metadata": {
        "id": "a4JXsb2S_FT_",
        "colab_type": "text"
      },
      "source": [
        "#### 3.7) **(20%)** Versão 1 - O que podemos fazer para melhorar nosso baseline? Aplique técnicas como redução de dimensionalidade, normalização ou outras. Compare os resultados."
      ]
    },
    {
      "cell_type": "code",
      "metadata": {
        "id": "UksZBsIk_FUB",
        "colab_type": "code",
        "colab": {}
      },
      "source": [
        "# Implementação. Use mais blocos se achar que ficará mais organizado."
      ],
      "execution_count": 0,
      "outputs": []
    },
    {
      "cell_type": "markdown",
      "metadata": {
        "id": "pElR4snS_FUJ",
        "colab_type": "text"
      },
      "source": [
        "#### 3.8) **(10%)** Tunning - Agora que temos um resultado promissor, vamos tentar melhorar o resultado alterando um ou mais hiper-parametro. Compare os resultados."
      ]
    },
    {
      "cell_type": "code",
      "metadata": {
        "id": "TaZm6aLY_FUM",
        "colab_type": "code",
        "colab": {}
      },
      "source": [
        "# Implementação. Use mais blocos se achar que ficará mais organizado."
      ],
      "execution_count": 0,
      "outputs": []
    },
    {
      "cell_type": "markdown",
      "metadata": {
        "id": "cLOziGQu_FUT",
        "colab_type": "text"
      },
      "source": [
        "### 5) **(10%)** Conclusões"
      ]
    },
    {
      "cell_type": "markdown",
      "metadata": {
        "id": "5Nel43T9_FUW",
        "colab_type": "text"
      },
      "source": [
        "*Compare seus resultados. Imaginando que sua solução fosse para produção, qual deles você escolheria? Por que? Quais os riscos você enxerga? O que recomendaria de próximos passos para melhorar os resultados?*"
      ]
    },
    {
      "cell_type": "markdown",
      "metadata": {
        "id": "r8-0JliA_FUY",
        "colab_type": "text"
      },
      "source": [
        ""
      ]
    }
  ]
}