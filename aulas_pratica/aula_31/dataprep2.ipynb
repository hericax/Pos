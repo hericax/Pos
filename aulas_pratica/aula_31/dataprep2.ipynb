{
  "nbformat": 4,
  "nbformat_minor": 0,
  "metadata": {
    "celltoolbar": "Edit Metadata",
    "kernelspec": {
      "display_name": "Python 3",
      "language": "python",
      "name": "python3"
    },
    "language_info": {
      "codemirror_mode": {
        "name": "ipython",
        "version": 3
      },
      "file_extension": ".py",
      "mimetype": "text/x-python",
      "name": "python",
      "nbconvert_exporter": "python",
      "pygments_lexer": "ipython3",
      "version": "3.6.5"
    },
    "colab": {
      "name": "dataprep2.ipynb",
      "provenance": [],
      "collapsed_sections": [
        "WmYvPQH25FY0",
        "mkLmYgcpQxJx",
        "0Xxk18I25FZE",
        "Hej6aIyB5FZZ"
      ]
    }
  },
  "cells": [
    {
      "cell_type": "markdown",
      "metadata": {
        "deletable": false,
        "nbgrader": {
          "checksum": "7394abfef286a14f0028e27029cdddc7",
          "grade": false,
          "grade_id": "cell-6f19b61b28f97b3d",
          "locked": true,
          "schema_version": 1,
          "solution": false
        },
        "id": "VqanLsdr5FXv",
        "colab_type": "text"
      },
      "source": [
        "---\n",
        "## Feature Selection\n",
        "\n",
        "Neste hands-on, queremos revisitar as técnicas de pré-processamento, como normalizações **(Max-Min, Z-score)** e discretização de dados. Além disso, aprederemos métodos para redução de dimensionalidade (e.g., **PCA**, **t-SNE**, **Isomap**) e seleção de features (e.g., **Information Gain**, **Gini**). Para isso, vamos trabalhar com a base do Titanic que usamos nas atividades anteriores, que estão disponíveis no arquivo **titanic_data.csv**."
      ]
    },
    {
      "cell_type": "code",
      "metadata": {
        "deletable": false,
        "editable": false,
        "nbgrader": {
          "checksum": "3d6bc6467e585480a4e7be4c5176e501",
          "grade": false,
          "grade_id": "RO_bibliotecas",
          "locked": true,
          "schema_version": 1,
          "solution": false
        },
        "id": "RUtjx_af5FXx",
        "colab_type": "code",
        "colab": {}
      },
      "source": [
        "import numpy as np\n",
        "import pandas as pd\n",
        "from sklearn.decomposition import PCA\n",
        "import matplotlib.pyplot as plt"
      ],
      "execution_count": 0,
      "outputs": []
    },
    {
      "cell_type": "markdown",
      "metadata": {
        "deletable": false,
        "nbgrader": {
          "checksum": "7394abfef286a14f0028e27029cdddc7",
          "grade": false,
          "grade_id": "cell-6f19b61b28f97b3d",
          "locked": true,
          "schema_version": 1,
          "solution": false
        },
        "id": "FaL6h1795FX1",
        "colab_type": "text"
      },
      "source": [
        "## Parte 1 - Pré-processamento"
      ]
    },
    {
      "cell_type": "markdown",
      "metadata": {
        "id": "8_79rQA55FX1",
        "colab_type": "text"
      },
      "source": [
        "Primeiro, vamos refazer o pré-processamento de dados que haviamos feito anteriormente."
      ]
    },
    {
      "cell_type": "code",
      "metadata": {
        "scrolled": false,
        "id": "MB_E-FCU5FX2",
        "colab_type": "code",
        "outputId": "4fd4b0b3-e863-4e8a-d9f4-38327528553a",
        "colab": {
          "base_uri": "https://localhost:8080/",
          "height": 286
        }
      },
      "source": [
        "!curl --remote-name \\\n",
        "     -H 'Accept: application/vnd.github.v3.raw' \\\n",
        "     --location https://raw.githubusercontent.com/datasciencedojo/datasets/master/titanic.csv\n",
        "\n",
        "\"\"\"Faça a leitura do arquivo salvando seu conteúdo na variável titanic e depois visualize suas 5 primeiras linhas\"\"\"\n",
        "titanic = pd.read_csv('titanic.csv')\n",
        "\n",
        "\"\"\"Renomeie as colunas do DataFrame para facilitar o entendimento\"\"\"\n",
        "titanic.columns = ['IdPassageiro','Sobreviveu?','Classe','Nome','Sexo','Idade','Irmãos/Cônjuge','Pais/Crianças','Bilhete','Tarifa','Cabine','Embarque']\n",
        "\n",
        "\"\"\" Tornar a coluna IdPassageiro índice do DataFrame\"\"\"\n",
        "titanic = titanic.set_index('IdPassageiro')\n",
        "\n",
        "\"\"\"Remova as colunas Nome, Bilhete e Cabine do DataFrame\"\"\"\n",
        "titanic.drop(['Nome','Bilhete','Cabine'], axis=1, inplace = True)\n",
        "\n",
        "titanic.head(5)"
      ],
      "execution_count": 0,
      "outputs": [
        {
          "output_type": "stream",
          "text": [
            "  % Total    % Received % Xferd  Average Speed   Time    Time     Time  Current\n",
            "                                 Dload  Upload   Total   Spent    Left  Speed\n",
            "\r  0     0    0     0    0     0      0      0 --:--:-- --:--:-- --:--:--     0\r100 60302  100 60302    0     0   178k      0 --:--:-- --:--:-- --:--:--  178k\n"
          ],
          "name": "stdout"
        },
        {
          "output_type": "execute_result",
          "data": {
            "text/html": [
              "<div>\n",
              "<style scoped>\n",
              "    .dataframe tbody tr th:only-of-type {\n",
              "        vertical-align: middle;\n",
              "    }\n",
              "\n",
              "    .dataframe tbody tr th {\n",
              "        vertical-align: top;\n",
              "    }\n",
              "\n",
              "    .dataframe thead th {\n",
              "        text-align: right;\n",
              "    }\n",
              "</style>\n",
              "<table border=\"1\" class=\"dataframe\">\n",
              "  <thead>\n",
              "    <tr style=\"text-align: right;\">\n",
              "      <th></th>\n",
              "      <th>Sobreviveu?</th>\n",
              "      <th>Classe</th>\n",
              "      <th>Sexo</th>\n",
              "      <th>Idade</th>\n",
              "      <th>Irmãos/Cônjuge</th>\n",
              "      <th>Pais/Crianças</th>\n",
              "      <th>Tarifa</th>\n",
              "      <th>Embarque</th>\n",
              "    </tr>\n",
              "    <tr>\n",
              "      <th>IdPassageiro</th>\n",
              "      <th></th>\n",
              "      <th></th>\n",
              "      <th></th>\n",
              "      <th></th>\n",
              "      <th></th>\n",
              "      <th></th>\n",
              "      <th></th>\n",
              "      <th></th>\n",
              "    </tr>\n",
              "  </thead>\n",
              "  <tbody>\n",
              "    <tr>\n",
              "      <th>1</th>\n",
              "      <td>0</td>\n",
              "      <td>3</td>\n",
              "      <td>male</td>\n",
              "      <td>22.0</td>\n",
              "      <td>1</td>\n",
              "      <td>0</td>\n",
              "      <td>7.2500</td>\n",
              "      <td>S</td>\n",
              "    </tr>\n",
              "    <tr>\n",
              "      <th>2</th>\n",
              "      <td>1</td>\n",
              "      <td>1</td>\n",
              "      <td>female</td>\n",
              "      <td>38.0</td>\n",
              "      <td>1</td>\n",
              "      <td>0</td>\n",
              "      <td>71.2833</td>\n",
              "      <td>C</td>\n",
              "    </tr>\n",
              "    <tr>\n",
              "      <th>3</th>\n",
              "      <td>1</td>\n",
              "      <td>3</td>\n",
              "      <td>female</td>\n",
              "      <td>26.0</td>\n",
              "      <td>0</td>\n",
              "      <td>0</td>\n",
              "      <td>7.9250</td>\n",
              "      <td>S</td>\n",
              "    </tr>\n",
              "    <tr>\n",
              "      <th>4</th>\n",
              "      <td>1</td>\n",
              "      <td>1</td>\n",
              "      <td>female</td>\n",
              "      <td>35.0</td>\n",
              "      <td>1</td>\n",
              "      <td>0</td>\n",
              "      <td>53.1000</td>\n",
              "      <td>S</td>\n",
              "    </tr>\n",
              "    <tr>\n",
              "      <th>5</th>\n",
              "      <td>0</td>\n",
              "      <td>3</td>\n",
              "      <td>male</td>\n",
              "      <td>35.0</td>\n",
              "      <td>0</td>\n",
              "      <td>0</td>\n",
              "      <td>8.0500</td>\n",
              "      <td>S</td>\n",
              "    </tr>\n",
              "  </tbody>\n",
              "</table>\n",
              "</div>"
            ],
            "text/plain": [
              "              Sobreviveu?  Classe    Sexo  ...  Pais/Crianças   Tarifa  Embarque\n",
              "IdPassageiro                               ...                                  \n",
              "1                       0       3    male  ...              0   7.2500         S\n",
              "2                       1       1  female  ...              0  71.2833         C\n",
              "3                       1       3  female  ...              0   7.9250         S\n",
              "4                       1       1  female  ...              0  53.1000         S\n",
              "5                       0       3    male  ...              0   8.0500         S\n",
              "\n",
              "[5 rows x 8 columns]"
            ]
          },
          "metadata": {
            "tags": []
          },
          "execution_count": 85
        }
      ]
    },
    {
      "cell_type": "markdown",
      "metadata": {
        "id": "jHdeG-Sv5FX7",
        "colab_type": "text"
      },
      "source": [
        "### 1.1 - Missing Values"
      ]
    },
    {
      "cell_type": "code",
      "metadata": {
        "scrolled": false,
        "id": "oAse5z3u5FX7",
        "colab_type": "code",
        "outputId": "9c037980-3e88-4ca9-f49a-eb9cde4ca676",
        "colab": {
          "base_uri": "https://localhost:8080/",
          "height": 170
        }
      },
      "source": [
        "\"\"\" Verificar se existem valores nulos.\"\"\"\n",
        "\n",
        "titanic.isna().sum()"
      ],
      "execution_count": 0,
      "outputs": [
        {
          "output_type": "execute_result",
          "data": {
            "text/plain": [
              "Sobreviveu?         0\n",
              "Classe              0\n",
              "Sexo                0\n",
              "Idade             177\n",
              "Irmãos/Cônjuge      0\n",
              "Pais/Crianças       0\n",
              "Tarifa              0\n",
              "Embarque            2\n",
              "dtype: int64"
            ]
          },
          "metadata": {
            "tags": []
          },
          "execution_count": 86
        }
      ]
    },
    {
      "cell_type": "markdown",
      "metadata": {
        "deletable": false,
        "nbgrader": {
          "checksum": "7394abfef286a14f0028e27029cdddc7",
          "grade": false,
          "grade_id": "cell-6f19b61b28f97b3d",
          "locked": true,
          "schema_version": 1,
          "solution": false
        },
        "id": "3ibmvyUJ5FX-",
        "colab_type": "text"
      },
      "source": [
        "Observe que, dentre os 891 registros do DataFrame, a coluna *Idade* tem 177 valores nulos e a coluna *Embarque* possui 2 valores nulos. No caso do Titanic, pode ser que a idade de certos passageiros fosse desconhecida ou não tenha sido recuperada.\n",
        "\n",
        "Dados faltantes ou incorretos acontecem com bastante frequência, e é nossa tarefa tratá-los da forma correta. \n",
        "Para preencher valores faltantes podemos utilizar diversos métodos, como:\n",
        "<ul>\n",
        "    <li> Remoção das linhas que possuem algum valor faltante</li> \n",
        "    <li> Subistituição do atributo faltante pela média/mediana/moda dos atributos </li>\n",
        "</ul>\n",
        "\n",
        "Neste caso substituíremos os valores faltantes da coluna **Idade** pela **média** das idades dos passageiros. Na coluna **Embarque**, por sua vez, não faz sentido calcular a média/mediana de dados categóricos. Por isso, iremos substituir os valores pela **moda** (valor mais frequente)."
      ]
    },
    {
      "cell_type": "code",
      "metadata": {
        "id": "RAGuZc3F5FX_",
        "colab_type": "code",
        "outputId": "d9b579ee-b9f0-49a4-d7ce-f26b596fe106",
        "colab": {
          "base_uri": "https://localhost:8080/",
          "height": 297
        }
      },
      "source": [
        "\"\"\"Verificar as estatísticas do DataFrame.\"\"\"\n",
        "\n",
        "titanic.describe()"
      ],
      "execution_count": 0,
      "outputs": [
        {
          "output_type": "execute_result",
          "data": {
            "text/html": [
              "<div>\n",
              "<style scoped>\n",
              "    .dataframe tbody tr th:only-of-type {\n",
              "        vertical-align: middle;\n",
              "    }\n",
              "\n",
              "    .dataframe tbody tr th {\n",
              "        vertical-align: top;\n",
              "    }\n",
              "\n",
              "    .dataframe thead th {\n",
              "        text-align: right;\n",
              "    }\n",
              "</style>\n",
              "<table border=\"1\" class=\"dataframe\">\n",
              "  <thead>\n",
              "    <tr style=\"text-align: right;\">\n",
              "      <th></th>\n",
              "      <th>Sobreviveu?</th>\n",
              "      <th>Classe</th>\n",
              "      <th>Idade</th>\n",
              "      <th>Irmãos/Cônjuge</th>\n",
              "      <th>Pais/Crianças</th>\n",
              "      <th>Tarifa</th>\n",
              "    </tr>\n",
              "  </thead>\n",
              "  <tbody>\n",
              "    <tr>\n",
              "      <th>count</th>\n",
              "      <td>891.000000</td>\n",
              "      <td>891.000000</td>\n",
              "      <td>714.000000</td>\n",
              "      <td>891.000000</td>\n",
              "      <td>891.000000</td>\n",
              "      <td>891.000000</td>\n",
              "    </tr>\n",
              "    <tr>\n",
              "      <th>mean</th>\n",
              "      <td>0.383838</td>\n",
              "      <td>2.308642</td>\n",
              "      <td>29.699118</td>\n",
              "      <td>0.523008</td>\n",
              "      <td>0.381594</td>\n",
              "      <td>32.204208</td>\n",
              "    </tr>\n",
              "    <tr>\n",
              "      <th>std</th>\n",
              "      <td>0.486592</td>\n",
              "      <td>0.836071</td>\n",
              "      <td>14.526497</td>\n",
              "      <td>1.102743</td>\n",
              "      <td>0.806057</td>\n",
              "      <td>49.693429</td>\n",
              "    </tr>\n",
              "    <tr>\n",
              "      <th>min</th>\n",
              "      <td>0.000000</td>\n",
              "      <td>1.000000</td>\n",
              "      <td>0.420000</td>\n",
              "      <td>0.000000</td>\n",
              "      <td>0.000000</td>\n",
              "      <td>0.000000</td>\n",
              "    </tr>\n",
              "    <tr>\n",
              "      <th>25%</th>\n",
              "      <td>0.000000</td>\n",
              "      <td>2.000000</td>\n",
              "      <td>20.125000</td>\n",
              "      <td>0.000000</td>\n",
              "      <td>0.000000</td>\n",
              "      <td>7.910400</td>\n",
              "    </tr>\n",
              "    <tr>\n",
              "      <th>50%</th>\n",
              "      <td>0.000000</td>\n",
              "      <td>3.000000</td>\n",
              "      <td>28.000000</td>\n",
              "      <td>0.000000</td>\n",
              "      <td>0.000000</td>\n",
              "      <td>14.454200</td>\n",
              "    </tr>\n",
              "    <tr>\n",
              "      <th>75%</th>\n",
              "      <td>1.000000</td>\n",
              "      <td>3.000000</td>\n",
              "      <td>38.000000</td>\n",
              "      <td>1.000000</td>\n",
              "      <td>0.000000</td>\n",
              "      <td>31.000000</td>\n",
              "    </tr>\n",
              "    <tr>\n",
              "      <th>max</th>\n",
              "      <td>1.000000</td>\n",
              "      <td>3.000000</td>\n",
              "      <td>80.000000</td>\n",
              "      <td>8.000000</td>\n",
              "      <td>6.000000</td>\n",
              "      <td>512.329200</td>\n",
              "    </tr>\n",
              "  </tbody>\n",
              "</table>\n",
              "</div>"
            ],
            "text/plain": [
              "       Sobreviveu?      Classe  ...  Pais/Crianças      Tarifa\n",
              "count   891.000000  891.000000  ...     891.000000  891.000000\n",
              "mean      0.383838    2.308642  ...       0.381594   32.204208\n",
              "std       0.486592    0.836071  ...       0.806057   49.693429\n",
              "min       0.000000    1.000000  ...       0.000000    0.000000\n",
              "25%       0.000000    2.000000  ...       0.000000    7.910400\n",
              "50%       0.000000    3.000000  ...       0.000000   14.454200\n",
              "75%       1.000000    3.000000  ...       0.000000   31.000000\n",
              "max       1.000000    3.000000  ...       6.000000  512.329200\n",
              "\n",
              "[8 rows x 6 columns]"
            ]
          },
          "metadata": {
            "tags": []
          },
          "execution_count": 87
        }
      ]
    },
    {
      "cell_type": "code",
      "metadata": {
        "scrolled": false,
        "id": "Lcv6dK165FYC",
        "colab_type": "code",
        "outputId": "9d453fa7-eef1-471b-bebf-0022b1e5c205",
        "colab": {
          "base_uri": "https://localhost:8080/",
          "height": 170
        }
      },
      "source": [
        "\"\"\"Substituir os valores nulos de Idade pela média da coluna.\"\"\"\n",
        "\n",
        "titanic['Idade'].fillna(titanic['Idade'].mean(), inplace = True)\n",
        "titanic.isna().sum()"
      ],
      "execution_count": 0,
      "outputs": [
        {
          "output_type": "execute_result",
          "data": {
            "text/plain": [
              "Sobreviveu?       0\n",
              "Classe            0\n",
              "Sexo              0\n",
              "Idade             0\n",
              "Irmãos/Cônjuge    0\n",
              "Pais/Crianças     0\n",
              "Tarifa            0\n",
              "Embarque          2\n",
              "dtype: int64"
            ]
          },
          "metadata": {
            "tags": []
          },
          "execution_count": 88
        }
      ]
    },
    {
      "cell_type": "code",
      "metadata": {
        "scrolled": true,
        "id": "ebWghbyo5FYE",
        "colab_type": "code",
        "outputId": "3e9459d3-c6d7-458a-d119-809db001fe46",
        "colab": {
          "base_uri": "https://localhost:8080/",
          "height": 187
        }
      },
      "source": [
        "\"\"\"Substituir os valores nulos de Embarque pela moda da coluna.\"\"\"\n",
        "print('Moda: ', titanic['Embarque'].dropna().mode()[0])\n",
        "titanic['Embarque'].fillna(titanic['Embarque'].mode()[0], inplace = True)\n",
        "titanic.isna().sum()"
      ],
      "execution_count": 0,
      "outputs": [
        {
          "output_type": "stream",
          "text": [
            "Moda:  S\n"
          ],
          "name": "stdout"
        },
        {
          "output_type": "execute_result",
          "data": {
            "text/plain": [
              "Sobreviveu?       0\n",
              "Classe            0\n",
              "Sexo              0\n",
              "Idade             0\n",
              "Irmãos/Cônjuge    0\n",
              "Pais/Crianças     0\n",
              "Tarifa            0\n",
              "Embarque          0\n",
              "dtype: int64"
            ]
          },
          "metadata": {
            "tags": []
          },
          "execution_count": 89
        }
      ]
    },
    {
      "cell_type": "markdown",
      "metadata": {
        "id": "O34VhN815FYH",
        "colab_type": "text"
      },
      "source": [
        "*italicized text*### 1.2 - Discretização de Dados Numéricos"
      ]
    },
    {
      "cell_type": "markdown",
      "metadata": {
        "id": "XPmCDONI5FYI",
        "colab_type": "text"
      },
      "source": [
        "A discretização de dados pode ajudar bastante quando temos dados numéricos e queremos quebrar os valores em intervalos que representam diferentes categorias. Esse processo pode ser útil em situações onde os dados da coluna não tem correlação com a coluna target. Dessa forma, discretizar os dados pode trazer evidências que não eram tão claras anteriormente.\n",
        "\n",
        "Se verificarmos a correlação da coluna **Idade** com a coluna **Sobreviveu?**, por exemplo, vemos que praticamente não há correlação. "
      ]
    },
    {
      "cell_type": "code",
      "metadata": {
        "id": "VycAP0Tq5FYI",
        "colab_type": "code",
        "outputId": "9a283b80-4e1c-4d57-ead0-738e4c5ff305",
        "colab": {
          "base_uri": "https://localhost:8080/",
          "height": 34
        }
      },
      "source": [
        "\"\"\"Correlação entre Idade e Sobrevivência.\"\"\"\n",
        "\n",
        "titanic['Idade'].corr(titanic['Sobreviveu?'])"
      ],
      "execution_count": 0,
      "outputs": [
        {
          "output_type": "execute_result",
          "data": {
            "text/plain": [
              "-0.06980851528714314"
            ]
          },
          "metadata": {
            "tags": []
          },
          "execution_count": 90
        }
      ]
    },
    {
      "cell_type": "code",
      "metadata": {
        "id": "noUPGi045FYL",
        "colab_type": "code",
        "outputId": "87483ae2-5bfe-4257-ce7d-9c915a96e0d9",
        "colab": {
          "base_uri": "https://localhost:8080/",
          "height": 242
        }
      },
      "source": [
        "\"\"\"Relação entre Idade e Sobrevivência.\"\"\"\n",
        "\n",
        "import seaborn as sns\n",
        "g = sns.FacetGrid(titanic, col='Sobreviveu?')\n",
        "g.map(plt.hist, 'Idade', bins=10)"
      ],
      "execution_count": 0,
      "outputs": [
        {
          "output_type": "execute_result",
          "data": {
            "text/plain": [
              "<seaborn.axisgrid.FacetGrid at 0x7f9afcc8ceb8>"
            ]
          },
          "metadata": {
            "tags": []
          },
          "execution_count": 91
        },
        {
          "output_type": "display_data",
          "data": {
            "image/png": "[encoded data removed]",
            "text/plain": [
              "<Figure size 432x216 with 2 Axes>"
            ]
          },
          "metadata": {
            "tags": [],
            "needs_background": "light"
          }
        }
      ]
    },
    {
      "cell_type": "markdown",
      "metadata": {
        "id": "llkwDa8W5FYO",
        "colab_type": "text"
      },
      "source": [
        "Agora, vamos discretizar a coluna **Idade** em 4 categorias: Criança, Jovem, Adulto, Idoso. Depois, vamos analisar a distribuição de sobreviventes em cada categoria."
      ]
    },
    {
      "cell_type": "code",
      "metadata": {
        "id": "fl7U2H0R5FYO",
        "colab_type": "code",
        "outputId": "d6e0fba1-70be-4dd0-9069-d2847e927f07",
        "colab": {
          "base_uri": "https://localhost:8080/",
          "height": 793
        }
      },
      "source": [
        "\"\"\" Criar uma nova coluna 'IdadeDisc' no DataFrame com os valores normalizados da coluna Idade. Regras:\n",
        "    - Para pessoas entre 0 e 15 anos, atribuir o valor 'Criança'.\n",
        "    - Para pessoas entre 15 e 25 anos, atribuir o valor 'Jovem'.\n",
        "    - Para pessoas entre 25 e 60 anos, atribuir o valor 'Jovem'.\n",
        "    - Para pessoas com mais de 60 anos, atribuir o valor 'Idoso'. \"\"\"\n",
        "\n",
        "titanic['IdadeDisc'] = pd.cut(titanic['Idade'], bins = [0,15, 25, 60, 80], \n",
        "                              labels=['Criança', 'Jovem', 'Adulto', 'Idoso'])\n",
        "\n",
        "titanic.query('Idade==25')\n",
        "#titanic.head()"
      ],
      "execution_count": 0,
      "outputs": [
        {
          "output_type": "execute_result",
          "data": {
            "text/html": [
              "<div>\n",
              "<style scoped>\n",
              "    .dataframe tbody tr th:only-of-type {\n",
              "        vertical-align: middle;\n",
              "    }\n",
              "\n",
              "    .dataframe tbody tr th {\n",
              "        vertical-align: top;\n",
              "    }\n",
              "\n",
              "    .dataframe thead th {\n",
              "        text-align: right;\n",
              "    }\n",
              "</style>\n",
              "<table border=\"1\" class=\"dataframe\">\n",
              "  <thead>\n",
              "    <tr style=\"text-align: right;\">\n",
              "      <th></th>\n",
              "      <th>Sobreviveu?</th>\n",
              "      <th>Classe</th>\n",
              "      <th>Sexo</th>\n",
              "      <th>Idade</th>\n",
              "      <th>Irmãos/Cônjuge</th>\n",
              "      <th>Pais/Crianças</th>\n",
              "      <th>Tarifa</th>\n",
              "      <th>Embarque</th>\n",
              "      <th>IdadeDisc</th>\n",
              "    </tr>\n",
              "    <tr>\n",
              "      <th>IdPassageiro</th>\n",
              "      <th></th>\n",
              "      <th></th>\n",
              "      <th></th>\n",
              "      <th></th>\n",
              "      <th></th>\n",
              "      <th></th>\n",
              "      <th></th>\n",
              "      <th></th>\n",
              "      <th></th>\n",
              "    </tr>\n",
              "  </thead>\n",
              "  <tbody>\n",
              "    <tr>\n",
              "      <th>76</th>\n",
              "      <td>0</td>\n",
              "      <td>3</td>\n",
              "      <td>male</td>\n",
              "      <td>25.0</td>\n",
              "      <td>0</td>\n",
              "      <td>0</td>\n",
              "      <td>7.6500</td>\n",
              "      <td>S</td>\n",
              "      <td>Jovem</td>\n",
              "    </tr>\n",
              "    <tr>\n",
              "      <th>135</th>\n",
              "      <td>0</td>\n",
              "      <td>2</td>\n",
              "      <td>male</td>\n",
              "      <td>25.0</td>\n",
              "      <td>0</td>\n",
              "      <td>0</td>\n",
              "      <td>13.0000</td>\n",
              "      <td>S</td>\n",
              "      <td>Jovem</td>\n",
              "    </tr>\n",
              "    <tr>\n",
              "      <th>247</th>\n",
              "      <td>0</td>\n",
              "      <td>3</td>\n",
              "      <td>female</td>\n",
              "      <td>25.0</td>\n",
              "      <td>0</td>\n",
              "      <td>0</td>\n",
              "      <td>7.7750</td>\n",
              "      <td>S</td>\n",
              "      <td>Jovem</td>\n",
              "    </tr>\n",
              "    <tr>\n",
              "      <th>268</th>\n",
              "      <td>1</td>\n",
              "      <td>3</td>\n",
              "      <td>male</td>\n",
              "      <td>25.0</td>\n",
              "      <td>1</td>\n",
              "      <td>0</td>\n",
              "      <td>7.7750</td>\n",
              "      <td>S</td>\n",
              "      <td>Jovem</td>\n",
              "    </tr>\n",
              "    <tr>\n",
              "      <th>272</th>\n",
              "      <td>1</td>\n",
              "      <td>3</td>\n",
              "      <td>male</td>\n",
              "      <td>25.0</td>\n",
              "      <td>0</td>\n",
              "      <td>0</td>\n",
              "      <td>0.0000</td>\n",
              "      <td>S</td>\n",
              "      <td>Jovem</td>\n",
              "    </tr>\n",
              "    <tr>\n",
              "      <th>344</th>\n",
              "      <td>0</td>\n",
              "      <td>2</td>\n",
              "      <td>male</td>\n",
              "      <td>25.0</td>\n",
              "      <td>0</td>\n",
              "      <td>0</td>\n",
              "      <td>13.0000</td>\n",
              "      <td>S</td>\n",
              "      <td>Jovem</td>\n",
              "    </tr>\n",
              "    <tr>\n",
              "      <th>354</th>\n",
              "      <td>0</td>\n",
              "      <td>3</td>\n",
              "      <td>male</td>\n",
              "      <td>25.0</td>\n",
              "      <td>1</td>\n",
              "      <td>0</td>\n",
              "      <td>17.8000</td>\n",
              "      <td>S</td>\n",
              "      <td>Jovem</td>\n",
              "    </tr>\n",
              "    <tr>\n",
              "      <th>371</th>\n",
              "      <td>1</td>\n",
              "      <td>1</td>\n",
              "      <td>male</td>\n",
              "      <td>25.0</td>\n",
              "      <td>1</td>\n",
              "      <td>0</td>\n",
              "      <td>55.4417</td>\n",
              "      <td>C</td>\n",
              "      <td>Jovem</td>\n",
              "    </tr>\n",
              "    <tr>\n",
              "      <th>443</th>\n",
              "      <td>0</td>\n",
              "      <td>3</td>\n",
              "      <td>male</td>\n",
              "      <td>25.0</td>\n",
              "      <td>1</td>\n",
              "      <td>0</td>\n",
              "      <td>7.7750</td>\n",
              "      <td>S</td>\n",
              "      <td>Jovem</td>\n",
              "    </tr>\n",
              "    <tr>\n",
              "      <th>485</th>\n",
              "      <td>1</td>\n",
              "      <td>1</td>\n",
              "      <td>male</td>\n",
              "      <td>25.0</td>\n",
              "      <td>1</td>\n",
              "      <td>0</td>\n",
              "      <td>91.0792</td>\n",
              "      <td>C</td>\n",
              "      <td>Jovem</td>\n",
              "    </tr>\n",
              "    <tr>\n",
              "      <th>499</th>\n",
              "      <td>0</td>\n",
              "      <td>1</td>\n",
              "      <td>female</td>\n",
              "      <td>25.0</td>\n",
              "      <td>1</td>\n",
              "      <td>2</td>\n",
              "      <td>151.5500</td>\n",
              "      <td>S</td>\n",
              "      <td>Jovem</td>\n",
              "    </tr>\n",
              "    <tr>\n",
              "      <th>581</th>\n",
              "      <td>1</td>\n",
              "      <td>2</td>\n",
              "      <td>female</td>\n",
              "      <td>25.0</td>\n",
              "      <td>1</td>\n",
              "      <td>1</td>\n",
              "      <td>30.0000</td>\n",
              "      <td>S</td>\n",
              "      <td>Jovem</td>\n",
              "    </tr>\n",
              "    <tr>\n",
              "      <th>667</th>\n",
              "      <td>0</td>\n",
              "      <td>2</td>\n",
              "      <td>male</td>\n",
              "      <td>25.0</td>\n",
              "      <td>0</td>\n",
              "      <td>0</td>\n",
              "      <td>13.0000</td>\n",
              "      <td>S</td>\n",
              "      <td>Jovem</td>\n",
              "    </tr>\n",
              "    <tr>\n",
              "      <th>686</th>\n",
              "      <td>0</td>\n",
              "      <td>2</td>\n",
              "      <td>male</td>\n",
              "      <td>25.0</td>\n",
              "      <td>1</td>\n",
              "      <td>2</td>\n",
              "      <td>41.5792</td>\n",
              "      <td>C</td>\n",
              "      <td>Jovem</td>\n",
              "    </tr>\n",
              "    <tr>\n",
              "      <th>694</th>\n",
              "      <td>0</td>\n",
              "      <td>3</td>\n",
              "      <td>male</td>\n",
              "      <td>25.0</td>\n",
              "      <td>0</td>\n",
              "      <td>0</td>\n",
              "      <td>7.2250</td>\n",
              "      <td>C</td>\n",
              "      <td>Jovem</td>\n",
              "    </tr>\n",
              "    <tr>\n",
              "      <th>704</th>\n",
              "      <td>0</td>\n",
              "      <td>3</td>\n",
              "      <td>male</td>\n",
              "      <td>25.0</td>\n",
              "      <td>0</td>\n",
              "      <td>0</td>\n",
              "      <td>7.7417</td>\n",
              "      <td>Q</td>\n",
              "      <td>Jovem</td>\n",
              "    </tr>\n",
              "    <tr>\n",
              "      <th>729</th>\n",
              "      <td>0</td>\n",
              "      <td>2</td>\n",
              "      <td>male</td>\n",
              "      <td>25.0</td>\n",
              "      <td>1</td>\n",
              "      <td>0</td>\n",
              "      <td>26.0000</td>\n",
              "      <td>S</td>\n",
              "      <td>Jovem</td>\n",
              "    </tr>\n",
              "    <tr>\n",
              "      <th>730</th>\n",
              "      <td>0</td>\n",
              "      <td>3</td>\n",
              "      <td>female</td>\n",
              "      <td>25.0</td>\n",
              "      <td>1</td>\n",
              "      <td>0</td>\n",
              "      <td>7.9250</td>\n",
              "      <td>S</td>\n",
              "      <td>Jovem</td>\n",
              "    </tr>\n",
              "    <tr>\n",
              "      <th>785</th>\n",
              "      <td>0</td>\n",
              "      <td>3</td>\n",
              "      <td>male</td>\n",
              "      <td>25.0</td>\n",
              "      <td>0</td>\n",
              "      <td>0</td>\n",
              "      <td>7.0500</td>\n",
              "      <td>S</td>\n",
              "      <td>Jovem</td>\n",
              "    </tr>\n",
              "    <tr>\n",
              "      <th>786</th>\n",
              "      <td>0</td>\n",
              "      <td>3</td>\n",
              "      <td>male</td>\n",
              "      <td>25.0</td>\n",
              "      <td>0</td>\n",
              "      <td>0</td>\n",
              "      <td>7.2500</td>\n",
              "      <td>S</td>\n",
              "      <td>Jovem</td>\n",
              "    </tr>\n",
              "    <tr>\n",
              "      <th>795</th>\n",
              "      <td>0</td>\n",
              "      <td>3</td>\n",
              "      <td>male</td>\n",
              "      <td>25.0</td>\n",
              "      <td>0</td>\n",
              "      <td>0</td>\n",
              "      <td>7.8958</td>\n",
              "      <td>S</td>\n",
              "      <td>Jovem</td>\n",
              "    </tr>\n",
              "    <tr>\n",
              "      <th>881</th>\n",
              "      <td>1</td>\n",
              "      <td>2</td>\n",
              "      <td>female</td>\n",
              "      <td>25.0</td>\n",
              "      <td>0</td>\n",
              "      <td>1</td>\n",
              "      <td>26.0000</td>\n",
              "      <td>S</td>\n",
              "      <td>Jovem</td>\n",
              "    </tr>\n",
              "    <tr>\n",
              "      <th>885</th>\n",
              "      <td>0</td>\n",
              "      <td>3</td>\n",
              "      <td>male</td>\n",
              "      <td>25.0</td>\n",
              "      <td>0</td>\n",
              "      <td>0</td>\n",
              "      <td>7.0500</td>\n",
              "      <td>S</td>\n",
              "      <td>Jovem</td>\n",
              "    </tr>\n",
              "  </tbody>\n",
              "</table>\n",
              "</div>"
            ],
            "text/plain": [
              "              Sobreviveu?  Classe    Sexo  ...    Tarifa  Embarque  IdadeDisc\n",
              "IdPassageiro                               ...                               \n",
              "76                      0       3    male  ...    7.6500         S      Jovem\n",
              "135                     0       2    male  ...   13.0000         S      Jovem\n",
              "247                     0       3  female  ...    7.7750         S      Jovem\n",
              "268                     1       3    male  ...    7.7750         S      Jovem\n",
              "272                     1       3    male  ...    0.0000         S      Jovem\n",
              "344                     0       2    male  ...   13.0000         S      Jovem\n",
              "354                     0       3    male  ...   17.8000         S      Jovem\n",
              "371                     1       1    male  ...   55.4417         C      Jovem\n",
              "443                     0       3    male  ...    7.7750         S      Jovem\n",
              "485                     1       1    male  ...   91.0792         C      Jovem\n",
              "499                     0       1  female  ...  151.5500         S      Jovem\n",
              "581                     1       2  female  ...   30.0000         S      Jovem\n",
              "667                     0       2    male  ...   13.0000         S      Jovem\n",
              "686                     0       2    male  ...   41.5792         C      Jovem\n",
              "694                     0       3    male  ...    7.2250         C      Jovem\n",
              "704                     0       3    male  ...    7.7417         Q      Jovem\n",
              "729                     0       2    male  ...   26.0000         S      Jovem\n",
              "730                     0       3  female  ...    7.9250         S      Jovem\n",
              "785                     0       3    male  ...    7.0500         S      Jovem\n",
              "786                     0       3    male  ...    7.2500         S      Jovem\n",
              "795                     0       3    male  ...    7.8958         S      Jovem\n",
              "881                     1       2  female  ...   26.0000         S      Jovem\n",
              "885                     0       3    male  ...    7.0500         S      Jovem\n",
              "\n",
              "[23 rows x 9 columns]"
            ]
          },
          "metadata": {
            "tags": []
          },
          "execution_count": 92
        }
      ]
    },
    {
      "cell_type": "code",
      "metadata": {
        "id": "Y0h17Dox5FYR",
        "colab_type": "code",
        "outputId": "f885cacc-b941-4424-b4fc-d07c98ba39c3",
        "colab": {
          "base_uri": "https://localhost:8080/",
          "height": 265
        }
      },
      "source": [
        "\"\"\"Relação entre IdadeDisc e Sobrevivência.\"\"\"\n",
        "\n",
        "survived = titanic[titanic['Sobreviveu?'] == 1].groupby('IdadeDisc')['Sobreviveu?'].count().values\n",
        "not_survived = titanic[titanic['Sobreviveu?'] == 0].groupby('IdadeDisc')['Sobreviveu?'].count().values\n",
        "index = titanic[titanic['Sobreviveu?'] == 1].groupby('IdadeDisc')['Sobreviveu?'].count().index.values\n",
        "\n",
        "df = pd.DataFrame({'Sobreviveu': survived,\n",
        "                   'Não Sobreviveu': not_survived}, index=index)\n",
        "ax = df.plot.bar(rot=0)"
      ],
      "execution_count": 0,
      "outputs": [
        {
          "output_type": "display_data",
          "data": {
            "image/png": "[encoded data removed]",
            "text/plain": [
              "<Figure size 432x288 with 1 Axes>"
            ]
          },
          "metadata": {
            "tags": [],
            "needs_background": "light"
          }
        }
      ]
    },
    {
      "cell_type": "markdown",
      "metadata": {
        "id": "lEBvXN8J5FYV",
        "colab_type": "text"
      },
      "source": [
        "Outra coluna que pode ser discretizada é a **Tarifa**. Essa coluna poderia ser categorizada em três grupos de acordo com a faixa de preço: *Barato*, *Médio* e *Caro*. Neste caso, podemos simplesmente distribuir os preços de acordo com o quantil, de forma que cada grupo contenha aproximadamente a mesma quantidade de registros ao final. \n",
        "\n",
        "Para isso, podemos utilizar a função **qcut()** do Pandas."
      ]
    },
    {
      "cell_type": "code",
      "metadata": {
        "id": "XdQnFSbT5FYW",
        "colab_type": "code",
        "outputId": "fdf88f81-0f16-4dea-dd2e-b4313bb59f0a",
        "colab": {
          "base_uri": "https://localhost:8080/",
          "height": 34
        }
      },
      "source": [
        "\"\"\"Correlação entre Tarifa e Sobrevivência.\"\"\"\n",
        "titanic['Tarifa'].corr(titanic['Sobreviveu?'])"
      ],
      "execution_count": 0,
      "outputs": [
        {
          "output_type": "execute_result",
          "data": {
            "text/plain": [
              "0.2573065223849625"
            ]
          },
          "metadata": {
            "tags": []
          },
          "execution_count": 94
        }
      ]
    },
    {
      "cell_type": "code",
      "metadata": {
        "id": "4WszEeEK5FYa",
        "colab_type": "code",
        "outputId": "44d9564d-63f7-4809-e877-6577886640cb",
        "colab": {
          "base_uri": "https://localhost:8080/",
          "height": 51
        }
      },
      "source": [
        "\"\"\"Gerar intervalos que deixam a distribuição mais equilibrada.\"\"\"\n",
        "\n",
        "intervals = pd.qcut(titanic['Tarifa'], 3).astype(str).unique()\n",
        "intervals"
      ],
      "execution_count": 0,
      "outputs": [
        {
          "output_type": "execute_result",
          "data": {
            "text/plain": [
              "array(['(-0.001, 8.662]', '(26.0, 512.329]', '(8.662, 26.0]'],\n",
              "      dtype=object)"
            ]
          },
          "metadata": {
            "tags": []
          },
          "execution_count": 95
        }
      ]
    },
    {
      "cell_type": "code",
      "metadata": {
        "scrolled": false,
        "id": "NZVm97G45FYc",
        "colab_type": "code",
        "outputId": "f9469892-73f8-43e3-d3a2-ac7453f2df47",
        "colab": {
          "base_uri": "https://localhost:8080/",
          "height": 235
        }
      },
      "source": [
        "titanic['Tipo_Tarifa'] = pd.qcut(titanic['Tarifa'], 3).astype(str).map( {intervals[0]: 'Barato', \n",
        "                                                                         intervals[1]: 'Medio', \n",
        "                                                                         intervals[2]: 'Caro'} ).astype(str)\n",
        "titanic.head()"
      ],
      "execution_count": 0,
      "outputs": [
        {
          "output_type": "execute_result",
          "data": {
            "text/html": [
              "<div>\n",
              "<style scoped>\n",
              "    .dataframe tbody tr th:only-of-type {\n",
              "        vertical-align: middle;\n",
              "    }\n",
              "\n",
              "    .dataframe tbody tr th {\n",
              "        vertical-align: top;\n",
              "    }\n",
              "\n",
              "    .dataframe thead th {\n",
              "        text-align: right;\n",
              "    }\n",
              "</style>\n",
              "<table border=\"1\" class=\"dataframe\">\n",
              "  <thead>\n",
              "    <tr style=\"text-align: right;\">\n",
              "      <th></th>\n",
              "      <th>Sobreviveu?</th>\n",
              "      <th>Classe</th>\n",
              "      <th>Sexo</th>\n",
              "      <th>Idade</th>\n",
              "      <th>Irmãos/Cônjuge</th>\n",
              "      <th>Pais/Crianças</th>\n",
              "      <th>Tarifa</th>\n",
              "      <th>Embarque</th>\n",
              "      <th>IdadeDisc</th>\n",
              "      <th>Tipo_Tarifa</th>\n",
              "    </tr>\n",
              "    <tr>\n",
              "      <th>IdPassageiro</th>\n",
              "      <th></th>\n",
              "      <th></th>\n",
              "      <th></th>\n",
              "      <th></th>\n",
              "      <th></th>\n",
              "      <th></th>\n",
              "      <th></th>\n",
              "      <th></th>\n",
              "      <th></th>\n",
              "      <th></th>\n",
              "    </tr>\n",
              "  </thead>\n",
              "  <tbody>\n",
              "    <tr>\n",
              "      <th>1</th>\n",
              "      <td>0</td>\n",
              "      <td>3</td>\n",
              "      <td>male</td>\n",
              "      <td>22.0</td>\n",
              "      <td>1</td>\n",
              "      <td>0</td>\n",
              "      <td>7.2500</td>\n",
              "      <td>S</td>\n",
              "      <td>Jovem</td>\n",
              "      <td>Barato</td>\n",
              "    </tr>\n",
              "    <tr>\n",
              "      <th>2</th>\n",
              "      <td>1</td>\n",
              "      <td>1</td>\n",
              "      <td>female</td>\n",
              "      <td>38.0</td>\n",
              "      <td>1</td>\n",
              "      <td>0</td>\n",
              "      <td>71.2833</td>\n",
              "      <td>C</td>\n",
              "      <td>Adulto</td>\n",
              "      <td>Medio</td>\n",
              "    </tr>\n",
              "    <tr>\n",
              "      <th>3</th>\n",
              "      <td>1</td>\n",
              "      <td>3</td>\n",
              "      <td>female</td>\n",
              "      <td>26.0</td>\n",
              "      <td>0</td>\n",
              "      <td>0</td>\n",
              "      <td>7.9250</td>\n",
              "      <td>S</td>\n",
              "      <td>Adulto</td>\n",
              "      <td>Barato</td>\n",
              "    </tr>\n",
              "    <tr>\n",
              "      <th>4</th>\n",
              "      <td>1</td>\n",
              "      <td>1</td>\n",
              "      <td>female</td>\n",
              "      <td>35.0</td>\n",
              "      <td>1</td>\n",
              "      <td>0</td>\n",
              "      <td>53.1000</td>\n",
              "      <td>S</td>\n",
              "      <td>Adulto</td>\n",
              "      <td>Medio</td>\n",
              "    </tr>\n",
              "    <tr>\n",
              "      <th>5</th>\n",
              "      <td>0</td>\n",
              "      <td>3</td>\n",
              "      <td>male</td>\n",
              "      <td>35.0</td>\n",
              "      <td>0</td>\n",
              "      <td>0</td>\n",
              "      <td>8.0500</td>\n",
              "      <td>S</td>\n",
              "      <td>Adulto</td>\n",
              "      <td>Barato</td>\n",
              "    </tr>\n",
              "  </tbody>\n",
              "</table>\n",
              "</div>"
            ],
            "text/plain": [
              "              Sobreviveu?  Classe    Sexo  ...  Embarque  IdadeDisc  Tipo_Tarifa\n",
              "IdPassageiro                               ...                                  \n",
              "1                       0       3    male  ...         S      Jovem       Barato\n",
              "2                       1       1  female  ...         C     Adulto        Medio\n",
              "3                       1       3  female  ...         S     Adulto       Barato\n",
              "4                       1       1  female  ...         S     Adulto        Medio\n",
              "5                       0       3    male  ...         S     Adulto       Barato\n",
              "\n",
              "[5 rows x 10 columns]"
            ]
          },
          "metadata": {
            "tags": []
          },
          "execution_count": 96
        }
      ]
    },
    {
      "cell_type": "code",
      "metadata": {
        "id": "Wgog0K3t5FYe",
        "colab_type": "code",
        "outputId": "83dadbd2-1e45-4a96-a9b5-6ea8dcda8602",
        "colab": {
          "base_uri": "https://localhost:8080/",
          "height": 265
        }
      },
      "source": [
        "\"\"\"Relação entre Tipo da Tarifa e Sobrevivência.\"\"\"\n",
        "\n",
        "survived = titanic[titanic['Sobreviveu?'] == 1].groupby('Tipo_Tarifa')['Sobreviveu?'].count().values\n",
        "not_survived = titanic[titanic['Sobreviveu?'] == 0].groupby('Tipo_Tarifa')['Sobreviveu?'].count().values\n",
        "index = titanic[titanic['Sobreviveu?'] == 1].groupby('Tipo_Tarifa')['Sobreviveu?'].count().index.values\n",
        "\n",
        "df = pd.DataFrame({'Sobreviveu': survived,\n",
        "                   'Não Sobreviveu': not_survived}, index=index)\n",
        "ax = df.plot.bar(rot=0)"
      ],
      "execution_count": 0,
      "outputs": [
        {
          "output_type": "display_data",
          "data": {
            "image/png": "[encoded data removed]",
            "text/plain": [
              "<Figure size 432x288 with 1 Axes>"
            ]
          },
          "metadata": {
            "tags": [],
            "needs_background": "light"
          }
        }
      ]
    },
    {
      "cell_type": "markdown",
      "metadata": {
        "id": "atontwHj5FYg",
        "colab_type": "text"
      },
      "source": [
        "### 1.3 - Transformação de Dados Categóricos"
      ]
    },
    {
      "cell_type": "markdown",
      "metadata": {
        "id": "m86I8_Ku5FYh",
        "colab_type": "text"
      },
      "source": [
        "Em muitos casos, o modelo de Machine Learning que usamos para nossa tarefa não aceita dados que não sejam numéricos. Por isso, em vez de ignorar nossos dados categóricos, podemos transformar os dados categóricos em numéricos. Alguns métodos utilizados são:\n",
        "* **One-hot Encoding** - Transformar cada categoria em uma coluna (*dummy variables*) que contém 1 ou 0, indicando se o registro pertence ou não àquela categoria.\n",
        "* **Mapeamento** - Mapear cada categoria para um valor inteiro (0,1,2,3...). Quando o número de categorias é 2 apenas, o método geralmente é chamado de **Binarização**.\n",
        "\n",
        "Cada um dos métodos tem suas peculiaridades. O **One-hot Encoding** aumenta o número de dimensões no espaço de features, o que pode ser muito ruim para casos onde o número de categorias é grande. Por outro lado, o **Mapeamento** pode trazer ruído para o modelo, já que os números não representam números de verdade (Operações como média não fazem sentido, por exemplo)."
      ]
    },
    {
      "cell_type": "markdown",
      "metadata": {
        "id": "YugNjHzB5FYh",
        "colab_type": "text"
      },
      "source": [
        "No caso do Titanic, vamos transformar as colunas categóricas ('Sexo', 'Embarque', 'IdadeDisc' e 'Tipo_Tarifa') em dados numéricos utilizando **Mapeamento** para 'Sexo' e 'Embarque' e **One-hot Encoding** para 'IdadeDisc' e 'Tipo_Tarifa'. "
      ]
    },
    {
      "cell_type": "code",
      "metadata": {
        "id": "qPAIMI8_5FYi",
        "colab_type": "code",
        "outputId": "68eb52a8-4a58-4636-d1cf-0bbf22b931ca",
        "colab": {
          "base_uri": "https://localhost:8080/",
          "height": 235
        }
      },
      "source": [
        "\"\"\"Mapeamento para valores numéricos nas colunas 'Sexo' e 'Embarque'.\"\"\"\n",
        "\n",
        "titanic['Sexo'] = titanic['Sexo'].map( {'female': 0, 'male': 1} ).astype(int)\n",
        "titanic['Embarque'] = titanic['Embarque'].map( {'S': 0, 'C': 1, 'Q':2} ).astype(int)\n",
        "titanic.head()"
      ],
      "execution_count": 0,
      "outputs": [
        {
          "output_type": "execute_result",
          "data": {
            "text/html": [
              "<div>\n",
              "<style scoped>\n",
              "    .dataframe tbody tr th:only-of-type {\n",
              "        vertical-align: middle;\n",
              "    }\n",
              "\n",
              "    .dataframe tbody tr th {\n",
              "        vertical-align: top;\n",
              "    }\n",
              "\n",
              "    .dataframe thead th {\n",
              "        text-align: right;\n",
              "    }\n",
              "</style>\n",
              "<table border=\"1\" class=\"dataframe\">\n",
              "  <thead>\n",
              "    <tr style=\"text-align: right;\">\n",
              "      <th></th>\n",
              "      <th>Sobreviveu?</th>\n",
              "      <th>Classe</th>\n",
              "      <th>Sexo</th>\n",
              "      <th>Idade</th>\n",
              "      <th>Irmãos/Cônjuge</th>\n",
              "      <th>Pais/Crianças</th>\n",
              "      <th>Tarifa</th>\n",
              "      <th>Embarque</th>\n",
              "      <th>IdadeDisc</th>\n",
              "      <th>Tipo_Tarifa</th>\n",
              "    </tr>\n",
              "    <tr>\n",
              "      <th>IdPassageiro</th>\n",
              "      <th></th>\n",
              "      <th></th>\n",
              "      <th></th>\n",
              "      <th></th>\n",
              "      <th></th>\n",
              "      <th></th>\n",
              "      <th></th>\n",
              "      <th></th>\n",
              "      <th></th>\n",
              "      <th></th>\n",
              "    </tr>\n",
              "  </thead>\n",
              "  <tbody>\n",
              "    <tr>\n",
              "      <th>1</th>\n",
              "      <td>0</td>\n",
              "      <td>3</td>\n",
              "      <td>1</td>\n",
              "      <td>22.0</td>\n",
              "      <td>1</td>\n",
              "      <td>0</td>\n",
              "      <td>7.2500</td>\n",
              "      <td>0</td>\n",
              "      <td>Jovem</td>\n",
              "      <td>Barato</td>\n",
              "    </tr>\n",
              "    <tr>\n",
              "      <th>2</th>\n",
              "      <td>1</td>\n",
              "      <td>1</td>\n",
              "      <td>0</td>\n",
              "      <td>38.0</td>\n",
              "      <td>1</td>\n",
              "      <td>0</td>\n",
              "      <td>71.2833</td>\n",
              "      <td>1</td>\n",
              "      <td>Adulto</td>\n",
              "      <td>Medio</td>\n",
              "    </tr>\n",
              "    <tr>\n",
              "      <th>3</th>\n",
              "      <td>1</td>\n",
              "      <td>3</td>\n",
              "      <td>0</td>\n",
              "      <td>26.0</td>\n",
              "      <td>0</td>\n",
              "      <td>0</td>\n",
              "      <td>7.9250</td>\n",
              "      <td>0</td>\n",
              "      <td>Adulto</td>\n",
              "      <td>Barato</td>\n",
              "    </tr>\n",
              "    <tr>\n",
              "      <th>4</th>\n",
              "      <td>1</td>\n",
              "      <td>1</td>\n",
              "      <td>0</td>\n",
              "      <td>35.0</td>\n",
              "      <td>1</td>\n",
              "      <td>0</td>\n",
              "      <td>53.1000</td>\n",
              "      <td>0</td>\n",
              "      <td>Adulto</td>\n",
              "      <td>Medio</td>\n",
              "    </tr>\n",
              "    <tr>\n",
              "      <th>5</th>\n",
              "      <td>0</td>\n",
              "      <td>3</td>\n",
              "      <td>1</td>\n",
              "      <td>35.0</td>\n",
              "      <td>0</td>\n",
              "      <td>0</td>\n",
              "      <td>8.0500</td>\n",
              "      <td>0</td>\n",
              "      <td>Adulto</td>\n",
              "      <td>Barato</td>\n",
              "    </tr>\n",
              "  </tbody>\n",
              "</table>\n",
              "</div>"
            ],
            "text/plain": [
              "              Sobreviveu?  Classe  Sexo  ...  Embarque  IdadeDisc  Tipo_Tarifa\n",
              "IdPassageiro                             ...                                  \n",
              "1                       0       3     1  ...         0      Jovem       Barato\n",
              "2                       1       1     0  ...         1     Adulto        Medio\n",
              "3                       1       3     0  ...         0     Adulto       Barato\n",
              "4                       1       1     0  ...         0     Adulto        Medio\n",
              "5                       0       3     1  ...         0     Adulto       Barato\n",
              "\n",
              "[5 rows x 10 columns]"
            ]
          },
          "metadata": {
            "tags": []
          },
          "execution_count": 98
        }
      ]
    },
    {
      "cell_type": "code",
      "metadata": {
        "id": "dKPReeGJ5FYl",
        "colab_type": "code",
        "outputId": "63c6c9ea-5fa0-411f-948b-20be3bb409a1",
        "colab": {
          "base_uri": "https://localhost:8080/",
          "height": 255
        }
      },
      "source": [
        "\"\"\"One-hot Encoding para valores numéricos nas colunas 'IdadeDisc' e 'Tipo_Tarifa'.\"\"\"\n",
        "\n",
        "dummy = pd.get_dummies(titanic['IdadeDisc'])\n",
        "titanic = pd.concat([titanic, dummy], axis=1)\n",
        "\n",
        "dummy = pd.get_dummies(titanic['Tipo_Tarifa'])\n",
        "titanic = pd.concat([titanic, dummy], axis=1)\n",
        "\n",
        "titanic.drop(['IdadeDisc', 'Tipo_Tarifa'], axis=1, inplace=True)\n",
        "titanic.head()"
      ],
      "execution_count": 0,
      "outputs": [
        {
          "output_type": "execute_result",
          "data": {
            "text/html": [
              "<div>\n",
              "<style scoped>\n",
              "    .dataframe tbody tr th:only-of-type {\n",
              "        vertical-align: middle;\n",
              "    }\n",
              "\n",
              "    .dataframe tbody tr th {\n",
              "        vertical-align: top;\n",
              "    }\n",
              "\n",
              "    .dataframe thead th {\n",
              "        text-align: right;\n",
              "    }\n",
              "</style>\n",
              "<table border=\"1\" class=\"dataframe\">\n",
              "  <thead>\n",
              "    <tr style=\"text-align: right;\">\n",
              "      <th></th>\n",
              "      <th>Classe</th>\n",
              "      <th>Sexo</th>\n",
              "      <th>Idade</th>\n",
              "      <th>Irmãos/Cônjuge</th>\n",
              "      <th>Pais/Crianças</th>\n",
              "      <th>Tarifa</th>\n",
              "      <th>Embarque</th>\n",
              "      <th>Criança</th>\n",
              "      <th>Jovem</th>\n",
              "      <th>Adulto</th>\n",
              "      <th>Idoso</th>\n",
              "      <th>Criança</th>\n",
              "      <th>Jovem</th>\n",
              "      <th>Adulto</th>\n",
              "      <th>Idoso</th>\n",
              "      <th>Criança</th>\n",
              "      <th>Jovem</th>\n",
              "      <th>Adulto</th>\n",
              "      <th>Idoso</th>\n",
              "      <th>Barato</th>\n",
              "      <th>Caro</th>\n",
              "      <th>Medio</th>\n",
              "    </tr>\n",
              "    <tr>\n",
              "      <th>IdPassageiro</th>\n",
              "      <th></th>\n",
              "      <th></th>\n",
              "      <th></th>\n",
              "      <th></th>\n",
              "      <th></th>\n",
              "      <th></th>\n",
              "      <th></th>\n",
              "      <th></th>\n",
              "      <th></th>\n",
              "      <th></th>\n",
              "      <th></th>\n",
              "      <th></th>\n",
              "      <th></th>\n",
              "      <th></th>\n",
              "      <th></th>\n",
              "      <th></th>\n",
              "      <th></th>\n",
              "      <th></th>\n",
              "      <th></th>\n",
              "      <th></th>\n",
              "      <th></th>\n",
              "      <th></th>\n",
              "    </tr>\n",
              "  </thead>\n",
              "  <tbody>\n",
              "    <tr>\n",
              "      <th>1</th>\n",
              "      <td>3</td>\n",
              "      <td>1</td>\n",
              "      <td>22.0</td>\n",
              "      <td>1</td>\n",
              "      <td>0</td>\n",
              "      <td>7.2500</td>\n",
              "      <td>0</td>\n",
              "      <td>0</td>\n",
              "      <td>1</td>\n",
              "      <td>0</td>\n",
              "      <td>0</td>\n",
              "      <td>0</td>\n",
              "      <td>1</td>\n",
              "      <td>0</td>\n",
              "      <td>0</td>\n",
              "      <td>0</td>\n",
              "      <td>1</td>\n",
              "      <td>0</td>\n",
              "      <td>0</td>\n",
              "      <td>1</td>\n",
              "      <td>0</td>\n",
              "      <td>0</td>\n",
              "    </tr>\n",
              "    <tr>\n",
              "      <th>2</th>\n",
              "      <td>1</td>\n",
              "      <td>0</td>\n",
              "      <td>38.0</td>\n",
              "      <td>1</td>\n",
              "      <td>0</td>\n",
              "      <td>71.2833</td>\n",
              "      <td>1</td>\n",
              "      <td>0</td>\n",
              "      <td>0</td>\n",
              "      <td>1</td>\n",
              "      <td>0</td>\n",
              "      <td>0</td>\n",
              "      <td>0</td>\n",
              "      <td>1</td>\n",
              "      <td>0</td>\n",
              "      <td>0</td>\n",
              "      <td>0</td>\n",
              "      <td>1</td>\n",
              "      <td>0</td>\n",
              "      <td>0</td>\n",
              "      <td>0</td>\n",
              "      <td>1</td>\n",
              "    </tr>\n",
              "    <tr>\n",
              "      <th>3</th>\n",
              "      <td>3</td>\n",
              "      <td>0</td>\n",
              "      <td>26.0</td>\n",
              "      <td>0</td>\n",
              "      <td>0</td>\n",
              "      <td>7.9250</td>\n",
              "      <td>0</td>\n",
              "      <td>0</td>\n",
              "      <td>0</td>\n",
              "      <td>1</td>\n",
              "      <td>0</td>\n",
              "      <td>0</td>\n",
              "      <td>0</td>\n",
              "      <td>1</td>\n",
              "      <td>0</td>\n",
              "      <td>0</td>\n",
              "      <td>0</td>\n",
              "      <td>1</td>\n",
              "      <td>0</td>\n",
              "      <td>1</td>\n",
              "      <td>0</td>\n",
              "      <td>0</td>\n",
              "    </tr>\n",
              "    <tr>\n",
              "      <th>4</th>\n",
              "      <td>1</td>\n",
              "      <td>0</td>\n",
              "      <td>35.0</td>\n",
              "      <td>1</td>\n",
              "      <td>0</td>\n",
              "      <td>53.1000</td>\n",
              "      <td>0</td>\n",
              "      <td>0</td>\n",
              "      <td>0</td>\n",
              "      <td>1</td>\n",
              "      <td>0</td>\n",
              "      <td>0</td>\n",
              "      <td>0</td>\n",
              "      <td>1</td>\n",
              "      <td>0</td>\n",
              "      <td>0</td>\n",
              "      <td>0</td>\n",
              "      <td>1</td>\n",
              "      <td>0</td>\n",
              "      <td>0</td>\n",
              "      <td>0</td>\n",
              "      <td>1</td>\n",
              "    </tr>\n",
              "    <tr>\n",
              "      <th>5</th>\n",
              "      <td>3</td>\n",
              "      <td>1</td>\n",
              "      <td>35.0</td>\n",
              "      <td>0</td>\n",
              "      <td>0</td>\n",
              "      <td>8.0500</td>\n",
              "      <td>0</td>\n",
              "      <td>0</td>\n",
              "      <td>0</td>\n",
              "      <td>1</td>\n",
              "      <td>0</td>\n",
              "      <td>0</td>\n",
              "      <td>0</td>\n",
              "      <td>1</td>\n",
              "      <td>0</td>\n",
              "      <td>0</td>\n",
              "      <td>0</td>\n",
              "      <td>1</td>\n",
              "      <td>0</td>\n",
              "      <td>1</td>\n",
              "      <td>0</td>\n",
              "      <td>0</td>\n",
              "    </tr>\n",
              "  </tbody>\n",
              "</table>\n",
              "</div>"
            ],
            "text/plain": [
              "              Classe  Sexo  Idade  Irmãos/Cônjuge  ...  Idoso  Barato  Caro  Medio\n",
              "IdPassageiro                                       ...                            \n",
              "1                  3     1   22.0               1  ...      0       1     0      0\n",
              "2                  1     0   38.0               1  ...      0       0     0      1\n",
              "3                  3     0   26.0               0  ...      0       1     0      0\n",
              "4                  1     0   35.0               1  ...      0       0     0      1\n",
              "5                  3     1   35.0               0  ...      0       1     0      0\n",
              "\n",
              "[5 rows x 22 columns]"
            ]
          },
          "metadata": {
            "tags": []
          },
          "execution_count": 104
        }
      ]
    },
    {
      "cell_type": "markdown",
      "metadata": {
        "id": "IGy7jNdj5FYn",
        "colab_type": "text"
      },
      "source": [
        "### 1.4 - Normalização Min-Max $[0,1]$ "
      ]
    },
    {
      "cell_type": "markdown",
      "metadata": {
        "id": "M4Ud3p4v5FYn",
        "colab_type": "text"
      },
      "source": [
        "Antes de realizar as normalizações, vamos remover a coluna 'Sobreviveu?' do nosso DataFrame e salvá-la em uma variável."
      ]
    },
    {
      "cell_type": "code",
      "metadata": {
        "id": "AU7xSEOq5FYo",
        "colab_type": "code",
        "outputId": "96ee4f91-b950-4ddc-95be-4611bde51df6",
        "colab": {
          "base_uri": "https://localhost:8080/",
          "height": 136
        }
      },
      "source": [
        "\"\"\"Remover coluna target antes de normalizar.\"\"\"\n",
        "\n",
        "target = titanic['Sobreviveu?']\n",
        "titanic.drop(['Sobreviveu?'], axis=1, inplace=True)\n",
        "target.head()"
      ],
      "execution_count": 0,
      "outputs": [
        {
          "output_type": "execute_result",
          "data": {
            "text/plain": [
              "IdPassageiro\n",
              "1    0\n",
              "2    1\n",
              "3    1\n",
              "4    1\n",
              "5    0\n",
              "Name: Sobreviveu?, dtype: int64"
            ]
          },
          "metadata": {
            "tags": []
          },
          "execution_count": 100
        }
      ]
    },
    {
      "cell_type": "code",
      "metadata": {
        "scrolled": false,
        "id": "tfLqG1uA5FYq",
        "colab_type": "code",
        "outputId": "18d2e667-4a96-42fa-ed9e-4d0ab43127b0",
        "colab": {
          "base_uri": "https://localhost:8080/",
          "height": 607
        }
      },
      "source": [
        "\"\"\"Vamos ver a distribuição dos dados antes da normalização. \"\"\"\n",
        "titanic.hist(figsize=(20,10))\n",
        "plt.show()"
      ],
      "execution_count": 0,
      "outputs": [
        {
          "output_type": "display_data",
          "data": {
            "image/png": "[encoded data removed]",
            "text/plain": [
              "<Figure size 1440x720 with 12 Axes>"
            ]
          },
          "metadata": {
            "tags": [],
            "needs_background": "light"
          }
        }
      ]
    },
    {
      "cell_type": "markdown",
      "metadata": {
        "deletable": false,
        "editable": false,
        "nbgrader": {
          "checksum": "7394abfef286a14f0028e27029cdddc7",
          "grade": false,
          "grade_id": "cell-6f19b61b28f97b3d",
          "locked": true,
          "schema_version": 1,
          "solution": false
        },
        "id": "i7X_YILU5FYs",
        "colab_type": "text"
      },
      "source": [
        "Podemos querer normalizar atributos para oberservá-los em um intervalo de valores mais bem controlado. Vamos então normalizar nosso DataSet no intervalo $[0,1]$ utilizando a função **MinMaxScaler()** da biblioteca sklearn, que aplicará a função **min-max**, que é dada pela **fórmula**:\n",
        "\n",
        "$$v' = \\frac{v-min_A}{max_A - min_A}(nmax_A - nmin_A) + nmin_A$$\n",
        "\n",
        "onde:\n",
        "* $[nmin_A, nmax_A]$ é o intervalo no qual você deseja normalizar seus dados (no nosso caso, $[0,1]$)\n",
        "* $min_A$ e $max_A$ são os atuais valores mínimo e máximo da coluna, respectivamente.\n",
        "\n",
        "Deve-se ressaltar que a função não é aplicada em dados categóricos, logo devemos \"cortar\" algumas colunas do DataSet para aplicarmos a função."
      ]
    },
    {
      "cell_type": "code",
      "metadata": {
        "id": "JRs9-nmM5FYs",
        "colab_type": "code",
        "outputId": "43851833-3eca-44ef-fd0b-af317c927cfe",
        "colab": {
          "base_uri": "https://localhost:8080/",
          "height": 204
        }
      },
      "source": [
        "\"\"\"Normalizar os dados utilizando a estratégia Min-max.\"\"\"\n",
        "\n",
        "from sklearn import preprocessing\n",
        "X = titanic.values\n",
        "min_max_scaler = preprocessing.MinMaxScaler()\n",
        "df_minmax = min_max_scaler.fit_transform(X)\n",
        "df_minmax = pd.DataFrame(df_minmax,columns=titanic.columns)\n",
        "df_minmax.head()"
      ],
      "execution_count": 0,
      "outputs": [
        {
          "output_type": "execute_result",
          "data": {
            "text/html": [
              "<div>\n",
              "<style scoped>\n",
              "    .dataframe tbody tr th:only-of-type {\n",
              "        vertical-align: middle;\n",
              "    }\n",
              "\n",
              "    .dataframe tbody tr th {\n",
              "        vertical-align: top;\n",
              "    }\n",
              "\n",
              "    .dataframe thead th {\n",
              "        text-align: right;\n",
              "    }\n",
              "</style>\n",
              "<table border=\"1\" class=\"dataframe\">\n",
              "  <thead>\n",
              "    <tr style=\"text-align: right;\">\n",
              "      <th></th>\n",
              "      <th>Classe</th>\n",
              "      <th>Sexo</th>\n",
              "      <th>Idade</th>\n",
              "      <th>Irmãos/Cônjuge</th>\n",
              "      <th>Pais/Crianças</th>\n",
              "      <th>Tarifa</th>\n",
              "      <th>Embarque</th>\n",
              "      <th>Criança</th>\n",
              "      <th>Jovem</th>\n",
              "      <th>Adulto</th>\n",
              "      <th>Idoso</th>\n",
              "      <th>Criança</th>\n",
              "      <th>Jovem</th>\n",
              "      <th>Adulto</th>\n",
              "      <th>Idoso</th>\n",
              "      <th>Criança</th>\n",
              "      <th>Jovem</th>\n",
              "      <th>Adulto</th>\n",
              "      <th>Idoso</th>\n",
              "      <th>Barato</th>\n",
              "      <th>Caro</th>\n",
              "      <th>Medio</th>\n",
              "    </tr>\n",
              "  </thead>\n",
              "  <tbody>\n",
              "    <tr>\n",
              "      <th>0</th>\n",
              "      <td>1.0</td>\n",
              "      <td>1.0</td>\n",
              "      <td>0.271174</td>\n",
              "      <td>0.125</td>\n",
              "      <td>0.0</td>\n",
              "      <td>0.014151</td>\n",
              "      <td>0.0</td>\n",
              "      <td>0.0</td>\n",
              "      <td>1.0</td>\n",
              "      <td>0.0</td>\n",
              "      <td>0.0</td>\n",
              "      <td>0.0</td>\n",
              "      <td>1.0</td>\n",
              "      <td>0.0</td>\n",
              "      <td>0.0</td>\n",
              "      <td>0.0</td>\n",
              "      <td>1.0</td>\n",
              "      <td>0.0</td>\n",
              "      <td>0.0</td>\n",
              "      <td>1.0</td>\n",
              "      <td>0.0</td>\n",
              "      <td>0.0</td>\n",
              "    </tr>\n",
              "    <tr>\n",
              "      <th>1</th>\n",
              "      <td>0.0</td>\n",
              "      <td>0.0</td>\n",
              "      <td>0.472229</td>\n",
              "      <td>0.125</td>\n",
              "      <td>0.0</td>\n",
              "      <td>0.139136</td>\n",
              "      <td>0.5</td>\n",
              "      <td>0.0</td>\n",
              "      <td>0.0</td>\n",
              "      <td>1.0</td>\n",
              "      <td>0.0</td>\n",
              "      <td>0.0</td>\n",
              "      <td>0.0</td>\n",
              "      <td>1.0</td>\n",
              "      <td>0.0</td>\n",
              "      <td>0.0</td>\n",
              "      <td>0.0</td>\n",
              "      <td>1.0</td>\n",
              "      <td>0.0</td>\n",
              "      <td>0.0</td>\n",
              "      <td>0.0</td>\n",
              "      <td>1.0</td>\n",
              "    </tr>\n",
              "    <tr>\n",
              "      <th>2</th>\n",
              "      <td>1.0</td>\n",
              "      <td>0.0</td>\n",
              "      <td>0.321438</td>\n",
              "      <td>0.000</td>\n",
              "      <td>0.0</td>\n",
              "      <td>0.015469</td>\n",
              "      <td>0.0</td>\n",
              "      <td>0.0</td>\n",
              "      <td>0.0</td>\n",
              "      <td>1.0</td>\n",
              "      <td>0.0</td>\n",
              "      <td>0.0</td>\n",
              "      <td>0.0</td>\n",
              "      <td>1.0</td>\n",
              "      <td>0.0</td>\n",
              "      <td>0.0</td>\n",
              "      <td>0.0</td>\n",
              "      <td>1.0</td>\n",
              "      <td>0.0</td>\n",
              "      <td>1.0</td>\n",
              "      <td>0.0</td>\n",
              "      <td>0.0</td>\n",
              "    </tr>\n",
              "    <tr>\n",
              "      <th>3</th>\n",
              "      <td>0.0</td>\n",
              "      <td>0.0</td>\n",
              "      <td>0.434531</td>\n",
              "      <td>0.125</td>\n",
              "      <td>0.0</td>\n",
              "      <td>0.103644</td>\n",
              "      <td>0.0</td>\n",
              "      <td>0.0</td>\n",
              "      <td>0.0</td>\n",
              "      <td>1.0</td>\n",
              "      <td>0.0</td>\n",
              "      <td>0.0</td>\n",
              "      <td>0.0</td>\n",
              "      <td>1.0</td>\n",
              "      <td>0.0</td>\n",
              "      <td>0.0</td>\n",
              "      <td>0.0</td>\n",
              "      <td>1.0</td>\n",
              "      <td>0.0</td>\n",
              "      <td>0.0</td>\n",
              "      <td>0.0</td>\n",
              "      <td>1.0</td>\n",
              "    </tr>\n",
              "    <tr>\n",
              "      <th>4</th>\n",
              "      <td>1.0</td>\n",
              "      <td>1.0</td>\n",
              "      <td>0.434531</td>\n",
              "      <td>0.000</td>\n",
              "      <td>0.0</td>\n",
              "      <td>0.015713</td>\n",
              "      <td>0.0</td>\n",
              "      <td>0.0</td>\n",
              "      <td>0.0</td>\n",
              "      <td>1.0</td>\n",
              "      <td>0.0</td>\n",
              "      <td>0.0</td>\n",
              "      <td>0.0</td>\n",
              "      <td>1.0</td>\n",
              "      <td>0.0</td>\n",
              "      <td>0.0</td>\n",
              "      <td>0.0</td>\n",
              "      <td>1.0</td>\n",
              "      <td>0.0</td>\n",
              "      <td>1.0</td>\n",
              "      <td>0.0</td>\n",
              "      <td>0.0</td>\n",
              "    </tr>\n",
              "  </tbody>\n",
              "</table>\n",
              "</div>"
            ],
            "text/plain": [
              "   Classe  Sexo     Idade  Irmãos/Cônjuge  ...  Idoso  Barato  Caro  Medio\n",
              "0     1.0   1.0  0.271174           0.125  ...    0.0     1.0   0.0    0.0\n",
              "1     0.0   0.0  0.472229           0.125  ...    0.0     0.0   0.0    1.0\n",
              "2     1.0   0.0  0.321438           0.000  ...    0.0     1.0   0.0    0.0\n",
              "3     0.0   0.0  0.434531           0.125  ...    0.0     0.0   0.0    1.0\n",
              "4     1.0   1.0  0.434531           0.000  ...    0.0     1.0   0.0    0.0\n",
              "\n",
              "[5 rows x 22 columns]"
            ]
          },
          "metadata": {
            "tags": []
          },
          "execution_count": 105
        }
      ]
    },
    {
      "cell_type": "code",
      "metadata": {
        "id": "ZkwIZ-Qd5FYv",
        "colab_type": "code",
        "colab": {}
      },
      "source": [
        "\"\"\"Vamos ver como ficam a distribuição de dados do novo DataFrame. \"\"\"\n",
        "\n",
        "df_minmax.describe().round(2)"
      ],
      "execution_count": 0,
      "outputs": []
    },
    {
      "cell_type": "code",
      "metadata": {
        "id": "I6CNciyN5FYx",
        "colab_type": "code",
        "colab": {}
      },
      "source": [
        "df_minmax.hist(figsize=(20,10))\n",
        "plt.show()"
      ],
      "execution_count": 0,
      "outputs": []
    },
    {
      "cell_type": "markdown",
      "metadata": {
        "id": "WmYvPQH25FY0",
        "colab_type": "text"
      },
      "source": [
        "### 1.5 - Normalização Gaussiana (Z-Score)"
      ]
    },
    {
      "cell_type": "markdown",
      "metadata": {
        "nbgrader": {
          "checksum": "7394abfef286a14f0028e27029cdddc7",
          "grade": false,
          "grade_id": "cell-6f19b61b28f97b3d",
          "locked": true,
          "schema_version": 1,
          "solution": false
        },
        "id": "Lg5oLpuM5FY0",
        "colab_type": "text"
      },
      "source": [
        "Outra maneira de normalizar os dados é utilizando a função **StandardScaler()** da biblioteca sklearn, que normaliza os dados utilizando o **Z-score**:\n",
        "\n",
        "$$v' = \\frac{v-\\mu}{\\sigma}$$\n",
        "\n",
        "A seguir, vamos normalizar nossos dados utilizando esse método."
      ]
    },
    {
      "cell_type": "code",
      "metadata": {
        "id": "Dn-TLzzQ5FY1",
        "colab_type": "code",
        "outputId": "7d132641-c3a4-4a81-8692-2350b58fbdde",
        "colab": {
          "base_uri": "https://localhost:8080/",
          "height": 224
        }
      },
      "source": [
        "\"\"\"Normalizar os dados utilizando o Z-score.\"\"\"\n",
        "\n",
        "from sklearn import preprocessing\n",
        "X = titanic.values\n",
        "standard_scaler = preprocessing.StandardScaler()\n",
        "df_standard = standard_scaler.fit_transform(X)\n",
        "df_standard = pd.DataFrame(df_standard,columns=titanic.columns)\n",
        "df_standard.head()"
      ],
      "execution_count": 0,
      "outputs": [
        {
          "output_type": "execute_result",
          "data": {
            "text/html": [
              "<div>\n",
              "<style scoped>\n",
              "    .dataframe tbody tr th:only-of-type {\n",
              "        vertical-align: middle;\n",
              "    }\n",
              "\n",
              "    .dataframe tbody tr th {\n",
              "        vertical-align: top;\n",
              "    }\n",
              "\n",
              "    .dataframe thead th {\n",
              "        text-align: right;\n",
              "    }\n",
              "</style>\n",
              "<table border=\"1\" class=\"dataframe\">\n",
              "  <thead>\n",
              "    <tr style=\"text-align: right;\">\n",
              "      <th></th>\n",
              "      <th>Classe</th>\n",
              "      <th>Sexo</th>\n",
              "      <th>Idade</th>\n",
              "      <th>Irmãos/Cônjuge</th>\n",
              "      <th>Pais/Crianças</th>\n",
              "      <th>Tarifa</th>\n",
              "      <th>Embarque</th>\n",
              "      <th>Criança</th>\n",
              "      <th>Jovem</th>\n",
              "      <th>Adulto</th>\n",
              "      <th>Idoso</th>\n",
              "      <th>Criança</th>\n",
              "      <th>Jovem</th>\n",
              "      <th>Adulto</th>\n",
              "      <th>Idoso</th>\n",
              "      <th>Criança</th>\n",
              "      <th>Jovem</th>\n",
              "      <th>Adulto</th>\n",
              "      <th>Idoso</th>\n",
              "      <th>Barato</th>\n",
              "      <th>Caro</th>\n",
              "      <th>Medio</th>\n",
              "    </tr>\n",
              "  </thead>\n",
              "  <tbody>\n",
              "    <tr>\n",
              "      <th>0</th>\n",
              "      <td>0.827377</td>\n",
              "      <td>0.737695</td>\n",
              "      <td>-0.592481</td>\n",
              "      <td>0.432793</td>\n",
              "      <td>-0.473674</td>\n",
              "      <td>-0.502445</td>\n",
              "      <td>-0.568837</td>\n",
              "      <td>-0.320504</td>\n",
              "      <td>1.757030</td>\n",
              "      <td>-1.326090</td>\n",
              "      <td>-0.159111</td>\n",
              "      <td>-0.320504</td>\n",
              "      <td>1.757030</td>\n",
              "      <td>-1.326090</td>\n",
              "      <td>-0.159111</td>\n",
              "      <td>-0.320504</td>\n",
              "      <td>1.757030</td>\n",
              "      <td>-1.326090</td>\n",
              "      <td>-0.159111</td>\n",
              "      <td>1.375811</td>\n",
              "      <td>-0.691095</td>\n",
              "      <td>-0.703539</td>\n",
              "    </tr>\n",
              "    <tr>\n",
              "      <th>1</th>\n",
              "      <td>-1.566107</td>\n",
              "      <td>-1.355574</td>\n",
              "      <td>0.638789</td>\n",
              "      <td>0.432793</td>\n",
              "      <td>-0.473674</td>\n",
              "      <td>0.786845</td>\n",
              "      <td>1.005181</td>\n",
              "      <td>-0.320504</td>\n",
              "      <td>-0.569142</td>\n",
              "      <td>0.754097</td>\n",
              "      <td>-0.159111</td>\n",
              "      <td>-0.320504</td>\n",
              "      <td>-0.569142</td>\n",
              "      <td>0.754097</td>\n",
              "      <td>-0.159111</td>\n",
              "      <td>-0.320504</td>\n",
              "      <td>-0.569142</td>\n",
              "      <td>0.754097</td>\n",
              "      <td>-0.159111</td>\n",
              "      <td>-0.726844</td>\n",
              "      <td>-0.691095</td>\n",
              "      <td>1.421386</td>\n",
              "    </tr>\n",
              "    <tr>\n",
              "      <th>2</th>\n",
              "      <td>0.827377</td>\n",
              "      <td>-1.355574</td>\n",
              "      <td>-0.284663</td>\n",
              "      <td>-0.474545</td>\n",
              "      <td>-0.473674</td>\n",
              "      <td>-0.488854</td>\n",
              "      <td>-0.568837</td>\n",
              "      <td>-0.320504</td>\n",
              "      <td>-0.569142</td>\n",
              "      <td>0.754097</td>\n",
              "      <td>-0.159111</td>\n",
              "      <td>-0.320504</td>\n",
              "      <td>-0.569142</td>\n",
              "      <td>0.754097</td>\n",
              "      <td>-0.159111</td>\n",
              "      <td>-0.320504</td>\n",
              "      <td>-0.569142</td>\n",
              "      <td>0.754097</td>\n",
              "      <td>-0.159111</td>\n",
              "      <td>1.375811</td>\n",
              "      <td>-0.691095</td>\n",
              "      <td>-0.703539</td>\n",
              "    </tr>\n",
              "    <tr>\n",
              "      <th>3</th>\n",
              "      <td>-1.566107</td>\n",
              "      <td>-1.355574</td>\n",
              "      <td>0.407926</td>\n",
              "      <td>0.432793</td>\n",
              "      <td>-0.473674</td>\n",
              "      <td>0.420730</td>\n",
              "      <td>-0.568837</td>\n",
              "      <td>-0.320504</td>\n",
              "      <td>-0.569142</td>\n",
              "      <td>0.754097</td>\n",
              "      <td>-0.159111</td>\n",
              "      <td>-0.320504</td>\n",
              "      <td>-0.569142</td>\n",
              "      <td>0.754097</td>\n",
              "      <td>-0.159111</td>\n",
              "      <td>-0.320504</td>\n",
              "      <td>-0.569142</td>\n",
              "      <td>0.754097</td>\n",
              "      <td>-0.159111</td>\n",
              "      <td>-0.726844</td>\n",
              "      <td>-0.691095</td>\n",
              "      <td>1.421386</td>\n",
              "    </tr>\n",
              "    <tr>\n",
              "      <th>4</th>\n",
              "      <td>0.827377</td>\n",
              "      <td>0.737695</td>\n",
              "      <td>0.407926</td>\n",
              "      <td>-0.474545</td>\n",
              "      <td>-0.473674</td>\n",
              "      <td>-0.486337</td>\n",
              "      <td>-0.568837</td>\n",
              "      <td>-0.320504</td>\n",
              "      <td>-0.569142</td>\n",
              "      <td>0.754097</td>\n",
              "      <td>-0.159111</td>\n",
              "      <td>-0.320504</td>\n",
              "      <td>-0.569142</td>\n",
              "      <td>0.754097</td>\n",
              "      <td>-0.159111</td>\n",
              "      <td>-0.320504</td>\n",
              "      <td>-0.569142</td>\n",
              "      <td>0.754097</td>\n",
              "      <td>-0.159111</td>\n",
              "      <td>1.375811</td>\n",
              "      <td>-0.691095</td>\n",
              "      <td>-0.703539</td>\n",
              "    </tr>\n",
              "  </tbody>\n",
              "</table>\n",
              "</div>"
            ],
            "text/plain": [
              "     Classe      Sexo     Idade  ...    Barato      Caro     Medio\n",
              "0  0.827377  0.737695 -0.592481  ...  1.375811 -0.691095 -0.703539\n",
              "1 -1.566107 -1.355574  0.638789  ... -0.726844 -0.691095  1.421386\n",
              "2  0.827377 -1.355574 -0.284663  ...  1.375811 -0.691095 -0.703539\n",
              "3 -1.566107 -1.355574  0.407926  ... -0.726844 -0.691095  1.421386\n",
              "4  0.827377  0.737695  0.407926  ...  1.375811 -0.691095 -0.703539\n",
              "\n",
              "[5 rows x 22 columns]"
            ]
          },
          "metadata": {
            "tags": []
          },
          "execution_count": 106
        }
      ]
    },
    {
      "cell_type": "code",
      "metadata": {
        "scrolled": true,
        "id": "k_W9wscw5FY3",
        "colab_type": "code",
        "outputId": "bb9f78d9-38fd-4a2b-c515-5cb538569e0e",
        "colab": {
          "base_uri": "https://localhost:8080/",
          "height": 317
        }
      },
      "source": [
        "\"\"\"Mais uma vez vamos ver como ficam a distribuição de dados do novo DataFrame\"\"\"\n",
        "\n",
        "df_standard.describe().round(2)"
      ],
      "execution_count": 0,
      "outputs": [
        {
          "output_type": "execute_result",
          "data": {
            "text/html": [
              "<div>\n",
              "<style scoped>\n",
              "    .dataframe tbody tr th:only-of-type {\n",
              "        vertical-align: middle;\n",
              "    }\n",
              "\n",
              "    .dataframe tbody tr th {\n",
              "        vertical-align: top;\n",
              "    }\n",
              "\n",
              "    .dataframe thead th {\n",
              "        text-align: right;\n",
              "    }\n",
              "</style>\n",
              "<table border=\"1\" class=\"dataframe\">\n",
              "  <thead>\n",
              "    <tr style=\"text-align: right;\">\n",
              "      <th></th>\n",
              "      <th>Classe</th>\n",
              "      <th>Sexo</th>\n",
              "      <th>Idade</th>\n",
              "      <th>Irmãos/Cônjuge</th>\n",
              "      <th>Pais/Crianças</th>\n",
              "      <th>Tarifa</th>\n",
              "      <th>Embarque</th>\n",
              "      <th>Criança</th>\n",
              "      <th>Jovem</th>\n",
              "      <th>Adulto</th>\n",
              "      <th>Idoso</th>\n",
              "      <th>Criança</th>\n",
              "      <th>Jovem</th>\n",
              "      <th>Adulto</th>\n",
              "      <th>Idoso</th>\n",
              "      <th>Criança</th>\n",
              "      <th>Jovem</th>\n",
              "      <th>Adulto</th>\n",
              "      <th>Idoso</th>\n",
              "      <th>Barato</th>\n",
              "      <th>Caro</th>\n",
              "      <th>Medio</th>\n",
              "    </tr>\n",
              "  </thead>\n",
              "  <tbody>\n",
              "    <tr>\n",
              "      <th>count</th>\n",
              "      <td>891.00</td>\n",
              "      <td>891.00</td>\n",
              "      <td>891.00</td>\n",
              "      <td>891.00</td>\n",
              "      <td>891.00</td>\n",
              "      <td>891.00</td>\n",
              "      <td>891.00</td>\n",
              "      <td>891.00</td>\n",
              "      <td>891.00</td>\n",
              "      <td>891.00</td>\n",
              "      <td>891.00</td>\n",
              "      <td>891.00</td>\n",
              "      <td>891.00</td>\n",
              "      <td>891.00</td>\n",
              "      <td>891.00</td>\n",
              "      <td>891.00</td>\n",
              "      <td>891.00</td>\n",
              "      <td>891.00</td>\n",
              "      <td>891.00</td>\n",
              "      <td>891.00</td>\n",
              "      <td>891.00</td>\n",
              "      <td>891.00</td>\n",
              "    </tr>\n",
              "    <tr>\n",
              "      <th>mean</th>\n",
              "      <td>-0.00</td>\n",
              "      <td>-0.00</td>\n",
              "      <td>0.00</td>\n",
              "      <td>0.00</td>\n",
              "      <td>0.00</td>\n",
              "      <td>-0.00</td>\n",
              "      <td>-0.00</td>\n",
              "      <td>0.00</td>\n",
              "      <td>-0.00</td>\n",
              "      <td>0.00</td>\n",
              "      <td>-0.00</td>\n",
              "      <td>0.00</td>\n",
              "      <td>-0.00</td>\n",
              "      <td>0.00</td>\n",
              "      <td>-0.00</td>\n",
              "      <td>0.00</td>\n",
              "      <td>-0.00</td>\n",
              "      <td>0.00</td>\n",
              "      <td>-0.00</td>\n",
              "      <td>0.00</td>\n",
              "      <td>-0.00</td>\n",
              "      <td>0.00</td>\n",
              "    </tr>\n",
              "    <tr>\n",
              "      <th>std</th>\n",
              "      <td>1.00</td>\n",
              "      <td>1.00</td>\n",
              "      <td>1.00</td>\n",
              "      <td>1.00</td>\n",
              "      <td>1.00</td>\n",
              "      <td>1.00</td>\n",
              "      <td>1.00</td>\n",
              "      <td>1.00</td>\n",
              "      <td>1.00</td>\n",
              "      <td>1.00</td>\n",
              "      <td>1.00</td>\n",
              "      <td>1.00</td>\n",
              "      <td>1.00</td>\n",
              "      <td>1.00</td>\n",
              "      <td>1.00</td>\n",
              "      <td>1.00</td>\n",
              "      <td>1.00</td>\n",
              "      <td>1.00</td>\n",
              "      <td>1.00</td>\n",
              "      <td>1.00</td>\n",
              "      <td>1.00</td>\n",
              "      <td>1.00</td>\n",
              "    </tr>\n",
              "    <tr>\n",
              "      <th>min</th>\n",
              "      <td>-1.57</td>\n",
              "      <td>-1.36</td>\n",
              "      <td>-2.25</td>\n",
              "      <td>-0.47</td>\n",
              "      <td>-0.47</td>\n",
              "      <td>-0.65</td>\n",
              "      <td>-0.57</td>\n",
              "      <td>-0.32</td>\n",
              "      <td>-0.57</td>\n",
              "      <td>-1.33</td>\n",
              "      <td>-0.16</td>\n",
              "      <td>-0.32</td>\n",
              "      <td>-0.57</td>\n",
              "      <td>-1.33</td>\n",
              "      <td>-0.16</td>\n",
              "      <td>-0.32</td>\n",
              "      <td>-0.57</td>\n",
              "      <td>-1.33</td>\n",
              "      <td>-0.16</td>\n",
              "      <td>-0.73</td>\n",
              "      <td>-0.69</td>\n",
              "      <td>-0.70</td>\n",
              "    </tr>\n",
              "    <tr>\n",
              "      <th>25%</th>\n",
              "      <td>-0.37</td>\n",
              "      <td>-1.36</td>\n",
              "      <td>-0.59</td>\n",
              "      <td>-0.47</td>\n",
              "      <td>-0.47</td>\n",
              "      <td>-0.49</td>\n",
              "      <td>-0.57</td>\n",
              "      <td>-0.32</td>\n",
              "      <td>-0.57</td>\n",
              "      <td>-1.33</td>\n",
              "      <td>-0.16</td>\n",
              "      <td>-0.32</td>\n",
              "      <td>-0.57</td>\n",
              "      <td>-1.33</td>\n",
              "      <td>-0.16</td>\n",
              "      <td>-0.32</td>\n",
              "      <td>-0.57</td>\n",
              "      <td>-1.33</td>\n",
              "      <td>-0.16</td>\n",
              "      <td>-0.73</td>\n",
              "      <td>-0.69</td>\n",
              "      <td>-0.70</td>\n",
              "    </tr>\n",
              "    <tr>\n",
              "      <th>50%</th>\n",
              "      <td>0.83</td>\n",
              "      <td>0.74</td>\n",
              "      <td>0.00</td>\n",
              "      <td>-0.47</td>\n",
              "      <td>-0.47</td>\n",
              "      <td>-0.36</td>\n",
              "      <td>-0.57</td>\n",
              "      <td>-0.32</td>\n",
              "      <td>-0.57</td>\n",
              "      <td>0.75</td>\n",
              "      <td>-0.16</td>\n",
              "      <td>-0.32</td>\n",
              "      <td>-0.57</td>\n",
              "      <td>0.75</td>\n",
              "      <td>-0.16</td>\n",
              "      <td>-0.32</td>\n",
              "      <td>-0.57</td>\n",
              "      <td>0.75</td>\n",
              "      <td>-0.16</td>\n",
              "      <td>-0.73</td>\n",
              "      <td>-0.69</td>\n",
              "      <td>-0.70</td>\n",
              "    </tr>\n",
              "    <tr>\n",
              "      <th>75%</th>\n",
              "      <td>0.83</td>\n",
              "      <td>0.74</td>\n",
              "      <td>0.41</td>\n",
              "      <td>0.43</td>\n",
              "      <td>-0.47</td>\n",
              "      <td>-0.02</td>\n",
              "      <td>1.01</td>\n",
              "      <td>-0.32</td>\n",
              "      <td>-0.57</td>\n",
              "      <td>0.75</td>\n",
              "      <td>-0.16</td>\n",
              "      <td>-0.32</td>\n",
              "      <td>-0.57</td>\n",
              "      <td>0.75</td>\n",
              "      <td>-0.16</td>\n",
              "      <td>-0.32</td>\n",
              "      <td>-0.57</td>\n",
              "      <td>0.75</td>\n",
              "      <td>-0.16</td>\n",
              "      <td>1.38</td>\n",
              "      <td>1.45</td>\n",
              "      <td>1.42</td>\n",
              "    </tr>\n",
              "    <tr>\n",
              "      <th>max</th>\n",
              "      <td>0.83</td>\n",
              "      <td>0.74</td>\n",
              "      <td>3.87</td>\n",
              "      <td>6.78</td>\n",
              "      <td>6.97</td>\n",
              "      <td>9.67</td>\n",
              "      <td>2.58</td>\n",
              "      <td>3.12</td>\n",
              "      <td>1.76</td>\n",
              "      <td>0.75</td>\n",
              "      <td>6.28</td>\n",
              "      <td>3.12</td>\n",
              "      <td>1.76</td>\n",
              "      <td>0.75</td>\n",
              "      <td>6.28</td>\n",
              "      <td>3.12</td>\n",
              "      <td>1.76</td>\n",
              "      <td>0.75</td>\n",
              "      <td>6.28</td>\n",
              "      <td>1.38</td>\n",
              "      <td>1.45</td>\n",
              "      <td>1.42</td>\n",
              "    </tr>\n",
              "  </tbody>\n",
              "</table>\n",
              "</div>"
            ],
            "text/plain": [
              "       Classe    Sexo   Idade  Irmãos/Cônjuge  ...   Idoso  Barato    Caro   Medio\n",
              "count  891.00  891.00  891.00          891.00  ...  891.00  891.00  891.00  891.00\n",
              "mean    -0.00   -0.00    0.00            0.00  ...   -0.00    0.00   -0.00    0.00\n",
              "std      1.00    1.00    1.00            1.00  ...    1.00    1.00    1.00    1.00\n",
              "min     -1.57   -1.36   -2.25           -0.47  ...   -0.16   -0.73   -0.69   -0.70\n",
              "25%     -0.37   -1.36   -0.59           -0.47  ...   -0.16   -0.73   -0.69   -0.70\n",
              "50%      0.83    0.74    0.00           -0.47  ...   -0.16   -0.73   -0.69   -0.70\n",
              "75%      0.83    0.74    0.41            0.43  ...   -0.16    1.38    1.45    1.42\n",
              "max      0.83    0.74    3.87            6.78  ...    6.28    1.38    1.45    1.42\n",
              "\n",
              "[8 rows x 22 columns]"
            ]
          },
          "metadata": {
            "tags": []
          },
          "execution_count": 107
        }
      ]
    },
    {
      "cell_type": "code",
      "metadata": {
        "id": "VFwYHyAD5FY5",
        "colab_type": "code",
        "outputId": "e9c29c4f-bd65-46c3-8e39-fb2edfda8ec7",
        "colab": {
          "base_uri": "https://localhost:8080/",
          "height": 607
        }
      },
      "source": [
        "df_standard.hist(figsize=(20,10))\n",
        "plt.show()"
      ],
      "execution_count": 0,
      "outputs": [
        {
          "output_type": "display_data",
          "data": {
            "image/png": "[encoded data removed]",
            "text/plain": [
              "<Figure size 1440x720 with 25 Axes>"
            ]
          },
          "metadata": {
            "tags": [],
            "needs_background": "light"
          }
        }
      ]
    },
    {
      "cell_type": "markdown",
      "metadata": {
        "nbgrader": {
          "checksum": "f0d8a6e6f1796dd2b93de6fdf2ab1045",
          "grade": false,
          "grade_id": "RO_title_pca",
          "locked": true,
          "schema_version": 1,
          "solution": false
        },
        "id": "ZBq4cqz45FY7",
        "colab_type": "text"
      },
      "source": [
        "##  Parte 2 - Redução de Dimensionalidade"
      ]
    },
    {
      "cell_type": "markdown",
      "metadata": {
        "id": "MT_3FO3G5FY8",
        "colab_type": "text"
      },
      "source": [
        "### 2.1 - PCA"
      ]
    },
    {
      "cell_type": "markdown",
      "metadata": {
        "deletable": false,
        "editable": false,
        "nbgrader": {
          "checksum": "7394abfef286a14f0028e27029cdddc7",
          "grade": false,
          "grade_id": "cell-6f19b61b28f97b3d",
          "locked": true,
          "schema_version": 1,
          "solution": false
        },
        "id": "__2n9EXy5FY8",
        "colab_type": "text"
      },
      "source": [
        "O **PCA** (Principal Component Analysis), método de redução de dimensionalidade que utilizaremos mais adiante, deve ser aplicado apenas em dados numéricos. Portanto, devemos ter certeza de que todas as colunas do nosso dataframe satisfazem a este requisito."
      ]
    },
    {
      "cell_type": "code",
      "metadata": {
        "id": "4WCsEnlg5FY8",
        "colab_type": "code",
        "colab": {}
      },
      "source": [
        "\"\"\"Aplicar PCA em cada um dos dataframes normalizados.\"\"\"\n",
        "\n",
        "from sklearn.decomposition import PCA\n",
        "\n",
        "X = df_standard.values\n",
        "pca = PCA(n_components=10)\n",
        "pca.fit(X)\n",
        "plt.plot(np.cumsum(pca.explained_variance_ratio_), label='Standard Normalization')\n",
        "\n",
        "X = df_minmax.values\n",
        "pca = PCA(n_components=10)\n",
        "pca.fit(X)\n",
        "plt.plot(np.cumsum(pca.explained_variance_ratio_), label='Min-Max Normalization')\n",
        "\n",
        "X = titanic.values\n",
        "pca = PCA(n_components=10)\n",
        "pca.fit(X)\n",
        "plt.plot(np.cumsum(pca.explained_variance_ratio_), label='Without Normalization')\n",
        "\n",
        "plt.xlim(0,9,1)\n",
        "plt.xlabel('Components')\n",
        "plt.ylabel('Cumulative explained variance')\n",
        "plt.legend()"
      ],
      "execution_count": 0,
      "outputs": []
    },
    {
      "cell_type": "markdown",
      "metadata": {
        "nbgrader": {
          "checksum": "50a768a6db2a278a577b60679bffe540",
          "grade": false,
          "grade_id": "RO_pca_2",
          "locked": true,
          "schema_version": 1,
          "solution": false
        },
        "id": "vkZdnp4S5FY-",
        "colab_type": "text"
      },
      "source": [
        "A normalização é muito importante em PCA, já que PCA é um exercício de maximização da variância. Ele projeta seus dados originais em direções que maximizam a variância. O gráfico acima mostra a quantidade de variância total explicada nos diferentes componentes principais. Como você pode ver, quando não há normalização parece que a primeira componente sozinha explica quase toda a variação nos dados. Por outro lado, quando há a normalização as outras componentes também contribuem bastante. \n",
        "\n",
        "A razão para isso é porque o PCA procura maximizar a variação de cada componente. Vamos ver como é a variância de cada coluna antes da normalização:"
      ]
    },
    {
      "cell_type": "code",
      "metadata": {
        "scrolled": true,
        "id": "qVKwcHoS5FY_",
        "colab_type": "code",
        "colab": {}
      },
      "source": [
        "\"\"\"Variância de cada coluna do DataFrame. \"\"\"\n",
        "\n",
        "titanic.var().sort_values(ascending=False)"
      ],
      "execution_count": 0,
      "outputs": []
    },
    {
      "cell_type": "markdown",
      "metadata": {
        "nbgrader": {
          "checksum": "50a768a6db2a278a577b60679bffe540",
          "grade": false,
          "grade_id": "RO_pca_2",
          "locked": true,
          "schema_version": 1,
          "solution": false
        },
        "id": "hz8QXGJ05FZB",
        "colab_type": "text"
      },
      "source": [
        "Como a variância da coluna **Tarifa** é muito maior que as demais, o PCA irá preferir fazer a projeção dos pontos na direção de **Tarifa**. Portanto, realizar o PCA sem normalização pode trazer um resultado ruim."
      ]
    },
    {
      "cell_type": "markdown",
      "metadata": {
        "nbgrader": {
          "checksum": "91c02dedc40c59987403bc30f3e97b32",
          "grade": false,
          "grade_id": "cell-ca08065919b78c51",
          "locked": true,
          "schema_version": 1,
          "solution": false
        },
        "id": "a6gO6Wv45FZC",
        "colab_type": "text"
      },
      "source": [
        "Agora que reduzimos a dimensionalidade dos dados, podemos gerar uma visualização aproximada de como os pontos estão distribuídos no espaço, utilizando a função abaixo. A função **plot_scatter** recebe como parâmetro um DataFrame **data_pca** com 3 colunas, **PC1, PC2, target**. Você deve converter o numpy.ndarray obtido anteriormente em um DataFrame de mesma configuração para que possa utilizar a função e gerar o scatter plot."
      ]
    },
    {
      "cell_type": "code",
      "metadata": {
        "scrolled": false,
        "id": "idiV3JGy5FZC",
        "colab_type": "code",
        "colab": {}
      },
      "source": [
        "\"\"\"Scatter plot dos DataFrames normalizados, após redução de dimensionalidade com PCA. \"\"\"\n",
        "\n",
        "def plot_scatter(pca_data, target, title=''):\n",
        "    colors = ['red', 'blue']\n",
        "    for x, y in zip(pca_data, target):\n",
        "        plt.scatter(x[0], x[1], label=y, color=colors[y])\n",
        "    plt.title(title)\n",
        "    plt.xlabel('Component 1')\n",
        "    plt.ylabel('Component 2')\n",
        "    return plt.show()\n",
        "\n",
        "X = df_standard.values\n",
        "pca = PCA(n_components=2)\n",
        "data = pca.fit_transform(X)\n",
        "plot_scatter(data, target, title='Standard Normalization')\n",
        "\n",
        "X = df_minmax.values\n",
        "pca = PCA(n_components=2)\n",
        "data = pca.fit_transform(X)\n",
        "plot_scatter(data, target, title='Min-Max Normalization')\n",
        "\n",
        "X = titanic.values\n",
        "pca = PCA(n_components=2)\n",
        "data = pca.fit_transform(X)\n",
        "plot_scatter(data, target, title='Without Normalization')"
      ],
      "execution_count": 0,
      "outputs": []
    },
    {
      "cell_type": "markdown",
      "metadata": {
        "id": "mkLmYgcpQxJx",
        "colab_type": "text"
      },
      "source": [
        "### 2.3 - SVD  (Singular value decomposition)\n",
        "\n"
      ]
    },
    {
      "cell_type": "markdown",
      "metadata": {
        "id": "1ZNTqnGpRJfs",
        "colab_type": "text"
      },
      "source": [
        "**SVD** (Singular-value decomposition) é um método alternativo ao PCA para redução de dimensionalidade. Ao contrário do PCA, os dados não precisam ser necessariamente normalizados para obter bons resultados no SVD. Isso significa que ele trabalha bem com dados esparsos (onde atributos possuem muitos valores nulos/zeros). Com o parâmetro n_iter maior, SVD lida melhor com bases muito esparças. "
      ]
    },
    {
      "cell_type": "code",
      "metadata": {
        "id": "1D5QCFpyRa7q",
        "colab_type": "code",
        "colab": {}
      },
      "source": [
        "from sklearn.decomposition import TruncatedSVD\n",
        "\n",
        "X = df_standard.values\n",
        "svd = TruncatedSVD(n_components=2, n_iter=5)\n",
        "data = svd.fit_transform(X)\n",
        "plot_scatter(data, target, title='Standard Normalization')\n",
        "\n",
        "X = df_minmax.values\n",
        "svd = TruncatedSVD(n_components=2, n_iter=5)\n",
        "data = svd.fit_transform(X)\n",
        "plot_scatter(data, target, title='Min-Max Normalization')\n",
        "\n",
        "X = titanic.values\n",
        "svd = TruncatedSVD(n_components=2, n_iter=5)\n",
        "data = svd.fit_transform(X)\n",
        "plot_scatter(data, target, title='Without Normalization')"
      ],
      "execution_count": 0,
      "outputs": []
    },
    {
      "cell_type": "markdown",
      "metadata": {
        "id": "0Xxk18I25FZE",
        "colab_type": "text"
      },
      "source": [
        "### 2.2 - t-SNE  (t-distributed Stochastic Neighbor Embedding)"
      ]
    },
    {
      "cell_type": "markdown",
      "metadata": {
        "id": "-Acpikiy5FZF",
        "colab_type": "text"
      },
      "source": [
        "**t-SNE**(t-Distributed Stochastic Neighbor Embedding) é outra técnica para redução de dimensionalidade e é geralmente adequada para a visualização de conjuntos de dados de alta dimensão. Ao contrário do PCA, não é uma técnica matemática, mas sim uma técnica probabilística. \n",
        "\n",
        "Essa técnica minimiza a divergência entre as duas distribuições: uma distribuição que mede semelhanças entre pares dos objectos de entrada e uma distribuição que mede semelhanças emparelhados entre o correspondentes pontos de baixa dimensão na incorporação”. Essencialmente, o que isso significa é que ele analisa os dados originais inseridos no algoritmo e analisa a melhor forma de representar esses dados usando menos dimensões, combinando as duas distribuições. \n",
        "\n",
        "Pontos Importantes:\n",
        "\n",
        "* O t-SNE não retém distâncias, mas probabilidades. Portanto, medir algum erro entre as distâncias euclidianas em D alto e baixo D é inútil. Assim, a normalização dos dados não ajuda neste caso.\n",
        "\n",
        "* Computacionalmente falando, o t-SNE é pesado e, portanto, há algumas limitações (sérias) ao uso dessa técnica. Por exemplo, uma das recomendações é que, no caso de dados dimensionais muito altos, você pode precisar aplicar outra técnica de redução de dimensionalidade antes de usar o t-SNE:\n",
        "\n",
        "* Segundo o paper: \"É altamente recomendável usar outro método de redução dimensionalidade (por exemplo, PCA para dados densas ou TruncatedSVD para dados esparso) para reduzir o número de dimensões de uma quantidade razoável (por exemplo 50), se o número de features é muito elevado.\"\n",
        "\n",
        "* Como escolher o melhor valor para o parâmetro 'perplexity'? O desempenho do t-SNE é bastante robusto sob diferentes configurações da perplexidade. O valor mais apropriado depende da densidade dos seus dados. Pode-se dizer que um conjunto de dados maior/mais denso requer uma maior perplexidade. Valores típicos para a perplexidade variam entre 5 e 50.\n"
      ]
    },
    {
      "cell_type": "code",
      "metadata": {
        "scrolled": false,
        "id": "U1oJkCxp5FZF",
        "colab_type": "code",
        "colab": {}
      },
      "source": [
        "\"\"\"Scatter plots do DataFrame, após reduzir a dimensionalidade com t-SNE. \"\"\"\n",
        "\n",
        "from sklearn.manifold import TSNE\n",
        "X = titanic.values\n",
        "tsne = TSNE(n_components=2, verbose=1, perplexity=5, n_iter=300)\n",
        "data = tsne.fit_transform(X)\n",
        "plot_scatter(data, target, title='Scatter plot with t-SNE - Perplexity = 5')\n",
        "\n",
        "tsne = TSNE(n_components=2, verbose=1, perplexity=30, n_iter=300)\n",
        "data = tsne.fit_transform(X)\n",
        "plot_scatter(data, target, title='Scatter plot with t-SNE - Perplexity = 30')\n",
        "\n",
        "tsne = TSNE(n_components=2, verbose=1, perplexity=50, n_iter=300)\n",
        "data = tsne.fit_transform(X)\n",
        "plot_scatter(data, target, title='Scatter plot with t-SNE - Perplexity = 50')\n"
      ],
      "execution_count": 0,
      "outputs": []
    },
    {
      "cell_type": "markdown",
      "metadata": {
        "id": "ynKBCCv25FZI",
        "colab_type": "text"
      },
      "source": [
        "### 2.3 - Isomap"
      ]
    },
    {
      "cell_type": "markdown",
      "metadata": {
        "id": "vcYBBv5S5FZI",
        "colab_type": "text"
      },
      "source": [
        "O **Isomap (Isometric Feature Mapping)**, diferentemente da análise de componente principal, é um método de redução de característica não linear. O Isomap deve ser usado quando há um mapeamento não linear entre seus dados de dimensão mais alta e sua variedade de menor dimensão (por exemplo, dados em uma esfera).\n",
        "\n",
        "> Indented block\n",
        "\n",
        "\n",
        "Lembre-se de que, se seus dados não estiverem na mesma escala, pode ser necessário dimensionar antes dessa etapa."
      ]
    },
    {
      "cell_type": "code",
      "metadata": {
        "id": "tBDT3rZE5FZJ",
        "colab_type": "code",
        "colab": {}
      },
      "source": [
        "\"\"\"Scatter plots do DataFrame, após reduzir a dimensionalidade com Isomap. \"\"\"\n",
        "\n",
        "from sklearn.manifold import Isomap\n",
        "X = df_minmax.values\n",
        "isomap = Isomap(n_components=2)\n",
        "data = isomap.fit_transform(X)\n",
        "plot_scatter(data, target, title='Scatter plot with Isomap')"
      ],
      "execution_count": 0,
      "outputs": []
    },
    {
      "cell_type": "markdown",
      "metadata": {
        "nbgrader": {
          "checksum": "f0d8a6e6f1796dd2b93de6fdf2ab1045",
          "grade": false,
          "grade_id": "RO_title_pca",
          "locked": true,
          "schema_version": 1,
          "solution": false
        },
        "id": "41VdfdfQ5FZK",
        "colab_type": "text"
      },
      "source": [
        "##  Parte 3 - Feature Selection"
      ]
    },
    {
      "cell_type": "markdown",
      "metadata": {
        "id": "YrJFT3AC5FZL",
        "colab_type": "text"
      },
      "source": [
        "### 3.1 - Information Gain (Decision Tree)"
      ]
    },
    {
      "cell_type": "markdown",
      "metadata": {
        "id": "waLC6Vjl5FZL",
        "colab_type": "text"
      },
      "source": [
        ""
      ]
    },
    {
      "cell_type": "code",
      "metadata": {
        "id": "w_KEuF1H5FZM",
        "colab_type": "code",
        "colab": {}
      },
      "source": [
        "\"\"\"Utilizar árvore de decisão para selecionar fetures de acordo com o Information Gain.\"\"\"\n",
        "\n",
        "from sklearn.tree import DecisionTreeClassifier\n",
        "\n",
        "dtree = DecisionTreeClassifier(criterion='entropy')\n",
        "dtree.fit(titanic,target)\n",
        "print(dtree.feature_importances_)\n",
        "feat_importances = pd.Series(dtree.feature_importances_, index=titanic.columns)\n",
        "feat_importances.nlargest(10).plot(kind='barh')\n",
        "plt.show()"
      ],
      "execution_count": 0,
      "outputs": []
    },
    {
      "cell_type": "code",
      "metadata": {
        "id": "yhhjfwcd5FZO",
        "colab_type": "code",
        "colab": {}
      },
      "source": [
        "\"\"\"Scatter plot do Dataframe utilizando somente as principais features selecionadas.\"\"\"\n",
        "X = titanic[['Tarifa', 'Idade', 'Sexo', 'Classe']].values\n",
        "pca = PCA(n_components=2)\n",
        "data = pca.fit_transform(X)\n",
        "plot_scatter(data, target, title='Without Normalization')\n",
        "plt.show()"
      ],
      "execution_count": 0,
      "outputs": []
    },
    {
      "cell_type": "code",
      "metadata": {
        "id": "fl4rBmz55FZQ",
        "colab_type": "code",
        "colab": {}
      },
      "source": [
        "\"\"\"Utilizar árvore de decisão para selecionar fetures de acordo com o Information Gain, \n",
        "    mas agora a paritir do dataframe normalizado.\"\"\"\n",
        "\n",
        "from sklearn.tree import DecisionTreeClassifier\n",
        "\n",
        "dtree = DecisionTreeClassifier(criterion='entropy')\n",
        "dtree.fit(df_minmax,target)\n",
        "print(dtree.feature_importances_)\n",
        "\n",
        "feat_importances = pd.Series(dtree.feature_importances_, index=titanic.columns)\n",
        "feat_importances.nlargest(10).plot(kind='barh')\n",
        "plt.show()"
      ],
      "execution_count": 0,
      "outputs": []
    },
    {
      "cell_type": "code",
      "metadata": {
        "id": "GqhcXsbL5FZT",
        "colab_type": "code",
        "colab": {}
      },
      "source": [
        "\"\"\"Scatter plot do Dataframe utilizando somente as principais features selecionadas.\"\"\"\n",
        "X = df_minmax[['Tarifa', 'Idade', 'Sexo', 'Classe']].values\n",
        "pca = PCA(n_components=2)\n",
        "data = pca.fit_transform(X)\n",
        "plot_scatter(data, target, title='Min-Max Normalization')\n",
        "plt.show()"
      ],
      "execution_count": 0,
      "outputs": []
    },
    {
      "cell_type": "markdown",
      "metadata": {
        "id": "jPDrt9855FZW",
        "colab_type": "text"
      },
      "source": [
        "### 3.2 - Gini (Random Forest)"
      ]
    },
    {
      "cell_type": "code",
      "metadata": {
        "scrolled": false,
        "id": "O5dn_iXs5FZW",
        "colab_type": "code",
        "colab": {}
      },
      "source": [
        "\"\"\"Utilizar random forests para selecionar fetures de acordo com a Gini.\"\"\"\n",
        "\n",
        "from sklearn.ensemble import RandomForestClassifier\n",
        "\n",
        "clf = RandomForestClassifier(criterion='gini')\n",
        "clf.fit(df_minmax, target)\n",
        "print(clf.feature_importances_)\n",
        "feat_importances = pd.Series(clf.feature_importances_, index=titanic.columns)\n",
        "feat_importances.nlargest(10).plot(kind='barh')\n",
        "plt.show()\n",
        "\n",
        "\"\"\"Scatter plot do Dataframe utilizando somente as principais features selecionadas.\"\"\"\n",
        "X = df_minmax[['Tarifa', 'Idade', 'Sexo', 'Classe']].values\n",
        "pca = PCA(n_components=2)\n",
        "data = pca.fit_transform(X)\n",
        "plot_scatter(data, target, title='Min-Max Normalization')\n",
        "plt.show()"
      ],
      "execution_count": 0,
      "outputs": []
    },
    {
      "cell_type": "markdown",
      "metadata": {
        "id": "EzP6yv-dzD38",
        "colab_type": "text"
      },
      "source": [
        "# Amostragem"
      ]
    },
    {
      "cell_type": "markdown",
      "metadata": {
        "id": "K6FKIbuJ04wv",
        "colab_type": "text"
      },
      "source": [
        "Amostragem com e sem estratificação. Para o primeiro caso, basta utilizar a a função **sample** onde frac informa a fração das tuplas que queremos amostrar.\n",
        "Para o segundo caso, podemos utlizar uma combinação de groupby (que agrupará os dados de acordo com o atributo desejado) seguido de sample. A amostragem estratificada é interessante principalmente quando a classes são desbalanceadas."
      ]
    },
    {
      "cell_type": "code",
      "metadata": {
        "id": "9b-PXhnKzHKb",
        "colab_type": "code",
        "colab": {}
      },
      "source": [
        "#amostra nao estratificada\n",
        "amostra = titanic.sample(frac =.25) \n",
        "amostra.head()"
      ],
      "execution_count": 0,
      "outputs": []
    },
    {
      "cell_type": "code",
      "metadata": {
        "id": "IilsuioCzYsw",
        "colab_type": "code",
        "colab": {}
      },
      "source": [
        "#amostra estratificada \n",
        "amostra_estratificada = titanic.groupby('Sexo').apply(lambda x: x.sample(frac=0.25))\n",
        "amostra_estratificada.head()"
      ],
      "execution_count": 0,
      "outputs": []
    },
    {
      "cell_type": "markdown",
      "metadata": {
        "id": "sQVsQTQb2Zzz",
        "colab_type": "text"
      },
      "source": [
        "# Amostragem com agrupamento"
      ]
    },
    {
      "cell_type": "code",
      "metadata": {
        "id": "w6L6HJ120wH6",
        "colab_type": "code",
        "colab": {}
      },
      "source": [
        "from sklearn.cluster import KMeans\n",
        "\n",
        "kmeans = KMeans(n_clusters=2).fit(df_standard)\n",
        "centroids = kmeans.cluster_centers_\n",
        "print(centroids)"
      ],
      "execution_count": 0,
      "outputs": []
    },
    {
      "cell_type": "code",
      "metadata": {
        "id": "VfYj7qF22dJm",
        "colab_type": "code",
        "colab": {}
      },
      "source": [
        "plt.scatter(df_standard['Idade'], df_standard['Tarifa'], c= kmeans.labels_.astype(float), s=50, alpha=0.5)\n",
        "plt.scatter(centroids[:, 0], centroids[:, 1], c='red', s=50)\n",
        "plt.show()"
      ],
      "execution_count": 0,
      "outputs": []
    },
    {
      "cell_type": "code",
      "metadata": {
        "id": "mwfw2PVW22Pm",
        "colab_type": "code",
        "colab": {}
      },
      "source": [
        "df_standard['Agrupamento']= kmeans.labels_\n",
        "df_standard.head()"
      ],
      "execution_count": 0,
      "outputs": []
    },
    {
      "cell_type": "code",
      "metadata": {
        "id": "p7dfs4db3X8Q",
        "colab_type": "code",
        "colab": {}
      },
      "source": [
        "#representantes estratificados por agrupamento\n",
        "amostra_estratificada = df_standard.groupby('Agrupamento').apply(lambda x: x.sample(frac=0.25))\n",
        "amostra_estratificada.head()"
      ],
      "execution_count": 0,
      "outputs": []
    }
  ]
}