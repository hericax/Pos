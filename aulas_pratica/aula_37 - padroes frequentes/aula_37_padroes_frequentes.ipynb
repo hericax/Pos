{
  "nbformat": 4,
  "nbformat_minor": 0,
  "metadata": {
    "colab": {
      "name": "padroes-frequentes",
      "provenance": []
    },
    "kernelspec": {
      "name": "python3",
      "display_name": "Python 3"
    }
  },
  "cells": [
    {
      "cell_type": "markdown",
      "metadata": {
        "id": "Z5ZVGqhq8JVV",
        "colab_type": "text"
      },
      "source": [
        "# Padrões frequentes e regras de associação\n",
        "[Exemplo extraído](http://rasbt.github.io/mlxtend/user_guide/frequent_patterns/association_rules/)"
      ]
    },
    {
      "cell_type": "code",
      "metadata": {
        "id": "v7jf043ZwGH6",
        "colab_type": "code",
        "outputId": "549c1259-a291-4499-92f3-0b5e479f5255",
        "colab": {
          "base_uri": "https://localhost:8080/",
          "height": 630
        }
      },
      "source": [
        "! pip uninstall mlxtend\n",
        "! pip install git+https://github.com/rasbt/mlxtend.git\n"
      ],
      "execution_count": 0,
      "outputs": [
        {
          "output_type": "stream",
          "text": [
            "Uninstalling mlxtend-0.14.0:\n",
            "  Would remove:\n",
            "    /usr/local/lib/python3.6/dist-packages/mlxtend-0.14.0.dist-info/*\n",
            "    /usr/local/lib/python3.6/dist-packages/mlxtend/*\n",
            "Proceed (y/n)? y\n",
            "  Successfully uninstalled mlxtend-0.14.0\n",
            "Collecting git+https://github.com/rasbt/mlxtend.git\n",
            "  Cloning https://github.com/rasbt/mlxtend.git to /tmp/pip-req-build-t0cnh60e\n",
            "  Running command git clone -q https://github.com/rasbt/mlxtend.git /tmp/pip-req-build-t0cnh60e\n",
            "Requirement already satisfied: scipy>=1.2.1 in /usr/local/lib/python3.6/dist-packages (from mlxtend==0.18.0.dev0) (1.4.1)\n",
            "Requirement already satisfied: numpy>=1.16.2 in /usr/local/lib/python3.6/dist-packages (from mlxtend==0.18.0.dev0) (1.18.4)\n",
            "Requirement already satisfied: pandas>=0.24.2 in /usr/local/lib/python3.6/dist-packages (from mlxtend==0.18.0.dev0) (1.0.3)\n",
            "Requirement already satisfied: scikit-learn>=0.20.3 in /usr/local/lib/python3.6/dist-packages (from mlxtend==0.18.0.dev0) (0.22.2.post1)\n",
            "Requirement already satisfied: matplotlib>=3.0.0 in /usr/local/lib/python3.6/dist-packages (from mlxtend==0.18.0.dev0) (3.2.1)\n",
            "Requirement already satisfied: joblib>=0.13.2 in /usr/local/lib/python3.6/dist-packages (from mlxtend==0.18.0.dev0) (0.15.1)\n",
            "Requirement already satisfied: setuptools in /usr/local/lib/python3.6/dist-packages (from mlxtend==0.18.0.dev0) (46.3.0)\n",
            "Requirement already satisfied: pytz>=2017.2 in /usr/local/lib/python3.6/dist-packages (from pandas>=0.24.2->mlxtend==0.18.0.dev0) (2018.9)\n",
            "Requirement already satisfied: python-dateutil>=2.6.1 in /usr/local/lib/python3.6/dist-packages (from pandas>=0.24.2->mlxtend==0.18.0.dev0) (2.8.1)\n",
            "Requirement already satisfied: kiwisolver>=1.0.1 in /usr/local/lib/python3.6/dist-packages (from matplotlib>=3.0.0->mlxtend==0.18.0.dev0) (1.2.0)\n",
            "Requirement already satisfied: cycler>=0.10 in /usr/local/lib/python3.6/dist-packages (from matplotlib>=3.0.0->mlxtend==0.18.0.dev0) (0.10.0)\n",
            "Requirement already satisfied: pyparsing!=2.0.4,!=2.1.2,!=2.1.6,>=2.0.1 in /usr/local/lib/python3.6/dist-packages (from matplotlib>=3.0.0->mlxtend==0.18.0.dev0) (2.4.7)\n",
            "Requirement already satisfied: six>=1.5 in /usr/local/lib/python3.6/dist-packages (from python-dateutil>=2.6.1->pandas>=0.24.2->mlxtend==0.18.0.dev0) (1.12.0)\n",
            "Building wheels for collected packages: mlxtend\n",
            "  Building wheel for mlxtend (setup.py) ... \u001b[?25l\u001b[?25hdone\n",
            "  Created wheel for mlxtend: filename=mlxtend-0.18.0.dev0-py2.py3-none-any.whl size=1580752 sha256=16d6ac98d2d06601637fd8e91122c6a174418264a721eed8989909610bf4b2b7\n",
            "  Stored in directory: /tmp/pip-ephem-wheel-cache-2ulmc4ey/wheels/ea/3f/f8/8facd558a8038cf0ea77a28cd1ede5de977b9d9e1e9367f9de\n",
            "Successfully built mlxtend\n",
            "Installing collected packages: mlxtend\n",
            "Successfully installed mlxtend-0.18.0.dev0\n"
          ],
          "name": "stdout"
        },
        {
          "output_type": "display_data",
          "data": {
            "application/vnd.colab-display-data+json": {
              "pip_warning": {
                "packages": [
                  "mlxtend"
                ]
              }
            }
          },
          "metadata": {
            "tags": []
          }
        }
      ]
    },
    {
      "cell_type": "code",
      "metadata": {
        "id": "9PMxw42o8jvN",
        "colab_type": "code",
        "outputId": "b3a7df68-fc80-410f-f3b0-c576769b8439",
        "colab": {
          "base_uri": "https://localhost:8080/",
          "height": 204
        }
      },
      "source": [
        "import pandas as pd\n",
        "from mlxtend.preprocessing import TransactionEncoder\n",
        "from mlxtend.frequent_patterns import apriori\n",
        "\n",
        "\n",
        "dataset = [['Milk', 'Onion', 'Nutmeg', 'Kidney Beans', 'Eggs', 'Yogurt'],\n",
        "           ['Dill', 'Onion', 'Nutmeg', 'Kidney Beans', 'Eggs', 'Yogurt'],\n",
        "           ['Milk', 'Apple', 'Kidney Beans', 'Eggs'],\n",
        "           ['Milk', 'Unicorn', 'Corn', 'Kidney Beans', 'Yogurt'],\n",
        "           ['Corn', 'Onion', 'Onion', 'Kidney Beans', 'Ice cream', 'Eggs']]\n",
        "\n",
        "te = TransactionEncoder()\n",
        "te_ary = te.fit(dataset).transform(dataset)\n",
        "df = pd.DataFrame(te_ary, columns=te.columns_)\n",
        "\n",
        "df\n"
      ],
      "execution_count": 0,
      "outputs": [
        {
          "output_type": "execute_result",
          "data": {
            "text/html": [
              "<div>\n",
              "<style scoped>\n",
              "    .dataframe tbody tr th:only-of-type {\n",
              "        vertical-align: middle;\n",
              "    }\n",
              "\n",
              "    .dataframe tbody tr th {\n",
              "        vertical-align: top;\n",
              "    }\n",
              "\n",
              "    .dataframe thead th {\n",
              "        text-align: right;\n",
              "    }\n",
              "</style>\n",
              "<table border=\"1\" class=\"dataframe\">\n",
              "  <thead>\n",
              "    <tr style=\"text-align: right;\">\n",
              "      <th></th>\n",
              "      <th>Apple</th>\n",
              "      <th>Corn</th>\n",
              "      <th>Dill</th>\n",
              "      <th>Eggs</th>\n",
              "      <th>Ice cream</th>\n",
              "      <th>Kidney Beans</th>\n",
              "      <th>Milk</th>\n",
              "      <th>Nutmeg</th>\n",
              "      <th>Onion</th>\n",
              "      <th>Unicorn</th>\n",
              "      <th>Yogurt</th>\n",
              "    </tr>\n",
              "  </thead>\n",
              "  <tbody>\n",
              "    <tr>\n",
              "      <th>0</th>\n",
              "      <td>False</td>\n",
              "      <td>False</td>\n",
              "      <td>False</td>\n",
              "      <td>True</td>\n",
              "      <td>False</td>\n",
              "      <td>True</td>\n",
              "      <td>True</td>\n",
              "      <td>True</td>\n",
              "      <td>True</td>\n",
              "      <td>False</td>\n",
              "      <td>True</td>\n",
              "    </tr>\n",
              "    <tr>\n",
              "      <th>1</th>\n",
              "      <td>False</td>\n",
              "      <td>False</td>\n",
              "      <td>True</td>\n",
              "      <td>True</td>\n",
              "      <td>False</td>\n",
              "      <td>True</td>\n",
              "      <td>False</td>\n",
              "      <td>True</td>\n",
              "      <td>True</td>\n",
              "      <td>False</td>\n",
              "      <td>True</td>\n",
              "    </tr>\n",
              "    <tr>\n",
              "      <th>2</th>\n",
              "      <td>True</td>\n",
              "      <td>False</td>\n",
              "      <td>False</td>\n",
              "      <td>True</td>\n",
              "      <td>False</td>\n",
              "      <td>True</td>\n",
              "      <td>True</td>\n",
              "      <td>False</td>\n",
              "      <td>False</td>\n",
              "      <td>False</td>\n",
              "      <td>False</td>\n",
              "    </tr>\n",
              "    <tr>\n",
              "      <th>3</th>\n",
              "      <td>False</td>\n",
              "      <td>True</td>\n",
              "      <td>False</td>\n",
              "      <td>False</td>\n",
              "      <td>False</td>\n",
              "      <td>True</td>\n",
              "      <td>True</td>\n",
              "      <td>False</td>\n",
              "      <td>False</td>\n",
              "      <td>True</td>\n",
              "      <td>True</td>\n",
              "    </tr>\n",
              "    <tr>\n",
              "      <th>4</th>\n",
              "      <td>False</td>\n",
              "      <td>True</td>\n",
              "      <td>False</td>\n",
              "      <td>True</td>\n",
              "      <td>True</td>\n",
              "      <td>True</td>\n",
              "      <td>False</td>\n",
              "      <td>False</td>\n",
              "      <td>True</td>\n",
              "      <td>False</td>\n",
              "      <td>False</td>\n",
              "    </tr>\n",
              "  </tbody>\n",
              "</table>\n",
              "</div>"
            ],
            "text/plain": [
              "   Apple   Corn   Dill   Eggs  Ice cream  ...   Milk  Nutmeg  Onion  Unicorn  Yogurt\n",
              "0  False  False  False   True      False  ...   True    True   True    False    True\n",
              "1  False  False   True   True      False  ...  False    True   True    False    True\n",
              "2   True  False  False   True      False  ...   True   False  False    False   False\n",
              "3  False   True  False  False      False  ...   True   False  False     True    True\n",
              "4  False   True  False   True       True  ...  False   False   True    False   False\n",
              "\n",
              "[5 rows x 11 columns]"
            ]
          },
          "metadata": {
            "tags": []
          },
          "execution_count": 35
        }
      ]
    },
    {
      "cell_type": "code",
      "metadata": {
        "id": "Ms1Nh6qgSLki",
        "colab_type": "code",
        "outputId": "e8d8fba0-d317-4a74-da23-40dfcf09538b",
        "colab": {
          "base_uri": "https://localhost:8080/",
          "height": 390
        }
      },
      "source": [
        "frequent_itemsets = apriori(df, min_support=0.6, use_colnames=True)\n",
        "\n",
        "frequent_itemsets"
      ],
      "execution_count": 0,
      "outputs": [
        {
          "output_type": "execute_result",
          "data": {
            "text/html": [
              "<div>\n",
              "<style scoped>\n",
              "    .dataframe tbody tr th:only-of-type {\n",
              "        vertical-align: middle;\n",
              "    }\n",
              "\n",
              "    .dataframe tbody tr th {\n",
              "        vertical-align: top;\n",
              "    }\n",
              "\n",
              "    .dataframe thead th {\n",
              "        text-align: right;\n",
              "    }\n",
              "</style>\n",
              "<table border=\"1\" class=\"dataframe\">\n",
              "  <thead>\n",
              "    <tr style=\"text-align: right;\">\n",
              "      <th></th>\n",
              "      <th>support</th>\n",
              "      <th>itemsets</th>\n",
              "    </tr>\n",
              "  </thead>\n",
              "  <tbody>\n",
              "    <tr>\n",
              "      <th>0</th>\n",
              "      <td>0.8</td>\n",
              "      <td>(Eggs)</td>\n",
              "    </tr>\n",
              "    <tr>\n",
              "      <th>1</th>\n",
              "      <td>1.0</td>\n",
              "      <td>(Kidney Beans)</td>\n",
              "    </tr>\n",
              "    <tr>\n",
              "      <th>2</th>\n",
              "      <td>0.6</td>\n",
              "      <td>(Milk)</td>\n",
              "    </tr>\n",
              "    <tr>\n",
              "      <th>3</th>\n",
              "      <td>0.6</td>\n",
              "      <td>(Onion)</td>\n",
              "    </tr>\n",
              "    <tr>\n",
              "      <th>4</th>\n",
              "      <td>0.6</td>\n",
              "      <td>(Yogurt)</td>\n",
              "    </tr>\n",
              "    <tr>\n",
              "      <th>5</th>\n",
              "      <td>0.8</td>\n",
              "      <td>(Kidney Beans, Eggs)</td>\n",
              "    </tr>\n",
              "    <tr>\n",
              "      <th>6</th>\n",
              "      <td>0.6</td>\n",
              "      <td>(Onion, Eggs)</td>\n",
              "    </tr>\n",
              "    <tr>\n",
              "      <th>7</th>\n",
              "      <td>0.6</td>\n",
              "      <td>(Kidney Beans, Milk)</td>\n",
              "    </tr>\n",
              "    <tr>\n",
              "      <th>8</th>\n",
              "      <td>0.6</td>\n",
              "      <td>(Onion, Kidney Beans)</td>\n",
              "    </tr>\n",
              "    <tr>\n",
              "      <th>9</th>\n",
              "      <td>0.6</td>\n",
              "      <td>(Kidney Beans, Yogurt)</td>\n",
              "    </tr>\n",
              "    <tr>\n",
              "      <th>10</th>\n",
              "      <td>0.6</td>\n",
              "      <td>(Onion, Kidney Beans, Eggs)</td>\n",
              "    </tr>\n",
              "  </tbody>\n",
              "</table>\n",
              "</div>"
            ],
            "text/plain": [
              "    support                     itemsets\n",
              "0       0.8                       (Eggs)\n",
              "1       1.0               (Kidney Beans)\n",
              "2       0.6                       (Milk)\n",
              "3       0.6                      (Onion)\n",
              "4       0.6                     (Yogurt)\n",
              "5       0.8         (Kidney Beans, Eggs)\n",
              "6       0.6                (Onion, Eggs)\n",
              "7       0.6         (Kidney Beans, Milk)\n",
              "8       0.6        (Onion, Kidney Beans)\n",
              "9       0.6       (Kidney Beans, Yogurt)\n",
              "10      0.6  (Onion, Kidney Beans, Eggs)"
            ]
          },
          "metadata": {
            "tags": []
          },
          "execution_count": 36
        }
      ]
    },
    {
      "cell_type": "code",
      "metadata": {
        "id": "dXex9mMEvo6z",
        "colab_type": "code",
        "outputId": "ebec8193-5d18-4814-cde3-4fe964b0d34f",
        "colab": {
          "base_uri": "https://localhost:8080/",
          "height": 142
        }
      },
      "source": [
        "from mlxtend.frequent_patterns import fpmax\n",
        "max_itemsets = fpmax(df, min_support=0.6, use_colnames=True)\n",
        "\n",
        "max_itemsets"
      ],
      "execution_count": 0,
      "outputs": [
        {
          "output_type": "execute_result",
          "data": {
            "text/html": [
              "<div>\n",
              "<style scoped>\n",
              "    .dataframe tbody tr th:only-of-type {\n",
              "        vertical-align: middle;\n",
              "    }\n",
              "\n",
              "    .dataframe tbody tr th {\n",
              "        vertical-align: top;\n",
              "    }\n",
              "\n",
              "    .dataframe thead th {\n",
              "        text-align: right;\n",
              "    }\n",
              "</style>\n",
              "<table border=\"1\" class=\"dataframe\">\n",
              "  <thead>\n",
              "    <tr style=\"text-align: right;\">\n",
              "      <th></th>\n",
              "      <th>support</th>\n",
              "      <th>itemsets</th>\n",
              "    </tr>\n",
              "  </thead>\n",
              "  <tbody>\n",
              "    <tr>\n",
              "      <th>0</th>\n",
              "      <td>0.6</td>\n",
              "      <td>(Kidney Beans, Milk)</td>\n",
              "    </tr>\n",
              "    <tr>\n",
              "      <th>1</th>\n",
              "      <td>0.6</td>\n",
              "      <td>(Onion, Kidney Beans, Eggs)</td>\n",
              "    </tr>\n",
              "    <tr>\n",
              "      <th>2</th>\n",
              "      <td>0.6</td>\n",
              "      <td>(Kidney Beans, Yogurt)</td>\n",
              "    </tr>\n",
              "  </tbody>\n",
              "</table>\n",
              "</div>"
            ],
            "text/plain": [
              "   support                     itemsets\n",
              "0      0.6         (Kidney Beans, Milk)\n",
              "1      0.6  (Onion, Kidney Beans, Eggs)\n",
              "2      0.6       (Kidney Beans, Yogurt)"
            ]
          },
          "metadata": {
            "tags": []
          },
          "execution_count": 2
        }
      ]
    },
    {
      "cell_type": "markdown",
      "metadata": {
        "id": "J9aryRvfvjft",
        "colab_type": "text"
      },
      "source": [
        "## Regras de associação\n"
      ]
    },
    {
      "cell_type": "code",
      "metadata": {
        "id": "Sq4OalT27zlI",
        "colab_type": "code",
        "outputId": "22f9668c-5fd9-4df3-9adf-09b46a4c28af",
        "colab": {
          "base_uri": "https://localhost:8080/",
          "height": 421
        }
      },
      "source": [
        "from mlxtend.frequent_patterns import association_rules\n",
        "\n",
        "rules = association_rules(frequent_itemsets, metric=\"confidence\", min_threshold=0.7)\n",
        "\n",
        "rules"
      ],
      "execution_count": 0,
      "outputs": [
        {
          "output_type": "execute_result",
          "data": {
            "text/html": [
              "<div>\n",
              "<style scoped>\n",
              "    .dataframe tbody tr th:only-of-type {\n",
              "        vertical-align: middle;\n",
              "    }\n",
              "\n",
              "    .dataframe tbody tr th {\n",
              "        vertical-align: top;\n",
              "    }\n",
              "\n",
              "    .dataframe thead th {\n",
              "        text-align: right;\n",
              "    }\n",
              "</style>\n",
              "<table border=\"1\" class=\"dataframe\">\n",
              "  <thead>\n",
              "    <tr style=\"text-align: right;\">\n",
              "      <th></th>\n",
              "      <th>antecedents</th>\n",
              "      <th>consequents</th>\n",
              "      <th>antecedent support</th>\n",
              "      <th>consequent support</th>\n",
              "      <th>support</th>\n",
              "      <th>confidence</th>\n",
              "      <th>lift</th>\n",
              "      <th>leverage</th>\n",
              "      <th>conviction</th>\n",
              "    </tr>\n",
              "  </thead>\n",
              "  <tbody>\n",
              "    <tr>\n",
              "      <th>0</th>\n",
              "      <td>(Kidney Beans)</td>\n",
              "      <td>(Eggs)</td>\n",
              "      <td>1.0</td>\n",
              "      <td>0.8</td>\n",
              "      <td>0.8</td>\n",
              "      <td>0.80</td>\n",
              "      <td>1.00</td>\n",
              "      <td>0.00</td>\n",
              "      <td>1.0</td>\n",
              "    </tr>\n",
              "    <tr>\n",
              "      <th>1</th>\n",
              "      <td>(Eggs)</td>\n",
              "      <td>(Kidney Beans)</td>\n",
              "      <td>0.8</td>\n",
              "      <td>1.0</td>\n",
              "      <td>0.8</td>\n",
              "      <td>1.00</td>\n",
              "      <td>1.00</td>\n",
              "      <td>0.00</td>\n",
              "      <td>inf</td>\n",
              "    </tr>\n",
              "    <tr>\n",
              "      <th>2</th>\n",
              "      <td>(Onion)</td>\n",
              "      <td>(Eggs)</td>\n",
              "      <td>0.6</td>\n",
              "      <td>0.8</td>\n",
              "      <td>0.6</td>\n",
              "      <td>1.00</td>\n",
              "      <td>1.25</td>\n",
              "      <td>0.12</td>\n",
              "      <td>inf</td>\n",
              "    </tr>\n",
              "    <tr>\n",
              "      <th>3</th>\n",
              "      <td>(Eggs)</td>\n",
              "      <td>(Onion)</td>\n",
              "      <td>0.8</td>\n",
              "      <td>0.6</td>\n",
              "      <td>0.6</td>\n",
              "      <td>0.75</td>\n",
              "      <td>1.25</td>\n",
              "      <td>0.12</td>\n",
              "      <td>1.6</td>\n",
              "    </tr>\n",
              "    <tr>\n",
              "      <th>4</th>\n",
              "      <td>(Milk)</td>\n",
              "      <td>(Kidney Beans)</td>\n",
              "      <td>0.6</td>\n",
              "      <td>1.0</td>\n",
              "      <td>0.6</td>\n",
              "      <td>1.00</td>\n",
              "      <td>1.00</td>\n",
              "      <td>0.00</td>\n",
              "      <td>inf</td>\n",
              "    </tr>\n",
              "    <tr>\n",
              "      <th>5</th>\n",
              "      <td>(Onion)</td>\n",
              "      <td>(Kidney Beans)</td>\n",
              "      <td>0.6</td>\n",
              "      <td>1.0</td>\n",
              "      <td>0.6</td>\n",
              "      <td>1.00</td>\n",
              "      <td>1.00</td>\n",
              "      <td>0.00</td>\n",
              "      <td>inf</td>\n",
              "    </tr>\n",
              "    <tr>\n",
              "      <th>6</th>\n",
              "      <td>(Yogurt)</td>\n",
              "      <td>(Kidney Beans)</td>\n",
              "      <td>0.6</td>\n",
              "      <td>1.0</td>\n",
              "      <td>0.6</td>\n",
              "      <td>1.00</td>\n",
              "      <td>1.00</td>\n",
              "      <td>0.00</td>\n",
              "      <td>inf</td>\n",
              "    </tr>\n",
              "    <tr>\n",
              "      <th>7</th>\n",
              "      <td>(Onion, Kidney Beans)</td>\n",
              "      <td>(Eggs)</td>\n",
              "      <td>0.6</td>\n",
              "      <td>0.8</td>\n",
              "      <td>0.6</td>\n",
              "      <td>1.00</td>\n",
              "      <td>1.25</td>\n",
              "      <td>0.12</td>\n",
              "      <td>inf</td>\n",
              "    </tr>\n",
              "    <tr>\n",
              "      <th>8</th>\n",
              "      <td>(Onion, Eggs)</td>\n",
              "      <td>(Kidney Beans)</td>\n",
              "      <td>0.6</td>\n",
              "      <td>1.0</td>\n",
              "      <td>0.6</td>\n",
              "      <td>1.00</td>\n",
              "      <td>1.00</td>\n",
              "      <td>0.00</td>\n",
              "      <td>inf</td>\n",
              "    </tr>\n",
              "    <tr>\n",
              "      <th>9</th>\n",
              "      <td>(Kidney Beans, Eggs)</td>\n",
              "      <td>(Onion)</td>\n",
              "      <td>0.8</td>\n",
              "      <td>0.6</td>\n",
              "      <td>0.6</td>\n",
              "      <td>0.75</td>\n",
              "      <td>1.25</td>\n",
              "      <td>0.12</td>\n",
              "      <td>1.6</td>\n",
              "    </tr>\n",
              "    <tr>\n",
              "      <th>10</th>\n",
              "      <td>(Onion)</td>\n",
              "      <td>(Kidney Beans, Eggs)</td>\n",
              "      <td>0.6</td>\n",
              "      <td>0.8</td>\n",
              "      <td>0.6</td>\n",
              "      <td>1.00</td>\n",
              "      <td>1.25</td>\n",
              "      <td>0.12</td>\n",
              "      <td>inf</td>\n",
              "    </tr>\n",
              "    <tr>\n",
              "      <th>11</th>\n",
              "      <td>(Eggs)</td>\n",
              "      <td>(Onion, Kidney Beans)</td>\n",
              "      <td>0.8</td>\n",
              "      <td>0.6</td>\n",
              "      <td>0.6</td>\n",
              "      <td>0.75</td>\n",
              "      <td>1.25</td>\n",
              "      <td>0.12</td>\n",
              "      <td>1.6</td>\n",
              "    </tr>\n",
              "  </tbody>\n",
              "</table>\n",
              "</div>"
            ],
            "text/plain": [
              "              antecedents            consequents  ...  leverage  conviction\n",
              "0          (Kidney Beans)                 (Eggs)  ...      0.00         1.0\n",
              "1                  (Eggs)         (Kidney Beans)  ...      0.00         inf\n",
              "2                 (Onion)                 (Eggs)  ...      0.12         inf\n",
              "3                  (Eggs)                (Onion)  ...      0.12         1.6\n",
              "4                  (Milk)         (Kidney Beans)  ...      0.00         inf\n",
              "5                 (Onion)         (Kidney Beans)  ...      0.00         inf\n",
              "6                (Yogurt)         (Kidney Beans)  ...      0.00         inf\n",
              "7   (Onion, Kidney Beans)                 (Eggs)  ...      0.12         inf\n",
              "8           (Onion, Eggs)         (Kidney Beans)  ...      0.00         inf\n",
              "9    (Kidney Beans, Eggs)                (Onion)  ...      0.12         1.6\n",
              "10                (Onion)   (Kidney Beans, Eggs)  ...      0.12         inf\n",
              "11                 (Eggs)  (Onion, Kidney Beans)  ...      0.12         1.6\n",
              "\n",
              "[12 rows x 9 columns]"
            ]
          },
          "metadata": {
            "tags": []
          },
          "execution_count": 14
        }
      ]
    },
    {
      "cell_type": "code",
      "metadata": {
        "id": "754EM9vx7hzT",
        "colab_type": "code",
        "outputId": "d92c4713-909d-491b-f6dd-78d93df6b928",
        "colab": {
          "base_uri": "https://localhost:8080/",
          "height": 235
        }
      },
      "source": [
        "rules = association_rules(frequent_itemsets, metric=\"lift\", min_threshold=1.2)\n",
        "rules"
      ],
      "execution_count": 0,
      "outputs": [
        {
          "output_type": "execute_result",
          "data": {
            "text/html": [
              "<div>\n",
              "<style scoped>\n",
              "    .dataframe tbody tr th:only-of-type {\n",
              "        vertical-align: middle;\n",
              "    }\n",
              "\n",
              "    .dataframe tbody tr th {\n",
              "        vertical-align: top;\n",
              "    }\n",
              "\n",
              "    .dataframe thead th {\n",
              "        text-align: right;\n",
              "    }\n",
              "</style>\n",
              "<table border=\"1\" class=\"dataframe\">\n",
              "  <thead>\n",
              "    <tr style=\"text-align: right;\">\n",
              "      <th></th>\n",
              "      <th>antecedents</th>\n",
              "      <th>consequents</th>\n",
              "      <th>antecedent support</th>\n",
              "      <th>consequent support</th>\n",
              "      <th>support</th>\n",
              "      <th>confidence</th>\n",
              "      <th>lift</th>\n",
              "      <th>leverage</th>\n",
              "      <th>conviction</th>\n",
              "    </tr>\n",
              "  </thead>\n",
              "  <tbody>\n",
              "    <tr>\n",
              "      <th>0</th>\n",
              "      <td>(Onion)</td>\n",
              "      <td>(Eggs)</td>\n",
              "      <td>0.6</td>\n",
              "      <td>0.8</td>\n",
              "      <td>0.6</td>\n",
              "      <td>1.00</td>\n",
              "      <td>1.25</td>\n",
              "      <td>0.12</td>\n",
              "      <td>inf</td>\n",
              "    </tr>\n",
              "    <tr>\n",
              "      <th>1</th>\n",
              "      <td>(Eggs)</td>\n",
              "      <td>(Onion)</td>\n",
              "      <td>0.8</td>\n",
              "      <td>0.6</td>\n",
              "      <td>0.6</td>\n",
              "      <td>0.75</td>\n",
              "      <td>1.25</td>\n",
              "      <td>0.12</td>\n",
              "      <td>1.6</td>\n",
              "    </tr>\n",
              "    <tr>\n",
              "      <th>2</th>\n",
              "      <td>(Onion, Kidney Beans)</td>\n",
              "      <td>(Eggs)</td>\n",
              "      <td>0.6</td>\n",
              "      <td>0.8</td>\n",
              "      <td>0.6</td>\n",
              "      <td>1.00</td>\n",
              "      <td>1.25</td>\n",
              "      <td>0.12</td>\n",
              "      <td>inf</td>\n",
              "    </tr>\n",
              "    <tr>\n",
              "      <th>3</th>\n",
              "      <td>(Kidney Beans, Eggs)</td>\n",
              "      <td>(Onion)</td>\n",
              "      <td>0.8</td>\n",
              "      <td>0.6</td>\n",
              "      <td>0.6</td>\n",
              "      <td>0.75</td>\n",
              "      <td>1.25</td>\n",
              "      <td>0.12</td>\n",
              "      <td>1.6</td>\n",
              "    </tr>\n",
              "    <tr>\n",
              "      <th>4</th>\n",
              "      <td>(Onion)</td>\n",
              "      <td>(Kidney Beans, Eggs)</td>\n",
              "      <td>0.6</td>\n",
              "      <td>0.8</td>\n",
              "      <td>0.6</td>\n",
              "      <td>1.00</td>\n",
              "      <td>1.25</td>\n",
              "      <td>0.12</td>\n",
              "      <td>inf</td>\n",
              "    </tr>\n",
              "    <tr>\n",
              "      <th>5</th>\n",
              "      <td>(Eggs)</td>\n",
              "      <td>(Onion, Kidney Beans)</td>\n",
              "      <td>0.8</td>\n",
              "      <td>0.6</td>\n",
              "      <td>0.6</td>\n",
              "      <td>0.75</td>\n",
              "      <td>1.25</td>\n",
              "      <td>0.12</td>\n",
              "      <td>1.6</td>\n",
              "    </tr>\n",
              "  </tbody>\n",
              "</table>\n",
              "</div>"
            ],
            "text/plain": [
              "             antecedents            consequents  ...  leverage  conviction\n",
              "0                (Onion)                 (Eggs)  ...      0.12         inf\n",
              "1                 (Eggs)                (Onion)  ...      0.12         1.6\n",
              "2  (Onion, Kidney Beans)                 (Eggs)  ...      0.12         inf\n",
              "3   (Kidney Beans, Eggs)                (Onion)  ...      0.12         1.6\n",
              "4                (Onion)   (Kidney Beans, Eggs)  ...      0.12         inf\n",
              "5                 (Eggs)  (Onion, Kidney Beans)  ...      0.12         1.6\n",
              "\n",
              "[6 rows x 9 columns]"
            ]
          },
          "metadata": {
            "tags": []
          },
          "execution_count": 4
        }
      ]
    },
    {
      "cell_type": "code",
      "metadata": {
        "id": "lbj0eHt87rNI",
        "colab_type": "code",
        "outputId": "7ea9c3b8-8aa6-4d0a-a279-67e0bd8722fb",
        "colab": {
          "base_uri": "https://localhost:8080/",
          "height": 235
        }
      },
      "source": [
        "rules[\"antecedent_len\"] = rules[\"antecedents\"].apply(lambda x: len(x))\n",
        "rules"
      ],
      "execution_count": 0,
      "outputs": [
        {
          "output_type": "execute_result",
          "data": {
            "text/html": [
              "<div>\n",
              "<style scoped>\n",
              "    .dataframe tbody tr th:only-of-type {\n",
              "        vertical-align: middle;\n",
              "    }\n",
              "\n",
              "    .dataframe tbody tr th {\n",
              "        vertical-align: top;\n",
              "    }\n",
              "\n",
              "    .dataframe thead th {\n",
              "        text-align: right;\n",
              "    }\n",
              "</style>\n",
              "<table border=\"1\" class=\"dataframe\">\n",
              "  <thead>\n",
              "    <tr style=\"text-align: right;\">\n",
              "      <th></th>\n",
              "      <th>antecedents</th>\n",
              "      <th>consequents</th>\n",
              "      <th>antecedent support</th>\n",
              "      <th>consequent support</th>\n",
              "      <th>support</th>\n",
              "      <th>confidence</th>\n",
              "      <th>lift</th>\n",
              "      <th>leverage</th>\n",
              "      <th>conviction</th>\n",
              "      <th>antecedent_len</th>\n",
              "    </tr>\n",
              "  </thead>\n",
              "  <tbody>\n",
              "    <tr>\n",
              "      <th>0</th>\n",
              "      <td>(Onion)</td>\n",
              "      <td>(Eggs)</td>\n",
              "      <td>0.6</td>\n",
              "      <td>0.8</td>\n",
              "      <td>0.6</td>\n",
              "      <td>1.00</td>\n",
              "      <td>1.25</td>\n",
              "      <td>0.12</td>\n",
              "      <td>inf</td>\n",
              "      <td>1</td>\n",
              "    </tr>\n",
              "    <tr>\n",
              "      <th>1</th>\n",
              "      <td>(Eggs)</td>\n",
              "      <td>(Onion)</td>\n",
              "      <td>0.8</td>\n",
              "      <td>0.6</td>\n",
              "      <td>0.6</td>\n",
              "      <td>0.75</td>\n",
              "      <td>1.25</td>\n",
              "      <td>0.12</td>\n",
              "      <td>1.6</td>\n",
              "      <td>1</td>\n",
              "    </tr>\n",
              "    <tr>\n",
              "      <th>2</th>\n",
              "      <td>(Onion, Kidney Beans)</td>\n",
              "      <td>(Eggs)</td>\n",
              "      <td>0.6</td>\n",
              "      <td>0.8</td>\n",
              "      <td>0.6</td>\n",
              "      <td>1.00</td>\n",
              "      <td>1.25</td>\n",
              "      <td>0.12</td>\n",
              "      <td>inf</td>\n",
              "      <td>2</td>\n",
              "    </tr>\n",
              "    <tr>\n",
              "      <th>3</th>\n",
              "      <td>(Kidney Beans, Eggs)</td>\n",
              "      <td>(Onion)</td>\n",
              "      <td>0.8</td>\n",
              "      <td>0.6</td>\n",
              "      <td>0.6</td>\n",
              "      <td>0.75</td>\n",
              "      <td>1.25</td>\n",
              "      <td>0.12</td>\n",
              "      <td>1.6</td>\n",
              "      <td>2</td>\n",
              "    </tr>\n",
              "    <tr>\n",
              "      <th>4</th>\n",
              "      <td>(Onion)</td>\n",
              "      <td>(Kidney Beans, Eggs)</td>\n",
              "      <td>0.6</td>\n",
              "      <td>0.8</td>\n",
              "      <td>0.6</td>\n",
              "      <td>1.00</td>\n",
              "      <td>1.25</td>\n",
              "      <td>0.12</td>\n",
              "      <td>inf</td>\n",
              "      <td>1</td>\n",
              "    </tr>\n",
              "    <tr>\n",
              "      <th>5</th>\n",
              "      <td>(Eggs)</td>\n",
              "      <td>(Onion, Kidney Beans)</td>\n",
              "      <td>0.8</td>\n",
              "      <td>0.6</td>\n",
              "      <td>0.6</td>\n",
              "      <td>0.75</td>\n",
              "      <td>1.25</td>\n",
              "      <td>0.12</td>\n",
              "      <td>1.6</td>\n",
              "      <td>1</td>\n",
              "    </tr>\n",
              "  </tbody>\n",
              "</table>\n",
              "</div>"
            ],
            "text/plain": [
              "             antecedents            consequents  ...  conviction  antecedent_len\n",
              "0                (Onion)                 (Eggs)  ...         inf               1\n",
              "1                 (Eggs)                (Onion)  ...         1.6               1\n",
              "2  (Onion, Kidney Beans)                 (Eggs)  ...         inf               2\n",
              "3   (Kidney Beans, Eggs)                (Onion)  ...         1.6               2\n",
              "4                (Onion)   (Kidney Beans, Eggs)  ...         inf               1\n",
              "5                 (Eggs)  (Onion, Kidney Beans)  ...         1.6               1\n",
              "\n",
              "[6 rows x 10 columns]"
            ]
          },
          "metadata": {
            "tags": []
          },
          "execution_count": 5
        }
      ]
    },
    {
      "cell_type": "code",
      "metadata": {
        "id": "55b3EYlE74FI",
        "colab_type": "code",
        "outputId": "80bcd365-8f87-4593-be15-2b923059c841",
        "colab": {
          "base_uri": "https://localhost:8080/",
          "height": 80
        }
      },
      "source": [
        "rules[ (rules['antecedent_len'] >= 2) &\n",
        "       (rules['confidence'] > 0.75) &\n",
        "       (rules['lift'] > 1.2) ]"
      ],
      "execution_count": 0,
      "outputs": [
        {
          "output_type": "execute_result",
          "data": {
            "text/html": [
              "<div>\n",
              "<style scoped>\n",
              "    .dataframe tbody tr th:only-of-type {\n",
              "        vertical-align: middle;\n",
              "    }\n",
              "\n",
              "    .dataframe tbody tr th {\n",
              "        vertical-align: top;\n",
              "    }\n",
              "\n",
              "    .dataframe thead th {\n",
              "        text-align: right;\n",
              "    }\n",
              "</style>\n",
              "<table border=\"1\" class=\"dataframe\">\n",
              "  <thead>\n",
              "    <tr style=\"text-align: right;\">\n",
              "      <th></th>\n",
              "      <th>antecedents</th>\n",
              "      <th>consequents</th>\n",
              "      <th>antecedent support</th>\n",
              "      <th>consequent support</th>\n",
              "      <th>support</th>\n",
              "      <th>confidence</th>\n",
              "      <th>lift</th>\n",
              "      <th>leverage</th>\n",
              "      <th>conviction</th>\n",
              "      <th>antecedent_len</th>\n",
              "    </tr>\n",
              "  </thead>\n",
              "  <tbody>\n",
              "    <tr>\n",
              "      <th>2</th>\n",
              "      <td>(Onion, Kidney Beans)</td>\n",
              "      <td>(Eggs)</td>\n",
              "      <td>0.6</td>\n",
              "      <td>0.8</td>\n",
              "      <td>0.6</td>\n",
              "      <td>1.0</td>\n",
              "      <td>1.25</td>\n",
              "      <td>0.12</td>\n",
              "      <td>inf</td>\n",
              "      <td>2</td>\n",
              "    </tr>\n",
              "  </tbody>\n",
              "</table>\n",
              "</div>"
            ],
            "text/plain": [
              "             antecedents consequents  ...  conviction  antecedent_len\n",
              "2  (Onion, Kidney Beans)      (Eggs)  ...         inf               2\n",
              "\n",
              "[1 rows x 10 columns]"
            ]
          },
          "metadata": {
            "tags": []
          },
          "execution_count": 6
        }
      ]
    },
    {
      "cell_type": "code",
      "metadata": {
        "id": "ulAz93MJ77B5",
        "colab_type": "code",
        "outputId": "d8e65c85-646c-488a-ff70-0c68d15066df",
        "colab": {
          "base_uri": "https://localhost:8080/",
          "height": 80
        }
      },
      "source": [
        "rules[rules['antecedents'] == {'Eggs', 'Kidney Beans'}]\n"
      ],
      "execution_count": 0,
      "outputs": [
        {
          "output_type": "execute_result",
          "data": {
            "text/html": [
              "<div>\n",
              "<style scoped>\n",
              "    .dataframe tbody tr th:only-of-type {\n",
              "        vertical-align: middle;\n",
              "    }\n",
              "\n",
              "    .dataframe tbody tr th {\n",
              "        vertical-align: top;\n",
              "    }\n",
              "\n",
              "    .dataframe thead th {\n",
              "        text-align: right;\n",
              "    }\n",
              "</style>\n",
              "<table border=\"1\" class=\"dataframe\">\n",
              "  <thead>\n",
              "    <tr style=\"text-align: right;\">\n",
              "      <th></th>\n",
              "      <th>antecedents</th>\n",
              "      <th>consequents</th>\n",
              "      <th>antecedent support</th>\n",
              "      <th>consequent support</th>\n",
              "      <th>support</th>\n",
              "      <th>confidence</th>\n",
              "      <th>lift</th>\n",
              "      <th>leverage</th>\n",
              "      <th>conviction</th>\n",
              "      <th>antecedent_len</th>\n",
              "    </tr>\n",
              "  </thead>\n",
              "  <tbody>\n",
              "    <tr>\n",
              "      <th>3</th>\n",
              "      <td>(Kidney Beans, Eggs)</td>\n",
              "      <td>(Onion)</td>\n",
              "      <td>0.8</td>\n",
              "      <td>0.6</td>\n",
              "      <td>0.6</td>\n",
              "      <td>0.75</td>\n",
              "      <td>1.25</td>\n",
              "      <td>0.12</td>\n",
              "      <td>1.6</td>\n",
              "      <td>2</td>\n",
              "    </tr>\n",
              "  </tbody>\n",
              "</table>\n",
              "</div>"
            ],
            "text/plain": [
              "            antecedents consequents  ...  conviction  antecedent_len\n",
              "3  (Kidney Beans, Eggs)     (Onion)  ...         1.6               2\n",
              "\n",
              "[1 rows x 10 columns]"
            ]
          },
          "metadata": {
            "tags": []
          },
          "execution_count": 7
        }
      ]
    },
    {
      "cell_type": "markdown",
      "metadata": {
        "id": "7gmoMPstmKT5",
        "colab_type": "text"
      },
      "source": [
        "# Fronteira de pareto\n",
        "https://pythonhealthcare.org/tag/pareto-front/\n"
      ]
    },
    {
      "cell_type": "code",
      "metadata": {
        "id": "Mmk7Fhtvl7AQ",
        "colab_type": "code",
        "colab": {}
      },
      "source": [
        "import numpy as np\n",
        "import matplotlib.pyplot as plt\n",
        "\n",
        "\n",
        "def identify_pareto(scores):\n",
        "    # Count number of items\n",
        "    population_size = scores.shape[0]\n",
        "    # Create a NumPy index for scores on the pareto front (zero indexed)\n",
        "    population_ids = np.arange(population_size)\n",
        "    # Create a starting list of items on the Pareto front\n",
        "    # All items start off as being labelled as on the Parteo front\n",
        "    pareto_front = np.ones(population_size, dtype=bool)\n",
        "    # Loop through each item. This will then be compared with all other items\n",
        "    for i in range(population_size):\n",
        "        # Loop through all other items\n",
        "        for j in range(population_size):\n",
        "            # Check if our 'i' pint is dominated by out 'j' point\n",
        "            if all(scores[j] >= scores[i]) and any(scores[j] > scores[i]):\n",
        "                # j dominates i. Label 'i' point as not on Pareto front\n",
        "                pareto_front[i] = 0\n",
        "                # Stop further comparisons with 'i' (no more comparisons needed)\n",
        "                break\n",
        "    # Return ids of scenarios on pareto front\n",
        "    return population_ids[pareto_front]"
      ],
      "execution_count": 0,
      "outputs": []
    },
    {
      "cell_type": "code",
      "metadata": {
        "id": "5g9nOn1nmTUE",
        "colab_type": "code",
        "outputId": "ee618a18-fdde-4feb-d08a-3d7f08550ec2",
        "colab": {
          "base_uri": "https://localhost:8080/",
          "height": 567
        }
      },
      "source": [
        "rules = association_rules(frequent_itemsets)\n",
        "\n",
        "\n",
        "rules = association_rules(frequent_itemsets, metric=\"support\", min_threshold=0.1)\n",
        "\n",
        "scores = rules[['confidence', 'lift']].values\n",
        "print(scores)\n",
        "\n",
        "x = rules['confidence'].values\n",
        "y = rules['lift'].values\n",
        "\n",
        "#print(x)\n",
        "#print(y)\n",
        "plt.scatter(x, y)\n",
        "plt.xlabel('confidence')\n",
        "plt.ylabel('lift')\n",
        "plt.show()"
      ],
      "execution_count": 0,
      "outputs": [
        {
          "output_type": "stream",
          "text": [
            "[[0.8  1.  ]\n",
            " [1.   1.  ]\n",
            " [1.   1.25]\n",
            " [0.75 1.25]\n",
            " [0.6  1.  ]\n",
            " [1.   1.  ]\n",
            " [1.   1.  ]\n",
            " [0.6  1.  ]\n",
            " [0.6  1.  ]\n",
            " [1.   1.  ]\n",
            " [1.   1.25]\n",
            " [1.   1.  ]\n",
            " [0.75 1.25]\n",
            " [1.   1.25]\n",
            " [0.6  1.  ]\n",
            " [0.75 1.25]]\n"
          ],
          "name": "stdout"
        },
        {
          "output_type": "display_data",
          "data": {
            "image/png": "[encoded data removed]",
            "text/plain": [
              "<Figure size 432x288 with 1 Axes>"
            ]
          },
          "metadata": {
            "tags": [],
            "needs_background": "light"
          }
        }
      ]
    },
    {
      "cell_type": "code",
      "metadata": {
        "id": "NnzPsZBOzCY-",
        "colab_type": "code",
        "outputId": "d7b66ee8-708c-442a-e8bb-4ecc6632ebeb",
        "colab": {
          "base_uri": "https://localhost:8080/",
          "height": 161
        }
      },
      "source": [
        "pareto = identify_pareto(scores)\n",
        "print ('Pareto front index vales')\n",
        "print ('Points on Pareto front: \\n',pareto)\n",
        "\n",
        "pareto_front = scores[pareto]\n",
        "print ('\\nPareto front scores')\n",
        "print (pareto_front)"
      ],
      "execution_count": 0,
      "outputs": [
        {
          "output_type": "stream",
          "text": [
            "Pareto front index vales\n",
            "Points on Pareto front: \n",
            " [ 2 10 13]\n",
            "\n",
            "Pareto front scores\n",
            "[[1.   1.25]\n",
            " [1.   1.25]\n",
            " [1.   1.25]]\n"
          ],
          "name": "stdout"
        }
      ]
    },
    {
      "cell_type": "code",
      "metadata": {
        "id": "Azg2rZQwmvXJ",
        "colab_type": "code",
        "colab": {}
      },
      "source": [
        "pareto_front_df = pd.DataFrame(pareto_front)\n",
        "pareto_front_df.sort_values(0, inplace=True)\n",
        "pareto_front = pareto_front_df.values"
      ],
      "execution_count": 0,
      "outputs": []
    },
    {
      "cell_type": "code",
      "metadata": {
        "id": "K57RCF3Wm2-3",
        "colab_type": "code",
        "outputId": "1063d1ec-e09a-4cc4-84e0-84af550d1277",
        "colab": {
          "base_uri": "https://localhost:8080/",
          "height": 279
        }
      },
      "source": [
        "x_all = scores[:, 0]\n",
        "y_all = scores[:, 1]\n",
        "x_pareto = pareto_front[:, 0]\n",
        "y_pareto = pareto_front[:, 1]\n",
        "\n",
        "plt.scatter(x_all, y_all)\n",
        "plt.plot(x_pareto, y_pareto, color='r')\n",
        "plt.xlabel('confidence')\n",
        "plt.ylabel('lift')\n",
        "plt.show()"
      ],
      "execution_count": 0,
      "outputs": [
        {
          "output_type": "display_data",
          "data": {
            "image/png": "[encoded data removed]",
            "text/plain": [
              "<Figure size 432x288 with 1 Axes>"
            ]
          },
          "metadata": {
            "tags": [],
            "needs_background": "light"
          }
        }
      ]
    },
    {
      "cell_type": "code",
      "metadata": {
        "id": "R404sAE3m6Sh",
        "colab_type": "code",
        "colab": {}
      },
      "source": [
        ""
      ],
      "execution_count": 0,
      "outputs": []
    }
  ]
}