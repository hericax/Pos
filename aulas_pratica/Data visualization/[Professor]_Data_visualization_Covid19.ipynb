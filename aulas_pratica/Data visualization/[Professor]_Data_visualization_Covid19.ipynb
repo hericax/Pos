{
  "cells": [
    {
      "cell_type": "markdown",
      "metadata": {
        "id": "view-in-github",
        "colab_type": "text"
      },
      "source": [
        "<a href=\"https://colab.research.google.com/github/matheusomendonca/pos-ia-ds/blob/master/Classes/Data%20visualization/%5BProfessor%5D_Data_visualization_Covid19.ipynb\" target=\"_parent\"><img src=\"https://colab.research.google.com/assets/colab-badge.svg\" alt=\"Open In Colab\"/></a>"
      ]
    },
    {
      "cell_type": "markdown",
      "metadata": {
        "id": "HxkJ-NrjGqxj",
        "colab_type": "text"
      },
      "source": [
        "# Visualização dos dados disponibilizados pelo Imperial College sobre a pesquisa do impacto do covid-19 em diferentes cenários de mitigação de risco"
      ]
    },
    {
      "cell_type": "markdown",
      "metadata": {
        "id": "9U3J0dZzfFGJ",
        "colab_type": "text"
      },
      "source": [
        "O primeiro passo é importar as bibliotecas de visualização necessárias. Iremos trabalhar com umas bibliotecas básicas:\n",
        "\n",
        "- [matplotlib](https://matplotlib.org/): biblioteca básica de visualização em Python;\n",
        "- [seaborn](https://seaborn.pydata.org/): biblioteca de visualização estatística escrita baseada no matplotlib.\n",
        "\n",
        "E outras um pouco mais sofisticadas...\n",
        "- [missingno](https://github.com/ResidentMario/missingno): biblioteca usada para visualização de dados faltantes;\n",
        "- [plotly](https://plotly.com/): biblioteca para visualização interativa."
      ]
    },
    {
      "cell_type": "code",
      "metadata": {
        "id": "-16Ick3dD7OT",
        "colab_type": "code",
        "colab": {
          "base_uri": "https://localhost:8080/",
          "height": 73
        },
        "outputId": "76aa2fb2-0b56-438c-f299-22232e40bc20"
      },
      "source": [
        "# bibliotecas básicas\n",
        "import pandas as pd\n",
        "import numpy as np\n",
        "\n",
        "# bibliotecas de visualização\n",
        "import matplotlib.pyplot as plt\n",
        "import matplotlib\n",
        "import seaborn as sns\n",
        "import missingno as msno #! pip install missingno"
      ],
      "execution_count": 1,
      "outputs": []
    },
    {
      "cell_type": "markdown",
      "metadata": {
        "id": "Ffb-om7BgdoB",
        "colab_type": "text"
      },
      "source": [
        "A seguir, iremos realizar definir o tamanho padrão das imagens ao longo deste notebook."
      ]
    },
    {
      "cell_type": "code",
      "metadata": {
        "id": "0ZZyqd-rOzQW",
        "colab_type": "code",
        "colab": {}
      },
      "source": [
        "# configuração do plot\n",
        "figsize = (10, 7)\n",
        "matplotlib.rcParams['figure.figsize'] = figsize"
      ],
      "execution_count": null,
      "outputs": []
    },
    {
      "cell_type": "markdown",
      "metadata": {
        "id": "5YAB3KkxPiUk",
        "colab_type": "text"
      },
      "source": [
        "## Leitura dos dados\n",
        "\n",
        "Iremos realizar a visualização dos dados disponibilizados pelo Imperial College no dia 26/03/2020 sobre a [pesquisa](https://www.imperial.ac.uk/media/imperial-college/medicine/sph/ide/gida-fellowships/Imperial-College-COVID19-Global-Impact-26-03-2020.pdf) que simula o impacto global de diferentes estratégias de mitigação do avanço do corona vírus.\n",
        "\n",
        "A [base de dados](https://pycourse.s3.amazonaws.com/ImperialCollege-COVID19-scenarios.xlsx) é um arquivo excel com 4 worksheets:\n",
        "\n",
        "1. Countries: dados básicos do [World Bank](https://www.worldbank.org/);\n",
        "2. Mitigation: impactos do covid-19 para diferentes níveis de isolamento social;\n",
        "3. Suppression: impactos do covid-19 para medidas de isolamento tomadas somente após um gatilho;\n",
        "4. Dictionary: dicionário descritivo das variáveis."
      ]
    },
    {
      "cell_type": "markdown",
      "metadata": {
        "id": "tMIysOTGlajm",
        "colab_type": "text"
      },
      "source": [
        "O worksheet 4 é muito importante para o completo entendimento dos dados. A seguir está replicado o conteúdo deste worksheet.\n",
        "\n",
        "**Mitigation Sheet**\t\n",
        "\t\n",
        "- **Country**:\tName of country or region\n",
        "- **R0**:\tBasic Reproduction number (average number of secondary infection by a typical infection in an unconstrained epidemic and wholly susceptible population)\n",
        "- **Strategy**:\n",
        "\t- \"Unmitigated\" = no intervention; \n",
        "\t- \"Social distancing whole population\" = optimal outcome when epidemic is mitigated interventions to limit contacts in the general population including social distancing; \n",
        "\t- \"Enhanced social distance of elderly\"= optimal outcome when epidemic is mitigated through interventions to limit contacts in the general population including social distancing, alongside enhanced social distancing of over 70s (modelled as a 60% reduction in contact rate); \n",
        "- **Social_distance**:\tPercentage reduction in contacts in the general population\n",
        "\t- For \"Unmitigated\" this is 0\n",
        "\t- For \"Social distancing whole population\" this reduction applies to the whole population\n",
        "\t- For \"Enhanced social distancing of elderly\" this applies to just individuals under 70. For individuals 70 and above we assume a 60% reduction.\n",
        "- **total_pop**: Total population according to 2020 World Population Prospects (https://population.un.org/wpp/)\n",
        "- **total_infected**: Final total population infected by the end of the pandemic\n",
        "- total_death: Final total deaths by the end of the pandemic (assuming China-like age-severity profile and health system)\n",
        "- **total_hospital**: Final total individuals requiring hospitalisation by the end of the pandemic (assuming China-like age-severity profile)\n",
        "- **total_critical**: Final total individuals requiring critical care by the end of the pandemic (assuming China-like age-severity profile)"
      ]
    },
    {
      "cell_type": "markdown",
      "metadata": {
        "id": "NNj6k-fhm1BJ",
        "colab_type": "text"
      },
      "source": [
        "**Suppression Sheet**\t\n",
        "- **Country**:\tName of country or region\n",
        "- **R0**:\tBasic Reproduction number (average number of secondary infection by a typical infection in an unconstrained epidemic and - wholly susceptible population)\n",
        "- **Strategy**\n",
        "\t- \"Unmitigated\" = no intervention\n",
        "\t- \"0.2 deaths per million per week trigger\" = suppression triggered when weekly death rate reaches this threshold\n",
        "\t- \"1.6 deaths per million per week trigger\" = suppression triggered when weekly death rate reaches this threshold\n",
        "- **Social_distance**:\tProportional reduction in contact rate in general population modelled\n",
        "- **total_pop**:\tTotal population according to 2020 World Population Prospects (https://population.un.org/wpp/)\n",
        "- **total_infected**:\tFinal total population infected by the end of the pandemic. \n",
        "- **total_death**:\tFinal total deaths by the end of the pandemic (assuming China-like age-severity profile and health system). \n",
        "- **total_hospital**:\tFinal total individuals requiring hospitalisation by the end of the pandemic (assuming China-like age-severity profile)\n",
        "- **peak_hospital_bed_demand**:\tNumber of hospital beds occupied at the peak of the epidemic (i.e. maximum demand/occupancy during the epidemic)\n",
        "- **total_critical**:\tFinal total individuals requiring critical care by the end of the pandemic (assuming China-like age-severity profile)\n",
        "- **peak_critical_bed_demand**:\tNumber of critical care beds occupied at the peak of the epidemic (i.e. maximum demand/occupancy during the epidemic)"
      ]
    },
    {
      "cell_type": "markdown",
      "metadata": {
        "id": "vKBUp19KHj1V",
        "colab_type": "text"
      },
      "source": [
        "Enfim, vamos realizar a leitura dos dados:"
      ]
    },
    {
      "cell_type": "code",
      "metadata": {
        "id": "QaiuCf-cGjpG",
        "colab_type": "code",
        "colab": {}
      },
      "source": [
        "# leitura dos dados\n",
        "data = pd.ExcelFile(\"https://pycourse.s3.amazonaws.com/ImperialCollege-COVID19-scenarios.xlsx\")"
      ],
      "execution_count": null,
      "outputs": []
    },
    {
      "cell_type": "markdown",
      "metadata": {
        "id": "o-BvOsgZICUi",
        "colab_type": "text"
      },
      "source": [
        "Como é um excel, precisamos ver as worksheets (abas) disponíveis..."
      ]
    },
    {
      "cell_type": "code",
      "metadata": {
        "id": "N7sMo8knHe_D",
        "colab_type": "code",
        "outputId": "dfb6c15d-0e78-42a7-ffd2-12bbf2a48a74",
        "colab": {
          "base_uri": "https://localhost:8080/",
          "height": 35
        }
      },
      "source": [
        "# worksheets disponíveis\n",
        "print(f\"Worksheets disponíveis: {data.sheet_names}\")"
      ],
      "execution_count": null,
      "outputs": []
    },
    {
      "cell_type": "markdown",
      "metadata": {
        "id": "JJRhrrymoN4D",
        "colab_type": "text"
      },
      "source": [
        "No primeiro momento, iremos analisar indivualmente cada uma das 3 worksheets disponibilizadas."
      ]
    },
    {
      "cell_type": "markdown",
      "metadata": {
        "id": "-KoNS_RloYkr",
        "colab_type": "text"
      },
      "source": [
        "## Worksheet: Countries"
      ]
    },
    {
      "cell_type": "code",
      "metadata": {
        "id": "D4_hIUnaIUn5",
        "colab_type": "code",
        "colab": {}
      },
      "source": [
        "# trabalhando com a base Countries\n",
        "countries_df = pd.read_excel(data, data.sheet_names[0], decimal=',')"
      ],
      "execution_count": null,
      "outputs": []
    },
    {
      "cell_type": "code",
      "metadata": {
        "id": "lEIM3lJ3JrLj",
        "colab_type": "code",
        "outputId": "d2c6ba49-8db2-43e3-cecc-c2e84ad22972",
        "colab": {
          "base_uri": "https://localhost:8080/",
          "height": 204
        }
      },
      "source": [
        "# visualização das primeiras linhas\n",
        "countries_df.head()"
      ],
      "execution_count": null,
      "outputs": []
    },
    {
      "cell_type": "markdown",
      "metadata": {
        "id": "VdPbsO3sojDv",
        "colab_type": "text"
      },
      "source": [
        "A primeira coisa que iremos fazer é analisar os dados faltantes. Para isso, iremos utilizar a biblioteca `missingno`.\n",
        "\n",
        "Essa análise inicial é muito importante pois nos permite identificar se existe padrões nos dados faltantes que possibilitam definir a melhor estratégia para tratamento desses dados."
      ]
    },
    {
      "cell_type": "markdown",
      "metadata": {
        "id": "Gal5qVkrpP9C",
        "colab_type": "text"
      },
      "source": [
        "O primeiro método que iremos utilizar do `missingno` é o `matrix`, pois ele nos permite visualizar a localização dos dados faltantes ao longo do nosso dataframe."
      ]
    },
    {
      "cell_type": "code",
      "metadata": {
        "id": "KmqWfNrYNo5N",
        "colab_type": "code",
        "outputId": "77f676f9-9de5-44af-ba75-5af81f50f3c7",
        "colab": {
          "base_uri": "https://localhost:8080/",
          "height": 664
        }
      },
      "source": [
        "# visualização de dados faltantes\n",
        "msno.matrix(countries_df, figsize=figsize)"
      ],
      "execution_count": null,
      "outputs": []
    },
    {
      "cell_type": "markdown",
      "metadata": {
        "id": "jaVeo97upid9",
        "colab_type": "text"
      },
      "source": [
        "O segundo método é o `bar`, ele nos mostra a quantidade de dados totais disponíveis para cada coluna do dataframe."
      ]
    },
    {
      "cell_type": "code",
      "metadata": {
        "id": "GcWskHuSNy69",
        "colab_type": "code",
        "outputId": "38d8510f-08e1-426b-97c4-e38f2b276895",
        "colab": {
          "base_uri": "https://localhost:8080/",
          "height": 693
        }
      },
      "source": [
        "# visualização de dados faltantes\n",
        "msno.bar(countries_df, figsize=figsize)"
      ],
      "execution_count": null,
      "outputs": []
    },
    {
      "cell_type": "markdown",
      "metadata": {
        "id": "8KDjHxBipzF5",
        "colab_type": "text"
      },
      "source": [
        "Agora como já temos uma ideia inicial da quantidade de dados faltantes e dos padrões, podemos utilizar o método `heatmap` que nos mostra a matriz de correlação entre as amostras faltantes."
      ]
    },
    {
      "cell_type": "code",
      "metadata": {
        "id": "JF6Z7IY1PHqY",
        "colab_type": "code",
        "outputId": "692197ec-bc7f-472e-ec29-c142b1f5f8d1",
        "colab": {
          "base_uri": "https://localhost:8080/",
          "height": 591
        }
      },
      "source": [
        "# visualização de dados faltantes\n",
        "msno.heatmap(countries_df, figsize=figsize)"
      ],
      "execution_count": null,
      "outputs": []
    },
    {
      "cell_type": "markdown",
      "metadata": {
        "id": "dXVqi9BVqFds",
        "colab_type": "text"
      },
      "source": [
        "O matriz de correlação nos dá uma visualização entre pares de variáveis, se quisermos uma informação mais detalhada, podemos utilizar o dendrograma através do método `dendrogram`."
      ]
    },
    {
      "cell_type": "code",
      "metadata": {
        "id": "-vUNugIgOCoM",
        "colab_type": "code",
        "outputId": "de97ca0c-0916-486d-d017-e614a35527ce",
        "colab": {
          "base_uri": "https://localhost:8080/",
          "height": 654
        }
      },
      "source": [
        "# visualização de dados faltantes\n",
        "msno.dendrogram(countries_df, figsize=figsize)"
      ],
      "execution_count": null,
      "outputs": []
    },
    {
      "cell_type": "markdown",
      "metadata": {
        "id": "d85X_Xkwq2-7",
        "colab_type": "text"
      },
      "source": [
        "Para fins de simplificação, iremos remover as amostras com dados faltantes."
      ]
    },
    {
      "cell_type": "code",
      "metadata": {
        "id": "lGgMGCyyQYSy",
        "colab_type": "code",
        "colab": {}
      },
      "source": [
        "# remoção das amostras com dados faltantes\n",
        "countries_df.dropna(inplace=True)"
      ],
      "execution_count": null,
      "outputs": []
    },
    {
      "cell_type": "code",
      "metadata": {
        "id": "BHTpztbpLGYu",
        "colab_type": "code",
        "outputId": "c5f1fabb-a3d0-4ab0-d875-2c1e805ecb56",
        "colab": {
          "base_uri": "https://localhost:8080/",
          "height": 71
        }
      },
      "source": [
        "# nomes das colunas\n",
        "countries_df.columns.values"
      ],
      "execution_count": null,
      "outputs": []
    },
    {
      "cell_type": "code",
      "metadata": {
        "id": "bIyFnPTFQrcM",
        "colab_type": "code",
        "outputId": "6fa5d4cb-421d-45bf-f71c-a17588813447",
        "colab": {
          "base_uri": "https://localhost:8080/",
          "height": 693
        }
      },
      "source": [
        "# validação da remoção de dados faltantes\n",
        "msno.bar(countries_df, figsize=figsize)"
      ],
      "execution_count": null,
      "outputs": []
    },
    {
      "cell_type": "markdown",
      "metadata": {
        "id": "goeU9MgXSflZ",
        "colab_type": "text"
      },
      "source": [
        "## Análise das distribuições"
      ]
    },
    {
      "cell_type": "markdown",
      "metadata": {
        "id": "-6p2Grlar-Yz",
        "colab_type": "text"
      },
      "source": [
        "O primeiro passo é tentar identificar o que é variável categórica e o que é variável numérica. Isso é importante pois nos ajuda a definir estratégias de agrupamento para visualização."
      ]
    },
    {
      "cell_type": "code",
      "metadata": {
        "id": "BZQxWiAUSlAo",
        "colab_type": "code",
        "outputId": "3e8afe58-54f9-4b41-c3bf-580289cbdb2f",
        "colab": {
          "base_uri": "https://localhost:8080/",
          "height": 633
        }
      },
      "source": [
        "# número de valores únicos\n",
        "countries_df.nunique().plot.bar(rot=90,\n",
        "                                grid=True,\n",
        "                                title='# valores únicos')"
      ],
      "execution_count": null,
      "outputs": []
    },
    {
      "cell_type": "code",
      "metadata": {
        "id": "LMqvwjrYT2Os",
        "colab_type": "code",
        "outputId": "6462b15d-fa83-4e35-816d-f7f801bd508c",
        "colab": {
          "base_uri": "https://localhost:8080/",
          "height": 143
        }
      },
      "source": [
        "# valores únicos\n",
        "print(f\"Valores únicos da coluna {countries_df.columns[1]}:\")\n",
        "print(countries_df[countries_df.columns[2]].unique())\n",
        "\n",
        "print(f\"\\nValores únicos da coluna {countries_df.columns[2]}:\")\n",
        "print(countries_df[countries_df.columns[3]].unique())"
      ],
      "execution_count": null,
      "outputs": []
    },
    {
      "cell_type": "code",
      "metadata": {
        "id": "jzG7EjtqKU_J",
        "colab_type": "code",
        "outputId": "beb36448-8eab-4370-e587-9daa22489b0b",
        "colab": {
          "base_uri": "https://localhost:8080/",
          "height": 444
        }
      },
      "source": [
        "# visualização da distribuição do GDP\n",
        "_, ax = plt.subplots(ncols=2, figsize=(15, 7))\n",
        "countries_df.hist(column='GDP 2018', grid=True, ax=ax[0])\n",
        "countries_df.boxplot(column='GDP 2018', ax=ax[1]);"
      ],
      "execution_count": null,
      "outputs": []
    },
    {
      "cell_type": "code",
      "metadata": {
        "id": "eUC6fRzhVM1n",
        "colab_type": "code",
        "outputId": "7855a33e-052b-4bba-bb51-803c38086f90",
        "colab": {
          "base_uri": "https://localhost:8080/",
          "height": 546
        }
      },
      "source": [
        "# separação por região mundial\n",
        "countries_df.boxplot(column='GDP 2018', by=countries_df.columns[2], rot=30);"
      ],
      "execution_count": null,
      "outputs": []
    },
    {
      "cell_type": "code",
      "metadata": {
        "id": "GBuGtrpqvfzh",
        "colab_type": "code",
        "outputId": "714eec53-f8bb-495e-8582-99092a5ec004",
        "colab": {
          "base_uri": "https://localhost:8080/",
          "height": 508
        }
      },
      "source": [
        "# visualização utilizando o seaborn\n",
        "sns.boxplot(data=countries_df,\n",
        "            y='GDP 2018',\n",
        "            x='World Bank region')\n",
        "plt.xticks(rotation=30);"
      ],
      "execution_count": null,
      "outputs": []
    },
    {
      "cell_type": "code",
      "metadata": {
        "id": "rCqtoIZqVcMu",
        "colab_type": "code",
        "outputId": "77b254c0-a482-4486-b502-03dae341791a",
        "colab": {
          "base_uri": "https://localhost:8080/",
          "height": 532
        }
      },
      "source": [
        "# separação por grupo financeiro\n",
        "countries_df.boxplot(column='GDP 2018', by=countries_df.columns[3], rot=30);"
      ],
      "execution_count": null,
      "outputs": []
    },
    {
      "cell_type": "code",
      "metadata": {
        "id": "ksQdg7zsvl62",
        "colab_type": "code",
        "outputId": "9ee10e2b-5575-44c9-85b8-55ff6839b8a6",
        "colab": {
          "base_uri": "https://localhost:8080/",
          "height": 495
        }
      },
      "source": [
        "# visualização utilizando o seaborn\n",
        "sns.boxplot(data=countries_df,\n",
        "            y='GDP 2018',\n",
        "            x=countries_df.columns[3])\n",
        "plt.xticks(rotation=30)\n",
        "plt.show()"
      ],
      "execution_count": null,
      "outputs": []
    },
    {
      "cell_type": "code",
      "metadata": {
        "id": "tQZziVn1Ko-L",
        "colab_type": "code",
        "outputId": "30d019b1-7dc7-4b20-f1f7-85d25c3e6b50",
        "colab": {
          "base_uri": "https://localhost:8080/",
          "height": 893
        }
      },
      "source": [
        "# visualização da distribuição do PIB por região\n",
        "countries_df.hist(column='GDP 2018',\n",
        "                  by=countries_df.columns[2],\n",
        "                  figsize=(17, 15),\n",
        "                  xrot=45)\n",
        "plt.show()"
      ],
      "execution_count": null,
      "outputs": []
    },
    {
      "cell_type": "markdown",
      "metadata": {
        "id": "31NIyMBkhuF3",
        "colab_type": "text"
      },
      "source": [
        "# Worksheet: Mitigation\n",
        "## Análise dos dados"
      ]
    },
    {
      "cell_type": "code",
      "metadata": {
        "id": "DcpkVQlWghA-",
        "colab_type": "code",
        "colab": {}
      },
      "source": [
        "# mitigation worksheet\n",
        "mitigation_df = pd.read_excel(data, data.sheet_names[1])"
      ],
      "execution_count": null,
      "outputs": []
    },
    {
      "cell_type": "code",
      "metadata": {
        "id": "vAWkQXyOh5U2",
        "colab_type": "code",
        "outputId": "22ceab32-d494-491a-d660-97bd3af7d7bd",
        "colab": {
          "base_uri": "https://localhost:8080/",
          "height": 204
        }
      },
      "source": [
        "# primeiras colunas\n",
        "mitigation_df.head()"
      ],
      "execution_count": null,
      "outputs": []
    },
    {
      "cell_type": "code",
      "metadata": {
        "id": "pwrCiET7xa4b",
        "colab_type": "code",
        "outputId": "902bb033-c980-4d51-dde6-0f13896f846c",
        "colab": {
          "base_uri": "https://localhost:8080/",
          "height": 603
        }
      },
      "source": [
        "# pair plot\n",
        "sns.pairplot(mitigation_df,\n",
        "             hue='Strategy',\n",
        "             vars=['R0', 'Social_distance', 'total_infected']);"
      ],
      "execution_count": null,
      "outputs": []
    },
    {
      "cell_type": "code",
      "metadata": {
        "id": "6wwSngajh-tC",
        "colab_type": "code",
        "outputId": "e0cb7833-84fd-4a86-d9bc-eb66fa774d0f",
        "colab": {
          "base_uri": "https://localhost:8080/",
          "height": 71
        }
      },
      "source": [
        "# nomes das colunas disponíveis\n",
        "print(mitigation_df.columns)"
      ],
      "execution_count": null,
      "outputs": []
    },
    {
      "cell_type": "code",
      "metadata": {
        "id": "W7apz6o_io2U",
        "colab_type": "code",
        "outputId": "532db8f5-0e3d-4708-d805-7b956a47c358",
        "colab": {
          "base_uri": "https://localhost:8080/",
          "height": 421
        }
      },
      "source": [
        "# slice nos dados do Brasil\n",
        "br_mitigation_df = mitigation_df.loc[mitigation_df['Country']=='Brazil', :]\n",
        "br_mitigation_df"
      ],
      "execution_count": null,
      "outputs": []
    },
    {
      "cell_type": "code",
      "metadata": {
        "id": "AGmmBLDRjHH7",
        "colab_type": "code",
        "outputId": "56537e55-c2b6-4fbd-a48d-ef506f921da8",
        "colab": {
          "base_uri": "https://localhost:8080/",
          "height": 125
        }
      },
      "source": [
        "# criando novas features com os valores percentuas e em milhões\n",
        "perc_names = list(br_mitigation_df.columns.values[5:9]+'_perc')\n",
        "mil_names = list(br_mitigation_df.columns.values[5:9]+'_million')\n",
        "br_mitigation_df[perc_names] = br_mitigation_df.loc[:,'total_infected':\n",
        "                                                        'total_critical'].div(br_mitigation_df['total_pop'],\n",
        "                                                                                              axis=0)*100\n",
        "br_mitigation_df[mil_names] = br_mitigation_df.loc[:,'total_infected':\n",
        "                                                       'total_critical']*1e-6"
      ],
      "execution_count": null,
      "outputs": []
    },
    {
      "cell_type": "code",
      "metadata": {
        "id": "9J7avZsZjVmd",
        "colab_type": "code",
        "outputId": "4b460879-a2c0-469f-bce8-55c90214c8b7",
        "colab": {
          "base_uri": "https://localhost:8080/",
          "height": 849
        }
      },
      "source": [
        "# visualizando as 5 primeias linhas do dataframe criado\n",
        "br_mitigation_df"
      ],
      "execution_count": null,
      "outputs": []
    },
    {
      "cell_type": "code",
      "metadata": {
        "id": "k7iLunVFjjPz",
        "colab_type": "code",
        "outputId": "ff04203c-d4ee-43f1-e73c-61ccef653305",
        "colab": {
          "base_uri": "https://localhost:8080/",
          "height": 193
        }
      },
      "source": [
        "# dataframe: no social distancing\n",
        "no_social_distance = br_mitigation_df.loc[br_mitigation_df['Strategy']==\n",
        "                                          'Unmitigated', :].drop([\"Social_distance\",\n",
        "                                                                  \"Country\"], axis=1)\n",
        "no_social_distance"
      ],
      "execution_count": null,
      "outputs": []
    },
    {
      "cell_type": "code",
      "metadata": {
        "id": "BOcAbAACkE91",
        "colab_type": "code",
        "outputId": "e349cbda-1e9f-494f-ba2e-152c64ad1c42",
        "colab": {
          "base_uri": "https://localhost:8080/",
          "height": 370
        }
      },
      "source": [
        "# plot\n",
        "fig, ax = plt.subplots(ncols=2, figsize=(15, 5))\n",
        "\n",
        "# plot percentual\n",
        "no_social_distance.plot(x=\"R0\",\n",
        "                        y=['total_deaths_perc',\n",
        "                           'total_hospital_perc',\n",
        "                           'total_critical_perc'],\n",
        "                        style='o-',\n",
        "                        ax=ax[0],\n",
        "                        label=['# percentual de mortes',\n",
        "                               '# percentual de hospitalizações',\n",
        "                               '# percentual de hospitalizações em UTIs'])\n",
        "ax[0].set_ylabel(\"% da população\")\n",
        "ax[0].set_xlabel(\"Número básico de reprodução, R0\")\n",
        "ax[0].set_xlim([2.3, 3.4])\n",
        "ax[0].grid()\n",
        "\n",
        "# plot valores absolutos (em milhões)\n",
        "no_social_distance.plot(x='R0',\n",
        "                        y=['total_deaths_million',\n",
        "                           'total_hospital_million',\n",
        "                           'total_critical_million'],\n",
        "                        style='o-',\n",
        "                        ax=ax[1],\n",
        "                        label=['# de mortes',\n",
        "                               '# de hospitalizações',\n",
        "                               '# de hospitalizações em UTIs'])\n",
        "ax[1].set_ylabel(\"Número total, em milhões\")\n",
        "ax[1].set_xlabel(\"Número básico de reprodução, R0\")\n",
        "ax[1].set_xlim([2.3, 3.4])\n",
        "ax[1].grid()\n",
        "plt.suptitle(\"Simulação do impacto do Covid19 no Brasil quando o \\\n",
        "distanciamento social não é adotado\")\n",
        "plt.show()"
      ],
      "execution_count": null,
      "outputs": []
    },
    {
      "cell_type": "code",
      "metadata": {
        "id": "Rm-lEejxNb2N",
        "colab_type": "code",
        "colab": {
          "base_uri": "https://localhost:8080/",
          "height": 459
        },
        "outputId": "5bbf7cf3-55da-4644-96ff-a617b7021944"
      },
      "source": [
        "# plot\n",
        "fig, ax0 = plt.subplots(ncols=1)\n",
        "\n",
        "# plot percentual\n",
        "no_social_distance.plot(x=\"R0\",\n",
        "                        y=['total_deaths_perc',\n",
        "                           'total_hospital_perc',\n",
        "                           'total_critical_perc'],\n",
        "                        style='o-',\n",
        "                        ax=ax0,\n",
        "                        label=['# de mortes',\n",
        "                               '# de hospitalizações',\n",
        "                               '# de hospitalizações em UTIs'],\n",
        "                        title=\"Simulação do impacto do Covid19 no Brasil quando o \\\n",
        "distanciamento social não é adotado\")\n",
        "ax0.set_ylabel(\"% da população\")\n",
        "ax0.set_xlabel(\"Número básico de reprodução, R0\")\n",
        "ax0.set_xlim([2.3, 3.4])\n",
        "ax0.grid()\n",
        "\n",
        "# twin y-axis\n",
        "ax1 = ax0.twinx()\n",
        "\n",
        "# plot valores absolutos (em milhões)\n",
        "no_social_distance.plot(x='R0',\n",
        "                        y=['total_deaths_million',\n",
        "                           'total_hospital_million',\n",
        "                           'total_critical_million'],\n",
        "                        style='o-',\n",
        "                        legend=False,\n",
        "                        ax=ax1)\n",
        "ax1.set_ylabel(\"Número total, em milhões\");"
      ],
      "execution_count": null,
      "outputs": []
    },
    {
      "cell_type": "code",
      "metadata": {
        "id": "p6oGdqZxkYNI",
        "colab_type": "code",
        "colab": {}
      },
      "source": [
        "# dataframe com todas as estratégias de mitigação no Brasil\n",
        "social_distance = br_mitigation_df.drop([\"Country\"], axis=1)"
      ],
      "execution_count": null,
      "outputs": []
    },
    {
      "cell_type": "code",
      "metadata": {
        "id": "wb72h3qBqZDP",
        "colab_type": "code",
        "outputId": "d16518f4-2b5a-4a12-ad61-da7d8e15416c",
        "colab": {
          "base_uri": "https://localhost:8080/",
          "height": 459
        }
      },
      "source": [
        "# features a serem plotadas em percentual e por milhão\n",
        "y = ['total_deaths',\n",
        "     'total_hospital',\n",
        "     'total_critical']\n",
        "\n",
        "# número de features\n",
        "n = len(y)  \n",
        "\n",
        "# instanciando o objeto para plot\n",
        "# grid de plot com 2 linhas e 3 (len(y)) colunas compartilhando o eixo x e \n",
        "# compartilhando o eixo y nas linhas\n",
        "fig, ax = plt.subplots(ncols=len(y),\n",
        "                       nrows=2,\n",
        "                       figsize=(15, 7),\n",
        "                       sharex=True,\n",
        "                       sharey='row')\n",
        "\n",
        "# laço nas i features\n",
        "for i in range(n):\n",
        "    # colunas percentual e por milhão: concatenando as strings\n",
        "    column = [y[i]+'_perc', y[i]+'_million']\n",
        "\n",
        "    # dataframe com as colunas [y[i]+'_perc', y[i]+'_million', 'R0', 'Strategy']\n",
        "    df = social_distance.loc[:, column+['R0', 'Strategy']]\n",
        "\n",
        "    # laço em cada uma das estratégias\n",
        "    for s in df['Strategy'].unique():\n",
        "        # plot percentual (column[0]) da estratégia s na linha 0, coluna i\n",
        "        df.loc[df['Strategy']==s, :].plot(x='R0',\n",
        "                                          y=[column[0]],\n",
        "                                          style='o-',\n",
        "                                          ax=ax[0][i],\n",
        "                                          label=[s])\n",
        "        \n",
        "        # plot absoluto (column[1]) da estratégia s na linha 1, coluna i\n",
        "        df.loc[df['Strategy']==s, :].plot(x='R0',\n",
        "                                          y=[column[1]],\n",
        "                                          style='o-',\n",
        "                                          ax=ax[1][i],\n",
        "                                          label=[s])\n",
        "    \n",
        "    # configuração dos plots da linha 0, coluna i\n",
        "    ax[0][i].grid()\n",
        "    ax[0][i].set_title(column[0])\n",
        "    ax[0][i].set_xlim([2.3, 3.4])\n",
        "    ax[0][i].set_ylabel(\"% da população\")\n",
        "    ax[0][i].set_xlabel(\"Número básico de reprodução, R0\")\n",
        "\n",
        "    # configuração dos plots da linha 1, coluna i\n",
        "    ax[1][i].grid()\n",
        "    ax[1][i].set_title(column[1])\n",
        "    ax[1][i].set_xlim([2.3, 3.4])\n",
        "    ax[1][i].set_ylabel(\"Total, em milhões\")\n",
        "    ax[1][i].set_xlabel(\"Número de básico de reprodução, R0\")"
      ],
      "execution_count": null,
      "outputs": []
    },
    {
      "cell_type": "markdown",
      "metadata": {
        "id": "bYcL9xSZq3px",
        "colab_type": "text"
      },
      "source": [
        "# Worksheet: Suppression\n",
        "## Análise dos dados"
      ]
    },
    {
      "cell_type": "code",
      "metadata": {
        "id": "S4JzgreiqcI3",
        "colab_type": "code",
        "outputId": "ea685fa4-f72c-427d-8491-73df6a15d7bb",
        "colab": {
          "base_uri": "https://localhost:8080/",
          "height": 107
        }
      },
      "source": [
        "# Aba Supression\n",
        "supression_df = pd.read_excel(data, data.sheet_names[2])\n",
        "\n",
        "# print nos nomes das colunas\n",
        "print(supression_df.columns)"
      ],
      "execution_count": null,
      "outputs": []
    },
    {
      "cell_type": "code",
      "metadata": {
        "id": "bxhXiriaq_QH",
        "colab_type": "code",
        "colab": {}
      },
      "source": [
        "# slice nos dados do Brasil\n",
        "br_supression_df = supression_df.loc[supression_df['Country']=='Brazil',\n",
        "                                     ['Country',\n",
        "                                      'Strategy',\n",
        "                                      'peak_hospital_bed_demand',\n",
        "                                      'peak_critical_bed_demand']]"
      ],
      "execution_count": null,
      "outputs": []
    },
    {
      "cell_type": "code",
      "metadata": {
        "id": "Dn6ps4RgrI9U",
        "colab_type": "code",
        "colab": {}
      },
      "source": [
        "# por 100.000\n",
        "c = ['peak_hospital_bed_demand','peak_critical_bed_demand']\n",
        "br_supression_df[[c+'_per1ht' for c in c]] = br_supression_df.loc[:, c]*1e-5"
      ],
      "execution_count": null,
      "outputs": []
    },
    {
      "cell_type": "code",
      "metadata": {
        "id": "9VpcPaNkrkKJ",
        "colab_type": "code",
        "outputId": "a3caa49b-ba6b-4289-c3f3-24305c9dfa0f",
        "colab": {
          "base_uri": "https://localhost:8080/",
          "height": 350
        }
      },
      "source": [
        "# ocupação de leitos hospitalares por 100.000\n",
        "br_supression_df.sort_values(by='peak_hospital_bed_demand', inplace=True)\n",
        "br_supression_df.plot.bar(x='Strategy',\n",
        "                          y=['peak_hospital_bed_demand_per1ht',\n",
        "                             'peak_critical_bed_demand_per1ht'],\n",
        "                          figsize=(12, 5),\n",
        "                          rot=0,\n",
        "                          grid=True,\n",
        "                          title='Ocupação de leitos por 100.000 da população');"
      ],
      "execution_count": null,
      "outputs": []
    },
    {
      "cell_type": "code",
      "metadata": {
        "id": "on-fLe5bGCAe",
        "colab_type": "code",
        "outputId": "5398dc8d-7ec4-41c6-d77e-5864bc659013",
        "colab": {
          "base_uri": "https://localhost:8080/",
          "height": 350
        }
      },
      "source": [
        "# ocupação de leitos hospitalares por 100.000\n",
        "br_supression_df.plot.bar(x='Strategy',\n",
        "                          y=['peak_hospital_bed_demand_per1ht',\n",
        "                             'peak_critical_bed_demand_per1ht'],\n",
        "                          figsize=(12, 5),\n",
        "                          rot=0,\n",
        "                          grid=True,\n",
        "                          title='Ocupação de leitos por 100.000 da população',\n",
        "                          stacked=True);"
      ],
      "execution_count": null,
      "outputs": []
    },
    {
      "cell_type": "markdown",
      "metadata": {
        "id": "UjI1G0eO8gDF",
        "colab_type": "text"
      },
      "source": [
        "## Usando o Plotly..."
      ]
    },
    {
      "cell_type": "markdown",
      "metadata": {
        "id": "bb7pH_Ex8xIT",
        "colab_type": "text"
      },
      "source": [
        "O plotly é uma biblioteca de visualização poderosíssima e que nos permite realizar visualizações do tipo:"
      ]
    },
    {
      "cell_type": "code",
      "metadata": {
        "id": "YZ9l5kNhsH0X",
        "colab_type": "code",
        "colab": {}
      },
      "source": [
        "# plotly.express: interface alto nível para objetos do plotly\n",
        "import plotly.express as px"
      ],
      "execution_count": null,
      "outputs": []
    },
    {
      "cell_type": "code",
      "metadata": {
        "id": "jo3a07Zn7ePH",
        "colab_type": "code",
        "outputId": "5d267090-1e0a-4b98-ecbe-1f50e613cfa1",
        "colab": {
          "base_uri": "https://localhost:8080/",
          "height": 542
        }
      },
      "source": [
        "# exemplo\n",
        "df = px.data.gapminder()\n",
        "fig = px.scatter_geo(df,\n",
        "                     locations=\"iso_alpha\",\n",
        "                     color=\"continent\",\n",
        "                     hover_name=\"country\",\n",
        "                     size=\"pop\",\n",
        "                     projection=\"natural earth\",\n",
        "                     animation_frame='year')\n",
        "fig.show()"
      ],
      "execution_count": null,
      "outputs": []
    },
    {
      "cell_type": "code",
      "metadata": {
        "id": "ZSrBPpZVF7TE",
        "colab_type": "code",
        "colab": {}
      },
      "source": [
        "# plotly.graph_objects: manipulação dos objetos de plot\n",
        "import plotly.graph_objects as go"
      ],
      "execution_count": null,
      "outputs": []
    },
    {
      "cell_type": "code",
      "metadata": {
        "id": "7S9gUpFl9FKV",
        "colab_type": "code",
        "outputId": "3312aed1-fa4c-4383-f33d-972ae72589fa",
        "colab": {
          "base_uri": "https://localhost:8080/",
          "height": 542
        }
      },
      "source": [
        "# criando os traces do plot\n",
        "\n",
        "# primeiro traçado: peak_hospital_bed_demand_per1ht\n",
        "trace_1 = go.Bar(name='peak_hospital_bed_demand_per1ht',\n",
        "                 x=br_supression_df['Strategy'],\n",
        "                 y=br_supression_df['peak_hospital_bed_demand_per1ht'],\n",
        "                 hoverinfo='y')\n",
        "\n",
        "# segundo traçado: peak_critical_bed_demand_per1ht\n",
        "trace_2 = go.Bar(name='peak_critical_bed_demand_per1ht',\n",
        "                 x=br_supression_df['Strategy'],\n",
        "                 y=br_supression_df['peak_critical_bed_demand_per1ht'],\n",
        "                 hoverinfo='y')\n",
        "\n",
        "# objeto do plot: data é uma lista com todos os traçados do plot\n",
        "fig = go.Figure(data=[trace_1, trace_2])\n",
        "\n",
        "# visualizando a plot\n",
        "fig.update_layout(barmode='group')\n",
        "fig.show()"
      ],
      "execution_count": null,
      "outputs": []
    },
    {
      "cell_type": "code",
      "metadata": {
        "id": "8LXfQ6tGAJKm",
        "colab_type": "code",
        "outputId": "e7af0079-2f1b-4200-b4fe-8cd902afcf8b",
        "colab": {
          "base_uri": "https://localhost:8080/",
          "height": 542
        }
      },
      "source": [
        "# mundando o estilo para stacked\n",
        "fig.update_layout(barmode='stack',\n",
        "                  yaxis={'title': 'Occupancy per 100,000 Population',\n",
        "                         'titlefont_size': 16,\n",
        "                         'tickfont_size': 14},\n",
        "                  xaxis={'titlefont_size': 16,\n",
        "                         'tickfont_size': 14})\n",
        "fig.show()"
      ],
      "execution_count": null,
      "outputs": []
    },
    {
      "cell_type": "code",
      "metadata": {
        "id": "ZT1I_INsJwNA",
        "colab_type": "code",
        "colab": {}
      },
      "source": [
        "# extract data frame\n",
        "df = mitigation_df.loc[:, ['Country',\n",
        "                           'Strategy',\n",
        "                           'total_pop',\n",
        "                           'total_deaths']]"
      ],
      "execution_count": null,
      "outputs": []
    },
    {
      "cell_type": "code",
      "metadata": {
        "id": "kG3rai2kItEM",
        "colab_type": "code",
        "colab": {}
      },
      "source": [
        "# get perceuntial\n",
        "df['total_deaths_perc'] = df['total_deaths']/df['total_pop']*100"
      ],
      "execution_count": null,
      "outputs": []
    },
    {
      "cell_type": "code",
      "metadata": {
        "id": "CDMmofQbIvzL",
        "colab_type": "code",
        "colab": {}
      },
      "source": [
        "# group by strategy\n",
        "df = df.groupby(by=['Strategy', 'Country'], as_index=False).mean()"
      ],
      "execution_count": null,
      "outputs": []
    },
    {
      "cell_type": "code",
      "metadata": {
        "id": "KqrKsOFCHqcn",
        "colab_type": "code",
        "outputId": "b6d102ea-34b4-4067-d8e4-05eaa14eac27",
        "colab": {
          "base_uri": "https://localhost:8080/",
          "height": 204
        }
      },
      "source": [
        "df.head()"
      ],
      "execution_count": null,
      "outputs": []
    },
    {
      "cell_type": "code",
      "metadata": {
        "id": "E2VlKp6CI4Mq",
        "colab_type": "code",
        "outputId": "17985d11-16b6-4cf5-ddad-baeab981f262",
        "colab": {
          "base_uri": "https://localhost:8080/",
          "height": 542
        }
      },
      "source": [
        "# plot\n",
        "fig = px.scatter_geo(df,\n",
        "                     locations=\"Country\",\n",
        "                     color='Country',\n",
        "                     locationmode='country names',\n",
        "                     hover_name=\"Country\",\n",
        "                     size=\"total_deaths_perc\",\n",
        "                     animation_frame='Strategy',\n",
        "                     projection=\"natural earth\")\n",
        "\n",
        "# configurando o layout do título\n",
        "fig.update_layout(title={'text': \"Impactos do Covid19 no mundo\",\n",
        "                         'y':0.95,\n",
        "                         'x':0.5,\n",
        "                         'xanchor': 'center',\n",
        "                         'yanchor': 'top'})\n",
        "fig.show()"
      ],
      "execution_count": null,
      "outputs": []
    },
    {
      "cell_type": "code",
      "metadata": {
        "id": "PUUPwwcvJBZ2",
        "colab_type": "code",
        "colab": {}
      },
      "source": [
        ""
      ],
      "execution_count": null,
      "outputs": []
    }
  ],
  "metadata": {
    "colab": {
      "name": "[Professor] Data visualization - Covid19.ipynb",
      "provenance": [],
      "collapsed_sections": [],
      "authorship_tag": "ABX9TyMpale0ziITFhtMTCwUFyhZ",
      "include_colab_link": true
    },
    "kernelspec": {
      "name": "python3",
      "display_name": "Python 3"
    }
  },
  "nbformat": 4,
  "nbformat_minor": 0
}